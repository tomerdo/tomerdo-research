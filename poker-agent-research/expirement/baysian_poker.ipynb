{
 "cells": [
  {
   "cell_type": "code",
   "execution_count": 3,
   "metadata": {},
   "outputs": [],
   "source": [
    "from pypokerengine.players import BasePokerPlayer\n",
    "import pyro"
   ]
  },
  {
   "cell_type": "code",
   "execution_count": 4,
   "metadata": {},
   "outputs": [],
   "source": [
    "class FishPlayer(BasePokerPlayer):\n",
    "\n",
    "    #  we define the logic to make an action through this method. (so this method would be the core of your AI)\n",
    "    def declare_action(self, valid_actions, hole_card, round_state):\n",
    "        # valid_actions format => [raise_action_info, call_action_info, fold_action_info]\n",
    "        call_action_info = valid_actions[1]\n",
    "        action, amount = call_action_info[\"action\"], call_action_info[\"amount\"]\n",
    "        return action, amount   # action returned here is sent to the poker engine\n",
    "\n",
    "    def receive_game_start_message(self, game_info):\n",
    "        pass\n",
    "\n",
    "    def receive_round_start_message(self, round_count, hole_card, seats):\n",
    "        pass\n",
    "\n",
    "    def receive_street_start_message(self, street, round_state):\n",
    "        pass\n",
    "\n",
    "    def receive_game_update_message(self, action, round_state):\n",
    "        pass\n",
    "\n",
    "    def receive_round_result_message(self, winners, hand_info, round_state):\n",
    "        pass"
   ]
  },
  {
   "cell_type": "code",
   "execution_count": null,
   "metadata": {},
   "outputs": [],
   "source": [
    "def my_model(hole_cards, valid_actions, round_state, opponent_model):\n",
    "    # enemy_cards? = opponent_model.sample()\n",
    "    # sample_continuation_of_the_game = dist.Catgorical(torch.ones(52)).sample()\n",
    "    # best_action_selection(enemy_cards: distribution, continuation_of_game: distribution,\n",
    "    # hole_cards: determistic, round_state (money to invest and game state): determinstic) # distribution\n",
    "    # return bas.sample()\n",
    "    z = pyro.sample(\"z\", dist.Categorical(torch.ones(52)))\n",
    "    print('model z = {}'.format(z))"
   ]
  },
  {
   "cell_type": "markdown",
   "metadata": {},
   "source": [
    "### some objectives:\n",
    "1) that that ppl player could learn that there is high probabilty the oppent would call\n",
    "2) the player should exploit this knowledge\n",
    "3) the player should know with high probability that it has the strongers hand\n",
    "### ideas:\n",
    "1) maybe abstraction on values of cards\n",
    "2) the compuation of whom has a stronger hand\n",
    "3) formalization and abstractions of what is distribution and what is determinstic"
   ]
  },
  {
   "cell_type": "code",
   "execution_count": null,
   "metadata": {},
   "outputs": [],
   "source": [
    "def PPLPlayer(BasePokerPlayer):\n",
    "    self.opponent_model = None # TODO - this object will be further built\n",
    "    \n",
    "    def declare_action(self, valid_actions, hole_card, round_state):\n",
    "        # valid_actions format => [raise_action_info, call_action_info, fold_action_info]\n",
    "        action , amount = pyro.sample(\"actions distribution\", my_model\n",
    "                                      (hole_card, valid_actions, round_state, opponent_model))\n",
    "        call_action_info = valid_actions[1]\n",
    "        return action, amount   # action returned here is sent to the poker engine\n",
    "\n",
    "    def receive_game_start_message(self, game_info):\n",
    "        pass\n",
    "\n",
    "    def receive_round_start_message(self, round_count, hole_card, seats):\n",
    "        pass\n",
    "\n",
    "    def receive_street_start_message(self, street, round_state):\n",
    "        pass\n",
    "\n",
    "    def receive_game_update_message(self, action, round_state):\n",
    "        # record the action of other players\n",
    "        pass\n",
    "\n",
    "    def receive_round_result_message(self, winners, hand_info, round_state):\n",
    "        # models.observe() - update the results of the model\n",
    "        pass"
   ]
  }
 ],
 "metadata": {
  "kernelspec": {
   "display_name": "Python 3",
   "language": "python",
   "name": "python3"
  },
  "language_info": {
   "codemirror_mode": {
    "name": "ipython",
    "version": 3
   },
   "file_extension": ".py",
   "mimetype": "text/x-python",
   "name": "python",
   "nbconvert_exporter": "python",
   "pygments_lexer": "ipython3",
   "version": "3.7.5"
  }
 },
 "nbformat": 4,
 "nbformat_minor": 4
}
