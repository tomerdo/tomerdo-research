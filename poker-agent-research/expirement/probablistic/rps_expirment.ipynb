{
 "cells": [
  {
   "cell_type": "markdown",
   "metadata": {},
   "source": [
    "# RPS - Rock Paper Scissors Agent - using PPL"
   ]
  },
  {
   "cell_type": "markdown",
   "metadata": {},
   "source": [
    "In this notebook I will show an expirment of RPS game simulation.\n",
    "I will use two players:\n",
    "<ol>\n",
    "    <li>Simple Player - playing according to Categorical seed (alpha vector)</li>\n",
    "    <li> Inferencing Player - models the opponent as a Probalistic Program and by observations trying to infer the latent alpha vector.<br>\n",
    "        Using this infered vector the player will try to exploit the simple player.<br>\n",
    "</ol>\n",
    "    "
   ]
  },
  {
   "cell_type": "code",
   "execution_count": 1,
   "metadata": {},
   "outputs": [],
   "source": [
    "import numpy as np\n",
    "import scipy as sp\n",
    "import pymc3 as pm\n",
    "import logging\n",
    "logger = logging.getLogger('pymc3')\n",
    "logger.setLevel(logging.ERROR)"
   ]
  },
  {
   "cell_type": "markdown",
   "metadata": {},
   "source": [
    "### Simple Player\n",
    "The simple player creates a categorical distribution (with dirichlet prior) and a given alpha vector and returns <num_of_samples> samples from this distirbution"
   ]
  },
  {
   "cell_type": "markdown",
   "metadata": {},
   "source": [
    "### Smart Player"
   ]
  },
  {
   "cell_type": "markdown",
   "metadata": {},
   "source": [
    "Infercing Player, takes the toolset of MCMC infernce. Each round this player takes the moves of the simple players as observations, and uses the same Probabalistic Model to posterior inference"
   ]
  },
  {
   "cell_type": "markdown",
   "metadata": {},
   "source": [
    "### RPS Model\n",
    "Probabalistic Program, describes the decision process.<br>\n",
    "    $dir \\sim Dirichlet(\\alpha_1, \\alpha_2, \\alpha_3)$<br>\n",
    "    $Action \\sim Categorical(dir)$\n",
    "    \n"
   ]
  },
  {
   "cell_type": "code",
   "execution_count": 2,
   "metadata": {},
   "outputs": [],
   "source": [
    "def rps_player_model(alpha=[1, 1, 1], observed=None):\n",
    "    with pm.Model() as model:\n",
    "        dirichlet = pm.Dirichlet('dirichlet', a=alpha)\n",
    "        phi = pm.Categorical('phi', p=dirichlet, observed=observed)\n",
    "        return model"
   ]
  },
  {
   "cell_type": "code",
   "execution_count": 3,
   "metadata": {},
   "outputs": [],
   "source": [
    "def beats(i):\n",
    "    \"\"\"\n",
    "    mapping between move and the the beating move.\n",
    "    i.e beats(ROCK) == PAPAER\n",
    "    \"\"\"\n",
    "    return (i + 1) % 3"
   ]
  },
  {
   "cell_type": "markdown",
   "metadata": {},
   "source": [
    "## The hierarchy"
   ]
  },
  {
   "cell_type": "markdown",
   "metadata": {},
   "source": [
    "### Base class of all players"
   ]
  },
  {
   "cell_type": "code",
   "execution_count": 4,
   "metadata": {},
   "outputs": [],
   "source": [
    "class Player:\n",
    "    def __init__(self, id):\n",
    "        self.id = id\n",
    "\n",
    "    def move(self, history):\n",
    "        raise NotImplementedError()"
   ]
  },
  {
   "cell_type": "markdown",
   "metadata": {},
   "source": [
    "### Naive player"
   ]
  },
  {
   "cell_type": "code",
   "execution_count": 5,
   "metadata": {},
   "outputs": [],
   "source": [
    "class NaivePlayer(Player):\n",
    "    \"\"\"Naive player chooses a move according to fixed probabilities.\n",
    "    \"\"\"\n",
    "    def __init__(self, id, p=[1, 1, 1]):\n",
    "        Player.__init__(self, id)\n",
    "        p = np.array(p)\n",
    "        p = p/sum(p)\n",
    "        self.p = p\n",
    "    \n",
    "    def move(self, history):\n",
    "        return np.argmax(sp.stats.multinomial.rvs(1, self.p))"
   ]
  },
  {
   "cell_type": "markdown",
   "metadata": {},
   "source": [
    "### Frequentist Players"
   ]
  },
  {
   "cell_type": "code",
   "execution_count": 6,
   "metadata": {},
   "outputs": [],
   "source": [
    "class FrequentistPlayer(Player):\n",
    "    \"\"\"Frequentist player uses prior history \n",
    "    to choose a move\n",
    "    \"\"\"\n",
    "    def __init__(self, id, counts=None):\n",
    "        Player.__init__(self, id)\n",
    "        if counts is None:\n",
    "            counts = [1, 1, 1]\n",
    "        self.counts = counts\n",
    "    \n",
    "    def stats(self, history):\n",
    "        counts = self.counts[:]\n",
    "        for id, m in history:\n",
    "            if id != self.id:\n",
    "                counts[m] += 1\n",
    "        return np.array(counts)"
   ]
  },
  {
   "cell_type": "code",
   "execution_count": 7,
   "metadata": {},
   "outputs": [],
   "source": [
    "class FixedFrequentistPlayer(FrequentistPlayer):\n",
    "    def __init__(self, id, counts=None):\n",
    "        FrequentistPlayer.__init__(self, id, counts)\n",
    "        \n",
    "    def move(self, history):\n",
    "        counts = self.stats(history)\n",
    "        return beats(np.argmax(counts))\n",
    "    \n",
    "# Example\n",
    "# ffp = FixedFrequentistPlayer(1)\n",
    "# print([ffp.move([(1, 1), (2, 1), (1, 0), (2, 1)]) for _ in range(10)])\n",
    "# print([ffp.move([(1, 1), (2, 2), (1, 0), (2, 1), (1, 2), (2, 2)]) for _ in range(10)])"
   ]
  },
  {
   "cell_type": "code",
   "execution_count": 8,
   "metadata": {},
   "outputs": [],
   "source": [
    "class RandomFrequentistPlayer(FrequentistPlayer):\n",
    "    def __init__(self, id, counts=None):\n",
    "        FrequentistPlayer.__init__(self, id, counts)\n",
    "        \n",
    "    def move(self, history):\n",
    "        counts = self.stats(history)\n",
    "        return beats(np.argmax(sp.stats.multinomial.rvs(n=1, p=counts/sum(counts))))\n",
    "    \n",
    "# Example\n",
    "# rfp = RandomFrequentistPlayer(1)\n",
    "# print([rfp.move([(1, 1), (2, 1), (1, 0), (2, 1)]) for _ in range(10)])\n",
    "# print([rfp.move([(1, 1), (2, 2), (1, 0), (2, 1), (1, 2), (2, 2)]) for _ in range(10)])"
   ]
  },
  {
   "cell_type": "code",
   "execution_count": 9,
   "metadata": {},
   "outputs": [],
   "source": [
    "class BayesianPlayer(Player):\n",
    "    def __init__(self, id, alpha=None):\n",
    "        Player.__init__(self, id)\n",
    "        if alpha is None:\n",
    "            alpha = 1, 1, 1\n",
    "        self.alpha = np.array(alpha)\n",
    "        \n",
    "    def opponent_model(self, history):\n",
    "        pass\n",
    "    \n",
    "    def select_action(samples):\n",
    "        pass\n",
    "    \n",
    "    def infer(self, model):\n",
    "        with model:\n",
    "            trace = pm.sample(step=pm.Metropolis(), model=model, return_inferencedata=True, progressbar=False, cores=1)\n",
    "            return trace\n",
    "        \n",
    "    def sample_from_posterior(self, model, trace, theta_var):\n",
    "        with model:\n",
    "            posterior_pred = pm.sample_posterior_predictive(trace, progressbar=False)\n",
    "            return beats(self.select_action(posterior_pred[theta_var]))\n",
    "        \n",
    "    def opponent_history(self, history):\n",
    "        moves_history = []\n",
    "        for idx, move in history:\n",
    "            if idx != self.id:\n",
    "                moves_history.append(move)\n",
    "        return moves_history\n",
    "    \n",
    "    def move(self, history):\n",
    "        history = self.opponent_history(history)\n",
    "        opponent_model = self.opponent_model(history)\n",
    "        trace = self.infer(opponent_model)\n",
    "        return self.sample_from_posterior(opponent_model, trace, self.get_theta_var())"
   ]
  },
  {
   "cell_type": "code",
   "execution_count": 10,
   "metadata": {},
   "outputs": [],
   "source": [
    "class CategoricalBaysianPlayer(BayesianPlayer):\n",
    "    def __init__(self, id, alpha = None):\n",
    "        BayesianPlayer.__init__(self, id, alpha)\n",
    "    \n",
    "    def opponent_model(self, history):\n",
    "        with pm.Model() as model:\n",
    "            dirichlet = pm.Dirichlet('dirichlet', a=self.alpha)\n",
    "            phi = pm.Categorical('phi', p=dirichlet, observed=history)\n",
    "            return model\n",
    "    \n",
    "    def get_theta_var(self):\n",
    "        return 'phi'"
   ]
  },
  {
   "cell_type": "code",
   "execution_count": 11,
   "metadata": {},
   "outputs": [],
   "source": [
    "class FixedCategoricalBaysianPlayer(CategoricalBaysianPlayer):\n",
    "    def __init__(self, id, alpha = None):\n",
    "        CategoricalBaysianPlayer.__init__(self, id, alpha)\n",
    "    \n",
    "    def select_action(self, samples):\n",
    "        samples = samples.reshape(-1)\n",
    "        counts = [0, 0, 0]\n",
    "        # return most common sample\n",
    "        for m in samples:\n",
    "            counts[m] += 1\n",
    "        return np.argmax(np.array(counts))\n",
    "        \n",
    "# Example\n",
    "# fcbp = FixedCategoricalBaysianPlayer(1)\n",
    "# print([fcbp.move([(1, 1), (2, 1), (1, 0), (2, 1)]) for _ in range(10)])\n",
    "# print([fcbp.move([(1, 1), (2, 2), (1, 0), (2, 1), (1, 2), (2, 2)]) for _ in range(10)])"
   ]
  },
  {
   "cell_type": "code",
   "execution_count": 12,
   "metadata": {},
   "outputs": [],
   "source": [
    "class RandomCategoricalBaysianPlayer(CategoricalBaysianPlayer):\n",
    "    def __init__(self, id, alpha = None):\n",
    "        CategoricalBaysianPlayer.__init__(self, id, alpha)\n",
    "    \n",
    "    def select_action(self, samples):\n",
    "        samples = samples.reshape(-1)\n",
    "        counts = [0, 0, 0]\n",
    "        # return most common sample\n",
    "        for m in samples:\n",
    "            counts[m] += 1\n",
    "        counts = np.array(counts)\n",
    "        return np.argmax(sp.stats.multinomial.rvs(n=1, p=counts/sum(counts)))\n",
    "        \n",
    "# Example\n",
    "# rcbp = RandomCategoricalBaysianPlayer(1)\n",
    "# print([rcbp.move([(1, 1), (2, 1), (1, 0), (2, 1)]) for _ in range(10)])\n",
    "# print([rcbp.move([(1, 1), (2, 2), (1, 0), (2, 1), (1, 2), (2, 2)]) for _ in range(10)])"
   ]
  },
  {
   "cell_type": "code",
   "execution_count": 19,
   "metadata": {},
   "outputs": [],
   "source": [
    "ROCK = 0\n",
    "PAPER = 1\n",
    "SCISSORS = 2\n",
    "def score(m1, m2):\n",
    "    # ROCK < PAPER < SCISSORS < ROCK\n",
    "    if m1==m2:\n",
    "        return 0\n",
    "    score = -1\n",
    "    if m1 > m2:\n",
    "        m1, m2 = m2, m1\n",
    "        score = -score\n",
    "    if m2 - m1 == 2:\n",
    "        score = -score\n",
    "    return score\n",
    "\n",
    "def summerize_score(scores):\n",
    "    first_wins = scores.count(1)\n",
    "    ties = scores.count(0)\n",
    "    second_wins = scores.count(-1)\n",
    "    return first_wins, ties, second_wins\n",
    "\n",
    "def game(player1, player2, n=20):\n",
    "    # TODO play the game with two players\n",
    "    history = []\n",
    "    scores = []\n",
    "    for i in range(n):\n",
    "        m1 = player1.move(history)\n",
    "        history.append([1, m1])\n",
    "        m2 = player2.move(history)\n",
    "        history.append([2, m2])\n",
    "        scores.append(score(m1, m2))\n",
    "    return scores\n",
    "\n",
    "def play_game_and_print_summery(player1, player2):\n",
    "    results = game(player1, player2)\n",
    "    print(results)\n",
    "    first_wins, ties, second_wins = summerize_score(results)\n",
    "    print(f'player1 wins: {first_wins} ties: {ties} player2 wins: {second_wins}')"
   ]
  },
  {
   "cell_type": "markdown",
   "metadata": {},
   "source": [
    "### Game between random frequentist player and naive player"
   ]
  },
  {
   "cell_type": "code",
   "execution_count": 20,
   "metadata": {},
   "outputs": [
    {
     "name": "stdout",
     "output_type": "stream",
     "text": [
      "[1, -1, -1, -1, -1, 0, 0, 1, 1, 0, 0, 0, 0, 1, 0, -1, -1, -1, 1, 1]\n",
      "player1 wins: 6 ties: 7 player2 wins: 7\n"
     ]
    }
   ],
   "source": [
    "rfp = RandomFrequentistPlayer(1)\n",
    "nap = NaivePlayer(2)\n",
    "play_game_and_print_summery(rfp,nap)"
   ]
  },
  {
   "cell_type": "markdown",
   "metadata": {},
   "source": [
    "### Game between categorical bayesian player and naive player"
   ]
  },
  {
   "cell_type": "code",
   "execution_count": 21,
   "metadata": {},
   "outputs": [
    {
     "name": "stderr",
     "output_type": "stream",
     "text": [
      "The estimated number of effective samples is smaller than 200 for some parameters.\n",
      "The estimated number of effective samples is smaller than 200 for some parameters.\n",
      "The estimated number of effective samples is smaller than 200 for some parameters.\n",
      "The estimated number of effective samples is smaller than 200 for some parameters.\n",
      "The estimated number of effective samples is smaller than 200 for some parameters.\n"
     ]
    },
    {
     "name": "stdout",
     "output_type": "stream",
     "text": [
      "[0, 1, -1, 0, -1, 0, 0, 0, -1, 1, 1, 0, 1, 1, 1, 0, 1, 1, 0, 1]\n",
      "player1 wins: 9 ties: 8 player2 wins: 3\n"
     ]
    }
   ],
   "source": [
    "rcbp = RandomCategoricalBaysianPlayer(1)\n",
    "nap = NaivePlayer(2)\n",
    "play_game_and_print_summery(rcbp,nap)"
   ]
  },
  {
   "cell_type": "markdown",
   "metadata": {},
   "source": [
    "### Game between random frequentist player and categorical baysian player"
   ]
  },
  {
   "cell_type": "code",
   "execution_count": 22,
   "metadata": {},
   "outputs": [
    {
     "name": "stderr",
     "output_type": "stream",
     "text": [
      "The estimated number of effective samples is smaller than 200 for some parameters.\n",
      "The estimated number of effective samples is smaller than 200 for some parameters.\n",
      "The estimated number of effective samples is smaller than 200 for some parameters.\n",
      "The estimated number of effective samples is smaller than 200 for some parameters.\n",
      "The estimated number of effective samples is smaller than 200 for some parameters.\n",
      "The estimated number of effective samples is smaller than 200 for some parameters.\n",
      "The estimated number of effective samples is smaller than 200 for some parameters.\n"
     ]
    },
    {
     "name": "stdout",
     "output_type": "stream",
     "text": [
      "[0, 0, -1, 1, 0, 1, 0, 0, -1, 1, -1, 1, 0, 0, -1, 1, 1, -1, -1, 1]\n",
      "player1 wins: 7 ties: 7 player2 wins: 6\n"
     ]
    }
   ],
   "source": [
    "rfp = RandomFrequentistPlayer(1)\n",
    "rcbp = RandomCategoricalBaysianPlayer(2)\n",
    "play_game_and_print_summery(rfp,rcbp)"
   ]
  },
  {
   "cell_type": "markdown",
   "metadata": {},
   "source": [
    "### Game between random frequentist player and fixed frequentist player"
   ]
  },
  {
   "cell_type": "code",
   "execution_count": 23,
   "metadata": {},
   "outputs": [
    {
     "name": "stdout",
     "output_type": "stream",
     "text": [
      "[-1, -1, 1, 0, 1, -1, -1, -1, 1, 1, 1, -1, -1, -1, 1, -1, -1, 1, -1, 1]\n",
      "player1 wins: 8 ties: 1 player2 wins: 11\n"
     ]
    }
   ],
   "source": [
    "rfp = RandomFrequentistPlayer(1)\n",
    "ffp = FixedFrequentistPlayer(2)\n",
    "play_game_and_print_summery(rfp,ffp)"
   ]
  },
  {
   "cell_type": "markdown",
   "metadata": {},
   "source": [
    "### Game between fixed baysien player and naive player"
   ]
  },
  {
   "cell_type": "code",
   "execution_count": 24,
   "metadata": {},
   "outputs": [
    {
     "name": "stderr",
     "output_type": "stream",
     "text": [
      "The estimated number of effective samples is smaller than 200 for some parameters.\n",
      "The estimated number of effective samples is smaller than 200 for some parameters.\n",
      "The estimated number of effective samples is smaller than 200 for some parameters.\n",
      "The estimated number of effective samples is smaller than 200 for some parameters.\n",
      "The estimated number of effective samples is smaller than 200 for some parameters.\n",
      "The estimated number of effective samples is smaller than 200 for some parameters.\n"
     ]
    },
    {
     "name": "stdout",
     "output_type": "stream",
     "text": [
      "[1, 0, 0, 1, 1, 0, 0, 1, 0, 0, 1, 0, -1, -1, 0, 1, 1, -1, 0, 0]\n",
      "player1 wins: 7 ties: 10 player2 wins: 3\n"
     ]
    }
   ],
   "source": [
    "fcbp = FixedCategoricalBaysianPlayer(1)\n",
    "nap = NaivePlayer(2)\n",
    "play_game_and_print_summery(fcbp,nap)"
   ]
  },
  {
   "cell_type": "markdown",
   "metadata": {},
   "source": [
    "### Game between fixed baysien player and exploitable naive player"
   ]
  },
  {
   "cell_type": "code",
   "execution_count": 25,
   "metadata": {},
   "outputs": [
    {
     "name": "stderr",
     "output_type": "stream",
     "text": [
      "The estimated number of effective samples is smaller than 200 for some parameters.\n",
      "The estimated number of effective samples is smaller than 200 for some parameters.\n",
      "The estimated number of effective samples is smaller than 200 for some parameters.\n",
      "The estimated number of effective samples is smaller than 200 for some parameters.\n",
      "The estimated number of effective samples is smaller than 200 for some parameters.\n",
      "The estimated number of effective samples is smaller than 200 for some parameters.\n",
      "The estimated number of effective samples is smaller than 200 for some parameters.\n",
      "The estimated number of effective samples is smaller than 200 for some parameters.\n",
      "The estimated number of effective samples is smaller than 200 for some parameters.\n",
      "The estimated number of effective samples is smaller than 200 for some parameters.\n",
      "The estimated number of effective samples is smaller than 200 for some parameters.\n",
      "The estimated number of effective samples is smaller than 200 for some parameters.\n",
      "The estimated number of effective samples is smaller than 200 for some parameters.\n",
      "The estimated number of effective samples is smaller than 200 for some parameters.\n",
      "The estimated number of effective samples is smaller than 200 for some parameters.\n",
      "The estimated number of effective samples is smaller than 200 for some parameters.\n",
      "The estimated number of effective samples is smaller than 200 for some parameters.\n",
      "The estimated number of effective samples is smaller than 200 for some parameters.\n",
      "The estimated number of effective samples is smaller than 200 for some parameters.\n"
     ]
    },
    {
     "name": "stdout",
     "output_type": "stream",
     "text": [
      "[1, 1, 1, 1, 1, 1, 1, 1, 1, -1, -1, 1, 1, 1, 1, 1, -1, 1, 1, 1]\n",
      "player1 wins: 17 ties: 0 player2 wins: 3\n"
     ]
    }
   ],
   "source": [
    "fcbp = FixedCategoricalBaysianPlayer(1)\n",
    "nap = NaivePlayer(2, p=[5, 1, 1])\n",
    "play_game_and_print_summery(fcbp,nap)"
   ]
  },
  {
   "cell_type": "markdown",
   "metadata": {},
   "source": [
    "### Game between fixed frequentist and exploitable naive player"
   ]
  },
  {
   "cell_type": "code",
   "execution_count": 26,
   "metadata": {},
   "outputs": [
    {
     "name": "stdout",
     "output_type": "stream",
     "text": [
      "[1, 1, 1, 1, 1, 1, 1, 1, 1, 1, 1, -1, -1, 1, 1, -1, -1, 1, 1, -1]\n",
      "player1 wins: 15 ties: 0 player2 wins: 5\n"
     ]
    }
   ],
   "source": [
    "ffp = FixedFrequentistPlayer(1)\n",
    "nap = NaivePlayer(2, p=[5, 1, 1])\n",
    "play_game_and_print_summery(ffp,nap)"
   ]
  },
  {
   "cell_type": "markdown",
   "metadata": {},
   "source": [
    "## Baysian Analysis on the results"
   ]
  },
  {
   "cell_type": "markdown",
   "metadata": {},
   "source": [
    "### Summery\n",
    "we can see from the expirments that the \"smart\" player able to exploit the simple opponent.<br> As the opponent is farther from complete random strategy we succeed to exploit it better<br> And when it plays complete random the smart player do the same and the results are even\n"
   ]
  },
  {
   "cell_type": "code",
   "execution_count": null,
   "metadata": {},
   "outputs": [],
   "source": []
  }
 ],
 "metadata": {
  "kernelspec": {
   "display_name": "Python 3",
   "language": "python",
   "name": "python3"
  },
  "language_info": {
   "codemirror_mode": {
    "name": "ipython",
    "version": 3
   },
   "file_extension": ".py",
   "mimetype": "text/x-python",
   "name": "python",
   "nbconvert_exporter": "python",
   "pygments_lexer": "ipython3",
   "version": "3.7.5"
  }
 },
 "nbformat": 4,
 "nbformat_minor": 4
}
