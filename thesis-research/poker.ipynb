{
 "cells": [
  {
   "cell_type": "code",
   "execution_count": 1,
   "metadata": {},
   "outputs": [],
   "source": [
    "# Import libraries.\n",
    "using Turing, StatsPlots, Random, Memoization, StatsBase, Statistics, ProgressMeter, SpecialFunctions"
   ]
  },
  {
   "cell_type": "markdown",
   "metadata": {},
   "source": [
    "## In this notebook we will implement a  Theory Of Mind agents on a version of Poker"
   ]
  },
  {
   "cell_type": "markdown",
   "metadata": {},
   "source": [
    "### Kuhn Poker"
   ]
  },
  {
   "cell_type": "markdown",
   "metadata": {},
   "source": [
    "Kuhn poker is an extremely simplified form of poker developed by Harold W. Kuhn as a simple model zero-sum two-player imperfect-information game, amenable to a complete game-theoretic analysis. In Kuhn poker, the deck includes only three playing cards, for example a King, Queen, and Jack. One card is dealt to each player, which may place bets similarly to a standard poker. If both players bet or both players pass, the player with the higher card wins, otherwise, the betting player wins."
   ]
  },
  {
   "cell_type": "markdown",
   "metadata": {},
   "source": [
    "#### Rules"
   ]
  },
  {
   "cell_type": "markdown",
   "metadata": {},
   "source": [
    "In conventional poker terms, a game of Kuhn poker proceeds as follows:\n",
    "\n",
    "Each player antes 1.\n",
    "Each player is dealt one of the three cards, and the third is put aside unseen.\n",
    "Player one can check or bet 1.\n",
    "* If player one checks then player two can check or bet 1.\n",
    "    * If player two checks there is a showdown for the pot of 2 (i.e. the higher card wins 1 from the other player).\n",
    "    * If player two bets then player one can fold or call.\n",
    "        * If player one folds then player two takes the pot of 3 (i.e. winning 1 from player 1).\n",
    "        * If player one calls there is a showdown for the pot of 4 (i.e. the higher card wins 2 from the other player).\n",
    "* If player one bets then player two can fold or call.\n",
    "    * If player two folds then player one takes the pot of 3 (i.e. winning 1 from player 2).\n",
    "    * If player two calls there is a showdown for the pot of 4 (i.e. the higher card wins 2 from the other player)."
   ]
  },
  {
   "cell_type": "markdown",
   "metadata": {},
   "source": [
    "#### Optimal strategy\n"
   ]
  },
  {
   "cell_type": "markdown",
   "metadata": {},
   "source": [
    "The game has a mixed-strategy Nash equilibrium; when both players play equilibrium strategies, the first player should expect to lose at a rate of −1/18 per hand (as the game is zero-sum, the second player should expect to win at a rate of +1/18). There is no pure-strategy equilibrium.\n",
    "\n",
    "Kuhn demonstrated there are infinitely many equilibrium strategies for the first player, forming a continuum governed by a single parameter. In one possible formulation, player one freely chooses the probability $\\alpha$ $\\in$ [0,1/3] with which he will bet when having a Jack (otherwise he checks; if the other player bets, he should always fold). When having a King, he should bet with the probability of $3\\alpha$ (otherwise he checks; if the other player bets, he should always call). He should always check when having a Queen, and if the other player bets after this check, he should call with the probability of $\\alpha$ +1/3.\n",
    "\n",
    "The second player has a single equilibrium strategy: Always betting or calling when having a King; when having a Queen, checking if possible, otherwise calling with the probability of 1/3; when having a Jack, never calling and betting with the probability of 1/3."
   ]
  },
  {
   "cell_type": "markdown",
   "metadata": {},
   "source": [
    "#### Pseudo Code Model"
   ]
  },
  {
   "cell_type": "markdown",
   "metadata": {},
   "source": [
    "* game_simulation(num_of_round):\n",
    "    * c1 , c2 ~ Deck() <br>\n",
    "\n",
    "    * player1_history = [] <br>\n",
    "    * player2_history = [] <br>\n",
    "\n",
    "    * for i in length(num_of_rounds):\n",
    "       * m1 = agent(c1, player2_history, deception_alpha) <br>\n",
    "       * player1_history.append(m1) <br>\n",
    "       * m2 = agent(c2, player1_history, deception_alpha) <br>\n",
    "       * player2_history.append(m2) <br>\n",
    "<br><br><br>\n",
    "* agent(card , opp_history, decption_alpha):\n",
    "    * opp_card ~ Deck(deck.pop(card))\n",
    "    * opp_move ~ opp_model(opp_card, last_action)\n",
    "    * return select_move(opp_move, card, deception_alpha)"
   ]
  },
  {
   "cell_type": "code",
   "execution_count": 4,
   "metadata": {},
   "outputs": [
    {
     "data": {
      "text/plain": [
       "3-element Array{Int64,1}:\n",
       " 1\n",
       " 2\n",
       " 3"
      ]
     },
     "execution_count": 4,
     "metadata": {},
     "output_type": "execute_result"
    }
   ],
   "source": [
    "JACK = 1\n",
    "QUEEN = 2\n",
    "KING = 3\n",
    "FULL_DECK = [JACK, QUEEN, KING]"
   ]
  },
  {
   "cell_type": "code",
   "execution_count": 63,
   "metadata": {},
   "outputs": [
    {
     "data": {
      "text/plain": [
       "3-element Array{Int64,1}:\n",
       " -1\n",
       "  0\n",
       "  1"
      ]
     },
     "execution_count": 63,
     "metadata": {},
     "output_type": "execute_result"
    }
   ],
   "source": [
    "FOLD = -1\n",
    "CHECK = 0\n",
    "BET = 1\n",
    "ACTIONS = [FOLD, CHECK, BET]"
   ]
  },
  {
   "cell_type": "markdown",
   "metadata": {},
   "source": [
    "#### This method is implementation of first player equilibrium strategy"
   ]
  },
  {
   "cell_type": "code",
   "execution_count": 133,
   "metadata": {},
   "outputs": [
    {
     "data": {
      "text/plain": [
       "first_player_select_move (generic function with 2 methods)"
      ]
     },
     "execution_count": 133,
     "metadata": {},
     "output_type": "execute_result"
    }
   ],
   "source": [
    "function first_player_select_move(card, deception_alpha, opp_betting)\n",
    "   if card == JACK\n",
    "        if opp_betting\n",
    "            return FOLD    \n",
    "        elseif rand() < deception_alpha\n",
    "            return BET # bluff\n",
    "        else\n",
    "            return CHECK\n",
    "        end\n",
    "    elseif card == KING\n",
    "        need_to_bet = rand() < 3 * deception_alpha\n",
    "        if need_to_bet && !opp_betting\n",
    "            return BET\n",
    "        else   # slow playing\n",
    "            return CHECK\n",
    "        end\n",
    "    else # queen\n",
    "        need_to_call = rand() < deception_alpha + 1/3\n",
    "        if !need_to_call && opp_betting\n",
    "            return FOLD\n",
    "        else\n",
    "            return CHECK\n",
    "        end\n",
    "    end\n",
    "end"
   ]
  },
  {
   "cell_type": "markdown",
   "metadata": {},
   "source": [
    "#### This method is implementation of second player equilibrium strategy"
   ]
  },
  {
   "cell_type": "code",
   "execution_count": 137,
   "metadata": {},
   "outputs": [
    {
     "data": {
      "text/plain": [
       "second_player_select_move (generic function with 2 methods)"
      ]
     },
     "execution_count": 137,
     "metadata": {},
     "output_type": "execute_result"
    }
   ],
   "source": [
    "function second_player_select_move(card, opp_betting)\n",
    "   if card == JACK\n",
    "        if opp_betting\n",
    "            return FOLD    \n",
    "        elseif rand() < 1/3\n",
    "            return BET # bluff\n",
    "        else\n",
    "            return CHECK\n",
    "        end\n",
    "    elseif card == KING\n",
    "        if  opp_betting\n",
    "            return CHECK\n",
    "        else   # slow playing\n",
    "            return BET\n",
    "        end\n",
    "    else # queen\n",
    "        need_to_call = rand() < 1/3\n",
    "        if !need_to_call && opp_betting\n",
    "            return FOLD\n",
    "        else\n",
    "            return CHECK\n",
    "        end\n",
    "    end\n",
    "end"
   ]
  },
  {
   "cell_type": "code",
   "execution_count": 395,
   "metadata": {},
   "outputs": [
    {
     "data": {
      "text/plain": [
       "round (generic function with 3 methods)"
      ]
     },
     "execution_count": 395,
     "metadata": {},
     "output_type": "execute_result"
    }
   ],
   "source": [
    "function round(first_card, second_card, deception_alpha = 0.2)\n",
    "    first_player_move = first_player_select_move(first_card, deception_alpha, false)\n",
    "    second_player_move = second_player_select_move(second_card, first_player_move == BET)\n",
    "#     println(\"stage 1 first player: $first_player_move second player: $second_player_move\")\n",
    "    doubled_pot = first_player_move == BET || second_player_move == BET\n",
    "    if second_player_move == FOLD\n",
    "        return 1\n",
    "    end\n",
    "    if second_player_move == BET\n",
    "        doubled_pot = true\n",
    "        first_player_move = first_player_select_move(first_card, deception_alpha , true)\n",
    "#         println(\"stage 2  first player: $first_player_move second player: $second_player_move\")\n",
    "        if first_player_move == FOLD\n",
    "            return -1\n",
    "        end\n",
    "    end\n",
    "    if first_card > second_card\n",
    "        return 1 * (1 + doubled_pot)\n",
    "    else\n",
    "        return -1 * (1 + doubled_pot)\n",
    "    end\n",
    "end"
   ]
  },
  {
   "cell_type": "code",
   "execution_count": 396,
   "metadata": {},
   "outputs": [
    {
     "data": {
      "text/plain": [
       "-1"
      ]
     },
     "execution_count": 396,
     "metadata": {},
     "output_type": "execute_result"
    }
   ],
   "source": [
    "round(JACK, KING)"
   ]
  },
  {
   "cell_type": "code",
   "execution_count": 387,
   "metadata": {},
   "outputs": [
    {
     "data": {
      "text/plain": [
       "game (generic function with 6 methods)"
      ]
     },
     "execution_count": 387,
     "metadata": {},
     "output_type": "execute_result"
    }
   ],
   "source": [
    "function game(num_of_rounds = 10, deception_alpha=0.2)\n",
    "    total_score = 0\n",
    "    for i in 1:num_of_rounds\n",
    "        first_card, second_card = sample(FULL_DECK, 2; replace=false)\n",
    "        score = round(first_card, second_card, deception_alpha)\n",
    "#         println(\"round $i: first player got $first_card second player got $second_card score is $score\")\n",
    "        total_score += score\n",
    "    end\n",
    "    avg_score = total_score / num_of_rounds\n",
    "    return avg_score\n",
    "end"
   ]
  },
  {
   "cell_type": "markdown",
   "metadata": {},
   "source": [
    "#### we can see that the game is converging to -1/18 as the theory states"
   ]
  },
  {
   "cell_type": "code",
   "execution_count": 398,
   "metadata": {},
   "outputs": [
    {
     "data": {
      "text/plain": [
       "-0.054661"
      ]
     },
     "execution_count": 398,
     "metadata": {},
     "output_type": "execute_result"
    }
   ],
   "source": [
    "game(1000000, 0.25)"
   ]
  },
  {
   "cell_type": "code",
   "execution_count": 399,
   "metadata": {},
   "outputs": [
    {
     "data": {
      "text/plain": [
       "-0.055494"
      ]
     },
     "execution_count": 399,
     "metadata": {},
     "output_type": "execute_result"
    }
   ],
   "source": [
    "game(1000000, 0.1)"
   ]
  },
  {
   "cell_type": "code",
   "execution_count": 400,
   "metadata": {},
   "outputs": [
    {
     "data": {
      "text/plain": [
       "-0.054462"
      ]
     },
     "execution_count": 400,
     "metadata": {},
     "output_type": "execute_result"
    }
   ],
   "source": [
    "game(1000000, 0.01)"
   ]
  },
  {
   "cell_type": "markdown",
   "metadata": {},
   "source": [
    "### The PPL Approach"
   ]
  },
  {
   "cell_type": "markdown",
   "metadata": {},
   "source": [
    "### let's try to infer the $\\alpha$ seed"
   ]
  },
  {
   "cell_type": "code",
   "execution_count": 439,
   "metadata": {},
   "outputs": [
    {
     "data": {
      "text/plain": [
       "agent (generic function with 3 methods)"
      ]
     },
     "execution_count": 439,
     "metadata": {},
     "output_type": "execute_result"
    }
   ],
   "source": [
    "@model function agent(card, opp_betting = false)\n",
    "    deception_alpha ~ Dirac(0.33333)\n",
    "    if !opp_betting\n",
    "        if card == JACK\n",
    "            bet_chance ~ Bernoulli(deception_alpha) # bluff\n",
    "            return ACTIONS[bet_chance+1]\n",
    "        elseif card == KING\n",
    "            check_chance ~ Bernoulli(3 * deception_alpha) # agrassive vs slow playing\n",
    "            return ACTIONS[3-check_chance]\n",
    "        else # queen\n",
    "            return CHECK\n",
    "        end\n",
    "    else\n",
    "        if card == JACK\n",
    "            return FOLD\n",
    "        elseif card == KING  \n",
    "            return CHECK\n",
    "        else  \n",
    "            call_chance ~ Bernoulli(deception_alpha + 1/3) # bluff detection\n",
    "            return ACTIONS[2-call_chance] \n",
    "        end\n",
    "    end\n",
    "end"
   ]
  },
  {
   "cell_type": "markdown",
   "metadata": {},
   "source": [
    "#### Some simple games with the model"
   ]
  },
  {
   "cell_type": "code",
   "execution_count": 440,
   "metadata": {},
   "outputs": [
    {
     "data": {
      "image/svg+xml": [
       "<?xml version=\"1.0\" encoding=\"utf-8\"?>\n",
       "<svg xmlns=\"http://www.w3.org/2000/svg\" xmlns:xlink=\"http://www.w3.org/1999/xlink\" width=\"600\" height=\"400\" viewBox=\"0 0 2400 1600\">\n",
       "<defs>\n",
       "  <clipPath id=\"clip090\">\n",
       "    <rect x=\"0\" y=\"0\" width=\"2400\" height=\"1600\"/>\n",
       "  </clipPath>\n",
       "</defs>\n",
       "<path clip-path=\"url(#clip090)\" d=\"\n",
       "M0 1600 L2400 1600 L2400 0 L0 0  Z\n",
       "  \" fill=\"#ffffff\" fill-rule=\"evenodd\" fill-opacity=\"1\"/>\n",
       "<defs>\n",
       "  <clipPath id=\"clip091\">\n",
       "    <rect x=\"480\" y=\"0\" width=\"1681\" height=\"1600\"/>\n",
       "  </clipPath>\n",
       "</defs>\n",
       "<path clip-path=\"url(#clip090)\" d=\"\n",
       "M166.205 1486.45 L2352.76 1486.45 L2352.76 47.2441 L166.205 47.2441  Z\n",
       "  \" fill=\"#ffffff\" fill-rule=\"evenodd\" fill-opacity=\"1\"/>\n",
       "<defs>\n",
       "  <clipPath id=\"clip092\">\n",
       "    <rect x=\"166\" y=\"47\" width=\"2188\" height=\"1440\"/>\n",
       "  </clipPath>\n",
       "</defs>\n",
       "<polyline clip-path=\"url(#clip092)\" style=\"stroke:#000000; stroke-width:2; stroke-opacity:0.1; fill:none\" points=\"\n",
       "  448.637,1486.45 448.637,47.2441 \n",
       "  \"/>\n",
       "<polyline clip-path=\"url(#clip092)\" style=\"stroke:#000000; stroke-width:2; stroke-opacity:0.1; fill:none\" points=\"\n",
       "  935.143,1486.45 935.143,47.2441 \n",
       "  \"/>\n",
       "<polyline clip-path=\"url(#clip092)\" style=\"stroke:#000000; stroke-width:2; stroke-opacity:0.1; fill:none\" points=\"\n",
       "  1421.65,1486.45 1421.65,47.2441 \n",
       "  \"/>\n",
       "<polyline clip-path=\"url(#clip092)\" style=\"stroke:#000000; stroke-width:2; stroke-opacity:0.1; fill:none\" points=\"\n",
       "  1908.15,1486.45 1908.15,47.2441 \n",
       "  \"/>\n",
       "<polyline clip-path=\"url(#clip090)\" style=\"stroke:#000000; stroke-width:4; stroke-opacity:1; fill:none\" points=\"\n",
       "  166.205,1486.45 2352.76,1486.45 \n",
       "  \"/>\n",
       "<polyline clip-path=\"url(#clip090)\" style=\"stroke:#000000; stroke-width:4; stroke-opacity:1; fill:none\" points=\"\n",
       "  448.637,1486.45 448.637,1469.18 \n",
       "  \"/>\n",
       "<polyline clip-path=\"url(#clip090)\" style=\"stroke:#000000; stroke-width:4; stroke-opacity:1; fill:none\" points=\"\n",
       "  935.143,1486.45 935.143,1469.18 \n",
       "  \"/>\n",
       "<polyline clip-path=\"url(#clip090)\" style=\"stroke:#000000; stroke-width:4; stroke-opacity:1; fill:none\" points=\"\n",
       "  1421.65,1486.45 1421.65,1469.18 \n",
       "  \"/>\n",
       "<polyline clip-path=\"url(#clip090)\" style=\"stroke:#000000; stroke-width:4; stroke-opacity:1; fill:none\" points=\"\n",
       "  1908.15,1486.45 1908.15,1469.18 \n",
       "  \"/>\n",
       "<path clip-path=\"url(#clip090)\" d=\"M 0 0 M401.902 1530.29 L431.577 1530.29 L431.577 1534.23 L401.902 1534.23 L401.902 1530.29 Z\" fill=\"#000000\" fill-rule=\"evenodd\" fill-opacity=\"1\" /><path clip-path=\"url(#clip090)\" d=\"M 0 0 M446.647 1515.64 Q443.036 1515.64 441.207 1519.2 Q439.401 1522.75 439.401 1529.87 Q439.401 1536.98 441.207 1540.55 Q443.036 1544.09 446.647 1544.09 Q450.281 1544.09 452.086 1540.55 Q453.915 1536.98 453.915 1529.87 Q453.915 1522.75 452.086 1519.2 Q450.281 1515.64 446.647 1515.64 M446.647 1511.93 Q452.457 1511.93 455.512 1516.54 Q458.591 1521.12 458.591 1529.87 Q458.591 1538.6 455.512 1543.21 Q452.457 1547.79 446.647 1547.79 Q440.837 1547.79 437.758 1543.21 Q434.702 1538.6 434.702 1529.87 Q434.702 1521.12 437.758 1516.54 Q440.837 1511.93 446.647 1511.93 Z\" fill=\"#000000\" fill-rule=\"evenodd\" fill-opacity=\"1\" /><path clip-path=\"url(#clip090)\" d=\"M 0 0 M463.661 1541.24 L468.545 1541.24 L468.545 1547.12 L463.661 1547.12 L463.661 1541.24 Z\" fill=\"#000000\" fill-rule=\"evenodd\" fill-opacity=\"1\" /><path clip-path=\"url(#clip090)\" d=\"M 0 0 M473.753 1546.4 L473.753 1542.14 Q475.512 1542.98 477.318 1543.42 Q479.123 1543.86 480.859 1543.86 Q485.489 1543.86 487.92 1540.75 Q490.373 1537.63 490.721 1531.29 Q489.378 1533.28 487.318 1534.34 Q485.258 1535.41 482.758 1535.41 Q477.572 1535.41 474.54 1532.28 Q471.531 1529.13 471.531 1523.69 Q471.531 1518.37 474.679 1515.15 Q477.827 1511.93 483.059 1511.93 Q489.054 1511.93 492.202 1516.54 Q495.373 1521.12 495.373 1529.87 Q495.373 1538.05 491.484 1542.93 Q487.619 1547.79 481.068 1547.79 Q479.309 1547.79 477.503 1547.44 Q475.697 1547.1 473.753 1546.4 M483.059 1531.75 Q486.207 1531.75 488.035 1529.6 Q489.887 1527.44 489.887 1523.69 Q489.887 1519.97 488.035 1517.81 Q486.207 1515.64 483.059 1515.64 Q479.91 1515.64 478.059 1517.81 Q476.23 1519.97 476.23 1523.69 Q476.23 1527.44 478.059 1529.6 Q479.91 1531.75 483.059 1531.75 Z\" fill=\"#000000\" fill-rule=\"evenodd\" fill-opacity=\"1\" /><path clip-path=\"url(#clip090)\" d=\"M 0 0 M888.234 1530.29 L917.909 1530.29 L917.909 1534.23 L888.234 1534.23 L888.234 1530.29 Z\" fill=\"#000000\" fill-rule=\"evenodd\" fill-opacity=\"1\" /><path clip-path=\"url(#clip090)\" d=\"M 0 0 M932.979 1515.64 Q929.368 1515.64 927.539 1519.2 Q925.733 1522.75 925.733 1529.87 Q925.733 1536.98 927.539 1540.55 Q929.368 1544.09 932.979 1544.09 Q936.613 1544.09 938.419 1540.55 Q940.247 1536.98 940.247 1529.87 Q940.247 1522.75 938.419 1519.2 Q936.613 1515.64 932.979 1515.64 M932.979 1511.93 Q938.789 1511.93 941.845 1516.54 Q944.923 1521.12 944.923 1529.87 Q944.923 1538.6 941.845 1543.21 Q938.789 1547.79 932.979 1547.79 Q927.169 1547.79 924.09 1543.21 Q921.034 1538.6 921.034 1529.87 Q921.034 1521.12 924.09 1516.54 Q927.169 1511.93 932.979 1511.93 Z\" fill=\"#000000\" fill-rule=\"evenodd\" fill-opacity=\"1\" /><path clip-path=\"url(#clip090)\" d=\"M 0 0 M949.993 1541.24 L954.877 1541.24 L954.877 1547.12 L949.993 1547.12 L949.993 1541.24 Z\" fill=\"#000000\" fill-rule=\"evenodd\" fill-opacity=\"1\" /><path clip-path=\"url(#clip090)\" d=\"M 0 0 M970.525 1527.98 Q967.377 1527.98 965.525 1530.13 Q963.696 1532.28 963.696 1536.03 Q963.696 1539.76 965.525 1541.93 Q967.377 1544.09 970.525 1544.09 Q973.673 1544.09 975.502 1541.93 Q977.354 1539.76 977.354 1536.03 Q977.354 1532.28 975.502 1530.13 Q973.673 1527.98 970.525 1527.98 M979.807 1513.32 L979.807 1517.58 Q978.048 1516.75 976.242 1516.31 Q974.46 1515.87 972.701 1515.87 Q968.071 1515.87 965.618 1519 Q963.187 1522.12 962.84 1528.44 Q964.205 1526.43 966.266 1525.36 Q968.326 1524.27 970.803 1524.27 Q976.011 1524.27 979.02 1527.44 Q982.053 1530.59 982.053 1536.03 Q982.053 1541.36 978.904 1544.57 Q975.756 1547.79 970.525 1547.79 Q964.53 1547.79 961.358 1543.21 Q958.187 1538.6 958.187 1529.87 Q958.187 1521.68 962.076 1516.82 Q965.965 1511.93 972.516 1511.93 Q974.275 1511.93 976.057 1512.28 Q977.863 1512.63 979.807 1513.32 Z\" fill=\"#000000\" fill-rule=\"evenodd\" fill-opacity=\"1\" /><path clip-path=\"url(#clip090)\" d=\"M 0 0 M1375.14 1530.29 L1404.82 1530.29 L1404.82 1534.23 L1375.14 1534.23 L1375.14 1530.29 Z\" fill=\"#000000\" fill-rule=\"evenodd\" fill-opacity=\"1\" /><path clip-path=\"url(#clip090)\" d=\"M 0 0 M1419.89 1515.64 Q1416.28 1515.64 1414.45 1519.2 Q1412.64 1522.75 1412.64 1529.87 Q1412.64 1536.98 1414.45 1540.55 Q1416.28 1544.09 1419.89 1544.09 Q1423.52 1544.09 1425.33 1540.55 Q1427.16 1536.98 1427.16 1529.87 Q1427.16 1522.75 1425.33 1519.2 Q1423.52 1515.64 1419.89 1515.64 M1419.89 1511.93 Q1425.7 1511.93 1428.76 1516.54 Q1431.83 1521.12 1431.83 1529.87 Q1431.83 1538.6 1428.76 1543.21 Q1425.7 1547.79 1419.89 1547.79 Q1414.08 1547.79 1411 1543.21 Q1407.95 1538.6 1407.95 1529.87 Q1407.95 1521.12 1411 1516.54 Q1414.08 1511.93 1419.89 1511.93 Z\" fill=\"#000000\" fill-rule=\"evenodd\" fill-opacity=\"1\" /><path clip-path=\"url(#clip090)\" d=\"M 0 0 M1436.9 1541.24 L1441.79 1541.24 L1441.79 1547.12 L1436.9 1547.12 L1436.9 1541.24 Z\" fill=\"#000000\" fill-rule=\"evenodd\" fill-opacity=\"1\" /><path clip-path=\"url(#clip090)\" d=\"M 0 0 M1461.02 1528.49 Q1464.38 1529.2 1466.26 1531.47 Q1468.15 1533.74 1468.15 1537.07 Q1468.15 1542.19 1464.63 1544.99 Q1461.12 1547.79 1454.63 1547.79 Q1452.46 1547.79 1450.14 1547.35 Q1447.85 1546.93 1445.4 1546.08 L1445.4 1541.56 Q1447.34 1542.7 1449.66 1543.28 Q1451.97 1543.86 1454.5 1543.86 Q1458.89 1543.86 1461.19 1542.12 Q1463.5 1540.38 1463.5 1537.07 Q1463.5 1534.02 1461.35 1532.31 Q1459.22 1530.57 1455.4 1530.57 L1451.37 1530.57 L1451.37 1526.73 L1455.58 1526.73 Q1459.03 1526.73 1460.86 1525.36 Q1462.69 1523.97 1462.69 1521.38 Q1462.69 1518.72 1460.79 1517.31 Q1458.92 1515.87 1455.4 1515.87 Q1453.48 1515.87 1451.28 1516.29 Q1449.08 1516.7 1446.44 1517.58 L1446.44 1513.42 Q1449.1 1512.68 1451.42 1512.31 Q1453.76 1511.93 1455.82 1511.93 Q1461.14 1511.93 1464.24 1514.37 Q1467.34 1516.77 1467.34 1520.89 Q1467.34 1523.76 1465.7 1525.75 Q1464.06 1527.72 1461.02 1528.49 Z\" fill=\"#000000\" fill-rule=\"evenodd\" fill-opacity=\"1\" /><path clip-path=\"url(#clip090)\" d=\"M 0 0 M1889.67 1515.64 Q1886.06 1515.64 1884.23 1519.2 Q1882.43 1522.75 1882.43 1529.87 Q1882.43 1536.98 1884.23 1540.55 Q1886.06 1544.09 1889.67 1544.09 Q1893.31 1544.09 1895.11 1540.55 Q1896.94 1536.98 1896.94 1529.87 Q1896.94 1522.75 1895.11 1519.2 Q1893.31 1515.64 1889.67 1515.64 M1889.67 1511.93 Q1895.48 1511.93 1898.54 1516.54 Q1901.62 1521.12 1901.62 1529.87 Q1901.62 1538.6 1898.54 1543.21 Q1895.48 1547.79 1889.67 1547.79 Q1883.86 1547.79 1880.78 1543.21 Q1877.73 1538.6 1877.73 1529.87 Q1877.73 1521.12 1880.78 1516.54 Q1883.86 1511.93 1889.67 1511.93 Z\" fill=\"#000000\" fill-rule=\"evenodd\" fill-opacity=\"1\" /><path clip-path=\"url(#clip090)\" d=\"M 0 0 M1906.68 1541.24 L1911.57 1541.24 L1911.57 1547.12 L1906.68 1547.12 L1906.68 1541.24 Z\" fill=\"#000000\" fill-rule=\"evenodd\" fill-opacity=\"1\" /><path clip-path=\"url(#clip090)\" d=\"M 0 0 M1926.64 1515.64 Q1923.03 1515.64 1921.2 1519.2 Q1919.39 1522.75 1919.39 1529.87 Q1919.39 1536.98 1921.2 1540.55 Q1923.03 1544.09 1926.64 1544.09 Q1930.27 1544.09 1932.08 1540.55 Q1933.91 1536.98 1933.91 1529.87 Q1933.91 1522.75 1932.08 1519.2 Q1930.27 1515.64 1926.64 1515.64 M1926.64 1511.93 Q1932.45 1511.93 1935.5 1516.54 Q1938.58 1521.12 1938.58 1529.87 Q1938.58 1538.6 1935.5 1543.21 Q1932.45 1547.79 1926.64 1547.79 Q1920.83 1547.79 1917.75 1543.21 Q1914.69 1538.6 1914.69 1529.87 Q1914.69 1521.12 1917.75 1516.54 Q1920.83 1511.93 1926.64 1511.93 Z\" fill=\"#000000\" fill-rule=\"evenodd\" fill-opacity=\"1\" /><polyline clip-path=\"url(#clip092)\" style=\"stroke:#000000; stroke-width:2; stroke-opacity:0.1; fill:none\" points=\"\n",
       "  166.205,1445.72 2352.76,1445.72 \n",
       "  \"/>\n",
       "<polyline clip-path=\"url(#clip092)\" style=\"stroke:#000000; stroke-width:2; stroke-opacity:0.1; fill:none\" points=\"\n",
       "  166.205,1046.97 2352.76,1046.97 \n",
       "  \"/>\n",
       "<polyline clip-path=\"url(#clip092)\" style=\"stroke:#000000; stroke-width:2; stroke-opacity:0.1; fill:none\" points=\"\n",
       "  166.205,648.218 2352.76,648.218 \n",
       "  \"/>\n",
       "<polyline clip-path=\"url(#clip092)\" style=\"stroke:#000000; stroke-width:2; stroke-opacity:0.1; fill:none\" points=\"\n",
       "  166.205,249.47 2352.76,249.47 \n",
       "  \"/>\n",
       "<polyline clip-path=\"url(#clip090)\" style=\"stroke:#000000; stroke-width:4; stroke-opacity:1; fill:none\" points=\"\n",
       "  166.205,1486.45 166.205,47.2441 \n",
       "  \"/>\n",
       "<polyline clip-path=\"url(#clip090)\" style=\"stroke:#000000; stroke-width:4; stroke-opacity:1; fill:none\" points=\"\n",
       "  166.205,1445.72 192.443,1445.72 \n",
       "  \"/>\n",
       "<polyline clip-path=\"url(#clip090)\" style=\"stroke:#000000; stroke-width:4; stroke-opacity:1; fill:none\" points=\"\n",
       "  166.205,1046.97 192.443,1046.97 \n",
       "  \"/>\n",
       "<polyline clip-path=\"url(#clip090)\" style=\"stroke:#000000; stroke-width:4; stroke-opacity:1; fill:none\" points=\"\n",
       "  166.205,648.218 192.443,648.218 \n",
       "  \"/>\n",
       "<polyline clip-path=\"url(#clip090)\" style=\"stroke:#000000; stroke-width:4; stroke-opacity:1; fill:none\" points=\"\n",
       "  166.205,249.47 192.443,249.47 \n",
       "  \"/>\n",
       "<path clip-path=\"url(#clip090)\" d=\"M 0 0 M118.26 1431.51 Q114.649 1431.51 112.82 1435.08 Q111.015 1438.62 111.015 1445.75 Q111.015 1452.86 112.82 1456.42 Q114.649 1459.96 118.26 1459.96 Q121.895 1459.96 123.7 1456.42 Q125.529 1452.86 125.529 1445.75 Q125.529 1438.62 123.7 1435.08 Q121.895 1431.51 118.26 1431.51 M118.26 1427.81 Q124.07 1427.81 127.126 1432.42 Q130.205 1437 130.205 1445.75 Q130.205 1454.48 127.126 1459.08 Q124.07 1463.67 118.26 1463.67 Q112.45 1463.67 109.371 1459.08 Q106.316 1454.48 106.316 1445.75 Q106.316 1437 109.371 1432.42 Q112.45 1427.81 118.26 1427.81 Z\" fill=\"#000000\" fill-rule=\"evenodd\" fill-opacity=\"1\" /><path clip-path=\"url(#clip090)\" d=\"M 0 0 M59.8578 1060.31 L76.1772 1060.31 L76.1772 1064.25 L54.2328 1064.25 L54.2328 1060.31 Q56.8949 1057.56 61.4782 1052.93 Q66.0846 1048.27 67.2652 1046.93 Q69.5105 1044.41 70.3902 1042.67 Q71.2929 1040.91 71.2929 1039.22 Q71.2929 1036.47 69.3485 1034.73 Q67.4272 1033 64.3254 1033 Q62.1263 1033 59.6726 1033.76 Q57.2421 1034.52 54.4643 1036.08 L54.4643 1031.35 Q57.2884 1030.22 59.7421 1029.64 Q62.1958 1029.06 64.2328 1029.06 Q69.6031 1029.06 72.7976 1031.75 Q75.992 1034.43 75.992 1038.92 Q75.992 1041.05 75.1818 1042.97 Q74.3948 1044.87 72.2883 1047.46 Q71.7096 1048.14 68.6078 1051.35 Q65.5059 1054.55 59.8578 1060.31 Z\" fill=\"#000000\" fill-rule=\"evenodd\" fill-opacity=\"1\" /><path clip-path=\"url(#clip090)\" d=\"M 0 0 M91.2465 1032.77 Q87.6354 1032.77 85.8068 1036.33 Q84.0012 1039.87 84.0012 1047 Q84.0012 1054.11 85.8068 1057.67 Q87.6354 1061.21 91.2465 1061.21 Q94.8808 1061.21 96.6863 1057.67 Q98.515 1054.11 98.515 1047 Q98.515 1039.87 96.6863 1036.33 Q94.8808 1032.77 91.2465 1032.77 M91.2465 1029.06 Q97.0567 1029.06 100.112 1033.67 Q103.191 1038.25 103.191 1047 Q103.191 1055.73 100.112 1060.33 Q97.0567 1064.92 91.2465 1064.92 Q85.4364 1064.92 82.3577 1060.33 Q79.3022 1055.73 79.3022 1047 Q79.3022 1038.25 82.3577 1033.67 Q85.4364 1029.06 91.2465 1029.06 Z\" fill=\"#000000\" fill-rule=\"evenodd\" fill-opacity=\"1\" /><path clip-path=\"url(#clip090)\" d=\"M 0 0 M118.26 1032.77 Q114.649 1032.77 112.82 1036.33 Q111.015 1039.87 111.015 1047 Q111.015 1054.11 112.82 1057.67 Q114.649 1061.21 118.26 1061.21 Q121.895 1061.21 123.7 1057.67 Q125.529 1054.11 125.529 1047 Q125.529 1039.87 123.7 1036.33 Q121.895 1032.77 118.26 1032.77 M118.26 1029.06 Q124.07 1029.06 127.126 1033.67 Q130.205 1038.25 130.205 1047 Q130.205 1055.73 127.126 1060.33 Q124.07 1064.92 118.26 1064.92 Q112.45 1064.92 109.371 1060.33 Q106.316 1055.73 106.316 1047 Q106.316 1038.25 109.371 1033.67 Q112.45 1029.06 118.26 1029.06 Z\" fill=\"#000000\" fill-rule=\"evenodd\" fill-opacity=\"1\" /><path clip-path=\"url(#clip090)\" d=\"M 0 0 M66.5939 635.012 L54.7884 653.461 L66.5939 653.461 L66.5939 635.012 M65.367 630.938 L71.2466 630.938 L71.2466 653.461 L76.1772 653.461 L76.1772 657.35 L71.2466 657.35 L71.2466 665.498 L66.5939 665.498 L66.5939 657.35 L50.9921 657.35 L50.9921 652.836 L65.367 630.938 Z\" fill=\"#000000\" fill-rule=\"evenodd\" fill-opacity=\"1\" /><path clip-path=\"url(#clip090)\" d=\"M 0 0 M91.2465 634.017 Q87.6354 634.017 85.8068 637.582 Q84.0012 641.123 84.0012 648.253 Q84.0012 655.359 85.8068 658.924 Q87.6354 662.466 91.2465 662.466 Q94.8808 662.466 96.6863 658.924 Q98.515 655.359 98.515 648.253 Q98.515 641.123 96.6863 637.582 Q94.8808 634.017 91.2465 634.017 M91.2465 630.313 Q97.0567 630.313 100.112 634.92 Q103.191 639.503 103.191 648.253 Q103.191 656.98 100.112 661.586 Q97.0567 666.17 91.2465 666.17 Q85.4364 666.17 82.3577 661.586 Q79.3022 656.98 79.3022 648.253 Q79.3022 639.503 82.3577 634.92 Q85.4364 630.313 91.2465 630.313 Z\" fill=\"#000000\" fill-rule=\"evenodd\" fill-opacity=\"1\" /><path clip-path=\"url(#clip090)\" d=\"M 0 0 M118.26 634.017 Q114.649 634.017 112.82 637.582 Q111.015 641.123 111.015 648.253 Q111.015 655.359 112.82 658.924 Q114.649 662.466 118.26 662.466 Q121.895 662.466 123.7 658.924 Q125.529 655.359 125.529 648.253 Q125.529 641.123 123.7 637.582 Q121.895 634.017 118.26 634.017 M118.26 630.313 Q124.07 630.313 127.126 634.92 Q130.205 639.503 130.205 648.253 Q130.205 656.98 127.126 661.586 Q124.07 666.17 118.26 666.17 Q112.45 666.17 109.371 661.586 Q106.316 656.98 106.316 648.253 Q106.316 639.503 109.371 634.92 Q112.45 630.313 118.26 630.313 Z\" fill=\"#000000\" fill-rule=\"evenodd\" fill-opacity=\"1\" /><path clip-path=\"url(#clip090)\" d=\"M 0 0 M64.6495 247.606 Q61.5013 247.606 59.6495 249.759 Q57.8208 251.912 57.8208 255.662 Q57.8208 259.388 59.6495 261.564 Q61.5013 263.717 64.6495 263.717 Q67.7976 263.717 69.6263 261.564 Q71.4781 259.388 71.4781 255.662 Q71.4781 251.912 69.6263 249.759 Q67.7976 247.606 64.6495 247.606 M73.9318 232.953 L73.9318 237.213 Q72.1726 236.379 70.367 235.939 Q68.5846 235.5 66.8254 235.5 Q62.1958 235.5 59.7421 238.625 Q57.3115 241.75 56.9643 248.069 Q58.33 246.055 60.3902 244.99 Q62.4504 243.902 64.9272 243.902 Q70.1355 243.902 73.1448 247.074 Q76.1772 250.222 76.1772 255.662 Q76.1772 260.986 73.029 264.203 Q69.8809 267.421 64.6495 267.421 Q58.6541 267.421 55.4828 262.837 Q52.3116 258.231 52.3116 249.504 Q52.3116 241.31 56.2004 236.449 Q60.0893 231.565 66.6402 231.565 Q68.3994 231.565 70.1818 231.912 Q71.9874 232.259 73.9318 232.953 Z\" fill=\"#000000\" fill-rule=\"evenodd\" fill-opacity=\"1\" /><path clip-path=\"url(#clip090)\" d=\"M 0 0 M91.2465 235.268 Q87.6354 235.268 85.8068 238.833 Q84.0012 242.375 84.0012 249.504 Q84.0012 256.611 85.8068 260.175 Q87.6354 263.717 91.2465 263.717 Q94.8808 263.717 96.6863 260.175 Q98.515 256.611 98.515 249.504 Q98.515 242.375 96.6863 238.833 Q94.8808 235.268 91.2465 235.268 M91.2465 231.565 Q97.0567 231.565 100.112 236.171 Q103.191 240.754 103.191 249.504 Q103.191 258.231 100.112 262.837 Q97.0567 267.421 91.2465 267.421 Q85.4364 267.421 82.3577 262.837 Q79.3022 258.231 79.3022 249.504 Q79.3022 240.754 82.3577 236.171 Q85.4364 231.565 91.2465 231.565 Z\" fill=\"#000000\" fill-rule=\"evenodd\" fill-opacity=\"1\" /><path clip-path=\"url(#clip090)\" d=\"M 0 0 M118.26 235.268 Q114.649 235.268 112.82 238.833 Q111.015 242.375 111.015 249.504 Q111.015 256.611 112.82 260.175 Q114.649 263.717 118.26 263.717 Q121.895 263.717 123.7 260.175 Q125.529 256.611 125.529 249.504 Q125.529 242.375 123.7 238.833 Q121.895 235.268 118.26 235.268 M118.26 231.565 Q124.07 231.565 127.126 236.171 Q130.205 240.754 130.205 249.504 Q130.205 258.231 127.126 262.837 Q124.07 267.421 118.26 267.421 Q112.45 267.421 109.371 262.837 Q106.316 258.231 106.316 249.504 Q106.316 240.754 109.371 236.171 Q112.45 231.565 118.26 231.565 Z\" fill=\"#000000\" fill-rule=\"evenodd\" fill-opacity=\"1\" /><path clip-path=\"url(#clip092)\" d=\"\n",
       "M286.469 87.9763 L286.469 1445.72 L610.806 1445.72 L610.806 87.9763 L286.469 87.9763 L286.469 87.9763  Z\n",
       "  \" fill=\"#009af9\" fill-rule=\"evenodd\" fill-opacity=\"1\"/>\n",
       "<polyline clip-path=\"url(#clip092)\" style=\"stroke:#000000; stroke-width:4; stroke-opacity:1; fill:none\" points=\"\n",
       "  286.469,87.9763 286.469,1445.72 610.806,1445.72 610.806,87.9763 286.469,87.9763 \n",
       "  \"/>\n",
       "<path clip-path=\"url(#clip092)\" d=\"\n",
       "M610.806 1445.72 L610.806 1445.72 L935.143 1445.72 L935.143 1445.72 L610.806 1445.72 L610.806 1445.72  Z\n",
       "  \" fill=\"#009af9\" fill-rule=\"evenodd\" fill-opacity=\"1\"/>\n",
       "<polyline clip-path=\"url(#clip092)\" style=\"stroke:#000000; stroke-width:4; stroke-opacity:1; fill:none\" points=\"\n",
       "  610.806,1445.72 610.806,1445.72 935.143,1445.72 610.806,1445.72 \n",
       "  \"/>\n",
       "<path clip-path=\"url(#clip092)\" d=\"\n",
       "M935.143 1445.72 L935.143 1445.72 L1259.48 1445.72 L1259.48 1445.72 L935.143 1445.72 L935.143 1445.72  Z\n",
       "  \" fill=\"#009af9\" fill-rule=\"evenodd\" fill-opacity=\"1\"/>\n",
       "<polyline clip-path=\"url(#clip092)\" style=\"stroke:#000000; stroke-width:4; stroke-opacity:1; fill:none\" points=\"\n",
       "  935.143,1445.72 935.143,1445.72 1259.48,1445.72 935.143,1445.72 \n",
       "  \"/>\n",
       "<path clip-path=\"url(#clip092)\" d=\"\n",
       "M1259.48 1445.72 L1259.48 1445.72 L1583.82 1445.72 L1583.82 1445.72 L1259.48 1445.72 L1259.48 1445.72  Z\n",
       "  \" fill=\"#009af9\" fill-rule=\"evenodd\" fill-opacity=\"1\"/>\n",
       "<polyline clip-path=\"url(#clip092)\" style=\"stroke:#000000; stroke-width:4; stroke-opacity:1; fill:none\" points=\"\n",
       "  1259.48,1445.72 1259.48,1445.72 1583.82,1445.72 1259.48,1445.72 \n",
       "  \"/>\n",
       "<path clip-path=\"url(#clip092)\" d=\"\n",
       "M1583.82 1445.72 L1583.82 1445.72 L1908.15 1445.72 L1908.15 1445.72 L1583.82 1445.72 L1583.82 1445.72  Z\n",
       "  \" fill=\"#009af9\" fill-rule=\"evenodd\" fill-opacity=\"1\"/>\n",
       "<polyline clip-path=\"url(#clip092)\" style=\"stroke:#000000; stroke-width:4; stroke-opacity:1; fill:none\" points=\"\n",
       "  1583.82,1445.72 1583.82,1445.72 1908.15,1445.72 1583.82,1445.72 \n",
       "  \"/>\n",
       "<path clip-path=\"url(#clip092)\" d=\"\n",
       "M1908.15 809.711 L1908.15 1445.72 L2232.49 1445.72 L2232.49 809.711 L1908.15 809.711 L1908.15 809.711  Z\n",
       "  \" fill=\"#009af9\" fill-rule=\"evenodd\" fill-opacity=\"1\"/>\n",
       "<polyline clip-path=\"url(#clip092)\" style=\"stroke:#000000; stroke-width:4; stroke-opacity:1; fill:none\" points=\"\n",
       "  1908.15,809.711 1908.15,1445.72 2232.49,1445.72 2232.49,809.711 1908.15,809.711 \n",
       "  \"/>\n",
       "<path clip-path=\"url(#clip090)\" d=\"\n",
       "M1985.9 216.178 L2279.87 216.178 L2279.87 95.2176 L1985.9 95.2176  Z\n",
       "  \" fill=\"#ffffff\" fill-rule=\"evenodd\" fill-opacity=\"1\"/>\n",
       "<polyline clip-path=\"url(#clip090)\" style=\"stroke:#000000; stroke-width:4; stroke-opacity:1; fill:none\" points=\"\n",
       "  1985.9,216.178 2279.87,216.178 2279.87,95.2176 1985.9,95.2176 1985.9,216.178 \n",
       "  \"/>\n",
       "<path clip-path=\"url(#clip090)\" d=\"\n",
       "M2010.2 179.89 L2155.97 179.89 L2155.97 131.506 L2010.2 131.506 L2010.2 179.89  Z\n",
       "  \" fill=\"#009af9\" fill-rule=\"evenodd\" fill-opacity=\"1\"/>\n",
       "<polyline clip-path=\"url(#clip090)\" style=\"stroke:#000000; stroke-width:4; stroke-opacity:1; fill:none\" points=\"\n",
       "  2010.2,179.89 2155.97,179.89 2155.97,131.506 2010.2,131.506 2010.2,179.89 \n",
       "  \"/>\n",
       "<path clip-path=\"url(#clip090)\" d=\"M 0 0 M2194.11 175.385 Q2192.3 180.015 2190.59 181.427 Q2188.87 182.839 2186 182.839 L2182.6 182.839 L2182.6 179.274 L2185.1 179.274 Q2186.86 179.274 2187.83 178.44 Q2188.8 177.607 2189.98 174.505 L2190.75 172.561 L2180.26 147.052 L2184.78 147.052 L2192.88 167.329 L2200.98 147.052 L2205.49 147.052 L2194.11 175.385 Z\" fill=\"#000000\" fill-rule=\"evenodd\" fill-opacity=\"1\" /><path clip-path=\"url(#clip090)\" d=\"M 0 0 M2211.37 169.042 L2219.01 169.042 L2219.01 142.677 L2210.7 144.343 L2210.7 140.084 L2218.97 138.418 L2223.64 138.418 L2223.64 169.042 L2231.28 169.042 L2231.28 172.978 L2211.37 172.978 L2211.37 169.042 Z\" fill=\"#000000\" fill-rule=\"evenodd\" fill-opacity=\"1\" /></svg>\n"
      ]
     },
     "execution_count": 440,
     "metadata": {},
     "output_type": "execute_result"
    }
   ],
   "source": [
    "m = agent(JACK)\n",
    "chains = sample(m, IS(), 1000 , n_chains=1)\n",
    "histogram(generated_quantities(m, chains))"
   ]
  },
  {
   "cell_type": "code",
   "execution_count": 441,
   "metadata": {},
   "outputs": [
    {
     "data": {
      "image/svg+xml": [
       "<?xml version=\"1.0\" encoding=\"utf-8\"?>\n",
       "<svg xmlns=\"http://www.w3.org/2000/svg\" xmlns:xlink=\"http://www.w3.org/1999/xlink\" width=\"600\" height=\"400\" viewBox=\"0 0 2400 1600\">\n",
       "<defs>\n",
       "  <clipPath id=\"clip130\">\n",
       "    <rect x=\"0\" y=\"0\" width=\"2400\" height=\"1600\"/>\n",
       "  </clipPath>\n",
       "</defs>\n",
       "<path clip-path=\"url(#clip130)\" d=\"\n",
       "M0 1600 L2400 1600 L2400 0 L0 0  Z\n",
       "  \" fill=\"#ffffff\" fill-rule=\"evenodd\" fill-opacity=\"1\"/>\n",
       "<defs>\n",
       "  <clipPath id=\"clip131\">\n",
       "    <rect x=\"480\" y=\"0\" width=\"1681\" height=\"1600\"/>\n",
       "  </clipPath>\n",
       "</defs>\n",
       "<path clip-path=\"url(#clip130)\" d=\"\n",
       "M188.612 1486.45 L2352.76 1486.45 L2352.76 47.2441 L188.612 47.2441  Z\n",
       "  \" fill=\"#ffffff\" fill-rule=\"evenodd\" fill-opacity=\"1\"/>\n",
       "<defs>\n",
       "  <clipPath id=\"clip132\">\n",
       "    <rect x=\"188\" y=\"47\" width=\"2165\" height=\"1440\"/>\n",
       "  </clipPath>\n",
       "</defs>\n",
       "<polyline clip-path=\"url(#clip132)\" style=\"stroke:#000000; stroke-width:2; stroke-opacity:0.1; fill:none\" points=\"\n",
       "  307.644,1486.45 307.644,47.2441 \n",
       "  \"/>\n",
       "<polyline clip-path=\"url(#clip132)\" style=\"stroke:#000000; stroke-width:2; stroke-opacity:0.1; fill:none\" points=\"\n",
       "  789.164,1486.45 789.164,47.2441 \n",
       "  \"/>\n",
       "<polyline clip-path=\"url(#clip132)\" style=\"stroke:#000000; stroke-width:2; stroke-opacity:0.1; fill:none\" points=\"\n",
       "  1270.68,1486.45 1270.68,47.2441 \n",
       "  \"/>\n",
       "<polyline clip-path=\"url(#clip132)\" style=\"stroke:#000000; stroke-width:2; stroke-opacity:0.1; fill:none\" points=\"\n",
       "  1752.2,1486.45 1752.2,47.2441 \n",
       "  \"/>\n",
       "<polyline clip-path=\"url(#clip132)\" style=\"stroke:#000000; stroke-width:2; stroke-opacity:0.1; fill:none\" points=\"\n",
       "  2233.72,1486.45 2233.72,47.2441 \n",
       "  \"/>\n",
       "<polyline clip-path=\"url(#clip130)\" style=\"stroke:#000000; stroke-width:4; stroke-opacity:1; fill:none\" points=\"\n",
       "  188.612,1486.45 2352.76,1486.45 \n",
       "  \"/>\n",
       "<polyline clip-path=\"url(#clip130)\" style=\"stroke:#000000; stroke-width:4; stroke-opacity:1; fill:none\" points=\"\n",
       "  307.644,1486.45 307.644,1469.18 \n",
       "  \"/>\n",
       "<polyline clip-path=\"url(#clip130)\" style=\"stroke:#000000; stroke-width:4; stroke-opacity:1; fill:none\" points=\"\n",
       "  789.164,1486.45 789.164,1469.18 \n",
       "  \"/>\n",
       "<polyline clip-path=\"url(#clip130)\" style=\"stroke:#000000; stroke-width:4; stroke-opacity:1; fill:none\" points=\"\n",
       "  1270.68,1486.45 1270.68,1469.18 \n",
       "  \"/>\n",
       "<polyline clip-path=\"url(#clip130)\" style=\"stroke:#000000; stroke-width:4; stroke-opacity:1; fill:none\" points=\"\n",
       "  1752.2,1486.45 1752.2,1469.18 \n",
       "  \"/>\n",
       "<polyline clip-path=\"url(#clip130)\" style=\"stroke:#000000; stroke-width:4; stroke-opacity:1; fill:none\" points=\"\n",
       "  2233.72,1486.45 2233.72,1469.18 \n",
       "  \"/>\n",
       "<path clip-path=\"url(#clip130)\" d=\"M 0 0 M247.922 1530.29 L277.598 1530.29 L277.598 1534.23 L247.922 1534.23 L247.922 1530.29 Z\" fill=\"#000000\" fill-rule=\"evenodd\" fill-opacity=\"1\" /><path clip-path=\"url(#clip130)\" d=\"M 0 0 M283.477 1543.18 L291.116 1543.18 L291.116 1516.82 L282.806 1518.49 L282.806 1514.23 L291.07 1512.56 L295.746 1512.56 L295.746 1543.18 L303.384 1543.18 L303.384 1547.12 L283.477 1547.12 L283.477 1543.18 Z\" fill=\"#000000\" fill-rule=\"evenodd\" fill-opacity=\"1\" /><path clip-path=\"url(#clip130)\" d=\"M 0 0 M308.454 1541.24 L313.338 1541.24 L313.338 1547.12 L308.454 1547.12 L308.454 1541.24 Z\" fill=\"#000000\" fill-rule=\"evenodd\" fill-opacity=\"1\" /><path clip-path=\"url(#clip130)\" d=\"M 0 0 M328.407 1515.64 Q324.796 1515.64 322.968 1519.2 Q321.162 1522.75 321.162 1529.87 Q321.162 1536.98 322.968 1540.55 Q324.796 1544.09 328.407 1544.09 Q332.042 1544.09 333.847 1540.55 Q335.676 1536.98 335.676 1529.87 Q335.676 1522.75 333.847 1519.2 Q332.042 1515.64 328.407 1515.64 M328.407 1511.93 Q334.218 1511.93 337.273 1516.54 Q340.352 1521.12 340.352 1529.87 Q340.352 1538.6 337.273 1543.21 Q334.218 1547.79 328.407 1547.79 Q322.597 1547.79 319.519 1543.21 Q316.463 1538.6 316.463 1529.87 Q316.463 1521.12 319.519 1516.54 Q322.597 1511.93 328.407 1511.93 Z\" fill=\"#000000\" fill-rule=\"evenodd\" fill-opacity=\"1\" /><path clip-path=\"url(#clip130)\" d=\"M 0 0 M355.421 1515.64 Q351.81 1515.64 349.981 1519.2 Q348.176 1522.75 348.176 1529.87 Q348.176 1536.98 349.981 1540.55 Q351.81 1544.09 355.421 1544.09 Q359.055 1544.09 360.861 1540.55 Q362.69 1536.98 362.69 1529.87 Q362.69 1522.75 360.861 1519.2 Q359.055 1515.64 355.421 1515.64 M355.421 1511.93 Q361.231 1511.93 364.287 1516.54 Q367.366 1521.12 367.366 1529.87 Q367.366 1538.6 364.287 1543.21 Q361.231 1547.79 355.421 1547.79 Q349.611 1547.79 346.532 1543.21 Q343.477 1538.6 343.477 1529.87 Q343.477 1521.12 346.532 1516.54 Q349.611 1511.93 355.421 1511.93 Z\" fill=\"#000000\" fill-rule=\"evenodd\" fill-opacity=\"1\" /><path clip-path=\"url(#clip130)\" d=\"M 0 0 M729.778 1530.29 L759.453 1530.29 L759.453 1534.23 L729.778 1534.23 L729.778 1530.29 Z\" fill=\"#000000\" fill-rule=\"evenodd\" fill-opacity=\"1\" /><path clip-path=\"url(#clip130)\" d=\"M 0 0 M774.523 1515.64 Q770.912 1515.64 769.083 1519.2 Q767.277 1522.75 767.277 1529.87 Q767.277 1536.98 769.083 1540.55 Q770.912 1544.09 774.523 1544.09 Q778.157 1544.09 779.962 1540.55 Q781.791 1536.98 781.791 1529.87 Q781.791 1522.75 779.962 1519.2 Q778.157 1515.64 774.523 1515.64 M774.523 1511.93 Q780.333 1511.93 783.388 1516.54 Q786.467 1521.12 786.467 1529.87 Q786.467 1538.6 783.388 1543.21 Q780.333 1547.79 774.523 1547.79 Q768.713 1547.79 765.634 1543.21 Q762.578 1538.6 762.578 1529.87 Q762.578 1521.12 765.634 1516.54 Q768.713 1511.93 774.523 1511.93 Z\" fill=\"#000000\" fill-rule=\"evenodd\" fill-opacity=\"1\" /><path clip-path=\"url(#clip130)\" d=\"M 0 0 M791.536 1541.24 L796.421 1541.24 L796.421 1547.12 L791.536 1547.12 L791.536 1541.24 Z\" fill=\"#000000\" fill-rule=\"evenodd\" fill-opacity=\"1\" /><path clip-path=\"url(#clip130)\" d=\"M 0 0 M800.31 1512.56 L822.532 1512.56 L822.532 1514.55 L809.985 1547.12 L805.101 1547.12 L816.907 1516.5 L800.31 1516.5 L800.31 1512.56 Z\" fill=\"#000000\" fill-rule=\"evenodd\" fill-opacity=\"1\" /><path clip-path=\"url(#clip130)\" d=\"M 0 0 M827.647 1512.56 L846.004 1512.56 L846.004 1516.5 L831.93 1516.5 L831.93 1524.97 Q832.948 1524.62 833.967 1524.46 Q834.985 1524.27 836.004 1524.27 Q841.791 1524.27 845.17 1527.44 Q848.55 1530.62 848.55 1536.03 Q848.55 1541.61 845.078 1544.71 Q841.606 1547.79 835.286 1547.79 Q833.11 1547.79 830.842 1547.42 Q828.596 1547.05 826.189 1546.31 L826.189 1541.61 Q828.272 1542.74 830.495 1543.3 Q832.717 1543.86 835.194 1543.86 Q839.198 1543.86 841.536 1541.75 Q843.874 1539.64 843.874 1536.03 Q843.874 1532.42 841.536 1530.31 Q839.198 1528.21 835.194 1528.21 Q833.319 1528.21 831.444 1528.62 Q829.592 1529.04 827.647 1529.92 L827.647 1512.56 Z\" fill=\"#000000\" fill-rule=\"evenodd\" fill-opacity=\"1\" /><path clip-path=\"url(#clip130)\" d=\"M 0 0 M1210.85 1530.29 L1240.52 1530.29 L1240.52 1534.23 L1210.85 1534.23 L1210.85 1530.29 Z\" fill=\"#000000\" fill-rule=\"evenodd\" fill-opacity=\"1\" /><path clip-path=\"url(#clip130)\" d=\"M 0 0 M1255.59 1515.64 Q1251.98 1515.64 1250.15 1519.2 Q1248.35 1522.75 1248.35 1529.87 Q1248.35 1536.98 1250.15 1540.55 Q1251.98 1544.09 1255.59 1544.09 Q1259.23 1544.09 1261.03 1540.55 Q1262.86 1536.98 1262.86 1529.87 Q1262.86 1522.75 1261.03 1519.2 Q1259.23 1515.64 1255.59 1515.64 M1255.59 1511.93 Q1261.4 1511.93 1264.46 1516.54 Q1267.54 1521.12 1267.54 1529.87 Q1267.54 1538.6 1264.46 1543.21 Q1261.4 1547.79 1255.59 1547.79 Q1249.78 1547.79 1246.7 1543.21 Q1243.65 1538.6 1243.65 1529.87 Q1243.65 1521.12 1246.7 1516.54 Q1249.78 1511.93 1255.59 1511.93 Z\" fill=\"#000000\" fill-rule=\"evenodd\" fill-opacity=\"1\" /><path clip-path=\"url(#clip130)\" d=\"M 0 0 M1272.61 1541.24 L1277.49 1541.24 L1277.49 1547.12 L1272.61 1547.12 L1272.61 1541.24 Z\" fill=\"#000000\" fill-rule=\"evenodd\" fill-opacity=\"1\" /><path clip-path=\"url(#clip130)\" d=\"M 0 0 M1282.61 1512.56 L1300.96 1512.56 L1300.96 1516.5 L1286.89 1516.5 L1286.89 1524.97 Q1287.91 1524.62 1288.92 1524.46 Q1289.94 1524.27 1290.96 1524.27 Q1296.75 1524.27 1300.13 1527.44 Q1303.51 1530.62 1303.51 1536.03 Q1303.51 1541.61 1300.04 1544.71 Q1296.56 1547.79 1290.24 1547.79 Q1288.07 1547.79 1285.8 1547.42 Q1283.55 1547.05 1281.15 1546.31 L1281.15 1541.61 Q1283.23 1542.74 1285.45 1543.3 Q1287.67 1543.86 1290.15 1543.86 Q1294.16 1543.86 1296.49 1541.75 Q1298.83 1539.64 1298.83 1536.03 Q1298.83 1532.42 1296.49 1530.31 Q1294.16 1528.21 1290.15 1528.21 Q1288.28 1528.21 1286.4 1528.62 Q1284.55 1529.04 1282.61 1529.92 L1282.61 1512.56 Z\" fill=\"#000000\" fill-rule=\"evenodd\" fill-opacity=\"1\" /><path clip-path=\"url(#clip130)\" d=\"M 0 0 M1318.58 1515.64 Q1314.97 1515.64 1313.14 1519.2 Q1311.33 1522.75 1311.33 1529.87 Q1311.33 1536.98 1313.14 1540.55 Q1314.97 1544.09 1318.58 1544.09 Q1322.21 1544.09 1324.02 1540.55 Q1325.85 1536.98 1325.85 1529.87 Q1325.85 1522.75 1324.02 1519.2 Q1322.21 1515.64 1318.58 1515.64 M1318.58 1511.93 Q1324.39 1511.93 1327.44 1516.54 Q1330.52 1521.12 1330.52 1529.87 Q1330.52 1538.6 1327.44 1543.21 Q1324.39 1547.79 1318.58 1547.79 Q1312.77 1547.79 1309.69 1543.21 Q1306.63 1538.6 1306.63 1529.87 Q1306.63 1521.12 1309.69 1516.54 Q1312.77 1511.93 1318.58 1511.93 Z\" fill=\"#000000\" fill-rule=\"evenodd\" fill-opacity=\"1\" /><path clip-path=\"url(#clip130)\" d=\"M 0 0 M1693.16 1530.29 L1722.84 1530.29 L1722.84 1534.23 L1693.16 1534.23 L1693.16 1530.29 Z\" fill=\"#000000\" fill-rule=\"evenodd\" fill-opacity=\"1\" /><path clip-path=\"url(#clip130)\" d=\"M 0 0 M1737.91 1515.64 Q1734.3 1515.64 1732.47 1519.2 Q1730.66 1522.75 1730.66 1529.87 Q1730.66 1536.98 1732.47 1540.55 Q1734.3 1544.09 1737.91 1544.09 Q1741.54 1544.09 1743.35 1540.55 Q1745.18 1536.98 1745.18 1529.87 Q1745.18 1522.75 1743.35 1519.2 Q1741.54 1515.64 1737.91 1515.64 M1737.91 1511.93 Q1743.72 1511.93 1746.78 1516.54 Q1749.85 1521.12 1749.85 1529.87 Q1749.85 1538.6 1746.78 1543.21 Q1743.72 1547.79 1737.91 1547.79 Q1732.1 1547.79 1729.02 1543.21 Q1725.97 1538.6 1725.97 1529.87 Q1725.97 1521.12 1729.02 1516.54 Q1732.1 1511.93 1737.91 1511.93 Z\" fill=\"#000000\" fill-rule=\"evenodd\" fill-opacity=\"1\" /><path clip-path=\"url(#clip130)\" d=\"M 0 0 M1754.92 1541.24 L1759.81 1541.24 L1759.81 1547.12 L1754.92 1547.12 L1754.92 1541.24 Z\" fill=\"#000000\" fill-rule=\"evenodd\" fill-opacity=\"1\" /><path clip-path=\"url(#clip130)\" d=\"M 0 0 M1768.91 1543.18 L1785.22 1543.18 L1785.22 1547.12 L1763.28 1547.12 L1763.28 1543.18 Q1765.94 1540.43 1770.53 1535.8 Q1775.13 1531.15 1776.31 1529.81 Q1778.56 1527.28 1779.44 1525.55 Q1780.34 1523.79 1780.34 1522.1 Q1780.34 1519.34 1778.4 1517.61 Q1776.47 1515.87 1773.37 1515.87 Q1771.17 1515.87 1768.72 1516.63 Q1766.29 1517.4 1763.51 1518.95 L1763.51 1514.23 Q1766.34 1513.09 1768.79 1512.51 Q1771.24 1511.93 1773.28 1511.93 Q1778.65 1511.93 1781.85 1514.62 Q1785.04 1517.31 1785.04 1521.8 Q1785.04 1523.93 1784.23 1525.85 Q1783.44 1527.74 1781.34 1530.34 Q1780.76 1531.01 1777.66 1534.23 Q1774.55 1537.42 1768.91 1543.18 Z\" fill=\"#000000\" fill-rule=\"evenodd\" fill-opacity=\"1\" /><path clip-path=\"url(#clip130)\" d=\"M 0 0 M1790.34 1512.56 L1808.7 1512.56 L1808.7 1516.5 L1794.62 1516.5 L1794.62 1524.97 Q1795.64 1524.62 1796.66 1524.46 Q1797.68 1524.27 1798.7 1524.27 Q1804.48 1524.27 1807.86 1527.44 Q1811.24 1530.62 1811.24 1536.03 Q1811.24 1541.61 1807.77 1544.71 Q1804.3 1547.79 1797.98 1547.79 Q1795.8 1547.79 1793.53 1547.42 Q1791.29 1547.05 1788.88 1546.31 L1788.88 1541.61 Q1790.97 1542.74 1793.19 1543.3 Q1795.41 1543.86 1797.89 1543.86 Q1801.89 1543.86 1804.23 1541.75 Q1806.57 1539.64 1806.57 1536.03 Q1806.57 1532.42 1804.23 1530.31 Q1801.89 1528.21 1797.89 1528.21 Q1796.01 1528.21 1794.14 1528.62 Q1792.28 1529.04 1790.34 1529.92 L1790.34 1512.56 Z\" fill=\"#000000\" fill-rule=\"evenodd\" fill-opacity=\"1\" /><path clip-path=\"url(#clip130)\" d=\"M 0 0 M2201.73 1515.64 Q2198.12 1515.64 2196.29 1519.2 Q2194.49 1522.75 2194.49 1529.87 Q2194.49 1536.98 2196.29 1540.55 Q2198.12 1544.09 2201.73 1544.09 Q2205.37 1544.09 2207.17 1540.55 Q2209 1536.98 2209 1529.87 Q2209 1522.75 2207.17 1519.2 Q2205.37 1515.64 2201.73 1515.64 M2201.73 1511.93 Q2207.54 1511.93 2210.6 1516.54 Q2213.68 1521.12 2213.68 1529.87 Q2213.68 1538.6 2210.6 1543.21 Q2207.54 1547.79 2201.73 1547.79 Q2195.92 1547.79 2192.84 1543.21 Q2189.79 1538.6 2189.79 1529.87 Q2189.79 1521.12 2192.84 1516.54 Q2195.92 1511.93 2201.73 1511.93 Z\" fill=\"#000000\" fill-rule=\"evenodd\" fill-opacity=\"1\" /><path clip-path=\"url(#clip130)\" d=\"M 0 0 M2218.75 1541.24 L2223.63 1541.24 L2223.63 1547.12 L2218.75 1547.12 L2218.75 1541.24 Z\" fill=\"#000000\" fill-rule=\"evenodd\" fill-opacity=\"1\" /><path clip-path=\"url(#clip130)\" d=\"M 0 0 M2238.7 1515.64 Q2235.09 1515.64 2233.26 1519.2 Q2231.46 1522.75 2231.46 1529.87 Q2231.46 1536.98 2233.26 1540.55 Q2235.09 1544.09 2238.7 1544.09 Q2242.34 1544.09 2244.14 1540.55 Q2245.97 1536.98 2245.97 1529.87 Q2245.97 1522.75 2244.14 1519.2 Q2242.34 1515.64 2238.7 1515.64 M2238.7 1511.93 Q2244.51 1511.93 2247.57 1516.54 Q2250.65 1521.12 2250.65 1529.87 Q2250.65 1538.6 2247.57 1543.21 Q2244.51 1547.79 2238.7 1547.79 Q2232.89 1547.79 2229.81 1543.21 Q2226.76 1538.6 2226.76 1529.87 Q2226.76 1521.12 2229.81 1516.54 Q2232.89 1511.93 2238.7 1511.93 Z\" fill=\"#000000\" fill-rule=\"evenodd\" fill-opacity=\"1\" /><path clip-path=\"url(#clip130)\" d=\"M 0 0 M2265.71 1515.64 Q2262.1 1515.64 2260.27 1519.2 Q2258.47 1522.75 2258.47 1529.87 Q2258.47 1536.98 2260.27 1540.55 Q2262.1 1544.09 2265.71 1544.09 Q2269.35 1544.09 2271.15 1540.55 Q2272.98 1536.98 2272.98 1529.87 Q2272.98 1522.75 2271.15 1519.2 Q2269.35 1515.64 2265.71 1515.64 M2265.71 1511.93 Q2271.52 1511.93 2274.58 1516.54 Q2277.66 1521.12 2277.66 1529.87 Q2277.66 1538.6 2274.58 1543.21 Q2271.52 1547.79 2265.71 1547.79 Q2259.9 1547.79 2256.83 1543.21 Q2253.77 1538.6 2253.77 1529.87 Q2253.77 1521.12 2256.83 1516.54 Q2259.9 1511.93 2265.71 1511.93 Z\" fill=\"#000000\" fill-rule=\"evenodd\" fill-opacity=\"1\" /><polyline clip-path=\"url(#clip132)\" style=\"stroke:#000000; stroke-width:2; stroke-opacity:0.1; fill:none\" points=\"\n",
       "  188.612,1445.72 2352.76,1445.72 \n",
       "  \"/>\n",
       "<polyline clip-path=\"url(#clip132)\" style=\"stroke:#000000; stroke-width:2; stroke-opacity:0.1; fill:none\" points=\"\n",
       "  188.612,1106.28 2352.76,1106.28 \n",
       "  \"/>\n",
       "<polyline clip-path=\"url(#clip132)\" style=\"stroke:#000000; stroke-width:2; stroke-opacity:0.1; fill:none\" points=\"\n",
       "  188.612,766.846 2352.76,766.846 \n",
       "  \"/>\n",
       "<polyline clip-path=\"url(#clip132)\" style=\"stroke:#000000; stroke-width:2; stroke-opacity:0.1; fill:none\" points=\"\n",
       "  188.612,427.411 2352.76,427.411 \n",
       "  \"/>\n",
       "<polyline clip-path=\"url(#clip132)\" style=\"stroke:#000000; stroke-width:2; stroke-opacity:0.1; fill:none\" points=\"\n",
       "  188.612,87.9763 2352.76,87.9763 \n",
       "  \"/>\n",
       "<polyline clip-path=\"url(#clip130)\" style=\"stroke:#000000; stroke-width:4; stroke-opacity:1; fill:none\" points=\"\n",
       "  188.612,1486.45 188.612,47.2441 \n",
       "  \"/>\n",
       "<polyline clip-path=\"url(#clip130)\" style=\"stroke:#000000; stroke-width:4; stroke-opacity:1; fill:none\" points=\"\n",
       "  188.612,1445.72 214.582,1445.72 \n",
       "  \"/>\n",
       "<polyline clip-path=\"url(#clip130)\" style=\"stroke:#000000; stroke-width:4; stroke-opacity:1; fill:none\" points=\"\n",
       "  188.612,1106.28 214.582,1106.28 \n",
       "  \"/>\n",
       "<polyline clip-path=\"url(#clip130)\" style=\"stroke:#000000; stroke-width:4; stroke-opacity:1; fill:none\" points=\"\n",
       "  188.612,766.846 214.582,766.846 \n",
       "  \"/>\n",
       "<polyline clip-path=\"url(#clip130)\" style=\"stroke:#000000; stroke-width:4; stroke-opacity:1; fill:none\" points=\"\n",
       "  188.612,427.411 214.582,427.411 \n",
       "  \"/>\n",
       "<polyline clip-path=\"url(#clip130)\" style=\"stroke:#000000; stroke-width:4; stroke-opacity:1; fill:none\" points=\"\n",
       "  188.612,87.9763 214.582,87.9763 \n",
       "  \"/>\n",
       "<path clip-path=\"url(#clip130)\" d=\"M 0 0 M140.668 1431.51 Q137.056 1431.51 135.228 1435.08 Q133.422 1438.62 133.422 1445.75 Q133.422 1452.86 135.228 1456.42 Q137.056 1459.96 140.668 1459.96 Q144.302 1459.96 146.107 1456.42 Q147.936 1452.86 147.936 1445.75 Q147.936 1438.62 146.107 1435.08 Q144.302 1431.51 140.668 1431.51 M140.668 1427.81 Q146.478 1427.81 149.533 1432.42 Q152.612 1437 152.612 1445.75 Q152.612 1454.48 149.533 1459.08 Q146.478 1463.67 140.668 1463.67 Q134.857 1463.67 131.779 1459.08 Q128.723 1454.48 128.723 1445.75 Q128.723 1437 131.779 1432.42 Q134.857 1427.81 140.668 1427.81 Z\" fill=\"#000000\" fill-rule=\"evenodd\" fill-opacity=\"1\" /><path clip-path=\"url(#clip130)\" d=\"M 0 0 M83.2605 1119.63 L99.5798 1119.63 L99.5798 1123.56 L77.6355 1123.56 L77.6355 1119.63 Q80.2975 1116.87 84.8808 1112.24 Q89.4873 1107.59 90.6678 1106.25 Q92.9132 1103.72 93.7928 1101.99 Q94.6956 1100.23 94.6956 1098.54 Q94.6956 1095.78 92.7512 1094.05 Q90.8299 1092.31 87.728 1092.31 Q85.529 1092.31 83.0753 1093.07 Q80.6447 1093.84 77.867 1095.39 L77.867 1090.67 Q80.691 1089.53 83.1447 1088.95 Q85.5984 1088.38 87.6354 1088.38 Q93.0058 1088.38 96.2002 1091.06 Q99.3946 1093.75 99.3946 1098.24 Q99.3946 1100.37 98.5845 1102.29 Q97.7974 1104.19 95.691 1106.78 Q95.1123 1107.45 92.0104 1110.67 Q88.9086 1113.86 83.2605 1119.63 Z\" fill=\"#000000\" fill-rule=\"evenodd\" fill-opacity=\"1\" /><path clip-path=\"url(#clip130)\" d=\"M 0 0 M104.696 1089 L123.052 1089 L123.052 1092.94 L108.978 1092.94 L108.978 1101.41 Q109.996 1101.06 111.015 1100.9 Q112.033 1100.71 113.052 1100.71 Q118.839 1100.71 122.219 1103.89 Q125.598 1107.06 125.598 1112.47 Q125.598 1118.05 122.126 1121.15 Q118.654 1124.23 112.334 1124.23 Q110.158 1124.23 107.89 1123.86 Q105.645 1123.49 103.237 1122.75 L103.237 1118.05 Q105.321 1119.19 107.543 1119.74 Q109.765 1120.3 112.242 1120.3 Q116.246 1120.3 118.584 1118.19 Q120.922 1116.08 120.922 1112.47 Q120.922 1108.86 118.584 1106.76 Q116.246 1104.65 112.242 1104.65 Q110.367 1104.65 108.492 1105.07 Q106.64 1105.48 104.696 1106.36 L104.696 1089 Z\" fill=\"#000000\" fill-rule=\"evenodd\" fill-opacity=\"1\" /><path clip-path=\"url(#clip130)\" d=\"M 0 0 M140.668 1092.08 Q137.056 1092.08 135.228 1095.64 Q133.422 1099.19 133.422 1106.32 Q133.422 1113.42 135.228 1116.99 Q137.056 1120.53 140.668 1120.53 Q144.302 1120.53 146.107 1116.99 Q147.936 1113.42 147.936 1106.32 Q147.936 1099.19 146.107 1095.64 Q144.302 1092.08 140.668 1092.08 M140.668 1088.38 Q146.478 1088.38 149.533 1092.98 Q152.612 1097.57 152.612 1106.32 Q152.612 1115.04 149.533 1119.65 Q146.478 1124.23 140.668 1124.23 Q134.857 1124.23 131.779 1119.65 Q128.723 1115.04 128.723 1106.32 Q128.723 1097.57 131.779 1092.98 Q134.857 1088.38 140.668 1088.38 Z\" fill=\"#000000\" fill-rule=\"evenodd\" fill-opacity=\"1\" /><path clip-path=\"url(#clip130)\" d=\"M 0 0 M77.6818 749.566 L96.0382 749.566 L96.0382 753.501 L81.9642 753.501 L81.9642 761.973 Q82.9827 761.626 84.0012 761.464 Q85.0197 761.279 86.0382 761.279 Q91.8252 761.279 95.2049 764.45 Q98.5845 767.621 98.5845 773.038 Q98.5845 778.617 95.1123 781.719 Q91.6401 784.797 85.3206 784.797 Q83.1447 784.797 80.8762 784.427 Q78.6309 784.057 76.2235 783.316 L76.2235 778.617 Q78.3068 779.751 80.529 780.307 Q82.7512 780.862 85.2281 780.862 Q89.2327 780.862 91.5706 778.756 Q93.9086 776.649 93.9086 773.038 Q93.9086 769.427 91.5706 767.321 Q89.2327 765.214 85.2281 765.214 Q83.3531 765.214 81.4781 765.631 Q79.6262 766.047 77.6818 766.927 L77.6818 749.566 Z\" fill=\"#000000\" fill-rule=\"evenodd\" fill-opacity=\"1\" /><path clip-path=\"url(#clip130)\" d=\"M 0 0 M113.654 752.645 Q110.043 752.645 108.214 756.209 Q106.408 759.751 106.408 766.881 Q106.408 773.987 108.214 777.552 Q110.043 781.094 113.654 781.094 Q117.288 781.094 119.094 777.552 Q120.922 773.987 120.922 766.881 Q120.922 759.751 119.094 756.209 Q117.288 752.645 113.654 752.645 M113.654 748.941 Q119.464 748.941 122.52 753.547 Q125.598 758.131 125.598 766.881 Q125.598 775.608 122.52 780.214 Q119.464 784.797 113.654 784.797 Q107.844 784.797 104.765 780.214 Q101.709 775.608 101.709 766.881 Q101.709 758.131 104.765 753.547 Q107.844 748.941 113.654 748.941 Z\" fill=\"#000000\" fill-rule=\"evenodd\" fill-opacity=\"1\" /><path clip-path=\"url(#clip130)\" d=\"M 0 0 M140.668 752.645 Q137.056 752.645 135.228 756.209 Q133.422 759.751 133.422 766.881 Q133.422 773.987 135.228 777.552 Q137.056 781.094 140.668 781.094 Q144.302 781.094 146.107 777.552 Q147.936 773.987 147.936 766.881 Q147.936 759.751 146.107 756.209 Q144.302 752.645 140.668 752.645 M140.668 748.941 Q146.478 748.941 149.533 753.547 Q152.612 758.131 152.612 766.881 Q152.612 775.608 149.533 780.214 Q146.478 784.797 140.668 784.797 Q134.857 784.797 131.779 780.214 Q128.723 775.608 128.723 766.881 Q128.723 758.131 131.779 753.547 Q134.857 748.941 140.668 748.941 Z\" fill=\"#000000\" fill-rule=\"evenodd\" fill-opacity=\"1\" /><path clip-path=\"url(#clip130)\" d=\"M 0 0 M77.3577 410.131 L99.5798 410.131 L99.5798 412.122 L87.0336 444.691 L82.1494 444.691 L93.9549 414.066 L77.3577 414.066 L77.3577 410.131 Z\" fill=\"#000000\" fill-rule=\"evenodd\" fill-opacity=\"1\" /><path clip-path=\"url(#clip130)\" d=\"M 0 0 M104.696 410.131 L123.052 410.131 L123.052 414.066 L108.978 414.066 L108.978 422.538 Q109.996 422.191 111.015 422.029 Q112.033 421.844 113.052 421.844 Q118.839 421.844 122.219 425.015 Q125.598 428.187 125.598 433.603 Q125.598 439.182 122.126 442.284 Q118.654 445.362 112.334 445.362 Q110.158 445.362 107.89 444.992 Q105.645 444.622 103.237 443.881 L103.237 439.182 Q105.321 440.316 107.543 440.872 Q109.765 441.427 112.242 441.427 Q116.246 441.427 118.584 439.321 Q120.922 437.214 120.922 433.603 Q120.922 429.992 118.584 427.886 Q116.246 425.779 112.242 425.779 Q110.367 425.779 108.492 426.196 Q106.64 426.613 104.696 427.492 L104.696 410.131 Z\" fill=\"#000000\" fill-rule=\"evenodd\" fill-opacity=\"1\" /><path clip-path=\"url(#clip130)\" d=\"M 0 0 M140.668 413.21 Q137.056 413.21 135.228 416.775 Q133.422 420.316 133.422 427.446 Q133.422 434.552 135.228 438.117 Q137.056 441.659 140.668 441.659 Q144.302 441.659 146.107 438.117 Q147.936 434.552 147.936 427.446 Q147.936 420.316 146.107 416.775 Q144.302 413.21 140.668 413.21 M140.668 409.506 Q146.478 409.506 149.533 414.113 Q152.612 418.696 152.612 427.446 Q152.612 436.173 149.533 440.779 Q146.478 445.362 140.668 445.362 Q134.857 445.362 131.779 440.779 Q128.723 436.173 128.723 427.446 Q128.723 418.696 131.779 414.113 Q134.857 409.506 140.668 409.506 Z\" fill=\"#000000\" fill-rule=\"evenodd\" fill-opacity=\"1\" /><path clip-path=\"url(#clip130)\" d=\"M 0 0 M51.6634 101.321 L59.3023 101.321 L59.3023 74.9555 L50.9921 76.6222 L50.9921 72.3629 L59.256 70.6963 L63.9319 70.6963 L63.9319 101.321 L71.5707 101.321 L71.5707 105.256 L51.6634 105.256 L51.6634 101.321 Z\" fill=\"#000000\" fill-rule=\"evenodd\" fill-opacity=\"1\" /><path clip-path=\"url(#clip130)\" d=\"M 0 0 M86.6401 73.775 Q83.029 73.775 81.2003 77.3398 Q79.3948 80.8814 79.3948 88.011 Q79.3948 95.1174 81.2003 98.6822 Q83.029 102.224 86.6401 102.224 Q90.2743 102.224 92.0799 98.6822 Q93.9086 95.1174 93.9086 88.011 Q93.9086 80.8814 92.0799 77.3398 Q90.2743 73.775 86.6401 73.775 M86.6401 70.0713 Q92.4502 70.0713 95.5058 74.6777 Q98.5845 79.261 98.5845 88.011 Q98.5845 96.7378 95.5058 101.344 Q92.4502 105.928 86.6401 105.928 Q80.8299 105.928 77.7512 101.344 Q74.6957 96.7378 74.6957 88.011 Q74.6957 79.261 77.7512 74.6777 Q80.8299 70.0713 86.6401 70.0713 Z\" fill=\"#000000\" fill-rule=\"evenodd\" fill-opacity=\"1\" /><path clip-path=\"url(#clip130)\" d=\"M 0 0 M113.654 73.775 Q110.043 73.775 108.214 77.3398 Q106.408 80.8814 106.408 88.011 Q106.408 95.1174 108.214 98.6822 Q110.043 102.224 113.654 102.224 Q117.288 102.224 119.094 98.6822 Q120.922 95.1174 120.922 88.011 Q120.922 80.8814 119.094 77.3398 Q117.288 73.775 113.654 73.775 M113.654 70.0713 Q119.464 70.0713 122.52 74.6777 Q125.598 79.261 125.598 88.011 Q125.598 96.7378 122.52 101.344 Q119.464 105.928 113.654 105.928 Q107.844 105.928 104.765 101.344 Q101.709 96.7378 101.709 88.011 Q101.709 79.261 104.765 74.6777 Q107.844 70.0713 113.654 70.0713 Z\" fill=\"#000000\" fill-rule=\"evenodd\" fill-opacity=\"1\" /><path clip-path=\"url(#clip130)\" d=\"M 0 0 M140.668 73.775 Q137.056 73.775 135.228 77.3398 Q133.422 80.8814 133.422 88.011 Q133.422 95.1174 135.228 98.6822 Q137.056 102.224 140.668 102.224 Q144.302 102.224 146.107 98.6822 Q147.936 95.1174 147.936 88.011 Q147.936 80.8814 146.107 77.3398 Q144.302 73.775 140.668 73.775 M140.668 70.0713 Q146.478 70.0713 149.533 74.6777 Q152.612 79.261 152.612 88.011 Q152.612 96.7378 149.533 101.344 Q146.478 105.928 140.668 105.928 Q134.857 105.928 131.779 101.344 Q128.723 96.7378 128.723 88.011 Q128.723 79.261 131.779 74.6777 Q134.857 70.0713 140.668 70.0713 Z\" fill=\"#000000\" fill-rule=\"evenodd\" fill-opacity=\"1\" /><path clip-path=\"url(#clip132)\" d=\"\n",
       "M307.644 87.9763 L307.644 1445.72 L2233.72 1445.72 L2233.72 87.9763 L307.644 87.9763 L307.644 87.9763  Z\n",
       "  \" fill=\"#009af9\" fill-rule=\"evenodd\" fill-opacity=\"1\"/>\n",
       "<polyline clip-path=\"url(#clip132)\" style=\"stroke:#000000; stroke-width:4; stroke-opacity:1; fill:none\" points=\"\n",
       "  307.644,87.9763 307.644,1445.72 2233.72,1445.72 2233.72,87.9763 307.644,87.9763 \n",
       "  \"/>\n",
       "<path clip-path=\"url(#clip130)\" d=\"\n",
       "M1989.14 216.178 L2280.62 216.178 L2280.62 95.2176 L1989.14 95.2176  Z\n",
       "  \" fill=\"#ffffff\" fill-rule=\"evenodd\" fill-opacity=\"1\"/>\n",
       "<polyline clip-path=\"url(#clip130)\" style=\"stroke:#000000; stroke-width:4; stroke-opacity:1; fill:none\" points=\"\n",
       "  1989.14,216.178 2280.62,216.178 2280.62,95.2176 1989.14,95.2176 1989.14,216.178 \n",
       "  \"/>\n",
       "<path clip-path=\"url(#clip130)\" d=\"\n",
       "M2013.19 179.89 L2157.46 179.89 L2157.46 131.506 L2013.19 131.506 L2013.19 179.89  Z\n",
       "  \" fill=\"#009af9\" fill-rule=\"evenodd\" fill-opacity=\"1\"/>\n",
       "<polyline clip-path=\"url(#clip130)\" style=\"stroke:#000000; stroke-width:4; stroke-opacity:1; fill:none\" points=\"\n",
       "  2013.19,179.89 2157.46,179.89 2157.46,131.506 2013.19,131.506 2013.19,179.89 \n",
       "  \"/>\n",
       "<path clip-path=\"url(#clip130)\" d=\"M 0 0 M2195.35 175.385 Q2193.54 180.015 2191.83 181.427 Q2190.12 182.839 2187.25 182.839 L2183.85 182.839 L2183.85 179.274 L2186.35 179.274 Q2188.1 179.274 2189.08 178.44 Q2190.05 177.607 2191.23 174.505 L2191.99 172.561 L2181.51 147.052 L2186.02 147.052 L2194.12 167.329 L2202.22 147.052 L2206.74 147.052 L2195.35 175.385 Z\" fill=\"#000000\" fill-rule=\"evenodd\" fill-opacity=\"1\" /><path clip-path=\"url(#clip130)\" d=\"M 0 0 M2212.62 169.042 L2220.26 169.042 L2220.26 142.677 L2211.95 144.343 L2211.95 140.084 L2220.21 138.418 L2224.89 138.418 L2224.89 169.042 L2232.53 169.042 L2232.53 172.978 L2212.62 172.978 L2212.62 169.042 Z\" fill=\"#000000\" fill-rule=\"evenodd\" fill-opacity=\"1\" /></svg>\n"
      ]
     },
     "execution_count": 441,
     "metadata": {},
     "output_type": "execute_result"
    }
   ],
   "source": [
    "m  = agent(JACK, true)\n",
    "chains = sample(m, IS(), 1000 , n_chains=1)\n",
    "histogram(generated_quantities(m, chains))"
   ]
  },
  {
   "cell_type": "code",
   "execution_count": 442,
   "metadata": {},
   "outputs": [
    {
     "data": {
      "image/svg+xml": [
       "<?xml version=\"1.0\" encoding=\"utf-8\"?>\n",
       "<svg xmlns=\"http://www.w3.org/2000/svg\" xmlns:xlink=\"http://www.w3.org/1999/xlink\" width=\"600\" height=\"400\" viewBox=\"0 0 2400 1600\">\n",
       "<defs>\n",
       "  <clipPath id=\"clip170\">\n",
       "    <rect x=\"0\" y=\"0\" width=\"2400\" height=\"1600\"/>\n",
       "  </clipPath>\n",
       "</defs>\n",
       "<path clip-path=\"url(#clip170)\" d=\"\n",
       "M0 1600 L2400 1600 L2400 0 L0 0  Z\n",
       "  \" fill=\"#ffffff\" fill-rule=\"evenodd\" fill-opacity=\"1\"/>\n",
       "<defs>\n",
       "  <clipPath id=\"clip171\">\n",
       "    <rect x=\"480\" y=\"0\" width=\"1681\" height=\"1600\"/>\n",
       "  </clipPath>\n",
       "</defs>\n",
       "<path clip-path=\"url(#clip170)\" d=\"\n",
       "M188.612 1486.45 L2352.76 1486.45 L2352.76 47.2441 L188.612 47.2441  Z\n",
       "  \" fill=\"#ffffff\" fill-rule=\"evenodd\" fill-opacity=\"1\"/>\n",
       "<defs>\n",
       "  <clipPath id=\"clip172\">\n",
       "    <rect x=\"188\" y=\"47\" width=\"2165\" height=\"1440\"/>\n",
       "  </clipPath>\n",
       "</defs>\n",
       "<polyline clip-path=\"url(#clip172)\" style=\"stroke:#000000; stroke-width:2; stroke-opacity:0.1; fill:none\" points=\"\n",
       "  307.644,1486.45 307.644,47.2441 \n",
       "  \"/>\n",
       "<polyline clip-path=\"url(#clip172)\" style=\"stroke:#000000; stroke-width:2; stroke-opacity:0.1; fill:none\" points=\"\n",
       "  789.164,1486.45 789.164,47.2441 \n",
       "  \"/>\n",
       "<polyline clip-path=\"url(#clip172)\" style=\"stroke:#000000; stroke-width:2; stroke-opacity:0.1; fill:none\" points=\"\n",
       "  1270.68,1486.45 1270.68,47.2441 \n",
       "  \"/>\n",
       "<polyline clip-path=\"url(#clip172)\" style=\"stroke:#000000; stroke-width:2; stroke-opacity:0.1; fill:none\" points=\"\n",
       "  1752.2,1486.45 1752.2,47.2441 \n",
       "  \"/>\n",
       "<polyline clip-path=\"url(#clip172)\" style=\"stroke:#000000; stroke-width:2; stroke-opacity:0.1; fill:none\" points=\"\n",
       "  2233.72,1486.45 2233.72,47.2441 \n",
       "  \"/>\n",
       "<polyline clip-path=\"url(#clip170)\" style=\"stroke:#000000; stroke-width:4; stroke-opacity:1; fill:none\" points=\"\n",
       "  188.612,1486.45 2352.76,1486.45 \n",
       "  \"/>\n",
       "<polyline clip-path=\"url(#clip170)\" style=\"stroke:#000000; stroke-width:4; stroke-opacity:1; fill:none\" points=\"\n",
       "  307.644,1486.45 307.644,1469.18 \n",
       "  \"/>\n",
       "<polyline clip-path=\"url(#clip170)\" style=\"stroke:#000000; stroke-width:4; stroke-opacity:1; fill:none\" points=\"\n",
       "  789.164,1486.45 789.164,1469.18 \n",
       "  \"/>\n",
       "<polyline clip-path=\"url(#clip170)\" style=\"stroke:#000000; stroke-width:4; stroke-opacity:1; fill:none\" points=\"\n",
       "  1270.68,1486.45 1270.68,1469.18 \n",
       "  \"/>\n",
       "<polyline clip-path=\"url(#clip170)\" style=\"stroke:#000000; stroke-width:4; stroke-opacity:1; fill:none\" points=\"\n",
       "  1752.2,1486.45 1752.2,1469.18 \n",
       "  \"/>\n",
       "<polyline clip-path=\"url(#clip170)\" style=\"stroke:#000000; stroke-width:4; stroke-opacity:1; fill:none\" points=\"\n",
       "  2233.72,1486.45 2233.72,1469.18 \n",
       "  \"/>\n",
       "<path clip-path=\"url(#clip170)\" d=\"M 0 0 M275.653 1515.64 Q272.042 1515.64 270.213 1519.2 Q268.408 1522.75 268.408 1529.87 Q268.408 1536.98 270.213 1540.55 Q272.042 1544.09 275.653 1544.09 Q279.287 1544.09 281.093 1540.55 Q282.922 1536.98 282.922 1529.87 Q282.922 1522.75 281.093 1519.2 Q279.287 1515.64 275.653 1515.64 M275.653 1511.93 Q281.463 1511.93 284.519 1516.54 Q287.598 1521.12 287.598 1529.87 Q287.598 1538.6 284.519 1543.21 Q281.463 1547.79 275.653 1547.79 Q269.843 1547.79 266.764 1543.21 Q263.709 1538.6 263.709 1529.87 Q263.709 1521.12 266.764 1516.54 Q269.843 1511.93 275.653 1511.93 Z\" fill=\"#000000\" fill-rule=\"evenodd\" fill-opacity=\"1\" /><path clip-path=\"url(#clip170)\" d=\"M 0 0 M292.667 1541.24 L297.551 1541.24 L297.551 1547.12 L292.667 1547.12 L292.667 1541.24 Z\" fill=\"#000000\" fill-rule=\"evenodd\" fill-opacity=\"1\" /><path clip-path=\"url(#clip170)\" d=\"M 0 0 M312.621 1515.64 Q309.009 1515.64 307.181 1519.2 Q305.375 1522.75 305.375 1529.87 Q305.375 1536.98 307.181 1540.55 Q309.009 1544.09 312.621 1544.09 Q316.255 1544.09 318.06 1540.55 Q319.889 1536.98 319.889 1529.87 Q319.889 1522.75 318.06 1519.2 Q316.255 1515.64 312.621 1515.64 M312.621 1511.93 Q318.431 1511.93 321.486 1516.54 Q324.565 1521.12 324.565 1529.87 Q324.565 1538.6 321.486 1543.21 Q318.431 1547.79 312.621 1547.79 Q306.81 1547.79 303.732 1543.21 Q300.676 1538.6 300.676 1529.87 Q300.676 1521.12 303.732 1516.54 Q306.81 1511.93 312.621 1511.93 Z\" fill=\"#000000\" fill-rule=\"evenodd\" fill-opacity=\"1\" /><path clip-path=\"url(#clip170)\" d=\"M 0 0 M339.634 1515.64 Q336.023 1515.64 334.195 1519.2 Q332.389 1522.75 332.389 1529.87 Q332.389 1536.98 334.195 1540.55 Q336.023 1544.09 339.634 1544.09 Q343.269 1544.09 345.074 1540.55 Q346.903 1536.98 346.903 1529.87 Q346.903 1522.75 345.074 1519.2 Q343.269 1515.64 339.634 1515.64 M339.634 1511.93 Q345.444 1511.93 348.5 1516.54 Q351.579 1521.12 351.579 1529.87 Q351.579 1538.6 348.5 1543.21 Q345.444 1547.79 339.634 1547.79 Q333.824 1547.79 330.745 1543.21 Q327.69 1538.6 327.69 1529.87 Q327.69 1521.12 330.745 1516.54 Q333.824 1511.93 339.634 1511.93 Z\" fill=\"#000000\" fill-rule=\"evenodd\" fill-opacity=\"1\" /><path clip-path=\"url(#clip170)\" d=\"M 0 0 M758.47 1515.64 Q754.858 1515.64 753.03 1519.2 Q751.224 1522.75 751.224 1529.87 Q751.224 1536.98 753.03 1540.55 Q754.858 1544.09 758.47 1544.09 Q762.104 1544.09 763.909 1540.55 Q765.738 1536.98 765.738 1529.87 Q765.738 1522.75 763.909 1519.2 Q762.104 1515.64 758.47 1515.64 M758.47 1511.93 Q764.28 1511.93 767.335 1516.54 Q770.414 1521.12 770.414 1529.87 Q770.414 1538.6 767.335 1543.21 Q764.28 1547.79 758.47 1547.79 Q752.659 1547.79 749.581 1543.21 Q746.525 1538.6 746.525 1529.87 Q746.525 1521.12 749.581 1516.54 Q752.659 1511.93 758.47 1511.93 Z\" fill=\"#000000\" fill-rule=\"evenodd\" fill-opacity=\"1\" /><path clip-path=\"url(#clip170)\" d=\"M 0 0 M775.483 1541.24 L780.368 1541.24 L780.368 1547.12 L775.483 1547.12 L775.483 1541.24 Z\" fill=\"#000000\" fill-rule=\"evenodd\" fill-opacity=\"1\" /><path clip-path=\"url(#clip170)\" d=\"M 0 0 M789.465 1543.18 L805.784 1543.18 L805.784 1547.12 L783.84 1547.12 L783.84 1543.18 Q786.502 1540.43 791.085 1535.8 Q795.692 1531.15 796.872 1529.81 Q799.117 1527.28 799.997 1525.55 Q800.9 1523.79 800.9 1522.1 Q800.9 1519.34 798.955 1517.61 Q797.034 1515.87 793.932 1515.87 Q791.733 1515.87 789.28 1516.63 Q786.849 1517.4 784.071 1518.95 L784.071 1514.23 Q786.895 1513.09 789.349 1512.51 Q791.803 1511.93 793.84 1511.93 Q799.21 1511.93 802.404 1514.62 Q805.599 1517.31 805.599 1521.8 Q805.599 1523.93 804.789 1525.85 Q804.002 1527.74 801.895 1530.34 Q801.317 1531.01 798.215 1534.23 Q795.113 1537.42 789.465 1543.18 Z\" fill=\"#000000\" fill-rule=\"evenodd\" fill-opacity=\"1\" /><path clip-path=\"url(#clip170)\" d=\"M 0 0 M810.9 1512.56 L829.256 1512.56 L829.256 1516.5 L815.182 1516.5 L815.182 1524.97 Q816.201 1524.62 817.219 1524.46 Q818.238 1524.27 819.256 1524.27 Q825.043 1524.27 828.423 1527.44 Q831.802 1530.62 831.802 1536.03 Q831.802 1541.61 828.33 1544.71 Q824.858 1547.79 818.539 1547.79 Q816.363 1547.79 814.094 1547.42 Q811.849 1547.05 809.441 1546.31 L809.441 1541.61 Q811.525 1542.74 813.747 1543.3 Q815.969 1543.86 818.446 1543.86 Q822.451 1543.86 824.789 1541.75 Q827.127 1539.64 827.127 1536.03 Q827.127 1532.42 824.789 1530.31 Q822.451 1528.21 818.446 1528.21 Q816.571 1528.21 814.696 1528.62 Q812.844 1529.04 810.9 1529.92 L810.9 1512.56 Z\" fill=\"#000000\" fill-rule=\"evenodd\" fill-opacity=\"1\" /><path clip-path=\"url(#clip170)\" d=\"M 0 0 M1239.19 1515.64 Q1235.58 1515.64 1233.75 1519.2 Q1231.95 1522.75 1231.95 1529.87 Q1231.95 1536.98 1233.75 1540.55 Q1235.58 1544.09 1239.19 1544.09 Q1242.83 1544.09 1244.63 1540.55 Q1246.46 1536.98 1246.46 1529.87 Q1246.46 1522.75 1244.63 1519.2 Q1242.83 1515.64 1239.19 1515.64 M1239.19 1511.93 Q1245 1511.93 1248.06 1516.54 Q1251.14 1521.12 1251.14 1529.87 Q1251.14 1538.6 1248.06 1543.21 Q1245 1547.79 1239.19 1547.79 Q1233.38 1547.79 1230.3 1543.21 Q1227.25 1538.6 1227.25 1529.87 Q1227.25 1521.12 1230.3 1516.54 Q1233.38 1511.93 1239.19 1511.93 Z\" fill=\"#000000\" fill-rule=\"evenodd\" fill-opacity=\"1\" /><path clip-path=\"url(#clip170)\" d=\"M 0 0 M1256.2 1541.24 L1261.09 1541.24 L1261.09 1547.12 L1256.2 1547.12 L1256.2 1541.24 Z\" fill=\"#000000\" fill-rule=\"evenodd\" fill-opacity=\"1\" /><path clip-path=\"url(#clip170)\" d=\"M 0 0 M1266.2 1512.56 L1284.56 1512.56 L1284.56 1516.5 L1270.49 1516.5 L1270.49 1524.97 Q1271.51 1524.62 1272.52 1524.46 Q1273.54 1524.27 1274.56 1524.27 Q1280.35 1524.27 1283.73 1527.44 Q1287.11 1530.62 1287.11 1536.03 Q1287.11 1541.61 1283.64 1544.71 Q1280.16 1547.79 1273.84 1547.79 Q1271.67 1547.79 1269.4 1547.42 Q1267.15 1547.05 1264.75 1546.31 L1264.75 1541.61 Q1266.83 1542.74 1269.05 1543.3 Q1271.27 1543.86 1273.75 1543.86 Q1277.76 1543.86 1280.09 1541.75 Q1282.43 1539.64 1282.43 1536.03 Q1282.43 1532.42 1280.09 1530.31 Q1277.76 1528.21 1273.75 1528.21 Q1271.88 1528.21 1270 1528.62 Q1268.15 1529.04 1266.2 1529.92 L1266.2 1512.56 Z\" fill=\"#000000\" fill-rule=\"evenodd\" fill-opacity=\"1\" /><path clip-path=\"url(#clip170)\" d=\"M 0 0 M1302.18 1515.64 Q1298.57 1515.64 1296.74 1519.2 Q1294.93 1522.75 1294.93 1529.87 Q1294.93 1536.98 1296.74 1540.55 Q1298.57 1544.09 1302.18 1544.09 Q1305.81 1544.09 1307.62 1540.55 Q1309.45 1536.98 1309.45 1529.87 Q1309.45 1522.75 1307.62 1519.2 Q1305.81 1515.64 1302.18 1515.64 M1302.18 1511.93 Q1307.99 1511.93 1311.04 1516.54 Q1314.12 1521.12 1314.12 1529.87 Q1314.12 1538.6 1311.04 1543.21 Q1307.99 1547.79 1302.18 1547.79 Q1296.37 1547.79 1293.29 1543.21 Q1290.23 1538.6 1290.23 1529.87 Q1290.23 1521.12 1293.29 1516.54 Q1296.37 1511.93 1302.18 1511.93 Z\" fill=\"#000000\" fill-rule=\"evenodd\" fill-opacity=\"1\" /><path clip-path=\"url(#clip170)\" d=\"M 0 0 M1721.16 1515.64 Q1717.55 1515.64 1715.72 1519.2 Q1713.92 1522.75 1713.92 1529.87 Q1713.92 1536.98 1715.72 1540.55 Q1717.55 1544.09 1721.16 1544.09 Q1724.8 1544.09 1726.6 1540.55 Q1728.43 1536.98 1728.43 1529.87 Q1728.43 1522.75 1726.6 1519.2 Q1724.8 1515.64 1721.16 1515.64 M1721.16 1511.93 Q1726.97 1511.93 1730.03 1516.54 Q1733.11 1521.12 1733.11 1529.87 Q1733.11 1538.6 1730.03 1543.21 Q1726.97 1547.79 1721.16 1547.79 Q1715.35 1547.79 1712.27 1543.21 Q1709.22 1538.6 1709.22 1529.87 Q1709.22 1521.12 1712.27 1516.54 Q1715.35 1511.93 1721.16 1511.93 Z\" fill=\"#000000\" fill-rule=\"evenodd\" fill-opacity=\"1\" /><path clip-path=\"url(#clip170)\" d=\"M 0 0 M1738.18 1541.24 L1743.06 1541.24 L1743.06 1547.12 L1738.18 1547.12 L1738.18 1541.24 Z\" fill=\"#000000\" fill-rule=\"evenodd\" fill-opacity=\"1\" /><path clip-path=\"url(#clip170)\" d=\"M 0 0 M1746.95 1512.56 L1769.17 1512.56 L1769.17 1514.55 L1756.63 1547.12 L1751.74 1547.12 L1763.55 1516.5 L1746.95 1516.5 L1746.95 1512.56 Z\" fill=\"#000000\" fill-rule=\"evenodd\" fill-opacity=\"1\" /><path clip-path=\"url(#clip170)\" d=\"M 0 0 M1774.29 1512.56 L1792.64 1512.56 L1792.64 1516.5 L1778.57 1516.5 L1778.57 1524.97 Q1779.59 1524.62 1780.61 1524.46 Q1781.63 1524.27 1782.64 1524.27 Q1788.43 1524.27 1791.81 1527.44 Q1795.19 1530.62 1795.19 1536.03 Q1795.19 1541.61 1791.72 1544.71 Q1788.25 1547.79 1781.93 1547.79 Q1779.75 1547.79 1777.48 1547.42 Q1775.24 1547.05 1772.83 1546.31 L1772.83 1541.61 Q1774.91 1542.74 1777.13 1543.3 Q1779.36 1543.86 1781.83 1543.86 Q1785.84 1543.86 1788.18 1541.75 Q1790.51 1539.64 1790.51 1536.03 Q1790.51 1532.42 1788.18 1530.31 Q1785.84 1528.21 1781.83 1528.21 Q1779.96 1528.21 1778.08 1528.62 Q1776.23 1529.04 1774.29 1529.92 L1774.29 1512.56 Z\" fill=\"#000000\" fill-rule=\"evenodd\" fill-opacity=\"1\" /><path clip-path=\"url(#clip170)\" d=\"M 0 0 M2192.12 1543.18 L2199.75 1543.18 L2199.75 1516.82 L2191.44 1518.49 L2191.44 1514.23 L2199.71 1512.56 L2204.38 1512.56 L2204.38 1543.18 L2212.02 1543.18 L2212.02 1547.12 L2192.12 1547.12 L2192.12 1543.18 Z\" fill=\"#000000\" fill-rule=\"evenodd\" fill-opacity=\"1\" /><path clip-path=\"url(#clip170)\" d=\"M 0 0 M2217.09 1541.24 L2221.98 1541.24 L2221.98 1547.12 L2217.09 1547.12 L2217.09 1541.24 Z\" fill=\"#000000\" fill-rule=\"evenodd\" fill-opacity=\"1\" /><path clip-path=\"url(#clip170)\" d=\"M 0 0 M2237.05 1515.64 Q2233.43 1515.64 2231.61 1519.2 Q2229.8 1522.75 2229.8 1529.87 Q2229.8 1536.98 2231.61 1540.55 Q2233.43 1544.09 2237.05 1544.09 Q2240.68 1544.09 2242.49 1540.55 Q2244.31 1536.98 2244.31 1529.87 Q2244.31 1522.75 2242.49 1519.2 Q2240.68 1515.64 2237.05 1515.64 M2237.05 1511.93 Q2242.86 1511.93 2245.91 1516.54 Q2248.99 1521.12 2248.99 1529.87 Q2248.99 1538.6 2245.91 1543.21 Q2242.86 1547.79 2237.05 1547.79 Q2231.24 1547.79 2228.16 1543.21 Q2225.1 1538.6 2225.1 1529.87 Q2225.1 1521.12 2228.16 1516.54 Q2231.24 1511.93 2237.05 1511.93 Z\" fill=\"#000000\" fill-rule=\"evenodd\" fill-opacity=\"1\" /><path clip-path=\"url(#clip170)\" d=\"M 0 0 M2264.06 1515.64 Q2260.45 1515.64 2258.62 1519.2 Q2256.81 1522.75 2256.81 1529.87 Q2256.81 1536.98 2258.62 1540.55 Q2260.45 1544.09 2264.06 1544.09 Q2267.69 1544.09 2269.5 1540.55 Q2271.33 1536.98 2271.33 1529.87 Q2271.33 1522.75 2269.5 1519.2 Q2267.69 1515.64 2264.06 1515.64 M2264.06 1511.93 Q2269.87 1511.93 2272.93 1516.54 Q2276 1521.12 2276 1529.87 Q2276 1538.6 2272.93 1543.21 Q2269.87 1547.79 2264.06 1547.79 Q2258.25 1547.79 2255.17 1543.21 Q2252.12 1538.6 2252.12 1529.87 Q2252.12 1521.12 2255.17 1516.54 Q2258.25 1511.93 2264.06 1511.93 Z\" fill=\"#000000\" fill-rule=\"evenodd\" fill-opacity=\"1\" /><polyline clip-path=\"url(#clip172)\" style=\"stroke:#000000; stroke-width:2; stroke-opacity:0.1; fill:none\" points=\"\n",
       "  188.612,1445.72 2352.76,1445.72 \n",
       "  \"/>\n",
       "<polyline clip-path=\"url(#clip172)\" style=\"stroke:#000000; stroke-width:2; stroke-opacity:0.1; fill:none\" points=\"\n",
       "  188.612,1106.28 2352.76,1106.28 \n",
       "  \"/>\n",
       "<polyline clip-path=\"url(#clip172)\" style=\"stroke:#000000; stroke-width:2; stroke-opacity:0.1; fill:none\" points=\"\n",
       "  188.612,766.846 2352.76,766.846 \n",
       "  \"/>\n",
       "<polyline clip-path=\"url(#clip172)\" style=\"stroke:#000000; stroke-width:2; stroke-opacity:0.1; fill:none\" points=\"\n",
       "  188.612,427.411 2352.76,427.411 \n",
       "  \"/>\n",
       "<polyline clip-path=\"url(#clip172)\" style=\"stroke:#000000; stroke-width:2; stroke-opacity:0.1; fill:none\" points=\"\n",
       "  188.612,87.9763 2352.76,87.9763 \n",
       "  \"/>\n",
       "<polyline clip-path=\"url(#clip170)\" style=\"stroke:#000000; stroke-width:4; stroke-opacity:1; fill:none\" points=\"\n",
       "  188.612,1486.45 188.612,47.2441 \n",
       "  \"/>\n",
       "<polyline clip-path=\"url(#clip170)\" style=\"stroke:#000000; stroke-width:4; stroke-opacity:1; fill:none\" points=\"\n",
       "  188.612,1445.72 214.582,1445.72 \n",
       "  \"/>\n",
       "<polyline clip-path=\"url(#clip170)\" style=\"stroke:#000000; stroke-width:4; stroke-opacity:1; fill:none\" points=\"\n",
       "  188.612,1106.28 214.582,1106.28 \n",
       "  \"/>\n",
       "<polyline clip-path=\"url(#clip170)\" style=\"stroke:#000000; stroke-width:4; stroke-opacity:1; fill:none\" points=\"\n",
       "  188.612,766.846 214.582,766.846 \n",
       "  \"/>\n",
       "<polyline clip-path=\"url(#clip170)\" style=\"stroke:#000000; stroke-width:4; stroke-opacity:1; fill:none\" points=\"\n",
       "  188.612,427.411 214.582,427.411 \n",
       "  \"/>\n",
       "<polyline clip-path=\"url(#clip170)\" style=\"stroke:#000000; stroke-width:4; stroke-opacity:1; fill:none\" points=\"\n",
       "  188.612,87.9763 214.582,87.9763 \n",
       "  \"/>\n",
       "<path clip-path=\"url(#clip170)\" d=\"M 0 0 M140.668 1431.51 Q137.056 1431.51 135.228 1435.08 Q133.422 1438.62 133.422 1445.75 Q133.422 1452.86 135.228 1456.42 Q137.056 1459.96 140.668 1459.96 Q144.302 1459.96 146.107 1456.42 Q147.936 1452.86 147.936 1445.75 Q147.936 1438.62 146.107 1435.08 Q144.302 1431.51 140.668 1431.51 M140.668 1427.81 Q146.478 1427.81 149.533 1432.42 Q152.612 1437 152.612 1445.75 Q152.612 1454.48 149.533 1459.08 Q146.478 1463.67 140.668 1463.67 Q134.857 1463.67 131.779 1459.08 Q128.723 1454.48 128.723 1445.75 Q128.723 1437 131.779 1432.42 Q134.857 1427.81 140.668 1427.81 Z\" fill=\"#000000\" fill-rule=\"evenodd\" fill-opacity=\"1\" /><path clip-path=\"url(#clip170)\" d=\"M 0 0 M83.2605 1119.63 L99.5798 1119.63 L99.5798 1123.56 L77.6355 1123.56 L77.6355 1119.63 Q80.2975 1116.87 84.8808 1112.24 Q89.4873 1107.59 90.6678 1106.25 Q92.9132 1103.72 93.7928 1101.99 Q94.6956 1100.23 94.6956 1098.54 Q94.6956 1095.78 92.7512 1094.05 Q90.8299 1092.31 87.728 1092.31 Q85.529 1092.31 83.0753 1093.07 Q80.6447 1093.84 77.867 1095.39 L77.867 1090.67 Q80.691 1089.53 83.1447 1088.95 Q85.5984 1088.38 87.6354 1088.38 Q93.0058 1088.38 96.2002 1091.06 Q99.3946 1093.75 99.3946 1098.24 Q99.3946 1100.37 98.5845 1102.29 Q97.7974 1104.19 95.691 1106.78 Q95.1123 1107.45 92.0104 1110.67 Q88.9086 1113.86 83.2605 1119.63 Z\" fill=\"#000000\" fill-rule=\"evenodd\" fill-opacity=\"1\" /><path clip-path=\"url(#clip170)\" d=\"M 0 0 M104.696 1089 L123.052 1089 L123.052 1092.94 L108.978 1092.94 L108.978 1101.41 Q109.996 1101.06 111.015 1100.9 Q112.033 1100.71 113.052 1100.71 Q118.839 1100.71 122.219 1103.89 Q125.598 1107.06 125.598 1112.47 Q125.598 1118.05 122.126 1121.15 Q118.654 1124.23 112.334 1124.23 Q110.158 1124.23 107.89 1123.86 Q105.645 1123.49 103.237 1122.75 L103.237 1118.05 Q105.321 1119.19 107.543 1119.74 Q109.765 1120.3 112.242 1120.3 Q116.246 1120.3 118.584 1118.19 Q120.922 1116.08 120.922 1112.47 Q120.922 1108.86 118.584 1106.76 Q116.246 1104.65 112.242 1104.65 Q110.367 1104.65 108.492 1105.07 Q106.64 1105.48 104.696 1106.36 L104.696 1089 Z\" fill=\"#000000\" fill-rule=\"evenodd\" fill-opacity=\"1\" /><path clip-path=\"url(#clip170)\" d=\"M 0 0 M140.668 1092.08 Q137.056 1092.08 135.228 1095.64 Q133.422 1099.19 133.422 1106.32 Q133.422 1113.42 135.228 1116.99 Q137.056 1120.53 140.668 1120.53 Q144.302 1120.53 146.107 1116.99 Q147.936 1113.42 147.936 1106.32 Q147.936 1099.19 146.107 1095.64 Q144.302 1092.08 140.668 1092.08 M140.668 1088.38 Q146.478 1088.38 149.533 1092.98 Q152.612 1097.57 152.612 1106.32 Q152.612 1115.04 149.533 1119.65 Q146.478 1124.23 140.668 1124.23 Q134.857 1124.23 131.779 1119.65 Q128.723 1115.04 128.723 1106.32 Q128.723 1097.57 131.779 1092.98 Q134.857 1088.38 140.668 1088.38 Z\" fill=\"#000000\" fill-rule=\"evenodd\" fill-opacity=\"1\" /><path clip-path=\"url(#clip170)\" d=\"M 0 0 M77.6818 749.566 L96.0382 749.566 L96.0382 753.501 L81.9642 753.501 L81.9642 761.973 Q82.9827 761.626 84.0012 761.464 Q85.0197 761.279 86.0382 761.279 Q91.8252 761.279 95.2049 764.45 Q98.5845 767.621 98.5845 773.038 Q98.5845 778.617 95.1123 781.719 Q91.6401 784.797 85.3206 784.797 Q83.1447 784.797 80.8762 784.427 Q78.6309 784.057 76.2235 783.316 L76.2235 778.617 Q78.3068 779.751 80.529 780.307 Q82.7512 780.862 85.2281 780.862 Q89.2327 780.862 91.5706 778.756 Q93.9086 776.649 93.9086 773.038 Q93.9086 769.427 91.5706 767.321 Q89.2327 765.214 85.2281 765.214 Q83.3531 765.214 81.4781 765.631 Q79.6262 766.047 77.6818 766.927 L77.6818 749.566 Z\" fill=\"#000000\" fill-rule=\"evenodd\" fill-opacity=\"1\" /><path clip-path=\"url(#clip170)\" d=\"M 0 0 M113.654 752.645 Q110.043 752.645 108.214 756.209 Q106.408 759.751 106.408 766.881 Q106.408 773.987 108.214 777.552 Q110.043 781.094 113.654 781.094 Q117.288 781.094 119.094 777.552 Q120.922 773.987 120.922 766.881 Q120.922 759.751 119.094 756.209 Q117.288 752.645 113.654 752.645 M113.654 748.941 Q119.464 748.941 122.52 753.547 Q125.598 758.131 125.598 766.881 Q125.598 775.608 122.52 780.214 Q119.464 784.797 113.654 784.797 Q107.844 784.797 104.765 780.214 Q101.709 775.608 101.709 766.881 Q101.709 758.131 104.765 753.547 Q107.844 748.941 113.654 748.941 Z\" fill=\"#000000\" fill-rule=\"evenodd\" fill-opacity=\"1\" /><path clip-path=\"url(#clip170)\" d=\"M 0 0 M140.668 752.645 Q137.056 752.645 135.228 756.209 Q133.422 759.751 133.422 766.881 Q133.422 773.987 135.228 777.552 Q137.056 781.094 140.668 781.094 Q144.302 781.094 146.107 777.552 Q147.936 773.987 147.936 766.881 Q147.936 759.751 146.107 756.209 Q144.302 752.645 140.668 752.645 M140.668 748.941 Q146.478 748.941 149.533 753.547 Q152.612 758.131 152.612 766.881 Q152.612 775.608 149.533 780.214 Q146.478 784.797 140.668 784.797 Q134.857 784.797 131.779 780.214 Q128.723 775.608 128.723 766.881 Q128.723 758.131 131.779 753.547 Q134.857 748.941 140.668 748.941 Z\" fill=\"#000000\" fill-rule=\"evenodd\" fill-opacity=\"1\" /><path clip-path=\"url(#clip170)\" d=\"M 0 0 M77.3577 410.131 L99.5798 410.131 L99.5798 412.122 L87.0336 444.691 L82.1494 444.691 L93.9549 414.066 L77.3577 414.066 L77.3577 410.131 Z\" fill=\"#000000\" fill-rule=\"evenodd\" fill-opacity=\"1\" /><path clip-path=\"url(#clip170)\" d=\"M 0 0 M104.696 410.131 L123.052 410.131 L123.052 414.066 L108.978 414.066 L108.978 422.538 Q109.996 422.191 111.015 422.029 Q112.033 421.844 113.052 421.844 Q118.839 421.844 122.219 425.015 Q125.598 428.187 125.598 433.603 Q125.598 439.182 122.126 442.284 Q118.654 445.362 112.334 445.362 Q110.158 445.362 107.89 444.992 Q105.645 444.622 103.237 443.881 L103.237 439.182 Q105.321 440.316 107.543 440.872 Q109.765 441.427 112.242 441.427 Q116.246 441.427 118.584 439.321 Q120.922 437.214 120.922 433.603 Q120.922 429.992 118.584 427.886 Q116.246 425.779 112.242 425.779 Q110.367 425.779 108.492 426.196 Q106.64 426.613 104.696 427.492 L104.696 410.131 Z\" fill=\"#000000\" fill-rule=\"evenodd\" fill-opacity=\"1\" /><path clip-path=\"url(#clip170)\" d=\"M 0 0 M140.668 413.21 Q137.056 413.21 135.228 416.775 Q133.422 420.316 133.422 427.446 Q133.422 434.552 135.228 438.117 Q137.056 441.659 140.668 441.659 Q144.302 441.659 146.107 438.117 Q147.936 434.552 147.936 427.446 Q147.936 420.316 146.107 416.775 Q144.302 413.21 140.668 413.21 M140.668 409.506 Q146.478 409.506 149.533 414.113 Q152.612 418.696 152.612 427.446 Q152.612 436.173 149.533 440.779 Q146.478 445.362 140.668 445.362 Q134.857 445.362 131.779 440.779 Q128.723 436.173 128.723 427.446 Q128.723 418.696 131.779 414.113 Q134.857 409.506 140.668 409.506 Z\" fill=\"#000000\" fill-rule=\"evenodd\" fill-opacity=\"1\" /><path clip-path=\"url(#clip170)\" d=\"M 0 0 M51.6634 101.321 L59.3023 101.321 L59.3023 74.9555 L50.9921 76.6222 L50.9921 72.3629 L59.256 70.6963 L63.9319 70.6963 L63.9319 101.321 L71.5707 101.321 L71.5707 105.256 L51.6634 105.256 L51.6634 101.321 Z\" fill=\"#000000\" fill-rule=\"evenodd\" fill-opacity=\"1\" /><path clip-path=\"url(#clip170)\" d=\"M 0 0 M86.6401 73.775 Q83.029 73.775 81.2003 77.3398 Q79.3948 80.8814 79.3948 88.011 Q79.3948 95.1174 81.2003 98.6822 Q83.029 102.224 86.6401 102.224 Q90.2743 102.224 92.0799 98.6822 Q93.9086 95.1174 93.9086 88.011 Q93.9086 80.8814 92.0799 77.3398 Q90.2743 73.775 86.6401 73.775 M86.6401 70.0713 Q92.4502 70.0713 95.5058 74.6777 Q98.5845 79.261 98.5845 88.011 Q98.5845 96.7378 95.5058 101.344 Q92.4502 105.928 86.6401 105.928 Q80.8299 105.928 77.7512 101.344 Q74.6957 96.7378 74.6957 88.011 Q74.6957 79.261 77.7512 74.6777 Q80.8299 70.0713 86.6401 70.0713 Z\" fill=\"#000000\" fill-rule=\"evenodd\" fill-opacity=\"1\" /><path clip-path=\"url(#clip170)\" d=\"M 0 0 M113.654 73.775 Q110.043 73.775 108.214 77.3398 Q106.408 80.8814 106.408 88.011 Q106.408 95.1174 108.214 98.6822 Q110.043 102.224 113.654 102.224 Q117.288 102.224 119.094 98.6822 Q120.922 95.1174 120.922 88.011 Q120.922 80.8814 119.094 77.3398 Q117.288 73.775 113.654 73.775 M113.654 70.0713 Q119.464 70.0713 122.52 74.6777 Q125.598 79.261 125.598 88.011 Q125.598 96.7378 122.52 101.344 Q119.464 105.928 113.654 105.928 Q107.844 105.928 104.765 101.344 Q101.709 96.7378 101.709 88.011 Q101.709 79.261 104.765 74.6777 Q107.844 70.0713 113.654 70.0713 Z\" fill=\"#000000\" fill-rule=\"evenodd\" fill-opacity=\"1\" /><path clip-path=\"url(#clip170)\" d=\"M 0 0 M140.668 73.775 Q137.056 73.775 135.228 77.3398 Q133.422 80.8814 133.422 88.011 Q133.422 95.1174 135.228 98.6822 Q137.056 102.224 140.668 102.224 Q144.302 102.224 146.107 98.6822 Q147.936 95.1174 147.936 88.011 Q147.936 80.8814 146.107 77.3398 Q144.302 73.775 140.668 73.775 M140.668 70.0713 Q146.478 70.0713 149.533 74.6777 Q152.612 79.261 152.612 88.011 Q152.612 96.7378 149.533 101.344 Q146.478 105.928 140.668 105.928 Q134.857 105.928 131.779 101.344 Q128.723 96.7378 128.723 88.011 Q128.723 79.261 131.779 74.6777 Q134.857 70.0713 140.668 70.0713 Z\" fill=\"#000000\" fill-rule=\"evenodd\" fill-opacity=\"1\" /><path clip-path=\"url(#clip172)\" d=\"\n",
       "M307.644 87.9763 L307.644 1445.72 L2233.72 1445.72 L2233.72 87.9763 L307.644 87.9763 L307.644 87.9763  Z\n",
       "  \" fill=\"#009af9\" fill-rule=\"evenodd\" fill-opacity=\"1\"/>\n",
       "<polyline clip-path=\"url(#clip172)\" style=\"stroke:#000000; stroke-width:4; stroke-opacity:1; fill:none\" points=\"\n",
       "  307.644,87.9763 307.644,1445.72 2233.72,1445.72 2233.72,87.9763 307.644,87.9763 \n",
       "  \"/>\n",
       "<path clip-path=\"url(#clip170)\" d=\"\n",
       "M1989.14 216.178 L2280.62 216.178 L2280.62 95.2176 L1989.14 95.2176  Z\n",
       "  \" fill=\"#ffffff\" fill-rule=\"evenodd\" fill-opacity=\"1\"/>\n",
       "<polyline clip-path=\"url(#clip170)\" style=\"stroke:#000000; stroke-width:4; stroke-opacity:1; fill:none\" points=\"\n",
       "  1989.14,216.178 2280.62,216.178 2280.62,95.2176 1989.14,95.2176 1989.14,216.178 \n",
       "  \"/>\n",
       "<path clip-path=\"url(#clip170)\" d=\"\n",
       "M2013.19 179.89 L2157.46 179.89 L2157.46 131.506 L2013.19 131.506 L2013.19 179.89  Z\n",
       "  \" fill=\"#009af9\" fill-rule=\"evenodd\" fill-opacity=\"1\"/>\n",
       "<polyline clip-path=\"url(#clip170)\" style=\"stroke:#000000; stroke-width:4; stroke-opacity:1; fill:none\" points=\"\n",
       "  2013.19,179.89 2157.46,179.89 2157.46,131.506 2013.19,131.506 2013.19,179.89 \n",
       "  \"/>\n",
       "<path clip-path=\"url(#clip170)\" d=\"M 0 0 M2195.35 175.385 Q2193.54 180.015 2191.83 181.427 Q2190.12 182.839 2187.25 182.839 L2183.85 182.839 L2183.85 179.274 L2186.35 179.274 Q2188.1 179.274 2189.08 178.44 Q2190.05 177.607 2191.23 174.505 L2191.99 172.561 L2181.51 147.052 L2186.02 147.052 L2194.12 167.329 L2202.22 147.052 L2206.74 147.052 L2195.35 175.385 Z\" fill=\"#000000\" fill-rule=\"evenodd\" fill-opacity=\"1\" /><path clip-path=\"url(#clip170)\" d=\"M 0 0 M2212.62 169.042 L2220.26 169.042 L2220.26 142.677 L2211.95 144.343 L2211.95 140.084 L2220.21 138.418 L2224.89 138.418 L2224.89 169.042 L2232.53 169.042 L2232.53 172.978 L2212.62 172.978 L2212.62 169.042 Z\" fill=\"#000000\" fill-rule=\"evenodd\" fill-opacity=\"1\" /></svg>\n"
      ]
     },
     "execution_count": 442,
     "metadata": {},
     "output_type": "execute_result"
    }
   ],
   "source": [
    "m = agent(QUEEN)\n",
    "chains = sample(m, IS(), 1000 , n_chains=1, progress = true)\n",
    "histogram(generated_quantities(m, chains))"
   ]
  },
  {
   "cell_type": "code",
   "execution_count": 443,
   "metadata": {},
   "outputs": [
    {
     "name": "stderr",
     "output_type": "stream",
     "text": [
      "\u001b[32mSampling: 100%|█████████████████████████████████████████| Time: 0:00:00\u001b[39m\n"
     ]
    },
    {
     "data": {
      "image/svg+xml": [
       "<?xml version=\"1.0\" encoding=\"utf-8\"?>\n",
       "<svg xmlns=\"http://www.w3.org/2000/svg\" xmlns:xlink=\"http://www.w3.org/1999/xlink\" width=\"600\" height=\"400\" viewBox=\"0 0 2400 1600\">\n",
       "<defs>\n",
       "  <clipPath id=\"clip210\">\n",
       "    <rect x=\"0\" y=\"0\" width=\"2400\" height=\"1600\"/>\n",
       "  </clipPath>\n",
       "</defs>\n",
       "<path clip-path=\"url(#clip210)\" d=\"\n",
       "M0 1600 L2400 1600 L2400 0 L0 0  Z\n",
       "  \" fill=\"#ffffff\" fill-rule=\"evenodd\" fill-opacity=\"1\"/>\n",
       "<defs>\n",
       "  <clipPath id=\"clip211\">\n",
       "    <rect x=\"480\" y=\"0\" width=\"1681\" height=\"1600\"/>\n",
       "  </clipPath>\n",
       "</defs>\n",
       "<path clip-path=\"url(#clip210)\" d=\"\n",
       "M193.218 1486.45 L2352.76 1486.45 L2352.76 47.2441 L193.218 47.2441  Z\n",
       "  \" fill=\"#ffffff\" fill-rule=\"evenodd\" fill-opacity=\"1\"/>\n",
       "<defs>\n",
       "  <clipPath id=\"clip212\">\n",
       "    <rect x=\"193\" y=\"47\" width=\"2161\" height=\"1440\"/>\n",
       "  </clipPath>\n",
       "</defs>\n",
       "<polyline clip-path=\"url(#clip212)\" style=\"stroke:#000000; stroke-width:2; stroke-opacity:0.1; fill:none\" points=\"\n",
       "  311.997,1486.45 311.997,47.2441 \n",
       "  \"/>\n",
       "<polyline clip-path=\"url(#clip212)\" style=\"stroke:#000000; stroke-width:2; stroke-opacity:0.1; fill:none\" points=\"\n",
       "  748.811,1486.45 748.811,47.2441 \n",
       "  \"/>\n",
       "<polyline clip-path=\"url(#clip212)\" style=\"stroke:#000000; stroke-width:2; stroke-opacity:0.1; fill:none\" points=\"\n",
       "  1185.62,1486.45 1185.62,47.2441 \n",
       "  \"/>\n",
       "<polyline clip-path=\"url(#clip212)\" style=\"stroke:#000000; stroke-width:2; stroke-opacity:0.1; fill:none\" points=\"\n",
       "  1622.44,1486.45 1622.44,47.2441 \n",
       "  \"/>\n",
       "<polyline clip-path=\"url(#clip212)\" style=\"stroke:#000000; stroke-width:2; stroke-opacity:0.1; fill:none\" points=\"\n",
       "  2059.25,1486.45 2059.25,47.2441 \n",
       "  \"/>\n",
       "<polyline clip-path=\"url(#clip210)\" style=\"stroke:#000000; stroke-width:4; stroke-opacity:1; fill:none\" points=\"\n",
       "  193.218,1486.45 2352.76,1486.45 \n",
       "  \"/>\n",
       "<polyline clip-path=\"url(#clip210)\" style=\"stroke:#000000; stroke-width:4; stroke-opacity:1; fill:none\" points=\"\n",
       "  311.997,1486.45 311.997,1469.18 \n",
       "  \"/>\n",
       "<polyline clip-path=\"url(#clip210)\" style=\"stroke:#000000; stroke-width:4; stroke-opacity:1; fill:none\" points=\"\n",
       "  748.811,1486.45 748.811,1469.18 \n",
       "  \"/>\n",
       "<polyline clip-path=\"url(#clip210)\" style=\"stroke:#000000; stroke-width:4; stroke-opacity:1; fill:none\" points=\"\n",
       "  1185.62,1486.45 1185.62,1469.18 \n",
       "  \"/>\n",
       "<polyline clip-path=\"url(#clip210)\" style=\"stroke:#000000; stroke-width:4; stroke-opacity:1; fill:none\" points=\"\n",
       "  1622.44,1486.45 1622.44,1469.18 \n",
       "  \"/>\n",
       "<polyline clip-path=\"url(#clip210)\" style=\"stroke:#000000; stroke-width:4; stroke-opacity:1; fill:none\" points=\"\n",
       "  2059.25,1486.45 2059.25,1469.18 \n",
       "  \"/>\n",
       "<path clip-path=\"url(#clip210)\" d=\"M 0 0 M252.275 1530.29 L281.951 1530.29 L281.951 1534.23 L252.275 1534.23 L252.275 1530.29 Z\" fill=\"#000000\" fill-rule=\"evenodd\" fill-opacity=\"1\" /><path clip-path=\"url(#clip210)\" d=\"M 0 0 M287.83 1543.18 L295.469 1543.18 L295.469 1516.82 L287.159 1518.49 L287.159 1514.23 L295.423 1512.56 L300.099 1512.56 L300.099 1543.18 L307.738 1543.18 L307.738 1547.12 L287.83 1547.12 L287.83 1543.18 Z\" fill=\"#000000\" fill-rule=\"evenodd\" fill-opacity=\"1\" /><path clip-path=\"url(#clip210)\" d=\"M 0 0 M312.807 1541.24 L317.691 1541.24 L317.691 1547.12 L312.807 1547.12 L312.807 1541.24 Z\" fill=\"#000000\" fill-rule=\"evenodd\" fill-opacity=\"1\" /><path clip-path=\"url(#clip210)\" d=\"M 0 0 M332.761 1515.64 Q329.15 1515.64 327.321 1519.2 Q325.515 1522.75 325.515 1529.87 Q325.515 1536.98 327.321 1540.55 Q329.15 1544.09 332.761 1544.09 Q336.395 1544.09 338.2 1540.55 Q340.029 1536.98 340.029 1529.87 Q340.029 1522.75 338.2 1519.2 Q336.395 1515.64 332.761 1515.64 M332.761 1511.93 Q338.571 1511.93 341.626 1516.54 Q344.705 1521.12 344.705 1529.87 Q344.705 1538.6 341.626 1543.21 Q338.571 1547.79 332.761 1547.79 Q326.95 1547.79 323.872 1543.21 Q320.816 1538.6 320.816 1529.87 Q320.816 1521.12 323.872 1516.54 Q326.95 1511.93 332.761 1511.93 Z\" fill=\"#000000\" fill-rule=\"evenodd\" fill-opacity=\"1\" /><path clip-path=\"url(#clip210)\" d=\"M 0 0 M359.774 1515.64 Q356.163 1515.64 354.335 1519.2 Q352.529 1522.75 352.529 1529.87 Q352.529 1536.98 354.335 1540.55 Q356.163 1544.09 359.774 1544.09 Q363.409 1544.09 365.214 1540.55 Q367.043 1536.98 367.043 1529.87 Q367.043 1522.75 365.214 1519.2 Q363.409 1515.64 359.774 1515.64 M359.774 1511.93 Q365.584 1511.93 368.64 1516.54 Q371.719 1521.12 371.719 1529.87 Q371.719 1538.6 368.64 1543.21 Q365.584 1547.79 359.774 1547.79 Q353.964 1547.79 350.885 1543.21 Q347.83 1538.6 347.83 1529.87 Q347.83 1521.12 350.885 1516.54 Q353.964 1511.93 359.774 1511.93 Z\" fill=\"#000000\" fill-rule=\"evenodd\" fill-opacity=\"1\" /><path clip-path=\"url(#clip210)\" d=\"M 0 0 M689.424 1530.29 L719.1 1530.29 L719.1 1534.23 L689.424 1534.23 L689.424 1530.29 Z\" fill=\"#000000\" fill-rule=\"evenodd\" fill-opacity=\"1\" /><path clip-path=\"url(#clip210)\" d=\"M 0 0 M734.169 1515.64 Q730.558 1515.64 728.73 1519.2 Q726.924 1522.75 726.924 1529.87 Q726.924 1536.98 728.73 1540.55 Q730.558 1544.09 734.169 1544.09 Q737.804 1544.09 739.609 1540.55 Q741.438 1536.98 741.438 1529.87 Q741.438 1522.75 739.609 1519.2 Q737.804 1515.64 734.169 1515.64 M734.169 1511.93 Q739.98 1511.93 743.035 1516.54 Q746.114 1521.12 746.114 1529.87 Q746.114 1538.6 743.035 1543.21 Q739.98 1547.79 734.169 1547.79 Q728.359 1547.79 725.281 1543.21 Q722.225 1538.6 722.225 1529.87 Q722.225 1521.12 725.281 1516.54 Q728.359 1511.93 734.169 1511.93 Z\" fill=\"#000000\" fill-rule=\"evenodd\" fill-opacity=\"1\" /><path clip-path=\"url(#clip210)\" d=\"M 0 0 M751.183 1541.24 L756.068 1541.24 L756.068 1547.12 L751.183 1547.12 L751.183 1541.24 Z\" fill=\"#000000\" fill-rule=\"evenodd\" fill-opacity=\"1\" /><path clip-path=\"url(#clip210)\" d=\"M 0 0 M759.956 1512.56 L782.178 1512.56 L782.178 1514.55 L769.632 1547.12 L764.748 1547.12 L776.554 1516.5 L759.956 1516.5 L759.956 1512.56 Z\" fill=\"#000000\" fill-rule=\"evenodd\" fill-opacity=\"1\" /><path clip-path=\"url(#clip210)\" d=\"M 0 0 M787.294 1512.56 L805.651 1512.56 L805.651 1516.5 L791.577 1516.5 L791.577 1524.97 Q792.595 1524.62 793.614 1524.46 Q794.632 1524.27 795.651 1524.27 Q801.438 1524.27 804.817 1527.44 Q808.197 1530.62 808.197 1536.03 Q808.197 1541.61 804.725 1544.71 Q801.252 1547.79 794.933 1547.79 Q792.757 1547.79 790.489 1547.42 Q788.243 1547.05 785.836 1546.31 L785.836 1541.61 Q787.919 1542.74 790.141 1543.3 Q792.364 1543.86 794.84 1543.86 Q798.845 1543.86 801.183 1541.75 Q803.521 1539.64 803.521 1536.03 Q803.521 1532.42 801.183 1530.31 Q798.845 1528.21 794.84 1528.21 Q792.965 1528.21 791.09 1528.62 Q789.239 1529.04 787.294 1529.92 L787.294 1512.56 Z\" fill=\"#000000\" fill-rule=\"evenodd\" fill-opacity=\"1\" /><path clip-path=\"url(#clip210)\" d=\"M 0 0 M1125.79 1530.29 L1155.46 1530.29 L1155.46 1534.23 L1125.79 1534.23 L1125.79 1530.29 Z\" fill=\"#000000\" fill-rule=\"evenodd\" fill-opacity=\"1\" /><path clip-path=\"url(#clip210)\" d=\"M 0 0 M1170.53 1515.64 Q1166.92 1515.64 1165.09 1519.2 Q1163.29 1522.75 1163.29 1529.87 Q1163.29 1536.98 1165.09 1540.55 Q1166.92 1544.09 1170.53 1544.09 Q1174.17 1544.09 1175.97 1540.55 Q1177.8 1536.98 1177.8 1529.87 Q1177.8 1522.75 1175.97 1519.2 Q1174.17 1515.64 1170.53 1515.64 M1170.53 1511.93 Q1176.34 1511.93 1179.4 1516.54 Q1182.48 1521.12 1182.48 1529.87 Q1182.48 1538.6 1179.4 1543.21 Q1176.34 1547.79 1170.53 1547.79 Q1164.72 1547.79 1161.64 1543.21 Q1158.59 1538.6 1158.59 1529.87 Q1158.59 1521.12 1161.64 1516.54 Q1164.72 1511.93 1170.53 1511.93 Z\" fill=\"#000000\" fill-rule=\"evenodd\" fill-opacity=\"1\" /><path clip-path=\"url(#clip210)\" d=\"M 0 0 M1187.55 1541.24 L1192.43 1541.24 L1192.43 1547.12 L1187.55 1547.12 L1187.55 1541.24 Z\" fill=\"#000000\" fill-rule=\"evenodd\" fill-opacity=\"1\" /><path clip-path=\"url(#clip210)\" d=\"M 0 0 M1197.55 1512.56 L1215.9 1512.56 L1215.9 1516.5 L1201.83 1516.5 L1201.83 1524.97 Q1202.85 1524.62 1203.87 1524.46 Q1204.88 1524.27 1205.9 1524.27 Q1211.69 1524.27 1215.07 1527.44 Q1218.45 1530.62 1218.45 1536.03 Q1218.45 1541.61 1214.98 1544.71 Q1211.5 1547.79 1205.18 1547.79 Q1203.01 1547.79 1200.74 1547.42 Q1198.49 1547.05 1196.09 1546.31 L1196.09 1541.61 Q1198.17 1542.74 1200.39 1543.3 Q1202.62 1543.86 1205.09 1543.86 Q1209.1 1543.86 1211.43 1541.75 Q1213.77 1539.64 1213.77 1536.03 Q1213.77 1532.42 1211.43 1530.31 Q1209.1 1528.21 1205.09 1528.21 Q1203.22 1528.21 1201.34 1528.62 Q1199.49 1529.04 1197.55 1529.92 L1197.55 1512.56 Z\" fill=\"#000000\" fill-rule=\"evenodd\" fill-opacity=\"1\" /><path clip-path=\"url(#clip210)\" d=\"M 0 0 M1233.52 1515.64 Q1229.91 1515.64 1228.08 1519.2 Q1226.27 1522.75 1226.27 1529.87 Q1226.27 1536.98 1228.08 1540.55 Q1229.91 1544.09 1233.52 1544.09 Q1237.15 1544.09 1238.96 1540.55 Q1240.79 1536.98 1240.79 1529.87 Q1240.79 1522.75 1238.96 1519.2 Q1237.15 1515.64 1233.52 1515.64 M1233.52 1511.93 Q1239.33 1511.93 1242.38 1516.54 Q1245.46 1521.12 1245.46 1529.87 Q1245.46 1538.6 1242.38 1543.21 Q1239.33 1547.79 1233.52 1547.79 Q1227.71 1547.79 1224.63 1543.21 Q1221.57 1538.6 1221.57 1529.87 Q1221.57 1521.12 1224.63 1516.54 Q1227.71 1511.93 1233.52 1511.93 Z\" fill=\"#000000\" fill-rule=\"evenodd\" fill-opacity=\"1\" /><path clip-path=\"url(#clip210)\" d=\"M 0 0 M1563.4 1530.29 L1593.07 1530.29 L1593.07 1534.23 L1563.4 1534.23 L1563.4 1530.29 Z\" fill=\"#000000\" fill-rule=\"evenodd\" fill-opacity=\"1\" /><path clip-path=\"url(#clip210)\" d=\"M 0 0 M1608.14 1515.64 Q1604.53 1515.64 1602.7 1519.2 Q1600.9 1522.75 1600.9 1529.87 Q1600.9 1536.98 1602.7 1540.55 Q1604.53 1544.09 1608.14 1544.09 Q1611.78 1544.09 1613.58 1540.55 Q1615.41 1536.98 1615.41 1529.87 Q1615.41 1522.75 1613.58 1519.2 Q1611.78 1515.64 1608.14 1515.64 M1608.14 1511.93 Q1613.95 1511.93 1617.01 1516.54 Q1620.09 1521.12 1620.09 1529.87 Q1620.09 1538.6 1617.01 1543.21 Q1613.95 1547.79 1608.14 1547.79 Q1602.33 1547.79 1599.26 1543.21 Q1596.2 1538.6 1596.2 1529.87 Q1596.2 1521.12 1599.26 1516.54 Q1602.33 1511.93 1608.14 1511.93 Z\" fill=\"#000000\" fill-rule=\"evenodd\" fill-opacity=\"1\" /><path clip-path=\"url(#clip210)\" d=\"M 0 0 M1625.16 1541.24 L1630.04 1541.24 L1630.04 1547.12 L1625.16 1547.12 L1625.16 1541.24 Z\" fill=\"#000000\" fill-rule=\"evenodd\" fill-opacity=\"1\" /><path clip-path=\"url(#clip210)\" d=\"M 0 0 M1639.14 1543.18 L1655.46 1543.18 L1655.46 1547.12 L1633.51 1547.12 L1633.51 1543.18 Q1636.18 1540.43 1640.76 1535.8 Q1645.37 1531.15 1646.55 1529.81 Q1648.79 1527.28 1649.67 1525.55 Q1650.57 1523.79 1650.57 1522.1 Q1650.57 1519.34 1648.63 1517.61 Q1646.71 1515.87 1643.61 1515.87 Q1641.41 1515.87 1638.95 1516.63 Q1636.52 1517.4 1633.75 1518.95 L1633.75 1514.23 Q1636.57 1513.09 1639.02 1512.51 Q1641.48 1511.93 1643.51 1511.93 Q1648.88 1511.93 1652.08 1514.62 Q1655.27 1517.31 1655.27 1521.8 Q1655.27 1523.93 1654.46 1525.85 Q1653.68 1527.74 1651.57 1530.34 Q1650.99 1531.01 1647.89 1534.23 Q1644.79 1537.42 1639.14 1543.18 Z\" fill=\"#000000\" fill-rule=\"evenodd\" fill-opacity=\"1\" /><path clip-path=\"url(#clip210)\" d=\"M 0 0 M1660.57 1512.56 L1678.93 1512.56 L1678.93 1516.5 L1664.86 1516.5 L1664.86 1524.97 Q1665.88 1524.62 1666.89 1524.46 Q1667.91 1524.27 1668.93 1524.27 Q1674.72 1524.27 1678.1 1527.44 Q1681.48 1530.62 1681.48 1536.03 Q1681.48 1541.61 1678.01 1544.71 Q1674.53 1547.79 1668.21 1547.79 Q1666.04 1547.79 1663.77 1547.42 Q1661.52 1547.05 1659.12 1546.31 L1659.12 1541.61 Q1661.2 1542.74 1663.42 1543.3 Q1665.64 1543.86 1668.12 1543.86 Q1672.13 1543.86 1674.46 1541.75 Q1676.8 1539.64 1676.8 1536.03 Q1676.8 1532.42 1674.46 1530.31 Q1672.13 1528.21 1668.12 1528.21 Q1666.25 1528.21 1664.37 1528.62 Q1662.52 1529.04 1660.57 1529.92 L1660.57 1512.56 Z\" fill=\"#000000\" fill-rule=\"evenodd\" fill-opacity=\"1\" /><path clip-path=\"url(#clip210)\" d=\"M 0 0 M2027.26 1515.64 Q2023.65 1515.64 2021.82 1519.2 Q2020.02 1522.75 2020.02 1529.87 Q2020.02 1536.98 2021.82 1540.55 Q2023.65 1544.09 2027.26 1544.09 Q2030.9 1544.09 2032.7 1540.55 Q2034.53 1536.98 2034.53 1529.87 Q2034.53 1522.75 2032.7 1519.2 Q2030.9 1515.64 2027.26 1515.64 M2027.26 1511.93 Q2033.07 1511.93 2036.13 1516.54 Q2039.21 1521.12 2039.21 1529.87 Q2039.21 1538.6 2036.13 1543.21 Q2033.07 1547.79 2027.26 1547.79 Q2021.45 1547.79 2018.37 1543.21 Q2015.32 1538.6 2015.32 1529.87 Q2015.32 1521.12 2018.37 1516.54 Q2021.45 1511.93 2027.26 1511.93 Z\" fill=\"#000000\" fill-rule=\"evenodd\" fill-opacity=\"1\" /><path clip-path=\"url(#clip210)\" d=\"M 0 0 M2044.28 1541.24 L2049.16 1541.24 L2049.16 1547.12 L2044.28 1547.12 L2044.28 1541.24 Z\" fill=\"#000000\" fill-rule=\"evenodd\" fill-opacity=\"1\" /><path clip-path=\"url(#clip210)\" d=\"M 0 0 M2064.23 1515.64 Q2060.62 1515.64 2058.79 1519.2 Q2056.98 1522.75 2056.98 1529.87 Q2056.98 1536.98 2058.79 1540.55 Q2060.62 1544.09 2064.23 1544.09 Q2067.86 1544.09 2069.67 1540.55 Q2071.5 1536.98 2071.5 1529.87 Q2071.5 1522.75 2069.67 1519.2 Q2067.86 1515.64 2064.23 1515.64 M2064.23 1511.93 Q2070.04 1511.93 2073.09 1516.54 Q2076.17 1521.12 2076.17 1529.87 Q2076.17 1538.6 2073.09 1543.21 Q2070.04 1547.79 2064.23 1547.79 Q2058.42 1547.79 2055.34 1543.21 Q2052.28 1538.6 2052.28 1529.87 Q2052.28 1521.12 2055.34 1516.54 Q2058.42 1511.93 2064.23 1511.93 Z\" fill=\"#000000\" fill-rule=\"evenodd\" fill-opacity=\"1\" /><path clip-path=\"url(#clip210)\" d=\"M 0 0 M2091.24 1515.64 Q2087.63 1515.64 2085.8 1519.2 Q2084 1522.75 2084 1529.87 Q2084 1536.98 2085.8 1540.55 Q2087.63 1544.09 2091.24 1544.09 Q2094.88 1544.09 2096.68 1540.55 Q2098.51 1536.98 2098.51 1529.87 Q2098.51 1522.75 2096.68 1519.2 Q2094.88 1515.64 2091.24 1515.64 M2091.24 1511.93 Q2097.05 1511.93 2100.11 1516.54 Q2103.19 1521.12 2103.19 1529.87 Q2103.19 1538.6 2100.11 1543.21 Q2097.05 1547.79 2091.24 1547.79 Q2085.43 1547.79 2082.35 1543.21 Q2079.3 1538.6 2079.3 1529.87 Q2079.3 1521.12 2082.35 1516.54 Q2085.43 1511.93 2091.24 1511.93 Z\" fill=\"#000000\" fill-rule=\"evenodd\" fill-opacity=\"1\" /><polyline clip-path=\"url(#clip212)\" style=\"stroke:#000000; stroke-width:2; stroke-opacity:0.1; fill:none\" points=\"\n",
       "  193.218,1445.72 2352.76,1445.72 \n",
       "  \"/>\n",
       "<polyline clip-path=\"url(#clip212)\" style=\"stroke:#000000; stroke-width:2; stroke-opacity:0.1; fill:none\" points=\"\n",
       "  193.218,1240.37 2352.76,1240.37 \n",
       "  \"/>\n",
       "<polyline clip-path=\"url(#clip212)\" style=\"stroke:#000000; stroke-width:2; stroke-opacity:0.1; fill:none\" points=\"\n",
       "  193.218,1035.03 2352.76,1035.03 \n",
       "  \"/>\n",
       "<polyline clip-path=\"url(#clip212)\" style=\"stroke:#000000; stroke-width:2; stroke-opacity:0.1; fill:none\" points=\"\n",
       "  193.218,829.681 2352.76,829.681 \n",
       "  \"/>\n",
       "<polyline clip-path=\"url(#clip212)\" style=\"stroke:#000000; stroke-width:2; stroke-opacity:0.1; fill:none\" points=\"\n",
       "  193.218,624.337 2352.76,624.337 \n",
       "  \"/>\n",
       "<polyline clip-path=\"url(#clip212)\" style=\"stroke:#000000; stroke-width:2; stroke-opacity:0.1; fill:none\" points=\"\n",
       "  193.218,418.992 2352.76,418.992 \n",
       "  \"/>\n",
       "<polyline clip-path=\"url(#clip212)\" style=\"stroke:#000000; stroke-width:2; stroke-opacity:0.1; fill:none\" points=\"\n",
       "  193.218,213.647 2352.76,213.647 \n",
       "  \"/>\n",
       "<polyline clip-path=\"url(#clip210)\" style=\"stroke:#000000; stroke-width:4; stroke-opacity:1; fill:none\" points=\"\n",
       "  193.218,1486.45 193.218,47.2441 \n",
       "  \"/>\n",
       "<polyline clip-path=\"url(#clip210)\" style=\"stroke:#000000; stroke-width:4; stroke-opacity:1; fill:none\" points=\"\n",
       "  193.218,1445.72 219.133,1445.72 \n",
       "  \"/>\n",
       "<polyline clip-path=\"url(#clip210)\" style=\"stroke:#000000; stroke-width:4; stroke-opacity:1; fill:none\" points=\"\n",
       "  193.218,1240.37 219.133,1240.37 \n",
       "  \"/>\n",
       "<polyline clip-path=\"url(#clip210)\" style=\"stroke:#000000; stroke-width:4; stroke-opacity:1; fill:none\" points=\"\n",
       "  193.218,1035.03 219.133,1035.03 \n",
       "  \"/>\n",
       "<polyline clip-path=\"url(#clip210)\" style=\"stroke:#000000; stroke-width:4; stroke-opacity:1; fill:none\" points=\"\n",
       "  193.218,829.681 219.133,829.681 \n",
       "  \"/>\n",
       "<polyline clip-path=\"url(#clip210)\" style=\"stroke:#000000; stroke-width:4; stroke-opacity:1; fill:none\" points=\"\n",
       "  193.218,624.337 219.133,624.337 \n",
       "  \"/>\n",
       "<polyline clip-path=\"url(#clip210)\" style=\"stroke:#000000; stroke-width:4; stroke-opacity:1; fill:none\" points=\"\n",
       "  193.218,418.992 219.133,418.992 \n",
       "  \"/>\n",
       "<polyline clip-path=\"url(#clip210)\" style=\"stroke:#000000; stroke-width:4; stroke-opacity:1; fill:none\" points=\"\n",
       "  193.218,213.647 219.133,213.647 \n",
       "  \"/>\n",
       "<path clip-path=\"url(#clip210)\" d=\"M 0 0 M145.274 1431.51 Q141.663 1431.51 139.834 1435.08 Q138.029 1438.62 138.029 1445.75 Q138.029 1452.86 139.834 1456.42 Q141.663 1459.96 145.274 1459.96 Q148.908 1459.96 150.714 1456.42 Q152.543 1452.86 152.543 1445.75 Q152.543 1438.62 150.714 1435.08 Q148.908 1431.51 145.274 1431.51 M145.274 1427.81 Q151.084 1427.81 154.14 1432.42 Q157.218 1437 157.218 1445.75 Q157.218 1454.48 154.14 1459.08 Q151.084 1463.67 145.274 1463.67 Q139.464 1463.67 136.385 1459.08 Q133.33 1454.48 133.33 1445.75 Q133.33 1437 136.385 1432.42 Q139.464 1427.81 145.274 1427.81 Z\" fill=\"#000000\" fill-rule=\"evenodd\" fill-opacity=\"1\" /><path clip-path=\"url(#clip210)\" d=\"M 0 0 M56.2699 1253.72 L63.9087 1253.72 L63.9087 1227.35 L55.5986 1229.02 L55.5986 1224.76 L63.8624 1223.09 L68.5383 1223.09 L68.5383 1253.72 L76.1772 1253.72 L76.1772 1257.65 L56.2699 1257.65 L56.2699 1253.72 Z\" fill=\"#000000\" fill-rule=\"evenodd\" fill-opacity=\"1\" /><path clip-path=\"url(#clip210)\" d=\"M 0 0 M91.2465 1226.17 Q87.6354 1226.17 85.8068 1229.73 Q84.0012 1233.28 84.0012 1240.41 Q84.0012 1247.51 85.8068 1251.08 Q87.6354 1254.62 91.2465 1254.62 Q94.8808 1254.62 96.6863 1251.08 Q98.515 1247.51 98.515 1240.41 Q98.515 1233.28 96.6863 1229.73 Q94.8808 1226.17 91.2465 1226.17 M91.2465 1222.47 Q97.0567 1222.47 100.112 1227.07 Q103.191 1231.66 103.191 1240.41 Q103.191 1249.13 100.112 1253.74 Q97.0567 1258.32 91.2465 1258.32 Q85.4364 1258.32 82.3577 1253.74 Q79.3022 1249.13 79.3022 1240.41 Q79.3022 1231.66 82.3577 1227.07 Q85.4364 1222.47 91.2465 1222.47 Z\" fill=\"#000000\" fill-rule=\"evenodd\" fill-opacity=\"1\" /><path clip-path=\"url(#clip210)\" d=\"M 0 0 M118.26 1226.17 Q114.649 1226.17 112.82 1229.73 Q111.015 1233.28 111.015 1240.41 Q111.015 1247.51 112.82 1251.08 Q114.649 1254.62 118.26 1254.62 Q121.895 1254.62 123.7 1251.08 Q125.529 1247.51 125.529 1240.41 Q125.529 1233.28 123.7 1229.73 Q121.895 1226.17 118.26 1226.17 M118.26 1222.47 Q124.07 1222.47 127.126 1227.07 Q130.205 1231.66 130.205 1240.41 Q130.205 1249.13 127.126 1253.74 Q124.07 1258.32 118.26 1258.32 Q112.45 1258.32 109.371 1253.74 Q106.316 1249.13 106.316 1240.41 Q106.316 1231.66 109.371 1227.07 Q112.45 1222.47 118.26 1222.47 Z\" fill=\"#000000\" fill-rule=\"evenodd\" fill-opacity=\"1\" /><path clip-path=\"url(#clip210)\" d=\"M 0 0 M145.274 1226.17 Q141.663 1226.17 139.834 1229.73 Q138.029 1233.28 138.029 1240.41 Q138.029 1247.51 139.834 1251.08 Q141.663 1254.62 145.274 1254.62 Q148.908 1254.62 150.714 1251.08 Q152.543 1247.51 152.543 1240.41 Q152.543 1233.28 150.714 1229.73 Q148.908 1226.17 145.274 1226.17 M145.274 1222.47 Q151.084 1222.47 154.14 1227.07 Q157.218 1231.66 157.218 1240.41 Q157.218 1249.13 154.14 1253.74 Q151.084 1258.32 145.274 1258.32 Q139.464 1258.32 136.385 1253.74 Q133.33 1249.13 133.33 1240.41 Q133.33 1231.66 136.385 1227.07 Q139.464 1222.47 145.274 1222.47 Z\" fill=\"#000000\" fill-rule=\"evenodd\" fill-opacity=\"1\" /><path clip-path=\"url(#clip210)\" d=\"M 0 0 M59.8578 1048.37 L76.1772 1048.37 L76.1772 1052.31 L54.2328 1052.31 L54.2328 1048.37 Q56.8949 1045.62 61.4782 1040.99 Q66.0846 1036.33 67.2652 1034.99 Q69.5105 1032.47 70.3902 1030.73 Q71.2929 1028.97 71.2929 1027.28 Q71.2929 1024.53 69.3485 1022.79 Q67.4272 1021.06 64.3254 1021.06 Q62.1263 1021.06 59.6726 1021.82 Q57.2421 1022.58 54.4643 1024.14 L54.4643 1019.41 Q57.2884 1018.28 59.7421 1017.7 Q62.1958 1017.12 64.2328 1017.12 Q69.6031 1017.12 72.7976 1019.81 Q75.992 1022.49 75.992 1026.98 Q75.992 1029.11 75.1818 1031.03 Q74.3948 1032.93 72.2883 1035.52 Q71.7096 1036.2 68.6078 1039.41 Q65.5059 1042.61 59.8578 1048.37 Z\" fill=\"#000000\" fill-rule=\"evenodd\" fill-opacity=\"1\" /><path clip-path=\"url(#clip210)\" d=\"M 0 0 M91.2465 1020.82 Q87.6354 1020.82 85.8068 1024.39 Q84.0012 1027.93 84.0012 1035.06 Q84.0012 1042.17 85.8068 1045.73 Q87.6354 1049.27 91.2465 1049.27 Q94.8808 1049.27 96.6863 1045.73 Q98.515 1042.17 98.515 1035.06 Q98.515 1027.93 96.6863 1024.39 Q94.8808 1020.82 91.2465 1020.82 M91.2465 1017.12 Q97.0567 1017.12 100.112 1021.73 Q103.191 1026.31 103.191 1035.06 Q103.191 1043.79 100.112 1048.39 Q97.0567 1052.98 91.2465 1052.98 Q85.4364 1052.98 82.3577 1048.39 Q79.3022 1043.79 79.3022 1035.06 Q79.3022 1026.31 82.3577 1021.73 Q85.4364 1017.12 91.2465 1017.12 Z\" fill=\"#000000\" fill-rule=\"evenodd\" fill-opacity=\"1\" /><path clip-path=\"url(#clip210)\" d=\"M 0 0 M118.26 1020.82 Q114.649 1020.82 112.82 1024.39 Q111.015 1027.93 111.015 1035.06 Q111.015 1042.17 112.82 1045.73 Q114.649 1049.27 118.26 1049.27 Q121.895 1049.27 123.7 1045.73 Q125.529 1042.17 125.529 1035.06 Q125.529 1027.93 123.7 1024.39 Q121.895 1020.82 118.26 1020.82 M118.26 1017.12 Q124.07 1017.12 127.126 1021.73 Q130.205 1026.31 130.205 1035.06 Q130.205 1043.79 127.126 1048.39 Q124.07 1052.98 118.26 1052.98 Q112.45 1052.98 109.371 1048.39 Q106.316 1043.79 106.316 1035.06 Q106.316 1026.31 109.371 1021.73 Q112.45 1017.12 118.26 1017.12 Z\" fill=\"#000000\" fill-rule=\"evenodd\" fill-opacity=\"1\" /><path clip-path=\"url(#clip210)\" d=\"M 0 0 M145.274 1020.82 Q141.663 1020.82 139.834 1024.39 Q138.029 1027.93 138.029 1035.06 Q138.029 1042.17 139.834 1045.73 Q141.663 1049.27 145.274 1049.27 Q148.908 1049.27 150.714 1045.73 Q152.543 1042.17 152.543 1035.06 Q152.543 1027.93 150.714 1024.39 Q148.908 1020.82 145.274 1020.82 M145.274 1017.12 Q151.084 1017.12 154.14 1021.73 Q157.218 1026.31 157.218 1035.06 Q157.218 1043.79 154.14 1048.39 Q151.084 1052.98 145.274 1052.98 Q139.464 1052.98 136.385 1048.39 Q133.33 1043.79 133.33 1035.06 Q133.33 1026.31 136.385 1021.73 Q139.464 1017.12 145.274 1017.12 Z\" fill=\"#000000\" fill-rule=\"evenodd\" fill-opacity=\"1\" /><path clip-path=\"url(#clip210)\" d=\"M 0 0 M69.0476 828.327 Q72.404 829.045 74.279 831.313 Q76.1772 833.582 76.1772 836.915 Q76.1772 842.031 72.6587 844.832 Q69.1402 847.633 62.6587 847.633 Q60.4828 847.633 58.168 847.193 Q55.8764 846.776 53.4227 845.92 L53.4227 841.406 Q55.3671 842.54 57.6819 843.119 Q59.9967 843.698 62.5198 843.698 Q66.918 843.698 69.2096 841.962 Q71.5244 840.225 71.5244 836.915 Q71.5244 833.86 69.3717 832.147 Q67.242 830.411 63.4226 830.411 L59.3949 830.411 L59.3949 826.568 L63.6078 826.568 Q67.0569 826.568 68.8855 825.202 Q70.7142 823.813 70.7142 821.221 Q70.7142 818.559 68.8161 817.147 Q66.9411 815.712 63.4226 815.712 Q61.5013 815.712 59.3023 816.128 Q57.1032 816.545 54.4643 817.425 L54.4643 813.258 Q57.1264 812.517 59.4412 812.147 Q61.7791 811.776 63.8393 811.776 Q69.1633 811.776 72.2652 814.207 Q75.367 816.614 75.367 820.735 Q75.367 823.605 73.7235 825.596 Q72.08 827.563 69.0476 828.327 Z\" fill=\"#000000\" fill-rule=\"evenodd\" fill-opacity=\"1\" /><path clip-path=\"url(#clip210)\" d=\"M 0 0 M91.2465 815.48 Q87.6354 815.48 85.8068 819.045 Q84.0012 822.587 84.0012 829.716 Q84.0012 836.823 85.8068 840.387 Q87.6354 843.929 91.2465 843.929 Q94.8808 843.929 96.6863 840.387 Q98.515 836.823 98.515 829.716 Q98.515 822.587 96.6863 819.045 Q94.8808 815.48 91.2465 815.48 M91.2465 811.776 Q97.0567 811.776 100.112 816.383 Q103.191 820.966 103.191 829.716 Q103.191 838.443 100.112 843.049 Q97.0567 847.633 91.2465 847.633 Q85.4364 847.633 82.3577 843.049 Q79.3022 838.443 79.3022 829.716 Q79.3022 820.966 82.3577 816.383 Q85.4364 811.776 91.2465 811.776 Z\" fill=\"#000000\" fill-rule=\"evenodd\" fill-opacity=\"1\" /><path clip-path=\"url(#clip210)\" d=\"M 0 0 M118.26 815.48 Q114.649 815.48 112.82 819.045 Q111.015 822.587 111.015 829.716 Q111.015 836.823 112.82 840.387 Q114.649 843.929 118.26 843.929 Q121.895 843.929 123.7 840.387 Q125.529 836.823 125.529 829.716 Q125.529 822.587 123.7 819.045 Q121.895 815.48 118.26 815.48 M118.26 811.776 Q124.07 811.776 127.126 816.383 Q130.205 820.966 130.205 829.716 Q130.205 838.443 127.126 843.049 Q124.07 847.633 118.26 847.633 Q112.45 847.633 109.371 843.049 Q106.316 838.443 106.316 829.716 Q106.316 820.966 109.371 816.383 Q112.45 811.776 118.26 811.776 Z\" fill=\"#000000\" fill-rule=\"evenodd\" fill-opacity=\"1\" /><path clip-path=\"url(#clip210)\" d=\"M 0 0 M145.274 815.48 Q141.663 815.48 139.834 819.045 Q138.029 822.587 138.029 829.716 Q138.029 836.823 139.834 840.387 Q141.663 843.929 145.274 843.929 Q148.908 843.929 150.714 840.387 Q152.543 836.823 152.543 829.716 Q152.543 822.587 150.714 819.045 Q148.908 815.48 145.274 815.48 M145.274 811.776 Q151.084 811.776 154.14 816.383 Q157.218 820.966 157.218 829.716 Q157.218 838.443 154.14 843.049 Q151.084 847.633 145.274 847.633 Q139.464 847.633 136.385 843.049 Q133.33 838.443 133.33 829.716 Q133.33 820.966 136.385 816.383 Q139.464 811.776 145.274 811.776 Z\" fill=\"#000000\" fill-rule=\"evenodd\" fill-opacity=\"1\" /><path clip-path=\"url(#clip210)\" d=\"M 0 0 M66.5939 611.131 L54.7884 629.58 L66.5939 629.58 L66.5939 611.131 M65.367 607.057 L71.2466 607.057 L71.2466 629.58 L76.1772 629.58 L76.1772 633.469 L71.2466 633.469 L71.2466 641.617 L66.5939 641.617 L66.5939 633.469 L50.9921 633.469 L50.9921 628.955 L65.367 607.057 Z\" fill=\"#000000\" fill-rule=\"evenodd\" fill-opacity=\"1\" /><path clip-path=\"url(#clip210)\" d=\"M 0 0 M91.2465 610.135 Q87.6354 610.135 85.8068 613.7 Q84.0012 617.242 84.0012 624.371 Q84.0012 631.478 85.8068 635.043 Q87.6354 638.584 91.2465 638.584 Q94.8808 638.584 96.6863 635.043 Q98.515 631.478 98.515 624.371 Q98.515 617.242 96.6863 613.7 Q94.8808 610.135 91.2465 610.135 M91.2465 606.432 Q97.0567 606.432 100.112 611.038 Q103.191 615.622 103.191 624.371 Q103.191 633.098 100.112 637.705 Q97.0567 642.288 91.2465 642.288 Q85.4364 642.288 82.3577 637.705 Q79.3022 633.098 79.3022 624.371 Q79.3022 615.622 82.3577 611.038 Q85.4364 606.432 91.2465 606.432 Z\" fill=\"#000000\" fill-rule=\"evenodd\" fill-opacity=\"1\" /><path clip-path=\"url(#clip210)\" d=\"M 0 0 M118.26 610.135 Q114.649 610.135 112.82 613.7 Q111.015 617.242 111.015 624.371 Q111.015 631.478 112.82 635.043 Q114.649 638.584 118.26 638.584 Q121.895 638.584 123.7 635.043 Q125.529 631.478 125.529 624.371 Q125.529 617.242 123.7 613.7 Q121.895 610.135 118.26 610.135 M118.26 606.432 Q124.07 606.432 127.126 611.038 Q130.205 615.622 130.205 624.371 Q130.205 633.098 127.126 637.705 Q124.07 642.288 118.26 642.288 Q112.45 642.288 109.371 637.705 Q106.316 633.098 106.316 624.371 Q106.316 615.622 109.371 611.038 Q112.45 606.432 118.26 606.432 Z\" fill=\"#000000\" fill-rule=\"evenodd\" fill-opacity=\"1\" /><path clip-path=\"url(#clip210)\" d=\"M 0 0 M145.274 610.135 Q141.663 610.135 139.834 613.7 Q138.029 617.242 138.029 624.371 Q138.029 631.478 139.834 635.043 Q141.663 638.584 145.274 638.584 Q148.908 638.584 150.714 635.043 Q152.543 631.478 152.543 624.371 Q152.543 617.242 150.714 613.7 Q148.908 610.135 145.274 610.135 M145.274 606.432 Q151.084 606.432 154.14 611.038 Q157.218 615.622 157.218 624.371 Q157.218 633.098 154.14 637.705 Q151.084 642.288 145.274 642.288 Q139.464 642.288 136.385 637.705 Q133.33 633.098 133.33 624.371 Q133.33 615.622 136.385 611.038 Q139.464 606.432 145.274 606.432 Z\" fill=\"#000000\" fill-rule=\"evenodd\" fill-opacity=\"1\" /><path clip-path=\"url(#clip210)\" d=\"M 0 0 M55.2745 401.712 L73.6309 401.712 L73.6309 405.647 L59.5569 405.647 L59.5569 414.119 Q60.5754 413.772 61.5939 413.61 Q62.6124 413.425 63.6309 413.425 Q69.418 413.425 72.7976 416.596 Q76.1772 419.767 76.1772 425.184 Q76.1772 430.763 72.705 433.865 Q69.2328 436.943 62.9134 436.943 Q60.7374 436.943 58.4689 436.573 Q56.2236 436.203 53.8162 435.462 L53.8162 430.763 Q55.8995 431.897 58.1217 432.453 Q60.3439 433.008 62.8208 433.008 Q66.8254 433.008 69.1633 430.902 Q71.5013 428.795 71.5013 425.184 Q71.5013 421.573 69.1633 419.467 Q66.8254 417.36 62.8208 417.36 Q60.9458 417.36 59.0708 417.777 Q57.2189 418.193 55.2745 419.073 L55.2745 401.712 Z\" fill=\"#000000\" fill-rule=\"evenodd\" fill-opacity=\"1\" /><path clip-path=\"url(#clip210)\" d=\"M 0 0 M91.2465 404.791 Q87.6354 404.791 85.8068 408.355 Q84.0012 411.897 84.0012 419.027 Q84.0012 426.133 85.8068 429.698 Q87.6354 433.24 91.2465 433.24 Q94.8808 433.24 96.6863 429.698 Q98.515 426.133 98.515 419.027 Q98.515 411.897 96.6863 408.355 Q94.8808 404.791 91.2465 404.791 M91.2465 401.087 Q97.0567 401.087 100.112 405.693 Q103.191 410.277 103.191 419.027 Q103.191 427.754 100.112 432.36 Q97.0567 436.943 91.2465 436.943 Q85.4364 436.943 82.3577 432.36 Q79.3022 427.754 79.3022 419.027 Q79.3022 410.277 82.3577 405.693 Q85.4364 401.087 91.2465 401.087 Z\" fill=\"#000000\" fill-rule=\"evenodd\" fill-opacity=\"1\" /><path clip-path=\"url(#clip210)\" d=\"M 0 0 M118.26 404.791 Q114.649 404.791 112.82 408.355 Q111.015 411.897 111.015 419.027 Q111.015 426.133 112.82 429.698 Q114.649 433.24 118.26 433.24 Q121.895 433.24 123.7 429.698 Q125.529 426.133 125.529 419.027 Q125.529 411.897 123.7 408.355 Q121.895 404.791 118.26 404.791 M118.26 401.087 Q124.07 401.087 127.126 405.693 Q130.205 410.277 130.205 419.027 Q130.205 427.754 127.126 432.36 Q124.07 436.943 118.26 436.943 Q112.45 436.943 109.371 432.36 Q106.316 427.754 106.316 419.027 Q106.316 410.277 109.371 405.693 Q112.45 401.087 118.26 401.087 Z\" fill=\"#000000\" fill-rule=\"evenodd\" fill-opacity=\"1\" /><path clip-path=\"url(#clip210)\" d=\"M 0 0 M145.274 404.791 Q141.663 404.791 139.834 408.355 Q138.029 411.897 138.029 419.027 Q138.029 426.133 139.834 429.698 Q141.663 433.24 145.274 433.24 Q148.908 433.24 150.714 429.698 Q152.543 426.133 152.543 419.027 Q152.543 411.897 150.714 408.355 Q148.908 404.791 145.274 404.791 M145.274 401.087 Q151.084 401.087 154.14 405.693 Q157.218 410.277 157.218 419.027 Q157.218 427.754 154.14 432.36 Q151.084 436.943 145.274 436.943 Q139.464 436.943 136.385 432.36 Q133.33 427.754 133.33 419.027 Q133.33 410.277 136.385 405.693 Q139.464 401.087 145.274 401.087 Z\" fill=\"#000000\" fill-rule=\"evenodd\" fill-opacity=\"1\" /><path clip-path=\"url(#clip210)\" d=\"M 0 0 M64.6495 211.784 Q61.5013 211.784 59.6495 213.937 Q57.8208 216.089 57.8208 219.839 Q57.8208 223.566 59.6495 225.742 Q61.5013 227.895 64.6495 227.895 Q67.7976 227.895 69.6263 225.742 Q71.4781 223.566 71.4781 219.839 Q71.4781 216.089 69.6263 213.937 Q67.7976 211.784 64.6495 211.784 M73.9318 197.131 L73.9318 201.39 Q72.1726 200.557 70.367 200.117 Q68.5846 199.677 66.8254 199.677 Q62.1958 199.677 59.7421 202.802 Q57.3115 205.927 56.9643 212.247 Q58.33 210.233 60.3902 209.168 Q62.4504 208.08 64.9272 208.08 Q70.1355 208.08 73.1448 211.251 Q76.1772 214.4 76.1772 219.839 Q76.1772 225.163 73.029 228.381 Q69.8809 231.599 64.6495 231.599 Q58.6541 231.599 55.4828 227.015 Q52.3116 222.409 52.3116 213.682 Q52.3116 205.488 56.2004 200.626 Q60.0893 195.742 66.6402 195.742 Q68.3994 195.742 70.1818 196.089 Q71.9874 196.437 73.9318 197.131 Z\" fill=\"#000000\" fill-rule=\"evenodd\" fill-opacity=\"1\" /><path clip-path=\"url(#clip210)\" d=\"M 0 0 M91.2465 199.446 Q87.6354 199.446 85.8068 203.011 Q84.0012 206.552 84.0012 213.682 Q84.0012 220.788 85.8068 224.353 Q87.6354 227.895 91.2465 227.895 Q94.8808 227.895 96.6863 224.353 Q98.515 220.788 98.515 213.682 Q98.515 206.552 96.6863 203.011 Q94.8808 199.446 91.2465 199.446 M91.2465 195.742 Q97.0567 195.742 100.112 200.349 Q103.191 204.932 103.191 213.682 Q103.191 222.409 100.112 227.015 Q97.0567 231.599 91.2465 231.599 Q85.4364 231.599 82.3577 227.015 Q79.3022 222.409 79.3022 213.682 Q79.3022 204.932 82.3577 200.349 Q85.4364 195.742 91.2465 195.742 Z\" fill=\"#000000\" fill-rule=\"evenodd\" fill-opacity=\"1\" /><path clip-path=\"url(#clip210)\" d=\"M 0 0 M118.26 199.446 Q114.649 199.446 112.82 203.011 Q111.015 206.552 111.015 213.682 Q111.015 220.788 112.82 224.353 Q114.649 227.895 118.26 227.895 Q121.895 227.895 123.7 224.353 Q125.529 220.788 125.529 213.682 Q125.529 206.552 123.7 203.011 Q121.895 199.446 118.26 199.446 M118.26 195.742 Q124.07 195.742 127.126 200.349 Q130.205 204.932 130.205 213.682 Q130.205 222.409 127.126 227.015 Q124.07 231.599 118.26 231.599 Q112.45 231.599 109.371 227.015 Q106.316 222.409 106.316 213.682 Q106.316 204.932 109.371 200.349 Q112.45 195.742 118.26 195.742 Z\" fill=\"#000000\" fill-rule=\"evenodd\" fill-opacity=\"1\" /><path clip-path=\"url(#clip210)\" d=\"M 0 0 M145.274 199.446 Q141.663 199.446 139.834 203.011 Q138.029 206.552 138.029 213.682 Q138.029 220.788 139.834 224.353 Q141.663 227.895 145.274 227.895 Q148.908 227.895 150.714 224.353 Q152.543 220.788 152.543 213.682 Q152.543 206.552 150.714 203.011 Q148.908 199.446 145.274 199.446 M145.274 195.742 Q151.084 195.742 154.14 200.349 Q157.218 204.932 157.218 213.682 Q157.218 222.409 154.14 227.015 Q151.084 231.599 145.274 231.599 Q139.464 231.599 136.385 227.015 Q133.33 222.409 133.33 213.682 Q133.33 204.932 136.385 200.349 Q139.464 195.742 145.274 195.742 Z\" fill=\"#000000\" fill-rule=\"evenodd\" fill-opacity=\"1\" /><path clip-path=\"url(#clip212)\" d=\"\n",
       "M311.997 87.9763 L311.997 1445.72 L486.722 1445.72 L486.722 87.9763 L311.997 87.9763 L311.997 87.9763  Z\n",
       "  \" fill=\"#009af9\" fill-rule=\"evenodd\" fill-opacity=\"1\"/>\n",
       "<polyline clip-path=\"url(#clip212)\" style=\"stroke:#000000; stroke-width:4; stroke-opacity:1; fill:none\" points=\"\n",
       "  311.997,87.9763 311.997,1445.72 486.722,1445.72 486.722,87.9763 311.997,87.9763 \n",
       "  \"/>\n",
       "<path clip-path=\"url(#clip212)\" d=\"\n",
       "M486.722 1445.72 L486.722 1445.72 L661.448 1445.72 L661.448 1445.72 L486.722 1445.72 L486.722 1445.72  Z\n",
       "  \" fill=\"#009af9\" fill-rule=\"evenodd\" fill-opacity=\"1\"/>\n",
       "<polyline clip-path=\"url(#clip212)\" style=\"stroke:#000000; stroke-width:4; stroke-opacity:1; fill:none\" points=\"\n",
       "  486.722,1445.72 486.722,1445.72 661.448,1445.72 486.722,1445.72 \n",
       "  \"/>\n",
       "<path clip-path=\"url(#clip212)\" d=\"\n",
       "M661.448 1445.72 L661.448 1445.72 L836.173 1445.72 L836.173 1445.72 L661.448 1445.72 L661.448 1445.72  Z\n",
       "  \" fill=\"#009af9\" fill-rule=\"evenodd\" fill-opacity=\"1\"/>\n",
       "<polyline clip-path=\"url(#clip212)\" style=\"stroke:#000000; stroke-width:4; stroke-opacity:1; fill:none\" points=\"\n",
       "  661.448,1445.72 661.448,1445.72 836.173,1445.72 661.448,1445.72 \n",
       "  \"/>\n",
       "<path clip-path=\"url(#clip212)\" d=\"\n",
       "M836.173 1445.72 L836.173 1445.72 L1010.9 1445.72 L1010.9 1445.72 L836.173 1445.72 L836.173 1445.72  Z\n",
       "  \" fill=\"#009af9\" fill-rule=\"evenodd\" fill-opacity=\"1\"/>\n",
       "<polyline clip-path=\"url(#clip212)\" style=\"stroke:#000000; stroke-width:4; stroke-opacity:1; fill:none\" points=\"\n",
       "  836.173,1445.72 836.173,1445.72 1010.9,1445.72 836.173,1445.72 \n",
       "  \"/>\n",
       "<path clip-path=\"url(#clip212)\" d=\"\n",
       "M1010.9 1445.72 L1010.9 1445.72 L1185.62 1445.72 L1185.62 1445.72 L1010.9 1445.72 L1010.9 1445.72  Z\n",
       "  \" fill=\"#009af9\" fill-rule=\"evenodd\" fill-opacity=\"1\"/>\n",
       "<polyline clip-path=\"url(#clip212)\" style=\"stroke:#000000; stroke-width:4; stroke-opacity:1; fill:none\" points=\"\n",
       "  1010.9,1445.72 1010.9,1445.72 1185.62,1445.72 1010.9,1445.72 \n",
       "  \"/>\n",
       "<path clip-path=\"url(#clip212)\" d=\"\n",
       "M1185.62 1445.72 L1185.62 1445.72 L1360.35 1445.72 L1360.35 1445.72 L1185.62 1445.72 L1185.62 1445.72  Z\n",
       "  \" fill=\"#009af9\" fill-rule=\"evenodd\" fill-opacity=\"1\"/>\n",
       "<polyline clip-path=\"url(#clip212)\" style=\"stroke:#000000; stroke-width:4; stroke-opacity:1; fill:none\" points=\"\n",
       "  1185.62,1445.72 1185.62,1445.72 1360.35,1445.72 1185.62,1445.72 \n",
       "  \"/>\n",
       "<path clip-path=\"url(#clip212)\" d=\"\n",
       "M1360.35 1445.72 L1360.35 1445.72 L1535.08 1445.72 L1535.08 1445.72 L1360.35 1445.72 L1360.35 1445.72  Z\n",
       "  \" fill=\"#009af9\" fill-rule=\"evenodd\" fill-opacity=\"1\"/>\n",
       "<polyline clip-path=\"url(#clip212)\" style=\"stroke:#000000; stroke-width:4; stroke-opacity:1; fill:none\" points=\"\n",
       "  1360.35,1445.72 1360.35,1445.72 1535.08,1445.72 1360.35,1445.72 \n",
       "  \"/>\n",
       "<path clip-path=\"url(#clip212)\" d=\"\n",
       "M1535.08 1445.72 L1535.08 1445.72 L1709.8 1445.72 L1709.8 1445.72 L1535.08 1445.72 L1535.08 1445.72  Z\n",
       "  \" fill=\"#009af9\" fill-rule=\"evenodd\" fill-opacity=\"1\"/>\n",
       "<polyline clip-path=\"url(#clip212)\" style=\"stroke:#000000; stroke-width:4; stroke-opacity:1; fill:none\" points=\"\n",
       "  1535.08,1445.72 1535.08,1445.72 1709.8,1445.72 1535.08,1445.72 \n",
       "  \"/>\n",
       "<path clip-path=\"url(#clip212)\" d=\"\n",
       "M1709.8 1445.72 L1709.8 1445.72 L1884.53 1445.72 L1884.53 1445.72 L1709.8 1445.72 L1709.8 1445.72  Z\n",
       "  \" fill=\"#009af9\" fill-rule=\"evenodd\" fill-opacity=\"1\"/>\n",
       "<polyline clip-path=\"url(#clip212)\" style=\"stroke:#000000; stroke-width:4; stroke-opacity:1; fill:none\" points=\"\n",
       "  1709.8,1445.72 1709.8,1445.72 1884.53,1445.72 1709.8,1445.72 \n",
       "  \"/>\n",
       "<path clip-path=\"url(#clip212)\" d=\"\n",
       "M1884.53 1445.72 L1884.53 1445.72 L2059.25 1445.72 L2059.25 1445.72 L1884.53 1445.72 L1884.53 1445.72  Z\n",
       "  \" fill=\"#009af9\" fill-rule=\"evenodd\" fill-opacity=\"1\"/>\n",
       "<polyline clip-path=\"url(#clip212)\" style=\"stroke:#000000; stroke-width:4; stroke-opacity:1; fill:none\" points=\"\n",
       "  1884.53,1445.72 1884.53,1445.72 2059.25,1445.72 1884.53,1445.72 \n",
       "  \"/>\n",
       "<path clip-path=\"url(#clip212)\" d=\"\n",
       "M2059.25 750.008 L2059.25 1445.72 L2233.98 1445.72 L2233.98 750.008 L2059.25 750.008 L2059.25 750.008  Z\n",
       "  \" fill=\"#009af9\" fill-rule=\"evenodd\" fill-opacity=\"1\"/>\n",
       "<polyline clip-path=\"url(#clip212)\" style=\"stroke:#000000; stroke-width:4; stroke-opacity:1; fill:none\" points=\"\n",
       "  2059.25,750.008 2059.25,1445.72 2233.98,1445.72 2233.98,750.008 2059.25,750.008 \n",
       "  \"/>\n",
       "<path clip-path=\"url(#clip210)\" d=\"\n",
       "M1989.8 216.178 L2280.77 216.178 L2280.77 95.2176 L1989.8 95.2176  Z\n",
       "  \" fill=\"#ffffff\" fill-rule=\"evenodd\" fill-opacity=\"1\"/>\n",
       "<polyline clip-path=\"url(#clip210)\" style=\"stroke:#000000; stroke-width:4; stroke-opacity:1; fill:none\" points=\"\n",
       "  1989.8,216.178 2280.77,216.178 2280.77,95.2176 1989.8,95.2176 1989.8,216.178 \n",
       "  \"/>\n",
       "<path clip-path=\"url(#clip210)\" d=\"\n",
       "M2013.8 179.89 L2157.77 179.89 L2157.77 131.506 L2013.8 131.506 L2013.8 179.89  Z\n",
       "  \" fill=\"#009af9\" fill-rule=\"evenodd\" fill-opacity=\"1\"/>\n",
       "<polyline clip-path=\"url(#clip210)\" style=\"stroke:#000000; stroke-width:4; stroke-opacity:1; fill:none\" points=\"\n",
       "  2013.8,179.89 2157.77,179.89 2157.77,131.506 2013.8,131.506 2013.8,179.89 \n",
       "  \"/>\n",
       "<path clip-path=\"url(#clip210)\" d=\"M 0 0 M2195.61 175.385 Q2193.8 180.015 2192.09 181.427 Q2190.37 182.839 2187.5 182.839 L2184.1 182.839 L2184.1 179.274 L2186.6 179.274 Q2188.36 179.274 2189.33 178.44 Q2190.3 177.607 2191.49 174.505 L2192.25 172.561 L2181.76 147.052 L2186.28 147.052 L2194.38 167.329 L2202.48 147.052 L2206.99 147.052 L2195.61 175.385 Z\" fill=\"#000000\" fill-rule=\"evenodd\" fill-opacity=\"1\" /><path clip-path=\"url(#clip210)\" d=\"M 0 0 M2212.87 169.042 L2220.51 169.042 L2220.51 142.677 L2212.2 144.343 L2212.2 140.084 L2220.47 138.418 L2225.14 138.418 L2225.14 169.042 L2232.78 169.042 L2232.78 172.978 L2212.87 172.978 L2212.87 169.042 Z\" fill=\"#000000\" fill-rule=\"evenodd\" fill-opacity=\"1\" /></svg>\n"
      ]
     },
     "execution_count": 443,
     "metadata": {},
     "output_type": "execute_result"
    }
   ],
   "source": [
    "m = agent(QUEEN, true)\n",
    "chains = sample(m, IS(), 10000 , n_chains=1, progress = true)\n",
    "histogram(generated_quantities(m, chains))"
   ]
  },
  {
   "cell_type": "code",
   "execution_count": 444,
   "metadata": {},
   "outputs": [
    {
     "name": "stderr",
     "output_type": "stream",
     "text": [
      "\u001b[32mSampling: 100%|█████████████████████████████████████████| Time: 0:00:00\u001b[39m\n"
     ]
    },
    {
     "data": {
      "image/svg+xml": [
       "<?xml version=\"1.0\" encoding=\"utf-8\"?>\n",
       "<svg xmlns=\"http://www.w3.org/2000/svg\" xmlns:xlink=\"http://www.w3.org/1999/xlink\" width=\"600\" height=\"400\" viewBox=\"0 0 2400 1600\">\n",
       "<defs>\n",
       "  <clipPath id=\"clip250\">\n",
       "    <rect x=\"0\" y=\"0\" width=\"2400\" height=\"1600\"/>\n",
       "  </clipPath>\n",
       "</defs>\n",
       "<path clip-path=\"url(#clip250)\" d=\"\n",
       "M0 1600 L2400 1600 L2400 0 L0 0  Z\n",
       "  \" fill=\"#ffffff\" fill-rule=\"evenodd\" fill-opacity=\"1\"/>\n",
       "<defs>\n",
       "  <clipPath id=\"clip251\">\n",
       "    <rect x=\"480\" y=\"0\" width=\"1681\" height=\"1600\"/>\n",
       "  </clipPath>\n",
       "</defs>\n",
       "<path clip-path=\"url(#clip250)\" d=\"\n",
       "M188.612 1486.45 L2352.76 1486.45 L2352.76 47.2441 L188.612 47.2441  Z\n",
       "  \" fill=\"#ffffff\" fill-rule=\"evenodd\" fill-opacity=\"1\"/>\n",
       "<defs>\n",
       "  <clipPath id=\"clip252\">\n",
       "    <rect x=\"188\" y=\"47\" width=\"2165\" height=\"1440\"/>\n",
       "  </clipPath>\n",
       "</defs>\n",
       "<polyline clip-path=\"url(#clip252)\" style=\"stroke:#000000; stroke-width:2; stroke-opacity:0.1; fill:none\" points=\"\n",
       "  307.644,1486.45 307.644,47.2441 \n",
       "  \"/>\n",
       "<polyline clip-path=\"url(#clip252)\" style=\"stroke:#000000; stroke-width:2; stroke-opacity:0.1; fill:none\" points=\"\n",
       "  789.164,1486.45 789.164,47.2441 \n",
       "  \"/>\n",
       "<polyline clip-path=\"url(#clip252)\" style=\"stroke:#000000; stroke-width:2; stroke-opacity:0.1; fill:none\" points=\"\n",
       "  1270.68,1486.45 1270.68,47.2441 \n",
       "  \"/>\n",
       "<polyline clip-path=\"url(#clip252)\" style=\"stroke:#000000; stroke-width:2; stroke-opacity:0.1; fill:none\" points=\"\n",
       "  1752.2,1486.45 1752.2,47.2441 \n",
       "  \"/>\n",
       "<polyline clip-path=\"url(#clip252)\" style=\"stroke:#000000; stroke-width:2; stroke-opacity:0.1; fill:none\" points=\"\n",
       "  2233.72,1486.45 2233.72,47.2441 \n",
       "  \"/>\n",
       "<polyline clip-path=\"url(#clip250)\" style=\"stroke:#000000; stroke-width:4; stroke-opacity:1; fill:none\" points=\"\n",
       "  188.612,1486.45 2352.76,1486.45 \n",
       "  \"/>\n",
       "<polyline clip-path=\"url(#clip250)\" style=\"stroke:#000000; stroke-width:4; stroke-opacity:1; fill:none\" points=\"\n",
       "  307.644,1486.45 307.644,1469.18 \n",
       "  \"/>\n",
       "<polyline clip-path=\"url(#clip250)\" style=\"stroke:#000000; stroke-width:4; stroke-opacity:1; fill:none\" points=\"\n",
       "  789.164,1486.45 789.164,1469.18 \n",
       "  \"/>\n",
       "<polyline clip-path=\"url(#clip250)\" style=\"stroke:#000000; stroke-width:4; stroke-opacity:1; fill:none\" points=\"\n",
       "  1270.68,1486.45 1270.68,1469.18 \n",
       "  \"/>\n",
       "<polyline clip-path=\"url(#clip250)\" style=\"stroke:#000000; stroke-width:4; stroke-opacity:1; fill:none\" points=\"\n",
       "  1752.2,1486.45 1752.2,1469.18 \n",
       "  \"/>\n",
       "<polyline clip-path=\"url(#clip250)\" style=\"stroke:#000000; stroke-width:4; stroke-opacity:1; fill:none\" points=\"\n",
       "  2233.72,1486.45 2233.72,1469.18 \n",
       "  \"/>\n",
       "<path clip-path=\"url(#clip250)\" d=\"M 0 0 M275.653 1515.64 Q272.042 1515.64 270.213 1519.2 Q268.408 1522.75 268.408 1529.87 Q268.408 1536.98 270.213 1540.55 Q272.042 1544.09 275.653 1544.09 Q279.287 1544.09 281.093 1540.55 Q282.922 1536.98 282.922 1529.87 Q282.922 1522.75 281.093 1519.2 Q279.287 1515.64 275.653 1515.64 M275.653 1511.93 Q281.463 1511.93 284.519 1516.54 Q287.598 1521.12 287.598 1529.87 Q287.598 1538.6 284.519 1543.21 Q281.463 1547.79 275.653 1547.79 Q269.843 1547.79 266.764 1543.21 Q263.709 1538.6 263.709 1529.87 Q263.709 1521.12 266.764 1516.54 Q269.843 1511.93 275.653 1511.93 Z\" fill=\"#000000\" fill-rule=\"evenodd\" fill-opacity=\"1\" /><path clip-path=\"url(#clip250)\" d=\"M 0 0 M292.667 1541.24 L297.551 1541.24 L297.551 1547.12 L292.667 1547.12 L292.667 1541.24 Z\" fill=\"#000000\" fill-rule=\"evenodd\" fill-opacity=\"1\" /><path clip-path=\"url(#clip250)\" d=\"M 0 0 M312.621 1515.64 Q309.009 1515.64 307.181 1519.2 Q305.375 1522.75 305.375 1529.87 Q305.375 1536.98 307.181 1540.55 Q309.009 1544.09 312.621 1544.09 Q316.255 1544.09 318.06 1540.55 Q319.889 1536.98 319.889 1529.87 Q319.889 1522.75 318.06 1519.2 Q316.255 1515.64 312.621 1515.64 M312.621 1511.93 Q318.431 1511.93 321.486 1516.54 Q324.565 1521.12 324.565 1529.87 Q324.565 1538.6 321.486 1543.21 Q318.431 1547.79 312.621 1547.79 Q306.81 1547.79 303.732 1543.21 Q300.676 1538.6 300.676 1529.87 Q300.676 1521.12 303.732 1516.54 Q306.81 1511.93 312.621 1511.93 Z\" fill=\"#000000\" fill-rule=\"evenodd\" fill-opacity=\"1\" /><path clip-path=\"url(#clip250)\" d=\"M 0 0 M339.634 1515.64 Q336.023 1515.64 334.195 1519.2 Q332.389 1522.75 332.389 1529.87 Q332.389 1536.98 334.195 1540.55 Q336.023 1544.09 339.634 1544.09 Q343.269 1544.09 345.074 1540.55 Q346.903 1536.98 346.903 1529.87 Q346.903 1522.75 345.074 1519.2 Q343.269 1515.64 339.634 1515.64 M339.634 1511.93 Q345.444 1511.93 348.5 1516.54 Q351.579 1521.12 351.579 1529.87 Q351.579 1538.6 348.5 1543.21 Q345.444 1547.79 339.634 1547.79 Q333.824 1547.79 330.745 1543.21 Q327.69 1538.6 327.69 1529.87 Q327.69 1521.12 330.745 1516.54 Q333.824 1511.93 339.634 1511.93 Z\" fill=\"#000000\" fill-rule=\"evenodd\" fill-opacity=\"1\" /><path clip-path=\"url(#clip250)\" d=\"M 0 0 M758.47 1515.64 Q754.858 1515.64 753.03 1519.2 Q751.224 1522.75 751.224 1529.87 Q751.224 1536.98 753.03 1540.55 Q754.858 1544.09 758.47 1544.09 Q762.104 1544.09 763.909 1540.55 Q765.738 1536.98 765.738 1529.87 Q765.738 1522.75 763.909 1519.2 Q762.104 1515.64 758.47 1515.64 M758.47 1511.93 Q764.28 1511.93 767.335 1516.54 Q770.414 1521.12 770.414 1529.87 Q770.414 1538.6 767.335 1543.21 Q764.28 1547.79 758.47 1547.79 Q752.659 1547.79 749.581 1543.21 Q746.525 1538.6 746.525 1529.87 Q746.525 1521.12 749.581 1516.54 Q752.659 1511.93 758.47 1511.93 Z\" fill=\"#000000\" fill-rule=\"evenodd\" fill-opacity=\"1\" /><path clip-path=\"url(#clip250)\" d=\"M 0 0 M775.483 1541.24 L780.368 1541.24 L780.368 1547.12 L775.483 1547.12 L775.483 1541.24 Z\" fill=\"#000000\" fill-rule=\"evenodd\" fill-opacity=\"1\" /><path clip-path=\"url(#clip250)\" d=\"M 0 0 M789.465 1543.18 L805.784 1543.18 L805.784 1547.12 L783.84 1547.12 L783.84 1543.18 Q786.502 1540.43 791.085 1535.8 Q795.692 1531.15 796.872 1529.81 Q799.117 1527.28 799.997 1525.55 Q800.9 1523.79 800.9 1522.1 Q800.9 1519.34 798.955 1517.61 Q797.034 1515.87 793.932 1515.87 Q791.733 1515.87 789.28 1516.63 Q786.849 1517.4 784.071 1518.95 L784.071 1514.23 Q786.895 1513.09 789.349 1512.51 Q791.803 1511.93 793.84 1511.93 Q799.21 1511.93 802.404 1514.62 Q805.599 1517.31 805.599 1521.8 Q805.599 1523.93 804.789 1525.85 Q804.002 1527.74 801.895 1530.34 Q801.317 1531.01 798.215 1534.23 Q795.113 1537.42 789.465 1543.18 Z\" fill=\"#000000\" fill-rule=\"evenodd\" fill-opacity=\"1\" /><path clip-path=\"url(#clip250)\" d=\"M 0 0 M810.9 1512.56 L829.256 1512.56 L829.256 1516.5 L815.182 1516.5 L815.182 1524.97 Q816.201 1524.62 817.219 1524.46 Q818.238 1524.27 819.256 1524.27 Q825.043 1524.27 828.423 1527.44 Q831.802 1530.62 831.802 1536.03 Q831.802 1541.61 828.33 1544.71 Q824.858 1547.79 818.539 1547.79 Q816.363 1547.79 814.094 1547.42 Q811.849 1547.05 809.441 1546.31 L809.441 1541.61 Q811.525 1542.74 813.747 1543.3 Q815.969 1543.86 818.446 1543.86 Q822.451 1543.86 824.789 1541.75 Q827.127 1539.64 827.127 1536.03 Q827.127 1532.42 824.789 1530.31 Q822.451 1528.21 818.446 1528.21 Q816.571 1528.21 814.696 1528.62 Q812.844 1529.04 810.9 1529.92 L810.9 1512.56 Z\" fill=\"#000000\" fill-rule=\"evenodd\" fill-opacity=\"1\" /><path clip-path=\"url(#clip250)\" d=\"M 0 0 M1239.19 1515.64 Q1235.58 1515.64 1233.75 1519.2 Q1231.95 1522.75 1231.95 1529.87 Q1231.95 1536.98 1233.75 1540.55 Q1235.58 1544.09 1239.19 1544.09 Q1242.83 1544.09 1244.63 1540.55 Q1246.46 1536.98 1246.46 1529.87 Q1246.46 1522.75 1244.63 1519.2 Q1242.83 1515.64 1239.19 1515.64 M1239.19 1511.93 Q1245 1511.93 1248.06 1516.54 Q1251.14 1521.12 1251.14 1529.87 Q1251.14 1538.6 1248.06 1543.21 Q1245 1547.79 1239.19 1547.79 Q1233.38 1547.79 1230.3 1543.21 Q1227.25 1538.6 1227.25 1529.87 Q1227.25 1521.12 1230.3 1516.54 Q1233.38 1511.93 1239.19 1511.93 Z\" fill=\"#000000\" fill-rule=\"evenodd\" fill-opacity=\"1\" /><path clip-path=\"url(#clip250)\" d=\"M 0 0 M1256.2 1541.24 L1261.09 1541.24 L1261.09 1547.12 L1256.2 1547.12 L1256.2 1541.24 Z\" fill=\"#000000\" fill-rule=\"evenodd\" fill-opacity=\"1\" /><path clip-path=\"url(#clip250)\" d=\"M 0 0 M1266.2 1512.56 L1284.56 1512.56 L1284.56 1516.5 L1270.49 1516.5 L1270.49 1524.97 Q1271.51 1524.62 1272.52 1524.46 Q1273.54 1524.27 1274.56 1524.27 Q1280.35 1524.27 1283.73 1527.44 Q1287.11 1530.62 1287.11 1536.03 Q1287.11 1541.61 1283.64 1544.71 Q1280.16 1547.79 1273.84 1547.79 Q1271.67 1547.79 1269.4 1547.42 Q1267.15 1547.05 1264.75 1546.31 L1264.75 1541.61 Q1266.83 1542.74 1269.05 1543.3 Q1271.27 1543.86 1273.75 1543.86 Q1277.76 1543.86 1280.09 1541.75 Q1282.43 1539.64 1282.43 1536.03 Q1282.43 1532.42 1280.09 1530.31 Q1277.76 1528.21 1273.75 1528.21 Q1271.88 1528.21 1270 1528.62 Q1268.15 1529.04 1266.2 1529.92 L1266.2 1512.56 Z\" fill=\"#000000\" fill-rule=\"evenodd\" fill-opacity=\"1\" /><path clip-path=\"url(#clip250)\" d=\"M 0 0 M1302.18 1515.64 Q1298.57 1515.64 1296.74 1519.2 Q1294.93 1522.75 1294.93 1529.87 Q1294.93 1536.98 1296.74 1540.55 Q1298.57 1544.09 1302.18 1544.09 Q1305.81 1544.09 1307.62 1540.55 Q1309.45 1536.98 1309.45 1529.87 Q1309.45 1522.75 1307.62 1519.2 Q1305.81 1515.64 1302.18 1515.64 M1302.18 1511.93 Q1307.99 1511.93 1311.04 1516.54 Q1314.12 1521.12 1314.12 1529.87 Q1314.12 1538.6 1311.04 1543.21 Q1307.99 1547.79 1302.18 1547.79 Q1296.37 1547.79 1293.29 1543.21 Q1290.23 1538.6 1290.23 1529.87 Q1290.23 1521.12 1293.29 1516.54 Q1296.37 1511.93 1302.18 1511.93 Z\" fill=\"#000000\" fill-rule=\"evenodd\" fill-opacity=\"1\" /><path clip-path=\"url(#clip250)\" d=\"M 0 0 M1721.16 1515.64 Q1717.55 1515.64 1715.72 1519.2 Q1713.92 1522.75 1713.92 1529.87 Q1713.92 1536.98 1715.72 1540.55 Q1717.55 1544.09 1721.16 1544.09 Q1724.8 1544.09 1726.6 1540.55 Q1728.43 1536.98 1728.43 1529.87 Q1728.43 1522.75 1726.6 1519.2 Q1724.8 1515.64 1721.16 1515.64 M1721.16 1511.93 Q1726.97 1511.93 1730.03 1516.54 Q1733.11 1521.12 1733.11 1529.87 Q1733.11 1538.6 1730.03 1543.21 Q1726.97 1547.79 1721.16 1547.79 Q1715.35 1547.79 1712.27 1543.21 Q1709.22 1538.6 1709.22 1529.87 Q1709.22 1521.12 1712.27 1516.54 Q1715.35 1511.93 1721.16 1511.93 Z\" fill=\"#000000\" fill-rule=\"evenodd\" fill-opacity=\"1\" /><path clip-path=\"url(#clip250)\" d=\"M 0 0 M1738.18 1541.24 L1743.06 1541.24 L1743.06 1547.12 L1738.18 1547.12 L1738.18 1541.24 Z\" fill=\"#000000\" fill-rule=\"evenodd\" fill-opacity=\"1\" /><path clip-path=\"url(#clip250)\" d=\"M 0 0 M1746.95 1512.56 L1769.17 1512.56 L1769.17 1514.55 L1756.63 1547.12 L1751.74 1547.12 L1763.55 1516.5 L1746.95 1516.5 L1746.95 1512.56 Z\" fill=\"#000000\" fill-rule=\"evenodd\" fill-opacity=\"1\" /><path clip-path=\"url(#clip250)\" d=\"M 0 0 M1774.29 1512.56 L1792.64 1512.56 L1792.64 1516.5 L1778.57 1516.5 L1778.57 1524.97 Q1779.59 1524.62 1780.61 1524.46 Q1781.63 1524.27 1782.64 1524.27 Q1788.43 1524.27 1791.81 1527.44 Q1795.19 1530.62 1795.19 1536.03 Q1795.19 1541.61 1791.72 1544.71 Q1788.25 1547.79 1781.93 1547.79 Q1779.75 1547.79 1777.48 1547.42 Q1775.24 1547.05 1772.83 1546.31 L1772.83 1541.61 Q1774.91 1542.74 1777.13 1543.3 Q1779.36 1543.86 1781.83 1543.86 Q1785.84 1543.86 1788.18 1541.75 Q1790.51 1539.64 1790.51 1536.03 Q1790.51 1532.42 1788.18 1530.31 Q1785.84 1528.21 1781.83 1528.21 Q1779.96 1528.21 1778.08 1528.62 Q1776.23 1529.04 1774.29 1529.92 L1774.29 1512.56 Z\" fill=\"#000000\" fill-rule=\"evenodd\" fill-opacity=\"1\" /><path clip-path=\"url(#clip250)\" d=\"M 0 0 M2192.12 1543.18 L2199.75 1543.18 L2199.75 1516.82 L2191.44 1518.49 L2191.44 1514.23 L2199.71 1512.56 L2204.38 1512.56 L2204.38 1543.18 L2212.02 1543.18 L2212.02 1547.12 L2192.12 1547.12 L2192.12 1543.18 Z\" fill=\"#000000\" fill-rule=\"evenodd\" fill-opacity=\"1\" /><path clip-path=\"url(#clip250)\" d=\"M 0 0 M2217.09 1541.24 L2221.98 1541.24 L2221.98 1547.12 L2217.09 1547.12 L2217.09 1541.24 Z\" fill=\"#000000\" fill-rule=\"evenodd\" fill-opacity=\"1\" /><path clip-path=\"url(#clip250)\" d=\"M 0 0 M2237.05 1515.64 Q2233.43 1515.64 2231.61 1519.2 Q2229.8 1522.75 2229.8 1529.87 Q2229.8 1536.98 2231.61 1540.55 Q2233.43 1544.09 2237.05 1544.09 Q2240.68 1544.09 2242.49 1540.55 Q2244.31 1536.98 2244.31 1529.87 Q2244.31 1522.75 2242.49 1519.2 Q2240.68 1515.64 2237.05 1515.64 M2237.05 1511.93 Q2242.86 1511.93 2245.91 1516.54 Q2248.99 1521.12 2248.99 1529.87 Q2248.99 1538.6 2245.91 1543.21 Q2242.86 1547.79 2237.05 1547.79 Q2231.24 1547.79 2228.16 1543.21 Q2225.1 1538.6 2225.1 1529.87 Q2225.1 1521.12 2228.16 1516.54 Q2231.24 1511.93 2237.05 1511.93 Z\" fill=\"#000000\" fill-rule=\"evenodd\" fill-opacity=\"1\" /><path clip-path=\"url(#clip250)\" d=\"M 0 0 M2264.06 1515.64 Q2260.45 1515.64 2258.62 1519.2 Q2256.81 1522.75 2256.81 1529.87 Q2256.81 1536.98 2258.62 1540.55 Q2260.45 1544.09 2264.06 1544.09 Q2267.69 1544.09 2269.5 1540.55 Q2271.33 1536.98 2271.33 1529.87 Q2271.33 1522.75 2269.5 1519.2 Q2267.69 1515.64 2264.06 1515.64 M2264.06 1511.93 Q2269.87 1511.93 2272.93 1516.54 Q2276 1521.12 2276 1529.87 Q2276 1538.6 2272.93 1543.21 Q2269.87 1547.79 2264.06 1547.79 Q2258.25 1547.79 2255.17 1543.21 Q2252.12 1538.6 2252.12 1529.87 Q2252.12 1521.12 2255.17 1516.54 Q2258.25 1511.93 2264.06 1511.93 Z\" fill=\"#000000\" fill-rule=\"evenodd\" fill-opacity=\"1\" /><polyline clip-path=\"url(#clip252)\" style=\"stroke:#000000; stroke-width:2; stroke-opacity:0.1; fill:none\" points=\"\n",
       "  188.612,1445.72 2352.76,1445.72 \n",
       "  \"/>\n",
       "<polyline clip-path=\"url(#clip252)\" style=\"stroke:#000000; stroke-width:2; stroke-opacity:0.1; fill:none\" points=\"\n",
       "  188.612,1106.28 2352.76,1106.28 \n",
       "  \"/>\n",
       "<polyline clip-path=\"url(#clip252)\" style=\"stroke:#000000; stroke-width:2; stroke-opacity:0.1; fill:none\" points=\"\n",
       "  188.612,766.846 2352.76,766.846 \n",
       "  \"/>\n",
       "<polyline clip-path=\"url(#clip252)\" style=\"stroke:#000000; stroke-width:2; stroke-opacity:0.1; fill:none\" points=\"\n",
       "  188.612,427.411 2352.76,427.411 \n",
       "  \"/>\n",
       "<polyline clip-path=\"url(#clip252)\" style=\"stroke:#000000; stroke-width:2; stroke-opacity:0.1; fill:none\" points=\"\n",
       "  188.612,87.9763 2352.76,87.9763 \n",
       "  \"/>\n",
       "<polyline clip-path=\"url(#clip250)\" style=\"stroke:#000000; stroke-width:4; stroke-opacity:1; fill:none\" points=\"\n",
       "  188.612,1486.45 188.612,47.2441 \n",
       "  \"/>\n",
       "<polyline clip-path=\"url(#clip250)\" style=\"stroke:#000000; stroke-width:4; stroke-opacity:1; fill:none\" points=\"\n",
       "  188.612,1445.72 214.582,1445.72 \n",
       "  \"/>\n",
       "<polyline clip-path=\"url(#clip250)\" style=\"stroke:#000000; stroke-width:4; stroke-opacity:1; fill:none\" points=\"\n",
       "  188.612,1106.28 214.582,1106.28 \n",
       "  \"/>\n",
       "<polyline clip-path=\"url(#clip250)\" style=\"stroke:#000000; stroke-width:4; stroke-opacity:1; fill:none\" points=\"\n",
       "  188.612,766.846 214.582,766.846 \n",
       "  \"/>\n",
       "<polyline clip-path=\"url(#clip250)\" style=\"stroke:#000000; stroke-width:4; stroke-opacity:1; fill:none\" points=\"\n",
       "  188.612,427.411 214.582,427.411 \n",
       "  \"/>\n",
       "<polyline clip-path=\"url(#clip250)\" style=\"stroke:#000000; stroke-width:4; stroke-opacity:1; fill:none\" points=\"\n",
       "  188.612,87.9763 214.582,87.9763 \n",
       "  \"/>\n",
       "<path clip-path=\"url(#clip250)\" d=\"M 0 0 M140.668 1431.51 Q137.056 1431.51 135.228 1435.08 Q133.422 1438.62 133.422 1445.75 Q133.422 1452.86 135.228 1456.42 Q137.056 1459.96 140.668 1459.96 Q144.302 1459.96 146.107 1456.42 Q147.936 1452.86 147.936 1445.75 Q147.936 1438.62 146.107 1435.08 Q144.302 1431.51 140.668 1431.51 M140.668 1427.81 Q146.478 1427.81 149.533 1432.42 Q152.612 1437 152.612 1445.75 Q152.612 1454.48 149.533 1459.08 Q146.478 1463.67 140.668 1463.67 Q134.857 1463.67 131.779 1459.08 Q128.723 1454.48 128.723 1445.75 Q128.723 1437 131.779 1432.42 Q134.857 1427.81 140.668 1427.81 Z\" fill=\"#000000\" fill-rule=\"evenodd\" fill-opacity=\"1\" /><path clip-path=\"url(#clip250)\" d=\"M 0 0 M83.2605 1119.63 L99.5798 1119.63 L99.5798 1123.56 L77.6355 1123.56 L77.6355 1119.63 Q80.2975 1116.87 84.8808 1112.24 Q89.4873 1107.59 90.6678 1106.25 Q92.9132 1103.72 93.7928 1101.99 Q94.6956 1100.23 94.6956 1098.54 Q94.6956 1095.78 92.7512 1094.05 Q90.8299 1092.31 87.728 1092.31 Q85.529 1092.31 83.0753 1093.07 Q80.6447 1093.84 77.867 1095.39 L77.867 1090.67 Q80.691 1089.53 83.1447 1088.95 Q85.5984 1088.38 87.6354 1088.38 Q93.0058 1088.38 96.2002 1091.06 Q99.3946 1093.75 99.3946 1098.24 Q99.3946 1100.37 98.5845 1102.29 Q97.7974 1104.19 95.691 1106.78 Q95.1123 1107.45 92.0104 1110.67 Q88.9086 1113.86 83.2605 1119.63 Z\" fill=\"#000000\" fill-rule=\"evenodd\" fill-opacity=\"1\" /><path clip-path=\"url(#clip250)\" d=\"M 0 0 M104.696 1089 L123.052 1089 L123.052 1092.94 L108.978 1092.94 L108.978 1101.41 Q109.996 1101.06 111.015 1100.9 Q112.033 1100.71 113.052 1100.71 Q118.839 1100.71 122.219 1103.89 Q125.598 1107.06 125.598 1112.47 Q125.598 1118.05 122.126 1121.15 Q118.654 1124.23 112.334 1124.23 Q110.158 1124.23 107.89 1123.86 Q105.645 1123.49 103.237 1122.75 L103.237 1118.05 Q105.321 1119.19 107.543 1119.74 Q109.765 1120.3 112.242 1120.3 Q116.246 1120.3 118.584 1118.19 Q120.922 1116.08 120.922 1112.47 Q120.922 1108.86 118.584 1106.76 Q116.246 1104.65 112.242 1104.65 Q110.367 1104.65 108.492 1105.07 Q106.64 1105.48 104.696 1106.36 L104.696 1089 Z\" fill=\"#000000\" fill-rule=\"evenodd\" fill-opacity=\"1\" /><path clip-path=\"url(#clip250)\" d=\"M 0 0 M140.668 1092.08 Q137.056 1092.08 135.228 1095.64 Q133.422 1099.19 133.422 1106.32 Q133.422 1113.42 135.228 1116.99 Q137.056 1120.53 140.668 1120.53 Q144.302 1120.53 146.107 1116.99 Q147.936 1113.42 147.936 1106.32 Q147.936 1099.19 146.107 1095.64 Q144.302 1092.08 140.668 1092.08 M140.668 1088.38 Q146.478 1088.38 149.533 1092.98 Q152.612 1097.57 152.612 1106.32 Q152.612 1115.04 149.533 1119.65 Q146.478 1124.23 140.668 1124.23 Q134.857 1124.23 131.779 1119.65 Q128.723 1115.04 128.723 1106.32 Q128.723 1097.57 131.779 1092.98 Q134.857 1088.38 140.668 1088.38 Z\" fill=\"#000000\" fill-rule=\"evenodd\" fill-opacity=\"1\" /><path clip-path=\"url(#clip250)\" d=\"M 0 0 M77.6818 749.566 L96.0382 749.566 L96.0382 753.501 L81.9642 753.501 L81.9642 761.973 Q82.9827 761.626 84.0012 761.464 Q85.0197 761.279 86.0382 761.279 Q91.8252 761.279 95.2049 764.45 Q98.5845 767.621 98.5845 773.038 Q98.5845 778.617 95.1123 781.719 Q91.6401 784.797 85.3206 784.797 Q83.1447 784.797 80.8762 784.427 Q78.6309 784.057 76.2235 783.316 L76.2235 778.617 Q78.3068 779.751 80.529 780.307 Q82.7512 780.862 85.2281 780.862 Q89.2327 780.862 91.5706 778.756 Q93.9086 776.649 93.9086 773.038 Q93.9086 769.427 91.5706 767.321 Q89.2327 765.214 85.2281 765.214 Q83.3531 765.214 81.4781 765.631 Q79.6262 766.047 77.6818 766.927 L77.6818 749.566 Z\" fill=\"#000000\" fill-rule=\"evenodd\" fill-opacity=\"1\" /><path clip-path=\"url(#clip250)\" d=\"M 0 0 M113.654 752.645 Q110.043 752.645 108.214 756.209 Q106.408 759.751 106.408 766.881 Q106.408 773.987 108.214 777.552 Q110.043 781.094 113.654 781.094 Q117.288 781.094 119.094 777.552 Q120.922 773.987 120.922 766.881 Q120.922 759.751 119.094 756.209 Q117.288 752.645 113.654 752.645 M113.654 748.941 Q119.464 748.941 122.52 753.547 Q125.598 758.131 125.598 766.881 Q125.598 775.608 122.52 780.214 Q119.464 784.797 113.654 784.797 Q107.844 784.797 104.765 780.214 Q101.709 775.608 101.709 766.881 Q101.709 758.131 104.765 753.547 Q107.844 748.941 113.654 748.941 Z\" fill=\"#000000\" fill-rule=\"evenodd\" fill-opacity=\"1\" /><path clip-path=\"url(#clip250)\" d=\"M 0 0 M140.668 752.645 Q137.056 752.645 135.228 756.209 Q133.422 759.751 133.422 766.881 Q133.422 773.987 135.228 777.552 Q137.056 781.094 140.668 781.094 Q144.302 781.094 146.107 777.552 Q147.936 773.987 147.936 766.881 Q147.936 759.751 146.107 756.209 Q144.302 752.645 140.668 752.645 M140.668 748.941 Q146.478 748.941 149.533 753.547 Q152.612 758.131 152.612 766.881 Q152.612 775.608 149.533 780.214 Q146.478 784.797 140.668 784.797 Q134.857 784.797 131.779 780.214 Q128.723 775.608 128.723 766.881 Q128.723 758.131 131.779 753.547 Q134.857 748.941 140.668 748.941 Z\" fill=\"#000000\" fill-rule=\"evenodd\" fill-opacity=\"1\" /><path clip-path=\"url(#clip250)\" d=\"M 0 0 M77.3577 410.131 L99.5798 410.131 L99.5798 412.122 L87.0336 444.691 L82.1494 444.691 L93.9549 414.066 L77.3577 414.066 L77.3577 410.131 Z\" fill=\"#000000\" fill-rule=\"evenodd\" fill-opacity=\"1\" /><path clip-path=\"url(#clip250)\" d=\"M 0 0 M104.696 410.131 L123.052 410.131 L123.052 414.066 L108.978 414.066 L108.978 422.538 Q109.996 422.191 111.015 422.029 Q112.033 421.844 113.052 421.844 Q118.839 421.844 122.219 425.015 Q125.598 428.187 125.598 433.603 Q125.598 439.182 122.126 442.284 Q118.654 445.362 112.334 445.362 Q110.158 445.362 107.89 444.992 Q105.645 444.622 103.237 443.881 L103.237 439.182 Q105.321 440.316 107.543 440.872 Q109.765 441.427 112.242 441.427 Q116.246 441.427 118.584 439.321 Q120.922 437.214 120.922 433.603 Q120.922 429.992 118.584 427.886 Q116.246 425.779 112.242 425.779 Q110.367 425.779 108.492 426.196 Q106.64 426.613 104.696 427.492 L104.696 410.131 Z\" fill=\"#000000\" fill-rule=\"evenodd\" fill-opacity=\"1\" /><path clip-path=\"url(#clip250)\" d=\"M 0 0 M140.668 413.21 Q137.056 413.21 135.228 416.775 Q133.422 420.316 133.422 427.446 Q133.422 434.552 135.228 438.117 Q137.056 441.659 140.668 441.659 Q144.302 441.659 146.107 438.117 Q147.936 434.552 147.936 427.446 Q147.936 420.316 146.107 416.775 Q144.302 413.21 140.668 413.21 M140.668 409.506 Q146.478 409.506 149.533 414.113 Q152.612 418.696 152.612 427.446 Q152.612 436.173 149.533 440.779 Q146.478 445.362 140.668 445.362 Q134.857 445.362 131.779 440.779 Q128.723 436.173 128.723 427.446 Q128.723 418.696 131.779 414.113 Q134.857 409.506 140.668 409.506 Z\" fill=\"#000000\" fill-rule=\"evenodd\" fill-opacity=\"1\" /><path clip-path=\"url(#clip250)\" d=\"M 0 0 M51.6634 101.321 L59.3023 101.321 L59.3023 74.9555 L50.9921 76.6222 L50.9921 72.3629 L59.256 70.6963 L63.9319 70.6963 L63.9319 101.321 L71.5707 101.321 L71.5707 105.256 L51.6634 105.256 L51.6634 101.321 Z\" fill=\"#000000\" fill-rule=\"evenodd\" fill-opacity=\"1\" /><path clip-path=\"url(#clip250)\" d=\"M 0 0 M86.6401 73.775 Q83.029 73.775 81.2003 77.3398 Q79.3948 80.8814 79.3948 88.011 Q79.3948 95.1174 81.2003 98.6822 Q83.029 102.224 86.6401 102.224 Q90.2743 102.224 92.0799 98.6822 Q93.9086 95.1174 93.9086 88.011 Q93.9086 80.8814 92.0799 77.3398 Q90.2743 73.775 86.6401 73.775 M86.6401 70.0713 Q92.4502 70.0713 95.5058 74.6777 Q98.5845 79.261 98.5845 88.011 Q98.5845 96.7378 95.5058 101.344 Q92.4502 105.928 86.6401 105.928 Q80.8299 105.928 77.7512 101.344 Q74.6957 96.7378 74.6957 88.011 Q74.6957 79.261 77.7512 74.6777 Q80.8299 70.0713 86.6401 70.0713 Z\" fill=\"#000000\" fill-rule=\"evenodd\" fill-opacity=\"1\" /><path clip-path=\"url(#clip250)\" d=\"M 0 0 M113.654 73.775 Q110.043 73.775 108.214 77.3398 Q106.408 80.8814 106.408 88.011 Q106.408 95.1174 108.214 98.6822 Q110.043 102.224 113.654 102.224 Q117.288 102.224 119.094 98.6822 Q120.922 95.1174 120.922 88.011 Q120.922 80.8814 119.094 77.3398 Q117.288 73.775 113.654 73.775 M113.654 70.0713 Q119.464 70.0713 122.52 74.6777 Q125.598 79.261 125.598 88.011 Q125.598 96.7378 122.52 101.344 Q119.464 105.928 113.654 105.928 Q107.844 105.928 104.765 101.344 Q101.709 96.7378 101.709 88.011 Q101.709 79.261 104.765 74.6777 Q107.844 70.0713 113.654 70.0713 Z\" fill=\"#000000\" fill-rule=\"evenodd\" fill-opacity=\"1\" /><path clip-path=\"url(#clip250)\" d=\"M 0 0 M140.668 73.775 Q137.056 73.775 135.228 77.3398 Q133.422 80.8814 133.422 88.011 Q133.422 95.1174 135.228 98.6822 Q137.056 102.224 140.668 102.224 Q144.302 102.224 146.107 98.6822 Q147.936 95.1174 147.936 88.011 Q147.936 80.8814 146.107 77.3398 Q144.302 73.775 140.668 73.775 M140.668 70.0713 Q146.478 70.0713 149.533 74.6777 Q152.612 79.261 152.612 88.011 Q152.612 96.7378 149.533 101.344 Q146.478 105.928 140.668 105.928 Q134.857 105.928 131.779 101.344 Q128.723 96.7378 128.723 88.011 Q128.723 79.261 131.779 74.6777 Q134.857 70.0713 140.668 70.0713 Z\" fill=\"#000000\" fill-rule=\"evenodd\" fill-opacity=\"1\" /><path clip-path=\"url(#clip252)\" d=\"\n",
       "M307.644 87.9763 L307.644 1445.72 L2233.72 1445.72 L2233.72 87.9763 L307.644 87.9763 L307.644 87.9763  Z\n",
       "  \" fill=\"#009af9\" fill-rule=\"evenodd\" fill-opacity=\"1\"/>\n",
       "<polyline clip-path=\"url(#clip252)\" style=\"stroke:#000000; stroke-width:4; stroke-opacity:1; fill:none\" points=\"\n",
       "  307.644,87.9763 307.644,1445.72 2233.72,1445.72 2233.72,87.9763 307.644,87.9763 \n",
       "  \"/>\n",
       "<path clip-path=\"url(#clip250)\" d=\"\n",
       "M1989.14 216.178 L2280.62 216.178 L2280.62 95.2176 L1989.14 95.2176  Z\n",
       "  \" fill=\"#ffffff\" fill-rule=\"evenodd\" fill-opacity=\"1\"/>\n",
       "<polyline clip-path=\"url(#clip250)\" style=\"stroke:#000000; stroke-width:4; stroke-opacity:1; fill:none\" points=\"\n",
       "  1989.14,216.178 2280.62,216.178 2280.62,95.2176 1989.14,95.2176 1989.14,216.178 \n",
       "  \"/>\n",
       "<path clip-path=\"url(#clip250)\" d=\"\n",
       "M2013.19 179.89 L2157.46 179.89 L2157.46 131.506 L2013.19 131.506 L2013.19 179.89  Z\n",
       "  \" fill=\"#009af9\" fill-rule=\"evenodd\" fill-opacity=\"1\"/>\n",
       "<polyline clip-path=\"url(#clip250)\" style=\"stroke:#000000; stroke-width:4; stroke-opacity:1; fill:none\" points=\"\n",
       "  2013.19,179.89 2157.46,179.89 2157.46,131.506 2013.19,131.506 2013.19,179.89 \n",
       "  \"/>\n",
       "<path clip-path=\"url(#clip250)\" d=\"M 0 0 M2195.35 175.385 Q2193.54 180.015 2191.83 181.427 Q2190.12 182.839 2187.25 182.839 L2183.85 182.839 L2183.85 179.274 L2186.35 179.274 Q2188.1 179.274 2189.08 178.44 Q2190.05 177.607 2191.23 174.505 L2191.99 172.561 L2181.51 147.052 L2186.02 147.052 L2194.12 167.329 L2202.22 147.052 L2206.74 147.052 L2195.35 175.385 Z\" fill=\"#000000\" fill-rule=\"evenodd\" fill-opacity=\"1\" /><path clip-path=\"url(#clip250)\" d=\"M 0 0 M2212.62 169.042 L2220.26 169.042 L2220.26 142.677 L2211.95 144.343 L2211.95 140.084 L2220.21 138.418 L2224.89 138.418 L2224.89 169.042 L2232.53 169.042 L2232.53 172.978 L2212.62 172.978 L2212.62 169.042 Z\" fill=\"#000000\" fill-rule=\"evenodd\" fill-opacity=\"1\" /></svg>\n"
      ]
     },
     "execution_count": 444,
     "metadata": {},
     "output_type": "execute_result"
    }
   ],
   "source": [
    "m = agent(KING)\n",
    "chains = sample(m, IS(), 1000 , n_chains=1, progress = true)\n",
    "histogram(generated_quantities(m, chains))"
   ]
  },
  {
   "cell_type": "code",
   "execution_count": 445,
   "metadata": {},
   "outputs": [
    {
     "data": {
      "image/svg+xml": [
       "<?xml version=\"1.0\" encoding=\"utf-8\"?>\n",
       "<svg xmlns=\"http://www.w3.org/2000/svg\" xmlns:xlink=\"http://www.w3.org/1999/xlink\" width=\"600\" height=\"400\" viewBox=\"0 0 2400 1600\">\n",
       "<defs>\n",
       "  <clipPath id=\"clip290\">\n",
       "    <rect x=\"0\" y=\"0\" width=\"2400\" height=\"1600\"/>\n",
       "  </clipPath>\n",
       "</defs>\n",
       "<path clip-path=\"url(#clip290)\" d=\"\n",
       "M0 1600 L2400 1600 L2400 0 L0 0  Z\n",
       "  \" fill=\"#ffffff\" fill-rule=\"evenodd\" fill-opacity=\"1\"/>\n",
       "<defs>\n",
       "  <clipPath id=\"clip291\">\n",
       "    <rect x=\"480\" y=\"0\" width=\"1681\" height=\"1600\"/>\n",
       "  </clipPath>\n",
       "</defs>\n",
       "<path clip-path=\"url(#clip290)\" d=\"\n",
       "M188.612 1486.45 L2352.76 1486.45 L2352.76 47.2441 L188.612 47.2441  Z\n",
       "  \" fill=\"#ffffff\" fill-rule=\"evenodd\" fill-opacity=\"1\"/>\n",
       "<defs>\n",
       "  <clipPath id=\"clip292\">\n",
       "    <rect x=\"188\" y=\"47\" width=\"2165\" height=\"1440\"/>\n",
       "  </clipPath>\n",
       "</defs>\n",
       "<polyline clip-path=\"url(#clip292)\" style=\"stroke:#000000; stroke-width:2; stroke-opacity:0.1; fill:none\" points=\"\n",
       "  307.644,1486.45 307.644,47.2441 \n",
       "  \"/>\n",
       "<polyline clip-path=\"url(#clip292)\" style=\"stroke:#000000; stroke-width:2; stroke-opacity:0.1; fill:none\" points=\"\n",
       "  789.164,1486.45 789.164,47.2441 \n",
       "  \"/>\n",
       "<polyline clip-path=\"url(#clip292)\" style=\"stroke:#000000; stroke-width:2; stroke-opacity:0.1; fill:none\" points=\"\n",
       "  1270.68,1486.45 1270.68,47.2441 \n",
       "  \"/>\n",
       "<polyline clip-path=\"url(#clip292)\" style=\"stroke:#000000; stroke-width:2; stroke-opacity:0.1; fill:none\" points=\"\n",
       "  1752.2,1486.45 1752.2,47.2441 \n",
       "  \"/>\n",
       "<polyline clip-path=\"url(#clip292)\" style=\"stroke:#000000; stroke-width:2; stroke-opacity:0.1; fill:none\" points=\"\n",
       "  2233.72,1486.45 2233.72,47.2441 \n",
       "  \"/>\n",
       "<polyline clip-path=\"url(#clip290)\" style=\"stroke:#000000; stroke-width:4; stroke-opacity:1; fill:none\" points=\"\n",
       "  188.612,1486.45 2352.76,1486.45 \n",
       "  \"/>\n",
       "<polyline clip-path=\"url(#clip290)\" style=\"stroke:#000000; stroke-width:4; stroke-opacity:1; fill:none\" points=\"\n",
       "  307.644,1486.45 307.644,1469.18 \n",
       "  \"/>\n",
       "<polyline clip-path=\"url(#clip290)\" style=\"stroke:#000000; stroke-width:4; stroke-opacity:1; fill:none\" points=\"\n",
       "  789.164,1486.45 789.164,1469.18 \n",
       "  \"/>\n",
       "<polyline clip-path=\"url(#clip290)\" style=\"stroke:#000000; stroke-width:4; stroke-opacity:1; fill:none\" points=\"\n",
       "  1270.68,1486.45 1270.68,1469.18 \n",
       "  \"/>\n",
       "<polyline clip-path=\"url(#clip290)\" style=\"stroke:#000000; stroke-width:4; stroke-opacity:1; fill:none\" points=\"\n",
       "  1752.2,1486.45 1752.2,1469.18 \n",
       "  \"/>\n",
       "<polyline clip-path=\"url(#clip290)\" style=\"stroke:#000000; stroke-width:4; stroke-opacity:1; fill:none\" points=\"\n",
       "  2233.72,1486.45 2233.72,1469.18 \n",
       "  \"/>\n",
       "<path clip-path=\"url(#clip290)\" d=\"M 0 0 M275.653 1515.64 Q272.042 1515.64 270.213 1519.2 Q268.408 1522.75 268.408 1529.87 Q268.408 1536.98 270.213 1540.55 Q272.042 1544.09 275.653 1544.09 Q279.287 1544.09 281.093 1540.55 Q282.922 1536.98 282.922 1529.87 Q282.922 1522.75 281.093 1519.2 Q279.287 1515.64 275.653 1515.64 M275.653 1511.93 Q281.463 1511.93 284.519 1516.54 Q287.598 1521.12 287.598 1529.87 Q287.598 1538.6 284.519 1543.21 Q281.463 1547.79 275.653 1547.79 Q269.843 1547.79 266.764 1543.21 Q263.709 1538.6 263.709 1529.87 Q263.709 1521.12 266.764 1516.54 Q269.843 1511.93 275.653 1511.93 Z\" fill=\"#000000\" fill-rule=\"evenodd\" fill-opacity=\"1\" /><path clip-path=\"url(#clip290)\" d=\"M 0 0 M292.667 1541.24 L297.551 1541.24 L297.551 1547.12 L292.667 1547.12 L292.667 1541.24 Z\" fill=\"#000000\" fill-rule=\"evenodd\" fill-opacity=\"1\" /><path clip-path=\"url(#clip290)\" d=\"M 0 0 M312.621 1515.64 Q309.009 1515.64 307.181 1519.2 Q305.375 1522.75 305.375 1529.87 Q305.375 1536.98 307.181 1540.55 Q309.009 1544.09 312.621 1544.09 Q316.255 1544.09 318.06 1540.55 Q319.889 1536.98 319.889 1529.87 Q319.889 1522.75 318.06 1519.2 Q316.255 1515.64 312.621 1515.64 M312.621 1511.93 Q318.431 1511.93 321.486 1516.54 Q324.565 1521.12 324.565 1529.87 Q324.565 1538.6 321.486 1543.21 Q318.431 1547.79 312.621 1547.79 Q306.81 1547.79 303.732 1543.21 Q300.676 1538.6 300.676 1529.87 Q300.676 1521.12 303.732 1516.54 Q306.81 1511.93 312.621 1511.93 Z\" fill=\"#000000\" fill-rule=\"evenodd\" fill-opacity=\"1\" /><path clip-path=\"url(#clip290)\" d=\"M 0 0 M339.634 1515.64 Q336.023 1515.64 334.195 1519.2 Q332.389 1522.75 332.389 1529.87 Q332.389 1536.98 334.195 1540.55 Q336.023 1544.09 339.634 1544.09 Q343.269 1544.09 345.074 1540.55 Q346.903 1536.98 346.903 1529.87 Q346.903 1522.75 345.074 1519.2 Q343.269 1515.64 339.634 1515.64 M339.634 1511.93 Q345.444 1511.93 348.5 1516.54 Q351.579 1521.12 351.579 1529.87 Q351.579 1538.6 348.5 1543.21 Q345.444 1547.79 339.634 1547.79 Q333.824 1547.79 330.745 1543.21 Q327.69 1538.6 327.69 1529.87 Q327.69 1521.12 330.745 1516.54 Q333.824 1511.93 339.634 1511.93 Z\" fill=\"#000000\" fill-rule=\"evenodd\" fill-opacity=\"1\" /><path clip-path=\"url(#clip290)\" d=\"M 0 0 M758.47 1515.64 Q754.858 1515.64 753.03 1519.2 Q751.224 1522.75 751.224 1529.87 Q751.224 1536.98 753.03 1540.55 Q754.858 1544.09 758.47 1544.09 Q762.104 1544.09 763.909 1540.55 Q765.738 1536.98 765.738 1529.87 Q765.738 1522.75 763.909 1519.2 Q762.104 1515.64 758.47 1515.64 M758.47 1511.93 Q764.28 1511.93 767.335 1516.54 Q770.414 1521.12 770.414 1529.87 Q770.414 1538.6 767.335 1543.21 Q764.28 1547.79 758.47 1547.79 Q752.659 1547.79 749.581 1543.21 Q746.525 1538.6 746.525 1529.87 Q746.525 1521.12 749.581 1516.54 Q752.659 1511.93 758.47 1511.93 Z\" fill=\"#000000\" fill-rule=\"evenodd\" fill-opacity=\"1\" /><path clip-path=\"url(#clip290)\" d=\"M 0 0 M775.483 1541.24 L780.368 1541.24 L780.368 1547.12 L775.483 1547.12 L775.483 1541.24 Z\" fill=\"#000000\" fill-rule=\"evenodd\" fill-opacity=\"1\" /><path clip-path=\"url(#clip290)\" d=\"M 0 0 M789.465 1543.18 L805.784 1543.18 L805.784 1547.12 L783.84 1547.12 L783.84 1543.18 Q786.502 1540.43 791.085 1535.8 Q795.692 1531.15 796.872 1529.81 Q799.117 1527.28 799.997 1525.55 Q800.9 1523.79 800.9 1522.1 Q800.9 1519.34 798.955 1517.61 Q797.034 1515.87 793.932 1515.87 Q791.733 1515.87 789.28 1516.63 Q786.849 1517.4 784.071 1518.95 L784.071 1514.23 Q786.895 1513.09 789.349 1512.51 Q791.803 1511.93 793.84 1511.93 Q799.21 1511.93 802.404 1514.62 Q805.599 1517.31 805.599 1521.8 Q805.599 1523.93 804.789 1525.85 Q804.002 1527.74 801.895 1530.34 Q801.317 1531.01 798.215 1534.23 Q795.113 1537.42 789.465 1543.18 Z\" fill=\"#000000\" fill-rule=\"evenodd\" fill-opacity=\"1\" /><path clip-path=\"url(#clip290)\" d=\"M 0 0 M810.9 1512.56 L829.256 1512.56 L829.256 1516.5 L815.182 1516.5 L815.182 1524.97 Q816.201 1524.62 817.219 1524.46 Q818.238 1524.27 819.256 1524.27 Q825.043 1524.27 828.423 1527.44 Q831.802 1530.62 831.802 1536.03 Q831.802 1541.61 828.33 1544.71 Q824.858 1547.79 818.539 1547.79 Q816.363 1547.79 814.094 1547.42 Q811.849 1547.05 809.441 1546.31 L809.441 1541.61 Q811.525 1542.74 813.747 1543.3 Q815.969 1543.86 818.446 1543.86 Q822.451 1543.86 824.789 1541.75 Q827.127 1539.64 827.127 1536.03 Q827.127 1532.42 824.789 1530.31 Q822.451 1528.21 818.446 1528.21 Q816.571 1528.21 814.696 1528.62 Q812.844 1529.04 810.9 1529.92 L810.9 1512.56 Z\" fill=\"#000000\" fill-rule=\"evenodd\" fill-opacity=\"1\" /><path clip-path=\"url(#clip290)\" d=\"M 0 0 M1239.19 1515.64 Q1235.58 1515.64 1233.75 1519.2 Q1231.95 1522.75 1231.95 1529.87 Q1231.95 1536.98 1233.75 1540.55 Q1235.58 1544.09 1239.19 1544.09 Q1242.83 1544.09 1244.63 1540.55 Q1246.46 1536.98 1246.46 1529.87 Q1246.46 1522.75 1244.63 1519.2 Q1242.83 1515.64 1239.19 1515.64 M1239.19 1511.93 Q1245 1511.93 1248.06 1516.54 Q1251.14 1521.12 1251.14 1529.87 Q1251.14 1538.6 1248.06 1543.21 Q1245 1547.79 1239.19 1547.79 Q1233.38 1547.79 1230.3 1543.21 Q1227.25 1538.6 1227.25 1529.87 Q1227.25 1521.12 1230.3 1516.54 Q1233.38 1511.93 1239.19 1511.93 Z\" fill=\"#000000\" fill-rule=\"evenodd\" fill-opacity=\"1\" /><path clip-path=\"url(#clip290)\" d=\"M 0 0 M1256.2 1541.24 L1261.09 1541.24 L1261.09 1547.12 L1256.2 1547.12 L1256.2 1541.24 Z\" fill=\"#000000\" fill-rule=\"evenodd\" fill-opacity=\"1\" /><path clip-path=\"url(#clip290)\" d=\"M 0 0 M1266.2 1512.56 L1284.56 1512.56 L1284.56 1516.5 L1270.49 1516.5 L1270.49 1524.97 Q1271.51 1524.62 1272.52 1524.46 Q1273.54 1524.27 1274.56 1524.27 Q1280.35 1524.27 1283.73 1527.44 Q1287.11 1530.62 1287.11 1536.03 Q1287.11 1541.61 1283.64 1544.71 Q1280.16 1547.79 1273.84 1547.79 Q1271.67 1547.79 1269.4 1547.42 Q1267.15 1547.05 1264.75 1546.31 L1264.75 1541.61 Q1266.83 1542.74 1269.05 1543.3 Q1271.27 1543.86 1273.75 1543.86 Q1277.76 1543.86 1280.09 1541.75 Q1282.43 1539.64 1282.43 1536.03 Q1282.43 1532.42 1280.09 1530.31 Q1277.76 1528.21 1273.75 1528.21 Q1271.88 1528.21 1270 1528.62 Q1268.15 1529.04 1266.2 1529.92 L1266.2 1512.56 Z\" fill=\"#000000\" fill-rule=\"evenodd\" fill-opacity=\"1\" /><path clip-path=\"url(#clip290)\" d=\"M 0 0 M1302.18 1515.64 Q1298.57 1515.64 1296.74 1519.2 Q1294.93 1522.75 1294.93 1529.87 Q1294.93 1536.98 1296.74 1540.55 Q1298.57 1544.09 1302.18 1544.09 Q1305.81 1544.09 1307.62 1540.55 Q1309.45 1536.98 1309.45 1529.87 Q1309.45 1522.75 1307.62 1519.2 Q1305.81 1515.64 1302.18 1515.64 M1302.18 1511.93 Q1307.99 1511.93 1311.04 1516.54 Q1314.12 1521.12 1314.12 1529.87 Q1314.12 1538.6 1311.04 1543.21 Q1307.99 1547.79 1302.18 1547.79 Q1296.37 1547.79 1293.29 1543.21 Q1290.23 1538.6 1290.23 1529.87 Q1290.23 1521.12 1293.29 1516.54 Q1296.37 1511.93 1302.18 1511.93 Z\" fill=\"#000000\" fill-rule=\"evenodd\" fill-opacity=\"1\" /><path clip-path=\"url(#clip290)\" d=\"M 0 0 M1721.16 1515.64 Q1717.55 1515.64 1715.72 1519.2 Q1713.92 1522.75 1713.92 1529.87 Q1713.92 1536.98 1715.72 1540.55 Q1717.55 1544.09 1721.16 1544.09 Q1724.8 1544.09 1726.6 1540.55 Q1728.43 1536.98 1728.43 1529.87 Q1728.43 1522.75 1726.6 1519.2 Q1724.8 1515.64 1721.16 1515.64 M1721.16 1511.93 Q1726.97 1511.93 1730.03 1516.54 Q1733.11 1521.12 1733.11 1529.87 Q1733.11 1538.6 1730.03 1543.21 Q1726.97 1547.79 1721.16 1547.79 Q1715.35 1547.79 1712.27 1543.21 Q1709.22 1538.6 1709.22 1529.87 Q1709.22 1521.12 1712.27 1516.54 Q1715.35 1511.93 1721.16 1511.93 Z\" fill=\"#000000\" fill-rule=\"evenodd\" fill-opacity=\"1\" /><path clip-path=\"url(#clip290)\" d=\"M 0 0 M1738.18 1541.24 L1743.06 1541.24 L1743.06 1547.12 L1738.18 1547.12 L1738.18 1541.24 Z\" fill=\"#000000\" fill-rule=\"evenodd\" fill-opacity=\"1\" /><path clip-path=\"url(#clip290)\" d=\"M 0 0 M1746.95 1512.56 L1769.17 1512.56 L1769.17 1514.55 L1756.63 1547.12 L1751.74 1547.12 L1763.55 1516.5 L1746.95 1516.5 L1746.95 1512.56 Z\" fill=\"#000000\" fill-rule=\"evenodd\" fill-opacity=\"1\" /><path clip-path=\"url(#clip290)\" d=\"M 0 0 M1774.29 1512.56 L1792.64 1512.56 L1792.64 1516.5 L1778.57 1516.5 L1778.57 1524.97 Q1779.59 1524.62 1780.61 1524.46 Q1781.63 1524.27 1782.64 1524.27 Q1788.43 1524.27 1791.81 1527.44 Q1795.19 1530.62 1795.19 1536.03 Q1795.19 1541.61 1791.72 1544.71 Q1788.25 1547.79 1781.93 1547.79 Q1779.75 1547.79 1777.48 1547.42 Q1775.24 1547.05 1772.83 1546.31 L1772.83 1541.61 Q1774.91 1542.74 1777.13 1543.3 Q1779.36 1543.86 1781.83 1543.86 Q1785.84 1543.86 1788.18 1541.75 Q1790.51 1539.64 1790.51 1536.03 Q1790.51 1532.42 1788.18 1530.31 Q1785.84 1528.21 1781.83 1528.21 Q1779.96 1528.21 1778.08 1528.62 Q1776.23 1529.04 1774.29 1529.92 L1774.29 1512.56 Z\" fill=\"#000000\" fill-rule=\"evenodd\" fill-opacity=\"1\" /><path clip-path=\"url(#clip290)\" d=\"M 0 0 M2192.12 1543.18 L2199.75 1543.18 L2199.75 1516.82 L2191.44 1518.49 L2191.44 1514.23 L2199.71 1512.56 L2204.38 1512.56 L2204.38 1543.18 L2212.02 1543.18 L2212.02 1547.12 L2192.12 1547.12 L2192.12 1543.18 Z\" fill=\"#000000\" fill-rule=\"evenodd\" fill-opacity=\"1\" /><path clip-path=\"url(#clip290)\" d=\"M 0 0 M2217.09 1541.24 L2221.98 1541.24 L2221.98 1547.12 L2217.09 1547.12 L2217.09 1541.24 Z\" fill=\"#000000\" fill-rule=\"evenodd\" fill-opacity=\"1\" /><path clip-path=\"url(#clip290)\" d=\"M 0 0 M2237.05 1515.64 Q2233.43 1515.64 2231.61 1519.2 Q2229.8 1522.75 2229.8 1529.87 Q2229.8 1536.98 2231.61 1540.55 Q2233.43 1544.09 2237.05 1544.09 Q2240.68 1544.09 2242.49 1540.55 Q2244.31 1536.98 2244.31 1529.87 Q2244.31 1522.75 2242.49 1519.2 Q2240.68 1515.64 2237.05 1515.64 M2237.05 1511.93 Q2242.86 1511.93 2245.91 1516.54 Q2248.99 1521.12 2248.99 1529.87 Q2248.99 1538.6 2245.91 1543.21 Q2242.86 1547.79 2237.05 1547.79 Q2231.24 1547.79 2228.16 1543.21 Q2225.1 1538.6 2225.1 1529.87 Q2225.1 1521.12 2228.16 1516.54 Q2231.24 1511.93 2237.05 1511.93 Z\" fill=\"#000000\" fill-rule=\"evenodd\" fill-opacity=\"1\" /><path clip-path=\"url(#clip290)\" d=\"M 0 0 M2264.06 1515.64 Q2260.45 1515.64 2258.62 1519.2 Q2256.81 1522.75 2256.81 1529.87 Q2256.81 1536.98 2258.62 1540.55 Q2260.45 1544.09 2264.06 1544.09 Q2267.69 1544.09 2269.5 1540.55 Q2271.33 1536.98 2271.33 1529.87 Q2271.33 1522.75 2269.5 1519.2 Q2267.69 1515.64 2264.06 1515.64 M2264.06 1511.93 Q2269.87 1511.93 2272.93 1516.54 Q2276 1521.12 2276 1529.87 Q2276 1538.6 2272.93 1543.21 Q2269.87 1547.79 2264.06 1547.79 Q2258.25 1547.79 2255.17 1543.21 Q2252.12 1538.6 2252.12 1529.87 Q2252.12 1521.12 2255.17 1516.54 Q2258.25 1511.93 2264.06 1511.93 Z\" fill=\"#000000\" fill-rule=\"evenodd\" fill-opacity=\"1\" /><polyline clip-path=\"url(#clip292)\" style=\"stroke:#000000; stroke-width:2; stroke-opacity:0.1; fill:none\" points=\"\n",
       "  188.612,1445.72 2352.76,1445.72 \n",
       "  \"/>\n",
       "<polyline clip-path=\"url(#clip292)\" style=\"stroke:#000000; stroke-width:2; stroke-opacity:0.1; fill:none\" points=\"\n",
       "  188.612,1106.28 2352.76,1106.28 \n",
       "  \"/>\n",
       "<polyline clip-path=\"url(#clip292)\" style=\"stroke:#000000; stroke-width:2; stroke-opacity:0.1; fill:none\" points=\"\n",
       "  188.612,766.846 2352.76,766.846 \n",
       "  \"/>\n",
       "<polyline clip-path=\"url(#clip292)\" style=\"stroke:#000000; stroke-width:2; stroke-opacity:0.1; fill:none\" points=\"\n",
       "  188.612,427.411 2352.76,427.411 \n",
       "  \"/>\n",
       "<polyline clip-path=\"url(#clip292)\" style=\"stroke:#000000; stroke-width:2; stroke-opacity:0.1; fill:none\" points=\"\n",
       "  188.612,87.9763 2352.76,87.9763 \n",
       "  \"/>\n",
       "<polyline clip-path=\"url(#clip290)\" style=\"stroke:#000000; stroke-width:4; stroke-opacity:1; fill:none\" points=\"\n",
       "  188.612,1486.45 188.612,47.2441 \n",
       "  \"/>\n",
       "<polyline clip-path=\"url(#clip290)\" style=\"stroke:#000000; stroke-width:4; stroke-opacity:1; fill:none\" points=\"\n",
       "  188.612,1445.72 214.582,1445.72 \n",
       "  \"/>\n",
       "<polyline clip-path=\"url(#clip290)\" style=\"stroke:#000000; stroke-width:4; stroke-opacity:1; fill:none\" points=\"\n",
       "  188.612,1106.28 214.582,1106.28 \n",
       "  \"/>\n",
       "<polyline clip-path=\"url(#clip290)\" style=\"stroke:#000000; stroke-width:4; stroke-opacity:1; fill:none\" points=\"\n",
       "  188.612,766.846 214.582,766.846 \n",
       "  \"/>\n",
       "<polyline clip-path=\"url(#clip290)\" style=\"stroke:#000000; stroke-width:4; stroke-opacity:1; fill:none\" points=\"\n",
       "  188.612,427.411 214.582,427.411 \n",
       "  \"/>\n",
       "<polyline clip-path=\"url(#clip290)\" style=\"stroke:#000000; stroke-width:4; stroke-opacity:1; fill:none\" points=\"\n",
       "  188.612,87.9763 214.582,87.9763 \n",
       "  \"/>\n",
       "<path clip-path=\"url(#clip290)\" d=\"M 0 0 M140.668 1431.51 Q137.056 1431.51 135.228 1435.08 Q133.422 1438.62 133.422 1445.75 Q133.422 1452.86 135.228 1456.42 Q137.056 1459.96 140.668 1459.96 Q144.302 1459.96 146.107 1456.42 Q147.936 1452.86 147.936 1445.75 Q147.936 1438.62 146.107 1435.08 Q144.302 1431.51 140.668 1431.51 M140.668 1427.81 Q146.478 1427.81 149.533 1432.42 Q152.612 1437 152.612 1445.75 Q152.612 1454.48 149.533 1459.08 Q146.478 1463.67 140.668 1463.67 Q134.857 1463.67 131.779 1459.08 Q128.723 1454.48 128.723 1445.75 Q128.723 1437 131.779 1432.42 Q134.857 1427.81 140.668 1427.81 Z\" fill=\"#000000\" fill-rule=\"evenodd\" fill-opacity=\"1\" /><path clip-path=\"url(#clip290)\" d=\"M 0 0 M83.2605 1119.63 L99.5798 1119.63 L99.5798 1123.56 L77.6355 1123.56 L77.6355 1119.63 Q80.2975 1116.87 84.8808 1112.24 Q89.4873 1107.59 90.6678 1106.25 Q92.9132 1103.72 93.7928 1101.99 Q94.6956 1100.23 94.6956 1098.54 Q94.6956 1095.78 92.7512 1094.05 Q90.8299 1092.31 87.728 1092.31 Q85.529 1092.31 83.0753 1093.07 Q80.6447 1093.84 77.867 1095.39 L77.867 1090.67 Q80.691 1089.53 83.1447 1088.95 Q85.5984 1088.38 87.6354 1088.38 Q93.0058 1088.38 96.2002 1091.06 Q99.3946 1093.75 99.3946 1098.24 Q99.3946 1100.37 98.5845 1102.29 Q97.7974 1104.19 95.691 1106.78 Q95.1123 1107.45 92.0104 1110.67 Q88.9086 1113.86 83.2605 1119.63 Z\" fill=\"#000000\" fill-rule=\"evenodd\" fill-opacity=\"1\" /><path clip-path=\"url(#clip290)\" d=\"M 0 0 M104.696 1089 L123.052 1089 L123.052 1092.94 L108.978 1092.94 L108.978 1101.41 Q109.996 1101.06 111.015 1100.9 Q112.033 1100.71 113.052 1100.71 Q118.839 1100.71 122.219 1103.89 Q125.598 1107.06 125.598 1112.47 Q125.598 1118.05 122.126 1121.15 Q118.654 1124.23 112.334 1124.23 Q110.158 1124.23 107.89 1123.86 Q105.645 1123.49 103.237 1122.75 L103.237 1118.05 Q105.321 1119.19 107.543 1119.74 Q109.765 1120.3 112.242 1120.3 Q116.246 1120.3 118.584 1118.19 Q120.922 1116.08 120.922 1112.47 Q120.922 1108.86 118.584 1106.76 Q116.246 1104.65 112.242 1104.65 Q110.367 1104.65 108.492 1105.07 Q106.64 1105.48 104.696 1106.36 L104.696 1089 Z\" fill=\"#000000\" fill-rule=\"evenodd\" fill-opacity=\"1\" /><path clip-path=\"url(#clip290)\" d=\"M 0 0 M140.668 1092.08 Q137.056 1092.08 135.228 1095.64 Q133.422 1099.19 133.422 1106.32 Q133.422 1113.42 135.228 1116.99 Q137.056 1120.53 140.668 1120.53 Q144.302 1120.53 146.107 1116.99 Q147.936 1113.42 147.936 1106.32 Q147.936 1099.19 146.107 1095.64 Q144.302 1092.08 140.668 1092.08 M140.668 1088.38 Q146.478 1088.38 149.533 1092.98 Q152.612 1097.57 152.612 1106.32 Q152.612 1115.04 149.533 1119.65 Q146.478 1124.23 140.668 1124.23 Q134.857 1124.23 131.779 1119.65 Q128.723 1115.04 128.723 1106.32 Q128.723 1097.57 131.779 1092.98 Q134.857 1088.38 140.668 1088.38 Z\" fill=\"#000000\" fill-rule=\"evenodd\" fill-opacity=\"1\" /><path clip-path=\"url(#clip290)\" d=\"M 0 0 M77.6818 749.566 L96.0382 749.566 L96.0382 753.501 L81.9642 753.501 L81.9642 761.973 Q82.9827 761.626 84.0012 761.464 Q85.0197 761.279 86.0382 761.279 Q91.8252 761.279 95.2049 764.45 Q98.5845 767.621 98.5845 773.038 Q98.5845 778.617 95.1123 781.719 Q91.6401 784.797 85.3206 784.797 Q83.1447 784.797 80.8762 784.427 Q78.6309 784.057 76.2235 783.316 L76.2235 778.617 Q78.3068 779.751 80.529 780.307 Q82.7512 780.862 85.2281 780.862 Q89.2327 780.862 91.5706 778.756 Q93.9086 776.649 93.9086 773.038 Q93.9086 769.427 91.5706 767.321 Q89.2327 765.214 85.2281 765.214 Q83.3531 765.214 81.4781 765.631 Q79.6262 766.047 77.6818 766.927 L77.6818 749.566 Z\" fill=\"#000000\" fill-rule=\"evenodd\" fill-opacity=\"1\" /><path clip-path=\"url(#clip290)\" d=\"M 0 0 M113.654 752.645 Q110.043 752.645 108.214 756.209 Q106.408 759.751 106.408 766.881 Q106.408 773.987 108.214 777.552 Q110.043 781.094 113.654 781.094 Q117.288 781.094 119.094 777.552 Q120.922 773.987 120.922 766.881 Q120.922 759.751 119.094 756.209 Q117.288 752.645 113.654 752.645 M113.654 748.941 Q119.464 748.941 122.52 753.547 Q125.598 758.131 125.598 766.881 Q125.598 775.608 122.52 780.214 Q119.464 784.797 113.654 784.797 Q107.844 784.797 104.765 780.214 Q101.709 775.608 101.709 766.881 Q101.709 758.131 104.765 753.547 Q107.844 748.941 113.654 748.941 Z\" fill=\"#000000\" fill-rule=\"evenodd\" fill-opacity=\"1\" /><path clip-path=\"url(#clip290)\" d=\"M 0 0 M140.668 752.645 Q137.056 752.645 135.228 756.209 Q133.422 759.751 133.422 766.881 Q133.422 773.987 135.228 777.552 Q137.056 781.094 140.668 781.094 Q144.302 781.094 146.107 777.552 Q147.936 773.987 147.936 766.881 Q147.936 759.751 146.107 756.209 Q144.302 752.645 140.668 752.645 M140.668 748.941 Q146.478 748.941 149.533 753.547 Q152.612 758.131 152.612 766.881 Q152.612 775.608 149.533 780.214 Q146.478 784.797 140.668 784.797 Q134.857 784.797 131.779 780.214 Q128.723 775.608 128.723 766.881 Q128.723 758.131 131.779 753.547 Q134.857 748.941 140.668 748.941 Z\" fill=\"#000000\" fill-rule=\"evenodd\" fill-opacity=\"1\" /><path clip-path=\"url(#clip290)\" d=\"M 0 0 M77.3577 410.131 L99.5798 410.131 L99.5798 412.122 L87.0336 444.691 L82.1494 444.691 L93.9549 414.066 L77.3577 414.066 L77.3577 410.131 Z\" fill=\"#000000\" fill-rule=\"evenodd\" fill-opacity=\"1\" /><path clip-path=\"url(#clip290)\" d=\"M 0 0 M104.696 410.131 L123.052 410.131 L123.052 414.066 L108.978 414.066 L108.978 422.538 Q109.996 422.191 111.015 422.029 Q112.033 421.844 113.052 421.844 Q118.839 421.844 122.219 425.015 Q125.598 428.187 125.598 433.603 Q125.598 439.182 122.126 442.284 Q118.654 445.362 112.334 445.362 Q110.158 445.362 107.89 444.992 Q105.645 444.622 103.237 443.881 L103.237 439.182 Q105.321 440.316 107.543 440.872 Q109.765 441.427 112.242 441.427 Q116.246 441.427 118.584 439.321 Q120.922 437.214 120.922 433.603 Q120.922 429.992 118.584 427.886 Q116.246 425.779 112.242 425.779 Q110.367 425.779 108.492 426.196 Q106.64 426.613 104.696 427.492 L104.696 410.131 Z\" fill=\"#000000\" fill-rule=\"evenodd\" fill-opacity=\"1\" /><path clip-path=\"url(#clip290)\" d=\"M 0 0 M140.668 413.21 Q137.056 413.21 135.228 416.775 Q133.422 420.316 133.422 427.446 Q133.422 434.552 135.228 438.117 Q137.056 441.659 140.668 441.659 Q144.302 441.659 146.107 438.117 Q147.936 434.552 147.936 427.446 Q147.936 420.316 146.107 416.775 Q144.302 413.21 140.668 413.21 M140.668 409.506 Q146.478 409.506 149.533 414.113 Q152.612 418.696 152.612 427.446 Q152.612 436.173 149.533 440.779 Q146.478 445.362 140.668 445.362 Q134.857 445.362 131.779 440.779 Q128.723 436.173 128.723 427.446 Q128.723 418.696 131.779 414.113 Q134.857 409.506 140.668 409.506 Z\" fill=\"#000000\" fill-rule=\"evenodd\" fill-opacity=\"1\" /><path clip-path=\"url(#clip290)\" d=\"M 0 0 M51.6634 101.321 L59.3023 101.321 L59.3023 74.9555 L50.9921 76.6222 L50.9921 72.3629 L59.256 70.6963 L63.9319 70.6963 L63.9319 101.321 L71.5707 101.321 L71.5707 105.256 L51.6634 105.256 L51.6634 101.321 Z\" fill=\"#000000\" fill-rule=\"evenodd\" fill-opacity=\"1\" /><path clip-path=\"url(#clip290)\" d=\"M 0 0 M86.6401 73.775 Q83.029 73.775 81.2003 77.3398 Q79.3948 80.8814 79.3948 88.011 Q79.3948 95.1174 81.2003 98.6822 Q83.029 102.224 86.6401 102.224 Q90.2743 102.224 92.0799 98.6822 Q93.9086 95.1174 93.9086 88.011 Q93.9086 80.8814 92.0799 77.3398 Q90.2743 73.775 86.6401 73.775 M86.6401 70.0713 Q92.4502 70.0713 95.5058 74.6777 Q98.5845 79.261 98.5845 88.011 Q98.5845 96.7378 95.5058 101.344 Q92.4502 105.928 86.6401 105.928 Q80.8299 105.928 77.7512 101.344 Q74.6957 96.7378 74.6957 88.011 Q74.6957 79.261 77.7512 74.6777 Q80.8299 70.0713 86.6401 70.0713 Z\" fill=\"#000000\" fill-rule=\"evenodd\" fill-opacity=\"1\" /><path clip-path=\"url(#clip290)\" d=\"M 0 0 M113.654 73.775 Q110.043 73.775 108.214 77.3398 Q106.408 80.8814 106.408 88.011 Q106.408 95.1174 108.214 98.6822 Q110.043 102.224 113.654 102.224 Q117.288 102.224 119.094 98.6822 Q120.922 95.1174 120.922 88.011 Q120.922 80.8814 119.094 77.3398 Q117.288 73.775 113.654 73.775 M113.654 70.0713 Q119.464 70.0713 122.52 74.6777 Q125.598 79.261 125.598 88.011 Q125.598 96.7378 122.52 101.344 Q119.464 105.928 113.654 105.928 Q107.844 105.928 104.765 101.344 Q101.709 96.7378 101.709 88.011 Q101.709 79.261 104.765 74.6777 Q107.844 70.0713 113.654 70.0713 Z\" fill=\"#000000\" fill-rule=\"evenodd\" fill-opacity=\"1\" /><path clip-path=\"url(#clip290)\" d=\"M 0 0 M140.668 73.775 Q137.056 73.775 135.228 77.3398 Q133.422 80.8814 133.422 88.011 Q133.422 95.1174 135.228 98.6822 Q137.056 102.224 140.668 102.224 Q144.302 102.224 146.107 98.6822 Q147.936 95.1174 147.936 88.011 Q147.936 80.8814 146.107 77.3398 Q144.302 73.775 140.668 73.775 M140.668 70.0713 Q146.478 70.0713 149.533 74.6777 Q152.612 79.261 152.612 88.011 Q152.612 96.7378 149.533 101.344 Q146.478 105.928 140.668 105.928 Q134.857 105.928 131.779 101.344 Q128.723 96.7378 128.723 88.011 Q128.723 79.261 131.779 74.6777 Q134.857 70.0713 140.668 70.0713 Z\" fill=\"#000000\" fill-rule=\"evenodd\" fill-opacity=\"1\" /><path clip-path=\"url(#clip292)\" d=\"\n",
       "M307.644 87.9763 L307.644 1445.72 L2233.72 1445.72 L2233.72 87.9763 L307.644 87.9763 L307.644 87.9763  Z\n",
       "  \" fill=\"#009af9\" fill-rule=\"evenodd\" fill-opacity=\"1\"/>\n",
       "<polyline clip-path=\"url(#clip292)\" style=\"stroke:#000000; stroke-width:4; stroke-opacity:1; fill:none\" points=\"\n",
       "  307.644,87.9763 307.644,1445.72 2233.72,1445.72 2233.72,87.9763 307.644,87.9763 \n",
       "  \"/>\n",
       "<path clip-path=\"url(#clip290)\" d=\"\n",
       "M1989.14 216.178 L2280.62 216.178 L2280.62 95.2176 L1989.14 95.2176  Z\n",
       "  \" fill=\"#ffffff\" fill-rule=\"evenodd\" fill-opacity=\"1\"/>\n",
       "<polyline clip-path=\"url(#clip290)\" style=\"stroke:#000000; stroke-width:4; stroke-opacity:1; fill:none\" points=\"\n",
       "  1989.14,216.178 2280.62,216.178 2280.62,95.2176 1989.14,95.2176 1989.14,216.178 \n",
       "  \"/>\n",
       "<path clip-path=\"url(#clip290)\" d=\"\n",
       "M2013.19 179.89 L2157.46 179.89 L2157.46 131.506 L2013.19 131.506 L2013.19 179.89  Z\n",
       "  \" fill=\"#009af9\" fill-rule=\"evenodd\" fill-opacity=\"1\"/>\n",
       "<polyline clip-path=\"url(#clip290)\" style=\"stroke:#000000; stroke-width:4; stroke-opacity:1; fill:none\" points=\"\n",
       "  2013.19,179.89 2157.46,179.89 2157.46,131.506 2013.19,131.506 2013.19,179.89 \n",
       "  \"/>\n",
       "<path clip-path=\"url(#clip290)\" d=\"M 0 0 M2195.35 175.385 Q2193.54 180.015 2191.83 181.427 Q2190.12 182.839 2187.25 182.839 L2183.85 182.839 L2183.85 179.274 L2186.35 179.274 Q2188.1 179.274 2189.08 178.44 Q2190.05 177.607 2191.23 174.505 L2191.99 172.561 L2181.51 147.052 L2186.02 147.052 L2194.12 167.329 L2202.22 147.052 L2206.74 147.052 L2195.35 175.385 Z\" fill=\"#000000\" fill-rule=\"evenodd\" fill-opacity=\"1\" /><path clip-path=\"url(#clip290)\" d=\"M 0 0 M2212.62 169.042 L2220.26 169.042 L2220.26 142.677 L2211.95 144.343 L2211.95 140.084 L2220.21 138.418 L2224.89 138.418 L2224.89 169.042 L2232.53 169.042 L2232.53 172.978 L2212.62 172.978 L2212.62 169.042 Z\" fill=\"#000000\" fill-rule=\"evenodd\" fill-opacity=\"1\" /></svg>\n"
      ]
     },
     "execution_count": 445,
     "metadata": {},
     "output_type": "execute_result"
    }
   ],
   "source": [
    "m = agent(KING, true)\n",
    "chains = sample(m, IS(), 1000 , n_chains=1, progress = true)\n",
    "histogram(generated_quantities(m, chains))"
   ]
  },
  {
   "cell_type": "code",
   "execution_count": 236,
   "metadata": {},
   "outputs": [
    {
     "data": {
      "text/plain": [
       "agent (generic function with 2 methods)"
      ]
     },
     "execution_count": 236,
     "metadata": {},
     "output_type": "execute_result"
    }
   ],
   "source": [
    "@model function agent(card, opponent_history, decpetion_alpha, opp_model)\n",
    "    remaining_deck = setdiff(FULL_DECK, card)\n",
    "    opp_card_index ~ Categorical([1,1])\n",
    "    opp_card = remaining_deck[opp_card_index]\n",
    "    opp_anticipated_move = opp_model(opp_card, opponent_history)\n",
    "    return select_move(card, opp_anticipated_move, deception_alpha)\n",
    "end"
   ]
  },
  {
   "cell_type": "code",
   "execution_count": null,
   "metadata": {},
   "outputs": [],
   "source": [
    "function move(agent, other_agent, other_agent_history, my_history, my_estimated_opponent_policy, my_depth)\n",
    "   sample\n",
    "end"
   ]
  },
  {
   "cell_type": "code",
   "execution_count": 34,
   "metadata": {},
   "outputs": [
    {
     "data": {
      "text/plain": [
       "game (generic function with 6 methods)"
      ]
     },
     "execution_count": 34,
     "metadata": {},
     "output_type": "execute_result"
    }
   ],
   "source": [
    "function game(first_player_depth = 1, second_player_depth = 1, first_player_bank = 10, second_player_bank = 10, num_of_rounds = 15)\n",
    "    first_player = agent\n",
    "    second_player = agent\n",
    "    first_player_history = []\n",
    "    second_player_history = []\n",
    "    first_player_theoretical_score = []\n",
    "    first_card, second_card = sample(FULL_DECK, 2; replace=false)\n",
    "    println(\"first card is $first_card, second card is $second_card\")\n",
    "    # @showprogress  \n",
    "    for i in 1:num_of_rounds\n",
    "        if first_player_bank > 0 && second_player_bank > 0\n",
    "            first_player_bank -= 1\n",
    "            second_player_bank -= 1\n",
    "        elseif first_player_bank > 0\n",
    "            println(\"first player won!\")\n",
    "            break\n",
    "        else\n",
    "            println(\"second player won!\")\n",
    "            break\n",
    "        end\n",
    "    end\n",
    "    return first_player_history, second_player_history, first_player_theoretical_score\n",
    " end"
   ]
  },
  {
   "cell_type": "code",
   "execution_count": 35,
   "metadata": {},
   "outputs": [
    {
     "name": "stdout",
     "output_type": "stream",
     "text": [
      "first card is 3, second card is 2\n",
      "second player won!\n"
     ]
    },
    {
     "data": {
      "text/plain": [
       "(Any[], Any[], Any[])"
      ]
     },
     "execution_count": 35,
     "metadata": {},
     "output_type": "execute_result"
    }
   ],
   "source": [
    "game()"
   ]
  },
  {
   "cell_type": "code",
   "execution_count": null,
   "metadata": {},
   "outputs": [],
   "source": []
  }
 ],
 "metadata": {
  "kernelspec": {
   "display_name": "Julia 1.5.3",
   "language": "julia",
   "name": "julia-1.5"
  },
  "language_info": {
   "file_extension": ".jl",
   "mimetype": "application/julia",
   "name": "julia",
   "version": "1.5.3"
  }
 },
 "nbformat": 4,
 "nbformat_minor": 4
}
