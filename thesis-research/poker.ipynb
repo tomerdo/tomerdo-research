{
 "cells": [
  {
   "cell_type": "code",
   "execution_count": 1,
   "metadata": {},
   "outputs": [],
   "source": [
    "# Import libraries.\n",
    "using Turing, StatsPlots, Random, Memoization, StatsBase, Statistics, ProgressMeter, SpecialFunctions"
   ]
  },
  {
   "cell_type": "markdown",
   "metadata": {},
   "source": [
    "## In this notebook we will implement a  Theory Of Mind agents on a version of Poker"
   ]
  },
  {
   "cell_type": "markdown",
   "metadata": {},
   "source": [
    "### Kuhn Poker"
   ]
  },
  {
   "cell_type": "markdown",
   "metadata": {},
   "source": [
    "Kuhn poker is an extremely simplified form of poker developed by Harold W. Kuhn as a simple model zero-sum two-player imperfect-information game, amenable to a complete game-theoretic analysis. In Kuhn poker, the deck includes only three playing cards, for example a King, Queen, and Jack. One card is dealt to each player, which may place bets similarly to a standard poker. If both players bet or both players pass, the player with the higher card wins, otherwise, the betting player wins."
   ]
  },
  {
   "cell_type": "markdown",
   "metadata": {},
   "source": [
    "#### Rules"
   ]
  },
  {
   "cell_type": "markdown",
   "metadata": {},
   "source": [
    "In conventional poker terms, a game of Kuhn poker proceeds as follows:\n",
    "\n",
    "Each player antes 1.\n",
    "Each player is dealt one of the three cards, and the third is put aside unseen.\n",
    "Player one can check or bet 1.\n",
    "* If player one checks then player two can check or bet 1.\n",
    "    * If player two checks there is a showdown for the pot of 2 (i.e. the higher card wins 1 from the other player).\n",
    "    * If player two bets then player one can fold or call.\n",
    "        * If player one folds then player two takes the pot of 3 (i.e. winning 1 from player 1).\n",
    "        * If player one calls there is a showdown for the pot of 4 (i.e. the higher card wins 2 from the other player).\n",
    "* If player one bets then player two can fold or call.\n",
    "    * If player two folds then player one takes the pot of 3 (i.e. winning 1 from player 2).\n",
    "    * If player two calls there is a showdown for the pot of 4 (i.e. the higher card wins 2 from the other player)."
   ]
  },
  {
   "cell_type": "markdown",
   "metadata": {},
   "source": [
    "#### Optimal strategy\n"
   ]
  },
  {
   "cell_type": "markdown",
   "metadata": {},
   "source": [
    "The game has a mixed-strategy Nash equilibrium; when both players play equilibrium strategies, the first player should expect to lose at a rate of −1/18 per hand (as the game is zero-sum, the second player should expect to win at a rate of +1/18). There is no pure-strategy equilibrium.\n",
    "\n",
    "Kuhn demonstrated there are infinitely many equilibrium strategies for the first player, forming a continuum governed by a single parameter. In one possible formulation, player one freely chooses the probability $\\alpha$ $\\in$ [0,1/3] with which he will bet when having a Jack (otherwise he checks; if the other player bets, he should always fold). When having a King, he should bet with the probability of $3\\alpha$ (otherwise he checks; if the other player bets, he should always call). He should always check when having a Queen, and if the other player bets after this check, he should call with the probability of $\\alpha$ +1/3.\n",
    "\n",
    "The second player has a single equilibrium strategy: Always betting or calling when having a King; when having a Queen, checking if possible, otherwise calling with the probability of 1/3; when having a Jack, never calling and betting with the probability of 1/3."
   ]
  },
  {
   "cell_type": "markdown",
   "metadata": {},
   "source": [
    "#### Pseudo Code Model"
   ]
  },
  {
   "cell_type": "markdown",
   "metadata": {},
   "source": [
    "* game_simulation(num_of_round):\n",
    "    * c1 , c2 ~ Deck() <br>\n",
    "\n",
    "    * player1_history = [] <br>\n",
    "    * player2_history = [] <br>\n",
    "\n",
    "    * for i in length(num_of_rounds):\n",
    "       * m1 = agent(c1, player2_history, deception_alpha) <br>\n",
    "       * player1_history.append(m1) <br>\n",
    "       * m2 = agent(c2, player1_history, deception_alpha) <br>\n",
    "       * player2_history.append(m2) <br>\n",
    "<br><br><br>\n",
    "* agent(card , opp_history, decption_alpha):\n",
    "    * opp_card ~ Deck(deck.pop(card))\n",
    "    * opp_move ~ opp_model(opp_card, last_action)\n",
    "    * return select_move(opp_move, card, deception_alpha)"
   ]
  },
  {
   "cell_type": "code",
   "execution_count": 4,
   "metadata": {},
   "outputs": [
    {
     "data": {
      "text/plain": [
       "3-element Array{Int64,1}:\n",
       " 1\n",
       " 2\n",
       " 3"
      ]
     },
     "execution_count": 4,
     "metadata": {},
     "output_type": "execute_result"
    }
   ],
   "source": [
    "JACK = 1\n",
    "QUEEN = 2\n",
    "KING = 3\n",
    "FULL_DECK = [JACK, QUEEN, KING]"
   ]
  },
  {
   "cell_type": "code",
   "execution_count": 63,
   "metadata": {},
   "outputs": [
    {
     "data": {
      "text/plain": [
       "3-element Array{Int64,1}:\n",
       " -1\n",
       "  0\n",
       "  1"
      ]
     },
     "execution_count": 63,
     "metadata": {},
     "output_type": "execute_result"
    }
   ],
   "source": [
    "FOLD = -1\n",
    "CHECK = 0\n",
    "BET = 1\n",
    "ACTIONS = [FOLD, CHECK, BET]"
   ]
  },
  {
   "cell_type": "markdown",
   "metadata": {},
   "source": [
    "#### This method is implementation of first player equilibrium strategy"
   ]
  },
  {
   "cell_type": "code",
   "execution_count": 133,
   "metadata": {},
   "outputs": [
    {
     "data": {
      "text/plain": [
       "first_player_select_move (generic function with 2 methods)"
      ]
     },
     "execution_count": 133,
     "metadata": {},
     "output_type": "execute_result"
    }
   ],
   "source": [
    "function first_player_select_move(card, deception_alpha, opp_betting)\n",
    "   if card == JACK\n",
    "        if opp_betting\n",
    "            return FOLD    \n",
    "        elseif rand() < deception_alpha\n",
    "            return BET # bluff\n",
    "        else\n",
    "            return CHECK\n",
    "        end\n",
    "    elseif card == KING\n",
    "        need_to_bet = rand() < 3 * deception_alpha\n",
    "        if need_to_bet && !opp_betting\n",
    "            return BET\n",
    "        else   # slow playing\n",
    "            return CHECK\n",
    "        end\n",
    "    else # queen\n",
    "        need_to_call = rand() < deception_alpha + 1/3\n",
    "        if !need_to_call && opp_betting\n",
    "            return FOLD\n",
    "        else\n",
    "            return CHECK\n",
    "        end\n",
    "    end\n",
    "end"
   ]
  },
  {
   "cell_type": "markdown",
   "metadata": {},
   "source": [
    "#### This method is implementation of second player equilibrium strategy"
   ]
  },
  {
   "cell_type": "code",
   "execution_count": 137,
   "metadata": {},
   "outputs": [
    {
     "data": {
      "text/plain": [
       "second_player_select_move (generic function with 2 methods)"
      ]
     },
     "execution_count": 137,
     "metadata": {},
     "output_type": "execute_result"
    }
   ],
   "source": [
    "function second_player_select_move(card, opp_betting)\n",
    "   if card == JACK\n",
    "        if opp_betting\n",
    "            return FOLD    \n",
    "        elseif rand() < 1/3\n",
    "            return BET # bluff\n",
    "        else\n",
    "            return CHECK\n",
    "        end\n",
    "    elseif card == KING\n",
    "        if  opp_betting\n",
    "            return CHECK\n",
    "        else   # slow playing\n",
    "            return BET\n",
    "        end\n",
    "    else # queen\n",
    "        need_to_call = rand() < 1/3\n",
    "        if !need_to_call && opp_betting\n",
    "            return FOLD\n",
    "        else\n",
    "            return CHECK\n",
    "        end\n",
    "    end\n",
    "end"
   ]
  },
  {
   "cell_type": "code",
   "execution_count": 395,
   "metadata": {},
   "outputs": [
    {
     "data": {
      "text/plain": [
       "round (generic function with 3 methods)"
      ]
     },
     "execution_count": 395,
     "metadata": {},
     "output_type": "execute_result"
    }
   ],
   "source": [
    "function round(first_card, second_card, deception_alpha = 0.2)\n",
    "    first_player_move = first_player_select_move(first_card, deception_alpha, false)\n",
    "    second_player_move = second_player_select_move(second_card, first_player_move == BET)\n",
    "#     println(\"stage 1 first player: $first_player_move second player: $second_player_move\")\n",
    "    doubled_pot = first_player_move == BET || second_player_move == BET\n",
    "    if second_player_move == FOLD\n",
    "        return 1\n",
    "    end\n",
    "    if second_player_move == BET\n",
    "        doubled_pot = true\n",
    "        first_player_move = first_player_select_move(first_card, deception_alpha , true)\n",
    "#         println(\"stage 2  first player: $first_player_move second player: $second_player_move\")\n",
    "        if first_player_move == FOLD\n",
    "            return -1\n",
    "        end\n",
    "    end\n",
    "    if first_card > second_card\n",
    "        return 1 * (1 + doubled_pot)\n",
    "    else\n",
    "        return -1 * (1 + doubled_pot)\n",
    "    end\n",
    "end"
   ]
  },
  {
   "cell_type": "code",
   "execution_count": 396,
   "metadata": {},
   "outputs": [
    {
     "data": {
      "text/plain": [
       "-1"
      ]
     },
     "execution_count": 396,
     "metadata": {},
     "output_type": "execute_result"
    }
   ],
   "source": [
    "round(JACK, KING)"
   ]
  },
  {
   "cell_type": "code",
   "execution_count": 387,
   "metadata": {},
   "outputs": [
    {
     "data": {
      "text/plain": [
       "game (generic function with 6 methods)"
      ]
     },
     "execution_count": 387,
     "metadata": {},
     "output_type": "execute_result"
    }
   ],
   "source": [
    "function game(num_of_rounds = 10, deception_alpha=0.2)\n",
    "    total_score = 0\n",
    "    for i in 1:num_of_rounds\n",
    "        first_card, second_card = sample(FULL_DECK, 2; replace=false)\n",
    "        score = round(first_card, second_card, deception_alpha)\n",
    "#         println(\"round $i: first player got $first_card second player got $second_card score is $score\")\n",
    "        total_score += score\n",
    "    end\n",
    "    avg_score = total_score / num_of_rounds\n",
    "    return avg_score\n",
    "end"
   ]
  },
  {
   "cell_type": "markdown",
   "metadata": {},
   "source": [
    "#### we can see that the game is converging to -1/18 as the theory states"
   ]
  },
  {
   "cell_type": "code",
   "execution_count": 398,
   "metadata": {},
   "outputs": [
    {
     "data": {
      "text/plain": [
       "-0.054661"
      ]
     },
     "execution_count": 398,
     "metadata": {},
     "output_type": "execute_result"
    }
   ],
   "source": [
    "game(1000000, 0.25)"
   ]
  },
  {
   "cell_type": "code",
   "execution_count": 399,
   "metadata": {},
   "outputs": [
    {
     "data": {
      "text/plain": [
       "-0.055494"
      ]
     },
     "execution_count": 399,
     "metadata": {},
     "output_type": "execute_result"
    }
   ],
   "source": [
    "game(1000000, 0.1)"
   ]
  },
  {
   "cell_type": "code",
   "execution_count": 400,
   "metadata": {},
   "outputs": [
    {
     "data": {
      "text/plain": [
       "-0.054462"
      ]
     },
     "execution_count": 400,
     "metadata": {},
     "output_type": "execute_result"
    }
   ],
   "source": [
    "game(1000000, 0.01)"
   ]
  },
  {
   "cell_type": "markdown",
   "metadata": {},
   "source": [
    "### The PPL Approach"
   ]
  },
  {
   "cell_type": "markdown",
   "metadata": {},
   "source": [
    "### let's try to infer the $\\alpha$ seed"
   ]
  },
  {
   "cell_type": "code",
   "execution_count": 402,
   "metadata": {},
   "outputs": [
    {
     "data": {
      "text/plain": [
       "agent (generic function with 3 methods)"
      ]
     },
     "execution_count": 402,
     "metadata": {},
     "output_type": "execute_result"
    }
   ],
   "source": [
    "@model function agent(card, opp_betting = false)\n",
    "    deception_alpha ~ Uniform(0, 0.33333)\n",
    "    if !opp_betting\n",
    "        if card == JACK\n",
    "            bet_chance ~ Bernoulli(deception_alpha) # bluff\n",
    "            return ACTIONS[bet_chance+1]\n",
    "        elseif card == KING\n",
    "            check_chance ~ Bernoulli(3 * deception_alpha) # agrassive vs slow playing\n",
    "            return ACTIONS[3-check_chance]\n",
    "        else # queen\n",
    "            return CHECK\n",
    "        end\n",
    "    else\n",
    "        if card == JACK\n",
    "            return FOLD\n",
    "        elseif card == KING  \n",
    "            return CHECK\n",
    "        else  \n",
    "            call_chance ~ Bernoulli(deception_alpha + 1/3) # bluff detection\n",
    "            return ACTIONS[2-call_chance] \n",
    "        end\n",
    "    end\n",
    "end"
   ]
  },
  {
   "cell_type": "code",
   "execution_count": 236,
   "metadata": {},
   "outputs": [
    {
     "data": {
      "text/plain": [
       "agent (generic function with 2 methods)"
      ]
     },
     "execution_count": 236,
     "metadata": {},
     "output_type": "execute_result"
    }
   ],
   "source": [
    "@model function agent(card, opponent_history, decpetion_alpha, opp_model)\n",
    "    remaining_deck = setdiff(FULL_DECK, card)\n",
    "    opp_card_index ~ Categorical([1,1])\n",
    "    opp_card = remaining_deck[opp_card_index]\n",
    "    opp_anticipated_move = opp_model(opp_card, opponent_history)\n",
    "    return select_move(card, opp_anticipated_move, deception_alpha)\n",
    "end"
   ]
  },
  {
   "cell_type": "code",
   "execution_count": null,
   "metadata": {},
   "outputs": [],
   "source": [
    "function move(agent, other_agent, other_agent_history, my_history, my_estimated_opponent_policy, my_depth)\n",
    "   sample\n",
    "end"
   ]
  },
  {
   "cell_type": "code",
   "execution_count": 34,
   "metadata": {},
   "outputs": [
    {
     "data": {
      "text/plain": [
       "game (generic function with 6 methods)"
      ]
     },
     "execution_count": 34,
     "metadata": {},
     "output_type": "execute_result"
    }
   ],
   "source": [
    "function game(first_player_depth = 1, second_player_depth = 1, first_player_bank = 10, second_player_bank = 10, num_of_rounds = 15)\n",
    "    first_player = agent\n",
    "    second_player = agent\n",
    "    first_player_history = []\n",
    "    second_player_history = []\n",
    "    first_player_theoretical_score = []\n",
    "    first_card, second_card = sample(FULL_DECK, 2; replace=false)\n",
    "    println(\"first card is $first_card, second card is $second_card\")\n",
    "    # @showprogress  \n",
    "    for i in 1:num_of_rounds\n",
    "        if first_player_bank > 0 && second_player_bank > 0\n",
    "            first_player_bank -= 1\n",
    "            second_player_bank -= 1\n",
    "        elseif first_player_bank > 0\n",
    "            println(\"first player won!\")\n",
    "            break\n",
    "        else\n",
    "            println(\"second player won!\")\n",
    "            break\n",
    "        end\n",
    "    end\n",
    "    return first_player_history, second_player_history, first_player_theoretical_score\n",
    " end"
   ]
  },
  {
   "cell_type": "code",
   "execution_count": 35,
   "metadata": {},
   "outputs": [
    {
     "name": "stdout",
     "output_type": "stream",
     "text": [
      "first card is 3, second card is 2\n",
      "second player won!\n"
     ]
    },
    {
     "data": {
      "text/plain": [
       "(Any[], Any[], Any[])"
      ]
     },
     "execution_count": 35,
     "metadata": {},
     "output_type": "execute_result"
    }
   ],
   "source": [
    "game()"
   ]
  },
  {
   "cell_type": "code",
   "execution_count": null,
   "metadata": {},
   "outputs": [],
   "source": []
  }
 ],
 "metadata": {
  "kernelspec": {
   "display_name": "Julia 1.5.3",
   "language": "julia",
   "name": "julia-1.5"
  },
  "language_info": {
   "file_extension": ".jl",
   "mimetype": "application/julia",
   "name": "julia",
   "version": "1.5.3"
  }
 },
 "nbformat": 4,
 "nbformat_minor": 4
}
