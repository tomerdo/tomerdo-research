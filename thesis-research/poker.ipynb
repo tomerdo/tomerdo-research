{
 "cells": [
  {
   "cell_type": "code",
   "execution_count": 1,
   "metadata": {},
   "outputs": [
    {
     "name": "stderr",
     "output_type": "stream",
     "text": [
      "┌ Info: Precompiling StatsPlots [f3b207a7-027a-5e70-b257-86293d7955fd]\n",
      "└ @ Base loading.jl:1278\n"
     ]
    }
   ],
   "source": [
    "# Import libraries.\n",
    "using Turing, StatsPlots, Random, Memoization, StatsBase, Statistics, ProgressMeter, SpecialFunctions"
   ]
  },
  {
   "cell_type": "markdown",
   "metadata": {},
   "source": [
    "## In this notebook we will implement a  Theory Of Mind agents on a version of Poker"
   ]
  },
  {
   "cell_type": "markdown",
   "metadata": {},
   "source": [
    "### Kuhn Poker"
   ]
  },
  {
   "cell_type": "markdown",
   "metadata": {},
   "source": [
    "Kuhn poker is an extremely simplified form of poker developed by Harold W. Kuhn as a simple model zero-sum two-player imperfect-information game, amenable to a complete game-theoretic analysis. In Kuhn poker, the deck includes only three playing cards, for example a King, Queen, and Jack. One card is dealt to each player, which may place bets similarly to a standard poker. If both players bet or both players pass, the player with the higher card wins, otherwise, the betting player wins."
   ]
  },
  {
   "cell_type": "markdown",
   "metadata": {},
   "source": [
    "#### Rules"
   ]
  },
  {
   "cell_type": "markdown",
   "metadata": {},
   "source": [
    "In conventional poker terms, a game of Kuhn poker proceeds as follows:\n",
    "\n",
    "Each player antes 1.\n",
    "Each player is dealt one of the three cards, and the third is put aside unseen.\n",
    "Player one can check or bet 1.\n",
    "* If player one checks then player two can check or bet 1.\n",
    "    * If player two checks there is a showdown for the pot of 2 (i.e. the higher card wins 1 from the other player).\n",
    "    * If player two bets then player one can fold or call.\n",
    "        * If player one folds then player two takes the pot of 3 (i.e. winning 1 from player 1).\n",
    "        * If player one calls there is a showdown for the pot of 4 (i.e. the higher card wins 2 from the other player).\n",
    "* If player one bets then player two can fold or call.\n",
    "    * If player two folds then player one takes the pot of 3 (i.e. winning 1 from player 2).\n",
    "    * If player two calls there is a showdown for the pot of 4 (i.e. the higher card wins 2 from the other player)."
   ]
  },
  {
   "cell_type": "markdown",
   "metadata": {},
   "source": [
    "#### Optimal strategy\n"
   ]
  },
  {
   "cell_type": "markdown",
   "metadata": {},
   "source": [
    "The game has a mixed-strategy Nash equilibrium; when both players play equilibrium strategies, the first player should expect to lose at a rate of −1/18 per hand (as the game is zero-sum, the second player should expect to win at a rate of +1/18). There is no pure-strategy equilibrium.\n",
    "\n",
    "Kuhn demonstrated there are infinitely many equilibrium strategies for the first player, forming a continuum governed by a single parameter. In one possible formulation, player one freely chooses the probability $\\alpha$ $\\in$ [0,1/3] with which he will bet when having a Jack (otherwise he checks; if the other player bets, he should always fold). When having a King, he should bet with the probability of $3\\alpha$ (otherwise he checks; if the other player bets, he should always call). He should always check when having a Queen, and if the other player bets after this check, he should call with the probability of $\\alpha$ +1/3.\n",
    "\n",
    "The second player has a single equilibrium strategy: Always betting or calling when having a King; when having a Queen, checking if possible, otherwise calling with the probability of 1/3; when having a Jack, never calling and betting with the probability of 1/3."
   ]
  },
  {
   "cell_type": "markdown",
   "metadata": {},
   "source": [
    "#### Pseudo Code Model"
   ]
  },
  {
   "cell_type": "markdown",
   "metadata": {},
   "source": [
    "* game_simulation(num_of_round):\n",
    "    * c1 , c2 ~ Deck() <br>\n",
    "\n",
    "    * player1_history = [] <br>\n",
    "    * player2_history = [] <br>\n",
    "\n",
    "    * for i in length(num_of_rounds):\n",
    "       * m1 = agent(c1, player2_history, deception_alpha) <br>\n",
    "       * player1_history.append(m1) <br>\n",
    "       * m2 = agent(c2, player1_history, deception_alpha) <br>\n",
    "       * player2_history.append(m2) <br>\n",
    "<br><br><br>\n",
    "* agent(card , opp_history, decption_alpha):\n",
    "    * opp_card ~ Deck(deck.pop(card))\n",
    "    * opp_move ~ opp_model(opp_card, last_action)\n",
    "    * return select_move(opp_move, card, deception_alpha)"
   ]
  },
  {
   "cell_type": "code",
   "execution_count": 2,
   "metadata": {},
   "outputs": [
    {
     "data": {
      "text/plain": [
       "3-element Array{Int64,1}:\n",
       " 1\n",
       " 2\n",
       " 3"
      ]
     },
     "execution_count": 2,
     "metadata": {},
     "output_type": "execute_result"
    }
   ],
   "source": [
    "JACK = 1\n",
    "QUEEN = 2\n",
    "KING = 3\n",
    "FULL_DECK = [JACK, QUEEN, KING]"
   ]
  },
  {
   "cell_type": "code",
   "execution_count": 3,
   "metadata": {},
   "outputs": [
    {
     "data": {
      "text/plain": [
       "3-element Array{Int64,1}:\n",
       " -1\n",
       "  0\n",
       "  1"
      ]
     },
     "execution_count": 3,
     "metadata": {},
     "output_type": "execute_result"
    }
   ],
   "source": [
    "FOLD = -1\n",
    "CHECK = 0\n",
    "BET = 1\n",
    "ACTIONS = [FOLD, CHECK, BET]"
   ]
  },
  {
   "cell_type": "markdown",
   "metadata": {},
   "source": [
    "#### This method is implementation of first player equilibrium strategy"
   ]
  },
  {
   "cell_type": "code",
   "execution_count": 4,
   "metadata": {},
   "outputs": [
    {
     "data": {
      "text/plain": [
       "first_player_select_move (generic function with 1 method)"
      ]
     },
     "execution_count": 4,
     "metadata": {},
     "output_type": "execute_result"
    }
   ],
   "source": [
    "function first_player_select_move(card, deception_alpha, opp_betting)\n",
    "   if card == JACK\n",
    "        if opp_betting\n",
    "            return FOLD    \n",
    "        elseif rand() < deception_alpha\n",
    "            return BET # bluff\n",
    "        else\n",
    "            return CHECK\n",
    "        end\n",
    "    elseif card == KING\n",
    "        need_to_bet = rand() < 3 * deception_alpha\n",
    "        if need_to_bet && !opp_betting\n",
    "            return BET\n",
    "        else   # slow playing\n",
    "            return CHECK\n",
    "        end\n",
    "    else # queen\n",
    "        need_to_call = rand() < deception_alpha + 1/3\n",
    "        if !need_to_call && opp_betting\n",
    "            return FOLD\n",
    "        else\n",
    "            return CHECK\n",
    "        end\n",
    "    end\n",
    "end"
   ]
  },
  {
   "cell_type": "markdown",
   "metadata": {},
   "source": [
    "#### This method is implementation of second player equilibrium strategy"
   ]
  },
  {
   "cell_type": "code",
   "execution_count": 5,
   "metadata": {},
   "outputs": [
    {
     "data": {
      "text/plain": [
       "second_player_select_move (generic function with 1 method)"
      ]
     },
     "execution_count": 5,
     "metadata": {},
     "output_type": "execute_result"
    }
   ],
   "source": [
    "function second_player_select_move(card, opp_betting)\n",
    "   if card == JACK\n",
    "        if opp_betting\n",
    "            return FOLD    \n",
    "        elseif rand() < 1/3\n",
    "            return BET # bluff\n",
    "        else\n",
    "            return CHECK\n",
    "        end\n",
    "    elseif card == KING\n",
    "        if  opp_betting\n",
    "            return CHECK\n",
    "        else   # slow playing\n",
    "            return BET\n",
    "        end\n",
    "    else # queen\n",
    "        need_to_call = rand() < 1/3\n",
    "        if !need_to_call && opp_betting\n",
    "            return FOLD\n",
    "        else\n",
    "            return CHECK\n",
    "        end\n",
    "    end\n",
    "end"
   ]
  },
  {
   "cell_type": "code",
   "execution_count": 6,
   "metadata": {},
   "outputs": [
    {
     "data": {
      "text/plain": [
       "round (generic function with 2 methods)"
      ]
     },
     "execution_count": 6,
     "metadata": {},
     "output_type": "execute_result"
    }
   ],
   "source": [
    "function round(first_card, second_card, deception_alpha = 0.2)\n",
    "    first_player_move = first_player_select_move(first_card, deception_alpha, false)\n",
    "    second_player_move = second_player_select_move(second_card, first_player_move == BET)\n",
    "#     println(\"stage 1 first player: $first_player_move second player: $second_player_move\")\n",
    "    doubled_pot = first_player_move == BET || second_player_move == BET\n",
    "    if second_player_move == FOLD\n",
    "        return 1\n",
    "    end\n",
    "    if second_player_move == BET\n",
    "        doubled_pot = true\n",
    "        first_player_move = first_player_select_move(first_card, deception_alpha , true)\n",
    "#         println(\"stage 2  first player: $first_player_move second player: $second_player_move\")\n",
    "        if first_player_move == FOLD\n",
    "            return -1\n",
    "        end\n",
    "    end\n",
    "    if first_card > second_card\n",
    "        return 1 * (1 + doubled_pot)\n",
    "    else\n",
    "        return -1 * (1 + doubled_pot)\n",
    "    end\n",
    "end"
   ]
  },
  {
   "cell_type": "code",
   "execution_count": 7,
   "metadata": {},
   "outputs": [
    {
     "data": {
      "text/plain": [
       "-1"
      ]
     },
     "execution_count": 7,
     "metadata": {},
     "output_type": "execute_result"
    }
   ],
   "source": [
    "round(JACK, KING)"
   ]
  },
  {
   "cell_type": "code",
   "execution_count": 8,
   "metadata": {},
   "outputs": [
    {
     "data": {
      "text/plain": [
       "game (generic function with 3 methods)"
      ]
     },
     "execution_count": 8,
     "metadata": {},
     "output_type": "execute_result"
    }
   ],
   "source": [
    "function game(num_of_rounds = 10, deception_alpha=0.2)\n",
    "    total_score = 0\n",
    "    for i in 1:num_of_rounds\n",
    "        first_card, second_card = sample(FULL_DECK, 2; replace=false)\n",
    "        score = round(first_card, second_card, deception_alpha)\n",
    "#         println(\"round $i: first player got $first_card second player got $second_card score is $score\")\n",
    "        total_score += score\n",
    "    end\n",
    "    avg_score = total_score / num_of_rounds\n",
    "    return avg_score\n",
    "end"
   ]
  },
  {
   "cell_type": "markdown",
   "metadata": {},
   "source": [
    "#### we can see that the game is converging to -1/18 as the theory states"
   ]
  },
  {
   "cell_type": "code",
   "execution_count": 9,
   "metadata": {},
   "outputs": [
    {
     "data": {
      "text/plain": [
       "-0.054891"
      ]
     },
     "execution_count": 9,
     "metadata": {},
     "output_type": "execute_result"
    }
   ],
   "source": [
    "game(1000000, 0.25)"
   ]
  },
  {
   "cell_type": "code",
   "execution_count": 10,
   "metadata": {},
   "outputs": [
    {
     "data": {
      "text/plain": [
       "-0.055886"
      ]
     },
     "execution_count": 10,
     "metadata": {},
     "output_type": "execute_result"
    }
   ],
   "source": [
    "game(1000000, 0.1)"
   ]
  },
  {
   "cell_type": "code",
   "execution_count": 11,
   "metadata": {},
   "outputs": [
    {
     "data": {
      "text/plain": [
       "-0.056256"
      ]
     },
     "execution_count": 11,
     "metadata": {},
     "output_type": "execute_result"
    }
   ],
   "source": [
    "game(1000000, 0.01)"
   ]
  },
  {
   "cell_type": "markdown",
   "metadata": {},
   "source": [
    "### The PPL Approach"
   ]
  },
  {
   "cell_type": "markdown",
   "metadata": {},
   "source": [
    "### This is modeling of the Nash-EQ agent with PPL ($\\alpha$ seed)"
   ]
  },
  {
   "cell_type": "code",
   "execution_count": 12,
   "metadata": {},
   "outputs": [
    {
     "data": {
      "text/plain": [
       "agent (generic function with 3 methods)"
      ]
     },
     "execution_count": 12,
     "metadata": {},
     "output_type": "execute_result"
    }
   ],
   "source": [
    "@model function agent(card, opp_betting = false, alpha = 0.33333)\n",
    "    deception_alpha ~ Dirac(alpha)\n",
    "    if !opp_betting\n",
    "        if card == JACK\n",
    "            bet_chance ~ Bernoulli(deception_alpha) # bluff\n",
    "            return ACTIONS[bet_chance+1]\n",
    "        elseif card == KING\n",
    "            check_chance ~ Bernoulli(3 * deception_alpha) # agrassive vs slow playing\n",
    "            return ACTIONS[2+check_chance]\n",
    "        else # queen\n",
    "            return CHECK\n",
    "        end\n",
    "    else\n",
    "        if card == JACK\n",
    "            return FOLD\n",
    "        elseif card == KING  \n",
    "            return CHECK\n",
    "        else  \n",
    "            call_chance ~ Bernoulli(deception_alpha + 1/3) # bluff detection\n",
    "            return ACTIONS[1+call_chance] \n",
    "        end\n",
    "    end\n",
    "end"
   ]
  },
  {
   "cell_type": "markdown",
   "metadata": {},
   "source": [
    "#### Some simple games with the model"
   ]
  },
  {
   "cell_type": "code",
   "execution_count": 13,
   "metadata": {},
   "outputs": [
    {
     "data": {
      "image/svg+xml": [
       "<?xml version=\"1.0\" encoding=\"utf-8\"?>\n",
       "<svg xmlns=\"http://www.w3.org/2000/svg\" xmlns:xlink=\"http://www.w3.org/1999/xlink\" width=\"600\" height=\"400\" viewBox=\"0 0 2400 1600\">\n",
       "<defs>\n",
       "  <clipPath id=\"clip470\">\n",
       "    <rect x=\"0\" y=\"0\" width=\"2400\" height=\"1600\"/>\n",
       "  </clipPath>\n",
       "</defs>\n",
       "<path clip-path=\"url(#clip470)\" d=\"\n",
       "M0 1600 L2400 1600 L2400 0 L0 0  Z\n",
       "  \" fill=\"#ffffff\" fill-rule=\"evenodd\" fill-opacity=\"1\"/>\n",
       "<defs>\n",
       "  <clipPath id=\"clip471\">\n",
       "    <rect x=\"480\" y=\"0\" width=\"1681\" height=\"1600\"/>\n",
       "  </clipPath>\n",
       "</defs>\n",
       "<path clip-path=\"url(#clip470)\" d=\"\n",
       "M166.205 1486.45 L2352.76 1486.45 L2352.76 47.2441 L166.205 47.2441  Z\n",
       "  \" fill=\"#ffffff\" fill-rule=\"evenodd\" fill-opacity=\"1\"/>\n",
       "<defs>\n",
       "  <clipPath id=\"clip472\">\n",
       "    <rect x=\"166\" y=\"47\" width=\"2188\" height=\"1440\"/>\n",
       "  </clipPath>\n",
       "</defs>\n",
       "<polyline clip-path=\"url(#clip472)\" style=\"stroke:#000000; stroke-width:2; stroke-opacity:0.1; fill:none\" points=\"\n",
       "  448.637,1486.45 448.637,47.2441 \n",
       "  \"/>\n",
       "<polyline clip-path=\"url(#clip472)\" style=\"stroke:#000000; stroke-width:2; stroke-opacity:0.1; fill:none\" points=\"\n",
       "  935.143,1486.45 935.143,47.2441 \n",
       "  \"/>\n",
       "<polyline clip-path=\"url(#clip472)\" style=\"stroke:#000000; stroke-width:2; stroke-opacity:0.1; fill:none\" points=\"\n",
       "  1421.65,1486.45 1421.65,47.2441 \n",
       "  \"/>\n",
       "<polyline clip-path=\"url(#clip472)\" style=\"stroke:#000000; stroke-width:2; stroke-opacity:0.1; fill:none\" points=\"\n",
       "  1908.15,1486.45 1908.15,47.2441 \n",
       "  \"/>\n",
       "<polyline clip-path=\"url(#clip470)\" style=\"stroke:#000000; stroke-width:4; stroke-opacity:1; fill:none\" points=\"\n",
       "  166.205,1486.45 2352.76,1486.45 \n",
       "  \"/>\n",
       "<polyline clip-path=\"url(#clip470)\" style=\"stroke:#000000; stroke-width:4; stroke-opacity:1; fill:none\" points=\"\n",
       "  448.637,1486.45 448.637,1469.18 \n",
       "  \"/>\n",
       "<polyline clip-path=\"url(#clip470)\" style=\"stroke:#000000; stroke-width:4; stroke-opacity:1; fill:none\" points=\"\n",
       "  935.143,1486.45 935.143,1469.18 \n",
       "  \"/>\n",
       "<polyline clip-path=\"url(#clip470)\" style=\"stroke:#000000; stroke-width:4; stroke-opacity:1; fill:none\" points=\"\n",
       "  1421.65,1486.45 1421.65,1469.18 \n",
       "  \"/>\n",
       "<polyline clip-path=\"url(#clip470)\" style=\"stroke:#000000; stroke-width:4; stroke-opacity:1; fill:none\" points=\"\n",
       "  1908.15,1486.45 1908.15,1469.18 \n",
       "  \"/>\n",
       "<path clip-path=\"url(#clip470)\" d=\"M 0 0 M401.902 1530.29 L431.577 1530.29 L431.577 1534.23 L401.902 1534.23 L401.902 1530.29 Z\" fill=\"#000000\" fill-rule=\"evenodd\" fill-opacity=\"1\" /><path clip-path=\"url(#clip470)\" d=\"M 0 0 M446.647 1515.64 Q443.036 1515.64 441.207 1519.2 Q439.401 1522.75 439.401 1529.87 Q439.401 1536.98 441.207 1540.55 Q443.036 1544.09 446.647 1544.09 Q450.281 1544.09 452.086 1540.55 Q453.915 1536.98 453.915 1529.87 Q453.915 1522.75 452.086 1519.2 Q450.281 1515.64 446.647 1515.64 M446.647 1511.93 Q452.457 1511.93 455.512 1516.54 Q458.591 1521.12 458.591 1529.87 Q458.591 1538.6 455.512 1543.21 Q452.457 1547.79 446.647 1547.79 Q440.837 1547.79 437.758 1543.21 Q434.702 1538.6 434.702 1529.87 Q434.702 1521.12 437.758 1516.54 Q440.837 1511.93 446.647 1511.93 Z\" fill=\"#000000\" fill-rule=\"evenodd\" fill-opacity=\"1\" /><path clip-path=\"url(#clip470)\" d=\"M 0 0 M463.661 1541.24 L468.545 1541.24 L468.545 1547.12 L463.661 1547.12 L463.661 1541.24 Z\" fill=\"#000000\" fill-rule=\"evenodd\" fill-opacity=\"1\" /><path clip-path=\"url(#clip470)\" d=\"M 0 0 M473.753 1546.4 L473.753 1542.14 Q475.512 1542.98 477.318 1543.42 Q479.123 1543.86 480.859 1543.86 Q485.489 1543.86 487.92 1540.75 Q490.373 1537.63 490.721 1531.29 Q489.378 1533.28 487.318 1534.34 Q485.258 1535.41 482.758 1535.41 Q477.572 1535.41 474.54 1532.28 Q471.531 1529.13 471.531 1523.69 Q471.531 1518.37 474.679 1515.15 Q477.827 1511.93 483.059 1511.93 Q489.054 1511.93 492.202 1516.54 Q495.373 1521.12 495.373 1529.87 Q495.373 1538.05 491.484 1542.93 Q487.619 1547.79 481.068 1547.79 Q479.309 1547.79 477.503 1547.44 Q475.697 1547.1 473.753 1546.4 M483.059 1531.75 Q486.207 1531.75 488.035 1529.6 Q489.887 1527.44 489.887 1523.69 Q489.887 1519.97 488.035 1517.81 Q486.207 1515.64 483.059 1515.64 Q479.91 1515.64 478.059 1517.81 Q476.23 1519.97 476.23 1523.69 Q476.23 1527.44 478.059 1529.6 Q479.91 1531.75 483.059 1531.75 Z\" fill=\"#000000\" fill-rule=\"evenodd\" fill-opacity=\"1\" /><path clip-path=\"url(#clip470)\" d=\"M 0 0 M888.234 1530.29 L917.909 1530.29 L917.909 1534.23 L888.234 1534.23 L888.234 1530.29 Z\" fill=\"#000000\" fill-rule=\"evenodd\" fill-opacity=\"1\" /><path clip-path=\"url(#clip470)\" d=\"M 0 0 M932.979 1515.64 Q929.368 1515.64 927.539 1519.2 Q925.733 1522.75 925.733 1529.87 Q925.733 1536.98 927.539 1540.55 Q929.368 1544.09 932.979 1544.09 Q936.613 1544.09 938.419 1540.55 Q940.247 1536.98 940.247 1529.87 Q940.247 1522.75 938.419 1519.2 Q936.613 1515.64 932.979 1515.64 M932.979 1511.93 Q938.789 1511.93 941.845 1516.54 Q944.923 1521.12 944.923 1529.87 Q944.923 1538.6 941.845 1543.21 Q938.789 1547.79 932.979 1547.79 Q927.169 1547.79 924.09 1543.21 Q921.034 1538.6 921.034 1529.87 Q921.034 1521.12 924.09 1516.54 Q927.169 1511.93 932.979 1511.93 Z\" fill=\"#000000\" fill-rule=\"evenodd\" fill-opacity=\"1\" /><path clip-path=\"url(#clip470)\" d=\"M 0 0 M949.993 1541.24 L954.877 1541.24 L954.877 1547.12 L949.993 1547.12 L949.993 1541.24 Z\" fill=\"#000000\" fill-rule=\"evenodd\" fill-opacity=\"1\" /><path clip-path=\"url(#clip470)\" d=\"M 0 0 M970.525 1527.98 Q967.377 1527.98 965.525 1530.13 Q963.696 1532.28 963.696 1536.03 Q963.696 1539.76 965.525 1541.93 Q967.377 1544.09 970.525 1544.09 Q973.673 1544.09 975.502 1541.93 Q977.354 1539.76 977.354 1536.03 Q977.354 1532.28 975.502 1530.13 Q973.673 1527.98 970.525 1527.98 M979.807 1513.32 L979.807 1517.58 Q978.048 1516.75 976.242 1516.31 Q974.46 1515.87 972.701 1515.87 Q968.071 1515.87 965.618 1519 Q963.187 1522.12 962.84 1528.44 Q964.205 1526.43 966.266 1525.36 Q968.326 1524.27 970.803 1524.27 Q976.011 1524.27 979.02 1527.44 Q982.053 1530.59 982.053 1536.03 Q982.053 1541.36 978.904 1544.57 Q975.756 1547.79 970.525 1547.79 Q964.53 1547.79 961.358 1543.21 Q958.187 1538.6 958.187 1529.87 Q958.187 1521.68 962.076 1516.82 Q965.965 1511.93 972.516 1511.93 Q974.275 1511.93 976.057 1512.28 Q977.863 1512.63 979.807 1513.32 Z\" fill=\"#000000\" fill-rule=\"evenodd\" fill-opacity=\"1\" /><path clip-path=\"url(#clip470)\" d=\"M 0 0 M1375.14 1530.29 L1404.82 1530.29 L1404.82 1534.23 L1375.14 1534.23 L1375.14 1530.29 Z\" fill=\"#000000\" fill-rule=\"evenodd\" fill-opacity=\"1\" /><path clip-path=\"url(#clip470)\" d=\"M 0 0 M1419.89 1515.64 Q1416.28 1515.64 1414.45 1519.2 Q1412.64 1522.75 1412.64 1529.87 Q1412.64 1536.98 1414.45 1540.55 Q1416.28 1544.09 1419.89 1544.09 Q1423.52 1544.09 1425.33 1540.55 Q1427.16 1536.98 1427.16 1529.87 Q1427.16 1522.75 1425.33 1519.2 Q1423.52 1515.64 1419.89 1515.64 M1419.89 1511.93 Q1425.7 1511.93 1428.76 1516.54 Q1431.83 1521.12 1431.83 1529.87 Q1431.83 1538.6 1428.76 1543.21 Q1425.7 1547.79 1419.89 1547.79 Q1414.08 1547.79 1411 1543.21 Q1407.95 1538.6 1407.95 1529.87 Q1407.95 1521.12 1411 1516.54 Q1414.08 1511.93 1419.89 1511.93 Z\" fill=\"#000000\" fill-rule=\"evenodd\" fill-opacity=\"1\" /><path clip-path=\"url(#clip470)\" d=\"M 0 0 M1436.9 1541.24 L1441.79 1541.24 L1441.79 1547.12 L1436.9 1547.12 L1436.9 1541.24 Z\" fill=\"#000000\" fill-rule=\"evenodd\" fill-opacity=\"1\" /><path clip-path=\"url(#clip470)\" d=\"M 0 0 M1461.02 1528.49 Q1464.38 1529.2 1466.26 1531.47 Q1468.15 1533.74 1468.15 1537.07 Q1468.15 1542.19 1464.63 1544.99 Q1461.12 1547.79 1454.63 1547.79 Q1452.46 1547.79 1450.14 1547.35 Q1447.85 1546.93 1445.4 1546.08 L1445.4 1541.56 Q1447.34 1542.7 1449.66 1543.28 Q1451.97 1543.86 1454.5 1543.86 Q1458.89 1543.86 1461.19 1542.12 Q1463.5 1540.38 1463.5 1537.07 Q1463.5 1534.02 1461.35 1532.31 Q1459.22 1530.57 1455.4 1530.57 L1451.37 1530.57 L1451.37 1526.73 L1455.58 1526.73 Q1459.03 1526.73 1460.86 1525.36 Q1462.69 1523.97 1462.69 1521.38 Q1462.69 1518.72 1460.79 1517.31 Q1458.92 1515.87 1455.4 1515.87 Q1453.48 1515.87 1451.28 1516.29 Q1449.08 1516.7 1446.44 1517.58 L1446.44 1513.42 Q1449.1 1512.68 1451.42 1512.31 Q1453.76 1511.93 1455.82 1511.93 Q1461.14 1511.93 1464.24 1514.37 Q1467.34 1516.77 1467.34 1520.89 Q1467.34 1523.76 1465.7 1525.75 Q1464.06 1527.72 1461.02 1528.49 Z\" fill=\"#000000\" fill-rule=\"evenodd\" fill-opacity=\"1\" /><path clip-path=\"url(#clip470)\" d=\"M 0 0 M1889.67 1515.64 Q1886.06 1515.64 1884.23 1519.2 Q1882.43 1522.75 1882.43 1529.87 Q1882.43 1536.98 1884.23 1540.55 Q1886.06 1544.09 1889.67 1544.09 Q1893.31 1544.09 1895.11 1540.55 Q1896.94 1536.98 1896.94 1529.87 Q1896.94 1522.75 1895.11 1519.2 Q1893.31 1515.64 1889.67 1515.64 M1889.67 1511.93 Q1895.48 1511.93 1898.54 1516.54 Q1901.62 1521.12 1901.62 1529.87 Q1901.62 1538.6 1898.54 1543.21 Q1895.48 1547.79 1889.67 1547.79 Q1883.86 1547.79 1880.78 1543.21 Q1877.73 1538.6 1877.73 1529.87 Q1877.73 1521.12 1880.78 1516.54 Q1883.86 1511.93 1889.67 1511.93 Z\" fill=\"#000000\" fill-rule=\"evenodd\" fill-opacity=\"1\" /><path clip-path=\"url(#clip470)\" d=\"M 0 0 M1906.68 1541.24 L1911.57 1541.24 L1911.57 1547.12 L1906.68 1547.12 L1906.68 1541.24 Z\" fill=\"#000000\" fill-rule=\"evenodd\" fill-opacity=\"1\" /><path clip-path=\"url(#clip470)\" d=\"M 0 0 M1926.64 1515.64 Q1923.03 1515.64 1921.2 1519.2 Q1919.39 1522.75 1919.39 1529.87 Q1919.39 1536.98 1921.2 1540.55 Q1923.03 1544.09 1926.64 1544.09 Q1930.27 1544.09 1932.08 1540.55 Q1933.91 1536.98 1933.91 1529.87 Q1933.91 1522.75 1932.08 1519.2 Q1930.27 1515.64 1926.64 1515.64 M1926.64 1511.93 Q1932.45 1511.93 1935.5 1516.54 Q1938.58 1521.12 1938.58 1529.87 Q1938.58 1538.6 1935.5 1543.21 Q1932.45 1547.79 1926.64 1547.79 Q1920.83 1547.79 1917.75 1543.21 Q1914.69 1538.6 1914.69 1529.87 Q1914.69 1521.12 1917.75 1516.54 Q1920.83 1511.93 1926.64 1511.93 Z\" fill=\"#000000\" fill-rule=\"evenodd\" fill-opacity=\"1\" /><polyline clip-path=\"url(#clip472)\" style=\"stroke:#000000; stroke-width:2; stroke-opacity:0.1; fill:none\" points=\"\n",
       "  166.205,1445.72 2352.76,1445.72 \n",
       "  \"/>\n",
       "<polyline clip-path=\"url(#clip472)\" style=\"stroke:#000000; stroke-width:2; stroke-opacity:0.1; fill:none\" points=\"\n",
       "  166.205,1046.97 2352.76,1046.97 \n",
       "  \"/>\n",
       "<polyline clip-path=\"url(#clip472)\" style=\"stroke:#000000; stroke-width:2; stroke-opacity:0.1; fill:none\" points=\"\n",
       "  166.205,648.218 2352.76,648.218 \n",
       "  \"/>\n",
       "<polyline clip-path=\"url(#clip472)\" style=\"stroke:#000000; stroke-width:2; stroke-opacity:0.1; fill:none\" points=\"\n",
       "  166.205,249.47 2352.76,249.47 \n",
       "  \"/>\n",
       "<polyline clip-path=\"url(#clip470)\" style=\"stroke:#000000; stroke-width:4; stroke-opacity:1; fill:none\" points=\"\n",
       "  166.205,1486.45 166.205,47.2441 \n",
       "  \"/>\n",
       "<polyline clip-path=\"url(#clip470)\" style=\"stroke:#000000; stroke-width:4; stroke-opacity:1; fill:none\" points=\"\n",
       "  166.205,1445.72 192.443,1445.72 \n",
       "  \"/>\n",
       "<polyline clip-path=\"url(#clip470)\" style=\"stroke:#000000; stroke-width:4; stroke-opacity:1; fill:none\" points=\"\n",
       "  166.205,1046.97 192.443,1046.97 \n",
       "  \"/>\n",
       "<polyline clip-path=\"url(#clip470)\" style=\"stroke:#000000; stroke-width:4; stroke-opacity:1; fill:none\" points=\"\n",
       "  166.205,648.218 192.443,648.218 \n",
       "  \"/>\n",
       "<polyline clip-path=\"url(#clip470)\" style=\"stroke:#000000; stroke-width:4; stroke-opacity:1; fill:none\" points=\"\n",
       "  166.205,249.47 192.443,249.47 \n",
       "  \"/>\n",
       "<path clip-path=\"url(#clip470)\" d=\"M 0 0 M118.26 1431.51 Q114.649 1431.51 112.82 1435.08 Q111.015 1438.62 111.015 1445.75 Q111.015 1452.86 112.82 1456.42 Q114.649 1459.96 118.26 1459.96 Q121.895 1459.96 123.7 1456.42 Q125.529 1452.86 125.529 1445.75 Q125.529 1438.62 123.7 1435.08 Q121.895 1431.51 118.26 1431.51 M118.26 1427.81 Q124.07 1427.81 127.126 1432.42 Q130.205 1437 130.205 1445.75 Q130.205 1454.48 127.126 1459.08 Q124.07 1463.67 118.26 1463.67 Q112.45 1463.67 109.371 1459.08 Q106.316 1454.48 106.316 1445.75 Q106.316 1437 109.371 1432.42 Q112.45 1427.81 118.26 1427.81 Z\" fill=\"#000000\" fill-rule=\"evenodd\" fill-opacity=\"1\" /><path clip-path=\"url(#clip470)\" d=\"M 0 0 M59.8578 1060.31 L76.1772 1060.31 L76.1772 1064.25 L54.2328 1064.25 L54.2328 1060.31 Q56.8949 1057.56 61.4782 1052.93 Q66.0846 1048.27 67.2652 1046.93 Q69.5105 1044.41 70.3902 1042.67 Q71.2929 1040.91 71.2929 1039.22 Q71.2929 1036.47 69.3485 1034.73 Q67.4272 1033 64.3254 1033 Q62.1263 1033 59.6726 1033.76 Q57.2421 1034.52 54.4643 1036.08 L54.4643 1031.35 Q57.2884 1030.22 59.7421 1029.64 Q62.1958 1029.06 64.2328 1029.06 Q69.6031 1029.06 72.7976 1031.75 Q75.992 1034.43 75.992 1038.92 Q75.992 1041.05 75.1818 1042.97 Q74.3948 1044.87 72.2883 1047.46 Q71.7096 1048.14 68.6078 1051.35 Q65.5059 1054.55 59.8578 1060.31 Z\" fill=\"#000000\" fill-rule=\"evenodd\" fill-opacity=\"1\" /><path clip-path=\"url(#clip470)\" d=\"M 0 0 M91.2465 1032.77 Q87.6354 1032.77 85.8068 1036.33 Q84.0012 1039.87 84.0012 1047 Q84.0012 1054.11 85.8068 1057.67 Q87.6354 1061.21 91.2465 1061.21 Q94.8808 1061.21 96.6863 1057.67 Q98.515 1054.11 98.515 1047 Q98.515 1039.87 96.6863 1036.33 Q94.8808 1032.77 91.2465 1032.77 M91.2465 1029.06 Q97.0567 1029.06 100.112 1033.67 Q103.191 1038.25 103.191 1047 Q103.191 1055.73 100.112 1060.33 Q97.0567 1064.92 91.2465 1064.92 Q85.4364 1064.92 82.3577 1060.33 Q79.3022 1055.73 79.3022 1047 Q79.3022 1038.25 82.3577 1033.67 Q85.4364 1029.06 91.2465 1029.06 Z\" fill=\"#000000\" fill-rule=\"evenodd\" fill-opacity=\"1\" /><path clip-path=\"url(#clip470)\" d=\"M 0 0 M118.26 1032.77 Q114.649 1032.77 112.82 1036.33 Q111.015 1039.87 111.015 1047 Q111.015 1054.11 112.82 1057.67 Q114.649 1061.21 118.26 1061.21 Q121.895 1061.21 123.7 1057.67 Q125.529 1054.11 125.529 1047 Q125.529 1039.87 123.7 1036.33 Q121.895 1032.77 118.26 1032.77 M118.26 1029.06 Q124.07 1029.06 127.126 1033.67 Q130.205 1038.25 130.205 1047 Q130.205 1055.73 127.126 1060.33 Q124.07 1064.92 118.26 1064.92 Q112.45 1064.92 109.371 1060.33 Q106.316 1055.73 106.316 1047 Q106.316 1038.25 109.371 1033.67 Q112.45 1029.06 118.26 1029.06 Z\" fill=\"#000000\" fill-rule=\"evenodd\" fill-opacity=\"1\" /><path clip-path=\"url(#clip470)\" d=\"M 0 0 M66.5939 635.012 L54.7884 653.461 L66.5939 653.461 L66.5939 635.012 M65.367 630.938 L71.2466 630.938 L71.2466 653.461 L76.1772 653.461 L76.1772 657.35 L71.2466 657.35 L71.2466 665.498 L66.5939 665.498 L66.5939 657.35 L50.9921 657.35 L50.9921 652.836 L65.367 630.938 Z\" fill=\"#000000\" fill-rule=\"evenodd\" fill-opacity=\"1\" /><path clip-path=\"url(#clip470)\" d=\"M 0 0 M91.2465 634.017 Q87.6354 634.017 85.8068 637.582 Q84.0012 641.123 84.0012 648.253 Q84.0012 655.359 85.8068 658.924 Q87.6354 662.466 91.2465 662.466 Q94.8808 662.466 96.6863 658.924 Q98.515 655.359 98.515 648.253 Q98.515 641.123 96.6863 637.582 Q94.8808 634.017 91.2465 634.017 M91.2465 630.313 Q97.0567 630.313 100.112 634.92 Q103.191 639.503 103.191 648.253 Q103.191 656.98 100.112 661.586 Q97.0567 666.17 91.2465 666.17 Q85.4364 666.17 82.3577 661.586 Q79.3022 656.98 79.3022 648.253 Q79.3022 639.503 82.3577 634.92 Q85.4364 630.313 91.2465 630.313 Z\" fill=\"#000000\" fill-rule=\"evenodd\" fill-opacity=\"1\" /><path clip-path=\"url(#clip470)\" d=\"M 0 0 M118.26 634.017 Q114.649 634.017 112.82 637.582 Q111.015 641.123 111.015 648.253 Q111.015 655.359 112.82 658.924 Q114.649 662.466 118.26 662.466 Q121.895 662.466 123.7 658.924 Q125.529 655.359 125.529 648.253 Q125.529 641.123 123.7 637.582 Q121.895 634.017 118.26 634.017 M118.26 630.313 Q124.07 630.313 127.126 634.92 Q130.205 639.503 130.205 648.253 Q130.205 656.98 127.126 661.586 Q124.07 666.17 118.26 666.17 Q112.45 666.17 109.371 661.586 Q106.316 656.98 106.316 648.253 Q106.316 639.503 109.371 634.92 Q112.45 630.313 118.26 630.313 Z\" fill=\"#000000\" fill-rule=\"evenodd\" fill-opacity=\"1\" /><path clip-path=\"url(#clip470)\" d=\"M 0 0 M64.6495 247.606 Q61.5013 247.606 59.6495 249.759 Q57.8208 251.912 57.8208 255.662 Q57.8208 259.388 59.6495 261.564 Q61.5013 263.717 64.6495 263.717 Q67.7976 263.717 69.6263 261.564 Q71.4781 259.388 71.4781 255.662 Q71.4781 251.912 69.6263 249.759 Q67.7976 247.606 64.6495 247.606 M73.9318 232.953 L73.9318 237.213 Q72.1726 236.379 70.367 235.939 Q68.5846 235.5 66.8254 235.5 Q62.1958 235.5 59.7421 238.625 Q57.3115 241.75 56.9643 248.069 Q58.33 246.055 60.3902 244.99 Q62.4504 243.902 64.9272 243.902 Q70.1355 243.902 73.1448 247.074 Q76.1772 250.222 76.1772 255.662 Q76.1772 260.986 73.029 264.203 Q69.8809 267.421 64.6495 267.421 Q58.6541 267.421 55.4828 262.837 Q52.3116 258.231 52.3116 249.504 Q52.3116 241.31 56.2004 236.449 Q60.0893 231.565 66.6402 231.565 Q68.3994 231.565 70.1818 231.912 Q71.9874 232.259 73.9318 232.953 Z\" fill=\"#000000\" fill-rule=\"evenodd\" fill-opacity=\"1\" /><path clip-path=\"url(#clip470)\" d=\"M 0 0 M91.2465 235.268 Q87.6354 235.268 85.8068 238.833 Q84.0012 242.375 84.0012 249.504 Q84.0012 256.611 85.8068 260.175 Q87.6354 263.717 91.2465 263.717 Q94.8808 263.717 96.6863 260.175 Q98.515 256.611 98.515 249.504 Q98.515 242.375 96.6863 238.833 Q94.8808 235.268 91.2465 235.268 M91.2465 231.565 Q97.0567 231.565 100.112 236.171 Q103.191 240.754 103.191 249.504 Q103.191 258.231 100.112 262.837 Q97.0567 267.421 91.2465 267.421 Q85.4364 267.421 82.3577 262.837 Q79.3022 258.231 79.3022 249.504 Q79.3022 240.754 82.3577 236.171 Q85.4364 231.565 91.2465 231.565 Z\" fill=\"#000000\" fill-rule=\"evenodd\" fill-opacity=\"1\" /><path clip-path=\"url(#clip470)\" d=\"M 0 0 M118.26 235.268 Q114.649 235.268 112.82 238.833 Q111.015 242.375 111.015 249.504 Q111.015 256.611 112.82 260.175 Q114.649 263.717 118.26 263.717 Q121.895 263.717 123.7 260.175 Q125.529 256.611 125.529 249.504 Q125.529 242.375 123.7 238.833 Q121.895 235.268 118.26 235.268 M118.26 231.565 Q124.07 231.565 127.126 236.171 Q130.205 240.754 130.205 249.504 Q130.205 258.231 127.126 262.837 Q124.07 267.421 118.26 267.421 Q112.45 267.421 109.371 262.837 Q106.316 258.231 106.316 249.504 Q106.316 240.754 109.371 236.171 Q112.45 231.565 118.26 231.565 Z\" fill=\"#000000\" fill-rule=\"evenodd\" fill-opacity=\"1\" /><path clip-path=\"url(#clip472)\" d=\"\n",
       "M286.469 87.9763 L286.469 1445.72 L610.806 1445.72 L610.806 87.9763 L286.469 87.9763 L286.469 87.9763  Z\n",
       "  \" fill=\"#009af9\" fill-rule=\"evenodd\" fill-opacity=\"1\"/>\n",
       "<polyline clip-path=\"url(#clip472)\" style=\"stroke:#000000; stroke-width:4; stroke-opacity:1; fill:none\" points=\"\n",
       "  286.469,87.9763 286.469,1445.72 610.806,1445.72 610.806,87.9763 286.469,87.9763 \n",
       "  \"/>\n",
       "<path clip-path=\"url(#clip472)\" d=\"\n",
       "M610.806 1445.72 L610.806 1445.72 L935.143 1445.72 L935.143 1445.72 L610.806 1445.72 L610.806 1445.72  Z\n",
       "  \" fill=\"#009af9\" fill-rule=\"evenodd\" fill-opacity=\"1\"/>\n",
       "<polyline clip-path=\"url(#clip472)\" style=\"stroke:#000000; stroke-width:4; stroke-opacity:1; fill:none\" points=\"\n",
       "  610.806,1445.72 610.806,1445.72 935.143,1445.72 610.806,1445.72 \n",
       "  \"/>\n",
       "<path clip-path=\"url(#clip472)\" d=\"\n",
       "M935.143 1445.72 L935.143 1445.72 L1259.48 1445.72 L1259.48 1445.72 L935.143 1445.72 L935.143 1445.72  Z\n",
       "  \" fill=\"#009af9\" fill-rule=\"evenodd\" fill-opacity=\"1\"/>\n",
       "<polyline clip-path=\"url(#clip472)\" style=\"stroke:#000000; stroke-width:4; stroke-opacity:1; fill:none\" points=\"\n",
       "  935.143,1445.72 935.143,1445.72 1259.48,1445.72 935.143,1445.72 \n",
       "  \"/>\n",
       "<path clip-path=\"url(#clip472)\" d=\"\n",
       "M1259.48 1445.72 L1259.48 1445.72 L1583.82 1445.72 L1583.82 1445.72 L1259.48 1445.72 L1259.48 1445.72  Z\n",
       "  \" fill=\"#009af9\" fill-rule=\"evenodd\" fill-opacity=\"1\"/>\n",
       "<polyline clip-path=\"url(#clip472)\" style=\"stroke:#000000; stroke-width:4; stroke-opacity:1; fill:none\" points=\"\n",
       "  1259.48,1445.72 1259.48,1445.72 1583.82,1445.72 1259.48,1445.72 \n",
       "  \"/>\n",
       "<path clip-path=\"url(#clip472)\" d=\"\n",
       "M1583.82 1445.72 L1583.82 1445.72 L1908.15 1445.72 L1908.15 1445.72 L1583.82 1445.72 L1583.82 1445.72  Z\n",
       "  \" fill=\"#009af9\" fill-rule=\"evenodd\" fill-opacity=\"1\"/>\n",
       "<polyline clip-path=\"url(#clip472)\" style=\"stroke:#000000; stroke-width:4; stroke-opacity:1; fill:none\" points=\"\n",
       "  1583.82,1445.72 1583.82,1445.72 1908.15,1445.72 1583.82,1445.72 \n",
       "  \"/>\n",
       "<path clip-path=\"url(#clip472)\" d=\"\n",
       "M1908.15 809.711 L1908.15 1445.72 L2232.49 1445.72 L2232.49 809.711 L1908.15 809.711 L1908.15 809.711  Z\n",
       "  \" fill=\"#009af9\" fill-rule=\"evenodd\" fill-opacity=\"1\"/>\n",
       "<polyline clip-path=\"url(#clip472)\" style=\"stroke:#000000; stroke-width:4; stroke-opacity:1; fill:none\" points=\"\n",
       "  1908.15,809.711 1908.15,1445.72 2232.49,1445.72 2232.49,809.711 1908.15,809.711 \n",
       "  \"/>\n",
       "<path clip-path=\"url(#clip470)\" d=\"\n",
       "M1985.9 216.178 L2279.87 216.178 L2279.87 95.2176 L1985.9 95.2176  Z\n",
       "  \" fill=\"#ffffff\" fill-rule=\"evenodd\" fill-opacity=\"1\"/>\n",
       "<polyline clip-path=\"url(#clip470)\" style=\"stroke:#000000; stroke-width:4; stroke-opacity:1; fill:none\" points=\"\n",
       "  1985.9,216.178 2279.87,216.178 2279.87,95.2176 1985.9,95.2176 1985.9,216.178 \n",
       "  \"/>\n",
       "<path clip-path=\"url(#clip470)\" d=\"\n",
       "M2010.2 179.89 L2155.97 179.89 L2155.97 131.506 L2010.2 131.506 L2010.2 179.89  Z\n",
       "  \" fill=\"#009af9\" fill-rule=\"evenodd\" fill-opacity=\"1\"/>\n",
       "<polyline clip-path=\"url(#clip470)\" style=\"stroke:#000000; stroke-width:4; stroke-opacity:1; fill:none\" points=\"\n",
       "  2010.2,179.89 2155.97,179.89 2155.97,131.506 2010.2,131.506 2010.2,179.89 \n",
       "  \"/>\n",
       "<path clip-path=\"url(#clip470)\" d=\"M 0 0 M2194.11 175.385 Q2192.3 180.015 2190.59 181.427 Q2188.87 182.839 2186 182.839 L2182.6 182.839 L2182.6 179.274 L2185.1 179.274 Q2186.86 179.274 2187.83 178.44 Q2188.8 177.607 2189.98 174.505 L2190.75 172.561 L2180.26 147.052 L2184.78 147.052 L2192.88 167.329 L2200.98 147.052 L2205.49 147.052 L2194.11 175.385 Z\" fill=\"#000000\" fill-rule=\"evenodd\" fill-opacity=\"1\" /><path clip-path=\"url(#clip470)\" d=\"M 0 0 M2211.37 169.042 L2219.01 169.042 L2219.01 142.677 L2210.7 144.343 L2210.7 140.084 L2218.97 138.418 L2223.64 138.418 L2223.64 169.042 L2231.28 169.042 L2231.28 172.978 L2211.37 172.978 L2211.37 169.042 Z\" fill=\"#000000\" fill-rule=\"evenodd\" fill-opacity=\"1\" /></svg>\n"
      ]
     },
     "execution_count": 13,
     "metadata": {},
     "output_type": "execute_result"
    }
   ],
   "source": [
    "m = agent(JACK)\n",
    "chains = sample(m, IS(), 1000 , n_chains=1)\n",
    "histogram(generated_quantities(m, chains))"
   ]
  },
  {
   "cell_type": "code",
   "execution_count": 14,
   "metadata": {},
   "outputs": [
    {
     "data": {
      "image/svg+xml": [
       "<?xml version=\"1.0\" encoding=\"utf-8\"?>\n",
       "<svg xmlns=\"http://www.w3.org/2000/svg\" xmlns:xlink=\"http://www.w3.org/1999/xlink\" width=\"600\" height=\"400\" viewBox=\"0 0 2400 1600\">\n",
       "<defs>\n",
       "  <clipPath id=\"clip510\">\n",
       "    <rect x=\"0\" y=\"0\" width=\"2400\" height=\"1600\"/>\n",
       "  </clipPath>\n",
       "</defs>\n",
       "<path clip-path=\"url(#clip510)\" d=\"\n",
       "M0 1600 L2400 1600 L2400 0 L0 0  Z\n",
       "  \" fill=\"#ffffff\" fill-rule=\"evenodd\" fill-opacity=\"1\"/>\n",
       "<defs>\n",
       "  <clipPath id=\"clip511\">\n",
       "    <rect x=\"480\" y=\"0\" width=\"1681\" height=\"1600\"/>\n",
       "  </clipPath>\n",
       "</defs>\n",
       "<path clip-path=\"url(#clip510)\" d=\"\n",
       "M188.612 1486.45 L2352.76 1486.45 L2352.76 47.2441 L188.612 47.2441  Z\n",
       "  \" fill=\"#ffffff\" fill-rule=\"evenodd\" fill-opacity=\"1\"/>\n",
       "<defs>\n",
       "  <clipPath id=\"clip512\">\n",
       "    <rect x=\"188\" y=\"47\" width=\"2165\" height=\"1440\"/>\n",
       "  </clipPath>\n",
       "</defs>\n",
       "<polyline clip-path=\"url(#clip512)\" style=\"stroke:#000000; stroke-width:2; stroke-opacity:0.1; fill:none\" points=\"\n",
       "  307.644,1486.45 307.644,47.2441 \n",
       "  \"/>\n",
       "<polyline clip-path=\"url(#clip512)\" style=\"stroke:#000000; stroke-width:2; stroke-opacity:0.1; fill:none\" points=\"\n",
       "  789.164,1486.45 789.164,47.2441 \n",
       "  \"/>\n",
       "<polyline clip-path=\"url(#clip512)\" style=\"stroke:#000000; stroke-width:2; stroke-opacity:0.1; fill:none\" points=\"\n",
       "  1270.68,1486.45 1270.68,47.2441 \n",
       "  \"/>\n",
       "<polyline clip-path=\"url(#clip512)\" style=\"stroke:#000000; stroke-width:2; stroke-opacity:0.1; fill:none\" points=\"\n",
       "  1752.2,1486.45 1752.2,47.2441 \n",
       "  \"/>\n",
       "<polyline clip-path=\"url(#clip512)\" style=\"stroke:#000000; stroke-width:2; stroke-opacity:0.1; fill:none\" points=\"\n",
       "  2233.72,1486.45 2233.72,47.2441 \n",
       "  \"/>\n",
       "<polyline clip-path=\"url(#clip510)\" style=\"stroke:#000000; stroke-width:4; stroke-opacity:1; fill:none\" points=\"\n",
       "  188.612,1486.45 2352.76,1486.45 \n",
       "  \"/>\n",
       "<polyline clip-path=\"url(#clip510)\" style=\"stroke:#000000; stroke-width:4; stroke-opacity:1; fill:none\" points=\"\n",
       "  307.644,1486.45 307.644,1469.18 \n",
       "  \"/>\n",
       "<polyline clip-path=\"url(#clip510)\" style=\"stroke:#000000; stroke-width:4; stroke-opacity:1; fill:none\" points=\"\n",
       "  789.164,1486.45 789.164,1469.18 \n",
       "  \"/>\n",
       "<polyline clip-path=\"url(#clip510)\" style=\"stroke:#000000; stroke-width:4; stroke-opacity:1; fill:none\" points=\"\n",
       "  1270.68,1486.45 1270.68,1469.18 \n",
       "  \"/>\n",
       "<polyline clip-path=\"url(#clip510)\" style=\"stroke:#000000; stroke-width:4; stroke-opacity:1; fill:none\" points=\"\n",
       "  1752.2,1486.45 1752.2,1469.18 \n",
       "  \"/>\n",
       "<polyline clip-path=\"url(#clip510)\" style=\"stroke:#000000; stroke-width:4; stroke-opacity:1; fill:none\" points=\"\n",
       "  2233.72,1486.45 2233.72,1469.18 \n",
       "  \"/>\n",
       "<path clip-path=\"url(#clip510)\" d=\"M 0 0 M247.922 1530.29 L277.598 1530.29 L277.598 1534.23 L247.922 1534.23 L247.922 1530.29 Z\" fill=\"#000000\" fill-rule=\"evenodd\" fill-opacity=\"1\" /><path clip-path=\"url(#clip510)\" d=\"M 0 0 M283.477 1543.18 L291.116 1543.18 L291.116 1516.82 L282.806 1518.49 L282.806 1514.23 L291.07 1512.56 L295.746 1512.56 L295.746 1543.18 L303.384 1543.18 L303.384 1547.12 L283.477 1547.12 L283.477 1543.18 Z\" fill=\"#000000\" fill-rule=\"evenodd\" fill-opacity=\"1\" /><path clip-path=\"url(#clip510)\" d=\"M 0 0 M308.454 1541.24 L313.338 1541.24 L313.338 1547.12 L308.454 1547.12 L308.454 1541.24 Z\" fill=\"#000000\" fill-rule=\"evenodd\" fill-opacity=\"1\" /><path clip-path=\"url(#clip510)\" d=\"M 0 0 M328.407 1515.64 Q324.796 1515.64 322.968 1519.2 Q321.162 1522.75 321.162 1529.87 Q321.162 1536.98 322.968 1540.55 Q324.796 1544.09 328.407 1544.09 Q332.042 1544.09 333.847 1540.55 Q335.676 1536.98 335.676 1529.87 Q335.676 1522.75 333.847 1519.2 Q332.042 1515.64 328.407 1515.64 M328.407 1511.93 Q334.218 1511.93 337.273 1516.54 Q340.352 1521.12 340.352 1529.87 Q340.352 1538.6 337.273 1543.21 Q334.218 1547.79 328.407 1547.79 Q322.597 1547.79 319.519 1543.21 Q316.463 1538.6 316.463 1529.87 Q316.463 1521.12 319.519 1516.54 Q322.597 1511.93 328.407 1511.93 Z\" fill=\"#000000\" fill-rule=\"evenodd\" fill-opacity=\"1\" /><path clip-path=\"url(#clip510)\" d=\"M 0 0 M355.421 1515.64 Q351.81 1515.64 349.981 1519.2 Q348.176 1522.75 348.176 1529.87 Q348.176 1536.98 349.981 1540.55 Q351.81 1544.09 355.421 1544.09 Q359.055 1544.09 360.861 1540.55 Q362.69 1536.98 362.69 1529.87 Q362.69 1522.75 360.861 1519.2 Q359.055 1515.64 355.421 1515.64 M355.421 1511.93 Q361.231 1511.93 364.287 1516.54 Q367.366 1521.12 367.366 1529.87 Q367.366 1538.6 364.287 1543.21 Q361.231 1547.79 355.421 1547.79 Q349.611 1547.79 346.532 1543.21 Q343.477 1538.6 343.477 1529.87 Q343.477 1521.12 346.532 1516.54 Q349.611 1511.93 355.421 1511.93 Z\" fill=\"#000000\" fill-rule=\"evenodd\" fill-opacity=\"1\" /><path clip-path=\"url(#clip510)\" d=\"M 0 0 M729.778 1530.29 L759.453 1530.29 L759.453 1534.23 L729.778 1534.23 L729.778 1530.29 Z\" fill=\"#000000\" fill-rule=\"evenodd\" fill-opacity=\"1\" /><path clip-path=\"url(#clip510)\" d=\"M 0 0 M774.523 1515.64 Q770.912 1515.64 769.083 1519.2 Q767.277 1522.75 767.277 1529.87 Q767.277 1536.98 769.083 1540.55 Q770.912 1544.09 774.523 1544.09 Q778.157 1544.09 779.962 1540.55 Q781.791 1536.98 781.791 1529.87 Q781.791 1522.75 779.962 1519.2 Q778.157 1515.64 774.523 1515.64 M774.523 1511.93 Q780.333 1511.93 783.388 1516.54 Q786.467 1521.12 786.467 1529.87 Q786.467 1538.6 783.388 1543.21 Q780.333 1547.79 774.523 1547.79 Q768.713 1547.79 765.634 1543.21 Q762.578 1538.6 762.578 1529.87 Q762.578 1521.12 765.634 1516.54 Q768.713 1511.93 774.523 1511.93 Z\" fill=\"#000000\" fill-rule=\"evenodd\" fill-opacity=\"1\" /><path clip-path=\"url(#clip510)\" d=\"M 0 0 M791.536 1541.24 L796.421 1541.24 L796.421 1547.12 L791.536 1547.12 L791.536 1541.24 Z\" fill=\"#000000\" fill-rule=\"evenodd\" fill-opacity=\"1\" /><path clip-path=\"url(#clip510)\" d=\"M 0 0 M800.31 1512.56 L822.532 1512.56 L822.532 1514.55 L809.985 1547.12 L805.101 1547.12 L816.907 1516.5 L800.31 1516.5 L800.31 1512.56 Z\" fill=\"#000000\" fill-rule=\"evenodd\" fill-opacity=\"1\" /><path clip-path=\"url(#clip510)\" d=\"M 0 0 M827.647 1512.56 L846.004 1512.56 L846.004 1516.5 L831.93 1516.5 L831.93 1524.97 Q832.948 1524.62 833.967 1524.46 Q834.985 1524.27 836.004 1524.27 Q841.791 1524.27 845.17 1527.44 Q848.55 1530.62 848.55 1536.03 Q848.55 1541.61 845.078 1544.71 Q841.606 1547.79 835.286 1547.79 Q833.11 1547.79 830.842 1547.42 Q828.596 1547.05 826.189 1546.31 L826.189 1541.61 Q828.272 1542.74 830.495 1543.3 Q832.717 1543.86 835.194 1543.86 Q839.198 1543.86 841.536 1541.75 Q843.874 1539.64 843.874 1536.03 Q843.874 1532.42 841.536 1530.31 Q839.198 1528.21 835.194 1528.21 Q833.319 1528.21 831.444 1528.62 Q829.592 1529.04 827.647 1529.92 L827.647 1512.56 Z\" fill=\"#000000\" fill-rule=\"evenodd\" fill-opacity=\"1\" /><path clip-path=\"url(#clip510)\" d=\"M 0 0 M1210.85 1530.29 L1240.52 1530.29 L1240.52 1534.23 L1210.85 1534.23 L1210.85 1530.29 Z\" fill=\"#000000\" fill-rule=\"evenodd\" fill-opacity=\"1\" /><path clip-path=\"url(#clip510)\" d=\"M 0 0 M1255.59 1515.64 Q1251.98 1515.64 1250.15 1519.2 Q1248.35 1522.75 1248.35 1529.87 Q1248.35 1536.98 1250.15 1540.55 Q1251.98 1544.09 1255.59 1544.09 Q1259.23 1544.09 1261.03 1540.55 Q1262.86 1536.98 1262.86 1529.87 Q1262.86 1522.75 1261.03 1519.2 Q1259.23 1515.64 1255.59 1515.64 M1255.59 1511.93 Q1261.4 1511.93 1264.46 1516.54 Q1267.54 1521.12 1267.54 1529.87 Q1267.54 1538.6 1264.46 1543.21 Q1261.4 1547.79 1255.59 1547.79 Q1249.78 1547.79 1246.7 1543.21 Q1243.65 1538.6 1243.65 1529.87 Q1243.65 1521.12 1246.7 1516.54 Q1249.78 1511.93 1255.59 1511.93 Z\" fill=\"#000000\" fill-rule=\"evenodd\" fill-opacity=\"1\" /><path clip-path=\"url(#clip510)\" d=\"M 0 0 M1272.61 1541.24 L1277.49 1541.24 L1277.49 1547.12 L1272.61 1547.12 L1272.61 1541.24 Z\" fill=\"#000000\" fill-rule=\"evenodd\" fill-opacity=\"1\" /><path clip-path=\"url(#clip510)\" d=\"M 0 0 M1282.61 1512.56 L1300.96 1512.56 L1300.96 1516.5 L1286.89 1516.5 L1286.89 1524.97 Q1287.91 1524.62 1288.92 1524.46 Q1289.94 1524.27 1290.96 1524.27 Q1296.75 1524.27 1300.13 1527.44 Q1303.51 1530.62 1303.51 1536.03 Q1303.51 1541.61 1300.04 1544.71 Q1296.56 1547.79 1290.24 1547.79 Q1288.07 1547.79 1285.8 1547.42 Q1283.55 1547.05 1281.15 1546.31 L1281.15 1541.61 Q1283.23 1542.74 1285.45 1543.3 Q1287.67 1543.86 1290.15 1543.86 Q1294.16 1543.86 1296.49 1541.75 Q1298.83 1539.64 1298.83 1536.03 Q1298.83 1532.42 1296.49 1530.31 Q1294.16 1528.21 1290.15 1528.21 Q1288.28 1528.21 1286.4 1528.62 Q1284.55 1529.04 1282.61 1529.92 L1282.61 1512.56 Z\" fill=\"#000000\" fill-rule=\"evenodd\" fill-opacity=\"1\" /><path clip-path=\"url(#clip510)\" d=\"M 0 0 M1318.58 1515.64 Q1314.97 1515.64 1313.14 1519.2 Q1311.33 1522.75 1311.33 1529.87 Q1311.33 1536.98 1313.14 1540.55 Q1314.97 1544.09 1318.58 1544.09 Q1322.21 1544.09 1324.02 1540.55 Q1325.85 1536.98 1325.85 1529.87 Q1325.85 1522.75 1324.02 1519.2 Q1322.21 1515.64 1318.58 1515.64 M1318.58 1511.93 Q1324.39 1511.93 1327.44 1516.54 Q1330.52 1521.12 1330.52 1529.87 Q1330.52 1538.6 1327.44 1543.21 Q1324.39 1547.79 1318.58 1547.79 Q1312.77 1547.79 1309.69 1543.21 Q1306.63 1538.6 1306.63 1529.87 Q1306.63 1521.12 1309.69 1516.54 Q1312.77 1511.93 1318.58 1511.93 Z\" fill=\"#000000\" fill-rule=\"evenodd\" fill-opacity=\"1\" /><path clip-path=\"url(#clip510)\" d=\"M 0 0 M1693.16 1530.29 L1722.84 1530.29 L1722.84 1534.23 L1693.16 1534.23 L1693.16 1530.29 Z\" fill=\"#000000\" fill-rule=\"evenodd\" fill-opacity=\"1\" /><path clip-path=\"url(#clip510)\" d=\"M 0 0 M1737.91 1515.64 Q1734.3 1515.64 1732.47 1519.2 Q1730.66 1522.75 1730.66 1529.87 Q1730.66 1536.98 1732.47 1540.55 Q1734.3 1544.09 1737.91 1544.09 Q1741.54 1544.09 1743.35 1540.55 Q1745.18 1536.98 1745.18 1529.87 Q1745.18 1522.75 1743.35 1519.2 Q1741.54 1515.64 1737.91 1515.64 M1737.91 1511.93 Q1743.72 1511.93 1746.78 1516.54 Q1749.85 1521.12 1749.85 1529.87 Q1749.85 1538.6 1746.78 1543.21 Q1743.72 1547.79 1737.91 1547.79 Q1732.1 1547.79 1729.02 1543.21 Q1725.97 1538.6 1725.97 1529.87 Q1725.97 1521.12 1729.02 1516.54 Q1732.1 1511.93 1737.91 1511.93 Z\" fill=\"#000000\" fill-rule=\"evenodd\" fill-opacity=\"1\" /><path clip-path=\"url(#clip510)\" d=\"M 0 0 M1754.92 1541.24 L1759.81 1541.24 L1759.81 1547.12 L1754.92 1547.12 L1754.92 1541.24 Z\" fill=\"#000000\" fill-rule=\"evenodd\" fill-opacity=\"1\" /><path clip-path=\"url(#clip510)\" d=\"M 0 0 M1768.91 1543.18 L1785.22 1543.18 L1785.22 1547.12 L1763.28 1547.12 L1763.28 1543.18 Q1765.94 1540.43 1770.53 1535.8 Q1775.13 1531.15 1776.31 1529.81 Q1778.56 1527.28 1779.44 1525.55 Q1780.34 1523.79 1780.34 1522.1 Q1780.34 1519.34 1778.4 1517.61 Q1776.47 1515.87 1773.37 1515.87 Q1771.17 1515.87 1768.72 1516.63 Q1766.29 1517.4 1763.51 1518.95 L1763.51 1514.23 Q1766.34 1513.09 1768.79 1512.51 Q1771.24 1511.93 1773.28 1511.93 Q1778.65 1511.93 1781.85 1514.62 Q1785.04 1517.31 1785.04 1521.8 Q1785.04 1523.93 1784.23 1525.85 Q1783.44 1527.74 1781.34 1530.34 Q1780.76 1531.01 1777.66 1534.23 Q1774.55 1537.42 1768.91 1543.18 Z\" fill=\"#000000\" fill-rule=\"evenodd\" fill-opacity=\"1\" /><path clip-path=\"url(#clip510)\" d=\"M 0 0 M1790.34 1512.56 L1808.7 1512.56 L1808.7 1516.5 L1794.62 1516.5 L1794.62 1524.97 Q1795.64 1524.62 1796.66 1524.46 Q1797.68 1524.27 1798.7 1524.27 Q1804.48 1524.27 1807.86 1527.44 Q1811.24 1530.62 1811.24 1536.03 Q1811.24 1541.61 1807.77 1544.71 Q1804.3 1547.79 1797.98 1547.79 Q1795.8 1547.79 1793.53 1547.42 Q1791.29 1547.05 1788.88 1546.31 L1788.88 1541.61 Q1790.97 1542.74 1793.19 1543.3 Q1795.41 1543.86 1797.89 1543.86 Q1801.89 1543.86 1804.23 1541.75 Q1806.57 1539.64 1806.57 1536.03 Q1806.57 1532.42 1804.23 1530.31 Q1801.89 1528.21 1797.89 1528.21 Q1796.01 1528.21 1794.14 1528.62 Q1792.28 1529.04 1790.34 1529.92 L1790.34 1512.56 Z\" fill=\"#000000\" fill-rule=\"evenodd\" fill-opacity=\"1\" /><path clip-path=\"url(#clip510)\" d=\"M 0 0 M2201.73 1515.64 Q2198.12 1515.64 2196.29 1519.2 Q2194.49 1522.75 2194.49 1529.87 Q2194.49 1536.98 2196.29 1540.55 Q2198.12 1544.09 2201.73 1544.09 Q2205.37 1544.09 2207.17 1540.55 Q2209 1536.98 2209 1529.87 Q2209 1522.75 2207.17 1519.2 Q2205.37 1515.64 2201.73 1515.64 M2201.73 1511.93 Q2207.54 1511.93 2210.6 1516.54 Q2213.68 1521.12 2213.68 1529.87 Q2213.68 1538.6 2210.6 1543.21 Q2207.54 1547.79 2201.73 1547.79 Q2195.92 1547.79 2192.84 1543.21 Q2189.79 1538.6 2189.79 1529.87 Q2189.79 1521.12 2192.84 1516.54 Q2195.92 1511.93 2201.73 1511.93 Z\" fill=\"#000000\" fill-rule=\"evenodd\" fill-opacity=\"1\" /><path clip-path=\"url(#clip510)\" d=\"M 0 0 M2218.75 1541.24 L2223.63 1541.24 L2223.63 1547.12 L2218.75 1547.12 L2218.75 1541.24 Z\" fill=\"#000000\" fill-rule=\"evenodd\" fill-opacity=\"1\" /><path clip-path=\"url(#clip510)\" d=\"M 0 0 M2238.7 1515.64 Q2235.09 1515.64 2233.26 1519.2 Q2231.46 1522.75 2231.46 1529.87 Q2231.46 1536.98 2233.26 1540.55 Q2235.09 1544.09 2238.7 1544.09 Q2242.34 1544.09 2244.14 1540.55 Q2245.97 1536.98 2245.97 1529.87 Q2245.97 1522.75 2244.14 1519.2 Q2242.34 1515.64 2238.7 1515.64 M2238.7 1511.93 Q2244.51 1511.93 2247.57 1516.54 Q2250.65 1521.12 2250.65 1529.87 Q2250.65 1538.6 2247.57 1543.21 Q2244.51 1547.79 2238.7 1547.79 Q2232.89 1547.79 2229.81 1543.21 Q2226.76 1538.6 2226.76 1529.87 Q2226.76 1521.12 2229.81 1516.54 Q2232.89 1511.93 2238.7 1511.93 Z\" fill=\"#000000\" fill-rule=\"evenodd\" fill-opacity=\"1\" /><path clip-path=\"url(#clip510)\" d=\"M 0 0 M2265.71 1515.64 Q2262.1 1515.64 2260.27 1519.2 Q2258.47 1522.75 2258.47 1529.87 Q2258.47 1536.98 2260.27 1540.55 Q2262.1 1544.09 2265.71 1544.09 Q2269.35 1544.09 2271.15 1540.55 Q2272.98 1536.98 2272.98 1529.87 Q2272.98 1522.75 2271.15 1519.2 Q2269.35 1515.64 2265.71 1515.64 M2265.71 1511.93 Q2271.52 1511.93 2274.58 1516.54 Q2277.66 1521.12 2277.66 1529.87 Q2277.66 1538.6 2274.58 1543.21 Q2271.52 1547.79 2265.71 1547.79 Q2259.9 1547.79 2256.83 1543.21 Q2253.77 1538.6 2253.77 1529.87 Q2253.77 1521.12 2256.83 1516.54 Q2259.9 1511.93 2265.71 1511.93 Z\" fill=\"#000000\" fill-rule=\"evenodd\" fill-opacity=\"1\" /><polyline clip-path=\"url(#clip512)\" style=\"stroke:#000000; stroke-width:2; stroke-opacity:0.1; fill:none\" points=\"\n",
       "  188.612,1445.72 2352.76,1445.72 \n",
       "  \"/>\n",
       "<polyline clip-path=\"url(#clip512)\" style=\"stroke:#000000; stroke-width:2; stroke-opacity:0.1; fill:none\" points=\"\n",
       "  188.612,1106.28 2352.76,1106.28 \n",
       "  \"/>\n",
       "<polyline clip-path=\"url(#clip512)\" style=\"stroke:#000000; stroke-width:2; stroke-opacity:0.1; fill:none\" points=\"\n",
       "  188.612,766.846 2352.76,766.846 \n",
       "  \"/>\n",
       "<polyline clip-path=\"url(#clip512)\" style=\"stroke:#000000; stroke-width:2; stroke-opacity:0.1; fill:none\" points=\"\n",
       "  188.612,427.411 2352.76,427.411 \n",
       "  \"/>\n",
       "<polyline clip-path=\"url(#clip512)\" style=\"stroke:#000000; stroke-width:2; stroke-opacity:0.1; fill:none\" points=\"\n",
       "  188.612,87.9763 2352.76,87.9763 \n",
       "  \"/>\n",
       "<polyline clip-path=\"url(#clip510)\" style=\"stroke:#000000; stroke-width:4; stroke-opacity:1; fill:none\" points=\"\n",
       "  188.612,1486.45 188.612,47.2441 \n",
       "  \"/>\n",
       "<polyline clip-path=\"url(#clip510)\" style=\"stroke:#000000; stroke-width:4; stroke-opacity:1; fill:none\" points=\"\n",
       "  188.612,1445.72 214.582,1445.72 \n",
       "  \"/>\n",
       "<polyline clip-path=\"url(#clip510)\" style=\"stroke:#000000; stroke-width:4; stroke-opacity:1; fill:none\" points=\"\n",
       "  188.612,1106.28 214.582,1106.28 \n",
       "  \"/>\n",
       "<polyline clip-path=\"url(#clip510)\" style=\"stroke:#000000; stroke-width:4; stroke-opacity:1; fill:none\" points=\"\n",
       "  188.612,766.846 214.582,766.846 \n",
       "  \"/>\n",
       "<polyline clip-path=\"url(#clip510)\" style=\"stroke:#000000; stroke-width:4; stroke-opacity:1; fill:none\" points=\"\n",
       "  188.612,427.411 214.582,427.411 \n",
       "  \"/>\n",
       "<polyline clip-path=\"url(#clip510)\" style=\"stroke:#000000; stroke-width:4; stroke-opacity:1; fill:none\" points=\"\n",
       "  188.612,87.9763 214.582,87.9763 \n",
       "  \"/>\n",
       "<path clip-path=\"url(#clip510)\" d=\"M 0 0 M140.668 1431.51 Q137.056 1431.51 135.228 1435.08 Q133.422 1438.62 133.422 1445.75 Q133.422 1452.86 135.228 1456.42 Q137.056 1459.96 140.668 1459.96 Q144.302 1459.96 146.107 1456.42 Q147.936 1452.86 147.936 1445.75 Q147.936 1438.62 146.107 1435.08 Q144.302 1431.51 140.668 1431.51 M140.668 1427.81 Q146.478 1427.81 149.533 1432.42 Q152.612 1437 152.612 1445.75 Q152.612 1454.48 149.533 1459.08 Q146.478 1463.67 140.668 1463.67 Q134.857 1463.67 131.779 1459.08 Q128.723 1454.48 128.723 1445.75 Q128.723 1437 131.779 1432.42 Q134.857 1427.81 140.668 1427.81 Z\" fill=\"#000000\" fill-rule=\"evenodd\" fill-opacity=\"1\" /><path clip-path=\"url(#clip510)\" d=\"M 0 0 M83.2605 1119.63 L99.5798 1119.63 L99.5798 1123.56 L77.6355 1123.56 L77.6355 1119.63 Q80.2975 1116.87 84.8808 1112.24 Q89.4873 1107.59 90.6678 1106.25 Q92.9132 1103.72 93.7928 1101.99 Q94.6956 1100.23 94.6956 1098.54 Q94.6956 1095.78 92.7512 1094.05 Q90.8299 1092.31 87.728 1092.31 Q85.529 1092.31 83.0753 1093.07 Q80.6447 1093.84 77.867 1095.39 L77.867 1090.67 Q80.691 1089.53 83.1447 1088.95 Q85.5984 1088.38 87.6354 1088.38 Q93.0058 1088.38 96.2002 1091.06 Q99.3946 1093.75 99.3946 1098.24 Q99.3946 1100.37 98.5845 1102.29 Q97.7974 1104.19 95.691 1106.78 Q95.1123 1107.45 92.0104 1110.67 Q88.9086 1113.86 83.2605 1119.63 Z\" fill=\"#000000\" fill-rule=\"evenodd\" fill-opacity=\"1\" /><path clip-path=\"url(#clip510)\" d=\"M 0 0 M104.696 1089 L123.052 1089 L123.052 1092.94 L108.978 1092.94 L108.978 1101.41 Q109.996 1101.06 111.015 1100.9 Q112.033 1100.71 113.052 1100.71 Q118.839 1100.71 122.219 1103.89 Q125.598 1107.06 125.598 1112.47 Q125.598 1118.05 122.126 1121.15 Q118.654 1124.23 112.334 1124.23 Q110.158 1124.23 107.89 1123.86 Q105.645 1123.49 103.237 1122.75 L103.237 1118.05 Q105.321 1119.19 107.543 1119.74 Q109.765 1120.3 112.242 1120.3 Q116.246 1120.3 118.584 1118.19 Q120.922 1116.08 120.922 1112.47 Q120.922 1108.86 118.584 1106.76 Q116.246 1104.65 112.242 1104.65 Q110.367 1104.65 108.492 1105.07 Q106.64 1105.48 104.696 1106.36 L104.696 1089 Z\" fill=\"#000000\" fill-rule=\"evenodd\" fill-opacity=\"1\" /><path clip-path=\"url(#clip510)\" d=\"M 0 0 M140.668 1092.08 Q137.056 1092.08 135.228 1095.64 Q133.422 1099.19 133.422 1106.32 Q133.422 1113.42 135.228 1116.99 Q137.056 1120.53 140.668 1120.53 Q144.302 1120.53 146.107 1116.99 Q147.936 1113.42 147.936 1106.32 Q147.936 1099.19 146.107 1095.64 Q144.302 1092.08 140.668 1092.08 M140.668 1088.38 Q146.478 1088.38 149.533 1092.98 Q152.612 1097.57 152.612 1106.32 Q152.612 1115.04 149.533 1119.65 Q146.478 1124.23 140.668 1124.23 Q134.857 1124.23 131.779 1119.65 Q128.723 1115.04 128.723 1106.32 Q128.723 1097.57 131.779 1092.98 Q134.857 1088.38 140.668 1088.38 Z\" fill=\"#000000\" fill-rule=\"evenodd\" fill-opacity=\"1\" /><path clip-path=\"url(#clip510)\" d=\"M 0 0 M77.6818 749.566 L96.0382 749.566 L96.0382 753.501 L81.9642 753.501 L81.9642 761.973 Q82.9827 761.626 84.0012 761.464 Q85.0197 761.279 86.0382 761.279 Q91.8252 761.279 95.2049 764.45 Q98.5845 767.621 98.5845 773.038 Q98.5845 778.617 95.1123 781.719 Q91.6401 784.797 85.3206 784.797 Q83.1447 784.797 80.8762 784.427 Q78.6309 784.057 76.2235 783.316 L76.2235 778.617 Q78.3068 779.751 80.529 780.307 Q82.7512 780.862 85.2281 780.862 Q89.2327 780.862 91.5706 778.756 Q93.9086 776.649 93.9086 773.038 Q93.9086 769.427 91.5706 767.321 Q89.2327 765.214 85.2281 765.214 Q83.3531 765.214 81.4781 765.631 Q79.6262 766.047 77.6818 766.927 L77.6818 749.566 Z\" fill=\"#000000\" fill-rule=\"evenodd\" fill-opacity=\"1\" /><path clip-path=\"url(#clip510)\" d=\"M 0 0 M113.654 752.645 Q110.043 752.645 108.214 756.209 Q106.408 759.751 106.408 766.881 Q106.408 773.987 108.214 777.552 Q110.043 781.094 113.654 781.094 Q117.288 781.094 119.094 777.552 Q120.922 773.987 120.922 766.881 Q120.922 759.751 119.094 756.209 Q117.288 752.645 113.654 752.645 M113.654 748.941 Q119.464 748.941 122.52 753.547 Q125.598 758.131 125.598 766.881 Q125.598 775.608 122.52 780.214 Q119.464 784.797 113.654 784.797 Q107.844 784.797 104.765 780.214 Q101.709 775.608 101.709 766.881 Q101.709 758.131 104.765 753.547 Q107.844 748.941 113.654 748.941 Z\" fill=\"#000000\" fill-rule=\"evenodd\" fill-opacity=\"1\" /><path clip-path=\"url(#clip510)\" d=\"M 0 0 M140.668 752.645 Q137.056 752.645 135.228 756.209 Q133.422 759.751 133.422 766.881 Q133.422 773.987 135.228 777.552 Q137.056 781.094 140.668 781.094 Q144.302 781.094 146.107 777.552 Q147.936 773.987 147.936 766.881 Q147.936 759.751 146.107 756.209 Q144.302 752.645 140.668 752.645 M140.668 748.941 Q146.478 748.941 149.533 753.547 Q152.612 758.131 152.612 766.881 Q152.612 775.608 149.533 780.214 Q146.478 784.797 140.668 784.797 Q134.857 784.797 131.779 780.214 Q128.723 775.608 128.723 766.881 Q128.723 758.131 131.779 753.547 Q134.857 748.941 140.668 748.941 Z\" fill=\"#000000\" fill-rule=\"evenodd\" fill-opacity=\"1\" /><path clip-path=\"url(#clip510)\" d=\"M 0 0 M77.3577 410.131 L99.5798 410.131 L99.5798 412.122 L87.0336 444.691 L82.1494 444.691 L93.9549 414.066 L77.3577 414.066 L77.3577 410.131 Z\" fill=\"#000000\" fill-rule=\"evenodd\" fill-opacity=\"1\" /><path clip-path=\"url(#clip510)\" d=\"M 0 0 M104.696 410.131 L123.052 410.131 L123.052 414.066 L108.978 414.066 L108.978 422.538 Q109.996 422.191 111.015 422.029 Q112.033 421.844 113.052 421.844 Q118.839 421.844 122.219 425.015 Q125.598 428.187 125.598 433.603 Q125.598 439.182 122.126 442.284 Q118.654 445.362 112.334 445.362 Q110.158 445.362 107.89 444.992 Q105.645 444.622 103.237 443.881 L103.237 439.182 Q105.321 440.316 107.543 440.872 Q109.765 441.427 112.242 441.427 Q116.246 441.427 118.584 439.321 Q120.922 437.214 120.922 433.603 Q120.922 429.992 118.584 427.886 Q116.246 425.779 112.242 425.779 Q110.367 425.779 108.492 426.196 Q106.64 426.613 104.696 427.492 L104.696 410.131 Z\" fill=\"#000000\" fill-rule=\"evenodd\" fill-opacity=\"1\" /><path clip-path=\"url(#clip510)\" d=\"M 0 0 M140.668 413.21 Q137.056 413.21 135.228 416.775 Q133.422 420.316 133.422 427.446 Q133.422 434.552 135.228 438.117 Q137.056 441.659 140.668 441.659 Q144.302 441.659 146.107 438.117 Q147.936 434.552 147.936 427.446 Q147.936 420.316 146.107 416.775 Q144.302 413.21 140.668 413.21 M140.668 409.506 Q146.478 409.506 149.533 414.113 Q152.612 418.696 152.612 427.446 Q152.612 436.173 149.533 440.779 Q146.478 445.362 140.668 445.362 Q134.857 445.362 131.779 440.779 Q128.723 436.173 128.723 427.446 Q128.723 418.696 131.779 414.113 Q134.857 409.506 140.668 409.506 Z\" fill=\"#000000\" fill-rule=\"evenodd\" fill-opacity=\"1\" /><path clip-path=\"url(#clip510)\" d=\"M 0 0 M51.6634 101.321 L59.3023 101.321 L59.3023 74.9555 L50.9921 76.6222 L50.9921 72.3629 L59.256 70.6963 L63.9319 70.6963 L63.9319 101.321 L71.5707 101.321 L71.5707 105.256 L51.6634 105.256 L51.6634 101.321 Z\" fill=\"#000000\" fill-rule=\"evenodd\" fill-opacity=\"1\" /><path clip-path=\"url(#clip510)\" d=\"M 0 0 M86.6401 73.775 Q83.029 73.775 81.2003 77.3398 Q79.3948 80.8814 79.3948 88.011 Q79.3948 95.1174 81.2003 98.6822 Q83.029 102.224 86.6401 102.224 Q90.2743 102.224 92.0799 98.6822 Q93.9086 95.1174 93.9086 88.011 Q93.9086 80.8814 92.0799 77.3398 Q90.2743 73.775 86.6401 73.775 M86.6401 70.0713 Q92.4502 70.0713 95.5058 74.6777 Q98.5845 79.261 98.5845 88.011 Q98.5845 96.7378 95.5058 101.344 Q92.4502 105.928 86.6401 105.928 Q80.8299 105.928 77.7512 101.344 Q74.6957 96.7378 74.6957 88.011 Q74.6957 79.261 77.7512 74.6777 Q80.8299 70.0713 86.6401 70.0713 Z\" fill=\"#000000\" fill-rule=\"evenodd\" fill-opacity=\"1\" /><path clip-path=\"url(#clip510)\" d=\"M 0 0 M113.654 73.775 Q110.043 73.775 108.214 77.3398 Q106.408 80.8814 106.408 88.011 Q106.408 95.1174 108.214 98.6822 Q110.043 102.224 113.654 102.224 Q117.288 102.224 119.094 98.6822 Q120.922 95.1174 120.922 88.011 Q120.922 80.8814 119.094 77.3398 Q117.288 73.775 113.654 73.775 M113.654 70.0713 Q119.464 70.0713 122.52 74.6777 Q125.598 79.261 125.598 88.011 Q125.598 96.7378 122.52 101.344 Q119.464 105.928 113.654 105.928 Q107.844 105.928 104.765 101.344 Q101.709 96.7378 101.709 88.011 Q101.709 79.261 104.765 74.6777 Q107.844 70.0713 113.654 70.0713 Z\" fill=\"#000000\" fill-rule=\"evenodd\" fill-opacity=\"1\" /><path clip-path=\"url(#clip510)\" d=\"M 0 0 M140.668 73.775 Q137.056 73.775 135.228 77.3398 Q133.422 80.8814 133.422 88.011 Q133.422 95.1174 135.228 98.6822 Q137.056 102.224 140.668 102.224 Q144.302 102.224 146.107 98.6822 Q147.936 95.1174 147.936 88.011 Q147.936 80.8814 146.107 77.3398 Q144.302 73.775 140.668 73.775 M140.668 70.0713 Q146.478 70.0713 149.533 74.6777 Q152.612 79.261 152.612 88.011 Q152.612 96.7378 149.533 101.344 Q146.478 105.928 140.668 105.928 Q134.857 105.928 131.779 101.344 Q128.723 96.7378 128.723 88.011 Q128.723 79.261 131.779 74.6777 Q134.857 70.0713 140.668 70.0713 Z\" fill=\"#000000\" fill-rule=\"evenodd\" fill-opacity=\"1\" /><path clip-path=\"url(#clip512)\" d=\"\n",
       "M307.644 87.9763 L307.644 1445.72 L2233.72 1445.72 L2233.72 87.9763 L307.644 87.9763 L307.644 87.9763  Z\n",
       "  \" fill=\"#009af9\" fill-rule=\"evenodd\" fill-opacity=\"1\"/>\n",
       "<polyline clip-path=\"url(#clip512)\" style=\"stroke:#000000; stroke-width:4; stroke-opacity:1; fill:none\" points=\"\n",
       "  307.644,87.9763 307.644,1445.72 2233.72,1445.72 2233.72,87.9763 307.644,87.9763 \n",
       "  \"/>\n",
       "<path clip-path=\"url(#clip510)\" d=\"\n",
       "M1989.14 216.178 L2280.62 216.178 L2280.62 95.2176 L1989.14 95.2176  Z\n",
       "  \" fill=\"#ffffff\" fill-rule=\"evenodd\" fill-opacity=\"1\"/>\n",
       "<polyline clip-path=\"url(#clip510)\" style=\"stroke:#000000; stroke-width:4; stroke-opacity:1; fill:none\" points=\"\n",
       "  1989.14,216.178 2280.62,216.178 2280.62,95.2176 1989.14,95.2176 1989.14,216.178 \n",
       "  \"/>\n",
       "<path clip-path=\"url(#clip510)\" d=\"\n",
       "M2013.19 179.89 L2157.46 179.89 L2157.46 131.506 L2013.19 131.506 L2013.19 179.89  Z\n",
       "  \" fill=\"#009af9\" fill-rule=\"evenodd\" fill-opacity=\"1\"/>\n",
       "<polyline clip-path=\"url(#clip510)\" style=\"stroke:#000000; stroke-width:4; stroke-opacity:1; fill:none\" points=\"\n",
       "  2013.19,179.89 2157.46,179.89 2157.46,131.506 2013.19,131.506 2013.19,179.89 \n",
       "  \"/>\n",
       "<path clip-path=\"url(#clip510)\" d=\"M 0 0 M2195.35 175.385 Q2193.54 180.015 2191.83 181.427 Q2190.12 182.839 2187.25 182.839 L2183.85 182.839 L2183.85 179.274 L2186.35 179.274 Q2188.1 179.274 2189.08 178.44 Q2190.05 177.607 2191.23 174.505 L2191.99 172.561 L2181.51 147.052 L2186.02 147.052 L2194.12 167.329 L2202.22 147.052 L2206.74 147.052 L2195.35 175.385 Z\" fill=\"#000000\" fill-rule=\"evenodd\" fill-opacity=\"1\" /><path clip-path=\"url(#clip510)\" d=\"M 0 0 M2212.62 169.042 L2220.26 169.042 L2220.26 142.677 L2211.95 144.343 L2211.95 140.084 L2220.21 138.418 L2224.89 138.418 L2224.89 169.042 L2232.53 169.042 L2232.53 172.978 L2212.62 172.978 L2212.62 169.042 Z\" fill=\"#000000\" fill-rule=\"evenodd\" fill-opacity=\"1\" /></svg>\n"
      ]
     },
     "execution_count": 14,
     "metadata": {},
     "output_type": "execute_result"
    }
   ],
   "source": [
    "m  = agent(JACK, true)\n",
    "chains = sample(m, IS(), 1000 , n_chains=1)\n",
    "histogram(generated_quantities(m, chains))"
   ]
  },
  {
   "cell_type": "code",
   "execution_count": 15,
   "metadata": {},
   "outputs": [
    {
     "data": {
      "image/svg+xml": [
       "<?xml version=\"1.0\" encoding=\"utf-8\"?>\n",
       "<svg xmlns=\"http://www.w3.org/2000/svg\" xmlns:xlink=\"http://www.w3.org/1999/xlink\" width=\"600\" height=\"400\" viewBox=\"0 0 2400 1600\">\n",
       "<defs>\n",
       "  <clipPath id=\"clip550\">\n",
       "    <rect x=\"0\" y=\"0\" width=\"2400\" height=\"1600\"/>\n",
       "  </clipPath>\n",
       "</defs>\n",
       "<path clip-path=\"url(#clip550)\" d=\"\n",
       "M0 1600 L2400 1600 L2400 0 L0 0  Z\n",
       "  \" fill=\"#ffffff\" fill-rule=\"evenodd\" fill-opacity=\"1\"/>\n",
       "<defs>\n",
       "  <clipPath id=\"clip551\">\n",
       "    <rect x=\"480\" y=\"0\" width=\"1681\" height=\"1600\"/>\n",
       "  </clipPath>\n",
       "</defs>\n",
       "<path clip-path=\"url(#clip550)\" d=\"\n",
       "M188.612 1486.45 L2352.76 1486.45 L2352.76 47.2441 L188.612 47.2441  Z\n",
       "  \" fill=\"#ffffff\" fill-rule=\"evenodd\" fill-opacity=\"1\"/>\n",
       "<defs>\n",
       "  <clipPath id=\"clip552\">\n",
       "    <rect x=\"188\" y=\"47\" width=\"2165\" height=\"1440\"/>\n",
       "  </clipPath>\n",
       "</defs>\n",
       "<polyline clip-path=\"url(#clip552)\" style=\"stroke:#000000; stroke-width:2; stroke-opacity:0.1; fill:none\" points=\"\n",
       "  307.644,1486.45 307.644,47.2441 \n",
       "  \"/>\n",
       "<polyline clip-path=\"url(#clip552)\" style=\"stroke:#000000; stroke-width:2; stroke-opacity:0.1; fill:none\" points=\"\n",
       "  789.164,1486.45 789.164,47.2441 \n",
       "  \"/>\n",
       "<polyline clip-path=\"url(#clip552)\" style=\"stroke:#000000; stroke-width:2; stroke-opacity:0.1; fill:none\" points=\"\n",
       "  1270.68,1486.45 1270.68,47.2441 \n",
       "  \"/>\n",
       "<polyline clip-path=\"url(#clip552)\" style=\"stroke:#000000; stroke-width:2; stroke-opacity:0.1; fill:none\" points=\"\n",
       "  1752.2,1486.45 1752.2,47.2441 \n",
       "  \"/>\n",
       "<polyline clip-path=\"url(#clip552)\" style=\"stroke:#000000; stroke-width:2; stroke-opacity:0.1; fill:none\" points=\"\n",
       "  2233.72,1486.45 2233.72,47.2441 \n",
       "  \"/>\n",
       "<polyline clip-path=\"url(#clip550)\" style=\"stroke:#000000; stroke-width:4; stroke-opacity:1; fill:none\" points=\"\n",
       "  188.612,1486.45 2352.76,1486.45 \n",
       "  \"/>\n",
       "<polyline clip-path=\"url(#clip550)\" style=\"stroke:#000000; stroke-width:4; stroke-opacity:1; fill:none\" points=\"\n",
       "  307.644,1486.45 307.644,1469.18 \n",
       "  \"/>\n",
       "<polyline clip-path=\"url(#clip550)\" style=\"stroke:#000000; stroke-width:4; stroke-opacity:1; fill:none\" points=\"\n",
       "  789.164,1486.45 789.164,1469.18 \n",
       "  \"/>\n",
       "<polyline clip-path=\"url(#clip550)\" style=\"stroke:#000000; stroke-width:4; stroke-opacity:1; fill:none\" points=\"\n",
       "  1270.68,1486.45 1270.68,1469.18 \n",
       "  \"/>\n",
       "<polyline clip-path=\"url(#clip550)\" style=\"stroke:#000000; stroke-width:4; stroke-opacity:1; fill:none\" points=\"\n",
       "  1752.2,1486.45 1752.2,1469.18 \n",
       "  \"/>\n",
       "<polyline clip-path=\"url(#clip550)\" style=\"stroke:#000000; stroke-width:4; stroke-opacity:1; fill:none\" points=\"\n",
       "  2233.72,1486.45 2233.72,1469.18 \n",
       "  \"/>\n",
       "<path clip-path=\"url(#clip550)\" d=\"M 0 0 M275.653 1515.64 Q272.042 1515.64 270.213 1519.2 Q268.408 1522.75 268.408 1529.87 Q268.408 1536.98 270.213 1540.55 Q272.042 1544.09 275.653 1544.09 Q279.287 1544.09 281.093 1540.55 Q282.922 1536.98 282.922 1529.87 Q282.922 1522.75 281.093 1519.2 Q279.287 1515.64 275.653 1515.64 M275.653 1511.93 Q281.463 1511.93 284.519 1516.54 Q287.598 1521.12 287.598 1529.87 Q287.598 1538.6 284.519 1543.21 Q281.463 1547.79 275.653 1547.79 Q269.843 1547.79 266.764 1543.21 Q263.709 1538.6 263.709 1529.87 Q263.709 1521.12 266.764 1516.54 Q269.843 1511.93 275.653 1511.93 Z\" fill=\"#000000\" fill-rule=\"evenodd\" fill-opacity=\"1\" /><path clip-path=\"url(#clip550)\" d=\"M 0 0 M292.667 1541.24 L297.551 1541.24 L297.551 1547.12 L292.667 1547.12 L292.667 1541.24 Z\" fill=\"#000000\" fill-rule=\"evenodd\" fill-opacity=\"1\" /><path clip-path=\"url(#clip550)\" d=\"M 0 0 M312.621 1515.64 Q309.009 1515.64 307.181 1519.2 Q305.375 1522.75 305.375 1529.87 Q305.375 1536.98 307.181 1540.55 Q309.009 1544.09 312.621 1544.09 Q316.255 1544.09 318.06 1540.55 Q319.889 1536.98 319.889 1529.87 Q319.889 1522.75 318.06 1519.2 Q316.255 1515.64 312.621 1515.64 M312.621 1511.93 Q318.431 1511.93 321.486 1516.54 Q324.565 1521.12 324.565 1529.87 Q324.565 1538.6 321.486 1543.21 Q318.431 1547.79 312.621 1547.79 Q306.81 1547.79 303.732 1543.21 Q300.676 1538.6 300.676 1529.87 Q300.676 1521.12 303.732 1516.54 Q306.81 1511.93 312.621 1511.93 Z\" fill=\"#000000\" fill-rule=\"evenodd\" fill-opacity=\"1\" /><path clip-path=\"url(#clip550)\" d=\"M 0 0 M339.634 1515.64 Q336.023 1515.64 334.195 1519.2 Q332.389 1522.75 332.389 1529.87 Q332.389 1536.98 334.195 1540.55 Q336.023 1544.09 339.634 1544.09 Q343.269 1544.09 345.074 1540.55 Q346.903 1536.98 346.903 1529.87 Q346.903 1522.75 345.074 1519.2 Q343.269 1515.64 339.634 1515.64 M339.634 1511.93 Q345.444 1511.93 348.5 1516.54 Q351.579 1521.12 351.579 1529.87 Q351.579 1538.6 348.5 1543.21 Q345.444 1547.79 339.634 1547.79 Q333.824 1547.79 330.745 1543.21 Q327.69 1538.6 327.69 1529.87 Q327.69 1521.12 330.745 1516.54 Q333.824 1511.93 339.634 1511.93 Z\" fill=\"#000000\" fill-rule=\"evenodd\" fill-opacity=\"1\" /><path clip-path=\"url(#clip550)\" d=\"M 0 0 M758.47 1515.64 Q754.858 1515.64 753.03 1519.2 Q751.224 1522.75 751.224 1529.87 Q751.224 1536.98 753.03 1540.55 Q754.858 1544.09 758.47 1544.09 Q762.104 1544.09 763.909 1540.55 Q765.738 1536.98 765.738 1529.87 Q765.738 1522.75 763.909 1519.2 Q762.104 1515.64 758.47 1515.64 M758.47 1511.93 Q764.28 1511.93 767.335 1516.54 Q770.414 1521.12 770.414 1529.87 Q770.414 1538.6 767.335 1543.21 Q764.28 1547.79 758.47 1547.79 Q752.659 1547.79 749.581 1543.21 Q746.525 1538.6 746.525 1529.87 Q746.525 1521.12 749.581 1516.54 Q752.659 1511.93 758.47 1511.93 Z\" fill=\"#000000\" fill-rule=\"evenodd\" fill-opacity=\"1\" /><path clip-path=\"url(#clip550)\" d=\"M 0 0 M775.483 1541.24 L780.368 1541.24 L780.368 1547.12 L775.483 1547.12 L775.483 1541.24 Z\" fill=\"#000000\" fill-rule=\"evenodd\" fill-opacity=\"1\" /><path clip-path=\"url(#clip550)\" d=\"M 0 0 M789.465 1543.18 L805.784 1543.18 L805.784 1547.12 L783.84 1547.12 L783.84 1543.18 Q786.502 1540.43 791.085 1535.8 Q795.692 1531.15 796.872 1529.81 Q799.117 1527.28 799.997 1525.55 Q800.9 1523.79 800.9 1522.1 Q800.9 1519.34 798.955 1517.61 Q797.034 1515.87 793.932 1515.87 Q791.733 1515.87 789.28 1516.63 Q786.849 1517.4 784.071 1518.95 L784.071 1514.23 Q786.895 1513.09 789.349 1512.51 Q791.803 1511.93 793.84 1511.93 Q799.21 1511.93 802.404 1514.62 Q805.599 1517.31 805.599 1521.8 Q805.599 1523.93 804.789 1525.85 Q804.002 1527.74 801.895 1530.34 Q801.317 1531.01 798.215 1534.23 Q795.113 1537.42 789.465 1543.18 Z\" fill=\"#000000\" fill-rule=\"evenodd\" fill-opacity=\"1\" /><path clip-path=\"url(#clip550)\" d=\"M 0 0 M810.9 1512.56 L829.256 1512.56 L829.256 1516.5 L815.182 1516.5 L815.182 1524.97 Q816.201 1524.62 817.219 1524.46 Q818.238 1524.27 819.256 1524.27 Q825.043 1524.27 828.423 1527.44 Q831.802 1530.62 831.802 1536.03 Q831.802 1541.61 828.33 1544.71 Q824.858 1547.79 818.539 1547.79 Q816.363 1547.79 814.094 1547.42 Q811.849 1547.05 809.441 1546.31 L809.441 1541.61 Q811.525 1542.74 813.747 1543.3 Q815.969 1543.86 818.446 1543.86 Q822.451 1543.86 824.789 1541.75 Q827.127 1539.64 827.127 1536.03 Q827.127 1532.42 824.789 1530.31 Q822.451 1528.21 818.446 1528.21 Q816.571 1528.21 814.696 1528.62 Q812.844 1529.04 810.9 1529.92 L810.9 1512.56 Z\" fill=\"#000000\" fill-rule=\"evenodd\" fill-opacity=\"1\" /><path clip-path=\"url(#clip550)\" d=\"M 0 0 M1239.19 1515.64 Q1235.58 1515.64 1233.75 1519.2 Q1231.95 1522.75 1231.95 1529.87 Q1231.95 1536.98 1233.75 1540.55 Q1235.58 1544.09 1239.19 1544.09 Q1242.83 1544.09 1244.63 1540.55 Q1246.46 1536.98 1246.46 1529.87 Q1246.46 1522.75 1244.63 1519.2 Q1242.83 1515.64 1239.19 1515.64 M1239.19 1511.93 Q1245 1511.93 1248.06 1516.54 Q1251.14 1521.12 1251.14 1529.87 Q1251.14 1538.6 1248.06 1543.21 Q1245 1547.79 1239.19 1547.79 Q1233.38 1547.79 1230.3 1543.21 Q1227.25 1538.6 1227.25 1529.87 Q1227.25 1521.12 1230.3 1516.54 Q1233.38 1511.93 1239.19 1511.93 Z\" fill=\"#000000\" fill-rule=\"evenodd\" fill-opacity=\"1\" /><path clip-path=\"url(#clip550)\" d=\"M 0 0 M1256.2 1541.24 L1261.09 1541.24 L1261.09 1547.12 L1256.2 1547.12 L1256.2 1541.24 Z\" fill=\"#000000\" fill-rule=\"evenodd\" fill-opacity=\"1\" /><path clip-path=\"url(#clip550)\" d=\"M 0 0 M1266.2 1512.56 L1284.56 1512.56 L1284.56 1516.5 L1270.49 1516.5 L1270.49 1524.97 Q1271.51 1524.62 1272.52 1524.46 Q1273.54 1524.27 1274.56 1524.27 Q1280.35 1524.27 1283.73 1527.44 Q1287.11 1530.62 1287.11 1536.03 Q1287.11 1541.61 1283.64 1544.71 Q1280.16 1547.79 1273.84 1547.79 Q1271.67 1547.79 1269.4 1547.42 Q1267.15 1547.05 1264.75 1546.31 L1264.75 1541.61 Q1266.83 1542.74 1269.05 1543.3 Q1271.27 1543.86 1273.75 1543.86 Q1277.76 1543.86 1280.09 1541.75 Q1282.43 1539.64 1282.43 1536.03 Q1282.43 1532.42 1280.09 1530.31 Q1277.76 1528.21 1273.75 1528.21 Q1271.88 1528.21 1270 1528.62 Q1268.15 1529.04 1266.2 1529.92 L1266.2 1512.56 Z\" fill=\"#000000\" fill-rule=\"evenodd\" fill-opacity=\"1\" /><path clip-path=\"url(#clip550)\" d=\"M 0 0 M1302.18 1515.64 Q1298.57 1515.64 1296.74 1519.2 Q1294.93 1522.75 1294.93 1529.87 Q1294.93 1536.98 1296.74 1540.55 Q1298.57 1544.09 1302.18 1544.09 Q1305.81 1544.09 1307.62 1540.55 Q1309.45 1536.98 1309.45 1529.87 Q1309.45 1522.75 1307.62 1519.2 Q1305.81 1515.64 1302.18 1515.64 M1302.18 1511.93 Q1307.99 1511.93 1311.04 1516.54 Q1314.12 1521.12 1314.12 1529.87 Q1314.12 1538.6 1311.04 1543.21 Q1307.99 1547.79 1302.18 1547.79 Q1296.37 1547.79 1293.29 1543.21 Q1290.23 1538.6 1290.23 1529.87 Q1290.23 1521.12 1293.29 1516.54 Q1296.37 1511.93 1302.18 1511.93 Z\" fill=\"#000000\" fill-rule=\"evenodd\" fill-opacity=\"1\" /><path clip-path=\"url(#clip550)\" d=\"M 0 0 M1721.16 1515.64 Q1717.55 1515.64 1715.72 1519.2 Q1713.92 1522.75 1713.92 1529.87 Q1713.92 1536.98 1715.72 1540.55 Q1717.55 1544.09 1721.16 1544.09 Q1724.8 1544.09 1726.6 1540.55 Q1728.43 1536.98 1728.43 1529.87 Q1728.43 1522.75 1726.6 1519.2 Q1724.8 1515.64 1721.16 1515.64 M1721.16 1511.93 Q1726.97 1511.93 1730.03 1516.54 Q1733.11 1521.12 1733.11 1529.87 Q1733.11 1538.6 1730.03 1543.21 Q1726.97 1547.79 1721.16 1547.79 Q1715.35 1547.79 1712.27 1543.21 Q1709.22 1538.6 1709.22 1529.87 Q1709.22 1521.12 1712.27 1516.54 Q1715.35 1511.93 1721.16 1511.93 Z\" fill=\"#000000\" fill-rule=\"evenodd\" fill-opacity=\"1\" /><path clip-path=\"url(#clip550)\" d=\"M 0 0 M1738.18 1541.24 L1743.06 1541.24 L1743.06 1547.12 L1738.18 1547.12 L1738.18 1541.24 Z\" fill=\"#000000\" fill-rule=\"evenodd\" fill-opacity=\"1\" /><path clip-path=\"url(#clip550)\" d=\"M 0 0 M1746.95 1512.56 L1769.17 1512.56 L1769.17 1514.55 L1756.63 1547.12 L1751.74 1547.12 L1763.55 1516.5 L1746.95 1516.5 L1746.95 1512.56 Z\" fill=\"#000000\" fill-rule=\"evenodd\" fill-opacity=\"1\" /><path clip-path=\"url(#clip550)\" d=\"M 0 0 M1774.29 1512.56 L1792.64 1512.56 L1792.64 1516.5 L1778.57 1516.5 L1778.57 1524.97 Q1779.59 1524.62 1780.61 1524.46 Q1781.63 1524.27 1782.64 1524.27 Q1788.43 1524.27 1791.81 1527.44 Q1795.19 1530.62 1795.19 1536.03 Q1795.19 1541.61 1791.72 1544.71 Q1788.25 1547.79 1781.93 1547.79 Q1779.75 1547.79 1777.48 1547.42 Q1775.24 1547.05 1772.83 1546.31 L1772.83 1541.61 Q1774.91 1542.74 1777.13 1543.3 Q1779.36 1543.86 1781.83 1543.86 Q1785.84 1543.86 1788.18 1541.75 Q1790.51 1539.64 1790.51 1536.03 Q1790.51 1532.42 1788.18 1530.31 Q1785.84 1528.21 1781.83 1528.21 Q1779.96 1528.21 1778.08 1528.62 Q1776.23 1529.04 1774.29 1529.92 L1774.29 1512.56 Z\" fill=\"#000000\" fill-rule=\"evenodd\" fill-opacity=\"1\" /><path clip-path=\"url(#clip550)\" d=\"M 0 0 M2192.12 1543.18 L2199.75 1543.18 L2199.75 1516.82 L2191.44 1518.49 L2191.44 1514.23 L2199.71 1512.56 L2204.38 1512.56 L2204.38 1543.18 L2212.02 1543.18 L2212.02 1547.12 L2192.12 1547.12 L2192.12 1543.18 Z\" fill=\"#000000\" fill-rule=\"evenodd\" fill-opacity=\"1\" /><path clip-path=\"url(#clip550)\" d=\"M 0 0 M2217.09 1541.24 L2221.98 1541.24 L2221.98 1547.12 L2217.09 1547.12 L2217.09 1541.24 Z\" fill=\"#000000\" fill-rule=\"evenodd\" fill-opacity=\"1\" /><path clip-path=\"url(#clip550)\" d=\"M 0 0 M2237.05 1515.64 Q2233.43 1515.64 2231.61 1519.2 Q2229.8 1522.75 2229.8 1529.87 Q2229.8 1536.98 2231.61 1540.55 Q2233.43 1544.09 2237.05 1544.09 Q2240.68 1544.09 2242.49 1540.55 Q2244.31 1536.98 2244.31 1529.87 Q2244.31 1522.75 2242.49 1519.2 Q2240.68 1515.64 2237.05 1515.64 M2237.05 1511.93 Q2242.86 1511.93 2245.91 1516.54 Q2248.99 1521.12 2248.99 1529.87 Q2248.99 1538.6 2245.91 1543.21 Q2242.86 1547.79 2237.05 1547.79 Q2231.24 1547.79 2228.16 1543.21 Q2225.1 1538.6 2225.1 1529.87 Q2225.1 1521.12 2228.16 1516.54 Q2231.24 1511.93 2237.05 1511.93 Z\" fill=\"#000000\" fill-rule=\"evenodd\" fill-opacity=\"1\" /><path clip-path=\"url(#clip550)\" d=\"M 0 0 M2264.06 1515.64 Q2260.45 1515.64 2258.62 1519.2 Q2256.81 1522.75 2256.81 1529.87 Q2256.81 1536.98 2258.62 1540.55 Q2260.45 1544.09 2264.06 1544.09 Q2267.69 1544.09 2269.5 1540.55 Q2271.33 1536.98 2271.33 1529.87 Q2271.33 1522.75 2269.5 1519.2 Q2267.69 1515.64 2264.06 1515.64 M2264.06 1511.93 Q2269.87 1511.93 2272.93 1516.54 Q2276 1521.12 2276 1529.87 Q2276 1538.6 2272.93 1543.21 Q2269.87 1547.79 2264.06 1547.79 Q2258.25 1547.79 2255.17 1543.21 Q2252.12 1538.6 2252.12 1529.87 Q2252.12 1521.12 2255.17 1516.54 Q2258.25 1511.93 2264.06 1511.93 Z\" fill=\"#000000\" fill-rule=\"evenodd\" fill-opacity=\"1\" /><polyline clip-path=\"url(#clip552)\" style=\"stroke:#000000; stroke-width:2; stroke-opacity:0.1; fill:none\" points=\"\n",
       "  188.612,1445.72 2352.76,1445.72 \n",
       "  \"/>\n",
       "<polyline clip-path=\"url(#clip552)\" style=\"stroke:#000000; stroke-width:2; stroke-opacity:0.1; fill:none\" points=\"\n",
       "  188.612,1106.28 2352.76,1106.28 \n",
       "  \"/>\n",
       "<polyline clip-path=\"url(#clip552)\" style=\"stroke:#000000; stroke-width:2; stroke-opacity:0.1; fill:none\" points=\"\n",
       "  188.612,766.846 2352.76,766.846 \n",
       "  \"/>\n",
       "<polyline clip-path=\"url(#clip552)\" style=\"stroke:#000000; stroke-width:2; stroke-opacity:0.1; fill:none\" points=\"\n",
       "  188.612,427.411 2352.76,427.411 \n",
       "  \"/>\n",
       "<polyline clip-path=\"url(#clip552)\" style=\"stroke:#000000; stroke-width:2; stroke-opacity:0.1; fill:none\" points=\"\n",
       "  188.612,87.9763 2352.76,87.9763 \n",
       "  \"/>\n",
       "<polyline clip-path=\"url(#clip550)\" style=\"stroke:#000000; stroke-width:4; stroke-opacity:1; fill:none\" points=\"\n",
       "  188.612,1486.45 188.612,47.2441 \n",
       "  \"/>\n",
       "<polyline clip-path=\"url(#clip550)\" style=\"stroke:#000000; stroke-width:4; stroke-opacity:1; fill:none\" points=\"\n",
       "  188.612,1445.72 214.582,1445.72 \n",
       "  \"/>\n",
       "<polyline clip-path=\"url(#clip550)\" style=\"stroke:#000000; stroke-width:4; stroke-opacity:1; fill:none\" points=\"\n",
       "  188.612,1106.28 214.582,1106.28 \n",
       "  \"/>\n",
       "<polyline clip-path=\"url(#clip550)\" style=\"stroke:#000000; stroke-width:4; stroke-opacity:1; fill:none\" points=\"\n",
       "  188.612,766.846 214.582,766.846 \n",
       "  \"/>\n",
       "<polyline clip-path=\"url(#clip550)\" style=\"stroke:#000000; stroke-width:4; stroke-opacity:1; fill:none\" points=\"\n",
       "  188.612,427.411 214.582,427.411 \n",
       "  \"/>\n",
       "<polyline clip-path=\"url(#clip550)\" style=\"stroke:#000000; stroke-width:4; stroke-opacity:1; fill:none\" points=\"\n",
       "  188.612,87.9763 214.582,87.9763 \n",
       "  \"/>\n",
       "<path clip-path=\"url(#clip550)\" d=\"M 0 0 M140.668 1431.51 Q137.056 1431.51 135.228 1435.08 Q133.422 1438.62 133.422 1445.75 Q133.422 1452.86 135.228 1456.42 Q137.056 1459.96 140.668 1459.96 Q144.302 1459.96 146.107 1456.42 Q147.936 1452.86 147.936 1445.75 Q147.936 1438.62 146.107 1435.08 Q144.302 1431.51 140.668 1431.51 M140.668 1427.81 Q146.478 1427.81 149.533 1432.42 Q152.612 1437 152.612 1445.75 Q152.612 1454.48 149.533 1459.08 Q146.478 1463.67 140.668 1463.67 Q134.857 1463.67 131.779 1459.08 Q128.723 1454.48 128.723 1445.75 Q128.723 1437 131.779 1432.42 Q134.857 1427.81 140.668 1427.81 Z\" fill=\"#000000\" fill-rule=\"evenodd\" fill-opacity=\"1\" /><path clip-path=\"url(#clip550)\" d=\"M 0 0 M83.2605 1119.63 L99.5798 1119.63 L99.5798 1123.56 L77.6355 1123.56 L77.6355 1119.63 Q80.2975 1116.87 84.8808 1112.24 Q89.4873 1107.59 90.6678 1106.25 Q92.9132 1103.72 93.7928 1101.99 Q94.6956 1100.23 94.6956 1098.54 Q94.6956 1095.78 92.7512 1094.05 Q90.8299 1092.31 87.728 1092.31 Q85.529 1092.31 83.0753 1093.07 Q80.6447 1093.84 77.867 1095.39 L77.867 1090.67 Q80.691 1089.53 83.1447 1088.95 Q85.5984 1088.38 87.6354 1088.38 Q93.0058 1088.38 96.2002 1091.06 Q99.3946 1093.75 99.3946 1098.24 Q99.3946 1100.37 98.5845 1102.29 Q97.7974 1104.19 95.691 1106.78 Q95.1123 1107.45 92.0104 1110.67 Q88.9086 1113.86 83.2605 1119.63 Z\" fill=\"#000000\" fill-rule=\"evenodd\" fill-opacity=\"1\" /><path clip-path=\"url(#clip550)\" d=\"M 0 0 M104.696 1089 L123.052 1089 L123.052 1092.94 L108.978 1092.94 L108.978 1101.41 Q109.996 1101.06 111.015 1100.9 Q112.033 1100.71 113.052 1100.71 Q118.839 1100.71 122.219 1103.89 Q125.598 1107.06 125.598 1112.47 Q125.598 1118.05 122.126 1121.15 Q118.654 1124.23 112.334 1124.23 Q110.158 1124.23 107.89 1123.86 Q105.645 1123.49 103.237 1122.75 L103.237 1118.05 Q105.321 1119.19 107.543 1119.74 Q109.765 1120.3 112.242 1120.3 Q116.246 1120.3 118.584 1118.19 Q120.922 1116.08 120.922 1112.47 Q120.922 1108.86 118.584 1106.76 Q116.246 1104.65 112.242 1104.65 Q110.367 1104.65 108.492 1105.07 Q106.64 1105.48 104.696 1106.36 L104.696 1089 Z\" fill=\"#000000\" fill-rule=\"evenodd\" fill-opacity=\"1\" /><path clip-path=\"url(#clip550)\" d=\"M 0 0 M140.668 1092.08 Q137.056 1092.08 135.228 1095.64 Q133.422 1099.19 133.422 1106.32 Q133.422 1113.42 135.228 1116.99 Q137.056 1120.53 140.668 1120.53 Q144.302 1120.53 146.107 1116.99 Q147.936 1113.42 147.936 1106.32 Q147.936 1099.19 146.107 1095.64 Q144.302 1092.08 140.668 1092.08 M140.668 1088.38 Q146.478 1088.38 149.533 1092.98 Q152.612 1097.57 152.612 1106.32 Q152.612 1115.04 149.533 1119.65 Q146.478 1124.23 140.668 1124.23 Q134.857 1124.23 131.779 1119.65 Q128.723 1115.04 128.723 1106.32 Q128.723 1097.57 131.779 1092.98 Q134.857 1088.38 140.668 1088.38 Z\" fill=\"#000000\" fill-rule=\"evenodd\" fill-opacity=\"1\" /><path clip-path=\"url(#clip550)\" d=\"M 0 0 M77.6818 749.566 L96.0382 749.566 L96.0382 753.501 L81.9642 753.501 L81.9642 761.973 Q82.9827 761.626 84.0012 761.464 Q85.0197 761.279 86.0382 761.279 Q91.8252 761.279 95.2049 764.45 Q98.5845 767.621 98.5845 773.038 Q98.5845 778.617 95.1123 781.719 Q91.6401 784.797 85.3206 784.797 Q83.1447 784.797 80.8762 784.427 Q78.6309 784.057 76.2235 783.316 L76.2235 778.617 Q78.3068 779.751 80.529 780.307 Q82.7512 780.862 85.2281 780.862 Q89.2327 780.862 91.5706 778.756 Q93.9086 776.649 93.9086 773.038 Q93.9086 769.427 91.5706 767.321 Q89.2327 765.214 85.2281 765.214 Q83.3531 765.214 81.4781 765.631 Q79.6262 766.047 77.6818 766.927 L77.6818 749.566 Z\" fill=\"#000000\" fill-rule=\"evenodd\" fill-opacity=\"1\" /><path clip-path=\"url(#clip550)\" d=\"M 0 0 M113.654 752.645 Q110.043 752.645 108.214 756.209 Q106.408 759.751 106.408 766.881 Q106.408 773.987 108.214 777.552 Q110.043 781.094 113.654 781.094 Q117.288 781.094 119.094 777.552 Q120.922 773.987 120.922 766.881 Q120.922 759.751 119.094 756.209 Q117.288 752.645 113.654 752.645 M113.654 748.941 Q119.464 748.941 122.52 753.547 Q125.598 758.131 125.598 766.881 Q125.598 775.608 122.52 780.214 Q119.464 784.797 113.654 784.797 Q107.844 784.797 104.765 780.214 Q101.709 775.608 101.709 766.881 Q101.709 758.131 104.765 753.547 Q107.844 748.941 113.654 748.941 Z\" fill=\"#000000\" fill-rule=\"evenodd\" fill-opacity=\"1\" /><path clip-path=\"url(#clip550)\" d=\"M 0 0 M140.668 752.645 Q137.056 752.645 135.228 756.209 Q133.422 759.751 133.422 766.881 Q133.422 773.987 135.228 777.552 Q137.056 781.094 140.668 781.094 Q144.302 781.094 146.107 777.552 Q147.936 773.987 147.936 766.881 Q147.936 759.751 146.107 756.209 Q144.302 752.645 140.668 752.645 M140.668 748.941 Q146.478 748.941 149.533 753.547 Q152.612 758.131 152.612 766.881 Q152.612 775.608 149.533 780.214 Q146.478 784.797 140.668 784.797 Q134.857 784.797 131.779 780.214 Q128.723 775.608 128.723 766.881 Q128.723 758.131 131.779 753.547 Q134.857 748.941 140.668 748.941 Z\" fill=\"#000000\" fill-rule=\"evenodd\" fill-opacity=\"1\" /><path clip-path=\"url(#clip550)\" d=\"M 0 0 M77.3577 410.131 L99.5798 410.131 L99.5798 412.122 L87.0336 444.691 L82.1494 444.691 L93.9549 414.066 L77.3577 414.066 L77.3577 410.131 Z\" fill=\"#000000\" fill-rule=\"evenodd\" fill-opacity=\"1\" /><path clip-path=\"url(#clip550)\" d=\"M 0 0 M104.696 410.131 L123.052 410.131 L123.052 414.066 L108.978 414.066 L108.978 422.538 Q109.996 422.191 111.015 422.029 Q112.033 421.844 113.052 421.844 Q118.839 421.844 122.219 425.015 Q125.598 428.187 125.598 433.603 Q125.598 439.182 122.126 442.284 Q118.654 445.362 112.334 445.362 Q110.158 445.362 107.89 444.992 Q105.645 444.622 103.237 443.881 L103.237 439.182 Q105.321 440.316 107.543 440.872 Q109.765 441.427 112.242 441.427 Q116.246 441.427 118.584 439.321 Q120.922 437.214 120.922 433.603 Q120.922 429.992 118.584 427.886 Q116.246 425.779 112.242 425.779 Q110.367 425.779 108.492 426.196 Q106.64 426.613 104.696 427.492 L104.696 410.131 Z\" fill=\"#000000\" fill-rule=\"evenodd\" fill-opacity=\"1\" /><path clip-path=\"url(#clip550)\" d=\"M 0 0 M140.668 413.21 Q137.056 413.21 135.228 416.775 Q133.422 420.316 133.422 427.446 Q133.422 434.552 135.228 438.117 Q137.056 441.659 140.668 441.659 Q144.302 441.659 146.107 438.117 Q147.936 434.552 147.936 427.446 Q147.936 420.316 146.107 416.775 Q144.302 413.21 140.668 413.21 M140.668 409.506 Q146.478 409.506 149.533 414.113 Q152.612 418.696 152.612 427.446 Q152.612 436.173 149.533 440.779 Q146.478 445.362 140.668 445.362 Q134.857 445.362 131.779 440.779 Q128.723 436.173 128.723 427.446 Q128.723 418.696 131.779 414.113 Q134.857 409.506 140.668 409.506 Z\" fill=\"#000000\" fill-rule=\"evenodd\" fill-opacity=\"1\" /><path clip-path=\"url(#clip550)\" d=\"M 0 0 M51.6634 101.321 L59.3023 101.321 L59.3023 74.9555 L50.9921 76.6222 L50.9921 72.3629 L59.256 70.6963 L63.9319 70.6963 L63.9319 101.321 L71.5707 101.321 L71.5707 105.256 L51.6634 105.256 L51.6634 101.321 Z\" fill=\"#000000\" fill-rule=\"evenodd\" fill-opacity=\"1\" /><path clip-path=\"url(#clip550)\" d=\"M 0 0 M86.6401 73.775 Q83.029 73.775 81.2003 77.3398 Q79.3948 80.8814 79.3948 88.011 Q79.3948 95.1174 81.2003 98.6822 Q83.029 102.224 86.6401 102.224 Q90.2743 102.224 92.0799 98.6822 Q93.9086 95.1174 93.9086 88.011 Q93.9086 80.8814 92.0799 77.3398 Q90.2743 73.775 86.6401 73.775 M86.6401 70.0713 Q92.4502 70.0713 95.5058 74.6777 Q98.5845 79.261 98.5845 88.011 Q98.5845 96.7378 95.5058 101.344 Q92.4502 105.928 86.6401 105.928 Q80.8299 105.928 77.7512 101.344 Q74.6957 96.7378 74.6957 88.011 Q74.6957 79.261 77.7512 74.6777 Q80.8299 70.0713 86.6401 70.0713 Z\" fill=\"#000000\" fill-rule=\"evenodd\" fill-opacity=\"1\" /><path clip-path=\"url(#clip550)\" d=\"M 0 0 M113.654 73.775 Q110.043 73.775 108.214 77.3398 Q106.408 80.8814 106.408 88.011 Q106.408 95.1174 108.214 98.6822 Q110.043 102.224 113.654 102.224 Q117.288 102.224 119.094 98.6822 Q120.922 95.1174 120.922 88.011 Q120.922 80.8814 119.094 77.3398 Q117.288 73.775 113.654 73.775 M113.654 70.0713 Q119.464 70.0713 122.52 74.6777 Q125.598 79.261 125.598 88.011 Q125.598 96.7378 122.52 101.344 Q119.464 105.928 113.654 105.928 Q107.844 105.928 104.765 101.344 Q101.709 96.7378 101.709 88.011 Q101.709 79.261 104.765 74.6777 Q107.844 70.0713 113.654 70.0713 Z\" fill=\"#000000\" fill-rule=\"evenodd\" fill-opacity=\"1\" /><path clip-path=\"url(#clip550)\" d=\"M 0 0 M140.668 73.775 Q137.056 73.775 135.228 77.3398 Q133.422 80.8814 133.422 88.011 Q133.422 95.1174 135.228 98.6822 Q137.056 102.224 140.668 102.224 Q144.302 102.224 146.107 98.6822 Q147.936 95.1174 147.936 88.011 Q147.936 80.8814 146.107 77.3398 Q144.302 73.775 140.668 73.775 M140.668 70.0713 Q146.478 70.0713 149.533 74.6777 Q152.612 79.261 152.612 88.011 Q152.612 96.7378 149.533 101.344 Q146.478 105.928 140.668 105.928 Q134.857 105.928 131.779 101.344 Q128.723 96.7378 128.723 88.011 Q128.723 79.261 131.779 74.6777 Q134.857 70.0713 140.668 70.0713 Z\" fill=\"#000000\" fill-rule=\"evenodd\" fill-opacity=\"1\" /><path clip-path=\"url(#clip552)\" d=\"\n",
       "M307.644 87.9763 L307.644 1445.72 L2233.72 1445.72 L2233.72 87.9763 L307.644 87.9763 L307.644 87.9763  Z\n",
       "  \" fill=\"#009af9\" fill-rule=\"evenodd\" fill-opacity=\"1\"/>\n",
       "<polyline clip-path=\"url(#clip552)\" style=\"stroke:#000000; stroke-width:4; stroke-opacity:1; fill:none\" points=\"\n",
       "  307.644,87.9763 307.644,1445.72 2233.72,1445.72 2233.72,87.9763 307.644,87.9763 \n",
       "  \"/>\n",
       "<path clip-path=\"url(#clip550)\" d=\"\n",
       "M1989.14 216.178 L2280.62 216.178 L2280.62 95.2176 L1989.14 95.2176  Z\n",
       "  \" fill=\"#ffffff\" fill-rule=\"evenodd\" fill-opacity=\"1\"/>\n",
       "<polyline clip-path=\"url(#clip550)\" style=\"stroke:#000000; stroke-width:4; stroke-opacity:1; fill:none\" points=\"\n",
       "  1989.14,216.178 2280.62,216.178 2280.62,95.2176 1989.14,95.2176 1989.14,216.178 \n",
       "  \"/>\n",
       "<path clip-path=\"url(#clip550)\" d=\"\n",
       "M2013.19 179.89 L2157.46 179.89 L2157.46 131.506 L2013.19 131.506 L2013.19 179.89  Z\n",
       "  \" fill=\"#009af9\" fill-rule=\"evenodd\" fill-opacity=\"1\"/>\n",
       "<polyline clip-path=\"url(#clip550)\" style=\"stroke:#000000; stroke-width:4; stroke-opacity:1; fill:none\" points=\"\n",
       "  2013.19,179.89 2157.46,179.89 2157.46,131.506 2013.19,131.506 2013.19,179.89 \n",
       "  \"/>\n",
       "<path clip-path=\"url(#clip550)\" d=\"M 0 0 M2195.35 175.385 Q2193.54 180.015 2191.83 181.427 Q2190.12 182.839 2187.25 182.839 L2183.85 182.839 L2183.85 179.274 L2186.35 179.274 Q2188.1 179.274 2189.08 178.44 Q2190.05 177.607 2191.23 174.505 L2191.99 172.561 L2181.51 147.052 L2186.02 147.052 L2194.12 167.329 L2202.22 147.052 L2206.74 147.052 L2195.35 175.385 Z\" fill=\"#000000\" fill-rule=\"evenodd\" fill-opacity=\"1\" /><path clip-path=\"url(#clip550)\" d=\"M 0 0 M2212.62 169.042 L2220.26 169.042 L2220.26 142.677 L2211.95 144.343 L2211.95 140.084 L2220.21 138.418 L2224.89 138.418 L2224.89 169.042 L2232.53 169.042 L2232.53 172.978 L2212.62 172.978 L2212.62 169.042 Z\" fill=\"#000000\" fill-rule=\"evenodd\" fill-opacity=\"1\" /></svg>\n"
      ]
     },
     "execution_count": 15,
     "metadata": {},
     "output_type": "execute_result"
    }
   ],
   "source": [
    "m = agent(QUEEN)\n",
    "chains = sample(m, IS(), 1000 , n_chains=1, progress = true)\n",
    "histogram(generated_quantities(m, chains))"
   ]
  },
  {
   "cell_type": "code",
   "execution_count": 16,
   "metadata": {},
   "outputs": [
    {
     "name": "stderr",
     "output_type": "stream",
     "text": [
      "\u001b[32mSampling: 100%|█████████████████████████████████████████| Time: 0:00:00\u001b[39m\n"
     ]
    },
    {
     "data": {
      "image/svg+xml": [
       "<?xml version=\"1.0\" encoding=\"utf-8\"?>\n",
       "<svg xmlns=\"http://www.w3.org/2000/svg\" xmlns:xlink=\"http://www.w3.org/1999/xlink\" width=\"600\" height=\"400\" viewBox=\"0 0 2400 1600\">\n",
       "<defs>\n",
       "  <clipPath id=\"clip590\">\n",
       "    <rect x=\"0\" y=\"0\" width=\"2400\" height=\"1600\"/>\n",
       "  </clipPath>\n",
       "</defs>\n",
       "<path clip-path=\"url(#clip590)\" d=\"\n",
       "M0 1600 L2400 1600 L2400 0 L0 0  Z\n",
       "  \" fill=\"#ffffff\" fill-rule=\"evenodd\" fill-opacity=\"1\"/>\n",
       "<defs>\n",
       "  <clipPath id=\"clip591\">\n",
       "    <rect x=\"480\" y=\"0\" width=\"1681\" height=\"1600\"/>\n",
       "  </clipPath>\n",
       "</defs>\n",
       "<path clip-path=\"url(#clip590)\" d=\"\n",
       "M193.218 1486.45 L2352.76 1486.45 L2352.76 47.2441 L193.218 47.2441  Z\n",
       "  \" fill=\"#ffffff\" fill-rule=\"evenodd\" fill-opacity=\"1\"/>\n",
       "<defs>\n",
       "  <clipPath id=\"clip592\">\n",
       "    <rect x=\"193\" y=\"47\" width=\"2161\" height=\"1440\"/>\n",
       "  </clipPath>\n",
       "</defs>\n",
       "<polyline clip-path=\"url(#clip592)\" style=\"stroke:#000000; stroke-width:2; stroke-opacity:0.1; fill:none\" points=\"\n",
       "  311.997,1486.45 311.997,47.2441 \n",
       "  \"/>\n",
       "<polyline clip-path=\"url(#clip592)\" style=\"stroke:#000000; stroke-width:2; stroke-opacity:0.1; fill:none\" points=\"\n",
       "  748.811,1486.45 748.811,47.2441 \n",
       "  \"/>\n",
       "<polyline clip-path=\"url(#clip592)\" style=\"stroke:#000000; stroke-width:2; stroke-opacity:0.1; fill:none\" points=\"\n",
       "  1185.62,1486.45 1185.62,47.2441 \n",
       "  \"/>\n",
       "<polyline clip-path=\"url(#clip592)\" style=\"stroke:#000000; stroke-width:2; stroke-opacity:0.1; fill:none\" points=\"\n",
       "  1622.44,1486.45 1622.44,47.2441 \n",
       "  \"/>\n",
       "<polyline clip-path=\"url(#clip592)\" style=\"stroke:#000000; stroke-width:2; stroke-opacity:0.1; fill:none\" points=\"\n",
       "  2059.25,1486.45 2059.25,47.2441 \n",
       "  \"/>\n",
       "<polyline clip-path=\"url(#clip590)\" style=\"stroke:#000000; stroke-width:4; stroke-opacity:1; fill:none\" points=\"\n",
       "  193.218,1486.45 2352.76,1486.45 \n",
       "  \"/>\n",
       "<polyline clip-path=\"url(#clip590)\" style=\"stroke:#000000; stroke-width:4; stroke-opacity:1; fill:none\" points=\"\n",
       "  311.997,1486.45 311.997,1469.18 \n",
       "  \"/>\n",
       "<polyline clip-path=\"url(#clip590)\" style=\"stroke:#000000; stroke-width:4; stroke-opacity:1; fill:none\" points=\"\n",
       "  748.811,1486.45 748.811,1469.18 \n",
       "  \"/>\n",
       "<polyline clip-path=\"url(#clip590)\" style=\"stroke:#000000; stroke-width:4; stroke-opacity:1; fill:none\" points=\"\n",
       "  1185.62,1486.45 1185.62,1469.18 \n",
       "  \"/>\n",
       "<polyline clip-path=\"url(#clip590)\" style=\"stroke:#000000; stroke-width:4; stroke-opacity:1; fill:none\" points=\"\n",
       "  1622.44,1486.45 1622.44,1469.18 \n",
       "  \"/>\n",
       "<polyline clip-path=\"url(#clip590)\" style=\"stroke:#000000; stroke-width:4; stroke-opacity:1; fill:none\" points=\"\n",
       "  2059.25,1486.45 2059.25,1469.18 \n",
       "  \"/>\n",
       "<path clip-path=\"url(#clip590)\" d=\"M 0 0 M252.275 1530.29 L281.951 1530.29 L281.951 1534.23 L252.275 1534.23 L252.275 1530.29 Z\" fill=\"#000000\" fill-rule=\"evenodd\" fill-opacity=\"1\" /><path clip-path=\"url(#clip590)\" d=\"M 0 0 M287.83 1543.18 L295.469 1543.18 L295.469 1516.82 L287.159 1518.49 L287.159 1514.23 L295.423 1512.56 L300.099 1512.56 L300.099 1543.18 L307.738 1543.18 L307.738 1547.12 L287.83 1547.12 L287.83 1543.18 Z\" fill=\"#000000\" fill-rule=\"evenodd\" fill-opacity=\"1\" /><path clip-path=\"url(#clip590)\" d=\"M 0 0 M312.807 1541.24 L317.691 1541.24 L317.691 1547.12 L312.807 1547.12 L312.807 1541.24 Z\" fill=\"#000000\" fill-rule=\"evenodd\" fill-opacity=\"1\" /><path clip-path=\"url(#clip590)\" d=\"M 0 0 M332.761 1515.64 Q329.15 1515.64 327.321 1519.2 Q325.515 1522.75 325.515 1529.87 Q325.515 1536.98 327.321 1540.55 Q329.15 1544.09 332.761 1544.09 Q336.395 1544.09 338.2 1540.55 Q340.029 1536.98 340.029 1529.87 Q340.029 1522.75 338.2 1519.2 Q336.395 1515.64 332.761 1515.64 M332.761 1511.93 Q338.571 1511.93 341.626 1516.54 Q344.705 1521.12 344.705 1529.87 Q344.705 1538.6 341.626 1543.21 Q338.571 1547.79 332.761 1547.79 Q326.95 1547.79 323.872 1543.21 Q320.816 1538.6 320.816 1529.87 Q320.816 1521.12 323.872 1516.54 Q326.95 1511.93 332.761 1511.93 Z\" fill=\"#000000\" fill-rule=\"evenodd\" fill-opacity=\"1\" /><path clip-path=\"url(#clip590)\" d=\"M 0 0 M359.774 1515.64 Q356.163 1515.64 354.335 1519.2 Q352.529 1522.75 352.529 1529.87 Q352.529 1536.98 354.335 1540.55 Q356.163 1544.09 359.774 1544.09 Q363.409 1544.09 365.214 1540.55 Q367.043 1536.98 367.043 1529.87 Q367.043 1522.75 365.214 1519.2 Q363.409 1515.64 359.774 1515.64 M359.774 1511.93 Q365.584 1511.93 368.64 1516.54 Q371.719 1521.12 371.719 1529.87 Q371.719 1538.6 368.64 1543.21 Q365.584 1547.79 359.774 1547.79 Q353.964 1547.79 350.885 1543.21 Q347.83 1538.6 347.83 1529.87 Q347.83 1521.12 350.885 1516.54 Q353.964 1511.93 359.774 1511.93 Z\" fill=\"#000000\" fill-rule=\"evenodd\" fill-opacity=\"1\" /><path clip-path=\"url(#clip590)\" d=\"M 0 0 M689.424 1530.29 L719.1 1530.29 L719.1 1534.23 L689.424 1534.23 L689.424 1530.29 Z\" fill=\"#000000\" fill-rule=\"evenodd\" fill-opacity=\"1\" /><path clip-path=\"url(#clip590)\" d=\"M 0 0 M734.169 1515.64 Q730.558 1515.64 728.73 1519.2 Q726.924 1522.75 726.924 1529.87 Q726.924 1536.98 728.73 1540.55 Q730.558 1544.09 734.169 1544.09 Q737.804 1544.09 739.609 1540.55 Q741.438 1536.98 741.438 1529.87 Q741.438 1522.75 739.609 1519.2 Q737.804 1515.64 734.169 1515.64 M734.169 1511.93 Q739.98 1511.93 743.035 1516.54 Q746.114 1521.12 746.114 1529.87 Q746.114 1538.6 743.035 1543.21 Q739.98 1547.79 734.169 1547.79 Q728.359 1547.79 725.281 1543.21 Q722.225 1538.6 722.225 1529.87 Q722.225 1521.12 725.281 1516.54 Q728.359 1511.93 734.169 1511.93 Z\" fill=\"#000000\" fill-rule=\"evenodd\" fill-opacity=\"1\" /><path clip-path=\"url(#clip590)\" d=\"M 0 0 M751.183 1541.24 L756.068 1541.24 L756.068 1547.12 L751.183 1547.12 L751.183 1541.24 Z\" fill=\"#000000\" fill-rule=\"evenodd\" fill-opacity=\"1\" /><path clip-path=\"url(#clip590)\" d=\"M 0 0 M759.956 1512.56 L782.178 1512.56 L782.178 1514.55 L769.632 1547.12 L764.748 1547.12 L776.554 1516.5 L759.956 1516.5 L759.956 1512.56 Z\" fill=\"#000000\" fill-rule=\"evenodd\" fill-opacity=\"1\" /><path clip-path=\"url(#clip590)\" d=\"M 0 0 M787.294 1512.56 L805.651 1512.56 L805.651 1516.5 L791.577 1516.5 L791.577 1524.97 Q792.595 1524.62 793.614 1524.46 Q794.632 1524.27 795.651 1524.27 Q801.438 1524.27 804.817 1527.44 Q808.197 1530.62 808.197 1536.03 Q808.197 1541.61 804.725 1544.71 Q801.252 1547.79 794.933 1547.79 Q792.757 1547.79 790.489 1547.42 Q788.243 1547.05 785.836 1546.31 L785.836 1541.61 Q787.919 1542.74 790.141 1543.3 Q792.364 1543.86 794.84 1543.86 Q798.845 1543.86 801.183 1541.75 Q803.521 1539.64 803.521 1536.03 Q803.521 1532.42 801.183 1530.31 Q798.845 1528.21 794.84 1528.21 Q792.965 1528.21 791.09 1528.62 Q789.239 1529.04 787.294 1529.92 L787.294 1512.56 Z\" fill=\"#000000\" fill-rule=\"evenodd\" fill-opacity=\"1\" /><path clip-path=\"url(#clip590)\" d=\"M 0 0 M1125.79 1530.29 L1155.46 1530.29 L1155.46 1534.23 L1125.79 1534.23 L1125.79 1530.29 Z\" fill=\"#000000\" fill-rule=\"evenodd\" fill-opacity=\"1\" /><path clip-path=\"url(#clip590)\" d=\"M 0 0 M1170.53 1515.64 Q1166.92 1515.64 1165.09 1519.2 Q1163.29 1522.75 1163.29 1529.87 Q1163.29 1536.98 1165.09 1540.55 Q1166.92 1544.09 1170.53 1544.09 Q1174.17 1544.09 1175.97 1540.55 Q1177.8 1536.98 1177.8 1529.87 Q1177.8 1522.75 1175.97 1519.2 Q1174.17 1515.64 1170.53 1515.64 M1170.53 1511.93 Q1176.34 1511.93 1179.4 1516.54 Q1182.48 1521.12 1182.48 1529.87 Q1182.48 1538.6 1179.4 1543.21 Q1176.34 1547.79 1170.53 1547.79 Q1164.72 1547.79 1161.64 1543.21 Q1158.59 1538.6 1158.59 1529.87 Q1158.59 1521.12 1161.64 1516.54 Q1164.72 1511.93 1170.53 1511.93 Z\" fill=\"#000000\" fill-rule=\"evenodd\" fill-opacity=\"1\" /><path clip-path=\"url(#clip590)\" d=\"M 0 0 M1187.55 1541.24 L1192.43 1541.24 L1192.43 1547.12 L1187.55 1547.12 L1187.55 1541.24 Z\" fill=\"#000000\" fill-rule=\"evenodd\" fill-opacity=\"1\" /><path clip-path=\"url(#clip590)\" d=\"M 0 0 M1197.55 1512.56 L1215.9 1512.56 L1215.9 1516.5 L1201.83 1516.5 L1201.83 1524.97 Q1202.85 1524.62 1203.87 1524.46 Q1204.88 1524.27 1205.9 1524.27 Q1211.69 1524.27 1215.07 1527.44 Q1218.45 1530.62 1218.45 1536.03 Q1218.45 1541.61 1214.98 1544.71 Q1211.5 1547.79 1205.18 1547.79 Q1203.01 1547.79 1200.74 1547.42 Q1198.49 1547.05 1196.09 1546.31 L1196.09 1541.61 Q1198.17 1542.74 1200.39 1543.3 Q1202.62 1543.86 1205.09 1543.86 Q1209.1 1543.86 1211.43 1541.75 Q1213.77 1539.64 1213.77 1536.03 Q1213.77 1532.42 1211.43 1530.31 Q1209.1 1528.21 1205.09 1528.21 Q1203.22 1528.21 1201.34 1528.62 Q1199.49 1529.04 1197.55 1529.92 L1197.55 1512.56 Z\" fill=\"#000000\" fill-rule=\"evenodd\" fill-opacity=\"1\" /><path clip-path=\"url(#clip590)\" d=\"M 0 0 M1233.52 1515.64 Q1229.91 1515.64 1228.08 1519.2 Q1226.27 1522.75 1226.27 1529.87 Q1226.27 1536.98 1228.08 1540.55 Q1229.91 1544.09 1233.52 1544.09 Q1237.15 1544.09 1238.96 1540.55 Q1240.79 1536.98 1240.79 1529.87 Q1240.79 1522.75 1238.96 1519.2 Q1237.15 1515.64 1233.52 1515.64 M1233.52 1511.93 Q1239.33 1511.93 1242.38 1516.54 Q1245.46 1521.12 1245.46 1529.87 Q1245.46 1538.6 1242.38 1543.21 Q1239.33 1547.79 1233.52 1547.79 Q1227.71 1547.79 1224.63 1543.21 Q1221.57 1538.6 1221.57 1529.87 Q1221.57 1521.12 1224.63 1516.54 Q1227.71 1511.93 1233.52 1511.93 Z\" fill=\"#000000\" fill-rule=\"evenodd\" fill-opacity=\"1\" /><path clip-path=\"url(#clip590)\" d=\"M 0 0 M1563.4 1530.29 L1593.07 1530.29 L1593.07 1534.23 L1563.4 1534.23 L1563.4 1530.29 Z\" fill=\"#000000\" fill-rule=\"evenodd\" fill-opacity=\"1\" /><path clip-path=\"url(#clip590)\" d=\"M 0 0 M1608.14 1515.64 Q1604.53 1515.64 1602.7 1519.2 Q1600.9 1522.75 1600.9 1529.87 Q1600.9 1536.98 1602.7 1540.55 Q1604.53 1544.09 1608.14 1544.09 Q1611.78 1544.09 1613.58 1540.55 Q1615.41 1536.98 1615.41 1529.87 Q1615.41 1522.75 1613.58 1519.2 Q1611.78 1515.64 1608.14 1515.64 M1608.14 1511.93 Q1613.95 1511.93 1617.01 1516.54 Q1620.09 1521.12 1620.09 1529.87 Q1620.09 1538.6 1617.01 1543.21 Q1613.95 1547.79 1608.14 1547.79 Q1602.33 1547.79 1599.26 1543.21 Q1596.2 1538.6 1596.2 1529.87 Q1596.2 1521.12 1599.26 1516.54 Q1602.33 1511.93 1608.14 1511.93 Z\" fill=\"#000000\" fill-rule=\"evenodd\" fill-opacity=\"1\" /><path clip-path=\"url(#clip590)\" d=\"M 0 0 M1625.16 1541.24 L1630.04 1541.24 L1630.04 1547.12 L1625.16 1547.12 L1625.16 1541.24 Z\" fill=\"#000000\" fill-rule=\"evenodd\" fill-opacity=\"1\" /><path clip-path=\"url(#clip590)\" d=\"M 0 0 M1639.14 1543.18 L1655.46 1543.18 L1655.46 1547.12 L1633.51 1547.12 L1633.51 1543.18 Q1636.18 1540.43 1640.76 1535.8 Q1645.37 1531.15 1646.55 1529.81 Q1648.79 1527.28 1649.67 1525.55 Q1650.57 1523.79 1650.57 1522.1 Q1650.57 1519.34 1648.63 1517.61 Q1646.71 1515.87 1643.61 1515.87 Q1641.41 1515.87 1638.95 1516.63 Q1636.52 1517.4 1633.75 1518.95 L1633.75 1514.23 Q1636.57 1513.09 1639.02 1512.51 Q1641.48 1511.93 1643.51 1511.93 Q1648.88 1511.93 1652.08 1514.62 Q1655.27 1517.31 1655.27 1521.8 Q1655.27 1523.93 1654.46 1525.85 Q1653.68 1527.74 1651.57 1530.34 Q1650.99 1531.01 1647.89 1534.23 Q1644.79 1537.42 1639.14 1543.18 Z\" fill=\"#000000\" fill-rule=\"evenodd\" fill-opacity=\"1\" /><path clip-path=\"url(#clip590)\" d=\"M 0 0 M1660.57 1512.56 L1678.93 1512.56 L1678.93 1516.5 L1664.86 1516.5 L1664.86 1524.97 Q1665.88 1524.62 1666.89 1524.46 Q1667.91 1524.27 1668.93 1524.27 Q1674.72 1524.27 1678.1 1527.44 Q1681.48 1530.62 1681.48 1536.03 Q1681.48 1541.61 1678.01 1544.71 Q1674.53 1547.79 1668.21 1547.79 Q1666.04 1547.79 1663.77 1547.42 Q1661.52 1547.05 1659.12 1546.31 L1659.12 1541.61 Q1661.2 1542.74 1663.42 1543.3 Q1665.64 1543.86 1668.12 1543.86 Q1672.13 1543.86 1674.46 1541.75 Q1676.8 1539.64 1676.8 1536.03 Q1676.8 1532.42 1674.46 1530.31 Q1672.13 1528.21 1668.12 1528.21 Q1666.25 1528.21 1664.37 1528.62 Q1662.52 1529.04 1660.57 1529.92 L1660.57 1512.56 Z\" fill=\"#000000\" fill-rule=\"evenodd\" fill-opacity=\"1\" /><path clip-path=\"url(#clip590)\" d=\"M 0 0 M2027.26 1515.64 Q2023.65 1515.64 2021.82 1519.2 Q2020.02 1522.75 2020.02 1529.87 Q2020.02 1536.98 2021.82 1540.55 Q2023.65 1544.09 2027.26 1544.09 Q2030.9 1544.09 2032.7 1540.55 Q2034.53 1536.98 2034.53 1529.87 Q2034.53 1522.75 2032.7 1519.2 Q2030.9 1515.64 2027.26 1515.64 M2027.26 1511.93 Q2033.07 1511.93 2036.13 1516.54 Q2039.21 1521.12 2039.21 1529.87 Q2039.21 1538.6 2036.13 1543.21 Q2033.07 1547.79 2027.26 1547.79 Q2021.45 1547.79 2018.37 1543.21 Q2015.32 1538.6 2015.32 1529.87 Q2015.32 1521.12 2018.37 1516.54 Q2021.45 1511.93 2027.26 1511.93 Z\" fill=\"#000000\" fill-rule=\"evenodd\" fill-opacity=\"1\" /><path clip-path=\"url(#clip590)\" d=\"M 0 0 M2044.28 1541.24 L2049.16 1541.24 L2049.16 1547.12 L2044.28 1547.12 L2044.28 1541.24 Z\" fill=\"#000000\" fill-rule=\"evenodd\" fill-opacity=\"1\" /><path clip-path=\"url(#clip590)\" d=\"M 0 0 M2064.23 1515.64 Q2060.62 1515.64 2058.79 1519.2 Q2056.98 1522.75 2056.98 1529.87 Q2056.98 1536.98 2058.79 1540.55 Q2060.62 1544.09 2064.23 1544.09 Q2067.86 1544.09 2069.67 1540.55 Q2071.5 1536.98 2071.5 1529.87 Q2071.5 1522.75 2069.67 1519.2 Q2067.86 1515.64 2064.23 1515.64 M2064.23 1511.93 Q2070.04 1511.93 2073.09 1516.54 Q2076.17 1521.12 2076.17 1529.87 Q2076.17 1538.6 2073.09 1543.21 Q2070.04 1547.79 2064.23 1547.79 Q2058.42 1547.79 2055.34 1543.21 Q2052.28 1538.6 2052.28 1529.87 Q2052.28 1521.12 2055.34 1516.54 Q2058.42 1511.93 2064.23 1511.93 Z\" fill=\"#000000\" fill-rule=\"evenodd\" fill-opacity=\"1\" /><path clip-path=\"url(#clip590)\" d=\"M 0 0 M2091.24 1515.64 Q2087.63 1515.64 2085.8 1519.2 Q2084 1522.75 2084 1529.87 Q2084 1536.98 2085.8 1540.55 Q2087.63 1544.09 2091.24 1544.09 Q2094.88 1544.09 2096.68 1540.55 Q2098.51 1536.98 2098.51 1529.87 Q2098.51 1522.75 2096.68 1519.2 Q2094.88 1515.64 2091.24 1515.64 M2091.24 1511.93 Q2097.05 1511.93 2100.11 1516.54 Q2103.19 1521.12 2103.19 1529.87 Q2103.19 1538.6 2100.11 1543.21 Q2097.05 1547.79 2091.24 1547.79 Q2085.43 1547.79 2082.35 1543.21 Q2079.3 1538.6 2079.3 1529.87 Q2079.3 1521.12 2082.35 1516.54 Q2085.43 1511.93 2091.24 1511.93 Z\" fill=\"#000000\" fill-rule=\"evenodd\" fill-opacity=\"1\" /><polyline clip-path=\"url(#clip592)\" style=\"stroke:#000000; stroke-width:2; stroke-opacity:0.1; fill:none\" points=\"\n",
       "  193.218,1445.72 2352.76,1445.72 \n",
       "  \"/>\n",
       "<polyline clip-path=\"url(#clip592)\" style=\"stroke:#000000; stroke-width:2; stroke-opacity:0.1; fill:none\" points=\"\n",
       "  193.218,1241.85 2352.76,1241.85 \n",
       "  \"/>\n",
       "<polyline clip-path=\"url(#clip592)\" style=\"stroke:#000000; stroke-width:2; stroke-opacity:0.1; fill:none\" points=\"\n",
       "  193.218,1037.99 2352.76,1037.99 \n",
       "  \"/>\n",
       "<polyline clip-path=\"url(#clip592)\" style=\"stroke:#000000; stroke-width:2; stroke-opacity:0.1; fill:none\" points=\"\n",
       "  193.218,834.121 2352.76,834.121 \n",
       "  \"/>\n",
       "<polyline clip-path=\"url(#clip592)\" style=\"stroke:#000000; stroke-width:2; stroke-opacity:0.1; fill:none\" points=\"\n",
       "  193.218,630.257 2352.76,630.257 \n",
       "  \"/>\n",
       "<polyline clip-path=\"url(#clip592)\" style=\"stroke:#000000; stroke-width:2; stroke-opacity:0.1; fill:none\" points=\"\n",
       "  193.218,426.392 2352.76,426.392 \n",
       "  \"/>\n",
       "<polyline clip-path=\"url(#clip592)\" style=\"stroke:#000000; stroke-width:2; stroke-opacity:0.1; fill:none\" points=\"\n",
       "  193.218,222.527 2352.76,222.527 \n",
       "  \"/>\n",
       "<polyline clip-path=\"url(#clip590)\" style=\"stroke:#000000; stroke-width:4; stroke-opacity:1; fill:none\" points=\"\n",
       "  193.218,1486.45 193.218,47.2441 \n",
       "  \"/>\n",
       "<polyline clip-path=\"url(#clip590)\" style=\"stroke:#000000; stroke-width:4; stroke-opacity:1; fill:none\" points=\"\n",
       "  193.218,1445.72 219.133,1445.72 \n",
       "  \"/>\n",
       "<polyline clip-path=\"url(#clip590)\" style=\"stroke:#000000; stroke-width:4; stroke-opacity:1; fill:none\" points=\"\n",
       "  193.218,1241.85 219.133,1241.85 \n",
       "  \"/>\n",
       "<polyline clip-path=\"url(#clip590)\" style=\"stroke:#000000; stroke-width:4; stroke-opacity:1; fill:none\" points=\"\n",
       "  193.218,1037.99 219.133,1037.99 \n",
       "  \"/>\n",
       "<polyline clip-path=\"url(#clip590)\" style=\"stroke:#000000; stroke-width:4; stroke-opacity:1; fill:none\" points=\"\n",
       "  193.218,834.121 219.133,834.121 \n",
       "  \"/>\n",
       "<polyline clip-path=\"url(#clip590)\" style=\"stroke:#000000; stroke-width:4; stroke-opacity:1; fill:none\" points=\"\n",
       "  193.218,630.257 219.133,630.257 \n",
       "  \"/>\n",
       "<polyline clip-path=\"url(#clip590)\" style=\"stroke:#000000; stroke-width:4; stroke-opacity:1; fill:none\" points=\"\n",
       "  193.218,426.392 219.133,426.392 \n",
       "  \"/>\n",
       "<polyline clip-path=\"url(#clip590)\" style=\"stroke:#000000; stroke-width:4; stroke-opacity:1; fill:none\" points=\"\n",
       "  193.218,222.527 219.133,222.527 \n",
       "  \"/>\n",
       "<path clip-path=\"url(#clip590)\" d=\"M 0 0 M145.274 1431.51 Q141.663 1431.51 139.834 1435.08 Q138.029 1438.62 138.029 1445.75 Q138.029 1452.86 139.834 1456.42 Q141.663 1459.96 145.274 1459.96 Q148.908 1459.96 150.714 1456.42 Q152.543 1452.86 152.543 1445.75 Q152.543 1438.62 150.714 1435.08 Q148.908 1431.51 145.274 1431.51 M145.274 1427.81 Q151.084 1427.81 154.14 1432.42 Q157.218 1437 157.218 1445.75 Q157.218 1454.48 154.14 1459.08 Q151.084 1463.67 145.274 1463.67 Q139.464 1463.67 136.385 1459.08 Q133.33 1454.48 133.33 1445.75 Q133.33 1437 136.385 1432.42 Q139.464 1427.81 145.274 1427.81 Z\" fill=\"#000000\" fill-rule=\"evenodd\" fill-opacity=\"1\" /><path clip-path=\"url(#clip590)\" d=\"M 0 0 M56.2699 1255.2 L63.9087 1255.2 L63.9087 1228.83 L55.5986 1230.5 L55.5986 1226.24 L63.8624 1224.57 L68.5383 1224.57 L68.5383 1255.2 L76.1772 1255.2 L76.1772 1259.13 L56.2699 1259.13 L56.2699 1255.2 Z\" fill=\"#000000\" fill-rule=\"evenodd\" fill-opacity=\"1\" /><path clip-path=\"url(#clip590)\" d=\"M 0 0 M91.2465 1227.65 Q87.6354 1227.65 85.8068 1231.21 Q84.0012 1234.76 84.0012 1241.89 Q84.0012 1248.99 85.8068 1252.56 Q87.6354 1256.1 91.2465 1256.1 Q94.8808 1256.1 96.6863 1252.56 Q98.515 1248.99 98.515 1241.89 Q98.515 1234.76 96.6863 1231.21 Q94.8808 1227.65 91.2465 1227.65 M91.2465 1223.95 Q97.0567 1223.95 100.112 1228.55 Q103.191 1233.14 103.191 1241.89 Q103.191 1250.61 100.112 1255.22 Q97.0567 1259.8 91.2465 1259.8 Q85.4364 1259.8 82.3577 1255.22 Q79.3022 1250.61 79.3022 1241.89 Q79.3022 1233.14 82.3577 1228.55 Q85.4364 1223.95 91.2465 1223.95 Z\" fill=\"#000000\" fill-rule=\"evenodd\" fill-opacity=\"1\" /><path clip-path=\"url(#clip590)\" d=\"M 0 0 M118.26 1227.65 Q114.649 1227.65 112.82 1231.21 Q111.015 1234.76 111.015 1241.89 Q111.015 1248.99 112.82 1252.56 Q114.649 1256.1 118.26 1256.1 Q121.895 1256.1 123.7 1252.56 Q125.529 1248.99 125.529 1241.89 Q125.529 1234.76 123.7 1231.21 Q121.895 1227.65 118.26 1227.65 M118.26 1223.95 Q124.07 1223.95 127.126 1228.55 Q130.205 1233.14 130.205 1241.89 Q130.205 1250.61 127.126 1255.22 Q124.07 1259.8 118.26 1259.8 Q112.45 1259.8 109.371 1255.22 Q106.316 1250.61 106.316 1241.89 Q106.316 1233.14 109.371 1228.55 Q112.45 1223.95 118.26 1223.95 Z\" fill=\"#000000\" fill-rule=\"evenodd\" fill-opacity=\"1\" /><path clip-path=\"url(#clip590)\" d=\"M 0 0 M145.274 1227.65 Q141.663 1227.65 139.834 1231.21 Q138.029 1234.76 138.029 1241.89 Q138.029 1248.99 139.834 1252.56 Q141.663 1256.1 145.274 1256.1 Q148.908 1256.1 150.714 1252.56 Q152.543 1248.99 152.543 1241.89 Q152.543 1234.76 150.714 1231.21 Q148.908 1227.65 145.274 1227.65 M145.274 1223.95 Q151.084 1223.95 154.14 1228.55 Q157.218 1233.14 157.218 1241.89 Q157.218 1250.61 154.14 1255.22 Q151.084 1259.8 145.274 1259.8 Q139.464 1259.8 136.385 1255.22 Q133.33 1250.61 133.33 1241.89 Q133.33 1233.14 136.385 1228.55 Q139.464 1223.95 145.274 1223.95 Z\" fill=\"#000000\" fill-rule=\"evenodd\" fill-opacity=\"1\" /><path clip-path=\"url(#clip590)\" d=\"M 0 0 M59.8578 1051.33 L76.1772 1051.33 L76.1772 1055.27 L54.2328 1055.27 L54.2328 1051.33 Q56.8949 1048.58 61.4782 1043.95 Q66.0846 1039.29 67.2652 1037.95 Q69.5105 1035.43 70.3902 1033.69 Q71.2929 1031.93 71.2929 1030.24 Q71.2929 1027.49 69.3485 1025.75 Q67.4272 1024.02 64.3254 1024.02 Q62.1263 1024.02 59.6726 1024.78 Q57.2421 1025.54 54.4643 1027.09 L54.4643 1022.37 Q57.2884 1021.24 59.7421 1020.66 Q62.1958 1020.08 64.2328 1020.08 Q69.6031 1020.08 72.7976 1022.77 Q75.992 1025.45 75.992 1029.94 Q75.992 1032.07 75.1818 1033.99 Q74.3948 1035.89 72.2883 1038.48 Q71.7096 1039.16 68.6078 1042.37 Q65.5059 1045.57 59.8578 1051.33 Z\" fill=\"#000000\" fill-rule=\"evenodd\" fill-opacity=\"1\" /><path clip-path=\"url(#clip590)\" d=\"M 0 0 M91.2465 1023.78 Q87.6354 1023.78 85.8068 1027.35 Q84.0012 1030.89 84.0012 1038.02 Q84.0012 1045.13 85.8068 1048.69 Q87.6354 1052.23 91.2465 1052.23 Q94.8808 1052.23 96.6863 1048.69 Q98.515 1045.13 98.515 1038.02 Q98.515 1030.89 96.6863 1027.35 Q94.8808 1023.78 91.2465 1023.78 M91.2465 1020.08 Q97.0567 1020.08 100.112 1024.69 Q103.191 1029.27 103.191 1038.02 Q103.191 1046.75 100.112 1051.35 Q97.0567 1055.94 91.2465 1055.94 Q85.4364 1055.94 82.3577 1051.35 Q79.3022 1046.75 79.3022 1038.02 Q79.3022 1029.27 82.3577 1024.69 Q85.4364 1020.08 91.2465 1020.08 Z\" fill=\"#000000\" fill-rule=\"evenodd\" fill-opacity=\"1\" /><path clip-path=\"url(#clip590)\" d=\"M 0 0 M118.26 1023.78 Q114.649 1023.78 112.82 1027.35 Q111.015 1030.89 111.015 1038.02 Q111.015 1045.13 112.82 1048.69 Q114.649 1052.23 118.26 1052.23 Q121.895 1052.23 123.7 1048.69 Q125.529 1045.13 125.529 1038.02 Q125.529 1030.89 123.7 1027.35 Q121.895 1023.78 118.26 1023.78 M118.26 1020.08 Q124.07 1020.08 127.126 1024.69 Q130.205 1029.27 130.205 1038.02 Q130.205 1046.75 127.126 1051.35 Q124.07 1055.94 118.26 1055.94 Q112.45 1055.94 109.371 1051.35 Q106.316 1046.75 106.316 1038.02 Q106.316 1029.27 109.371 1024.69 Q112.45 1020.08 118.26 1020.08 Z\" fill=\"#000000\" fill-rule=\"evenodd\" fill-opacity=\"1\" /><path clip-path=\"url(#clip590)\" d=\"M 0 0 M145.274 1023.78 Q141.663 1023.78 139.834 1027.35 Q138.029 1030.89 138.029 1038.02 Q138.029 1045.13 139.834 1048.69 Q141.663 1052.23 145.274 1052.23 Q148.908 1052.23 150.714 1048.69 Q152.543 1045.13 152.543 1038.02 Q152.543 1030.89 150.714 1027.35 Q148.908 1023.78 145.274 1023.78 M145.274 1020.08 Q151.084 1020.08 154.14 1024.69 Q157.218 1029.27 157.218 1038.02 Q157.218 1046.75 154.14 1051.35 Q151.084 1055.94 145.274 1055.94 Q139.464 1055.94 136.385 1051.35 Q133.33 1046.75 133.33 1038.02 Q133.33 1029.27 136.385 1024.69 Q139.464 1020.08 145.274 1020.08 Z\" fill=\"#000000\" fill-rule=\"evenodd\" fill-opacity=\"1\" /><path clip-path=\"url(#clip590)\" d=\"M 0 0 M69.0476 832.767 Q72.404 833.485 74.279 835.753 Q76.1772 838.022 76.1772 841.355 Q76.1772 846.471 72.6587 849.272 Q69.1402 852.073 62.6587 852.073 Q60.4828 852.073 58.168 851.633 Q55.8764 851.216 53.4227 850.36 L53.4227 845.846 Q55.3671 846.98 57.6819 847.559 Q59.9967 848.137 62.5198 848.137 Q66.918 848.137 69.2096 846.401 Q71.5244 844.665 71.5244 841.355 Q71.5244 838.3 69.3717 836.587 Q67.242 834.851 63.4226 834.851 L59.3949 834.851 L59.3949 831.008 L63.6078 831.008 Q67.0569 831.008 68.8855 829.642 Q70.7142 828.253 70.7142 825.661 Q70.7142 822.999 68.8161 821.587 Q66.9411 820.152 63.4226 820.152 Q61.5013 820.152 59.3023 820.568 Q57.1032 820.985 54.4643 821.864 L54.4643 817.698 Q57.1264 816.957 59.4412 816.587 Q61.7791 816.216 63.8393 816.216 Q69.1633 816.216 72.2652 818.647 Q75.367 821.054 75.367 825.175 Q75.367 828.045 73.7235 830.036 Q72.08 832.003 69.0476 832.767 Z\" fill=\"#000000\" fill-rule=\"evenodd\" fill-opacity=\"1\" /><path clip-path=\"url(#clip590)\" d=\"M 0 0 M91.2465 819.92 Q87.6354 819.92 85.8068 823.485 Q84.0012 827.026 84.0012 834.156 Q84.0012 841.263 85.8068 844.827 Q87.6354 848.369 91.2465 848.369 Q94.8808 848.369 96.6863 844.827 Q98.515 841.263 98.515 834.156 Q98.515 827.026 96.6863 823.485 Q94.8808 819.92 91.2465 819.92 M91.2465 816.216 Q97.0567 816.216 100.112 820.823 Q103.191 825.406 103.191 834.156 Q103.191 842.883 100.112 847.489 Q97.0567 852.073 91.2465 852.073 Q85.4364 852.073 82.3577 847.489 Q79.3022 842.883 79.3022 834.156 Q79.3022 825.406 82.3577 820.823 Q85.4364 816.216 91.2465 816.216 Z\" fill=\"#000000\" fill-rule=\"evenodd\" fill-opacity=\"1\" /><path clip-path=\"url(#clip590)\" d=\"M 0 0 M118.26 819.92 Q114.649 819.92 112.82 823.485 Q111.015 827.026 111.015 834.156 Q111.015 841.263 112.82 844.827 Q114.649 848.369 118.26 848.369 Q121.895 848.369 123.7 844.827 Q125.529 841.263 125.529 834.156 Q125.529 827.026 123.7 823.485 Q121.895 819.92 118.26 819.92 M118.26 816.216 Q124.07 816.216 127.126 820.823 Q130.205 825.406 130.205 834.156 Q130.205 842.883 127.126 847.489 Q124.07 852.073 118.26 852.073 Q112.45 852.073 109.371 847.489 Q106.316 842.883 106.316 834.156 Q106.316 825.406 109.371 820.823 Q112.45 816.216 118.26 816.216 Z\" fill=\"#000000\" fill-rule=\"evenodd\" fill-opacity=\"1\" /><path clip-path=\"url(#clip590)\" d=\"M 0 0 M145.274 819.92 Q141.663 819.92 139.834 823.485 Q138.029 827.026 138.029 834.156 Q138.029 841.263 139.834 844.827 Q141.663 848.369 145.274 848.369 Q148.908 848.369 150.714 844.827 Q152.543 841.263 152.543 834.156 Q152.543 827.026 150.714 823.485 Q148.908 819.92 145.274 819.92 M145.274 816.216 Q151.084 816.216 154.14 820.823 Q157.218 825.406 157.218 834.156 Q157.218 842.883 154.14 847.489 Q151.084 852.073 145.274 852.073 Q139.464 852.073 136.385 847.489 Q133.33 842.883 133.33 834.156 Q133.33 825.406 136.385 820.823 Q139.464 816.216 145.274 816.216 Z\" fill=\"#000000\" fill-rule=\"evenodd\" fill-opacity=\"1\" /><path clip-path=\"url(#clip590)\" d=\"M 0 0 M66.5939 617.051 L54.7884 635.5 L66.5939 635.5 L66.5939 617.051 M65.367 612.977 L71.2466 612.977 L71.2466 635.5 L76.1772 635.5 L76.1772 639.388 L71.2466 639.388 L71.2466 647.537 L66.5939 647.537 L66.5939 639.388 L50.9921 639.388 L50.9921 634.875 L65.367 612.977 Z\" fill=\"#000000\" fill-rule=\"evenodd\" fill-opacity=\"1\" /><path clip-path=\"url(#clip590)\" d=\"M 0 0 M91.2465 616.055 Q87.6354 616.055 85.8068 619.62 Q84.0012 623.162 84.0012 630.291 Q84.0012 637.398 85.8068 640.963 Q87.6354 644.504 91.2465 644.504 Q94.8808 644.504 96.6863 640.963 Q98.515 637.398 98.515 630.291 Q98.515 623.162 96.6863 619.62 Q94.8808 616.055 91.2465 616.055 M91.2465 612.352 Q97.0567 612.352 100.112 616.958 Q103.191 621.541 103.191 630.291 Q103.191 639.018 100.112 643.625 Q97.0567 648.208 91.2465 648.208 Q85.4364 648.208 82.3577 643.625 Q79.3022 639.018 79.3022 630.291 Q79.3022 621.541 82.3577 616.958 Q85.4364 612.352 91.2465 612.352 Z\" fill=\"#000000\" fill-rule=\"evenodd\" fill-opacity=\"1\" /><path clip-path=\"url(#clip590)\" d=\"M 0 0 M118.26 616.055 Q114.649 616.055 112.82 619.62 Q111.015 623.162 111.015 630.291 Q111.015 637.398 112.82 640.963 Q114.649 644.504 118.26 644.504 Q121.895 644.504 123.7 640.963 Q125.529 637.398 125.529 630.291 Q125.529 623.162 123.7 619.62 Q121.895 616.055 118.26 616.055 M118.26 612.352 Q124.07 612.352 127.126 616.958 Q130.205 621.541 130.205 630.291 Q130.205 639.018 127.126 643.625 Q124.07 648.208 118.26 648.208 Q112.45 648.208 109.371 643.625 Q106.316 639.018 106.316 630.291 Q106.316 621.541 109.371 616.958 Q112.45 612.352 118.26 612.352 Z\" fill=\"#000000\" fill-rule=\"evenodd\" fill-opacity=\"1\" /><path clip-path=\"url(#clip590)\" d=\"M 0 0 M145.274 616.055 Q141.663 616.055 139.834 619.62 Q138.029 623.162 138.029 630.291 Q138.029 637.398 139.834 640.963 Q141.663 644.504 145.274 644.504 Q148.908 644.504 150.714 640.963 Q152.543 637.398 152.543 630.291 Q152.543 623.162 150.714 619.62 Q148.908 616.055 145.274 616.055 M145.274 612.352 Q151.084 612.352 154.14 616.958 Q157.218 621.541 157.218 630.291 Q157.218 639.018 154.14 643.625 Q151.084 648.208 145.274 648.208 Q139.464 648.208 136.385 643.625 Q133.33 639.018 133.33 630.291 Q133.33 621.541 136.385 616.958 Q139.464 612.352 145.274 612.352 Z\" fill=\"#000000\" fill-rule=\"evenodd\" fill-opacity=\"1\" /><path clip-path=\"url(#clip590)\" d=\"M 0 0 M55.2745 409.112 L73.6309 409.112 L73.6309 413.047 L59.5569 413.047 L59.5569 421.519 Q60.5754 421.172 61.5939 421.01 Q62.6124 420.825 63.6309 420.825 Q69.418 420.825 72.7976 423.996 Q76.1772 427.167 76.1772 432.584 Q76.1772 438.163 72.705 441.264 Q69.2328 444.343 62.9134 444.343 Q60.7374 444.343 58.4689 443.973 Q56.2236 443.602 53.8162 442.862 L53.8162 438.163 Q55.8995 439.297 58.1217 439.852 Q60.3439 440.408 62.8208 440.408 Q66.8254 440.408 69.1633 438.301 Q71.5013 436.195 71.5013 432.584 Q71.5013 428.973 69.1633 426.866 Q66.8254 424.76 62.8208 424.76 Q60.9458 424.76 59.0708 425.177 Q57.2189 425.593 55.2745 426.473 L55.2745 409.112 Z\" fill=\"#000000\" fill-rule=\"evenodd\" fill-opacity=\"1\" /><path clip-path=\"url(#clip590)\" d=\"M 0 0 M91.2465 412.19 Q87.6354 412.19 85.8068 415.755 Q84.0012 419.297 84.0012 426.427 Q84.0012 433.533 85.8068 437.098 Q87.6354 440.639 91.2465 440.639 Q94.8808 440.639 96.6863 437.098 Q98.515 433.533 98.515 426.427 Q98.515 419.297 96.6863 415.755 Q94.8808 412.19 91.2465 412.19 M91.2465 408.487 Q97.0567 408.487 100.112 413.093 Q103.191 417.677 103.191 426.427 Q103.191 435.153 100.112 439.76 Q97.0567 444.343 91.2465 444.343 Q85.4364 444.343 82.3577 439.76 Q79.3022 435.153 79.3022 426.427 Q79.3022 417.677 82.3577 413.093 Q85.4364 408.487 91.2465 408.487 Z\" fill=\"#000000\" fill-rule=\"evenodd\" fill-opacity=\"1\" /><path clip-path=\"url(#clip590)\" d=\"M 0 0 M118.26 412.19 Q114.649 412.19 112.82 415.755 Q111.015 419.297 111.015 426.427 Q111.015 433.533 112.82 437.098 Q114.649 440.639 118.26 440.639 Q121.895 440.639 123.7 437.098 Q125.529 433.533 125.529 426.427 Q125.529 419.297 123.7 415.755 Q121.895 412.19 118.26 412.19 M118.26 408.487 Q124.07 408.487 127.126 413.093 Q130.205 417.677 130.205 426.427 Q130.205 435.153 127.126 439.76 Q124.07 444.343 118.26 444.343 Q112.45 444.343 109.371 439.76 Q106.316 435.153 106.316 426.427 Q106.316 417.677 109.371 413.093 Q112.45 408.487 118.26 408.487 Z\" fill=\"#000000\" fill-rule=\"evenodd\" fill-opacity=\"1\" /><path clip-path=\"url(#clip590)\" d=\"M 0 0 M145.274 412.19 Q141.663 412.19 139.834 415.755 Q138.029 419.297 138.029 426.427 Q138.029 433.533 139.834 437.098 Q141.663 440.639 145.274 440.639 Q148.908 440.639 150.714 437.098 Q152.543 433.533 152.543 426.427 Q152.543 419.297 150.714 415.755 Q148.908 412.19 145.274 412.19 M145.274 408.487 Q151.084 408.487 154.14 413.093 Q157.218 417.677 157.218 426.427 Q157.218 435.153 154.14 439.76 Q151.084 444.343 145.274 444.343 Q139.464 444.343 136.385 439.76 Q133.33 435.153 133.33 426.427 Q133.33 417.677 136.385 413.093 Q139.464 408.487 145.274 408.487 Z\" fill=\"#000000\" fill-rule=\"evenodd\" fill-opacity=\"1\" /><path clip-path=\"url(#clip590)\" d=\"M 0 0 M64.6495 220.664 Q61.5013 220.664 59.6495 222.816 Q57.8208 224.969 57.8208 228.719 Q57.8208 232.446 59.6495 234.622 Q61.5013 236.775 64.6495 236.775 Q67.7976 236.775 69.6263 234.622 Q71.4781 232.446 71.4781 228.719 Q71.4781 224.969 69.6263 222.816 Q67.7976 220.664 64.6495 220.664 M73.9318 206.011 L73.9318 210.27 Q72.1726 209.437 70.367 208.997 Q68.5846 208.557 66.8254 208.557 Q62.1958 208.557 59.7421 211.682 Q57.3115 214.807 56.9643 221.127 Q58.33 219.113 60.3902 218.048 Q62.4504 216.96 64.9272 216.96 Q70.1355 216.96 73.1448 220.131 Q76.1772 223.279 76.1772 228.719 Q76.1772 234.043 73.029 237.261 Q69.8809 240.478 64.6495 240.478 Q58.6541 240.478 55.4828 235.895 Q52.3116 231.289 52.3116 222.562 Q52.3116 214.367 56.2004 209.506 Q60.0893 204.622 66.6402 204.622 Q68.3994 204.622 70.1818 204.969 Q71.9874 205.316 73.9318 206.011 Z\" fill=\"#000000\" fill-rule=\"evenodd\" fill-opacity=\"1\" /><path clip-path=\"url(#clip590)\" d=\"M 0 0 M91.2465 208.326 Q87.6354 208.326 85.8068 211.891 Q84.0012 215.432 84.0012 222.562 Q84.0012 229.668 85.8068 233.233 Q87.6354 236.775 91.2465 236.775 Q94.8808 236.775 96.6863 233.233 Q98.515 229.668 98.515 222.562 Q98.515 215.432 96.6863 211.891 Q94.8808 208.326 91.2465 208.326 M91.2465 204.622 Q97.0567 204.622 100.112 209.228 Q103.191 213.812 103.191 222.562 Q103.191 231.289 100.112 235.895 Q97.0567 240.478 91.2465 240.478 Q85.4364 240.478 82.3577 235.895 Q79.3022 231.289 79.3022 222.562 Q79.3022 213.812 82.3577 209.228 Q85.4364 204.622 91.2465 204.622 Z\" fill=\"#000000\" fill-rule=\"evenodd\" fill-opacity=\"1\" /><path clip-path=\"url(#clip590)\" d=\"M 0 0 M118.26 208.326 Q114.649 208.326 112.82 211.891 Q111.015 215.432 111.015 222.562 Q111.015 229.668 112.82 233.233 Q114.649 236.775 118.26 236.775 Q121.895 236.775 123.7 233.233 Q125.529 229.668 125.529 222.562 Q125.529 215.432 123.7 211.891 Q121.895 208.326 118.26 208.326 M118.26 204.622 Q124.07 204.622 127.126 209.228 Q130.205 213.812 130.205 222.562 Q130.205 231.289 127.126 235.895 Q124.07 240.478 118.26 240.478 Q112.45 240.478 109.371 235.895 Q106.316 231.289 106.316 222.562 Q106.316 213.812 109.371 209.228 Q112.45 204.622 118.26 204.622 Z\" fill=\"#000000\" fill-rule=\"evenodd\" fill-opacity=\"1\" /><path clip-path=\"url(#clip590)\" d=\"M 0 0 M145.274 208.326 Q141.663 208.326 139.834 211.891 Q138.029 215.432 138.029 222.562 Q138.029 229.668 139.834 233.233 Q141.663 236.775 145.274 236.775 Q148.908 236.775 150.714 233.233 Q152.543 229.668 152.543 222.562 Q152.543 215.432 150.714 211.891 Q148.908 208.326 145.274 208.326 M145.274 204.622 Q151.084 204.622 154.14 209.228 Q157.218 213.812 157.218 222.562 Q157.218 231.289 154.14 235.895 Q151.084 240.478 145.274 240.478 Q139.464 240.478 136.385 235.895 Q133.33 231.289 133.33 222.562 Q133.33 213.812 136.385 209.228 Q139.464 204.622 145.274 204.622 Z\" fill=\"#000000\" fill-rule=\"evenodd\" fill-opacity=\"1\" /><path clip-path=\"url(#clip592)\" d=\"\n",
       "M311.997 764.807 L311.997 1445.72 L486.722 1445.72 L486.722 764.807 L311.997 764.807 L311.997 764.807  Z\n",
       "  \" fill=\"#009af9\" fill-rule=\"evenodd\" fill-opacity=\"1\"/>\n",
       "<polyline clip-path=\"url(#clip592)\" style=\"stroke:#000000; stroke-width:4; stroke-opacity:1; fill:none\" points=\"\n",
       "  311.997,764.807 311.997,1445.72 486.722,1445.72 486.722,764.807 311.997,764.807 \n",
       "  \"/>\n",
       "<path clip-path=\"url(#clip592)\" d=\"\n",
       "M486.722 1445.72 L486.722 1445.72 L661.448 1445.72 L661.448 1445.72 L486.722 1445.72 L486.722 1445.72  Z\n",
       "  \" fill=\"#009af9\" fill-rule=\"evenodd\" fill-opacity=\"1\"/>\n",
       "<polyline clip-path=\"url(#clip592)\" style=\"stroke:#000000; stroke-width:4; stroke-opacity:1; fill:none\" points=\"\n",
       "  486.722,1445.72 486.722,1445.72 661.448,1445.72 486.722,1445.72 \n",
       "  \"/>\n",
       "<path clip-path=\"url(#clip592)\" d=\"\n",
       "M661.448 1445.72 L661.448 1445.72 L836.173 1445.72 L836.173 1445.72 L661.448 1445.72 L661.448 1445.72  Z\n",
       "  \" fill=\"#009af9\" fill-rule=\"evenodd\" fill-opacity=\"1\"/>\n",
       "<polyline clip-path=\"url(#clip592)\" style=\"stroke:#000000; stroke-width:4; stroke-opacity:1; fill:none\" points=\"\n",
       "  661.448,1445.72 661.448,1445.72 836.173,1445.72 661.448,1445.72 \n",
       "  \"/>\n",
       "<path clip-path=\"url(#clip592)\" d=\"\n",
       "M836.173 1445.72 L836.173 1445.72 L1010.9 1445.72 L1010.9 1445.72 L836.173 1445.72 L836.173 1445.72  Z\n",
       "  \" fill=\"#009af9\" fill-rule=\"evenodd\" fill-opacity=\"1\"/>\n",
       "<polyline clip-path=\"url(#clip592)\" style=\"stroke:#000000; stroke-width:4; stroke-opacity:1; fill:none\" points=\"\n",
       "  836.173,1445.72 836.173,1445.72 1010.9,1445.72 836.173,1445.72 \n",
       "  \"/>\n",
       "<path clip-path=\"url(#clip592)\" d=\"\n",
       "M1010.9 1445.72 L1010.9 1445.72 L1185.62 1445.72 L1185.62 1445.72 L1010.9 1445.72 L1010.9 1445.72  Z\n",
       "  \" fill=\"#009af9\" fill-rule=\"evenodd\" fill-opacity=\"1\"/>\n",
       "<polyline clip-path=\"url(#clip592)\" style=\"stroke:#000000; stroke-width:4; stroke-opacity:1; fill:none\" points=\"\n",
       "  1010.9,1445.72 1010.9,1445.72 1185.62,1445.72 1010.9,1445.72 \n",
       "  \"/>\n",
       "<path clip-path=\"url(#clip592)\" d=\"\n",
       "M1185.62 1445.72 L1185.62 1445.72 L1360.35 1445.72 L1360.35 1445.72 L1185.62 1445.72 L1185.62 1445.72  Z\n",
       "  \" fill=\"#009af9\" fill-rule=\"evenodd\" fill-opacity=\"1\"/>\n",
       "<polyline clip-path=\"url(#clip592)\" style=\"stroke:#000000; stroke-width:4; stroke-opacity:1; fill:none\" points=\"\n",
       "  1185.62,1445.72 1185.62,1445.72 1360.35,1445.72 1185.62,1445.72 \n",
       "  \"/>\n",
       "<path clip-path=\"url(#clip592)\" d=\"\n",
       "M1360.35 1445.72 L1360.35 1445.72 L1535.08 1445.72 L1535.08 1445.72 L1360.35 1445.72 L1360.35 1445.72  Z\n",
       "  \" fill=\"#009af9\" fill-rule=\"evenodd\" fill-opacity=\"1\"/>\n",
       "<polyline clip-path=\"url(#clip592)\" style=\"stroke:#000000; stroke-width:4; stroke-opacity:1; fill:none\" points=\"\n",
       "  1360.35,1445.72 1360.35,1445.72 1535.08,1445.72 1360.35,1445.72 \n",
       "  \"/>\n",
       "<path clip-path=\"url(#clip592)\" d=\"\n",
       "M1535.08 1445.72 L1535.08 1445.72 L1709.8 1445.72 L1709.8 1445.72 L1535.08 1445.72 L1535.08 1445.72  Z\n",
       "  \" fill=\"#009af9\" fill-rule=\"evenodd\" fill-opacity=\"1\"/>\n",
       "<polyline clip-path=\"url(#clip592)\" style=\"stroke:#000000; stroke-width:4; stroke-opacity:1; fill:none\" points=\"\n",
       "  1535.08,1445.72 1535.08,1445.72 1709.8,1445.72 1535.08,1445.72 \n",
       "  \"/>\n",
       "<path clip-path=\"url(#clip592)\" d=\"\n",
       "M1709.8 1445.72 L1709.8 1445.72 L1884.53 1445.72 L1884.53 1445.72 L1709.8 1445.72 L1709.8 1445.72  Z\n",
       "  \" fill=\"#009af9\" fill-rule=\"evenodd\" fill-opacity=\"1\"/>\n",
       "<polyline clip-path=\"url(#clip592)\" style=\"stroke:#000000; stroke-width:4; stroke-opacity:1; fill:none\" points=\"\n",
       "  1709.8,1445.72 1709.8,1445.72 1884.53,1445.72 1709.8,1445.72 \n",
       "  \"/>\n",
       "<path clip-path=\"url(#clip592)\" d=\"\n",
       "M1884.53 1445.72 L1884.53 1445.72 L2059.25 1445.72 L2059.25 1445.72 L1884.53 1445.72 L1884.53 1445.72  Z\n",
       "  \" fill=\"#009af9\" fill-rule=\"evenodd\" fill-opacity=\"1\"/>\n",
       "<polyline clip-path=\"url(#clip592)\" style=\"stroke:#000000; stroke-width:4; stroke-opacity:1; fill:none\" points=\"\n",
       "  1884.53,1445.72 1884.53,1445.72 2059.25,1445.72 1884.53,1445.72 \n",
       "  \"/>\n",
       "<path clip-path=\"url(#clip592)\" d=\"\n",
       "M2059.25 87.9763 L2059.25 1445.72 L2233.98 1445.72 L2233.98 87.9763 L2059.25 87.9763 L2059.25 87.9763  Z\n",
       "  \" fill=\"#009af9\" fill-rule=\"evenodd\" fill-opacity=\"1\"/>\n",
       "<polyline clip-path=\"url(#clip592)\" style=\"stroke:#000000; stroke-width:4; stroke-opacity:1; fill:none\" points=\"\n",
       "  2059.25,87.9763 2059.25,1445.72 2233.98,1445.72 2233.98,87.9763 2059.25,87.9763 \n",
       "  \"/>\n",
       "<path clip-path=\"url(#clip590)\" d=\"\n",
       "M1989.8 216.178 L2280.77 216.178 L2280.77 95.2176 L1989.8 95.2176  Z\n",
       "  \" fill=\"#ffffff\" fill-rule=\"evenodd\" fill-opacity=\"1\"/>\n",
       "<polyline clip-path=\"url(#clip590)\" style=\"stroke:#000000; stroke-width:4; stroke-opacity:1; fill:none\" points=\"\n",
       "  1989.8,216.178 2280.77,216.178 2280.77,95.2176 1989.8,95.2176 1989.8,216.178 \n",
       "  \"/>\n",
       "<path clip-path=\"url(#clip590)\" d=\"\n",
       "M2013.8 179.89 L2157.77 179.89 L2157.77 131.506 L2013.8 131.506 L2013.8 179.89  Z\n",
       "  \" fill=\"#009af9\" fill-rule=\"evenodd\" fill-opacity=\"1\"/>\n",
       "<polyline clip-path=\"url(#clip590)\" style=\"stroke:#000000; stroke-width:4; stroke-opacity:1; fill:none\" points=\"\n",
       "  2013.8,179.89 2157.77,179.89 2157.77,131.506 2013.8,131.506 2013.8,179.89 \n",
       "  \"/>\n",
       "<path clip-path=\"url(#clip590)\" d=\"M 0 0 M2195.61 175.385 Q2193.8 180.015 2192.09 181.427 Q2190.37 182.839 2187.5 182.839 L2184.1 182.839 L2184.1 179.274 L2186.6 179.274 Q2188.36 179.274 2189.33 178.44 Q2190.3 177.607 2191.49 174.505 L2192.25 172.561 L2181.76 147.052 L2186.28 147.052 L2194.38 167.329 L2202.48 147.052 L2206.99 147.052 L2195.61 175.385 Z\" fill=\"#000000\" fill-rule=\"evenodd\" fill-opacity=\"1\" /><path clip-path=\"url(#clip590)\" d=\"M 0 0 M2212.87 169.042 L2220.51 169.042 L2220.51 142.677 L2212.2 144.343 L2212.2 140.084 L2220.47 138.418 L2225.14 138.418 L2225.14 169.042 L2232.78 169.042 L2232.78 172.978 L2212.87 172.978 L2212.87 169.042 Z\" fill=\"#000000\" fill-rule=\"evenodd\" fill-opacity=\"1\" /></svg>\n"
      ]
     },
     "execution_count": 16,
     "metadata": {},
     "output_type": "execute_result"
    }
   ],
   "source": [
    "m = agent(QUEEN, true)\n",
    "chains = sample(m, IS(), 10000 , n_chains=1, progress = true)\n",
    "histogram(generated_quantities(m, chains))"
   ]
  },
  {
   "cell_type": "code",
   "execution_count": 17,
   "metadata": {},
   "outputs": [
    {
     "data": {
      "image/svg+xml": [
       "<?xml version=\"1.0\" encoding=\"utf-8\"?>\n",
       "<svg xmlns=\"http://www.w3.org/2000/svg\" xmlns:xlink=\"http://www.w3.org/1999/xlink\" width=\"600\" height=\"400\" viewBox=\"0 0 2400 1600\">\n",
       "<defs>\n",
       "  <clipPath id=\"clip630\">\n",
       "    <rect x=\"0\" y=\"0\" width=\"2400\" height=\"1600\"/>\n",
       "  </clipPath>\n",
       "</defs>\n",
       "<path clip-path=\"url(#clip630)\" d=\"\n",
       "M0 1600 L2400 1600 L2400 0 L0 0  Z\n",
       "  \" fill=\"#ffffff\" fill-rule=\"evenodd\" fill-opacity=\"1\"/>\n",
       "<defs>\n",
       "  <clipPath id=\"clip631\">\n",
       "    <rect x=\"480\" y=\"0\" width=\"1681\" height=\"1600\"/>\n",
       "  </clipPath>\n",
       "</defs>\n",
       "<path clip-path=\"url(#clip630)\" d=\"\n",
       "M188.612 1486.45 L2352.76 1486.45 L2352.76 47.2441 L188.612 47.2441  Z\n",
       "  \" fill=\"#ffffff\" fill-rule=\"evenodd\" fill-opacity=\"1\"/>\n",
       "<defs>\n",
       "  <clipPath id=\"clip632\">\n",
       "    <rect x=\"188\" y=\"47\" width=\"2165\" height=\"1440\"/>\n",
       "  </clipPath>\n",
       "</defs>\n",
       "<polyline clip-path=\"url(#clip632)\" style=\"stroke:#000000; stroke-width:2; stroke-opacity:0.1; fill:none\" points=\"\n",
       "  307.644,1486.45 307.644,47.2441 \n",
       "  \"/>\n",
       "<polyline clip-path=\"url(#clip632)\" style=\"stroke:#000000; stroke-width:2; stroke-opacity:0.1; fill:none\" points=\"\n",
       "  692.86,1486.45 692.86,47.2441 \n",
       "  \"/>\n",
       "<polyline clip-path=\"url(#clip632)\" style=\"stroke:#000000; stroke-width:2; stroke-opacity:0.1; fill:none\" points=\"\n",
       "  1078.08,1486.45 1078.08,47.2441 \n",
       "  \"/>\n",
       "<polyline clip-path=\"url(#clip632)\" style=\"stroke:#000000; stroke-width:2; stroke-opacity:0.1; fill:none\" points=\"\n",
       "  1463.29,1486.45 1463.29,47.2441 \n",
       "  \"/>\n",
       "<polyline clip-path=\"url(#clip632)\" style=\"stroke:#000000; stroke-width:2; stroke-opacity:0.1; fill:none\" points=\"\n",
       "  1848.51,1486.45 1848.51,47.2441 \n",
       "  \"/>\n",
       "<polyline clip-path=\"url(#clip632)\" style=\"stroke:#000000; stroke-width:2; stroke-opacity:0.1; fill:none\" points=\"\n",
       "  2233.72,1486.45 2233.72,47.2441 \n",
       "  \"/>\n",
       "<polyline clip-path=\"url(#clip630)\" style=\"stroke:#000000; stroke-width:4; stroke-opacity:1; fill:none\" points=\"\n",
       "  188.612,1486.45 2352.76,1486.45 \n",
       "  \"/>\n",
       "<polyline clip-path=\"url(#clip630)\" style=\"stroke:#000000; stroke-width:4; stroke-opacity:1; fill:none\" points=\"\n",
       "  307.644,1486.45 307.644,1469.18 \n",
       "  \"/>\n",
       "<polyline clip-path=\"url(#clip630)\" style=\"stroke:#000000; stroke-width:4; stroke-opacity:1; fill:none\" points=\"\n",
       "  692.86,1486.45 692.86,1469.18 \n",
       "  \"/>\n",
       "<polyline clip-path=\"url(#clip630)\" style=\"stroke:#000000; stroke-width:4; stroke-opacity:1; fill:none\" points=\"\n",
       "  1078.08,1486.45 1078.08,1469.18 \n",
       "  \"/>\n",
       "<polyline clip-path=\"url(#clip630)\" style=\"stroke:#000000; stroke-width:4; stroke-opacity:1; fill:none\" points=\"\n",
       "  1463.29,1486.45 1463.29,1469.18 \n",
       "  \"/>\n",
       "<polyline clip-path=\"url(#clip630)\" style=\"stroke:#000000; stroke-width:4; stroke-opacity:1; fill:none\" points=\"\n",
       "  1848.51,1486.45 1848.51,1469.18 \n",
       "  \"/>\n",
       "<polyline clip-path=\"url(#clip630)\" style=\"stroke:#000000; stroke-width:4; stroke-opacity:1; fill:none\" points=\"\n",
       "  2233.72,1486.45 2233.72,1469.18 \n",
       "  \"/>\n",
       "<path clip-path=\"url(#clip630)\" d=\"M 0 0 M279.542 1543.18 L287.181 1543.18 L287.181 1516.82 L278.871 1518.49 L278.871 1514.23 L287.135 1512.56 L291.81 1512.56 L291.81 1543.18 L299.449 1543.18 L299.449 1547.12 L279.542 1547.12 L279.542 1543.18 Z\" fill=\"#000000\" fill-rule=\"evenodd\" fill-opacity=\"1\" /><path clip-path=\"url(#clip630)\" d=\"M 0 0 M304.519 1541.24 L309.403 1541.24 L309.403 1547.12 L304.519 1547.12 L304.519 1541.24 Z\" fill=\"#000000\" fill-rule=\"evenodd\" fill-opacity=\"1\" /><path clip-path=\"url(#clip630)\" d=\"M 0 0 M324.472 1515.64 Q320.861 1515.64 319.033 1519.2 Q317.227 1522.75 317.227 1529.87 Q317.227 1536.98 319.033 1540.55 Q320.861 1544.09 324.472 1544.09 Q328.107 1544.09 329.912 1540.55 Q331.741 1536.98 331.741 1529.87 Q331.741 1522.75 329.912 1519.2 Q328.107 1515.64 324.472 1515.64 M324.472 1511.93 Q330.282 1511.93 333.338 1516.54 Q336.417 1521.12 336.417 1529.87 Q336.417 1538.6 333.338 1543.21 Q330.282 1547.79 324.472 1547.79 Q318.662 1547.79 315.583 1543.21 Q312.528 1538.6 312.528 1529.87 Q312.528 1521.12 315.583 1516.54 Q318.662 1511.93 324.472 1511.93 Z\" fill=\"#000000\" fill-rule=\"evenodd\" fill-opacity=\"1\" /><path clip-path=\"url(#clip630)\" d=\"M 0 0 M665.557 1543.18 L673.196 1543.18 L673.196 1516.82 L664.885 1518.49 L664.885 1514.23 L673.149 1512.56 L677.825 1512.56 L677.825 1543.18 L685.464 1543.18 L685.464 1547.12 L665.557 1547.12 L665.557 1543.18 Z\" fill=\"#000000\" fill-rule=\"evenodd\" fill-opacity=\"1\" /><path clip-path=\"url(#clip630)\" d=\"M 0 0 M690.533 1541.24 L695.418 1541.24 L695.418 1547.12 L690.533 1547.12 L690.533 1541.24 Z\" fill=\"#000000\" fill-rule=\"evenodd\" fill-opacity=\"1\" /><path clip-path=\"url(#clip630)\" d=\"M 0 0 M704.515 1543.18 L720.834 1543.18 L720.834 1547.12 L698.89 1547.12 L698.89 1543.18 Q701.552 1540.43 706.135 1535.8 Q710.742 1531.15 711.922 1529.81 Q714.168 1527.28 715.047 1525.55 Q715.95 1523.79 715.95 1522.1 Q715.95 1519.34 714.006 1517.61 Q712.084 1515.87 708.982 1515.87 Q706.783 1515.87 704.33 1516.63 Q701.899 1517.4 699.121 1518.95 L699.121 1514.23 Q701.945 1513.09 704.399 1512.51 Q706.853 1511.93 708.89 1511.93 Q714.26 1511.93 717.455 1514.62 Q720.649 1517.31 720.649 1521.8 Q720.649 1523.93 719.839 1525.85 Q719.052 1527.74 716.945 1530.34 Q716.367 1531.01 713.265 1534.23 Q710.163 1537.42 704.515 1543.18 Z\" fill=\"#000000\" fill-rule=\"evenodd\" fill-opacity=\"1\" /><path clip-path=\"url(#clip630)\" d=\"M 0 0 M1049.73 1543.18 L1057.37 1543.18 L1057.37 1516.82 L1049.06 1518.49 L1049.06 1514.23 L1057.32 1512.56 L1062 1512.56 L1062 1543.18 L1069.64 1543.18 L1069.64 1547.12 L1049.73 1547.12 L1049.73 1543.18 Z\" fill=\"#000000\" fill-rule=\"evenodd\" fill-opacity=\"1\" /><path clip-path=\"url(#clip630)\" d=\"M 0 0 M1074.71 1541.24 L1079.59 1541.24 L1079.59 1547.12 L1074.71 1547.12 L1074.71 1541.24 Z\" fill=\"#000000\" fill-rule=\"evenodd\" fill-opacity=\"1\" /><path clip-path=\"url(#clip630)\" d=\"M 0 0 M1097.51 1516.63 L1085.7 1535.08 L1097.51 1535.08 L1097.51 1516.63 M1096.28 1512.56 L1102.16 1512.56 L1102.16 1535.08 L1107.09 1535.08 L1107.09 1538.97 L1102.16 1538.97 L1102.16 1547.12 L1097.51 1547.12 L1097.51 1538.97 L1081.91 1538.97 L1081.91 1534.46 L1096.28 1512.56 Z\" fill=\"#000000\" fill-rule=\"evenodd\" fill-opacity=\"1\" /><path clip-path=\"url(#clip630)\" d=\"M 0 0 M1435.11 1543.18 L1442.75 1543.18 L1442.75 1516.82 L1434.44 1518.49 L1434.44 1514.23 L1442.7 1512.56 L1447.38 1512.56 L1447.38 1543.18 L1455.02 1543.18 L1455.02 1547.12 L1435.11 1547.12 L1435.11 1543.18 Z\" fill=\"#000000\" fill-rule=\"evenodd\" fill-opacity=\"1\" /><path clip-path=\"url(#clip630)\" d=\"M 0 0 M1460.09 1541.24 L1464.97 1541.24 L1464.97 1547.12 L1460.09 1547.12 L1460.09 1541.24 Z\" fill=\"#000000\" fill-rule=\"evenodd\" fill-opacity=\"1\" /><path clip-path=\"url(#clip630)\" d=\"M 0 0 M1480.62 1527.98 Q1477.47 1527.98 1475.62 1530.13 Q1473.79 1532.28 1473.79 1536.03 Q1473.79 1539.76 1475.62 1541.93 Q1477.47 1544.09 1480.62 1544.09 Q1483.77 1544.09 1485.6 1541.93 Q1487.45 1539.76 1487.45 1536.03 Q1487.45 1532.28 1485.6 1530.13 Q1483.77 1527.98 1480.62 1527.98 M1489.9 1513.32 L1489.9 1517.58 Q1488.14 1516.75 1486.34 1516.31 Q1484.55 1515.87 1482.79 1515.87 Q1478.16 1515.87 1475.71 1519 Q1473.28 1522.12 1472.93 1528.44 Q1474.3 1526.43 1476.36 1525.36 Q1478.42 1524.27 1480.9 1524.27 Q1486.1 1524.27 1489.11 1527.44 Q1492.15 1530.59 1492.15 1536.03 Q1492.15 1541.36 1489 1544.57 Q1485.85 1547.79 1480.62 1547.79 Q1474.62 1547.79 1471.45 1543.21 Q1468.28 1538.6 1468.28 1529.87 Q1468.28 1521.68 1472.17 1516.82 Q1476.06 1511.93 1482.61 1511.93 Q1484.37 1511.93 1486.15 1512.28 Q1487.96 1512.63 1489.9 1513.32 Z\" fill=\"#000000\" fill-rule=\"evenodd\" fill-opacity=\"1\" /><path clip-path=\"url(#clip630)\" d=\"M 0 0 M1820.45 1543.18 L1828.09 1543.18 L1828.09 1516.82 L1819.78 1518.49 L1819.78 1514.23 L1828.05 1512.56 L1832.72 1512.56 L1832.72 1543.18 L1840.36 1543.18 L1840.36 1547.12 L1820.45 1547.12 L1820.45 1543.18 Z\" fill=\"#000000\" fill-rule=\"evenodd\" fill-opacity=\"1\" /><path clip-path=\"url(#clip630)\" d=\"M 0 0 M1845.43 1541.24 L1850.31 1541.24 L1850.31 1547.12 L1845.43 1547.12 L1845.43 1541.24 Z\" fill=\"#000000\" fill-rule=\"evenodd\" fill-opacity=\"1\" /><path clip-path=\"url(#clip630)\" d=\"M 0 0 M1865.38 1530.71 Q1862.05 1530.71 1860.13 1532.49 Q1858.23 1534.27 1858.23 1537.4 Q1858.23 1540.52 1860.13 1542.31 Q1862.05 1544.09 1865.38 1544.09 Q1868.72 1544.09 1870.64 1542.31 Q1872.56 1540.5 1872.56 1537.4 Q1872.56 1534.27 1870.64 1532.49 Q1868.74 1530.71 1865.38 1530.71 M1860.71 1528.72 Q1857.7 1527.98 1856.01 1525.92 Q1854.34 1523.86 1854.34 1520.89 Q1854.34 1516.75 1857.28 1514.34 Q1860.24 1511.93 1865.38 1511.93 Q1870.54 1511.93 1873.48 1514.34 Q1876.42 1516.75 1876.42 1520.89 Q1876.42 1523.86 1874.73 1525.92 Q1873.07 1527.98 1870.08 1528.72 Q1873.46 1529.5 1875.34 1531.8 Q1877.23 1534.09 1877.23 1537.4 Q1877.23 1542.42 1874.16 1545.11 Q1871.1 1547.79 1865.38 1547.79 Q1859.67 1547.79 1856.59 1545.11 Q1853.53 1542.42 1853.53 1537.4 Q1853.53 1534.09 1855.43 1531.8 Q1857.33 1529.5 1860.71 1528.72 M1858.99 1521.33 Q1858.99 1524.02 1860.66 1525.52 Q1862.35 1527.03 1865.38 1527.03 Q1868.39 1527.03 1870.08 1525.52 Q1871.79 1524.02 1871.79 1521.33 Q1871.79 1518.65 1870.08 1517.14 Q1868.39 1515.64 1865.38 1515.64 Q1862.35 1515.64 1860.66 1517.14 Q1858.99 1518.65 1858.99 1521.33 Z\" fill=\"#000000\" fill-rule=\"evenodd\" fill-opacity=\"1\" /><path clip-path=\"url(#clip630)\" d=\"M 0 0 M2209.89 1543.18 L2226.21 1543.18 L2226.21 1547.12 L2204.27 1547.12 L2204.27 1543.18 Q2206.93 1540.43 2211.51 1535.8 Q2216.12 1531.15 2217.3 1529.81 Q2219.55 1527.28 2220.43 1525.55 Q2221.33 1523.79 2221.33 1522.1 Q2221.33 1519.34 2219.38 1517.61 Q2217.46 1515.87 2214.36 1515.87 Q2212.16 1515.87 2209.71 1516.63 Q2207.28 1517.4 2204.5 1518.95 L2204.5 1514.23 Q2207.32 1513.09 2209.78 1512.51 Q2212.23 1511.93 2214.27 1511.93 Q2219.64 1511.93 2222.83 1514.62 Q2226.03 1517.31 2226.03 1521.8 Q2226.03 1523.93 2225.22 1525.85 Q2224.43 1527.74 2222.32 1530.34 Q2221.75 1531.01 2218.64 1534.23 Q2215.54 1537.42 2209.89 1543.18 Z\" fill=\"#000000\" fill-rule=\"evenodd\" fill-opacity=\"1\" /><path clip-path=\"url(#clip630)\" d=\"M 0 0 M2231.28 1541.24 L2236.17 1541.24 L2236.17 1547.12 L2231.28 1547.12 L2231.28 1541.24 Z\" fill=\"#000000\" fill-rule=\"evenodd\" fill-opacity=\"1\" /><path clip-path=\"url(#clip630)\" d=\"M 0 0 M2251.24 1515.64 Q2247.62 1515.64 2245.8 1519.2 Q2243.99 1522.75 2243.99 1529.87 Q2243.99 1536.98 2245.8 1540.55 Q2247.62 1544.09 2251.24 1544.09 Q2254.87 1544.09 2256.68 1540.55 Q2258.5 1536.98 2258.5 1529.87 Q2258.5 1522.75 2256.68 1519.2 Q2254.87 1515.64 2251.24 1515.64 M2251.24 1511.93 Q2257.05 1511.93 2260.1 1516.54 Q2263.18 1521.12 2263.18 1529.87 Q2263.18 1538.6 2260.1 1543.21 Q2257.05 1547.79 2251.24 1547.79 Q2245.43 1547.79 2242.35 1543.21 Q2239.29 1538.6 2239.29 1529.87 Q2239.29 1521.12 2242.35 1516.54 Q2245.43 1511.93 2251.24 1511.93 Z\" fill=\"#000000\" fill-rule=\"evenodd\" fill-opacity=\"1\" /><polyline clip-path=\"url(#clip632)\" style=\"stroke:#000000; stroke-width:2; stroke-opacity:0.1; fill:none\" points=\"\n",
       "  188.612,1445.72 2352.76,1445.72 \n",
       "  \"/>\n",
       "<polyline clip-path=\"url(#clip632)\" style=\"stroke:#000000; stroke-width:2; stroke-opacity:0.1; fill:none\" points=\"\n",
       "  188.612,1106.28 2352.76,1106.28 \n",
       "  \"/>\n",
       "<polyline clip-path=\"url(#clip632)\" style=\"stroke:#000000; stroke-width:2; stroke-opacity:0.1; fill:none\" points=\"\n",
       "  188.612,766.846 2352.76,766.846 \n",
       "  \"/>\n",
       "<polyline clip-path=\"url(#clip632)\" style=\"stroke:#000000; stroke-width:2; stroke-opacity:0.1; fill:none\" points=\"\n",
       "  188.612,427.411 2352.76,427.411 \n",
       "  \"/>\n",
       "<polyline clip-path=\"url(#clip632)\" style=\"stroke:#000000; stroke-width:2; stroke-opacity:0.1; fill:none\" points=\"\n",
       "  188.612,87.9763 2352.76,87.9763 \n",
       "  \"/>\n",
       "<polyline clip-path=\"url(#clip630)\" style=\"stroke:#000000; stroke-width:4; stroke-opacity:1; fill:none\" points=\"\n",
       "  188.612,1486.45 188.612,47.2441 \n",
       "  \"/>\n",
       "<polyline clip-path=\"url(#clip630)\" style=\"stroke:#000000; stroke-width:4; stroke-opacity:1; fill:none\" points=\"\n",
       "  188.612,1445.72 214.582,1445.72 \n",
       "  \"/>\n",
       "<polyline clip-path=\"url(#clip630)\" style=\"stroke:#000000; stroke-width:4; stroke-opacity:1; fill:none\" points=\"\n",
       "  188.612,1106.28 214.582,1106.28 \n",
       "  \"/>\n",
       "<polyline clip-path=\"url(#clip630)\" style=\"stroke:#000000; stroke-width:4; stroke-opacity:1; fill:none\" points=\"\n",
       "  188.612,766.846 214.582,766.846 \n",
       "  \"/>\n",
       "<polyline clip-path=\"url(#clip630)\" style=\"stroke:#000000; stroke-width:4; stroke-opacity:1; fill:none\" points=\"\n",
       "  188.612,427.411 214.582,427.411 \n",
       "  \"/>\n",
       "<polyline clip-path=\"url(#clip630)\" style=\"stroke:#000000; stroke-width:4; stroke-opacity:1; fill:none\" points=\"\n",
       "  188.612,87.9763 214.582,87.9763 \n",
       "  \"/>\n",
       "<path clip-path=\"url(#clip630)\" d=\"M 0 0 M140.668 1431.51 Q137.056 1431.51 135.228 1435.08 Q133.422 1438.62 133.422 1445.75 Q133.422 1452.86 135.228 1456.42 Q137.056 1459.96 140.668 1459.96 Q144.302 1459.96 146.107 1456.42 Q147.936 1452.86 147.936 1445.75 Q147.936 1438.62 146.107 1435.08 Q144.302 1431.51 140.668 1431.51 M140.668 1427.81 Q146.478 1427.81 149.533 1432.42 Q152.612 1437 152.612 1445.75 Q152.612 1454.48 149.533 1459.08 Q146.478 1463.67 140.668 1463.67 Q134.857 1463.67 131.779 1459.08 Q128.723 1454.48 128.723 1445.75 Q128.723 1437 131.779 1432.42 Q134.857 1427.81 140.668 1427.81 Z\" fill=\"#000000\" fill-rule=\"evenodd\" fill-opacity=\"1\" /><path clip-path=\"url(#clip630)\" d=\"M 0 0 M83.2605 1119.63 L99.5798 1119.63 L99.5798 1123.56 L77.6355 1123.56 L77.6355 1119.63 Q80.2975 1116.87 84.8808 1112.24 Q89.4873 1107.59 90.6678 1106.25 Q92.9132 1103.72 93.7928 1101.99 Q94.6956 1100.23 94.6956 1098.54 Q94.6956 1095.78 92.7512 1094.05 Q90.8299 1092.31 87.728 1092.31 Q85.529 1092.31 83.0753 1093.07 Q80.6447 1093.84 77.867 1095.39 L77.867 1090.67 Q80.691 1089.53 83.1447 1088.95 Q85.5984 1088.38 87.6354 1088.38 Q93.0058 1088.38 96.2002 1091.06 Q99.3946 1093.75 99.3946 1098.24 Q99.3946 1100.37 98.5845 1102.29 Q97.7974 1104.19 95.691 1106.78 Q95.1123 1107.45 92.0104 1110.67 Q88.9086 1113.86 83.2605 1119.63 Z\" fill=\"#000000\" fill-rule=\"evenodd\" fill-opacity=\"1\" /><path clip-path=\"url(#clip630)\" d=\"M 0 0 M104.696 1089 L123.052 1089 L123.052 1092.94 L108.978 1092.94 L108.978 1101.41 Q109.996 1101.06 111.015 1100.9 Q112.033 1100.71 113.052 1100.71 Q118.839 1100.71 122.219 1103.89 Q125.598 1107.06 125.598 1112.47 Q125.598 1118.05 122.126 1121.15 Q118.654 1124.23 112.334 1124.23 Q110.158 1124.23 107.89 1123.86 Q105.645 1123.49 103.237 1122.75 L103.237 1118.05 Q105.321 1119.19 107.543 1119.74 Q109.765 1120.3 112.242 1120.3 Q116.246 1120.3 118.584 1118.19 Q120.922 1116.08 120.922 1112.47 Q120.922 1108.86 118.584 1106.76 Q116.246 1104.65 112.242 1104.65 Q110.367 1104.65 108.492 1105.07 Q106.64 1105.48 104.696 1106.36 L104.696 1089 Z\" fill=\"#000000\" fill-rule=\"evenodd\" fill-opacity=\"1\" /><path clip-path=\"url(#clip630)\" d=\"M 0 0 M140.668 1092.08 Q137.056 1092.08 135.228 1095.64 Q133.422 1099.19 133.422 1106.32 Q133.422 1113.42 135.228 1116.99 Q137.056 1120.53 140.668 1120.53 Q144.302 1120.53 146.107 1116.99 Q147.936 1113.42 147.936 1106.32 Q147.936 1099.19 146.107 1095.64 Q144.302 1092.08 140.668 1092.08 M140.668 1088.38 Q146.478 1088.38 149.533 1092.98 Q152.612 1097.57 152.612 1106.32 Q152.612 1115.04 149.533 1119.65 Q146.478 1124.23 140.668 1124.23 Q134.857 1124.23 131.779 1119.65 Q128.723 1115.04 128.723 1106.32 Q128.723 1097.57 131.779 1092.98 Q134.857 1088.38 140.668 1088.38 Z\" fill=\"#000000\" fill-rule=\"evenodd\" fill-opacity=\"1\" /><path clip-path=\"url(#clip630)\" d=\"M 0 0 M77.6818 749.566 L96.0382 749.566 L96.0382 753.501 L81.9642 753.501 L81.9642 761.973 Q82.9827 761.626 84.0012 761.464 Q85.0197 761.279 86.0382 761.279 Q91.8252 761.279 95.2049 764.45 Q98.5845 767.621 98.5845 773.038 Q98.5845 778.617 95.1123 781.719 Q91.6401 784.797 85.3206 784.797 Q83.1447 784.797 80.8762 784.427 Q78.6309 784.057 76.2235 783.316 L76.2235 778.617 Q78.3068 779.751 80.529 780.307 Q82.7512 780.862 85.2281 780.862 Q89.2327 780.862 91.5706 778.756 Q93.9086 776.649 93.9086 773.038 Q93.9086 769.427 91.5706 767.321 Q89.2327 765.214 85.2281 765.214 Q83.3531 765.214 81.4781 765.631 Q79.6262 766.047 77.6818 766.927 L77.6818 749.566 Z\" fill=\"#000000\" fill-rule=\"evenodd\" fill-opacity=\"1\" /><path clip-path=\"url(#clip630)\" d=\"M 0 0 M113.654 752.645 Q110.043 752.645 108.214 756.209 Q106.408 759.751 106.408 766.881 Q106.408 773.987 108.214 777.552 Q110.043 781.094 113.654 781.094 Q117.288 781.094 119.094 777.552 Q120.922 773.987 120.922 766.881 Q120.922 759.751 119.094 756.209 Q117.288 752.645 113.654 752.645 M113.654 748.941 Q119.464 748.941 122.52 753.547 Q125.598 758.131 125.598 766.881 Q125.598 775.608 122.52 780.214 Q119.464 784.797 113.654 784.797 Q107.844 784.797 104.765 780.214 Q101.709 775.608 101.709 766.881 Q101.709 758.131 104.765 753.547 Q107.844 748.941 113.654 748.941 Z\" fill=\"#000000\" fill-rule=\"evenodd\" fill-opacity=\"1\" /><path clip-path=\"url(#clip630)\" d=\"M 0 0 M140.668 752.645 Q137.056 752.645 135.228 756.209 Q133.422 759.751 133.422 766.881 Q133.422 773.987 135.228 777.552 Q137.056 781.094 140.668 781.094 Q144.302 781.094 146.107 777.552 Q147.936 773.987 147.936 766.881 Q147.936 759.751 146.107 756.209 Q144.302 752.645 140.668 752.645 M140.668 748.941 Q146.478 748.941 149.533 753.547 Q152.612 758.131 152.612 766.881 Q152.612 775.608 149.533 780.214 Q146.478 784.797 140.668 784.797 Q134.857 784.797 131.779 780.214 Q128.723 775.608 128.723 766.881 Q128.723 758.131 131.779 753.547 Q134.857 748.941 140.668 748.941 Z\" fill=\"#000000\" fill-rule=\"evenodd\" fill-opacity=\"1\" /><path clip-path=\"url(#clip630)\" d=\"M 0 0 M77.3577 410.131 L99.5798 410.131 L99.5798 412.122 L87.0336 444.691 L82.1494 444.691 L93.9549 414.066 L77.3577 414.066 L77.3577 410.131 Z\" fill=\"#000000\" fill-rule=\"evenodd\" fill-opacity=\"1\" /><path clip-path=\"url(#clip630)\" d=\"M 0 0 M104.696 410.131 L123.052 410.131 L123.052 414.066 L108.978 414.066 L108.978 422.538 Q109.996 422.191 111.015 422.029 Q112.033 421.844 113.052 421.844 Q118.839 421.844 122.219 425.015 Q125.598 428.187 125.598 433.603 Q125.598 439.182 122.126 442.284 Q118.654 445.362 112.334 445.362 Q110.158 445.362 107.89 444.992 Q105.645 444.622 103.237 443.881 L103.237 439.182 Q105.321 440.316 107.543 440.872 Q109.765 441.427 112.242 441.427 Q116.246 441.427 118.584 439.321 Q120.922 437.214 120.922 433.603 Q120.922 429.992 118.584 427.886 Q116.246 425.779 112.242 425.779 Q110.367 425.779 108.492 426.196 Q106.64 426.613 104.696 427.492 L104.696 410.131 Z\" fill=\"#000000\" fill-rule=\"evenodd\" fill-opacity=\"1\" /><path clip-path=\"url(#clip630)\" d=\"M 0 0 M140.668 413.21 Q137.056 413.21 135.228 416.775 Q133.422 420.316 133.422 427.446 Q133.422 434.552 135.228 438.117 Q137.056 441.659 140.668 441.659 Q144.302 441.659 146.107 438.117 Q147.936 434.552 147.936 427.446 Q147.936 420.316 146.107 416.775 Q144.302 413.21 140.668 413.21 M140.668 409.506 Q146.478 409.506 149.533 414.113 Q152.612 418.696 152.612 427.446 Q152.612 436.173 149.533 440.779 Q146.478 445.362 140.668 445.362 Q134.857 445.362 131.779 440.779 Q128.723 436.173 128.723 427.446 Q128.723 418.696 131.779 414.113 Q134.857 409.506 140.668 409.506 Z\" fill=\"#000000\" fill-rule=\"evenodd\" fill-opacity=\"1\" /><path clip-path=\"url(#clip630)\" d=\"M 0 0 M51.6634 101.321 L59.3023 101.321 L59.3023 74.9555 L50.9921 76.6222 L50.9921 72.3629 L59.256 70.6963 L63.9319 70.6963 L63.9319 101.321 L71.5707 101.321 L71.5707 105.256 L51.6634 105.256 L51.6634 101.321 Z\" fill=\"#000000\" fill-rule=\"evenodd\" fill-opacity=\"1\" /><path clip-path=\"url(#clip630)\" d=\"M 0 0 M86.6401 73.775 Q83.029 73.775 81.2003 77.3398 Q79.3948 80.8814 79.3948 88.011 Q79.3948 95.1174 81.2003 98.6822 Q83.029 102.224 86.6401 102.224 Q90.2743 102.224 92.0799 98.6822 Q93.9086 95.1174 93.9086 88.011 Q93.9086 80.8814 92.0799 77.3398 Q90.2743 73.775 86.6401 73.775 M86.6401 70.0713 Q92.4502 70.0713 95.5058 74.6777 Q98.5845 79.261 98.5845 88.011 Q98.5845 96.7378 95.5058 101.344 Q92.4502 105.928 86.6401 105.928 Q80.8299 105.928 77.7512 101.344 Q74.6957 96.7378 74.6957 88.011 Q74.6957 79.261 77.7512 74.6777 Q80.8299 70.0713 86.6401 70.0713 Z\" fill=\"#000000\" fill-rule=\"evenodd\" fill-opacity=\"1\" /><path clip-path=\"url(#clip630)\" d=\"M 0 0 M113.654 73.775 Q110.043 73.775 108.214 77.3398 Q106.408 80.8814 106.408 88.011 Q106.408 95.1174 108.214 98.6822 Q110.043 102.224 113.654 102.224 Q117.288 102.224 119.094 98.6822 Q120.922 95.1174 120.922 88.011 Q120.922 80.8814 119.094 77.3398 Q117.288 73.775 113.654 73.775 M113.654 70.0713 Q119.464 70.0713 122.52 74.6777 Q125.598 79.261 125.598 88.011 Q125.598 96.7378 122.52 101.344 Q119.464 105.928 113.654 105.928 Q107.844 105.928 104.765 101.344 Q101.709 96.7378 101.709 88.011 Q101.709 79.261 104.765 74.6777 Q107.844 70.0713 113.654 70.0713 Z\" fill=\"#000000\" fill-rule=\"evenodd\" fill-opacity=\"1\" /><path clip-path=\"url(#clip630)\" d=\"M 0 0 M140.668 73.775 Q137.056 73.775 135.228 77.3398 Q133.422 80.8814 133.422 88.011 Q133.422 95.1174 135.228 98.6822 Q137.056 102.224 140.668 102.224 Q144.302 102.224 146.107 98.6822 Q147.936 95.1174 147.936 88.011 Q147.936 80.8814 146.107 77.3398 Q144.302 73.775 140.668 73.775 M140.668 70.0713 Q146.478 70.0713 149.533 74.6777 Q152.612 79.261 152.612 88.011 Q152.612 96.7378 149.533 101.344 Q146.478 105.928 140.668 105.928 Q134.857 105.928 131.779 101.344 Q128.723 96.7378 128.723 88.011 Q128.723 79.261 131.779 74.6777 Q134.857 70.0713 140.668 70.0713 Z\" fill=\"#000000\" fill-rule=\"evenodd\" fill-opacity=\"1\" /><path clip-path=\"url(#clip632)\" d=\"\n",
       "M307.644 87.9763 L307.644 1445.72 L2233.72 1445.72 L2233.72 87.9763 L307.644 87.9763 L307.644 87.9763  Z\n",
       "  \" fill=\"#009af9\" fill-rule=\"evenodd\" fill-opacity=\"1\"/>\n",
       "<polyline clip-path=\"url(#clip632)\" style=\"stroke:#000000; stroke-width:4; stroke-opacity:1; fill:none\" points=\"\n",
       "  307.644,87.9763 307.644,1445.72 2233.72,1445.72 2233.72,87.9763 307.644,87.9763 \n",
       "  \"/>\n",
       "<path clip-path=\"url(#clip630)\" d=\"\n",
       "M1989.14 216.178 L2280.62 216.178 L2280.62 95.2176 L1989.14 95.2176  Z\n",
       "  \" fill=\"#ffffff\" fill-rule=\"evenodd\" fill-opacity=\"1\"/>\n",
       "<polyline clip-path=\"url(#clip630)\" style=\"stroke:#000000; stroke-width:4; stroke-opacity:1; fill:none\" points=\"\n",
       "  1989.14,216.178 2280.62,216.178 2280.62,95.2176 1989.14,95.2176 1989.14,216.178 \n",
       "  \"/>\n",
       "<path clip-path=\"url(#clip630)\" d=\"\n",
       "M2013.19 179.89 L2157.46 179.89 L2157.46 131.506 L2013.19 131.506 L2013.19 179.89  Z\n",
       "  \" fill=\"#009af9\" fill-rule=\"evenodd\" fill-opacity=\"1\"/>\n",
       "<polyline clip-path=\"url(#clip630)\" style=\"stroke:#000000; stroke-width:4; stroke-opacity:1; fill:none\" points=\"\n",
       "  2013.19,179.89 2157.46,179.89 2157.46,131.506 2013.19,131.506 2013.19,179.89 \n",
       "  \"/>\n",
       "<path clip-path=\"url(#clip630)\" d=\"M 0 0 M2195.35 175.385 Q2193.54 180.015 2191.83 181.427 Q2190.12 182.839 2187.25 182.839 L2183.85 182.839 L2183.85 179.274 L2186.35 179.274 Q2188.1 179.274 2189.08 178.44 Q2190.05 177.607 2191.23 174.505 L2191.99 172.561 L2181.51 147.052 L2186.02 147.052 L2194.12 167.329 L2202.22 147.052 L2206.74 147.052 L2195.35 175.385 Z\" fill=\"#000000\" fill-rule=\"evenodd\" fill-opacity=\"1\" /><path clip-path=\"url(#clip630)\" d=\"M 0 0 M2212.62 169.042 L2220.26 169.042 L2220.26 142.677 L2211.95 144.343 L2211.95 140.084 L2220.21 138.418 L2224.89 138.418 L2224.89 169.042 L2232.53 169.042 L2232.53 172.978 L2212.62 172.978 L2212.62 169.042 Z\" fill=\"#000000\" fill-rule=\"evenodd\" fill-opacity=\"1\" /></svg>\n"
      ]
     },
     "execution_count": 17,
     "metadata": {},
     "output_type": "execute_result"
    }
   ],
   "source": [
    "m = agent(KING)\n",
    "chains = sample(m, IS(), 1000 , n_chains=1, progress = true)\n",
    "histogram(generated_quantities(m, chains))"
   ]
  },
  {
   "cell_type": "code",
   "execution_count": 18,
   "metadata": {},
   "outputs": [
    {
     "data": {
      "image/svg+xml": [
       "<?xml version=\"1.0\" encoding=\"utf-8\"?>\n",
       "<svg xmlns=\"http://www.w3.org/2000/svg\" xmlns:xlink=\"http://www.w3.org/1999/xlink\" width=\"600\" height=\"400\" viewBox=\"0 0 2400 1600\">\n",
       "<defs>\n",
       "  <clipPath id=\"clip670\">\n",
       "    <rect x=\"0\" y=\"0\" width=\"2400\" height=\"1600\"/>\n",
       "  </clipPath>\n",
       "</defs>\n",
       "<path clip-path=\"url(#clip670)\" d=\"\n",
       "M0 1600 L2400 1600 L2400 0 L0 0  Z\n",
       "  \" fill=\"#ffffff\" fill-rule=\"evenodd\" fill-opacity=\"1\"/>\n",
       "<defs>\n",
       "  <clipPath id=\"clip671\">\n",
       "    <rect x=\"480\" y=\"0\" width=\"1681\" height=\"1600\"/>\n",
       "  </clipPath>\n",
       "</defs>\n",
       "<path clip-path=\"url(#clip670)\" d=\"\n",
       "M188.612 1486.45 L2352.76 1486.45 L2352.76 47.2441 L188.612 47.2441  Z\n",
       "  \" fill=\"#ffffff\" fill-rule=\"evenodd\" fill-opacity=\"1\"/>\n",
       "<defs>\n",
       "  <clipPath id=\"clip672\">\n",
       "    <rect x=\"188\" y=\"47\" width=\"2165\" height=\"1440\"/>\n",
       "  </clipPath>\n",
       "</defs>\n",
       "<polyline clip-path=\"url(#clip672)\" style=\"stroke:#000000; stroke-width:2; stroke-opacity:0.1; fill:none\" points=\"\n",
       "  307.644,1486.45 307.644,47.2441 \n",
       "  \"/>\n",
       "<polyline clip-path=\"url(#clip672)\" style=\"stroke:#000000; stroke-width:2; stroke-opacity:0.1; fill:none\" points=\"\n",
       "  789.164,1486.45 789.164,47.2441 \n",
       "  \"/>\n",
       "<polyline clip-path=\"url(#clip672)\" style=\"stroke:#000000; stroke-width:2; stroke-opacity:0.1; fill:none\" points=\"\n",
       "  1270.68,1486.45 1270.68,47.2441 \n",
       "  \"/>\n",
       "<polyline clip-path=\"url(#clip672)\" style=\"stroke:#000000; stroke-width:2; stroke-opacity:0.1; fill:none\" points=\"\n",
       "  1752.2,1486.45 1752.2,47.2441 \n",
       "  \"/>\n",
       "<polyline clip-path=\"url(#clip672)\" style=\"stroke:#000000; stroke-width:2; stroke-opacity:0.1; fill:none\" points=\"\n",
       "  2233.72,1486.45 2233.72,47.2441 \n",
       "  \"/>\n",
       "<polyline clip-path=\"url(#clip670)\" style=\"stroke:#000000; stroke-width:4; stroke-opacity:1; fill:none\" points=\"\n",
       "  188.612,1486.45 2352.76,1486.45 \n",
       "  \"/>\n",
       "<polyline clip-path=\"url(#clip670)\" style=\"stroke:#000000; stroke-width:4; stroke-opacity:1; fill:none\" points=\"\n",
       "  307.644,1486.45 307.644,1469.18 \n",
       "  \"/>\n",
       "<polyline clip-path=\"url(#clip670)\" style=\"stroke:#000000; stroke-width:4; stroke-opacity:1; fill:none\" points=\"\n",
       "  789.164,1486.45 789.164,1469.18 \n",
       "  \"/>\n",
       "<polyline clip-path=\"url(#clip670)\" style=\"stroke:#000000; stroke-width:4; stroke-opacity:1; fill:none\" points=\"\n",
       "  1270.68,1486.45 1270.68,1469.18 \n",
       "  \"/>\n",
       "<polyline clip-path=\"url(#clip670)\" style=\"stroke:#000000; stroke-width:4; stroke-opacity:1; fill:none\" points=\"\n",
       "  1752.2,1486.45 1752.2,1469.18 \n",
       "  \"/>\n",
       "<polyline clip-path=\"url(#clip670)\" style=\"stroke:#000000; stroke-width:4; stroke-opacity:1; fill:none\" points=\"\n",
       "  2233.72,1486.45 2233.72,1469.18 \n",
       "  \"/>\n",
       "<path clip-path=\"url(#clip670)\" d=\"M 0 0 M275.653 1515.64 Q272.042 1515.64 270.213 1519.2 Q268.408 1522.75 268.408 1529.87 Q268.408 1536.98 270.213 1540.55 Q272.042 1544.09 275.653 1544.09 Q279.287 1544.09 281.093 1540.55 Q282.922 1536.98 282.922 1529.87 Q282.922 1522.75 281.093 1519.2 Q279.287 1515.64 275.653 1515.64 M275.653 1511.93 Q281.463 1511.93 284.519 1516.54 Q287.598 1521.12 287.598 1529.87 Q287.598 1538.6 284.519 1543.21 Q281.463 1547.79 275.653 1547.79 Q269.843 1547.79 266.764 1543.21 Q263.709 1538.6 263.709 1529.87 Q263.709 1521.12 266.764 1516.54 Q269.843 1511.93 275.653 1511.93 Z\" fill=\"#000000\" fill-rule=\"evenodd\" fill-opacity=\"1\" /><path clip-path=\"url(#clip670)\" d=\"M 0 0 M292.667 1541.24 L297.551 1541.24 L297.551 1547.12 L292.667 1547.12 L292.667 1541.24 Z\" fill=\"#000000\" fill-rule=\"evenodd\" fill-opacity=\"1\" /><path clip-path=\"url(#clip670)\" d=\"M 0 0 M312.621 1515.64 Q309.009 1515.64 307.181 1519.2 Q305.375 1522.75 305.375 1529.87 Q305.375 1536.98 307.181 1540.55 Q309.009 1544.09 312.621 1544.09 Q316.255 1544.09 318.06 1540.55 Q319.889 1536.98 319.889 1529.87 Q319.889 1522.75 318.06 1519.2 Q316.255 1515.64 312.621 1515.64 M312.621 1511.93 Q318.431 1511.93 321.486 1516.54 Q324.565 1521.12 324.565 1529.87 Q324.565 1538.6 321.486 1543.21 Q318.431 1547.79 312.621 1547.79 Q306.81 1547.79 303.732 1543.21 Q300.676 1538.6 300.676 1529.87 Q300.676 1521.12 303.732 1516.54 Q306.81 1511.93 312.621 1511.93 Z\" fill=\"#000000\" fill-rule=\"evenodd\" fill-opacity=\"1\" /><path clip-path=\"url(#clip670)\" d=\"M 0 0 M339.634 1515.64 Q336.023 1515.64 334.195 1519.2 Q332.389 1522.75 332.389 1529.87 Q332.389 1536.98 334.195 1540.55 Q336.023 1544.09 339.634 1544.09 Q343.269 1544.09 345.074 1540.55 Q346.903 1536.98 346.903 1529.87 Q346.903 1522.75 345.074 1519.2 Q343.269 1515.64 339.634 1515.64 M339.634 1511.93 Q345.444 1511.93 348.5 1516.54 Q351.579 1521.12 351.579 1529.87 Q351.579 1538.6 348.5 1543.21 Q345.444 1547.79 339.634 1547.79 Q333.824 1547.79 330.745 1543.21 Q327.69 1538.6 327.69 1529.87 Q327.69 1521.12 330.745 1516.54 Q333.824 1511.93 339.634 1511.93 Z\" fill=\"#000000\" fill-rule=\"evenodd\" fill-opacity=\"1\" /><path clip-path=\"url(#clip670)\" d=\"M 0 0 M758.47 1515.64 Q754.858 1515.64 753.03 1519.2 Q751.224 1522.75 751.224 1529.87 Q751.224 1536.98 753.03 1540.55 Q754.858 1544.09 758.47 1544.09 Q762.104 1544.09 763.909 1540.55 Q765.738 1536.98 765.738 1529.87 Q765.738 1522.75 763.909 1519.2 Q762.104 1515.64 758.47 1515.64 M758.47 1511.93 Q764.28 1511.93 767.335 1516.54 Q770.414 1521.12 770.414 1529.87 Q770.414 1538.6 767.335 1543.21 Q764.28 1547.79 758.47 1547.79 Q752.659 1547.79 749.581 1543.21 Q746.525 1538.6 746.525 1529.87 Q746.525 1521.12 749.581 1516.54 Q752.659 1511.93 758.47 1511.93 Z\" fill=\"#000000\" fill-rule=\"evenodd\" fill-opacity=\"1\" /><path clip-path=\"url(#clip670)\" d=\"M 0 0 M775.483 1541.24 L780.368 1541.24 L780.368 1547.12 L775.483 1547.12 L775.483 1541.24 Z\" fill=\"#000000\" fill-rule=\"evenodd\" fill-opacity=\"1\" /><path clip-path=\"url(#clip670)\" d=\"M 0 0 M789.465 1543.18 L805.784 1543.18 L805.784 1547.12 L783.84 1547.12 L783.84 1543.18 Q786.502 1540.43 791.085 1535.8 Q795.692 1531.15 796.872 1529.81 Q799.117 1527.28 799.997 1525.55 Q800.9 1523.79 800.9 1522.1 Q800.9 1519.34 798.955 1517.61 Q797.034 1515.87 793.932 1515.87 Q791.733 1515.87 789.28 1516.63 Q786.849 1517.4 784.071 1518.95 L784.071 1514.23 Q786.895 1513.09 789.349 1512.51 Q791.803 1511.93 793.84 1511.93 Q799.21 1511.93 802.404 1514.62 Q805.599 1517.31 805.599 1521.8 Q805.599 1523.93 804.789 1525.85 Q804.002 1527.74 801.895 1530.34 Q801.317 1531.01 798.215 1534.23 Q795.113 1537.42 789.465 1543.18 Z\" fill=\"#000000\" fill-rule=\"evenodd\" fill-opacity=\"1\" /><path clip-path=\"url(#clip670)\" d=\"M 0 0 M810.9 1512.56 L829.256 1512.56 L829.256 1516.5 L815.182 1516.5 L815.182 1524.97 Q816.201 1524.62 817.219 1524.46 Q818.238 1524.27 819.256 1524.27 Q825.043 1524.27 828.423 1527.44 Q831.802 1530.62 831.802 1536.03 Q831.802 1541.61 828.33 1544.71 Q824.858 1547.79 818.539 1547.79 Q816.363 1547.79 814.094 1547.42 Q811.849 1547.05 809.441 1546.31 L809.441 1541.61 Q811.525 1542.74 813.747 1543.3 Q815.969 1543.86 818.446 1543.86 Q822.451 1543.86 824.789 1541.75 Q827.127 1539.64 827.127 1536.03 Q827.127 1532.42 824.789 1530.31 Q822.451 1528.21 818.446 1528.21 Q816.571 1528.21 814.696 1528.62 Q812.844 1529.04 810.9 1529.92 L810.9 1512.56 Z\" fill=\"#000000\" fill-rule=\"evenodd\" fill-opacity=\"1\" /><path clip-path=\"url(#clip670)\" d=\"M 0 0 M1239.19 1515.64 Q1235.58 1515.64 1233.75 1519.2 Q1231.95 1522.75 1231.95 1529.87 Q1231.95 1536.98 1233.75 1540.55 Q1235.58 1544.09 1239.19 1544.09 Q1242.83 1544.09 1244.63 1540.55 Q1246.46 1536.98 1246.46 1529.87 Q1246.46 1522.75 1244.63 1519.2 Q1242.83 1515.64 1239.19 1515.64 M1239.19 1511.93 Q1245 1511.93 1248.06 1516.54 Q1251.14 1521.12 1251.14 1529.87 Q1251.14 1538.6 1248.06 1543.21 Q1245 1547.79 1239.19 1547.79 Q1233.38 1547.79 1230.3 1543.21 Q1227.25 1538.6 1227.25 1529.87 Q1227.25 1521.12 1230.3 1516.54 Q1233.38 1511.93 1239.19 1511.93 Z\" fill=\"#000000\" fill-rule=\"evenodd\" fill-opacity=\"1\" /><path clip-path=\"url(#clip670)\" d=\"M 0 0 M1256.2 1541.24 L1261.09 1541.24 L1261.09 1547.12 L1256.2 1547.12 L1256.2 1541.24 Z\" fill=\"#000000\" fill-rule=\"evenodd\" fill-opacity=\"1\" /><path clip-path=\"url(#clip670)\" d=\"M 0 0 M1266.2 1512.56 L1284.56 1512.56 L1284.56 1516.5 L1270.49 1516.5 L1270.49 1524.97 Q1271.51 1524.62 1272.52 1524.46 Q1273.54 1524.27 1274.56 1524.27 Q1280.35 1524.27 1283.73 1527.44 Q1287.11 1530.62 1287.11 1536.03 Q1287.11 1541.61 1283.64 1544.71 Q1280.16 1547.79 1273.84 1547.79 Q1271.67 1547.79 1269.4 1547.42 Q1267.15 1547.05 1264.75 1546.31 L1264.75 1541.61 Q1266.83 1542.74 1269.05 1543.3 Q1271.27 1543.86 1273.75 1543.86 Q1277.76 1543.86 1280.09 1541.75 Q1282.43 1539.64 1282.43 1536.03 Q1282.43 1532.42 1280.09 1530.31 Q1277.76 1528.21 1273.75 1528.21 Q1271.88 1528.21 1270 1528.62 Q1268.15 1529.04 1266.2 1529.92 L1266.2 1512.56 Z\" fill=\"#000000\" fill-rule=\"evenodd\" fill-opacity=\"1\" /><path clip-path=\"url(#clip670)\" d=\"M 0 0 M1302.18 1515.64 Q1298.57 1515.64 1296.74 1519.2 Q1294.93 1522.75 1294.93 1529.87 Q1294.93 1536.98 1296.74 1540.55 Q1298.57 1544.09 1302.18 1544.09 Q1305.81 1544.09 1307.62 1540.55 Q1309.45 1536.98 1309.45 1529.87 Q1309.45 1522.75 1307.62 1519.2 Q1305.81 1515.64 1302.18 1515.64 M1302.18 1511.93 Q1307.99 1511.93 1311.04 1516.54 Q1314.12 1521.12 1314.12 1529.87 Q1314.12 1538.6 1311.04 1543.21 Q1307.99 1547.79 1302.18 1547.79 Q1296.37 1547.79 1293.29 1543.21 Q1290.23 1538.6 1290.23 1529.87 Q1290.23 1521.12 1293.29 1516.54 Q1296.37 1511.93 1302.18 1511.93 Z\" fill=\"#000000\" fill-rule=\"evenodd\" fill-opacity=\"1\" /><path clip-path=\"url(#clip670)\" d=\"M 0 0 M1721.16 1515.64 Q1717.55 1515.64 1715.72 1519.2 Q1713.92 1522.75 1713.92 1529.87 Q1713.92 1536.98 1715.72 1540.55 Q1717.55 1544.09 1721.16 1544.09 Q1724.8 1544.09 1726.6 1540.55 Q1728.43 1536.98 1728.43 1529.87 Q1728.43 1522.75 1726.6 1519.2 Q1724.8 1515.64 1721.16 1515.64 M1721.16 1511.93 Q1726.97 1511.93 1730.03 1516.54 Q1733.11 1521.12 1733.11 1529.87 Q1733.11 1538.6 1730.03 1543.21 Q1726.97 1547.79 1721.16 1547.79 Q1715.35 1547.79 1712.27 1543.21 Q1709.22 1538.6 1709.22 1529.87 Q1709.22 1521.12 1712.27 1516.54 Q1715.35 1511.93 1721.16 1511.93 Z\" fill=\"#000000\" fill-rule=\"evenodd\" fill-opacity=\"1\" /><path clip-path=\"url(#clip670)\" d=\"M 0 0 M1738.18 1541.24 L1743.06 1541.24 L1743.06 1547.12 L1738.18 1547.12 L1738.18 1541.24 Z\" fill=\"#000000\" fill-rule=\"evenodd\" fill-opacity=\"1\" /><path clip-path=\"url(#clip670)\" d=\"M 0 0 M1746.95 1512.56 L1769.17 1512.56 L1769.17 1514.55 L1756.63 1547.12 L1751.74 1547.12 L1763.55 1516.5 L1746.95 1516.5 L1746.95 1512.56 Z\" fill=\"#000000\" fill-rule=\"evenodd\" fill-opacity=\"1\" /><path clip-path=\"url(#clip670)\" d=\"M 0 0 M1774.29 1512.56 L1792.64 1512.56 L1792.64 1516.5 L1778.57 1516.5 L1778.57 1524.97 Q1779.59 1524.62 1780.61 1524.46 Q1781.63 1524.27 1782.64 1524.27 Q1788.43 1524.27 1791.81 1527.44 Q1795.19 1530.62 1795.19 1536.03 Q1795.19 1541.61 1791.72 1544.71 Q1788.25 1547.79 1781.93 1547.79 Q1779.75 1547.79 1777.48 1547.42 Q1775.24 1547.05 1772.83 1546.31 L1772.83 1541.61 Q1774.91 1542.74 1777.13 1543.3 Q1779.36 1543.86 1781.83 1543.86 Q1785.84 1543.86 1788.18 1541.75 Q1790.51 1539.64 1790.51 1536.03 Q1790.51 1532.42 1788.18 1530.31 Q1785.84 1528.21 1781.83 1528.21 Q1779.96 1528.21 1778.08 1528.62 Q1776.23 1529.04 1774.29 1529.92 L1774.29 1512.56 Z\" fill=\"#000000\" fill-rule=\"evenodd\" fill-opacity=\"1\" /><path clip-path=\"url(#clip670)\" d=\"M 0 0 M2192.12 1543.18 L2199.75 1543.18 L2199.75 1516.82 L2191.44 1518.49 L2191.44 1514.23 L2199.71 1512.56 L2204.38 1512.56 L2204.38 1543.18 L2212.02 1543.18 L2212.02 1547.12 L2192.12 1547.12 L2192.12 1543.18 Z\" fill=\"#000000\" fill-rule=\"evenodd\" fill-opacity=\"1\" /><path clip-path=\"url(#clip670)\" d=\"M 0 0 M2217.09 1541.24 L2221.98 1541.24 L2221.98 1547.12 L2217.09 1547.12 L2217.09 1541.24 Z\" fill=\"#000000\" fill-rule=\"evenodd\" fill-opacity=\"1\" /><path clip-path=\"url(#clip670)\" d=\"M 0 0 M2237.05 1515.64 Q2233.43 1515.64 2231.61 1519.2 Q2229.8 1522.75 2229.8 1529.87 Q2229.8 1536.98 2231.61 1540.55 Q2233.43 1544.09 2237.05 1544.09 Q2240.68 1544.09 2242.49 1540.55 Q2244.31 1536.98 2244.31 1529.87 Q2244.31 1522.75 2242.49 1519.2 Q2240.68 1515.64 2237.05 1515.64 M2237.05 1511.93 Q2242.86 1511.93 2245.91 1516.54 Q2248.99 1521.12 2248.99 1529.87 Q2248.99 1538.6 2245.91 1543.21 Q2242.86 1547.79 2237.05 1547.79 Q2231.24 1547.79 2228.16 1543.21 Q2225.1 1538.6 2225.1 1529.87 Q2225.1 1521.12 2228.16 1516.54 Q2231.24 1511.93 2237.05 1511.93 Z\" fill=\"#000000\" fill-rule=\"evenodd\" fill-opacity=\"1\" /><path clip-path=\"url(#clip670)\" d=\"M 0 0 M2264.06 1515.64 Q2260.45 1515.64 2258.62 1519.2 Q2256.81 1522.75 2256.81 1529.87 Q2256.81 1536.98 2258.62 1540.55 Q2260.45 1544.09 2264.06 1544.09 Q2267.69 1544.09 2269.5 1540.55 Q2271.33 1536.98 2271.33 1529.87 Q2271.33 1522.75 2269.5 1519.2 Q2267.69 1515.64 2264.06 1515.64 M2264.06 1511.93 Q2269.87 1511.93 2272.93 1516.54 Q2276 1521.12 2276 1529.87 Q2276 1538.6 2272.93 1543.21 Q2269.87 1547.79 2264.06 1547.79 Q2258.25 1547.79 2255.17 1543.21 Q2252.12 1538.6 2252.12 1529.87 Q2252.12 1521.12 2255.17 1516.54 Q2258.25 1511.93 2264.06 1511.93 Z\" fill=\"#000000\" fill-rule=\"evenodd\" fill-opacity=\"1\" /><polyline clip-path=\"url(#clip672)\" style=\"stroke:#000000; stroke-width:2; stroke-opacity:0.1; fill:none\" points=\"\n",
       "  188.612,1445.72 2352.76,1445.72 \n",
       "  \"/>\n",
       "<polyline clip-path=\"url(#clip672)\" style=\"stroke:#000000; stroke-width:2; stroke-opacity:0.1; fill:none\" points=\"\n",
       "  188.612,1106.28 2352.76,1106.28 \n",
       "  \"/>\n",
       "<polyline clip-path=\"url(#clip672)\" style=\"stroke:#000000; stroke-width:2; stroke-opacity:0.1; fill:none\" points=\"\n",
       "  188.612,766.846 2352.76,766.846 \n",
       "  \"/>\n",
       "<polyline clip-path=\"url(#clip672)\" style=\"stroke:#000000; stroke-width:2; stroke-opacity:0.1; fill:none\" points=\"\n",
       "  188.612,427.411 2352.76,427.411 \n",
       "  \"/>\n",
       "<polyline clip-path=\"url(#clip672)\" style=\"stroke:#000000; stroke-width:2; stroke-opacity:0.1; fill:none\" points=\"\n",
       "  188.612,87.9763 2352.76,87.9763 \n",
       "  \"/>\n",
       "<polyline clip-path=\"url(#clip670)\" style=\"stroke:#000000; stroke-width:4; stroke-opacity:1; fill:none\" points=\"\n",
       "  188.612,1486.45 188.612,47.2441 \n",
       "  \"/>\n",
       "<polyline clip-path=\"url(#clip670)\" style=\"stroke:#000000; stroke-width:4; stroke-opacity:1; fill:none\" points=\"\n",
       "  188.612,1445.72 214.582,1445.72 \n",
       "  \"/>\n",
       "<polyline clip-path=\"url(#clip670)\" style=\"stroke:#000000; stroke-width:4; stroke-opacity:1; fill:none\" points=\"\n",
       "  188.612,1106.28 214.582,1106.28 \n",
       "  \"/>\n",
       "<polyline clip-path=\"url(#clip670)\" style=\"stroke:#000000; stroke-width:4; stroke-opacity:1; fill:none\" points=\"\n",
       "  188.612,766.846 214.582,766.846 \n",
       "  \"/>\n",
       "<polyline clip-path=\"url(#clip670)\" style=\"stroke:#000000; stroke-width:4; stroke-opacity:1; fill:none\" points=\"\n",
       "  188.612,427.411 214.582,427.411 \n",
       "  \"/>\n",
       "<polyline clip-path=\"url(#clip670)\" style=\"stroke:#000000; stroke-width:4; stroke-opacity:1; fill:none\" points=\"\n",
       "  188.612,87.9763 214.582,87.9763 \n",
       "  \"/>\n",
       "<path clip-path=\"url(#clip670)\" d=\"M 0 0 M140.668 1431.51 Q137.056 1431.51 135.228 1435.08 Q133.422 1438.62 133.422 1445.75 Q133.422 1452.86 135.228 1456.42 Q137.056 1459.96 140.668 1459.96 Q144.302 1459.96 146.107 1456.42 Q147.936 1452.86 147.936 1445.75 Q147.936 1438.62 146.107 1435.08 Q144.302 1431.51 140.668 1431.51 M140.668 1427.81 Q146.478 1427.81 149.533 1432.42 Q152.612 1437 152.612 1445.75 Q152.612 1454.48 149.533 1459.08 Q146.478 1463.67 140.668 1463.67 Q134.857 1463.67 131.779 1459.08 Q128.723 1454.48 128.723 1445.75 Q128.723 1437 131.779 1432.42 Q134.857 1427.81 140.668 1427.81 Z\" fill=\"#000000\" fill-rule=\"evenodd\" fill-opacity=\"1\" /><path clip-path=\"url(#clip670)\" d=\"M 0 0 M83.2605 1119.63 L99.5798 1119.63 L99.5798 1123.56 L77.6355 1123.56 L77.6355 1119.63 Q80.2975 1116.87 84.8808 1112.24 Q89.4873 1107.59 90.6678 1106.25 Q92.9132 1103.72 93.7928 1101.99 Q94.6956 1100.23 94.6956 1098.54 Q94.6956 1095.78 92.7512 1094.05 Q90.8299 1092.31 87.728 1092.31 Q85.529 1092.31 83.0753 1093.07 Q80.6447 1093.84 77.867 1095.39 L77.867 1090.67 Q80.691 1089.53 83.1447 1088.95 Q85.5984 1088.38 87.6354 1088.38 Q93.0058 1088.38 96.2002 1091.06 Q99.3946 1093.75 99.3946 1098.24 Q99.3946 1100.37 98.5845 1102.29 Q97.7974 1104.19 95.691 1106.78 Q95.1123 1107.45 92.0104 1110.67 Q88.9086 1113.86 83.2605 1119.63 Z\" fill=\"#000000\" fill-rule=\"evenodd\" fill-opacity=\"1\" /><path clip-path=\"url(#clip670)\" d=\"M 0 0 M104.696 1089 L123.052 1089 L123.052 1092.94 L108.978 1092.94 L108.978 1101.41 Q109.996 1101.06 111.015 1100.9 Q112.033 1100.71 113.052 1100.71 Q118.839 1100.71 122.219 1103.89 Q125.598 1107.06 125.598 1112.47 Q125.598 1118.05 122.126 1121.15 Q118.654 1124.23 112.334 1124.23 Q110.158 1124.23 107.89 1123.86 Q105.645 1123.49 103.237 1122.75 L103.237 1118.05 Q105.321 1119.19 107.543 1119.74 Q109.765 1120.3 112.242 1120.3 Q116.246 1120.3 118.584 1118.19 Q120.922 1116.08 120.922 1112.47 Q120.922 1108.86 118.584 1106.76 Q116.246 1104.65 112.242 1104.65 Q110.367 1104.65 108.492 1105.07 Q106.64 1105.48 104.696 1106.36 L104.696 1089 Z\" fill=\"#000000\" fill-rule=\"evenodd\" fill-opacity=\"1\" /><path clip-path=\"url(#clip670)\" d=\"M 0 0 M140.668 1092.08 Q137.056 1092.08 135.228 1095.64 Q133.422 1099.19 133.422 1106.32 Q133.422 1113.42 135.228 1116.99 Q137.056 1120.53 140.668 1120.53 Q144.302 1120.53 146.107 1116.99 Q147.936 1113.42 147.936 1106.32 Q147.936 1099.19 146.107 1095.64 Q144.302 1092.08 140.668 1092.08 M140.668 1088.38 Q146.478 1088.38 149.533 1092.98 Q152.612 1097.57 152.612 1106.32 Q152.612 1115.04 149.533 1119.65 Q146.478 1124.23 140.668 1124.23 Q134.857 1124.23 131.779 1119.65 Q128.723 1115.04 128.723 1106.32 Q128.723 1097.57 131.779 1092.98 Q134.857 1088.38 140.668 1088.38 Z\" fill=\"#000000\" fill-rule=\"evenodd\" fill-opacity=\"1\" /><path clip-path=\"url(#clip670)\" d=\"M 0 0 M77.6818 749.566 L96.0382 749.566 L96.0382 753.501 L81.9642 753.501 L81.9642 761.973 Q82.9827 761.626 84.0012 761.464 Q85.0197 761.279 86.0382 761.279 Q91.8252 761.279 95.2049 764.45 Q98.5845 767.621 98.5845 773.038 Q98.5845 778.617 95.1123 781.719 Q91.6401 784.797 85.3206 784.797 Q83.1447 784.797 80.8762 784.427 Q78.6309 784.057 76.2235 783.316 L76.2235 778.617 Q78.3068 779.751 80.529 780.307 Q82.7512 780.862 85.2281 780.862 Q89.2327 780.862 91.5706 778.756 Q93.9086 776.649 93.9086 773.038 Q93.9086 769.427 91.5706 767.321 Q89.2327 765.214 85.2281 765.214 Q83.3531 765.214 81.4781 765.631 Q79.6262 766.047 77.6818 766.927 L77.6818 749.566 Z\" fill=\"#000000\" fill-rule=\"evenodd\" fill-opacity=\"1\" /><path clip-path=\"url(#clip670)\" d=\"M 0 0 M113.654 752.645 Q110.043 752.645 108.214 756.209 Q106.408 759.751 106.408 766.881 Q106.408 773.987 108.214 777.552 Q110.043 781.094 113.654 781.094 Q117.288 781.094 119.094 777.552 Q120.922 773.987 120.922 766.881 Q120.922 759.751 119.094 756.209 Q117.288 752.645 113.654 752.645 M113.654 748.941 Q119.464 748.941 122.52 753.547 Q125.598 758.131 125.598 766.881 Q125.598 775.608 122.52 780.214 Q119.464 784.797 113.654 784.797 Q107.844 784.797 104.765 780.214 Q101.709 775.608 101.709 766.881 Q101.709 758.131 104.765 753.547 Q107.844 748.941 113.654 748.941 Z\" fill=\"#000000\" fill-rule=\"evenodd\" fill-opacity=\"1\" /><path clip-path=\"url(#clip670)\" d=\"M 0 0 M140.668 752.645 Q137.056 752.645 135.228 756.209 Q133.422 759.751 133.422 766.881 Q133.422 773.987 135.228 777.552 Q137.056 781.094 140.668 781.094 Q144.302 781.094 146.107 777.552 Q147.936 773.987 147.936 766.881 Q147.936 759.751 146.107 756.209 Q144.302 752.645 140.668 752.645 M140.668 748.941 Q146.478 748.941 149.533 753.547 Q152.612 758.131 152.612 766.881 Q152.612 775.608 149.533 780.214 Q146.478 784.797 140.668 784.797 Q134.857 784.797 131.779 780.214 Q128.723 775.608 128.723 766.881 Q128.723 758.131 131.779 753.547 Q134.857 748.941 140.668 748.941 Z\" fill=\"#000000\" fill-rule=\"evenodd\" fill-opacity=\"1\" /><path clip-path=\"url(#clip670)\" d=\"M 0 0 M77.3577 410.131 L99.5798 410.131 L99.5798 412.122 L87.0336 444.691 L82.1494 444.691 L93.9549 414.066 L77.3577 414.066 L77.3577 410.131 Z\" fill=\"#000000\" fill-rule=\"evenodd\" fill-opacity=\"1\" /><path clip-path=\"url(#clip670)\" d=\"M 0 0 M104.696 410.131 L123.052 410.131 L123.052 414.066 L108.978 414.066 L108.978 422.538 Q109.996 422.191 111.015 422.029 Q112.033 421.844 113.052 421.844 Q118.839 421.844 122.219 425.015 Q125.598 428.187 125.598 433.603 Q125.598 439.182 122.126 442.284 Q118.654 445.362 112.334 445.362 Q110.158 445.362 107.89 444.992 Q105.645 444.622 103.237 443.881 L103.237 439.182 Q105.321 440.316 107.543 440.872 Q109.765 441.427 112.242 441.427 Q116.246 441.427 118.584 439.321 Q120.922 437.214 120.922 433.603 Q120.922 429.992 118.584 427.886 Q116.246 425.779 112.242 425.779 Q110.367 425.779 108.492 426.196 Q106.64 426.613 104.696 427.492 L104.696 410.131 Z\" fill=\"#000000\" fill-rule=\"evenodd\" fill-opacity=\"1\" /><path clip-path=\"url(#clip670)\" d=\"M 0 0 M140.668 413.21 Q137.056 413.21 135.228 416.775 Q133.422 420.316 133.422 427.446 Q133.422 434.552 135.228 438.117 Q137.056 441.659 140.668 441.659 Q144.302 441.659 146.107 438.117 Q147.936 434.552 147.936 427.446 Q147.936 420.316 146.107 416.775 Q144.302 413.21 140.668 413.21 M140.668 409.506 Q146.478 409.506 149.533 414.113 Q152.612 418.696 152.612 427.446 Q152.612 436.173 149.533 440.779 Q146.478 445.362 140.668 445.362 Q134.857 445.362 131.779 440.779 Q128.723 436.173 128.723 427.446 Q128.723 418.696 131.779 414.113 Q134.857 409.506 140.668 409.506 Z\" fill=\"#000000\" fill-rule=\"evenodd\" fill-opacity=\"1\" /><path clip-path=\"url(#clip670)\" d=\"M 0 0 M51.6634 101.321 L59.3023 101.321 L59.3023 74.9555 L50.9921 76.6222 L50.9921 72.3629 L59.256 70.6963 L63.9319 70.6963 L63.9319 101.321 L71.5707 101.321 L71.5707 105.256 L51.6634 105.256 L51.6634 101.321 Z\" fill=\"#000000\" fill-rule=\"evenodd\" fill-opacity=\"1\" /><path clip-path=\"url(#clip670)\" d=\"M 0 0 M86.6401 73.775 Q83.029 73.775 81.2003 77.3398 Q79.3948 80.8814 79.3948 88.011 Q79.3948 95.1174 81.2003 98.6822 Q83.029 102.224 86.6401 102.224 Q90.2743 102.224 92.0799 98.6822 Q93.9086 95.1174 93.9086 88.011 Q93.9086 80.8814 92.0799 77.3398 Q90.2743 73.775 86.6401 73.775 M86.6401 70.0713 Q92.4502 70.0713 95.5058 74.6777 Q98.5845 79.261 98.5845 88.011 Q98.5845 96.7378 95.5058 101.344 Q92.4502 105.928 86.6401 105.928 Q80.8299 105.928 77.7512 101.344 Q74.6957 96.7378 74.6957 88.011 Q74.6957 79.261 77.7512 74.6777 Q80.8299 70.0713 86.6401 70.0713 Z\" fill=\"#000000\" fill-rule=\"evenodd\" fill-opacity=\"1\" /><path clip-path=\"url(#clip670)\" d=\"M 0 0 M113.654 73.775 Q110.043 73.775 108.214 77.3398 Q106.408 80.8814 106.408 88.011 Q106.408 95.1174 108.214 98.6822 Q110.043 102.224 113.654 102.224 Q117.288 102.224 119.094 98.6822 Q120.922 95.1174 120.922 88.011 Q120.922 80.8814 119.094 77.3398 Q117.288 73.775 113.654 73.775 M113.654 70.0713 Q119.464 70.0713 122.52 74.6777 Q125.598 79.261 125.598 88.011 Q125.598 96.7378 122.52 101.344 Q119.464 105.928 113.654 105.928 Q107.844 105.928 104.765 101.344 Q101.709 96.7378 101.709 88.011 Q101.709 79.261 104.765 74.6777 Q107.844 70.0713 113.654 70.0713 Z\" fill=\"#000000\" fill-rule=\"evenodd\" fill-opacity=\"1\" /><path clip-path=\"url(#clip670)\" d=\"M 0 0 M140.668 73.775 Q137.056 73.775 135.228 77.3398 Q133.422 80.8814 133.422 88.011 Q133.422 95.1174 135.228 98.6822 Q137.056 102.224 140.668 102.224 Q144.302 102.224 146.107 98.6822 Q147.936 95.1174 147.936 88.011 Q147.936 80.8814 146.107 77.3398 Q144.302 73.775 140.668 73.775 M140.668 70.0713 Q146.478 70.0713 149.533 74.6777 Q152.612 79.261 152.612 88.011 Q152.612 96.7378 149.533 101.344 Q146.478 105.928 140.668 105.928 Q134.857 105.928 131.779 101.344 Q128.723 96.7378 128.723 88.011 Q128.723 79.261 131.779 74.6777 Q134.857 70.0713 140.668 70.0713 Z\" fill=\"#000000\" fill-rule=\"evenodd\" fill-opacity=\"1\" /><path clip-path=\"url(#clip672)\" d=\"\n",
       "M307.644 87.9763 L307.644 1445.72 L2233.72 1445.72 L2233.72 87.9763 L307.644 87.9763 L307.644 87.9763  Z\n",
       "  \" fill=\"#009af9\" fill-rule=\"evenodd\" fill-opacity=\"1\"/>\n",
       "<polyline clip-path=\"url(#clip672)\" style=\"stroke:#000000; stroke-width:4; stroke-opacity:1; fill:none\" points=\"\n",
       "  307.644,87.9763 307.644,1445.72 2233.72,1445.72 2233.72,87.9763 307.644,87.9763 \n",
       "  \"/>\n",
       "<path clip-path=\"url(#clip670)\" d=\"\n",
       "M1989.14 216.178 L2280.62 216.178 L2280.62 95.2176 L1989.14 95.2176  Z\n",
       "  \" fill=\"#ffffff\" fill-rule=\"evenodd\" fill-opacity=\"1\"/>\n",
       "<polyline clip-path=\"url(#clip670)\" style=\"stroke:#000000; stroke-width:4; stroke-opacity:1; fill:none\" points=\"\n",
       "  1989.14,216.178 2280.62,216.178 2280.62,95.2176 1989.14,95.2176 1989.14,216.178 \n",
       "  \"/>\n",
       "<path clip-path=\"url(#clip670)\" d=\"\n",
       "M2013.19 179.89 L2157.46 179.89 L2157.46 131.506 L2013.19 131.506 L2013.19 179.89  Z\n",
       "  \" fill=\"#009af9\" fill-rule=\"evenodd\" fill-opacity=\"1\"/>\n",
       "<polyline clip-path=\"url(#clip670)\" style=\"stroke:#000000; stroke-width:4; stroke-opacity:1; fill:none\" points=\"\n",
       "  2013.19,179.89 2157.46,179.89 2157.46,131.506 2013.19,131.506 2013.19,179.89 \n",
       "  \"/>\n",
       "<path clip-path=\"url(#clip670)\" d=\"M 0 0 M2195.35 175.385 Q2193.54 180.015 2191.83 181.427 Q2190.12 182.839 2187.25 182.839 L2183.85 182.839 L2183.85 179.274 L2186.35 179.274 Q2188.1 179.274 2189.08 178.44 Q2190.05 177.607 2191.23 174.505 L2191.99 172.561 L2181.51 147.052 L2186.02 147.052 L2194.12 167.329 L2202.22 147.052 L2206.74 147.052 L2195.35 175.385 Z\" fill=\"#000000\" fill-rule=\"evenodd\" fill-opacity=\"1\" /><path clip-path=\"url(#clip670)\" d=\"M 0 0 M2212.62 169.042 L2220.26 169.042 L2220.26 142.677 L2211.95 144.343 L2211.95 140.084 L2220.21 138.418 L2224.89 138.418 L2224.89 169.042 L2232.53 169.042 L2232.53 172.978 L2212.62 172.978 L2212.62 169.042 Z\" fill=\"#000000\" fill-rule=\"evenodd\" fill-opacity=\"1\" /></svg>\n"
      ]
     },
     "execution_count": 18,
     "metadata": {},
     "output_type": "execute_result"
    }
   ],
   "source": [
    "m = agent(KING, true)\n",
    "chains = sample(m, IS(), 1000 , n_chains=1, progress = true)\n",
    "histogram(generated_quantities(m, chains))"
   ]
  },
  {
   "cell_type": "markdown",
   "metadata": {},
   "source": [
    "We want to learn 6 parameters, we will do it by conditioning on the history.\n",
    "After learning the parameters we will sample a decision as posterior from the learned parameters."
   ]
  },
  {
   "cell_type": "code",
   "execution_count": 9,
   "metadata": {},
   "outputs": [
    {
     "data": {
      "text/plain": [
       "first_bet_and_won (generic function with 1 method)"
      ]
     },
     "execution_count": 9,
     "metadata": {},
     "output_type": "execute_result"
    }
   ],
   "source": [
    "function first_bet_and_won(history)\n",
    "    first_won = [history[i][2] > 0 for i=1:length(history)]\n",
    "    first_bet = [history[i][1][1][1][2] == BET for i=1:length(history)]\n",
    "    return first_bet .& first_won\n",
    "end"
   ]
  },
  {
   "cell_type": "code",
   "execution_count": 10,
   "metadata": {},
   "outputs": [
    {
     "data": {
      "text/plain": [
       "second_bet_and_won (generic function with 1 method)"
      ]
     },
     "execution_count": 10,
     "metadata": {},
     "output_type": "execute_result"
    }
   ],
   "source": [
    "function second_bet_and_won(history)\n",
    "    second_won = [history[i][2] < 0 for i=1:length(history)]\n",
    "    second_bet = [history[i][1][1][2][2] == BET for i=1:length(history)]\n",
    "    return second_bet .& second_won\n",
    "end"
   ]
  },
  {
   "cell_type": "code",
   "execution_count": 11,
   "metadata": {},
   "outputs": [
    {
     "data": {
      "text/plain": [
       "first_call_and_won (generic function with 1 method)"
      ]
     },
     "execution_count": 11,
     "metadata": {},
     "output_type": "execute_result"
    }
   ],
   "source": [
    "function first_call_and_won(history)\n",
    "    first_won = [history[i][2] > 0 for i=1:length(history)]\n",
    "    first_call = [length(history[i][1]) > 1 ? history[i][1][2][1][2] == CHECK : false for i=1:length(history)]\n",
    "    bet_is_on = [length(history[i][1]) > 1 ? history[i][1][2][1][3] : false for i=1:length(history)]\n",
    "    return first_call .& first_won .& bet_is_on\n",
    "end"
   ]
  },
  {
   "cell_type": "code",
   "execution_count": 12,
   "metadata": {},
   "outputs": [
    {
     "data": {
      "text/plain": [
       "second_call_and_won (generic function with 1 method)"
      ]
     },
     "execution_count": 12,
     "metadata": {},
     "output_type": "execute_result"
    }
   ],
   "source": [
    "function second_call_and_won(history)\n",
    "    second_won = [history[i][2] < 0 for i=1:length(history)]\n",
    "    second_call = [history[i][1][1][2][2] == CHECK for i=1:length(history)]\n",
    "    bet_is_on = [history[i][1][1][2][3] for i=1:length(history)]\n",
    "    return second_call .& second_won .& bet_is_on\n",
    "end"
   ]
  },
  {
   "cell_type": "code",
   "execution_count": 13,
   "metadata": {},
   "outputs": [
    {
     "data": {
      "text/plain": [
       "poker_agent (generic function with 6 methods)"
      ]
     },
     "execution_count": 13,
     "metadata": {},
     "output_type": "execute_result"
    }
   ],
   "source": [
    "@model function poker_agent(my_card, bet_is_on = false, history=[], called_and_won=[], betted_and_won = [], player_index = 1)\n",
    "    j_call ~ Uniform(0, 1)\n",
    "    j_bet ~ Uniform(0, 1)\n",
    "    q_call ~ Uniform(0, 1)\n",
    "    q_bet ~ Uniform(0, 1)\n",
    "    k_call ~ Uniform(0, 1)\n",
    "    k_bet ~ Uniform(0, 1)\n",
    "    \n",
    "    # learning phase\n",
    "    for i in 1:length(history)\n",
    "        stages = history[i][1]\n",
    "#         println(\"stages $stages\")\n",
    "        for j in 1:length(stages)\n",
    "#             println(\"history[i][1][j] $history[i][1][j]\")\n",
    "            i_is_betting_round = history[i][1][j][player_index][3]\n",
    "            \n",
    "            # extracting player's information\n",
    "            i_my_card = history[i][1][j][player_index][1]\n",
    "            i_my_action = history[i][1][j][player_index][2]\n",
    "\n",
    "            if i_is_betting_round\n",
    "                if i_my_card == JACK\n",
    "                    called_and_won[i] ~ Bernoulli(j_call)\n",
    "                    # negative reward to call\n",
    "                elseif i_my_card == QUEEN\n",
    "                    called_and_won[i] ~ Bernoulli(q_call)\n",
    "                    # when the other play has jack - positive\n",
    "                    # else negative\n",
    "                else # King\n",
    "                    called_and_won[i] ~ Bernoulli(k_call)\n",
    "                    # positive reward to call\n",
    "                end\n",
    "            else\n",
    "                if i_my_card == JACK\n",
    "                    betted_and_won[i] ~ Bernoulli(j_bet)\n",
    "                    # when the other player folded - positive\n",
    "                    # when called - negative\n",
    "                elseif i_my_card == QUEEN\n",
    "                    betted_and_won[i] ~ Bernoulli(q_bet)\n",
    "                    # when other player has Jack positive, otherwise negative \n",
    "                else # King\n",
    "                    betted_and_won[i] ~ Bernoulli(k_bet)\n",
    "                    # positive reward to call, more positive towards slowplaying and then other calling\n",
    "                end\n",
    "            end\n",
    "        end\n",
    "    end\n",
    "    \n",
    "    # decision phase\n",
    "    if bet_is_on\n",
    "        if my_card == JACK\n",
    "            action ~ Bernoulli(j_call)\n",
    "        elseif my_card == QUEEN\n",
    "            action ~ Bernoulli(q_call)\n",
    "        else # King\n",
    "            action ~ Bernoulli(k_call)\n",
    "        end\n",
    "    else\n",
    "        if my_card == JACK\n",
    "            action ~ Bernoulli(j_bet)\n",
    "        elseif my_card == QUEEN            \n",
    "            action ~ Bernoulli(q_bet)\n",
    "            # when other player has Jack positive, otherwise negative \n",
    "        else # King\n",
    "            action ~ Bernoulli(k_bet)\n",
    "        end\n",
    "    end\n",
    "    return action\n",
    "end"
   ]
  },
  {
   "cell_type": "markdown",
   "metadata": {},
   "source": [
    "### given chain result (posterior), sample an action"
   ]
  },
  {
   "cell_type": "code",
   "execution_count": 14,
   "metadata": {},
   "outputs": [
    {
     "data": {
      "text/plain": [
       "plotChn_action (generic function with 1 method)"
      ]
     },
     "execution_count": 14,
     "metadata": {},
     "output_type": "execute_result"
    }
   ],
   "source": [
    "# Plot the results\n",
    "function plotChn_action(chn)\n",
    "    histogram(chn[:action], weights=exp.(chn[:lp]), normalize=:probability)\n",
    "end"
   ]
  },
  {
   "cell_type": "code",
   "execution_count": 15,
   "metadata": {},
   "outputs": [
    {
     "data": {
      "text/plain": [
       "sample_action_from_computed_posterior (generic function with 1 method)"
      ]
     },
     "execution_count": 15,
     "metadata": {},
     "output_type": "execute_result"
    }
   ],
   "source": [
    "function sample_action_from_computed_posterior(chn)\n",
    "    weights = exp.(chn[:lp][:, 1])\n",
    "    weights = Weights(weights/sum(weights))\n",
    "    idx = sample(collect(1:length(weights)), weights)\n",
    "    move_sample = chn[:action][idx, 1]\n",
    "    return move_sample\n",
    "end"
   ]
  },
  {
   "cell_type": "markdown",
   "metadata": {},
   "source": [
    "### Posterior of actions without history"
   ]
  },
  {
   "cell_type": "code",
   "execution_count": 16,
   "metadata": {},
   "outputs": [
    {
     "name": "stderr",
     "output_type": "stream",
     "text": [
      "\u001b[32mSampling: 100%|█████████████████████████████████████████| Time: 0:00:01\u001b[39m\n"
     ]
    },
    {
     "data": {
      "image/svg+xml": [
       "<?xml version=\"1.0\" encoding=\"utf-8\"?>\n",
       "<svg xmlns=\"http://www.w3.org/2000/svg\" xmlns:xlink=\"http://www.w3.org/1999/xlink\" width=\"600\" height=\"400\" viewBox=\"0 0 2400 1600\">\n",
       "<defs>\n",
       "  <clipPath id=\"clip240\">\n",
       "    <rect x=\"0\" y=\"0\" width=\"2400\" height=\"1600\"/>\n",
       "  </clipPath>\n",
       "</defs>\n",
       "<path clip-path=\"url(#clip240)\" d=\"\n",
       "M0 1600 L2400 1600 L2400 0 L0 0  Z\n",
       "  \" fill=\"#ffffff\" fill-rule=\"evenodd\" fill-opacity=\"1\"/>\n",
       "<defs>\n",
       "  <clipPath id=\"clip241\">\n",
       "    <rect x=\"480\" y=\"0\" width=\"1681\" height=\"1600\"/>\n",
       "  </clipPath>\n",
       "</defs>\n",
       "<path clip-path=\"url(#clip240)\" d=\"\n",
       "M148.334 1486.45 L2352.76 1486.45 L2352.76 47.2441 L148.334 47.2441  Z\n",
       "  \" fill=\"#ffffff\" fill-rule=\"evenodd\" fill-opacity=\"1\"/>\n",
       "<defs>\n",
       "  <clipPath id=\"clip242\">\n",
       "    <rect x=\"148\" y=\"47\" width=\"2205\" height=\"1440\"/>\n",
       "  </clipPath>\n",
       "</defs>\n",
       "<polyline clip-path=\"url(#clip242)\" style=\"stroke:#000000; stroke-width:2; stroke-opacity:0.1; fill:none\" points=\"\n",
       "  269.581,1486.45 269.581,47.2441 \n",
       "  \"/>\n",
       "<polyline clip-path=\"url(#clip242)\" style=\"stroke:#000000; stroke-width:2; stroke-opacity:0.1; fill:none\" points=\"\n",
       "  715.474,1486.45 715.474,47.2441 \n",
       "  \"/>\n",
       "<polyline clip-path=\"url(#clip242)\" style=\"stroke:#000000; stroke-width:2; stroke-opacity:0.1; fill:none\" points=\"\n",
       "  1161.37,1486.45 1161.37,47.2441 \n",
       "  \"/>\n",
       "<polyline clip-path=\"url(#clip242)\" style=\"stroke:#000000; stroke-width:2; stroke-opacity:0.1; fill:none\" points=\"\n",
       "  1607.26,1486.45 1607.26,47.2441 \n",
       "  \"/>\n",
       "<polyline clip-path=\"url(#clip242)\" style=\"stroke:#000000; stroke-width:2; stroke-opacity:0.1; fill:none\" points=\"\n",
       "  2053.15,1486.45 2053.15,47.2441 \n",
       "  \"/>\n",
       "<polyline clip-path=\"url(#clip240)\" style=\"stroke:#000000; stroke-width:4; stroke-opacity:1; fill:none\" points=\"\n",
       "  148.334,1486.45 2352.76,1486.45 \n",
       "  \"/>\n",
       "<polyline clip-path=\"url(#clip240)\" style=\"stroke:#000000; stroke-width:4; stroke-opacity:1; fill:none\" points=\"\n",
       "  269.581,1486.45 269.581,1469.18 \n",
       "  \"/>\n",
       "<polyline clip-path=\"url(#clip240)\" style=\"stroke:#000000; stroke-width:4; stroke-opacity:1; fill:none\" points=\"\n",
       "  715.474,1486.45 715.474,1469.18 \n",
       "  \"/>\n",
       "<polyline clip-path=\"url(#clip240)\" style=\"stroke:#000000; stroke-width:4; stroke-opacity:1; fill:none\" points=\"\n",
       "  1161.37,1486.45 1161.37,1469.18 \n",
       "  \"/>\n",
       "<polyline clip-path=\"url(#clip240)\" style=\"stroke:#000000; stroke-width:4; stroke-opacity:1; fill:none\" points=\"\n",
       "  1607.26,1486.45 1607.26,1469.18 \n",
       "  \"/>\n",
       "<polyline clip-path=\"url(#clip240)\" style=\"stroke:#000000; stroke-width:4; stroke-opacity:1; fill:none\" points=\"\n",
       "  2053.15,1486.45 2053.15,1469.18 \n",
       "  \"/>\n",
       "<path clip-path=\"url(#clip240)\" d=\"M 0 0 M237.591 1515.64 Q233.98 1515.64 232.151 1519.2 Q230.346 1522.75 230.346 1529.87 Q230.346 1536.98 232.151 1540.55 Q233.98 1544.09 237.591 1544.09 Q241.225 1544.09 243.031 1540.55 Q244.859 1536.98 244.859 1529.87 Q244.859 1522.75 243.031 1519.2 Q241.225 1515.64 237.591 1515.64 M237.591 1511.93 Q243.401 1511.93 246.457 1516.54 Q249.535 1521.12 249.535 1529.87 Q249.535 1538.6 246.457 1543.21 Q243.401 1547.79 237.591 1547.79 Q231.781 1547.79 228.702 1543.21 Q225.647 1538.6 225.647 1529.87 Q225.647 1521.12 228.702 1516.54 Q231.781 1511.93 237.591 1511.93 Z\" fill=\"#000000\" fill-rule=\"evenodd\" fill-opacity=\"1\" /><path clip-path=\"url(#clip240)\" d=\"M 0 0 M254.605 1541.24 L259.489 1541.24 L259.489 1547.12 L254.605 1547.12 L254.605 1541.24 Z\" fill=\"#000000\" fill-rule=\"evenodd\" fill-opacity=\"1\" /><path clip-path=\"url(#clip240)\" d=\"M 0 0 M274.558 1515.64 Q270.947 1515.64 269.119 1519.2 Q267.313 1522.75 267.313 1529.87 Q267.313 1536.98 269.119 1540.55 Q270.947 1544.09 274.558 1544.09 Q278.193 1544.09 279.998 1540.55 Q281.827 1536.98 281.827 1529.87 Q281.827 1522.75 279.998 1519.2 Q278.193 1515.64 274.558 1515.64 M274.558 1511.93 Q280.368 1511.93 283.424 1516.54 Q286.503 1521.12 286.503 1529.87 Q286.503 1538.6 283.424 1543.21 Q280.368 1547.79 274.558 1547.79 Q268.748 1547.79 265.669 1543.21 Q262.614 1538.6 262.614 1529.87 Q262.614 1521.12 265.669 1516.54 Q268.748 1511.93 274.558 1511.93 Z\" fill=\"#000000\" fill-rule=\"evenodd\" fill-opacity=\"1\" /><path clip-path=\"url(#clip240)\" d=\"M 0 0 M301.572 1515.64 Q297.961 1515.64 296.132 1519.2 Q294.327 1522.75 294.327 1529.87 Q294.327 1536.98 296.132 1540.55 Q297.961 1544.09 301.572 1544.09 Q305.206 1544.09 307.012 1540.55 Q308.841 1536.98 308.841 1529.87 Q308.841 1522.75 307.012 1519.2 Q305.206 1515.64 301.572 1515.64 M301.572 1511.93 Q307.382 1511.93 310.438 1516.54 Q313.516 1521.12 313.516 1529.87 Q313.516 1538.6 310.438 1543.21 Q307.382 1547.79 301.572 1547.79 Q295.762 1547.79 292.683 1543.21 Q289.628 1538.6 289.628 1529.87 Q289.628 1521.12 292.683 1516.54 Q295.762 1511.93 301.572 1511.93 Z\" fill=\"#000000\" fill-rule=\"evenodd\" fill-opacity=\"1\" /><path clip-path=\"url(#clip240)\" d=\"M 0 0 M684.78 1515.64 Q681.169 1515.64 679.34 1519.2 Q677.534 1522.75 677.534 1529.87 Q677.534 1536.98 679.34 1540.55 Q681.169 1544.09 684.78 1544.09 Q688.414 1544.09 690.22 1540.55 Q692.048 1536.98 692.048 1529.87 Q692.048 1522.75 690.22 1519.2 Q688.414 1515.64 684.78 1515.64 M684.78 1511.93 Q690.59 1511.93 693.645 1516.54 Q696.724 1521.12 696.724 1529.87 Q696.724 1538.6 693.645 1543.21 Q690.59 1547.79 684.78 1547.79 Q678.97 1547.79 675.891 1543.21 Q672.835 1538.6 672.835 1529.87 Q672.835 1521.12 675.891 1516.54 Q678.97 1511.93 684.78 1511.93 Z\" fill=\"#000000\" fill-rule=\"evenodd\" fill-opacity=\"1\" /><path clip-path=\"url(#clip240)\" d=\"M 0 0 M701.794 1541.24 L706.678 1541.24 L706.678 1547.12 L701.794 1547.12 L701.794 1541.24 Z\" fill=\"#000000\" fill-rule=\"evenodd\" fill-opacity=\"1\" /><path clip-path=\"url(#clip240)\" d=\"M 0 0 M715.775 1543.18 L732.094 1543.18 L732.094 1547.12 L710.15 1547.12 L710.15 1543.18 Q712.812 1540.43 717.395 1535.8 Q722.002 1531.15 723.182 1529.81 Q725.428 1527.28 726.307 1525.55 Q727.21 1523.79 727.21 1522.1 Q727.21 1519.34 725.266 1517.61 Q723.344 1515.87 720.243 1515.87 Q718.043 1515.87 715.59 1516.63 Q713.159 1517.4 710.382 1518.95 L710.382 1514.23 Q713.206 1513.09 715.659 1512.51 Q718.113 1511.93 720.15 1511.93 Q725.52 1511.93 728.715 1514.62 Q731.909 1517.31 731.909 1521.8 Q731.909 1523.93 731.099 1525.85 Q730.312 1527.74 728.205 1530.34 Q727.627 1531.01 724.525 1534.23 Q721.423 1537.42 715.775 1543.18 Z\" fill=\"#000000\" fill-rule=\"evenodd\" fill-opacity=\"1\" /><path clip-path=\"url(#clip240)\" d=\"M 0 0 M737.21 1512.56 L755.566 1512.56 L755.566 1516.5 L741.492 1516.5 L741.492 1524.97 Q742.511 1524.62 743.529 1524.46 Q744.548 1524.27 745.566 1524.27 Q751.354 1524.27 754.733 1527.44 Q758.113 1530.62 758.113 1536.03 Q758.113 1541.61 754.641 1544.71 Q751.168 1547.79 744.849 1547.79 Q742.673 1547.79 740.404 1547.42 Q738.159 1547.05 735.752 1546.31 L735.752 1541.61 Q737.835 1542.74 740.057 1543.3 Q742.279 1543.86 744.756 1543.86 Q748.761 1543.86 751.099 1541.75 Q753.437 1539.64 753.437 1536.03 Q753.437 1532.42 751.099 1530.31 Q748.761 1528.21 744.756 1528.21 Q742.881 1528.21 741.006 1528.62 Q739.154 1529.04 737.21 1529.92 L737.21 1512.56 Z\" fill=\"#000000\" fill-rule=\"evenodd\" fill-opacity=\"1\" /><path clip-path=\"url(#clip240)\" d=\"M 0 0 M1129.87 1515.64 Q1126.26 1515.64 1124.43 1519.2 Q1122.63 1522.75 1122.63 1529.87 Q1122.63 1536.98 1124.43 1540.55 Q1126.26 1544.09 1129.87 1544.09 Q1133.51 1544.09 1135.31 1540.55 Q1137.14 1536.98 1137.14 1529.87 Q1137.14 1522.75 1135.31 1519.2 Q1133.51 1515.64 1129.87 1515.64 M1129.87 1511.93 Q1135.68 1511.93 1138.74 1516.54 Q1141.82 1521.12 1141.82 1529.87 Q1141.82 1538.6 1138.74 1543.21 Q1135.68 1547.79 1129.87 1547.79 Q1124.06 1547.79 1120.98 1543.21 Q1117.93 1538.6 1117.93 1529.87 Q1117.93 1521.12 1120.98 1516.54 Q1124.06 1511.93 1129.87 1511.93 Z\" fill=\"#000000\" fill-rule=\"evenodd\" fill-opacity=\"1\" /><path clip-path=\"url(#clip240)\" d=\"M 0 0 M1146.89 1541.24 L1151.77 1541.24 L1151.77 1547.12 L1146.89 1547.12 L1146.89 1541.24 Z\" fill=\"#000000\" fill-rule=\"evenodd\" fill-opacity=\"1\" /><path clip-path=\"url(#clip240)\" d=\"M 0 0 M1156.89 1512.56 L1175.24 1512.56 L1175.24 1516.5 L1161.17 1516.5 L1161.17 1524.97 Q1162.19 1524.62 1163.21 1524.46 Q1164.23 1524.27 1165.24 1524.27 Q1171.03 1524.27 1174.41 1527.44 Q1177.79 1530.62 1177.79 1536.03 Q1177.79 1541.61 1174.32 1544.71 Q1170.85 1547.79 1164.53 1547.79 Q1162.35 1547.79 1160.08 1547.42 Q1157.84 1547.05 1155.43 1546.31 L1155.43 1541.61 Q1157.51 1542.74 1159.73 1543.3 Q1161.96 1543.86 1164.43 1543.86 Q1168.44 1543.86 1170.78 1541.75 Q1173.11 1539.64 1173.11 1536.03 Q1173.11 1532.42 1170.78 1530.31 Q1168.44 1528.21 1164.43 1528.21 Q1162.56 1528.21 1160.68 1528.62 Q1158.83 1529.04 1156.89 1529.92 L1156.89 1512.56 Z\" fill=\"#000000\" fill-rule=\"evenodd\" fill-opacity=\"1\" /><path clip-path=\"url(#clip240)\" d=\"M 0 0 M1192.86 1515.64 Q1189.25 1515.64 1187.42 1519.2 Q1185.61 1522.75 1185.61 1529.87 Q1185.61 1536.98 1187.42 1540.55 Q1189.25 1544.09 1192.86 1544.09 Q1196.49 1544.09 1198.3 1540.55 Q1200.13 1536.98 1200.13 1529.87 Q1200.13 1522.75 1198.3 1519.2 Q1196.49 1515.64 1192.86 1515.64 M1192.86 1511.93 Q1198.67 1511.93 1201.73 1516.54 Q1204.8 1521.12 1204.8 1529.87 Q1204.8 1538.6 1201.73 1543.21 Q1198.67 1547.79 1192.86 1547.79 Q1187.05 1547.79 1183.97 1543.21 Q1180.92 1538.6 1180.92 1529.87 Q1180.92 1521.12 1183.97 1516.54 Q1187.05 1511.93 1192.86 1511.93 Z\" fill=\"#000000\" fill-rule=\"evenodd\" fill-opacity=\"1\" /><path clip-path=\"url(#clip240)\" d=\"M 0 0 M1576.22 1515.64 Q1572.61 1515.64 1570.78 1519.2 Q1568.97 1522.75 1568.97 1529.87 Q1568.97 1536.98 1570.78 1540.55 Q1572.61 1544.09 1576.22 1544.09 Q1579.85 1544.09 1581.66 1540.55 Q1583.49 1536.98 1583.49 1529.87 Q1583.49 1522.75 1581.66 1519.2 Q1579.85 1515.64 1576.22 1515.64 M1576.22 1511.93 Q1582.03 1511.93 1585.08 1516.54 Q1588.16 1521.12 1588.16 1529.87 Q1588.16 1538.6 1585.08 1543.21 Q1582.03 1547.79 1576.22 1547.79 Q1570.41 1547.79 1567.33 1543.21 Q1564.27 1538.6 1564.27 1529.87 Q1564.27 1521.12 1567.33 1516.54 Q1570.41 1511.93 1576.22 1511.93 Z\" fill=\"#000000\" fill-rule=\"evenodd\" fill-opacity=\"1\" /><path clip-path=\"url(#clip240)\" d=\"M 0 0 M1593.23 1541.24 L1598.12 1541.24 L1598.12 1547.12 L1593.23 1547.12 L1593.23 1541.24 Z\" fill=\"#000000\" fill-rule=\"evenodd\" fill-opacity=\"1\" /><path clip-path=\"url(#clip240)\" d=\"M 0 0 M1602 1512.56 L1624.23 1512.56 L1624.23 1514.55 L1611.68 1547.12 L1606.8 1547.12 L1618.6 1516.5 L1602 1516.5 L1602 1512.56 Z\" fill=\"#000000\" fill-rule=\"evenodd\" fill-opacity=\"1\" /><path clip-path=\"url(#clip240)\" d=\"M 0 0 M1629.34 1512.56 L1647.7 1512.56 L1647.7 1516.5 L1633.62 1516.5 L1633.62 1524.97 Q1634.64 1524.62 1635.66 1524.46 Q1636.68 1524.27 1637.7 1524.27 Q1643.49 1524.27 1646.87 1527.44 Q1650.25 1530.62 1650.25 1536.03 Q1650.25 1541.61 1646.77 1544.71 Q1643.3 1547.79 1636.98 1547.79 Q1634.81 1547.79 1632.54 1547.42 Q1630.29 1547.05 1627.88 1546.31 L1627.88 1541.61 Q1629.97 1542.74 1632.19 1543.3 Q1634.41 1543.86 1636.89 1543.86 Q1640.89 1543.86 1643.23 1541.75 Q1645.57 1539.64 1645.57 1536.03 Q1645.57 1532.42 1643.23 1530.31 Q1640.89 1528.21 1636.89 1528.21 Q1635.01 1528.21 1633.14 1528.62 Q1631.29 1529.04 1629.34 1529.92 L1629.34 1512.56 Z\" fill=\"#000000\" fill-rule=\"evenodd\" fill-opacity=\"1\" /><path clip-path=\"url(#clip240)\" d=\"M 0 0 M2011.54 1543.18 L2019.18 1543.18 L2019.18 1516.82 L2010.87 1518.49 L2010.87 1514.23 L2019.14 1512.56 L2023.81 1512.56 L2023.81 1543.18 L2031.45 1543.18 L2031.45 1547.12 L2011.54 1547.12 L2011.54 1543.18 Z\" fill=\"#000000\" fill-rule=\"evenodd\" fill-opacity=\"1\" /><path clip-path=\"url(#clip240)\" d=\"M 0 0 M2036.52 1541.24 L2041.4 1541.24 L2041.4 1547.12 L2036.52 1547.12 L2036.52 1541.24 Z\" fill=\"#000000\" fill-rule=\"evenodd\" fill-opacity=\"1\" /><path clip-path=\"url(#clip240)\" d=\"M 0 0 M2056.47 1515.64 Q2052.86 1515.64 2051.03 1519.2 Q2049.23 1522.75 2049.23 1529.87 Q2049.23 1536.98 2051.03 1540.55 Q2052.86 1544.09 2056.47 1544.09 Q2060.11 1544.09 2061.91 1540.55 Q2063.74 1536.98 2063.74 1529.87 Q2063.74 1522.75 2061.91 1519.2 Q2060.11 1515.64 2056.47 1515.64 M2056.47 1511.93 Q2062.28 1511.93 2065.34 1516.54 Q2068.42 1521.12 2068.42 1529.87 Q2068.42 1538.6 2065.34 1543.21 Q2062.28 1547.79 2056.47 1547.79 Q2050.66 1547.79 2047.58 1543.21 Q2044.53 1538.6 2044.53 1529.87 Q2044.53 1521.12 2047.58 1516.54 Q2050.66 1511.93 2056.47 1511.93 Z\" fill=\"#000000\" fill-rule=\"evenodd\" fill-opacity=\"1\" /><path clip-path=\"url(#clip240)\" d=\"M 0 0 M2083.49 1515.64 Q2079.88 1515.64 2078.05 1519.2 Q2076.24 1522.75 2076.24 1529.87 Q2076.24 1536.98 2078.05 1540.55 Q2079.88 1544.09 2083.49 1544.09 Q2087.12 1544.09 2088.93 1540.55 Q2090.76 1536.98 2090.76 1529.87 Q2090.76 1522.75 2088.93 1519.2 Q2087.12 1515.64 2083.49 1515.64 M2083.49 1511.93 Q2089.3 1511.93 2092.35 1516.54 Q2095.43 1521.12 2095.43 1529.87 Q2095.43 1538.6 2092.35 1543.21 Q2089.3 1547.79 2083.49 1547.79 Q2077.68 1547.79 2074.6 1543.21 Q2071.54 1538.6 2071.54 1529.87 Q2071.54 1521.12 2074.6 1516.54 Q2077.68 1511.93 2083.49 1511.93 Z\" fill=\"#000000\" fill-rule=\"evenodd\" fill-opacity=\"1\" /><polyline clip-path=\"url(#clip242)\" style=\"stroke:#000000; stroke-width:2; stroke-opacity:0.1; fill:none\" points=\"\n",
       "  148.334,1445.72 2352.76,1445.72 \n",
       "  \"/>\n",
       "<polyline clip-path=\"url(#clip242)\" style=\"stroke:#000000; stroke-width:2; stroke-opacity:0.1; fill:none\" points=\"\n",
       "  148.334,1176.16 2352.76,1176.16 \n",
       "  \"/>\n",
       "<polyline clip-path=\"url(#clip242)\" style=\"stroke:#000000; stroke-width:2; stroke-opacity:0.1; fill:none\" points=\"\n",
       "  148.334,906.609 2352.76,906.609 \n",
       "  \"/>\n",
       "<polyline clip-path=\"url(#clip242)\" style=\"stroke:#000000; stroke-width:2; stroke-opacity:0.1; fill:none\" points=\"\n",
       "  148.334,637.056 2352.76,637.056 \n",
       "  \"/>\n",
       "<polyline clip-path=\"url(#clip242)\" style=\"stroke:#000000; stroke-width:2; stroke-opacity:0.1; fill:none\" points=\"\n",
       "  148.334,367.503 2352.76,367.503 \n",
       "  \"/>\n",
       "<polyline clip-path=\"url(#clip242)\" style=\"stroke:#000000; stroke-width:2; stroke-opacity:0.1; fill:none\" points=\"\n",
       "  148.334,97.9497 2352.76,97.9497 \n",
       "  \"/>\n",
       "<polyline clip-path=\"url(#clip240)\" style=\"stroke:#000000; stroke-width:4; stroke-opacity:1; fill:none\" points=\"\n",
       "  148.334,1486.45 148.334,47.2441 \n",
       "  \"/>\n",
       "<polyline clip-path=\"url(#clip240)\" style=\"stroke:#000000; stroke-width:4; stroke-opacity:1; fill:none\" points=\"\n",
       "  148.334,1445.72 174.787,1445.72 \n",
       "  \"/>\n",
       "<polyline clip-path=\"url(#clip240)\" style=\"stroke:#000000; stroke-width:4; stroke-opacity:1; fill:none\" points=\"\n",
       "  148.334,1176.16 174.787,1176.16 \n",
       "  \"/>\n",
       "<polyline clip-path=\"url(#clip240)\" style=\"stroke:#000000; stroke-width:4; stroke-opacity:1; fill:none\" points=\"\n",
       "  148.334,906.609 174.787,906.609 \n",
       "  \"/>\n",
       "<polyline clip-path=\"url(#clip240)\" style=\"stroke:#000000; stroke-width:4; stroke-opacity:1; fill:none\" points=\"\n",
       "  148.334,637.056 174.787,637.056 \n",
       "  \"/>\n",
       "<polyline clip-path=\"url(#clip240)\" style=\"stroke:#000000; stroke-width:4; stroke-opacity:1; fill:none\" points=\"\n",
       "  148.334,367.503 174.787,367.503 \n",
       "  \"/>\n",
       "<polyline clip-path=\"url(#clip240)\" style=\"stroke:#000000; stroke-width:4; stroke-opacity:1; fill:none\" points=\"\n",
       "  148.334,97.9497 174.787,97.9497 \n",
       "  \"/>\n",
       "<path clip-path=\"url(#clip240)\" d=\"M 0 0 M63.4226 1431.51 Q59.8115 1431.51 57.9828 1435.08 Q56.1773 1438.62 56.1773 1445.75 Q56.1773 1452.86 57.9828 1456.42 Q59.8115 1459.96 63.4226 1459.96 Q67.0569 1459.96 68.8624 1456.42 Q70.6911 1452.86 70.6911 1445.75 Q70.6911 1438.62 68.8624 1435.08 Q67.0569 1431.51 63.4226 1431.51 M63.4226 1427.81 Q69.2328 1427.81 72.2883 1432.42 Q75.367 1437 75.367 1445.75 Q75.367 1454.48 72.2883 1459.08 Q69.2328 1463.67 63.4226 1463.67 Q57.6125 1463.67 54.5338 1459.08 Q51.4782 1454.48 51.4782 1445.75 Q51.4782 1437 54.5338 1432.42 Q57.6125 1427.81 63.4226 1427.81 Z\" fill=\"#000000\" fill-rule=\"evenodd\" fill-opacity=\"1\" /><path clip-path=\"url(#clip240)\" d=\"M 0 0 M80.4364 1457.12 L85.3206 1457.12 L85.3206 1463 L80.4364 1463 L80.4364 1457.12 Z\" fill=\"#000000\" fill-rule=\"evenodd\" fill-opacity=\"1\" /><path clip-path=\"url(#clip240)\" d=\"M 0 0 M100.39 1431.51 Q96.7789 1431.51 94.9502 1435.08 Q93.1447 1438.62 93.1447 1445.75 Q93.1447 1452.86 94.9502 1456.42 Q96.7789 1459.96 100.39 1459.96 Q104.024 1459.96 105.83 1456.42 Q107.658 1452.86 107.658 1445.75 Q107.658 1438.62 105.83 1435.08 Q104.024 1431.51 100.39 1431.51 M100.39 1427.81 Q106.2 1427.81 109.256 1432.42 Q112.334 1437 112.334 1445.75 Q112.334 1454.48 109.256 1459.08 Q106.2 1463.67 100.39 1463.67 Q94.5799 1463.67 91.5012 1459.08 Q88.4456 1454.48 88.4456 1445.75 Q88.4456 1437 91.5012 1432.42 Q94.5799 1427.81 100.39 1427.81 Z\" fill=\"#000000\" fill-rule=\"evenodd\" fill-opacity=\"1\" /><path clip-path=\"url(#clip240)\" d=\"M 0 0 M64.6495 1161.96 Q61.0384 1161.96 59.2097 1165.53 Q57.4041 1169.07 57.4041 1176.2 Q57.4041 1183.3 59.2097 1186.87 Q61.0384 1190.41 64.6495 1190.41 Q68.2837 1190.41 70.0892 1186.87 Q71.9179 1183.3 71.9179 1176.2 Q71.9179 1169.07 70.0892 1165.53 Q68.2837 1161.96 64.6495 1161.96 M64.6495 1158.26 Q70.4596 1158.26 73.5152 1162.86 Q76.5938 1167.45 76.5938 1176.2 Q76.5938 1184.92 73.5152 1189.53 Q70.4596 1194.11 64.6495 1194.11 Q58.8393 1194.11 55.7606 1189.53 Q52.7051 1184.92 52.7051 1176.2 Q52.7051 1167.45 55.7606 1162.86 Q58.8393 1158.26 64.6495 1158.26 Z\" fill=\"#000000\" fill-rule=\"evenodd\" fill-opacity=\"1\" /><path clip-path=\"url(#clip240)\" d=\"M 0 0 M81.6633 1187.56 L86.5475 1187.56 L86.5475 1193.44 L81.6633 1193.44 L81.6633 1187.56 Z\" fill=\"#000000\" fill-rule=\"evenodd\" fill-opacity=\"1\" /><path clip-path=\"url(#clip240)\" d=\"M 0 0 M92.4271 1189.51 L100.066 1189.51 L100.066 1163.14 L91.7558 1164.81 L91.7558 1160.55 L100.02 1158.88 L104.696 1158.88 L104.696 1189.51 L112.334 1189.51 L112.334 1193.44 L92.4271 1193.44 L92.4271 1189.51 Z\" fill=\"#000000\" fill-rule=\"evenodd\" fill-opacity=\"1\" /><path clip-path=\"url(#clip240)\" d=\"M 0 0 M65.0198 892.408 Q61.4087 892.408 59.58 895.973 Q57.7745 899.514 57.7745 906.644 Q57.7745 913.75 59.58 917.315 Q61.4087 920.857 65.0198 920.857 Q68.6541 920.857 70.4596 917.315 Q72.2883 913.75 72.2883 906.644 Q72.2883 899.514 70.4596 895.973 Q68.6541 892.408 65.0198 892.408 M65.0198 888.704 Q70.83 888.704 73.8855 893.311 Q76.9642 897.894 76.9642 906.644 Q76.9642 915.371 73.8855 919.977 Q70.83 924.561 65.0198 924.561 Q59.2097 924.561 56.131 919.977 Q53.0754 915.371 53.0754 906.644 Q53.0754 897.894 56.131 893.311 Q59.2097 888.704 65.0198 888.704 Z\" fill=\"#000000\" fill-rule=\"evenodd\" fill-opacity=\"1\" /><path clip-path=\"url(#clip240)\" d=\"M 0 0 M82.0336 918.01 L86.9179 918.01 L86.9179 923.889 L82.0336 923.889 L82.0336 918.01 Z\" fill=\"#000000\" fill-rule=\"evenodd\" fill-opacity=\"1\" /><path clip-path=\"url(#clip240)\" d=\"M 0 0 M96.015 919.954 L112.334 919.954 L112.334 923.889 L90.3901 923.889 L90.3901 919.954 Q93.0521 917.2 97.6354 912.57 Q102.242 907.917 103.422 906.575 Q105.668 904.051 106.547 902.315 Q107.45 900.556 107.45 898.866 Q107.45 896.112 105.506 894.376 Q103.584 892.639 100.483 892.639 Q98.2835 892.639 95.8298 893.403 Q93.3993 894.167 90.6215 895.718 L90.6215 890.996 Q93.4456 889.862 95.8993 889.283 Q98.353 888.704 100.39 888.704 Q105.76 888.704 108.955 891.389 Q112.149 894.075 112.149 898.565 Q112.149 900.695 111.339 902.616 Q110.552 904.514 108.446 907.107 Q107.867 907.778 104.765 910.996 Q101.663 914.19 96.015 919.954 Z\" fill=\"#000000\" fill-rule=\"evenodd\" fill-opacity=\"1\" /><path clip-path=\"url(#clip240)\" d=\"M 0 0 M64.0708 622.855 Q60.4597 622.855 58.631 626.42 Q56.8254 629.961 56.8254 637.091 Q56.8254 644.197 58.631 647.762 Q60.4597 651.304 64.0708 651.304 Q67.705 651.304 69.5105 647.762 Q71.3392 644.197 71.3392 637.091 Q71.3392 629.961 69.5105 626.42 Q67.705 622.855 64.0708 622.855 M64.0708 619.151 Q69.8809 619.151 72.9365 623.758 Q76.0151 628.341 76.0151 637.091 Q76.0151 645.818 72.9365 650.424 Q69.8809 655.007 64.0708 655.007 Q58.2606 655.007 55.1819 650.424 Q52.1264 645.818 52.1264 637.091 Q52.1264 628.341 55.1819 623.758 Q58.2606 619.151 64.0708 619.151 Z\" fill=\"#000000\" fill-rule=\"evenodd\" fill-opacity=\"1\" /><path clip-path=\"url(#clip240)\" d=\"M 0 0 M81.0846 648.457 L85.9688 648.457 L85.9688 654.336 L81.0846 654.336 L81.0846 648.457 Z\" fill=\"#000000\" fill-rule=\"evenodd\" fill-opacity=\"1\" /><path clip-path=\"url(#clip240)\" d=\"M 0 0 M105.205 635.702 Q108.561 636.42 110.436 638.688 Q112.334 640.957 112.334 644.29 Q112.334 649.406 108.816 652.207 Q105.297 655.007 98.8159 655.007 Q96.64 655.007 94.3252 654.568 Q92.0336 654.151 89.5799 653.294 L89.5799 648.781 Q91.5243 649.915 93.8391 650.494 Q96.1539 651.072 98.6771 651.072 Q103.075 651.072 105.367 649.336 Q107.682 647.6 107.682 644.29 Q107.682 641.234 105.529 639.521 Q103.399 637.785 99.5798 637.785 L95.5521 637.785 L95.5521 633.943 L99.765 633.943 Q103.214 633.943 105.043 632.577 Q106.871 631.188 106.871 628.596 Q106.871 625.933 104.973 624.521 Q103.098 623.086 99.5798 623.086 Q97.6585 623.086 95.4595 623.503 Q93.2604 623.92 90.6215 624.799 L90.6215 620.633 Q93.2836 619.892 95.5984 619.521 Q97.9363 619.151 99.9965 619.151 Q105.321 619.151 108.422 621.582 Q111.524 623.989 111.524 628.109 Q111.524 630.98 109.881 632.97 Q108.237 634.938 105.205 635.702 Z\" fill=\"#000000\" fill-rule=\"evenodd\" fill-opacity=\"1\" /><path clip-path=\"url(#clip240)\" d=\"M 0 0 M62.9365 353.302 Q59.3254 353.302 57.4967 356.866 Q55.6912 360.408 55.6912 367.538 Q55.6912 374.644 57.4967 378.209 Q59.3254 381.751 62.9365 381.751 Q66.5707 381.751 68.3763 378.209 Q70.205 374.644 70.205 367.538 Q70.205 360.408 68.3763 356.866 Q66.5707 353.302 62.9365 353.302 M62.9365 349.598 Q68.7467 349.598 71.8022 354.204 Q74.8809 358.788 74.8809 367.538 Q74.8809 376.264 71.8022 380.871 Q68.7467 385.454 62.9365 385.454 Q57.1264 385.454 54.0477 380.871 Q50.9921 376.264 50.9921 367.538 Q50.9921 358.788 54.0477 354.204 Q57.1264 349.598 62.9365 349.598 Z\" fill=\"#000000\" fill-rule=\"evenodd\" fill-opacity=\"1\" /><path clip-path=\"url(#clip240)\" d=\"M 0 0 M79.9503 378.903 L84.8345 378.903 L84.8345 384.783 L79.9503 384.783 L79.9503 378.903 Z\" fill=\"#000000\" fill-rule=\"evenodd\" fill-opacity=\"1\" /><path clip-path=\"url(#clip240)\" d=\"M 0 0 M102.751 354.297 L90.9456 372.746 L102.751 372.746 L102.751 354.297 M101.524 350.223 L107.404 350.223 L107.404 372.746 L112.334 372.746 L112.334 376.635 L107.404 376.635 L107.404 384.783 L102.751 384.783 L102.751 376.635 L87.1493 376.635 L87.1493 372.121 L101.524 350.223 Z\" fill=\"#000000\" fill-rule=\"evenodd\" fill-opacity=\"1\" /><path clip-path=\"url(#clip240)\" d=\"M 0 0 M64.418 83.7484 Q60.8069 83.7484 58.9782 87.3132 Q57.1726 90.8549 57.1726 97.9845 Q57.1726 105.091 58.9782 108.656 Q60.8069 112.197 64.418 112.197 Q68.0522 112.197 69.8578 108.656 Q71.6865 105.091 71.6865 97.9845 Q71.6865 90.8549 69.8578 87.3132 Q68.0522 83.7484 64.418 83.7484 M64.418 80.0447 Q70.2281 80.0447 73.2837 84.6512 Q76.3624 89.2345 76.3624 97.9845 Q76.3624 106.711 73.2837 111.318 Q70.2281 115.901 64.418 115.901 Q58.6078 115.901 55.5291 111.318 Q52.4736 106.711 52.4736 97.9845 Q52.4736 89.2345 55.5291 84.6512 Q58.6078 80.0447 64.418 80.0447 Z\" fill=\"#000000\" fill-rule=\"evenodd\" fill-opacity=\"1\" /><path clip-path=\"url(#clip240)\" d=\"M 0 0 M81.4318 109.35 L86.316 109.35 L86.316 115.23 L81.4318 115.23 L81.4318 109.35 Z\" fill=\"#000000\" fill-rule=\"evenodd\" fill-opacity=\"1\" /><path clip-path=\"url(#clip240)\" d=\"M 0 0 M91.4317 80.6697 L109.788 80.6697 L109.788 84.6049 L95.7141 84.6049 L95.7141 93.0771 Q96.7326 92.7299 97.7511 92.5678 Q98.7696 92.3826 99.7882 92.3826 Q105.575 92.3826 108.955 95.5539 Q112.334 98.7252 112.334 104.142 Q112.334 109.721 108.862 112.822 Q105.39 115.901 99.0706 115.901 Q96.8947 115.901 94.6262 115.531 Q92.3808 115.16 89.9734 114.42 L89.9734 109.721 Q92.0567 110.855 94.2789 111.41 Q96.5011 111.966 98.978 111.966 Q102.983 111.966 105.321 109.859 Q107.658 107.753 107.658 104.142 Q107.658 100.531 105.321 98.4243 Q102.983 96.3178 98.978 96.3178 Q97.103 96.3178 95.228 96.7345 Q93.3762 97.1511 91.4317 98.0308 L91.4317 80.6697 Z\" fill=\"#000000\" fill-rule=\"evenodd\" fill-opacity=\"1\" /><path clip-path=\"url(#clip242)\" d=\"\n",
       "M269.581 87.9763 L269.581 1445.72 L447.939 1445.72 L447.939 87.9763 L269.581 87.9763 L269.581 87.9763  Z\n",
       "  \" fill=\"#009af9\" fill-rule=\"evenodd\" fill-opacity=\"1\"/>\n",
       "<polyline clip-path=\"url(#clip242)\" style=\"stroke:#000000; stroke-width:4; stroke-opacity:1; fill:none\" points=\"\n",
       "  269.581,87.9763 269.581,1445.72 447.939,1445.72 447.939,87.9763 269.581,87.9763 \n",
       "  \"/>\n",
       "<path clip-path=\"url(#clip242)\" d=\"\n",
       "M447.939 1445.72 L447.939 1445.72 L626.296 1445.72 L626.296 1445.72 L447.939 1445.72 L447.939 1445.72  Z\n",
       "  \" fill=\"#009af9\" fill-rule=\"evenodd\" fill-opacity=\"1\"/>\n",
       "<polyline clip-path=\"url(#clip242)\" style=\"stroke:#000000; stroke-width:4; stroke-opacity:1; fill:none\" points=\"\n",
       "  447.939,1445.72 447.939,1445.72 626.296,1445.72 447.939,1445.72 \n",
       "  \"/>\n",
       "<path clip-path=\"url(#clip242)\" d=\"\n",
       "M626.296 1445.72 L626.296 1445.72 L804.653 1445.72 L804.653 1445.72 L626.296 1445.72 L626.296 1445.72  Z\n",
       "  \" fill=\"#009af9\" fill-rule=\"evenodd\" fill-opacity=\"1\"/>\n",
       "<polyline clip-path=\"url(#clip242)\" style=\"stroke:#000000; stroke-width:4; stroke-opacity:1; fill:none\" points=\"\n",
       "  626.296,1445.72 626.296,1445.72 804.653,1445.72 626.296,1445.72 \n",
       "  \"/>\n",
       "<path clip-path=\"url(#clip242)\" d=\"\n",
       "M804.653 1445.72 L804.653 1445.72 L983.01 1445.72 L983.01 1445.72 L804.653 1445.72 L804.653 1445.72  Z\n",
       "  \" fill=\"#009af9\" fill-rule=\"evenodd\" fill-opacity=\"1\"/>\n",
       "<polyline clip-path=\"url(#clip242)\" style=\"stroke:#000000; stroke-width:4; stroke-opacity:1; fill:none\" points=\"\n",
       "  804.653,1445.72 804.653,1445.72 983.01,1445.72 804.653,1445.72 \n",
       "  \"/>\n",
       "<path clip-path=\"url(#clip242)\" d=\"\n",
       "M983.01 1445.72 L983.01 1445.72 L1161.37 1445.72 L1161.37 1445.72 L983.01 1445.72 L983.01 1445.72  Z\n",
       "  \" fill=\"#009af9\" fill-rule=\"evenodd\" fill-opacity=\"1\"/>\n",
       "<polyline clip-path=\"url(#clip242)\" style=\"stroke:#000000; stroke-width:4; stroke-opacity:1; fill:none\" points=\"\n",
       "  983.01,1445.72 983.01,1445.72 1161.37,1445.72 983.01,1445.72 \n",
       "  \"/>\n",
       "<path clip-path=\"url(#clip242)\" d=\"\n",
       "M1161.37 1445.72 L1161.37 1445.72 L1339.72 1445.72 L1339.72 1445.72 L1161.37 1445.72 L1161.37 1445.72  Z\n",
       "  \" fill=\"#009af9\" fill-rule=\"evenodd\" fill-opacity=\"1\"/>\n",
       "<polyline clip-path=\"url(#clip242)\" style=\"stroke:#000000; stroke-width:4; stroke-opacity:1; fill:none\" points=\"\n",
       "  1161.37,1445.72 1161.37,1445.72 1339.72,1445.72 1161.37,1445.72 \n",
       "  \"/>\n",
       "<path clip-path=\"url(#clip242)\" d=\"\n",
       "M1339.72 1445.72 L1339.72 1445.72 L1518.08 1445.72 L1518.08 1445.72 L1339.72 1445.72 L1339.72 1445.72  Z\n",
       "  \" fill=\"#009af9\" fill-rule=\"evenodd\" fill-opacity=\"1\"/>\n",
       "<polyline clip-path=\"url(#clip242)\" style=\"stroke:#000000; stroke-width:4; stroke-opacity:1; fill:none\" points=\"\n",
       "  1339.72,1445.72 1339.72,1445.72 1518.08,1445.72 1339.72,1445.72 \n",
       "  \"/>\n",
       "<path clip-path=\"url(#clip242)\" d=\"\n",
       "M1518.08 1445.72 L1518.08 1445.72 L1696.44 1445.72 L1696.44 1445.72 L1518.08 1445.72 L1518.08 1445.72  Z\n",
       "  \" fill=\"#009af9\" fill-rule=\"evenodd\" fill-opacity=\"1\"/>\n",
       "<polyline clip-path=\"url(#clip242)\" style=\"stroke:#000000; stroke-width:4; stroke-opacity:1; fill:none\" points=\"\n",
       "  1518.08,1445.72 1518.08,1445.72 1696.44,1445.72 1518.08,1445.72 \n",
       "  \"/>\n",
       "<path clip-path=\"url(#clip242)\" d=\"\n",
       "M1696.44 1445.72 L1696.44 1445.72 L1874.79 1445.72 L1874.79 1445.72 L1696.44 1445.72 L1696.44 1445.72  Z\n",
       "  \" fill=\"#009af9\" fill-rule=\"evenodd\" fill-opacity=\"1\"/>\n",
       "<polyline clip-path=\"url(#clip242)\" style=\"stroke:#000000; stroke-width:4; stroke-opacity:1; fill:none\" points=\"\n",
       "  1696.44,1445.72 1696.44,1445.72 1874.79,1445.72 1696.44,1445.72 \n",
       "  \"/>\n",
       "<path clip-path=\"url(#clip242)\" d=\"\n",
       "M1874.79 1445.72 L1874.79 1445.72 L2053.15 1445.72 L2053.15 1445.72 L1874.79 1445.72 L1874.79 1445.72  Z\n",
       "  \" fill=\"#009af9\" fill-rule=\"evenodd\" fill-opacity=\"1\"/>\n",
       "<polyline clip-path=\"url(#clip242)\" style=\"stroke:#000000; stroke-width:4; stroke-opacity:1; fill:none\" points=\"\n",
       "  1874.79,1445.72 1874.79,1445.72 2053.15,1445.72 1874.79,1445.72 \n",
       "  \"/>\n",
       "<path clip-path=\"url(#clip242)\" d=\"\n",
       "M2053.15 107.923 L2053.15 1445.72 L2231.51 1445.72 L2231.51 107.923 L2053.15 107.923 L2053.15 107.923  Z\n",
       "  \" fill=\"#009af9\" fill-rule=\"evenodd\" fill-opacity=\"1\"/>\n",
       "<polyline clip-path=\"url(#clip242)\" style=\"stroke:#000000; stroke-width:4; stroke-opacity:1; fill:none\" points=\"\n",
       "  2053.15,107.923 2053.15,1445.72 2231.51,1445.72 2231.51,107.923 2053.15,107.923 \n",
       "  \"/>\n",
       "<path clip-path=\"url(#clip240)\" d=\"\n",
       "M1983.32 216.178 L2279.28 216.178 L2279.28 95.2176 L1983.32 95.2176  Z\n",
       "  \" fill=\"#ffffff\" fill-rule=\"evenodd\" fill-opacity=\"1\"/>\n",
       "<polyline clip-path=\"url(#clip240)\" style=\"stroke:#000000; stroke-width:4; stroke-opacity:1; fill:none\" points=\"\n",
       "  1983.32,216.178 2279.28,216.178 2279.28,95.2176 1983.32,95.2176 1983.32,216.178 \n",
       "  \"/>\n",
       "<path clip-path=\"url(#clip240)\" d=\"\n",
       "M2007.81 179.89 L2154.78 179.89 L2154.78 131.506 L2007.81 131.506 L2007.81 179.89  Z\n",
       "  \" fill=\"#009af9\" fill-rule=\"evenodd\" fill-opacity=\"1\"/>\n",
       "<polyline clip-path=\"url(#clip240)\" style=\"stroke:#000000; stroke-width:4; stroke-opacity:1; fill:none\" points=\"\n",
       "  2007.81,179.89 2154.78,179.89 2154.78,131.506 2007.81,131.506 2007.81,179.89 \n",
       "  \"/>\n",
       "<path clip-path=\"url(#clip240)\" d=\"M 0 0 M2193.11 175.385 Q2191.31 180.015 2189.59 181.427 Q2187.88 182.839 2185.01 182.839 L2181.61 182.839 L2181.61 179.274 L2184.11 179.274 Q2185.87 179.274 2186.84 178.44 Q2187.81 177.607 2188.99 174.505 L2189.76 172.561 L2179.27 147.052 L2183.78 147.052 L2191.89 167.329 L2199.99 147.052 L2204.5 147.052 L2193.11 175.385 Z\" fill=\"#000000\" fill-rule=\"evenodd\" fill-opacity=\"1\" /><path clip-path=\"url(#clip240)\" d=\"M 0 0 M2210.38 169.042 L2218.02 169.042 L2218.02 142.677 L2209.71 144.343 L2209.71 140.084 L2217.97 138.418 L2222.65 138.418 L2222.65 169.042 L2230.29 169.042 L2230.29 172.978 L2210.38 172.978 L2210.38 169.042 Z\" fill=\"#000000\" fill-rule=\"evenodd\" fill-opacity=\"1\" /></svg>\n"
      ]
     },
     "execution_count": 16,
     "metadata": {},
     "output_type": "execute_result"
    }
   ],
   "source": [
    "m = poker_agent(JACK)\n",
    "chn = sample(m, IS() , 10000 , n_chains=1)\n",
    "plotChn_action(chn)"
   ]
  },
  {
   "cell_type": "markdown",
   "metadata": {},
   "source": [
    "### Conditioning on history"
   ]
  },
  {
   "cell_type": "code",
   "execution_count": 17,
   "metadata": {},
   "outputs": [
    {
     "name": "stderr",
     "output_type": "stream",
     "text": [
      "\u001b[32mSampling: 100%|█████████████████████████████████████████| Time: 0:00:01\u001b[39m\n"
     ]
    },
    {
     "data": {
      "image/svg+xml": [
       "<?xml version=\"1.0\" encoding=\"utf-8\"?>\n",
       "<svg xmlns=\"http://www.w3.org/2000/svg\" xmlns:xlink=\"http://www.w3.org/1999/xlink\" width=\"600\" height=\"400\" viewBox=\"0 0 2400 1600\">\n",
       "<defs>\n",
       "  <clipPath id=\"clip280\">\n",
       "    <rect x=\"0\" y=\"0\" width=\"2400\" height=\"1600\"/>\n",
       "  </clipPath>\n",
       "</defs>\n",
       "<path clip-path=\"url(#clip280)\" d=\"\n",
       "M0 1600 L2400 1600 L2400 0 L0 0  Z\n",
       "  \" fill=\"#ffffff\" fill-rule=\"evenodd\" fill-opacity=\"1\"/>\n",
       "<defs>\n",
       "  <clipPath id=\"clip281\">\n",
       "    <rect x=\"480\" y=\"0\" width=\"1681\" height=\"1600\"/>\n",
       "  </clipPath>\n",
       "</defs>\n",
       "<path clip-path=\"url(#clip280)\" d=\"\n",
       "M148.334 1486.45 L2352.76 1486.45 L2352.76 47.2441 L148.334 47.2441  Z\n",
       "  \" fill=\"#ffffff\" fill-rule=\"evenodd\" fill-opacity=\"1\"/>\n",
       "<defs>\n",
       "  <clipPath id=\"clip282\">\n",
       "    <rect x=\"148\" y=\"47\" width=\"2205\" height=\"1440\"/>\n",
       "  </clipPath>\n",
       "</defs>\n",
       "<polyline clip-path=\"url(#clip282)\" style=\"stroke:#000000; stroke-width:2; stroke-opacity:0.1; fill:none\" points=\"\n",
       "  269.581,1486.45 269.581,47.2441 \n",
       "  \"/>\n",
       "<polyline clip-path=\"url(#clip282)\" style=\"stroke:#000000; stroke-width:2; stroke-opacity:0.1; fill:none\" points=\"\n",
       "  715.474,1486.45 715.474,47.2441 \n",
       "  \"/>\n",
       "<polyline clip-path=\"url(#clip282)\" style=\"stroke:#000000; stroke-width:2; stroke-opacity:0.1; fill:none\" points=\"\n",
       "  1161.37,1486.45 1161.37,47.2441 \n",
       "  \"/>\n",
       "<polyline clip-path=\"url(#clip282)\" style=\"stroke:#000000; stroke-width:2; stroke-opacity:0.1; fill:none\" points=\"\n",
       "  1607.26,1486.45 1607.26,47.2441 \n",
       "  \"/>\n",
       "<polyline clip-path=\"url(#clip282)\" style=\"stroke:#000000; stroke-width:2; stroke-opacity:0.1; fill:none\" points=\"\n",
       "  2053.15,1486.45 2053.15,47.2441 \n",
       "  \"/>\n",
       "<polyline clip-path=\"url(#clip280)\" style=\"stroke:#000000; stroke-width:4; stroke-opacity:1; fill:none\" points=\"\n",
       "  148.334,1486.45 2352.76,1486.45 \n",
       "  \"/>\n",
       "<polyline clip-path=\"url(#clip280)\" style=\"stroke:#000000; stroke-width:4; stroke-opacity:1; fill:none\" points=\"\n",
       "  269.581,1486.45 269.581,1469.18 \n",
       "  \"/>\n",
       "<polyline clip-path=\"url(#clip280)\" style=\"stroke:#000000; stroke-width:4; stroke-opacity:1; fill:none\" points=\"\n",
       "  715.474,1486.45 715.474,1469.18 \n",
       "  \"/>\n",
       "<polyline clip-path=\"url(#clip280)\" style=\"stroke:#000000; stroke-width:4; stroke-opacity:1; fill:none\" points=\"\n",
       "  1161.37,1486.45 1161.37,1469.18 \n",
       "  \"/>\n",
       "<polyline clip-path=\"url(#clip280)\" style=\"stroke:#000000; stroke-width:4; stroke-opacity:1; fill:none\" points=\"\n",
       "  1607.26,1486.45 1607.26,1469.18 \n",
       "  \"/>\n",
       "<polyline clip-path=\"url(#clip280)\" style=\"stroke:#000000; stroke-width:4; stroke-opacity:1; fill:none\" points=\"\n",
       "  2053.15,1486.45 2053.15,1469.18 \n",
       "  \"/>\n",
       "<path clip-path=\"url(#clip280)\" d=\"M 0 0 M237.591 1515.64 Q233.98 1515.64 232.151 1519.2 Q230.346 1522.75 230.346 1529.87 Q230.346 1536.98 232.151 1540.55 Q233.98 1544.09 237.591 1544.09 Q241.225 1544.09 243.031 1540.55 Q244.859 1536.98 244.859 1529.87 Q244.859 1522.75 243.031 1519.2 Q241.225 1515.64 237.591 1515.64 M237.591 1511.93 Q243.401 1511.93 246.457 1516.54 Q249.535 1521.12 249.535 1529.87 Q249.535 1538.6 246.457 1543.21 Q243.401 1547.79 237.591 1547.79 Q231.781 1547.79 228.702 1543.21 Q225.647 1538.6 225.647 1529.87 Q225.647 1521.12 228.702 1516.54 Q231.781 1511.93 237.591 1511.93 Z\" fill=\"#000000\" fill-rule=\"evenodd\" fill-opacity=\"1\" /><path clip-path=\"url(#clip280)\" d=\"M 0 0 M254.605 1541.24 L259.489 1541.24 L259.489 1547.12 L254.605 1547.12 L254.605 1541.24 Z\" fill=\"#000000\" fill-rule=\"evenodd\" fill-opacity=\"1\" /><path clip-path=\"url(#clip280)\" d=\"M 0 0 M274.558 1515.64 Q270.947 1515.64 269.119 1519.2 Q267.313 1522.75 267.313 1529.87 Q267.313 1536.98 269.119 1540.55 Q270.947 1544.09 274.558 1544.09 Q278.193 1544.09 279.998 1540.55 Q281.827 1536.98 281.827 1529.87 Q281.827 1522.75 279.998 1519.2 Q278.193 1515.64 274.558 1515.64 M274.558 1511.93 Q280.368 1511.93 283.424 1516.54 Q286.503 1521.12 286.503 1529.87 Q286.503 1538.6 283.424 1543.21 Q280.368 1547.79 274.558 1547.79 Q268.748 1547.79 265.669 1543.21 Q262.614 1538.6 262.614 1529.87 Q262.614 1521.12 265.669 1516.54 Q268.748 1511.93 274.558 1511.93 Z\" fill=\"#000000\" fill-rule=\"evenodd\" fill-opacity=\"1\" /><path clip-path=\"url(#clip280)\" d=\"M 0 0 M301.572 1515.64 Q297.961 1515.64 296.132 1519.2 Q294.327 1522.75 294.327 1529.87 Q294.327 1536.98 296.132 1540.55 Q297.961 1544.09 301.572 1544.09 Q305.206 1544.09 307.012 1540.55 Q308.841 1536.98 308.841 1529.87 Q308.841 1522.75 307.012 1519.2 Q305.206 1515.64 301.572 1515.64 M301.572 1511.93 Q307.382 1511.93 310.438 1516.54 Q313.516 1521.12 313.516 1529.87 Q313.516 1538.6 310.438 1543.21 Q307.382 1547.79 301.572 1547.79 Q295.762 1547.79 292.683 1543.21 Q289.628 1538.6 289.628 1529.87 Q289.628 1521.12 292.683 1516.54 Q295.762 1511.93 301.572 1511.93 Z\" fill=\"#000000\" fill-rule=\"evenodd\" fill-opacity=\"1\" /><path clip-path=\"url(#clip280)\" d=\"M 0 0 M684.78 1515.64 Q681.169 1515.64 679.34 1519.2 Q677.534 1522.75 677.534 1529.87 Q677.534 1536.98 679.34 1540.55 Q681.169 1544.09 684.78 1544.09 Q688.414 1544.09 690.22 1540.55 Q692.048 1536.98 692.048 1529.87 Q692.048 1522.75 690.22 1519.2 Q688.414 1515.64 684.78 1515.64 M684.78 1511.93 Q690.59 1511.93 693.645 1516.54 Q696.724 1521.12 696.724 1529.87 Q696.724 1538.6 693.645 1543.21 Q690.59 1547.79 684.78 1547.79 Q678.97 1547.79 675.891 1543.21 Q672.835 1538.6 672.835 1529.87 Q672.835 1521.12 675.891 1516.54 Q678.97 1511.93 684.78 1511.93 Z\" fill=\"#000000\" fill-rule=\"evenodd\" fill-opacity=\"1\" /><path clip-path=\"url(#clip280)\" d=\"M 0 0 M701.794 1541.24 L706.678 1541.24 L706.678 1547.12 L701.794 1547.12 L701.794 1541.24 Z\" fill=\"#000000\" fill-rule=\"evenodd\" fill-opacity=\"1\" /><path clip-path=\"url(#clip280)\" d=\"M 0 0 M715.775 1543.18 L732.094 1543.18 L732.094 1547.12 L710.15 1547.12 L710.15 1543.18 Q712.812 1540.43 717.395 1535.8 Q722.002 1531.15 723.182 1529.81 Q725.428 1527.28 726.307 1525.55 Q727.21 1523.79 727.21 1522.1 Q727.21 1519.34 725.266 1517.61 Q723.344 1515.87 720.243 1515.87 Q718.043 1515.87 715.59 1516.63 Q713.159 1517.4 710.382 1518.95 L710.382 1514.23 Q713.206 1513.09 715.659 1512.51 Q718.113 1511.93 720.15 1511.93 Q725.52 1511.93 728.715 1514.62 Q731.909 1517.31 731.909 1521.8 Q731.909 1523.93 731.099 1525.85 Q730.312 1527.74 728.205 1530.34 Q727.627 1531.01 724.525 1534.23 Q721.423 1537.42 715.775 1543.18 Z\" fill=\"#000000\" fill-rule=\"evenodd\" fill-opacity=\"1\" /><path clip-path=\"url(#clip280)\" d=\"M 0 0 M737.21 1512.56 L755.566 1512.56 L755.566 1516.5 L741.492 1516.5 L741.492 1524.97 Q742.511 1524.62 743.529 1524.46 Q744.548 1524.27 745.566 1524.27 Q751.354 1524.27 754.733 1527.44 Q758.113 1530.62 758.113 1536.03 Q758.113 1541.61 754.641 1544.71 Q751.168 1547.79 744.849 1547.79 Q742.673 1547.79 740.404 1547.42 Q738.159 1547.05 735.752 1546.31 L735.752 1541.61 Q737.835 1542.74 740.057 1543.3 Q742.279 1543.86 744.756 1543.86 Q748.761 1543.86 751.099 1541.75 Q753.437 1539.64 753.437 1536.03 Q753.437 1532.42 751.099 1530.31 Q748.761 1528.21 744.756 1528.21 Q742.881 1528.21 741.006 1528.62 Q739.154 1529.04 737.21 1529.92 L737.21 1512.56 Z\" fill=\"#000000\" fill-rule=\"evenodd\" fill-opacity=\"1\" /><path clip-path=\"url(#clip280)\" d=\"M 0 0 M1129.87 1515.64 Q1126.26 1515.64 1124.43 1519.2 Q1122.63 1522.75 1122.63 1529.87 Q1122.63 1536.98 1124.43 1540.55 Q1126.26 1544.09 1129.87 1544.09 Q1133.51 1544.09 1135.31 1540.55 Q1137.14 1536.98 1137.14 1529.87 Q1137.14 1522.75 1135.31 1519.2 Q1133.51 1515.64 1129.87 1515.64 M1129.87 1511.93 Q1135.68 1511.93 1138.74 1516.54 Q1141.82 1521.12 1141.82 1529.87 Q1141.82 1538.6 1138.74 1543.21 Q1135.68 1547.79 1129.87 1547.79 Q1124.06 1547.79 1120.98 1543.21 Q1117.93 1538.6 1117.93 1529.87 Q1117.93 1521.12 1120.98 1516.54 Q1124.06 1511.93 1129.87 1511.93 Z\" fill=\"#000000\" fill-rule=\"evenodd\" fill-opacity=\"1\" /><path clip-path=\"url(#clip280)\" d=\"M 0 0 M1146.89 1541.24 L1151.77 1541.24 L1151.77 1547.12 L1146.89 1547.12 L1146.89 1541.24 Z\" fill=\"#000000\" fill-rule=\"evenodd\" fill-opacity=\"1\" /><path clip-path=\"url(#clip280)\" d=\"M 0 0 M1156.89 1512.56 L1175.24 1512.56 L1175.24 1516.5 L1161.17 1516.5 L1161.17 1524.97 Q1162.19 1524.62 1163.21 1524.46 Q1164.23 1524.27 1165.24 1524.27 Q1171.03 1524.27 1174.41 1527.44 Q1177.79 1530.62 1177.79 1536.03 Q1177.79 1541.61 1174.32 1544.71 Q1170.85 1547.79 1164.53 1547.79 Q1162.35 1547.79 1160.08 1547.42 Q1157.84 1547.05 1155.43 1546.31 L1155.43 1541.61 Q1157.51 1542.74 1159.73 1543.3 Q1161.96 1543.86 1164.43 1543.86 Q1168.44 1543.86 1170.78 1541.75 Q1173.11 1539.64 1173.11 1536.03 Q1173.11 1532.42 1170.78 1530.31 Q1168.44 1528.21 1164.43 1528.21 Q1162.56 1528.21 1160.68 1528.62 Q1158.83 1529.04 1156.89 1529.92 L1156.89 1512.56 Z\" fill=\"#000000\" fill-rule=\"evenodd\" fill-opacity=\"1\" /><path clip-path=\"url(#clip280)\" d=\"M 0 0 M1192.86 1515.64 Q1189.25 1515.64 1187.42 1519.2 Q1185.61 1522.75 1185.61 1529.87 Q1185.61 1536.98 1187.42 1540.55 Q1189.25 1544.09 1192.86 1544.09 Q1196.49 1544.09 1198.3 1540.55 Q1200.13 1536.98 1200.13 1529.87 Q1200.13 1522.75 1198.3 1519.2 Q1196.49 1515.64 1192.86 1515.64 M1192.86 1511.93 Q1198.67 1511.93 1201.73 1516.54 Q1204.8 1521.12 1204.8 1529.87 Q1204.8 1538.6 1201.73 1543.21 Q1198.67 1547.79 1192.86 1547.79 Q1187.05 1547.79 1183.97 1543.21 Q1180.92 1538.6 1180.92 1529.87 Q1180.92 1521.12 1183.97 1516.54 Q1187.05 1511.93 1192.86 1511.93 Z\" fill=\"#000000\" fill-rule=\"evenodd\" fill-opacity=\"1\" /><path clip-path=\"url(#clip280)\" d=\"M 0 0 M1576.22 1515.64 Q1572.61 1515.64 1570.78 1519.2 Q1568.97 1522.75 1568.97 1529.87 Q1568.97 1536.98 1570.78 1540.55 Q1572.61 1544.09 1576.22 1544.09 Q1579.85 1544.09 1581.66 1540.55 Q1583.49 1536.98 1583.49 1529.87 Q1583.49 1522.75 1581.66 1519.2 Q1579.85 1515.64 1576.22 1515.64 M1576.22 1511.93 Q1582.03 1511.93 1585.08 1516.54 Q1588.16 1521.12 1588.16 1529.87 Q1588.16 1538.6 1585.08 1543.21 Q1582.03 1547.79 1576.22 1547.79 Q1570.41 1547.79 1567.33 1543.21 Q1564.27 1538.6 1564.27 1529.87 Q1564.27 1521.12 1567.33 1516.54 Q1570.41 1511.93 1576.22 1511.93 Z\" fill=\"#000000\" fill-rule=\"evenodd\" fill-opacity=\"1\" /><path clip-path=\"url(#clip280)\" d=\"M 0 0 M1593.23 1541.24 L1598.12 1541.24 L1598.12 1547.12 L1593.23 1547.12 L1593.23 1541.24 Z\" fill=\"#000000\" fill-rule=\"evenodd\" fill-opacity=\"1\" /><path clip-path=\"url(#clip280)\" d=\"M 0 0 M1602 1512.56 L1624.23 1512.56 L1624.23 1514.55 L1611.68 1547.12 L1606.8 1547.12 L1618.6 1516.5 L1602 1516.5 L1602 1512.56 Z\" fill=\"#000000\" fill-rule=\"evenodd\" fill-opacity=\"1\" /><path clip-path=\"url(#clip280)\" d=\"M 0 0 M1629.34 1512.56 L1647.7 1512.56 L1647.7 1516.5 L1633.62 1516.5 L1633.62 1524.97 Q1634.64 1524.62 1635.66 1524.46 Q1636.68 1524.27 1637.7 1524.27 Q1643.49 1524.27 1646.87 1527.44 Q1650.25 1530.62 1650.25 1536.03 Q1650.25 1541.61 1646.77 1544.71 Q1643.3 1547.79 1636.98 1547.79 Q1634.81 1547.79 1632.54 1547.42 Q1630.29 1547.05 1627.88 1546.31 L1627.88 1541.61 Q1629.97 1542.74 1632.19 1543.3 Q1634.41 1543.86 1636.89 1543.86 Q1640.89 1543.86 1643.23 1541.75 Q1645.57 1539.64 1645.57 1536.03 Q1645.57 1532.42 1643.23 1530.31 Q1640.89 1528.21 1636.89 1528.21 Q1635.01 1528.21 1633.14 1528.62 Q1631.29 1529.04 1629.34 1529.92 L1629.34 1512.56 Z\" fill=\"#000000\" fill-rule=\"evenodd\" fill-opacity=\"1\" /><path clip-path=\"url(#clip280)\" d=\"M 0 0 M2011.54 1543.18 L2019.18 1543.18 L2019.18 1516.82 L2010.87 1518.49 L2010.87 1514.23 L2019.14 1512.56 L2023.81 1512.56 L2023.81 1543.18 L2031.45 1543.18 L2031.45 1547.12 L2011.54 1547.12 L2011.54 1543.18 Z\" fill=\"#000000\" fill-rule=\"evenodd\" fill-opacity=\"1\" /><path clip-path=\"url(#clip280)\" d=\"M 0 0 M2036.52 1541.24 L2041.4 1541.24 L2041.4 1547.12 L2036.52 1547.12 L2036.52 1541.24 Z\" fill=\"#000000\" fill-rule=\"evenodd\" fill-opacity=\"1\" /><path clip-path=\"url(#clip280)\" d=\"M 0 0 M2056.47 1515.64 Q2052.86 1515.64 2051.03 1519.2 Q2049.23 1522.75 2049.23 1529.87 Q2049.23 1536.98 2051.03 1540.55 Q2052.86 1544.09 2056.47 1544.09 Q2060.11 1544.09 2061.91 1540.55 Q2063.74 1536.98 2063.74 1529.87 Q2063.74 1522.75 2061.91 1519.2 Q2060.11 1515.64 2056.47 1515.64 M2056.47 1511.93 Q2062.28 1511.93 2065.34 1516.54 Q2068.42 1521.12 2068.42 1529.87 Q2068.42 1538.6 2065.34 1543.21 Q2062.28 1547.79 2056.47 1547.79 Q2050.66 1547.79 2047.58 1543.21 Q2044.53 1538.6 2044.53 1529.87 Q2044.53 1521.12 2047.58 1516.54 Q2050.66 1511.93 2056.47 1511.93 Z\" fill=\"#000000\" fill-rule=\"evenodd\" fill-opacity=\"1\" /><path clip-path=\"url(#clip280)\" d=\"M 0 0 M2083.49 1515.64 Q2079.88 1515.64 2078.05 1519.2 Q2076.24 1522.75 2076.24 1529.87 Q2076.24 1536.98 2078.05 1540.55 Q2079.88 1544.09 2083.49 1544.09 Q2087.12 1544.09 2088.93 1540.55 Q2090.76 1536.98 2090.76 1529.87 Q2090.76 1522.75 2088.93 1519.2 Q2087.12 1515.64 2083.49 1515.64 M2083.49 1511.93 Q2089.3 1511.93 2092.35 1516.54 Q2095.43 1521.12 2095.43 1529.87 Q2095.43 1538.6 2092.35 1543.21 Q2089.3 1547.79 2083.49 1547.79 Q2077.68 1547.79 2074.6 1543.21 Q2071.54 1538.6 2071.54 1529.87 Q2071.54 1521.12 2074.6 1516.54 Q2077.68 1511.93 2083.49 1511.93 Z\" fill=\"#000000\" fill-rule=\"evenodd\" fill-opacity=\"1\" /><polyline clip-path=\"url(#clip282)\" style=\"stroke:#000000; stroke-width:2; stroke-opacity:0.1; fill:none\" points=\"\n",
       "  148.334,1445.72 2352.76,1445.72 \n",
       "  \"/>\n",
       "<polyline clip-path=\"url(#clip282)\" style=\"stroke:#000000; stroke-width:2; stroke-opacity:0.1; fill:none\" points=\"\n",
       "  148.334,1118 2352.76,1118 \n",
       "  \"/>\n",
       "<polyline clip-path=\"url(#clip282)\" style=\"stroke:#000000; stroke-width:2; stroke-opacity:0.1; fill:none\" points=\"\n",
       "  148.334,790.283 2352.76,790.283 \n",
       "  \"/>\n",
       "<polyline clip-path=\"url(#clip282)\" style=\"stroke:#000000; stroke-width:2; stroke-opacity:0.1; fill:none\" points=\"\n",
       "  148.334,462.566 2352.76,462.566 \n",
       "  \"/>\n",
       "<polyline clip-path=\"url(#clip282)\" style=\"stroke:#000000; stroke-width:2; stroke-opacity:0.1; fill:none\" points=\"\n",
       "  148.334,134.849 2352.76,134.849 \n",
       "  \"/>\n",
       "<polyline clip-path=\"url(#clip280)\" style=\"stroke:#000000; stroke-width:4; stroke-opacity:1; fill:none\" points=\"\n",
       "  148.334,1486.45 148.334,47.2441 \n",
       "  \"/>\n",
       "<polyline clip-path=\"url(#clip280)\" style=\"stroke:#000000; stroke-width:4; stroke-opacity:1; fill:none\" points=\"\n",
       "  148.334,1445.72 174.787,1445.72 \n",
       "  \"/>\n",
       "<polyline clip-path=\"url(#clip280)\" style=\"stroke:#000000; stroke-width:4; stroke-opacity:1; fill:none\" points=\"\n",
       "  148.334,1118 174.787,1118 \n",
       "  \"/>\n",
       "<polyline clip-path=\"url(#clip280)\" style=\"stroke:#000000; stroke-width:4; stroke-opacity:1; fill:none\" points=\"\n",
       "  148.334,790.283 174.787,790.283 \n",
       "  \"/>\n",
       "<polyline clip-path=\"url(#clip280)\" style=\"stroke:#000000; stroke-width:4; stroke-opacity:1; fill:none\" points=\"\n",
       "  148.334,462.566 174.787,462.566 \n",
       "  \"/>\n",
       "<polyline clip-path=\"url(#clip280)\" style=\"stroke:#000000; stroke-width:4; stroke-opacity:1; fill:none\" points=\"\n",
       "  148.334,134.849 174.787,134.849 \n",
       "  \"/>\n",
       "<path clip-path=\"url(#clip280)\" d=\"M 0 0 M63.4226 1431.51 Q59.8115 1431.51 57.9828 1435.08 Q56.1773 1438.62 56.1773 1445.75 Q56.1773 1452.86 57.9828 1456.42 Q59.8115 1459.96 63.4226 1459.96 Q67.0569 1459.96 68.8624 1456.42 Q70.6911 1452.86 70.6911 1445.75 Q70.6911 1438.62 68.8624 1435.08 Q67.0569 1431.51 63.4226 1431.51 M63.4226 1427.81 Q69.2328 1427.81 72.2883 1432.42 Q75.367 1437 75.367 1445.75 Q75.367 1454.48 72.2883 1459.08 Q69.2328 1463.67 63.4226 1463.67 Q57.6125 1463.67 54.5338 1459.08 Q51.4782 1454.48 51.4782 1445.75 Q51.4782 1437 54.5338 1432.42 Q57.6125 1427.81 63.4226 1427.81 Z\" fill=\"#000000\" fill-rule=\"evenodd\" fill-opacity=\"1\" /><path clip-path=\"url(#clip280)\" d=\"M 0 0 M80.4364 1457.12 L85.3206 1457.12 L85.3206 1463 L80.4364 1463 L80.4364 1457.12 Z\" fill=\"#000000\" fill-rule=\"evenodd\" fill-opacity=\"1\" /><path clip-path=\"url(#clip280)\" d=\"M 0 0 M100.39 1431.51 Q96.7789 1431.51 94.9502 1435.08 Q93.1447 1438.62 93.1447 1445.75 Q93.1447 1452.86 94.9502 1456.42 Q96.7789 1459.96 100.39 1459.96 Q104.024 1459.96 105.83 1456.42 Q107.658 1452.86 107.658 1445.75 Q107.658 1438.62 105.83 1435.08 Q104.024 1431.51 100.39 1431.51 M100.39 1427.81 Q106.2 1427.81 109.256 1432.42 Q112.334 1437 112.334 1445.75 Q112.334 1454.48 109.256 1459.08 Q106.2 1463.67 100.39 1463.67 Q94.5799 1463.67 91.5012 1459.08 Q88.4456 1454.48 88.4456 1445.75 Q88.4456 1437 91.5012 1432.42 Q94.5799 1427.81 100.39 1427.81 Z\" fill=\"#000000\" fill-rule=\"evenodd\" fill-opacity=\"1\" /><path clip-path=\"url(#clip280)\" d=\"M 0 0 M65.0198 1103.8 Q61.4087 1103.8 59.58 1107.36 Q57.7745 1110.9 57.7745 1118.03 Q57.7745 1125.14 59.58 1128.71 Q61.4087 1132.25 65.0198 1132.25 Q68.6541 1132.25 70.4596 1128.71 Q72.2883 1125.14 72.2883 1118.03 Q72.2883 1110.9 70.4596 1107.36 Q68.6541 1103.8 65.0198 1103.8 M65.0198 1100.09 Q70.83 1100.09 73.8855 1104.7 Q76.9642 1109.28 76.9642 1118.03 Q76.9642 1126.76 73.8855 1131.37 Q70.83 1135.95 65.0198 1135.95 Q59.2097 1135.95 56.131 1131.37 Q53.0754 1126.76 53.0754 1118.03 Q53.0754 1109.28 56.131 1104.7 Q59.2097 1100.09 65.0198 1100.09 Z\" fill=\"#000000\" fill-rule=\"evenodd\" fill-opacity=\"1\" /><path clip-path=\"url(#clip280)\" d=\"M 0 0 M82.0336 1129.4 L86.9179 1129.4 L86.9179 1135.28 L82.0336 1135.28 L82.0336 1129.4 Z\" fill=\"#000000\" fill-rule=\"evenodd\" fill-opacity=\"1\" /><path clip-path=\"url(#clip280)\" d=\"M 0 0 M96.015 1131.34 L112.334 1131.34 L112.334 1135.28 L90.3901 1135.28 L90.3901 1131.34 Q93.0521 1128.59 97.6354 1123.96 Q102.242 1119.31 103.422 1117.96 Q105.668 1115.44 106.547 1113.71 Q107.45 1111.95 107.45 1110.26 Q107.45 1107.5 105.506 1105.77 Q103.584 1104.03 100.483 1104.03 Q98.2835 1104.03 95.8298 1104.79 Q93.3993 1105.56 90.6215 1107.11 L90.6215 1102.39 Q93.4456 1101.25 95.8993 1100.67 Q98.353 1100.09 100.39 1100.09 Q105.76 1100.09 108.955 1102.78 Q112.149 1105.46 112.149 1109.96 Q112.149 1112.08 111.339 1114.01 Q110.552 1115.9 108.446 1118.5 Q107.867 1119.17 104.765 1122.39 Q101.663 1125.58 96.015 1131.34 Z\" fill=\"#000000\" fill-rule=\"evenodd\" fill-opacity=\"1\" /><path clip-path=\"url(#clip280)\" d=\"M 0 0 M62.9365 776.081 Q59.3254 776.081 57.4967 779.646 Q55.6912 783.188 55.6912 790.317 Q55.6912 797.424 57.4967 800.989 Q59.3254 804.53 62.9365 804.53 Q66.5707 804.53 68.3763 800.989 Q70.205 797.424 70.205 790.317 Q70.205 783.188 68.3763 779.646 Q66.5707 776.081 62.9365 776.081 M62.9365 772.378 Q68.7467 772.378 71.8022 776.984 Q74.8809 781.567 74.8809 790.317 Q74.8809 799.044 71.8022 803.651 Q68.7467 808.234 62.9365 808.234 Q57.1264 808.234 54.0477 803.651 Q50.9921 799.044 50.9921 790.317 Q50.9921 781.567 54.0477 776.984 Q57.1264 772.378 62.9365 772.378 Z\" fill=\"#000000\" fill-rule=\"evenodd\" fill-opacity=\"1\" /><path clip-path=\"url(#clip280)\" d=\"M 0 0 M79.9503 801.683 L84.8345 801.683 L84.8345 807.563 L79.9503 807.563 L79.9503 801.683 Z\" fill=\"#000000\" fill-rule=\"evenodd\" fill-opacity=\"1\" /><path clip-path=\"url(#clip280)\" d=\"M 0 0 M102.751 777.077 L90.9456 795.526 L102.751 795.526 L102.751 777.077 M101.524 773.003 L107.404 773.003 L107.404 795.526 L112.334 795.526 L112.334 799.414 L107.404 799.414 L107.404 807.563 L102.751 807.563 L102.751 799.414 L87.1493 799.414 L87.1493 794.901 L101.524 773.003 Z\" fill=\"#000000\" fill-rule=\"evenodd\" fill-opacity=\"1\" /><path clip-path=\"url(#clip280)\" d=\"M 0 0 M63.2606 448.365 Q59.6495 448.365 57.8208 451.929 Q56.0152 455.471 56.0152 462.601 Q56.0152 469.707 57.8208 473.272 Q59.6495 476.814 63.2606 476.814 Q66.8948 476.814 68.7004 473.272 Q70.5291 469.707 70.5291 462.601 Q70.5291 455.471 68.7004 451.929 Q66.8948 448.365 63.2606 448.365 M63.2606 444.661 Q69.0707 444.661 72.1263 449.267 Q75.205 453.851 75.205 462.601 Q75.205 471.328 72.1263 475.934 Q69.0707 480.517 63.2606 480.517 Q57.4504 480.517 54.3717 475.934 Q51.3162 471.328 51.3162 462.601 Q51.3162 453.851 54.3717 449.267 Q57.4504 444.661 63.2606 444.661 Z\" fill=\"#000000\" fill-rule=\"evenodd\" fill-opacity=\"1\" /><path clip-path=\"url(#clip280)\" d=\"M 0 0 M80.2744 473.966 L85.1586 473.966 L85.1586 479.846 L80.2744 479.846 L80.2744 473.966 Z\" fill=\"#000000\" fill-rule=\"evenodd\" fill-opacity=\"1\" /><path clip-path=\"url(#clip280)\" d=\"M 0 0 M100.807 460.703 Q97.6585 460.703 95.8067 462.855 Q93.978 465.008 93.978 468.758 Q93.978 472.485 95.8067 474.661 Q97.6585 476.814 100.807 476.814 Q103.955 476.814 105.783 474.661 Q107.635 472.485 107.635 468.758 Q107.635 465.008 105.783 462.855 Q103.955 460.703 100.807 460.703 M110.089 446.05 L110.089 450.309 Q108.33 449.476 106.524 449.036 Q104.742 448.596 102.983 448.596 Q98.353 448.596 95.8993 451.721 Q93.4688 454.846 93.1215 461.166 Q94.4873 459.152 96.5474 458.087 Q98.6076 456.999 101.084 456.999 Q106.293 456.999 109.302 460.17 Q112.334 463.318 112.334 468.758 Q112.334 474.082 109.186 477.3 Q106.038 480.517 100.807 480.517 Q94.8113 480.517 91.6401 475.934 Q88.4688 471.328 88.4688 462.601 Q88.4688 454.406 92.3576 449.545 Q96.2465 444.661 102.797 444.661 Q104.557 444.661 106.339 445.008 Q108.145 445.355 110.089 446.05 Z\" fill=\"#000000\" fill-rule=\"evenodd\" fill-opacity=\"1\" /><path clip-path=\"url(#clip280)\" d=\"M 0 0 M63.5152 120.648 Q59.9041 120.648 58.0754 124.213 Q56.2699 127.755 56.2699 134.884 Q56.2699 141.991 58.0754 145.555 Q59.9041 149.097 63.5152 149.097 Q67.1494 149.097 68.955 145.555 Q70.7837 141.991 70.7837 134.884 Q70.7837 127.755 68.955 124.213 Q67.1494 120.648 63.5152 120.648 M63.5152 116.944 Q69.3254 116.944 72.3809 121.551 Q75.4596 126.134 75.4596 134.884 Q75.4596 143.611 72.3809 148.217 Q69.3254 152.801 63.5152 152.801 Q57.7051 152.801 54.6264 148.217 Q51.5708 143.611 51.5708 134.884 Q51.5708 126.134 54.6264 121.551 Q57.7051 116.944 63.5152 116.944 Z\" fill=\"#000000\" fill-rule=\"evenodd\" fill-opacity=\"1\" /><path clip-path=\"url(#clip280)\" d=\"M 0 0 M80.529 146.25 L85.4132 146.25 L85.4132 152.129 L80.529 152.129 L80.529 146.25 Z\" fill=\"#000000\" fill-rule=\"evenodd\" fill-opacity=\"1\" /><path clip-path=\"url(#clip280)\" d=\"M 0 0 M100.483 135.717 Q97.1493 135.717 95.228 137.5 Q93.3299 139.282 93.3299 142.407 Q93.3299 145.532 95.228 147.315 Q97.1493 149.097 100.483 149.097 Q103.816 149.097 105.737 147.315 Q107.658 145.509 107.658 142.407 Q107.658 139.282 105.737 137.5 Q103.839 135.717 100.483 135.717 M95.8067 133.727 Q92.7975 132.986 91.1077 130.926 Q89.441 128.866 89.441 125.903 Q89.441 121.759 92.3808 119.352 Q95.3437 116.944 100.483 116.944 Q105.645 116.944 108.584 119.352 Q111.524 121.759 111.524 125.903 Q111.524 128.866 109.834 130.926 Q108.168 132.986 105.182 133.727 Q108.561 134.514 110.436 136.805 Q112.334 139.097 112.334 142.407 Q112.334 147.43 109.256 150.116 Q106.2 152.801 100.483 152.801 Q94.765 152.801 91.6864 150.116 Q88.6308 147.43 88.6308 142.407 Q88.6308 139.097 90.529 136.805 Q92.4271 134.514 95.8067 133.727 M94.0937 126.343 Q94.0937 129.028 95.7604 130.532 Q97.4502 132.037 100.483 132.037 Q103.492 132.037 105.182 130.532 Q106.895 129.028 106.895 126.343 Q106.895 123.657 105.182 122.153 Q103.492 120.648 100.483 120.648 Q97.4502 120.648 95.7604 122.153 Q94.0937 123.657 94.0937 126.343 Z\" fill=\"#000000\" fill-rule=\"evenodd\" fill-opacity=\"1\" /><path clip-path=\"url(#clip282)\" d=\"\n",
       "M269.581 1164.87 L269.581 1445.72 L447.939 1445.72 L447.939 1164.87 L269.581 1164.87 L269.581 1164.87  Z\n",
       "  \" fill=\"#009af9\" fill-rule=\"evenodd\" fill-opacity=\"1\"/>\n",
       "<polyline clip-path=\"url(#clip282)\" style=\"stroke:#000000; stroke-width:4; stroke-opacity:1; fill:none\" points=\"\n",
       "  269.581,1164.87 269.581,1445.72 447.939,1445.72 447.939,1164.87 269.581,1164.87 \n",
       "  \"/>\n",
       "<path clip-path=\"url(#clip282)\" d=\"\n",
       "M447.939 1445.72 L447.939 1445.72 L626.296 1445.72 L626.296 1445.72 L447.939 1445.72 L447.939 1445.72  Z\n",
       "  \" fill=\"#009af9\" fill-rule=\"evenodd\" fill-opacity=\"1\"/>\n",
       "<polyline clip-path=\"url(#clip282)\" style=\"stroke:#000000; stroke-width:4; stroke-opacity:1; fill:none\" points=\"\n",
       "  447.939,1445.72 447.939,1445.72 626.296,1445.72 447.939,1445.72 \n",
       "  \"/>\n",
       "<path clip-path=\"url(#clip282)\" d=\"\n",
       "M626.296 1445.72 L626.296 1445.72 L804.653 1445.72 L804.653 1445.72 L626.296 1445.72 L626.296 1445.72  Z\n",
       "  \" fill=\"#009af9\" fill-rule=\"evenodd\" fill-opacity=\"1\"/>\n",
       "<polyline clip-path=\"url(#clip282)\" style=\"stroke:#000000; stroke-width:4; stroke-opacity:1; fill:none\" points=\"\n",
       "  626.296,1445.72 626.296,1445.72 804.653,1445.72 626.296,1445.72 \n",
       "  \"/>\n",
       "<path clip-path=\"url(#clip282)\" d=\"\n",
       "M804.653 1445.72 L804.653 1445.72 L983.01 1445.72 L983.01 1445.72 L804.653 1445.72 L804.653 1445.72  Z\n",
       "  \" fill=\"#009af9\" fill-rule=\"evenodd\" fill-opacity=\"1\"/>\n",
       "<polyline clip-path=\"url(#clip282)\" style=\"stroke:#000000; stroke-width:4; stroke-opacity:1; fill:none\" points=\"\n",
       "  804.653,1445.72 804.653,1445.72 983.01,1445.72 804.653,1445.72 \n",
       "  \"/>\n",
       "<path clip-path=\"url(#clip282)\" d=\"\n",
       "M983.01 1445.72 L983.01 1445.72 L1161.37 1445.72 L1161.37 1445.72 L983.01 1445.72 L983.01 1445.72  Z\n",
       "  \" fill=\"#009af9\" fill-rule=\"evenodd\" fill-opacity=\"1\"/>\n",
       "<polyline clip-path=\"url(#clip282)\" style=\"stroke:#000000; stroke-width:4; stroke-opacity:1; fill:none\" points=\"\n",
       "  983.01,1445.72 983.01,1445.72 1161.37,1445.72 983.01,1445.72 \n",
       "  \"/>\n",
       "<path clip-path=\"url(#clip282)\" d=\"\n",
       "M1161.37 1445.72 L1161.37 1445.72 L1339.72 1445.72 L1339.72 1445.72 L1161.37 1445.72 L1161.37 1445.72  Z\n",
       "  \" fill=\"#009af9\" fill-rule=\"evenodd\" fill-opacity=\"1\"/>\n",
       "<polyline clip-path=\"url(#clip282)\" style=\"stroke:#000000; stroke-width:4; stroke-opacity:1; fill:none\" points=\"\n",
       "  1161.37,1445.72 1161.37,1445.72 1339.72,1445.72 1161.37,1445.72 \n",
       "  \"/>\n",
       "<path clip-path=\"url(#clip282)\" d=\"\n",
       "M1339.72 1445.72 L1339.72 1445.72 L1518.08 1445.72 L1518.08 1445.72 L1339.72 1445.72 L1339.72 1445.72  Z\n",
       "  \" fill=\"#009af9\" fill-rule=\"evenodd\" fill-opacity=\"1\"/>\n",
       "<polyline clip-path=\"url(#clip282)\" style=\"stroke:#000000; stroke-width:4; stroke-opacity:1; fill:none\" points=\"\n",
       "  1339.72,1445.72 1339.72,1445.72 1518.08,1445.72 1339.72,1445.72 \n",
       "  \"/>\n",
       "<path clip-path=\"url(#clip282)\" d=\"\n",
       "M1518.08 1445.72 L1518.08 1445.72 L1696.44 1445.72 L1696.44 1445.72 L1518.08 1445.72 L1518.08 1445.72  Z\n",
       "  \" fill=\"#009af9\" fill-rule=\"evenodd\" fill-opacity=\"1\"/>\n",
       "<polyline clip-path=\"url(#clip282)\" style=\"stroke:#000000; stroke-width:4; stroke-opacity:1; fill:none\" points=\"\n",
       "  1518.08,1445.72 1518.08,1445.72 1696.44,1445.72 1518.08,1445.72 \n",
       "  \"/>\n",
       "<path clip-path=\"url(#clip282)\" d=\"\n",
       "M1696.44 1445.72 L1696.44 1445.72 L1874.79 1445.72 L1874.79 1445.72 L1696.44 1445.72 L1696.44 1445.72  Z\n",
       "  \" fill=\"#009af9\" fill-rule=\"evenodd\" fill-opacity=\"1\"/>\n",
       "<polyline clip-path=\"url(#clip282)\" style=\"stroke:#000000; stroke-width:4; stroke-opacity:1; fill:none\" points=\"\n",
       "  1696.44,1445.72 1696.44,1445.72 1874.79,1445.72 1696.44,1445.72 \n",
       "  \"/>\n",
       "<path clip-path=\"url(#clip282)\" d=\"\n",
       "M1874.79 1445.72 L1874.79 1445.72 L2053.15 1445.72 L2053.15 1445.72 L1874.79 1445.72 L1874.79 1445.72  Z\n",
       "  \" fill=\"#009af9\" fill-rule=\"evenodd\" fill-opacity=\"1\"/>\n",
       "<polyline clip-path=\"url(#clip282)\" style=\"stroke:#000000; stroke-width:4; stroke-opacity:1; fill:none\" points=\"\n",
       "  1874.79,1445.72 1874.79,1445.72 2053.15,1445.72 1874.79,1445.72 \n",
       "  \"/>\n",
       "<path clip-path=\"url(#clip282)\" d=\"\n",
       "M2053.15 87.9763 L2053.15 1445.72 L2231.51 1445.72 L2231.51 87.9763 L2053.15 87.9763 L2053.15 87.9763  Z\n",
       "  \" fill=\"#009af9\" fill-rule=\"evenodd\" fill-opacity=\"1\"/>\n",
       "<polyline clip-path=\"url(#clip282)\" style=\"stroke:#000000; stroke-width:4; stroke-opacity:1; fill:none\" points=\"\n",
       "  2053.15,87.9763 2053.15,1445.72 2231.51,1445.72 2231.51,87.9763 2053.15,87.9763 \n",
       "  \"/>\n",
       "<path clip-path=\"url(#clip280)\" d=\"\n",
       "M1983.32 216.178 L2279.28 216.178 L2279.28 95.2176 L1983.32 95.2176  Z\n",
       "  \" fill=\"#ffffff\" fill-rule=\"evenodd\" fill-opacity=\"1\"/>\n",
       "<polyline clip-path=\"url(#clip280)\" style=\"stroke:#000000; stroke-width:4; stroke-opacity:1; fill:none\" points=\"\n",
       "  1983.32,216.178 2279.28,216.178 2279.28,95.2176 1983.32,95.2176 1983.32,216.178 \n",
       "  \"/>\n",
       "<path clip-path=\"url(#clip280)\" d=\"\n",
       "M2007.81 179.89 L2154.78 179.89 L2154.78 131.506 L2007.81 131.506 L2007.81 179.89  Z\n",
       "  \" fill=\"#009af9\" fill-rule=\"evenodd\" fill-opacity=\"1\"/>\n",
       "<polyline clip-path=\"url(#clip280)\" style=\"stroke:#000000; stroke-width:4; stroke-opacity:1; fill:none\" points=\"\n",
       "  2007.81,179.89 2154.78,179.89 2154.78,131.506 2007.81,131.506 2007.81,179.89 \n",
       "  \"/>\n",
       "<path clip-path=\"url(#clip280)\" d=\"M 0 0 M2193.11 175.385 Q2191.31 180.015 2189.59 181.427 Q2187.88 182.839 2185.01 182.839 L2181.61 182.839 L2181.61 179.274 L2184.11 179.274 Q2185.87 179.274 2186.84 178.44 Q2187.81 177.607 2188.99 174.505 L2189.76 172.561 L2179.27 147.052 L2183.78 147.052 L2191.89 167.329 L2199.99 147.052 L2204.5 147.052 L2193.11 175.385 Z\" fill=\"#000000\" fill-rule=\"evenodd\" fill-opacity=\"1\" /><path clip-path=\"url(#clip280)\" d=\"M 0 0 M2210.38 169.042 L2218.02 169.042 L2218.02 142.677 L2209.71 144.343 L2209.71 140.084 L2217.97 138.418 L2222.65 138.418 L2222.65 169.042 L2230.29 169.042 L2230.29 172.978 L2210.38 172.978 L2210.38 169.042 Z\" fill=\"#000000\" fill-rule=\"evenodd\" fill-opacity=\"1\" /></svg>\n"
      ]
     },
     "execution_count": 17,
     "metadata": {},
     "output_type": "execute_result"
    }
   ],
   "source": [
    "history = [([((JACK, BET, false), (KING, FOLD , true))], 1), ([((JACK, BET, false), (KING, FOLD , true))], 1), ([((JACK, BET, false), (KING, FOLD , true))], 1), ([((JACK, BET, false), (KING, FOLD , true))], 1)]\n",
    "m = poker_agent(JACK, false, history, first_call_and_won(history), first_bet_and_won(history), 1)\n",
    "chn = sample(m, IS() , 10000 , n_chains=1)\n",
    "plotChn_action(chn)"
   ]
  },
  {
   "cell_type": "code",
   "execution_count": 18,
   "metadata": {},
   "outputs": [
    {
     "data": {
      "text/plain": [
       "sample_action_from_model (generic function with 1 method)"
      ]
     },
     "execution_count": 18,
     "metadata": {},
     "output_type": "execute_result"
    }
   ],
   "source": [
    "function sample_action_from_model(m)\n",
    "    chn = sample(m, IS() , 10000 , n_chains=1, progress = false)\n",
    "    return sample_action_from_computed_posterior(chn)\n",
    "end"
   ]
  },
  {
   "cell_type": "code",
   "execution_count": 55,
   "metadata": {},
   "outputs": [
    {
     "data": {
      "text/plain": [
       "round (generic function with 3 methods)"
      ]
     },
     "execution_count": 55,
     "metadata": {},
     "output_type": "execute_result"
    }
   ],
   "source": [
    "function round(first_card, second_card, first_agent, second_agent, history)\n",
    "    score = 0\n",
    "    \n",
    "    m1 = first_agent(first_card, false, history, first_call_and_won(history), first_bet_and_won(history), 1)\n",
    "    first_player_move = sample_action_from_model(m1)\n",
    "    \n",
    "    m2 = second_agent(second_card, first_player_move == BET, history, second_call_and_won(history), second_bet_and_won(history), 2)\n",
    "    second_player_move = sample_action_from_model(m2)\n",
    "    second_player_move = first_player_move == BET ? second_player_move - 1 : second_player_move\n",
    "    println(second_player_move)\n",
    "    round_history = [((first_card, first_player_move, false), (second_card, second_player_move, first_player_move == BET))]\n",
    "    \n",
    "    doubled_pot = first_player_move == BET || second_player_move == BET\n",
    "    if second_player_move == FOLD\n",
    "        round_record = (round_history, 1)\n",
    "        push!(history, round_record)\n",
    "        return 1\n",
    "    end\n",
    "    if second_player_move == BET\n",
    "        doubled_pot = true\n",
    "        m1 = first_agent(first_card, true, history, first_call_and_won(history), first_bet_and_won(history), 1)\n",
    "        first_player_move = sample_action_from_model(m1) - 1 # 1 is call and 0 is fold\n",
    "        push!(round_history, ((first_card, first_player_move, false),(-10, -10, false)))\n",
    "        if first_player_move == FOLD\n",
    "            return -1\n",
    "        end\n",
    "    end\n",
    "    if first_card > second_card\n",
    "        score =  1 * (1 + doubled_pot)\n",
    "    else\n",
    "        score = -1 * (1 + doubled_pot)\n",
    "    end\n",
    "    round_record = (round_history, score)\n",
    "    push!(history, round_record)\n",
    "    return score\n",
    "end"
   ]
  },
  {
   "cell_type": "code",
   "execution_count": 56,
   "metadata": {},
   "outputs": [
    {
     "data": {
      "text/plain": [
       "game (generic function with 3 methods)"
      ]
     },
     "execution_count": 56,
     "metadata": {},
     "output_type": "execute_result"
    }
   ],
   "source": [
    "function game(num_of_rounds = 10)\n",
    "    total_score = 0\n",
    "    history = []\n",
    "    for i in 1:num_of_rounds\n",
    "        first_card, second_card = sample(FULL_DECK, 2; replace=false)\n",
    "        score = round(first_card, second_card, poker_agent, poker_agent, history)\n",
    "        total_score += score\n",
    "    end\n",
    "    print(history)\n",
    "    avg_score = total_score / num_of_rounds\n",
    "    return avg_score\n",
    "end"
   ]
  },
  {
   "cell_type": "code",
   "execution_count": 57,
   "metadata": {},
   "outputs": [
    {
     "name": "stdout",
     "output_type": "stream",
     "text": [
      "0.0\n",
      "-1.0\n",
      "-1.0\n",
      "0.0\n",
      "-1.0\n",
      "Any[(Tuple{Tuple{Int64,Float64,Bool},Tuple{Int64,Float64,Bool}}[((3, 0.0, 0), (2, 0.0, 0))], 1), (Tuple{Tuple{Int64,Float64,Bool},Tuple{Int64,Float64,Bool}}[((2, 1.0, 0), (3, -1.0, 1))], 1), (Tuple{Tuple{Int64,Float64,Bool},Tuple{Int64,Float64,Bool}}[((1, 1.0, 0), (3, -1.0, 1))], 1), (Tuple{Tuple{Int64,Float64,Bool},Tuple{Int64,Float64,Bool}}[((1, 1.0, 0), (2, 0.0, 1))], -2), (Tuple{Tuple{Int64,Float64,Bool},Tuple{Int64,Float64,Bool}}[((2, 1.0, 0), (3, -1.0, 1))], 1)]"
     ]
    },
    {
     "data": {
      "text/plain": [
       "0.4"
      ]
     },
     "execution_count": 57,
     "metadata": {},
     "output_type": "execute_result"
    }
   ],
   "source": [
    "game(5)"
   ]
  },
  {
   "cell_type": "code",
   "execution_count": null,
   "metadata": {},
   "outputs": [],
   "source": []
  }
 ],
 "metadata": {
  "kernelspec": {
   "display_name": "Julia 1.5.3",
   "language": "julia",
   "name": "julia-1.5"
  },
  "language_info": {
   "file_extension": ".jl",
   "mimetype": "application/julia",
   "name": "julia",
   "version": "1.5.3"
  }
 },
 "nbformat": 4,
 "nbformat_minor": 4
}
