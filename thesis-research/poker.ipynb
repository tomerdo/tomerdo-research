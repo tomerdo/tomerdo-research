{
 "cells": [
  {
   "cell_type": "code",
   "execution_count": 1,
   "metadata": {},
   "outputs": [],
   "source": [
    "# Import libraries.\n",
    "using Turing, StatsPlots, Random, Memoization, StatsBase, Statistics, ProgressMeter, SpecialFunctions"
   ]
  },
  {
   "cell_type": "markdown",
   "metadata": {},
   "source": [
    "## In this notebook we will implement a  Theory Of Mind agents on a version of Poker"
   ]
  },
  {
   "cell_type": "markdown",
   "metadata": {},
   "source": [
    "### Kuhn Poker"
   ]
  },
  {
   "cell_type": "markdown",
   "metadata": {},
   "source": [
    "Kuhn poker is an extremely simplified form of poker developed by Harold W. Kuhn as a simple model zero-sum two-player imperfect-information game, amenable to a complete game-theoretic analysis. In Kuhn poker, the deck includes only three playing cards, for example a King, Queen, and Jack. One card is dealt to each player, which may place bets similarly to a standard poker. If both players bet or both players pass, the player with the higher card wins, otherwise, the betting player wins."
   ]
  },
  {
   "cell_type": "markdown",
   "metadata": {},
   "source": [
    "#### Rules"
   ]
  },
  {
   "cell_type": "markdown",
   "metadata": {},
   "source": [
    "In conventional poker terms, a game of Kuhn poker proceeds as follows:\n",
    "\n",
    "Each player antes 1.\n",
    "Each player is dealt one of the three cards, and the third is put aside unseen.\n",
    "Player one can check or bet 1.\n",
    "* If player one checks then player two can check or bet 1.\n",
    "    * If player two checks there is a showdown for the pot of 2 (i.e. the higher card wins 1 from the other player).\n",
    "    * If player two bets then player one can fold or call.\n",
    "        * If player one folds then player two takes the pot of 3 (i.e. winning 1 from player 1).\n",
    "        * If player one calls there is a showdown for the pot of 4 (i.e. the higher card wins 2 from the other player).\n",
    "* If player one bets then player two can fold or call.\n",
    "    * If player two folds then player one takes the pot of 3 (i.e. winning 1 from player 2).\n",
    "    * If player two calls there is a showdown for the pot of 4 (i.e. the higher card wins 2 from the other player)."
   ]
  },
  {
   "cell_type": "markdown",
   "metadata": {},
   "source": [
    "#### Optimal strategy\n"
   ]
  },
  {
   "cell_type": "markdown",
   "metadata": {},
   "source": [
    "The game has a mixed-strategy Nash equilibrium; when both players play equilibrium strategies, the first player should expect to lose at a rate of −1/18 per hand (as the game is zero-sum, the second player should expect to win at a rate of +1/18). There is no pure-strategy equilibrium.\n",
    "\n",
    "Kuhn demonstrated there are infinitely many equilibrium strategies for the first player, forming a continuum governed by a single parameter. In one possible formulation, player one freely chooses the probability $\\alpha$ $\\in$ [0,1/3] with which he will bet when having a Jack (otherwise he checks; if the other player bets, he should always fold). When having a King, he should bet with the probability of $3\\alpha$ (otherwise he checks; if the other player bets, he should always call). He should always check when having a Queen, and if the other player bets after this check, he should call with the probability of $\\alpha$ +1/3.\n",
    "\n",
    "The second player has a single equilibrium strategy: Always betting or calling when having a King; when having a Queen, checking if possible, otherwise calling with the probability of 1/3; when having a Jack, never calling and betting with the probability of 1/3."
   ]
  },
  {
   "cell_type": "markdown",
   "metadata": {},
   "source": [
    "#### Pseudo Code Model"
   ]
  },
  {
   "cell_type": "markdown",
   "metadata": {},
   "source": [
    "* game_simulation(num_of_round):\n",
    "    * c1 , c2 ~ Deck() <br>\n",
    "\n",
    "    * player1_history = [] <br>\n",
    "    * player2_history = [] <br>\n",
    "\n",
    "    * for i in length(num_of_rounds):\n",
    "       * m1 = agent(c1, player2_history, deception_alpha) <br>\n",
    "       * player1_history.append(m1) <br>\n",
    "       * m2 = agent(c2, player1_history, deception_alpha) <br>\n",
    "       * player2_history.append(m2) <br>\n",
    "<br><br><br>\n",
    "* agent(card , opp_history, decption_alpha):\n",
    "    * opp_card ~ Deck(deck.pop(card))\n",
    "    * opp_move ~ opp_model(opp_card, last_action)\n",
    "    * return select_move(opp_move, card, deception_alpha)"
   ]
  },
  {
   "cell_type": "code",
   "execution_count": 4,
   "metadata": {},
   "outputs": [
    {
     "data": {
      "text/plain": [
       "3-element Array{Int64,1}:\n",
       " 1\n",
       " 2\n",
       " 3"
      ]
     },
     "execution_count": 4,
     "metadata": {},
     "output_type": "execute_result"
    }
   ],
   "source": [
    "JACK = 1\n",
    "QUEEN = 2\n",
    "KING = 3\n",
    "FULL_DECK = [JACK, QUEEN, KING]"
   ]
  },
  {
   "cell_type": "code",
   "execution_count": 63,
   "metadata": {},
   "outputs": [
    {
     "data": {
      "text/plain": [
       "3-element Array{Int64,1}:\n",
       " -1\n",
       "  0\n",
       "  1"
      ]
     },
     "execution_count": 63,
     "metadata": {},
     "output_type": "execute_result"
    }
   ],
   "source": [
    "FOLD = -1\n",
    "CHECK = 0\n",
    "BET = 1\n",
    "ACTIONS = [FOLD, CHECK, BET]"
   ]
  },
  {
   "cell_type": "markdown",
   "metadata": {},
   "source": [
    "#### This method is implementation of first player equilibrium strategy"
   ]
  },
  {
   "cell_type": "code",
   "execution_count": 133,
   "metadata": {},
   "outputs": [
    {
     "data": {
      "text/plain": [
       "first_player_select_move (generic function with 2 methods)"
      ]
     },
     "execution_count": 133,
     "metadata": {},
     "output_type": "execute_result"
    }
   ],
   "source": [
    "function first_player_select_move(card, deception_alpha, opp_betting)\n",
    "   if card == JACK\n",
    "        if opp_betting\n",
    "            return FOLD    \n",
    "        elseif rand() < deception_alpha\n",
    "            return BET # bluff\n",
    "        else\n",
    "            return CHECK\n",
    "        end\n",
    "    elseif card == KING\n",
    "        need_to_bet = rand() < 3 * deception_alpha\n",
    "        if need_to_bet && !opp_betting\n",
    "            return BET\n",
    "        else   # slow playing\n",
    "            return CHECK\n",
    "        end\n",
    "    else # queen\n",
    "        need_to_call = rand() < deception_alpha + 1/3\n",
    "        if !need_to_call && opp_betting\n",
    "            return FOLD\n",
    "        else\n",
    "            return CHECK\n",
    "        end\n",
    "    end\n",
    "end"
   ]
  },
  {
   "cell_type": "markdown",
   "metadata": {},
   "source": [
    "#### This method is implementation of second player equilibrium strategy"
   ]
  },
  {
   "cell_type": "code",
   "execution_count": 137,
   "metadata": {},
   "outputs": [
    {
     "data": {
      "text/plain": [
       "second_player_select_move (generic function with 2 methods)"
      ]
     },
     "execution_count": 137,
     "metadata": {},
     "output_type": "execute_result"
    }
   ],
   "source": [
    "function second_player_select_move(card, opp_betting)\n",
    "   if card == JACK\n",
    "        if opp_betting\n",
    "            return FOLD    \n",
    "        elseif rand() < 1/3\n",
    "            return BET # bluff\n",
    "        else\n",
    "            return CHECK\n",
    "        end\n",
    "    elseif card == KING\n",
    "        if  opp_betting\n",
    "            return CHECK\n",
    "        else   # slow playing\n",
    "            return BET\n",
    "        end\n",
    "    else # queen\n",
    "        need_to_call = rand() < 1/3\n",
    "        if !need_to_call && opp_betting\n",
    "            return FOLD\n",
    "        else\n",
    "            return CHECK\n",
    "        end\n",
    "    end\n",
    "end"
   ]
  },
  {
   "cell_type": "code",
   "execution_count": 395,
   "metadata": {},
   "outputs": [
    {
     "data": {
      "text/plain": [
       "round (generic function with 3 methods)"
      ]
     },
     "execution_count": 395,
     "metadata": {},
     "output_type": "execute_result"
    }
   ],
   "source": [
    "function round(first_card, second_card, deception_alpha = 0.2)\n",
    "    first_player_move = first_player_select_move(first_card, deception_alpha, false)\n",
    "    second_player_move = second_player_select_move(second_card, first_player_move == BET)\n",
    "#     println(\"stage 1 first player: $first_player_move second player: $second_player_move\")\n",
    "    doubled_pot = first_player_move == BET || second_player_move == BET\n",
    "    if second_player_move == FOLD\n",
    "        return 1\n",
    "    end\n",
    "    if second_player_move == BET\n",
    "        doubled_pot = true\n",
    "        first_player_move = first_player_select_move(first_card, deception_alpha , true)\n",
    "#         println(\"stage 2  first player: $first_player_move second player: $second_player_move\")\n",
    "        if first_player_move == FOLD\n",
    "            return -1\n",
    "        end\n",
    "    end\n",
    "    if first_card > second_card\n",
    "        return 1 * (1 + doubled_pot)\n",
    "    else\n",
    "        return -1 * (1 + doubled_pot)\n",
    "    end\n",
    "end"
   ]
  },
  {
   "cell_type": "code",
   "execution_count": 396,
   "metadata": {},
   "outputs": [
    {
     "data": {
      "text/plain": [
       "-1"
      ]
     },
     "execution_count": 396,
     "metadata": {},
     "output_type": "execute_result"
    }
   ],
   "source": [
    "round(JACK, KING)"
   ]
  },
  {
   "cell_type": "code",
   "execution_count": 387,
   "metadata": {},
   "outputs": [
    {
     "data": {
      "text/plain": [
       "game (generic function with 6 methods)"
      ]
     },
     "execution_count": 387,
     "metadata": {},
     "output_type": "execute_result"
    }
   ],
   "source": [
    "function game(num_of_rounds = 10, deception_alpha=0.2)\n",
    "    total_score = 0\n",
    "    for i in 1:num_of_rounds\n",
    "        first_card, second_card = sample(FULL_DECK, 2; replace=false)\n",
    "        score = round(first_card, second_card, deception_alpha)\n",
    "#         println(\"round $i: first player got $first_card second player got $second_card score is $score\")\n",
    "        total_score += score\n",
    "    end\n",
    "    avg_score = total_score / num_of_rounds\n",
    "    return avg_score\n",
    "end"
   ]
  },
  {
   "cell_type": "markdown",
   "metadata": {},
   "source": [
    "#### we can see that the game is converging to -1/18 as the theory states"
   ]
  },
  {
   "cell_type": "code",
   "execution_count": 398,
   "metadata": {},
   "outputs": [
    {
     "data": {
      "text/plain": [
       "-0.054661"
      ]
     },
     "execution_count": 398,
     "metadata": {},
     "output_type": "execute_result"
    }
   ],
   "source": [
    "game(1000000, 0.25)"
   ]
  },
  {
   "cell_type": "code",
   "execution_count": 399,
   "metadata": {},
   "outputs": [
    {
     "data": {
      "text/plain": [
       "-0.055494"
      ]
     },
     "execution_count": 399,
     "metadata": {},
     "output_type": "execute_result"
    }
   ],
   "source": [
    "game(1000000, 0.1)"
   ]
  },
  {
   "cell_type": "code",
   "execution_count": 400,
   "metadata": {},
   "outputs": [
    {
     "data": {
      "text/plain": [
       "-0.054462"
      ]
     },
     "execution_count": 400,
     "metadata": {},
     "output_type": "execute_result"
    }
   ],
   "source": [
    "game(1000000, 0.01)"
   ]
  },
  {
   "cell_type": "markdown",
   "metadata": {},
   "source": [
    "### The PPL Approach"
   ]
  },
  {
   "cell_type": "markdown",
   "metadata": {},
   "source": [
    "### let's try to infer the $\\alpha$ seed"
   ]
  },
  {
   "cell_type": "code",
   "execution_count": 453,
   "metadata": {},
   "outputs": [
    {
     "data": {
      "text/plain": [
       "agent (generic function with 4 methods)"
      ]
     },
     "execution_count": 453,
     "metadata": {},
     "output_type": "execute_result"
    }
   ],
   "source": [
    "@model function agent(card, opp_betting = false, alpha = 0.33333)\n",
    "    deception_alpha ~ Dirac(alpha)\n",
    "    if !opp_betting\n",
    "        if card == JACK\n",
    "            bet_chance ~ Bernoulli(deception_alpha) # bluff\n",
    "            return ACTIONS[bet_chance+1]\n",
    "        elseif card == KING\n",
    "            check_chance ~ Bernoulli(3 * deception_alpha) # agrassive vs slow playing\n",
    "            return ACTIONS[2+check_chance]\n",
    "        else # queen\n",
    "            return CHECK\n",
    "        end\n",
    "    else\n",
    "        if card == JACK\n",
    "            return FOLD\n",
    "        elseif card == KING  \n",
    "            return CHECK\n",
    "        else  \n",
    "            call_chance ~ Bernoulli(deception_alpha + 1/3) # bluff detection\n",
    "            return ACTIONS[1+call_chance] \n",
    "        end\n",
    "    end\n",
    "end"
   ]
  },
  {
   "cell_type": "markdown",
   "metadata": {},
   "source": [
    "#### Some simple games with the model"
   ]
  },
  {
   "cell_type": "code",
   "execution_count": 454,
   "metadata": {},
   "outputs": [
    {
     "name": "stderr",
     "output_type": "stream",
     "text": [
      "\u001b[32mSampling: 100%|█████████████████████████████████████████| Time: 0:00:00\u001b[39m\n"
     ]
    },
    {
     "data": {
      "image/svg+xml": [
       "<?xml version=\"1.0\" encoding=\"utf-8\"?>\n",
       "<svg xmlns=\"http://www.w3.org/2000/svg\" xmlns:xlink=\"http://www.w3.org/1999/xlink\" width=\"600\" height=\"400\" viewBox=\"0 0 2400 1600\">\n",
       "<defs>\n",
       "  <clipPath id=\"clip570\">\n",
       "    <rect x=\"0\" y=\"0\" width=\"2400\" height=\"1600\"/>\n",
       "  </clipPath>\n",
       "</defs>\n",
       "<path clip-path=\"url(#clip570)\" d=\"\n",
       "M0 1600 L2400 1600 L2400 0 L0 0  Z\n",
       "  \" fill=\"#ffffff\" fill-rule=\"evenodd\" fill-opacity=\"1\"/>\n",
       "<defs>\n",
       "  <clipPath id=\"clip571\">\n",
       "    <rect x=\"480\" y=\"0\" width=\"1681\" height=\"1600\"/>\n",
       "  </clipPath>\n",
       "</defs>\n",
       "<path clip-path=\"url(#clip570)\" d=\"\n",
       "M166.205 1486.45 L2352.76 1486.45 L2352.76 47.2441 L166.205 47.2441  Z\n",
       "  \" fill=\"#ffffff\" fill-rule=\"evenodd\" fill-opacity=\"1\"/>\n",
       "<defs>\n",
       "  <clipPath id=\"clip572\">\n",
       "    <rect x=\"166\" y=\"47\" width=\"2188\" height=\"1440\"/>\n",
       "  </clipPath>\n",
       "</defs>\n",
       "<polyline clip-path=\"url(#clip572)\" style=\"stroke:#000000; stroke-width:2; stroke-opacity:0.1; fill:none\" points=\"\n",
       "  448.637,1486.45 448.637,47.2441 \n",
       "  \"/>\n",
       "<polyline clip-path=\"url(#clip572)\" style=\"stroke:#000000; stroke-width:2; stroke-opacity:0.1; fill:none\" points=\"\n",
       "  935.143,1486.45 935.143,47.2441 \n",
       "  \"/>\n",
       "<polyline clip-path=\"url(#clip572)\" style=\"stroke:#000000; stroke-width:2; stroke-opacity:0.1; fill:none\" points=\"\n",
       "  1421.65,1486.45 1421.65,47.2441 \n",
       "  \"/>\n",
       "<polyline clip-path=\"url(#clip572)\" style=\"stroke:#000000; stroke-width:2; stroke-opacity:0.1; fill:none\" points=\"\n",
       "  1908.15,1486.45 1908.15,47.2441 \n",
       "  \"/>\n",
       "<polyline clip-path=\"url(#clip570)\" style=\"stroke:#000000; stroke-width:4; stroke-opacity:1; fill:none\" points=\"\n",
       "  166.205,1486.45 2352.76,1486.45 \n",
       "  \"/>\n",
       "<polyline clip-path=\"url(#clip570)\" style=\"stroke:#000000; stroke-width:4; stroke-opacity:1; fill:none\" points=\"\n",
       "  448.637,1486.45 448.637,1469.18 \n",
       "  \"/>\n",
       "<polyline clip-path=\"url(#clip570)\" style=\"stroke:#000000; stroke-width:4; stroke-opacity:1; fill:none\" points=\"\n",
       "  935.143,1486.45 935.143,1469.18 \n",
       "  \"/>\n",
       "<polyline clip-path=\"url(#clip570)\" style=\"stroke:#000000; stroke-width:4; stroke-opacity:1; fill:none\" points=\"\n",
       "  1421.65,1486.45 1421.65,1469.18 \n",
       "  \"/>\n",
       "<polyline clip-path=\"url(#clip570)\" style=\"stroke:#000000; stroke-width:4; stroke-opacity:1; fill:none\" points=\"\n",
       "  1908.15,1486.45 1908.15,1469.18 \n",
       "  \"/>\n",
       "<path clip-path=\"url(#clip570)\" d=\"M 0 0 M401.902 1530.29 L431.577 1530.29 L431.577 1534.23 L401.902 1534.23 L401.902 1530.29 Z\" fill=\"#000000\" fill-rule=\"evenodd\" fill-opacity=\"1\" /><path clip-path=\"url(#clip570)\" d=\"M 0 0 M446.647 1515.64 Q443.036 1515.64 441.207 1519.2 Q439.401 1522.75 439.401 1529.87 Q439.401 1536.98 441.207 1540.55 Q443.036 1544.09 446.647 1544.09 Q450.281 1544.09 452.086 1540.55 Q453.915 1536.98 453.915 1529.87 Q453.915 1522.75 452.086 1519.2 Q450.281 1515.64 446.647 1515.64 M446.647 1511.93 Q452.457 1511.93 455.512 1516.54 Q458.591 1521.12 458.591 1529.87 Q458.591 1538.6 455.512 1543.21 Q452.457 1547.79 446.647 1547.79 Q440.837 1547.79 437.758 1543.21 Q434.702 1538.6 434.702 1529.87 Q434.702 1521.12 437.758 1516.54 Q440.837 1511.93 446.647 1511.93 Z\" fill=\"#000000\" fill-rule=\"evenodd\" fill-opacity=\"1\" /><path clip-path=\"url(#clip570)\" d=\"M 0 0 M463.661 1541.24 L468.545 1541.24 L468.545 1547.12 L463.661 1547.12 L463.661 1541.24 Z\" fill=\"#000000\" fill-rule=\"evenodd\" fill-opacity=\"1\" /><path clip-path=\"url(#clip570)\" d=\"M 0 0 M473.753 1546.4 L473.753 1542.14 Q475.512 1542.98 477.318 1543.42 Q479.123 1543.86 480.859 1543.86 Q485.489 1543.86 487.92 1540.75 Q490.373 1537.63 490.721 1531.29 Q489.378 1533.28 487.318 1534.34 Q485.258 1535.41 482.758 1535.41 Q477.572 1535.41 474.54 1532.28 Q471.531 1529.13 471.531 1523.69 Q471.531 1518.37 474.679 1515.15 Q477.827 1511.93 483.059 1511.93 Q489.054 1511.93 492.202 1516.54 Q495.373 1521.12 495.373 1529.87 Q495.373 1538.05 491.484 1542.93 Q487.619 1547.79 481.068 1547.79 Q479.309 1547.79 477.503 1547.44 Q475.697 1547.1 473.753 1546.4 M483.059 1531.75 Q486.207 1531.75 488.035 1529.6 Q489.887 1527.44 489.887 1523.69 Q489.887 1519.97 488.035 1517.81 Q486.207 1515.64 483.059 1515.64 Q479.91 1515.64 478.059 1517.81 Q476.23 1519.97 476.23 1523.69 Q476.23 1527.44 478.059 1529.6 Q479.91 1531.75 483.059 1531.75 Z\" fill=\"#000000\" fill-rule=\"evenodd\" fill-opacity=\"1\" /><path clip-path=\"url(#clip570)\" d=\"M 0 0 M888.234 1530.29 L917.909 1530.29 L917.909 1534.23 L888.234 1534.23 L888.234 1530.29 Z\" fill=\"#000000\" fill-rule=\"evenodd\" fill-opacity=\"1\" /><path clip-path=\"url(#clip570)\" d=\"M 0 0 M932.979 1515.64 Q929.368 1515.64 927.539 1519.2 Q925.733 1522.75 925.733 1529.87 Q925.733 1536.98 927.539 1540.55 Q929.368 1544.09 932.979 1544.09 Q936.613 1544.09 938.419 1540.55 Q940.247 1536.98 940.247 1529.87 Q940.247 1522.75 938.419 1519.2 Q936.613 1515.64 932.979 1515.64 M932.979 1511.93 Q938.789 1511.93 941.845 1516.54 Q944.923 1521.12 944.923 1529.87 Q944.923 1538.6 941.845 1543.21 Q938.789 1547.79 932.979 1547.79 Q927.169 1547.79 924.09 1543.21 Q921.034 1538.6 921.034 1529.87 Q921.034 1521.12 924.09 1516.54 Q927.169 1511.93 932.979 1511.93 Z\" fill=\"#000000\" fill-rule=\"evenodd\" fill-opacity=\"1\" /><path clip-path=\"url(#clip570)\" d=\"M 0 0 M949.993 1541.24 L954.877 1541.24 L954.877 1547.12 L949.993 1547.12 L949.993 1541.24 Z\" fill=\"#000000\" fill-rule=\"evenodd\" fill-opacity=\"1\" /><path clip-path=\"url(#clip570)\" d=\"M 0 0 M970.525 1527.98 Q967.377 1527.98 965.525 1530.13 Q963.696 1532.28 963.696 1536.03 Q963.696 1539.76 965.525 1541.93 Q967.377 1544.09 970.525 1544.09 Q973.673 1544.09 975.502 1541.93 Q977.354 1539.76 977.354 1536.03 Q977.354 1532.28 975.502 1530.13 Q973.673 1527.98 970.525 1527.98 M979.807 1513.32 L979.807 1517.58 Q978.048 1516.75 976.242 1516.31 Q974.46 1515.87 972.701 1515.87 Q968.071 1515.87 965.618 1519 Q963.187 1522.12 962.84 1528.44 Q964.205 1526.43 966.266 1525.36 Q968.326 1524.27 970.803 1524.27 Q976.011 1524.27 979.02 1527.44 Q982.053 1530.59 982.053 1536.03 Q982.053 1541.36 978.904 1544.57 Q975.756 1547.79 970.525 1547.79 Q964.53 1547.79 961.358 1543.21 Q958.187 1538.6 958.187 1529.87 Q958.187 1521.68 962.076 1516.82 Q965.965 1511.93 972.516 1511.93 Q974.275 1511.93 976.057 1512.28 Q977.863 1512.63 979.807 1513.32 Z\" fill=\"#000000\" fill-rule=\"evenodd\" fill-opacity=\"1\" /><path clip-path=\"url(#clip570)\" d=\"M 0 0 M1375.14 1530.29 L1404.82 1530.29 L1404.82 1534.23 L1375.14 1534.23 L1375.14 1530.29 Z\" fill=\"#000000\" fill-rule=\"evenodd\" fill-opacity=\"1\" /><path clip-path=\"url(#clip570)\" d=\"M 0 0 M1419.89 1515.64 Q1416.28 1515.64 1414.45 1519.2 Q1412.64 1522.75 1412.64 1529.87 Q1412.64 1536.98 1414.45 1540.55 Q1416.28 1544.09 1419.89 1544.09 Q1423.52 1544.09 1425.33 1540.55 Q1427.16 1536.98 1427.16 1529.87 Q1427.16 1522.75 1425.33 1519.2 Q1423.52 1515.64 1419.89 1515.64 M1419.89 1511.93 Q1425.7 1511.93 1428.76 1516.54 Q1431.83 1521.12 1431.83 1529.87 Q1431.83 1538.6 1428.76 1543.21 Q1425.7 1547.79 1419.89 1547.79 Q1414.08 1547.79 1411 1543.21 Q1407.95 1538.6 1407.95 1529.87 Q1407.95 1521.12 1411 1516.54 Q1414.08 1511.93 1419.89 1511.93 Z\" fill=\"#000000\" fill-rule=\"evenodd\" fill-opacity=\"1\" /><path clip-path=\"url(#clip570)\" d=\"M 0 0 M1436.9 1541.24 L1441.79 1541.24 L1441.79 1547.12 L1436.9 1547.12 L1436.9 1541.24 Z\" fill=\"#000000\" fill-rule=\"evenodd\" fill-opacity=\"1\" /><path clip-path=\"url(#clip570)\" d=\"M 0 0 M1461.02 1528.49 Q1464.38 1529.2 1466.26 1531.47 Q1468.15 1533.74 1468.15 1537.07 Q1468.15 1542.19 1464.63 1544.99 Q1461.12 1547.79 1454.63 1547.79 Q1452.46 1547.79 1450.14 1547.35 Q1447.85 1546.93 1445.4 1546.08 L1445.4 1541.56 Q1447.34 1542.7 1449.66 1543.28 Q1451.97 1543.86 1454.5 1543.86 Q1458.89 1543.86 1461.19 1542.12 Q1463.5 1540.38 1463.5 1537.07 Q1463.5 1534.02 1461.35 1532.31 Q1459.22 1530.57 1455.4 1530.57 L1451.37 1530.57 L1451.37 1526.73 L1455.58 1526.73 Q1459.03 1526.73 1460.86 1525.36 Q1462.69 1523.97 1462.69 1521.38 Q1462.69 1518.72 1460.79 1517.31 Q1458.92 1515.87 1455.4 1515.87 Q1453.48 1515.87 1451.28 1516.29 Q1449.08 1516.7 1446.44 1517.58 L1446.44 1513.42 Q1449.1 1512.68 1451.42 1512.31 Q1453.76 1511.93 1455.82 1511.93 Q1461.14 1511.93 1464.24 1514.37 Q1467.34 1516.77 1467.34 1520.89 Q1467.34 1523.76 1465.7 1525.75 Q1464.06 1527.72 1461.02 1528.49 Z\" fill=\"#000000\" fill-rule=\"evenodd\" fill-opacity=\"1\" /><path clip-path=\"url(#clip570)\" d=\"M 0 0 M1889.67 1515.64 Q1886.06 1515.64 1884.23 1519.2 Q1882.43 1522.75 1882.43 1529.87 Q1882.43 1536.98 1884.23 1540.55 Q1886.06 1544.09 1889.67 1544.09 Q1893.31 1544.09 1895.11 1540.55 Q1896.94 1536.98 1896.94 1529.87 Q1896.94 1522.75 1895.11 1519.2 Q1893.31 1515.64 1889.67 1515.64 M1889.67 1511.93 Q1895.48 1511.93 1898.54 1516.54 Q1901.62 1521.12 1901.62 1529.87 Q1901.62 1538.6 1898.54 1543.21 Q1895.48 1547.79 1889.67 1547.79 Q1883.86 1547.79 1880.78 1543.21 Q1877.73 1538.6 1877.73 1529.87 Q1877.73 1521.12 1880.78 1516.54 Q1883.86 1511.93 1889.67 1511.93 Z\" fill=\"#000000\" fill-rule=\"evenodd\" fill-opacity=\"1\" /><path clip-path=\"url(#clip570)\" d=\"M 0 0 M1906.68 1541.24 L1911.57 1541.24 L1911.57 1547.12 L1906.68 1547.12 L1906.68 1541.24 Z\" fill=\"#000000\" fill-rule=\"evenodd\" fill-opacity=\"1\" /><path clip-path=\"url(#clip570)\" d=\"M 0 0 M1926.64 1515.64 Q1923.03 1515.64 1921.2 1519.2 Q1919.39 1522.75 1919.39 1529.87 Q1919.39 1536.98 1921.2 1540.55 Q1923.03 1544.09 1926.64 1544.09 Q1930.27 1544.09 1932.08 1540.55 Q1933.91 1536.98 1933.91 1529.87 Q1933.91 1522.75 1932.08 1519.2 Q1930.27 1515.64 1926.64 1515.64 M1926.64 1511.93 Q1932.45 1511.93 1935.5 1516.54 Q1938.58 1521.12 1938.58 1529.87 Q1938.58 1538.6 1935.5 1543.21 Q1932.45 1547.79 1926.64 1547.79 Q1920.83 1547.79 1917.75 1543.21 Q1914.69 1538.6 1914.69 1529.87 Q1914.69 1521.12 1917.75 1516.54 Q1920.83 1511.93 1926.64 1511.93 Z\" fill=\"#000000\" fill-rule=\"evenodd\" fill-opacity=\"1\" /><polyline clip-path=\"url(#clip572)\" style=\"stroke:#000000; stroke-width:2; stroke-opacity:0.1; fill:none\" points=\"\n",
       "  166.205,1445.72 2352.76,1445.72 \n",
       "  \"/>\n",
       "<polyline clip-path=\"url(#clip572)\" style=\"stroke:#000000; stroke-width:2; stroke-opacity:0.1; fill:none\" points=\"\n",
       "  166.205,1243.37 2352.76,1243.37 \n",
       "  \"/>\n",
       "<polyline clip-path=\"url(#clip572)\" style=\"stroke:#000000; stroke-width:2; stroke-opacity:0.1; fill:none\" points=\"\n",
       "  166.205,1041.02 2352.76,1041.02 \n",
       "  \"/>\n",
       "<polyline clip-path=\"url(#clip572)\" style=\"stroke:#000000; stroke-width:2; stroke-opacity:0.1; fill:none\" points=\"\n",
       "  166.205,838.679 2352.76,838.679 \n",
       "  \"/>\n",
       "<polyline clip-path=\"url(#clip572)\" style=\"stroke:#000000; stroke-width:2; stroke-opacity:0.1; fill:none\" points=\"\n",
       "  166.205,636.333 2352.76,636.333 \n",
       "  \"/>\n",
       "<polyline clip-path=\"url(#clip572)\" style=\"stroke:#000000; stroke-width:2; stroke-opacity:0.1; fill:none\" points=\"\n",
       "  166.205,433.987 2352.76,433.987 \n",
       "  \"/>\n",
       "<polyline clip-path=\"url(#clip572)\" style=\"stroke:#000000; stroke-width:2; stroke-opacity:0.1; fill:none\" points=\"\n",
       "  166.205,231.642 2352.76,231.642 \n",
       "  \"/>\n",
       "<polyline clip-path=\"url(#clip570)\" style=\"stroke:#000000; stroke-width:4; stroke-opacity:1; fill:none\" points=\"\n",
       "  166.205,1486.45 166.205,47.2441 \n",
       "  \"/>\n",
       "<polyline clip-path=\"url(#clip570)\" style=\"stroke:#000000; stroke-width:4; stroke-opacity:1; fill:none\" points=\"\n",
       "  166.205,1445.72 192.443,1445.72 \n",
       "  \"/>\n",
       "<polyline clip-path=\"url(#clip570)\" style=\"stroke:#000000; stroke-width:4; stroke-opacity:1; fill:none\" points=\"\n",
       "  166.205,1243.37 192.443,1243.37 \n",
       "  \"/>\n",
       "<polyline clip-path=\"url(#clip570)\" style=\"stroke:#000000; stroke-width:4; stroke-opacity:1; fill:none\" points=\"\n",
       "  166.205,1041.02 192.443,1041.02 \n",
       "  \"/>\n",
       "<polyline clip-path=\"url(#clip570)\" style=\"stroke:#000000; stroke-width:4; stroke-opacity:1; fill:none\" points=\"\n",
       "  166.205,838.679 192.443,838.679 \n",
       "  \"/>\n",
       "<polyline clip-path=\"url(#clip570)\" style=\"stroke:#000000; stroke-width:4; stroke-opacity:1; fill:none\" points=\"\n",
       "  166.205,636.333 192.443,636.333 \n",
       "  \"/>\n",
       "<polyline clip-path=\"url(#clip570)\" style=\"stroke:#000000; stroke-width:4; stroke-opacity:1; fill:none\" points=\"\n",
       "  166.205,433.987 192.443,433.987 \n",
       "  \"/>\n",
       "<polyline clip-path=\"url(#clip570)\" style=\"stroke:#000000; stroke-width:4; stroke-opacity:1; fill:none\" points=\"\n",
       "  166.205,231.642 192.443,231.642 \n",
       "  \"/>\n",
       "<path clip-path=\"url(#clip570)\" d=\"M 0 0 M118.26 1431.51 Q114.649 1431.51 112.82 1435.08 Q111.015 1438.62 111.015 1445.75 Q111.015 1452.86 112.82 1456.42 Q114.649 1459.96 118.26 1459.96 Q121.895 1459.96 123.7 1456.42 Q125.529 1452.86 125.529 1445.75 Q125.529 1438.62 123.7 1435.08 Q121.895 1431.51 118.26 1431.51 M118.26 1427.81 Q124.07 1427.81 127.126 1432.42 Q130.205 1437 130.205 1445.75 Q130.205 1454.48 127.126 1459.08 Q124.07 1463.67 118.26 1463.67 Q112.45 1463.67 109.371 1459.08 Q106.316 1454.48 106.316 1445.75 Q106.316 1437 109.371 1432.42 Q112.45 1427.81 118.26 1427.81 Z\" fill=\"#000000\" fill-rule=\"evenodd\" fill-opacity=\"1\" /><path clip-path=\"url(#clip570)\" d=\"M 0 0 M56.2699 1256.71 L63.9087 1256.71 L63.9087 1230.35 L55.5986 1232.02 L55.5986 1227.76 L63.8624 1226.09 L68.5383 1226.09 L68.5383 1256.71 L76.1772 1256.71 L76.1772 1260.65 L56.2699 1260.65 L56.2699 1256.71 Z\" fill=\"#000000\" fill-rule=\"evenodd\" fill-opacity=\"1\" /><path clip-path=\"url(#clip570)\" d=\"M 0 0 M91.2465 1229.17 Q87.6354 1229.17 85.8068 1232.73 Q84.0012 1236.28 84.0012 1243.4 Q84.0012 1250.51 85.8068 1254.08 Q87.6354 1257.62 91.2465 1257.62 Q94.8808 1257.62 96.6863 1254.08 Q98.515 1250.51 98.515 1243.4 Q98.515 1236.28 96.6863 1232.73 Q94.8808 1229.17 91.2465 1229.17 M91.2465 1225.47 Q97.0567 1225.47 100.112 1230.07 Q103.191 1234.65 103.191 1243.4 Q103.191 1252.13 100.112 1256.74 Q97.0567 1261.32 91.2465 1261.32 Q85.4364 1261.32 82.3577 1256.74 Q79.3022 1252.13 79.3022 1243.4 Q79.3022 1234.65 82.3577 1230.07 Q85.4364 1225.47 91.2465 1225.47 Z\" fill=\"#000000\" fill-rule=\"evenodd\" fill-opacity=\"1\" /><path clip-path=\"url(#clip570)\" d=\"M 0 0 M118.26 1229.17 Q114.649 1229.17 112.82 1232.73 Q111.015 1236.28 111.015 1243.4 Q111.015 1250.51 112.82 1254.08 Q114.649 1257.62 118.26 1257.62 Q121.895 1257.62 123.7 1254.08 Q125.529 1250.51 125.529 1243.4 Q125.529 1236.28 123.7 1232.73 Q121.895 1229.17 118.26 1229.17 M118.26 1225.47 Q124.07 1225.47 127.126 1230.07 Q130.205 1234.65 130.205 1243.4 Q130.205 1252.13 127.126 1256.74 Q124.07 1261.32 118.26 1261.32 Q112.45 1261.32 109.371 1256.74 Q106.316 1252.13 106.316 1243.4 Q106.316 1234.65 109.371 1230.07 Q112.45 1225.47 118.26 1225.47 Z\" fill=\"#000000\" fill-rule=\"evenodd\" fill-opacity=\"1\" /><path clip-path=\"url(#clip570)\" d=\"M 0 0 M59.8578 1054.37 L76.1772 1054.37 L76.1772 1058.3 L54.2328 1058.3 L54.2328 1054.37 Q56.8949 1051.61 61.4782 1046.98 Q66.0846 1042.33 67.2652 1040.99 Q69.5105 1038.47 70.3902 1036.73 Q71.2929 1034.97 71.2929 1033.28 Q71.2929 1030.53 69.3485 1028.79 Q67.4272 1027.05 64.3254 1027.05 Q62.1263 1027.05 59.6726 1027.82 Q57.2421 1028.58 54.4643 1030.13 L54.4643 1025.41 Q57.2884 1024.28 59.7421 1023.7 Q62.1958 1023.12 64.2328 1023.12 Q69.6031 1023.12 72.7976 1025.8 Q75.992 1028.49 75.992 1032.98 Q75.992 1035.11 75.1818 1037.03 Q74.3948 1038.93 72.2883 1041.52 Q71.7096 1042.19 68.6078 1045.41 Q65.5059 1048.61 59.8578 1054.37 Z\" fill=\"#000000\" fill-rule=\"evenodd\" fill-opacity=\"1\" /><path clip-path=\"url(#clip570)\" d=\"M 0 0 M91.2465 1026.82 Q87.6354 1026.82 85.8068 1030.39 Q84.0012 1033.93 84.0012 1041.06 Q84.0012 1048.17 85.8068 1051.73 Q87.6354 1055.27 91.2465 1055.27 Q94.8808 1055.27 96.6863 1051.73 Q98.515 1048.17 98.515 1041.06 Q98.515 1033.93 96.6863 1030.39 Q94.8808 1026.82 91.2465 1026.82 M91.2465 1023.12 Q97.0567 1023.12 100.112 1027.73 Q103.191 1032.31 103.191 1041.06 Q103.191 1049.79 100.112 1054.39 Q97.0567 1058.98 91.2465 1058.98 Q85.4364 1058.98 82.3577 1054.39 Q79.3022 1049.79 79.3022 1041.06 Q79.3022 1032.31 82.3577 1027.73 Q85.4364 1023.12 91.2465 1023.12 Z\" fill=\"#000000\" fill-rule=\"evenodd\" fill-opacity=\"1\" /><path clip-path=\"url(#clip570)\" d=\"M 0 0 M118.26 1026.82 Q114.649 1026.82 112.82 1030.39 Q111.015 1033.93 111.015 1041.06 Q111.015 1048.17 112.82 1051.73 Q114.649 1055.27 118.26 1055.27 Q121.895 1055.27 123.7 1051.73 Q125.529 1048.17 125.529 1041.06 Q125.529 1033.93 123.7 1030.39 Q121.895 1026.82 118.26 1026.82 M118.26 1023.12 Q124.07 1023.12 127.126 1027.73 Q130.205 1032.31 130.205 1041.06 Q130.205 1049.79 127.126 1054.39 Q124.07 1058.98 118.26 1058.98 Q112.45 1058.98 109.371 1054.39 Q106.316 1049.79 106.316 1041.06 Q106.316 1032.31 109.371 1027.73 Q112.45 1023.12 118.26 1023.12 Z\" fill=\"#000000\" fill-rule=\"evenodd\" fill-opacity=\"1\" /><path clip-path=\"url(#clip570)\" d=\"M 0 0 M69.0476 837.325 Q72.404 838.042 74.279 840.311 Q76.1772 842.579 76.1772 845.912 Q76.1772 851.028 72.6587 853.829 Q69.1402 856.63 62.6587 856.63 Q60.4828 856.63 58.168 856.19 Q55.8764 855.774 53.4227 854.917 L53.4227 850.403 Q55.3671 851.537 57.6819 852.116 Q59.9967 852.695 62.5198 852.695 Q66.918 852.695 69.2096 850.959 Q71.5244 849.223 71.5244 845.912 Q71.5244 842.857 69.3717 841.144 Q67.242 839.408 63.4226 839.408 L59.3949 839.408 L59.3949 835.565 L63.6078 835.565 Q67.0569 835.565 68.8855 834.2 Q70.7142 832.811 70.7142 830.218 Q70.7142 827.556 68.8161 826.144 Q66.9411 824.709 63.4226 824.709 Q61.5013 824.709 59.3023 825.126 Q57.1032 825.542 54.4643 826.422 L54.4643 822.255 Q57.1264 821.514 59.4412 821.144 Q61.7791 820.774 63.8393 820.774 Q69.1633 820.774 72.2652 823.204 Q75.367 825.612 75.367 829.732 Q75.367 832.602 73.7235 834.593 Q72.08 836.561 69.0476 837.325 Z\" fill=\"#000000\" fill-rule=\"evenodd\" fill-opacity=\"1\" /><path clip-path=\"url(#clip570)\" d=\"M 0 0 M91.2465 824.477 Q87.6354 824.477 85.8068 828.042 Q84.0012 831.584 84.0012 838.713 Q84.0012 845.82 85.8068 849.385 Q87.6354 852.926 91.2465 852.926 Q94.8808 852.926 96.6863 849.385 Q98.515 845.82 98.515 838.713 Q98.515 831.584 96.6863 828.042 Q94.8808 824.477 91.2465 824.477 M91.2465 820.774 Q97.0567 820.774 100.112 825.38 Q103.191 829.963 103.191 838.713 Q103.191 847.44 100.112 852.047 Q97.0567 856.63 91.2465 856.63 Q85.4364 856.63 82.3577 852.047 Q79.3022 847.44 79.3022 838.713 Q79.3022 829.963 82.3577 825.38 Q85.4364 820.774 91.2465 820.774 Z\" fill=\"#000000\" fill-rule=\"evenodd\" fill-opacity=\"1\" /><path clip-path=\"url(#clip570)\" d=\"M 0 0 M118.26 824.477 Q114.649 824.477 112.82 828.042 Q111.015 831.584 111.015 838.713 Q111.015 845.82 112.82 849.385 Q114.649 852.926 118.26 852.926 Q121.895 852.926 123.7 849.385 Q125.529 845.82 125.529 838.713 Q125.529 831.584 123.7 828.042 Q121.895 824.477 118.26 824.477 M118.26 820.774 Q124.07 820.774 127.126 825.38 Q130.205 829.963 130.205 838.713 Q130.205 847.44 127.126 852.047 Q124.07 856.63 118.26 856.63 Q112.45 856.63 109.371 852.047 Q106.316 847.44 106.316 838.713 Q106.316 829.963 109.371 825.38 Q112.45 820.774 118.26 820.774 Z\" fill=\"#000000\" fill-rule=\"evenodd\" fill-opacity=\"1\" /><path clip-path=\"url(#clip570)\" d=\"M 0 0 M66.5939 623.127 L54.7884 641.576 L66.5939 641.576 L66.5939 623.127 M65.367 619.053 L71.2466 619.053 L71.2466 641.576 L76.1772 641.576 L76.1772 645.465 L71.2466 645.465 L71.2466 653.613 L66.5939 653.613 L66.5939 645.465 L50.9921 645.465 L50.9921 640.951 L65.367 619.053 Z\" fill=\"#000000\" fill-rule=\"evenodd\" fill-opacity=\"1\" /><path clip-path=\"url(#clip570)\" d=\"M 0 0 M91.2465 622.132 Q87.6354 622.132 85.8068 625.697 Q84.0012 629.238 84.0012 636.368 Q84.0012 643.474 85.8068 647.039 Q87.6354 650.581 91.2465 650.581 Q94.8808 650.581 96.6863 647.039 Q98.515 643.474 98.515 636.368 Q98.515 629.238 96.6863 625.697 Q94.8808 622.132 91.2465 622.132 M91.2465 618.428 Q97.0567 618.428 100.112 623.034 Q103.191 627.618 103.191 636.368 Q103.191 645.095 100.112 649.701 Q97.0567 654.284 91.2465 654.284 Q85.4364 654.284 82.3577 649.701 Q79.3022 645.095 79.3022 636.368 Q79.3022 627.618 82.3577 623.034 Q85.4364 618.428 91.2465 618.428 Z\" fill=\"#000000\" fill-rule=\"evenodd\" fill-opacity=\"1\" /><path clip-path=\"url(#clip570)\" d=\"M 0 0 M118.26 622.132 Q114.649 622.132 112.82 625.697 Q111.015 629.238 111.015 636.368 Q111.015 643.474 112.82 647.039 Q114.649 650.581 118.26 650.581 Q121.895 650.581 123.7 647.039 Q125.529 643.474 125.529 636.368 Q125.529 629.238 123.7 625.697 Q121.895 622.132 118.26 622.132 M118.26 618.428 Q124.07 618.428 127.126 623.034 Q130.205 627.618 130.205 636.368 Q130.205 645.095 127.126 649.701 Q124.07 654.284 118.26 654.284 Q112.45 654.284 109.371 649.701 Q106.316 645.095 106.316 636.368 Q106.316 627.618 109.371 623.034 Q112.45 618.428 118.26 618.428 Z\" fill=\"#000000\" fill-rule=\"evenodd\" fill-opacity=\"1\" /><path clip-path=\"url(#clip570)\" d=\"M 0 0 M55.2745 416.707 L73.6309 416.707 L73.6309 420.643 L59.5569 420.643 L59.5569 429.115 Q60.5754 428.767 61.5939 428.605 Q62.6124 428.42 63.6309 428.42 Q69.418 428.42 72.7976 431.592 Q76.1772 434.763 76.1772 440.179 Q76.1772 445.758 72.705 448.86 Q69.2328 451.939 62.9134 451.939 Q60.7374 451.939 58.4689 451.568 Q56.2236 451.198 53.8162 450.457 L53.8162 445.758 Q55.8995 446.892 58.1217 447.448 Q60.3439 448.003 62.8208 448.003 Q66.8254 448.003 69.1633 445.897 Q71.5013 443.791 71.5013 440.179 Q71.5013 436.568 69.1633 434.462 Q66.8254 432.355 62.8208 432.355 Q60.9458 432.355 59.0708 432.772 Q57.2189 433.189 55.2745 434.068 L55.2745 416.707 Z\" fill=\"#000000\" fill-rule=\"evenodd\" fill-opacity=\"1\" /><path clip-path=\"url(#clip570)\" d=\"M 0 0 M91.2465 419.786 Q87.6354 419.786 85.8068 423.351 Q84.0012 426.892 84.0012 434.022 Q84.0012 441.129 85.8068 444.693 Q87.6354 448.235 91.2465 448.235 Q94.8808 448.235 96.6863 444.693 Q98.515 441.129 98.515 434.022 Q98.515 426.892 96.6863 423.351 Q94.8808 419.786 91.2465 419.786 M91.2465 416.082 Q97.0567 416.082 100.112 420.689 Q103.191 425.272 103.191 434.022 Q103.191 442.749 100.112 447.355 Q97.0567 451.939 91.2465 451.939 Q85.4364 451.939 82.3577 447.355 Q79.3022 442.749 79.3022 434.022 Q79.3022 425.272 82.3577 420.689 Q85.4364 416.082 91.2465 416.082 Z\" fill=\"#000000\" fill-rule=\"evenodd\" fill-opacity=\"1\" /><path clip-path=\"url(#clip570)\" d=\"M 0 0 M118.26 419.786 Q114.649 419.786 112.82 423.351 Q111.015 426.892 111.015 434.022 Q111.015 441.129 112.82 444.693 Q114.649 448.235 118.26 448.235 Q121.895 448.235 123.7 444.693 Q125.529 441.129 125.529 434.022 Q125.529 426.892 123.7 423.351 Q121.895 419.786 118.26 419.786 M118.26 416.082 Q124.07 416.082 127.126 420.689 Q130.205 425.272 130.205 434.022 Q130.205 442.749 127.126 447.355 Q124.07 451.939 118.26 451.939 Q112.45 451.939 109.371 447.355 Q106.316 442.749 106.316 434.022 Q106.316 425.272 109.371 420.689 Q112.45 416.082 118.26 416.082 Z\" fill=\"#000000\" fill-rule=\"evenodd\" fill-opacity=\"1\" /><path clip-path=\"url(#clip570)\" d=\"M 0 0 M64.6495 229.778 Q61.5013 229.778 59.6495 231.931 Q57.8208 234.084 57.8208 237.834 Q57.8208 241.561 59.6495 243.737 Q61.5013 245.889 64.6495 245.889 Q67.7976 245.889 69.6263 243.737 Q71.4781 241.561 71.4781 237.834 Q71.4781 234.084 69.6263 231.931 Q67.7976 229.778 64.6495 229.778 M73.9318 215.126 L73.9318 219.385 Q72.1726 218.551 70.367 218.112 Q68.5846 217.672 66.8254 217.672 Q62.1958 217.672 59.7421 220.797 Q57.3115 223.922 56.9643 230.241 Q58.33 228.227 60.3902 227.163 Q62.4504 226.075 64.9272 226.075 Q70.1355 226.075 73.1448 229.246 Q76.1772 232.394 76.1772 237.834 Q76.1772 243.158 73.029 246.375 Q69.8809 249.593 64.6495 249.593 Q58.6541 249.593 55.4828 245.01 Q52.3116 240.403 52.3116 231.676 Q52.3116 223.482 56.2004 218.621 Q60.0893 213.737 66.6402 213.737 Q68.3994 213.737 70.1818 214.084 Q71.9874 214.431 73.9318 215.126 Z\" fill=\"#000000\" fill-rule=\"evenodd\" fill-opacity=\"1\" /><path clip-path=\"url(#clip570)\" d=\"M 0 0 M91.2465 217.44 Q87.6354 217.44 85.8068 221.005 Q84.0012 224.547 84.0012 231.676 Q84.0012 238.783 85.8068 242.348 Q87.6354 245.889 91.2465 245.889 Q94.8808 245.889 96.6863 242.348 Q98.515 238.783 98.515 231.676 Q98.515 224.547 96.6863 221.005 Q94.8808 217.44 91.2465 217.44 M91.2465 213.737 Q97.0567 213.737 100.112 218.343 Q103.191 222.926 103.191 231.676 Q103.191 240.403 100.112 245.01 Q97.0567 249.593 91.2465 249.593 Q85.4364 249.593 82.3577 245.01 Q79.3022 240.403 79.3022 231.676 Q79.3022 222.926 82.3577 218.343 Q85.4364 213.737 91.2465 213.737 Z\" fill=\"#000000\" fill-rule=\"evenodd\" fill-opacity=\"1\" /><path clip-path=\"url(#clip570)\" d=\"M 0 0 M118.26 217.44 Q114.649 217.44 112.82 221.005 Q111.015 224.547 111.015 231.676 Q111.015 238.783 112.82 242.348 Q114.649 245.889 118.26 245.889 Q121.895 245.889 123.7 242.348 Q125.529 238.783 125.529 231.676 Q125.529 224.547 123.7 221.005 Q121.895 217.44 118.26 217.44 M118.26 213.737 Q124.07 213.737 127.126 218.343 Q130.205 222.926 130.205 231.676 Q130.205 240.403 127.126 245.01 Q124.07 249.593 118.26 249.593 Q112.45 249.593 109.371 245.01 Q106.316 240.403 106.316 231.676 Q106.316 222.926 109.371 218.343 Q112.45 213.737 118.26 213.737 Z\" fill=\"#000000\" fill-rule=\"evenodd\" fill-opacity=\"1\" /><path clip-path=\"url(#clip572)\" d=\"\n",
       "M286.469 87.9763 L286.469 1445.72 L610.806 1445.72 L610.806 87.9763 L286.469 87.9763 L286.469 87.9763  Z\n",
       "  \" fill=\"#009af9\" fill-rule=\"evenodd\" fill-opacity=\"1\"/>\n",
       "<polyline clip-path=\"url(#clip572)\" style=\"stroke:#000000; stroke-width:4; stroke-opacity:1; fill:none\" points=\"\n",
       "  286.469,87.9763 286.469,1445.72 610.806,1445.72 610.806,87.9763 286.469,87.9763 \n",
       "  \"/>\n",
       "<path clip-path=\"url(#clip572)\" d=\"\n",
       "M610.806 1445.72 L610.806 1445.72 L935.143 1445.72 L935.143 1445.72 L610.806 1445.72 L610.806 1445.72  Z\n",
       "  \" fill=\"#009af9\" fill-rule=\"evenodd\" fill-opacity=\"1\"/>\n",
       "<polyline clip-path=\"url(#clip572)\" style=\"stroke:#000000; stroke-width:4; stroke-opacity:1; fill:none\" points=\"\n",
       "  610.806,1445.72 610.806,1445.72 935.143,1445.72 610.806,1445.72 \n",
       "  \"/>\n",
       "<path clip-path=\"url(#clip572)\" d=\"\n",
       "M935.143 1445.72 L935.143 1445.72 L1259.48 1445.72 L1259.48 1445.72 L935.143 1445.72 L935.143 1445.72  Z\n",
       "  \" fill=\"#009af9\" fill-rule=\"evenodd\" fill-opacity=\"1\"/>\n",
       "<polyline clip-path=\"url(#clip572)\" style=\"stroke:#000000; stroke-width:4; stroke-opacity:1; fill:none\" points=\"\n",
       "  935.143,1445.72 935.143,1445.72 1259.48,1445.72 935.143,1445.72 \n",
       "  \"/>\n",
       "<path clip-path=\"url(#clip572)\" d=\"\n",
       "M1259.48 1445.72 L1259.48 1445.72 L1583.82 1445.72 L1583.82 1445.72 L1259.48 1445.72 L1259.48 1445.72  Z\n",
       "  \" fill=\"#009af9\" fill-rule=\"evenodd\" fill-opacity=\"1\"/>\n",
       "<polyline clip-path=\"url(#clip572)\" style=\"stroke:#000000; stroke-width:4; stroke-opacity:1; fill:none\" points=\"\n",
       "  1259.48,1445.72 1259.48,1445.72 1583.82,1445.72 1259.48,1445.72 \n",
       "  \"/>\n",
       "<path clip-path=\"url(#clip572)\" d=\"\n",
       "M1583.82 1445.72 L1583.82 1445.72 L1908.15 1445.72 L1908.15 1445.72 L1583.82 1445.72 L1583.82 1445.72  Z\n",
       "  \" fill=\"#009af9\" fill-rule=\"evenodd\" fill-opacity=\"1\"/>\n",
       "<polyline clip-path=\"url(#clip572)\" style=\"stroke:#000000; stroke-width:4; stroke-opacity:1; fill:none\" points=\"\n",
       "  1583.82,1445.72 1583.82,1445.72 1908.15,1445.72 1583.82,1445.72 \n",
       "  \"/>\n",
       "<path clip-path=\"url(#clip572)\" d=\"\n",
       "M1908.15 779.998 L1908.15 1445.72 L2232.49 1445.72 L2232.49 779.998 L1908.15 779.998 L1908.15 779.998  Z\n",
       "  \" fill=\"#009af9\" fill-rule=\"evenodd\" fill-opacity=\"1\"/>\n",
       "<polyline clip-path=\"url(#clip572)\" style=\"stroke:#000000; stroke-width:4; stroke-opacity:1; fill:none\" points=\"\n",
       "  1908.15,779.998 1908.15,1445.72 2232.49,1445.72 2232.49,779.998 1908.15,779.998 \n",
       "  \"/>\n",
       "<path clip-path=\"url(#clip570)\" d=\"\n",
       "M1985.9 216.178 L2279.87 216.178 L2279.87 95.2176 L1985.9 95.2176  Z\n",
       "  \" fill=\"#ffffff\" fill-rule=\"evenodd\" fill-opacity=\"1\"/>\n",
       "<polyline clip-path=\"url(#clip570)\" style=\"stroke:#000000; stroke-width:4; stroke-opacity:1; fill:none\" points=\"\n",
       "  1985.9,216.178 2279.87,216.178 2279.87,95.2176 1985.9,95.2176 1985.9,216.178 \n",
       "  \"/>\n",
       "<path clip-path=\"url(#clip570)\" d=\"\n",
       "M2010.2 179.89 L2155.97 179.89 L2155.97 131.506 L2010.2 131.506 L2010.2 179.89  Z\n",
       "  \" fill=\"#009af9\" fill-rule=\"evenodd\" fill-opacity=\"1\"/>\n",
       "<polyline clip-path=\"url(#clip570)\" style=\"stroke:#000000; stroke-width:4; stroke-opacity:1; fill:none\" points=\"\n",
       "  2010.2,179.89 2155.97,179.89 2155.97,131.506 2010.2,131.506 2010.2,179.89 \n",
       "  \"/>\n",
       "<path clip-path=\"url(#clip570)\" d=\"M 0 0 M2194.11 175.385 Q2192.3 180.015 2190.59 181.427 Q2188.87 182.839 2186 182.839 L2182.6 182.839 L2182.6 179.274 L2185.1 179.274 Q2186.86 179.274 2187.83 178.44 Q2188.8 177.607 2189.98 174.505 L2190.75 172.561 L2180.26 147.052 L2184.78 147.052 L2192.88 167.329 L2200.98 147.052 L2205.49 147.052 L2194.11 175.385 Z\" fill=\"#000000\" fill-rule=\"evenodd\" fill-opacity=\"1\" /><path clip-path=\"url(#clip570)\" d=\"M 0 0 M2211.37 169.042 L2219.01 169.042 L2219.01 142.677 L2210.7 144.343 L2210.7 140.084 L2218.97 138.418 L2223.64 138.418 L2223.64 169.042 L2231.28 169.042 L2231.28 172.978 L2211.37 172.978 L2211.37 169.042 Z\" fill=\"#000000\" fill-rule=\"evenodd\" fill-opacity=\"1\" /></svg>\n"
      ]
     },
     "execution_count": 454,
     "metadata": {},
     "output_type": "execute_result"
    }
   ],
   "source": [
    "m = agent(JACK)\n",
    "chains = sample(m, IS(), 1000 , n_chains=1)\n",
    "histogram(generated_quantities(m, chains))"
   ]
  },
  {
   "cell_type": "code",
   "execution_count": 455,
   "metadata": {},
   "outputs": [
    {
     "data": {
      "image/svg+xml": [
       "<?xml version=\"1.0\" encoding=\"utf-8\"?>\n",
       "<svg xmlns=\"http://www.w3.org/2000/svg\" xmlns:xlink=\"http://www.w3.org/1999/xlink\" width=\"600\" height=\"400\" viewBox=\"0 0 2400 1600\">\n",
       "<defs>\n",
       "  <clipPath id=\"clip610\">\n",
       "    <rect x=\"0\" y=\"0\" width=\"2400\" height=\"1600\"/>\n",
       "  </clipPath>\n",
       "</defs>\n",
       "<path clip-path=\"url(#clip610)\" d=\"\n",
       "M0 1600 L2400 1600 L2400 0 L0 0  Z\n",
       "  \" fill=\"#ffffff\" fill-rule=\"evenodd\" fill-opacity=\"1\"/>\n",
       "<defs>\n",
       "  <clipPath id=\"clip611\">\n",
       "    <rect x=\"480\" y=\"0\" width=\"1681\" height=\"1600\"/>\n",
       "  </clipPath>\n",
       "</defs>\n",
       "<path clip-path=\"url(#clip610)\" d=\"\n",
       "M188.612 1486.45 L2352.76 1486.45 L2352.76 47.2441 L188.612 47.2441  Z\n",
       "  \" fill=\"#ffffff\" fill-rule=\"evenodd\" fill-opacity=\"1\"/>\n",
       "<defs>\n",
       "  <clipPath id=\"clip612\">\n",
       "    <rect x=\"188\" y=\"47\" width=\"2165\" height=\"1440\"/>\n",
       "  </clipPath>\n",
       "</defs>\n",
       "<polyline clip-path=\"url(#clip612)\" style=\"stroke:#000000; stroke-width:2; stroke-opacity:0.1; fill:none\" points=\"\n",
       "  307.644,1486.45 307.644,47.2441 \n",
       "  \"/>\n",
       "<polyline clip-path=\"url(#clip612)\" style=\"stroke:#000000; stroke-width:2; stroke-opacity:0.1; fill:none\" points=\"\n",
       "  789.164,1486.45 789.164,47.2441 \n",
       "  \"/>\n",
       "<polyline clip-path=\"url(#clip612)\" style=\"stroke:#000000; stroke-width:2; stroke-opacity:0.1; fill:none\" points=\"\n",
       "  1270.68,1486.45 1270.68,47.2441 \n",
       "  \"/>\n",
       "<polyline clip-path=\"url(#clip612)\" style=\"stroke:#000000; stroke-width:2; stroke-opacity:0.1; fill:none\" points=\"\n",
       "  1752.2,1486.45 1752.2,47.2441 \n",
       "  \"/>\n",
       "<polyline clip-path=\"url(#clip612)\" style=\"stroke:#000000; stroke-width:2; stroke-opacity:0.1; fill:none\" points=\"\n",
       "  2233.72,1486.45 2233.72,47.2441 \n",
       "  \"/>\n",
       "<polyline clip-path=\"url(#clip610)\" style=\"stroke:#000000; stroke-width:4; stroke-opacity:1; fill:none\" points=\"\n",
       "  188.612,1486.45 2352.76,1486.45 \n",
       "  \"/>\n",
       "<polyline clip-path=\"url(#clip610)\" style=\"stroke:#000000; stroke-width:4; stroke-opacity:1; fill:none\" points=\"\n",
       "  307.644,1486.45 307.644,1469.18 \n",
       "  \"/>\n",
       "<polyline clip-path=\"url(#clip610)\" style=\"stroke:#000000; stroke-width:4; stroke-opacity:1; fill:none\" points=\"\n",
       "  789.164,1486.45 789.164,1469.18 \n",
       "  \"/>\n",
       "<polyline clip-path=\"url(#clip610)\" style=\"stroke:#000000; stroke-width:4; stroke-opacity:1; fill:none\" points=\"\n",
       "  1270.68,1486.45 1270.68,1469.18 \n",
       "  \"/>\n",
       "<polyline clip-path=\"url(#clip610)\" style=\"stroke:#000000; stroke-width:4; stroke-opacity:1; fill:none\" points=\"\n",
       "  1752.2,1486.45 1752.2,1469.18 \n",
       "  \"/>\n",
       "<polyline clip-path=\"url(#clip610)\" style=\"stroke:#000000; stroke-width:4; stroke-opacity:1; fill:none\" points=\"\n",
       "  2233.72,1486.45 2233.72,1469.18 \n",
       "  \"/>\n",
       "<path clip-path=\"url(#clip610)\" d=\"M 0 0 M247.922 1530.29 L277.598 1530.29 L277.598 1534.23 L247.922 1534.23 L247.922 1530.29 Z\" fill=\"#000000\" fill-rule=\"evenodd\" fill-opacity=\"1\" /><path clip-path=\"url(#clip610)\" d=\"M 0 0 M283.477 1543.18 L291.116 1543.18 L291.116 1516.82 L282.806 1518.49 L282.806 1514.23 L291.07 1512.56 L295.746 1512.56 L295.746 1543.18 L303.384 1543.18 L303.384 1547.12 L283.477 1547.12 L283.477 1543.18 Z\" fill=\"#000000\" fill-rule=\"evenodd\" fill-opacity=\"1\" /><path clip-path=\"url(#clip610)\" d=\"M 0 0 M308.454 1541.24 L313.338 1541.24 L313.338 1547.12 L308.454 1547.12 L308.454 1541.24 Z\" fill=\"#000000\" fill-rule=\"evenodd\" fill-opacity=\"1\" /><path clip-path=\"url(#clip610)\" d=\"M 0 0 M328.407 1515.64 Q324.796 1515.64 322.968 1519.2 Q321.162 1522.75 321.162 1529.87 Q321.162 1536.98 322.968 1540.55 Q324.796 1544.09 328.407 1544.09 Q332.042 1544.09 333.847 1540.55 Q335.676 1536.98 335.676 1529.87 Q335.676 1522.75 333.847 1519.2 Q332.042 1515.64 328.407 1515.64 M328.407 1511.93 Q334.218 1511.93 337.273 1516.54 Q340.352 1521.12 340.352 1529.87 Q340.352 1538.6 337.273 1543.21 Q334.218 1547.79 328.407 1547.79 Q322.597 1547.79 319.519 1543.21 Q316.463 1538.6 316.463 1529.87 Q316.463 1521.12 319.519 1516.54 Q322.597 1511.93 328.407 1511.93 Z\" fill=\"#000000\" fill-rule=\"evenodd\" fill-opacity=\"1\" /><path clip-path=\"url(#clip610)\" d=\"M 0 0 M355.421 1515.64 Q351.81 1515.64 349.981 1519.2 Q348.176 1522.75 348.176 1529.87 Q348.176 1536.98 349.981 1540.55 Q351.81 1544.09 355.421 1544.09 Q359.055 1544.09 360.861 1540.55 Q362.69 1536.98 362.69 1529.87 Q362.69 1522.75 360.861 1519.2 Q359.055 1515.64 355.421 1515.64 M355.421 1511.93 Q361.231 1511.93 364.287 1516.54 Q367.366 1521.12 367.366 1529.87 Q367.366 1538.6 364.287 1543.21 Q361.231 1547.79 355.421 1547.79 Q349.611 1547.79 346.532 1543.21 Q343.477 1538.6 343.477 1529.87 Q343.477 1521.12 346.532 1516.54 Q349.611 1511.93 355.421 1511.93 Z\" fill=\"#000000\" fill-rule=\"evenodd\" fill-opacity=\"1\" /><path clip-path=\"url(#clip610)\" d=\"M 0 0 M729.778 1530.29 L759.453 1530.29 L759.453 1534.23 L729.778 1534.23 L729.778 1530.29 Z\" fill=\"#000000\" fill-rule=\"evenodd\" fill-opacity=\"1\" /><path clip-path=\"url(#clip610)\" d=\"M 0 0 M774.523 1515.64 Q770.912 1515.64 769.083 1519.2 Q767.277 1522.75 767.277 1529.87 Q767.277 1536.98 769.083 1540.55 Q770.912 1544.09 774.523 1544.09 Q778.157 1544.09 779.962 1540.55 Q781.791 1536.98 781.791 1529.87 Q781.791 1522.75 779.962 1519.2 Q778.157 1515.64 774.523 1515.64 M774.523 1511.93 Q780.333 1511.93 783.388 1516.54 Q786.467 1521.12 786.467 1529.87 Q786.467 1538.6 783.388 1543.21 Q780.333 1547.79 774.523 1547.79 Q768.713 1547.79 765.634 1543.21 Q762.578 1538.6 762.578 1529.87 Q762.578 1521.12 765.634 1516.54 Q768.713 1511.93 774.523 1511.93 Z\" fill=\"#000000\" fill-rule=\"evenodd\" fill-opacity=\"1\" /><path clip-path=\"url(#clip610)\" d=\"M 0 0 M791.536 1541.24 L796.421 1541.24 L796.421 1547.12 L791.536 1547.12 L791.536 1541.24 Z\" fill=\"#000000\" fill-rule=\"evenodd\" fill-opacity=\"1\" /><path clip-path=\"url(#clip610)\" d=\"M 0 0 M800.31 1512.56 L822.532 1512.56 L822.532 1514.55 L809.985 1547.12 L805.101 1547.12 L816.907 1516.5 L800.31 1516.5 L800.31 1512.56 Z\" fill=\"#000000\" fill-rule=\"evenodd\" fill-opacity=\"1\" /><path clip-path=\"url(#clip610)\" d=\"M 0 0 M827.647 1512.56 L846.004 1512.56 L846.004 1516.5 L831.93 1516.5 L831.93 1524.97 Q832.948 1524.62 833.967 1524.46 Q834.985 1524.27 836.004 1524.27 Q841.791 1524.27 845.17 1527.44 Q848.55 1530.62 848.55 1536.03 Q848.55 1541.61 845.078 1544.71 Q841.606 1547.79 835.286 1547.79 Q833.11 1547.79 830.842 1547.42 Q828.596 1547.05 826.189 1546.31 L826.189 1541.61 Q828.272 1542.74 830.495 1543.3 Q832.717 1543.86 835.194 1543.86 Q839.198 1543.86 841.536 1541.75 Q843.874 1539.64 843.874 1536.03 Q843.874 1532.42 841.536 1530.31 Q839.198 1528.21 835.194 1528.21 Q833.319 1528.21 831.444 1528.62 Q829.592 1529.04 827.647 1529.92 L827.647 1512.56 Z\" fill=\"#000000\" fill-rule=\"evenodd\" fill-opacity=\"1\" /><path clip-path=\"url(#clip610)\" d=\"M 0 0 M1210.85 1530.29 L1240.52 1530.29 L1240.52 1534.23 L1210.85 1534.23 L1210.85 1530.29 Z\" fill=\"#000000\" fill-rule=\"evenodd\" fill-opacity=\"1\" /><path clip-path=\"url(#clip610)\" d=\"M 0 0 M1255.59 1515.64 Q1251.98 1515.64 1250.15 1519.2 Q1248.35 1522.75 1248.35 1529.87 Q1248.35 1536.98 1250.15 1540.55 Q1251.98 1544.09 1255.59 1544.09 Q1259.23 1544.09 1261.03 1540.55 Q1262.86 1536.98 1262.86 1529.87 Q1262.86 1522.75 1261.03 1519.2 Q1259.23 1515.64 1255.59 1515.64 M1255.59 1511.93 Q1261.4 1511.93 1264.46 1516.54 Q1267.54 1521.12 1267.54 1529.87 Q1267.54 1538.6 1264.46 1543.21 Q1261.4 1547.79 1255.59 1547.79 Q1249.78 1547.79 1246.7 1543.21 Q1243.65 1538.6 1243.65 1529.87 Q1243.65 1521.12 1246.7 1516.54 Q1249.78 1511.93 1255.59 1511.93 Z\" fill=\"#000000\" fill-rule=\"evenodd\" fill-opacity=\"1\" /><path clip-path=\"url(#clip610)\" d=\"M 0 0 M1272.61 1541.24 L1277.49 1541.24 L1277.49 1547.12 L1272.61 1547.12 L1272.61 1541.24 Z\" fill=\"#000000\" fill-rule=\"evenodd\" fill-opacity=\"1\" /><path clip-path=\"url(#clip610)\" d=\"M 0 0 M1282.61 1512.56 L1300.96 1512.56 L1300.96 1516.5 L1286.89 1516.5 L1286.89 1524.97 Q1287.91 1524.62 1288.92 1524.46 Q1289.94 1524.27 1290.96 1524.27 Q1296.75 1524.27 1300.13 1527.44 Q1303.51 1530.62 1303.51 1536.03 Q1303.51 1541.61 1300.04 1544.71 Q1296.56 1547.79 1290.24 1547.79 Q1288.07 1547.79 1285.8 1547.42 Q1283.55 1547.05 1281.15 1546.31 L1281.15 1541.61 Q1283.23 1542.74 1285.45 1543.3 Q1287.67 1543.86 1290.15 1543.86 Q1294.16 1543.86 1296.49 1541.75 Q1298.83 1539.64 1298.83 1536.03 Q1298.83 1532.42 1296.49 1530.31 Q1294.16 1528.21 1290.15 1528.21 Q1288.28 1528.21 1286.4 1528.62 Q1284.55 1529.04 1282.61 1529.92 L1282.61 1512.56 Z\" fill=\"#000000\" fill-rule=\"evenodd\" fill-opacity=\"1\" /><path clip-path=\"url(#clip610)\" d=\"M 0 0 M1318.58 1515.64 Q1314.97 1515.64 1313.14 1519.2 Q1311.33 1522.75 1311.33 1529.87 Q1311.33 1536.98 1313.14 1540.55 Q1314.97 1544.09 1318.58 1544.09 Q1322.21 1544.09 1324.02 1540.55 Q1325.85 1536.98 1325.85 1529.87 Q1325.85 1522.75 1324.02 1519.2 Q1322.21 1515.64 1318.58 1515.64 M1318.58 1511.93 Q1324.39 1511.93 1327.44 1516.54 Q1330.52 1521.12 1330.52 1529.87 Q1330.52 1538.6 1327.44 1543.21 Q1324.39 1547.79 1318.58 1547.79 Q1312.77 1547.79 1309.69 1543.21 Q1306.63 1538.6 1306.63 1529.87 Q1306.63 1521.12 1309.69 1516.54 Q1312.77 1511.93 1318.58 1511.93 Z\" fill=\"#000000\" fill-rule=\"evenodd\" fill-opacity=\"1\" /><path clip-path=\"url(#clip610)\" d=\"M 0 0 M1693.16 1530.29 L1722.84 1530.29 L1722.84 1534.23 L1693.16 1534.23 L1693.16 1530.29 Z\" fill=\"#000000\" fill-rule=\"evenodd\" fill-opacity=\"1\" /><path clip-path=\"url(#clip610)\" d=\"M 0 0 M1737.91 1515.64 Q1734.3 1515.64 1732.47 1519.2 Q1730.66 1522.75 1730.66 1529.87 Q1730.66 1536.98 1732.47 1540.55 Q1734.3 1544.09 1737.91 1544.09 Q1741.54 1544.09 1743.35 1540.55 Q1745.18 1536.98 1745.18 1529.87 Q1745.18 1522.75 1743.35 1519.2 Q1741.54 1515.64 1737.91 1515.64 M1737.91 1511.93 Q1743.72 1511.93 1746.78 1516.54 Q1749.85 1521.12 1749.85 1529.87 Q1749.85 1538.6 1746.78 1543.21 Q1743.72 1547.79 1737.91 1547.79 Q1732.1 1547.79 1729.02 1543.21 Q1725.97 1538.6 1725.97 1529.87 Q1725.97 1521.12 1729.02 1516.54 Q1732.1 1511.93 1737.91 1511.93 Z\" fill=\"#000000\" fill-rule=\"evenodd\" fill-opacity=\"1\" /><path clip-path=\"url(#clip610)\" d=\"M 0 0 M1754.92 1541.24 L1759.81 1541.24 L1759.81 1547.12 L1754.92 1547.12 L1754.92 1541.24 Z\" fill=\"#000000\" fill-rule=\"evenodd\" fill-opacity=\"1\" /><path clip-path=\"url(#clip610)\" d=\"M 0 0 M1768.91 1543.18 L1785.22 1543.18 L1785.22 1547.12 L1763.28 1547.12 L1763.28 1543.18 Q1765.94 1540.43 1770.53 1535.8 Q1775.13 1531.15 1776.31 1529.81 Q1778.56 1527.28 1779.44 1525.55 Q1780.34 1523.79 1780.34 1522.1 Q1780.34 1519.34 1778.4 1517.61 Q1776.47 1515.87 1773.37 1515.87 Q1771.17 1515.87 1768.72 1516.63 Q1766.29 1517.4 1763.51 1518.95 L1763.51 1514.23 Q1766.34 1513.09 1768.79 1512.51 Q1771.24 1511.93 1773.28 1511.93 Q1778.65 1511.93 1781.85 1514.62 Q1785.04 1517.31 1785.04 1521.8 Q1785.04 1523.93 1784.23 1525.85 Q1783.44 1527.74 1781.34 1530.34 Q1780.76 1531.01 1777.66 1534.23 Q1774.55 1537.42 1768.91 1543.18 Z\" fill=\"#000000\" fill-rule=\"evenodd\" fill-opacity=\"1\" /><path clip-path=\"url(#clip610)\" d=\"M 0 0 M1790.34 1512.56 L1808.7 1512.56 L1808.7 1516.5 L1794.62 1516.5 L1794.62 1524.97 Q1795.64 1524.62 1796.66 1524.46 Q1797.68 1524.27 1798.7 1524.27 Q1804.48 1524.27 1807.86 1527.44 Q1811.24 1530.62 1811.24 1536.03 Q1811.24 1541.61 1807.77 1544.71 Q1804.3 1547.79 1797.98 1547.79 Q1795.8 1547.79 1793.53 1547.42 Q1791.29 1547.05 1788.88 1546.31 L1788.88 1541.61 Q1790.97 1542.74 1793.19 1543.3 Q1795.41 1543.86 1797.89 1543.86 Q1801.89 1543.86 1804.23 1541.75 Q1806.57 1539.64 1806.57 1536.03 Q1806.57 1532.42 1804.23 1530.31 Q1801.89 1528.21 1797.89 1528.21 Q1796.01 1528.21 1794.14 1528.62 Q1792.28 1529.04 1790.34 1529.92 L1790.34 1512.56 Z\" fill=\"#000000\" fill-rule=\"evenodd\" fill-opacity=\"1\" /><path clip-path=\"url(#clip610)\" d=\"M 0 0 M2201.73 1515.64 Q2198.12 1515.64 2196.29 1519.2 Q2194.49 1522.75 2194.49 1529.87 Q2194.49 1536.98 2196.29 1540.55 Q2198.12 1544.09 2201.73 1544.09 Q2205.37 1544.09 2207.17 1540.55 Q2209 1536.98 2209 1529.87 Q2209 1522.75 2207.17 1519.2 Q2205.37 1515.64 2201.73 1515.64 M2201.73 1511.93 Q2207.54 1511.93 2210.6 1516.54 Q2213.68 1521.12 2213.68 1529.87 Q2213.68 1538.6 2210.6 1543.21 Q2207.54 1547.79 2201.73 1547.79 Q2195.92 1547.79 2192.84 1543.21 Q2189.79 1538.6 2189.79 1529.87 Q2189.79 1521.12 2192.84 1516.54 Q2195.92 1511.93 2201.73 1511.93 Z\" fill=\"#000000\" fill-rule=\"evenodd\" fill-opacity=\"1\" /><path clip-path=\"url(#clip610)\" d=\"M 0 0 M2218.75 1541.24 L2223.63 1541.24 L2223.63 1547.12 L2218.75 1547.12 L2218.75 1541.24 Z\" fill=\"#000000\" fill-rule=\"evenodd\" fill-opacity=\"1\" /><path clip-path=\"url(#clip610)\" d=\"M 0 0 M2238.7 1515.64 Q2235.09 1515.64 2233.26 1519.2 Q2231.46 1522.75 2231.46 1529.87 Q2231.46 1536.98 2233.26 1540.55 Q2235.09 1544.09 2238.7 1544.09 Q2242.34 1544.09 2244.14 1540.55 Q2245.97 1536.98 2245.97 1529.87 Q2245.97 1522.75 2244.14 1519.2 Q2242.34 1515.64 2238.7 1515.64 M2238.7 1511.93 Q2244.51 1511.93 2247.57 1516.54 Q2250.65 1521.12 2250.65 1529.87 Q2250.65 1538.6 2247.57 1543.21 Q2244.51 1547.79 2238.7 1547.79 Q2232.89 1547.79 2229.81 1543.21 Q2226.76 1538.6 2226.76 1529.87 Q2226.76 1521.12 2229.81 1516.54 Q2232.89 1511.93 2238.7 1511.93 Z\" fill=\"#000000\" fill-rule=\"evenodd\" fill-opacity=\"1\" /><path clip-path=\"url(#clip610)\" d=\"M 0 0 M2265.71 1515.64 Q2262.1 1515.64 2260.27 1519.2 Q2258.47 1522.75 2258.47 1529.87 Q2258.47 1536.98 2260.27 1540.55 Q2262.1 1544.09 2265.71 1544.09 Q2269.35 1544.09 2271.15 1540.55 Q2272.98 1536.98 2272.98 1529.87 Q2272.98 1522.75 2271.15 1519.2 Q2269.35 1515.64 2265.71 1515.64 M2265.71 1511.93 Q2271.52 1511.93 2274.58 1516.54 Q2277.66 1521.12 2277.66 1529.87 Q2277.66 1538.6 2274.58 1543.21 Q2271.52 1547.79 2265.71 1547.79 Q2259.9 1547.79 2256.83 1543.21 Q2253.77 1538.6 2253.77 1529.87 Q2253.77 1521.12 2256.83 1516.54 Q2259.9 1511.93 2265.71 1511.93 Z\" fill=\"#000000\" fill-rule=\"evenodd\" fill-opacity=\"1\" /><polyline clip-path=\"url(#clip612)\" style=\"stroke:#000000; stroke-width:2; stroke-opacity:0.1; fill:none\" points=\"\n",
       "  188.612,1445.72 2352.76,1445.72 \n",
       "  \"/>\n",
       "<polyline clip-path=\"url(#clip612)\" style=\"stroke:#000000; stroke-width:2; stroke-opacity:0.1; fill:none\" points=\"\n",
       "  188.612,1106.28 2352.76,1106.28 \n",
       "  \"/>\n",
       "<polyline clip-path=\"url(#clip612)\" style=\"stroke:#000000; stroke-width:2; stroke-opacity:0.1; fill:none\" points=\"\n",
       "  188.612,766.846 2352.76,766.846 \n",
       "  \"/>\n",
       "<polyline clip-path=\"url(#clip612)\" style=\"stroke:#000000; stroke-width:2; stroke-opacity:0.1; fill:none\" points=\"\n",
       "  188.612,427.411 2352.76,427.411 \n",
       "  \"/>\n",
       "<polyline clip-path=\"url(#clip612)\" style=\"stroke:#000000; stroke-width:2; stroke-opacity:0.1; fill:none\" points=\"\n",
       "  188.612,87.9763 2352.76,87.9763 \n",
       "  \"/>\n",
       "<polyline clip-path=\"url(#clip610)\" style=\"stroke:#000000; stroke-width:4; stroke-opacity:1; fill:none\" points=\"\n",
       "  188.612,1486.45 188.612,47.2441 \n",
       "  \"/>\n",
       "<polyline clip-path=\"url(#clip610)\" style=\"stroke:#000000; stroke-width:4; stroke-opacity:1; fill:none\" points=\"\n",
       "  188.612,1445.72 214.582,1445.72 \n",
       "  \"/>\n",
       "<polyline clip-path=\"url(#clip610)\" style=\"stroke:#000000; stroke-width:4; stroke-opacity:1; fill:none\" points=\"\n",
       "  188.612,1106.28 214.582,1106.28 \n",
       "  \"/>\n",
       "<polyline clip-path=\"url(#clip610)\" style=\"stroke:#000000; stroke-width:4; stroke-opacity:1; fill:none\" points=\"\n",
       "  188.612,766.846 214.582,766.846 \n",
       "  \"/>\n",
       "<polyline clip-path=\"url(#clip610)\" style=\"stroke:#000000; stroke-width:4; stroke-opacity:1; fill:none\" points=\"\n",
       "  188.612,427.411 214.582,427.411 \n",
       "  \"/>\n",
       "<polyline clip-path=\"url(#clip610)\" style=\"stroke:#000000; stroke-width:4; stroke-opacity:1; fill:none\" points=\"\n",
       "  188.612,87.9763 214.582,87.9763 \n",
       "  \"/>\n",
       "<path clip-path=\"url(#clip610)\" d=\"M 0 0 M140.668 1431.51 Q137.056 1431.51 135.228 1435.08 Q133.422 1438.62 133.422 1445.75 Q133.422 1452.86 135.228 1456.42 Q137.056 1459.96 140.668 1459.96 Q144.302 1459.96 146.107 1456.42 Q147.936 1452.86 147.936 1445.75 Q147.936 1438.62 146.107 1435.08 Q144.302 1431.51 140.668 1431.51 M140.668 1427.81 Q146.478 1427.81 149.533 1432.42 Q152.612 1437 152.612 1445.75 Q152.612 1454.48 149.533 1459.08 Q146.478 1463.67 140.668 1463.67 Q134.857 1463.67 131.779 1459.08 Q128.723 1454.48 128.723 1445.75 Q128.723 1437 131.779 1432.42 Q134.857 1427.81 140.668 1427.81 Z\" fill=\"#000000\" fill-rule=\"evenodd\" fill-opacity=\"1\" /><path clip-path=\"url(#clip610)\" d=\"M 0 0 M83.2605 1119.63 L99.5798 1119.63 L99.5798 1123.56 L77.6355 1123.56 L77.6355 1119.63 Q80.2975 1116.87 84.8808 1112.24 Q89.4873 1107.59 90.6678 1106.25 Q92.9132 1103.72 93.7928 1101.99 Q94.6956 1100.23 94.6956 1098.54 Q94.6956 1095.78 92.7512 1094.05 Q90.8299 1092.31 87.728 1092.31 Q85.529 1092.31 83.0753 1093.07 Q80.6447 1093.84 77.867 1095.39 L77.867 1090.67 Q80.691 1089.53 83.1447 1088.95 Q85.5984 1088.38 87.6354 1088.38 Q93.0058 1088.38 96.2002 1091.06 Q99.3946 1093.75 99.3946 1098.24 Q99.3946 1100.37 98.5845 1102.29 Q97.7974 1104.19 95.691 1106.78 Q95.1123 1107.45 92.0104 1110.67 Q88.9086 1113.86 83.2605 1119.63 Z\" fill=\"#000000\" fill-rule=\"evenodd\" fill-opacity=\"1\" /><path clip-path=\"url(#clip610)\" d=\"M 0 0 M104.696 1089 L123.052 1089 L123.052 1092.94 L108.978 1092.94 L108.978 1101.41 Q109.996 1101.06 111.015 1100.9 Q112.033 1100.71 113.052 1100.71 Q118.839 1100.71 122.219 1103.89 Q125.598 1107.06 125.598 1112.47 Q125.598 1118.05 122.126 1121.15 Q118.654 1124.23 112.334 1124.23 Q110.158 1124.23 107.89 1123.86 Q105.645 1123.49 103.237 1122.75 L103.237 1118.05 Q105.321 1119.19 107.543 1119.74 Q109.765 1120.3 112.242 1120.3 Q116.246 1120.3 118.584 1118.19 Q120.922 1116.08 120.922 1112.47 Q120.922 1108.86 118.584 1106.76 Q116.246 1104.65 112.242 1104.65 Q110.367 1104.65 108.492 1105.07 Q106.64 1105.48 104.696 1106.36 L104.696 1089 Z\" fill=\"#000000\" fill-rule=\"evenodd\" fill-opacity=\"1\" /><path clip-path=\"url(#clip610)\" d=\"M 0 0 M140.668 1092.08 Q137.056 1092.08 135.228 1095.64 Q133.422 1099.19 133.422 1106.32 Q133.422 1113.42 135.228 1116.99 Q137.056 1120.53 140.668 1120.53 Q144.302 1120.53 146.107 1116.99 Q147.936 1113.42 147.936 1106.32 Q147.936 1099.19 146.107 1095.64 Q144.302 1092.08 140.668 1092.08 M140.668 1088.38 Q146.478 1088.38 149.533 1092.98 Q152.612 1097.57 152.612 1106.32 Q152.612 1115.04 149.533 1119.65 Q146.478 1124.23 140.668 1124.23 Q134.857 1124.23 131.779 1119.65 Q128.723 1115.04 128.723 1106.32 Q128.723 1097.57 131.779 1092.98 Q134.857 1088.38 140.668 1088.38 Z\" fill=\"#000000\" fill-rule=\"evenodd\" fill-opacity=\"1\" /><path clip-path=\"url(#clip610)\" d=\"M 0 0 M77.6818 749.566 L96.0382 749.566 L96.0382 753.501 L81.9642 753.501 L81.9642 761.973 Q82.9827 761.626 84.0012 761.464 Q85.0197 761.279 86.0382 761.279 Q91.8252 761.279 95.2049 764.45 Q98.5845 767.621 98.5845 773.038 Q98.5845 778.617 95.1123 781.719 Q91.6401 784.797 85.3206 784.797 Q83.1447 784.797 80.8762 784.427 Q78.6309 784.057 76.2235 783.316 L76.2235 778.617 Q78.3068 779.751 80.529 780.307 Q82.7512 780.862 85.2281 780.862 Q89.2327 780.862 91.5706 778.756 Q93.9086 776.649 93.9086 773.038 Q93.9086 769.427 91.5706 767.321 Q89.2327 765.214 85.2281 765.214 Q83.3531 765.214 81.4781 765.631 Q79.6262 766.047 77.6818 766.927 L77.6818 749.566 Z\" fill=\"#000000\" fill-rule=\"evenodd\" fill-opacity=\"1\" /><path clip-path=\"url(#clip610)\" d=\"M 0 0 M113.654 752.645 Q110.043 752.645 108.214 756.209 Q106.408 759.751 106.408 766.881 Q106.408 773.987 108.214 777.552 Q110.043 781.094 113.654 781.094 Q117.288 781.094 119.094 777.552 Q120.922 773.987 120.922 766.881 Q120.922 759.751 119.094 756.209 Q117.288 752.645 113.654 752.645 M113.654 748.941 Q119.464 748.941 122.52 753.547 Q125.598 758.131 125.598 766.881 Q125.598 775.608 122.52 780.214 Q119.464 784.797 113.654 784.797 Q107.844 784.797 104.765 780.214 Q101.709 775.608 101.709 766.881 Q101.709 758.131 104.765 753.547 Q107.844 748.941 113.654 748.941 Z\" fill=\"#000000\" fill-rule=\"evenodd\" fill-opacity=\"1\" /><path clip-path=\"url(#clip610)\" d=\"M 0 0 M140.668 752.645 Q137.056 752.645 135.228 756.209 Q133.422 759.751 133.422 766.881 Q133.422 773.987 135.228 777.552 Q137.056 781.094 140.668 781.094 Q144.302 781.094 146.107 777.552 Q147.936 773.987 147.936 766.881 Q147.936 759.751 146.107 756.209 Q144.302 752.645 140.668 752.645 M140.668 748.941 Q146.478 748.941 149.533 753.547 Q152.612 758.131 152.612 766.881 Q152.612 775.608 149.533 780.214 Q146.478 784.797 140.668 784.797 Q134.857 784.797 131.779 780.214 Q128.723 775.608 128.723 766.881 Q128.723 758.131 131.779 753.547 Q134.857 748.941 140.668 748.941 Z\" fill=\"#000000\" fill-rule=\"evenodd\" fill-opacity=\"1\" /><path clip-path=\"url(#clip610)\" d=\"M 0 0 M77.3577 410.131 L99.5798 410.131 L99.5798 412.122 L87.0336 444.691 L82.1494 444.691 L93.9549 414.066 L77.3577 414.066 L77.3577 410.131 Z\" fill=\"#000000\" fill-rule=\"evenodd\" fill-opacity=\"1\" /><path clip-path=\"url(#clip610)\" d=\"M 0 0 M104.696 410.131 L123.052 410.131 L123.052 414.066 L108.978 414.066 L108.978 422.538 Q109.996 422.191 111.015 422.029 Q112.033 421.844 113.052 421.844 Q118.839 421.844 122.219 425.015 Q125.598 428.187 125.598 433.603 Q125.598 439.182 122.126 442.284 Q118.654 445.362 112.334 445.362 Q110.158 445.362 107.89 444.992 Q105.645 444.622 103.237 443.881 L103.237 439.182 Q105.321 440.316 107.543 440.872 Q109.765 441.427 112.242 441.427 Q116.246 441.427 118.584 439.321 Q120.922 437.214 120.922 433.603 Q120.922 429.992 118.584 427.886 Q116.246 425.779 112.242 425.779 Q110.367 425.779 108.492 426.196 Q106.64 426.613 104.696 427.492 L104.696 410.131 Z\" fill=\"#000000\" fill-rule=\"evenodd\" fill-opacity=\"1\" /><path clip-path=\"url(#clip610)\" d=\"M 0 0 M140.668 413.21 Q137.056 413.21 135.228 416.775 Q133.422 420.316 133.422 427.446 Q133.422 434.552 135.228 438.117 Q137.056 441.659 140.668 441.659 Q144.302 441.659 146.107 438.117 Q147.936 434.552 147.936 427.446 Q147.936 420.316 146.107 416.775 Q144.302 413.21 140.668 413.21 M140.668 409.506 Q146.478 409.506 149.533 414.113 Q152.612 418.696 152.612 427.446 Q152.612 436.173 149.533 440.779 Q146.478 445.362 140.668 445.362 Q134.857 445.362 131.779 440.779 Q128.723 436.173 128.723 427.446 Q128.723 418.696 131.779 414.113 Q134.857 409.506 140.668 409.506 Z\" fill=\"#000000\" fill-rule=\"evenodd\" fill-opacity=\"1\" /><path clip-path=\"url(#clip610)\" d=\"M 0 0 M51.6634 101.321 L59.3023 101.321 L59.3023 74.9555 L50.9921 76.6222 L50.9921 72.3629 L59.256 70.6963 L63.9319 70.6963 L63.9319 101.321 L71.5707 101.321 L71.5707 105.256 L51.6634 105.256 L51.6634 101.321 Z\" fill=\"#000000\" fill-rule=\"evenodd\" fill-opacity=\"1\" /><path clip-path=\"url(#clip610)\" d=\"M 0 0 M86.6401 73.775 Q83.029 73.775 81.2003 77.3398 Q79.3948 80.8814 79.3948 88.011 Q79.3948 95.1174 81.2003 98.6822 Q83.029 102.224 86.6401 102.224 Q90.2743 102.224 92.0799 98.6822 Q93.9086 95.1174 93.9086 88.011 Q93.9086 80.8814 92.0799 77.3398 Q90.2743 73.775 86.6401 73.775 M86.6401 70.0713 Q92.4502 70.0713 95.5058 74.6777 Q98.5845 79.261 98.5845 88.011 Q98.5845 96.7378 95.5058 101.344 Q92.4502 105.928 86.6401 105.928 Q80.8299 105.928 77.7512 101.344 Q74.6957 96.7378 74.6957 88.011 Q74.6957 79.261 77.7512 74.6777 Q80.8299 70.0713 86.6401 70.0713 Z\" fill=\"#000000\" fill-rule=\"evenodd\" fill-opacity=\"1\" /><path clip-path=\"url(#clip610)\" d=\"M 0 0 M113.654 73.775 Q110.043 73.775 108.214 77.3398 Q106.408 80.8814 106.408 88.011 Q106.408 95.1174 108.214 98.6822 Q110.043 102.224 113.654 102.224 Q117.288 102.224 119.094 98.6822 Q120.922 95.1174 120.922 88.011 Q120.922 80.8814 119.094 77.3398 Q117.288 73.775 113.654 73.775 M113.654 70.0713 Q119.464 70.0713 122.52 74.6777 Q125.598 79.261 125.598 88.011 Q125.598 96.7378 122.52 101.344 Q119.464 105.928 113.654 105.928 Q107.844 105.928 104.765 101.344 Q101.709 96.7378 101.709 88.011 Q101.709 79.261 104.765 74.6777 Q107.844 70.0713 113.654 70.0713 Z\" fill=\"#000000\" fill-rule=\"evenodd\" fill-opacity=\"1\" /><path clip-path=\"url(#clip610)\" d=\"M 0 0 M140.668 73.775 Q137.056 73.775 135.228 77.3398 Q133.422 80.8814 133.422 88.011 Q133.422 95.1174 135.228 98.6822 Q137.056 102.224 140.668 102.224 Q144.302 102.224 146.107 98.6822 Q147.936 95.1174 147.936 88.011 Q147.936 80.8814 146.107 77.3398 Q144.302 73.775 140.668 73.775 M140.668 70.0713 Q146.478 70.0713 149.533 74.6777 Q152.612 79.261 152.612 88.011 Q152.612 96.7378 149.533 101.344 Q146.478 105.928 140.668 105.928 Q134.857 105.928 131.779 101.344 Q128.723 96.7378 128.723 88.011 Q128.723 79.261 131.779 74.6777 Q134.857 70.0713 140.668 70.0713 Z\" fill=\"#000000\" fill-rule=\"evenodd\" fill-opacity=\"1\" /><path clip-path=\"url(#clip612)\" d=\"\n",
       "M307.644 87.9763 L307.644 1445.72 L2233.72 1445.72 L2233.72 87.9763 L307.644 87.9763 L307.644 87.9763  Z\n",
       "  \" fill=\"#009af9\" fill-rule=\"evenodd\" fill-opacity=\"1\"/>\n",
       "<polyline clip-path=\"url(#clip612)\" style=\"stroke:#000000; stroke-width:4; stroke-opacity:1; fill:none\" points=\"\n",
       "  307.644,87.9763 307.644,1445.72 2233.72,1445.72 2233.72,87.9763 307.644,87.9763 \n",
       "  \"/>\n",
       "<path clip-path=\"url(#clip610)\" d=\"\n",
       "M1989.14 216.178 L2280.62 216.178 L2280.62 95.2176 L1989.14 95.2176  Z\n",
       "  \" fill=\"#ffffff\" fill-rule=\"evenodd\" fill-opacity=\"1\"/>\n",
       "<polyline clip-path=\"url(#clip610)\" style=\"stroke:#000000; stroke-width:4; stroke-opacity:1; fill:none\" points=\"\n",
       "  1989.14,216.178 2280.62,216.178 2280.62,95.2176 1989.14,95.2176 1989.14,216.178 \n",
       "  \"/>\n",
       "<path clip-path=\"url(#clip610)\" d=\"\n",
       "M2013.19 179.89 L2157.46 179.89 L2157.46 131.506 L2013.19 131.506 L2013.19 179.89  Z\n",
       "  \" fill=\"#009af9\" fill-rule=\"evenodd\" fill-opacity=\"1\"/>\n",
       "<polyline clip-path=\"url(#clip610)\" style=\"stroke:#000000; stroke-width:4; stroke-opacity:1; fill:none\" points=\"\n",
       "  2013.19,179.89 2157.46,179.89 2157.46,131.506 2013.19,131.506 2013.19,179.89 \n",
       "  \"/>\n",
       "<path clip-path=\"url(#clip610)\" d=\"M 0 0 M2195.35 175.385 Q2193.54 180.015 2191.83 181.427 Q2190.12 182.839 2187.25 182.839 L2183.85 182.839 L2183.85 179.274 L2186.35 179.274 Q2188.1 179.274 2189.08 178.44 Q2190.05 177.607 2191.23 174.505 L2191.99 172.561 L2181.51 147.052 L2186.02 147.052 L2194.12 167.329 L2202.22 147.052 L2206.74 147.052 L2195.35 175.385 Z\" fill=\"#000000\" fill-rule=\"evenodd\" fill-opacity=\"1\" /><path clip-path=\"url(#clip610)\" d=\"M 0 0 M2212.62 169.042 L2220.26 169.042 L2220.26 142.677 L2211.95 144.343 L2211.95 140.084 L2220.21 138.418 L2224.89 138.418 L2224.89 169.042 L2232.53 169.042 L2232.53 172.978 L2212.62 172.978 L2212.62 169.042 Z\" fill=\"#000000\" fill-rule=\"evenodd\" fill-opacity=\"1\" /></svg>\n"
      ]
     },
     "execution_count": 455,
     "metadata": {},
     "output_type": "execute_result"
    }
   ],
   "source": [
    "m  = agent(JACK, true)\n",
    "chains = sample(m, IS(), 1000 , n_chains=1)\n",
    "histogram(generated_quantities(m, chains))"
   ]
  },
  {
   "cell_type": "code",
   "execution_count": 456,
   "metadata": {},
   "outputs": [
    {
     "data": {
      "image/svg+xml": [
       "<?xml version=\"1.0\" encoding=\"utf-8\"?>\n",
       "<svg xmlns=\"http://www.w3.org/2000/svg\" xmlns:xlink=\"http://www.w3.org/1999/xlink\" width=\"600\" height=\"400\" viewBox=\"0 0 2400 1600\">\n",
       "<defs>\n",
       "  <clipPath id=\"clip650\">\n",
       "    <rect x=\"0\" y=\"0\" width=\"2400\" height=\"1600\"/>\n",
       "  </clipPath>\n",
       "</defs>\n",
       "<path clip-path=\"url(#clip650)\" d=\"\n",
       "M0 1600 L2400 1600 L2400 0 L0 0  Z\n",
       "  \" fill=\"#ffffff\" fill-rule=\"evenodd\" fill-opacity=\"1\"/>\n",
       "<defs>\n",
       "  <clipPath id=\"clip651\">\n",
       "    <rect x=\"480\" y=\"0\" width=\"1681\" height=\"1600\"/>\n",
       "  </clipPath>\n",
       "</defs>\n",
       "<path clip-path=\"url(#clip650)\" d=\"\n",
       "M188.612 1486.45 L2352.76 1486.45 L2352.76 47.2441 L188.612 47.2441  Z\n",
       "  \" fill=\"#ffffff\" fill-rule=\"evenodd\" fill-opacity=\"1\"/>\n",
       "<defs>\n",
       "  <clipPath id=\"clip652\">\n",
       "    <rect x=\"188\" y=\"47\" width=\"2165\" height=\"1440\"/>\n",
       "  </clipPath>\n",
       "</defs>\n",
       "<polyline clip-path=\"url(#clip652)\" style=\"stroke:#000000; stroke-width:2; stroke-opacity:0.1; fill:none\" points=\"\n",
       "  307.644,1486.45 307.644,47.2441 \n",
       "  \"/>\n",
       "<polyline clip-path=\"url(#clip652)\" style=\"stroke:#000000; stroke-width:2; stroke-opacity:0.1; fill:none\" points=\"\n",
       "  789.164,1486.45 789.164,47.2441 \n",
       "  \"/>\n",
       "<polyline clip-path=\"url(#clip652)\" style=\"stroke:#000000; stroke-width:2; stroke-opacity:0.1; fill:none\" points=\"\n",
       "  1270.68,1486.45 1270.68,47.2441 \n",
       "  \"/>\n",
       "<polyline clip-path=\"url(#clip652)\" style=\"stroke:#000000; stroke-width:2; stroke-opacity:0.1; fill:none\" points=\"\n",
       "  1752.2,1486.45 1752.2,47.2441 \n",
       "  \"/>\n",
       "<polyline clip-path=\"url(#clip652)\" style=\"stroke:#000000; stroke-width:2; stroke-opacity:0.1; fill:none\" points=\"\n",
       "  2233.72,1486.45 2233.72,47.2441 \n",
       "  \"/>\n",
       "<polyline clip-path=\"url(#clip650)\" style=\"stroke:#000000; stroke-width:4; stroke-opacity:1; fill:none\" points=\"\n",
       "  188.612,1486.45 2352.76,1486.45 \n",
       "  \"/>\n",
       "<polyline clip-path=\"url(#clip650)\" style=\"stroke:#000000; stroke-width:4; stroke-opacity:1; fill:none\" points=\"\n",
       "  307.644,1486.45 307.644,1469.18 \n",
       "  \"/>\n",
       "<polyline clip-path=\"url(#clip650)\" style=\"stroke:#000000; stroke-width:4; stroke-opacity:1; fill:none\" points=\"\n",
       "  789.164,1486.45 789.164,1469.18 \n",
       "  \"/>\n",
       "<polyline clip-path=\"url(#clip650)\" style=\"stroke:#000000; stroke-width:4; stroke-opacity:1; fill:none\" points=\"\n",
       "  1270.68,1486.45 1270.68,1469.18 \n",
       "  \"/>\n",
       "<polyline clip-path=\"url(#clip650)\" style=\"stroke:#000000; stroke-width:4; stroke-opacity:1; fill:none\" points=\"\n",
       "  1752.2,1486.45 1752.2,1469.18 \n",
       "  \"/>\n",
       "<polyline clip-path=\"url(#clip650)\" style=\"stroke:#000000; stroke-width:4; stroke-opacity:1; fill:none\" points=\"\n",
       "  2233.72,1486.45 2233.72,1469.18 \n",
       "  \"/>\n",
       "<path clip-path=\"url(#clip650)\" d=\"M 0 0 M275.653 1515.64 Q272.042 1515.64 270.213 1519.2 Q268.408 1522.75 268.408 1529.87 Q268.408 1536.98 270.213 1540.55 Q272.042 1544.09 275.653 1544.09 Q279.287 1544.09 281.093 1540.55 Q282.922 1536.98 282.922 1529.87 Q282.922 1522.75 281.093 1519.2 Q279.287 1515.64 275.653 1515.64 M275.653 1511.93 Q281.463 1511.93 284.519 1516.54 Q287.598 1521.12 287.598 1529.87 Q287.598 1538.6 284.519 1543.21 Q281.463 1547.79 275.653 1547.79 Q269.843 1547.79 266.764 1543.21 Q263.709 1538.6 263.709 1529.87 Q263.709 1521.12 266.764 1516.54 Q269.843 1511.93 275.653 1511.93 Z\" fill=\"#000000\" fill-rule=\"evenodd\" fill-opacity=\"1\" /><path clip-path=\"url(#clip650)\" d=\"M 0 0 M292.667 1541.24 L297.551 1541.24 L297.551 1547.12 L292.667 1547.12 L292.667 1541.24 Z\" fill=\"#000000\" fill-rule=\"evenodd\" fill-opacity=\"1\" /><path clip-path=\"url(#clip650)\" d=\"M 0 0 M312.621 1515.64 Q309.009 1515.64 307.181 1519.2 Q305.375 1522.75 305.375 1529.87 Q305.375 1536.98 307.181 1540.55 Q309.009 1544.09 312.621 1544.09 Q316.255 1544.09 318.06 1540.55 Q319.889 1536.98 319.889 1529.87 Q319.889 1522.75 318.06 1519.2 Q316.255 1515.64 312.621 1515.64 M312.621 1511.93 Q318.431 1511.93 321.486 1516.54 Q324.565 1521.12 324.565 1529.87 Q324.565 1538.6 321.486 1543.21 Q318.431 1547.79 312.621 1547.79 Q306.81 1547.79 303.732 1543.21 Q300.676 1538.6 300.676 1529.87 Q300.676 1521.12 303.732 1516.54 Q306.81 1511.93 312.621 1511.93 Z\" fill=\"#000000\" fill-rule=\"evenodd\" fill-opacity=\"1\" /><path clip-path=\"url(#clip650)\" d=\"M 0 0 M339.634 1515.64 Q336.023 1515.64 334.195 1519.2 Q332.389 1522.75 332.389 1529.87 Q332.389 1536.98 334.195 1540.55 Q336.023 1544.09 339.634 1544.09 Q343.269 1544.09 345.074 1540.55 Q346.903 1536.98 346.903 1529.87 Q346.903 1522.75 345.074 1519.2 Q343.269 1515.64 339.634 1515.64 M339.634 1511.93 Q345.444 1511.93 348.5 1516.54 Q351.579 1521.12 351.579 1529.87 Q351.579 1538.6 348.5 1543.21 Q345.444 1547.79 339.634 1547.79 Q333.824 1547.79 330.745 1543.21 Q327.69 1538.6 327.69 1529.87 Q327.69 1521.12 330.745 1516.54 Q333.824 1511.93 339.634 1511.93 Z\" fill=\"#000000\" fill-rule=\"evenodd\" fill-opacity=\"1\" /><path clip-path=\"url(#clip650)\" d=\"M 0 0 M758.47 1515.64 Q754.858 1515.64 753.03 1519.2 Q751.224 1522.75 751.224 1529.87 Q751.224 1536.98 753.03 1540.55 Q754.858 1544.09 758.47 1544.09 Q762.104 1544.09 763.909 1540.55 Q765.738 1536.98 765.738 1529.87 Q765.738 1522.75 763.909 1519.2 Q762.104 1515.64 758.47 1515.64 M758.47 1511.93 Q764.28 1511.93 767.335 1516.54 Q770.414 1521.12 770.414 1529.87 Q770.414 1538.6 767.335 1543.21 Q764.28 1547.79 758.47 1547.79 Q752.659 1547.79 749.581 1543.21 Q746.525 1538.6 746.525 1529.87 Q746.525 1521.12 749.581 1516.54 Q752.659 1511.93 758.47 1511.93 Z\" fill=\"#000000\" fill-rule=\"evenodd\" fill-opacity=\"1\" /><path clip-path=\"url(#clip650)\" d=\"M 0 0 M775.483 1541.24 L780.368 1541.24 L780.368 1547.12 L775.483 1547.12 L775.483 1541.24 Z\" fill=\"#000000\" fill-rule=\"evenodd\" fill-opacity=\"1\" /><path clip-path=\"url(#clip650)\" d=\"M 0 0 M789.465 1543.18 L805.784 1543.18 L805.784 1547.12 L783.84 1547.12 L783.84 1543.18 Q786.502 1540.43 791.085 1535.8 Q795.692 1531.15 796.872 1529.81 Q799.117 1527.28 799.997 1525.55 Q800.9 1523.79 800.9 1522.1 Q800.9 1519.34 798.955 1517.61 Q797.034 1515.87 793.932 1515.87 Q791.733 1515.87 789.28 1516.63 Q786.849 1517.4 784.071 1518.95 L784.071 1514.23 Q786.895 1513.09 789.349 1512.51 Q791.803 1511.93 793.84 1511.93 Q799.21 1511.93 802.404 1514.62 Q805.599 1517.31 805.599 1521.8 Q805.599 1523.93 804.789 1525.85 Q804.002 1527.74 801.895 1530.34 Q801.317 1531.01 798.215 1534.23 Q795.113 1537.42 789.465 1543.18 Z\" fill=\"#000000\" fill-rule=\"evenodd\" fill-opacity=\"1\" /><path clip-path=\"url(#clip650)\" d=\"M 0 0 M810.9 1512.56 L829.256 1512.56 L829.256 1516.5 L815.182 1516.5 L815.182 1524.97 Q816.201 1524.62 817.219 1524.46 Q818.238 1524.27 819.256 1524.27 Q825.043 1524.27 828.423 1527.44 Q831.802 1530.62 831.802 1536.03 Q831.802 1541.61 828.33 1544.71 Q824.858 1547.79 818.539 1547.79 Q816.363 1547.79 814.094 1547.42 Q811.849 1547.05 809.441 1546.31 L809.441 1541.61 Q811.525 1542.74 813.747 1543.3 Q815.969 1543.86 818.446 1543.86 Q822.451 1543.86 824.789 1541.75 Q827.127 1539.64 827.127 1536.03 Q827.127 1532.42 824.789 1530.31 Q822.451 1528.21 818.446 1528.21 Q816.571 1528.21 814.696 1528.62 Q812.844 1529.04 810.9 1529.92 L810.9 1512.56 Z\" fill=\"#000000\" fill-rule=\"evenodd\" fill-opacity=\"1\" /><path clip-path=\"url(#clip650)\" d=\"M 0 0 M1239.19 1515.64 Q1235.58 1515.64 1233.75 1519.2 Q1231.95 1522.75 1231.95 1529.87 Q1231.95 1536.98 1233.75 1540.55 Q1235.58 1544.09 1239.19 1544.09 Q1242.83 1544.09 1244.63 1540.55 Q1246.46 1536.98 1246.46 1529.87 Q1246.46 1522.75 1244.63 1519.2 Q1242.83 1515.64 1239.19 1515.64 M1239.19 1511.93 Q1245 1511.93 1248.06 1516.54 Q1251.14 1521.12 1251.14 1529.87 Q1251.14 1538.6 1248.06 1543.21 Q1245 1547.79 1239.19 1547.79 Q1233.38 1547.79 1230.3 1543.21 Q1227.25 1538.6 1227.25 1529.87 Q1227.25 1521.12 1230.3 1516.54 Q1233.38 1511.93 1239.19 1511.93 Z\" fill=\"#000000\" fill-rule=\"evenodd\" fill-opacity=\"1\" /><path clip-path=\"url(#clip650)\" d=\"M 0 0 M1256.2 1541.24 L1261.09 1541.24 L1261.09 1547.12 L1256.2 1547.12 L1256.2 1541.24 Z\" fill=\"#000000\" fill-rule=\"evenodd\" fill-opacity=\"1\" /><path clip-path=\"url(#clip650)\" d=\"M 0 0 M1266.2 1512.56 L1284.56 1512.56 L1284.56 1516.5 L1270.49 1516.5 L1270.49 1524.97 Q1271.51 1524.62 1272.52 1524.46 Q1273.54 1524.27 1274.56 1524.27 Q1280.35 1524.27 1283.73 1527.44 Q1287.11 1530.62 1287.11 1536.03 Q1287.11 1541.61 1283.64 1544.71 Q1280.16 1547.79 1273.84 1547.79 Q1271.67 1547.79 1269.4 1547.42 Q1267.15 1547.05 1264.75 1546.31 L1264.75 1541.61 Q1266.83 1542.74 1269.05 1543.3 Q1271.27 1543.86 1273.75 1543.86 Q1277.76 1543.86 1280.09 1541.75 Q1282.43 1539.64 1282.43 1536.03 Q1282.43 1532.42 1280.09 1530.31 Q1277.76 1528.21 1273.75 1528.21 Q1271.88 1528.21 1270 1528.62 Q1268.15 1529.04 1266.2 1529.92 L1266.2 1512.56 Z\" fill=\"#000000\" fill-rule=\"evenodd\" fill-opacity=\"1\" /><path clip-path=\"url(#clip650)\" d=\"M 0 0 M1302.18 1515.64 Q1298.57 1515.64 1296.74 1519.2 Q1294.93 1522.75 1294.93 1529.87 Q1294.93 1536.98 1296.74 1540.55 Q1298.57 1544.09 1302.18 1544.09 Q1305.81 1544.09 1307.62 1540.55 Q1309.45 1536.98 1309.45 1529.87 Q1309.45 1522.75 1307.62 1519.2 Q1305.81 1515.64 1302.18 1515.64 M1302.18 1511.93 Q1307.99 1511.93 1311.04 1516.54 Q1314.12 1521.12 1314.12 1529.87 Q1314.12 1538.6 1311.04 1543.21 Q1307.99 1547.79 1302.18 1547.79 Q1296.37 1547.79 1293.29 1543.21 Q1290.23 1538.6 1290.23 1529.87 Q1290.23 1521.12 1293.29 1516.54 Q1296.37 1511.93 1302.18 1511.93 Z\" fill=\"#000000\" fill-rule=\"evenodd\" fill-opacity=\"1\" /><path clip-path=\"url(#clip650)\" d=\"M 0 0 M1721.16 1515.64 Q1717.55 1515.64 1715.72 1519.2 Q1713.92 1522.75 1713.92 1529.87 Q1713.92 1536.98 1715.72 1540.55 Q1717.55 1544.09 1721.16 1544.09 Q1724.8 1544.09 1726.6 1540.55 Q1728.43 1536.98 1728.43 1529.87 Q1728.43 1522.75 1726.6 1519.2 Q1724.8 1515.64 1721.16 1515.64 M1721.16 1511.93 Q1726.97 1511.93 1730.03 1516.54 Q1733.11 1521.12 1733.11 1529.87 Q1733.11 1538.6 1730.03 1543.21 Q1726.97 1547.79 1721.16 1547.79 Q1715.35 1547.79 1712.27 1543.21 Q1709.22 1538.6 1709.22 1529.87 Q1709.22 1521.12 1712.27 1516.54 Q1715.35 1511.93 1721.16 1511.93 Z\" fill=\"#000000\" fill-rule=\"evenodd\" fill-opacity=\"1\" /><path clip-path=\"url(#clip650)\" d=\"M 0 0 M1738.18 1541.24 L1743.06 1541.24 L1743.06 1547.12 L1738.18 1547.12 L1738.18 1541.24 Z\" fill=\"#000000\" fill-rule=\"evenodd\" fill-opacity=\"1\" /><path clip-path=\"url(#clip650)\" d=\"M 0 0 M1746.95 1512.56 L1769.17 1512.56 L1769.17 1514.55 L1756.63 1547.12 L1751.74 1547.12 L1763.55 1516.5 L1746.95 1516.5 L1746.95 1512.56 Z\" fill=\"#000000\" fill-rule=\"evenodd\" fill-opacity=\"1\" /><path clip-path=\"url(#clip650)\" d=\"M 0 0 M1774.29 1512.56 L1792.64 1512.56 L1792.64 1516.5 L1778.57 1516.5 L1778.57 1524.97 Q1779.59 1524.62 1780.61 1524.46 Q1781.63 1524.27 1782.64 1524.27 Q1788.43 1524.27 1791.81 1527.44 Q1795.19 1530.62 1795.19 1536.03 Q1795.19 1541.61 1791.72 1544.71 Q1788.25 1547.79 1781.93 1547.79 Q1779.75 1547.79 1777.48 1547.42 Q1775.24 1547.05 1772.83 1546.31 L1772.83 1541.61 Q1774.91 1542.74 1777.13 1543.3 Q1779.36 1543.86 1781.83 1543.86 Q1785.84 1543.86 1788.18 1541.75 Q1790.51 1539.64 1790.51 1536.03 Q1790.51 1532.42 1788.18 1530.31 Q1785.84 1528.21 1781.83 1528.21 Q1779.96 1528.21 1778.08 1528.62 Q1776.23 1529.04 1774.29 1529.92 L1774.29 1512.56 Z\" fill=\"#000000\" fill-rule=\"evenodd\" fill-opacity=\"1\" /><path clip-path=\"url(#clip650)\" d=\"M 0 0 M2192.12 1543.18 L2199.75 1543.18 L2199.75 1516.82 L2191.44 1518.49 L2191.44 1514.23 L2199.71 1512.56 L2204.38 1512.56 L2204.38 1543.18 L2212.02 1543.18 L2212.02 1547.12 L2192.12 1547.12 L2192.12 1543.18 Z\" fill=\"#000000\" fill-rule=\"evenodd\" fill-opacity=\"1\" /><path clip-path=\"url(#clip650)\" d=\"M 0 0 M2217.09 1541.24 L2221.98 1541.24 L2221.98 1547.12 L2217.09 1547.12 L2217.09 1541.24 Z\" fill=\"#000000\" fill-rule=\"evenodd\" fill-opacity=\"1\" /><path clip-path=\"url(#clip650)\" d=\"M 0 0 M2237.05 1515.64 Q2233.43 1515.64 2231.61 1519.2 Q2229.8 1522.75 2229.8 1529.87 Q2229.8 1536.98 2231.61 1540.55 Q2233.43 1544.09 2237.05 1544.09 Q2240.68 1544.09 2242.49 1540.55 Q2244.31 1536.98 2244.31 1529.87 Q2244.31 1522.75 2242.49 1519.2 Q2240.68 1515.64 2237.05 1515.64 M2237.05 1511.93 Q2242.86 1511.93 2245.91 1516.54 Q2248.99 1521.12 2248.99 1529.87 Q2248.99 1538.6 2245.91 1543.21 Q2242.86 1547.79 2237.05 1547.79 Q2231.24 1547.79 2228.16 1543.21 Q2225.1 1538.6 2225.1 1529.87 Q2225.1 1521.12 2228.16 1516.54 Q2231.24 1511.93 2237.05 1511.93 Z\" fill=\"#000000\" fill-rule=\"evenodd\" fill-opacity=\"1\" /><path clip-path=\"url(#clip650)\" d=\"M 0 0 M2264.06 1515.64 Q2260.45 1515.64 2258.62 1519.2 Q2256.81 1522.75 2256.81 1529.87 Q2256.81 1536.98 2258.62 1540.55 Q2260.45 1544.09 2264.06 1544.09 Q2267.69 1544.09 2269.5 1540.55 Q2271.33 1536.98 2271.33 1529.87 Q2271.33 1522.75 2269.5 1519.2 Q2267.69 1515.64 2264.06 1515.64 M2264.06 1511.93 Q2269.87 1511.93 2272.93 1516.54 Q2276 1521.12 2276 1529.87 Q2276 1538.6 2272.93 1543.21 Q2269.87 1547.79 2264.06 1547.79 Q2258.25 1547.79 2255.17 1543.21 Q2252.12 1538.6 2252.12 1529.87 Q2252.12 1521.12 2255.17 1516.54 Q2258.25 1511.93 2264.06 1511.93 Z\" fill=\"#000000\" fill-rule=\"evenodd\" fill-opacity=\"1\" /><polyline clip-path=\"url(#clip652)\" style=\"stroke:#000000; stroke-width:2; stroke-opacity:0.1; fill:none\" points=\"\n",
       "  188.612,1445.72 2352.76,1445.72 \n",
       "  \"/>\n",
       "<polyline clip-path=\"url(#clip652)\" style=\"stroke:#000000; stroke-width:2; stroke-opacity:0.1; fill:none\" points=\"\n",
       "  188.612,1106.28 2352.76,1106.28 \n",
       "  \"/>\n",
       "<polyline clip-path=\"url(#clip652)\" style=\"stroke:#000000; stroke-width:2; stroke-opacity:0.1; fill:none\" points=\"\n",
       "  188.612,766.846 2352.76,766.846 \n",
       "  \"/>\n",
       "<polyline clip-path=\"url(#clip652)\" style=\"stroke:#000000; stroke-width:2; stroke-opacity:0.1; fill:none\" points=\"\n",
       "  188.612,427.411 2352.76,427.411 \n",
       "  \"/>\n",
       "<polyline clip-path=\"url(#clip652)\" style=\"stroke:#000000; stroke-width:2; stroke-opacity:0.1; fill:none\" points=\"\n",
       "  188.612,87.9763 2352.76,87.9763 \n",
       "  \"/>\n",
       "<polyline clip-path=\"url(#clip650)\" style=\"stroke:#000000; stroke-width:4; stroke-opacity:1; fill:none\" points=\"\n",
       "  188.612,1486.45 188.612,47.2441 \n",
       "  \"/>\n",
       "<polyline clip-path=\"url(#clip650)\" style=\"stroke:#000000; stroke-width:4; stroke-opacity:1; fill:none\" points=\"\n",
       "  188.612,1445.72 214.582,1445.72 \n",
       "  \"/>\n",
       "<polyline clip-path=\"url(#clip650)\" style=\"stroke:#000000; stroke-width:4; stroke-opacity:1; fill:none\" points=\"\n",
       "  188.612,1106.28 214.582,1106.28 \n",
       "  \"/>\n",
       "<polyline clip-path=\"url(#clip650)\" style=\"stroke:#000000; stroke-width:4; stroke-opacity:1; fill:none\" points=\"\n",
       "  188.612,766.846 214.582,766.846 \n",
       "  \"/>\n",
       "<polyline clip-path=\"url(#clip650)\" style=\"stroke:#000000; stroke-width:4; stroke-opacity:1; fill:none\" points=\"\n",
       "  188.612,427.411 214.582,427.411 \n",
       "  \"/>\n",
       "<polyline clip-path=\"url(#clip650)\" style=\"stroke:#000000; stroke-width:4; stroke-opacity:1; fill:none\" points=\"\n",
       "  188.612,87.9763 214.582,87.9763 \n",
       "  \"/>\n",
       "<path clip-path=\"url(#clip650)\" d=\"M 0 0 M140.668 1431.51 Q137.056 1431.51 135.228 1435.08 Q133.422 1438.62 133.422 1445.75 Q133.422 1452.86 135.228 1456.42 Q137.056 1459.96 140.668 1459.96 Q144.302 1459.96 146.107 1456.42 Q147.936 1452.86 147.936 1445.75 Q147.936 1438.62 146.107 1435.08 Q144.302 1431.51 140.668 1431.51 M140.668 1427.81 Q146.478 1427.81 149.533 1432.42 Q152.612 1437 152.612 1445.75 Q152.612 1454.48 149.533 1459.08 Q146.478 1463.67 140.668 1463.67 Q134.857 1463.67 131.779 1459.08 Q128.723 1454.48 128.723 1445.75 Q128.723 1437 131.779 1432.42 Q134.857 1427.81 140.668 1427.81 Z\" fill=\"#000000\" fill-rule=\"evenodd\" fill-opacity=\"1\" /><path clip-path=\"url(#clip650)\" d=\"M 0 0 M83.2605 1119.63 L99.5798 1119.63 L99.5798 1123.56 L77.6355 1123.56 L77.6355 1119.63 Q80.2975 1116.87 84.8808 1112.24 Q89.4873 1107.59 90.6678 1106.25 Q92.9132 1103.72 93.7928 1101.99 Q94.6956 1100.23 94.6956 1098.54 Q94.6956 1095.78 92.7512 1094.05 Q90.8299 1092.31 87.728 1092.31 Q85.529 1092.31 83.0753 1093.07 Q80.6447 1093.84 77.867 1095.39 L77.867 1090.67 Q80.691 1089.53 83.1447 1088.95 Q85.5984 1088.38 87.6354 1088.38 Q93.0058 1088.38 96.2002 1091.06 Q99.3946 1093.75 99.3946 1098.24 Q99.3946 1100.37 98.5845 1102.29 Q97.7974 1104.19 95.691 1106.78 Q95.1123 1107.45 92.0104 1110.67 Q88.9086 1113.86 83.2605 1119.63 Z\" fill=\"#000000\" fill-rule=\"evenodd\" fill-opacity=\"1\" /><path clip-path=\"url(#clip650)\" d=\"M 0 0 M104.696 1089 L123.052 1089 L123.052 1092.94 L108.978 1092.94 L108.978 1101.41 Q109.996 1101.06 111.015 1100.9 Q112.033 1100.71 113.052 1100.71 Q118.839 1100.71 122.219 1103.89 Q125.598 1107.06 125.598 1112.47 Q125.598 1118.05 122.126 1121.15 Q118.654 1124.23 112.334 1124.23 Q110.158 1124.23 107.89 1123.86 Q105.645 1123.49 103.237 1122.75 L103.237 1118.05 Q105.321 1119.19 107.543 1119.74 Q109.765 1120.3 112.242 1120.3 Q116.246 1120.3 118.584 1118.19 Q120.922 1116.08 120.922 1112.47 Q120.922 1108.86 118.584 1106.76 Q116.246 1104.65 112.242 1104.65 Q110.367 1104.65 108.492 1105.07 Q106.64 1105.48 104.696 1106.36 L104.696 1089 Z\" fill=\"#000000\" fill-rule=\"evenodd\" fill-opacity=\"1\" /><path clip-path=\"url(#clip650)\" d=\"M 0 0 M140.668 1092.08 Q137.056 1092.08 135.228 1095.64 Q133.422 1099.19 133.422 1106.32 Q133.422 1113.42 135.228 1116.99 Q137.056 1120.53 140.668 1120.53 Q144.302 1120.53 146.107 1116.99 Q147.936 1113.42 147.936 1106.32 Q147.936 1099.19 146.107 1095.64 Q144.302 1092.08 140.668 1092.08 M140.668 1088.38 Q146.478 1088.38 149.533 1092.98 Q152.612 1097.57 152.612 1106.32 Q152.612 1115.04 149.533 1119.65 Q146.478 1124.23 140.668 1124.23 Q134.857 1124.23 131.779 1119.65 Q128.723 1115.04 128.723 1106.32 Q128.723 1097.57 131.779 1092.98 Q134.857 1088.38 140.668 1088.38 Z\" fill=\"#000000\" fill-rule=\"evenodd\" fill-opacity=\"1\" /><path clip-path=\"url(#clip650)\" d=\"M 0 0 M77.6818 749.566 L96.0382 749.566 L96.0382 753.501 L81.9642 753.501 L81.9642 761.973 Q82.9827 761.626 84.0012 761.464 Q85.0197 761.279 86.0382 761.279 Q91.8252 761.279 95.2049 764.45 Q98.5845 767.621 98.5845 773.038 Q98.5845 778.617 95.1123 781.719 Q91.6401 784.797 85.3206 784.797 Q83.1447 784.797 80.8762 784.427 Q78.6309 784.057 76.2235 783.316 L76.2235 778.617 Q78.3068 779.751 80.529 780.307 Q82.7512 780.862 85.2281 780.862 Q89.2327 780.862 91.5706 778.756 Q93.9086 776.649 93.9086 773.038 Q93.9086 769.427 91.5706 767.321 Q89.2327 765.214 85.2281 765.214 Q83.3531 765.214 81.4781 765.631 Q79.6262 766.047 77.6818 766.927 L77.6818 749.566 Z\" fill=\"#000000\" fill-rule=\"evenodd\" fill-opacity=\"1\" /><path clip-path=\"url(#clip650)\" d=\"M 0 0 M113.654 752.645 Q110.043 752.645 108.214 756.209 Q106.408 759.751 106.408 766.881 Q106.408 773.987 108.214 777.552 Q110.043 781.094 113.654 781.094 Q117.288 781.094 119.094 777.552 Q120.922 773.987 120.922 766.881 Q120.922 759.751 119.094 756.209 Q117.288 752.645 113.654 752.645 M113.654 748.941 Q119.464 748.941 122.52 753.547 Q125.598 758.131 125.598 766.881 Q125.598 775.608 122.52 780.214 Q119.464 784.797 113.654 784.797 Q107.844 784.797 104.765 780.214 Q101.709 775.608 101.709 766.881 Q101.709 758.131 104.765 753.547 Q107.844 748.941 113.654 748.941 Z\" fill=\"#000000\" fill-rule=\"evenodd\" fill-opacity=\"1\" /><path clip-path=\"url(#clip650)\" d=\"M 0 0 M140.668 752.645 Q137.056 752.645 135.228 756.209 Q133.422 759.751 133.422 766.881 Q133.422 773.987 135.228 777.552 Q137.056 781.094 140.668 781.094 Q144.302 781.094 146.107 777.552 Q147.936 773.987 147.936 766.881 Q147.936 759.751 146.107 756.209 Q144.302 752.645 140.668 752.645 M140.668 748.941 Q146.478 748.941 149.533 753.547 Q152.612 758.131 152.612 766.881 Q152.612 775.608 149.533 780.214 Q146.478 784.797 140.668 784.797 Q134.857 784.797 131.779 780.214 Q128.723 775.608 128.723 766.881 Q128.723 758.131 131.779 753.547 Q134.857 748.941 140.668 748.941 Z\" fill=\"#000000\" fill-rule=\"evenodd\" fill-opacity=\"1\" /><path clip-path=\"url(#clip650)\" d=\"M 0 0 M77.3577 410.131 L99.5798 410.131 L99.5798 412.122 L87.0336 444.691 L82.1494 444.691 L93.9549 414.066 L77.3577 414.066 L77.3577 410.131 Z\" fill=\"#000000\" fill-rule=\"evenodd\" fill-opacity=\"1\" /><path clip-path=\"url(#clip650)\" d=\"M 0 0 M104.696 410.131 L123.052 410.131 L123.052 414.066 L108.978 414.066 L108.978 422.538 Q109.996 422.191 111.015 422.029 Q112.033 421.844 113.052 421.844 Q118.839 421.844 122.219 425.015 Q125.598 428.187 125.598 433.603 Q125.598 439.182 122.126 442.284 Q118.654 445.362 112.334 445.362 Q110.158 445.362 107.89 444.992 Q105.645 444.622 103.237 443.881 L103.237 439.182 Q105.321 440.316 107.543 440.872 Q109.765 441.427 112.242 441.427 Q116.246 441.427 118.584 439.321 Q120.922 437.214 120.922 433.603 Q120.922 429.992 118.584 427.886 Q116.246 425.779 112.242 425.779 Q110.367 425.779 108.492 426.196 Q106.64 426.613 104.696 427.492 L104.696 410.131 Z\" fill=\"#000000\" fill-rule=\"evenodd\" fill-opacity=\"1\" /><path clip-path=\"url(#clip650)\" d=\"M 0 0 M140.668 413.21 Q137.056 413.21 135.228 416.775 Q133.422 420.316 133.422 427.446 Q133.422 434.552 135.228 438.117 Q137.056 441.659 140.668 441.659 Q144.302 441.659 146.107 438.117 Q147.936 434.552 147.936 427.446 Q147.936 420.316 146.107 416.775 Q144.302 413.21 140.668 413.21 M140.668 409.506 Q146.478 409.506 149.533 414.113 Q152.612 418.696 152.612 427.446 Q152.612 436.173 149.533 440.779 Q146.478 445.362 140.668 445.362 Q134.857 445.362 131.779 440.779 Q128.723 436.173 128.723 427.446 Q128.723 418.696 131.779 414.113 Q134.857 409.506 140.668 409.506 Z\" fill=\"#000000\" fill-rule=\"evenodd\" fill-opacity=\"1\" /><path clip-path=\"url(#clip650)\" d=\"M 0 0 M51.6634 101.321 L59.3023 101.321 L59.3023 74.9555 L50.9921 76.6222 L50.9921 72.3629 L59.256 70.6963 L63.9319 70.6963 L63.9319 101.321 L71.5707 101.321 L71.5707 105.256 L51.6634 105.256 L51.6634 101.321 Z\" fill=\"#000000\" fill-rule=\"evenodd\" fill-opacity=\"1\" /><path clip-path=\"url(#clip650)\" d=\"M 0 0 M86.6401 73.775 Q83.029 73.775 81.2003 77.3398 Q79.3948 80.8814 79.3948 88.011 Q79.3948 95.1174 81.2003 98.6822 Q83.029 102.224 86.6401 102.224 Q90.2743 102.224 92.0799 98.6822 Q93.9086 95.1174 93.9086 88.011 Q93.9086 80.8814 92.0799 77.3398 Q90.2743 73.775 86.6401 73.775 M86.6401 70.0713 Q92.4502 70.0713 95.5058 74.6777 Q98.5845 79.261 98.5845 88.011 Q98.5845 96.7378 95.5058 101.344 Q92.4502 105.928 86.6401 105.928 Q80.8299 105.928 77.7512 101.344 Q74.6957 96.7378 74.6957 88.011 Q74.6957 79.261 77.7512 74.6777 Q80.8299 70.0713 86.6401 70.0713 Z\" fill=\"#000000\" fill-rule=\"evenodd\" fill-opacity=\"1\" /><path clip-path=\"url(#clip650)\" d=\"M 0 0 M113.654 73.775 Q110.043 73.775 108.214 77.3398 Q106.408 80.8814 106.408 88.011 Q106.408 95.1174 108.214 98.6822 Q110.043 102.224 113.654 102.224 Q117.288 102.224 119.094 98.6822 Q120.922 95.1174 120.922 88.011 Q120.922 80.8814 119.094 77.3398 Q117.288 73.775 113.654 73.775 M113.654 70.0713 Q119.464 70.0713 122.52 74.6777 Q125.598 79.261 125.598 88.011 Q125.598 96.7378 122.52 101.344 Q119.464 105.928 113.654 105.928 Q107.844 105.928 104.765 101.344 Q101.709 96.7378 101.709 88.011 Q101.709 79.261 104.765 74.6777 Q107.844 70.0713 113.654 70.0713 Z\" fill=\"#000000\" fill-rule=\"evenodd\" fill-opacity=\"1\" /><path clip-path=\"url(#clip650)\" d=\"M 0 0 M140.668 73.775 Q137.056 73.775 135.228 77.3398 Q133.422 80.8814 133.422 88.011 Q133.422 95.1174 135.228 98.6822 Q137.056 102.224 140.668 102.224 Q144.302 102.224 146.107 98.6822 Q147.936 95.1174 147.936 88.011 Q147.936 80.8814 146.107 77.3398 Q144.302 73.775 140.668 73.775 M140.668 70.0713 Q146.478 70.0713 149.533 74.6777 Q152.612 79.261 152.612 88.011 Q152.612 96.7378 149.533 101.344 Q146.478 105.928 140.668 105.928 Q134.857 105.928 131.779 101.344 Q128.723 96.7378 128.723 88.011 Q128.723 79.261 131.779 74.6777 Q134.857 70.0713 140.668 70.0713 Z\" fill=\"#000000\" fill-rule=\"evenodd\" fill-opacity=\"1\" /><path clip-path=\"url(#clip652)\" d=\"\n",
       "M307.644 87.9763 L307.644 1445.72 L2233.72 1445.72 L2233.72 87.9763 L307.644 87.9763 L307.644 87.9763  Z\n",
       "  \" fill=\"#009af9\" fill-rule=\"evenodd\" fill-opacity=\"1\"/>\n",
       "<polyline clip-path=\"url(#clip652)\" style=\"stroke:#000000; stroke-width:4; stroke-opacity:1; fill:none\" points=\"\n",
       "  307.644,87.9763 307.644,1445.72 2233.72,1445.72 2233.72,87.9763 307.644,87.9763 \n",
       "  \"/>\n",
       "<path clip-path=\"url(#clip650)\" d=\"\n",
       "M1989.14 216.178 L2280.62 216.178 L2280.62 95.2176 L1989.14 95.2176  Z\n",
       "  \" fill=\"#ffffff\" fill-rule=\"evenodd\" fill-opacity=\"1\"/>\n",
       "<polyline clip-path=\"url(#clip650)\" style=\"stroke:#000000; stroke-width:4; stroke-opacity:1; fill:none\" points=\"\n",
       "  1989.14,216.178 2280.62,216.178 2280.62,95.2176 1989.14,95.2176 1989.14,216.178 \n",
       "  \"/>\n",
       "<path clip-path=\"url(#clip650)\" d=\"\n",
       "M2013.19 179.89 L2157.46 179.89 L2157.46 131.506 L2013.19 131.506 L2013.19 179.89  Z\n",
       "  \" fill=\"#009af9\" fill-rule=\"evenodd\" fill-opacity=\"1\"/>\n",
       "<polyline clip-path=\"url(#clip650)\" style=\"stroke:#000000; stroke-width:4; stroke-opacity:1; fill:none\" points=\"\n",
       "  2013.19,179.89 2157.46,179.89 2157.46,131.506 2013.19,131.506 2013.19,179.89 \n",
       "  \"/>\n",
       "<path clip-path=\"url(#clip650)\" d=\"M 0 0 M2195.35 175.385 Q2193.54 180.015 2191.83 181.427 Q2190.12 182.839 2187.25 182.839 L2183.85 182.839 L2183.85 179.274 L2186.35 179.274 Q2188.1 179.274 2189.08 178.44 Q2190.05 177.607 2191.23 174.505 L2191.99 172.561 L2181.51 147.052 L2186.02 147.052 L2194.12 167.329 L2202.22 147.052 L2206.74 147.052 L2195.35 175.385 Z\" fill=\"#000000\" fill-rule=\"evenodd\" fill-opacity=\"1\" /><path clip-path=\"url(#clip650)\" d=\"M 0 0 M2212.62 169.042 L2220.26 169.042 L2220.26 142.677 L2211.95 144.343 L2211.95 140.084 L2220.21 138.418 L2224.89 138.418 L2224.89 169.042 L2232.53 169.042 L2232.53 172.978 L2212.62 172.978 L2212.62 169.042 Z\" fill=\"#000000\" fill-rule=\"evenodd\" fill-opacity=\"1\" /></svg>\n"
      ]
     },
     "execution_count": 456,
     "metadata": {},
     "output_type": "execute_result"
    }
   ],
   "source": [
    "m = agent(QUEEN)\n",
    "chains = sample(m, IS(), 1000 , n_chains=1, progress = true)\n",
    "histogram(generated_quantities(m, chains))"
   ]
  },
  {
   "cell_type": "code",
   "execution_count": 457,
   "metadata": {},
   "outputs": [
    {
     "name": "stderr",
     "output_type": "stream",
     "text": [
      "\u001b[32mSampling: 100%|█████████████████████████████████████████| Time: 0:00:01\u001b[39m\n"
     ]
    },
    {
     "data": {
      "image/svg+xml": [
       "<?xml version=\"1.0\" encoding=\"utf-8\"?>\n",
       "<svg xmlns=\"http://www.w3.org/2000/svg\" xmlns:xlink=\"http://www.w3.org/1999/xlink\" width=\"600\" height=\"400\" viewBox=\"0 0 2400 1600\">\n",
       "<defs>\n",
       "  <clipPath id=\"clip690\">\n",
       "    <rect x=\"0\" y=\"0\" width=\"2400\" height=\"1600\"/>\n",
       "  </clipPath>\n",
       "</defs>\n",
       "<path clip-path=\"url(#clip690)\" d=\"\n",
       "M0 1600 L2400 1600 L2400 0 L0 0  Z\n",
       "  \" fill=\"#ffffff\" fill-rule=\"evenodd\" fill-opacity=\"1\"/>\n",
       "<defs>\n",
       "  <clipPath id=\"clip691\">\n",
       "    <rect x=\"480\" y=\"0\" width=\"1681\" height=\"1600\"/>\n",
       "  </clipPath>\n",
       "</defs>\n",
       "<path clip-path=\"url(#clip690)\" d=\"\n",
       "M193.218 1486.45 L2352.76 1486.45 L2352.76 47.2441 L193.218 47.2441  Z\n",
       "  \" fill=\"#ffffff\" fill-rule=\"evenodd\" fill-opacity=\"1\"/>\n",
       "<defs>\n",
       "  <clipPath id=\"clip692\">\n",
       "    <rect x=\"193\" y=\"47\" width=\"2161\" height=\"1440\"/>\n",
       "  </clipPath>\n",
       "</defs>\n",
       "<polyline clip-path=\"url(#clip692)\" style=\"stroke:#000000; stroke-width:2; stroke-opacity:0.1; fill:none\" points=\"\n",
       "  311.997,1486.45 311.997,47.2441 \n",
       "  \"/>\n",
       "<polyline clip-path=\"url(#clip692)\" style=\"stroke:#000000; stroke-width:2; stroke-opacity:0.1; fill:none\" points=\"\n",
       "  748.811,1486.45 748.811,47.2441 \n",
       "  \"/>\n",
       "<polyline clip-path=\"url(#clip692)\" style=\"stroke:#000000; stroke-width:2; stroke-opacity:0.1; fill:none\" points=\"\n",
       "  1185.62,1486.45 1185.62,47.2441 \n",
       "  \"/>\n",
       "<polyline clip-path=\"url(#clip692)\" style=\"stroke:#000000; stroke-width:2; stroke-opacity:0.1; fill:none\" points=\"\n",
       "  1622.44,1486.45 1622.44,47.2441 \n",
       "  \"/>\n",
       "<polyline clip-path=\"url(#clip692)\" style=\"stroke:#000000; stroke-width:2; stroke-opacity:0.1; fill:none\" points=\"\n",
       "  2059.25,1486.45 2059.25,47.2441 \n",
       "  \"/>\n",
       "<polyline clip-path=\"url(#clip690)\" style=\"stroke:#000000; stroke-width:4; stroke-opacity:1; fill:none\" points=\"\n",
       "  193.218,1486.45 2352.76,1486.45 \n",
       "  \"/>\n",
       "<polyline clip-path=\"url(#clip690)\" style=\"stroke:#000000; stroke-width:4; stroke-opacity:1; fill:none\" points=\"\n",
       "  311.997,1486.45 311.997,1469.18 \n",
       "  \"/>\n",
       "<polyline clip-path=\"url(#clip690)\" style=\"stroke:#000000; stroke-width:4; stroke-opacity:1; fill:none\" points=\"\n",
       "  748.811,1486.45 748.811,1469.18 \n",
       "  \"/>\n",
       "<polyline clip-path=\"url(#clip690)\" style=\"stroke:#000000; stroke-width:4; stroke-opacity:1; fill:none\" points=\"\n",
       "  1185.62,1486.45 1185.62,1469.18 \n",
       "  \"/>\n",
       "<polyline clip-path=\"url(#clip690)\" style=\"stroke:#000000; stroke-width:4; stroke-opacity:1; fill:none\" points=\"\n",
       "  1622.44,1486.45 1622.44,1469.18 \n",
       "  \"/>\n",
       "<polyline clip-path=\"url(#clip690)\" style=\"stroke:#000000; stroke-width:4; stroke-opacity:1; fill:none\" points=\"\n",
       "  2059.25,1486.45 2059.25,1469.18 \n",
       "  \"/>\n",
       "<path clip-path=\"url(#clip690)\" d=\"M 0 0 M252.275 1530.29 L281.951 1530.29 L281.951 1534.23 L252.275 1534.23 L252.275 1530.29 Z\" fill=\"#000000\" fill-rule=\"evenodd\" fill-opacity=\"1\" /><path clip-path=\"url(#clip690)\" d=\"M 0 0 M287.83 1543.18 L295.469 1543.18 L295.469 1516.82 L287.159 1518.49 L287.159 1514.23 L295.423 1512.56 L300.099 1512.56 L300.099 1543.18 L307.738 1543.18 L307.738 1547.12 L287.83 1547.12 L287.83 1543.18 Z\" fill=\"#000000\" fill-rule=\"evenodd\" fill-opacity=\"1\" /><path clip-path=\"url(#clip690)\" d=\"M 0 0 M312.807 1541.24 L317.691 1541.24 L317.691 1547.12 L312.807 1547.12 L312.807 1541.24 Z\" fill=\"#000000\" fill-rule=\"evenodd\" fill-opacity=\"1\" /><path clip-path=\"url(#clip690)\" d=\"M 0 0 M332.761 1515.64 Q329.15 1515.64 327.321 1519.2 Q325.515 1522.75 325.515 1529.87 Q325.515 1536.98 327.321 1540.55 Q329.15 1544.09 332.761 1544.09 Q336.395 1544.09 338.2 1540.55 Q340.029 1536.98 340.029 1529.87 Q340.029 1522.75 338.2 1519.2 Q336.395 1515.64 332.761 1515.64 M332.761 1511.93 Q338.571 1511.93 341.626 1516.54 Q344.705 1521.12 344.705 1529.87 Q344.705 1538.6 341.626 1543.21 Q338.571 1547.79 332.761 1547.79 Q326.95 1547.79 323.872 1543.21 Q320.816 1538.6 320.816 1529.87 Q320.816 1521.12 323.872 1516.54 Q326.95 1511.93 332.761 1511.93 Z\" fill=\"#000000\" fill-rule=\"evenodd\" fill-opacity=\"1\" /><path clip-path=\"url(#clip690)\" d=\"M 0 0 M359.774 1515.64 Q356.163 1515.64 354.335 1519.2 Q352.529 1522.75 352.529 1529.87 Q352.529 1536.98 354.335 1540.55 Q356.163 1544.09 359.774 1544.09 Q363.409 1544.09 365.214 1540.55 Q367.043 1536.98 367.043 1529.87 Q367.043 1522.75 365.214 1519.2 Q363.409 1515.64 359.774 1515.64 M359.774 1511.93 Q365.584 1511.93 368.64 1516.54 Q371.719 1521.12 371.719 1529.87 Q371.719 1538.6 368.64 1543.21 Q365.584 1547.79 359.774 1547.79 Q353.964 1547.79 350.885 1543.21 Q347.83 1538.6 347.83 1529.87 Q347.83 1521.12 350.885 1516.54 Q353.964 1511.93 359.774 1511.93 Z\" fill=\"#000000\" fill-rule=\"evenodd\" fill-opacity=\"1\" /><path clip-path=\"url(#clip690)\" d=\"M 0 0 M689.424 1530.29 L719.1 1530.29 L719.1 1534.23 L689.424 1534.23 L689.424 1530.29 Z\" fill=\"#000000\" fill-rule=\"evenodd\" fill-opacity=\"1\" /><path clip-path=\"url(#clip690)\" d=\"M 0 0 M734.169 1515.64 Q730.558 1515.64 728.73 1519.2 Q726.924 1522.75 726.924 1529.87 Q726.924 1536.98 728.73 1540.55 Q730.558 1544.09 734.169 1544.09 Q737.804 1544.09 739.609 1540.55 Q741.438 1536.98 741.438 1529.87 Q741.438 1522.75 739.609 1519.2 Q737.804 1515.64 734.169 1515.64 M734.169 1511.93 Q739.98 1511.93 743.035 1516.54 Q746.114 1521.12 746.114 1529.87 Q746.114 1538.6 743.035 1543.21 Q739.98 1547.79 734.169 1547.79 Q728.359 1547.79 725.281 1543.21 Q722.225 1538.6 722.225 1529.87 Q722.225 1521.12 725.281 1516.54 Q728.359 1511.93 734.169 1511.93 Z\" fill=\"#000000\" fill-rule=\"evenodd\" fill-opacity=\"1\" /><path clip-path=\"url(#clip690)\" d=\"M 0 0 M751.183 1541.24 L756.068 1541.24 L756.068 1547.12 L751.183 1547.12 L751.183 1541.24 Z\" fill=\"#000000\" fill-rule=\"evenodd\" fill-opacity=\"1\" /><path clip-path=\"url(#clip690)\" d=\"M 0 0 M759.956 1512.56 L782.178 1512.56 L782.178 1514.55 L769.632 1547.12 L764.748 1547.12 L776.554 1516.5 L759.956 1516.5 L759.956 1512.56 Z\" fill=\"#000000\" fill-rule=\"evenodd\" fill-opacity=\"1\" /><path clip-path=\"url(#clip690)\" d=\"M 0 0 M787.294 1512.56 L805.651 1512.56 L805.651 1516.5 L791.577 1516.5 L791.577 1524.97 Q792.595 1524.62 793.614 1524.46 Q794.632 1524.27 795.651 1524.27 Q801.438 1524.27 804.817 1527.44 Q808.197 1530.62 808.197 1536.03 Q808.197 1541.61 804.725 1544.71 Q801.252 1547.79 794.933 1547.79 Q792.757 1547.79 790.489 1547.42 Q788.243 1547.05 785.836 1546.31 L785.836 1541.61 Q787.919 1542.74 790.141 1543.3 Q792.364 1543.86 794.84 1543.86 Q798.845 1543.86 801.183 1541.75 Q803.521 1539.64 803.521 1536.03 Q803.521 1532.42 801.183 1530.31 Q798.845 1528.21 794.84 1528.21 Q792.965 1528.21 791.09 1528.62 Q789.239 1529.04 787.294 1529.92 L787.294 1512.56 Z\" fill=\"#000000\" fill-rule=\"evenodd\" fill-opacity=\"1\" /><path clip-path=\"url(#clip690)\" d=\"M 0 0 M1125.79 1530.29 L1155.46 1530.29 L1155.46 1534.23 L1125.79 1534.23 L1125.79 1530.29 Z\" fill=\"#000000\" fill-rule=\"evenodd\" fill-opacity=\"1\" /><path clip-path=\"url(#clip690)\" d=\"M 0 0 M1170.53 1515.64 Q1166.92 1515.64 1165.09 1519.2 Q1163.29 1522.75 1163.29 1529.87 Q1163.29 1536.98 1165.09 1540.55 Q1166.92 1544.09 1170.53 1544.09 Q1174.17 1544.09 1175.97 1540.55 Q1177.8 1536.98 1177.8 1529.87 Q1177.8 1522.75 1175.97 1519.2 Q1174.17 1515.64 1170.53 1515.64 M1170.53 1511.93 Q1176.34 1511.93 1179.4 1516.54 Q1182.48 1521.12 1182.48 1529.87 Q1182.48 1538.6 1179.4 1543.21 Q1176.34 1547.79 1170.53 1547.79 Q1164.72 1547.79 1161.64 1543.21 Q1158.59 1538.6 1158.59 1529.87 Q1158.59 1521.12 1161.64 1516.54 Q1164.72 1511.93 1170.53 1511.93 Z\" fill=\"#000000\" fill-rule=\"evenodd\" fill-opacity=\"1\" /><path clip-path=\"url(#clip690)\" d=\"M 0 0 M1187.55 1541.24 L1192.43 1541.24 L1192.43 1547.12 L1187.55 1547.12 L1187.55 1541.24 Z\" fill=\"#000000\" fill-rule=\"evenodd\" fill-opacity=\"1\" /><path clip-path=\"url(#clip690)\" d=\"M 0 0 M1197.55 1512.56 L1215.9 1512.56 L1215.9 1516.5 L1201.83 1516.5 L1201.83 1524.97 Q1202.85 1524.62 1203.87 1524.46 Q1204.88 1524.27 1205.9 1524.27 Q1211.69 1524.27 1215.07 1527.44 Q1218.45 1530.62 1218.45 1536.03 Q1218.45 1541.61 1214.98 1544.71 Q1211.5 1547.79 1205.18 1547.79 Q1203.01 1547.79 1200.74 1547.42 Q1198.49 1547.05 1196.09 1546.31 L1196.09 1541.61 Q1198.17 1542.74 1200.39 1543.3 Q1202.62 1543.86 1205.09 1543.86 Q1209.1 1543.86 1211.43 1541.75 Q1213.77 1539.64 1213.77 1536.03 Q1213.77 1532.42 1211.43 1530.31 Q1209.1 1528.21 1205.09 1528.21 Q1203.22 1528.21 1201.34 1528.62 Q1199.49 1529.04 1197.55 1529.92 L1197.55 1512.56 Z\" fill=\"#000000\" fill-rule=\"evenodd\" fill-opacity=\"1\" /><path clip-path=\"url(#clip690)\" d=\"M 0 0 M1233.52 1515.64 Q1229.91 1515.64 1228.08 1519.2 Q1226.27 1522.75 1226.27 1529.87 Q1226.27 1536.98 1228.08 1540.55 Q1229.91 1544.09 1233.52 1544.09 Q1237.15 1544.09 1238.96 1540.55 Q1240.79 1536.98 1240.79 1529.87 Q1240.79 1522.75 1238.96 1519.2 Q1237.15 1515.64 1233.52 1515.64 M1233.52 1511.93 Q1239.33 1511.93 1242.38 1516.54 Q1245.46 1521.12 1245.46 1529.87 Q1245.46 1538.6 1242.38 1543.21 Q1239.33 1547.79 1233.52 1547.79 Q1227.71 1547.79 1224.63 1543.21 Q1221.57 1538.6 1221.57 1529.87 Q1221.57 1521.12 1224.63 1516.54 Q1227.71 1511.93 1233.52 1511.93 Z\" fill=\"#000000\" fill-rule=\"evenodd\" fill-opacity=\"1\" /><path clip-path=\"url(#clip690)\" d=\"M 0 0 M1563.4 1530.29 L1593.07 1530.29 L1593.07 1534.23 L1563.4 1534.23 L1563.4 1530.29 Z\" fill=\"#000000\" fill-rule=\"evenodd\" fill-opacity=\"1\" /><path clip-path=\"url(#clip690)\" d=\"M 0 0 M1608.14 1515.64 Q1604.53 1515.64 1602.7 1519.2 Q1600.9 1522.75 1600.9 1529.87 Q1600.9 1536.98 1602.7 1540.55 Q1604.53 1544.09 1608.14 1544.09 Q1611.78 1544.09 1613.58 1540.55 Q1615.41 1536.98 1615.41 1529.87 Q1615.41 1522.75 1613.58 1519.2 Q1611.78 1515.64 1608.14 1515.64 M1608.14 1511.93 Q1613.95 1511.93 1617.01 1516.54 Q1620.09 1521.12 1620.09 1529.87 Q1620.09 1538.6 1617.01 1543.21 Q1613.95 1547.79 1608.14 1547.79 Q1602.33 1547.79 1599.26 1543.21 Q1596.2 1538.6 1596.2 1529.87 Q1596.2 1521.12 1599.26 1516.54 Q1602.33 1511.93 1608.14 1511.93 Z\" fill=\"#000000\" fill-rule=\"evenodd\" fill-opacity=\"1\" /><path clip-path=\"url(#clip690)\" d=\"M 0 0 M1625.16 1541.24 L1630.04 1541.24 L1630.04 1547.12 L1625.16 1547.12 L1625.16 1541.24 Z\" fill=\"#000000\" fill-rule=\"evenodd\" fill-opacity=\"1\" /><path clip-path=\"url(#clip690)\" d=\"M 0 0 M1639.14 1543.18 L1655.46 1543.18 L1655.46 1547.12 L1633.51 1547.12 L1633.51 1543.18 Q1636.18 1540.43 1640.76 1535.8 Q1645.37 1531.15 1646.55 1529.81 Q1648.79 1527.28 1649.67 1525.55 Q1650.57 1523.79 1650.57 1522.1 Q1650.57 1519.34 1648.63 1517.61 Q1646.71 1515.87 1643.61 1515.87 Q1641.41 1515.87 1638.95 1516.63 Q1636.52 1517.4 1633.75 1518.95 L1633.75 1514.23 Q1636.57 1513.09 1639.02 1512.51 Q1641.48 1511.93 1643.51 1511.93 Q1648.88 1511.93 1652.08 1514.62 Q1655.27 1517.31 1655.27 1521.8 Q1655.27 1523.93 1654.46 1525.85 Q1653.68 1527.74 1651.57 1530.34 Q1650.99 1531.01 1647.89 1534.23 Q1644.79 1537.42 1639.14 1543.18 Z\" fill=\"#000000\" fill-rule=\"evenodd\" fill-opacity=\"1\" /><path clip-path=\"url(#clip690)\" d=\"M 0 0 M1660.57 1512.56 L1678.93 1512.56 L1678.93 1516.5 L1664.86 1516.5 L1664.86 1524.97 Q1665.88 1524.62 1666.89 1524.46 Q1667.91 1524.27 1668.93 1524.27 Q1674.72 1524.27 1678.1 1527.44 Q1681.48 1530.62 1681.48 1536.03 Q1681.48 1541.61 1678.01 1544.71 Q1674.53 1547.79 1668.21 1547.79 Q1666.04 1547.79 1663.77 1547.42 Q1661.52 1547.05 1659.12 1546.31 L1659.12 1541.61 Q1661.2 1542.74 1663.42 1543.3 Q1665.64 1543.86 1668.12 1543.86 Q1672.13 1543.86 1674.46 1541.75 Q1676.8 1539.64 1676.8 1536.03 Q1676.8 1532.42 1674.46 1530.31 Q1672.13 1528.21 1668.12 1528.21 Q1666.25 1528.21 1664.37 1528.62 Q1662.52 1529.04 1660.57 1529.92 L1660.57 1512.56 Z\" fill=\"#000000\" fill-rule=\"evenodd\" fill-opacity=\"1\" /><path clip-path=\"url(#clip690)\" d=\"M 0 0 M2027.26 1515.64 Q2023.65 1515.64 2021.82 1519.2 Q2020.02 1522.75 2020.02 1529.87 Q2020.02 1536.98 2021.82 1540.55 Q2023.65 1544.09 2027.26 1544.09 Q2030.9 1544.09 2032.7 1540.55 Q2034.53 1536.98 2034.53 1529.87 Q2034.53 1522.75 2032.7 1519.2 Q2030.9 1515.64 2027.26 1515.64 M2027.26 1511.93 Q2033.07 1511.93 2036.13 1516.54 Q2039.21 1521.12 2039.21 1529.87 Q2039.21 1538.6 2036.13 1543.21 Q2033.07 1547.79 2027.26 1547.79 Q2021.45 1547.79 2018.37 1543.21 Q2015.32 1538.6 2015.32 1529.87 Q2015.32 1521.12 2018.37 1516.54 Q2021.45 1511.93 2027.26 1511.93 Z\" fill=\"#000000\" fill-rule=\"evenodd\" fill-opacity=\"1\" /><path clip-path=\"url(#clip690)\" d=\"M 0 0 M2044.28 1541.24 L2049.16 1541.24 L2049.16 1547.12 L2044.28 1547.12 L2044.28 1541.24 Z\" fill=\"#000000\" fill-rule=\"evenodd\" fill-opacity=\"1\" /><path clip-path=\"url(#clip690)\" d=\"M 0 0 M2064.23 1515.64 Q2060.62 1515.64 2058.79 1519.2 Q2056.98 1522.75 2056.98 1529.87 Q2056.98 1536.98 2058.79 1540.55 Q2060.62 1544.09 2064.23 1544.09 Q2067.86 1544.09 2069.67 1540.55 Q2071.5 1536.98 2071.5 1529.87 Q2071.5 1522.75 2069.67 1519.2 Q2067.86 1515.64 2064.23 1515.64 M2064.23 1511.93 Q2070.04 1511.93 2073.09 1516.54 Q2076.17 1521.12 2076.17 1529.87 Q2076.17 1538.6 2073.09 1543.21 Q2070.04 1547.79 2064.23 1547.79 Q2058.42 1547.79 2055.34 1543.21 Q2052.28 1538.6 2052.28 1529.87 Q2052.28 1521.12 2055.34 1516.54 Q2058.42 1511.93 2064.23 1511.93 Z\" fill=\"#000000\" fill-rule=\"evenodd\" fill-opacity=\"1\" /><path clip-path=\"url(#clip690)\" d=\"M 0 0 M2091.24 1515.64 Q2087.63 1515.64 2085.8 1519.2 Q2084 1522.75 2084 1529.87 Q2084 1536.98 2085.8 1540.55 Q2087.63 1544.09 2091.24 1544.09 Q2094.88 1544.09 2096.68 1540.55 Q2098.51 1536.98 2098.51 1529.87 Q2098.51 1522.75 2096.68 1519.2 Q2094.88 1515.64 2091.24 1515.64 M2091.24 1511.93 Q2097.05 1511.93 2100.11 1516.54 Q2103.19 1521.12 2103.19 1529.87 Q2103.19 1538.6 2100.11 1543.21 Q2097.05 1547.79 2091.24 1547.79 Q2085.43 1547.79 2082.35 1543.21 Q2079.3 1538.6 2079.3 1529.87 Q2079.3 1521.12 2082.35 1516.54 Q2085.43 1511.93 2091.24 1511.93 Z\" fill=\"#000000\" fill-rule=\"evenodd\" fill-opacity=\"1\" /><polyline clip-path=\"url(#clip692)\" style=\"stroke:#000000; stroke-width:2; stroke-opacity:0.1; fill:none\" points=\"\n",
       "  193.218,1445.72 2352.76,1445.72 \n",
       "  \"/>\n",
       "<polyline clip-path=\"url(#clip692)\" style=\"stroke:#000000; stroke-width:2; stroke-opacity:0.1; fill:none\" points=\"\n",
       "  193.218,1241.64 2352.76,1241.64 \n",
       "  \"/>\n",
       "<polyline clip-path=\"url(#clip692)\" style=\"stroke:#000000; stroke-width:2; stroke-opacity:0.1; fill:none\" points=\"\n",
       "  193.218,1037.56 2352.76,1037.56 \n",
       "  \"/>\n",
       "<polyline clip-path=\"url(#clip692)\" style=\"stroke:#000000; stroke-width:2; stroke-opacity:0.1; fill:none\" points=\"\n",
       "  193.218,833.478 2352.76,833.478 \n",
       "  \"/>\n",
       "<polyline clip-path=\"url(#clip692)\" style=\"stroke:#000000; stroke-width:2; stroke-opacity:0.1; fill:none\" points=\"\n",
       "  193.218,629.399 2352.76,629.399 \n",
       "  \"/>\n",
       "<polyline clip-path=\"url(#clip692)\" style=\"stroke:#000000; stroke-width:2; stroke-opacity:0.1; fill:none\" points=\"\n",
       "  193.218,425.319 2352.76,425.319 \n",
       "  \"/>\n",
       "<polyline clip-path=\"url(#clip692)\" style=\"stroke:#000000; stroke-width:2; stroke-opacity:0.1; fill:none\" points=\"\n",
       "  193.218,221.24 2352.76,221.24 \n",
       "  \"/>\n",
       "<polyline clip-path=\"url(#clip690)\" style=\"stroke:#000000; stroke-width:4; stroke-opacity:1; fill:none\" points=\"\n",
       "  193.218,1486.45 193.218,47.2441 \n",
       "  \"/>\n",
       "<polyline clip-path=\"url(#clip690)\" style=\"stroke:#000000; stroke-width:4; stroke-opacity:1; fill:none\" points=\"\n",
       "  193.218,1445.72 219.133,1445.72 \n",
       "  \"/>\n",
       "<polyline clip-path=\"url(#clip690)\" style=\"stroke:#000000; stroke-width:4; stroke-opacity:1; fill:none\" points=\"\n",
       "  193.218,1241.64 219.133,1241.64 \n",
       "  \"/>\n",
       "<polyline clip-path=\"url(#clip690)\" style=\"stroke:#000000; stroke-width:4; stroke-opacity:1; fill:none\" points=\"\n",
       "  193.218,1037.56 219.133,1037.56 \n",
       "  \"/>\n",
       "<polyline clip-path=\"url(#clip690)\" style=\"stroke:#000000; stroke-width:4; stroke-opacity:1; fill:none\" points=\"\n",
       "  193.218,833.478 219.133,833.478 \n",
       "  \"/>\n",
       "<polyline clip-path=\"url(#clip690)\" style=\"stroke:#000000; stroke-width:4; stroke-opacity:1; fill:none\" points=\"\n",
       "  193.218,629.399 219.133,629.399 \n",
       "  \"/>\n",
       "<polyline clip-path=\"url(#clip690)\" style=\"stroke:#000000; stroke-width:4; stroke-opacity:1; fill:none\" points=\"\n",
       "  193.218,425.319 219.133,425.319 \n",
       "  \"/>\n",
       "<polyline clip-path=\"url(#clip690)\" style=\"stroke:#000000; stroke-width:4; stroke-opacity:1; fill:none\" points=\"\n",
       "  193.218,221.24 219.133,221.24 \n",
       "  \"/>\n",
       "<path clip-path=\"url(#clip690)\" d=\"M 0 0 M145.274 1431.51 Q141.663 1431.51 139.834 1435.08 Q138.029 1438.62 138.029 1445.75 Q138.029 1452.86 139.834 1456.42 Q141.663 1459.96 145.274 1459.96 Q148.908 1459.96 150.714 1456.42 Q152.543 1452.86 152.543 1445.75 Q152.543 1438.62 150.714 1435.08 Q148.908 1431.51 145.274 1431.51 M145.274 1427.81 Q151.084 1427.81 154.14 1432.42 Q157.218 1437 157.218 1445.75 Q157.218 1454.48 154.14 1459.08 Q151.084 1463.67 145.274 1463.67 Q139.464 1463.67 136.385 1459.08 Q133.33 1454.48 133.33 1445.75 Q133.33 1437 136.385 1432.42 Q139.464 1427.81 145.274 1427.81 Z\" fill=\"#000000\" fill-rule=\"evenodd\" fill-opacity=\"1\" /><path clip-path=\"url(#clip690)\" d=\"M 0 0 M56.2699 1254.98 L63.9087 1254.98 L63.9087 1228.62 L55.5986 1230.28 L55.5986 1226.02 L63.8624 1224.36 L68.5383 1224.36 L68.5383 1254.98 L76.1772 1254.98 L76.1772 1258.92 L56.2699 1258.92 L56.2699 1254.98 Z\" fill=\"#000000\" fill-rule=\"evenodd\" fill-opacity=\"1\" /><path clip-path=\"url(#clip690)\" d=\"M 0 0 M91.2465 1227.44 Q87.6354 1227.44 85.8068 1231 Q84.0012 1234.54 84.0012 1241.67 Q84.0012 1248.78 85.8068 1252.34 Q87.6354 1255.88 91.2465 1255.88 Q94.8808 1255.88 96.6863 1252.34 Q98.515 1248.78 98.515 1241.67 Q98.515 1234.54 96.6863 1231 Q94.8808 1227.44 91.2465 1227.44 M91.2465 1223.73 Q97.0567 1223.73 100.112 1228.34 Q103.191 1232.92 103.191 1241.67 Q103.191 1250.4 100.112 1255 Q97.0567 1259.59 91.2465 1259.59 Q85.4364 1259.59 82.3577 1255 Q79.3022 1250.4 79.3022 1241.67 Q79.3022 1232.92 82.3577 1228.34 Q85.4364 1223.73 91.2465 1223.73 Z\" fill=\"#000000\" fill-rule=\"evenodd\" fill-opacity=\"1\" /><path clip-path=\"url(#clip690)\" d=\"M 0 0 M118.26 1227.44 Q114.649 1227.44 112.82 1231 Q111.015 1234.54 111.015 1241.67 Q111.015 1248.78 112.82 1252.34 Q114.649 1255.88 118.26 1255.88 Q121.895 1255.88 123.7 1252.34 Q125.529 1248.78 125.529 1241.67 Q125.529 1234.54 123.7 1231 Q121.895 1227.44 118.26 1227.44 M118.26 1223.73 Q124.07 1223.73 127.126 1228.34 Q130.205 1232.92 130.205 1241.67 Q130.205 1250.4 127.126 1255 Q124.07 1259.59 118.26 1259.59 Q112.45 1259.59 109.371 1255 Q106.316 1250.4 106.316 1241.67 Q106.316 1232.92 109.371 1228.34 Q112.45 1223.73 118.26 1223.73 Z\" fill=\"#000000\" fill-rule=\"evenodd\" fill-opacity=\"1\" /><path clip-path=\"url(#clip690)\" d=\"M 0 0 M145.274 1227.44 Q141.663 1227.44 139.834 1231 Q138.029 1234.54 138.029 1241.67 Q138.029 1248.78 139.834 1252.34 Q141.663 1255.88 145.274 1255.88 Q148.908 1255.88 150.714 1252.34 Q152.543 1248.78 152.543 1241.67 Q152.543 1234.54 150.714 1231 Q148.908 1227.44 145.274 1227.44 M145.274 1223.73 Q151.084 1223.73 154.14 1228.34 Q157.218 1232.92 157.218 1241.67 Q157.218 1250.4 154.14 1255 Q151.084 1259.59 145.274 1259.59 Q139.464 1259.59 136.385 1255 Q133.33 1250.4 133.33 1241.67 Q133.33 1232.92 136.385 1228.34 Q139.464 1223.73 145.274 1223.73 Z\" fill=\"#000000\" fill-rule=\"evenodd\" fill-opacity=\"1\" /><path clip-path=\"url(#clip690)\" d=\"M 0 0 M59.8578 1050.9 L76.1772 1050.9 L76.1772 1054.84 L54.2328 1054.84 L54.2328 1050.9 Q56.8949 1048.15 61.4782 1043.52 Q66.0846 1038.87 67.2652 1037.52 Q69.5105 1035 70.3902 1033.26 Q71.2929 1031.5 71.2929 1029.81 Q71.2929 1027.06 69.3485 1025.32 Q67.4272 1023.59 64.3254 1023.59 Q62.1263 1023.59 59.6726 1024.35 Q57.2421 1025.12 54.4643 1026.67 L54.4643 1021.94 Q57.2884 1020.81 59.7421 1020.23 Q62.1958 1019.65 64.2328 1019.65 Q69.6031 1019.65 72.7976 1022.34 Q75.992 1025.02 75.992 1029.51 Q75.992 1031.64 75.1818 1033.56 Q74.3948 1035.46 72.2883 1038.05 Q71.7096 1038.73 68.6078 1041.94 Q65.5059 1045.14 59.8578 1050.9 Z\" fill=\"#000000\" fill-rule=\"evenodd\" fill-opacity=\"1\" /><path clip-path=\"url(#clip690)\" d=\"M 0 0 M91.2465 1023.36 Q87.6354 1023.36 85.8068 1026.92 Q84.0012 1030.46 84.0012 1037.59 Q84.0012 1044.7 85.8068 1048.26 Q87.6354 1051.8 91.2465 1051.8 Q94.8808 1051.8 96.6863 1048.26 Q98.515 1044.7 98.515 1037.59 Q98.515 1030.46 96.6863 1026.92 Q94.8808 1023.36 91.2465 1023.36 M91.2465 1019.65 Q97.0567 1019.65 100.112 1024.26 Q103.191 1028.84 103.191 1037.59 Q103.191 1046.32 100.112 1050.93 Q97.0567 1055.51 91.2465 1055.51 Q85.4364 1055.51 82.3577 1050.93 Q79.3022 1046.32 79.3022 1037.59 Q79.3022 1028.84 82.3577 1024.26 Q85.4364 1019.65 91.2465 1019.65 Z\" fill=\"#000000\" fill-rule=\"evenodd\" fill-opacity=\"1\" /><path clip-path=\"url(#clip690)\" d=\"M 0 0 M118.26 1023.36 Q114.649 1023.36 112.82 1026.92 Q111.015 1030.46 111.015 1037.59 Q111.015 1044.7 112.82 1048.26 Q114.649 1051.8 118.26 1051.8 Q121.895 1051.8 123.7 1048.26 Q125.529 1044.7 125.529 1037.59 Q125.529 1030.46 123.7 1026.92 Q121.895 1023.36 118.26 1023.36 M118.26 1019.65 Q124.07 1019.65 127.126 1024.26 Q130.205 1028.84 130.205 1037.59 Q130.205 1046.32 127.126 1050.93 Q124.07 1055.51 118.26 1055.51 Q112.45 1055.51 109.371 1050.93 Q106.316 1046.32 106.316 1037.59 Q106.316 1028.84 109.371 1024.26 Q112.45 1019.65 118.26 1019.65 Z\" fill=\"#000000\" fill-rule=\"evenodd\" fill-opacity=\"1\" /><path clip-path=\"url(#clip690)\" d=\"M 0 0 M145.274 1023.36 Q141.663 1023.36 139.834 1026.92 Q138.029 1030.46 138.029 1037.59 Q138.029 1044.7 139.834 1048.26 Q141.663 1051.8 145.274 1051.8 Q148.908 1051.8 150.714 1048.26 Q152.543 1044.7 152.543 1037.59 Q152.543 1030.46 150.714 1026.92 Q148.908 1023.36 145.274 1023.36 M145.274 1019.65 Q151.084 1019.65 154.14 1024.26 Q157.218 1028.84 157.218 1037.59 Q157.218 1046.32 154.14 1050.93 Q151.084 1055.51 145.274 1055.51 Q139.464 1055.51 136.385 1050.93 Q133.33 1046.32 133.33 1037.59 Q133.33 1028.84 136.385 1024.26 Q139.464 1019.65 145.274 1019.65 Z\" fill=\"#000000\" fill-rule=\"evenodd\" fill-opacity=\"1\" /><path clip-path=\"url(#clip690)\" d=\"M 0 0 M69.0476 832.124 Q72.404 832.841 74.279 835.11 Q76.1772 837.378 76.1772 840.712 Q76.1772 845.827 72.6587 848.628 Q69.1402 851.429 62.6587 851.429 Q60.4828 851.429 58.168 850.989 Q55.8764 850.573 53.4227 849.716 L53.4227 845.202 Q55.3671 846.337 57.6819 846.915 Q59.9967 847.494 62.5198 847.494 Q66.918 847.494 69.2096 845.758 Q71.5244 844.022 71.5244 840.712 Q71.5244 837.656 69.3717 835.943 Q67.242 834.207 63.4226 834.207 L59.3949 834.207 L59.3949 830.364 L63.6078 830.364 Q67.0569 830.364 68.8855 828.999 Q70.7142 827.61 70.7142 825.017 Q70.7142 822.355 68.8161 820.943 Q66.9411 819.508 63.4226 819.508 Q61.5013 819.508 59.3023 819.925 Q57.1032 820.341 54.4643 821.221 L54.4643 817.054 Q57.1264 816.314 59.4412 815.943 Q61.7791 815.573 63.8393 815.573 Q69.1633 815.573 72.2652 818.003 Q75.367 820.411 75.367 824.531 Q75.367 827.402 73.7235 829.392 Q72.08 831.36 69.0476 832.124 Z\" fill=\"#000000\" fill-rule=\"evenodd\" fill-opacity=\"1\" /><path clip-path=\"url(#clip690)\" d=\"M 0 0 M91.2465 819.277 Q87.6354 819.277 85.8068 822.841 Q84.0012 826.383 84.0012 833.513 Q84.0012 840.619 85.8068 844.184 Q87.6354 847.725 91.2465 847.725 Q94.8808 847.725 96.6863 844.184 Q98.515 840.619 98.515 833.513 Q98.515 826.383 96.6863 822.841 Q94.8808 819.277 91.2465 819.277 M91.2465 815.573 Q97.0567 815.573 100.112 820.179 Q103.191 824.763 103.191 833.513 Q103.191 842.239 100.112 846.846 Q97.0567 851.429 91.2465 851.429 Q85.4364 851.429 82.3577 846.846 Q79.3022 842.239 79.3022 833.513 Q79.3022 824.763 82.3577 820.179 Q85.4364 815.573 91.2465 815.573 Z\" fill=\"#000000\" fill-rule=\"evenodd\" fill-opacity=\"1\" /><path clip-path=\"url(#clip690)\" d=\"M 0 0 M118.26 819.277 Q114.649 819.277 112.82 822.841 Q111.015 826.383 111.015 833.513 Q111.015 840.619 112.82 844.184 Q114.649 847.725 118.26 847.725 Q121.895 847.725 123.7 844.184 Q125.529 840.619 125.529 833.513 Q125.529 826.383 123.7 822.841 Q121.895 819.277 118.26 819.277 M118.26 815.573 Q124.07 815.573 127.126 820.179 Q130.205 824.763 130.205 833.513 Q130.205 842.239 127.126 846.846 Q124.07 851.429 118.26 851.429 Q112.45 851.429 109.371 846.846 Q106.316 842.239 106.316 833.513 Q106.316 824.763 109.371 820.179 Q112.45 815.573 118.26 815.573 Z\" fill=\"#000000\" fill-rule=\"evenodd\" fill-opacity=\"1\" /><path clip-path=\"url(#clip690)\" d=\"M 0 0 M145.274 819.277 Q141.663 819.277 139.834 822.841 Q138.029 826.383 138.029 833.513 Q138.029 840.619 139.834 844.184 Q141.663 847.725 145.274 847.725 Q148.908 847.725 150.714 844.184 Q152.543 840.619 152.543 833.513 Q152.543 826.383 150.714 822.841 Q148.908 819.277 145.274 819.277 M145.274 815.573 Q151.084 815.573 154.14 820.179 Q157.218 824.763 157.218 833.513 Q157.218 842.239 154.14 846.846 Q151.084 851.429 145.274 851.429 Q139.464 851.429 136.385 846.846 Q133.33 842.239 133.33 833.513 Q133.33 824.763 136.385 820.179 Q139.464 815.573 145.274 815.573 Z\" fill=\"#000000\" fill-rule=\"evenodd\" fill-opacity=\"1\" /><path clip-path=\"url(#clip690)\" d=\"M 0 0 M66.5939 616.193 L54.7884 634.642 L66.5939 634.642 L66.5939 616.193 M65.367 612.119 L71.2466 612.119 L71.2466 634.642 L76.1772 634.642 L76.1772 638.53 L71.2466 638.53 L71.2466 646.679 L66.5939 646.679 L66.5939 638.53 L50.9921 638.53 L50.9921 634.017 L65.367 612.119 Z\" fill=\"#000000\" fill-rule=\"evenodd\" fill-opacity=\"1\" /><path clip-path=\"url(#clip690)\" d=\"M 0 0 M91.2465 615.197 Q87.6354 615.197 85.8068 618.762 Q84.0012 622.304 84.0012 629.433 Q84.0012 636.54 85.8068 640.105 Q87.6354 643.646 91.2465 643.646 Q94.8808 643.646 96.6863 640.105 Q98.515 636.54 98.515 629.433 Q98.515 622.304 96.6863 618.762 Q94.8808 615.197 91.2465 615.197 M91.2465 611.494 Q97.0567 611.494 100.112 616.1 Q103.191 620.683 103.191 629.433 Q103.191 638.16 100.112 642.767 Q97.0567 647.35 91.2465 647.35 Q85.4364 647.35 82.3577 642.767 Q79.3022 638.16 79.3022 629.433 Q79.3022 620.683 82.3577 616.1 Q85.4364 611.494 91.2465 611.494 Z\" fill=\"#000000\" fill-rule=\"evenodd\" fill-opacity=\"1\" /><path clip-path=\"url(#clip690)\" d=\"M 0 0 M118.26 615.197 Q114.649 615.197 112.82 618.762 Q111.015 622.304 111.015 629.433 Q111.015 636.54 112.82 640.105 Q114.649 643.646 118.26 643.646 Q121.895 643.646 123.7 640.105 Q125.529 636.54 125.529 629.433 Q125.529 622.304 123.7 618.762 Q121.895 615.197 118.26 615.197 M118.26 611.494 Q124.07 611.494 127.126 616.1 Q130.205 620.683 130.205 629.433 Q130.205 638.16 127.126 642.767 Q124.07 647.35 118.26 647.35 Q112.45 647.35 109.371 642.767 Q106.316 638.16 106.316 629.433 Q106.316 620.683 109.371 616.1 Q112.45 611.494 118.26 611.494 Z\" fill=\"#000000\" fill-rule=\"evenodd\" fill-opacity=\"1\" /><path clip-path=\"url(#clip690)\" d=\"M 0 0 M145.274 615.197 Q141.663 615.197 139.834 618.762 Q138.029 622.304 138.029 629.433 Q138.029 636.54 139.834 640.105 Q141.663 643.646 145.274 643.646 Q148.908 643.646 150.714 640.105 Q152.543 636.54 152.543 629.433 Q152.543 622.304 150.714 618.762 Q148.908 615.197 145.274 615.197 M145.274 611.494 Q151.084 611.494 154.14 616.1 Q157.218 620.683 157.218 629.433 Q157.218 638.16 154.14 642.767 Q151.084 647.35 145.274 647.35 Q139.464 647.35 136.385 642.767 Q133.33 638.16 133.33 629.433 Q133.33 620.683 136.385 616.1 Q139.464 611.494 145.274 611.494 Z\" fill=\"#000000\" fill-rule=\"evenodd\" fill-opacity=\"1\" /><path clip-path=\"url(#clip690)\" d=\"M 0 0 M55.2745 408.039 L73.6309 408.039 L73.6309 411.974 L59.5569 411.974 L59.5569 420.447 Q60.5754 420.099 61.5939 419.937 Q62.6124 419.752 63.6309 419.752 Q69.418 419.752 72.7976 422.923 Q76.1772 426.095 76.1772 431.511 Q76.1772 437.09 72.705 440.192 Q69.2328 443.271 62.9134 443.271 Q60.7374 443.271 58.4689 442.9 Q56.2236 442.53 53.8162 441.789 L53.8162 437.09 Q55.8995 438.224 58.1217 438.78 Q60.3439 439.335 62.8208 439.335 Q66.8254 439.335 69.1633 437.229 Q71.5013 435.123 71.5013 431.511 Q71.5013 427.9 69.1633 425.794 Q66.8254 423.687 62.8208 423.687 Q60.9458 423.687 59.0708 424.104 Q57.2189 424.521 55.2745 425.4 L55.2745 408.039 Z\" fill=\"#000000\" fill-rule=\"evenodd\" fill-opacity=\"1\" /><path clip-path=\"url(#clip690)\" d=\"M 0 0 M91.2465 411.118 Q87.6354 411.118 85.8068 414.683 Q84.0012 418.224 84.0012 425.354 Q84.0012 432.46 85.8068 436.025 Q87.6354 439.567 91.2465 439.567 Q94.8808 439.567 96.6863 436.025 Q98.515 432.46 98.515 425.354 Q98.515 418.224 96.6863 414.683 Q94.8808 411.118 91.2465 411.118 M91.2465 407.414 Q97.0567 407.414 100.112 412.021 Q103.191 416.604 103.191 425.354 Q103.191 434.081 100.112 438.687 Q97.0567 443.271 91.2465 443.271 Q85.4364 443.271 82.3577 438.687 Q79.3022 434.081 79.3022 425.354 Q79.3022 416.604 82.3577 412.021 Q85.4364 407.414 91.2465 407.414 Z\" fill=\"#000000\" fill-rule=\"evenodd\" fill-opacity=\"1\" /><path clip-path=\"url(#clip690)\" d=\"M 0 0 M118.26 411.118 Q114.649 411.118 112.82 414.683 Q111.015 418.224 111.015 425.354 Q111.015 432.46 112.82 436.025 Q114.649 439.567 118.26 439.567 Q121.895 439.567 123.7 436.025 Q125.529 432.46 125.529 425.354 Q125.529 418.224 123.7 414.683 Q121.895 411.118 118.26 411.118 M118.26 407.414 Q124.07 407.414 127.126 412.021 Q130.205 416.604 130.205 425.354 Q130.205 434.081 127.126 438.687 Q124.07 443.271 118.26 443.271 Q112.45 443.271 109.371 438.687 Q106.316 434.081 106.316 425.354 Q106.316 416.604 109.371 412.021 Q112.45 407.414 118.26 407.414 Z\" fill=\"#000000\" fill-rule=\"evenodd\" fill-opacity=\"1\" /><path clip-path=\"url(#clip690)\" d=\"M 0 0 M145.274 411.118 Q141.663 411.118 139.834 414.683 Q138.029 418.224 138.029 425.354 Q138.029 432.46 139.834 436.025 Q141.663 439.567 145.274 439.567 Q148.908 439.567 150.714 436.025 Q152.543 432.46 152.543 425.354 Q152.543 418.224 150.714 414.683 Q148.908 411.118 145.274 411.118 M145.274 407.414 Q151.084 407.414 154.14 412.021 Q157.218 416.604 157.218 425.354 Q157.218 434.081 154.14 438.687 Q151.084 443.271 145.274 443.271 Q139.464 443.271 136.385 438.687 Q133.33 434.081 133.33 425.354 Q133.33 416.604 136.385 412.021 Q139.464 407.414 145.274 407.414 Z\" fill=\"#000000\" fill-rule=\"evenodd\" fill-opacity=\"1\" /><path clip-path=\"url(#clip690)\" d=\"M 0 0 M64.6495 219.377 Q61.5013 219.377 59.6495 221.529 Q57.8208 223.682 57.8208 227.432 Q57.8208 231.159 59.6495 233.335 Q61.5013 235.488 64.6495 235.488 Q67.7976 235.488 69.6263 233.335 Q71.4781 231.159 71.4781 227.432 Q71.4781 223.682 69.6263 221.529 Q67.7976 219.377 64.6495 219.377 M73.9318 204.724 L73.9318 208.983 Q72.1726 208.15 70.367 207.71 Q68.5846 207.27 66.8254 207.27 Q62.1958 207.27 59.7421 210.395 Q57.3115 213.52 56.9643 219.84 Q58.33 217.826 60.3902 216.761 Q62.4504 215.673 64.9272 215.673 Q70.1355 215.673 73.1448 218.844 Q76.1772 221.992 76.1772 227.432 Q76.1772 232.756 73.029 235.974 Q69.8809 239.191 64.6495 239.191 Q58.6541 239.191 55.4828 234.608 Q52.3116 230.002 52.3116 221.275 Q52.3116 213.08 56.2004 208.219 Q60.0893 203.335 66.6402 203.335 Q68.3994 203.335 70.1818 203.682 Q71.9874 204.029 73.9318 204.724 Z\" fill=\"#000000\" fill-rule=\"evenodd\" fill-opacity=\"1\" /><path clip-path=\"url(#clip690)\" d=\"M 0 0 M91.2465 207.039 Q87.6354 207.039 85.8068 210.604 Q84.0012 214.145 84.0012 221.275 Q84.0012 228.381 85.8068 231.946 Q87.6354 235.488 91.2465 235.488 Q94.8808 235.488 96.6863 231.946 Q98.515 228.381 98.515 221.275 Q98.515 214.145 96.6863 210.604 Q94.8808 207.039 91.2465 207.039 M91.2465 203.335 Q97.0567 203.335 100.112 207.942 Q103.191 212.525 103.191 221.275 Q103.191 230.002 100.112 234.608 Q97.0567 239.191 91.2465 239.191 Q85.4364 239.191 82.3577 234.608 Q79.3022 230.002 79.3022 221.275 Q79.3022 212.525 82.3577 207.942 Q85.4364 203.335 91.2465 203.335 Z\" fill=\"#000000\" fill-rule=\"evenodd\" fill-opacity=\"1\" /><path clip-path=\"url(#clip690)\" d=\"M 0 0 M118.26 207.039 Q114.649 207.039 112.82 210.604 Q111.015 214.145 111.015 221.275 Q111.015 228.381 112.82 231.946 Q114.649 235.488 118.26 235.488 Q121.895 235.488 123.7 231.946 Q125.529 228.381 125.529 221.275 Q125.529 214.145 123.7 210.604 Q121.895 207.039 118.26 207.039 M118.26 203.335 Q124.07 203.335 127.126 207.942 Q130.205 212.525 130.205 221.275 Q130.205 230.002 127.126 234.608 Q124.07 239.191 118.26 239.191 Q112.45 239.191 109.371 234.608 Q106.316 230.002 106.316 221.275 Q106.316 212.525 109.371 207.942 Q112.45 203.335 118.26 203.335 Z\" fill=\"#000000\" fill-rule=\"evenodd\" fill-opacity=\"1\" /><path clip-path=\"url(#clip690)\" d=\"M 0 0 M145.274 207.039 Q141.663 207.039 139.834 210.604 Q138.029 214.145 138.029 221.275 Q138.029 228.381 139.834 231.946 Q141.663 235.488 145.274 235.488 Q148.908 235.488 150.714 231.946 Q152.543 228.381 152.543 221.275 Q152.543 214.145 150.714 210.604 Q148.908 207.039 145.274 207.039 M145.274 203.335 Q151.084 203.335 154.14 207.942 Q157.218 212.525 157.218 221.275 Q157.218 230.002 154.14 234.608 Q151.084 239.191 145.274 239.191 Q139.464 239.191 136.385 234.608 Q133.33 230.002 133.33 221.275 Q133.33 212.525 136.385 207.942 Q139.464 203.335 145.274 203.335 Z\" fill=\"#000000\" fill-rule=\"evenodd\" fill-opacity=\"1\" /><path clip-path=\"url(#clip692)\" d=\"\n",
       "M311.997 762.662 L311.997 1445.72 L486.722 1445.72 L486.722 762.662 L311.997 762.662 L311.997 762.662  Z\n",
       "  \" fill=\"#009af9\" fill-rule=\"evenodd\" fill-opacity=\"1\"/>\n",
       "<polyline clip-path=\"url(#clip692)\" style=\"stroke:#000000; stroke-width:4; stroke-opacity:1; fill:none\" points=\"\n",
       "  311.997,762.662 311.997,1445.72 486.722,1445.72 486.722,762.662 311.997,762.662 \n",
       "  \"/>\n",
       "<path clip-path=\"url(#clip692)\" d=\"\n",
       "M486.722 1445.72 L486.722 1445.72 L661.448 1445.72 L661.448 1445.72 L486.722 1445.72 L486.722 1445.72  Z\n",
       "  \" fill=\"#009af9\" fill-rule=\"evenodd\" fill-opacity=\"1\"/>\n",
       "<polyline clip-path=\"url(#clip692)\" style=\"stroke:#000000; stroke-width:4; stroke-opacity:1; fill:none\" points=\"\n",
       "  486.722,1445.72 486.722,1445.72 661.448,1445.72 486.722,1445.72 \n",
       "  \"/>\n",
       "<path clip-path=\"url(#clip692)\" d=\"\n",
       "M661.448 1445.72 L661.448 1445.72 L836.173 1445.72 L836.173 1445.72 L661.448 1445.72 L661.448 1445.72  Z\n",
       "  \" fill=\"#009af9\" fill-rule=\"evenodd\" fill-opacity=\"1\"/>\n",
       "<polyline clip-path=\"url(#clip692)\" style=\"stroke:#000000; stroke-width:4; stroke-opacity:1; fill:none\" points=\"\n",
       "  661.448,1445.72 661.448,1445.72 836.173,1445.72 661.448,1445.72 \n",
       "  \"/>\n",
       "<path clip-path=\"url(#clip692)\" d=\"\n",
       "M836.173 1445.72 L836.173 1445.72 L1010.9 1445.72 L1010.9 1445.72 L836.173 1445.72 L836.173 1445.72  Z\n",
       "  \" fill=\"#009af9\" fill-rule=\"evenodd\" fill-opacity=\"1\"/>\n",
       "<polyline clip-path=\"url(#clip692)\" style=\"stroke:#000000; stroke-width:4; stroke-opacity:1; fill:none\" points=\"\n",
       "  836.173,1445.72 836.173,1445.72 1010.9,1445.72 836.173,1445.72 \n",
       "  \"/>\n",
       "<path clip-path=\"url(#clip692)\" d=\"\n",
       "M1010.9 1445.72 L1010.9 1445.72 L1185.62 1445.72 L1185.62 1445.72 L1010.9 1445.72 L1010.9 1445.72  Z\n",
       "  \" fill=\"#009af9\" fill-rule=\"evenodd\" fill-opacity=\"1\"/>\n",
       "<polyline clip-path=\"url(#clip692)\" style=\"stroke:#000000; stroke-width:4; stroke-opacity:1; fill:none\" points=\"\n",
       "  1010.9,1445.72 1010.9,1445.72 1185.62,1445.72 1010.9,1445.72 \n",
       "  \"/>\n",
       "<path clip-path=\"url(#clip692)\" d=\"\n",
       "M1185.62 1445.72 L1185.62 1445.72 L1360.35 1445.72 L1360.35 1445.72 L1185.62 1445.72 L1185.62 1445.72  Z\n",
       "  \" fill=\"#009af9\" fill-rule=\"evenodd\" fill-opacity=\"1\"/>\n",
       "<polyline clip-path=\"url(#clip692)\" style=\"stroke:#000000; stroke-width:4; stroke-opacity:1; fill:none\" points=\"\n",
       "  1185.62,1445.72 1185.62,1445.72 1360.35,1445.72 1185.62,1445.72 \n",
       "  \"/>\n",
       "<path clip-path=\"url(#clip692)\" d=\"\n",
       "M1360.35 1445.72 L1360.35 1445.72 L1535.08 1445.72 L1535.08 1445.72 L1360.35 1445.72 L1360.35 1445.72  Z\n",
       "  \" fill=\"#009af9\" fill-rule=\"evenodd\" fill-opacity=\"1\"/>\n",
       "<polyline clip-path=\"url(#clip692)\" style=\"stroke:#000000; stroke-width:4; stroke-opacity:1; fill:none\" points=\"\n",
       "  1360.35,1445.72 1360.35,1445.72 1535.08,1445.72 1360.35,1445.72 \n",
       "  \"/>\n",
       "<path clip-path=\"url(#clip692)\" d=\"\n",
       "M1535.08 1445.72 L1535.08 1445.72 L1709.8 1445.72 L1709.8 1445.72 L1535.08 1445.72 L1535.08 1445.72  Z\n",
       "  \" fill=\"#009af9\" fill-rule=\"evenodd\" fill-opacity=\"1\"/>\n",
       "<polyline clip-path=\"url(#clip692)\" style=\"stroke:#000000; stroke-width:4; stroke-opacity:1; fill:none\" points=\"\n",
       "  1535.08,1445.72 1535.08,1445.72 1709.8,1445.72 1535.08,1445.72 \n",
       "  \"/>\n",
       "<path clip-path=\"url(#clip692)\" d=\"\n",
       "M1709.8 1445.72 L1709.8 1445.72 L1884.53 1445.72 L1884.53 1445.72 L1709.8 1445.72 L1709.8 1445.72  Z\n",
       "  \" fill=\"#009af9\" fill-rule=\"evenodd\" fill-opacity=\"1\"/>\n",
       "<polyline clip-path=\"url(#clip692)\" style=\"stroke:#000000; stroke-width:4; stroke-opacity:1; fill:none\" points=\"\n",
       "  1709.8,1445.72 1709.8,1445.72 1884.53,1445.72 1709.8,1445.72 \n",
       "  \"/>\n",
       "<path clip-path=\"url(#clip692)\" d=\"\n",
       "M1884.53 1445.72 L1884.53 1445.72 L2059.25 1445.72 L2059.25 1445.72 L1884.53 1445.72 L1884.53 1445.72  Z\n",
       "  \" fill=\"#009af9\" fill-rule=\"evenodd\" fill-opacity=\"1\"/>\n",
       "<polyline clip-path=\"url(#clip692)\" style=\"stroke:#000000; stroke-width:4; stroke-opacity:1; fill:none\" points=\"\n",
       "  1884.53,1445.72 1884.53,1445.72 2059.25,1445.72 1884.53,1445.72 \n",
       "  \"/>\n",
       "<path clip-path=\"url(#clip692)\" d=\"\n",
       "M2059.25 87.9763 L2059.25 1445.72 L2233.98 1445.72 L2233.98 87.9763 L2059.25 87.9763 L2059.25 87.9763  Z\n",
       "  \" fill=\"#009af9\" fill-rule=\"evenodd\" fill-opacity=\"1\"/>\n",
       "<polyline clip-path=\"url(#clip692)\" style=\"stroke:#000000; stroke-width:4; stroke-opacity:1; fill:none\" points=\"\n",
       "  2059.25,87.9763 2059.25,1445.72 2233.98,1445.72 2233.98,87.9763 2059.25,87.9763 \n",
       "  \"/>\n",
       "<path clip-path=\"url(#clip690)\" d=\"\n",
       "M1989.8 216.178 L2280.77 216.178 L2280.77 95.2176 L1989.8 95.2176  Z\n",
       "  \" fill=\"#ffffff\" fill-rule=\"evenodd\" fill-opacity=\"1\"/>\n",
       "<polyline clip-path=\"url(#clip690)\" style=\"stroke:#000000; stroke-width:4; stroke-opacity:1; fill:none\" points=\"\n",
       "  1989.8,216.178 2280.77,216.178 2280.77,95.2176 1989.8,95.2176 1989.8,216.178 \n",
       "  \"/>\n",
       "<path clip-path=\"url(#clip690)\" d=\"\n",
       "M2013.8 179.89 L2157.77 179.89 L2157.77 131.506 L2013.8 131.506 L2013.8 179.89  Z\n",
       "  \" fill=\"#009af9\" fill-rule=\"evenodd\" fill-opacity=\"1\"/>\n",
       "<polyline clip-path=\"url(#clip690)\" style=\"stroke:#000000; stroke-width:4; stroke-opacity:1; fill:none\" points=\"\n",
       "  2013.8,179.89 2157.77,179.89 2157.77,131.506 2013.8,131.506 2013.8,179.89 \n",
       "  \"/>\n",
       "<path clip-path=\"url(#clip690)\" d=\"M 0 0 M2195.61 175.385 Q2193.8 180.015 2192.09 181.427 Q2190.37 182.839 2187.5 182.839 L2184.1 182.839 L2184.1 179.274 L2186.6 179.274 Q2188.36 179.274 2189.33 178.44 Q2190.3 177.607 2191.49 174.505 L2192.25 172.561 L2181.76 147.052 L2186.28 147.052 L2194.38 167.329 L2202.48 147.052 L2206.99 147.052 L2195.61 175.385 Z\" fill=\"#000000\" fill-rule=\"evenodd\" fill-opacity=\"1\" /><path clip-path=\"url(#clip690)\" d=\"M 0 0 M2212.87 169.042 L2220.51 169.042 L2220.51 142.677 L2212.2 144.343 L2212.2 140.084 L2220.47 138.418 L2225.14 138.418 L2225.14 169.042 L2232.78 169.042 L2232.78 172.978 L2212.87 172.978 L2212.87 169.042 Z\" fill=\"#000000\" fill-rule=\"evenodd\" fill-opacity=\"1\" /></svg>\n"
      ]
     },
     "execution_count": 457,
     "metadata": {},
     "output_type": "execute_result"
    }
   ],
   "source": [
    "m = agent(QUEEN, true)\n",
    "chains = sample(m, IS(), 10000 , n_chains=1, progress = true)\n",
    "histogram(generated_quantities(m, chains))"
   ]
  },
  {
   "cell_type": "code",
   "execution_count": 458,
   "metadata": {},
   "outputs": [
    {
     "name": "stderr",
     "output_type": "stream",
     "text": [
      "\u001b[32mSampling: 100%|█████████████████████████████████████████| Time: 0:00:00\u001b[39m\n"
     ]
    },
    {
     "data": {
      "image/svg+xml": [
       "<?xml version=\"1.0\" encoding=\"utf-8\"?>\n",
       "<svg xmlns=\"http://www.w3.org/2000/svg\" xmlns:xlink=\"http://www.w3.org/1999/xlink\" width=\"600\" height=\"400\" viewBox=\"0 0 2400 1600\">\n",
       "<defs>\n",
       "  <clipPath id=\"clip730\">\n",
       "    <rect x=\"0\" y=\"0\" width=\"2400\" height=\"1600\"/>\n",
       "  </clipPath>\n",
       "</defs>\n",
       "<path clip-path=\"url(#clip730)\" d=\"\n",
       "M0 1600 L2400 1600 L2400 0 L0 0  Z\n",
       "  \" fill=\"#ffffff\" fill-rule=\"evenodd\" fill-opacity=\"1\"/>\n",
       "<defs>\n",
       "  <clipPath id=\"clip731\">\n",
       "    <rect x=\"480\" y=\"0\" width=\"1681\" height=\"1600\"/>\n",
       "  </clipPath>\n",
       "</defs>\n",
       "<path clip-path=\"url(#clip730)\" d=\"\n",
       "M188.612 1486.45 L2352.76 1486.45 L2352.76 47.2441 L188.612 47.2441  Z\n",
       "  \" fill=\"#ffffff\" fill-rule=\"evenodd\" fill-opacity=\"1\"/>\n",
       "<defs>\n",
       "  <clipPath id=\"clip732\">\n",
       "    <rect x=\"188\" y=\"47\" width=\"2165\" height=\"1440\"/>\n",
       "  </clipPath>\n",
       "</defs>\n",
       "<polyline clip-path=\"url(#clip732)\" style=\"stroke:#000000; stroke-width:2; stroke-opacity:0.1; fill:none\" points=\"\n",
       "  307.644,1486.45 307.644,47.2441 \n",
       "  \"/>\n",
       "<polyline clip-path=\"url(#clip732)\" style=\"stroke:#000000; stroke-width:2; stroke-opacity:0.1; fill:none\" points=\"\n",
       "  692.86,1486.45 692.86,47.2441 \n",
       "  \"/>\n",
       "<polyline clip-path=\"url(#clip732)\" style=\"stroke:#000000; stroke-width:2; stroke-opacity:0.1; fill:none\" points=\"\n",
       "  1078.08,1486.45 1078.08,47.2441 \n",
       "  \"/>\n",
       "<polyline clip-path=\"url(#clip732)\" style=\"stroke:#000000; stroke-width:2; stroke-opacity:0.1; fill:none\" points=\"\n",
       "  1463.29,1486.45 1463.29,47.2441 \n",
       "  \"/>\n",
       "<polyline clip-path=\"url(#clip732)\" style=\"stroke:#000000; stroke-width:2; stroke-opacity:0.1; fill:none\" points=\"\n",
       "  1848.51,1486.45 1848.51,47.2441 \n",
       "  \"/>\n",
       "<polyline clip-path=\"url(#clip732)\" style=\"stroke:#000000; stroke-width:2; stroke-opacity:0.1; fill:none\" points=\"\n",
       "  2233.72,1486.45 2233.72,47.2441 \n",
       "  \"/>\n",
       "<polyline clip-path=\"url(#clip730)\" style=\"stroke:#000000; stroke-width:4; stroke-opacity:1; fill:none\" points=\"\n",
       "  188.612,1486.45 2352.76,1486.45 \n",
       "  \"/>\n",
       "<polyline clip-path=\"url(#clip730)\" style=\"stroke:#000000; stroke-width:4; stroke-opacity:1; fill:none\" points=\"\n",
       "  307.644,1486.45 307.644,1469.18 \n",
       "  \"/>\n",
       "<polyline clip-path=\"url(#clip730)\" style=\"stroke:#000000; stroke-width:4; stroke-opacity:1; fill:none\" points=\"\n",
       "  692.86,1486.45 692.86,1469.18 \n",
       "  \"/>\n",
       "<polyline clip-path=\"url(#clip730)\" style=\"stroke:#000000; stroke-width:4; stroke-opacity:1; fill:none\" points=\"\n",
       "  1078.08,1486.45 1078.08,1469.18 \n",
       "  \"/>\n",
       "<polyline clip-path=\"url(#clip730)\" style=\"stroke:#000000; stroke-width:4; stroke-opacity:1; fill:none\" points=\"\n",
       "  1463.29,1486.45 1463.29,1469.18 \n",
       "  \"/>\n",
       "<polyline clip-path=\"url(#clip730)\" style=\"stroke:#000000; stroke-width:4; stroke-opacity:1; fill:none\" points=\"\n",
       "  1848.51,1486.45 1848.51,1469.18 \n",
       "  \"/>\n",
       "<polyline clip-path=\"url(#clip730)\" style=\"stroke:#000000; stroke-width:4; stroke-opacity:1; fill:none\" points=\"\n",
       "  2233.72,1486.45 2233.72,1469.18 \n",
       "  \"/>\n",
       "<path clip-path=\"url(#clip730)\" d=\"M 0 0 M279.542 1543.18 L287.181 1543.18 L287.181 1516.82 L278.871 1518.49 L278.871 1514.23 L287.135 1512.56 L291.81 1512.56 L291.81 1543.18 L299.449 1543.18 L299.449 1547.12 L279.542 1547.12 L279.542 1543.18 Z\" fill=\"#000000\" fill-rule=\"evenodd\" fill-opacity=\"1\" /><path clip-path=\"url(#clip730)\" d=\"M 0 0 M304.519 1541.24 L309.403 1541.24 L309.403 1547.12 L304.519 1547.12 L304.519 1541.24 Z\" fill=\"#000000\" fill-rule=\"evenodd\" fill-opacity=\"1\" /><path clip-path=\"url(#clip730)\" d=\"M 0 0 M324.472 1515.64 Q320.861 1515.64 319.033 1519.2 Q317.227 1522.75 317.227 1529.87 Q317.227 1536.98 319.033 1540.55 Q320.861 1544.09 324.472 1544.09 Q328.107 1544.09 329.912 1540.55 Q331.741 1536.98 331.741 1529.87 Q331.741 1522.75 329.912 1519.2 Q328.107 1515.64 324.472 1515.64 M324.472 1511.93 Q330.282 1511.93 333.338 1516.54 Q336.417 1521.12 336.417 1529.87 Q336.417 1538.6 333.338 1543.21 Q330.282 1547.79 324.472 1547.79 Q318.662 1547.79 315.583 1543.21 Q312.528 1538.6 312.528 1529.87 Q312.528 1521.12 315.583 1516.54 Q318.662 1511.93 324.472 1511.93 Z\" fill=\"#000000\" fill-rule=\"evenodd\" fill-opacity=\"1\" /><path clip-path=\"url(#clip730)\" d=\"M 0 0 M665.557 1543.18 L673.196 1543.18 L673.196 1516.82 L664.885 1518.49 L664.885 1514.23 L673.149 1512.56 L677.825 1512.56 L677.825 1543.18 L685.464 1543.18 L685.464 1547.12 L665.557 1547.12 L665.557 1543.18 Z\" fill=\"#000000\" fill-rule=\"evenodd\" fill-opacity=\"1\" /><path clip-path=\"url(#clip730)\" d=\"M 0 0 M690.533 1541.24 L695.418 1541.24 L695.418 1547.12 L690.533 1547.12 L690.533 1541.24 Z\" fill=\"#000000\" fill-rule=\"evenodd\" fill-opacity=\"1\" /><path clip-path=\"url(#clip730)\" d=\"M 0 0 M704.515 1543.18 L720.834 1543.18 L720.834 1547.12 L698.89 1547.12 L698.89 1543.18 Q701.552 1540.43 706.135 1535.8 Q710.742 1531.15 711.922 1529.81 Q714.168 1527.28 715.047 1525.55 Q715.95 1523.79 715.95 1522.1 Q715.95 1519.34 714.006 1517.61 Q712.084 1515.87 708.982 1515.87 Q706.783 1515.87 704.33 1516.63 Q701.899 1517.4 699.121 1518.95 L699.121 1514.23 Q701.945 1513.09 704.399 1512.51 Q706.853 1511.93 708.89 1511.93 Q714.26 1511.93 717.455 1514.62 Q720.649 1517.31 720.649 1521.8 Q720.649 1523.93 719.839 1525.85 Q719.052 1527.74 716.945 1530.34 Q716.367 1531.01 713.265 1534.23 Q710.163 1537.42 704.515 1543.18 Z\" fill=\"#000000\" fill-rule=\"evenodd\" fill-opacity=\"1\" /><path clip-path=\"url(#clip730)\" d=\"M 0 0 M1049.73 1543.18 L1057.37 1543.18 L1057.37 1516.82 L1049.06 1518.49 L1049.06 1514.23 L1057.32 1512.56 L1062 1512.56 L1062 1543.18 L1069.64 1543.18 L1069.64 1547.12 L1049.73 1547.12 L1049.73 1543.18 Z\" fill=\"#000000\" fill-rule=\"evenodd\" fill-opacity=\"1\" /><path clip-path=\"url(#clip730)\" d=\"M 0 0 M1074.71 1541.24 L1079.59 1541.24 L1079.59 1547.12 L1074.71 1547.12 L1074.71 1541.24 Z\" fill=\"#000000\" fill-rule=\"evenodd\" fill-opacity=\"1\" /><path clip-path=\"url(#clip730)\" d=\"M 0 0 M1097.51 1516.63 L1085.7 1535.08 L1097.51 1535.08 L1097.51 1516.63 M1096.28 1512.56 L1102.16 1512.56 L1102.16 1535.08 L1107.09 1535.08 L1107.09 1538.97 L1102.16 1538.97 L1102.16 1547.12 L1097.51 1547.12 L1097.51 1538.97 L1081.91 1538.97 L1081.91 1534.46 L1096.28 1512.56 Z\" fill=\"#000000\" fill-rule=\"evenodd\" fill-opacity=\"1\" /><path clip-path=\"url(#clip730)\" d=\"M 0 0 M1435.11 1543.18 L1442.75 1543.18 L1442.75 1516.82 L1434.44 1518.49 L1434.44 1514.23 L1442.7 1512.56 L1447.38 1512.56 L1447.38 1543.18 L1455.02 1543.18 L1455.02 1547.12 L1435.11 1547.12 L1435.11 1543.18 Z\" fill=\"#000000\" fill-rule=\"evenodd\" fill-opacity=\"1\" /><path clip-path=\"url(#clip730)\" d=\"M 0 0 M1460.09 1541.24 L1464.97 1541.24 L1464.97 1547.12 L1460.09 1547.12 L1460.09 1541.24 Z\" fill=\"#000000\" fill-rule=\"evenodd\" fill-opacity=\"1\" /><path clip-path=\"url(#clip730)\" d=\"M 0 0 M1480.62 1527.98 Q1477.47 1527.98 1475.62 1530.13 Q1473.79 1532.28 1473.79 1536.03 Q1473.79 1539.76 1475.62 1541.93 Q1477.47 1544.09 1480.62 1544.09 Q1483.77 1544.09 1485.6 1541.93 Q1487.45 1539.76 1487.45 1536.03 Q1487.45 1532.28 1485.6 1530.13 Q1483.77 1527.98 1480.62 1527.98 M1489.9 1513.32 L1489.9 1517.58 Q1488.14 1516.75 1486.34 1516.31 Q1484.55 1515.87 1482.79 1515.87 Q1478.16 1515.87 1475.71 1519 Q1473.28 1522.12 1472.93 1528.44 Q1474.3 1526.43 1476.36 1525.36 Q1478.42 1524.27 1480.9 1524.27 Q1486.1 1524.27 1489.11 1527.44 Q1492.15 1530.59 1492.15 1536.03 Q1492.15 1541.36 1489 1544.57 Q1485.85 1547.79 1480.62 1547.79 Q1474.62 1547.79 1471.45 1543.21 Q1468.28 1538.6 1468.28 1529.87 Q1468.28 1521.68 1472.17 1516.82 Q1476.06 1511.93 1482.61 1511.93 Q1484.37 1511.93 1486.15 1512.28 Q1487.96 1512.63 1489.9 1513.32 Z\" fill=\"#000000\" fill-rule=\"evenodd\" fill-opacity=\"1\" /><path clip-path=\"url(#clip730)\" d=\"M 0 0 M1820.45 1543.18 L1828.09 1543.18 L1828.09 1516.82 L1819.78 1518.49 L1819.78 1514.23 L1828.05 1512.56 L1832.72 1512.56 L1832.72 1543.18 L1840.36 1543.18 L1840.36 1547.12 L1820.45 1547.12 L1820.45 1543.18 Z\" fill=\"#000000\" fill-rule=\"evenodd\" fill-opacity=\"1\" /><path clip-path=\"url(#clip730)\" d=\"M 0 0 M1845.43 1541.24 L1850.31 1541.24 L1850.31 1547.12 L1845.43 1547.12 L1845.43 1541.24 Z\" fill=\"#000000\" fill-rule=\"evenodd\" fill-opacity=\"1\" /><path clip-path=\"url(#clip730)\" d=\"M 0 0 M1865.38 1530.71 Q1862.05 1530.71 1860.13 1532.49 Q1858.23 1534.27 1858.23 1537.4 Q1858.23 1540.52 1860.13 1542.31 Q1862.05 1544.09 1865.38 1544.09 Q1868.72 1544.09 1870.64 1542.31 Q1872.56 1540.5 1872.56 1537.4 Q1872.56 1534.27 1870.64 1532.49 Q1868.74 1530.71 1865.38 1530.71 M1860.71 1528.72 Q1857.7 1527.98 1856.01 1525.92 Q1854.34 1523.86 1854.34 1520.89 Q1854.34 1516.75 1857.28 1514.34 Q1860.24 1511.93 1865.38 1511.93 Q1870.54 1511.93 1873.48 1514.34 Q1876.42 1516.75 1876.42 1520.89 Q1876.42 1523.86 1874.73 1525.92 Q1873.07 1527.98 1870.08 1528.72 Q1873.46 1529.5 1875.34 1531.8 Q1877.23 1534.09 1877.23 1537.4 Q1877.23 1542.42 1874.16 1545.11 Q1871.1 1547.79 1865.38 1547.79 Q1859.67 1547.79 1856.59 1545.11 Q1853.53 1542.42 1853.53 1537.4 Q1853.53 1534.09 1855.43 1531.8 Q1857.33 1529.5 1860.71 1528.72 M1858.99 1521.33 Q1858.99 1524.02 1860.66 1525.52 Q1862.35 1527.03 1865.38 1527.03 Q1868.39 1527.03 1870.08 1525.52 Q1871.79 1524.02 1871.79 1521.33 Q1871.79 1518.65 1870.08 1517.14 Q1868.39 1515.64 1865.38 1515.64 Q1862.35 1515.64 1860.66 1517.14 Q1858.99 1518.65 1858.99 1521.33 Z\" fill=\"#000000\" fill-rule=\"evenodd\" fill-opacity=\"1\" /><path clip-path=\"url(#clip730)\" d=\"M 0 0 M2209.89 1543.18 L2226.21 1543.18 L2226.21 1547.12 L2204.27 1547.12 L2204.27 1543.18 Q2206.93 1540.43 2211.51 1535.8 Q2216.12 1531.15 2217.3 1529.81 Q2219.55 1527.28 2220.43 1525.55 Q2221.33 1523.79 2221.33 1522.1 Q2221.33 1519.34 2219.38 1517.61 Q2217.46 1515.87 2214.36 1515.87 Q2212.16 1515.87 2209.71 1516.63 Q2207.28 1517.4 2204.5 1518.95 L2204.5 1514.23 Q2207.32 1513.09 2209.78 1512.51 Q2212.23 1511.93 2214.27 1511.93 Q2219.64 1511.93 2222.83 1514.62 Q2226.03 1517.31 2226.03 1521.8 Q2226.03 1523.93 2225.22 1525.85 Q2224.43 1527.74 2222.32 1530.34 Q2221.75 1531.01 2218.64 1534.23 Q2215.54 1537.42 2209.89 1543.18 Z\" fill=\"#000000\" fill-rule=\"evenodd\" fill-opacity=\"1\" /><path clip-path=\"url(#clip730)\" d=\"M 0 0 M2231.28 1541.24 L2236.17 1541.24 L2236.17 1547.12 L2231.28 1547.12 L2231.28 1541.24 Z\" fill=\"#000000\" fill-rule=\"evenodd\" fill-opacity=\"1\" /><path clip-path=\"url(#clip730)\" d=\"M 0 0 M2251.24 1515.64 Q2247.62 1515.64 2245.8 1519.2 Q2243.99 1522.75 2243.99 1529.87 Q2243.99 1536.98 2245.8 1540.55 Q2247.62 1544.09 2251.24 1544.09 Q2254.87 1544.09 2256.68 1540.55 Q2258.5 1536.98 2258.5 1529.87 Q2258.5 1522.75 2256.68 1519.2 Q2254.87 1515.64 2251.24 1515.64 M2251.24 1511.93 Q2257.05 1511.93 2260.1 1516.54 Q2263.18 1521.12 2263.18 1529.87 Q2263.18 1538.6 2260.1 1543.21 Q2257.05 1547.79 2251.24 1547.79 Q2245.43 1547.79 2242.35 1543.21 Q2239.29 1538.6 2239.29 1529.87 Q2239.29 1521.12 2242.35 1516.54 Q2245.43 1511.93 2251.24 1511.93 Z\" fill=\"#000000\" fill-rule=\"evenodd\" fill-opacity=\"1\" /><polyline clip-path=\"url(#clip732)\" style=\"stroke:#000000; stroke-width:2; stroke-opacity:0.1; fill:none\" points=\"\n",
       "  188.612,1445.72 2352.76,1445.72 \n",
       "  \"/>\n",
       "<polyline clip-path=\"url(#clip732)\" style=\"stroke:#000000; stroke-width:2; stroke-opacity:0.1; fill:none\" points=\"\n",
       "  188.612,1106.28 2352.76,1106.28 \n",
       "  \"/>\n",
       "<polyline clip-path=\"url(#clip732)\" style=\"stroke:#000000; stroke-width:2; stroke-opacity:0.1; fill:none\" points=\"\n",
       "  188.612,766.846 2352.76,766.846 \n",
       "  \"/>\n",
       "<polyline clip-path=\"url(#clip732)\" style=\"stroke:#000000; stroke-width:2; stroke-opacity:0.1; fill:none\" points=\"\n",
       "  188.612,427.411 2352.76,427.411 \n",
       "  \"/>\n",
       "<polyline clip-path=\"url(#clip732)\" style=\"stroke:#000000; stroke-width:2; stroke-opacity:0.1; fill:none\" points=\"\n",
       "  188.612,87.9763 2352.76,87.9763 \n",
       "  \"/>\n",
       "<polyline clip-path=\"url(#clip730)\" style=\"stroke:#000000; stroke-width:4; stroke-opacity:1; fill:none\" points=\"\n",
       "  188.612,1486.45 188.612,47.2441 \n",
       "  \"/>\n",
       "<polyline clip-path=\"url(#clip730)\" style=\"stroke:#000000; stroke-width:4; stroke-opacity:1; fill:none\" points=\"\n",
       "  188.612,1445.72 214.582,1445.72 \n",
       "  \"/>\n",
       "<polyline clip-path=\"url(#clip730)\" style=\"stroke:#000000; stroke-width:4; stroke-opacity:1; fill:none\" points=\"\n",
       "  188.612,1106.28 214.582,1106.28 \n",
       "  \"/>\n",
       "<polyline clip-path=\"url(#clip730)\" style=\"stroke:#000000; stroke-width:4; stroke-opacity:1; fill:none\" points=\"\n",
       "  188.612,766.846 214.582,766.846 \n",
       "  \"/>\n",
       "<polyline clip-path=\"url(#clip730)\" style=\"stroke:#000000; stroke-width:4; stroke-opacity:1; fill:none\" points=\"\n",
       "  188.612,427.411 214.582,427.411 \n",
       "  \"/>\n",
       "<polyline clip-path=\"url(#clip730)\" style=\"stroke:#000000; stroke-width:4; stroke-opacity:1; fill:none\" points=\"\n",
       "  188.612,87.9763 214.582,87.9763 \n",
       "  \"/>\n",
       "<path clip-path=\"url(#clip730)\" d=\"M 0 0 M140.668 1431.51 Q137.056 1431.51 135.228 1435.08 Q133.422 1438.62 133.422 1445.75 Q133.422 1452.86 135.228 1456.42 Q137.056 1459.96 140.668 1459.96 Q144.302 1459.96 146.107 1456.42 Q147.936 1452.86 147.936 1445.75 Q147.936 1438.62 146.107 1435.08 Q144.302 1431.51 140.668 1431.51 M140.668 1427.81 Q146.478 1427.81 149.533 1432.42 Q152.612 1437 152.612 1445.75 Q152.612 1454.48 149.533 1459.08 Q146.478 1463.67 140.668 1463.67 Q134.857 1463.67 131.779 1459.08 Q128.723 1454.48 128.723 1445.75 Q128.723 1437 131.779 1432.42 Q134.857 1427.81 140.668 1427.81 Z\" fill=\"#000000\" fill-rule=\"evenodd\" fill-opacity=\"1\" /><path clip-path=\"url(#clip730)\" d=\"M 0 0 M83.2605 1119.63 L99.5798 1119.63 L99.5798 1123.56 L77.6355 1123.56 L77.6355 1119.63 Q80.2975 1116.87 84.8808 1112.24 Q89.4873 1107.59 90.6678 1106.25 Q92.9132 1103.72 93.7928 1101.99 Q94.6956 1100.23 94.6956 1098.54 Q94.6956 1095.78 92.7512 1094.05 Q90.8299 1092.31 87.728 1092.31 Q85.529 1092.31 83.0753 1093.07 Q80.6447 1093.84 77.867 1095.39 L77.867 1090.67 Q80.691 1089.53 83.1447 1088.95 Q85.5984 1088.38 87.6354 1088.38 Q93.0058 1088.38 96.2002 1091.06 Q99.3946 1093.75 99.3946 1098.24 Q99.3946 1100.37 98.5845 1102.29 Q97.7974 1104.19 95.691 1106.78 Q95.1123 1107.45 92.0104 1110.67 Q88.9086 1113.86 83.2605 1119.63 Z\" fill=\"#000000\" fill-rule=\"evenodd\" fill-opacity=\"1\" /><path clip-path=\"url(#clip730)\" d=\"M 0 0 M104.696 1089 L123.052 1089 L123.052 1092.94 L108.978 1092.94 L108.978 1101.41 Q109.996 1101.06 111.015 1100.9 Q112.033 1100.71 113.052 1100.71 Q118.839 1100.71 122.219 1103.89 Q125.598 1107.06 125.598 1112.47 Q125.598 1118.05 122.126 1121.15 Q118.654 1124.23 112.334 1124.23 Q110.158 1124.23 107.89 1123.86 Q105.645 1123.49 103.237 1122.75 L103.237 1118.05 Q105.321 1119.19 107.543 1119.74 Q109.765 1120.3 112.242 1120.3 Q116.246 1120.3 118.584 1118.19 Q120.922 1116.08 120.922 1112.47 Q120.922 1108.86 118.584 1106.76 Q116.246 1104.65 112.242 1104.65 Q110.367 1104.65 108.492 1105.07 Q106.64 1105.48 104.696 1106.36 L104.696 1089 Z\" fill=\"#000000\" fill-rule=\"evenodd\" fill-opacity=\"1\" /><path clip-path=\"url(#clip730)\" d=\"M 0 0 M140.668 1092.08 Q137.056 1092.08 135.228 1095.64 Q133.422 1099.19 133.422 1106.32 Q133.422 1113.42 135.228 1116.99 Q137.056 1120.53 140.668 1120.53 Q144.302 1120.53 146.107 1116.99 Q147.936 1113.42 147.936 1106.32 Q147.936 1099.19 146.107 1095.64 Q144.302 1092.08 140.668 1092.08 M140.668 1088.38 Q146.478 1088.38 149.533 1092.98 Q152.612 1097.57 152.612 1106.32 Q152.612 1115.04 149.533 1119.65 Q146.478 1124.23 140.668 1124.23 Q134.857 1124.23 131.779 1119.65 Q128.723 1115.04 128.723 1106.32 Q128.723 1097.57 131.779 1092.98 Q134.857 1088.38 140.668 1088.38 Z\" fill=\"#000000\" fill-rule=\"evenodd\" fill-opacity=\"1\" /><path clip-path=\"url(#clip730)\" d=\"M 0 0 M77.6818 749.566 L96.0382 749.566 L96.0382 753.501 L81.9642 753.501 L81.9642 761.973 Q82.9827 761.626 84.0012 761.464 Q85.0197 761.279 86.0382 761.279 Q91.8252 761.279 95.2049 764.45 Q98.5845 767.621 98.5845 773.038 Q98.5845 778.617 95.1123 781.719 Q91.6401 784.797 85.3206 784.797 Q83.1447 784.797 80.8762 784.427 Q78.6309 784.057 76.2235 783.316 L76.2235 778.617 Q78.3068 779.751 80.529 780.307 Q82.7512 780.862 85.2281 780.862 Q89.2327 780.862 91.5706 778.756 Q93.9086 776.649 93.9086 773.038 Q93.9086 769.427 91.5706 767.321 Q89.2327 765.214 85.2281 765.214 Q83.3531 765.214 81.4781 765.631 Q79.6262 766.047 77.6818 766.927 L77.6818 749.566 Z\" fill=\"#000000\" fill-rule=\"evenodd\" fill-opacity=\"1\" /><path clip-path=\"url(#clip730)\" d=\"M 0 0 M113.654 752.645 Q110.043 752.645 108.214 756.209 Q106.408 759.751 106.408 766.881 Q106.408 773.987 108.214 777.552 Q110.043 781.094 113.654 781.094 Q117.288 781.094 119.094 777.552 Q120.922 773.987 120.922 766.881 Q120.922 759.751 119.094 756.209 Q117.288 752.645 113.654 752.645 M113.654 748.941 Q119.464 748.941 122.52 753.547 Q125.598 758.131 125.598 766.881 Q125.598 775.608 122.52 780.214 Q119.464 784.797 113.654 784.797 Q107.844 784.797 104.765 780.214 Q101.709 775.608 101.709 766.881 Q101.709 758.131 104.765 753.547 Q107.844 748.941 113.654 748.941 Z\" fill=\"#000000\" fill-rule=\"evenodd\" fill-opacity=\"1\" /><path clip-path=\"url(#clip730)\" d=\"M 0 0 M140.668 752.645 Q137.056 752.645 135.228 756.209 Q133.422 759.751 133.422 766.881 Q133.422 773.987 135.228 777.552 Q137.056 781.094 140.668 781.094 Q144.302 781.094 146.107 777.552 Q147.936 773.987 147.936 766.881 Q147.936 759.751 146.107 756.209 Q144.302 752.645 140.668 752.645 M140.668 748.941 Q146.478 748.941 149.533 753.547 Q152.612 758.131 152.612 766.881 Q152.612 775.608 149.533 780.214 Q146.478 784.797 140.668 784.797 Q134.857 784.797 131.779 780.214 Q128.723 775.608 128.723 766.881 Q128.723 758.131 131.779 753.547 Q134.857 748.941 140.668 748.941 Z\" fill=\"#000000\" fill-rule=\"evenodd\" fill-opacity=\"1\" /><path clip-path=\"url(#clip730)\" d=\"M 0 0 M77.3577 410.131 L99.5798 410.131 L99.5798 412.122 L87.0336 444.691 L82.1494 444.691 L93.9549 414.066 L77.3577 414.066 L77.3577 410.131 Z\" fill=\"#000000\" fill-rule=\"evenodd\" fill-opacity=\"1\" /><path clip-path=\"url(#clip730)\" d=\"M 0 0 M104.696 410.131 L123.052 410.131 L123.052 414.066 L108.978 414.066 L108.978 422.538 Q109.996 422.191 111.015 422.029 Q112.033 421.844 113.052 421.844 Q118.839 421.844 122.219 425.015 Q125.598 428.187 125.598 433.603 Q125.598 439.182 122.126 442.284 Q118.654 445.362 112.334 445.362 Q110.158 445.362 107.89 444.992 Q105.645 444.622 103.237 443.881 L103.237 439.182 Q105.321 440.316 107.543 440.872 Q109.765 441.427 112.242 441.427 Q116.246 441.427 118.584 439.321 Q120.922 437.214 120.922 433.603 Q120.922 429.992 118.584 427.886 Q116.246 425.779 112.242 425.779 Q110.367 425.779 108.492 426.196 Q106.64 426.613 104.696 427.492 L104.696 410.131 Z\" fill=\"#000000\" fill-rule=\"evenodd\" fill-opacity=\"1\" /><path clip-path=\"url(#clip730)\" d=\"M 0 0 M140.668 413.21 Q137.056 413.21 135.228 416.775 Q133.422 420.316 133.422 427.446 Q133.422 434.552 135.228 438.117 Q137.056 441.659 140.668 441.659 Q144.302 441.659 146.107 438.117 Q147.936 434.552 147.936 427.446 Q147.936 420.316 146.107 416.775 Q144.302 413.21 140.668 413.21 M140.668 409.506 Q146.478 409.506 149.533 414.113 Q152.612 418.696 152.612 427.446 Q152.612 436.173 149.533 440.779 Q146.478 445.362 140.668 445.362 Q134.857 445.362 131.779 440.779 Q128.723 436.173 128.723 427.446 Q128.723 418.696 131.779 414.113 Q134.857 409.506 140.668 409.506 Z\" fill=\"#000000\" fill-rule=\"evenodd\" fill-opacity=\"1\" /><path clip-path=\"url(#clip730)\" d=\"M 0 0 M51.6634 101.321 L59.3023 101.321 L59.3023 74.9555 L50.9921 76.6222 L50.9921 72.3629 L59.256 70.6963 L63.9319 70.6963 L63.9319 101.321 L71.5707 101.321 L71.5707 105.256 L51.6634 105.256 L51.6634 101.321 Z\" fill=\"#000000\" fill-rule=\"evenodd\" fill-opacity=\"1\" /><path clip-path=\"url(#clip730)\" d=\"M 0 0 M86.6401 73.775 Q83.029 73.775 81.2003 77.3398 Q79.3948 80.8814 79.3948 88.011 Q79.3948 95.1174 81.2003 98.6822 Q83.029 102.224 86.6401 102.224 Q90.2743 102.224 92.0799 98.6822 Q93.9086 95.1174 93.9086 88.011 Q93.9086 80.8814 92.0799 77.3398 Q90.2743 73.775 86.6401 73.775 M86.6401 70.0713 Q92.4502 70.0713 95.5058 74.6777 Q98.5845 79.261 98.5845 88.011 Q98.5845 96.7378 95.5058 101.344 Q92.4502 105.928 86.6401 105.928 Q80.8299 105.928 77.7512 101.344 Q74.6957 96.7378 74.6957 88.011 Q74.6957 79.261 77.7512 74.6777 Q80.8299 70.0713 86.6401 70.0713 Z\" fill=\"#000000\" fill-rule=\"evenodd\" fill-opacity=\"1\" /><path clip-path=\"url(#clip730)\" d=\"M 0 0 M113.654 73.775 Q110.043 73.775 108.214 77.3398 Q106.408 80.8814 106.408 88.011 Q106.408 95.1174 108.214 98.6822 Q110.043 102.224 113.654 102.224 Q117.288 102.224 119.094 98.6822 Q120.922 95.1174 120.922 88.011 Q120.922 80.8814 119.094 77.3398 Q117.288 73.775 113.654 73.775 M113.654 70.0713 Q119.464 70.0713 122.52 74.6777 Q125.598 79.261 125.598 88.011 Q125.598 96.7378 122.52 101.344 Q119.464 105.928 113.654 105.928 Q107.844 105.928 104.765 101.344 Q101.709 96.7378 101.709 88.011 Q101.709 79.261 104.765 74.6777 Q107.844 70.0713 113.654 70.0713 Z\" fill=\"#000000\" fill-rule=\"evenodd\" fill-opacity=\"1\" /><path clip-path=\"url(#clip730)\" d=\"M 0 0 M140.668 73.775 Q137.056 73.775 135.228 77.3398 Q133.422 80.8814 133.422 88.011 Q133.422 95.1174 135.228 98.6822 Q137.056 102.224 140.668 102.224 Q144.302 102.224 146.107 98.6822 Q147.936 95.1174 147.936 88.011 Q147.936 80.8814 146.107 77.3398 Q144.302 73.775 140.668 73.775 M140.668 70.0713 Q146.478 70.0713 149.533 74.6777 Q152.612 79.261 152.612 88.011 Q152.612 96.7378 149.533 101.344 Q146.478 105.928 140.668 105.928 Q134.857 105.928 131.779 101.344 Q128.723 96.7378 128.723 88.011 Q128.723 79.261 131.779 74.6777 Q134.857 70.0713 140.668 70.0713 Z\" fill=\"#000000\" fill-rule=\"evenodd\" fill-opacity=\"1\" /><path clip-path=\"url(#clip732)\" d=\"\n",
       "M307.644 87.9763 L307.644 1445.72 L2233.72 1445.72 L2233.72 87.9763 L307.644 87.9763 L307.644 87.9763  Z\n",
       "  \" fill=\"#009af9\" fill-rule=\"evenodd\" fill-opacity=\"1\"/>\n",
       "<polyline clip-path=\"url(#clip732)\" style=\"stroke:#000000; stroke-width:4; stroke-opacity:1; fill:none\" points=\"\n",
       "  307.644,87.9763 307.644,1445.72 2233.72,1445.72 2233.72,87.9763 307.644,87.9763 \n",
       "  \"/>\n",
       "<path clip-path=\"url(#clip730)\" d=\"\n",
       "M1989.14 216.178 L2280.62 216.178 L2280.62 95.2176 L1989.14 95.2176  Z\n",
       "  \" fill=\"#ffffff\" fill-rule=\"evenodd\" fill-opacity=\"1\"/>\n",
       "<polyline clip-path=\"url(#clip730)\" style=\"stroke:#000000; stroke-width:4; stroke-opacity:1; fill:none\" points=\"\n",
       "  1989.14,216.178 2280.62,216.178 2280.62,95.2176 1989.14,95.2176 1989.14,216.178 \n",
       "  \"/>\n",
       "<path clip-path=\"url(#clip730)\" d=\"\n",
       "M2013.19 179.89 L2157.46 179.89 L2157.46 131.506 L2013.19 131.506 L2013.19 179.89  Z\n",
       "  \" fill=\"#009af9\" fill-rule=\"evenodd\" fill-opacity=\"1\"/>\n",
       "<polyline clip-path=\"url(#clip730)\" style=\"stroke:#000000; stroke-width:4; stroke-opacity:1; fill:none\" points=\"\n",
       "  2013.19,179.89 2157.46,179.89 2157.46,131.506 2013.19,131.506 2013.19,179.89 \n",
       "  \"/>\n",
       "<path clip-path=\"url(#clip730)\" d=\"M 0 0 M2195.35 175.385 Q2193.54 180.015 2191.83 181.427 Q2190.12 182.839 2187.25 182.839 L2183.85 182.839 L2183.85 179.274 L2186.35 179.274 Q2188.1 179.274 2189.08 178.44 Q2190.05 177.607 2191.23 174.505 L2191.99 172.561 L2181.51 147.052 L2186.02 147.052 L2194.12 167.329 L2202.22 147.052 L2206.74 147.052 L2195.35 175.385 Z\" fill=\"#000000\" fill-rule=\"evenodd\" fill-opacity=\"1\" /><path clip-path=\"url(#clip730)\" d=\"M 0 0 M2212.62 169.042 L2220.26 169.042 L2220.26 142.677 L2211.95 144.343 L2211.95 140.084 L2220.21 138.418 L2224.89 138.418 L2224.89 169.042 L2232.53 169.042 L2232.53 172.978 L2212.62 172.978 L2212.62 169.042 Z\" fill=\"#000000\" fill-rule=\"evenodd\" fill-opacity=\"1\" /></svg>\n"
      ]
     },
     "execution_count": 458,
     "metadata": {},
     "output_type": "execute_result"
    }
   ],
   "source": [
    "m = agent(KING)\n",
    "chains = sample(m, IS(), 1000 , n_chains=1, progress = true)\n",
    "histogram(generated_quantities(m, chains))"
   ]
  },
  {
   "cell_type": "code",
   "execution_count": 459,
   "metadata": {},
   "outputs": [
    {
     "data": {
      "image/svg+xml": [
       "<?xml version=\"1.0\" encoding=\"utf-8\"?>\n",
       "<svg xmlns=\"http://www.w3.org/2000/svg\" xmlns:xlink=\"http://www.w3.org/1999/xlink\" width=\"600\" height=\"400\" viewBox=\"0 0 2400 1600\">\n",
       "<defs>\n",
       "  <clipPath id=\"clip770\">\n",
       "    <rect x=\"0\" y=\"0\" width=\"2400\" height=\"1600\"/>\n",
       "  </clipPath>\n",
       "</defs>\n",
       "<path clip-path=\"url(#clip770)\" d=\"\n",
       "M0 1600 L2400 1600 L2400 0 L0 0  Z\n",
       "  \" fill=\"#ffffff\" fill-rule=\"evenodd\" fill-opacity=\"1\"/>\n",
       "<defs>\n",
       "  <clipPath id=\"clip771\">\n",
       "    <rect x=\"480\" y=\"0\" width=\"1681\" height=\"1600\"/>\n",
       "  </clipPath>\n",
       "</defs>\n",
       "<path clip-path=\"url(#clip770)\" d=\"\n",
       "M188.612 1486.45 L2352.76 1486.45 L2352.76 47.2441 L188.612 47.2441  Z\n",
       "  \" fill=\"#ffffff\" fill-rule=\"evenodd\" fill-opacity=\"1\"/>\n",
       "<defs>\n",
       "  <clipPath id=\"clip772\">\n",
       "    <rect x=\"188\" y=\"47\" width=\"2165\" height=\"1440\"/>\n",
       "  </clipPath>\n",
       "</defs>\n",
       "<polyline clip-path=\"url(#clip772)\" style=\"stroke:#000000; stroke-width:2; stroke-opacity:0.1; fill:none\" points=\"\n",
       "  307.644,1486.45 307.644,47.2441 \n",
       "  \"/>\n",
       "<polyline clip-path=\"url(#clip772)\" style=\"stroke:#000000; stroke-width:2; stroke-opacity:0.1; fill:none\" points=\"\n",
       "  789.164,1486.45 789.164,47.2441 \n",
       "  \"/>\n",
       "<polyline clip-path=\"url(#clip772)\" style=\"stroke:#000000; stroke-width:2; stroke-opacity:0.1; fill:none\" points=\"\n",
       "  1270.68,1486.45 1270.68,47.2441 \n",
       "  \"/>\n",
       "<polyline clip-path=\"url(#clip772)\" style=\"stroke:#000000; stroke-width:2; stroke-opacity:0.1; fill:none\" points=\"\n",
       "  1752.2,1486.45 1752.2,47.2441 \n",
       "  \"/>\n",
       "<polyline clip-path=\"url(#clip772)\" style=\"stroke:#000000; stroke-width:2; stroke-opacity:0.1; fill:none\" points=\"\n",
       "  2233.72,1486.45 2233.72,47.2441 \n",
       "  \"/>\n",
       "<polyline clip-path=\"url(#clip770)\" style=\"stroke:#000000; stroke-width:4; stroke-opacity:1; fill:none\" points=\"\n",
       "  188.612,1486.45 2352.76,1486.45 \n",
       "  \"/>\n",
       "<polyline clip-path=\"url(#clip770)\" style=\"stroke:#000000; stroke-width:4; stroke-opacity:1; fill:none\" points=\"\n",
       "  307.644,1486.45 307.644,1469.18 \n",
       "  \"/>\n",
       "<polyline clip-path=\"url(#clip770)\" style=\"stroke:#000000; stroke-width:4; stroke-opacity:1; fill:none\" points=\"\n",
       "  789.164,1486.45 789.164,1469.18 \n",
       "  \"/>\n",
       "<polyline clip-path=\"url(#clip770)\" style=\"stroke:#000000; stroke-width:4; stroke-opacity:1; fill:none\" points=\"\n",
       "  1270.68,1486.45 1270.68,1469.18 \n",
       "  \"/>\n",
       "<polyline clip-path=\"url(#clip770)\" style=\"stroke:#000000; stroke-width:4; stroke-opacity:1; fill:none\" points=\"\n",
       "  1752.2,1486.45 1752.2,1469.18 \n",
       "  \"/>\n",
       "<polyline clip-path=\"url(#clip770)\" style=\"stroke:#000000; stroke-width:4; stroke-opacity:1; fill:none\" points=\"\n",
       "  2233.72,1486.45 2233.72,1469.18 \n",
       "  \"/>\n",
       "<path clip-path=\"url(#clip770)\" d=\"M 0 0 M275.653 1515.64 Q272.042 1515.64 270.213 1519.2 Q268.408 1522.75 268.408 1529.87 Q268.408 1536.98 270.213 1540.55 Q272.042 1544.09 275.653 1544.09 Q279.287 1544.09 281.093 1540.55 Q282.922 1536.98 282.922 1529.87 Q282.922 1522.75 281.093 1519.2 Q279.287 1515.64 275.653 1515.64 M275.653 1511.93 Q281.463 1511.93 284.519 1516.54 Q287.598 1521.12 287.598 1529.87 Q287.598 1538.6 284.519 1543.21 Q281.463 1547.79 275.653 1547.79 Q269.843 1547.79 266.764 1543.21 Q263.709 1538.6 263.709 1529.87 Q263.709 1521.12 266.764 1516.54 Q269.843 1511.93 275.653 1511.93 Z\" fill=\"#000000\" fill-rule=\"evenodd\" fill-opacity=\"1\" /><path clip-path=\"url(#clip770)\" d=\"M 0 0 M292.667 1541.24 L297.551 1541.24 L297.551 1547.12 L292.667 1547.12 L292.667 1541.24 Z\" fill=\"#000000\" fill-rule=\"evenodd\" fill-opacity=\"1\" /><path clip-path=\"url(#clip770)\" d=\"M 0 0 M312.621 1515.64 Q309.009 1515.64 307.181 1519.2 Q305.375 1522.75 305.375 1529.87 Q305.375 1536.98 307.181 1540.55 Q309.009 1544.09 312.621 1544.09 Q316.255 1544.09 318.06 1540.55 Q319.889 1536.98 319.889 1529.87 Q319.889 1522.75 318.06 1519.2 Q316.255 1515.64 312.621 1515.64 M312.621 1511.93 Q318.431 1511.93 321.486 1516.54 Q324.565 1521.12 324.565 1529.87 Q324.565 1538.6 321.486 1543.21 Q318.431 1547.79 312.621 1547.79 Q306.81 1547.79 303.732 1543.21 Q300.676 1538.6 300.676 1529.87 Q300.676 1521.12 303.732 1516.54 Q306.81 1511.93 312.621 1511.93 Z\" fill=\"#000000\" fill-rule=\"evenodd\" fill-opacity=\"1\" /><path clip-path=\"url(#clip770)\" d=\"M 0 0 M339.634 1515.64 Q336.023 1515.64 334.195 1519.2 Q332.389 1522.75 332.389 1529.87 Q332.389 1536.98 334.195 1540.55 Q336.023 1544.09 339.634 1544.09 Q343.269 1544.09 345.074 1540.55 Q346.903 1536.98 346.903 1529.87 Q346.903 1522.75 345.074 1519.2 Q343.269 1515.64 339.634 1515.64 M339.634 1511.93 Q345.444 1511.93 348.5 1516.54 Q351.579 1521.12 351.579 1529.87 Q351.579 1538.6 348.5 1543.21 Q345.444 1547.79 339.634 1547.79 Q333.824 1547.79 330.745 1543.21 Q327.69 1538.6 327.69 1529.87 Q327.69 1521.12 330.745 1516.54 Q333.824 1511.93 339.634 1511.93 Z\" fill=\"#000000\" fill-rule=\"evenodd\" fill-opacity=\"1\" /><path clip-path=\"url(#clip770)\" d=\"M 0 0 M758.47 1515.64 Q754.858 1515.64 753.03 1519.2 Q751.224 1522.75 751.224 1529.87 Q751.224 1536.98 753.03 1540.55 Q754.858 1544.09 758.47 1544.09 Q762.104 1544.09 763.909 1540.55 Q765.738 1536.98 765.738 1529.87 Q765.738 1522.75 763.909 1519.2 Q762.104 1515.64 758.47 1515.64 M758.47 1511.93 Q764.28 1511.93 767.335 1516.54 Q770.414 1521.12 770.414 1529.87 Q770.414 1538.6 767.335 1543.21 Q764.28 1547.79 758.47 1547.79 Q752.659 1547.79 749.581 1543.21 Q746.525 1538.6 746.525 1529.87 Q746.525 1521.12 749.581 1516.54 Q752.659 1511.93 758.47 1511.93 Z\" fill=\"#000000\" fill-rule=\"evenodd\" fill-opacity=\"1\" /><path clip-path=\"url(#clip770)\" d=\"M 0 0 M775.483 1541.24 L780.368 1541.24 L780.368 1547.12 L775.483 1547.12 L775.483 1541.24 Z\" fill=\"#000000\" fill-rule=\"evenodd\" fill-opacity=\"1\" /><path clip-path=\"url(#clip770)\" d=\"M 0 0 M789.465 1543.18 L805.784 1543.18 L805.784 1547.12 L783.84 1547.12 L783.84 1543.18 Q786.502 1540.43 791.085 1535.8 Q795.692 1531.15 796.872 1529.81 Q799.117 1527.28 799.997 1525.55 Q800.9 1523.79 800.9 1522.1 Q800.9 1519.34 798.955 1517.61 Q797.034 1515.87 793.932 1515.87 Q791.733 1515.87 789.28 1516.63 Q786.849 1517.4 784.071 1518.95 L784.071 1514.23 Q786.895 1513.09 789.349 1512.51 Q791.803 1511.93 793.84 1511.93 Q799.21 1511.93 802.404 1514.62 Q805.599 1517.31 805.599 1521.8 Q805.599 1523.93 804.789 1525.85 Q804.002 1527.74 801.895 1530.34 Q801.317 1531.01 798.215 1534.23 Q795.113 1537.42 789.465 1543.18 Z\" fill=\"#000000\" fill-rule=\"evenodd\" fill-opacity=\"1\" /><path clip-path=\"url(#clip770)\" d=\"M 0 0 M810.9 1512.56 L829.256 1512.56 L829.256 1516.5 L815.182 1516.5 L815.182 1524.97 Q816.201 1524.62 817.219 1524.46 Q818.238 1524.27 819.256 1524.27 Q825.043 1524.27 828.423 1527.44 Q831.802 1530.62 831.802 1536.03 Q831.802 1541.61 828.33 1544.71 Q824.858 1547.79 818.539 1547.79 Q816.363 1547.79 814.094 1547.42 Q811.849 1547.05 809.441 1546.31 L809.441 1541.61 Q811.525 1542.74 813.747 1543.3 Q815.969 1543.86 818.446 1543.86 Q822.451 1543.86 824.789 1541.75 Q827.127 1539.64 827.127 1536.03 Q827.127 1532.42 824.789 1530.31 Q822.451 1528.21 818.446 1528.21 Q816.571 1528.21 814.696 1528.62 Q812.844 1529.04 810.9 1529.92 L810.9 1512.56 Z\" fill=\"#000000\" fill-rule=\"evenodd\" fill-opacity=\"1\" /><path clip-path=\"url(#clip770)\" d=\"M 0 0 M1239.19 1515.64 Q1235.58 1515.64 1233.75 1519.2 Q1231.95 1522.75 1231.95 1529.87 Q1231.95 1536.98 1233.75 1540.55 Q1235.58 1544.09 1239.19 1544.09 Q1242.83 1544.09 1244.63 1540.55 Q1246.46 1536.98 1246.46 1529.87 Q1246.46 1522.75 1244.63 1519.2 Q1242.83 1515.64 1239.19 1515.64 M1239.19 1511.93 Q1245 1511.93 1248.06 1516.54 Q1251.14 1521.12 1251.14 1529.87 Q1251.14 1538.6 1248.06 1543.21 Q1245 1547.79 1239.19 1547.79 Q1233.38 1547.79 1230.3 1543.21 Q1227.25 1538.6 1227.25 1529.87 Q1227.25 1521.12 1230.3 1516.54 Q1233.38 1511.93 1239.19 1511.93 Z\" fill=\"#000000\" fill-rule=\"evenodd\" fill-opacity=\"1\" /><path clip-path=\"url(#clip770)\" d=\"M 0 0 M1256.2 1541.24 L1261.09 1541.24 L1261.09 1547.12 L1256.2 1547.12 L1256.2 1541.24 Z\" fill=\"#000000\" fill-rule=\"evenodd\" fill-opacity=\"1\" /><path clip-path=\"url(#clip770)\" d=\"M 0 0 M1266.2 1512.56 L1284.56 1512.56 L1284.56 1516.5 L1270.49 1516.5 L1270.49 1524.97 Q1271.51 1524.62 1272.52 1524.46 Q1273.54 1524.27 1274.56 1524.27 Q1280.35 1524.27 1283.73 1527.44 Q1287.11 1530.62 1287.11 1536.03 Q1287.11 1541.61 1283.64 1544.71 Q1280.16 1547.79 1273.84 1547.79 Q1271.67 1547.79 1269.4 1547.42 Q1267.15 1547.05 1264.75 1546.31 L1264.75 1541.61 Q1266.83 1542.74 1269.05 1543.3 Q1271.27 1543.86 1273.75 1543.86 Q1277.76 1543.86 1280.09 1541.75 Q1282.43 1539.64 1282.43 1536.03 Q1282.43 1532.42 1280.09 1530.31 Q1277.76 1528.21 1273.75 1528.21 Q1271.88 1528.21 1270 1528.62 Q1268.15 1529.04 1266.2 1529.92 L1266.2 1512.56 Z\" fill=\"#000000\" fill-rule=\"evenodd\" fill-opacity=\"1\" /><path clip-path=\"url(#clip770)\" d=\"M 0 0 M1302.18 1515.64 Q1298.57 1515.64 1296.74 1519.2 Q1294.93 1522.75 1294.93 1529.87 Q1294.93 1536.98 1296.74 1540.55 Q1298.57 1544.09 1302.18 1544.09 Q1305.81 1544.09 1307.62 1540.55 Q1309.45 1536.98 1309.45 1529.87 Q1309.45 1522.75 1307.62 1519.2 Q1305.81 1515.64 1302.18 1515.64 M1302.18 1511.93 Q1307.99 1511.93 1311.04 1516.54 Q1314.12 1521.12 1314.12 1529.87 Q1314.12 1538.6 1311.04 1543.21 Q1307.99 1547.79 1302.18 1547.79 Q1296.37 1547.79 1293.29 1543.21 Q1290.23 1538.6 1290.23 1529.87 Q1290.23 1521.12 1293.29 1516.54 Q1296.37 1511.93 1302.18 1511.93 Z\" fill=\"#000000\" fill-rule=\"evenodd\" fill-opacity=\"1\" /><path clip-path=\"url(#clip770)\" d=\"M 0 0 M1721.16 1515.64 Q1717.55 1515.64 1715.72 1519.2 Q1713.92 1522.75 1713.92 1529.87 Q1713.92 1536.98 1715.72 1540.55 Q1717.55 1544.09 1721.16 1544.09 Q1724.8 1544.09 1726.6 1540.55 Q1728.43 1536.98 1728.43 1529.87 Q1728.43 1522.75 1726.6 1519.2 Q1724.8 1515.64 1721.16 1515.64 M1721.16 1511.93 Q1726.97 1511.93 1730.03 1516.54 Q1733.11 1521.12 1733.11 1529.87 Q1733.11 1538.6 1730.03 1543.21 Q1726.97 1547.79 1721.16 1547.79 Q1715.35 1547.79 1712.27 1543.21 Q1709.22 1538.6 1709.22 1529.87 Q1709.22 1521.12 1712.27 1516.54 Q1715.35 1511.93 1721.16 1511.93 Z\" fill=\"#000000\" fill-rule=\"evenodd\" fill-opacity=\"1\" /><path clip-path=\"url(#clip770)\" d=\"M 0 0 M1738.18 1541.24 L1743.06 1541.24 L1743.06 1547.12 L1738.18 1547.12 L1738.18 1541.24 Z\" fill=\"#000000\" fill-rule=\"evenodd\" fill-opacity=\"1\" /><path clip-path=\"url(#clip770)\" d=\"M 0 0 M1746.95 1512.56 L1769.17 1512.56 L1769.17 1514.55 L1756.63 1547.12 L1751.74 1547.12 L1763.55 1516.5 L1746.95 1516.5 L1746.95 1512.56 Z\" fill=\"#000000\" fill-rule=\"evenodd\" fill-opacity=\"1\" /><path clip-path=\"url(#clip770)\" d=\"M 0 0 M1774.29 1512.56 L1792.64 1512.56 L1792.64 1516.5 L1778.57 1516.5 L1778.57 1524.97 Q1779.59 1524.62 1780.61 1524.46 Q1781.63 1524.27 1782.64 1524.27 Q1788.43 1524.27 1791.81 1527.44 Q1795.19 1530.62 1795.19 1536.03 Q1795.19 1541.61 1791.72 1544.71 Q1788.25 1547.79 1781.93 1547.79 Q1779.75 1547.79 1777.48 1547.42 Q1775.24 1547.05 1772.83 1546.31 L1772.83 1541.61 Q1774.91 1542.74 1777.13 1543.3 Q1779.36 1543.86 1781.83 1543.86 Q1785.84 1543.86 1788.18 1541.75 Q1790.51 1539.64 1790.51 1536.03 Q1790.51 1532.42 1788.18 1530.31 Q1785.84 1528.21 1781.83 1528.21 Q1779.96 1528.21 1778.08 1528.62 Q1776.23 1529.04 1774.29 1529.92 L1774.29 1512.56 Z\" fill=\"#000000\" fill-rule=\"evenodd\" fill-opacity=\"1\" /><path clip-path=\"url(#clip770)\" d=\"M 0 0 M2192.12 1543.18 L2199.75 1543.18 L2199.75 1516.82 L2191.44 1518.49 L2191.44 1514.23 L2199.71 1512.56 L2204.38 1512.56 L2204.38 1543.18 L2212.02 1543.18 L2212.02 1547.12 L2192.12 1547.12 L2192.12 1543.18 Z\" fill=\"#000000\" fill-rule=\"evenodd\" fill-opacity=\"1\" /><path clip-path=\"url(#clip770)\" d=\"M 0 0 M2217.09 1541.24 L2221.98 1541.24 L2221.98 1547.12 L2217.09 1547.12 L2217.09 1541.24 Z\" fill=\"#000000\" fill-rule=\"evenodd\" fill-opacity=\"1\" /><path clip-path=\"url(#clip770)\" d=\"M 0 0 M2237.05 1515.64 Q2233.43 1515.64 2231.61 1519.2 Q2229.8 1522.75 2229.8 1529.87 Q2229.8 1536.98 2231.61 1540.55 Q2233.43 1544.09 2237.05 1544.09 Q2240.68 1544.09 2242.49 1540.55 Q2244.31 1536.98 2244.31 1529.87 Q2244.31 1522.75 2242.49 1519.2 Q2240.68 1515.64 2237.05 1515.64 M2237.05 1511.93 Q2242.86 1511.93 2245.91 1516.54 Q2248.99 1521.12 2248.99 1529.87 Q2248.99 1538.6 2245.91 1543.21 Q2242.86 1547.79 2237.05 1547.79 Q2231.24 1547.79 2228.16 1543.21 Q2225.1 1538.6 2225.1 1529.87 Q2225.1 1521.12 2228.16 1516.54 Q2231.24 1511.93 2237.05 1511.93 Z\" fill=\"#000000\" fill-rule=\"evenodd\" fill-opacity=\"1\" /><path clip-path=\"url(#clip770)\" d=\"M 0 0 M2264.06 1515.64 Q2260.45 1515.64 2258.62 1519.2 Q2256.81 1522.75 2256.81 1529.87 Q2256.81 1536.98 2258.62 1540.55 Q2260.45 1544.09 2264.06 1544.09 Q2267.69 1544.09 2269.5 1540.55 Q2271.33 1536.98 2271.33 1529.87 Q2271.33 1522.75 2269.5 1519.2 Q2267.69 1515.64 2264.06 1515.64 M2264.06 1511.93 Q2269.87 1511.93 2272.93 1516.54 Q2276 1521.12 2276 1529.87 Q2276 1538.6 2272.93 1543.21 Q2269.87 1547.79 2264.06 1547.79 Q2258.25 1547.79 2255.17 1543.21 Q2252.12 1538.6 2252.12 1529.87 Q2252.12 1521.12 2255.17 1516.54 Q2258.25 1511.93 2264.06 1511.93 Z\" fill=\"#000000\" fill-rule=\"evenodd\" fill-opacity=\"1\" /><polyline clip-path=\"url(#clip772)\" style=\"stroke:#000000; stroke-width:2; stroke-opacity:0.1; fill:none\" points=\"\n",
       "  188.612,1445.72 2352.76,1445.72 \n",
       "  \"/>\n",
       "<polyline clip-path=\"url(#clip772)\" style=\"stroke:#000000; stroke-width:2; stroke-opacity:0.1; fill:none\" points=\"\n",
       "  188.612,1106.28 2352.76,1106.28 \n",
       "  \"/>\n",
       "<polyline clip-path=\"url(#clip772)\" style=\"stroke:#000000; stroke-width:2; stroke-opacity:0.1; fill:none\" points=\"\n",
       "  188.612,766.846 2352.76,766.846 \n",
       "  \"/>\n",
       "<polyline clip-path=\"url(#clip772)\" style=\"stroke:#000000; stroke-width:2; stroke-opacity:0.1; fill:none\" points=\"\n",
       "  188.612,427.411 2352.76,427.411 \n",
       "  \"/>\n",
       "<polyline clip-path=\"url(#clip772)\" style=\"stroke:#000000; stroke-width:2; stroke-opacity:0.1; fill:none\" points=\"\n",
       "  188.612,87.9763 2352.76,87.9763 \n",
       "  \"/>\n",
       "<polyline clip-path=\"url(#clip770)\" style=\"stroke:#000000; stroke-width:4; stroke-opacity:1; fill:none\" points=\"\n",
       "  188.612,1486.45 188.612,47.2441 \n",
       "  \"/>\n",
       "<polyline clip-path=\"url(#clip770)\" style=\"stroke:#000000; stroke-width:4; stroke-opacity:1; fill:none\" points=\"\n",
       "  188.612,1445.72 214.582,1445.72 \n",
       "  \"/>\n",
       "<polyline clip-path=\"url(#clip770)\" style=\"stroke:#000000; stroke-width:4; stroke-opacity:1; fill:none\" points=\"\n",
       "  188.612,1106.28 214.582,1106.28 \n",
       "  \"/>\n",
       "<polyline clip-path=\"url(#clip770)\" style=\"stroke:#000000; stroke-width:4; stroke-opacity:1; fill:none\" points=\"\n",
       "  188.612,766.846 214.582,766.846 \n",
       "  \"/>\n",
       "<polyline clip-path=\"url(#clip770)\" style=\"stroke:#000000; stroke-width:4; stroke-opacity:1; fill:none\" points=\"\n",
       "  188.612,427.411 214.582,427.411 \n",
       "  \"/>\n",
       "<polyline clip-path=\"url(#clip770)\" style=\"stroke:#000000; stroke-width:4; stroke-opacity:1; fill:none\" points=\"\n",
       "  188.612,87.9763 214.582,87.9763 \n",
       "  \"/>\n",
       "<path clip-path=\"url(#clip770)\" d=\"M 0 0 M140.668 1431.51 Q137.056 1431.51 135.228 1435.08 Q133.422 1438.62 133.422 1445.75 Q133.422 1452.86 135.228 1456.42 Q137.056 1459.96 140.668 1459.96 Q144.302 1459.96 146.107 1456.42 Q147.936 1452.86 147.936 1445.75 Q147.936 1438.62 146.107 1435.08 Q144.302 1431.51 140.668 1431.51 M140.668 1427.81 Q146.478 1427.81 149.533 1432.42 Q152.612 1437 152.612 1445.75 Q152.612 1454.48 149.533 1459.08 Q146.478 1463.67 140.668 1463.67 Q134.857 1463.67 131.779 1459.08 Q128.723 1454.48 128.723 1445.75 Q128.723 1437 131.779 1432.42 Q134.857 1427.81 140.668 1427.81 Z\" fill=\"#000000\" fill-rule=\"evenodd\" fill-opacity=\"1\" /><path clip-path=\"url(#clip770)\" d=\"M 0 0 M83.2605 1119.63 L99.5798 1119.63 L99.5798 1123.56 L77.6355 1123.56 L77.6355 1119.63 Q80.2975 1116.87 84.8808 1112.24 Q89.4873 1107.59 90.6678 1106.25 Q92.9132 1103.72 93.7928 1101.99 Q94.6956 1100.23 94.6956 1098.54 Q94.6956 1095.78 92.7512 1094.05 Q90.8299 1092.31 87.728 1092.31 Q85.529 1092.31 83.0753 1093.07 Q80.6447 1093.84 77.867 1095.39 L77.867 1090.67 Q80.691 1089.53 83.1447 1088.95 Q85.5984 1088.38 87.6354 1088.38 Q93.0058 1088.38 96.2002 1091.06 Q99.3946 1093.75 99.3946 1098.24 Q99.3946 1100.37 98.5845 1102.29 Q97.7974 1104.19 95.691 1106.78 Q95.1123 1107.45 92.0104 1110.67 Q88.9086 1113.86 83.2605 1119.63 Z\" fill=\"#000000\" fill-rule=\"evenodd\" fill-opacity=\"1\" /><path clip-path=\"url(#clip770)\" d=\"M 0 0 M104.696 1089 L123.052 1089 L123.052 1092.94 L108.978 1092.94 L108.978 1101.41 Q109.996 1101.06 111.015 1100.9 Q112.033 1100.71 113.052 1100.71 Q118.839 1100.71 122.219 1103.89 Q125.598 1107.06 125.598 1112.47 Q125.598 1118.05 122.126 1121.15 Q118.654 1124.23 112.334 1124.23 Q110.158 1124.23 107.89 1123.86 Q105.645 1123.49 103.237 1122.75 L103.237 1118.05 Q105.321 1119.19 107.543 1119.74 Q109.765 1120.3 112.242 1120.3 Q116.246 1120.3 118.584 1118.19 Q120.922 1116.08 120.922 1112.47 Q120.922 1108.86 118.584 1106.76 Q116.246 1104.65 112.242 1104.65 Q110.367 1104.65 108.492 1105.07 Q106.64 1105.48 104.696 1106.36 L104.696 1089 Z\" fill=\"#000000\" fill-rule=\"evenodd\" fill-opacity=\"1\" /><path clip-path=\"url(#clip770)\" d=\"M 0 0 M140.668 1092.08 Q137.056 1092.08 135.228 1095.64 Q133.422 1099.19 133.422 1106.32 Q133.422 1113.42 135.228 1116.99 Q137.056 1120.53 140.668 1120.53 Q144.302 1120.53 146.107 1116.99 Q147.936 1113.42 147.936 1106.32 Q147.936 1099.19 146.107 1095.64 Q144.302 1092.08 140.668 1092.08 M140.668 1088.38 Q146.478 1088.38 149.533 1092.98 Q152.612 1097.57 152.612 1106.32 Q152.612 1115.04 149.533 1119.65 Q146.478 1124.23 140.668 1124.23 Q134.857 1124.23 131.779 1119.65 Q128.723 1115.04 128.723 1106.32 Q128.723 1097.57 131.779 1092.98 Q134.857 1088.38 140.668 1088.38 Z\" fill=\"#000000\" fill-rule=\"evenodd\" fill-opacity=\"1\" /><path clip-path=\"url(#clip770)\" d=\"M 0 0 M77.6818 749.566 L96.0382 749.566 L96.0382 753.501 L81.9642 753.501 L81.9642 761.973 Q82.9827 761.626 84.0012 761.464 Q85.0197 761.279 86.0382 761.279 Q91.8252 761.279 95.2049 764.45 Q98.5845 767.621 98.5845 773.038 Q98.5845 778.617 95.1123 781.719 Q91.6401 784.797 85.3206 784.797 Q83.1447 784.797 80.8762 784.427 Q78.6309 784.057 76.2235 783.316 L76.2235 778.617 Q78.3068 779.751 80.529 780.307 Q82.7512 780.862 85.2281 780.862 Q89.2327 780.862 91.5706 778.756 Q93.9086 776.649 93.9086 773.038 Q93.9086 769.427 91.5706 767.321 Q89.2327 765.214 85.2281 765.214 Q83.3531 765.214 81.4781 765.631 Q79.6262 766.047 77.6818 766.927 L77.6818 749.566 Z\" fill=\"#000000\" fill-rule=\"evenodd\" fill-opacity=\"1\" /><path clip-path=\"url(#clip770)\" d=\"M 0 0 M113.654 752.645 Q110.043 752.645 108.214 756.209 Q106.408 759.751 106.408 766.881 Q106.408 773.987 108.214 777.552 Q110.043 781.094 113.654 781.094 Q117.288 781.094 119.094 777.552 Q120.922 773.987 120.922 766.881 Q120.922 759.751 119.094 756.209 Q117.288 752.645 113.654 752.645 M113.654 748.941 Q119.464 748.941 122.52 753.547 Q125.598 758.131 125.598 766.881 Q125.598 775.608 122.52 780.214 Q119.464 784.797 113.654 784.797 Q107.844 784.797 104.765 780.214 Q101.709 775.608 101.709 766.881 Q101.709 758.131 104.765 753.547 Q107.844 748.941 113.654 748.941 Z\" fill=\"#000000\" fill-rule=\"evenodd\" fill-opacity=\"1\" /><path clip-path=\"url(#clip770)\" d=\"M 0 0 M140.668 752.645 Q137.056 752.645 135.228 756.209 Q133.422 759.751 133.422 766.881 Q133.422 773.987 135.228 777.552 Q137.056 781.094 140.668 781.094 Q144.302 781.094 146.107 777.552 Q147.936 773.987 147.936 766.881 Q147.936 759.751 146.107 756.209 Q144.302 752.645 140.668 752.645 M140.668 748.941 Q146.478 748.941 149.533 753.547 Q152.612 758.131 152.612 766.881 Q152.612 775.608 149.533 780.214 Q146.478 784.797 140.668 784.797 Q134.857 784.797 131.779 780.214 Q128.723 775.608 128.723 766.881 Q128.723 758.131 131.779 753.547 Q134.857 748.941 140.668 748.941 Z\" fill=\"#000000\" fill-rule=\"evenodd\" fill-opacity=\"1\" /><path clip-path=\"url(#clip770)\" d=\"M 0 0 M77.3577 410.131 L99.5798 410.131 L99.5798 412.122 L87.0336 444.691 L82.1494 444.691 L93.9549 414.066 L77.3577 414.066 L77.3577 410.131 Z\" fill=\"#000000\" fill-rule=\"evenodd\" fill-opacity=\"1\" /><path clip-path=\"url(#clip770)\" d=\"M 0 0 M104.696 410.131 L123.052 410.131 L123.052 414.066 L108.978 414.066 L108.978 422.538 Q109.996 422.191 111.015 422.029 Q112.033 421.844 113.052 421.844 Q118.839 421.844 122.219 425.015 Q125.598 428.187 125.598 433.603 Q125.598 439.182 122.126 442.284 Q118.654 445.362 112.334 445.362 Q110.158 445.362 107.89 444.992 Q105.645 444.622 103.237 443.881 L103.237 439.182 Q105.321 440.316 107.543 440.872 Q109.765 441.427 112.242 441.427 Q116.246 441.427 118.584 439.321 Q120.922 437.214 120.922 433.603 Q120.922 429.992 118.584 427.886 Q116.246 425.779 112.242 425.779 Q110.367 425.779 108.492 426.196 Q106.64 426.613 104.696 427.492 L104.696 410.131 Z\" fill=\"#000000\" fill-rule=\"evenodd\" fill-opacity=\"1\" /><path clip-path=\"url(#clip770)\" d=\"M 0 0 M140.668 413.21 Q137.056 413.21 135.228 416.775 Q133.422 420.316 133.422 427.446 Q133.422 434.552 135.228 438.117 Q137.056 441.659 140.668 441.659 Q144.302 441.659 146.107 438.117 Q147.936 434.552 147.936 427.446 Q147.936 420.316 146.107 416.775 Q144.302 413.21 140.668 413.21 M140.668 409.506 Q146.478 409.506 149.533 414.113 Q152.612 418.696 152.612 427.446 Q152.612 436.173 149.533 440.779 Q146.478 445.362 140.668 445.362 Q134.857 445.362 131.779 440.779 Q128.723 436.173 128.723 427.446 Q128.723 418.696 131.779 414.113 Q134.857 409.506 140.668 409.506 Z\" fill=\"#000000\" fill-rule=\"evenodd\" fill-opacity=\"1\" /><path clip-path=\"url(#clip770)\" d=\"M 0 0 M51.6634 101.321 L59.3023 101.321 L59.3023 74.9555 L50.9921 76.6222 L50.9921 72.3629 L59.256 70.6963 L63.9319 70.6963 L63.9319 101.321 L71.5707 101.321 L71.5707 105.256 L51.6634 105.256 L51.6634 101.321 Z\" fill=\"#000000\" fill-rule=\"evenodd\" fill-opacity=\"1\" /><path clip-path=\"url(#clip770)\" d=\"M 0 0 M86.6401 73.775 Q83.029 73.775 81.2003 77.3398 Q79.3948 80.8814 79.3948 88.011 Q79.3948 95.1174 81.2003 98.6822 Q83.029 102.224 86.6401 102.224 Q90.2743 102.224 92.0799 98.6822 Q93.9086 95.1174 93.9086 88.011 Q93.9086 80.8814 92.0799 77.3398 Q90.2743 73.775 86.6401 73.775 M86.6401 70.0713 Q92.4502 70.0713 95.5058 74.6777 Q98.5845 79.261 98.5845 88.011 Q98.5845 96.7378 95.5058 101.344 Q92.4502 105.928 86.6401 105.928 Q80.8299 105.928 77.7512 101.344 Q74.6957 96.7378 74.6957 88.011 Q74.6957 79.261 77.7512 74.6777 Q80.8299 70.0713 86.6401 70.0713 Z\" fill=\"#000000\" fill-rule=\"evenodd\" fill-opacity=\"1\" /><path clip-path=\"url(#clip770)\" d=\"M 0 0 M113.654 73.775 Q110.043 73.775 108.214 77.3398 Q106.408 80.8814 106.408 88.011 Q106.408 95.1174 108.214 98.6822 Q110.043 102.224 113.654 102.224 Q117.288 102.224 119.094 98.6822 Q120.922 95.1174 120.922 88.011 Q120.922 80.8814 119.094 77.3398 Q117.288 73.775 113.654 73.775 M113.654 70.0713 Q119.464 70.0713 122.52 74.6777 Q125.598 79.261 125.598 88.011 Q125.598 96.7378 122.52 101.344 Q119.464 105.928 113.654 105.928 Q107.844 105.928 104.765 101.344 Q101.709 96.7378 101.709 88.011 Q101.709 79.261 104.765 74.6777 Q107.844 70.0713 113.654 70.0713 Z\" fill=\"#000000\" fill-rule=\"evenodd\" fill-opacity=\"1\" /><path clip-path=\"url(#clip770)\" d=\"M 0 0 M140.668 73.775 Q137.056 73.775 135.228 77.3398 Q133.422 80.8814 133.422 88.011 Q133.422 95.1174 135.228 98.6822 Q137.056 102.224 140.668 102.224 Q144.302 102.224 146.107 98.6822 Q147.936 95.1174 147.936 88.011 Q147.936 80.8814 146.107 77.3398 Q144.302 73.775 140.668 73.775 M140.668 70.0713 Q146.478 70.0713 149.533 74.6777 Q152.612 79.261 152.612 88.011 Q152.612 96.7378 149.533 101.344 Q146.478 105.928 140.668 105.928 Q134.857 105.928 131.779 101.344 Q128.723 96.7378 128.723 88.011 Q128.723 79.261 131.779 74.6777 Q134.857 70.0713 140.668 70.0713 Z\" fill=\"#000000\" fill-rule=\"evenodd\" fill-opacity=\"1\" /><path clip-path=\"url(#clip772)\" d=\"\n",
       "M307.644 87.9763 L307.644 1445.72 L2233.72 1445.72 L2233.72 87.9763 L307.644 87.9763 L307.644 87.9763  Z\n",
       "  \" fill=\"#009af9\" fill-rule=\"evenodd\" fill-opacity=\"1\"/>\n",
       "<polyline clip-path=\"url(#clip772)\" style=\"stroke:#000000; stroke-width:4; stroke-opacity:1; fill:none\" points=\"\n",
       "  307.644,87.9763 307.644,1445.72 2233.72,1445.72 2233.72,87.9763 307.644,87.9763 \n",
       "  \"/>\n",
       "<path clip-path=\"url(#clip770)\" d=\"\n",
       "M1989.14 216.178 L2280.62 216.178 L2280.62 95.2176 L1989.14 95.2176  Z\n",
       "  \" fill=\"#ffffff\" fill-rule=\"evenodd\" fill-opacity=\"1\"/>\n",
       "<polyline clip-path=\"url(#clip770)\" style=\"stroke:#000000; stroke-width:4; stroke-opacity:1; fill:none\" points=\"\n",
       "  1989.14,216.178 2280.62,216.178 2280.62,95.2176 1989.14,95.2176 1989.14,216.178 \n",
       "  \"/>\n",
       "<path clip-path=\"url(#clip770)\" d=\"\n",
       "M2013.19 179.89 L2157.46 179.89 L2157.46 131.506 L2013.19 131.506 L2013.19 179.89  Z\n",
       "  \" fill=\"#009af9\" fill-rule=\"evenodd\" fill-opacity=\"1\"/>\n",
       "<polyline clip-path=\"url(#clip770)\" style=\"stroke:#000000; stroke-width:4; stroke-opacity:1; fill:none\" points=\"\n",
       "  2013.19,179.89 2157.46,179.89 2157.46,131.506 2013.19,131.506 2013.19,179.89 \n",
       "  \"/>\n",
       "<path clip-path=\"url(#clip770)\" d=\"M 0 0 M2195.35 175.385 Q2193.54 180.015 2191.83 181.427 Q2190.12 182.839 2187.25 182.839 L2183.85 182.839 L2183.85 179.274 L2186.35 179.274 Q2188.1 179.274 2189.08 178.44 Q2190.05 177.607 2191.23 174.505 L2191.99 172.561 L2181.51 147.052 L2186.02 147.052 L2194.12 167.329 L2202.22 147.052 L2206.74 147.052 L2195.35 175.385 Z\" fill=\"#000000\" fill-rule=\"evenodd\" fill-opacity=\"1\" /><path clip-path=\"url(#clip770)\" d=\"M 0 0 M2212.62 169.042 L2220.26 169.042 L2220.26 142.677 L2211.95 144.343 L2211.95 140.084 L2220.21 138.418 L2224.89 138.418 L2224.89 169.042 L2232.53 169.042 L2232.53 172.978 L2212.62 172.978 L2212.62 169.042 Z\" fill=\"#000000\" fill-rule=\"evenodd\" fill-opacity=\"1\" /></svg>\n"
      ]
     },
     "execution_count": 459,
     "metadata": {},
     "output_type": "execute_result"
    }
   ],
   "source": [
    "m = agent(KING, true)\n",
    "chains = sample(m, IS(), 1000 , n_chains=1, progress = true)\n",
    "histogram(generated_quantities(m, chains))"
   ]
  },
  {
   "cell_type": "markdown",
   "metadata": {},
   "source": [
    "#### Trying to predict opponents alpha - given history of moves"
   ]
  },
  {
   "cell_type": "code",
   "execution_count": 488,
   "metadata": {},
   "outputs": [
    {
     "data": {
      "text/plain": [
       "0.95"
      ]
     },
     "execution_count": 488,
     "metadata": {},
     "output_type": "execute_result"
    }
   ],
   "source": [
    "PDIRAC = 0.95"
   ]
  },
  {
   "cell_type": "code",
   "execution_count": 510,
   "metadata": {},
   "outputs": [
    {
     "data": {
      "text/plain": [
       "agent_with_history (generic function with 4 methods)"
      ]
     },
     "execution_count": 510,
     "metadata": {},
     "output_type": "execute_result"
    }
   ],
   "source": [
    "@model function agent_with_history(history = [], opp_betting = false)\n",
    "    # prior on alpha\n",
    "    deception_alpha ~ Beta(1, 1)\n",
    "    for i in 1:length(history)\n",
    "        first_player_card_and_move_and_betting, second_player_card_move_and_betting = history[i]\n",
    "        first_player_card,  first_player_move  = first_player_card_and_move_and_betting\n",
    "        second_player_card, second_player_move = second_player_card_move_and_betting\n",
    "\n",
    "#         selected_action = CHECK\n",
    "#         if !first_player_betting\n",
    "        if first_player_card == JACK\n",
    "            bet_chance ~ Bernoulli(deception_alpha) # bluff\n",
    "            first_player_move ~ Dirac(ACTIONS[bet_chance+1])\n",
    "            # init alternative way to Dirac distribution\n",
    "#             complete_p_dirac = (1 - PDIRAC) / 2\n",
    "#             phi = fill(complete_p_dirac, 3)\n",
    "#             phi[convert(Int, bet_chance+1)] = PDIRAC\n",
    "\n",
    "#             first_player_move ~ Categorical(phi) # observe\n",
    "        elseif first_player_card == KING\n",
    "            check_chance ~ Bernoulli(3 * deception_alpha) # agrassive vs slow playing\n",
    "            ACTIONS[2+check_chance] ~ Dirac(first_player_move)\n",
    "        else # queen\n",
    "           CHECK ~ Dirac(first_player_move)\n",
    "        end\n",
    "#         else\n",
    "#             if second_player_card == JACK\n",
    "#                 selected_action = FOLD\n",
    "#             elseif second_player_card == KING  \n",
    "#                 selected_action = CHECK\n",
    "#             else  \n",
    "#                 call_chance ~ Bernoulli(deception_alpha + 1/3) # bluff detection\n",
    "#                 selected_action = ACTIONS[1+call_chance] \n",
    "#             end\n",
    "#         end\n",
    "#         selected_action ~ Dirac(first_player_move) # observe\n",
    "    end\n",
    "end"
   ]
  },
  {
   "cell_type": "code",
   "execution_count": 511,
   "metadata": {},
   "outputs": [
    {
     "data": {
      "text/plain": [
       "plotChn (generic function with 1 method)"
      ]
     },
     "execution_count": 511,
     "metadata": {},
     "output_type": "execute_result"
    }
   ],
   "source": [
    "# Plot the results\n",
    "function plotChn(chn)\n",
    "    histogram(chn[:deception_alpha], weights=exp.(chn[:lp]), normalize=:probability)\n",
    "end"
   ]
  },
  {
   "cell_type": "code",
   "execution_count": 512,
   "metadata": {},
   "outputs": [
    {
     "name": "stderr",
     "output_type": "stream",
     "text": [
      "\u001b[32mSampling: 100%|█████████████████████████████████████████| Time: 0:00:00\u001b[39m\n"
     ]
    },
    {
     "data": {
      "text/plain": [
       "Chains MCMC chain (1000×4×1 Array{Float64,3}):\n",
       "\n",
       "Log evidence      = 0.0\n",
       "Iterations        = 1:1000\n",
       "Thinning interval = 1\n",
       "Chains            = 1\n",
       "Samples per chain = 1000\n",
       "parameters        = bet_chance, deception_alpha, first_player_move\n",
       "internals         = lp\n",
       "\n",
       "Summary Statistics\n",
       " \u001b[1m        parameters \u001b[0m \u001b[1m    mean \u001b[0m \u001b[1m     std \u001b[0m \u001b[1m naive_se \u001b[0m \u001b[1m    mcse \u001b[0m \u001b[1m       ess \u001b[0m \u001b[1m    \u001b[0m ⋯\n",
       " \u001b[90m            Symbol \u001b[0m \u001b[90m Float64 \u001b[0m \u001b[90m Float64 \u001b[0m \u001b[90m  Float64 \u001b[0m \u001b[90m Float64 \u001b[0m \u001b[90m   Float64 \u001b[0m \u001b[90m Flo\u001b[0m ⋯\n",
       "\n",
       "         bet_chance    0.4810    0.4999     0.0158    0.0180   1056.7858    1. ⋯\n",
       "    deception_alpha    0.4849    0.2885     0.0091    0.0094    927.3840    1. ⋯\n",
       "  first_player_move    1.0000    0.0000     0.0000    0.0000         NaN       ⋯\n",
       "\u001b[31m                                                                1 column omitted\u001b[0m\n",
       "\n",
       "Quantiles\n",
       " \u001b[1m        parameters \u001b[0m \u001b[1m    2.5% \u001b[0m \u001b[1m   25.0% \u001b[0m \u001b[1m   50.0% \u001b[0m \u001b[1m   75.0% \u001b[0m \u001b[1m   97.5% \u001b[0m\n",
       " \u001b[90m            Symbol \u001b[0m \u001b[90m Float64 \u001b[0m \u001b[90m Float64 \u001b[0m \u001b[90m Float64 \u001b[0m \u001b[90m Float64 \u001b[0m \u001b[90m Float64 \u001b[0m\n",
       "\n",
       "         bet_chance    0.0000    0.0000    0.0000    1.0000    1.0000\n",
       "    deception_alpha    0.0171    0.2382    0.4843    0.7218    0.9765\n",
       "  first_player_move    1.0000    1.0000    1.0000    1.0000    1.0000\n"
      ]
     },
     "execution_count": 512,
     "metadata": {},
     "output_type": "execute_result"
    }
   ],
   "source": [
    "history = [((JACK, BET),(KING, CHECK)), ((JACK, BET),(KING, CHECK)), ((JACK, BET),(KING, CHECK)),((JACK, BET),(KING, CHECK)), ((JACK, BET),(KING, CHECK)), ((JACK, BET),(KING, CHECK)), ((JACK, BET),(KING, CHECK)), ((JACK, BET),(KING, CHECK)), ((JACK, BET),(KING, CHECK)), ((JACK, BET),(KING, CHECK)), ((JACK, BET),(KING, CHECK)), ((JACK, BET),(KING, CHECK)), ((JACK, BET),(KING, CHECK)), ((JACK, BET),(KING, CHECK)), ((JACK, BET),(KING, CHECK)), ((JACK, BET),(KING, CHECK))]\n",
    "m = agent_with_history(history)\n",
    "chn = sample(m, IS(), 1000 , n_chains=1)"
   ]
  },
  {
   "cell_type": "code",
   "execution_count": 513,
   "metadata": {},
   "outputs": [
    {
     "data": {
      "image/svg+xml": [
       "<?xml version=\"1.0\" encoding=\"utf-8\"?>\n",
       "<svg xmlns=\"http://www.w3.org/2000/svg\" xmlns:xlink=\"http://www.w3.org/1999/xlink\" width=\"600\" height=\"400\" viewBox=\"0 0 2400 1600\">\n",
       "<defs>\n",
       "  <clipPath id=\"clip930\">\n",
       "    <rect x=\"0\" y=\"0\" width=\"2400\" height=\"1600\"/>\n",
       "  </clipPath>\n",
       "</defs>\n",
       "<path clip-path=\"url(#clip930)\" d=\"\n",
       "M0 1600 L2400 1600 L2400 0 L0 0  Z\n",
       "  \" fill=\"#ffffff\" fill-rule=\"evenodd\" fill-opacity=\"1\"/>\n",
       "<defs>\n",
       "  <clipPath id=\"clip931\">\n",
       "    <rect x=\"480\" y=\"0\" width=\"1681\" height=\"1600\"/>\n",
       "  </clipPath>\n",
       "</defs>\n",
       "<path clip-path=\"url(#clip930)\" d=\"\n",
       "M201.876 1486.45 L2352.76 1486.45 L2352.76 47.2441 L201.876 47.2441  Z\n",
       "  \" fill=\"#ffffff\" fill-rule=\"evenodd\" fill-opacity=\"1\"/>\n",
       "<defs>\n",
       "  <clipPath id=\"clip932\">\n",
       "    <rect x=\"201\" y=\"47\" width=\"2152\" height=\"1440\"/>\n",
       "  </clipPath>\n",
       "</defs>\n",
       "<polyline clip-path=\"url(#clip932)\" style=\"stroke:#000000; stroke-width:2; stroke-opacity:0.1; fill:none\" points=\"\n",
       "  320.178,1486.45 320.178,47.2441 \n",
       "  \"/>\n",
       "<polyline clip-path=\"url(#clip932)\" style=\"stroke:#000000; stroke-width:2; stroke-opacity:0.1; fill:none\" points=\"\n",
       "  798.747,1486.45 798.747,47.2441 \n",
       "  \"/>\n",
       "<polyline clip-path=\"url(#clip932)\" style=\"stroke:#000000; stroke-width:2; stroke-opacity:0.1; fill:none\" points=\"\n",
       "  1277.32,1486.45 1277.32,47.2441 \n",
       "  \"/>\n",
       "<polyline clip-path=\"url(#clip932)\" style=\"stroke:#000000; stroke-width:2; stroke-opacity:0.1; fill:none\" points=\"\n",
       "  1755.88,1486.45 1755.88,47.2441 \n",
       "  \"/>\n",
       "<polyline clip-path=\"url(#clip932)\" style=\"stroke:#000000; stroke-width:2; stroke-opacity:0.1; fill:none\" points=\"\n",
       "  2234.45,1486.45 2234.45,47.2441 \n",
       "  \"/>\n",
       "<polyline clip-path=\"url(#clip930)\" style=\"stroke:#000000; stroke-width:4; stroke-opacity:1; fill:none\" points=\"\n",
       "  201.876,1486.45 2352.76,1486.45 \n",
       "  \"/>\n",
       "<polyline clip-path=\"url(#clip930)\" style=\"stroke:#000000; stroke-width:4; stroke-opacity:1; fill:none\" points=\"\n",
       "  320.178,1486.45 320.178,1469.18 \n",
       "  \"/>\n",
       "<polyline clip-path=\"url(#clip930)\" style=\"stroke:#000000; stroke-width:4; stroke-opacity:1; fill:none\" points=\"\n",
       "  798.747,1486.45 798.747,1469.18 \n",
       "  \"/>\n",
       "<polyline clip-path=\"url(#clip930)\" style=\"stroke:#000000; stroke-width:4; stroke-opacity:1; fill:none\" points=\"\n",
       "  1277.32,1486.45 1277.32,1469.18 \n",
       "  \"/>\n",
       "<polyline clip-path=\"url(#clip930)\" style=\"stroke:#000000; stroke-width:4; stroke-opacity:1; fill:none\" points=\"\n",
       "  1755.88,1486.45 1755.88,1469.18 \n",
       "  \"/>\n",
       "<polyline clip-path=\"url(#clip930)\" style=\"stroke:#000000; stroke-width:4; stroke-opacity:1; fill:none\" points=\"\n",
       "  2234.45,1486.45 2234.45,1469.18 \n",
       "  \"/>\n",
       "<path clip-path=\"url(#clip930)\" d=\"M 0 0 M288.187 1515.64 Q284.576 1515.64 282.748 1519.2 Q280.942 1522.75 280.942 1529.87 Q280.942 1536.98 282.748 1540.55 Q284.576 1544.09 288.187 1544.09 Q291.822 1544.09 293.627 1540.55 Q295.456 1536.98 295.456 1529.87 Q295.456 1522.75 293.627 1519.2 Q291.822 1515.64 288.187 1515.64 M288.187 1511.93 Q293.998 1511.93 297.053 1516.54 Q300.132 1521.12 300.132 1529.87 Q300.132 1538.6 297.053 1543.21 Q293.998 1547.79 288.187 1547.79 Q282.377 1547.79 279.299 1543.21 Q276.243 1538.6 276.243 1529.87 Q276.243 1521.12 279.299 1516.54 Q282.377 1511.93 288.187 1511.93 Z\" fill=\"#000000\" fill-rule=\"evenodd\" fill-opacity=\"1\" /><path clip-path=\"url(#clip930)\" d=\"M 0 0 M305.201 1541.24 L310.085 1541.24 L310.085 1547.12 L305.201 1547.12 L305.201 1541.24 Z\" fill=\"#000000\" fill-rule=\"evenodd\" fill-opacity=\"1\" /><path clip-path=\"url(#clip930)\" d=\"M 0 0 M325.155 1515.64 Q321.544 1515.64 319.715 1519.2 Q317.909 1522.75 317.909 1529.87 Q317.909 1536.98 319.715 1540.55 Q321.544 1544.09 325.155 1544.09 Q328.789 1544.09 330.595 1540.55 Q332.423 1536.98 332.423 1529.87 Q332.423 1522.75 330.595 1519.2 Q328.789 1515.64 325.155 1515.64 M325.155 1511.93 Q330.965 1511.93 334.021 1516.54 Q337.099 1521.12 337.099 1529.87 Q337.099 1538.6 334.021 1543.21 Q330.965 1547.79 325.155 1547.79 Q319.345 1547.79 316.266 1543.21 Q313.21 1538.6 313.21 1529.87 Q313.21 1521.12 316.266 1516.54 Q319.345 1511.93 325.155 1511.93 Z\" fill=\"#000000\" fill-rule=\"evenodd\" fill-opacity=\"1\" /><path clip-path=\"url(#clip930)\" d=\"M 0 0 M352.169 1515.64 Q348.557 1515.64 346.729 1519.2 Q344.923 1522.75 344.923 1529.87 Q344.923 1536.98 346.729 1540.55 Q348.557 1544.09 352.169 1544.09 Q355.803 1544.09 357.608 1540.55 Q359.437 1536.98 359.437 1529.87 Q359.437 1522.75 357.608 1519.2 Q355.803 1515.64 352.169 1515.64 M352.169 1511.93 Q357.979 1511.93 361.034 1516.54 Q364.113 1521.12 364.113 1529.87 Q364.113 1538.6 361.034 1543.21 Q357.979 1547.79 352.169 1547.79 Q346.358 1547.79 343.28 1543.21 Q340.224 1538.6 340.224 1529.87 Q340.224 1521.12 343.28 1516.54 Q346.358 1511.93 352.169 1511.93 Z\" fill=\"#000000\" fill-rule=\"evenodd\" fill-opacity=\"1\" /><path clip-path=\"url(#clip930)\" d=\"M 0 0 M768.053 1515.64 Q764.442 1515.64 762.613 1519.2 Q760.807 1522.75 760.807 1529.87 Q760.807 1536.98 762.613 1540.55 Q764.442 1544.09 768.053 1544.09 Q771.687 1544.09 773.492 1540.55 Q775.321 1536.98 775.321 1529.87 Q775.321 1522.75 773.492 1519.2 Q771.687 1515.64 768.053 1515.64 M768.053 1511.93 Q773.863 1511.93 776.918 1516.54 Q779.997 1521.12 779.997 1529.87 Q779.997 1538.6 776.918 1543.21 Q773.863 1547.79 768.053 1547.79 Q762.242 1547.79 759.164 1543.21 Q756.108 1538.6 756.108 1529.87 Q756.108 1521.12 759.164 1516.54 Q762.242 1511.93 768.053 1511.93 Z\" fill=\"#000000\" fill-rule=\"evenodd\" fill-opacity=\"1\" /><path clip-path=\"url(#clip930)\" d=\"M 0 0 M785.066 1541.24 L789.951 1541.24 L789.951 1547.12 L785.066 1547.12 L785.066 1541.24 Z\" fill=\"#000000\" fill-rule=\"evenodd\" fill-opacity=\"1\" /><path clip-path=\"url(#clip930)\" d=\"M 0 0 M799.048 1543.18 L815.367 1543.18 L815.367 1547.12 L793.423 1547.12 L793.423 1543.18 Q796.085 1540.43 800.668 1535.8 Q805.275 1531.15 806.455 1529.81 Q808.701 1527.28 809.58 1525.55 Q810.483 1523.79 810.483 1522.1 Q810.483 1519.34 808.539 1517.61 Q806.617 1515.87 803.515 1515.87 Q801.316 1515.87 798.863 1516.63 Q796.432 1517.4 793.654 1518.95 L793.654 1514.23 Q796.478 1513.09 798.932 1512.51 Q801.386 1511.93 803.423 1511.93 Q808.793 1511.93 811.988 1514.62 Q815.182 1517.31 815.182 1521.8 Q815.182 1523.93 814.372 1525.85 Q813.585 1527.74 811.478 1530.34 Q810.9 1531.01 807.798 1534.23 Q804.696 1537.42 799.048 1543.18 Z\" fill=\"#000000\" fill-rule=\"evenodd\" fill-opacity=\"1\" /><path clip-path=\"url(#clip930)\" d=\"M 0 0 M820.483 1512.56 L838.839 1512.56 L838.839 1516.5 L824.765 1516.5 L824.765 1524.97 Q825.784 1524.62 826.802 1524.46 Q827.821 1524.27 828.839 1524.27 Q834.626 1524.27 838.006 1527.44 Q841.386 1530.62 841.386 1536.03 Q841.386 1541.61 837.913 1544.71 Q834.441 1547.79 828.122 1547.79 Q825.946 1547.79 823.677 1547.42 Q821.432 1547.05 819.025 1546.31 L819.025 1541.61 Q821.108 1542.74 823.33 1543.3 Q825.552 1543.86 828.029 1543.86 Q832.034 1543.86 834.372 1541.75 Q836.71 1539.64 836.71 1536.03 Q836.71 1532.42 834.372 1530.31 Q832.034 1528.21 828.029 1528.21 Q826.154 1528.21 824.279 1528.62 Q822.427 1529.04 820.483 1529.92 L820.483 1512.56 Z\" fill=\"#000000\" fill-rule=\"evenodd\" fill-opacity=\"1\" /><path clip-path=\"url(#clip930)\" d=\"M 0 0 M1245.82 1515.64 Q1242.21 1515.64 1240.38 1519.2 Q1238.58 1522.75 1238.58 1529.87 Q1238.58 1536.98 1240.38 1540.55 Q1242.21 1544.09 1245.82 1544.09 Q1249.46 1544.09 1251.26 1540.55 Q1253.09 1536.98 1253.09 1529.87 Q1253.09 1522.75 1251.26 1519.2 Q1249.46 1515.64 1245.82 1515.64 M1245.82 1511.93 Q1251.63 1511.93 1254.69 1516.54 Q1257.77 1521.12 1257.77 1529.87 Q1257.77 1538.6 1254.69 1543.21 Q1251.63 1547.79 1245.82 1547.79 Q1240.01 1547.79 1236.93 1543.21 Q1233.88 1538.6 1233.88 1529.87 Q1233.88 1521.12 1236.93 1516.54 Q1240.01 1511.93 1245.82 1511.93 Z\" fill=\"#000000\" fill-rule=\"evenodd\" fill-opacity=\"1\" /><path clip-path=\"url(#clip930)\" d=\"M 0 0 M1262.84 1541.24 L1267.72 1541.24 L1267.72 1547.12 L1262.84 1547.12 L1262.84 1541.24 Z\" fill=\"#000000\" fill-rule=\"evenodd\" fill-opacity=\"1\" /><path clip-path=\"url(#clip930)\" d=\"M 0 0 M1272.84 1512.56 L1291.19 1512.56 L1291.19 1516.5 L1277.12 1516.5 L1277.12 1524.97 Q1278.14 1524.62 1279.16 1524.46 Q1280.17 1524.27 1281.19 1524.27 Q1286.98 1524.27 1290.36 1527.44 Q1293.74 1530.62 1293.74 1536.03 Q1293.74 1541.61 1290.27 1544.71 Q1286.79 1547.79 1280.48 1547.79 Q1278.3 1547.79 1276.03 1547.42 Q1273.79 1547.05 1271.38 1546.31 L1271.38 1541.61 Q1273.46 1542.74 1275.68 1543.3 Q1277.91 1543.86 1280.38 1543.86 Q1284.39 1543.86 1286.73 1541.75 Q1289.06 1539.64 1289.06 1536.03 Q1289.06 1532.42 1286.73 1530.31 Q1284.39 1528.21 1280.38 1528.21 Q1278.51 1528.21 1276.63 1528.62 Q1274.78 1529.04 1272.84 1529.92 L1272.84 1512.56 Z\" fill=\"#000000\" fill-rule=\"evenodd\" fill-opacity=\"1\" /><path clip-path=\"url(#clip930)\" d=\"M 0 0 M1308.81 1515.64 Q1305.2 1515.64 1303.37 1519.2 Q1301.56 1522.75 1301.56 1529.87 Q1301.56 1536.98 1303.37 1540.55 Q1305.2 1544.09 1308.81 1544.09 Q1312.44 1544.09 1314.25 1540.55 Q1316.08 1536.98 1316.08 1529.87 Q1316.08 1522.75 1314.25 1519.2 Q1312.44 1515.64 1308.81 1515.64 M1308.81 1511.93 Q1314.62 1511.93 1317.67 1516.54 Q1320.75 1521.12 1320.75 1529.87 Q1320.75 1538.6 1317.67 1543.21 Q1314.62 1547.79 1308.81 1547.79 Q1303 1547.79 1299.92 1543.21 Q1296.86 1538.6 1296.86 1529.87 Q1296.86 1521.12 1299.92 1516.54 Q1303 1511.93 1308.81 1511.93 Z\" fill=\"#000000\" fill-rule=\"evenodd\" fill-opacity=\"1\" /><path clip-path=\"url(#clip930)\" d=\"M 0 0 M1724.84 1515.64 Q1721.23 1515.64 1719.4 1519.2 Q1717.6 1522.75 1717.6 1529.87 Q1717.6 1536.98 1719.4 1540.55 Q1721.23 1544.09 1724.84 1544.09 Q1728.48 1544.09 1730.28 1540.55 Q1732.11 1536.98 1732.11 1529.87 Q1732.11 1522.75 1730.28 1519.2 Q1728.48 1515.64 1724.84 1515.64 M1724.84 1511.93 Q1730.65 1511.93 1733.71 1516.54 Q1736.79 1521.12 1736.79 1529.87 Q1736.79 1538.6 1733.71 1543.21 Q1730.65 1547.79 1724.84 1547.79 Q1719.03 1547.79 1715.95 1543.21 Q1712.9 1538.6 1712.9 1529.87 Q1712.9 1521.12 1715.95 1516.54 Q1719.03 1511.93 1724.84 1511.93 Z\" fill=\"#000000\" fill-rule=\"evenodd\" fill-opacity=\"1\" /><path clip-path=\"url(#clip930)\" d=\"M 0 0 M1741.86 1541.24 L1746.74 1541.24 L1746.74 1547.12 L1741.86 1547.12 L1741.86 1541.24 Z\" fill=\"#000000\" fill-rule=\"evenodd\" fill-opacity=\"1\" /><path clip-path=\"url(#clip930)\" d=\"M 0 0 M1750.63 1512.56 L1772.85 1512.56 L1772.85 1514.55 L1760.31 1547.12 L1755.42 1547.12 L1767.23 1516.5 L1750.63 1516.5 L1750.63 1512.56 Z\" fill=\"#000000\" fill-rule=\"evenodd\" fill-opacity=\"1\" /><path clip-path=\"url(#clip930)\" d=\"M 0 0 M1777.97 1512.56 L1796.32 1512.56 L1796.32 1516.5 L1782.25 1516.5 L1782.25 1524.97 Q1783.27 1524.62 1784.29 1524.46 Q1785.31 1524.27 1786.32 1524.27 Q1792.11 1524.27 1795.49 1527.44 Q1798.87 1530.62 1798.87 1536.03 Q1798.87 1541.61 1795.4 1544.71 Q1791.93 1547.79 1785.61 1547.79 Q1783.43 1547.79 1781.16 1547.42 Q1778.92 1547.05 1776.51 1546.31 L1776.51 1541.61 Q1778.59 1542.74 1780.82 1543.3 Q1783.04 1543.86 1785.51 1543.86 Q1789.52 1543.86 1791.86 1541.75 Q1794.19 1539.64 1794.19 1536.03 Q1794.19 1532.42 1791.86 1530.31 Q1789.52 1528.21 1785.51 1528.21 Q1783.64 1528.21 1781.76 1528.62 Q1779.91 1529.04 1777.97 1529.92 L1777.97 1512.56 Z\" fill=\"#000000\" fill-rule=\"evenodd\" fill-opacity=\"1\" /><path clip-path=\"url(#clip930)\" d=\"M 0 0 M2192.85 1543.18 L2200.48 1543.18 L2200.48 1516.82 L2192.17 1518.49 L2192.17 1514.23 L2200.44 1512.56 L2205.11 1512.56 L2205.11 1543.18 L2212.75 1543.18 L2212.75 1547.12 L2192.85 1547.12 L2192.85 1543.18 Z\" fill=\"#000000\" fill-rule=\"evenodd\" fill-opacity=\"1\" /><path clip-path=\"url(#clip930)\" d=\"M 0 0 M2217.82 1541.24 L2222.71 1541.24 L2222.71 1547.12 L2217.82 1547.12 L2217.82 1541.24 Z\" fill=\"#000000\" fill-rule=\"evenodd\" fill-opacity=\"1\" /><path clip-path=\"url(#clip930)\" d=\"M 0 0 M2237.78 1515.64 Q2234.16 1515.64 2232.34 1519.2 Q2230.53 1522.75 2230.53 1529.87 Q2230.53 1536.98 2232.34 1540.55 Q2234.16 1544.09 2237.78 1544.09 Q2241.41 1544.09 2243.22 1540.55 Q2245.04 1536.98 2245.04 1529.87 Q2245.04 1522.75 2243.22 1519.2 Q2241.41 1515.64 2237.78 1515.64 M2237.78 1511.93 Q2243.59 1511.93 2246.64 1516.54 Q2249.72 1521.12 2249.72 1529.87 Q2249.72 1538.6 2246.64 1543.21 Q2243.59 1547.79 2237.78 1547.79 Q2231.97 1547.79 2228.89 1543.21 Q2225.83 1538.6 2225.83 1529.87 Q2225.83 1521.12 2228.89 1516.54 Q2231.97 1511.93 2237.78 1511.93 Z\" fill=\"#000000\" fill-rule=\"evenodd\" fill-opacity=\"1\" /><path clip-path=\"url(#clip930)\" d=\"M 0 0 M2264.79 1515.64 Q2261.18 1515.64 2259.35 1519.2 Q2257.54 1522.75 2257.54 1529.87 Q2257.54 1536.98 2259.35 1540.55 Q2261.18 1544.09 2264.79 1544.09 Q2268.42 1544.09 2270.23 1540.55 Q2272.06 1536.98 2272.06 1529.87 Q2272.06 1522.75 2270.23 1519.2 Q2268.42 1515.64 2264.79 1515.64 M2264.79 1511.93 Q2270.6 1511.93 2273.65 1516.54 Q2276.73 1521.12 2276.73 1529.87 Q2276.73 1538.6 2273.65 1543.21 Q2270.6 1547.79 2264.79 1547.79 Q2258.98 1547.79 2255.9 1543.21 Q2252.84 1538.6 2252.84 1529.87 Q2252.84 1521.12 2255.9 1516.54 Q2258.98 1511.93 2264.79 1511.93 Z\" fill=\"#000000\" fill-rule=\"evenodd\" fill-opacity=\"1\" /><polyline clip-path=\"url(#clip932)\" style=\"stroke:#000000; stroke-width:2; stroke-opacity:0.1; fill:none\" points=\"\n",
       "  201.876,1445.72 2352.76,1445.72 \n",
       "  \"/>\n",
       "<polyline clip-path=\"url(#clip932)\" style=\"stroke:#000000; stroke-width:2; stroke-opacity:0.1; fill:none\" points=\"\n",
       "  201.876,1155.6 2352.76,1155.6 \n",
       "  \"/>\n",
       "<polyline clip-path=\"url(#clip932)\" style=\"stroke:#000000; stroke-width:2; stroke-opacity:0.1; fill:none\" points=\"\n",
       "  201.876,865.485 2352.76,865.485 \n",
       "  \"/>\n",
       "<polyline clip-path=\"url(#clip932)\" style=\"stroke:#000000; stroke-width:2; stroke-opacity:0.1; fill:none\" points=\"\n",
       "  201.876,575.37 2352.76,575.37 \n",
       "  \"/>\n",
       "<polyline clip-path=\"url(#clip932)\" style=\"stroke:#000000; stroke-width:2; stroke-opacity:0.1; fill:none\" points=\"\n",
       "  201.876,285.255 2352.76,285.255 \n",
       "  \"/>\n",
       "<polyline clip-path=\"url(#clip930)\" style=\"stroke:#000000; stroke-width:4; stroke-opacity:1; fill:none\" points=\"\n",
       "  201.876,1486.45 201.876,47.2441 \n",
       "  \"/>\n",
       "<polyline clip-path=\"url(#clip930)\" style=\"stroke:#000000; stroke-width:4; stroke-opacity:1; fill:none\" points=\"\n",
       "  201.876,1445.72 227.686,1445.72 \n",
       "  \"/>\n",
       "<polyline clip-path=\"url(#clip930)\" style=\"stroke:#000000; stroke-width:4; stroke-opacity:1; fill:none\" points=\"\n",
       "  201.876,1155.6 227.686,1155.6 \n",
       "  \"/>\n",
       "<polyline clip-path=\"url(#clip930)\" style=\"stroke:#000000; stroke-width:4; stroke-opacity:1; fill:none\" points=\"\n",
       "  201.876,865.485 227.686,865.485 \n",
       "  \"/>\n",
       "<polyline clip-path=\"url(#clip930)\" style=\"stroke:#000000; stroke-width:4; stroke-opacity:1; fill:none\" points=\"\n",
       "  201.876,575.37 227.686,575.37 \n",
       "  \"/>\n",
       "<polyline clip-path=\"url(#clip930)\" style=\"stroke:#000000; stroke-width:4; stroke-opacity:1; fill:none\" points=\"\n",
       "  201.876,285.255 227.686,285.255 \n",
       "  \"/>\n",
       "<path clip-path=\"url(#clip930)\" d=\"M 0 0 M62.9365 1431.51 Q59.3254 1431.51 57.4967 1435.08 Q55.6912 1438.62 55.6912 1445.75 Q55.6912 1452.86 57.4967 1456.42 Q59.3254 1459.96 62.9365 1459.96 Q66.5707 1459.96 68.3763 1456.42 Q70.205 1452.86 70.205 1445.75 Q70.205 1438.62 68.3763 1435.08 Q66.5707 1431.51 62.9365 1431.51 M62.9365 1427.81 Q68.7467 1427.81 71.8022 1432.42 Q74.8809 1437 74.8809 1445.75 Q74.8809 1454.48 71.8022 1459.08 Q68.7467 1463.67 62.9365 1463.67 Q57.1264 1463.67 54.0477 1459.08 Q50.9921 1454.48 50.9921 1445.75 Q50.9921 1437 54.0477 1432.42 Q57.1264 1427.81 62.9365 1427.81 Z\" fill=\"#000000\" fill-rule=\"evenodd\" fill-opacity=\"1\" /><path clip-path=\"url(#clip930)\" d=\"M 0 0 M79.9503 1457.12 L84.8345 1457.12 L84.8345 1463 L79.9503 1463 L79.9503 1457.12 Z\" fill=\"#000000\" fill-rule=\"evenodd\" fill-opacity=\"1\" /><path clip-path=\"url(#clip930)\" d=\"M 0 0 M99.9039 1431.51 Q96.2928 1431.51 94.4641 1435.08 Q92.6586 1438.62 92.6586 1445.75 Q92.6586 1452.86 94.4641 1456.42 Q96.2928 1459.96 99.9039 1459.96 Q103.538 1459.96 105.344 1456.42 Q107.172 1452.86 107.172 1445.75 Q107.172 1438.62 105.344 1435.08 Q103.538 1431.51 99.9039 1431.51 M99.9039 1427.81 Q105.714 1427.81 108.77 1432.42 Q111.848 1437 111.848 1445.75 Q111.848 1454.48 108.77 1459.08 Q105.714 1463.67 99.9039 1463.67 Q94.0937 1463.67 91.0151 1459.08 Q87.9595 1454.48 87.9595 1445.75 Q87.9595 1437 91.0151 1432.42 Q94.0937 1427.81 99.9039 1427.81 Z\" fill=\"#000000\" fill-rule=\"evenodd\" fill-opacity=\"1\" /><path clip-path=\"url(#clip930)\" d=\"M 0 0 M126.918 1431.51 Q123.307 1431.51 121.478 1435.08 Q119.672 1438.62 119.672 1445.75 Q119.672 1452.86 121.478 1456.42 Q123.307 1459.96 126.918 1459.96 Q130.552 1459.96 132.357 1456.42 Q134.186 1452.86 134.186 1445.75 Q134.186 1438.62 132.357 1435.08 Q130.552 1431.51 126.918 1431.51 M126.918 1427.81 Q132.728 1427.81 135.783 1432.42 Q138.862 1437 138.862 1445.75 Q138.862 1454.48 135.783 1459.08 Q132.728 1463.67 126.918 1463.67 Q121.107 1463.67 118.029 1459.08 Q114.973 1454.48 114.973 1445.75 Q114.973 1437 118.029 1432.42 Q121.107 1427.81 126.918 1427.81 Z\" fill=\"#000000\" fill-rule=\"evenodd\" fill-opacity=\"1\" /><path clip-path=\"url(#clip930)\" d=\"M 0 0 M153.931 1431.51 Q150.32 1431.51 148.492 1435.08 Q146.686 1438.62 146.686 1445.75 Q146.686 1452.86 148.492 1456.42 Q150.32 1459.96 153.931 1459.96 Q157.566 1459.96 159.371 1456.42 Q161.2 1452.86 161.2 1445.75 Q161.2 1438.62 159.371 1435.08 Q157.566 1431.51 153.931 1431.51 M153.931 1427.81 Q159.742 1427.81 162.797 1432.42 Q165.876 1437 165.876 1445.75 Q165.876 1454.48 162.797 1459.08 Q159.742 1463.67 153.931 1463.67 Q148.121 1463.67 145.043 1459.08 Q141.987 1454.48 141.987 1445.75 Q141.987 1437 145.043 1432.42 Q148.121 1427.81 153.931 1427.81 Z\" fill=\"#000000\" fill-rule=\"evenodd\" fill-opacity=\"1\" /><path clip-path=\"url(#clip930)\" d=\"M 0 0 M65.5291 1141.4 Q61.918 1141.4 60.0893 1144.96 Q58.2838 1148.51 58.2838 1155.64 Q58.2838 1162.74 60.0893 1166.31 Q61.918 1169.85 65.5291 1169.85 Q69.1633 1169.85 70.9689 1166.31 Q72.7976 1162.74 72.7976 1155.64 Q72.7976 1148.51 70.9689 1144.96 Q69.1633 1141.4 65.5291 1141.4 M65.5291 1137.7 Q71.3392 1137.7 74.3948 1142.3 Q77.4735 1146.89 77.4735 1155.64 Q77.4735 1164.36 74.3948 1168.97 Q71.3392 1173.55 65.5291 1173.55 Q59.7189 1173.55 56.6402 1168.97 Q53.5847 1164.36 53.5847 1155.64 Q53.5847 1146.89 56.6402 1142.3 Q59.7189 1137.7 65.5291 1137.7 Z\" fill=\"#000000\" fill-rule=\"evenodd\" fill-opacity=\"1\" /><path clip-path=\"url(#clip930)\" d=\"M 0 0 M82.5429 1167 L87.4271 1167 L87.4271 1172.88 L82.5429 1172.88 L82.5429 1167 Z\" fill=\"#000000\" fill-rule=\"evenodd\" fill-opacity=\"1\" /><path clip-path=\"url(#clip930)\" d=\"M 0 0 M102.496 1141.4 Q98.8854 1141.4 97.0567 1144.96 Q95.2511 1148.51 95.2511 1155.64 Q95.2511 1162.74 97.0567 1166.31 Q98.8854 1169.85 102.496 1169.85 Q106.131 1169.85 107.936 1166.31 Q109.765 1162.74 109.765 1155.64 Q109.765 1148.51 107.936 1144.96 Q106.131 1141.4 102.496 1141.4 M102.496 1137.7 Q108.307 1137.7 111.362 1142.3 Q114.441 1146.89 114.441 1155.64 Q114.441 1164.36 111.362 1168.97 Q108.307 1173.55 102.496 1173.55 Q96.6863 1173.55 93.6076 1168.97 Q90.5521 1164.36 90.5521 1155.64 Q90.5521 1146.89 93.6076 1142.3 Q96.6863 1137.7 102.496 1137.7 Z\" fill=\"#000000\" fill-rule=\"evenodd\" fill-opacity=\"1\" /><path clip-path=\"url(#clip930)\" d=\"M 0 0 M123.538 1168.95 L139.857 1168.95 L139.857 1172.88 L117.913 1172.88 L117.913 1168.95 Q120.575 1166.19 125.158 1161.56 Q129.765 1156.91 130.945 1155.57 Q133.191 1153.04 134.07 1151.31 Q134.973 1149.55 134.973 1147.86 Q134.973 1145.1 133.029 1143.37 Q131.107 1141.63 128.006 1141.63 Q125.807 1141.63 123.353 1142.39 Q120.922 1143.16 118.145 1144.71 L118.145 1139.99 Q120.969 1138.85 123.422 1138.27 Q125.876 1137.7 127.913 1137.7 Q133.283 1137.7 136.478 1140.38 Q139.672 1143.07 139.672 1147.56 Q139.672 1149.69 138.862 1151.61 Q138.075 1153.51 135.969 1156.1 Q135.39 1156.77 132.288 1159.99 Q129.186 1163.18 123.538 1168.95 Z\" fill=\"#000000\" fill-rule=\"evenodd\" fill-opacity=\"1\" /><path clip-path=\"url(#clip930)\" d=\"M 0 0 M144.973 1138.32 L163.329 1138.32 L163.329 1142.26 L149.255 1142.26 L149.255 1150.73 Q150.274 1150.38 151.293 1150.22 Q152.311 1150.03 153.33 1150.03 Q159.117 1150.03 162.496 1153.2 Q165.876 1156.38 165.876 1161.79 Q165.876 1167.37 162.404 1170.47 Q158.931 1173.55 152.612 1173.55 Q150.436 1173.55 148.168 1173.18 Q145.922 1172.81 143.515 1172.07 L143.515 1167.37 Q145.598 1168.51 147.82 1169.06 Q150.043 1169.62 152.519 1169.62 Q156.524 1169.62 158.862 1167.51 Q161.2 1165.4 161.2 1161.79 Q161.2 1158.18 158.862 1156.07 Q156.524 1153.97 152.519 1153.97 Q150.644 1153.97 148.769 1154.39 Q146.918 1154.8 144.973 1155.68 L144.973 1138.32 Z\" fill=\"#000000\" fill-rule=\"evenodd\" fill-opacity=\"1\" /><path clip-path=\"url(#clip930)\" d=\"M 0 0 M63.9319 851.284 Q60.3208 851.284 58.4921 854.849 Q56.6865 858.39 56.6865 865.52 Q56.6865 872.626 58.4921 876.191 Q60.3208 879.733 63.9319 879.733 Q67.5661 879.733 69.3717 876.191 Q71.2004 872.626 71.2004 865.52 Q71.2004 858.39 69.3717 854.849 Q67.5661 851.284 63.9319 851.284 M63.9319 847.58 Q69.742 847.58 72.7976 852.187 Q75.8763 856.77 75.8763 865.52 Q75.8763 874.247 72.7976 878.853 Q69.742 883.436 63.9319 883.436 Q58.1217 883.436 55.043 878.853 Q51.9875 874.247 51.9875 865.52 Q51.9875 856.77 55.043 852.187 Q58.1217 847.58 63.9319 847.58 Z\" fill=\"#000000\" fill-rule=\"evenodd\" fill-opacity=\"1\" /><path clip-path=\"url(#clip930)\" d=\"M 0 0 M80.9457 876.886 L85.8299 876.886 L85.8299 882.765 L80.9457 882.765 L80.9457 876.886 Z\" fill=\"#000000\" fill-rule=\"evenodd\" fill-opacity=\"1\" /><path clip-path=\"url(#clip930)\" d=\"M 0 0 M100.899 851.284 Q97.2882 851.284 95.4595 854.849 Q93.6539 858.39 93.6539 865.52 Q93.6539 872.626 95.4595 876.191 Q97.2882 879.733 100.899 879.733 Q104.534 879.733 106.339 876.191 Q108.168 872.626 108.168 865.52 Q108.168 858.39 106.339 854.849 Q104.534 851.284 100.899 851.284 M100.899 847.58 Q106.709 847.58 109.765 852.187 Q112.844 856.77 112.844 865.52 Q112.844 874.247 109.765 878.853 Q106.709 883.436 100.899 883.436 Q95.0891 883.436 92.0104 878.853 Q88.9549 874.247 88.9549 865.52 Q88.9549 856.77 92.0104 852.187 Q95.0891 847.58 100.899 847.58 Z\" fill=\"#000000\" fill-rule=\"evenodd\" fill-opacity=\"1\" /><path clip-path=\"url(#clip930)\" d=\"M 0 0 M117.959 848.205 L136.316 848.205 L136.316 852.14 L122.242 852.14 L122.242 860.613 Q123.26 860.265 124.279 860.103 Q125.297 859.918 126.316 859.918 Q132.103 859.918 135.482 863.089 Q138.862 866.261 138.862 871.677 Q138.862 877.256 135.39 880.358 Q131.918 883.436 125.598 883.436 Q123.422 883.436 121.154 883.066 Q118.908 882.696 116.501 881.955 L116.501 877.256 Q118.584 878.39 120.807 878.946 Q123.029 879.501 125.506 879.501 Q129.51 879.501 131.848 877.395 Q134.186 875.288 134.186 871.677 Q134.186 868.066 131.848 865.96 Q129.51 863.853 125.506 863.853 Q123.631 863.853 121.756 864.27 Q119.904 864.687 117.959 865.566 L117.959 848.205 Z\" fill=\"#000000\" fill-rule=\"evenodd\" fill-opacity=\"1\" /><path clip-path=\"url(#clip930)\" d=\"M 0 0 M153.931 851.284 Q150.32 851.284 148.492 854.849 Q146.686 858.39 146.686 865.52 Q146.686 872.626 148.492 876.191 Q150.32 879.733 153.931 879.733 Q157.566 879.733 159.371 876.191 Q161.2 872.626 161.2 865.52 Q161.2 858.39 159.371 854.849 Q157.566 851.284 153.931 851.284 M153.931 847.58 Q159.742 847.58 162.797 852.187 Q165.876 856.77 165.876 865.52 Q165.876 874.247 162.797 878.853 Q159.742 883.436 153.931 883.436 Q148.121 883.436 145.043 878.853 Q141.987 874.247 141.987 865.52 Q141.987 856.77 145.043 852.187 Q148.121 847.58 153.931 847.58 Z\" fill=\"#000000\" fill-rule=\"evenodd\" fill-opacity=\"1\" /><path clip-path=\"url(#clip930)\" d=\"M 0 0 M64.8346 561.169 Q61.2236 561.169 59.3949 564.733 Q57.5893 568.275 57.5893 575.405 Q57.5893 582.511 59.3949 586.076 Q61.2236 589.618 64.8346 589.618 Q68.4689 589.618 70.2744 586.076 Q72.1031 582.511 72.1031 575.405 Q72.1031 568.275 70.2744 564.733 Q68.4689 561.169 64.8346 561.169 M64.8346 557.465 Q70.6448 557.465 73.7003 562.071 Q76.779 566.655 76.779 575.405 Q76.779 584.131 73.7003 588.738 Q70.6448 593.321 64.8346 593.321 Q59.0245 593.321 55.9458 588.738 Q52.8903 584.131 52.8903 575.405 Q52.8903 566.655 55.9458 562.071 Q59.0245 557.465 64.8346 557.465 Z\" fill=\"#000000\" fill-rule=\"evenodd\" fill-opacity=\"1\" /><path clip-path=\"url(#clip930)\" d=\"M 0 0 M81.8484 586.77 L86.7327 586.77 L86.7327 592.65 L81.8484 592.65 L81.8484 586.77 Z\" fill=\"#000000\" fill-rule=\"evenodd\" fill-opacity=\"1\" /><path clip-path=\"url(#clip930)\" d=\"M 0 0 M101.802 561.169 Q98.1909 561.169 96.3623 564.733 Q94.5567 568.275 94.5567 575.405 Q94.5567 582.511 96.3623 586.076 Q98.1909 589.618 101.802 589.618 Q105.436 589.618 107.242 586.076 Q109.071 582.511 109.071 575.405 Q109.071 568.275 107.242 564.733 Q105.436 561.169 101.802 561.169 M101.802 557.465 Q107.612 557.465 110.668 562.071 Q113.746 566.655 113.746 575.405 Q113.746 584.131 110.668 588.738 Q107.612 593.321 101.802 593.321 Q95.9919 593.321 92.9132 588.738 Q89.8577 584.131 89.8577 575.405 Q89.8577 566.655 92.9132 562.071 Q95.9919 557.465 101.802 557.465 Z\" fill=\"#000000\" fill-rule=\"evenodd\" fill-opacity=\"1\" /><path clip-path=\"url(#clip930)\" d=\"M 0 0 M117.635 558.09 L139.857 558.09 L139.857 560.081 L127.311 592.65 L122.427 592.65 L134.232 562.025 L117.635 562.025 L117.635 558.09 Z\" fill=\"#000000\" fill-rule=\"evenodd\" fill-opacity=\"1\" /><path clip-path=\"url(#clip930)\" d=\"M 0 0 M144.973 558.09 L163.329 558.09 L163.329 562.025 L149.255 562.025 L149.255 570.497 Q150.274 570.15 151.293 569.988 Q152.311 569.803 153.33 569.803 Q159.117 569.803 162.496 572.974 Q165.876 576.145 165.876 581.562 Q165.876 587.141 162.404 590.243 Q158.931 593.321 152.612 593.321 Q150.436 593.321 148.168 592.951 Q145.922 592.58 143.515 591.84 L143.515 587.141 Q145.598 588.275 147.82 588.83 Q150.043 589.386 152.519 589.386 Q156.524 589.386 158.862 587.28 Q161.2 585.173 161.2 581.562 Q161.2 577.951 158.862 575.844 Q156.524 573.738 152.519 573.738 Q150.644 573.738 148.769 574.155 Q146.918 574.571 144.973 575.451 L144.973 558.09 Z\" fill=\"#000000\" fill-rule=\"evenodd\" fill-opacity=\"1\" /><path clip-path=\"url(#clip930)\" d=\"M 0 0 M64.1634 271.053 Q60.5523 271.053 58.7236 274.618 Q56.918 278.16 56.918 285.289 Q56.918 292.396 58.7236 295.961 Q60.5523 299.502 64.1634 299.502 Q67.7976 299.502 69.6031 295.961 Q71.4318 292.396 71.4318 285.289 Q71.4318 278.16 69.6031 274.618 Q67.7976 271.053 64.1634 271.053 M64.1634 267.35 Q69.9735 267.35 73.029 271.956 Q76.1077 276.539 76.1077 285.289 Q76.1077 294.016 73.029 298.623 Q69.9735 303.206 64.1634 303.206 Q58.3532 303.206 55.2745 298.623 Q52.219 294.016 52.219 285.289 Q52.219 276.539 55.2745 271.956 Q58.3532 267.35 64.1634 267.35 Z\" fill=\"#000000\" fill-rule=\"evenodd\" fill-opacity=\"1\" /><path clip-path=\"url(#clip930)\" d=\"M 0 0 M81.1771 296.655 L86.0614 296.655 L86.0614 302.535 L81.1771 302.535 L81.1771 296.655 Z\" fill=\"#000000\" fill-rule=\"evenodd\" fill-opacity=\"1\" /><path clip-path=\"url(#clip930)\" d=\"M 0 0 M91.941 298.599 L99.5798 298.599 L99.5798 272.234 L91.2697 273.901 L91.2697 269.641 L99.5335 267.975 L104.209 267.975 L104.209 298.599 L111.848 298.599 L111.848 302.535 L91.941 302.535 L91.941 298.599 Z\" fill=\"#000000\" fill-rule=\"evenodd\" fill-opacity=\"1\" /><path clip-path=\"url(#clip930)\" d=\"M 0 0 M126.918 271.053 Q123.307 271.053 121.478 274.618 Q119.672 278.16 119.672 285.289 Q119.672 292.396 121.478 295.961 Q123.307 299.502 126.918 299.502 Q130.552 299.502 132.357 295.961 Q134.186 292.396 134.186 285.289 Q134.186 278.16 132.357 274.618 Q130.552 271.053 126.918 271.053 M126.918 267.35 Q132.728 267.35 135.783 271.956 Q138.862 276.539 138.862 285.289 Q138.862 294.016 135.783 298.623 Q132.728 303.206 126.918 303.206 Q121.107 303.206 118.029 298.623 Q114.973 294.016 114.973 285.289 Q114.973 276.539 118.029 271.956 Q121.107 267.35 126.918 267.35 Z\" fill=\"#000000\" fill-rule=\"evenodd\" fill-opacity=\"1\" /><path clip-path=\"url(#clip930)\" d=\"M 0 0 M153.931 271.053 Q150.32 271.053 148.492 274.618 Q146.686 278.16 146.686 285.289 Q146.686 292.396 148.492 295.961 Q150.32 299.502 153.931 299.502 Q157.566 299.502 159.371 295.961 Q161.2 292.396 161.2 285.289 Q161.2 278.16 159.371 274.618 Q157.566 271.053 153.931 271.053 M153.931 267.35 Q159.742 267.35 162.797 271.956 Q165.876 276.539 165.876 285.289 Q165.876 294.016 162.797 298.623 Q159.742 303.206 153.931 303.206 Q148.121 303.206 145.043 298.623 Q141.987 294.016 141.987 285.289 Q141.987 276.539 145.043 271.956 Q148.121 267.35 153.931 267.35 Z\" fill=\"#000000\" fill-rule=\"evenodd\" fill-opacity=\"1\" /><path clip-path=\"url(#clip932)\" d=\"\n",
       "M320.178 87.9763 L320.178 1445.72 L511.606 1445.72 L511.606 87.9763 L320.178 87.9763 L320.178 87.9763  Z\n",
       "  \" fill=\"#009af9\" fill-rule=\"evenodd\" fill-opacity=\"1\"/>\n",
       "<polyline clip-path=\"url(#clip932)\" style=\"stroke:#000000; stroke-width:4; stroke-opacity:1; fill:none\" points=\"\n",
       "  320.178,87.9763 320.178,1445.72 511.606,1445.72 511.606,87.9763 320.178,87.9763 \n",
       "  \"/>\n",
       "<path clip-path=\"url(#clip932)\" d=\"\n",
       "M511.606 320.068 L511.606 1445.72 L703.033 1445.72 L703.033 320.068 L511.606 320.068 L511.606 320.068  Z\n",
       "  \" fill=\"#009af9\" fill-rule=\"evenodd\" fill-opacity=\"1\"/>\n",
       "<polyline clip-path=\"url(#clip932)\" style=\"stroke:#000000; stroke-width:4; stroke-opacity:1; fill:none\" points=\"\n",
       "  511.606,320.068 511.606,1445.72 703.033,1445.72 703.033,320.068 511.606,320.068 \n",
       "  \"/>\n",
       "<path clip-path=\"url(#clip932)\" d=\"\n",
       "M703.033 227.232 L703.033 1445.72 L894.461 1445.72 L894.461 227.232 L703.033 227.232 L703.033 227.232  Z\n",
       "  \" fill=\"#009af9\" fill-rule=\"evenodd\" fill-opacity=\"1\"/>\n",
       "<polyline clip-path=\"url(#clip932)\" style=\"stroke:#000000; stroke-width:4; stroke-opacity:1; fill:none\" points=\"\n",
       "  703.033,227.232 703.033,1445.72 894.461,1445.72 894.461,227.232 703.033,227.232 \n",
       "  \"/>\n",
       "<path clip-path=\"url(#clip932)\" d=\"\n",
       "M894.461 273.65 L894.461 1445.72 L1085.89 1445.72 L1085.89 273.65 L894.461 273.65 L894.461 273.65  Z\n",
       "  \" fill=\"#009af9\" fill-rule=\"evenodd\" fill-opacity=\"1\"/>\n",
       "<polyline clip-path=\"url(#clip932)\" style=\"stroke:#000000; stroke-width:4; stroke-opacity:1; fill:none\" points=\"\n",
       "  894.461,273.65 894.461,1445.72 1085.89,1445.72 1085.89,273.65 894.461,273.65 \n",
       "  \"/>\n",
       "<path clip-path=\"url(#clip932)\" d=\"\n",
       "M1085.89 331.673 L1085.89 1445.72 L1277.32 1445.72 L1277.32 331.673 L1085.89 331.673 L1085.89 331.673  Z\n",
       "  \" fill=\"#009af9\" fill-rule=\"evenodd\" fill-opacity=\"1\"/>\n",
       "<polyline clip-path=\"url(#clip932)\" style=\"stroke:#000000; stroke-width:4; stroke-opacity:1; fill:none\" points=\"\n",
       "  1085.89,331.673 1085.89,1445.72 1277.32,1445.72 1277.32,331.673 1085.89,331.673 \n",
       "  \"/>\n",
       "<path clip-path=\"url(#clip932)\" d=\"\n",
       "M1277.32 145.999 L1277.32 1445.72 L1468.74 1445.72 L1468.74 145.999 L1277.32 145.999 L1277.32 145.999  Z\n",
       "  \" fill=\"#009af9\" fill-rule=\"evenodd\" fill-opacity=\"1\"/>\n",
       "<polyline clip-path=\"url(#clip932)\" style=\"stroke:#000000; stroke-width:4; stroke-opacity:1; fill:none\" points=\"\n",
       "  1277.32,145.999 1277.32,1445.72 1468.74,1445.72 1468.74,145.999 1277.32,145.999 \n",
       "  \"/>\n",
       "<path clip-path=\"url(#clip932)\" d=\"\n",
       "M1468.74 296.859 L1468.74 1445.72 L1660.17 1445.72 L1660.17 296.859 L1468.74 296.859 L1468.74 296.859  Z\n",
       "  \" fill=\"#009af9\" fill-rule=\"evenodd\" fill-opacity=\"1\"/>\n",
       "<polyline clip-path=\"url(#clip932)\" style=\"stroke:#000000; stroke-width:4; stroke-opacity:1; fill:none\" points=\"\n",
       "  1468.74,296.859 1468.74,1445.72 1660.17,1445.72 1660.17,296.859 1468.74,296.859 \n",
       "  \"/>\n",
       "<path clip-path=\"url(#clip932)\" d=\"\n",
       "M1660.17 389.696 L1660.17 1445.72 L1851.6 1445.72 L1851.6 389.696 L1660.17 389.696 L1660.17 389.696  Z\n",
       "  \" fill=\"#009af9\" fill-rule=\"evenodd\" fill-opacity=\"1\"/>\n",
       "<polyline clip-path=\"url(#clip932)\" style=\"stroke:#000000; stroke-width:4; stroke-opacity:1; fill:none\" points=\"\n",
       "  1660.17,389.696 1660.17,1445.72 1851.6,1445.72 1851.6,389.696 1660.17,389.696 \n",
       "  \"/>\n",
       "<path clip-path=\"url(#clip932)\" d=\"\n",
       "M1851.6 459.324 L1851.6 1445.72 L2043.03 1445.72 L2043.03 459.324 L1851.6 459.324 L1851.6 459.324  Z\n",
       "  \" fill=\"#009af9\" fill-rule=\"evenodd\" fill-opacity=\"1\"/>\n",
       "<polyline clip-path=\"url(#clip932)\" style=\"stroke:#000000; stroke-width:4; stroke-opacity:1; fill:none\" points=\"\n",
       "  1851.6,459.324 1851.6,1445.72 2043.03,1445.72 2043.03,459.324 1851.6,459.324 \n",
       "  \"/>\n",
       "<path clip-path=\"url(#clip932)\" d=\"\n",
       "M2043.03 320.068 L2043.03 1445.72 L2234.45 1445.72 L2234.45 320.068 L2043.03 320.068 L2043.03 320.068  Z\n",
       "  \" fill=\"#009af9\" fill-rule=\"evenodd\" fill-opacity=\"1\"/>\n",
       "<polyline clip-path=\"url(#clip932)\" style=\"stroke:#000000; stroke-width:4; stroke-opacity:1; fill:none\" points=\"\n",
       "  2043.03,320.068 2043.03,1445.72 2234.45,1445.72 2234.45,320.068 2043.03,320.068 \n",
       "  \"/>\n",
       "<path clip-path=\"url(#clip930)\" d=\"\n",
       "M1991.05 216.178 L2281.06 216.178 L2281.06 95.2176 L1991.05 95.2176  Z\n",
       "  \" fill=\"#ffffff\" fill-rule=\"evenodd\" fill-opacity=\"1\"/>\n",
       "<polyline clip-path=\"url(#clip930)\" style=\"stroke:#000000; stroke-width:4; stroke-opacity:1; fill:none\" points=\"\n",
       "  1991.05,216.178 2281.06,216.178 2281.06,95.2176 1991.05,95.2176 1991.05,216.178 \n",
       "  \"/>\n",
       "<path clip-path=\"url(#clip930)\" d=\"\n",
       "M2014.95 179.89 L2158.35 179.89 L2158.35 131.506 L2014.95 131.506 L2014.95 179.89  Z\n",
       "  \" fill=\"#009af9\" fill-rule=\"evenodd\" fill-opacity=\"1\"/>\n",
       "<polyline clip-path=\"url(#clip930)\" style=\"stroke:#000000; stroke-width:4; stroke-opacity:1; fill:none\" points=\"\n",
       "  2014.95,179.89 2158.35,179.89 2158.35,131.506 2014.95,131.506 2014.95,179.89 \n",
       "  \"/>\n",
       "<path clip-path=\"url(#clip930)\" d=\"M 0 0 M2196.09 175.385 Q2194.28 180.015 2192.57 181.427 Q2190.86 182.839 2187.99 182.839 L2184.58 182.839 L2184.58 179.274 L2187.08 179.274 Q2188.84 179.274 2189.81 178.44 Q2190.79 177.607 2191.97 174.505 L2192.73 172.561 L2182.24 147.052 L2186.76 147.052 L2194.86 167.329 L2202.96 147.052 L2207.48 147.052 L2196.09 175.385 Z\" fill=\"#000000\" fill-rule=\"evenodd\" fill-opacity=\"1\" /><path clip-path=\"url(#clip930)\" d=\"M 0 0 M2213.36 169.042 L2220.99 169.042 L2220.99 142.677 L2212.68 144.343 L2212.68 140.084 L2220.95 138.418 L2225.62 138.418 L2225.62 169.042 L2233.26 169.042 L2233.26 172.978 L2213.36 172.978 L2213.36 169.042 Z\" fill=\"#000000\" fill-rule=\"evenodd\" fill-opacity=\"1\" /></svg>\n"
      ]
     },
     "execution_count": 513,
     "metadata": {},
     "output_type": "execute_result"
    }
   ],
   "source": [
    "plotChn(chn)"
   ]
  },
  {
   "cell_type": "code",
   "execution_count": 236,
   "metadata": {},
   "outputs": [
    {
     "data": {
      "text/plain": [
       "agent (generic function with 2 methods)"
      ]
     },
     "execution_count": 236,
     "metadata": {},
     "output_type": "execute_result"
    }
   ],
   "source": [
    "@model function agent(card, opponent_history, decpetion_alpha, opp_model)\n",
    "    remaining_deck = setdiff(FULL_DECK, card)\n",
    "    opp_card_index ~ Categorical([1,1])\n",
    "    opp_card = remaining_deck[opp_card_index]\n",
    "    opp_anticipated_move = opp_model(opp_card, opponent_history)\n",
    "    return select_move(card, opp_anticipated_move, deception_alpha)\n",
    "end"
   ]
  },
  {
   "cell_type": "code",
   "execution_count": null,
   "metadata": {},
   "outputs": [],
   "source": [
    "function move(agent, other_agent, other_agent_history, my_history, my_estimated_opponent_policy, my_depth)\n",
    "   sample\n",
    "end"
   ]
  },
  {
   "cell_type": "code",
   "execution_count": 34,
   "metadata": {},
   "outputs": [
    {
     "data": {
      "text/plain": [
       "game (generic function with 6 methods)"
      ]
     },
     "execution_count": 34,
     "metadata": {},
     "output_type": "execute_result"
    }
   ],
   "source": [
    "function game(first_player_depth = 1, second_player_depth = 1, first_player_bank = 10, second_player_bank = 10, num_of_rounds = 15)\n",
    "    first_player = agent\n",
    "    second_player = agent\n",
    "    first_player_history = []\n",
    "    second_player_history = []\n",
    "    first_player_theoretical_score = []\n",
    "    first_card, second_card = sample(FULL_DECK, 2; replace=false)\n",
    "    println(\"first card is $first_card, second card is $second_card\")\n",
    "    # @showprogress  \n",
    "    for i in 1:num_of_rounds\n",
    "        if first_player_bank > 0 && second_player_bank > 0\n",
    "            first_player_bank -= 1\n",
    "            second_player_bank -= 1\n",
    "        elseif first_player_bank > 0\n",
    "            println(\"first player won!\")\n",
    "            break\n",
    "        else\n",
    "            println(\"second player won!\")\n",
    "            break\n",
    "        end\n",
    "    end\n",
    "    return first_player_history, second_player_history, first_player_theoretical_score\n",
    " end"
   ]
  },
  {
   "cell_type": "code",
   "execution_count": 35,
   "metadata": {},
   "outputs": [
    {
     "name": "stdout",
     "output_type": "stream",
     "text": [
      "first card is 3, second card is 2\n",
      "second player won!\n"
     ]
    },
    {
     "data": {
      "text/plain": [
       "(Any[], Any[], Any[])"
      ]
     },
     "execution_count": 35,
     "metadata": {},
     "output_type": "execute_result"
    }
   ],
   "source": [
    "game()"
   ]
  },
  {
   "cell_type": "code",
   "execution_count": null,
   "metadata": {},
   "outputs": [],
   "source": []
  }
 ],
 "metadata": {
  "kernelspec": {
   "display_name": "Julia 1.5.3",
   "language": "julia",
   "name": "julia-1.5"
  },
  "language_info": {
   "file_extension": ".jl",
   "mimetype": "application/julia",
   "name": "julia",
   "version": "1.5.3"
  }
 },
 "nbformat": 4,
 "nbformat_minor": 4
}
