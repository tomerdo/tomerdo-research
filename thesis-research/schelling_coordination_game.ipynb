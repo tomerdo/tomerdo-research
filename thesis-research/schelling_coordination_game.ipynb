{
 "cells": [
  {
   "cell_type": "markdown",
   "metadata": {},
   "source": [
    "# This Notebook presents an expriment of Theory Of Mind on Schelling Coordination Game"
   ]
  },
  {
   "cell_type": "code",
   "execution_count": 1,
   "metadata": {},
   "outputs": [],
   "source": [
    "# Import libraries.\n",
    "using Turing, StatsPlots, Random"
   ]
  },
  {
   "cell_type": "markdown",
   "metadata": {},
   "source": [
    "We have 2 players: Bob and Alice.\n",
    "They Want to arrive to the same point. they can't communicate, they only can infernce about each other.\n",
    "We will model it using PPL. And use Practicle Gibbs Sampling."
   ]
  },
  {
   "cell_type": "code",
   "execution_count": 2,
   "metadata": {},
   "outputs": [
    {
     "data": {
      "text/plain": [
       "location_prior (generic function with 2 methods)"
      ]
     },
     "execution_count": 2,
     "metadata": {},
     "output_type": "execute_result"
    }
   ],
   "source": [
    "@model function location_prior(popularity=0.55)\n",
    "    popular_bar ~ Bernoulli(popularity)\n",
    "    return popular_bar\n",
    "end"
   ]
  },
  {
   "cell_type": "code",
   "execution_count": 9,
   "metadata": {},
   "outputs": [
    {
     "data": {
      "text/plain": [
       "bob (generic function with 3 methods)"
      ]
     },
     "execution_count": 9,
     "metadata": {},
     "output_type": "execute_result"
    }
   ],
   "source": [
    "@model function bob(depth = 0, popularity=0.55)\n",
    "    location = location_prior(popularity)\n",
    "    return location\n",
    "end"
   ]
  },
  {
   "cell_type": "code",
   "execution_count": 10,
   "metadata": {},
   "outputs": [
    {
     "data": {
      "text/plain": [
       "alice (generic function with 3 methods)"
      ]
     },
     "execution_count": 10,
     "metadata": {},
     "output_type": "execute_result"
    }
   ],
   "source": [
    "@model function alice(other_person_place, popularity = 0.55, depth = 0)\n",
    "    my_location = location_prior(popularity)\n",
    "    other_location = get_location(sample(other_person_place(), PG(1), 100))\n",
    "    print(display(other_location))\n",
    "    other_location ~ Dirac(my_location)\n",
    "    return my_location\n",
    "end"
   ]
  },
  {
   "cell_type": "code",
   "execution_count": 11,
   "metadata": {},
   "outputs": [
    {
     "name": "stderr",
     "output_type": "stream",
     "text": [
      "\u001b[32mSampling: 100%|█████████████████████████████████████████| Time: 0:00:00\u001b[39m\n"
     ]
    },
    {
     "ename": "LoadError",
     "evalue": "ArgumentError: reducing over an empty collection is not allowed",
     "output_type": "error",
     "traceback": [
      "ArgumentError: reducing over an empty collection is not allowed",
      "",
      "Stacktrace:",
      " [1] _empty_reduce_error() at .\\reduce.jl:299",
      " [2] mapreduce_empty(::Function, ::Base.BottomRF{typeof(vcat)}, ::Type{T} where T) at .\\reduce.jl:342",
      " [3] reduce_empty(::Base.MappingRF{Turing.Inference.var\"#15#19\"{NamedTuple{(),Tuple{}}},Base.BottomRF{typeof(vcat)}}, ::Type{Union{}}) at .\\reduce.jl:329",
      " [4] reduce_empty_iter at .\\reduce.jl:355 [inlined]",
      " [5] reduce_empty_iter at .\\reduce.jl:354 [inlined]",
      " [6] foldl_impl(::Base.MappingRF{Turing.Inference.var\"#15#19\"{NamedTuple{(),Tuple{}}},Base.BottomRF{typeof(vcat)}}, ::NamedTuple{(),Tuple{}}, ::Tuple{}) at .\\reduce.jl:49",
      " [7] mapfoldl_impl(::Turing.Inference.var\"#15#19\"{NamedTuple{(),Tuple{}}}, ::typeof(vcat), ::NamedTuple{(),Tuple{}}, ::Tuple{}) at .\\reduce.jl:44",
      " [8] mapfoldl(::Function, ::Function, ::Tuple{}; kw::Base.Iterators.Pairs{Union{},Union{},Tuple{},NamedTuple{(),Tuple{}}}) at .\\reduce.jl:160",
      " [9] mapfoldl at .\\reduce.jl:160 [inlined]",
      " [10] #mapreduce#208 at .\\reduce.jl:287 [inlined]",
      " [11] mapreduce(::Function, ::Function, ::Tuple{}) at .\\reduce.jl:287",
      " [12] flatten_namedtuple(::NamedTuple{(),Tuple{}}) at C:\\Users\\tomer\\.julia\\packages\\Turing\\O1Pn0\\src\\inference\\Inference.jl:270",
      " [13] (::Turing.Inference.var\"#9#12\"{Array{Symbol,1}})(::Turing.Inference.PGTransition{NamedTuple{(),Tuple{}},Float64}) at C:\\Users\\tomer\\.julia\\packages\\Turing\\O1Pn0\\src\\inference\\Inference.jl:253",
      " [14] iterate at .\\generator.jl:47 [inlined]",
      " [15] _collect at .\\array.jl:699 [inlined]",
      " [16] collect_similar at .\\array.jl:628 [inlined]",
      " [17] map at .\\abstractarray.jl:2162 [inlined]",
      " [18] _params_to_array at C:\\Users\\tomer\\.julia\\packages\\Turing\\O1Pn0\\src\\inference\\Inference.jl:252 [inlined]",
      " [19] bundle_samples(::Array{Turing.Inference.PGTransition{NamedTuple{(),Tuple{}},Float64},1}, ::DynamicPPL.Model{var\"#11#12\",(:depth, :popularity),(:depth, :popularity),(),Tuple{Int64,Float64},Tuple{Int64,Float64}}, ::DynamicPPL.Sampler{PG{(),AdvancedPS.ResampleWithESSThreshold{typeof(AdvancedPS.resample_systematic),Float64}}}, ::DynamicPPL.VarInfo{NamedTuple{(),Tuple{}},Float64}, ::Type{Chains}; save_state::Bool, kwargs::Base.Iterators.Pairs{Union{},Union{},Tuple{},NamedTuple{(),Tuple{}}}) at C:\\Users\\tomer\\.julia\\packages\\Turing\\O1Pn0\\src\\inference\\Inference.jl:333",
      " [20] bundle_samples(::Array{Turing.Inference.PGTransition{NamedTuple{(),Tuple{}},Float64},1}, ::DynamicPPL.Model{var\"#11#12\",(:depth, :popularity),(:depth, :popularity),(),Tuple{Int64,Float64},Tuple{Int64,Float64}}, ::DynamicPPL.Sampler{PG{(),AdvancedPS.ResampleWithESSThreshold{typeof(AdvancedPS.resample_systematic),Float64}}}, ::DynamicPPL.VarInfo{NamedTuple{(),Tuple{}},Float64}, ::Type{Chains}) at C:\\Users\\tomer\\.julia\\packages\\Turing\\O1Pn0\\src\\inference\\Inference.jl:333",
      " [21] mcmcsample(::Random._GLOBAL_RNG, ::DynamicPPL.Model{var\"#11#12\",(:depth, :popularity),(:depth, :popularity),(),Tuple{Int64,Float64},Tuple{Int64,Float64}}, ::DynamicPPL.Sampler{PG{(),AdvancedPS.ResampleWithESSThreshold{typeof(AdvancedPS.resample_systematic),Float64}}}, ::Int64; progress::Bool, progressname::String, callback::Nothing, discard_initial::Int64, thinning::Int64, chain_type::Type{T} where T, kwargs::Base.Iterators.Pairs{Union{},Union{},Tuple{},NamedTuple{(),Tuple{}}}) at C:\\Users\\tomer\\.julia\\packages\\AbstractMCMC\\Nw3Wn\\src\\sample.jl:131",
      " [22] sample(::Random._GLOBAL_RNG, ::DynamicPPL.Model{var\"#11#12\",(:depth, :popularity),(:depth, :popularity),(),Tuple{Int64,Float64},Tuple{Int64,Float64}}, ::DynamicPPL.Sampler{PG{(),AdvancedPS.ResampleWithESSThreshold{typeof(AdvancedPS.resample_systematic),Float64}}}, ::Int64; chain_type::Type{T} where T, resume_from::Nothing, progress::Bool, kwargs::Base.Iterators.Pairs{Union{},Union{},Tuple{},NamedTuple{(),Tuple{}}}) at C:\\Users\\tomer\\.julia\\packages\\Turing\\O1Pn0\\src\\inference\\Inference.jl:157",
      " [23] sample at C:\\Users\\tomer\\.julia\\packages\\Turing\\O1Pn0\\src\\inference\\Inference.jl:156 [inlined]",
      " [24] #sample#2 at C:\\Users\\tomer\\.julia\\packages\\Turing\\O1Pn0\\src\\inference\\Inference.jl:143 [inlined]",
      " [25] sample at C:\\Users\\tomer\\.julia\\packages\\Turing\\O1Pn0\\src\\inference\\Inference.jl:143 [inlined]",
      " [26] #sample#1 at C:\\Users\\tomer\\.julia\\packages\\Turing\\O1Pn0\\src\\inference\\Inference.jl:133 [inlined]",
      " [27] sample at C:\\Users\\tomer\\.julia\\packages\\Turing\\O1Pn0\\src\\inference\\Inference.jl:133 [inlined]",
      " [28] #13 at .\\In[10]:3 [inlined]",
      " [29] (::var\"#13#14\")(::Random._GLOBAL_RNG, ::DynamicPPL.Model{var\"#13#14\",(:other_person_place, :popularity, :depth),(:popularity, :depth),(),Tuple{typeof(bob),Float64,Int64},Tuple{Float64,Int64}}, ::DynamicPPL.VarInfo{DynamicPPL.Metadata{Dict{DynamicPPL.VarName,Int64},Array{Distribution,1},Array{DynamicPPL.VarName,1},Array{Real,1},Array{Set{DynamicPPL.Selector},1}},Float64}, ::DynamicPPL.SampleFromPrior, ::DynamicPPL.DefaultContext, ::typeof(bob), ::Float64, ::Int64) at .\\none:0",
      " [30] macro expansion at C:\\Users\\tomer\\.julia\\packages\\DynamicPPL\\u14IH\\src\\model.jl:0 [inlined]",
      " [31] _evaluate at C:\\Users\\tomer\\.julia\\packages\\DynamicPPL\\u14IH\\src\\model.jl:154 [inlined]",
      " [32] evaluate_threadunsafe at C:\\Users\\tomer\\.julia\\packages\\DynamicPPL\\u14IH\\src\\model.jl:127 [inlined]",
      " [33] (::DynamicPPL.Model{var\"#13#14\",(:other_person_place, :popularity, :depth),(:popularity, :depth),(),Tuple{typeof(bob),Float64,Int64},Tuple{Float64,Int64}})(::Random._GLOBAL_RNG, ::DynamicPPL.VarInfo{DynamicPPL.Metadata{Dict{DynamicPPL.VarName,Int64},Array{Distribution,1},Array{DynamicPPL.VarName,1},Array{Real,1},Array{Set{DynamicPPL.Selector},1}},Float64}, ::DynamicPPL.SampleFromPrior, ::DynamicPPL.DefaultContext) at C:\\Users\\tomer\\.julia\\packages\\DynamicPPL\\u14IH\\src\\model.jl:92",
      " [34] VarInfo at C:\\Users\\tomer\\.julia\\packages\\DynamicPPL\\u14IH\\src\\varinfo.jl:126 [inlined]",
      " [35] VarInfo at C:\\Users\\tomer\\.julia\\packages\\DynamicPPL\\u14IH\\src\\varinfo.jl:125 [inlined]",
      " [36] step(::Random._GLOBAL_RNG, ::DynamicPPL.Model{var\"#13#14\",(:other_person_place, :popularity, :depth),(:popularity, :depth),(),Tuple{typeof(bob),Float64,Int64},Tuple{Float64,Int64}}, ::DynamicPPL.Sampler{PG{(),AdvancedPS.ResampleWithESSThreshold{typeof(AdvancedPS.resample_systematic),Float64}}}; resume_from::Nothing, kwargs::Base.Iterators.Pairs{Union{},Union{},Tuple{},NamedTuple{(),Tuple{}}}) at C:\\Users\\tomer\\.julia\\packages\\DynamicPPL\\u14IH\\src\\sampler.jl:73",
      " [37] step at C:\\Users\\tomer\\.julia\\packages\\DynamicPPL\\u14IH\\src\\sampler.jl:66 [inlined]",
      " [38] macro expansion at C:\\Users\\tomer\\.julia\\packages\\AbstractMCMC\\Nw3Wn\\src\\sample.jl:78 [inlined]",
      " [39] macro expansion at C:\\Users\\tomer\\.julia\\packages\\ProgressLogging\\BBN0b\\src\\ProgressLogging.jl:328 [inlined]",
      " [40] (::AbstractMCMC.var\"#20#21\"{Bool,String,Nothing,Int64,Int64,Base.Iterators.Pairs{Union{},Union{},Tuple{},NamedTuple{(),Tuple{}}},Random._GLOBAL_RNG,DynamicPPL.Model{var\"#13#14\",(:other_person_place, :popularity, :depth),(:popularity, :depth),(),Tuple{typeof(bob),Float64,Int64},Tuple{Float64,Int64}},DynamicPPL.Sampler{PG{(),AdvancedPS.ResampleWithESSThreshold{typeof(AdvancedPS.resample_systematic),Float64}}},Int64,Int64})() at C:\\Users\\tomer\\.julia\\packages\\AbstractMCMC\\Nw3Wn\\src\\logging.jl:11",
      " [41] with_logstate(::Function, ::Any) at .\\logging.jl:408",
      " [42] with_logger at .\\logging.jl:514 [inlined]",
      " [43] with_progresslogger(::Function, ::Module, ::Base.CoreLogging.SimpleLogger) at C:\\Users\\tomer\\.julia\\packages\\AbstractMCMC\\Nw3Wn\\src\\logging.jl:34",
      " [44] macro expansion at C:\\Users\\tomer\\.julia\\packages\\AbstractMCMC\\Nw3Wn\\src\\logging.jl:10 [inlined]",
      " [45] mcmcsample(::Random._GLOBAL_RNG, ::DynamicPPL.Model{var\"#13#14\",(:other_person_place, :popularity, :depth),(:popularity, :depth),(),Tuple{typeof(bob),Float64,Int64},Tuple{Float64,Int64}}, ::DynamicPPL.Sampler{PG{(),AdvancedPS.ResampleWithESSThreshold{typeof(AdvancedPS.resample_systematic),Float64}}}, ::Int64; progress::Bool, progressname::String, callback::Nothing, discard_initial::Int64, thinning::Int64, chain_type::Type{T} where T, kwargs::Base.Iterators.Pairs{Union{},Union{},Tuple{},NamedTuple{(),Tuple{}}}) at C:\\Users\\tomer\\.julia\\packages\\AbstractMCMC\\Nw3Wn\\src\\sample.jl:76",
      " [46] sample(::Random._GLOBAL_RNG, ::DynamicPPL.Model{var\"#13#14\",(:other_person_place, :popularity, :depth),(:popularity, :depth),(),Tuple{typeof(bob),Float64,Int64},Tuple{Float64,Int64}}, ::DynamicPPL.Sampler{PG{(),AdvancedPS.ResampleWithESSThreshold{typeof(AdvancedPS.resample_systematic),Float64}}}, ::Int64; chain_type::Type{T} where T, resume_from::Nothing, progress::Bool, kwargs::Base.Iterators.Pairs{Union{},Union{},Tuple{},NamedTuple{(),Tuple{}}}) at C:\\Users\\tomer\\.julia\\packages\\Turing\\O1Pn0\\src\\inference\\Inference.jl:157",
      " [47] sample at C:\\Users\\tomer\\.julia\\packages\\Turing\\O1Pn0\\src\\inference\\Inference.jl:156 [inlined]",
      " [48] #sample#2 at C:\\Users\\tomer\\.julia\\packages\\Turing\\O1Pn0\\src\\inference\\Inference.jl:143 [inlined]",
      " [49] sample at C:\\Users\\tomer\\.julia\\packages\\Turing\\O1Pn0\\src\\inference\\Inference.jl:143 [inlined]",
      " [50] #sample#1 at C:\\Users\\tomer\\.julia\\packages\\Turing\\O1Pn0\\src\\inference\\Inference.jl:133 [inlined]",
      " [51] sample(::DynamicPPL.Model{var\"#13#14\",(:other_person_place, :popularity, :depth),(:popularity, :depth),(),Tuple{typeof(bob),Float64,Int64},Tuple{Float64,Int64}}, ::PG{(),AdvancedPS.ResampleWithESSThreshold{typeof(AdvancedPS.resample_systematic),Float64}}, ::Int64) at C:\\Users\\tomer\\.julia\\packages\\Turing\\O1Pn0\\src\\inference\\Inference.jl:133",
      " [52] top-level scope at In[11]:1"
     ]
    }
   ],
   "source": [
    "samples = sample(alice(bob), PG(1), 100)"
   ]
  },
  {
   "cell_type": "code",
   "execution_count": 12,
   "metadata": {},
   "outputs": [
    {
     "data": {
      "text/plain": [
       "alice_2 (generic function with 3 methods)"
      ]
     },
     "execution_count": 12,
     "metadata": {},
     "output_type": "execute_result"
    }
   ],
   "source": [
    "@model function alice_2(other_person_place, popularity = 0.55, depth = 0)\n",
    "    my_location ~ Bernoulli(popularity)\n",
    "    other_location = get_location(sample(other_person_place(alice_2, popularity, depth -1), PG(5), 5))\n",
    "    other_location ~ Dirac(my_location)\n",
    "    return my_location\n",
    "end"
   ]
  },
  {
   "cell_type": "code",
   "execution_count": 7,
   "metadata": {},
   "outputs": [
    {
     "data": {
      "text/plain": [
       "bob_2 (generic function with 3 methods)"
      ]
     },
     "execution_count": 7,
     "metadata": {},
     "output_type": "execute_result"
    }
   ],
   "source": [
    "@model function bob_2(other_person_place, popularity=0.55, depth = 0)\n",
    "    my_location ~ Bernoulli(popularity)\n",
    "    if depth == 0\n",
    "       return my_location \n",
    "    else\n",
    "        other_location = get_location(sample(other_person_place(bob_2, popularity, depth), PG(10), 10))\n",
    "        other_location ~ Dirac(my_location)\n",
    "        return my_location\n",
    "    end\n",
    "end"
   ]
  },
  {
   "cell_type": "code",
   "execution_count": 8,
   "metadata": {},
   "outputs": [
    {
     "name": "stderr",
     "output_type": "stream",
     "text": [
      "\u001b[32mSampling: 100%|█████████████████████████████████████████| Time: 0:00:00\u001b[39m\n"
     ]
    },
    {
     "ename": "LoadError",
     "evalue": "UndefVarError: get_location not defined",
     "output_type": "error",
     "traceback": [
      "UndefVarError: get_location not defined",
      "",
      "Stacktrace:",
      " [1] #7 at .\\In[6]:3 [inlined]",
      " [2] (::var\"#7#8\")(::Random._GLOBAL_RNG, ::DynamicPPL.Model{var\"#7#8\",(:other_person_place, :popularity, :depth),(:popularity, :depth),(),Tuple{typeof(bob_2),Float64,Int64},Tuple{Float64,Int64}}, ::DynamicPPL.VarInfo{DynamicPPL.Metadata{Dict{DynamicPPL.VarName,Int64},Array{Distribution,1},Array{DynamicPPL.VarName,1},Array{Real,1},Array{Set{DynamicPPL.Selector},1}},Float64}, ::DynamicPPL.SampleFromPrior, ::DynamicPPL.DefaultContext, ::typeof(bob_2), ::Float64, ::Int64) at .\\none:0",
      " [3] macro expansion at C:\\Users\\tomer\\.julia\\packages\\DynamicPPL\\u14IH\\src\\model.jl:0 [inlined]",
      " [4] _evaluate(::Random._GLOBAL_RNG, ::DynamicPPL.Model{var\"#7#8\",(:other_person_place, :popularity, :depth),(:popularity, :depth),(),Tuple{typeof(bob_2),Float64,Int64},Tuple{Float64,Int64}}, ::DynamicPPL.VarInfo{DynamicPPL.Metadata{Dict{DynamicPPL.VarName,Int64},Array{Distribution,1},Array{DynamicPPL.VarName,1},Array{Real,1},Array{Set{DynamicPPL.Selector},1}},Float64}, ::DynamicPPL.SampleFromPrior, ::DynamicPPL.DefaultContext) at C:\\Users\\tomer\\.julia\\packages\\DynamicPPL\\u14IH\\src\\model.jl:154",
      " [5] evaluate_threadunsafe(::Random._GLOBAL_RNG, ::DynamicPPL.Model{var\"#7#8\",(:other_person_place, :popularity, :depth),(:popularity, :depth),(),Tuple{typeof(bob_2),Float64,Int64},Tuple{Float64,Int64}}, ::DynamicPPL.VarInfo{DynamicPPL.Metadata{Dict{DynamicPPL.VarName,Int64},Array{Distribution,1},Array{DynamicPPL.VarName,1},Array{Real,1},Array{Set{DynamicPPL.Selector},1}},Float64}, ::DynamicPPL.SampleFromPrior, ::DynamicPPL.DefaultContext) at C:\\Users\\tomer\\.julia\\packages\\DynamicPPL\\u14IH\\src\\model.jl:127",
      " [6] (::DynamicPPL.Model{var\"#7#8\",(:other_person_place, :popularity, :depth),(:popularity, :depth),(),Tuple{typeof(bob_2),Float64,Int64},Tuple{Float64,Int64}})(::Random._GLOBAL_RNG, ::DynamicPPL.VarInfo{DynamicPPL.Metadata{Dict{DynamicPPL.VarName,Int64},Array{Distribution,1},Array{DynamicPPL.VarName,1},Array{Real,1},Array{Set{DynamicPPL.Selector},1}},Float64}, ::DynamicPPL.SampleFromPrior, ::DynamicPPL.DefaultContext) at C:\\Users\\tomer\\.julia\\packages\\DynamicPPL\\u14IH\\src\\model.jl:92",
      " [7] DynamicPPL.VarInfo(::Random._GLOBAL_RNG, ::DynamicPPL.Model{var\"#7#8\",(:other_person_place, :popularity, :depth),(:popularity, :depth),(),Tuple{typeof(bob_2),Float64,Int64},Tuple{Float64,Int64}}, ::DynamicPPL.SampleFromPrior, ::DynamicPPL.DefaultContext) at C:\\Users\\tomer\\.julia\\packages\\DynamicPPL\\u14IH\\src\\varinfo.jl:126",
      " [8] DynamicPPL.VarInfo(::Random._GLOBAL_RNG, ::DynamicPPL.Model{var\"#7#8\",(:other_person_place, :popularity, :depth),(:popularity, :depth),(),Tuple{typeof(bob_2),Float64,Int64},Tuple{Float64,Int64}}, ::DynamicPPL.SampleFromPrior) at C:\\Users\\tomer\\.julia\\packages\\DynamicPPL\\u14IH\\src\\varinfo.jl:125",
      " [9] step(::Random._GLOBAL_RNG, ::DynamicPPL.Model{var\"#7#8\",(:other_person_place, :popularity, :depth),(:popularity, :depth),(),Tuple{typeof(bob_2),Float64,Int64},Tuple{Float64,Int64}}, ::DynamicPPL.Sampler{PG{(),AdvancedPS.ResampleWithESSThreshold{typeof(AdvancedPS.resample_systematic),Float64}}}; resume_from::Nothing, kwargs::Base.Iterators.Pairs{Union{},Union{},Tuple{},NamedTuple{(),Tuple{}}}) at C:\\Users\\tomer\\.julia\\packages\\DynamicPPL\\u14IH\\src\\sampler.jl:73",
      " [10] step at C:\\Users\\tomer\\.julia\\packages\\DynamicPPL\\u14IH\\src\\sampler.jl:66 [inlined]",
      " [11] macro expansion at C:\\Users\\tomer\\.julia\\packages\\AbstractMCMC\\Nw3Wn\\src\\sample.jl:78 [inlined]",
      " [12] macro expansion at C:\\Users\\tomer\\.julia\\packages\\ProgressLogging\\BBN0b\\src\\ProgressLogging.jl:328 [inlined]",
      " [13] macro expansion at C:\\Users\\tomer\\.julia\\packages\\AbstractMCMC\\Nw3Wn\\src\\logging.jl:8 [inlined]",
      " [14] mcmcsample(::Random._GLOBAL_RNG, ::DynamicPPL.Model{var\"#7#8\",(:other_person_place, :popularity, :depth),(:popularity, :depth),(),Tuple{typeof(bob_2),Float64,Int64},Tuple{Float64,Int64}}, ::DynamicPPL.Sampler{PG{(),AdvancedPS.ResampleWithESSThreshold{typeof(AdvancedPS.resample_systematic),Float64}}}, ::Int64; progress::Bool, progressname::String, callback::Nothing, discard_initial::Int64, thinning::Int64, chain_type::Type{T} where T, kwargs::Base.Iterators.Pairs{Union{},Union{},Tuple{},NamedTuple{(),Tuple{}}}) at C:\\Users\\tomer\\.julia\\packages\\AbstractMCMC\\Nw3Wn\\src\\sample.jl:76",
      " [15] sample(::Random._GLOBAL_RNG, ::DynamicPPL.Model{var\"#7#8\",(:other_person_place, :popularity, :depth),(:popularity, :depth),(),Tuple{typeof(bob_2),Float64,Int64},Tuple{Float64,Int64}}, ::DynamicPPL.Sampler{PG{(),AdvancedPS.ResampleWithESSThreshold{typeof(AdvancedPS.resample_systematic),Float64}}}, ::Int64; chain_type::Type{T} where T, resume_from::Nothing, progress::Bool, kwargs::Base.Iterators.Pairs{Union{},Union{},Tuple{},NamedTuple{(),Tuple{}}}) at C:\\Users\\tomer\\.julia\\packages\\Turing\\O1Pn0\\src\\inference\\Inference.jl:157",
      " [16] sample(::Random._GLOBAL_RNG, ::DynamicPPL.Model{var\"#7#8\",(:other_person_place, :popularity, :depth),(:popularity, :depth),(),Tuple{typeof(bob_2),Float64,Int64},Tuple{Float64,Int64}}, ::DynamicPPL.Sampler{PG{(),AdvancedPS.ResampleWithESSThreshold{typeof(AdvancedPS.resample_systematic),Float64}}}, ::Int64) at C:\\Users\\tomer\\.julia\\packages\\Turing\\O1Pn0\\src\\inference\\Inference.jl:156",
      " [17] sample(::Random._GLOBAL_RNG, ::DynamicPPL.Model{var\"#7#8\",(:other_person_place, :popularity, :depth),(:popularity, :depth),(),Tuple{typeof(bob_2),Float64,Int64},Tuple{Float64,Int64}}, ::PG{(),AdvancedPS.ResampleWithESSThreshold{typeof(AdvancedPS.resample_systematic),Float64}}, ::Int64; kwargs::Base.Iterators.Pairs{Union{},Union{},Tuple{},NamedTuple{(),Tuple{}}}) at C:\\Users\\tomer\\.julia\\packages\\Turing\\O1Pn0\\src\\inference\\Inference.jl:143",
      " [18] sample(::Random._GLOBAL_RNG, ::DynamicPPL.Model{var\"#7#8\",(:other_person_place, :popularity, :depth),(:popularity, :depth),(),Tuple{typeof(bob_2),Float64,Int64},Tuple{Float64,Int64}}, ::PG{(),AdvancedPS.ResampleWithESSThreshold{typeof(AdvancedPS.resample_systematic),Float64}}, ::Int64) at C:\\Users\\tomer\\.julia\\packages\\Turing\\O1Pn0\\src\\inference\\Inference.jl:143",
      " [19] sample(::DynamicPPL.Model{var\"#7#8\",(:other_person_place, :popularity, :depth),(:popularity, :depth),(),Tuple{typeof(bob_2),Float64,Int64},Tuple{Float64,Int64}}, ::PG{(),AdvancedPS.ResampleWithESSThreshold{typeof(AdvancedPS.resample_systematic),Float64}}, ::Int64; kwargs::Base.Iterators.Pairs{Union{},Union{},Tuple{},NamedTuple{(),Tuple{}}}) at C:\\Users\\tomer\\.julia\\packages\\Turing\\O1Pn0\\src\\inference\\Inference.jl:133",
      " [20] sample(::DynamicPPL.Model{var\"#7#8\",(:other_person_place, :popularity, :depth),(:popularity, :depth),(),Tuple{typeof(bob_2),Float64,Int64},Tuple{Float64,Int64}}, ::PG{(),AdvancedPS.ResampleWithESSThreshold{typeof(AdvancedPS.resample_systematic),Float64}}, ::Int64) at C:\\Users\\tomer\\.julia\\packages\\Turing\\O1Pn0\\src\\inference\\Inference.jl:133",
      " [21] #9 at .\\In[7]:6 [inlined]",
      " [22] (::var\"#9#10\")(::Random._GLOBAL_RNG, ::DynamicPPL.Model{var\"#9#10\",(:other_person_place, :popularity, :depth),(:popularity, :depth),(),Tuple{typeof(alice_2),Float64,Int64},Tuple{Float64,Int64}}, ::DynamicPPL.VarInfo{DynamicPPL.Metadata{Dict{DynamicPPL.VarName,Int64},Array{Distribution,1},Array{DynamicPPL.VarName,1},Array{Real,1},Array{Set{DynamicPPL.Selector},1}},Float64}, ::DynamicPPL.SampleFromPrior, ::DynamicPPL.DefaultContext, ::typeof(alice_2), ::Float64, ::Int64) at .\\none:0",
      " [23] macro expansion at C:\\Users\\tomer\\.julia\\packages\\DynamicPPL\\u14IH\\src\\model.jl:0 [inlined]",
      " [24] _evaluate(::Random._GLOBAL_RNG, ::DynamicPPL.Model{var\"#9#10\",(:other_person_place, :popularity, :depth),(:popularity, :depth),(),Tuple{typeof(alice_2),Float64,Int64},Tuple{Float64,Int64}}, ::DynamicPPL.VarInfo{DynamicPPL.Metadata{Dict{DynamicPPL.VarName,Int64},Array{Distribution,1},Array{DynamicPPL.VarName,1},Array{Real,1},Array{Set{DynamicPPL.Selector},1}},Float64}, ::DynamicPPL.SampleFromPrior, ::DynamicPPL.DefaultContext) at C:\\Users\\tomer\\.julia\\packages\\DynamicPPL\\u14IH\\src\\model.jl:154",
      " [25] evaluate_threadunsafe(::Random._GLOBAL_RNG, ::DynamicPPL.Model{var\"#9#10\",(:other_person_place, :popularity, :depth),(:popularity, :depth),(),Tuple{typeof(alice_2),Float64,Int64},Tuple{Float64,Int64}}, ::DynamicPPL.VarInfo{DynamicPPL.Metadata{Dict{DynamicPPL.VarName,Int64},Array{Distribution,1},Array{DynamicPPL.VarName,1},Array{Real,1},Array{Set{DynamicPPL.Selector},1}},Float64}, ::DynamicPPL.SampleFromPrior, ::DynamicPPL.DefaultContext) at C:\\Users\\tomer\\.julia\\packages\\DynamicPPL\\u14IH\\src\\model.jl:127",
      " [26] Model at C:\\Users\\tomer\\.julia\\packages\\DynamicPPL\\u14IH\\src\\model.jl:92 [inlined]",
      " [27] VarInfo at C:\\Users\\tomer\\.julia\\packages\\DynamicPPL\\u14IH\\src\\varinfo.jl:126 [inlined]",
      " [28] VarInfo at C:\\Users\\tomer\\.julia\\packages\\DynamicPPL\\u14IH\\src\\varinfo.jl:125 [inlined]",
      " [29] step(::Random._GLOBAL_RNG, ::DynamicPPL.Model{var\"#9#10\",(:other_person_place, :popularity, :depth),(:popularity, :depth),(),Tuple{typeof(alice_2),Float64,Int64},Tuple{Float64,Int64}}, ::DynamicPPL.Sampler{PG{(),AdvancedPS.ResampleWithESSThreshold{typeof(AdvancedPS.resample_systematic),Float64}}}; resume_from::Nothing, kwargs::Base.Iterators.Pairs{Union{},Union{},Tuple{},NamedTuple{(),Tuple{}}}) at C:\\Users\\tomer\\.julia\\packages\\DynamicPPL\\u14IH\\src\\sampler.jl:73",
      " [30] step at C:\\Users\\tomer\\.julia\\packages\\DynamicPPL\\u14IH\\src\\sampler.jl:66 [inlined]",
      " [31] macro expansion at C:\\Users\\tomer\\.julia\\packages\\AbstractMCMC\\Nw3Wn\\src\\sample.jl:78 [inlined]",
      " [32] macro expansion at C:\\Users\\tomer\\.julia\\packages\\ProgressLogging\\BBN0b\\src\\ProgressLogging.jl:328 [inlined]",
      " [33] macro expansion at C:\\Users\\tomer\\.julia\\packages\\AbstractMCMC\\Nw3Wn\\src\\logging.jl:8 [inlined]",
      " [34] mcmcsample(::Random._GLOBAL_RNG, ::DynamicPPL.Model{var\"#9#10\",(:other_person_place, :popularity, :depth),(:popularity, :depth),(),Tuple{typeof(alice_2),Float64,Int64},Tuple{Float64,Int64}}, ::DynamicPPL.Sampler{PG{(),AdvancedPS.ResampleWithESSThreshold{typeof(AdvancedPS.resample_systematic),Float64}}}, ::Int64; progress::Bool, progressname::String, callback::Nothing, discard_initial::Int64, thinning::Int64, chain_type::Type{T} where T, kwargs::Base.Iterators.Pairs{Union{},Union{},Tuple{},NamedTuple{(),Tuple{}}}) at C:\\Users\\tomer\\.julia\\packages\\AbstractMCMC\\Nw3Wn\\src\\sample.jl:76",
      " [35] sample(::Random._GLOBAL_RNG, ::DynamicPPL.Model{var\"#9#10\",(:other_person_place, :popularity, :depth),(:popularity, :depth),(),Tuple{typeof(alice_2),Float64,Int64},Tuple{Float64,Int64}}, ::DynamicPPL.Sampler{PG{(),AdvancedPS.ResampleWithESSThreshold{typeof(AdvancedPS.resample_systematic),Float64}}}, ::Int64; chain_type::Type{T} where T, resume_from::Nothing, progress::Bool, kwargs::Base.Iterators.Pairs{Union{},Union{},Tuple{},NamedTuple{(),Tuple{}}}) at C:\\Users\\tomer\\.julia\\packages\\Turing\\O1Pn0\\src\\inference\\Inference.jl:157",
      " [36] sample at C:\\Users\\tomer\\.julia\\packages\\Turing\\O1Pn0\\src\\inference\\Inference.jl:156 [inlined]",
      " [37] sample(::Random._GLOBAL_RNG, ::DynamicPPL.Model{var\"#9#10\",(:other_person_place, :popularity, :depth),(:popularity, :depth),(),Tuple{typeof(alice_2),Float64,Int64},Tuple{Float64,Int64}}, ::PG{(),AdvancedPS.ResampleWithESSThreshold{typeof(AdvancedPS.resample_systematic),Float64}}, ::Int64; kwargs::Base.Iterators.Pairs{Union{},Union{},Tuple{},NamedTuple{(),Tuple{}}}) at C:\\Users\\tomer\\.julia\\packages\\Turing\\O1Pn0\\src\\inference\\Inference.jl:143",
      " [38] sample at C:\\Users\\tomer\\.julia\\packages\\Turing\\O1Pn0\\src\\inference\\Inference.jl:143 [inlined]",
      " [39] sample(::DynamicPPL.Model{var\"#9#10\",(:other_person_place, :popularity, :depth),(:popularity, :depth),(),Tuple{typeof(alice_2),Float64,Int64},Tuple{Float64,Int64}}, ::PG{(),AdvancedPS.ResampleWithESSThreshold{typeof(AdvancedPS.resample_systematic),Float64}}, ::Int64; kwargs::Base.Iterators.Pairs{Union{},Union{},Tuple{},NamedTuple{(),Tuple{}}}) at C:\\Users\\tomer\\.julia\\packages\\Turing\\O1Pn0\\src\\inference\\Inference.jl:133",
      " [40] sample(::DynamicPPL.Model{var\"#9#10\",(:other_person_place, :popularity, :depth),(:popularity, :depth),(),Tuple{typeof(alice_2),Float64,Int64},Tuple{Float64,Int64}}, ::PG{(),AdvancedPS.ResampleWithESSThreshold{typeof(AdvancedPS.resample_systematic),Float64}}, ::Int64) at C:\\Users\\tomer\\.julia\\packages\\Turing\\O1Pn0\\src\\inference\\Inference.jl:133",
      " [41] #7 at .\\In[6]:3 [inlined]",
      " [42] (::var\"#7#8\")(::Random._GLOBAL_RNG, ::DynamicPPL.Model{var\"#7#8\",(:other_person_place, :popularity, :depth),(:popularity, :depth),(),Tuple{typeof(bob_2),Float64,Int64},Tuple{Float64,Int64}}, ::DynamicPPL.VarInfo{DynamicPPL.Metadata{Dict{DynamicPPL.VarName,Int64},Array{Distribution,1},Array{DynamicPPL.VarName,1},Array{Real,1},Array{Set{DynamicPPL.Selector},1}},Float64}, ::DynamicPPL.SampleFromPrior, ::DynamicPPL.DefaultContext, ::typeof(bob_2), ::Float64, ::Int64) at .\\none:0",
      " [43] macro expansion at C:\\Users\\tomer\\.julia\\packages\\DynamicPPL\\u14IH\\src\\model.jl:0 [inlined]",
      " [44] _evaluate(::Random._GLOBAL_RNG, ::DynamicPPL.Model{var\"#7#8\",(:other_person_place, :popularity, :depth),(:popularity, :depth),(),Tuple{typeof(bob_2),Float64,Int64},Tuple{Float64,Int64}}, ::DynamicPPL.VarInfo{DynamicPPL.Metadata{Dict{DynamicPPL.VarName,Int64},Array{Distribution,1},Array{DynamicPPL.VarName,1},Array{Real,1},Array{Set{DynamicPPL.Selector},1}},Float64}, ::DynamicPPL.SampleFromPrior, ::DynamicPPL.DefaultContext) at C:\\Users\\tomer\\.julia\\packages\\DynamicPPL\\u14IH\\src\\model.jl:154",
      " [45] evaluate_threadunsafe(::Random._GLOBAL_RNG, ::DynamicPPL.Model{var\"#7#8\",(:other_person_place, :popularity, :depth),(:popularity, :depth),(),Tuple{typeof(bob_2),Float64,Int64},Tuple{Float64,Int64}}, ::DynamicPPL.VarInfo{DynamicPPL.Metadata{Dict{DynamicPPL.VarName,Int64},Array{Distribution,1},Array{DynamicPPL.VarName,1},Array{Real,1},Array{Set{DynamicPPL.Selector},1}},Float64}, ::DynamicPPL.SampleFromPrior, ::DynamicPPL.DefaultContext) at C:\\Users\\tomer\\.julia\\packages\\DynamicPPL\\u14IH\\src\\model.jl:127",
      " [46] (::DynamicPPL.Model{var\"#7#8\",(:other_person_place, :popularity, :depth),(:popularity, :depth),(),Tuple{typeof(bob_2),Float64,Int64},Tuple{Float64,Int64}})(::Random._GLOBAL_RNG, ::DynamicPPL.VarInfo{DynamicPPL.Metadata{Dict{DynamicPPL.VarName,Int64},Array{Distribution,1},Array{DynamicPPL.VarName,1},Array{Real,1},Array{Set{DynamicPPL.Selector},1}},Float64}, ::DynamicPPL.SampleFromPrior, ::DynamicPPL.DefaultContext) at C:\\Users\\tomer\\.julia\\packages\\DynamicPPL\\u14IH\\src\\model.jl:92",
      " [47] DynamicPPL.VarInfo(::Random._GLOBAL_RNG, ::DynamicPPL.Model{var\"#7#8\",(:other_person_place, :popularity, :depth),(:popularity, :depth),(),Tuple{typeof(bob_2),Float64,Int64},Tuple{Float64,Int64}}, ::DynamicPPL.SampleFromPrior, ::DynamicPPL.DefaultContext) at C:\\Users\\tomer\\.julia\\packages\\DynamicPPL\\u14IH\\src\\varinfo.jl:126",
      " [48] DynamicPPL.VarInfo(::Random._GLOBAL_RNG, ::DynamicPPL.Model{var\"#7#8\",(:other_person_place, :popularity, :depth),(:popularity, :depth),(),Tuple{typeof(bob_2),Float64,Int64},Tuple{Float64,Int64}}, ::DynamicPPL.SampleFromPrior) at C:\\Users\\tomer\\.julia\\packages\\DynamicPPL\\u14IH\\src\\varinfo.jl:125",
      " [49] step(::Random._GLOBAL_RNG, ::DynamicPPL.Model{var\"#7#8\",(:other_person_place, :popularity, :depth),(:popularity, :depth),(),Tuple{typeof(bob_2),Float64,Int64},Tuple{Float64,Int64}}, ::DynamicPPL.Sampler{PG{(),AdvancedPS.ResampleWithESSThreshold{typeof(AdvancedPS.resample_systematic),Float64}}}; resume_from::Nothing, kwargs::Base.Iterators.Pairs{Union{},Union{},Tuple{},NamedTuple{(),Tuple{}}}) at C:\\Users\\tomer\\.julia\\packages\\DynamicPPL\\u14IH\\src\\sampler.jl:73",
      " [50] step at C:\\Users\\tomer\\.julia\\packages\\DynamicPPL\\u14IH\\src\\sampler.jl:66 [inlined]",
      " [51] macro expansion at C:\\Users\\tomer\\.julia\\packages\\AbstractMCMC\\Nw3Wn\\src\\sample.jl:78 [inlined]",
      " [52] macro expansion at C:\\Users\\tomer\\.julia\\packages\\ProgressLogging\\BBN0b\\src\\ProgressLogging.jl:328 [inlined]",
      " [53] (::AbstractMCMC.var\"#20#21\"{Bool,String,Nothing,Int64,Int64,Base.Iterators.Pairs{Union{},Union{},Tuple{},NamedTuple{(),Tuple{}}},Random._GLOBAL_RNG,DynamicPPL.Model{var\"#7#8\",(:other_person_place, :popularity, :depth),(:popularity, :depth),(),Tuple{typeof(bob_2),Float64,Int64},Tuple{Float64,Int64}},DynamicPPL.Sampler{PG{(),AdvancedPS.ResampleWithESSThreshold{typeof(AdvancedPS.resample_systematic),Float64}}},Int64,Int64})() at C:\\Users\\tomer\\.julia\\packages\\AbstractMCMC\\Nw3Wn\\src\\logging.jl:11",
      " [54] with_logstate(::Function, ::Any) at .\\logging.jl:408",
      " [55] with_logger at .\\logging.jl:514 [inlined]",
      " [56] with_progresslogger(::Function, ::Module, ::Base.CoreLogging.SimpleLogger) at C:\\Users\\tomer\\.julia\\packages\\AbstractMCMC\\Nw3Wn\\src\\logging.jl:34",
      " [57] macro expansion at C:\\Users\\tomer\\.julia\\packages\\AbstractMCMC\\Nw3Wn\\src\\logging.jl:10 [inlined]",
      " [58] mcmcsample(::Random._GLOBAL_RNG, ::DynamicPPL.Model{var\"#7#8\",(:other_person_place, :popularity, :depth),(:popularity, :depth),(),Tuple{typeof(bob_2),Float64,Int64},Tuple{Float64,Int64}}, ::DynamicPPL.Sampler{PG{(),AdvancedPS.ResampleWithESSThreshold{typeof(AdvancedPS.resample_systematic),Float64}}}, ::Int64; progress::Bool, progressname::String, callback::Nothing, discard_initial::Int64, thinning::Int64, chain_type::Type{T} where T, kwargs::Base.Iterators.Pairs{Union{},Union{},Tuple{},NamedTuple{(),Tuple{}}}) at C:\\Users\\tomer\\.julia\\packages\\AbstractMCMC\\Nw3Wn\\src\\sample.jl:76",
      " [59] sample(::Random._GLOBAL_RNG, ::DynamicPPL.Model{var\"#7#8\",(:other_person_place, :popularity, :depth),(:popularity, :depth),(),Tuple{typeof(bob_2),Float64,Int64},Tuple{Float64,Int64}}, ::DynamicPPL.Sampler{PG{(),AdvancedPS.ResampleWithESSThreshold{typeof(AdvancedPS.resample_systematic),Float64}}}, ::Int64; chain_type::Type{T} where T, resume_from::Nothing, progress::Bool, kwargs::Base.Iterators.Pairs{Union{},Union{},Tuple{},NamedTuple{(),Tuple{}}}) at C:\\Users\\tomer\\.julia\\packages\\Turing\\O1Pn0\\src\\inference\\Inference.jl:157",
      " [60] sample(::Random._GLOBAL_RNG, ::DynamicPPL.Model{var\"#7#8\",(:other_person_place, :popularity, :depth),(:popularity, :depth),(),Tuple{typeof(bob_2),Float64,Int64},Tuple{Float64,Int64}}, ::DynamicPPL.Sampler{PG{(),AdvancedPS.ResampleWithESSThreshold{typeof(AdvancedPS.resample_systematic),Float64}}}, ::Int64) at C:\\Users\\tomer\\.julia\\packages\\Turing\\O1Pn0\\src\\inference\\Inference.jl:156",
      " [61] sample(::Random._GLOBAL_RNG, ::DynamicPPL.Model{var\"#7#8\",(:other_person_place, :popularity, :depth),(:popularity, :depth),(),Tuple{typeof(bob_2),Float64,Int64},Tuple{Float64,Int64}}, ::PG{(),AdvancedPS.ResampleWithESSThreshold{typeof(AdvancedPS.resample_systematic),Float64}}, ::Int64; kwargs::Base.Iterators.Pairs{Union{},Union{},Tuple{},NamedTuple{(),Tuple{}}}) at C:\\Users\\tomer\\.julia\\packages\\Turing\\O1Pn0\\src\\inference\\Inference.jl:143",
      " [62] sample(::Random._GLOBAL_RNG, ::DynamicPPL.Model{var\"#7#8\",(:other_person_place, :popularity, :depth),(:popularity, :depth),(),Tuple{typeof(bob_2),Float64,Int64},Tuple{Float64,Int64}}, ::PG{(),AdvancedPS.ResampleWithESSThreshold{typeof(AdvancedPS.resample_systematic),Float64}}, ::Int64) at C:\\Users\\tomer\\.julia\\packages\\Turing\\O1Pn0\\src\\inference\\Inference.jl:143",
      " [63] sample(::DynamicPPL.Model{var\"#7#8\",(:other_person_place, :popularity, :depth),(:popularity, :depth),(),Tuple{typeof(bob_2),Float64,Int64},Tuple{Float64,Int64}}, ::PG{(),AdvancedPS.ResampleWithESSThreshold{typeof(AdvancedPS.resample_systematic),Float64}}, ::Int64; kwargs::Base.Iterators.Pairs{Union{},Union{},Tuple{},NamedTuple{(),Tuple{}}}) at C:\\Users\\tomer\\.julia\\packages\\Turing\\O1Pn0\\src\\inference\\Inference.jl:133",
      " [64] sample(::DynamicPPL.Model{var\"#7#8\",(:other_person_place, :popularity, :depth),(:popularity, :depth),(),Tuple{typeof(bob_2),Float64,Int64},Tuple{Float64,Int64}}, ::PG{(),AdvancedPS.ResampleWithESSThreshold{typeof(AdvancedPS.resample_systematic),Float64}}, ::Int64) at C:\\Users\\tomer\\.julia\\packages\\Turing\\O1Pn0\\src\\inference\\Inference.jl:133",
      " [65] top-level scope at In[8]:1"
     ]
    }
   ],
   "source": [
    "samples = sample(alice_2(bob_2, 0.55, 2), PG(10), 20)"
   ]
  },
  {
   "cell_type": "code",
   "execution_count": null,
   "metadata": {},
   "outputs": [],
   "source": []
  },
  {
   "cell_type": "code",
   "execution_count": null,
   "metadata": {},
   "outputs": [],
   "source": []
  }
 ],
 "metadata": {
  "kernelspec": {
   "display_name": "Julia 1.5.3",
   "language": "julia",
   "name": "julia-1.5"
  },
  "language_info": {
   "file_extension": ".jl",
   "mimetype": "application/julia",
   "name": "julia",
   "version": "1.5.3"
  }
 },
 "nbformat": 4,
 "nbformat_minor": 4
}
