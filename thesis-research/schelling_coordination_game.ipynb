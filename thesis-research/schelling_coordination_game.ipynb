{
 "cells": [
  {
   "cell_type": "markdown",
   "metadata": {},
   "source": [
    "# This Notebook presents an expriment of Theory Of Mind on Schelling Coordination Game"
   ]
  },
  {
   "cell_type": "code",
   "execution_count": 1,
   "metadata": {},
   "outputs": [],
   "source": [
    "# Import libraries.\n",
    "using Turing, StatsPlots, Random"
   ]
  },
  {
   "cell_type": "markdown",
   "metadata": {},
   "source": [
    "We have 2 players: Bob and Alice.\n",
    "They Want to arrive to the same point. they can't communicate, they only can infernce about each other.\n",
    "We will model it using PPL. And use Practicle Gibbs Sampling."
   ]
  },
  {
   "cell_type": "code",
   "execution_count": 2,
   "metadata": {},
   "outputs": [
    {
     "data": {
      "text/plain": [
       "prior_location (generic function with 2 methods)"
      ]
     },
     "execution_count": 2,
     "metadata": {},
     "output_type": "execute_result"
    }
   ],
   "source": [
    "@model function prior_location(popularity_of_place = 0.9)\n",
    "    catagorical_dist = zeros(2)\n",
    "    coin ~ Bernoulli(popularity_of_place)\n",
    "    catagorical_dist[coin + 1] = 1\n",
    "    location ~ Categorical(catagorical_dist)\n",
    "    return location\n",
    "end"
   ]
  },
  {
   "cell_type": "code",
   "execution_count": 3,
   "metadata": {},
   "outputs": [
    {
     "data": {
      "text/plain": [
       "bob (generic function with 3 methods)"
      ]
     },
     "execution_count": 3,
     "metadata": {},
     "output_type": "execute_result"
    }
   ],
   "source": [
    "@model function bob(depth = 0, popularity=0.55)\n",
    "    my_location ~ Bernoulli(popularity)\n",
    "    return my_location\n",
    "end"
   ]
  },
  {
   "cell_type": "code",
   "execution_count": 4,
   "metadata": {},
   "outputs": [
    {
     "data": {
      "text/plain": [
       "get_location_2 (generic function with 1 method)"
      ]
     },
     "execution_count": 4,
     "metadata": {},
     "output_type": "execute_result"
    }
   ],
   "source": [
    "function get_location_2(samples)\n",
    "    return round(Int64, mean(samples[:my_location]))\n",
    "end"
   ]
  },
  {
   "cell_type": "code",
   "execution_count": 5,
   "metadata": {},
   "outputs": [
    {
     "data": {
      "text/plain": [
       "get_location (generic function with 1 method)"
      ]
     },
     "execution_count": 5,
     "metadata": {},
     "output_type": "execute_result"
    }
   ],
   "source": [
    "function get_location(samples)\n",
    "    return samples[:my_location][end]\n",
    "end"
   ]
  },
  {
   "cell_type": "code",
   "execution_count": 6,
   "metadata": {},
   "outputs": [
    {
     "data": {
      "text/plain": [
       "alice (generic function with 3 methods)"
      ]
     },
     "execution_count": 6,
     "metadata": {},
     "output_type": "execute_result"
    }
   ],
   "source": [
    "@model function alice(other_person_place, popularity = 0.55, depth = 0)\n",
    "    my_location ~ Bernoulli(popularity)\n",
    "    other_location = get_location(sample(other_person_place(), PG(10), 10))\n",
    "    other_location ~ Dirac(my_location)\n",
    "    return my_location\n",
    "end"
   ]
  },
  {
   "cell_type": "code",
   "execution_count": 7,
   "metadata": {},
   "outputs": [
    {
     "name": "stderr",
     "output_type": "stream",
     "text": [
      "\u001b[32mSampling: 100%|█████████████████████████████████████████| Time: 0:00:00\u001b[39m\n",
      "\u001b[32mSampling: 100%|█████████████████████████████████████████| Time: 0:00:00\u001b[39m\n"
     ]
    },
    {
     "data": {
      "text/plain": [
       "Chains MCMC chain (10×4×1 Array{Float64,3}):\n",
       "\n",
       "Log evidence      = 0.0\n",
       "Iterations        = 1:10\n",
       "Thinning interval = 1\n",
       "Chains            = 1\n",
       "Samples per chain = 10\n",
       "parameters        = my_location, other_location\n",
       "internals         = logevidence, lp\n",
       "\n",
       "Summary Statistics\n",
       " \u001b[1m     parameters \u001b[0m \u001b[1m    mean \u001b[0m \u001b[1m     std \u001b[0m \u001b[1m naive_se \u001b[0m \u001b[1m    mcse \u001b[0m \u001b[1m     ess \u001b[0m \u001b[1m    rhat \u001b[0m\n",
       " \u001b[90m         Symbol \u001b[0m \u001b[90m Float64 \u001b[0m \u001b[90m Float64 \u001b[0m \u001b[90m  Float64 \u001b[0m \u001b[90m Missing \u001b[0m \u001b[90m Float64 \u001b[0m \u001b[90m Float64 \u001b[0m\n",
       "\n",
       "     my_location    0.6000    0.5164     0.1633   missing    9.6552    1.0583\n",
       "  other_location    0.6000    0.5164     0.1633   missing    9.6552    1.0583\n",
       "\n",
       "Quantiles\n",
       " \u001b[1m     parameters \u001b[0m \u001b[1m    2.5% \u001b[0m \u001b[1m   25.0% \u001b[0m \u001b[1m   50.0% \u001b[0m \u001b[1m   75.0% \u001b[0m \u001b[1m   97.5% \u001b[0m\n",
       " \u001b[90m         Symbol \u001b[0m \u001b[90m Float64 \u001b[0m \u001b[90m Float64 \u001b[0m \u001b[90m Float64 \u001b[0m \u001b[90m Float64 \u001b[0m \u001b[90m Float64 \u001b[0m\n",
       "\n",
       "     my_location    0.0000    0.0000    1.0000    1.0000    1.0000\n",
       "  other_location    0.0000    0.0000    1.0000    1.0000    1.0000\n"
      ]
     },
     "execution_count": 7,
     "metadata": {},
     "output_type": "execute_result"
    }
   ],
   "source": [
    "samples = sample(alice(bob), PG(10), 10)"
   ]
  },
  {
   "cell_type": "code",
   "execution_count": 8,
   "metadata": {},
   "outputs": [
    {
     "data": {
      "text/plain": [
       "alice_2 (generic function with 3 methods)"
      ]
     },
     "execution_count": 8,
     "metadata": {},
     "output_type": "execute_result"
    }
   ],
   "source": [
    "@model function alice_2(other_person_place, popularity = 0.55, depth = 0)\n",
    "    my_location ~ Bernoulli(popularity)\n",
    "    other_location = get_location(sample(other_person_place(alice_2, popularity, depth -1), PG(5), 5))\n",
    "    other_location ~ Dirac(my_location)\n",
    "    return my_location\n",
    "end"
   ]
  },
  {
   "cell_type": "code",
   "execution_count": 11,
   "metadata": {},
   "outputs": [
    {
     "data": {
      "text/plain": [
       "bob_2 (generic function with 3 methods)"
      ]
     },
     "execution_count": 11,
     "metadata": {},
     "output_type": "execute_result"
    }
   ],
   "source": [
    "@model function bob_2(other_person_place, popularity=0.55, depth = 0)\n",
    "    my_location ~ Bernoulli(popularity)\n",
    "    if depth == 0\n",
    "       return my_location \n",
    "    else\n",
    "        other_location = get_location(sample(other_person_place(bob_2, popularity, depth), PG(5), 5))\n",
    "        other_location ~ Dirac(my_location)\n",
    "        return my_location\n",
    "    end\n",
    "end"
   ]
  },
  {
   "cell_type": "code",
   "execution_count": 13,
   "metadata": {},
   "outputs": [
    {
     "name": "stderr",
     "output_type": "stream",
     "text": [
      "\u001b[32mSampling: 100%|█████████████████████████████████████████| Time: 0:00:01\u001b[39m\n",
      "\u001b[32mSampling: 100%|█████████████████████████████████████████| Time: 0:00:01\u001b[39m\n",
      "\u001b[32mSampling: 100%|█████████████████████████████████████████| Time: 0:00:01\u001b[39m\n",
      "\u001b[32mSampling: 100%|█████████████████████████████████████████| Time: 0:00:01\u001b[39m\n",
      "\u001b[32mSampling: 100%|█████████████████████████████████████████| Time: 0:00:01\u001b[39m\n",
      "\u001b[32mSampling: 100%|█████████████████████████████████████████| Time: 0:00:01\u001b[39m\n",
      "\u001b[34mSampling: 100%|█████████████████████████████████████████| Time: 0:00:01\u001b[39m\n",
      "\u001b[34mSampling: 100%|█████████████████████████████████████████| Time: 0:00:01\u001b[39m\n",
      "\u001b[34mSampling: 100%|█████████████████████████████████████████| Time: 0:00:01\u001b[39m\n",
      "\u001b[34mSampling: 100%|█████████████████████████████████████████| Time: 0:00:01\u001b[39m\n",
      "\u001b[34mSampling: 100%|█████████████████████████████████████████| Time: 0:00:01\u001b[39m\n",
      "\u001b[34mSampling: 100%|█████████████████████████████████████████| Time: 0:00:01\u001b[39m\n",
      "\u001b[34mSampling: 100%|█████████████████████████████████████████| Time: 0:00:01\u001b[39m\n",
      "\u001b[34mSampling: 100%|█████████████████████████████████████████| Time: 0:00:01\u001b[39m\n",
      "\u001b[34mSampling: 100%|█████████████████████████████████████████| Time: 0:00:01\u001b[39m\n",
      "\u001b[34mSampling: 100%|█████████████████████████████████████████| Time: 0:00:01\u001b[39m\n",
      "\u001b[34mSampling: 100%|█████████████████████████████████████████| Time: 0:00:01\u001b[39m\n",
      "\u001b[34mSampling: 100%|█████████████████████████████████████████| Time: 0:00:01\u001b[39m\n",
      "\u001b[34mSampling: 100%|█████████████████████████████████████████| Time: 0:00:01\u001b[39m\n",
      "\u001b[35mSampling: 100%|█████████████████████████████████████████| Time: 0:00:00\u001b[39m\n",
      "\u001b[34mSampling: 100%|█████████████████████████████████████████| Time: 0:00:01\u001b[39m\n",
      "\u001b[34mSampling: 100%|█████████████████████████████████████████| Time: 0:00:01\u001b[39m\n",
      "\u001b[34mSampling: 100%|█████████████████████████████████████████| Time: 0:00:01\u001b[39m\n",
      "\u001b[34mSampling: 100%|█████████████████████████████████████████| Time: 0:00:01\u001b[39m\n",
      "\u001b[34mSampling: 100%|█████████████████████████████████████████| Time: 0:00:01\u001b[39m\n",
      "\u001b[34mSampling: 100%|█████████████████████████████████████████| Time: 0:00:00\u001b[39m\n",
      "\u001b[34mSampling: 100%|█████████████████████████████████████████| Time: 0:00:01\u001b[39m\n",
      "\u001b[32mSampling: 100%|█████████████████████████████████████████| Time: 0:00:29\u001b[39m\n"
     ]
    },
    {
     "data": {
      "text/plain": [
       "Chains MCMC chain (5×4×1 Array{Float64,3}):\n",
       "\n",
       "Log evidence      = 0.0\n",
       "Iterations        = 1:5\n",
       "Thinning interval = 1\n",
       "Chains            = 1\n",
       "Samples per chain = 5\n",
       "parameters        = my_location, other_location\n",
       "internals         = logevidence, lp\n",
       "\n",
       "Summary Statistics\n",
       " \u001b[1m     parameters \u001b[0m \u001b[1m    mean \u001b[0m \u001b[1m     std \u001b[0m \u001b[1m naive_se \u001b[0m \u001b[1m    mcse \u001b[0m \u001b[1m     ess \u001b[0m \u001b[1m    rhat \u001b[0m\n",
       " \u001b[90m         Symbol \u001b[0m \u001b[90m Float64 \u001b[0m \u001b[90m Float64 \u001b[0m \u001b[90m  Float64 \u001b[0m \u001b[90m Missing \u001b[0m \u001b[90m Float64 \u001b[0m \u001b[90m Float64 \u001b[0m\n",
       "\n",
       "     my_location    0.4000    0.5477     0.2449   missing   -1.3333    0.7071\n",
       "  other_location    0.4000    0.5477     0.2449   missing   -1.3333    0.7071\n",
       "\n",
       "Quantiles\n",
       " \u001b[1m     parameters \u001b[0m \u001b[1m    2.5% \u001b[0m \u001b[1m   25.0% \u001b[0m \u001b[1m   50.0% \u001b[0m \u001b[1m   75.0% \u001b[0m \u001b[1m   97.5% \u001b[0m\n",
       " \u001b[90m         Symbol \u001b[0m \u001b[90m Float64 \u001b[0m \u001b[90m Float64 \u001b[0m \u001b[90m Float64 \u001b[0m \u001b[90m Float64 \u001b[0m \u001b[90m Float64 \u001b[0m\n",
       "\n",
       "     my_location    0.0000    0.0000    0.0000    1.0000    1.0000\n",
       "  other_location    0.0000    0.0000    0.0000    1.0000    1.0000\n"
      ]
     },
     "execution_count": 13,
     "metadata": {},
     "output_type": "execute_result"
    }
   ],
   "source": [
    "samples = sample(alice_2(bob_2, 0.55, 2), PG(5), 5)"
   ]
  },
  {
   "cell_type": "code",
   "execution_count": null,
   "metadata": {},
   "outputs": [],
   "source": []
  },
  {
   "cell_type": "code",
   "execution_count": null,
   "metadata": {},
   "outputs": [],
   "source": []
  }
 ],
 "metadata": {
  "kernelspec": {
   "display_name": "Julia 1.5.3",
   "language": "julia",
   "name": "julia-1.5"
  },
  "language_info": {
   "file_extension": ".jl",
   "mimetype": "application/julia",
   "name": "julia",
   "version": "1.5.3"
  }
 },
 "nbformat": 4,
 "nbformat_minor": 4
}
