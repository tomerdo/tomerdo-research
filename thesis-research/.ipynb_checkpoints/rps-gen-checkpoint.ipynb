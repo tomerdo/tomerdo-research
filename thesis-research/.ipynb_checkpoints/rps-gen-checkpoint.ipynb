{
 "cells": [
  {
   "cell_type": "code",
   "execution_count": 9,
   "metadata": {},
   "outputs": [],
   "source": [
    "using Plots"
   ]
  },
  {
   "cell_type": "code",
   "execution_count": 14,
   "metadata": {},
   "outputs": [],
   "source": [
    "using Gen, Memoize, Random"
   ]
  },
  {
   "cell_type": "code",
   "execution_count": 167,
   "metadata": {},
   "outputs": [],
   "source": [
    "using StatsBase"
   ]
  },
  {
   "cell_type": "markdown",
   "metadata": {},
   "source": [
    "## In this notebook we will implement a  Theory Of Mind agents on a version of Poker"
   ]
  },
  {
   "cell_type": "markdown",
   "metadata": {},
   "source": [
    "Kuhn poker is an extremely simplified form of poker developed by Harold W. Kuhn as a simple model zero-sum two-player imperfect-information game, amenable to a complete game-theoretic analysis. In Kuhn poker, the deck includes only three playing cards, for example a King, Queen, and Jack. One card is dealt to each player, which may place bets similarly to a standard poker. If both players bet or both players pass, the player with the higher card wins, otherwise, the betting player wins."
   ]
  },
  {
   "cell_type": "markdown",
   "metadata": {},
   "source": [
    "#### Rules"
   ]
  },
  {
   "cell_type": "markdown",
   "metadata": {},
   "source": [
    "In conventional poker terms, a game of Kuhn poker proceeds as follows:\n",
    "\n",
    "Each player antes 1.\n",
    "Each player is dealt one of the three cards, and the third is put aside unseen.\n",
    "Player one can check or bet 1.\n",
    "* If player one checks then player two can check or bet 1.\n",
    "    * If player two checks there is a showdown for the pot of 2 (i.e. the higher card wins 1 from the other player).\n",
    "    * If player two bets then player one can fold or call.\n",
    "        * If player one folds then player two takes the pot of 3 (i.e. winning 1 from player 1).\n",
    "        * If player one calls there is a showdown for the pot of 4 (i.e. the higher card wins 2 from the other player).\n",
    "* If player one bets then player two can fold or call.\n",
    "    * If player two folds then player one takes the pot of 3 (i.e. winning 1 from player 2).\n",
    "    * If player two calls there is a showdown for the pot of 4 (i.e. the higher card wins 2 from the other player)."
   ]
  },
  {
   "cell_type": "markdown",
   "metadata": {},
   "source": [
    "#### Optimal strategy\n"
   ]
  },
  {
   "cell_type": "markdown",
   "metadata": {},
   "source": [
    "The game has a mixed-strategy Nash equilibrium; when both players play equilibrium strategies, the first player should expect to lose at a rate of −1/18 per hand (as the game is zero-sum, the second player should expect to win at a rate of +1/18). There is no pure-strategy equilibrium.\n",
    "\n",
    "Kuhn demonstrated there are infinitely many equilibrium strategies for the first player, forming a continuum governed by a single parameter. In one possible formulation, player one freely chooses the probability $\\alpha$ $\\in$ [0,1/3] with which he will bet when having a Jack (otherwise he checks; if the other player bets, he should always fold). When having a King, he should bet with the probability of $3\\alpha$ (otherwise he checks; if the other player bets, he should always call). He should always check when having a Queen, and if the other player bets after this check, he should call with the probability of $\\alpha$ +1/3.\n",
    "\n",
    "3The second player has a single equilibrium strategy: Always betting or calling when having a King; when having a Queen, checking if possible, otherwise calling with the probability of 1/3; when having a Jack, never calling and betting with the probability of 1/3."
   ]
  },
  {
   "cell_type": "markdown",
   "metadata": {},
   "source": [
    "### Constants"
   ]
  },
  {
   "cell_type": "code",
   "execution_count": 230,
   "metadata": {},
   "outputs": [
    {
     "data": {
      "text/plain": [
       "-100"
      ]
     },
     "execution_count": 230,
     "metadata": {},
     "output_type": "execute_result"
    }
   ],
   "source": [
    "INVALID_VALUE = -100"
   ]
  },
  {
   "cell_type": "code",
   "execution_count": 10,
   "metadata": {},
   "outputs": [
    {
     "data": {
      "text/plain": [
       "3-element Array{Int64,1}:\n",
       " 1\n",
       " 2\n",
       " 3"
      ]
     },
     "execution_count": 10,
     "metadata": {},
     "output_type": "execute_result"
    }
   ],
   "source": [
    "JACK = 1\n",
    "QUEEN = 2\n",
    "KING = 3\n",
    "FULL_DECK = [JACK, QUEEN, KING]"
   ]
  },
  {
   "cell_type": "code",
   "execution_count": 11,
   "metadata": {},
   "outputs": [
    {
     "data": {
      "text/plain": [
       "3-element Array{Int64,1}:\n",
       " -1\n",
       "  0\n",
       "  1"
      ]
     },
     "execution_count": 11,
     "metadata": {},
     "output_type": "execute_result"
    }
   ],
   "source": [
    "FOLD = -1\n",
    "CHECK = 0\n",
    "BET = 1\n",
    "ACTIONS = [FOLD, CHECK, BET]"
   ]
  },
  {
   "cell_type": "markdown",
   "metadata": {},
   "source": [
    "### Utility functions"
   ]
  },
  {
   "cell_type": "code",
   "execution_count": 176,
   "metadata": {},
   "outputs": [
    {
     "data": {
      "text/plain": [
       "get_remaining_cards (generic function with 1 method)"
      ]
     },
     "execution_count": 176,
     "metadata": {},
     "output_type": "execute_result"
    }
   ],
   "source": [
    "function get_remaining_cards(card)\n",
    "   return setdiff(FULL_DECK, [card])\n",
    "end"
   ]
  },
  {
   "cell_type": "code",
   "execution_count": 12,
   "metadata": {},
   "outputs": [
    {
     "data": {
      "text/plain": [
       "reward (generic function with 1 method)"
      ]
     },
     "execution_count": 12,
     "metadata": {},
     "output_type": "execute_result"
    }
   ],
   "source": [
    "function reward(my_card::Int, buddy_card::Int)\n",
    "    return my_card > buddy_card ? 1 : -1\n",
    "end"
   ]
  },
  {
   "cell_type": "code",
   "execution_count": 13,
   "metadata": {},
   "outputs": [
    {
     "data": {
      "text/plain": [
       "reward (generic function with 2 methods)"
      ]
     },
     "execution_count": 13,
     "metadata": {},
     "output_type": "execute_result"
    }
   ],
   "source": [
    "function reward(my_card::Int, buddy_card::Int, my_action::Int, buddy_action::Int)\n",
    "    if my_action == FOLD\n",
    "        return -1\n",
    "    end\n",
    "    if buddy_action == FOLD\n",
    "        return 1\n",
    "    end\n",
    "    \n",
    "    bet_factor = my_action == BET || buddy_action == BET ? 2 : 1\n",
    "    \n",
    "    return bet_factor * reward(my_card, buddy_card)\n",
    "end"
   ]
  },
  {
   "cell_type": "code",
   "execution_count": 177,
   "metadata": {},
   "outputs": [
    {
     "data": {
      "text/plain": [
       "expected_reward (generic function with 2 methods)"
      ]
     },
     "execution_count": 177,
     "metadata": {},
     "output_type": "execute_result"
    }
   ],
   "source": [
    "function expected_reward(my_card::Int, my_action::Int, buddy_action::Int, opp_cards_distribution=[0.5, 0.5])\n",
    "    optional_buddy_cards = get_remaining_cards(my_card)\n",
    "    rewards = map(optional_buddy_card -> reward(my_card, optional_buddy_card, my_action, buddy_action), optional_buddy_cards)\n",
    "    expected_reward = rewards' * opp_cards_distribution\n",
    "end"
   ]
  },
  {
   "cell_type": "markdown",
   "metadata": {},
   "source": [
    "### Some tests"
   ]
  },
  {
   "cell_type": "code",
   "execution_count": 103,
   "metadata": {},
   "outputs": [
    {
     "data": {
      "text/plain": [
       "-2.0"
      ]
     },
     "execution_count": 103,
     "metadata": {},
     "output_type": "execute_result"
    }
   ],
   "source": [
    "expected_reward(JACK, CHECK, BET)"
   ]
  },
  {
   "cell_type": "code",
   "execution_count": 104,
   "metadata": {},
   "outputs": [
    {
     "data": {
      "text/plain": [
       "-1.0"
      ]
     },
     "execution_count": 104,
     "metadata": {},
     "output_type": "execute_result"
    }
   ],
   "source": [
    "expected_reward(JACK, FOLD, BET)"
   ]
  },
  {
   "cell_type": "code",
   "execution_count": 105,
   "metadata": {},
   "outputs": [
    {
     "data": {
      "text/plain": [
       "-1.0"
      ]
     },
     "execution_count": 105,
     "metadata": {},
     "output_type": "execute_result"
    }
   ],
   "source": [
    "expected_reward(QUEEN, FOLD, BET)"
   ]
  },
  {
   "cell_type": "code",
   "execution_count": 106,
   "metadata": {},
   "outputs": [
    {
     "data": {
      "text/plain": [
       "0.0"
      ]
     },
     "execution_count": 106,
     "metadata": {},
     "output_type": "execute_result"
    }
   ],
   "source": [
    "expected_reward(QUEEN, CHECK, BET)"
   ]
  },
  {
   "cell_type": "code",
   "execution_count": 107,
   "metadata": {},
   "outputs": [
    {
     "data": {
      "text/plain": [
       "-1.0"
      ]
     },
     "execution_count": 107,
     "metadata": {},
     "output_type": "execute_result"
    }
   ],
   "source": [
    "expected_reward(KING, FOLD, BET)"
   ]
  },
  {
   "cell_type": "code",
   "execution_count": 108,
   "metadata": {},
   "outputs": [
    {
     "data": {
      "text/plain": [
       "2.0"
      ]
     },
     "execution_count": 108,
     "metadata": {},
     "output_type": "execute_result"
    }
   ],
   "source": [
    "expected_reward(KING, CHECK, BET)"
   ]
  },
  {
   "cell_type": "markdown",
   "metadata": {},
   "source": [
    "#### We want to design an algorithm that infer the posterior for policy of check or bet, and the policy of fold or call"
   ]
  },
  {
   "cell_type": "markdown",
   "metadata": {},
   "source": [
    "#### For each player we want to compute two vectors:\n",
    "<ol>\n",
    "    <li>Check or bet probability</li>\n",
    "    <li>Fold or call probability</li>\n",
    "</ol>"
   ]
  },
  {
   "cell_type": "markdown",
   "metadata": {},
   "source": [
    "The rewards of fold or call is pretty much stright forward.<br>\n",
    "Compute the expectation of reward given your card.<br>\n",
    "Next stage can be based on computed cards distribution given opp_action is BET"
   ]
  },
  {
   "cell_type": "code",
   "execution_count": 191,
   "metadata": {},
   "outputs": [],
   "source": [
    "@gen function fold_or_call(card, unused_flag)\n",
    "    call = @trace(bernoulli(0.5), :call)    \n",
    "    if call\n",
    "        r = expected_reward(card, CHECK, BET)\n",
    "    else\n",
    "        r = expected_reward(card, FOLD, BET)\n",
    "    end\n",
    "    @trace(bernoulli(exp(r)), :r)\n",
    "end;"
   ]
  },
  {
   "cell_type": "markdown",
   "metadata": {},
   "source": [
    "The rewards of check or bet is less straight forward<br>\n",
    "It's derived from the next optional buddy reaction to our action<br>\n",
    "We can use opponent's fold_or_call model to derive the rewards in case we choose BET<br>\n",
    "And use opponent's check_or_bet model to derive the rewards in case we choose CHECK and then our fold_or_call<br>"
   ]
  },
  {
   "cell_type": "markdown",
   "metadata": {},
   "source": [
    "last_check argument controlד the amount of check_or_bet computation in a row (we want to cut it after 2 (rules of the game))"
   ]
  },
  {
   "cell_type": "code",
   "execution_count": 249,
   "metadata": {},
   "outputs": [],
   "source": [
    "@gen function check_or_bet(card, last_check=false)\n",
    "    bet = @trace(bernoulli(0.5), :bet)\n",
    "    optional_buddy_cards = get_remaining_cards(card)\n",
    "    if bet\n",
    "        r = 0\n",
    "        for opp_card = optional_buddy_cards\n",
    "            \n",
    "            # theory of mind about opponent's fold-cold policy\n",
    "            calls = run_episodic(fold_or_call, opp_card, :call)\n",
    "            call_ratio = sum(calls) / length(calls)\n",
    "            \n",
    "            # opp will call\n",
    "            r_opp_will_call = reward(card, opp_card, BET, CHECK)\n",
    "\n",
    "            # opp will fold\n",
    "            r_opp_will_fold = reward(card, opp_card, BET, FOLD)\n",
    "           \n",
    "            r_opp_card = call_ratio * r_opp_will_call + (1-call_ratio)*r_opp_will_fold\n",
    "            \n",
    "            # expectation over cards, later we may can use learned probabilities\n",
    "            r += 0.5 * r_opp_card\n",
    "        end\n",
    "    else\n",
    "        r = 0\n",
    "        for opp_card = optional_buddy_cards\n",
    "            if last_check # cut the computation cycle\n",
    "                r_opp_card = reward(card, opp_card, CHECK, CHECK)\n",
    "            else # the opponent can check again or bet\n",
    "                # theory of mind about opponent's check-bet policy\n",
    "                bets = run_episodic(check_or_bet, opp_card, :bet, true)\n",
    "                bet_ratio = sum(bets) / length(bets)\n",
    "\n",
    "                \n",
    "                # check if i will call or fold\n",
    "                \n",
    "                # theory of mind about mine fold-cold policy\n",
    "                calls = run_episodic(fold_or_call, card, :call)\n",
    "                call_ratio = sum(calls) / length(calls)\n",
    "                \n",
    "                # i will call\n",
    "                r_opp_will_bet_i_will_call = reward(card, opp_card, CHECK, BET)\n",
    "                \n",
    "                # i will fold\n",
    "                r_opp_will_bet_i_will_fold = reward(card, opp_card, FOLD, BET)\n",
    "                \n",
    "                r_opp_will_bet = call_ratio * r_opp_will_bet_i_will_call + (1-call_ratio)*r_opp_will_bet_i_will_fold\n",
    "                # opp will bet\n",
    "                r_opp_will_bet = reward(card, opp_card, CHECK, CHECK)\n",
    "                \n",
    "                # opp will check\n",
    "                r_opp_will_check = reward(card, opp_card, CHECK, CHECK)\n",
    "\n",
    "                r_opp_card = bet_ratio * r_opp_will_bet + (1-bet_ratio)*r_opp_will_check\n",
    "            end\n",
    "            r += 0.5 * r_opp_card\n",
    "        end\n",
    "        \n",
    "    end\n",
    "    @trace(bernoulli(exp(r)), :r)\n",
    "end;"
   ]
  },
  {
   "cell_type": "markdown",
   "metadata": {},
   "source": [
    "### Generic Gen infernce methods made by David in bob-alice-musings"
   ]
  },
  {
   "cell_type": "code",
   "execution_count": 187,
   "metadata": {},
   "outputs": [],
   "source": [
    "@memoize function run_episodic(model, card, sym, last_check=false, niter=1000)\n",
    "    observations = Gen.choicemap()\n",
    "    observations[:r] = true\n",
    "\n",
    "    trace, _ = Gen.generate(model, (card, last_check), observations)\n",
    "    values = []\n",
    "    for i = 1:niter\n",
    "        trace, _ = Gen.mh(trace, select(sym))\n",
    "        push!(values, get_choices(trace)[sym])\n",
    "    end\n",
    "    return values\n",
    "end\n",
    "empty!(memoize_cache(run_episodic));"
   ]
  },
  {
   "cell_type": "code",
   "execution_count": 188,
   "metadata": {},
   "outputs": [],
   "source": [
    "function genepisodic(model, card, sym, last_check = false, niter=5000)\n",
    "    nburn = niter%10\n",
    "    values = run_episodic(model, card, sym, last_check, nburn + niter)[nburn+1:end]\n",
    "    return sum(values)/length(values)\n",
    "end;"
   ]
  },
  {
   "cell_type": "code",
   "execution_count": 189,
   "metadata": {},
   "outputs": [
    {
     "data": {
      "text/plain": [
       "simulate (generic function with 4 methods)"
      ]
     },
     "execution_count": 189,
     "metadata": {},
     "output_type": "execute_result"
    }
   ],
   "source": [
    "function simulate(model, card, sym, last_check = false, niter=5000)\n",
    "    nburn = niter%10\n",
    "    values = run_episodic(model, card, sym, last_check, nburn + niter)[nburn+1:end]\n",
    "    return sample(values)\n",
    "end"
   ]
  },
  {
   "cell_type": "markdown",
   "metadata": {},
   "source": [
    "### Some tests"
   ]
  },
  {
   "cell_type": "markdown",
   "metadata": {},
   "source": [
    "### for fold_or_call"
   ]
  },
  {
   "cell_type": "code",
   "execution_count": 148,
   "metadata": {},
   "outputs": [
    {
     "data": {
      "text/plain": [
       "0.266"
      ]
     },
     "execution_count": 148,
     "metadata": {},
     "output_type": "execute_result"
    }
   ],
   "source": [
    "genepisodic(fold_or_call, JACK, :call)"
   ]
  },
  {
   "cell_type": "code",
   "execution_count": 179,
   "metadata": {},
   "outputs": [
    {
     "data": {
      "text/plain": [
       "0.21"
      ]
     },
     "execution_count": 179,
     "metadata": {},
     "output_type": "execute_result"
    }
   ],
   "source": [
    "sum([simulate(fold_or_call, JACK, :call) for _ in 1:100]) / 100"
   ]
  },
  {
   "cell_type": "code",
   "execution_count": 149,
   "metadata": {},
   "outputs": [
    {
     "data": {
      "text/plain": [
       "0.7324"
      ]
     },
     "execution_count": 149,
     "metadata": {},
     "output_type": "execute_result"
    }
   ],
   "source": [
    "genepisodic(fold_or_call, QUEEN, :call)"
   ]
  },
  {
   "cell_type": "code",
   "execution_count": 180,
   "metadata": {},
   "outputs": [
    {
     "data": {
      "text/plain": [
       "0.72"
      ]
     },
     "execution_count": 180,
     "metadata": {},
     "output_type": "execute_result"
    }
   ],
   "source": [
    "sum([simulate(fold_or_call, QUEEN, :call) for _ in 1:100]) / 100"
   ]
  },
  {
   "cell_type": "code",
   "execution_count": 150,
   "metadata": {},
   "outputs": [
    {
     "data": {
      "text/plain": [
       "0.952"
      ]
     },
     "execution_count": 150,
     "metadata": {},
     "output_type": "execute_result"
    }
   ],
   "source": [
    "genepisodic(fold_or_call, KING, :call)"
   ]
  },
  {
   "cell_type": "code",
   "execution_count": 181,
   "metadata": {},
   "outputs": [
    {
     "data": {
      "text/plain": [
       "0.98"
      ]
     },
     "execution_count": 181,
     "metadata": {},
     "output_type": "execute_result"
    }
   ],
   "source": [
    "sum([simulate(fold_or_call, KING, :call) for _ in 1:100]) / 100"
   ]
  },
  {
   "cell_type": "markdown",
   "metadata": {},
   "source": [
    "### for check_or_bet"
   ]
  },
  {
   "cell_type": "code",
   "execution_count": 199,
   "metadata": {},
   "outputs": [
    {
     "data": {
      "text/plain": [
       "0.3662"
      ]
     },
     "execution_count": 199,
     "metadata": {},
     "output_type": "execute_result"
    }
   ],
   "source": [
    "genepisodic(check_or_bet, JACK, :bet)"
   ]
  },
  {
   "cell_type": "code",
   "execution_count": 200,
   "metadata": {},
   "outputs": [
    {
     "data": {
      "text/plain": [
       "0.4278"
      ]
     },
     "execution_count": 200,
     "metadata": {},
     "output_type": "execute_result"
    }
   ],
   "source": [
    "genepisodic(check_or_bet, QUEEN, :bet)"
   ]
  },
  {
   "cell_type": "code",
   "execution_count": 201,
   "metadata": {},
   "outputs": [
    {
     "data": {
      "text/plain": [
       "0.6222"
      ]
     },
     "execution_count": 201,
     "metadata": {},
     "output_type": "execute_result"
    }
   ],
   "source": [
    "genepisodic(check_or_bet, KING, :bet)"
   ]
  },
  {
   "cell_type": "markdown",
   "metadata": {},
   "source": [
    "### for check_or_bet - last_check"
   ]
  },
  {
   "cell_type": "code",
   "execution_count": 244,
   "metadata": {},
   "outputs": [
    {
     "data": {
      "text/plain": [
       "0.3832"
      ]
     },
     "execution_count": 244,
     "metadata": {},
     "output_type": "execute_result"
    }
   ],
   "source": [
    "genepisodic(check_or_bet, JACK, :bet, true)"
   ]
  },
  {
   "cell_type": "code",
   "execution_count": 245,
   "metadata": {},
   "outputs": [
    {
     "data": {
      "text/plain": [
       "0.4188"
      ]
     },
     "execution_count": 245,
     "metadata": {},
     "output_type": "execute_result"
    }
   ],
   "source": [
    "genepisodic(check_or_bet, QUEEN, :bet, true)"
   ]
  },
  {
   "cell_type": "code",
   "execution_count": 247,
   "metadata": {},
   "outputs": [
    {
     "data": {
      "text/plain": [
       "0.619"
      ]
     },
     "execution_count": 247,
     "metadata": {},
     "output_type": "execute_result"
    }
   ],
   "source": [
    "genepisodic(check_or_bet, KING, :bet, true)"
   ]
  },
  {
   "cell_type": "markdown",
   "metadata": {},
   "source": [
    "### Simulators that run the inference and compute scores"
   ]
  },
  {
   "cell_type": "code",
   "execution_count": 235,
   "metadata": {},
   "outputs": [
    {
     "data": {
      "text/plain": [
       "compute_policy_fold_or_call (generic function with 2 methods)"
      ]
     },
     "execution_count": 235,
     "metadata": {},
     "output_type": "execute_result"
    }
   ],
   "source": [
    "function compute_policy_fold_or_call(card, last_check)\n",
    "    p_call = genepisodic(fold_or_call, card, :call, last_check)\n",
    "    return [1-p_call, p_call]\n",
    "end"
   ]
  },
  {
   "cell_type": "code",
   "execution_count": 236,
   "metadata": {},
   "outputs": [
    {
     "data": {
      "text/plain": [
       "compute_policy_check_or_bet (generic function with 2 methods)"
      ]
     },
     "execution_count": 236,
     "metadata": {},
     "output_type": "execute_result"
    }
   ],
   "source": [
    "function compute_policy_check_or_bet(card, last_check)\n",
    "    p_bet = genepisodic(check_or_bet, card, :bet, last_check)\n",
    "    return [1-p_bet, p_bet]\n",
    "end"
   ]
  },
  {
   "cell_type": "code",
   "execution_count": 215,
   "metadata": {},
   "outputs": [
    {
     "data": {
      "text/plain": [
       "compute_policy (generic function with 3 methods)"
      ]
     },
     "execution_count": 215,
     "metadata": {},
     "output_type": "execute_result"
    }
   ],
   "source": [
    "function compute_policy(card, last_check, previous_player_betted=false)\n",
    "    if previous_player_betted\n",
    "        return compute_policy_fold_or_call(card, last_check)\n",
    "    else\n",
    "        return compute_policy_check_or_bet(card, last_check) \n",
    "    end\n",
    "end"
   ]
  },
  {
   "cell_type": "code",
   "execution_count": 216,
   "metadata": {},
   "outputs": [
    {
     "data": {
      "text/plain": [
       "sample_check_bet (generic function with 1 method)"
      ]
     },
     "execution_count": 216,
     "metadata": {},
     "output_type": "execute_result"
    }
   ],
   "source": [
    "function sample_check_bet(policy)\n",
    "   sample([CHECK,BET], Weights(policy)) \n",
    "end"
   ]
  },
  {
   "cell_type": "code",
   "execution_count": 217,
   "metadata": {},
   "outputs": [
    {
     "data": {
      "text/plain": [
       "sample_fold_call (generic function with 1 method)"
      ]
     },
     "execution_count": 217,
     "metadata": {},
     "output_type": "execute_result"
    }
   ],
   "source": [
    "function sample_fold_call(policy)\n",
    "   sample([FOLD,CHECK], Weights(policy)) \n",
    "end"
   ]
  },
  {
   "cell_type": "code",
   "execution_count": 224,
   "metadata": {},
   "outputs": [
    {
     "data": {
      "text/plain": [
       "sample_action (generic function with 2 methods)"
      ]
     },
     "execution_count": 224,
     "metadata": {},
     "output_type": "execute_result"
    }
   ],
   "source": [
    "function sample_action(policy, previous_player_betted=false)\n",
    "    if previous_player_betted\n",
    "        return sample_fold_call(policy)\n",
    "    else\n",
    "        return sample_check_bet(policy) \n",
    "    end\n",
    "end"
   ]
  },
  {
   "cell_type": "code",
   "execution_count": 226,
   "metadata": {},
   "outputs": [
    {
     "data": {
      "text/plain": [
       "poker_round (generic function with 1 method)"
      ]
     },
     "execution_count": 226,
     "metadata": {},
     "output_type": "execute_result"
    }
   ],
   "source": [
    "function poker_round(first_player_card, second_player_card, history)\n",
    "    score = 0\n",
    "    \n",
    "    first_player_policy = compute_policy(first_player_card, false)\n",
    "    first_player_move = sample_action(first_player_policy)\n",
    "    \n",
    "    second_player_policy  = compute_policy(second_player_card, first_player_move == CHECK, first_player_move == BET)\n",
    "    second_player_move = sample_action(second_player_policy, first_player_move == BET)\n",
    "    \n",
    "    round_history = [((first_player_card, first_player_move, false), (second_player_card, second_player_move, first_player_move == BET))]\n",
    "    \n",
    "    doubled_pot = first_player_move == BET || second_player_move == BET\n",
    "    if second_player_move == FOLD\n",
    "        round_record = (round_history, 1)\n",
    "        push!(history, round_record)\n",
    "        return 1\n",
    "    end\n",
    "    if second_player_move == BET\n",
    "        doubled_pot = true\n",
    "        first_player_policy = compute_policy(first_player_card, second_player_move == CHECK, second_player_move == BET)\n",
    "        first_player_move = sample_action(first_player_policy, second_player_move == BET)\n",
    "        \n",
    "        push!(round_history, ((first_player_card, first_player_move, false),(INVALID_VALUE, INVALID_VALUE, false)))\n",
    "        if first_player_move == FOLD\n",
    "            return -1\n",
    "        end\n",
    "    end\n",
    "    if first_player_card > second_player_card\n",
    "        score =  1 * (1 + doubled_pot)\n",
    "    else\n",
    "        score = -1 * (1 + doubled_pot)\n",
    "    end\n",
    "    round_record = (round_history, score)\n",
    "    push!(history, round_record)\n",
    "    return score\n",
    "end"
   ]
  },
  {
   "cell_type": "code",
   "execution_count": 227,
   "metadata": {},
   "outputs": [
    {
     "data": {
      "text/plain": [
       "game (generic function with 2 methods)"
      ]
     },
     "execution_count": 227,
     "metadata": {},
     "output_type": "execute_result"
    }
   ],
   "source": [
    "function game(num_of_rounds = 10)\n",
    "    total_score = 0\n",
    "    history = []\n",
    "    for i in 1:num_of_rounds\n",
    "        first_player_card, second_player_card = sample(FULL_DECK, 2; replace=false)\n",
    "        score = poker_round(first_player_card, second_player_card, history)\n",
    "        total_score += score\n",
    "    end\n",
    "#     print(history)\n",
    "    avg_score = total_score / num_of_rounds\n",
    "    return avg_score\n",
    "end"
   ]
  },
  {
   "cell_type": "code",
   "execution_count": 257,
   "metadata": {},
   "outputs": [
    {
     "data": {
      "text/plain": [
       "-0.3"
      ]
     },
     "execution_count": 257,
     "metadata": {},
     "output_type": "execute_result"
    }
   ],
   "source": [
    "game()"
   ]
  },
  {
   "cell_type": "code",
   "execution_count": 258,
   "metadata": {},
   "outputs": [
    {
     "data": {
      "text/plain": [
       "-0.13"
      ]
     },
     "execution_count": 258,
     "metadata": {},
     "output_type": "execute_result"
    }
   ],
   "source": [
    "game(100)"
   ]
  },
  {
   "cell_type": "code",
   "execution_count": 259,
   "metadata": {},
   "outputs": [
    {
     "data": {
      "text/plain": [
       "-0.02"
      ]
     },
     "execution_count": 259,
     "metadata": {},
     "output_type": "execute_result"
    }
   ],
   "source": [
    "game(1000)"
   ]
  },
  {
   "cell_type": "code",
   "execution_count": 260,
   "metadata": {},
   "outputs": [
    {
     "data": {
      "text/plain": [
       "-0.0402"
      ]
     },
     "execution_count": 260,
     "metadata": {},
     "output_type": "execute_result"
    }
   ],
   "source": [
    "game(10000)"
   ]
  },
  {
   "cell_type": "code",
   "execution_count": null,
   "metadata": {},
   "outputs": [],
   "source": [
    "add Pluto"
   ]
  },
  {
   "cell_type": "markdown",
   "metadata": {},
   "source": [
    "#### We can see the game are pretty much equal with a little bit disadvantage for the first player, as expeced"
   ]
  },
  {
   "cell_type": "markdown",
   "metadata": {},
   "source": [
    "#### The next stage is to try to take the history of moves under condsideration and see how it affect the policies"
   ]
  },
  {
   "cell_type": "code",
   "execution_count": 267,
   "metadata": {},
   "outputs": [
    {
     "name": "stderr",
     "output_type": "stream",
     "text": [
      "\u001b[32m\u001b[1m   Updating\u001b[22m\u001b[39m registry at `C:\\Users\\tomer\\.julia\\registries\\General`\n",
      "\u001b[32m\u001b[1m  Resolving\u001b[22m\u001b[39m package versions...\n",
      "\u001b[32m\u001b[1m  Installed\u001b[22m\u001b[39m TableIOInterface ─ v0.1.6\n",
      "\u001b[32m\u001b[1m  Installed\u001b[22m\u001b[39m MsgPack ────────── v1.1.0\n",
      "\u001b[32m\u001b[1m  Installed\u001b[22m\u001b[39m ExproniconLite ─── v0.6.9\n",
      "\u001b[32m\u001b[1m  Installed\u001b[22m\u001b[39m Configurations ─── v0.15.4\n",
      "\u001b[32m\u001b[1m  Installed\u001b[22m\u001b[39m TOML ───────────── v1.0.3\n",
      "\u001b[32m\u001b[1m  Installed\u001b[22m\u001b[39m Pluto ──────────── v0.14.7\n",
      "\u001b[32m\u001b[1mUpdating\u001b[22m\u001b[39m `C:\\Users\\tomer\\.julia\\environments\\v1.5\\Project.toml`\n",
      " \u001b[90m [c3e4b0f8] \u001b[39m\u001b[92m+ Pluto v0.14.7\u001b[39m\n",
      "\u001b[32m\u001b[1mUpdating\u001b[22m\u001b[39m `C:\\Users\\tomer\\.julia\\environments\\v1.5\\Manifest.toml`\n",
      " \u001b[90m [5218b696] \u001b[39m\u001b[92m+ Configurations v0.15.4\u001b[39m\n",
      " \u001b[90m [55351af7] \u001b[39m\u001b[92m+ ExproniconLite v0.6.9\u001b[39m\n",
      " \u001b[90m [99f44e22] \u001b[39m\u001b[92m+ MsgPack v1.1.0\u001b[39m\n",
      " \u001b[90m [c3e4b0f8] \u001b[39m\u001b[92m+ Pluto v0.14.7\u001b[39m\n",
      " \u001b[90m [fa267f1f] \u001b[39m\u001b[92m+ TOML v1.0.3\u001b[39m\n",
      " \u001b[90m [d1efa939] \u001b[39m\u001b[92m+ TableIOInterface v0.1.6\u001b[39m\n"
     ]
    }
   ],
   "source": [
    "using Pkg\n",
    "Pkg.add(\"Pluto\")"
   ]
  },
  {
   "cell_type": "code",
   "execution_count": null,
   "metadata": {},
   "outputs": [
    {
     "name": "stdout",
     "output_type": "stream",
     "text": [
      "\n",
      "Opening http://localhost:1234/?secret=BSSSO9Dd in your default browser... ~ have fun!\n",
      "\n",
      "Press Ctrl+C in this terminal to stop Pluto\n",
      "\n"
     ]
    },
    {
     "name": "stderr",
     "output_type": "stream",
     "text": [
      "┌ Error: Failed to resolve notebook boot environment\n",
      "│   exception =\n",
      "│    failed to clone from https://github.com/JuliaCollections/OrderedCollections.jl.git, error: GitError(Code:ERROR, Class:OS, failed to send request: The server name or address could not be resolved\n",
      "│    )\n",
      "│    Stacktrace:\n",
      "│     [1] pkgerror(::String) at C:\\buildbot\\worker\\package_win64\\build\\usr\\share\\julia\\stdlib\\v1.5\\Pkg\\src\\Types.jl:52\n",
      "│     [2] clone(::Pkg.Types.Context, ::String, ::String; header::String, credentials::Nothing, kwargs::Base.Iterators.Pairs{Symbol,Bool,Tuple{Symbol},NamedTuple{(:isbare,),Tuple{Bool}}}) at C:\\buildbot\\worker\\package_win64\\build\\usr\\share\\julia\\stdlib\\v1.5\\Pkg\\src\\GitTools.jl:153\n",
      "│     [3] #ensure_clone#3 at C:\\buildbot\\worker\\package_win64\\build\\usr\\share\\julia\\stdlib\\v1.5\\Pkg\\src\\GitTools.jl:112 [inlined]\n",
      "│     [4] install_git(::Pkg.Types.Context, ::Base.UUID, ::String, ::Base.SHA1, ::Array{String,1}, ::VersionNumber, ::String) at C:\\buildbot\\worker\\package_win64\\build\\usr\\share\\julia\\stdlib\\v1.5\\Pkg\\src\\Operations.jl:609\n",
      "│     [5] download_source(::Pkg.Types.Context, ::Array{Pkg.Types.PackageSpec,1}, ::Dict{Base.UUID,Array{String,1}}; readonly::Bool) at C:\\buildbot\\worker\\package_win64\\build\\usr\\share\\julia\\stdlib\\v1.5\\Pkg\\src\\Operations.jl:768\n",
      "│     [6] #download_source#54 at C:\\buildbot\\worker\\package_win64\\build\\usr\\share\\julia\\stdlib\\v1.5\\Pkg\\src\\Operations.jl:687 [inlined]\n",
      "│     [7] download_source at C:\\buildbot\\worker\\package_win64\\build\\usr\\share\\julia\\stdlib\\v1.5\\Pkg\\src\\Operations.jl:685 [inlined]\n",
      "│     [8] up(::Pkg.Types.Context, ::Array{Pkg.Types.PackageSpec,1}, ::Pkg.Types.UpgradeLevel) at C:\\buildbot\\worker\\package_win64\\build\\usr\\share\\julia\\stdlib\\v1.5\\Pkg\\src\\Operations.jl:1224\n",
      "│     [9] up(::Pkg.Types.Context, ::Array{Pkg.Types.PackageSpec,1}; level::Pkg.Types.UpgradeLevel, mode::Pkg.Types.PackageMode, update_registry::Bool, kwargs::Base.Iterators.Pairs{Union{},Union{},Tuple{},NamedTuple{(),Tuple{}}}) at C:\\buildbot\\worker\\package_win64\\build\\usr\\share\\julia\\stdlib\\v1.5\\Pkg\\src\\API.jl:245\n",
      "│     [10] #up#38 at C:\\buildbot\\worker\\package_win64\\build\\usr\\share\\julia\\stdlib\\v1.5\\Pkg\\src\\API.jl:68 [inlined]\n",
      "│     [11] #resolve#110 at C:\\buildbot\\worker\\package_win64\\build\\usr\\share\\julia\\stdlib\\v1.5\\Pkg\\src\\API.jl:251 [inlined]\n",
      "│     [12] resolve(::Pkg.Types.Context) at C:\\buildbot\\worker\\package_win64\\build\\usr\\share\\julia\\stdlib\\v1.5\\Pkg\\src\\API.jl:251\n",
      "│     [13] top-level scope at C:\\Users\\tomer\\.julia\\packages\\Pluto\\D9HrI\\src\\runner\\Loader.jl:23\n",
      "│     [14] include(::String) at .\\client.jl:457\n",
      "│     [15] top-level scope at none:1\n",
      "│     [16] eval(::Module, ::Any) at .\\boot.jl:331\n",
      "│     [17] (::Distributed.var\"#103#104\"{Distributed.CallMsg{:call}})() at C:\\buildbot\\worker\\package_win64\\build\\usr\\share\\julia\\stdlib\\v1.5\\Distributed\\src\\process_messages.jl:290\n",
      "│     [18] run_work_thunk(::Distributed.var\"#103#104\"{Distributed.CallMsg{:call}}, ::Bool) at C:\\buildbot\\worker\\package_win64\\build\\usr\\share\\julia\\stdlib\\v1.5\\Distributed\\src\\process_messages.jl:79\n",
      "│     [19] run_work_thunk(::Distributed.RemoteValue, ::Function) at C:\\buildbot\\worker\\package_win64\\build\\usr\\share\\julia\\stdlib\\v1.5\\Distributed\\src\\process_messages.jl:88\n",
      "│     [20] (::Distributed.var\"#96#98\"{Distributed.RemoteValue,Distributed.var\"#103#104\"{Distributed.CallMsg{:call}}})() at .\\task.jl:356\n",
      "└ @ Main C:\\Users\\tomer\\.julia\\packages\\Pluto\\D9HrI\\src\\runner\\Loader.jl:25\n",
      "┌ Error: Failed to instantiate notebook boot environment\n",
      "│   exception =\n",
      "│    failed to clone from https://github.com/JuliaCollections/OrderedCollections.jl.git, error: GitError(Code:ERROR, Class:OS, failed to send request: The server name or address could not be resolved\n",
      "│    )\n",
      "│    Stacktrace:\n",
      "│     [1] pkgerror(::String) at C:\\buildbot\\worker\\package_win64\\build\\usr\\share\\julia\\stdlib\\v1.5\\Pkg\\src\\Types.jl:52\n",
      "│     [2] clone(::Pkg.Types.Context, ::String, ::String; header::String, credentials::Nothing, kwargs::Base.Iterators.Pairs{Symbol,Bool,Tuple{Symbol},NamedTuple{(:isbare,),Tuple{Bool}}}) at C:\\buildbot\\worker\\package_win64\\build\\usr\\share\\julia\\stdlib\\v1.5\\Pkg\\src\\GitTools.jl:153\n",
      "│     [3] #ensure_clone#3 at C:\\buildbot\\worker\\package_win64\\build\\usr\\share\\julia\\stdlib\\v1.5\\Pkg\\src\\GitTools.jl:112 [inlined]\n",
      "│     [4] install_git(::Pkg.Types.Context, ::Base.UUID, ::String, ::Base.SHA1, ::Array{String,1}, ::VersionNumber, ::String) at C:\\buildbot\\worker\\package_win64\\build\\usr\\share\\julia\\stdlib\\v1.5\\Pkg\\src\\Operations.jl:609\n",
      "│     [5] download_source(::Pkg.Types.Context, ::Array{Pkg.Types.PackageSpec,1}, ::Dict{Base.UUID,Array{String,1}}; readonly::Bool) at C:\\buildbot\\worker\\package_win64\\build\\usr\\share\\julia\\stdlib\\v1.5\\Pkg\\src\\Operations.jl:768\n",
      "│     [6] #download_source#54 at C:\\buildbot\\worker\\package_win64\\build\\usr\\share\\julia\\stdlib\\v1.5\\Pkg\\src\\Operations.jl:687 [inlined]\n",
      "│     [7] download_source at C:\\buildbot\\worker\\package_win64\\build\\usr\\share\\julia\\stdlib\\v1.5\\Pkg\\src\\Operations.jl:685 [inlined]\n",
      "│     [8] up(::Pkg.Types.Context, ::Array{Pkg.Types.PackageSpec,1}, ::Pkg.Types.UpgradeLevel) at C:\\buildbot\\worker\\package_win64\\build\\usr\\share\\julia\\stdlib\\v1.5\\Pkg\\src\\Operations.jl:1224\n",
      "│     [9] up(::Pkg.Types.Context, ::Array{Pkg.Types.PackageSpec,1}; level::Pkg.Types.UpgradeLevel, mode::Pkg.Types.PackageMode, update_registry::Bool, kwargs::Base.Iterators.Pairs{Union{},Union{},Tuple{},NamedTuple{(),Tuple{}}}) at C:\\buildbot\\worker\\package_win64\\build\\usr\\share\\julia\\stdlib\\v1.5\\Pkg\\src\\API.jl:245\n",
      "│     [10] #up#38 at C:\\buildbot\\worker\\package_win64\\build\\usr\\share\\julia\\stdlib\\v1.5\\Pkg\\src\\API.jl:68 [inlined]\n",
      "│     [11] instantiate(::Pkg.Types.Context; manifest::Nothing, update_registry::Bool, verbose::Bool, platform::Pkg.BinaryPlatforms.Windows, kwargs::Base.Iterators.Pairs{Union{},Union{},Tuple{},NamedTuple{(),Tuple{}}}) at C:\\buildbot\\worker\\package_win64\\build\\usr\\share\\julia\\stdlib\\v1.5\\Pkg\\src\\API.jl:810\n",
      "│     [12] top-level scope at C:\\Users\\tomer\\.julia\\packages\\Pluto\\D9HrI\\src\\runner\\Loader.jl:35\n",
      "│     [13] include(::String) at .\\client.jl:457\n",
      "│     [14] top-level scope at none:1\n",
      "│     [15] eval(::Module, ::Any) at .\\boot.jl:331\n",
      "│     [16] (::Distributed.var\"#103#104\"{Distributed.CallMsg{:call}})() at C:\\buildbot\\worker\\package_win64\\build\\usr\\share\\julia\\stdlib\\v1.5\\Distributed\\src\\process_messages.jl:290\n",
      "│     [17] run_work_thunk(::Distributed.var\"#103#104\"{Distributed.CallMsg{:call}}, ::Bool) at C:\\buildbot\\worker\\package_win64\\build\\usr\\share\\julia\\stdlib\\v1.5\\Distributed\\src\\process_messages.jl:79\n",
      "│     [18] run_work_thunk(::Distributed.RemoteValue, ::Function) at C:\\buildbot\\worker\\package_win64\\build\\usr\\share\\julia\\stdlib\\v1.5\\Distributed\\src\\process_messages.jl:88\n",
      "│     [19] (::Distributed.var\"#96#98\"{Distributed.RemoteValue,Distributed.var\"#103#104\"{Distributed.CallMsg{:call}}})() at .\\task.jl:356\n",
      "└ @ Main C:\\Users\\tomer\\.julia\\packages\\Pluto\\D9HrI\\src\\runner\\Loader.jl:40\n"
     ]
    }
   ],
   "source": [
    "using Pluto\n",
    "Pluto.run()"
   ]
  },
  {
   "cell_type": "code",
   "execution_count": null,
   "metadata": {},
   "outputs": [],
   "source": []
  }
 ],
 "metadata": {
  "kernelspec": {
   "display_name": "Julia 1.5.3",
   "language": "julia",
   "name": "julia-1.5"
  },
  "language_info": {
   "file_extension": ".jl",
   "mimetype": "application/julia",
   "name": "julia",
   "version": "1.5.3"
  }
 },
 "nbformat": 4,
 "nbformat_minor": 4
}
