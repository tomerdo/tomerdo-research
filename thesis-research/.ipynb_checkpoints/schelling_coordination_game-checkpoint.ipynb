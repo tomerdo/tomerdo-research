{
 "cells": [
  {
   "cell_type": "markdown",
   "metadata": {},
   "source": [
    "# This Notebook presents an expriment of Theory Of Mind on Schelling Coordination Game"
   ]
  },
  {
   "cell_type": "code",
   "execution_count": 1,
   "metadata": {},
   "outputs": [],
   "source": [
    "# Import libraries.\n",
    "using Turing, StatsPlots, Random, Plots, Memoization\n"
   ]
  },
  {
   "cell_type": "markdown",
   "metadata": {},
   "source": [
    "We have 2 players: Bob and Alice.\n",
    "They Want to arrive to the same point. they can't communicate, they only can infernce about each other.\n",
    "We will model it using PPL. And use Practicle Gibbs Sampling."
   ]
  },
  {
   "cell_type": "code",
   "execution_count": null,
   "metadata": {},
   "outputs": [],
   "source": [
    "function get_random_sample(samples)\n",
    "    return Random.rand(samples)\n",
    "end"
   ]
  },
  {
   "cell_type": "code",
   "execution_count": null,
   "metadata": {},
   "outputs": [],
   "source": [
    "function get_most_common_sample(samples)\n",
    "    count = zeros(2)\n",
    "    for i in 1:length(samples)\n",
    "        sample = round(Int64, samples[i] + 1) \n",
    "        count[sample] += 1 \n",
    "    end\n",
    "    if count[1] > count[2]\n",
    "        return 0\n",
    "    else\n",
    "        return 1\n",
    "    end\n",
    "end"
   ]
  },
  {
   "cell_type": "code",
   "execution_count": null,
   "metadata": {},
   "outputs": [],
   "source": [
    "@memoize memoized_sample(args...) = sample(args...)"
   ]
  },
  {
   "cell_type": "code",
   "execution_count": null,
   "metadata": {},
   "outputs": [],
   "source": [
    "function get_location(samples)\n",
    "#     return samples[:my_location][end]\n",
    "    return get_random_sample(samples[:my_location])\n",
    "end"
   ]
  },
  {
   "cell_type": "code",
   "execution_count": null,
   "metadata": {},
   "outputs": [],
   "source": [
    "@model function location_prior(popularity=0.55)\n",
    "    popular_bar ~ Bernoulli(popularity)\n",
    "    return popular_bar\n",
    "end"
   ]
  },
  {
   "cell_type": "code",
   "execution_count": null,
   "metadata": {},
   "outputs": [],
   "source": [
    "@model function bob(depth = 0, popularity=0.55)\n",
    "    my_location ~ Bernoulli(popularity)\n",
    "    return round(Int64, my_location)\n",
    "end"
   ]
  },
  {
   "cell_type": "code",
   "execution_count": null,
   "metadata": {},
   "outputs": [],
   "source": [
    "@model function alice(other_person_place, popularity = 0.55, depth = 0)\n",
    "    my_location ~ Bernoulli(popularity)\n",
    "    other_location = get_location(memoized_sample(other_person_place(), IS(), 10000))\n",
    "    other_location ~ Dirac(my_location)\n",
    "    return round(Int64, my_location)\n",
    "end"
   ]
  },
  {
   "cell_type": "code",
   "execution_count": null,
   "metadata": {},
   "outputs": [],
   "source": [
    "samples = memoized_sample(alice(bob), IS(), 10000)"
   ]
  },
  {
   "cell_type": "code",
   "execution_count": null,
   "metadata": {},
   "outputs": [],
   "source": [
    "histogram(samples, bins = 2, normalize=:probability)"
   ]
  },
  {
   "cell_type": "code",
   "execution_count": null,
   "metadata": {},
   "outputs": [],
   "source": [
    "@model function alice_2(other_person_place, popularity = 0.55, depth = 0)\n",
    "    my_location ~ Bernoulli(popularity)\n",
    "    samples = memoized_sample(other_person_place(alice_2, popularity, depth -1), IS(), 10000)\n",
    "    other_location = get_location(samples)\n",
    "    other_location ~ Dirac(my_location)\n",
    "    return my_location\n",
    "end"
   ]
  },
  {
   "cell_type": "code",
   "execution_count": null,
   "metadata": {},
   "outputs": [],
   "source": [
    "@model function bob_2(other_person_place, popularity=0.55, depth = 0)\n",
    "    my_location ~ Bernoulli(popularity)\n",
    "    if depth == 0\n",
    "       return my_location \n",
    "    else\n",
    "        other_location = get_location(memoized_sample(other_person_place(bob_2, popularity, depth), IS(), 10000))\n",
    "        other_location ~ Dirac(my_location)\n",
    "        return my_location\n",
    "    end\n",
    "end"
   ]
  },
  {
   "cell_type": "code",
   "execution_count": null,
   "metadata": {},
   "outputs": [],
   "source": [
    "@time begin\n",
    "    result = sample(alice_2(bob_2, 0.55, 20), IS(), 10000)\n",
    "end"
   ]
  },
  {
   "cell_type": "code",
   "execution_count": null,
   "metadata": {},
   "outputs": [],
   "source": [
    "histogram(result, bins = 2, normalize=:probability)"
   ]
  }
 ],
 "metadata": {
  "kernelspec": {
   "display_name": "Julia 1.5.3",
   "language": "julia",
   "name": "julia-1.5"
  },
  "language_info": {
   "file_extension": ".jl",
   "mimetype": "application/julia",
   "name": "julia",
   "version": "1.5.3"
  }
 },
 "nbformat": 4,
 "nbformat_minor": 4
}
