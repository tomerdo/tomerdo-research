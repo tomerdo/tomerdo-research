{
 "cells": [
  {
   "cell_type": "markdown",
   "metadata": {},
   "source": [
    "# This Notebook presents an expriment of Theory Of Mind on Schelling Coordination Game"
   ]
  },
  {
   "cell_type": "code",
   "execution_count": 2,
   "metadata": {},
   "outputs": [],
   "source": [
    "# Import libraries.\n",
    "using Turing, StatsPlots, Random"
   ]
  },
  {
   "cell_type": "markdown",
   "metadata": {},
   "source": [
    "We have 2 players: Bob and Alice.\n",
    "They Want to arrive to the same point. they can't communicate, they only can infernce about each other.\n",
    "We will model it using PPL. And use Practicle Gibbs Sampling."
   ]
  },
  {
   "cell_type": "code",
   "execution_count": 18,
   "metadata": {},
   "outputs": [
    {
     "data": {
      "text/plain": [
       "prior_location (generic function with 2 methods)"
      ]
     },
     "execution_count": 18,
     "metadata": {},
     "output_type": "execute_result"
    }
   ],
   "source": [
    "@model function prior_location(popularity_of_place = 0.9)\n",
    "    catagorical_dist = zeros(2)\n",
    "    coin ~ Bernoulli(popularity_of_place)\n",
    "    catagorical_dist[coin + 1] = 1\n",
    "    location ~ Categorical(catagorical_dist)\n",
    "    return location\n",
    "end"
   ]
  },
  {
   "cell_type": "code",
   "execution_count": 50,
   "metadata": {},
   "outputs": [
    {
     "data": {
      "text/plain": [
       "bob (generic function with 3 methods)"
      ]
     },
     "execution_count": 50,
     "metadata": {},
     "output_type": "execute_result"
    }
   ],
   "source": [
    "@model function bob(depth = 0, popularity=0.55)\n",
    "    my_location ~ Bernoulli(popularity)\n",
    "    return my_location\n",
    "end"
   ]
  },
  {
   "cell_type": "code",
   "execution_count": 53,
   "metadata": {},
   "outputs": [
    {
     "data": {
      "text/plain": [
       "get_location_2 (generic function with 1 method)"
      ]
     },
     "execution_count": 53,
     "metadata": {},
     "output_type": "execute_result"
    }
   ],
   "source": [
    "function get_location_2(samples)\n",
    "    return round(Int64, mean(samples[:my_location]))\n",
    "end"
   ]
  },
  {
   "cell_type": "code",
   "execution_count": 54,
   "metadata": {},
   "outputs": [
    {
     "data": {
      "text/plain": [
       "get_location (generic function with 1 method)"
      ]
     },
     "execution_count": 54,
     "metadata": {},
     "output_type": "execute_result"
    }
   ],
   "source": [
    "function get_location(samples)\n",
    "    return samples[:my_location][end]\n",
    "end"
   ]
  },
  {
   "cell_type": "code",
   "execution_count": 67,
   "metadata": {},
   "outputs": [
    {
     "data": {
      "text/plain": [
       "alice (generic function with 3 methods)"
      ]
     },
     "execution_count": 67,
     "metadata": {},
     "output_type": "execute_result"
    }
   ],
   "source": [
    "@model function alice(other_person_place, popularity = 0.55, depth = 0)\n",
    "    my_location ~ Bernoulli(popularity)\n",
    "    other_location = get_location(sample(other_person_place(), PG(10), 10))\n",
    "    other_location ~ Dirac(my_location)\n",
    "    return my_location\n",
    "end"
   ]
  },
  {
   "cell_type": "code",
   "execution_count": 70,
   "metadata": {},
   "outputs": [
    {
     "name": "stderr",
     "output_type": "stream",
     "text": [
      "\u001b[32mSampling: 100%|█████████████████████████████████████████| Time: 0:00:00\u001b[39m\n"
     ]
    },
    {
     "data": {
      "text/plain": [
       "Chains MCMC chain (10×4×1 Array{Float64,3}):\n",
       "\n",
       "Log evidence      = 0.0\n",
       "Iterations        = 1:10\n",
       "Thinning interval = 1\n",
       "Chains            = 1\n",
       "Samples per chain = 10\n",
       "parameters        = my_location, other_location\n",
       "internals         = logevidence, lp\n",
       "\n",
       "Summary Statistics\n",
       " \u001b[1m     parameters \u001b[0m \u001b[1m    mean \u001b[0m \u001b[1m     std \u001b[0m \u001b[1m naive_se \u001b[0m \u001b[1m    mcse \u001b[0m \u001b[1m     ess \u001b[0m \u001b[1m    rhat \u001b[0m\n",
       " \u001b[90m         Symbol \u001b[0m \u001b[90m Float64 \u001b[0m \u001b[90m Float64 \u001b[0m \u001b[90m  Float64 \u001b[0m \u001b[90m Missing \u001b[0m \u001b[90m Float64 \u001b[0m \u001b[90m Float64 \u001b[0m\n",
       "\n",
       "     my_location    0.7000    0.4830     0.1528   missing   10.4762    0.9381\n",
       "  other_location    0.7000    0.4830     0.1528   missing   10.4762    0.9381\n",
       "\n",
       "Quantiles\n",
       " \u001b[1m     parameters \u001b[0m \u001b[1m    2.5% \u001b[0m \u001b[1m   25.0% \u001b[0m \u001b[1m   50.0% \u001b[0m \u001b[1m   75.0% \u001b[0m \u001b[1m   97.5% \u001b[0m\n",
       " \u001b[90m         Symbol \u001b[0m \u001b[90m Float64 \u001b[0m \u001b[90m Float64 \u001b[0m \u001b[90m Float64 \u001b[0m \u001b[90m Float64 \u001b[0m \u001b[90m Float64 \u001b[0m\n",
       "\n",
       "     my_location    0.0000    0.2500    1.0000    1.0000    1.0000\n",
       "  other_location    0.0000    0.2500    1.0000    1.0000    1.0000\n"
      ]
     },
     "execution_count": 70,
     "metadata": {},
     "output_type": "execute_result"
    }
   ],
   "source": [
    "samples = sample(alice(bob), PG(10), 10)"
   ]
  },
  {
   "cell_type": "code",
   "execution_count": 97,
   "metadata": {},
   "outputs": [
    {
     "data": {
      "text/plain": [
       "alice_2 (generic function with 3 methods)"
      ]
     },
     "execution_count": 97,
     "metadata": {},
     "output_type": "execute_result"
    }
   ],
   "source": [
    "@model function alice_2(other_person_place, popularity = 0.55, depth = 0)\n",
    "    my_location ~ Bernoulli(popularity)\n",
    "    other_location = get_location(sample(other_person_place(alice_2, popularity, depth -1), PG(10), 10))\n",
    "    other_location ~ Dirac(my_location)\n",
    "    return my_location\n",
    "end"
   ]
  },
  {
   "cell_type": "code",
   "execution_count": 100,
   "metadata": {},
   "outputs": [
    {
     "data": {
      "text/plain": [
       "bob_2 (generic function with 3 methods)"
      ]
     },
     "execution_count": 100,
     "metadata": {},
     "output_type": "execute_result"
    },
    {
     "name": "stderr",
     "output_type": "stream",
     "text": [
      "\u001b[34mSampling:  50%|█████████████████████                    |  ETA: 0:00:02\u001b[39m"
     ]
    }
   ],
   "source": [
    "@model function bob_2(other_person_place, popularity=0.55, depth = 0)\n",
    "    my_location ~ Bernoulli(popularity)\n",
    "    if depth == 0\n",
    "       return my_location \n",
    "    else\n",
    "        other_location = get_location(sample(other_person_place(bob, popularity, depth), PG(10), 10))\n",
    "        other_location ~ Dirac(my_location)\n",
    "        return my_location\n",
    "    end\n",
    "end"
   ]
  },
  {
   "cell_type": "code",
   "execution_count": 101,
   "metadata": {},
   "outputs": [
    {
     "name": "stderr",
     "output_type": "stream",
     "text": [
      "\u001b[35mSampling: 100%|█████████████████████████████████████████| Time: 0:00:02\u001b[39m\n",
      "\u001b[34mSampling: 100%|█████████████████████████████████████████| Time: 0:00:09\u001b[39m\n",
      "\u001b[32mSampling: 100%|█████████████████████████████████████████| Time: 0:00:09\u001b[39m\n",
      "\u001b[35mSampling: 100%|█████████████████████████████████████████| Time: 0:00:00\u001b[39m\n",
      "\u001b[34mSampling: 100%|█████████████████████████████████████████| Time: 0:00:09\u001b[39m\n",
      "\u001b[32mSampling: 100%|█████████████████████████████████████████| Time: 0:00:09\u001b[39m\n",
      "\u001b[35mSampling: 100%|█████████████████████████████████████████| Time: 0:00:00\u001b[39m\n",
      "\u001b[34mSampling: 100%|█████████████████████████████████████████| Time: 0:00:00\u001b[39m\n",
      "\u001b[35mSampling: 100%|█████████████████████████████████████████| Time: 0:00:00\u001b[39m\n",
      "\u001b[34mSampling: 100%|█████████████████████████████████████████| Time: 0:00:12\u001b[39m\n",
      "\u001b[32mSampling: 100%|█████████████████████████████████████████| Time: 0:00:12\u001b[39m\n",
      "\u001b[34mSampling: 100%|█████████████████████████████████████████| Time: 0:00:09\u001b[39m\n",
      "\u001b[32mSampling: 100%|█████████████████████████████████████████| Time: 0:00:09\u001b[39m\n",
      "\u001b[34mSampling: 100%|█████████████████████████████████████████| Time: 0:00:09\u001b[39m\n",
      "\u001b[32mSampling: 100%|█████████████████████████████████████████| Time: 0:00:10\u001b[39m\n",
      "\u001b[34mSampling: 100%|█████████████████████████████████████████| Time: 0:00:10\u001b[39m\n",
      "\u001b[32mSampling: 100%|█████████████████████████████████████████| Time: 0:00:09\u001b[39m\n",
      "\u001b[34mSampling: 100%|█████████████████████████████████████████| Time: 0:00:08\u001b[39m\n",
      "\u001b[32mSampling: 100%|█████████████████████████████████████████| Time: 0:00:08\u001b[39m\n",
      "\u001b[34mSampling: 100%|█████████████████████████████████████████| Time: 0:00:08\u001b[39m\n",
      "\u001b[32mSampling: 100%|█████████████████████████████████████████| Time: 0:00:08\u001b[39m\n",
      "\u001b[34mSampling: 100%|█████████████████████████████████████████| Time: 0:00:08\u001b[39m\n",
      "\u001b[32mSampling: 100%|█████████████████████████████████████████| Time: 0:00:08\u001b[39m\n",
      "\u001b[34mSampling: 100%|█████████████████████████████████████████| Time: 0:00:08\u001b[39m\n",
      "\u001b[32mSampling: 100%|█████████████████████████████████████████| Time: 0:00:08\u001b[39m\n",
      "\u001b[34mSampling: 100%|█████████████████████████████████████████| Time: 0:00:08\u001b[39m\n",
      "\u001b[32mSampling: 100%|█████████████████████████████████████████| Time: 0:00:08\u001b[39m\n",
      "\u001b[34mSampling: 100%|█████████████████████████████████████████| Time: 0:00:09\u001b[39m\n",
      "\u001b[32mSampling: 100%|█████████████████████████████████████████| Time: 0:00:09\u001b[39m\n",
      "\u001b[34mSampling: 100%|█████████████████████████████████████████| Time: 0:00:09\u001b[39m\n",
      "\u001b[32mSampling: 100%|█████████████████████████████████████████| Time: 0:00:09\u001b[39m\n",
      "\u001b[34mSampling: 100%|█████████████████████████████████████████| Time: 0:00:08\u001b[39m\n",
      "\u001b[32mSampling: 100%|█████████████████████████████████████████| Time: 0:00:08\u001b[39m\n",
      "\u001b[34mSampling: 100%|█████████████████████████████████████████| Time: 0:00:08\u001b[39m\n",
      "\u001b[32mSampling: 100%|█████████████████████████████████████████| Time: 0:00:08\u001b[39m\n",
      "\u001b[34mSampling: 100%|█████████████████████████████████████████| Time: 0:00:08\u001b[39m\n",
      "\u001b[32mSampling: 100%|█████████████████████████████████████████| Time: 0:00:08\u001b[39m\n",
      "\u001b[34mSampling: 100%|█████████████████████████████████████████| Time: 0:00:08\u001b[39m\n",
      "\u001b[32mSampling: 100%|█████████████████████████████████████████| Time: 0:00:08\u001b[39m\n",
      "\u001b[34mSampling: 100%|█████████████████████████████████████████| Time: 0:00:08\u001b[39m\n",
      "\u001b[32mSampling: 100%|█████████████████████████████████████████| Time: 0:00:08\u001b[39m\n",
      "\u001b[34mSampling: 100%|█████████████████████████████████████████| Time: 0:00:08\u001b[39m\n",
      "\u001b[32mSampling: 100%|█████████████████████████████████████████| Time: 0:00:09\u001b[39m\n",
      "\u001b[34mSampling: 100%|█████████████████████████████████████████| Time: 0:00:10\u001b[39m\n",
      "\u001b[32mSampling: 100%|█████████████████████████████████████████| Time: 0:00:13\u001b[39m\n",
      "\u001b[34mSampling: 100%|█████████████████████████████████████████| Time: 0:00:14\u001b[39m\n",
      "\u001b[32mSampling: 100%|█████████████████████████████████████████| Time: 0:00:12\u001b[39m\n",
      "\u001b[35mSampling: 100%|█████████████████████████████████████████| Time: 0:00:00\u001b[39m\n",
      "\u001b[34mSampling: 100%|█████████████████████████████████████████| Time: 0:00:10\u001b[39m\n",
      "\u001b[34mSampling: 100%|█████████████████████████████████████████| Time: 0:00:11\u001b[39m\n",
      "\u001b[34mSampling: 100%|█████████████████████████████████████████| Time: 0:00:11\u001b[39m\n",
      "\u001b[34mSampling: 100%|█████████████████████████████████████████| Time: 0:00:09\u001b[39m\n",
      "\u001b[34mSampling: 100%|█████████████████████████████████████████| Time: 0:00:08\u001b[39m\n",
      "\u001b[34mSampling: 100%|█████████████████████████████████████████| Time: 0:00:08\u001b[39m\n",
      "\u001b[34mSampling: 100%|█████████████████████████████████████████| Time: 0:00:09\u001b[39m\n",
      "\u001b[34mSampling: 100%|█████████████████████████████████████████| Time: 0:00:08\u001b[39m\n",
      "\u001b[34mSampling: 100%|█████████████████████████████████████████| Time: 0:00:08\u001b[39m\n",
      "\u001b[34mSampling: 100%|█████████████████████████████████████████| Time: 0:00:08\u001b[39m\n",
      "\u001b[34mSampling: 100%|█████████████████████████████████████████| Time: 0:00:08\u001b[39m\n",
      "\u001b[34mSampling: 100%|█████████████████████████████████████████| Time: 0:00:08\u001b[39m\n",
      "\u001b[34mSampling: 100%|█████████████████████████████████████████| Time: 0:00:08\u001b[39m\n",
      "\u001b[34mSampling: 100%|█████████████████████████████████████████| Time: 0:00:08\u001b[39m\n",
      "\u001b[34mSampling: 100%|█████████████████████████████████████████| Time: 0:00:08\u001b[39m\n",
      "\u001b[34mSampling: 100%|█████████████████████████████████████████| Time: 0:00:08\u001b[39m\n",
      "\u001b[34mSampling: 100%|█████████████████████████████████████████| Time: 0:00:08\u001b[39m\n",
      "\u001b[34mSampling: 100%|█████████████████████████████████████████| Time: 0:00:08\u001b[39m\n",
      "\u001b[34mSampling: 100%|█████████████████████████████████████████| Time: 0:00:08\u001b[39m\n",
      "\u001b[34mSampling: 100%|█████████████████████████████████████████| Time: 0:00:09\u001b[39m\n",
      "\u001b[34mSampling: 100%|█████████████████████████████████████████| Time: 0:00:09\u001b[39m\n",
      "\u001b[34mSampling: 100%|█████████████████████████████████████████| Time: 0:00:09\u001b[39m\n",
      "\u001b[34mSampling: 100%|█████████████████████████████████████████| Time: 0:00:08\u001b[39m\n",
      "\u001b[34mSampling: 100%|█████████████████████████████████████████| Time: 0:00:08\u001b[39m\n",
      "\u001b[34mSampling: 100%|█████████████████████████████████████████| Time: 0:00:08\u001b[39m\n",
      "\u001b[34mSampling: 100%|█████████████████████████████████████████| Time: 0:00:08\u001b[39m\n",
      "\u001b[34mSampling: 100%|█████████████████████████████████████████| Time: 0:00:08\u001b[39m\n",
      "\u001b[34mSampling: 100%|█████████████████████████████████████████| Time: 0:00:08\u001b[39m\n",
      "\u001b[34mSampling: 100%|█████████████████████████████████████████| Time: 0:00:08\u001b[39m\n",
      "\u001b[34mSampling: 100%|█████████████████████████████████████████| Time: 0:00:08\u001b[39m\n",
      "\u001b[34mSampling: 100%|█████████████████████████████████████████| Time: 0:00:08\u001b[39m\n",
      "\u001b[34mSampling: 100%|█████████████████████████████████████████| Time: 0:00:08\u001b[39m\n",
      "\u001b[34mSampling: 100%|█████████████████████████████████████████| Time: 0:00:08\u001b[39m\n",
      "\u001b[34mSampling: 100%|█████████████████████████████████████████| Time: 0:00:08\u001b[39m\n",
      "\u001b[34mSampling: 100%|█████████████████████████████████████████| Time: 0:00:08\u001b[39m\n",
      "\u001b[34mSampling: 100%|█████████████████████████████████████████| Time: 0:00:08\u001b[39m\n",
      "\u001b[34mSampling: 100%|█████████████████████████████████████████| Time: 0:00:08\u001b[39m\n",
      "\u001b[34mSampling: 100%|█████████████████████████████████████████| Time: 0:00:08\u001b[39m\n",
      "\u001b[34mSampling: 100%|█████████████████████████████████████████| Time: 0:00:08\u001b[39m\n",
      "\u001b[34mSampling: 100%|█████████████████████████████████████████| Time: 0:00:08\u001b[39m\n",
      "\u001b[34mSampling: 100%|█████████████████████████████████████████| Time: 0:00:08\u001b[39m\n",
      "\u001b[34mSampling: 100%|█████████████████████████████████████████| Time: 0:00:08\u001b[39m\n",
      "\u001b[34mSampling: 100%|█████████████████████████████████████████| Time: 0:00:09\u001b[39m\n",
      "\u001b[34mSampling: 100%|█████████████████████████████████████████| Time: 0:00:09\u001b[39m\n",
      "\u001b[34mSampling: 100%|█████████████████████████████████████████| Time: 0:00:09\u001b[39m\n",
      "\u001b[34mSampling: 100%|█████████████████████████████████████████| Time: 0:00:09\u001b[39m\n",
      "\u001b[34mSampling: 100%|█████████████████████████████████████████| Time: 0:00:09\u001b[39m\n",
      "\u001b[34mSampling: 100%|█████████████████████████████████████████| Time: 0:00:09\u001b[39m\n",
      "\u001b[34mSampling: 100%|█████████████████████████████████████████| Time: 0:00:09\u001b[39m\n",
      "\u001b[35mSampling: 100%|█████████████████████████████████████████| Time: 0:00:00\u001b[39m\n",
      "\u001b[35mSampling: 100%|█████████████████████████████████████████| Time: 0:00:00\u001b[39m\n",
      "\u001b[35mSampling: 100%|█████████████████████████████████████████| Time: 0:00:00\u001b[39m\n",
      "\u001b[34mSampling: 100%|█████████████████████████████████████████| Time: 0:00:09\u001b[39m\n",
      "\u001b[34mSampling: 100%|█████████████████████████████████████████| Time: 0:00:00\u001b[39m\n",
      "\u001b[34mSampling: 100%|█████████████████████████████████████████| Time: 0:00:09\u001b[39m\n",
      "\u001b[34mSampling: 100%|█████████████████████████████████████████| Time: 0:00:08\u001b[39m\n",
      "\u001b[34mSampling: 100%|█████████████████████████████████████████| Time: 0:00:09\u001b[39m\n",
      "\u001b[34mSampling: 100%|█████████████████████████████████████████| Time: 0:00:10\u001b[39m\n",
      "\u001b[34mSampling: 100%|█████████████████████████████████████████| Time: 0:00:09\u001b[39m\n",
      "\u001b[34mSampling: 100%|█████████████████████████████████████████| Time: 0:00:09\u001b[39m\n",
      "\u001b[34mSampling: 100%|█████████████████████████████████████████| Time: 0:00:09\u001b[39m\n",
      "\u001b[34mSampling: 100%|█████████████████████████████████████████| Time: 0:00:08\u001b[39m\n",
      "\u001b[34mSampling: 100%|█████████████████████████████████████████| Time: 0:00:08\u001b[39m\n",
      "\u001b[34mSampling: 100%|█████████████████████████████████████████| Time: 0:00:08\u001b[39m\n",
      "\u001b[34mSampling: 100%|█████████████████████████████████████████| Time: 0:00:08\u001b[39m\n",
      "\u001b[34mSampling: 100%|█████████████████████████████████████████| Time: 0:00:08\u001b[39m\n",
      "\u001b[34mSampling: 100%|█████████████████████████████████████████| Time: 0:00:08\u001b[39m\n",
      "\u001b[34mSampling: 100%|█████████████████████████████████████████| Time: 0:00:08\u001b[39m\n",
      "\u001b[34mSampling: 100%|█████████████████████████████████████████| Time: 0:00:08\u001b[39m\n",
      "\u001b[34mSampling: 100%|█████████████████████████████████████████| Time: 0:00:08\u001b[39m\n",
      "\u001b[34mSampling: 100%|█████████████████████████████████████████| Time: 0:00:08\u001b[39m\n",
      "\u001b[34mSampling: 100%|█████████████████████████████████████████| Time: 0:00:08\u001b[39m\n",
      "\u001b[34mSampling: 100%|█████████████████████████████████████████| Time: 0:00:08\u001b[39m\n",
      "\u001b[34mSampling: 100%|█████████████████████████████████████████| Time: 0:00:08\u001b[39m\n",
      "\u001b[34mSampling: 100%|█████████████████████████████████████████| Time: 0:00:08\u001b[39m\n",
      "\u001b[34mSampling: 100%|█████████████████████████████████████████| Time: 0:00:08\u001b[39m\n",
      "\u001b[34mSampling: 100%|█████████████████████████████████████████| Time: 0:00:08\u001b[39m\n",
      "\u001b[34mSampling: 100%|█████████████████████████████████████████| Time: 0:00:09\u001b[39m\n",
      "\u001b[34mSampling: 100%|█████████████████████████████████████████| Time: 0:00:11\u001b[39m\n",
      "\u001b[34mSampling: 100%|█████████████████████████████████████████| Time: 0:00:13\u001b[39m\n",
      "\u001b[34mSampling: 100%|█████████████████████████████████████████| Time: 0:00:11\u001b[39m\n",
      "\u001b[34mSampling: 100%|█████████████████████████████████████████| Time: 0:00:09\u001b[39m\n",
      "\u001b[34mSampling: 100%|█████████████████████████████████████████| Time: 0:00:08\u001b[39m\n",
      "\u001b[34mSampling: 100%|█████████████████████████████████████████| Time: 0:00:08\u001b[39m\n",
      "\u001b[34mSampling: 100%|█████████████████████████████████████████| Time: 0:00:08\u001b[39m\n",
      "\u001b[34mSampling: 100%|█████████████████████████████████████████| Time: 0:00:08\u001b[39m\n",
      "\u001b[34mSampling: 100%|█████████████████████████████████████████| Time: 0:00:08\u001b[39m\n",
      "\u001b[34mSampling: 100%|█████████████████████████████████████████| Time: 0:00:08\u001b[39m\n",
      "\u001b[34mSampling: 100%|█████████████████████████████████████████| Time: 0:00:09\u001b[39m\n",
      "\u001b[34mSampling: 100%|█████████████████████████████████████████| Time: 0:00:09\u001b[39m\n",
      "\u001b[35mSampling: 100%|█████████████████████████████████████████| Time: 0:00:00\u001b[39m\n",
      "\u001b[34mSampling: 100%|█████████████████████████████████████████| Time: 0:00:09\u001b[39m\n",
      "\u001b[34mSampling: 100%|█████████████████████████████████████████| Time: 0:00:09\u001b[39m\n",
      "\u001b[34mSampling: 100%|█████████████████████████████████████████| Time: 0:00:09\u001b[39m\n",
      "\u001b[32mSampling: 100%|█████████████████████████████████████████| Time: 0:07:12\u001b[39m\n"
     ]
    },
    {
     "ename": "LoadError",
     "evalue": "InterruptException:",
     "output_type": "error",
     "traceback": [
      "InterruptException:",
      "",
      "Stacktrace:",
      " [1] try_yieldto(::typeof(Base.ensure_rescheduled)) at .\\task.jl:656",
      " [2] wait at .\\task.jl:713 [inlined]",
      " [3] consume(::CTask) at C:\\Users\\tomer\\.julia\\packages\\Libtask\\00Il9\\src\\ctask.jl:216",
      " [4] advance!(::AdvancedPS.Trace{Turing.Core.TracedModel{DynamicPPL.Sampler{PG{(),AdvancedPS.ResampleWithESSThreshold{typeof(AdvancedPS.resample_systematic),Float64}}},DynamicPPL.VarInfo{NamedTuple{(:my_location, :other_location),Tuple{DynamicPPL.Metadata{Dict{DynamicPPL.VarName{:my_location,Tuple{}},Int64},Array{Bernoulli{Float64},1},Array{DynamicPPL.VarName{:my_location,Tuple{}},1},BitArray{1},Array{Set{DynamicPPL.Selector},1}},DynamicPPL.Metadata{Dict{DynamicPPL.VarName{:other_location,Tuple{}},Int64},Array{Dirac{Bool},1},Array{DynamicPPL.VarName{:other_location,Tuple{}},1},BitArray{1},Array{Set{DynamicPPL.Selector},1}}}},Float64},DynamicPPL.Model{var\"#85#86\",(:other_person_place, :popularity, :depth),(:popularity, :depth),(),Tuple{typeof(alice_2),Float64,Int64},Tuple{Float64,Int64}}}}) at C:\\Users\\tomer\\.julia\\packages\\Turing\\O1Pn0\\src\\core\\container.jl:26",
      " [5] reweight!(::AdvancedPS.ParticleContainer{AdvancedPS.Trace{Turing.Core.TracedModel{DynamicPPL.Sampler{PG{(),AdvancedPS.ResampleWithESSThreshold{typeof(AdvancedPS.resample_systematic),Float64}}},DynamicPPL.VarInfo{NamedTuple{(:my_location, :other_location),Tuple{DynamicPPL.Metadata{Dict{DynamicPPL.VarName{:my_location,Tuple{}},Int64},Array{Bernoulli{Float64},1},Array{DynamicPPL.VarName{:my_location,Tuple{}},1},BitArray{1},Array{Set{DynamicPPL.Selector},1}},DynamicPPL.Metadata{Dict{DynamicPPL.VarName{:other_location,Tuple{}},Int64},Array{Dirac{Bool},1},Array{DynamicPPL.VarName{:other_location,Tuple{}},1},BitArray{1},Array{Set{DynamicPPL.Selector},1}}}},Float64},DynamicPPL.Model{var\"#85#86\",(:other_person_place, :popularity, :depth),(:popularity, :depth),(),Tuple{typeof(alice_2),Float64,Int64},Tuple{Float64,Int64}}}}}) at C:\\Users\\tomer\\.julia\\packages\\AdvancedPS\\Tf7fJ\\src\\container.jl:266",
      " [6] sweep!(::AdvancedPS.ParticleContainer{AdvancedPS.Trace{Turing.Core.TracedModel{DynamicPPL.Sampler{PG{(),AdvancedPS.ResampleWithESSThreshold{typeof(AdvancedPS.resample_systematic),Float64}}},DynamicPPL.VarInfo{NamedTuple{(:my_location, :other_location),Tuple{DynamicPPL.Metadata{Dict{DynamicPPL.VarName{:my_location,Tuple{}},Int64},Array{Bernoulli{Float64},1},Array{DynamicPPL.VarName{:my_location,Tuple{}},1},BitArray{1},Array{Set{DynamicPPL.Selector},1}},DynamicPPL.Metadata{Dict{DynamicPPL.VarName{:other_location,Tuple{}},Int64},Array{Dirac{Bool},1},Array{DynamicPPL.VarName{:other_location,Tuple{}},1},BitArray{1},Array{Set{DynamicPPL.Selector},1}}}},Float64},DynamicPPL.Model{var\"#85#86\",(:other_person_place, :popularity, :depth),(:popularity, :depth),(),Tuple{typeof(alice_2),Float64,Int64},Tuple{Float64,Int64}}}}}, ::AdvancedPS.ResampleWithESSThreshold{typeof(AdvancedPS.resample_systematic),Float64}) at C:\\Users\\tomer\\.julia\\packages\\AdvancedPS\\Tf7fJ\\src\\container.jl:320",
      " [7] #step#80 at C:\\Users\\tomer\\.julia\\packages\\Turing\\O1Pn0\\src\\inference\\AdvancedSMC.jl:302 [inlined]",
      " [8] step(::Random._GLOBAL_RNG, ::DynamicPPL.Model{var\"#85#86\",(:other_person_place, :popularity, :depth),(:popularity, :depth),(),Tuple{typeof(alice_2),Float64,Int64},Tuple{Float64,Int64}}, ::DynamicPPL.Sampler{PG{(),AdvancedPS.ResampleWithESSThreshold{typeof(AdvancedPS.resample_systematic),Float64}}}, ::DynamicPPL.VarInfo{NamedTuple{(:my_location, :other_location),Tuple{DynamicPPL.Metadata{Dict{DynamicPPL.VarName{:my_location,Tuple{}},Int64},Array{Bernoulli{Float64},1},Array{DynamicPPL.VarName{:my_location,Tuple{}},1},BitArray{1},Array{Set{DynamicPPL.Selector},1}},DynamicPPL.Metadata{Dict{DynamicPPL.VarName{:other_location,Tuple{}},Int64},Array{Dirac{Bool},1},Array{DynamicPPL.VarName{:other_location,Tuple{}},1},BitArray{1},Array{Set{DynamicPPL.Selector},1}}}},Float64}) at C:\\Users\\tomer\\.julia\\packages\\Turing\\O1Pn0\\src\\inference\\AdvancedSMC.jl:285",
      " [9] macro expansion at C:\\Users\\tomer\\.julia\\packages\\AbstractMCMC\\Nw3Wn\\src\\sample.jl:115 [inlined]",
      " [10] macro expansion at C:\\Users\\tomer\\.julia\\packages\\ProgressLogging\\BBN0b\\src\\ProgressLogging.jl:328 [inlined]",
      " [11] macro expansion at C:\\Users\\tomer\\.julia\\packages\\AbstractMCMC\\Nw3Wn\\src\\logging.jl:8 [inlined]",
      " [12] mcmcsample(::Random._GLOBAL_RNG, ::DynamicPPL.Model{var\"#85#86\",(:other_person_place, :popularity, :depth),(:popularity, :depth),(),Tuple{typeof(alice_2),Float64,Int64},Tuple{Float64,Int64}}, ::DynamicPPL.Sampler{PG{(),AdvancedPS.ResampleWithESSThreshold{typeof(AdvancedPS.resample_systematic),Float64}}}, ::Int64; progress::Bool, progressname::String, callback::Nothing, discard_initial::Int64, thinning::Int64, chain_type::Type{T} where T, kwargs::Base.Iterators.Pairs{Union{},Union{},Tuple{},NamedTuple{(),Tuple{}}}) at C:\\Users\\tomer\\.julia\\packages\\AbstractMCMC\\Nw3Wn\\src\\sample.jl:76",
      " [13] sample(::Random._GLOBAL_RNG, ::DynamicPPL.Model{var\"#85#86\",(:other_person_place, :popularity, :depth),(:popularity, :depth),(),Tuple{typeof(alice_2),Float64,Int64},Tuple{Float64,Int64}}, ::DynamicPPL.Sampler{PG{(),AdvancedPS.ResampleWithESSThreshold{typeof(AdvancedPS.resample_systematic),Float64}}}, ::Int64; chain_type::Type{T} where T, resume_from::Nothing, progress::Bool, kwargs::Base.Iterators.Pairs{Union{},Union{},Tuple{},NamedTuple{(),Tuple{}}}) at C:\\Users\\tomer\\.julia\\packages\\Turing\\O1Pn0\\src\\inference\\Inference.jl:157",
      " [14] sample at C:\\Users\\tomer\\.julia\\packages\\Turing\\O1Pn0\\src\\inference\\Inference.jl:156 [inlined]",
      " [15] #sample#2 at C:\\Users\\tomer\\.julia\\packages\\Turing\\O1Pn0\\src\\inference\\Inference.jl:143 [inlined]",
      " [16] sample at C:\\Users\\tomer\\.julia\\packages\\Turing\\O1Pn0\\src\\inference\\Inference.jl:143 [inlined]",
      " [17] #sample#1 at C:\\Users\\tomer\\.julia\\packages\\Turing\\O1Pn0\\src\\inference\\Inference.jl:133 [inlined]",
      " [18] sample at C:\\Users\\tomer\\.julia\\packages\\Turing\\O1Pn0\\src\\inference\\Inference.jl:133 [inlined]",
      " [19] #81 at .\\In[97]:3 [inlined]",
      " [20] (::var\"#81#82\")(::Random._GLOBAL_RNG, ::DynamicPPL.Model{var\"#81#82\",(:other_person_place, :popularity, :depth),(:popularity, :depth),(),Tuple{typeof(bob_2),Float64,Int64},Tuple{Float64,Int64}}, ::DynamicPPL.VarInfo{DynamicPPL.Metadata{Dict{DynamicPPL.VarName,Int64},Array{Distribution,1},Array{DynamicPPL.VarName,1},Array{Real,1},Array{Set{DynamicPPL.Selector},1}},Float64}, ::DynamicPPL.SampleFromPrior, ::DynamicPPL.DefaultContext, ::typeof(bob_2), ::Float64, ::Int64) at .\\none:0",
      " [21] macro expansion at C:\\Users\\tomer\\.julia\\packages\\DynamicPPL\\u14IH\\src\\model.jl:0 [inlined]",
      " [22] _evaluate at C:\\Users\\tomer\\.julia\\packages\\DynamicPPL\\u14IH\\src\\model.jl:154 [inlined]",
      " [23] evaluate_threadunsafe at C:\\Users\\tomer\\.julia\\packages\\DynamicPPL\\u14IH\\src\\model.jl:127 [inlined]",
      " [24] (::DynamicPPL.Model{var\"#81#82\",(:other_person_place, :popularity, :depth),(:popularity, :depth),(),Tuple{typeof(bob_2),Float64,Int64},Tuple{Float64,Int64}})(::Random._GLOBAL_RNG, ::DynamicPPL.VarInfo{DynamicPPL.Metadata{Dict{DynamicPPL.VarName,Int64},Array{Distribution,1},Array{DynamicPPL.VarName,1},Array{Real,1},Array{Set{DynamicPPL.Selector},1}},Float64}, ::DynamicPPL.SampleFromPrior, ::DynamicPPL.DefaultContext) at C:\\Users\\tomer\\.julia\\packages\\DynamicPPL\\u14IH\\src\\model.jl:92",
      " [25] VarInfo at C:\\Users\\tomer\\.julia\\packages\\DynamicPPL\\u14IH\\src\\varinfo.jl:126 [inlined]",
      " [26] VarInfo at C:\\Users\\tomer\\.julia\\packages\\DynamicPPL\\u14IH\\src\\varinfo.jl:125 [inlined]",
      " [27] step(::Random._GLOBAL_RNG, ::DynamicPPL.Model{var\"#81#82\",(:other_person_place, :popularity, :depth),(:popularity, :depth),(),Tuple{typeof(bob_2),Float64,Int64},Tuple{Float64,Int64}}, ::DynamicPPL.Sampler{PG{(),AdvancedPS.ResampleWithESSThreshold{typeof(AdvancedPS.resample_systematic),Float64}}}; resume_from::Nothing, kwargs::Base.Iterators.Pairs{Union{},Union{},Tuple{},NamedTuple{(),Tuple{}}}) at C:\\Users\\tomer\\.julia\\packages\\DynamicPPL\\u14IH\\src\\sampler.jl:73",
      " [28] step at C:\\Users\\tomer\\.julia\\packages\\DynamicPPL\\u14IH\\src\\sampler.jl:66 [inlined]",
      " [29] macro expansion at C:\\Users\\tomer\\.julia\\packages\\AbstractMCMC\\Nw3Wn\\src\\sample.jl:78 [inlined]",
      " [30] macro expansion at C:\\Users\\tomer\\.julia\\packages\\ProgressLogging\\BBN0b\\src\\ProgressLogging.jl:328 [inlined]",
      " [31] (::AbstractMCMC.var\"#20#21\"{Bool,String,Nothing,Int64,Int64,Base.Iterators.Pairs{Union{},Union{},Tuple{},NamedTuple{(),Tuple{}}},Random._GLOBAL_RNG,DynamicPPL.Model{var\"#81#82\",(:other_person_place, :popularity, :depth),(:popularity, :depth),(),Tuple{typeof(bob_2),Float64,Int64},Tuple{Float64,Int64}},DynamicPPL.Sampler{PG{(),AdvancedPS.ResampleWithESSThreshold{typeof(AdvancedPS.resample_systematic),Float64}}},Int64,Int64})() at C:\\Users\\tomer\\.julia\\packages\\AbstractMCMC\\Nw3Wn\\src\\logging.jl:11",
      " [32] with_logstate(::Function, ::Any) at .\\logging.jl:408",
      " [33] with_logger at .\\logging.jl:514 [inlined]",
      " [34] with_progresslogger(::Function, ::Module, ::Base.CoreLogging.SimpleLogger) at C:\\Users\\tomer\\.julia\\packages\\AbstractMCMC\\Nw3Wn\\src\\logging.jl:34",
      " [35] macro expansion at C:\\Users\\tomer\\.julia\\packages\\AbstractMCMC\\Nw3Wn\\src\\logging.jl:10 [inlined]",
      " [36] mcmcsample(::Random._GLOBAL_RNG, ::DynamicPPL.Model{var\"#81#82\",(:other_person_place, :popularity, :depth),(:popularity, :depth),(),Tuple{typeof(bob_2),Float64,Int64},Tuple{Float64,Int64}}, ::DynamicPPL.Sampler{PG{(),AdvancedPS.ResampleWithESSThreshold{typeof(AdvancedPS.resample_systematic),Float64}}}, ::Int64; progress::Bool, progressname::String, callback::Nothing, discard_initial::Int64, thinning::Int64, chain_type::Type{T} where T, kwargs::Base.Iterators.Pairs{Union{},Union{},Tuple{},NamedTuple{(),Tuple{}}}) at C:\\Users\\tomer\\.julia\\packages\\AbstractMCMC\\Nw3Wn\\src\\sample.jl:76",
      " [37] sample(::Random._GLOBAL_RNG, ::DynamicPPL.Model{var\"#81#82\",(:other_person_place, :popularity, :depth),(:popularity, :depth),(),Tuple{typeof(bob_2),Float64,Int64},Tuple{Float64,Int64}}, ::DynamicPPL.Sampler{PG{(),AdvancedPS.ResampleWithESSThreshold{typeof(AdvancedPS.resample_systematic),Float64}}}, ::Int64; chain_type::Type{T} where T, resume_from::Nothing, progress::Bool, kwargs::Base.Iterators.Pairs{Union{},Union{},Tuple{},NamedTuple{(),Tuple{}}}) at C:\\Users\\tomer\\.julia\\packages\\Turing\\O1Pn0\\src\\inference\\Inference.jl:157",
      " [38] sample at C:\\Users\\tomer\\.julia\\packages\\Turing\\O1Pn0\\src\\inference\\Inference.jl:156 [inlined]",
      " [39] #sample#2 at C:\\Users\\tomer\\.julia\\packages\\Turing\\O1Pn0\\src\\inference\\Inference.jl:143 [inlined]",
      " [40] sample at C:\\Users\\tomer\\.julia\\packages\\Turing\\O1Pn0\\src\\inference\\Inference.jl:143 [inlined]",
      " [41] #sample#1 at C:\\Users\\tomer\\.julia\\packages\\Turing\\O1Pn0\\src\\inference\\Inference.jl:133 [inlined]",
      " [42] sample(::DynamicPPL.Model{var\"#81#82\",(:other_person_place, :popularity, :depth),(:popularity, :depth),(),Tuple{typeof(bob_2),Float64,Int64},Tuple{Float64,Int64}}, ::PG{(),AdvancedPS.ResampleWithESSThreshold{typeof(AdvancedPS.resample_systematic),Float64}}, ::Int64) at C:\\Users\\tomer\\.julia\\packages\\Turing\\O1Pn0\\src\\inference\\Inference.jl:133",
      " [43] top-level scope at In[101]:1",
      " [44] include_string(::Function, ::Module, ::String, ::String) at .\\loading.jl:1091"
     ]
    },
    {
     "name": "stderr",
     "output_type": "stream",
     "text": [
      "\u001b[34mSampling: 100%|█████████████████████████████████████████| Time: 0:00:09\u001b[39m\n",
      "\u001b[34mSampling: 100%|█████████████████████████████████████████| Time: 0:00:06\u001b[39m\n",
      "\u001b[34mSampling: 100%|█████████████████████████████████████████| Time: 0:00:04\u001b[39m\n",
      "\u001b[34mSampling: 100%|█████████████████████████████████████████| Time: 0:00:04\u001b[39m\n",
      "\u001b[34mSampling:  85%|███████████████████████████████████      |  ETA: 0:00:01\u001b[39m"
     ]
    }
   ],
   "source": [
    "samples = sample(alice_2(bob_2, 0.55, 2), PG(10), 10)"
   ]
  },
  {
   "cell_type": "code",
   "execution_count": null,
   "metadata": {},
   "outputs": [],
   "source": []
  }
 ],
 "metadata": {
  "kernelspec": {
   "display_name": "Julia 1.5.3",
   "language": "julia",
   "name": "julia-1.5"
  },
  "language_info": {
   "file_extension": ".jl",
   "mimetype": "application/julia",
   "name": "julia",
   "version": "1.5.3"
  }
 },
 "nbformat": 4,
 "nbformat_minor": 4
}
