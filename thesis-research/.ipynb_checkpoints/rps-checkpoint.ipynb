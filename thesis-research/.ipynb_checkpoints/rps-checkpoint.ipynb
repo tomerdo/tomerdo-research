{
 "cells": [
  {
   "cell_type": "markdown",
   "metadata": {},
   "source": [
    "# This Notebook presents an expriment of Theory Of Mind on Rock Paper Scissors\n",
    "### The goal is to research and devlop a method for generic multi-agent games using Theory of Mind modeling.\n",
    "### We will introduce the tradeoff between choosing optimal move and staying unpredictable."
   ]
  },
  {
   "cell_type": "code",
   "execution_count": 2,
   "metadata": {},
   "outputs": [],
   "source": [
    "# Import libraries.\n",
    "using Turing, StatsPlots, Random, Memoization"
   ]
  },
  {
   "cell_type": "markdown",
   "metadata": {},
   "source": [
    "## The model of agent as universal Probalistic Model\n",
    "### gets some parmeters:\n",
    "<ul>\n",
    "    <li> opponent agent - representation of our belief on the opponent model (Turing.jl model)\n",
    "    <li> my history - list of all moves this player done (At this point unused)\n",
    "    <li> opponent history - list of all moves the opponent done, used to estimate a prior on the moves\n",
    "    <li> depth - the depth we want the agent will dive modeling the mind of opponent agent\n",
    "</ul>        "
   ]
  },
  {
   "cell_type": "code",
   "execution_count": 7,
   "metadata": {},
   "outputs": [
    {
     "data": {
      "text/plain": [
       "3-element Array{Int64,1}:\n",
       " 1\n",
       " 1\n",
       " 1"
      ]
     },
     "execution_count": 7,
     "metadata": {},
     "output_type": "execute_result"
    }
   ],
   "source": [
    "N = 10000\n",
    "INFALG = IS()\n",
    "PRIOR_POLICY = [1,1,1]"
   ]
  },
  {
   "cell_type": "code",
   "execution_count": 4,
   "metadata": {},
   "outputs": [
    {
     "data": {
      "text/plain": [
       "best_move (generic function with 1 method)"
      ]
     },
     "execution_count": 4,
     "metadata": {},
     "output_type": "execute_result"
    }
   ],
   "source": [
    "function best_move(opp_move)\n",
    "    best_moves = Dict(1 => 2, 2 => 3, 3 => 1)\n",
    "    move = best_moves[opp_move]\n",
    "    return move\n",
    "end"
   ]
  },
  {
   "cell_type": "code",
   "execution_count": 4,
   "metadata": {},
   "outputs": [
    {
     "data": {
      "text/plain": [
       "memoized_sample (generic function with 1 method)"
      ]
     },
     "execution_count": 4,
     "metadata": {},
     "output_type": "execute_result"
    }
   ],
   "source": [
    "@memoize memoized_sample(args...) = sample(args..., progress = false)"
   ]
  },
  {
   "cell_type": "code",
   "execution_count": 5,
   "metadata": {},
   "outputs": [
    {
     "data": {
      "text/plain": [
       "0.95"
      ]
     },
     "execution_count": 5,
     "metadata": {},
     "output_type": "execute_result"
    }
   ],
   "source": [
    "PDIRAC = 0.95"
   ]
  },
  {
   "cell_type": "code",
   "execution_count": 20,
   "metadata": {},
   "outputs": [
    {
     "data": {
      "text/plain": [
       "agent (generic function with 3 methods)"
      ]
     },
     "execution_count": 20,
     "metadata": {},
     "output_type": "execute_result"
    }
   ],
   "source": [
    "@model function agent(opponent_chn, opponent_history, opp_prior_policy = [1,1,1], depth = 1)\n",
    "    beta_opp ~ Dirichlet(opp_prior_policy) #prior\n",
    "    if depth == 0\n",
    "        for opp_move in opponent_history\n",
    "            opp_move ~ Categorical(beta_opp) # observe\n",
    "        end\n",
    "    end\n",
    "    next_opp_move ~ Categorical(beta_opp) # sample\n",
    "    if depth > 0\n",
    "        weights = exp.(opponent_chn[:lp][:, 1])\n",
    "        idx ~ Categorical(weights/sum(weights))\n",
    "        opponent_chn[:next_opp_move][idx, 1] ~ Dirac(next_opp_move) # Dirac(myLocation)\n",
    "    end\n",
    "    move = best_move(next_opp_move)\n",
    "    return move\n",
    "end"
   ]
  },
  {
   "cell_type": "markdown",
   "metadata": {},
   "source": [
    "the infece is about the opponent model and not my model"
   ]
  },
  {
   "cell_type": "code",
   "execution_count": 23,
   "metadata": {},
   "outputs": [
    {
     "data": {
      "text/plain": [
       "run_two_agents_theory_of_mind (generic function with 1 method)"
      ]
     },
     "execution_count": 23,
     "metadata": {},
     "output_type": "execute_result"
    }
   ],
   "source": [
    "function run_two_agents_theory_of_mind(first_model, second_model, first_player_history, second_player_history ,depth)\n",
    "    second_chn_i = []\n",
    "    for i in 0:depth\n",
    "        first_player_model = first_model(second_chn_i, second_player_history, PRIOR_POLICY, i)\n",
    "        first_chn_i = sample(first_player_model,  INFALG, N)\n",
    "        println(display(generated_quantities(first_player_model, first_chn_i)))\n",
    "        second_chn_i = sample(second_model(first_chn_i, first_player_history, PRIOR_POLICY, i), INFALG, N)\n",
    "    end\n",
    "    plotChn(second_chn_i)\n",
    "end"
   ]
  },
  {
   "cell_type": "code",
   "execution_count": 24,
   "metadata": {},
   "outputs": [
    {
     "name": "stderr",
     "output_type": "stream",
     "text": [
      "\u001b[32mSampling: 100%|█████████████████████████████████████████| Time: 0:00:01\u001b[39m\n"
     ]
    },
    {
     "data": {
      "text/plain": [
       "10000×1 Array{Int64,2}:\n",
       " 2\n",
       " 3\n",
       " 1\n",
       " 2\n",
       " 3\n",
       " 2\n",
       " 1\n",
       " 1\n",
       " 2\n",
       " 2\n",
       " 1\n",
       " 1\n",
       " 3\n",
       " ⋮\n",
       " 2\n",
       " 1\n",
       " 2\n",
       " 1\n",
       " 3\n",
       " 2\n",
       " 1\n",
       " 2\n",
       " 3\n",
       " 1\n",
       " 3\n",
       " 3"
      ]
     },
     "metadata": {},
     "output_type": "display_data"
    },
    {
     "name": "stdout",
     "output_type": "stream",
     "text": [
      "nothing"
     ]
    },
    {
     "name": "stderr",
     "output_type": "stream",
     "text": [
      "\u001b[32mSampling:  11%|█████                                    |  ETA: 0:00:01\u001b[39m"
     ]
    },
    {
     "name": "stdout",
     "output_type": "stream",
     "text": [
      "\n"
     ]
    },
    {
     "name": "stderr",
     "output_type": "stream",
     "text": [
      "\u001b[32mSampling: 100%|█████████████████████████████████████████| Time: 0:00:01\u001b[39m\n"
     ]
    },
    {
     "ename": "LoadError",
     "evalue": "ArgumentError: index my_move not found",
     "output_type": "error",
     "traceback": [
      "ArgumentError: index my_move not found",
      "",
      "Stacktrace:",
      " [1] axisindexes at C:\\Users\\tomer\\.julia\\packages\\AxisArrays\\IFpjG\\src\\indexing.jl:317 [inlined]",
      " [2] axisindexes at C:\\Users\\tomer\\.julia\\packages\\AxisArrays\\IFpjG\\src\\indexing.jl:199 [inlined]",
      " [3] macro expansion at C:\\Users\\tomer\\.julia\\packages\\AxisArrays\\IFpjG\\src\\indexing.jl:394 [inlined]",
      " [4] _to_index(::AxisArrays.AxisArray{Float64,3,Array{Float64,3},Tuple{AxisArrays.Axis{:iter,StepRange{Int64,Int64}},AxisArrays.Axis{:var,Array{Symbol,1}},AxisArrays.Axis{:chain,UnitRange{Int64}}}}, ::Tuple{AxisArrays.Unsupported,AxisArrays.Unsupported,AxisArrays.Unsupported}, ::Colon, ::Symbol, ::Colon) at C:\\Users\\tomer\\.julia\\packages\\AxisArrays\\IFpjG\\src\\indexing.jl:349",
      " [5] to_index at C:\\Users\\tomer\\.julia\\packages\\AxisArrays\\IFpjG\\src\\indexing.jl:347 [inlined]",
      " [6] getindex at C:\\Users\\tomer\\.julia\\packages\\AxisArrays\\IFpjG\\src\\indexing.jl:123 [inlined]",
      " [7] getindex(::Chains{Float64,AxisArrays.AxisArray{Float64,3,Array{Float64,3},Tuple{AxisArrays.Axis{:iter,StepRange{Int64,Int64}},AxisArrays.Axis{:var,Array{Symbol,1}},AxisArrays.Axis{:chain,UnitRange{Int64}}}},Float64,NamedTuple{(:parameters, :internals),Tuple{Array{Symbol,1},Array{Symbol,1}}},NamedTuple{(),Tuple{}}}, ::Function, ::Symbol, ::Function) at C:\\Users\\tomer\\.julia\\packages\\MCMCChains\\ic1pq\\src\\chains.jl:113",
      " [8] getindex at C:\\Users\\tomer\\.julia\\packages\\MCMCChains\\ic1pq\\src\\chains.jl:110 [inlined]",
      " [9] #5 at .\\In[20]:12 [inlined]",
      " [10] (::var\"#5#6\")(::Random._GLOBAL_RNG, ::DynamicPPL.Model{var\"#5#6\",(:opponent_chn, :opponent_history, :opp_prior_policy, :depth),(:opp_prior_policy, :depth),(),Tuple{Chains{Float64,AxisArrays.AxisArray{Float64,3,Array{Float64,3},Tuple{AxisArrays.Axis{:iter,StepRange{Int64,Int64}},AxisArrays.Axis{:var,Array{Symbol,1}},AxisArrays.Axis{:chain,UnitRange{Int64}}}},Float64,NamedTuple{(:parameters, :internals),Tuple{Array{Symbol,1},Array{Symbol,1}}},NamedTuple{(),Tuple{}}},Array{Int64,1},Array{Int64,1},Int64},Tuple{Array{Int64,1},Int64}}, ::DynamicPPL.VarInfo{DynamicPPL.Metadata{Dict{DynamicPPL.VarName,Int64},Array{Distribution,1},Array{DynamicPPL.VarName,1},Array{Real,1},Array{Set{DynamicPPL.Selector},1}},Float64}, ::DynamicPPL.Sampler{IS{()}}, ::DynamicPPL.DefaultContext, ::Chains{Float64,AxisArrays.AxisArray{Float64,3,Array{Float64,3},Tuple{AxisArrays.Axis{:iter,StepRange{Int64,Int64}},AxisArrays.Axis{:var,Array{Symbol,1}},AxisArrays.Axis{:chain,UnitRange{Int64}}}},Float64,NamedTuple{(:parameters, :internals),Tuple{Array{Symbol,1},Array{Symbol,1}}},NamedTuple{(),Tuple{}}}, ::Array{Int64,1}, ::Array{Int64,1}, ::Int64) at .\\none:0",
      " [11] macro expansion at C:\\Users\\tomer\\.julia\\packages\\DynamicPPL\\u14IH\\src\\model.jl:0 [inlined]",
      " [12] _evaluate at C:\\Users\\tomer\\.julia\\packages\\DynamicPPL\\u14IH\\src\\model.jl:154 [inlined]",
      " [13] evaluate_threadunsafe at C:\\Users\\tomer\\.julia\\packages\\DynamicPPL\\u14IH\\src\\model.jl:127 [inlined]",
      " [14] Model at C:\\Users\\tomer\\.julia\\packages\\DynamicPPL\\u14IH\\src\\model.jl:92 [inlined]",
      " [15] VarInfo at C:\\Users\\tomer\\.julia\\packages\\DynamicPPL\\u14IH\\src\\varinfo.jl:126 [inlined]",
      " [16] VarInfo at C:\\Users\\tomer\\.julia\\packages\\DynamicPPL\\u14IH\\src\\varinfo.jl:125 [inlined]",
      " [17] step(::Random._GLOBAL_RNG, ::DynamicPPL.Model{var\"#5#6\",(:opponent_chn, :opponent_history, :opp_prior_policy, :depth),(:opp_prior_policy, :depth),(),Tuple{Chains{Float64,AxisArrays.AxisArray{Float64,3,Array{Float64,3},Tuple{AxisArrays.Axis{:iter,StepRange{Int64,Int64}},AxisArrays.Axis{:var,Array{Symbol,1}},AxisArrays.Axis{:chain,UnitRange{Int64}}}},Float64,NamedTuple{(:parameters, :internals),Tuple{Array{Symbol,1},Array{Symbol,1}}},NamedTuple{(),Tuple{}}},Array{Int64,1},Array{Int64,1},Int64},Tuple{Array{Int64,1},Int64}}, ::DynamicPPL.Sampler{IS{()}}; resume_from::Nothing, kwargs::Base.Iterators.Pairs{Union{},Union{},Tuple{},NamedTuple{(),Tuple{}}}) at C:\\Users\\tomer\\.julia\\packages\\DynamicPPL\\u14IH\\src\\sampler.jl:73",
      " [18] step at C:\\Users\\tomer\\.julia\\packages\\DynamicPPL\\u14IH\\src\\sampler.jl:66 [inlined]",
      " [19] macro expansion at C:\\Users\\tomer\\.julia\\packages\\AbstractMCMC\\Nw3Wn\\src\\sample.jl:78 [inlined]",
      " [20] macro expansion at C:\\Users\\tomer\\.julia\\packages\\ProgressLogging\\BBN0b\\src\\ProgressLogging.jl:328 [inlined]",
      " [21] (::AbstractMCMC.var\"#20#21\"{Bool,String,Nothing,Int64,Int64,Base.Iterators.Pairs{Union{},Union{},Tuple{},NamedTuple{(),Tuple{}}},Random._GLOBAL_RNG,DynamicPPL.Model{var\"#5#6\",(:opponent_chn, :opponent_history, :opp_prior_policy, :depth),(:opp_prior_policy, :depth),(),Tuple{Chains{Float64,AxisArrays.AxisArray{Float64,3,Array{Float64,3},Tuple{AxisArrays.Axis{:iter,StepRange{Int64,Int64}},AxisArrays.Axis{:var,Array{Symbol,1}},AxisArrays.Axis{:chain,UnitRange{Int64}}}},Float64,NamedTuple{(:parameters, :internals),Tuple{Array{Symbol,1},Array{Symbol,1}}},NamedTuple{(),Tuple{}}},Array{Int64,1},Array{Int64,1},Int64},Tuple{Array{Int64,1},Int64}},DynamicPPL.Sampler{IS{()}},Int64,Int64})() at C:\\Users\\tomer\\.julia\\packages\\AbstractMCMC\\Nw3Wn\\src\\logging.jl:11",
      " [22] with_logstate(::Function, ::Any) at .\\logging.jl:408",
      " [23] with_logger at .\\logging.jl:514 [inlined]",
      " [24] with_progresslogger(::Function, ::Module, ::Base.CoreLogging.SimpleLogger) at C:\\Users\\tomer\\.julia\\packages\\AbstractMCMC\\Nw3Wn\\src\\logging.jl:34",
      " [25] macro expansion at C:\\Users\\tomer\\.julia\\packages\\AbstractMCMC\\Nw3Wn\\src\\logging.jl:10 [inlined]",
      " [26] mcmcsample(::Random._GLOBAL_RNG, ::DynamicPPL.Model{var\"#5#6\",(:opponent_chn, :opponent_history, :opp_prior_policy, :depth),(:opp_prior_policy, :depth),(),Tuple{Chains{Float64,AxisArrays.AxisArray{Float64,3,Array{Float64,3},Tuple{AxisArrays.Axis{:iter,StepRange{Int64,Int64}},AxisArrays.Axis{:var,Array{Symbol,1}},AxisArrays.Axis{:chain,UnitRange{Int64}}}},Float64,NamedTuple{(:parameters, :internals),Tuple{Array{Symbol,1},Array{Symbol,1}}},NamedTuple{(),Tuple{}}},Array{Int64,1},Array{Int64,1},Int64},Tuple{Array{Int64,1},Int64}}, ::DynamicPPL.Sampler{IS{()}}, ::Int64; progress::Bool, progressname::String, callback::Nothing, discard_initial::Int64, thinning::Int64, chain_type::Type{T} where T, kwargs::Base.Iterators.Pairs{Union{},Union{},Tuple{},NamedTuple{(),Tuple{}}}) at C:\\Users\\tomer\\.julia\\packages\\AbstractMCMC\\Nw3Wn\\src\\sample.jl:76",
      " [27] sample(::Random._GLOBAL_RNG, ::DynamicPPL.Model{var\"#5#6\",(:opponent_chn, :opponent_history, :opp_prior_policy, :depth),(:opp_prior_policy, :depth),(),Tuple{Chains{Float64,AxisArrays.AxisArray{Float64,3,Array{Float64,3},Tuple{AxisArrays.Axis{:iter,StepRange{Int64,Int64}},AxisArrays.Axis{:var,Array{Symbol,1}},AxisArrays.Axis{:chain,UnitRange{Int64}}}},Float64,NamedTuple{(:parameters, :internals),Tuple{Array{Symbol,1},Array{Symbol,1}}},NamedTuple{(),Tuple{}}},Array{Int64,1},Array{Int64,1},Int64},Tuple{Array{Int64,1},Int64}}, ::DynamicPPL.Sampler{IS{()}}, ::Int64; chain_type::Type{T} where T, resume_from::Nothing, progress::Bool, kwargs::Base.Iterators.Pairs{Union{},Union{},Tuple{},NamedTuple{(),Tuple{}}}) at C:\\Users\\tomer\\.julia\\packages\\Turing\\O1Pn0\\src\\inference\\Inference.jl:157",
      " [28] sample at C:\\Users\\tomer\\.julia\\packages\\Turing\\O1Pn0\\src\\inference\\Inference.jl:156 [inlined]",
      " [29] #sample#2 at C:\\Users\\tomer\\.julia\\packages\\Turing\\O1Pn0\\src\\inference\\Inference.jl:143 [inlined]",
      " [30] sample at C:\\Users\\tomer\\.julia\\packages\\Turing\\O1Pn0\\src\\inference\\Inference.jl:143 [inlined]",
      " [31] #sample#1 at C:\\Users\\tomer\\.julia\\packages\\Turing\\O1Pn0\\src\\inference\\Inference.jl:133 [inlined]",
      " [32] sample(::DynamicPPL.Model{var\"#5#6\",(:opponent_chn, :opponent_history, :opp_prior_policy, :depth),(:opp_prior_policy, :depth),(),Tuple{Chains{Float64,AxisArrays.AxisArray{Float64,3,Array{Float64,3},Tuple{AxisArrays.Axis{:iter,StepRange{Int64,Int64}},AxisArrays.Axis{:var,Array{Symbol,1}},AxisArrays.Axis{:chain,UnitRange{Int64}}}},Float64,NamedTuple{(:parameters, :internals),Tuple{Array{Symbol,1},Array{Symbol,1}}},NamedTuple{(),Tuple{}}},Array{Int64,1},Array{Int64,1},Int64},Tuple{Array{Int64,1},Int64}}, ::IS{()}, ::Int64) at C:\\Users\\tomer\\.julia\\packages\\Turing\\O1Pn0\\src\\inference\\Inference.jl:133",
      " [33] run_two_agents_theory_of_mind(::typeof(agent), ::typeof(agent), ::Array{Int64,1}, ::Array{Int64,1}, ::Int64) at .\\In[23]:5",
      " [34] top-level scope at In[24]:1",
      " [35] include_string(::Function, ::Module, ::String, ::String) at .\\loading.jl:1091"
     ]
    }
   ],
   "source": [
    "run_two_agents_theory_of_mind(agent, agent, [1,1,1,1,1] , [2,2,2,1,1], 1)"
   ]
  },
  {
   "cell_type": "markdown",
   "metadata": {},
   "source": [
    "### This method is used for the simulation, each model make a move at the end of this function, as a result of reasoning of the model"
   ]
  },
  {
   "cell_type": "code",
   "execution_count": 8,
   "metadata": {},
   "outputs": [
    {
     "data": {
      "text/plain": [
       "move (generic function with 2 methods)"
      ]
     },
     "execution_count": 8,
     "metadata": {},
     "output_type": "execute_result"
    }
   ],
   "source": [
    "function move(agent, other_agent, other_agent_history, other_player_prior, my_depth=1)\n",
    "    other_agent_history = length(other_agent_history) > 0 ? other_agent_history : [1]\n",
    "    other_agent_history = Array{Int}(other_agent_history)\n",
    "    m = agent(other_agent, other_agent_history, other_player_prior, my_depth)\n",
    "    chain = memoized_sample(m, IS(), 10)\n",
    "    moves = generated_quantities(m, chain)\n",
    "    return most_common(moves)\n",
    "end"
   ]
  },
  {
   "cell_type": "markdown",
   "metadata": {},
   "source": [
    "### Game simulation , given two agent models , depth params, let them play num of simulation times"
   ]
  },
  {
   "cell_type": "code",
   "execution_count": 9,
   "metadata": {},
   "outputs": [
    {
     "data": {
      "text/plain": [
       "game (generic function with 5 methods)"
      ]
     },
     "execution_count": 9,
     "metadata": {},
     "output_type": "execute_result"
    }
   ],
   "source": [
    "function game(first_player_depth = 1, second_player_depth = 1, first_player_prior_policy = [1,1,1] , second_player_prior_policy = [1, 1, 1])\n",
    "    first_player = agent\n",
    "    second_player = agent\n",
    "#     first_player_prior_policy = [1, 1, 1]\n",
    "#     second_player_prior_policy = [1, 1, 1]\n",
    "    num_of_simulations = 10\n",
    "    first_player_history = []\n",
    "    second_player_history = []\n",
    "    for i in 1:num_of_simulations\n",
    "        m1 = move(first_player, second_player, second_player_history, second_player_prior_policy, first_player_depth)\n",
    "        push!(first_player_history, m1)\n",
    "        m2 = move(second_player, first_player, first_player_history, first_player_prior_policy, second_player_depth)\n",
    "        push!(second_player_history, m2)\n",
    "    end\n",
    "    return first_player_history, second_player_history\n",
    " end"
   ]
  },
  {
   "cell_type": "code",
   "execution_count": 10,
   "metadata": {},
   "outputs": [
    {
     "data": {
      "text/plain": [
       "score (generic function with 1 method)"
      ]
     },
     "execution_count": 10,
     "metadata": {},
     "output_type": "execute_result"
    }
   ],
   "source": [
    "function score(history)\n",
    "    first_player_history, second_player_history = history\n",
    "    first_wins = 0\n",
    "    ties = 0\n",
    "    second_wins = 0\n",
    "    wins = Dict(1 => 3, 2 => 1, 3 => 2)\n",
    "    for i in 1:length(first_player_history)\n",
    "        if wins[first_player_history[i]] == second_player_history[i]\n",
    "            second_wins += 1\n",
    "        elseif wins[second_player_history[i]] == first_player_history[i]\n",
    "            first_wins += 1\n",
    "        else\n",
    "            ties += 1\n",
    "        end\n",
    "    end\n",
    "    return first_wins, ties, second_wins\n",
    "end"
   ]
  },
  {
   "cell_type": "code",
   "execution_count": 11,
   "metadata": {},
   "outputs": [
    {
     "data": {
      "text/plain": [
       "(0, 0, 2)"
      ]
     },
     "execution_count": 11,
     "metadata": {},
     "output_type": "execute_result"
    }
   ],
   "source": [
    "score([[1, 2], [3, 1]])"
   ]
  },
  {
   "cell_type": "code",
   "execution_count": 12,
   "metadata": {},
   "outputs": [
    {
     "data": {
      "text/plain": [
       "display_score (generic function with 1 method)"
      ]
     },
     "execution_count": 12,
     "metadata": {},
     "output_type": "execute_result"
    }
   ],
   "source": [
    "function display_score(score)\n",
    "    num_of_wins_first, num_of_ties, num_of_wins_second = score\n",
    "    println(\"first player won: $num_of_wins_first\")\n",
    "    println(\"second player won: $num_of_wins_second\") \n",
    "    println(\"ties: $num_of_ties\") \n",
    "end"
   ]
  },
  {
   "cell_type": "markdown",
   "metadata": {},
   "source": [
    "both player plays without theory of mind - equivilent"
   ]
  },
  {
   "cell_type": "code",
   "execution_count": 13,
   "metadata": {},
   "outputs": [
    {
     "name": "stdout",
     "output_type": "stream",
     "text": [
      "first player won: 4\n",
      "second player won: 2\n",
      "ties: 4\n"
     ]
    }
   ],
   "source": [
    "display_score(score(game(0, 0)))"
   ]
  },
  {
   "cell_type": "markdown",
   "metadata": {},
   "source": [
    "2nd player plays with one level of theory of mind -> 2nd wins"
   ]
  },
  {
   "cell_type": "code",
   "execution_count": 14,
   "metadata": {},
   "outputs": [
    {
     "name": "stdout",
     "output_type": "stream",
     "text": [
      "first player won: 1\n",
      "second player won: 5\n",
      "ties: 4\n"
     ]
    }
   ],
   "source": [
    "display_score(score(game(0, 1)))"
   ]
  },
  {
   "cell_type": "code",
   "execution_count": 15,
   "metadata": {},
   "outputs": [
    {
     "name": "stdout",
     "output_type": "stream",
     "text": [
      "first player won: 2\n",
      "second player won: 3\n",
      "ties: 5\n"
     ]
    }
   ],
   "source": [
    "display_score(score(game(0, 1)))"
   ]
  },
  {
   "cell_type": "markdown",
   "metadata": {},
   "source": [
    "1st player plays with one level of theory of mind -> 1st wins"
   ]
  },
  {
   "cell_type": "code",
   "execution_count": 16,
   "metadata": {},
   "outputs": [
    {
     "name": "stdout",
     "output_type": "stream",
     "text": [
      "first player won: 5\n",
      "second player won: 2\n",
      "ties: 3\n",
      "  3.282614 seconds (14.52 M allocations: 870.918 MiB, 6.97% gc time)\n"
     ]
    }
   ],
   "source": [
    "@time begin\n",
    "    display_score(score(game(1, 0)))\n",
    "end"
   ]
  },
  {
   "cell_type": "code",
   "execution_count": 17,
   "metadata": {},
   "outputs": [
    {
     "name": "stdout",
     "output_type": "stream",
     "text": [
      "first player won: 4\n",
      "second player won: 4\n",
      "ties: 2\n"
     ]
    }
   ],
   "source": [
    "display_score(score(game(1, 0)))"
   ]
  },
  {
   "cell_type": "markdown",
   "metadata": {},
   "source": [
    "both players play with one level of theory of mind -> preety much equivelent"
   ]
  },
  {
   "cell_type": "code",
   "execution_count": 18,
   "metadata": {},
   "outputs": [
    {
     "name": "stdout",
     "output_type": "stream",
     "text": [
      "first player won: 2\n",
      "second player won: 5\n",
      "ties: 3\n",
      "  8.170849 seconds (29.21 M allocations: 1.708 GiB, 7.05% gc time)\n"
     ]
    }
   ],
   "source": [
    "@time begin\n",
    "    display_score(score(game(1, 1)))\n",
    "end"
   ]
  },
  {
   "cell_type": "code",
   "execution_count": 19,
   "metadata": {},
   "outputs": [
    {
     "name": "stdout",
     "output_type": "stream",
     "text": [
      "first player won: 3\n",
      "second player won: 5\n",
      "ties: 2\n",
      "  6.871379 seconds (29.21 M allocations: 1.708 GiB, 7.74% gc time)\n"
     ]
    }
   ],
   "source": [
    "@time begin\n",
    "    display_score(score(game(1, 1)))\n",
    "end"
   ]
  },
  {
   "cell_type": "code",
   "execution_count": 20,
   "metadata": {},
   "outputs": [
    {
     "name": "stdout",
     "output_type": "stream",
     "text": [
      "first player won: 2\n",
      "second player won: 4\n",
      "ties: 4\n",
      "528.307919 seconds (2.97 G allocations: 173.272 GiB, 6.60% gc time)\n"
     ]
    }
   ],
   "source": [
    "@time begin\n",
    "    display_score(score(game(0, 2)))\n",
    "end"
   ]
  },
  {
   "cell_type": "code",
   "execution_count": 21,
   "metadata": {},
   "outputs": [
    {
     "name": "stdout",
     "output_type": "stream",
     "text": [
      "first player won: 3\n",
      "second player won: 2\n",
      "ties: 5\n"
     ]
    }
   ],
   "source": [
    "display_score(score(game(0, 2)))"
   ]
  },
  {
   "cell_type": "code",
   "execution_count": 22,
   "metadata": {},
   "outputs": [
    {
     "name": "stdout",
     "output_type": "stream",
     "text": [
      "first player won: 3\n",
      "second player won: 5\n",
      "ties: 2\n",
      "578.851981 seconds (2.90 G allocations: 170.019 GiB, 5.99% gc time)\n"
     ]
    }
   ],
   "source": [
    "@time begin\n",
    "    display_score(score(game(2, 0)))\n",
    "end"
   ]
  },
  {
   "cell_type": "code",
   "execution_count": 23,
   "metadata": {},
   "outputs": [
    {
     "name": "stdout",
     "output_type": "stream",
     "text": [
      "first player won: 5\n",
      "second player won: 1\n",
      "ties: 4\n",
      "536.764620 seconds (2.90 G allocations: 170.019 GiB, 6.23% gc time)\n"
     ]
    }
   ],
   "source": [
    "@time begin\n",
    "    display_score(score(game(2, 0)))\n",
    "end"
   ]
  },
  {
   "cell_type": "code",
   "execution_count": 24,
   "metadata": {},
   "outputs": [
    {
     "name": "stdout",
     "output_type": "stream",
     "text": [
      "first player won: 2\n",
      "second player won: 5\n",
      "ties: 3\n",
      "583.566516 seconds (2.98 G allocations: 174.112 GiB, 6.15% gc time)\n"
     ]
    }
   ],
   "source": [
    "@time begin\n",
    "    display_score(score(game(1, 2)))\n",
    "end"
   ]
  },
  {
   "cell_type": "code",
   "execution_count": 25,
   "metadata": {},
   "outputs": [
    {
     "name": "stdout",
     "output_type": "stream",
     "text": [
      "first player won: 1\n",
      "second player won: 7\n",
      "ties: 2\n",
      "600.915717 seconds (2.98 G allocations: 174.120 GiB, 6.70% gc time)\n"
     ]
    }
   ],
   "source": [
    "@time begin\n",
    "    display_score(score(game(1, 2)))\n",
    "end"
   ]
  },
  {
   "cell_type": "code",
   "execution_count": 26,
   "metadata": {},
   "outputs": [
    {
     "name": "stdout",
     "output_type": "stream",
     "text": [
      "first player won: 1\n",
      "second player won: 4\n",
      "ties: 5\n",
      "495.320000 seconds (2.92 G allocations: 170.877 GiB, 6.24% gc time)\n"
     ]
    }
   ],
   "source": [
    "@time begin\n",
    "    display_score(score(game(2, 1)))\n",
    "end"
   ]
  },
  {
   "cell_type": "code",
   "execution_count": 27,
   "metadata": {},
   "outputs": [
    {
     "name": "stdout",
     "output_type": "stream",
     "text": [
      "first player won: 5\n",
      "second player won: 2\n",
      "ties: 3\n"
     ]
    }
   ],
   "source": [
    "display_score(score(game(2, 1)))"
   ]
  },
  {
   "cell_type": "code",
   "execution_count": 28,
   "metadata": {},
   "outputs": [
    {
     "name": "stdout",
     "output_type": "stream",
     "text": [
      "first player won: 3\n",
      "second player won: 4\n",
      "ties: 3\n",
      "1050.767540 seconds (5.87 G allocations: 343.281 GiB, 10.05% gc time)\n"
     ]
    }
   ],
   "source": [
    "@time begin\n",
    "    display_score(score(game(2, 2)))\n",
    "end"
   ]
  },
  {
   "cell_type": "code",
   "execution_count": null,
   "metadata": {},
   "outputs": [],
   "source": [
    "@time begin \n",
    "    display_score(score(game(0, 3)))\n",
    "end"
   ]
  },
  {
   "cell_type": "code",
   "execution_count": null,
   "metadata": {},
   "outputs": [],
   "source": [
    "@time begin\n",
    "    display_score(score(game(3, 0)))\n",
    "end"
   ]
  },
  {
   "cell_type": "code",
   "execution_count": null,
   "metadata": {},
   "outputs": [],
   "source": [
    "display_score(score(game(0, 0, [20,1,1],[1,1,1])))"
   ]
  },
  {
   "cell_type": "code",
   "execution_count": null,
   "metadata": {},
   "outputs": [],
   "source": [
    "display_score(score(game(0, 0, [20,1,1],[1,1,1])))"
   ]
  },
  {
   "cell_type": "code",
   "execution_count": null,
   "metadata": {},
   "outputs": [],
   "source": [
    "display_score(score(game(0, 1, [20,1,1],[1,1,1])))"
   ]
  },
  {
   "cell_type": "code",
   "execution_count": null,
   "metadata": {},
   "outputs": [],
   "source": [
    "display_score(score(game(0, 1, [20,1,1],[1,1,1])))"
   ]
  },
  {
   "cell_type": "code",
   "execution_count": null,
   "metadata": {},
   "outputs": [],
   "source": [
    "display_score(score(game(1, 0, [20,1,1],[1,1,1])))"
   ]
  },
  {
   "cell_type": "code",
   "execution_count": null,
   "metadata": {},
   "outputs": [],
   "source": [
    "display_score(score(game(1, 0, [20,1,1],[1,1,1])))"
   ]
  },
  {
   "cell_type": "code",
   "execution_count": null,
   "metadata": {},
   "outputs": [],
   "source": [
    "display_score(score(game(1, 1, [20,1,1],[1,1,1])))"
   ]
  },
  {
   "cell_type": "code",
   "execution_count": null,
   "metadata": {},
   "outputs": [],
   "source": [
    "display_score(score(game(1, 1, [20,1,1],[1,1,1])))"
   ]
  },
  {
   "cell_type": "code",
   "execution_count": null,
   "metadata": {},
   "outputs": [],
   "source": [
    "display_score(score(game(0, 0,[1,1,1], [20,1,1])))"
   ]
  },
  {
   "cell_type": "code",
   "execution_count": null,
   "metadata": {},
   "outputs": [],
   "source": [
    "display_score(score(game(0, 0,[1,1,1], [20,1,1])))"
   ]
  },
  {
   "cell_type": "code",
   "execution_count": null,
   "metadata": {},
   "outputs": [],
   "source": [
    "display_score(score(game(0, 1,[1,1,1], [20,1,1])))"
   ]
  },
  {
   "cell_type": "code",
   "execution_count": null,
   "metadata": {},
   "outputs": [],
   "source": [
    "display_score(score(game(0, 1,[1,1,1], [20,1,1])))"
   ]
  },
  {
   "cell_type": "code",
   "execution_count": null,
   "metadata": {},
   "outputs": [],
   "source": [
    "display_score(score(game(1, 0,[1,1,1], [20,1,1])))"
   ]
  },
  {
   "cell_type": "code",
   "execution_count": null,
   "metadata": {},
   "outputs": [],
   "source": [
    "display_score(score(game(1, 0,[1,1,1], [20,1,1])))"
   ]
  },
  {
   "cell_type": "code",
   "execution_count": null,
   "metadata": {},
   "outputs": [],
   "source": [
    "display_score(score(game(1, 1,[1,1,1], [20,1,1])))"
   ]
  },
  {
   "cell_type": "code",
   "execution_count": null,
   "metadata": {},
   "outputs": [],
   "source": [
    "display_score(score(game(1, 1,[1,1,1], [20,1,1])))"
   ]
  },
  {
   "cell_type": "code",
   "execution_count": null,
   "metadata": {},
   "outputs": [],
   "source": [
    "display_score(score(game(0, 2,[1,1,1], [20,1,1])))"
   ]
  },
  {
   "cell_type": "code",
   "execution_count": null,
   "metadata": {},
   "outputs": [],
   "source": [
    "display_score(score(game(0, 2,[20,1,1], [1,1,1])))"
   ]
  },
  {
   "cell_type": "code",
   "execution_count": null,
   "metadata": {},
   "outputs": [],
   "source": [
    "display_score(score(game(2, 0,[1,1,1], [20,1,1])))"
   ]
  },
  {
   "cell_type": "code",
   "execution_count": null,
   "metadata": {},
   "outputs": [],
   "source": [
    "display_score(score(game(2, 0, [20,1,1],[1,1,1])))"
   ]
  },
  {
   "cell_type": "code",
   "execution_count": null,
   "metadata": {},
   "outputs": [],
   "source": [
    "display_score(score(game(1, 2, [20,1,1] ,[1,1,1])))"
   ]
  },
  {
   "cell_type": "code",
   "execution_count": null,
   "metadata": {},
   "outputs": [],
   "source": [
    "display_score(score(game(1, 2,[1,1,1], [20,1,1])))"
   ]
  },
  {
   "cell_type": "code",
   "execution_count": null,
   "metadata": {},
   "outputs": [],
   "source": [
    "display_score(score(game(2, 1, [20,1,1] ,[1,1,1])))"
   ]
  },
  {
   "cell_type": "code",
   "execution_count": null,
   "metadata": {},
   "outputs": [],
   "source": [
    "display_score(score(game(2, 1 ,[1,1,1], [20,1,1])))"
   ]
  },
  {
   "cell_type": "code",
   "execution_count": null,
   "metadata": {},
   "outputs": [],
   "source": [
    "display_score(score(game(2, 2, [20,1,1] ,[1,1,1])))"
   ]
  },
  {
   "cell_type": "code",
   "execution_count": null,
   "metadata": {},
   "outputs": [],
   "source": [
    "display_score(score(game(2, 2, [1,1,1], [20,1,1])))"
   ]
  },
  {
   "cell_type": "code",
   "execution_count": null,
   "metadata": {},
   "outputs": [],
   "source": [
    "@time begin\n",
    "    display_score(score(game(4, 0)))\n",
    "end"
   ]
  },
  {
   "cell_type": "code",
   "execution_count": null,
   "metadata": {},
   "outputs": [],
   "source": [
    "@time begin\n",
    "    display_score(score(game(0, 4)))\n",
    "end"
   ]
  },
  {
   "cell_type": "code",
   "execution_count": null,
   "metadata": {},
   "outputs": [],
   "source": [
    "@time begin\n",
    "    display_score(score(game(5, 0)))\n",
    "end"
   ]
  },
  {
   "cell_type": "code",
   "execution_count": null,
   "metadata": {},
   "outputs": [],
   "source": [
    "@time begin\n",
    "    display_score(score(game(0, 5)))\n",
    "end"
   ]
  },
  {
   "cell_type": "code",
   "execution_count": null,
   "metadata": {},
   "outputs": [],
   "source": [
    "@time begin\n",
    "    display_score(score(game(5, 4)))\n",
    "end"
   ]
  },
  {
   "cell_type": "code",
   "execution_count": null,
   "metadata": {},
   "outputs": [],
   "source": [
    "@time begin\n",
    "    display_score(score(game(6, 0)))\n",
    "end"
   ]
  },
  {
   "cell_type": "code",
   "execution_count": null,
   "metadata": {},
   "outputs": [],
   "source": []
  },
  {
   "cell_type": "code",
   "execution_count": null,
   "metadata": {},
   "outputs": [],
   "source": []
  },
  {
   "cell_type": "code",
   "execution_count": null,
   "metadata": {},
   "outputs": [],
   "source": []
  },
  {
   "cell_type": "code",
   "execution_count": null,
   "metadata": {},
   "outputs": [],
   "source": []
  },
  {
   "cell_type": "code",
   "execution_count": null,
   "metadata": {},
   "outputs": [],
   "source": []
  },
  {
   "cell_type": "code",
   "execution_count": null,
   "metadata": {},
   "outputs": [],
   "source": []
  }
 ],
 "metadata": {
  "kernelspec": {
   "display_name": "Julia 1.5.3",
   "language": "julia",
   "name": "julia-1.5"
  },
  "language_info": {
   "file_extension": ".jl",
   "mimetype": "application/julia",
   "name": "julia",
   "version": "1.5.3"
  }
 },
 "nbformat": 4,
 "nbformat_minor": 4
}
