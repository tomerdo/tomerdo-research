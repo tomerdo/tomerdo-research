{
 "cells": [
  {
   "cell_type": "code",
   "execution_count": 1,
   "metadata": {},
   "outputs": [],
   "source": [
    "# Import libraries.\n",
    "using Turing, StatsPlots, Random, Memoization"
   ]
  },
  {
   "cell_type": "markdown",
   "metadata": {},
   "source": [
    "## The model of agent as universal Probalistic Model\n",
    "### gets some parmeters:\n",
    "<ul>\n",
    "    <li> opponent agent - representation of our belief on the opponent model (Turing.jl model)\n",
    "    <li> my history - list of all moves this player done (At this point unused)\n",
    "    <li> opponent history - list of all moves the opponent done, used to estimate a prior on the moves\n",
    "    <li> depth - the depth we want the agent will dive modeling the mind of opponent agent\n",
    "</ul>        "
   ]
  },
  {
   "cell_type": "code",
   "execution_count": 2,
   "metadata": {},
   "outputs": [
    {
     "data": {
      "text/plain": [
       "0.95"
      ]
     },
     "execution_count": 2,
     "metadata": {},
     "output_type": "execute_result"
    }
   ],
   "source": [
    "N = 10000\n",
    "INFALG = IS()\n",
    "PRIOR_POLICY = [1,1,1]\n",
    "PDIRAC = 0.95"
   ]
  },
  {
   "cell_type": "code",
   "execution_count": 18,
   "metadata": {},
   "outputs": [
    {
     "data": {
      "text/plain": [
       "winning (generic function with 1 method)"
      ]
     },
     "execution_count": 18,
     "metadata": {},
     "output_type": "execute_result"
    }
   ],
   "source": [
    "function winning(opp_move)\n",
    "    best_moves = Dict(1 => 2, 2 => 3, 3 => 1)\n",
    "    move = best_moves[opp_move]\n",
    "    return move\n",
    "end"
   ]
  },
  {
   "cell_type": "code",
   "execution_count": 19,
   "metadata": {},
   "outputs": [
    {
     "data": {
      "text/plain": [
       "agent (generic function with 3 methods)"
      ]
     },
     "execution_count": 19,
     "metadata": {},
     "output_type": "execute_result"
    }
   ],
   "source": [
    "@model function agent(opponent_chn, opponent_history, opp_prior_policy = [1,1,1], depth = 1)\n",
    "    beta_opp ~ Dirichlet(opp_prior_policy) #prior\n",
    "    if depth == 0\n",
    "        for opp_move in opponent_history\n",
    "            opp_move ~ Categorical(beta_opp) # observe\n",
    "        end\n",
    "    end\n",
    "    next_opp_move ~ Categorical(beta_opp) # sample\n",
    "    opp_move_sample = next_opp_move\n",
    "    if depth > 0\n",
    "        weights = exp.(opponent_chn[:lp][:, 1])\n",
    "        idx ~ Categorical(weights/sum(weights))\n",
    "        opp_move_sample = opponent_chn[:next_opp_move][idx, 1]\n",
    "    end\n",
    "     # init alternative way to Dirac distribution\n",
    "    complete_p_dirac = (1 - PDIRAC) / 2\n",
    "    phi = fill(complete_p_dirac, 3)\n",
    "    phi[winning(next_opp_move)] = PDIRAC\n",
    "    \n",
    "    my_move = winning(opp_move_sample)\n",
    "    my_move ~ Categorical(phi) # Dirac(next_opp_move) / observe(next_opponent_move, infered_opponent_move)\n",
    "end"
   ]
  },
  {
   "cell_type": "code",
   "execution_count": 23,
   "metadata": {},
   "outputs": [
    {
     "data": {
      "text/plain": [
       "plotChn (generic function with 1 method)"
      ]
     },
     "execution_count": 23,
     "metadata": {},
     "output_type": "execute_result"
    }
   ],
   "source": [
    "# Plot the results\n",
    "function plotChn(chn)\n",
    "    histogram(chn[:my_move], weights=exp.(chn[:lp]), normalize=:probability)\n",
    "end"
   ]
  },
  {
   "cell_type": "code",
   "execution_count": 28,
   "metadata": {},
   "outputs": [
    {
     "data": {
      "text/plain": [
       "run_two_agents_theory_of_mind (generic function with 1 method)"
      ]
     },
     "execution_count": 28,
     "metadata": {},
     "output_type": "execute_result"
    }
   ],
   "source": [
    "function run_two_agents_theory_of_mind(first_model, second_model, first_player_history, second_player_history ,depth)\n",
    "    second_chn_i = []\n",
    "    first_chn_i = []\n",
    "    for i in 0:depth\n",
    "        first_chn_i = sample(first_model(second_chn_i, second_player_history, PRIOR_POLICY, i),  INFALG, N)\n",
    "        second_chn_i = sample(second_model(first_chn_i, first_player_history, PRIOR_POLICY, i), INFALG, N)\n",
    "    end\n",
    "    display(first_chn_i)\n",
    "    plotChn(first_chn_i)\n",
    "end"
   ]
  },
  {
   "cell_type": "code",
   "execution_count": null,
   "metadata": {},
   "outputs": [
    {
     "name": "stderr",
     "output_type": "stream",
     "text": [
      "\u001b[32mSampling: 100%|█████████████████████████████████████████| Time: 0:00:01\u001b[39m\n",
      "\u001b[32mSampling: 100%|█████████████████████████████████████████| Time: 0:00:01\u001b[39m\n",
      "\u001b[32mSampling: 100%|█████████████████████████████████████████| Time: 0:00:04\u001b[39m\n",
      "\u001b[32mSampling: 100%|█████████████████████████████████████████| Time: 0:00:04\u001b[39m\n",
      "\u001b[32mSampling: 100%|█████████████████████████████████████████| Time: 0:00:05\u001b[39m\n",
      "\u001b[32mSampling:  91%|██████████████████████████████████████   |  ETA: 0:00:01\u001b[39m"
     ]
    }
   ],
   "source": [
    "run_two_agents_theory_of_mind(agent, agent, [1,3,1,3,1,1,3,1,3,1] , [1,3,1,3,1,1,3,1,3,1], 2)"
   ]
  },
  {
   "cell_type": "code",
   "execution_count": null,
   "metadata": {},
   "outputs": [],
   "source": []
  }
 ],
 "metadata": {
  "kernelspec": {
   "display_name": "Julia 1.5.3",
   "language": "julia",
   "name": "julia-1.5"
  },
  "language_info": {
   "file_extension": ".jl",
   "mimetype": "application/julia",
   "name": "julia",
   "version": "1.5.3"
  }
 },
 "nbformat": 4,
 "nbformat_minor": 4
}
