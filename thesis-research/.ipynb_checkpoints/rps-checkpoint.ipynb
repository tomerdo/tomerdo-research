{
 "cells": [
  {
   "cell_type": "markdown",
   "metadata": {},
   "source": [
    "# This Notebook presents an expriment of Theory Of Mind on Rock Paper Scissors\n",
    "### The goal is to research and devlop a method for generic multi-agent games using Theory of Mind modeling.\n",
    "### We will introduce the tradeoff between choosing optimal move and staying unpredictable."
   ]
  },
  {
   "cell_type": "code",
   "execution_count": 1,
   "metadata": {},
   "outputs": [],
   "source": [
    "# Import libraries.\n",
    "using Turing, StatsPlots, Random, Memoization"
   ]
  },
  {
   "cell_type": "markdown",
   "metadata": {},
   "source": [
    "## The model of agent as universal Probalistic Model\n",
    "### gets some parmeters:\n",
    "<ul>\n",
    "    <li> opponent agent - representation of our belief on the opponent model (Turing.jl model)\n",
    "    <li> my history - list of all moves this player done (At this point unused)\n",
    "    <li> opponent history - list of all moves the opponent done, used to estimate a prior on the moves\n",
    "    <li> depth - the depth we want the agent will dive modeling the mind of opponent agent\n",
    "</ul>        "
   ]
  },
  {
   "cell_type": "code",
   "execution_count": 2,
   "metadata": {},
   "outputs": [
    {
     "data": {
      "text/plain": [
       "0.95"
      ]
     },
     "execution_count": 2,
     "metadata": {},
     "output_type": "execute_result"
    }
   ],
   "source": [
    "N = 10000\n",
    "INFALG = IS()\n",
    "PRIOR_POLICY = [1,1,1]\n",
    "PDIRAC = 0.95"
   ]
  },
  {
   "cell_type": "code",
   "execution_count": 18,
   "metadata": {},
   "outputs": [
    {
     "data": {
      "text/plain": [
       "winning (generic function with 1 method)"
      ]
     },
     "execution_count": 18,
     "metadata": {},
     "output_type": "execute_result"
    }
   ],
   "source": [
    "function winning(opp_move)\n",
    "    best_moves = Dict(1 => 2, 2 => 3, 3 => 1)\n",
    "    move = best_moves[opp_move]\n",
    "    return move\n",
    "end"
   ]
  },
  {
   "cell_type": "code",
   "execution_count": 15,
   "metadata": {},
   "outputs": [
    {
     "data": {
      "text/plain": [
       "agent (generic function with 3 methods)"
      ]
     },
     "execution_count": 15,
     "metadata": {},
     "output_type": "execute_result"
    }
   ],
   "source": [
    "@model function agent(opponent_chn, opponent_history, opp_prior_policy = [1,1,1], depth = 1)\n",
    "    beta_opp ~ Dirichlet(opp_prior_policy) #prior\n",
    "    if depth == 0\n",
    "        for opp_move in opponent_history\n",
    "            opp_move ~ Categorical(beta_opp) # observe\n",
    "        end\n",
    "    end\n",
    "    next_opp_move ~ Categorical(beta_opp) # sample\n",
    "    opp_move_sample = next_opp_move\n",
    "    if depth > 0\n",
    "        weights = exp.(opponent_chn[:lp][:, 1])\n",
    "        idx ~ Categorical(weights/sum(weights))\n",
    "        opp_move_sample = opponent_chn[:next_opp_move][idx, 1]\n",
    "    end\n",
    "     # init alternative way to Dirac distribution\n",
    "    complete_p_dirac = (1 - PDIRAC) / 2\n",
    "    phi = fill(complete_p_dirac, 3)\n",
    "    phi[winning(next_opp_move)] = PDIRAC\n",
    "    \n",
    "    my_move = winning(opp_move_sample)\n",
    "    my_move ~ Categorical(phi) # Dirac(next_opp_move) / observe(next_opponent_move, infered_opponent_move)\n",
    "end"
   ]
  },
  {
   "cell_type": "markdown",
   "metadata": {},
   "source": [
    "the infece is about the opponent model and not my model"
   ]
  },
  {
   "cell_type": "code",
   "execution_count": 16,
   "metadata": {},
   "outputs": [
    {
     "data": {
      "text/plain": [
       "plotChn (generic function with 1 method)"
      ]
     },
     "execution_count": 16,
     "metadata": {},
     "output_type": "execute_result"
    }
   ],
   "source": [
    "# Plot the results\n",
    "function plotChn(chn)\n",
    "    histogram(chn[:next_opp_move], weights=exp.(chn[:lp]), normalize=:probability)\n",
    "end"
   ]
  },
  {
   "cell_type": "code",
   "execution_count": 17,
   "metadata": {},
   "outputs": [
    {
     "data": {
      "text/plain": [
       "run_two_agents_theory_of_mind (generic function with 1 method)"
      ]
     },
     "execution_count": 17,
     "metadata": {},
     "output_type": "execute_result"
    }
   ],
   "source": [
    "function run_two_agents_theory_of_mind(first_model, second_model, first_player_history, second_player_history ,depth)\n",
    "    second_chn_i = []\n",
    "    for i in 0:depth\n",
    "        first_chn_i = sample(first_model(second_chn_i, second_player_history, PRIOR_POLICY, i),  INFALG, N)\n",
    "        second_chn_i = sample(second_model(first_chn_i, first_player_history, PRIOR_POLICY, i), INFALG, N)\n",
    "    end\n",
    "    display(second_chn_i)\n",
    "    plotChn(second_chn_i)\n",
    "end"
   ]
  },
  {
   "cell_type": "code",
   "execution_count": 14,
   "metadata": {},
   "outputs": [
    {
     "name": "stderr",
     "output_type": "stream",
     "text": [
      "\u001b[32mSampling: 100%|█████████████████████████████████████████| Time: 0:00:01\u001b[39m\n",
      "\u001b[32mSampling: 100%|█████████████████████████████████████████| Time: 0:00:01\u001b[39m\n"
     ]
    },
    {
     "data": {
      "text/plain": [
       "Chains MCMC chain (10000×7×1 Array{Float64,3}):\n",
       "\n",
       "Log evidence      = 0.0\n",
       "Iterations        = 1:10000\n",
       "Thinning interval = 1\n",
       "Chains            = 1\n",
       "Samples per chain = 10000\n",
       "parameters        = beta_opp[1], beta_opp[2], beta_opp[3], infered_opponent_move, next_opp_move, opp_move\n",
       "internals         = lp\n",
       "\n",
       "Summary Statistics\n",
       " \u001b[1m            parameters \u001b[0m \u001b[1m    mean \u001b[0m \u001b[1m     std \u001b[0m \u001b[1m naive_se \u001b[0m \u001b[1m    mcse \u001b[0m \u001b[1m       ess \u001b[0m \u001b[1m\u001b[0m ⋯\n",
       " \u001b[90m                Symbol \u001b[0m \u001b[90m Float64 \u001b[0m \u001b[90m Float64 \u001b[0m \u001b[90m  Float64 \u001b[0m \u001b[90m Float64 \u001b[0m \u001b[90m   Float64 \u001b[0m \u001b[90m\u001b[0m ⋯\n",
       "\n",
       "            beta_opp[1]    0.3300    0.2361     0.0024    0.0025   9971.0343   ⋯\n",
       "            beta_opp[2]    0.3352    0.2354     0.0024    0.0022   9988.4290   ⋯\n",
       "            beta_opp[3]    0.3349    0.2341     0.0023    0.0024   9389.7149   ⋯\n",
       "  infered_opponent_move    2.0055    0.8165     0.0082    0.0080   9922.8460   ⋯\n",
       "          next_opp_move    2.0030    0.8169     0.0082    0.0081   9765.9251   ⋯\n",
       "               opp_move    2.0082    0.8139     0.0081    0.0086   9831.7318   ⋯\n",
       "\u001b[31m                                                                1 column omitted\u001b[0m\n",
       "\n",
       "Quantiles\n",
       " \u001b[1m            parameters \u001b[0m \u001b[1m    2.5% \u001b[0m \u001b[1m   25.0% \u001b[0m \u001b[1m   50.0% \u001b[0m \u001b[1m   75.0% \u001b[0m \u001b[1m   97.5% \u001b[0m\n",
       " \u001b[90m                Symbol \u001b[0m \u001b[90m Float64 \u001b[0m \u001b[90m Float64 \u001b[0m \u001b[90m Float64 \u001b[0m \u001b[90m Float64 \u001b[0m \u001b[90m Float64 \u001b[0m\n",
       "\n",
       "            beta_opp[1]    0.0123    0.1285    0.2877    0.4991    0.8322\n",
       "            beta_opp[2]    0.0126    0.1392    0.2947    0.5022    0.8395\n",
       "            beta_opp[3]    0.0130    0.1380    0.2951    0.4993    0.8449\n",
       "  infered_opponent_move    1.0000    1.0000    2.0000    3.0000    3.0000\n",
       "          next_opp_move    1.0000    1.0000    2.0000    3.0000    3.0000\n",
       "               opp_move    1.0000    1.0000    2.0000    3.0000    3.0000\n"
      ]
     },
     "metadata": {},
     "output_type": "display_data"
    },
    {
     "data": {
      "image/svg+xml": [
       "<?xml version=\"1.0\" encoding=\"utf-8\"?>\n",
       "<svg xmlns=\"http://www.w3.org/2000/svg\" xmlns:xlink=\"http://www.w3.org/1999/xlink\" width=\"600\" height=\"400\" viewBox=\"0 0 2400 1600\">\n",
       "<defs>\n",
       "  <clipPath id=\"clip530\">\n",
       "    <rect x=\"0\" y=\"0\" width=\"2400\" height=\"1600\"/>\n",
       "  </clipPath>\n",
       "</defs>\n",
       "<path clip-path=\"url(#clip530)\" d=\"\n",
       "M0 1600 L2400 1600 L2400 0 L0 0  Z\n",
       "  \" fill=\"#ffffff\" fill-rule=\"evenodd\" fill-opacity=\"1\"/>\n",
       "<defs>\n",
       "  <clipPath id=\"clip531\">\n",
       "    <rect x=\"480\" y=\"0\" width=\"1681\" height=\"1600\"/>\n",
       "  </clipPath>\n",
       "</defs>\n",
       "<path clip-path=\"url(#clip530)\" d=\"\n",
       "M147.848 1486.45 L2352.76 1486.45 L2352.76 47.2441 L147.848 47.2441  Z\n",
       "  \" fill=\"#ffffff\" fill-rule=\"evenodd\" fill-opacity=\"1\"/>\n",
       "<defs>\n",
       "  <clipPath id=\"clip532\">\n",
       "    <rect x=\"147\" y=\"47\" width=\"2206\" height=\"1440\"/>\n",
       "  </clipPath>\n",
       "</defs>\n",
       "<polyline clip-path=\"url(#clip532)\" style=\"stroke:#000000; stroke-width:2; stroke-opacity:0.1; fill:none\" points=\"\n",
       "  269.122,1486.45 269.122,47.2441 \n",
       "  \"/>\n",
       "<polyline clip-path=\"url(#clip532)\" style=\"stroke:#000000; stroke-width:2; stroke-opacity:0.1; fill:none\" points=\"\n",
       "  715.113,1486.45 715.113,47.2441 \n",
       "  \"/>\n",
       "<polyline clip-path=\"url(#clip532)\" style=\"stroke:#000000; stroke-width:2; stroke-opacity:0.1; fill:none\" points=\"\n",
       "  1161.1,1486.45 1161.1,47.2441 \n",
       "  \"/>\n",
       "<polyline clip-path=\"url(#clip532)\" style=\"stroke:#000000; stroke-width:2; stroke-opacity:0.1; fill:none\" points=\"\n",
       "  1607.09,1486.45 1607.09,47.2441 \n",
       "  \"/>\n",
       "<polyline clip-path=\"url(#clip532)\" style=\"stroke:#000000; stroke-width:2; stroke-opacity:0.1; fill:none\" points=\"\n",
       "  2053.09,1486.45 2053.09,47.2441 \n",
       "  \"/>\n",
       "<polyline clip-path=\"url(#clip530)\" style=\"stroke:#000000; stroke-width:4; stroke-opacity:1; fill:none\" points=\"\n",
       "  147.848,1486.45 2352.76,1486.45 \n",
       "  \"/>\n",
       "<polyline clip-path=\"url(#clip530)\" style=\"stroke:#000000; stroke-width:4; stroke-opacity:1; fill:none\" points=\"\n",
       "  269.122,1486.45 269.122,1469.18 \n",
       "  \"/>\n",
       "<polyline clip-path=\"url(#clip530)\" style=\"stroke:#000000; stroke-width:4; stroke-opacity:1; fill:none\" points=\"\n",
       "  715.113,1486.45 715.113,1469.18 \n",
       "  \"/>\n",
       "<polyline clip-path=\"url(#clip530)\" style=\"stroke:#000000; stroke-width:4; stroke-opacity:1; fill:none\" points=\"\n",
       "  1161.1,1486.45 1161.1,1469.18 \n",
       "  \"/>\n",
       "<polyline clip-path=\"url(#clip530)\" style=\"stroke:#000000; stroke-width:4; stroke-opacity:1; fill:none\" points=\"\n",
       "  1607.09,1486.45 1607.09,1469.18 \n",
       "  \"/>\n",
       "<polyline clip-path=\"url(#clip530)\" style=\"stroke:#000000; stroke-width:4; stroke-opacity:1; fill:none\" points=\"\n",
       "  2053.09,1486.45 2053.09,1469.18 \n",
       "  \"/>\n",
       "<path clip-path=\"url(#clip530)\" d=\"M 0 0 M241.02 1543.18 L248.659 1543.18 L248.659 1516.82 L240.349 1518.49 L240.349 1514.23 L248.613 1512.56 L253.289 1512.56 L253.289 1543.18 L260.928 1543.18 L260.928 1547.12 L241.02 1547.12 L241.02 1543.18 Z\" fill=\"#000000\" fill-rule=\"evenodd\" fill-opacity=\"1\" /><path clip-path=\"url(#clip530)\" d=\"M 0 0 M265.997 1541.24 L270.881 1541.24 L270.881 1547.12 L265.997 1547.12 L265.997 1541.24 Z\" fill=\"#000000\" fill-rule=\"evenodd\" fill-opacity=\"1\" /><path clip-path=\"url(#clip530)\" d=\"M 0 0 M285.951 1515.64 Q282.34 1515.64 280.511 1519.2 Q278.705 1522.75 278.705 1529.87 Q278.705 1536.98 280.511 1540.55 Q282.34 1544.09 285.951 1544.09 Q289.585 1544.09 291.391 1540.55 Q293.219 1536.98 293.219 1529.87 Q293.219 1522.75 291.391 1519.2 Q289.585 1515.64 285.951 1515.64 M285.951 1511.93 Q291.761 1511.93 294.816 1516.54 Q297.895 1521.12 297.895 1529.87 Q297.895 1538.6 294.816 1543.21 Q291.761 1547.79 285.951 1547.79 Q280.141 1547.79 277.062 1543.21 Q274.006 1538.6 274.006 1529.87 Q274.006 1521.12 277.062 1516.54 Q280.141 1511.93 285.951 1511.93 Z\" fill=\"#000000\" fill-rule=\"evenodd\" fill-opacity=\"1\" /><path clip-path=\"url(#clip530)\" d=\"M 0 0 M687.509 1543.18 L695.148 1543.18 L695.148 1516.82 L686.838 1518.49 L686.838 1514.23 L695.102 1512.56 L699.777 1512.56 L699.777 1543.18 L707.416 1543.18 L707.416 1547.12 L687.509 1547.12 L687.509 1543.18 Z\" fill=\"#000000\" fill-rule=\"evenodd\" fill-opacity=\"1\" /><path clip-path=\"url(#clip530)\" d=\"M 0 0 M712.486 1541.24 L717.37 1541.24 L717.37 1547.12 L712.486 1547.12 L712.486 1541.24 Z\" fill=\"#000000\" fill-rule=\"evenodd\" fill-opacity=\"1\" /><path clip-path=\"url(#clip530)\" d=\"M 0 0 M722.486 1512.56 L740.842 1512.56 L740.842 1516.5 L726.768 1516.5 L726.768 1524.97 Q727.787 1524.62 728.805 1524.46 Q729.824 1524.27 730.842 1524.27 Q736.629 1524.27 740.009 1527.44 Q743.388 1530.62 743.388 1536.03 Q743.388 1541.61 739.916 1544.71 Q736.444 1547.79 730.125 1547.79 Q727.949 1547.79 725.68 1547.42 Q723.435 1547.05 721.027 1546.31 L721.027 1541.61 Q723.111 1542.74 725.333 1543.3 Q727.555 1543.86 730.032 1543.86 Q734.037 1543.86 736.374 1541.75 Q738.712 1539.64 738.712 1536.03 Q738.712 1532.42 736.374 1530.31 Q734.037 1528.21 730.032 1528.21 Q728.157 1528.21 726.282 1528.62 Q724.43 1529.04 722.486 1529.92 L722.486 1512.56 Z\" fill=\"#000000\" fill-rule=\"evenodd\" fill-opacity=\"1\" /><path clip-path=\"url(#clip530)\" d=\"M 0 0 M1137.27 1543.18 L1153.59 1543.18 L1153.59 1547.12 L1131.65 1547.12 L1131.65 1543.18 Q1134.31 1540.43 1138.89 1535.8 Q1143.5 1531.15 1144.68 1529.81 Q1146.93 1527.28 1147.81 1525.55 Q1148.71 1523.79 1148.71 1522.1 Q1148.71 1519.34 1146.76 1517.61 Q1144.84 1515.87 1141.74 1515.87 Q1139.54 1515.87 1137.09 1516.63 Q1134.66 1517.4 1131.88 1518.95 L1131.88 1514.23 Q1134.7 1513.09 1137.16 1512.51 Q1139.61 1511.93 1141.65 1511.93 Q1147.02 1511.93 1150.21 1514.62 Q1153.41 1517.31 1153.41 1521.8 Q1153.41 1523.93 1152.6 1525.85 Q1151.81 1527.74 1149.7 1530.34 Q1149.12 1531.01 1146.02 1534.23 Q1142.92 1537.42 1137.27 1543.18 Z\" fill=\"#000000\" fill-rule=\"evenodd\" fill-opacity=\"1\" /><path clip-path=\"url(#clip530)\" d=\"M 0 0 M1158.66 1541.24 L1163.55 1541.24 L1163.55 1547.12 L1158.66 1547.12 L1158.66 1541.24 Z\" fill=\"#000000\" fill-rule=\"evenodd\" fill-opacity=\"1\" /><path clip-path=\"url(#clip530)\" d=\"M 0 0 M1178.62 1515.64 Q1175 1515.64 1173.18 1519.2 Q1171.37 1522.75 1171.37 1529.87 Q1171.37 1536.98 1173.18 1540.55 Q1175 1544.09 1178.62 1544.09 Q1182.25 1544.09 1184.06 1540.55 Q1185.88 1536.98 1185.88 1529.87 Q1185.88 1522.75 1184.06 1519.2 Q1182.25 1515.64 1178.62 1515.64 M1178.62 1511.93 Q1184.43 1511.93 1187.48 1516.54 Q1190.56 1521.12 1190.56 1529.87 Q1190.56 1538.6 1187.48 1543.21 Q1184.43 1547.79 1178.62 1547.79 Q1172.81 1547.79 1169.73 1543.21 Q1166.67 1538.6 1166.67 1529.87 Q1166.67 1521.12 1169.73 1516.54 Q1172.81 1511.93 1178.62 1511.93 Z\" fill=\"#000000\" fill-rule=\"evenodd\" fill-opacity=\"1\" /><path clip-path=\"url(#clip530)\" d=\"M 0 0 M1583.76 1543.18 L1600.08 1543.18 L1600.08 1547.12 L1578.14 1547.12 L1578.14 1543.18 Q1580.8 1540.43 1585.38 1535.8 Q1589.99 1531.15 1591.17 1529.81 Q1593.41 1527.28 1594.29 1525.55 Q1595.2 1523.79 1595.2 1522.1 Q1595.2 1519.34 1593.25 1517.61 Q1591.33 1515.87 1588.23 1515.87 Q1586.03 1515.87 1583.58 1516.63 Q1581.15 1517.4 1578.37 1518.95 L1578.37 1514.23 Q1581.19 1513.09 1583.65 1512.51 Q1586.1 1511.93 1588.14 1511.93 Q1593.51 1511.93 1596.7 1514.62 Q1599.9 1517.31 1599.9 1521.8 Q1599.9 1523.93 1599.09 1525.85 Q1598.3 1527.74 1596.19 1530.34 Q1595.61 1531.01 1592.51 1534.23 Q1589.41 1537.42 1583.76 1543.18 Z\" fill=\"#000000\" fill-rule=\"evenodd\" fill-opacity=\"1\" /><path clip-path=\"url(#clip530)\" d=\"M 0 0 M1605.15 1541.24 L1610.03 1541.24 L1610.03 1547.12 L1605.15 1547.12 L1605.15 1541.24 Z\" fill=\"#000000\" fill-rule=\"evenodd\" fill-opacity=\"1\" /><path clip-path=\"url(#clip530)\" d=\"M 0 0 M1615.15 1512.56 L1633.51 1512.56 L1633.51 1516.5 L1619.43 1516.5 L1619.43 1524.97 Q1620.45 1524.62 1621.47 1524.46 Q1622.49 1524.27 1623.51 1524.27 Q1629.29 1524.27 1632.67 1527.44 Q1636.05 1530.62 1636.05 1536.03 Q1636.05 1541.61 1632.58 1544.71 Q1629.11 1547.79 1622.79 1547.79 Q1620.61 1547.79 1618.34 1547.42 Q1616.1 1547.05 1613.69 1546.31 L1613.69 1541.61 Q1615.78 1542.74 1618 1543.3 Q1620.22 1543.86 1622.7 1543.86 Q1626.7 1543.86 1629.04 1541.75 Q1631.38 1539.64 1631.38 1536.03 Q1631.38 1532.42 1629.04 1530.31 Q1626.7 1528.21 1622.7 1528.21 Q1620.82 1528.21 1618.95 1528.62 Q1617.09 1529.04 1615.15 1529.92 L1615.15 1512.56 Z\" fill=\"#000000\" fill-rule=\"evenodd\" fill-opacity=\"1\" /><path clip-path=\"url(#clip530)\" d=\"M 0 0 M2038.85 1528.49 Q2042.21 1529.2 2044.08 1531.47 Q2045.98 1533.74 2045.98 1537.07 Q2045.98 1542.19 2042.46 1544.99 Q2038.94 1547.79 2032.46 1547.79 Q2030.28 1547.79 2027.97 1547.35 Q2025.68 1546.93 2023.22 1546.08 L2023.22 1541.56 Q2025.17 1542.7 2027.48 1543.28 Q2029.8 1543.86 2032.32 1543.86 Q2036.72 1543.86 2039.01 1542.12 Q2041.33 1540.38 2041.33 1537.07 Q2041.33 1534.02 2039.17 1532.31 Q2037.04 1530.57 2033.22 1530.57 L2029.2 1530.57 L2029.2 1526.73 L2033.41 1526.73 Q2036.86 1526.73 2038.69 1525.36 Q2040.52 1523.97 2040.52 1521.38 Q2040.52 1518.72 2038.62 1517.31 Q2036.74 1515.87 2033.22 1515.87 Q2031.3 1515.87 2029.1 1516.29 Q2026.91 1516.7 2024.27 1517.58 L2024.27 1513.42 Q2026.93 1512.68 2029.24 1512.31 Q2031.58 1511.93 2033.64 1511.93 Q2038.97 1511.93 2042.07 1514.37 Q2045.17 1516.77 2045.17 1520.89 Q2045.17 1523.76 2043.53 1525.75 Q2041.88 1527.72 2038.85 1528.49 Z\" fill=\"#000000\" fill-rule=\"evenodd\" fill-opacity=\"1\" /><path clip-path=\"url(#clip530)\" d=\"M 0 0 M2051.05 1541.24 L2055.93 1541.24 L2055.93 1547.12 L2051.05 1547.12 L2051.05 1541.24 Z\" fill=\"#000000\" fill-rule=\"evenodd\" fill-opacity=\"1\" /><path clip-path=\"url(#clip530)\" d=\"M 0 0 M2071 1515.64 Q2067.39 1515.64 2065.56 1519.2 Q2063.76 1522.75 2063.76 1529.87 Q2063.76 1536.98 2065.56 1540.55 Q2067.39 1544.09 2071 1544.09 Q2074.64 1544.09 2076.44 1540.55 Q2078.27 1536.98 2078.27 1529.87 Q2078.27 1522.75 2076.44 1519.2 Q2074.64 1515.64 2071 1515.64 M2071 1511.93 Q2076.81 1511.93 2079.87 1516.54 Q2082.95 1521.12 2082.95 1529.87 Q2082.95 1538.6 2079.87 1543.21 Q2076.81 1547.79 2071 1547.79 Q2065.19 1547.79 2062.11 1543.21 Q2059.06 1538.6 2059.06 1529.87 Q2059.06 1521.12 2062.11 1516.54 Q2065.19 1511.93 2071 1511.93 Z\" fill=\"#000000\" fill-rule=\"evenodd\" fill-opacity=\"1\" /><polyline clip-path=\"url(#clip532)\" style=\"stroke:#000000; stroke-width:2; stroke-opacity:0.1; fill:none\" points=\"\n",
       "  147.848,1445.72 2352.76,1445.72 \n",
       "  \"/>\n",
       "<polyline clip-path=\"url(#clip532)\" style=\"stroke:#000000; stroke-width:2; stroke-opacity:0.1; fill:none\" points=\"\n",
       "  147.848,1040.54 2352.76,1040.54 \n",
       "  \"/>\n",
       "<polyline clip-path=\"url(#clip532)\" style=\"stroke:#000000; stroke-width:2; stroke-opacity:0.1; fill:none\" points=\"\n",
       "  147.848,635.367 2352.76,635.367 \n",
       "  \"/>\n",
       "<polyline clip-path=\"url(#clip532)\" style=\"stroke:#000000; stroke-width:2; stroke-opacity:0.1; fill:none\" points=\"\n",
       "  147.848,230.192 2352.76,230.192 \n",
       "  \"/>\n",
       "<polyline clip-path=\"url(#clip530)\" style=\"stroke:#000000; stroke-width:4; stroke-opacity:1; fill:none\" points=\"\n",
       "  147.848,1486.45 147.848,47.2441 \n",
       "  \"/>\n",
       "<polyline clip-path=\"url(#clip530)\" style=\"stroke:#000000; stroke-width:4; stroke-opacity:1; fill:none\" points=\"\n",
       "  147.848,1445.72 174.307,1445.72 \n",
       "  \"/>\n",
       "<polyline clip-path=\"url(#clip530)\" style=\"stroke:#000000; stroke-width:4; stroke-opacity:1; fill:none\" points=\"\n",
       "  147.848,1040.54 174.307,1040.54 \n",
       "  \"/>\n",
       "<polyline clip-path=\"url(#clip530)\" style=\"stroke:#000000; stroke-width:4; stroke-opacity:1; fill:none\" points=\"\n",
       "  147.848,635.367 174.307,635.367 \n",
       "  \"/>\n",
       "<polyline clip-path=\"url(#clip530)\" style=\"stroke:#000000; stroke-width:4; stroke-opacity:1; fill:none\" points=\"\n",
       "  147.848,230.192 174.307,230.192 \n",
       "  \"/>\n",
       "<path clip-path=\"url(#clip530)\" d=\"M 0 0 M62.9365 1431.51 Q59.3254 1431.51 57.4967 1435.08 Q55.6912 1438.62 55.6912 1445.75 Q55.6912 1452.86 57.4967 1456.42 Q59.3254 1459.96 62.9365 1459.96 Q66.5707 1459.96 68.3763 1456.42 Q70.205 1452.86 70.205 1445.75 Q70.205 1438.62 68.3763 1435.08 Q66.5707 1431.51 62.9365 1431.51 M62.9365 1427.81 Q68.7467 1427.81 71.8022 1432.42 Q74.8809 1437 74.8809 1445.75 Q74.8809 1454.48 71.8022 1459.08 Q68.7467 1463.67 62.9365 1463.67 Q57.1264 1463.67 54.0477 1459.08 Q50.9921 1454.48 50.9921 1445.75 Q50.9921 1437 54.0477 1432.42 Q57.1264 1427.81 62.9365 1427.81 Z\" fill=\"#000000\" fill-rule=\"evenodd\" fill-opacity=\"1\" /><path clip-path=\"url(#clip530)\" d=\"M 0 0 M79.9503 1457.12 L84.8345 1457.12 L84.8345 1463 L79.9503 1463 L79.9503 1457.12 Z\" fill=\"#000000\" fill-rule=\"evenodd\" fill-opacity=\"1\" /><path clip-path=\"url(#clip530)\" d=\"M 0 0 M99.9039 1431.51 Q96.2928 1431.51 94.4641 1435.08 Q92.6586 1438.62 92.6586 1445.75 Q92.6586 1452.86 94.4641 1456.42 Q96.2928 1459.96 99.9039 1459.96 Q103.538 1459.96 105.344 1456.42 Q107.172 1452.86 107.172 1445.75 Q107.172 1438.62 105.344 1435.08 Q103.538 1431.51 99.9039 1431.51 M99.9039 1427.81 Q105.714 1427.81 108.77 1432.42 Q111.848 1437 111.848 1445.75 Q111.848 1454.48 108.77 1459.08 Q105.714 1463.67 99.9039 1463.67 Q94.0937 1463.67 91.0151 1459.08 Q87.9595 1454.48 87.9595 1445.75 Q87.9595 1437 91.0151 1432.42 Q94.0937 1427.81 99.9039 1427.81 Z\" fill=\"#000000\" fill-rule=\"evenodd\" fill-opacity=\"1\" /><path clip-path=\"url(#clip530)\" d=\"M 0 0 M64.1634 1026.34 Q60.5523 1026.34 58.7236 1029.9 Q56.918 1033.45 56.918 1040.58 Q56.918 1047.68 58.7236 1051.25 Q60.5523 1054.79 64.1634 1054.79 Q67.7976 1054.79 69.6031 1051.25 Q71.4318 1047.68 71.4318 1040.58 Q71.4318 1033.45 69.6031 1029.9 Q67.7976 1026.34 64.1634 1026.34 M64.1634 1022.64 Q69.9735 1022.64 73.029 1027.24 Q76.1077 1031.83 76.1077 1040.58 Q76.1077 1049.3 73.029 1053.91 Q69.9735 1058.49 64.1634 1058.49 Q58.3532 1058.49 55.2745 1053.91 Q52.219 1049.3 52.219 1040.58 Q52.219 1031.83 55.2745 1027.24 Q58.3532 1022.64 64.1634 1022.64 Z\" fill=\"#000000\" fill-rule=\"evenodd\" fill-opacity=\"1\" /><path clip-path=\"url(#clip530)\" d=\"M 0 0 M81.1771 1051.94 L86.0614 1051.94 L86.0614 1057.82 L81.1771 1057.82 L81.1771 1051.94 Z\" fill=\"#000000\" fill-rule=\"evenodd\" fill-opacity=\"1\" /><path clip-path=\"url(#clip530)\" d=\"M 0 0 M91.941 1053.89 L99.5798 1053.89 L99.5798 1027.52 L91.2697 1029.19 L91.2697 1024.93 L99.5335 1023.26 L104.209 1023.26 L104.209 1053.89 L111.848 1053.89 L111.848 1057.82 L91.941 1057.82 L91.941 1053.89 Z\" fill=\"#000000\" fill-rule=\"evenodd\" fill-opacity=\"1\" /><path clip-path=\"url(#clip530)\" d=\"M 0 0 M64.5337 621.166 Q60.9226 621.166 59.0939 624.73 Q57.2884 628.272 57.2884 635.402 Q57.2884 642.508 59.0939 646.073 Q60.9226 649.615 64.5337 649.615 Q68.168 649.615 69.9735 646.073 Q71.8022 642.508 71.8022 635.402 Q71.8022 628.272 69.9735 624.73 Q68.168 621.166 64.5337 621.166 M64.5337 617.462 Q70.3439 617.462 73.3994 622.068 Q76.4781 626.652 76.4781 635.402 Q76.4781 644.128 73.3994 648.735 Q70.3439 653.318 64.5337 653.318 Q58.7236 653.318 55.6449 648.735 Q52.5893 644.128 52.5893 635.402 Q52.5893 626.652 55.6449 622.068 Q58.7236 617.462 64.5337 617.462 Z\" fill=\"#000000\" fill-rule=\"evenodd\" fill-opacity=\"1\" /><path clip-path=\"url(#clip530)\" d=\"M 0 0 M81.5475 646.767 L86.4318 646.767 L86.4318 652.647 L81.5475 652.647 L81.5475 646.767 Z\" fill=\"#000000\" fill-rule=\"evenodd\" fill-opacity=\"1\" /><path clip-path=\"url(#clip530)\" d=\"M 0 0 M95.5289 648.712 L111.848 648.712 L111.848 652.647 L89.904 652.647 L89.904 648.712 Q92.566 645.957 97.1493 641.328 Q101.756 636.675 102.936 635.332 Q105.182 632.809 106.061 631.073 Q106.964 629.314 106.964 627.624 Q106.964 624.869 105.02 623.133 Q103.098 621.397 99.9965 621.397 Q97.7974 621.397 95.3437 622.161 Q92.9132 622.925 90.1354 624.476 L90.1354 619.754 Q92.9595 618.619 95.4132 618.041 Q97.8669 617.462 99.9039 617.462 Q105.274 617.462 108.469 620.147 Q111.663 622.832 111.663 627.323 Q111.663 629.453 110.853 631.374 Q110.066 633.272 107.959 635.865 Q107.381 636.536 104.279 639.753 Q101.177 642.948 95.5289 648.712 Z\" fill=\"#000000\" fill-rule=\"evenodd\" fill-opacity=\"1\" /><path clip-path=\"url(#clip530)\" d=\"M 0 0 M63.5847 215.991 Q59.9736 215.991 58.1449 219.556 Q56.3393 223.098 56.3393 230.227 Q56.3393 237.334 58.1449 240.898 Q59.9736 244.44 63.5847 244.44 Q67.2189 244.44 69.0244 240.898 Q70.8531 237.334 70.8531 230.227 Q70.8531 223.098 69.0244 219.556 Q67.2189 215.991 63.5847 215.991 M63.5847 212.287 Q69.3948 212.287 72.4503 216.894 Q75.529 221.477 75.529 230.227 Q75.529 238.954 72.4503 243.56 Q69.3948 248.144 63.5847 248.144 Q57.7745 248.144 54.6958 243.56 Q51.6403 238.954 51.6403 230.227 Q51.6403 221.477 54.6958 216.894 Q57.7745 212.287 63.5847 212.287 Z\" fill=\"#000000\" fill-rule=\"evenodd\" fill-opacity=\"1\" /><path clip-path=\"url(#clip530)\" d=\"M 0 0 M80.5984 241.593 L85.4827 241.593 L85.4827 247.472 L80.5984 247.472 L80.5984 241.593 Z\" fill=\"#000000\" fill-rule=\"evenodd\" fill-opacity=\"1\" /><path clip-path=\"url(#clip530)\" d=\"M 0 0 M104.719 228.838 Q108.075 229.556 109.95 231.824 Q111.848 234.093 111.848 237.426 Q111.848 242.542 108.33 245.343 Q104.811 248.144 98.3298 248.144 Q96.1539 248.144 93.8391 247.704 Q91.5475 247.287 89.0938 246.431 L89.0938 241.917 Q91.0382 243.051 93.353 243.63 Q95.6678 244.209 98.1909 244.209 Q102.589 244.209 104.881 242.473 Q107.196 240.736 107.196 237.426 Q107.196 234.371 105.043 232.658 Q102.913 230.922 99.0937 230.922 L95.066 230.922 L95.066 227.079 L99.2789 227.079 Q102.728 227.079 104.557 225.713 Q106.385 224.324 106.385 221.732 Q106.385 219.07 104.487 217.658 Q102.612 216.223 99.0937 216.223 Q97.1724 216.223 94.9734 216.639 Q92.7743 217.056 90.1354 217.936 L90.1354 213.769 Q92.7975 213.028 95.1123 212.658 Q97.4502 212.287 99.5104 212.287 Q104.834 212.287 107.936 214.718 Q111.038 217.125 111.038 221.246 Q111.038 224.116 109.395 226.107 Q107.751 228.074 104.719 228.838 Z\" fill=\"#000000\" fill-rule=\"evenodd\" fill-opacity=\"1\" /><path clip-path=\"url(#clip532)\" d=\"\n",
       "M269.122 100.132 L269.122 1445.72 L447.518 1445.72 L447.518 100.132 L269.122 100.132 L269.122 100.132  Z\n",
       "  \" fill=\"#009af9\" fill-rule=\"evenodd\" fill-opacity=\"1\"/>\n",
       "<polyline clip-path=\"url(#clip532)\" style=\"stroke:#000000; stroke-width:4; stroke-opacity:1; fill:none\" points=\"\n",
       "  269.122,100.132 269.122,1445.72 447.518,1445.72 447.518,100.132 269.122,100.132 \n",
       "  \"/>\n",
       "<path clip-path=\"url(#clip532)\" d=\"\n",
       "M447.518 1445.72 L447.518 1445.72 L625.915 1445.72 L625.915 1445.72 L447.518 1445.72 L447.518 1445.72  Z\n",
       "  \" fill=\"#009af9\" fill-rule=\"evenodd\" fill-opacity=\"1\"/>\n",
       "<polyline clip-path=\"url(#clip532)\" style=\"stroke:#000000; stroke-width:4; stroke-opacity:1; fill:none\" points=\"\n",
       "  447.518,1445.72 447.518,1445.72 625.915,1445.72 447.518,1445.72 \n",
       "  \"/>\n",
       "<path clip-path=\"url(#clip532)\" d=\"\n",
       "M625.915 1445.72 L625.915 1445.72 L804.311 1445.72 L804.311 1445.72 L625.915 1445.72 L625.915 1445.72  Z\n",
       "  \" fill=\"#009af9\" fill-rule=\"evenodd\" fill-opacity=\"1\"/>\n",
       "<polyline clip-path=\"url(#clip532)\" style=\"stroke:#000000; stroke-width:4; stroke-opacity:1; fill:none\" points=\"\n",
       "  625.915,1445.72 625.915,1445.72 804.311,1445.72 625.915,1445.72 \n",
       "  \"/>\n",
       "<path clip-path=\"url(#clip532)\" d=\"\n",
       "M804.311 1445.72 L804.311 1445.72 L982.708 1445.72 L982.708 1445.72 L804.311 1445.72 L804.311 1445.72  Z\n",
       "  \" fill=\"#009af9\" fill-rule=\"evenodd\" fill-opacity=\"1\"/>\n",
       "<polyline clip-path=\"url(#clip532)\" style=\"stroke:#000000; stroke-width:4; stroke-opacity:1; fill:none\" points=\"\n",
       "  804.311,1445.72 804.311,1445.72 982.708,1445.72 804.311,1445.72 \n",
       "  \"/>\n",
       "<path clip-path=\"url(#clip532)\" d=\"\n",
       "M982.708 1445.72 L982.708 1445.72 L1161.1 1445.72 L1161.1 1445.72 L982.708 1445.72 L982.708 1445.72  Z\n",
       "  \" fill=\"#009af9\" fill-rule=\"evenodd\" fill-opacity=\"1\"/>\n",
       "<polyline clip-path=\"url(#clip532)\" style=\"stroke:#000000; stroke-width:4; stroke-opacity:1; fill:none\" points=\"\n",
       "  982.708,1445.72 982.708,1445.72 1161.1,1445.72 982.708,1445.72 \n",
       "  \"/>\n",
       "<path clip-path=\"url(#clip532)\" d=\"\n",
       "M1161.1 97.2953 L1161.1 1445.72 L1339.5 1445.72 L1339.5 97.2953 L1161.1 97.2953 L1161.1 97.2953  Z\n",
       "  \" fill=\"#009af9\" fill-rule=\"evenodd\" fill-opacity=\"1\"/>\n",
       "<polyline clip-path=\"url(#clip532)\" style=\"stroke:#000000; stroke-width:4; stroke-opacity:1; fill:none\" points=\"\n",
       "  1161.1,97.2953 1161.1,1445.72 1339.5,1445.72 1339.5,97.2953 1161.1,97.2953 \n",
       "  \"/>\n",
       "<path clip-path=\"url(#clip532)\" d=\"\n",
       "M1339.5 1445.72 L1339.5 1445.72 L1517.9 1445.72 L1517.9 1445.72 L1339.5 1445.72 L1339.5 1445.72  Z\n",
       "  \" fill=\"#009af9\" fill-rule=\"evenodd\" fill-opacity=\"1\"/>\n",
       "<polyline clip-path=\"url(#clip532)\" style=\"stroke:#000000; stroke-width:4; stroke-opacity:1; fill:none\" points=\"\n",
       "  1339.5,1445.72 1339.5,1445.72 1517.9,1445.72 1339.5,1445.72 \n",
       "  \"/>\n",
       "<path clip-path=\"url(#clip532)\" d=\"\n",
       "M1517.9 1445.72 L1517.9 1445.72 L1696.29 1445.72 L1696.29 1445.72 L1517.9 1445.72 L1517.9 1445.72  Z\n",
       "  \" fill=\"#009af9\" fill-rule=\"evenodd\" fill-opacity=\"1\"/>\n",
       "<polyline clip-path=\"url(#clip532)\" style=\"stroke:#000000; stroke-width:4; stroke-opacity:1; fill:none\" points=\"\n",
       "  1517.9,1445.72 1517.9,1445.72 1696.29,1445.72 1517.9,1445.72 \n",
       "  \"/>\n",
       "<path clip-path=\"url(#clip532)\" d=\"\n",
       "M1696.29 1445.72 L1696.29 1445.72 L1874.69 1445.72 L1874.69 1445.72 L1696.29 1445.72 L1696.29 1445.72  Z\n",
       "  \" fill=\"#009af9\" fill-rule=\"evenodd\" fill-opacity=\"1\"/>\n",
       "<polyline clip-path=\"url(#clip532)\" style=\"stroke:#000000; stroke-width:4; stroke-opacity:1; fill:none\" points=\"\n",
       "  1696.29,1445.72 1696.29,1445.72 1874.69,1445.72 1696.29,1445.72 \n",
       "  \"/>\n",
       "<path clip-path=\"url(#clip532)\" d=\"\n",
       "M1874.69 1445.72 L1874.69 1445.72 L2053.09 1445.72 L2053.09 1445.72 L1874.69 1445.72 L1874.69 1445.72  Z\n",
       "  \" fill=\"#009af9\" fill-rule=\"evenodd\" fill-opacity=\"1\"/>\n",
       "<polyline clip-path=\"url(#clip532)\" style=\"stroke:#000000; stroke-width:4; stroke-opacity:1; fill:none\" points=\"\n",
       "  1874.69,1445.72 1874.69,1445.72 2053.09,1445.72 1874.69,1445.72 \n",
       "  \"/>\n",
       "<path clip-path=\"url(#clip532)\" d=\"\n",
       "M2053.09 87.9763 L2053.09 1445.72 L2231.48 1445.72 L2231.48 87.9763 L2053.09 87.9763 L2053.09 87.9763  Z\n",
       "  \" fill=\"#009af9\" fill-rule=\"evenodd\" fill-opacity=\"1\"/>\n",
       "<polyline clip-path=\"url(#clip532)\" style=\"stroke:#000000; stroke-width:4; stroke-opacity:1; fill:none\" points=\"\n",
       "  2053.09,87.9763 2053.09,1445.72 2231.48,1445.72 2231.48,87.9763 2053.09,87.9763 \n",
       "  \"/>\n",
       "<path clip-path=\"url(#clip530)\" d=\"\n",
       "M1983.25 216.178 L2279.26 216.178 L2279.26 95.2176 L1983.25 95.2176  Z\n",
       "  \" fill=\"#ffffff\" fill-rule=\"evenodd\" fill-opacity=\"1\"/>\n",
       "<polyline clip-path=\"url(#clip530)\" style=\"stroke:#000000; stroke-width:4; stroke-opacity:1; fill:none\" points=\"\n",
       "  1983.25,216.178 2279.26,216.178 2279.26,95.2176 1983.25,95.2176 1983.25,216.178 \n",
       "  \"/>\n",
       "<path clip-path=\"url(#clip530)\" d=\"\n",
       "M2007.75 179.89 L2154.74 179.89 L2154.74 131.506 L2007.75 131.506 L2007.75 179.89  Z\n",
       "  \" fill=\"#009af9\" fill-rule=\"evenodd\" fill-opacity=\"1\"/>\n",
       "<polyline clip-path=\"url(#clip530)\" style=\"stroke:#000000; stroke-width:4; stroke-opacity:1; fill:none\" points=\"\n",
       "  2007.75,179.89 2154.74,179.89 2154.74,131.506 2007.75,131.506 2007.75,179.89 \n",
       "  \"/>\n",
       "<path clip-path=\"url(#clip530)\" d=\"M 0 0 M2193.09 175.385 Q2191.28 180.015 2189.57 181.427 Q2187.85 182.839 2184.98 182.839 L2181.58 182.839 L2181.58 179.274 L2184.08 179.274 Q2185.84 179.274 2186.81 178.44 Q2187.78 177.607 2188.96 174.505 L2189.73 172.561 L2179.24 147.052 L2183.76 147.052 L2191.86 167.329 L2199.96 147.052 L2204.47 147.052 L2193.09 175.385 Z\" fill=\"#000000\" fill-rule=\"evenodd\" fill-opacity=\"1\" /><path clip-path=\"url(#clip530)\" d=\"M 0 0 M2210.35 169.042 L2217.99 169.042 L2217.99 142.677 L2209.68 144.343 L2209.68 140.084 L2217.95 138.418 L2222.62 138.418 L2222.62 169.042 L2230.26 169.042 L2230.26 172.978 L2210.35 172.978 L2210.35 169.042 Z\" fill=\"#000000\" fill-rule=\"evenodd\" fill-opacity=\"1\" /></svg>\n"
      ]
     },
     "execution_count": 14,
     "metadata": {},
     "output_type": "execute_result"
    }
   ],
   "source": [
    "run_two_agents_theory_of_mind(agent, agent, [1,3,1,3,1,1,3,1,3,1] , [2,2,2,1,1], 0)"
   ]
  },
  {
   "cell_type": "markdown",
   "metadata": {},
   "source": [
    "### This method is used for the simulation, each model make a move at the end of this function, as a result of reasoning of the model"
   ]
  },
  {
   "cell_type": "code",
   "execution_count": 8,
   "metadata": {},
   "outputs": [
    {
     "data": {
      "text/plain": [
       "move (generic function with 2 methods)"
      ]
     },
     "execution_count": 8,
     "metadata": {},
     "output_type": "execute_result"
    }
   ],
   "source": [
    "function move(agent, other_agent, other_agent_history, other_player_prior, my_depth=1)\n",
    "    other_agent_history = length(other_agent_history) > 0 ? other_agent_history : [1]\n",
    "    other_agent_history = Array{Int}(other_agent_history)\n",
    "    m = agent(other_agent, other_agent_history, other_player_prior, my_depth)\n",
    "    chain = memoized_sample(m, IS(), 10)\n",
    "    moves = generated_quantities(m, chain)\n",
    "    return most_common(moves)\n",
    "end"
   ]
  },
  {
   "cell_type": "markdown",
   "metadata": {},
   "source": [
    "### Game simulation , given two agent models , depth params, let them play num of simulation times"
   ]
  },
  {
   "cell_type": "code",
   "execution_count": 9,
   "metadata": {},
   "outputs": [
    {
     "data": {
      "text/plain": [
       "game (generic function with 5 methods)"
      ]
     },
     "execution_count": 9,
     "metadata": {},
     "output_type": "execute_result"
    }
   ],
   "source": [
    "function game(first_player_depth = 1, second_player_depth = 1, first_player_prior_policy = [1,1,1] , second_player_prior_policy = [1, 1, 1])\n",
    "    first_player = agent\n",
    "    second_player = agent\n",
    "#     first_player_prior_policy = [1, 1, 1]\n",
    "#     second_player_prior_policy = [1, 1, 1]\n",
    "    num_of_simulations = 10\n",
    "    first_player_history = []\n",
    "    second_player_history = []\n",
    "    for i in 1:num_of_simulations\n",
    "        m1 = move(first_player, second_player, second_player_history, second_player_prior_policy, first_player_depth)\n",
    "        push!(first_player_history, m1)\n",
    "        m2 = move(second_player, first_player, first_player_history, first_player_prior_policy, second_player_depth)\n",
    "        push!(second_player_history, m2)\n",
    "    end\n",
    "    return first_player_history, second_player_history\n",
    " end"
   ]
  },
  {
   "cell_type": "code",
   "execution_count": 10,
   "metadata": {},
   "outputs": [
    {
     "data": {
      "text/plain": [
       "score (generic function with 1 method)"
      ]
     },
     "execution_count": 10,
     "metadata": {},
     "output_type": "execute_result"
    }
   ],
   "source": [
    "function score(history)\n",
    "    first_player_history, second_player_history = history\n",
    "    first_wins = 0\n",
    "    ties = 0\n",
    "    second_wins = 0\n",
    "    wins = Dict(1 => 3, 2 => 1, 3 => 2)\n",
    "    for i in 1:length(first_player_history)\n",
    "        if wins[first_player_history[i]] == second_player_history[i]\n",
    "            second_wins += 1\n",
    "        elseif wins[second_player_history[i]] == first_player_history[i]\n",
    "            first_wins += 1\n",
    "        else\n",
    "            ties += 1\n",
    "        end\n",
    "    end\n",
    "    return first_wins, ties, second_wins\n",
    "end"
   ]
  },
  {
   "cell_type": "code",
   "execution_count": 11,
   "metadata": {},
   "outputs": [
    {
     "data": {
      "text/plain": [
       "(0, 0, 2)"
      ]
     },
     "execution_count": 11,
     "metadata": {},
     "output_type": "execute_result"
    }
   ],
   "source": [
    "score([[1, 2], [3, 1]])"
   ]
  },
  {
   "cell_type": "code",
   "execution_count": 12,
   "metadata": {},
   "outputs": [
    {
     "data": {
      "text/plain": [
       "display_score (generic function with 1 method)"
      ]
     },
     "execution_count": 12,
     "metadata": {},
     "output_type": "execute_result"
    }
   ],
   "source": [
    "function display_score(score)\n",
    "    num_of_wins_first, num_of_ties, num_of_wins_second = score\n",
    "    println(\"first player won: $num_of_wins_first\")\n",
    "    println(\"second player won: $num_of_wins_second\") \n",
    "    println(\"ties: $num_of_ties\") \n",
    "end"
   ]
  },
  {
   "cell_type": "markdown",
   "metadata": {},
   "source": [
    "both player plays without theory of mind - equivilent"
   ]
  },
  {
   "cell_type": "code",
   "execution_count": 13,
   "metadata": {},
   "outputs": [
    {
     "name": "stdout",
     "output_type": "stream",
     "text": [
      "first player won: 4\n",
      "second player won: 2\n",
      "ties: 4\n"
     ]
    }
   ],
   "source": [
    "display_score(score(game(0, 0)))"
   ]
  },
  {
   "cell_type": "markdown",
   "metadata": {},
   "source": [
    "2nd player plays with one level of theory of mind -> 2nd wins"
   ]
  },
  {
   "cell_type": "code",
   "execution_count": 14,
   "metadata": {},
   "outputs": [
    {
     "name": "stdout",
     "output_type": "stream",
     "text": [
      "first player won: 1\n",
      "second player won: 5\n",
      "ties: 4\n"
     ]
    }
   ],
   "source": [
    "display_score(score(game(0, 1)))"
   ]
  },
  {
   "cell_type": "code",
   "execution_count": 15,
   "metadata": {},
   "outputs": [
    {
     "name": "stdout",
     "output_type": "stream",
     "text": [
      "first player won: 2\n",
      "second player won: 3\n",
      "ties: 5\n"
     ]
    }
   ],
   "source": [
    "display_score(score(game(0, 1)))"
   ]
  },
  {
   "cell_type": "markdown",
   "metadata": {},
   "source": [
    "1st player plays with one level of theory of mind -> 1st wins"
   ]
  },
  {
   "cell_type": "code",
   "execution_count": 16,
   "metadata": {},
   "outputs": [
    {
     "name": "stdout",
     "output_type": "stream",
     "text": [
      "first player won: 5\n",
      "second player won: 2\n",
      "ties: 3\n",
      "  3.282614 seconds (14.52 M allocations: 870.918 MiB, 6.97% gc time)\n"
     ]
    }
   ],
   "source": [
    "@time begin\n",
    "    display_score(score(game(1, 0)))\n",
    "end"
   ]
  },
  {
   "cell_type": "code",
   "execution_count": 17,
   "metadata": {},
   "outputs": [
    {
     "name": "stdout",
     "output_type": "stream",
     "text": [
      "first player won: 4\n",
      "second player won: 4\n",
      "ties: 2\n"
     ]
    }
   ],
   "source": [
    "display_score(score(game(1, 0)))"
   ]
  },
  {
   "cell_type": "markdown",
   "metadata": {},
   "source": [
    "both players play with one level of theory of mind -> preety much equivelent"
   ]
  },
  {
   "cell_type": "code",
   "execution_count": 18,
   "metadata": {},
   "outputs": [
    {
     "name": "stdout",
     "output_type": "stream",
     "text": [
      "first player won: 2\n",
      "second player won: 5\n",
      "ties: 3\n",
      "  8.170849 seconds (29.21 M allocations: 1.708 GiB, 7.05% gc time)\n"
     ]
    }
   ],
   "source": [
    "@time begin\n",
    "    display_score(score(game(1, 1)))\n",
    "end"
   ]
  },
  {
   "cell_type": "code",
   "execution_count": 19,
   "metadata": {},
   "outputs": [
    {
     "name": "stdout",
     "output_type": "stream",
     "text": [
      "first player won: 3\n",
      "second player won: 5\n",
      "ties: 2\n",
      "  6.871379 seconds (29.21 M allocations: 1.708 GiB, 7.74% gc time)\n"
     ]
    }
   ],
   "source": [
    "@time begin\n",
    "    display_score(score(game(1, 1)))\n",
    "end"
   ]
  },
  {
   "cell_type": "code",
   "execution_count": 20,
   "metadata": {},
   "outputs": [
    {
     "name": "stdout",
     "output_type": "stream",
     "text": [
      "first player won: 2\n",
      "second player won: 4\n",
      "ties: 4\n",
      "528.307919 seconds (2.97 G allocations: 173.272 GiB, 6.60% gc time)\n"
     ]
    }
   ],
   "source": [
    "@time begin\n",
    "    display_score(score(game(0, 2)))\n",
    "end"
   ]
  },
  {
   "cell_type": "code",
   "execution_count": 21,
   "metadata": {},
   "outputs": [
    {
     "name": "stdout",
     "output_type": "stream",
     "text": [
      "first player won: 3\n",
      "second player won: 2\n",
      "ties: 5\n"
     ]
    }
   ],
   "source": [
    "display_score(score(game(0, 2)))"
   ]
  },
  {
   "cell_type": "code",
   "execution_count": 22,
   "metadata": {},
   "outputs": [
    {
     "name": "stdout",
     "output_type": "stream",
     "text": [
      "first player won: 3\n",
      "second player won: 5\n",
      "ties: 2\n",
      "578.851981 seconds (2.90 G allocations: 170.019 GiB, 5.99% gc time)\n"
     ]
    }
   ],
   "source": [
    "@time begin\n",
    "    display_score(score(game(2, 0)))\n",
    "end"
   ]
  },
  {
   "cell_type": "code",
   "execution_count": 23,
   "metadata": {},
   "outputs": [
    {
     "name": "stdout",
     "output_type": "stream",
     "text": [
      "first player won: 5\n",
      "second player won: 1\n",
      "ties: 4\n",
      "536.764620 seconds (2.90 G allocations: 170.019 GiB, 6.23% gc time)\n"
     ]
    }
   ],
   "source": [
    "@time begin\n",
    "    display_score(score(game(2, 0)))\n",
    "end"
   ]
  },
  {
   "cell_type": "code",
   "execution_count": 24,
   "metadata": {},
   "outputs": [
    {
     "name": "stdout",
     "output_type": "stream",
     "text": [
      "first player won: 2\n",
      "second player won: 5\n",
      "ties: 3\n",
      "583.566516 seconds (2.98 G allocations: 174.112 GiB, 6.15% gc time)\n"
     ]
    }
   ],
   "source": [
    "@time begin\n",
    "    display_score(score(game(1, 2)))\n",
    "end"
   ]
  },
  {
   "cell_type": "code",
   "execution_count": 25,
   "metadata": {},
   "outputs": [
    {
     "name": "stdout",
     "output_type": "stream",
     "text": [
      "first player won: 1\n",
      "second player won: 7\n",
      "ties: 2\n",
      "600.915717 seconds (2.98 G allocations: 174.120 GiB, 6.70% gc time)\n"
     ]
    }
   ],
   "source": [
    "@time begin\n",
    "    display_score(score(game(1, 2)))\n",
    "end"
   ]
  },
  {
   "cell_type": "code",
   "execution_count": 26,
   "metadata": {},
   "outputs": [
    {
     "name": "stdout",
     "output_type": "stream",
     "text": [
      "first player won: 1\n",
      "second player won: 4\n",
      "ties: 5\n",
      "495.320000 seconds (2.92 G allocations: 170.877 GiB, 6.24% gc time)\n"
     ]
    }
   ],
   "source": [
    "@time begin\n",
    "    display_score(score(game(2, 1)))\n",
    "end"
   ]
  },
  {
   "cell_type": "code",
   "execution_count": 27,
   "metadata": {},
   "outputs": [
    {
     "name": "stdout",
     "output_type": "stream",
     "text": [
      "first player won: 5\n",
      "second player won: 2\n",
      "ties: 3\n"
     ]
    }
   ],
   "source": [
    "display_score(score(game(2, 1)))"
   ]
  },
  {
   "cell_type": "code",
   "execution_count": 28,
   "metadata": {},
   "outputs": [
    {
     "name": "stdout",
     "output_type": "stream",
     "text": [
      "first player won: 3\n",
      "second player won: 4\n",
      "ties: 3\n",
      "1050.767540 seconds (5.87 G allocations: 343.281 GiB, 10.05% gc time)\n"
     ]
    }
   ],
   "source": [
    "@time begin\n",
    "    display_score(score(game(2, 2)))\n",
    "end"
   ]
  },
  {
   "cell_type": "code",
   "execution_count": null,
   "metadata": {},
   "outputs": [],
   "source": [
    "@time begin \n",
    "    display_score(score(game(0, 3)))\n",
    "end"
   ]
  },
  {
   "cell_type": "code",
   "execution_count": null,
   "metadata": {},
   "outputs": [],
   "source": [
    "@time begin\n",
    "    display_score(score(game(3, 0)))\n",
    "end"
   ]
  },
  {
   "cell_type": "code",
   "execution_count": null,
   "metadata": {},
   "outputs": [],
   "source": [
    "display_score(score(game(0, 0, [20,1,1],[1,1,1])))"
   ]
  },
  {
   "cell_type": "code",
   "execution_count": null,
   "metadata": {},
   "outputs": [],
   "source": [
    "display_score(score(game(0, 0, [20,1,1],[1,1,1])))"
   ]
  },
  {
   "cell_type": "code",
   "execution_count": null,
   "metadata": {},
   "outputs": [],
   "source": [
    "display_score(score(game(0, 1, [20,1,1],[1,1,1])))"
   ]
  },
  {
   "cell_type": "code",
   "execution_count": null,
   "metadata": {},
   "outputs": [],
   "source": [
    "display_score(score(game(0, 1, [20,1,1],[1,1,1])))"
   ]
  },
  {
   "cell_type": "code",
   "execution_count": null,
   "metadata": {},
   "outputs": [],
   "source": [
    "display_score(score(game(1, 0, [20,1,1],[1,1,1])))"
   ]
  },
  {
   "cell_type": "code",
   "execution_count": null,
   "metadata": {},
   "outputs": [],
   "source": [
    "display_score(score(game(1, 0, [20,1,1],[1,1,1])))"
   ]
  },
  {
   "cell_type": "code",
   "execution_count": null,
   "metadata": {},
   "outputs": [],
   "source": [
    "display_score(score(game(1, 1, [20,1,1],[1,1,1])))"
   ]
  },
  {
   "cell_type": "code",
   "execution_count": null,
   "metadata": {},
   "outputs": [],
   "source": [
    "display_score(score(game(1, 1, [20,1,1],[1,1,1])))"
   ]
  },
  {
   "cell_type": "code",
   "execution_count": null,
   "metadata": {},
   "outputs": [],
   "source": [
    "display_score(score(game(0, 0,[1,1,1], [20,1,1])))"
   ]
  },
  {
   "cell_type": "code",
   "execution_count": null,
   "metadata": {},
   "outputs": [],
   "source": [
    "display_score(score(game(0, 0,[1,1,1], [20,1,1])))"
   ]
  },
  {
   "cell_type": "code",
   "execution_count": null,
   "metadata": {},
   "outputs": [],
   "source": [
    "display_score(score(game(0, 1,[1,1,1], [20,1,1])))"
   ]
  },
  {
   "cell_type": "code",
   "execution_count": null,
   "metadata": {},
   "outputs": [],
   "source": [
    "display_score(score(game(0, 1,[1,1,1], [20,1,1])))"
   ]
  },
  {
   "cell_type": "code",
   "execution_count": null,
   "metadata": {},
   "outputs": [],
   "source": [
    "display_score(score(game(1, 0,[1,1,1], [20,1,1])))"
   ]
  },
  {
   "cell_type": "code",
   "execution_count": null,
   "metadata": {},
   "outputs": [],
   "source": [
    "display_score(score(game(1, 0,[1,1,1], [20,1,1])))"
   ]
  },
  {
   "cell_type": "code",
   "execution_count": null,
   "metadata": {},
   "outputs": [],
   "source": [
    "display_score(score(game(1, 1,[1,1,1], [20,1,1])))"
   ]
  },
  {
   "cell_type": "code",
   "execution_count": null,
   "metadata": {},
   "outputs": [],
   "source": [
    "display_score(score(game(1, 1,[1,1,1], [20,1,1])))"
   ]
  },
  {
   "cell_type": "code",
   "execution_count": null,
   "metadata": {},
   "outputs": [],
   "source": [
    "display_score(score(game(0, 2,[1,1,1], [20,1,1])))"
   ]
  },
  {
   "cell_type": "code",
   "execution_count": null,
   "metadata": {},
   "outputs": [],
   "source": [
    "display_score(score(game(0, 2,[20,1,1], [1,1,1])))"
   ]
  },
  {
   "cell_type": "code",
   "execution_count": null,
   "metadata": {},
   "outputs": [],
   "source": [
    "display_score(score(game(2, 0,[1,1,1], [20,1,1])))"
   ]
  },
  {
   "cell_type": "code",
   "execution_count": null,
   "metadata": {},
   "outputs": [],
   "source": [
    "display_score(score(game(2, 0, [20,1,1],[1,1,1])))"
   ]
  },
  {
   "cell_type": "code",
   "execution_count": null,
   "metadata": {},
   "outputs": [],
   "source": [
    "display_score(score(game(1, 2, [20,1,1] ,[1,1,1])))"
   ]
  },
  {
   "cell_type": "code",
   "execution_count": null,
   "metadata": {},
   "outputs": [],
   "source": [
    "display_score(score(game(1, 2,[1,1,1], [20,1,1])))"
   ]
  },
  {
   "cell_type": "code",
   "execution_count": null,
   "metadata": {},
   "outputs": [],
   "source": [
    "display_score(score(game(2, 1, [20,1,1] ,[1,1,1])))"
   ]
  },
  {
   "cell_type": "code",
   "execution_count": null,
   "metadata": {},
   "outputs": [],
   "source": [
    "display_score(score(game(2, 1 ,[1,1,1], [20,1,1])))"
   ]
  },
  {
   "cell_type": "code",
   "execution_count": null,
   "metadata": {},
   "outputs": [],
   "source": [
    "display_score(score(game(2, 2, [20,1,1] ,[1,1,1])))"
   ]
  },
  {
   "cell_type": "code",
   "execution_count": null,
   "metadata": {},
   "outputs": [],
   "source": [
    "display_score(score(game(2, 2, [1,1,1], [20,1,1])))"
   ]
  },
  {
   "cell_type": "code",
   "execution_count": null,
   "metadata": {},
   "outputs": [],
   "source": [
    "@time begin\n",
    "    display_score(score(game(4, 0)))\n",
    "end"
   ]
  },
  {
   "cell_type": "code",
   "execution_count": null,
   "metadata": {},
   "outputs": [],
   "source": [
    "@time begin\n",
    "    display_score(score(game(0, 4)))\n",
    "end"
   ]
  },
  {
   "cell_type": "code",
   "execution_count": null,
   "metadata": {},
   "outputs": [],
   "source": [
    "@time begin\n",
    "    display_score(score(game(5, 0)))\n",
    "end"
   ]
  },
  {
   "cell_type": "code",
   "execution_count": null,
   "metadata": {},
   "outputs": [],
   "source": [
    "@time begin\n",
    "    display_score(score(game(0, 5)))\n",
    "end"
   ]
  },
  {
   "cell_type": "code",
   "execution_count": null,
   "metadata": {},
   "outputs": [],
   "source": [
    "@time begin\n",
    "    display_score(score(game(5, 4)))\n",
    "end"
   ]
  },
  {
   "cell_type": "code",
   "execution_count": null,
   "metadata": {},
   "outputs": [],
   "source": [
    "@time begin\n",
    "    display_score(score(game(6, 0)))\n",
    "end"
   ]
  },
  {
   "cell_type": "code",
   "execution_count": null,
   "metadata": {},
   "outputs": [],
   "source": []
  },
  {
   "cell_type": "code",
   "execution_count": null,
   "metadata": {},
   "outputs": [],
   "source": []
  },
  {
   "cell_type": "code",
   "execution_count": null,
   "metadata": {},
   "outputs": [],
   "source": []
  },
  {
   "cell_type": "code",
   "execution_count": null,
   "metadata": {},
   "outputs": [],
   "source": []
  },
  {
   "cell_type": "code",
   "execution_count": null,
   "metadata": {},
   "outputs": [],
   "source": []
  },
  {
   "cell_type": "code",
   "execution_count": null,
   "metadata": {},
   "outputs": [],
   "source": []
  }
 ],
 "metadata": {
  "kernelspec": {
   "display_name": "Julia 1.5.3",
   "language": "julia",
   "name": "julia-1.5"
  },
  "language_info": {
   "file_extension": ".jl",
   "mimetype": "application/julia",
   "name": "julia",
   "version": "1.5.3"
  }
 },
 "nbformat": 4,
 "nbformat_minor": 4
}
