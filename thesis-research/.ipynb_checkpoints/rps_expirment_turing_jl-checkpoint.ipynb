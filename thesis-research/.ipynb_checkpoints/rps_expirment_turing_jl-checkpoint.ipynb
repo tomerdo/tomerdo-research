{
 "cells": [
  {
   "cell_type": "code",
   "execution_count": 1,
   "metadata": {},
   "outputs": [],
   "source": [
    "# Import libraries.\n",
    "using Turing, StatsPlots, Random"
   ]
  },
  {
   "cell_type": "code",
   "execution_count": 50,
   "metadata": {},
   "outputs": [
    {
     "data": {
      "text/plain": [
       "agent (generic function with 6 methods)"
      ]
     },
     "execution_count": 50,
     "metadata": {},
     "output_type": "execute_result"
    }
   ],
   "source": [
    "# Declare our Turing model.\n",
    "@model function agent(opponent_agent, my_action, opponent_action, opponent_agents_depth=0, depth=0, discrete_sampler = PG, discrete_sampler_hyper_param=10, num_of_iterations=10)\n",
    "    if depth > 0 \n",
    "        opp_action_chain = sample(opponent_agent(agent, opponent_action, my_action, depth-1, opponent_agents_depth), discrete_sampler(discrete_sampler_hyper_param), num_of_iterations, progress=false);\n",
    "        opp_alpha_1 = mean(opp_action_chain[:\"alpha[1]\"])\n",
    "        opp_alpha_2 = mean(opp_action_chain[:\"alpha[2]\"])\n",
    "        opp_alpha_3 = 1 - opp_alpha_1 - opp_alpha_2\n",
    "        alpha ~ Dirichlet([opp_alpha_3, opp_alpha_1 , opp_alpha_2])\n",
    "    else\n",
    "        # Our prior belief about the probability of RPS.\n",
    "        alpha ~ Dirichlet(ones(3)/3)\n",
    "    end\n",
    "    my_action ~ Categorical(vec(alpha))\n",
    "    return my_action\n",
    "end"
   ]
  },
  {
   "cell_type": "code",
   "execution_count": 56,
   "metadata": {},
   "outputs": [
    {
     "data": {
      "text/plain": [
       "agent (generic function with 6 methods)"
      ]
     },
     "execution_count": 56,
     "metadata": {},
     "output_type": "execute_result"
    }
   ],
   "source": [
    "# Declare our Turing model.\n",
    "@model function agent(opponent_agent, my_history, opponent_history, opponent_agents_depth=0, depth=0, discrete_sampler = PG, discrete_sampler_hyper_param=10, num_of_iterations=10)\n",
    "    for i in length(my_history)\n",
    "        my_action = my_history[i]\n",
    "        opponent_action = opponent_history[i]\n",
    "        if depth > 0 \n",
    "            opp_action_chain = sample(opponent_agent(agent, opponent_action, my_action, depth-1, opponent_agents_depth), discrete_sampler(discrete_sampler_hyper_param), num_of_iterations, progress=false);\n",
    "            opp_alpha_1 = mean(opp_action_chain[:\"alpha[1]\"])\n",
    "            opp_alpha_2 = mean(opp_action_chain[:\"alpha[2]\"])\n",
    "            opp_alpha_3 = 1 - opp_alpha_1 - opp_alpha_2\n",
    "            alpha ~ Dirichlet([opp_alpha_3, opp_alpha_1 , opp_alpha_2])\n",
    "        else\n",
    "            # Our prior belief about the probability of RPS.\n",
    "            alpha ~ Dirichlet(ones(3)/3)\n",
    "        end\n",
    "        my_action ~ Categorical(vec(alpha))\n",
    "        return my_action\n",
    "    end\n",
    "end"
   ]
  },
  {
   "cell_type": "code",
   "execution_count": 57,
   "metadata": {},
   "outputs": [
    {
     "data": {
      "text/plain": [
       "1"
      ]
     },
     "execution_count": 57,
     "metadata": {},
     "output_type": "execute_result"
    }
   ],
   "source": [
    "my_action = 1\n",
    "opponent_action = 1\n",
    "opponent_depth = 1\n",
    "my_depth = 1"
   ]
  },
  {
   "cell_type": "code",
   "execution_count": 58,
   "metadata": {},
   "outputs": [
    {
     "data": {
      "text/plain": [
       "Chains MCMC chain (5×6×1 Array{Float64,3}):\n",
       "\n",
       "Log evidence      = 0.0\n",
       "Iterations        = 1:5\n",
       "Thinning interval = 1\n",
       "Chains            = 1\n",
       "Samples per chain = 5\n",
       "parameters        = alpha[1], alpha[2], alpha[3], my_action\n",
       "internals         = logevidence, lp\n",
       "\n",
       "Summary Statistics\n",
       " \u001b[1m parameters \u001b[0m \u001b[1m    mean \u001b[0m \u001b[1m     std \u001b[0m \u001b[1m naive_se \u001b[0m \u001b[1m    mcse \u001b[0m \u001b[1m     ess \u001b[0m \u001b[1m    rhat \u001b[0m\n",
       " \u001b[90m     Symbol \u001b[0m \u001b[90m Float64 \u001b[0m \u001b[90m Float64 \u001b[0m \u001b[90m  Float64 \u001b[0m \u001b[90m Missing \u001b[0m \u001b[90m Float64 \u001b[0m \u001b[90m Float64 \u001b[0m\n",
       "\n",
       "    alpha[1]    0.3687    0.5008     0.2240   missing    1.3366   20.2795\n",
       "    alpha[2]    0.3788    0.4656     0.2082   missing   10.3439    1.0714\n",
       "    alpha[3]    0.2525    0.3829     0.1712   missing    4.3929    1.1982\n",
       "   my_action    1.8000    0.8367     0.3742   missing    1.6667    2.2361\n",
       "\n",
       "Quantiles\n",
       " \u001b[1m parameters \u001b[0m \u001b[1m    2.5% \u001b[0m \u001b[1m   25.0% \u001b[0m \u001b[1m   50.0% \u001b[0m \u001b[1m   75.0% \u001b[0m \u001b[1m   97.5% \u001b[0m\n",
       " \u001b[90m     Symbol \u001b[0m \u001b[90m Float64 \u001b[0m \u001b[90m Float64 \u001b[0m \u001b[90m Float64 \u001b[0m \u001b[90m Float64 \u001b[0m \u001b[90m Float64 \u001b[0m\n",
       "\n",
       "    alpha[1]    0.0007    0.0031    0.0064    0.8849    0.9423\n",
       "    alpha[2]    0.0071    0.0477    0.0760    0.7996    0.9513\n",
       "    alpha[3]    0.0058    0.0254    0.1125    0.1973    0.8509\n",
       "   my_action    1.0000    1.0000    2.0000    2.0000    2.9000\n"
      ]
     },
     "execution_count": 58,
     "metadata": {},
     "output_type": "execute_result"
    }
   ],
   "source": [
    "chain = sample(agent(agent, [my_action], [opponent_action], opponent_depth, my_depth), PG(10), 5 , progress = false)\n",
    "chain"
   ]
  },
  {
   "cell_type": "code",
   "execution_count": 59,
   "metadata": {},
   "outputs": [
    {
     "data": {
      "text/plain": [
       "maximum_likelihood_action (generic function with 1 method)"
      ]
     },
     "execution_count": 59,
     "metadata": {},
     "output_type": "execute_result"
    }
   ],
   "source": [
    "function maximum_likelihood_action(list_of_pairs)\n",
    "    max_key = -1\n",
    "    max_value = -1\n",
    "    for element in list_of_pairs\n",
    "        key = element[1]\n",
    "        value = element[2]\n",
    "        if value > max_value\n",
    "            max_value = value\n",
    "            max_key = key\n",
    "        end\n",
    "    end\n",
    "    return (max_key, max_value)\n",
    "end"
   ]
  },
  {
   "cell_type": "code",
   "execution_count": 51,
   "metadata": {},
   "outputs": [
    {
     "data": {
      "text/plain": [
       "move (generic function with 2 methods)"
      ]
     },
     "execution_count": 51,
     "metadata": {},
     "output_type": "execute_result"
    }
   ],
   "source": [
    "function move(agent, other_agent, my_history, other_agent_history)\n",
    "    opponent_action = length(other_agent_history) > 0 ? last(other_agent_history) : 1\n",
    "    my_action = length(my_history) > 0 ? last(my_history) : 1\n",
    "    chain = sample(agent(other_agent, my_history, other_agent_history, opponent_depth, my_depth), PG(1), 1, progress = false)\n",
    "    alpha_1 = (1, mean(chain[:\"alpha[1]\"]))\n",
    "    alpha_2 = (2, mean(chain[:\"alpha[2]\"]))\n",
    "    alpha_3 = (3, 1 - alpha_1[2] - alpha_2[2])\n",
    "    return maximum_likelihood_action([alpha_1, alpha_2, alpha_3])[1]\n",
    "end"
   ]
  },
  {
   "cell_type": "code",
   "execution_count": 52,
   "metadata": {},
   "outputs": [
    {
     "name": "stdout",
     "output_type": "stream",
     "text": [
      "opponent_action=1 my_action=1"
     ]
    },
    {
     "data": {
      "text/plain": [
       "Chains MCMC chain (5×5×1 Array{Float64,3}):\n",
       "\n",
       "Log evidence      = -2.868925665007797\n",
       "Iterations        = 1:5\n",
       "Thinning interval = 1\n",
       "Chains            = 1\n",
       "Samples per chain = 5\n",
       "parameters        = alpha[1], alpha[2], alpha[3]\n",
       "internals         = logevidence, lp\n",
       "\n",
       "Summary Statistics\n",
       " \u001b[1m parameters \u001b[0m \u001b[1m    mean \u001b[0m \u001b[1m     std \u001b[0m \u001b[1m naive_se \u001b[0m \u001b[1m    mcse \u001b[0m \u001b[1m     ess \u001b[0m \u001b[1m    rhat \u001b[0m\n",
       " \u001b[90m     Symbol \u001b[0m \u001b[90m Float64 \u001b[0m \u001b[90m Float64 \u001b[0m \u001b[90m  Float64 \u001b[0m \u001b[90m Missing \u001b[0m \u001b[90m Float64 \u001b[0m \u001b[90m Float64 \u001b[0m\n",
       "\n",
       "    alpha[1]    0.4269    0.2904     0.1299   missing   10.6551    1.0691\n",
       "    alpha[2]    0.1741    0.2231     0.0998   missing   46.7051    1.0146\n",
       "    alpha[3]    0.3990    0.2169     0.0970   missing   11.5669    1.0632\n",
       "\n",
       "Quantiles\n",
       " \u001b[1m parameters \u001b[0m \u001b[1m    2.5% \u001b[0m \u001b[1m   25.0% \u001b[0m \u001b[1m   50.0% \u001b[0m \u001b[1m   75.0% \u001b[0m \u001b[1m   97.5% \u001b[0m\n",
       " \u001b[90m     Symbol \u001b[0m \u001b[90m Float64 \u001b[0m \u001b[90m Float64 \u001b[0m \u001b[90m Float64 \u001b[0m \u001b[90m Float64 \u001b[0m \u001b[90m Float64 \u001b[0m\n",
       "\n",
       "    alpha[1]    0.1583    0.3283    0.3665    0.3839    0.8629\n",
       "    alpha[2]    0.0245    0.0743    0.0893    0.1203    0.5231\n",
       "    alpha[3]    0.0876    0.2927    0.5269    0.5514    0.5584\n"
      ]
     },
     "metadata": {},
     "output_type": "display_data"
    },
    {
     "data": {
      "text/plain": [
       "1"
      ]
     },
     "execution_count": 52,
     "metadata": {},
     "output_type": "execute_result"
    }
   ],
   "source": [
    "move(agent, agent, [])"
   ]
  },
  {
   "cell_type": "code",
   "execution_count": 53,
   "metadata": {},
   "outputs": [
    {
     "data": {
      "text/plain": [
       "game (generic function with 1 method)"
      ]
     },
     "execution_count": 53,
     "metadata": {},
     "output_type": "execute_result"
    }
   ],
   "source": [
    "function game()\n",
    "    first_player = agent\n",
    "    second_player = agent\n",
    "    num_of_simulations = 10\n",
    "    first_player_history = []\n",
    "    second_player_history = []\n",
    "    for i in 1:num_of_simulations\n",
    "        m1 = move(first_player, second_player, first_player_history, second_player_history)\n",
    "        push!(first_player_history, m1)\n",
    "        m2 = move(second_player, first_player, second_player_history, first_player_history)\n",
    "        push!(second_player_history, m2)\n",
    "        println(\"in simulation $i first player chose $m1 second player chose $m2\")\n",
    "    end\n",
    "    return history\n",
    "end"
   ]
  },
  {
   "cell_type": "code",
   "execution_count": 55,
   "metadata": {},
   "outputs": [
    {
     "name": "stdout",
     "output_type": "stream",
     "text": [
      "opponent_action=1 my_action=1"
     ]
    },
    {
     "data": {
      "text/plain": [
       "Chains MCMC chain (5×5×1 Array{Float64,3}):\n",
       "\n",
       "Log evidence      = -2.5846619879587664\n",
       "Iterations        = 1:5\n",
       "Thinning interval = 1\n",
       "Chains            = 1\n",
       "Samples per chain = 5\n",
       "parameters        = alpha[1], alpha[2], alpha[3]\n",
       "internals         = logevidence, lp\n",
       "\n",
       "Summary Statistics\n",
       " \u001b[1m parameters \u001b[0m \u001b[1m    mean \u001b[0m \u001b[1m     std \u001b[0m \u001b[1m naive_se \u001b[0m \u001b[1m    mcse \u001b[0m \u001b[1m     ess \u001b[0m \u001b[1m    rhat \u001b[0m\n",
       " \u001b[90m     Symbol \u001b[0m \u001b[90m Float64 \u001b[0m \u001b[90m Float64 \u001b[0m \u001b[90m  Float64 \u001b[0m \u001b[90m Missing \u001b[0m \u001b[90m Float64 \u001b[0m \u001b[90m Float64 \u001b[0m\n",
       "\n",
       "    alpha[1]    0.2601    0.2593     0.1160   missing   -4.4842    0.8780\n",
       "    alpha[2]    0.4829    0.3114     0.1393   missing   -1.6260    0.7412\n",
       "    alpha[3]    0.2570    0.2495     0.1116   missing    1.9920    1.7391\n",
       "\n",
       "Quantiles\n",
       " \u001b[1m parameters \u001b[0m \u001b[1m    2.5% \u001b[0m \u001b[1m   25.0% \u001b[0m \u001b[1m   50.0% \u001b[0m \u001b[1m   75.0% \u001b[0m \u001b[1m   97.5% \u001b[0m\n",
       " \u001b[90m     Symbol \u001b[0m \u001b[90m Float64 \u001b[0m \u001b[90m Float64 \u001b[0m \u001b[90m Float64 \u001b[0m \u001b[90m Float64 \u001b[0m \u001b[90m Float64 \u001b[0m\n",
       "\n",
       "    alpha[1]    0.0619    0.1390    0.1395    0.2647    0.6600\n",
       "    alpha[2]    0.1359    0.2078    0.5226    0.7060    0.8357\n",
       "    alpha[3]    0.0360    0.0965    0.1681    0.3379    0.6217\n"
      ]
     },
     "metadata": {},
     "output_type": "display_data"
    },
    {
     "name": "stdout",
     "output_type": "stream",
     "text": [
      "opponent_action=2 my_action=1"
     ]
    },
    {
     "data": {
      "text/plain": [
       "Chains MCMC chain (5×5×1 Array{Float64,3}):\n",
       "\n",
       "Log evidence      = -2.368142158649826\n",
       "Iterations        = 1:5\n",
       "Thinning interval = 1\n",
       "Chains            = 1\n",
       "Samples per chain = 5\n",
       "parameters        = alpha[1], alpha[2], alpha[3]\n",
       "internals         = logevidence, lp\n",
       "\n",
       "Summary Statistics\n",
       " \u001b[1m parameters \u001b[0m \u001b[1m    mean \u001b[0m \u001b[1m     std \u001b[0m \u001b[1m naive_se \u001b[0m \u001b[1m    mcse \u001b[0m \u001b[1m          ess \u001b[0m \u001b[1m    rhat\u001b[0m ⋯\n",
       " \u001b[90m     Symbol \u001b[0m \u001b[90m Float64 \u001b[0m \u001b[90m Float64 \u001b[0m \u001b[90m  Float64 \u001b[0m \u001b[90m Missing \u001b[0m \u001b[90m      Float64 \u001b[0m \u001b[90m Float64\u001b[0m ⋯\n",
       "\n",
       "    alpha[1]    0.6341    0.3320     0.1485   missing        -2.6801    0.8172 ⋯\n",
       "    alpha[2]    0.0654    0.1366     0.0611   missing   -136860.4588    1.0000 ⋯\n",
       "    alpha[3]    0.3006    0.3354     0.1500   missing        19.9014    1.0353 ⋯\n",
       "\n",
       "Quantiles\n",
       " \u001b[1m parameters \u001b[0m \u001b[1m    2.5% \u001b[0m \u001b[1m   25.0% \u001b[0m \u001b[1m   50.0% \u001b[0m \u001b[1m   75.0% \u001b[0m \u001b[1m   97.5% \u001b[0m\n",
       " \u001b[90m     Symbol \u001b[0m \u001b[90m Float64 \u001b[0m \u001b[90m Float64 \u001b[0m \u001b[90m Float64 \u001b[0m \u001b[90m Float64 \u001b[0m \u001b[90m Float64 \u001b[0m\n",
       "\n",
       "    alpha[1]    0.1432    0.5176    0.8187    0.8350    0.8912\n",
       "    alpha[2]    0.0000    0.0000    0.0000    0.0174    0.2802\n",
       "    alpha[3]    0.1087    0.1639    0.1650    0.1730    0.8259\n"
      ]
     },
     "metadata": {},
     "output_type": "display_data"
    },
    {
     "name": "stdout",
     "output_type": "stream",
     "text": [
      "in simulation 1 first player chose 2 second player chose 1\n",
      "opponent_action=1 my_action=2"
     ]
    },
    {
     "data": {
      "text/plain": [
       "Chains MCMC chain (5×5×1 Array{Float64,3}):\n",
       "\n",
       "Log evidence      = -0.6020557941527658\n",
       "Iterations        = 1:5\n",
       "Thinning interval = 1\n",
       "Chains            = 1\n",
       "Samples per chain = 5\n",
       "parameters        = alpha[1], alpha[2], alpha[3]\n",
       "internals         = logevidence, lp\n",
       "\n",
       "Summary Statistics\n",
       " \u001b[1m parameters \u001b[0m \u001b[1m    mean \u001b[0m \u001b[1m     std \u001b[0m \u001b[1m naive_se \u001b[0m \u001b[1m    mcse \u001b[0m \u001b[1m       ess \u001b[0m \u001b[1m    rhat \u001b[0m\n",
       " \u001b[90m     Symbol \u001b[0m \u001b[90m Float64 \u001b[0m \u001b[90m Float64 \u001b[0m \u001b[90m  Float64 \u001b[0m \u001b[90m Missing \u001b[0m \u001b[90m   Float64 \u001b[0m \u001b[90m Float64 \u001b[0m\n",
       "\n",
       "    alpha[1]    0.0896    0.1720     0.0769   missing   -151.6040    0.9956\n",
       "    alpha[2]    0.9103    0.1721     0.0770   missing   -127.1141    0.9948\n",
       "    alpha[3]    0.0001    0.0001     0.0000   missing     -2.3622    0.7995\n",
       "\n",
       "Quantiles\n",
       " \u001b[1m parameters \u001b[0m \u001b[1m    2.5% \u001b[0m \u001b[1m   25.0% \u001b[0m \u001b[1m   50.0% \u001b[0m \u001b[1m   75.0% \u001b[0m \u001b[1m   97.5% \u001b[0m\n",
       " \u001b[90m     Symbol \u001b[0m \u001b[90m Float64 \u001b[0m \u001b[90m Float64 \u001b[0m \u001b[90m Float64 \u001b[0m \u001b[90m Float64 \u001b[0m \u001b[90m Float64 \u001b[0m\n",
       "\n",
       "    alpha[1]    0.0000    0.0000    0.0005    0.0529    0.3604\n",
       "    alpha[2]    0.6394    0.9470    0.9993    0.9999    1.0000\n",
       "    alpha[3]    0.0000    0.0000    0.0001    0.0002    0.0002\n"
      ]
     },
     "metadata": {},
     "output_type": "display_data"
    },
    {
     "name": "stdout",
     "output_type": "stream",
     "text": [
      "opponent_action=2 my_action=1"
     ]
    },
    {
     "data": {
      "text/plain": [
       "Chains MCMC chain (5×5×1 Array{Float64,3}):\n",
       "\n",
       "Log evidence      = -2.290184246317371\n",
       "Iterations        = 1:5\n",
       "Thinning interval = 1\n",
       "Chains            = 1\n",
       "Samples per chain = 5\n",
       "parameters        = alpha[1], alpha[2], alpha[3]\n",
       "internals         = logevidence, lp\n",
       "\n",
       "Summary Statistics\n",
       " \u001b[1m parameters \u001b[0m \u001b[1m    mean \u001b[0m \u001b[1m     std \u001b[0m \u001b[1m naive_se \u001b[0m \u001b[1m    mcse \u001b[0m \u001b[1m       ess \u001b[0m \u001b[1m    rhat \u001b[0m\n",
       " \u001b[90m     Symbol \u001b[0m \u001b[90m Float64 \u001b[0m \u001b[90m Float64 \u001b[0m \u001b[90m  Float64 \u001b[0m \u001b[90m Missing \u001b[0m \u001b[90m   Float64 \u001b[0m \u001b[90m Float64 \u001b[0m\n",
       "\n",
       "    alpha[1]    0.4973    0.3001     0.1342   missing      1.4309    3.8293\n",
       "    alpha[2]    0.0001    0.0001     0.0001   missing   1540.0199    1.0004\n",
       "    alpha[3]    0.5026    0.3000     0.1342   missing      1.4313    3.8228\n",
       "\n",
       "Quantiles\n",
       " \u001b[1m parameters \u001b[0m \u001b[1m    2.5% \u001b[0m \u001b[1m   25.0% \u001b[0m \u001b[1m   50.0% \u001b[0m \u001b[1m   75.0% \u001b[0m \u001b[1m   97.5% \u001b[0m\n",
       " \u001b[90m     Symbol \u001b[0m \u001b[90m Float64 \u001b[0m \u001b[90m Float64 \u001b[0m \u001b[90m Float64 \u001b[0m \u001b[90m Float64 \u001b[0m \u001b[90m Float64 \u001b[0m\n",
       "\n",
       "    alpha[1]    0.1963    0.2566    0.4168    0.7724    0.8434\n",
       "    alpha[2]    0.0000    0.0000    0.0000    0.0000    0.0003\n",
       "    alpha[3]    0.1566    0.2276    0.5829    0.7434    0.8037\n"
      ]
     },
     "metadata": {},
     "output_type": "display_data"
    },
    {
     "name": "stdout",
     "output_type": "stream",
     "text": [
      "in simulation 2 first player chose 2 second player chose 3\n",
      "opponent_action=3 my_action=2"
     ]
    },
    {
     "data": {
      "text/plain": [
       "Chains MCMC chain (5×5×1 Array{Float64,3}):\n",
       "\n",
       "Log evidence      = -3.2988293068098455\n",
       "Iterations        = 1:5\n",
       "Thinning interval = 1\n",
       "Chains            = 1\n",
       "Samples per chain = 5\n",
       "parameters        = alpha[1], alpha[2], alpha[3]\n",
       "internals         = logevidence, lp\n",
       "\n",
       "Summary Statistics\n",
       " \u001b[1m parameters \u001b[0m \u001b[1m    mean \u001b[0m \u001b[1m     std \u001b[0m \u001b[1m naive_se \u001b[0m \u001b[1m    mcse \u001b[0m \u001b[1m      ess \u001b[0m \u001b[1m    rhat \u001b[0m\n",
       " \u001b[90m     Symbol \u001b[0m \u001b[90m Float64 \u001b[0m \u001b[90m Float64 \u001b[0m \u001b[90m  Float64 \u001b[0m \u001b[90m Missing \u001b[0m \u001b[90m  Float64 \u001b[0m \u001b[90m Float64 \u001b[0m\n",
       "\n",
       "    alpha[1]    0.4729    0.3572     0.1597   missing    -2.0380    0.7775\n",
       "    alpha[2]    0.4480    0.3079     0.1377   missing    23.9269    1.0291\n",
       "    alpha[3]    0.0791    0.1507     0.0674   missing   -10.0354    0.9395\n",
       "\n",
       "Quantiles\n",
       " \u001b[1m parameters \u001b[0m \u001b[1m    2.5% \u001b[0m \u001b[1m   25.0% \u001b[0m \u001b[1m   50.0% \u001b[0m \u001b[1m   75.0% \u001b[0m \u001b[1m   97.5% \u001b[0m\n",
       " \u001b[90m     Symbol \u001b[0m \u001b[90m Float64 \u001b[0m \u001b[90m Float64 \u001b[0m \u001b[90m Float64 \u001b[0m \u001b[90m Float64 \u001b[0m \u001b[90m Float64 \u001b[0m\n",
       "\n",
       "    alpha[1]    0.1175    0.1367    0.5613    0.5775    0.9339\n",
       "    alpha[2]    0.0604    0.3925    0.4225    0.5168    0.8479\n",
       "    alpha[3]    0.0000    0.0000    0.0029    0.0462    0.3164\n"
      ]
     },
     "metadata": {},
     "output_type": "display_data"
    },
    {
     "name": "stdout",
     "output_type": "stream",
     "text": [
      "opponent_action=1 my_action=3"
     ]
    },
    {
     "data": {
      "text/plain": [
       "Chains MCMC chain (5×5×1 Array{Float64,3}):\n",
       "\n",
       "Log evidence      = -2.3351663608945357\n",
       "Iterations        = 1:5\n",
       "Thinning interval = 1\n",
       "Chains            = 1\n",
       "Samples per chain = 5\n",
       "parameters        = alpha[1], alpha[2], alpha[3]\n",
       "internals         = logevidence, lp\n",
       "\n",
       "Summary Statistics\n",
       " \u001b[1m parameters \u001b[0m \u001b[1m    mean \u001b[0m \u001b[1m     std \u001b[0m \u001b[1m naive_se \u001b[0m \u001b[1m    mcse \u001b[0m \u001b[1m      ess \u001b[0m \u001b[1m    rhat \u001b[0m\n",
       " \u001b[90m     Symbol \u001b[0m \u001b[90m Float64 \u001b[0m \u001b[90m Float64 \u001b[0m \u001b[90m  Float64 \u001b[0m \u001b[90m Missing \u001b[0m \u001b[90m  Float64 \u001b[0m \u001b[90m Float64 \u001b[0m\n",
       "\n",
       "    alpha[1]    0.0005    0.0010     0.0005   missing   -10.0977    0.9399\n",
       "    alpha[2]    0.3983    0.4029     0.1802   missing    -2.2377    0.7916\n",
       "    alpha[3]    0.6012    0.4023     0.1799   missing    -2.2373    0.7916\n",
       "\n",
       "Quantiles\n",
       " \u001b[1m parameters \u001b[0m \u001b[1m    2.5% \u001b[0m \u001b[1m   25.0% \u001b[0m \u001b[1m   50.0% \u001b[0m \u001b[1m   75.0% \u001b[0m \u001b[1m   97.5% \u001b[0m\n",
       " \u001b[90m     Symbol \u001b[0m \u001b[90m Float64 \u001b[0m \u001b[90m Float64 \u001b[0m \u001b[90m Float64 \u001b[0m \u001b[90m Float64 \u001b[0m \u001b[90m Float64 \u001b[0m\n",
       "\n",
       "    alpha[1]    0.0000    0.0000    0.0000    0.0001    0.0021\n",
       "    alpha[2]    0.0098    0.0604    0.2978    0.7071    0.9005\n",
       "    alpha[3]    0.0994    0.2928    0.7022    0.9396    0.9881\n"
      ]
     },
     "metadata": {},
     "output_type": "display_data"
    },
    {
     "name": "stdout",
     "output_type": "stream",
     "text": [
      "in simulation 3 first player chose 1 second player chose 3\n",
      "opponent_action=3 my_action=1"
     ]
    },
    {
     "data": {
      "text/plain": [
       "Chains MCMC chain (5×5×1 Array{Float64,3}):\n",
       "\n",
       "Log evidence      = -0.7081512965378618\n",
       "Iterations        = 1:5\n",
       "Thinning interval = 1\n",
       "Chains            = 1\n",
       "Samples per chain = 5\n",
       "parameters        = alpha[1], alpha[2], alpha[3]\n",
       "internals         = logevidence, lp\n",
       "\n",
       "Summary Statistics\n",
       " \u001b[1m parameters \u001b[0m \u001b[1m    mean \u001b[0m \u001b[1m     std \u001b[0m \u001b[1m naive_se \u001b[0m \u001b[1m    mcse \u001b[0m \u001b[1m     ess \u001b[0m \u001b[1m    rhat \u001b[0m\n",
       " \u001b[90m     Symbol \u001b[0m \u001b[90m Float64 \u001b[0m \u001b[90m Float64 \u001b[0m \u001b[90m  Float64 \u001b[0m \u001b[90m Missing \u001b[0m \u001b[90m Float64 \u001b[0m \u001b[90m Float64 \u001b[0m\n",
       "\n",
       "    alpha[1]    0.8283    0.2100     0.0939   missing    5.4174    1.1517\n",
       "    alpha[2]    0.0024    0.0043     0.0019   missing   -5.5909    0.8986\n",
       "    alpha[3]    0.1693    0.2080     0.0930   missing    5.1864    1.1602\n",
       "\n",
       "Quantiles\n",
       " \u001b[1m parameters \u001b[0m \u001b[1m    2.5% \u001b[0m \u001b[1m   25.0% \u001b[0m \u001b[1m   50.0% \u001b[0m \u001b[1m   75.0% \u001b[0m \u001b[1m   97.5% \u001b[0m\n",
       " \u001b[90m     Symbol \u001b[0m \u001b[90m Float64 \u001b[0m \u001b[90m Float64 \u001b[0m \u001b[90m Float64 \u001b[0m \u001b[90m Float64 \u001b[0m \u001b[90m Float64 \u001b[0m\n",
       "\n",
       "    alpha[1]    0.5810    0.6236    0.9495    0.9942    0.9975\n",
       "    alpha[2]    0.0000    0.0000    0.0000    0.0020    0.0091\n",
       "    alpha[3]    0.0007    0.0058    0.0505    0.3665    0.4180\n"
      ]
     },
     "metadata": {},
     "output_type": "display_data"
    },
    {
     "name": "stdout",
     "output_type": "stream",
     "text": [
      "opponent_action=1 my_action=3"
     ]
    },
    {
     "data": {
      "text/plain": [
       "Chains MCMC chain (5×5×1 Array{Float64,3}):\n",
       "\n",
       "Log evidence      = -3.9831675586197264\n",
       "Iterations        = 1:5\n",
       "Thinning interval = 1\n",
       "Chains            = 1\n",
       "Samples per chain = 5\n",
       "parameters        = alpha[1], alpha[2], alpha[3]\n",
       "internals         = logevidence, lp\n",
       "\n",
       "Summary Statistics\n",
       " \u001b[1m parameters \u001b[0m \u001b[1m    mean \u001b[0m \u001b[1m     std \u001b[0m \u001b[1m naive_se \u001b[0m \u001b[1m    mcse \u001b[0m \u001b[1m     ess \u001b[0m \u001b[1m    rhat \u001b[0m\n",
       " \u001b[90m     Symbol \u001b[0m \u001b[90m Float64 \u001b[0m \u001b[90m Float64 \u001b[0m \u001b[90m  Float64 \u001b[0m \u001b[90m Missing \u001b[0m \u001b[90m Float64 \u001b[0m \u001b[90m Float64 \u001b[0m\n",
       "\n",
       "    alpha[1]    0.0512    0.0567     0.0254   missing   -2.4645    0.8056\n",
       "    alpha[2]    0.7303    0.2440     0.1091   missing   -1.8094    0.7588\n",
       "    alpha[3]    0.2185    0.2752     0.1231   missing   -1.9199    0.7682\n",
       "\n",
       "Quantiles\n",
       " \u001b[1m parameters \u001b[0m \u001b[1m    2.5% \u001b[0m \u001b[1m   25.0% \u001b[0m \u001b[1m   50.0% \u001b[0m \u001b[1m   75.0% \u001b[0m \u001b[1m   97.5% \u001b[0m\n",
       " \u001b[90m     Symbol \u001b[0m \u001b[90m Float64 \u001b[0m \u001b[90m Float64 \u001b[0m \u001b[90m Float64 \u001b[0m \u001b[90m Float64 \u001b[0m \u001b[90m Float64 \u001b[0m\n",
       "\n",
       "    alpha[1]    0.0002    0.0013    0.0351    0.0916    0.1241\n",
       "    alpha[2]    0.3713    0.6486    0.8286    0.9057    0.9259\n",
       "    alpha[3]    0.0068    0.0437    0.0706    0.3164    0.6251\n"
      ]
     },
     "metadata": {},
     "output_type": "display_data"
    },
    {
     "name": "stdout",
     "output_type": "stream",
     "text": [
      "in simulation 4 first player chose 1 second player chose 2\n",
      "opponent_action=2 my_action=1"
     ]
    },
    {
     "data": {
      "text/plain": [
       "Chains MCMC chain (5×5×1 Array{Float64,3}):\n",
       "\n",
       "Log evidence      = -2.8210493148595077\n",
       "Iterations        = 1:5\n",
       "Thinning interval = 1\n",
       "Chains            = 1\n",
       "Samples per chain = 5\n",
       "parameters        = alpha[1], alpha[2], alpha[3]\n",
       "internals         = logevidence, lp\n",
       "\n",
       "Summary Statistics\n",
       " \u001b[1m parameters \u001b[0m \u001b[1m    mean \u001b[0m \u001b[1m     std \u001b[0m \u001b[1m naive_se \u001b[0m \u001b[1m    mcse \u001b[0m \u001b[1m     ess \u001b[0m \u001b[1m    rhat \u001b[0m\n",
       " \u001b[90m     Symbol \u001b[0m \u001b[90m Float64 \u001b[0m \u001b[90m Float64 \u001b[0m \u001b[90m  Float64 \u001b[0m \u001b[90m Missing \u001b[0m \u001b[90m Float64 \u001b[0m \u001b[90m Float64 \u001b[0m\n",
       "\n",
       "    alpha[1]    0.3590    0.3631     0.1624   missing    1.3501    8.9754\n",
       "    alpha[2]    0.0602    0.0907     0.0406   missing    1.7399    2.0687\n",
       "    alpha[3]    0.5808    0.3821     0.1709   missing    1.3543    8.0450\n",
       "\n",
       "Quantiles\n",
       " \u001b[1m parameters \u001b[0m \u001b[1m    2.5% \u001b[0m \u001b[1m   25.0% \u001b[0m \u001b[1m   50.0% \u001b[0m \u001b[1m   75.0% \u001b[0m \u001b[1m   97.5% \u001b[0m\n",
       " \u001b[90m     Symbol \u001b[0m \u001b[90m Float64 \u001b[0m \u001b[90m Float64 \u001b[0m \u001b[90m Float64 \u001b[0m \u001b[90m Float64 \u001b[0m \u001b[90m Float64 \u001b[0m\n",
       "\n",
       "    alpha[1]    0.0164    0.0600    0.3865    0.4184    0.8684\n",
       "    alpha[2]    0.0000    0.0000    0.0010    0.0955    0.1938\n",
       "    alpha[3]    0.1135    0.4088    0.4861    0.9400    0.9836\n"
      ]
     },
     "metadata": {},
     "output_type": "display_data"
    },
    {
     "name": "stdout",
     "output_type": "stream",
     "text": [
      "opponent_action=3 my_action=2"
     ]
    },
    {
     "data": {
      "text/plain": [
       "Chains MCMC chain (5×5×1 Array{Float64,3}):\n",
       "\n",
       "Log evidence      = -2.4038466689938525\n",
       "Iterations        = 1:5\n",
       "Thinning interval = 1\n",
       "Chains            = 1\n",
       "Samples per chain = 5\n",
       "parameters        = alpha[1], alpha[2], alpha[3]\n",
       "internals         = logevidence, lp\n",
       "\n",
       "Summary Statistics\n",
       " \u001b[1m parameters \u001b[0m \u001b[1m    mean \u001b[0m \u001b[1m     std \u001b[0m \u001b[1m naive_se \u001b[0m \u001b[1m    mcse \u001b[0m \u001b[1m          ess \u001b[0m \u001b[1m    rhat\u001b[0m ⋯\n",
       " \u001b[90m     Symbol \u001b[0m \u001b[90m Float64 \u001b[0m \u001b[90m Float64 \u001b[0m \u001b[90m  Float64 \u001b[0m \u001b[90m Missing \u001b[0m \u001b[90m      Float64 \u001b[0m \u001b[90m Float64\u001b[0m ⋯\n",
       "\n",
       "    alpha[1]    0.5806    0.4172     0.1866   missing        -1.4501    0.7218 ⋯\n",
       "    alpha[2]    0.4176    0.4185     0.1872   missing        -1.4585    0.7228 ⋯\n",
       "    alpha[3]    0.0018    0.0035     0.0016   missing   4329559.9588    1.0000 ⋯\n",
       "\n",
       "Quantiles\n",
       " \u001b[1m parameters \u001b[0m \u001b[1m    2.5% \u001b[0m \u001b[1m   25.0% \u001b[0m \u001b[1m   50.0% \u001b[0m \u001b[1m   75.0% \u001b[0m \u001b[1m   97.5% \u001b[0m\n",
       " \u001b[90m     Symbol \u001b[0m \u001b[90m Float64 \u001b[0m \u001b[90m Float64 \u001b[0m \u001b[90m Float64 \u001b[0m \u001b[90m Float64 \u001b[0m \u001b[90m Float64 \u001b[0m\n",
       "\n",
       "    alpha[1]    0.0345    0.2647    0.8230    0.8688    0.9309\n",
       "    alpha[2]    0.0683    0.1312    0.1689    0.7353    0.9655\n",
       "    alpha[3]    0.0000    0.0000    0.0000    0.0009    0.0074\n"
      ]
     },
     "metadata": {},
     "output_type": "display_data"
    },
    {
     "name": "stdout",
     "output_type": "stream",
     "text": [
      "in simulation 5 first player chose 3 second player chose 1\n",
      "opponent_action=1 my_action=3"
     ]
    },
    {
     "data": {
      "text/plain": [
       "Chains MCMC chain (5×5×1 Array{Float64,3}):\n",
       "\n",
       "Log evidence      = -2.49140365164466\n",
       "Iterations        = 1:5\n",
       "Thinning interval = 1\n",
       "Chains            = 1\n",
       "Samples per chain = 5\n",
       "parameters        = alpha[1], alpha[2], alpha[3]\n",
       "internals         = logevidence, lp\n",
       "\n",
       "Summary Statistics\n",
       " \u001b[1m parameters \u001b[0m \u001b[1m    mean \u001b[0m \u001b[1m     std \u001b[0m \u001b[1m naive_se \u001b[0m \u001b[1m    mcse \u001b[0m \u001b[1m     ess \u001b[0m \u001b[1m    rhat \u001b[0m\n",
       " \u001b[90m     Symbol \u001b[0m \u001b[90m Float64 \u001b[0m \u001b[90m Float64 \u001b[0m \u001b[90m  Float64 \u001b[0m \u001b[90m Missing \u001b[0m \u001b[90m Float64 \u001b[0m \u001b[90m Float64 \u001b[0m\n",
       "\n",
       "    alpha[1]    0.0703    0.1068     0.0477   missing    1.7576    2.0354\n",
       "    alpha[2]    0.5567    0.3230     0.1444   missing    7.4127    1.1042\n",
       "    alpha[3]    0.3729    0.2434     0.1089   missing   -7.3570    0.9201\n",
       "\n",
       "Quantiles\n",
       " \u001b[1m parameters \u001b[0m \u001b[1m    2.5% \u001b[0m \u001b[1m   25.0% \u001b[0m \u001b[1m   50.0% \u001b[0m \u001b[1m   75.0% \u001b[0m \u001b[1m   97.5% \u001b[0m\n",
       " \u001b[90m     Symbol \u001b[0m \u001b[90m Float64 \u001b[0m \u001b[90m Float64 \u001b[0m \u001b[90m Float64 \u001b[0m \u001b[90m Float64 \u001b[0m \u001b[90m Float64 \u001b[0m\n",
       "\n",
       "    alpha[1]    0.0000    0.0000    0.0000    0.1107    0.2279\n",
       "    alpha[2]    0.0870    0.5378    0.6236    0.6684    0.8921\n",
       "    alpha[3]    0.0968    0.2209    0.3764    0.4622    0.6961\n"
      ]
     },
     "metadata": {},
     "output_type": "display_data"
    },
    {
     "name": "stdout",
     "output_type": "stream",
     "text": [
      "opponent_action=2 my_action=1"
     ]
    },
    {
     "data": {
      "text/plain": [
       "Chains MCMC chain (5×5×1 Array{Float64,3}):\n",
       "\n",
       "Log evidence      = -2.124627538143765\n",
       "Iterations        = 1:5\n",
       "Thinning interval = 1\n",
       "Chains            = 1\n",
       "Samples per chain = 5\n",
       "parameters        = alpha[1], alpha[2], alpha[3]\n",
       "internals         = logevidence, lp\n",
       "\n",
       "Summary Statistics\n",
       " \u001b[1m parameters \u001b[0m \u001b[1m    mean \u001b[0m \u001b[1m     std \u001b[0m \u001b[1m naive_se \u001b[0m \u001b[1m    mcse \u001b[0m \u001b[1m      ess \u001b[0m \u001b[1m    rhat \u001b[0m\n",
       " \u001b[90m     Symbol \u001b[0m \u001b[90m Float64 \u001b[0m \u001b[90m Float64 \u001b[0m \u001b[90m  Float64 \u001b[0m \u001b[90m Missing \u001b[0m \u001b[90m  Float64 \u001b[0m \u001b[90m Float64 \u001b[0m\n",
       "\n",
       "    alpha[1]    0.7673    0.3793     0.1696   missing   -17.3692    0.9637\n",
       "    alpha[2]    0.0002    0.0003     0.0002   missing    -1.4144    0.7175\n",
       "    alpha[3]    0.2325    0.3794     0.1697   missing   -17.3093    0.9636\n",
       "\n",
       "Quantiles\n",
       " \u001b[1m parameters \u001b[0m \u001b[1m    2.5% \u001b[0m \u001b[1m   25.0% \u001b[0m \u001b[1m   50.0% \u001b[0m \u001b[1m   75.0% \u001b[0m \u001b[1m   97.5% \u001b[0m\n",
       " \u001b[90m     Symbol \u001b[0m \u001b[90m Float64 \u001b[0m \u001b[90m Float64 \u001b[0m \u001b[90m Float64 \u001b[0m \u001b[90m Float64 \u001b[0m \u001b[90m Float64 \u001b[0m\n",
       "\n",
       "    alpha[1]    0.1714    0.8274    0.9439    0.9745    0.9903\n",
       "    alpha[2]    0.0000    0.0000    0.0002    0.0002    0.0008\n",
       "    alpha[3]    0.0095    0.0255    0.0559    0.1717    0.8285\n"
      ]
     },
     "metadata": {},
     "output_type": "display_data"
    },
    {
     "name": "stdout",
     "output_type": "stream",
     "text": [
      "in simulation 6 first player chose 2 second player chose 1\n",
      "opponent_action=1 my_action=2"
     ]
    },
    {
     "data": {
      "text/plain": [
       "Chains MCMC chain (5×5×1 Array{Float64,3}):\n",
       "\n",
       "Log evidence      = -0.6167873199348859\n",
       "Iterations        = 1:5\n",
       "Thinning interval = 1\n",
       "Chains            = 1\n",
       "Samples per chain = 5\n",
       "parameters        = alpha[1], alpha[2], alpha[3]\n",
       "internals         = logevidence, lp\n",
       "\n",
       "Summary Statistics\n",
       " \u001b[1m parameters \u001b[0m \u001b[1m    mean \u001b[0m \u001b[1m     std \u001b[0m \u001b[1m naive_se \u001b[0m \u001b[1m    mcse \u001b[0m \u001b[1m     ess \u001b[0m \u001b[1m    rhat \u001b[0m\n",
       " \u001b[90m     Symbol \u001b[0m \u001b[90m Float64 \u001b[0m \u001b[90m Float64 \u001b[0m \u001b[90m  Float64 \u001b[0m \u001b[90m Missing \u001b[0m \u001b[90m Float64 \u001b[0m \u001b[90m Float64 \u001b[0m\n",
       "\n",
       "    alpha[1]    0.1140    0.1993     0.0891   missing   -8.7499    0.9315\n",
       "    alpha[2]    0.7652    0.2063     0.0923   missing   -1.3644    0.7112\n",
       "    alpha[3]    0.1208    0.1446     0.0647   missing    2.5890    1.4359\n",
       "\n",
       "Quantiles\n",
       " \u001b[1m parameters \u001b[0m \u001b[1m    2.5% \u001b[0m \u001b[1m   25.0% \u001b[0m \u001b[1m   50.0% \u001b[0m \u001b[1m   75.0% \u001b[0m \u001b[1m   97.5% \u001b[0m\n",
       " \u001b[90m     Symbol \u001b[0m \u001b[90m Float64 \u001b[0m \u001b[90m Float64 \u001b[0m \u001b[90m Float64 \u001b[0m \u001b[90m Float64 \u001b[0m \u001b[90m Float64 \u001b[0m\n",
       "\n",
       "    alpha[1]    0.0002    0.0014    0.0163    0.0879    0.4269\n",
       "    alpha[2]    0.5365    0.5465    0.8856    0.9041    0.9495\n",
       "    alpha[3]    0.0029    0.0292    0.0959    0.1130    0.3404\n"
      ]
     },
     "metadata": {},
     "output_type": "display_data"
    },
    {
     "name": "stdout",
     "output_type": "stream",
     "text": [
      "opponent_action=2 my_action=1"
     ]
    },
    {
     "data": {
      "text/plain": [
       "Chains MCMC chain (5×5×1 Array{Float64,3}):\n",
       "\n",
       "Log evidence      = -5.480706174820927\n",
       "Iterations        = 1:5\n",
       "Thinning interval = 1\n",
       "Chains            = 1\n",
       "Samples per chain = 5\n",
       "parameters        = alpha[1], alpha[2], alpha[3]\n",
       "internals         = logevidence, lp\n",
       "\n",
       "Summary Statistics\n",
       " \u001b[1m parameters \u001b[0m \u001b[1m    mean \u001b[0m \u001b[1m     std \u001b[0m \u001b[1m naive_se \u001b[0m \u001b[1m    mcse \u001b[0m \u001b[1m       ess \u001b[0m \u001b[1m    rhat \u001b[0m\n",
       " \u001b[90m     Symbol \u001b[0m \u001b[90m Float64 \u001b[0m \u001b[90m Float64 \u001b[0m \u001b[90m  Float64 \u001b[0m \u001b[90m Missing \u001b[0m \u001b[90m   Float64 \u001b[0m \u001b[90m Float64 \u001b[0m\n",
       "\n",
       "    alpha[1]    0.0946    0.1131     0.0506   missing     -8.9952    0.9332\n",
       "    alpha[2]    0.0521    0.1153     0.0516   missing   -147.2163    0.9955\n",
       "    alpha[3]    0.8533    0.1190     0.0532   missing      1.3590    7.2800\n",
       "\n",
       "Quantiles\n",
       " \u001b[1m parameters \u001b[0m \u001b[1m    2.5% \u001b[0m \u001b[1m   25.0% \u001b[0m \u001b[1m   50.0% \u001b[0m \u001b[1m   75.0% \u001b[0m \u001b[1m   97.5% \u001b[0m\n",
       " \u001b[90m     Symbol \u001b[0m \u001b[90m Float64 \u001b[0m \u001b[90m Float64 \u001b[0m \u001b[90m Float64 \u001b[0m \u001b[90m Float64 \u001b[0m \u001b[90m Float64 \u001b[0m\n",
       "\n",
       "    alpha[1]    0.0008    0.0031    0.0352    0.2030    0.2284\n",
       "    alpha[2]    0.0000    0.0000    0.0000    0.0023    0.2328\n",
       "    alpha[3]    0.7415    0.7688    0.7970    0.9648    0.9940\n"
      ]
     },
     "metadata": {},
     "output_type": "display_data"
    },
    {
     "name": "stdout",
     "output_type": "stream",
     "text": [
      "in simulation 7 first player chose 2 second player chose 3\n",
      "opponent_action=3 my_action=2"
     ]
    },
    {
     "data": {
      "text/plain": [
       "Chains MCMC chain (5×5×1 Array{Float64,3}):\n",
       "\n",
       "Log evidence      = -3.634981500983635\n",
       "Iterations        = 1:5\n",
       "Thinning interval = 1\n",
       "Chains            = 1\n",
       "Samples per chain = 5\n",
       "parameters        = alpha[1], alpha[2], alpha[3]\n",
       "internals         = logevidence, lp\n",
       "\n",
       "Summary Statistics\n",
       " \u001b[1m parameters \u001b[0m \u001b[1m    mean \u001b[0m \u001b[1m     std \u001b[0m \u001b[1m naive_se \u001b[0m \u001b[1m    mcse \u001b[0m \u001b[1m        ess \u001b[0m \u001b[1m    rhat \u001b[0m\n",
       " \u001b[90m     Symbol \u001b[0m \u001b[90m Float64 \u001b[0m \u001b[90m Float64 \u001b[0m \u001b[90m  Float64 \u001b[0m \u001b[90m Missing \u001b[0m \u001b[90m    Float64 \u001b[0m \u001b[90m Float64 \u001b[0m\n",
       "\n",
       "    alpha[1]    0.4572    0.3260     0.1458   missing      -2.5198    0.8087\n",
       "    alpha[2]    0.4454    0.3825     0.1710   missing      -1.3586    0.7104\n",
       "    alpha[3]    0.0974    0.2177     0.0974   missing   -5839.8392    0.9999\n",
       "\n",
       "Quantiles\n",
       " \u001b[1m parameters \u001b[0m \u001b[1m    2.5% \u001b[0m \u001b[1m   25.0% \u001b[0m \u001b[1m   50.0% \u001b[0m \u001b[1m   75.0% \u001b[0m \u001b[1m   97.5% \u001b[0m\n",
       " \u001b[90m     Symbol \u001b[0m \u001b[90m Float64 \u001b[0m \u001b[90m Float64 \u001b[0m \u001b[90m Float64 \u001b[0m \u001b[90m Float64 \u001b[0m \u001b[90m Float64 \u001b[0m\n",
       "\n",
       "    alpha[1]    0.1588    0.2728    0.4267    0.4418    0.9430\n",
       "    alpha[2]    0.0098    0.0864    0.5582    0.7272    0.8412\n",
       "    alpha[3]    0.0000    0.0000    0.0000    0.0001    0.4382\n"
      ]
     },
     "metadata": {},
     "output_type": "display_data"
    },
    {
     "name": "stdout",
     "output_type": "stream",
     "text": [
      "opponent_action=1 my_action=3"
     ]
    },
    {
     "data": {
      "text/plain": [
       "Chains MCMC chain (5×5×1 Array{Float64,3}):\n",
       "\n",
       "Log evidence      = -2.3610528197079845\n",
       "Iterations        = 1:5\n",
       "Thinning interval = 1\n",
       "Chains            = 1\n",
       "Samples per chain = 5\n",
       "parameters        = alpha[1], alpha[2], alpha[3]\n",
       "internals         = logevidence, lp\n",
       "\n",
       "Summary Statistics\n",
       " \u001b[1m parameters \u001b[0m \u001b[1m    mean \u001b[0m \u001b[1m     std \u001b[0m \u001b[1m naive_se \u001b[0m \u001b[1m    mcse \u001b[0m \u001b[1m                ess \u001b[0m \u001b[1m  \u001b[0m ⋯\n",
       " \u001b[90m     Symbol \u001b[0m \u001b[90m Float64 \u001b[0m \u001b[90m Float64 \u001b[0m \u001b[90m  Float64 \u001b[0m \u001b[90m Missing \u001b[0m \u001b[90m            Float64 \u001b[0m \u001b[90m F\u001b[0m ⋯\n",
       "\n",
       "    alpha[1]    0.0007    0.0015     0.0007   missing   1268440959687.5076     ⋯\n",
       "    alpha[2]    0.4133    0.3218     0.1439   missing               2.9017     ⋯\n",
       "    alpha[3]    0.5860    0.3210     0.1436   missing               2.9195     ⋯\n",
       "\u001b[31m                                                                1 column omitted\u001b[0m\n",
       "\n",
       "Quantiles\n",
       " \u001b[1m parameters \u001b[0m \u001b[1m    2.5% \u001b[0m \u001b[1m   25.0% \u001b[0m \u001b[1m   50.0% \u001b[0m \u001b[1m   75.0% \u001b[0m \u001b[1m   97.5% \u001b[0m\n",
       " \u001b[90m     Symbol \u001b[0m \u001b[90m Float64 \u001b[0m \u001b[90m Float64 \u001b[0m \u001b[90m Float64 \u001b[0m \u001b[90m Float64 \u001b[0m \u001b[90m Float64 \u001b[0m\n",
       "\n",
       "    alpha[1]    0.0000    0.0000    0.0000    0.0000    0.0030\n",
       "    alpha[2]    0.1209    0.1430    0.3013    0.6737    0.8145\n",
       "    alpha[3]    0.1855    0.3263    0.6987    0.8570    0.8762\n"
      ]
     },
     "metadata": {},
     "output_type": "display_data"
    },
    {
     "name": "stdout",
     "output_type": "stream",
     "text": [
      "in simulation 8 first player chose 1 second player chose 3\n",
      "opponent_action=3 my_action=1"
     ]
    },
    {
     "data": {
      "text/plain": [
       "Chains MCMC chain (5×5×1 Array{Float64,3}):\n",
       "\n",
       "Log evidence      = -0.6438098561506332\n",
       "Iterations        = 1:5\n",
       "Thinning interval = 1\n",
       "Chains            = 1\n",
       "Samples per chain = 5\n",
       "parameters        = alpha[1], alpha[2], alpha[3]\n",
       "internals         = logevidence, lp\n",
       "\n",
       "Summary Statistics\n",
       " \u001b[1m parameters \u001b[0m \u001b[1m    mean \u001b[0m \u001b[1m     std \u001b[0m \u001b[1m naive_se \u001b[0m \u001b[1m    mcse \u001b[0m \u001b[1m      ess \u001b[0m \u001b[1m    rhat \u001b[0m\n",
       " \u001b[90m     Symbol \u001b[0m \u001b[90m Float64 \u001b[0m \u001b[90m Float64 \u001b[0m \u001b[90m  Float64 \u001b[0m \u001b[90m Missing \u001b[0m \u001b[90m  Float64 \u001b[0m \u001b[90m Float64 \u001b[0m\n",
       "\n",
       "    alpha[1]    0.7553    0.1914     0.0856   missing    -1.6085    0.7394\n",
       "    alpha[2]    0.0026    0.0058     0.0026   missing   137.6566    1.0049\n",
       "    alpha[3]    0.2421    0.1903     0.0851   missing    -1.6889    0.7475\n",
       "\n",
       "Quantiles\n",
       " \u001b[1m parameters \u001b[0m \u001b[1m    2.5% \u001b[0m \u001b[1m   25.0% \u001b[0m \u001b[1m   50.0% \u001b[0m \u001b[1m   75.0% \u001b[0m \u001b[1m   97.5% \u001b[0m\n",
       " \u001b[90m     Symbol \u001b[0m \u001b[90m Float64 \u001b[0m \u001b[90m Float64 \u001b[0m \u001b[90m Float64 \u001b[0m \u001b[90m Float64 \u001b[0m \u001b[90m Float64 \u001b[0m\n",
       "\n",
       "    alpha[1]    0.5044    0.6839    0.7612    0.8472    0.9843\n",
       "    alpha[2]    0.0000    0.0000    0.0000    0.0001    0.0116\n",
       "    alpha[3]    0.0157    0.1528    0.2387    0.3032    0.4943\n"
      ]
     },
     "metadata": {},
     "output_type": "display_data"
    },
    {
     "name": "stdout",
     "output_type": "stream",
     "text": [
      "opponent_action=1 my_action=3"
     ]
    },
    {
     "data": {
      "text/plain": [
       "Chains MCMC chain (5×5×1 Array{Float64,3}):\n",
       "\n",
       "Log evidence      = -2.829907773463416\n",
       "Iterations        = 1:5\n",
       "Thinning interval = 1\n",
       "Chains            = 1\n",
       "Samples per chain = 5\n",
       "parameters        = alpha[1], alpha[2], alpha[3]\n",
       "internals         = logevidence, lp\n",
       "\n",
       "Summary Statistics\n",
       " \u001b[1m parameters \u001b[0m \u001b[1m    mean \u001b[0m \u001b[1m     std \u001b[0m \u001b[1m naive_se \u001b[0m \u001b[1m    mcse \u001b[0m \u001b[1m             ess \u001b[0m \u001b[1m    r\u001b[0m ⋯\n",
       " \u001b[90m     Symbol \u001b[0m \u001b[90m Float64 \u001b[0m \u001b[90m Float64 \u001b[0m \u001b[90m  Float64 \u001b[0m \u001b[90m Missing \u001b[0m \u001b[90m         Float64 \u001b[0m \u001b[90m Floa\u001b[0m ⋯\n",
       "\n",
       "    alpha[1]    0.0807    0.1121     0.0501   missing   -295393386.9335    1.0 ⋯\n",
       "    alpha[2]    0.5561    0.3000     0.1342   missing           -1.5021    0.7 ⋯\n",
       "    alpha[3]    0.3632    0.3797     0.1698   missing           -2.0277    0.7 ⋯\n",
       "\u001b[31m                                                                1 column omitted\u001b[0m\n",
       "\n",
       "Quantiles\n",
       " \u001b[1m parameters \u001b[0m \u001b[1m    2.5% \u001b[0m \u001b[1m   25.0% \u001b[0m \u001b[1m   50.0% \u001b[0m \u001b[1m   75.0% \u001b[0m \u001b[1m   97.5% \u001b[0m\n",
       " \u001b[90m     Symbol \u001b[0m \u001b[90m Float64 \u001b[0m \u001b[90m Float64 \u001b[0m \u001b[90m Float64 \u001b[0m \u001b[90m Float64 \u001b[0m \u001b[90m Float64 \u001b[0m\n",
       "\n",
       "    alpha[1]    0.0000    0.0000    0.0000    0.1760    0.2225\n",
       "    alpha[2]    0.1545    0.3413    0.7606    0.7646    0.7786\n",
       "    alpha[3]    0.0165    0.0594    0.2199    0.6587    0.8455\n"
      ]
     },
     "metadata": {},
     "output_type": "display_data"
    },
    {
     "name": "stdout",
     "output_type": "stream",
     "text": [
      "in simulation 9 first player chose 1 second player chose 2\n",
      "opponent_action=2 my_action=1"
     ]
    },
    {
     "data": {
      "text/plain": [
       "Chains MCMC chain (5×5×1 Array{Float64,3}):\n",
       "\n",
       "Log evidence      = -2.5399168187837597\n",
       "Iterations        = 1:5\n",
       "Thinning interval = 1\n",
       "Chains            = 1\n",
       "Samples per chain = 5\n",
       "parameters        = alpha[1], alpha[2], alpha[3]\n",
       "internals         = logevidence, lp\n",
       "\n",
       "Summary Statistics\n",
       " \u001b[1m parameters \u001b[0m \u001b[1m    mean \u001b[0m \u001b[1m     std \u001b[0m \u001b[1m naive_se \u001b[0m \u001b[1m    mcse \u001b[0m \u001b[1m       ess \u001b[0m \u001b[1m    rhat \u001b[0m\n",
       " \u001b[90m     Symbol \u001b[0m \u001b[90m Float64 \u001b[0m \u001b[90m Float64 \u001b[0m \u001b[90m  Float64 \u001b[0m \u001b[90m Missing \u001b[0m \u001b[90m   Float64 \u001b[0m \u001b[90m Float64 \u001b[0m\n",
       "\n",
       "    alpha[1]    0.4499    0.3392     0.1517   missing      1.3766    5.6382\n",
       "    alpha[2]    0.0275    0.0613     0.0274   missing   -625.1237    0.9989\n",
       "    alpha[3]    0.5227    0.3104     0.1388   missing      1.4906    3.0788\n",
       "\n",
       "Quantiles\n",
       " \u001b[1m parameters \u001b[0m \u001b[1m    2.5% \u001b[0m \u001b[1m   25.0% \u001b[0m \u001b[1m   50.0% \u001b[0m \u001b[1m   75.0% \u001b[0m \u001b[1m   97.5% \u001b[0m\n",
       " \u001b[90m     Symbol \u001b[0m \u001b[90m Float64 \u001b[0m \u001b[90m Float64 \u001b[0m \u001b[90m Float64 \u001b[0m \u001b[90m Float64 \u001b[0m \u001b[90m Float64 \u001b[0m\n",
       "\n",
       "    alpha[1]    0.1247    0.1444    0.4710    0.5658    0.9076\n",
       "    alpha[2]    0.0000    0.0000    0.0000    0.0003    0.1235\n",
       "    alpha[3]    0.0924    0.4339    0.5290    0.7404    0.8440\n"
      ]
     },
     "metadata": {},
     "output_type": "display_data"
    },
    {
     "name": "stdout",
     "output_type": "stream",
     "text": [
      "opponent_action=3 my_action=2"
     ]
    },
    {
     "data": {
      "text/plain": [
       "Chains MCMC chain (5×5×1 Array{Float64,3}):\n",
       "\n",
       "Log evidence      = -2.5060689865157935\n",
       "Iterations        = 1:5\n",
       "Thinning interval = 1\n",
       "Chains            = 1\n",
       "Samples per chain = 5\n",
       "parameters        = alpha[1], alpha[2], alpha[3]\n",
       "internals         = logevidence, lp\n",
       "\n",
       "Summary Statistics\n",
       " \u001b[1m parameters \u001b[0m \u001b[1m    mean \u001b[0m \u001b[1m     std \u001b[0m \u001b[1m naive_se \u001b[0m \u001b[1m    mcse \u001b[0m \u001b[1m      ess \u001b[0m \u001b[1m    rhat \u001b[0m\n",
       " \u001b[90m     Symbol \u001b[0m \u001b[90m Float64 \u001b[0m \u001b[90m Float64 \u001b[0m \u001b[90m  Float64 \u001b[0m \u001b[90m Missing \u001b[0m \u001b[90m  Float64 \u001b[0m \u001b[90m Float64 \u001b[0m\n",
       "\n",
       "    alpha[1]    0.5647    0.3312     0.1481   missing     1.3986    4.6286\n",
       "    alpha[2]    0.3823    0.2680     0.1199   missing     1.3958    4.7266\n",
       "    alpha[3]    0.0530    0.0983     0.0440   missing   -49.0257    0.9867\n",
       "\n",
       "Quantiles\n",
       " \u001b[1m parameters \u001b[0m \u001b[1m    2.5% \u001b[0m \u001b[1m   25.0% \u001b[0m \u001b[1m   50.0% \u001b[0m \u001b[1m   75.0% \u001b[0m \u001b[1m   97.5% \u001b[0m\n",
       " \u001b[90m     Symbol \u001b[0m \u001b[90m Float64 \u001b[0m \u001b[90m Float64 \u001b[0m \u001b[90m Float64 \u001b[0m \u001b[90m Float64 \u001b[0m \u001b[90m Float64 \u001b[0m\n",
       "\n",
       "    alpha[1]    0.1936    0.3928    0.4491    0.8357    0.9605\n",
       "    alpha[2]    0.0386    0.1643    0.5509    0.5697    0.5988\n",
       "    alpha[3]    0.0000    0.0000    0.0010    0.0374    0.2076\n"
      ]
     },
     "metadata": {},
     "output_type": "display_data"
    },
    {
     "name": "stdout",
     "output_type": "stream",
     "text": [
      "in simulation 10 first player chose 3 second player chose 1\n"
     ]
    },
    {
     "data": {
      "text/plain": [
       "20-element Array{Any,1}:\n",
       " (1, 2)\n",
       " (2, 1)\n",
       " (1, 2)\n",
       " (2, 3)\n",
       " (1, 1)\n",
       " (2, 3)\n",
       " (1, 1)\n",
       " (2, 2)\n",
       " (1, 3)\n",
       " (2, 1)\n",
       " (1, 2)\n",
       " (2, 1)\n",
       " (1, 2)\n",
       " (2, 3)\n",
       " (1, 1)\n",
       " (2, 3)\n",
       " (1, 1)\n",
       " (2, 2)\n",
       " (1, 3)\n",
       " (2, 1)"
      ]
     },
     "execution_count": 55,
     "metadata": {},
     "output_type": "execute_result"
    }
   ],
   "source": [
    "game()"
   ]
  },
  {
   "cell_type": "code",
   "execution_count": null,
   "metadata": {},
   "outputs": [],
   "source": []
  }
 ],
 "metadata": {
  "kernelspec": {
   "display_name": "Julia 1.5.3",
   "language": "julia",
   "name": "julia-1.5"
  },
  "language_info": {
   "file_extension": ".jl",
   "mimetype": "application/julia",
   "name": "julia",
   "version": "1.5.3"
  }
 },
 "nbformat": 4,
 "nbformat_minor": 4
}
