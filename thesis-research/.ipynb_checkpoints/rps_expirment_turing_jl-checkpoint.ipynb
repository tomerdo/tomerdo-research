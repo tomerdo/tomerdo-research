{
 "cells": [
  {
   "cell_type": "code",
   "execution_count": 7,
   "metadata": {},
   "outputs": [
    {
     "name": "stderr",
     "output_type": "stream",
     "text": [
      "┌ Info: Precompiling StatsPlots [f3b207a7-027a-5e70-b257-86293d7955fd]\n",
      "└ @ Base loading.jl:1278\n"
     ]
    }
   ],
   "source": [
    "# Import libraries.\n",
    "using Turing, StatsPlots, Random"
   ]
  },
  {
   "cell_type": "code",
   "execution_count": 23,
   "metadata": {},
   "outputs": [
    {
     "data": {
      "text/plain": [
       "rps_agent (generic function with 2 methods)"
      ]
     },
     "execution_count": 23,
     "metadata": {},
     "output_type": "execute_result"
    }
   ],
   "source": [
    "# Declare our Turing model.\n",
    "@model function rps_agent(action)\n",
    "    # Our prior belief about the probability of RPS.\n",
    "    alpha ~ Dirichlet(ones(3)/3)\n",
    "    action ~ Categorical(vec(alpha))\n",
    "    return action\n",
    "end"
   ]
  },
  {
   "cell_type": "code",
   "execution_count": 24,
   "metadata": {},
   "outputs": [
    {
     "name": "stderr",
     "output_type": "stream",
     "text": [
      "\u001b[32mSampling: 100%|█████████████████████████████████████████| Time: 0:00:00\u001b[39m\n"
     ]
    }
   ],
   "source": [
    "# Settings of the sampler.\n",
    "iterations = 1000\n",
    "\n",
    "# Start sampling.\n",
    "chain = sample(rps_agent(1.0), PG(10), iterations);"
   ]
  },
  {
   "cell_type": "code",
   "execution_count": 25,
   "metadata": {},
   "outputs": [
    {
     "data": {
      "text/plain": [
       "Chains MCMC chain (1000×5×1 Array{Float64,3}):\n",
       "\n",
       "Log evidence      = -1.1568848367219688\n",
       "Iterations        = 1:1000\n",
       "Thinning interval = 1\n",
       "Chains            = 1\n",
       "Samples per chain = 1000\n",
       "parameters        = alpha[1], alpha[2], alpha[3]\n",
       "internals         = logevidence, lp\n",
       "\n",
       "Summary Statistics\n",
       " \u001b[1m parameters \u001b[0m \u001b[1m    mean \u001b[0m \u001b[1m     std \u001b[0m \u001b[1m naive_se \u001b[0m \u001b[1m    mcse \u001b[0m \u001b[1m       ess \u001b[0m \u001b[1m    rhat \u001b[0m\n",
       " \u001b[90m     Symbol \u001b[0m \u001b[90m Float64 \u001b[0m \u001b[90m Float64 \u001b[0m \u001b[90m  Float64 \u001b[0m \u001b[90m Float64 \u001b[0m \u001b[90m   Float64 \u001b[0m \u001b[90m Float64 \u001b[0m\n",
       "\n",
       "    alpha[1]    0.6392    0.2827     0.0089    0.0089    955.7900    0.9995\n",
       "    alpha[2]    0.1841    0.2293     0.0073    0.0094   1072.2105    0.9991\n",
       "    alpha[3]    0.1768    0.2245     0.0071    0.0085   1032.3805    0.9994\n",
       "\n",
       "Quantiles\n",
       " \u001b[1m parameters \u001b[0m \u001b[1m    2.5% \u001b[0m \u001b[1m   25.0% \u001b[0m \u001b[1m   50.0% \u001b[0m \u001b[1m   75.0% \u001b[0m \u001b[1m   97.5% \u001b[0m\n",
       " \u001b[90m     Symbol \u001b[0m \u001b[90m Float64 \u001b[0m \u001b[90m Float64 \u001b[0m \u001b[90m Float64 \u001b[0m \u001b[90m Float64 \u001b[0m \u001b[90m Float64 \u001b[0m\n",
       "\n",
       "    alpha[1]    0.0687    0.4259    0.6959    0.8894    0.9970\n",
       "    alpha[2]    0.0000    0.0100    0.0733    0.2947    0.7715\n",
       "    alpha[3]    0.0000    0.0085    0.0774    0.2635    0.8083\n"
      ]
     },
     "execution_count": 25,
     "metadata": {},
     "output_type": "execute_result"
    }
   ],
   "source": [
    "chain"
   ]
  },
  {
   "cell_type": "code",
   "execution_count": 36,
   "metadata": {},
   "outputs": [
    {
     "data": {
      "text/plain": [
       "rps_agent2 (generic function with 1 method)"
      ]
     },
     "execution_count": 36,
     "metadata": {},
     "output_type": "execute_result"
    }
   ],
   "source": [
    "# Declare our Turing model.\n",
    "@model function rps_agent2(agent1, action)\n",
    "    # Our prior belief about the probability of RPS.\n",
    "    alpha ~ Dirichlet(ones(3)/3)\n",
    "    action ~ Categorical(vec(alpha))\n",
    "    opp_action = sample(agent1(action), PG(10), 10);\n",
    "    return action\n",
    "end"
   ]
  },
  {
   "cell_type": "code",
   "execution_count": 37,
   "metadata": {},
   "outputs": [
    {
     "data": {
      "text/plain": [
       "DynamicPPL.Model{var\"#19#20\",(:agent1, :action),(),(),Tuple{typeof(rps_agent),Int64},Tuple{}}(:rps_agent2, var\"#19#20\"(), (agent1 = rps_agent, action = 1), NamedTuple())"
      ]
     },
     "execution_count": 37,
     "metadata": {},
     "output_type": "execute_result"
    }
   ],
   "source": [
    "rps_agent2(rps_agent, 1)"
   ]
  },
  {
   "cell_type": "code",
   "execution_count": 38,
   "metadata": {},
   "outputs": [
    {
     "name": "stderr",
     "output_type": "stream",
     "text": [
      "\u001b[32mSampling: 100%|█████████████████████████████████████████| Time: 0:00:00\u001b[39m\n"
     ]
    }
   ],
   "source": [
    "chain = sample(rps_agent2(rps_agent, 1.0), PG(10), 10);"
   ]
  },
  {
   "cell_type": "code",
   "execution_count": 39,
   "metadata": {},
   "outputs": [
    {
     "data": {
      "text/plain": [
       "Chains MCMC chain (10×5×1 Array{Float64,3}):\n",
       "\n",
       "Log evidence      = -1.0383018851051466\n",
       "Iterations        = 1:10\n",
       "Thinning interval = 1\n",
       "Chains            = 1\n",
       "Samples per chain = 10\n",
       "parameters        = alpha[1], alpha[2], alpha[3]\n",
       "internals         = logevidence, lp\n",
       "\n",
       "Summary Statistics\n",
       " \u001b[1m parameters \u001b[0m \u001b[1m    mean \u001b[0m \u001b[1m     std \u001b[0m \u001b[1m naive_se \u001b[0m \u001b[1m    mcse \u001b[0m \u001b[1m       ess \u001b[0m \u001b[1m    rhat \u001b[0m\n",
       " \u001b[90m     Symbol \u001b[0m \u001b[90m Float64 \u001b[0m \u001b[90m Float64 \u001b[0m \u001b[90m  Float64 \u001b[0m \u001b[90m Missing \u001b[0m \u001b[90m   Float64 \u001b[0m \u001b[90m Float64 \u001b[0m\n",
       "\n",
       "    alpha[1]    0.4696    0.3413     0.1079   missing    -69.1831    0.9359\n",
       "    alpha[2]    0.2689    0.2957     0.0935   missing      4.5290    1.1888\n",
       "    alpha[3]    0.2614    0.3383     0.1070   missing   -128.7490    0.9500\n",
       "\n",
       "Quantiles\n",
       " \u001b[1m parameters \u001b[0m \u001b[1m    2.5% \u001b[0m \u001b[1m   25.0% \u001b[0m \u001b[1m   50.0% \u001b[0m \u001b[1m   75.0% \u001b[0m \u001b[1m   97.5% \u001b[0m\n",
       " \u001b[90m     Symbol \u001b[0m \u001b[90m Float64 \u001b[0m \u001b[90m Float64 \u001b[0m \u001b[90m Float64 \u001b[0m \u001b[90m Float64 \u001b[0m \u001b[90m Float64 \u001b[0m\n",
       "\n",
       "    alpha[1]    0.0383    0.1803    0.4361    0.7600    0.9361\n",
       "    alpha[2]    0.0090    0.0567    0.1294    0.4894    0.7772\n",
       "    alpha[3]    0.0012    0.0070    0.0952    0.4666    0.8577\n"
      ]
     },
     "execution_count": 39,
     "metadata": {},
     "output_type": "execute_result"
    }
   ],
   "source": [
    "chain"
   ]
  },
  {
   "cell_type": "code",
   "execution_count": 46,
   "metadata": {},
   "outputs": [
    {
     "data": {
      "text/plain": [
       "agent (generic function with 6 methods)"
      ]
     },
     "execution_count": 46,
     "metadata": {},
     "output_type": "execute_result"
    }
   ],
   "source": [
    "# Declare our Turing model.\n",
    "@model function agent(other_agent, action, other_agents_depth=0, depth=0, discrete_sampler = PG, discrete_sampler_hyper_param=10, num_of_iterations=10)\n",
    "    # Our prior belief about the probability of RPS.\n",
    "    alpha ~ Dirichlet(ones(3)/3)\n",
    "    if depth > 0 \n",
    "        opp_action = sample(other_agent(agent, action, depth-1, other_agents_depth), discrete_sampler(discrete_sampler_hyper_param), num_of_iterations);\n",
    "    end\n",
    "    action ~ Categorical(vec(alpha))\n",
    "    return action\n",
    "end"
   ]
  },
  {
   "cell_type": "code",
   "execution_count": 47,
   "metadata": {},
   "outputs": [
    {
     "name": "stderr",
     "output_type": "stream",
     "text": [
      "\u001b[32mSampling: 100%|█████████████████████████████████████████| Time: 0:00:00\u001b[39m\n"
     ]
    }
   ],
   "source": [
    "chain = sample(agent(agent, 1.0), PG(10), 10);"
   ]
  },
  {
   "cell_type": "code",
   "execution_count": 48,
   "metadata": {},
   "outputs": [
    {
     "data": {
      "text/plain": [
       "Chains MCMC chain (10×5×1 Array{Float64,3}):\n",
       "\n",
       "Log evidence      = -1.1091171317987318\n",
       "Iterations        = 1:10\n",
       "Thinning interval = 1\n",
       "Chains            = 1\n",
       "Samples per chain = 10\n",
       "parameters        = alpha[1], alpha[2], alpha[3]\n",
       "internals         = logevidence, lp\n",
       "\n",
       "Summary Statistics\n",
       " \u001b[1m parameters \u001b[0m \u001b[1m    mean \u001b[0m \u001b[1m     std \u001b[0m \u001b[1m naive_se \u001b[0m \u001b[1m    mcse \u001b[0m \u001b[1m      ess \u001b[0m \u001b[1m    rhat \u001b[0m\n",
       " \u001b[90m     Symbol \u001b[0m \u001b[90m Float64 \u001b[0m \u001b[90m Float64 \u001b[0m \u001b[90m  Float64 \u001b[0m \u001b[90m Missing \u001b[0m \u001b[90m  Float64 \u001b[0m \u001b[90m Float64 \u001b[0m\n",
       "\n",
       "    alpha[1]    0.7423    0.2406     0.0761   missing    27.5690    0.9040\n",
       "    alpha[2]    0.0756    0.0771     0.0244   missing   -22.8194    0.8966\n",
       "    alpha[3]    0.1821    0.2228     0.0705   missing    14.4741    0.9094\n",
       "\n",
       "Quantiles\n",
       " \u001b[1m parameters \u001b[0m \u001b[1m    2.5% \u001b[0m \u001b[1m   25.0% \u001b[0m \u001b[1m   50.0% \u001b[0m \u001b[1m   75.0% \u001b[0m \u001b[1m   97.5% \u001b[0m\n",
       " \u001b[90m     Symbol \u001b[0m \u001b[90m Float64 \u001b[0m \u001b[90m Float64 \u001b[0m \u001b[90m Float64 \u001b[0m \u001b[90m Float64 \u001b[0m \u001b[90m Float64 \u001b[0m\n",
       "\n",
       "    alpha[1]    0.3494    0.6076    0.7850    0.9410    0.9951\n",
       "    alpha[2]    0.0020    0.0245    0.0566    0.0865    0.2259\n",
       "    alpha[3]    0.0002    0.0075    0.0712    0.3289    0.5843\n"
      ]
     },
     "execution_count": 48,
     "metadata": {},
     "output_type": "execute_result"
    }
   ],
   "source": [
    "chain"
   ]
  },
  {
   "cell_type": "code",
   "execution_count": 64,
   "metadata": {},
   "outputs": [
    {
     "name": "stderr",
     "output_type": "stream",
     "text": [
      "\u001b[32mSampling: 100%|█████████████████████████████████████████| Time: 0:00:00\u001b[39m\n",
      "\u001b[32mSampling: 100%|█████████████████████████████████████████| Time: 0:00:00\u001b[39m\n",
      "\u001b[32mSampling: 100%|█████████████████████████████████████████| Time: 0:00:00\u001b[39m\n",
      "\u001b[32mSampling: 100%|█████████████████████████████████████████| Time: 0:00:00\u001b[39m\n",
      "\u001b[32mSampling: 100%|█████████████████████████████████████████| Time: 0:00:00\u001b[39m\n",
      "\u001b[32mSampling: 100%|█████████████████████████████████████████| Time: 0:00:00\u001b[39m\n",
      "\u001b[32mSampling: 100%|█████████████████████████████████████████| Time: 0:00:00\u001b[39m\n",
      "\u001b[32mSampling: 100%|█████████████████████████████████████████| Time: 0:00:00\u001b[39m\n",
      "\u001b[32mSampling: 100%|█████████████████████████████████████████| Time: 0:00:00\u001b[39m\n",
      "\u001b[32mSampling: 100%|█████████████████████████████████████████| Time: 0:00:00\u001b[39m\n",
      "\u001b[32mSampling: 100%|█████████████████████████████████████████| Time: 0:00:00\u001b[39m\n",
      "\u001b[34mSampling: 100%|█████████████████████████████████████████| Time: 0:00:00\u001b[39m\n",
      "\u001b[34mSampling: 100%|█████████████████████████████████████████| Time: 0:00:00\u001b[39m\n",
      "\u001b[34mSampling: 100%|█████████████████████████████████████████| Time: 0:00:00\u001b[39m\n",
      "\u001b[34mSampling: 100%|█████████████████████████████████████████| Time: 0:00:00\u001b[39m\n",
      "\u001b[34mSampling: 100%|█████████████████████████████████████████| Time: 0:00:00\u001b[39m\n",
      "\u001b[34mSampling: 100%|█████████████████████████████████████████| Time: 0:00:00\u001b[39m\n",
      "\u001b[34mSampling: 100%|█████████████████████████████████████████| Time: 0:00:00\u001b[39m\n",
      "\u001b[34mSampling: 100%|█████████████████████████████████████████| Time: 0:00:00\u001b[39m\n",
      "\u001b[34mSampling: 100%|█████████████████████████████████████████| Time: 0:00:00\u001b[39m\n",
      "\u001b[34mSampling: 100%|█████████████████████████████████████████| Time: 0:00:00\u001b[39m\n",
      "\u001b[34mSampling: 100%|█████████████████████████████████████████| Time: 0:00:00\u001b[39m\n",
      "\u001b[34mSampling: 100%|█████████████████████████████████████████| Time: 0:00:00\u001b[39m\n",
      "\u001b[34mSampling: 100%|█████████████████████████████████████████| Time: 0:00:00\u001b[39m\n",
      "\u001b[34mSampling: 100%|█████████████████████████████████████████| Time: 0:00:00\u001b[39m\n",
      "\u001b[34mSampling: 100%|█████████████████████████████████████████| Time: 0:00:00\u001b[39m\n",
      "\u001b[34mSampling: 100%|█████████████████████████████████████████| Time: 0:00:00\u001b[39m\n",
      "\u001b[34mSampling: 100%|█████████████████████████████████████████| Time: 0:00:00\u001b[39m\n",
      "\u001b[34mSampling: 100%|█████████████████████████████████████████| Time: 0:00:00\u001b[39m\n",
      "\u001b[34mSampling: 100%|█████████████████████████████████████████| Time: 0:00:00\u001b[39m\n",
      "\u001b[34mSampling: 100%|█████████████████████████████████████████| Time: 0:00:00\u001b[39m\n",
      "\u001b[34mSampling: 100%|█████████████████████████████████████████| Time: 0:00:00\u001b[39m\n",
      "\u001b[34mSampling: 100%|█████████████████████████████████████████| Time: 0:00:00\u001b[39m\n",
      "\u001b[34mSampling: 100%|█████████████████████████████████████████| Time: 0:00:00\u001b[39m\n",
      "\u001b[34mSampling: 100%|█████████████████████████████████████████| Time: 0:00:00\u001b[39m\n",
      "\u001b[34mSampling: 100%|█████████████████████████████████████████| Time: 0:00:00\u001b[39m\n",
      "\u001b[32mSampling: 100%|█████████████████████████████████████████| Time: 0:00:18\u001b[39m\n"
     ]
    },
    {
     "ename": "LoadError",
     "evalue": "InterruptException:",
     "output_type": "error",
     "traceback": [
      "InterruptException:",
      "",
      "Stacktrace:",
      " [1] try_yieldto(::typeof(Base.ensure_rescheduled)) at .\\task.jl:656",
      " [2] wait at .\\task.jl:713 [inlined]",
      " [3] consume(::CTask) at C:\\Users\\tomer\\.julia\\packages\\Libtask\\00Il9\\src\\ctask.jl:216",
      " [4] advance!(::AdvancedPS.Trace{Turing.Core.TracedModel{DynamicPPL.Sampler{PG{(),AdvancedPS.ResampleWithESSThreshold{typeof(AdvancedPS.resample_systematic),Float64}}},DynamicPPL.VarInfo{NamedTuple{(:alpha,),Tuple{DynamicPPL.Metadata{Dict{DynamicPPL.VarName{:alpha,Tuple{}},Int64},Array{Dirichlet{Float64},1},Array{DynamicPPL.VarName{:alpha,Tuple{}},1},Array{Float64,1},Array{Set{DynamicPPL.Selector},1}}}},Float64},DynamicPPL.Model{var\"#27#28\",(:other_agent, :action, :other_agents_depth, :depth, :discrete_sampler, :discrete_sampler_hyper_param, :num_of_iterations),(:other_agents_depth, :depth, :discrete_sampler, :discrete_sampler_hyper_param, :num_of_iterations),(),Tuple{typeof(agent),Float64,Int64,Int64,Type{PG},Int64,Int64},Tuple{Int64,Int64,Type{PG},Int64,Int64}}}}) at C:\\Users\\tomer\\.julia\\packages\\Turing\\O1Pn0\\src\\core\\container.jl:26",
      " [5] reweight!(::AdvancedPS.ParticleContainer{AdvancedPS.Trace{Turing.Core.TracedModel{DynamicPPL.Sampler{PG{(),AdvancedPS.ResampleWithESSThreshold{typeof(AdvancedPS.resample_systematic),Float64}}},DynamicPPL.VarInfo{NamedTuple{(:alpha,),Tuple{DynamicPPL.Metadata{Dict{DynamicPPL.VarName{:alpha,Tuple{}},Int64},Array{Dirichlet{Float64},1},Array{DynamicPPL.VarName{:alpha,Tuple{}},1},Array{Float64,1},Array{Set{DynamicPPL.Selector},1}}}},Float64},DynamicPPL.Model{var\"#27#28\",(:other_agent, :action, :other_agents_depth, :depth, :discrete_sampler, :discrete_sampler_hyper_param, :num_of_iterations),(:other_agents_depth, :depth, :discrete_sampler, :discrete_sampler_hyper_param, :num_of_iterations),(),Tuple{typeof(agent),Float64,Int64,Int64,Type{PG},Int64,Int64},Tuple{Int64,Int64,Type{PG},Int64,Int64}}}}}) at C:\\Users\\tomer\\.julia\\packages\\AdvancedPS\\Tf7fJ\\src\\container.jl:266",
      " [6] sweep!(::AdvancedPS.ParticleContainer{AdvancedPS.Trace{Turing.Core.TracedModel{DynamicPPL.Sampler{PG{(),AdvancedPS.ResampleWithESSThreshold{typeof(AdvancedPS.resample_systematic),Float64}}},DynamicPPL.VarInfo{NamedTuple{(:alpha,),Tuple{DynamicPPL.Metadata{Dict{DynamicPPL.VarName{:alpha,Tuple{}},Int64},Array{Dirichlet{Float64},1},Array{DynamicPPL.VarName{:alpha,Tuple{}},1},Array{Float64,1},Array{Set{DynamicPPL.Selector},1}}}},Float64},DynamicPPL.Model{var\"#27#28\",(:other_agent, :action, :other_agents_depth, :depth, :discrete_sampler, :discrete_sampler_hyper_param, :num_of_iterations),(:other_agents_depth, :depth, :discrete_sampler, :discrete_sampler_hyper_param, :num_of_iterations),(),Tuple{typeof(agent),Float64,Int64,Int64,Type{PG},Int64,Int64},Tuple{Int64,Int64,Type{PG},Int64,Int64}}}}}, ::AdvancedPS.ResampleWithESSThreshold{typeof(AdvancedPS.resample_systematic),Float64}) at C:\\Users\\tomer\\.julia\\packages\\AdvancedPS\\Tf7fJ\\src\\container.jl:320",
      " [7] #step#80 at C:\\Users\\tomer\\.julia\\packages\\Turing\\O1Pn0\\src\\inference\\AdvancedSMC.jl:302 [inlined]",
      " [8] step(::Random._GLOBAL_RNG, ::DynamicPPL.Model{var\"#27#28\",(:other_agent, :action, :other_agents_depth, :depth, :discrete_sampler, :discrete_sampler_hyper_param, :num_of_iterations),(:other_agents_depth, :depth, :discrete_sampler, :discrete_sampler_hyper_param, :num_of_iterations),(),Tuple{typeof(agent),Float64,Int64,Int64,Type{PG},Int64,Int64},Tuple{Int64,Int64,Type{PG},Int64,Int64}}, ::DynamicPPL.Sampler{PG{(),AdvancedPS.ResampleWithESSThreshold{typeof(AdvancedPS.resample_systematic),Float64}}}, ::DynamicPPL.VarInfo{NamedTuple{(:alpha,),Tuple{DynamicPPL.Metadata{Dict{DynamicPPL.VarName{:alpha,Tuple{}},Int64},Array{Dirichlet{Float64},1},Array{DynamicPPL.VarName{:alpha,Tuple{}},1},Array{Float64,1},Array{Set{DynamicPPL.Selector},1}}}},Float64}) at C:\\Users\\tomer\\.julia\\packages\\Turing\\O1Pn0\\src\\inference\\AdvancedSMC.jl:285",
      " [9] macro expansion at C:\\Users\\tomer\\.julia\\packages\\AbstractMCMC\\Nw3Wn\\src\\sample.jl:115 [inlined]",
      " [10] macro expansion at C:\\Users\\tomer\\.julia\\packages\\ProgressLogging\\BBN0b\\src\\ProgressLogging.jl:328 [inlined]",
      " [11] (::AbstractMCMC.var\"#20#21\"{Bool,String,Nothing,Int64,Int64,Base.Iterators.Pairs{Union{},Union{},Tuple{},NamedTuple{(),Tuple{}}},Random._GLOBAL_RNG,DynamicPPL.Model{var\"#27#28\",(:other_agent, :action, :other_agents_depth, :depth, :discrete_sampler, :discrete_sampler_hyper_param, :num_of_iterations),(:other_agents_depth, :depth, :discrete_sampler, :discrete_sampler_hyper_param, :num_of_iterations),(),Tuple{typeof(agent),Float64,Int64,Int64,Type{PG},Int64,Int64},Tuple{Int64,Int64,Type{PG},Int64,Int64}},DynamicPPL.Sampler{PG{(),AdvancedPS.ResampleWithESSThreshold{typeof(AdvancedPS.resample_systematic),Float64}}},Int64,Int64})() at C:\\Users\\tomer\\.julia\\packages\\AbstractMCMC\\Nw3Wn\\src\\logging.jl:11",
      " [12] with_logstate(::Function, ::Any) at .\\logging.jl:408",
      " [13] with_logger at .\\logging.jl:514 [inlined]",
      " [14] with_progresslogger(::Function, ::Module, ::Base.CoreLogging.SimpleLogger) at C:\\Users\\tomer\\.julia\\packages\\AbstractMCMC\\Nw3Wn\\src\\logging.jl:34",
      " [15] macro expansion at C:\\Users\\tomer\\.julia\\packages\\AbstractMCMC\\Nw3Wn\\src\\logging.jl:10 [inlined]",
      " [16] mcmcsample(::Random._GLOBAL_RNG, ::DynamicPPL.Model{var\"#27#28\",(:other_agent, :action, :other_agents_depth, :depth, :discrete_sampler, :discrete_sampler_hyper_param, :num_of_iterations),(:other_agents_depth, :depth, :discrete_sampler, :discrete_sampler_hyper_param, :num_of_iterations),(),Tuple{typeof(agent),Float64,Int64,Int64,Type{PG},Int64,Int64},Tuple{Int64,Int64,Type{PG},Int64,Int64}}, ::DynamicPPL.Sampler{PG{(),AdvancedPS.ResampleWithESSThreshold{typeof(AdvancedPS.resample_systematic),Float64}}}, ::Int64; progress::Bool, progressname::String, callback::Nothing, discard_initial::Int64, thinning::Int64, chain_type::Type{T} where T, kwargs::Base.Iterators.Pairs{Union{},Union{},Tuple{},NamedTuple{(),Tuple{}}}) at C:\\Users\\tomer\\.julia\\packages\\AbstractMCMC\\Nw3Wn\\src\\sample.jl:76",
      " [17] sample(::Random._GLOBAL_RNG, ::DynamicPPL.Model{var\"#27#28\",(:other_agent, :action, :other_agents_depth, :depth, :discrete_sampler, :discrete_sampler_hyper_param, :num_of_iterations),(:other_agents_depth, :depth, :discrete_sampler, :discrete_sampler_hyper_param, :num_of_iterations),(),Tuple{typeof(agent),Float64,Int64,Int64,Type{PG},Int64,Int64},Tuple{Int64,Int64,Type{PG},Int64,Int64}}, ::DynamicPPL.Sampler{PG{(),AdvancedPS.ResampleWithESSThreshold{typeof(AdvancedPS.resample_systematic),Float64}}}, ::Int64; chain_type::Type{T} where T, resume_from::Nothing, progress::Bool, kwargs::Base.Iterators.Pairs{Union{},Union{},Tuple{},NamedTuple{(),Tuple{}}}) at C:\\Users\\tomer\\.julia\\packages\\Turing\\O1Pn0\\src\\inference\\Inference.jl:157",
      " [18] sample at C:\\Users\\tomer\\.julia\\packages\\Turing\\O1Pn0\\src\\inference\\Inference.jl:156 [inlined]",
      " [19] #sample#2 at C:\\Users\\tomer\\.julia\\packages\\Turing\\O1Pn0\\src\\inference\\Inference.jl:143 [inlined]",
      " [20] sample at C:\\Users\\tomer\\.julia\\packages\\Turing\\O1Pn0\\src\\inference\\Inference.jl:143 [inlined]",
      " [21] #sample#1 at C:\\Users\\tomer\\.julia\\packages\\Turing\\O1Pn0\\src\\inference\\Inference.jl:133 [inlined]",
      " [22] sample(::DynamicPPL.Model{var\"#27#28\",(:other_agent, :action, :other_agents_depth, :depth, :discrete_sampler, :discrete_sampler_hyper_param, :num_of_iterations),(:other_agents_depth, :depth, :discrete_sampler, :discrete_sampler_hyper_param, :num_of_iterations),(),Tuple{typeof(agent),Float64,Int64,Int64,Type{PG},Int64,Int64},Tuple{Int64,Int64,Type{PG},Int64,Int64}}, ::PG{(),AdvancedPS.ResampleWithESSThreshold{typeof(AdvancedPS.resample_systematic),Float64}}, ::Int64) at C:\\Users\\tomer\\.julia\\packages\\Turing\\O1Pn0\\src\\inference\\Inference.jl:133",
      " [23] top-level scope at In[64]:1",
      " [24] include_string(::Function, ::Module, ::String, ::String) at .\\loading.jl:1091"
     ]
    }
   ],
   "source": [
    "chain = sample(agent(agent, 1.0, 1, 1), PG(1), 1);"
   ]
  },
  {
   "cell_type": "code",
   "execution_count": 65,
   "metadata": {},
   "outputs": [
    {
     "data": {
      "text/plain": [
       "Chains MCMC chain (10×5×1 Array{Float64,3}):\n",
       "\n",
       "Log evidence      = -1.203404479938487\n",
       "Iterations        = 1:10\n",
       "Thinning interval = 1\n",
       "Chains            = 1\n",
       "Samples per chain = 10\n",
       "parameters        = alpha[1], alpha[2], alpha[3]\n",
       "internals         = logevidence, lp\n",
       "\n",
       "Summary Statistics\n",
       " \u001b[1m parameters \u001b[0m \u001b[1m    mean \u001b[0m \u001b[1m     std \u001b[0m \u001b[1m naive_se \u001b[0m \u001b[1m    mcse \u001b[0m \u001b[1m     ess \u001b[0m \u001b[1m    rhat \u001b[0m\n",
       " \u001b[90m     Symbol \u001b[0m \u001b[90m Float64 \u001b[0m \u001b[90m Float64 \u001b[0m \u001b[90m  Float64 \u001b[0m \u001b[90m Missing \u001b[0m \u001b[90m Float64 \u001b[0m \u001b[90m Float64 \u001b[0m\n",
       "\n",
       "    alpha[1]    0.6544    0.2719     0.0860   missing    6.7687    0.9878\n",
       "    alpha[2]    0.2165    0.1953     0.0617   missing   22.8434    0.9256\n",
       "    alpha[3]    0.1291    0.1825     0.0577   missing   19.0971    0.9625\n",
       "\n",
       "Quantiles\n",
       " \u001b[1m parameters \u001b[0m \u001b[1m    2.5% \u001b[0m \u001b[1m   25.0% \u001b[0m \u001b[1m   50.0% \u001b[0m \u001b[1m   75.0% \u001b[0m \u001b[1m   97.5% \u001b[0m\n",
       " \u001b[90m     Symbol \u001b[0m \u001b[90m Float64 \u001b[0m \u001b[90m Float64 \u001b[0m \u001b[90m Float64 \u001b[0m \u001b[90m Float64 \u001b[0m \u001b[90m Float64 \u001b[0m\n",
       "\n",
       "    alpha[1]    0.1599    0.4954    0.7281    0.8316    0.9756\n",
       "    alpha[2]    0.0008    0.0591    0.1906    0.3149    0.5250\n",
       "    alpha[3]    0.0028    0.0092    0.0527    0.1693    0.5120\n"
      ]
     },
     "execution_count": 65,
     "metadata": {},
     "output_type": "execute_result"
    },
    {
     "name": "stderr",
     "output_type": "stream",
     "text": [
      "\u001b[34mSampling: 100%|█████████████████████████████████████████| Time: 0:00:00\u001b[39m\n"
     ]
    }
   ],
   "source": [
    "chain"
   ]
  },
  {
   "cell_type": "code",
   "execution_count": null,
   "metadata": {},
   "outputs": [],
   "source": []
  }
 ],
 "metadata": {
  "kernelspec": {
   "display_name": "Julia 1.5.3",
   "language": "julia",
   "name": "julia-1.5"
  },
  "language_info": {
   "file_extension": ".jl",
   "mimetype": "application/julia",
   "name": "julia",
   "version": "1.5.3"
  }
 },
 "nbformat": 4,
 "nbformat_minor": 4
}
