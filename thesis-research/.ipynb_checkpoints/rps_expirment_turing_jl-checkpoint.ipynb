{
 "cells": [
  {
   "cell_type": "code",
   "execution_count": 7,
   "metadata": {},
   "outputs": [
    {
     "name": "stderr",
     "output_type": "stream",
     "text": [
      "┌ Info: Precompiling StatsPlots [f3b207a7-027a-5e70-b257-86293d7955fd]\n",
      "└ @ Base loading.jl:1278\n"
     ]
    }
   ],
   "source": [
    "# Import libraries.\n",
    "using Turing, StatsPlots, Random"
   ]
  },
  {
   "cell_type": "code",
   "execution_count": 109,
   "metadata": {},
   "outputs": [
    {
     "data": {
      "text/plain": [
       "agent (generic function with 7 methods)"
      ]
     },
     "execution_count": 109,
     "metadata": {},
     "output_type": "execute_result"
    }
   ],
   "source": [
    "# Declare our Turing model.\n",
    "@model function agent(opponent_agent, my_action, opponent_action, opponent_agents_depth=0, depth=0, discrete_sampler = PG, discrete_sampler_hyper_param=10, num_of_iterations=10)\n",
    "    if depth > 0 \n",
    "        opp_action_chain = sample(opponent_agent(agent, opponent_action, my_action, depth-1, opponent_agents_depth), discrete_sampler(discrete_sampler_hyper_param), num_of_iterations, progress=false);\n",
    "        opp_alpha_1 = mean(opp_action_chain[:\"alpha[1]\"])\n",
    "        opp_alpha_2 = mean(opp_action_chain[:\"alpha[2]\"])\n",
    "        opp_alpha_3 = 1 - opp_alpha_1 - opp_alpha_2\n",
    "        alpha ~ Dirichlet([opp_alpha_3, opp_alpha_1 , opp_alpha_2])\n",
    "    else\n",
    "        # Our prior belief about the probability of RPS.\n",
    "        alpha ~ Dirichlet(ones(3)/3)\n",
    "    end\n",
    "    my_action ~ Categorical(vec(alpha))\n",
    "    return my_action\n",
    "end"
   ]
  },
  {
   "cell_type": "code",
   "execution_count": 110,
   "metadata": {},
   "outputs": [
    {
     "data": {
      "text/plain": [
       "Chains MCMC chain (10×5×1 Array{Float64,3}):\n",
       "\n",
       "Log evidence      = -22.13228175116812\n",
       "Iterations        = 1:10\n",
       "Thinning interval = 1\n",
       "Chains            = 1\n",
       "Samples per chain = 10\n",
       "parameters        = alpha[1], alpha[2], alpha[3]\n",
       "internals         = logevidence, lp\n",
       "\n",
       "Summary Statistics\n",
       " \u001b[1m parameters \u001b[0m \u001b[1m    mean \u001b[0m \u001b[1m     std \u001b[0m \u001b[1m naive_se \u001b[0m \u001b[1m    mcse \u001b[0m \u001b[1m       ess \u001b[0m \u001b[1m    rhat \u001b[0m\n",
       " \u001b[90m     Symbol \u001b[0m \u001b[90m Float64 \u001b[0m \u001b[90m Float64 \u001b[0m \u001b[90m  Float64 \u001b[0m \u001b[90m Missing \u001b[0m \u001b[90m   Float64 \u001b[0m \u001b[90m Float64 \u001b[0m\n",
       "\n",
       "    alpha[1]    0.0433    0.0949     0.0300   missing   -129.5935    0.9161\n",
       "    alpha[2]    0.4986    0.3634     0.1149   missing      4.7747    1.1764\n",
       "    alpha[3]    0.4582    0.4054     0.1282   missing      8.5658    1.0759\n",
       "\n",
       "Quantiles\n",
       " \u001b[1m parameters \u001b[0m \u001b[1m    2.5% \u001b[0m \u001b[1m   25.0% \u001b[0m \u001b[1m   50.0% \u001b[0m \u001b[1m   75.0% \u001b[0m \u001b[1m   97.5% \u001b[0m\n",
       " \u001b[90m     Symbol \u001b[0m \u001b[90m Float64 \u001b[0m \u001b[90m Float64 \u001b[0m \u001b[90m Float64 \u001b[0m \u001b[90m Float64 \u001b[0m \u001b[90m Float64 \u001b[0m\n",
       "\n",
       "    alpha[1]    0.0000    0.0000    0.0000    0.0048    0.2497\n",
       "    alpha[2]    0.0103    0.1570    0.5487    0.8215    0.8890\n",
       "    alpha[3]    0.0148    0.1157    0.3946    0.8430    0.9883\n"
      ]
     },
     "execution_count": 110,
     "metadata": {},
     "output_type": "execute_result"
    }
   ],
   "source": [
    "chain = sample(agent(agent, 1.0, 1.0, 1, 1, PG, 10, 10), PG(1), 10 , progress = false);\n",
    "chain"
   ]
  },
  {
   "cell_type": "code",
   "execution_count": null,
   "metadata": {},
   "outputs": [],
   "source": []
  }
 ],
 "metadata": {
  "kernelspec": {
   "display_name": "Julia 1.5.3",
   "language": "julia",
   "name": "julia-1.5"
  },
  "language_info": {
   "file_extension": ".jl",
   "mimetype": "application/julia",
   "name": "julia",
   "version": "1.5.3"
  }
 },
 "nbformat": 4,
 "nbformat_minor": 4
}
