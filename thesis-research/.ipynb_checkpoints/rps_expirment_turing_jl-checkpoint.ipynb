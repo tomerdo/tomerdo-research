{
 "cells": [
  {
   "cell_type": "code",
   "execution_count": 1,
   "metadata": {},
   "outputs": [],
   "source": [
    "# Import libraries.\n",
    "using Turing, StatsPlots, Random"
   ]
  },
  {
   "cell_type": "markdown",
   "metadata": {},
   "source": [
    "## Questions:\n",
    "1) now it looks like mixture model <br>\n",
    "2) how to use the history wisely <br>\n",
    "3) how to use the deepening of computation <br>"
   ]
  },
  {
   "cell_type": "code",
   "execution_count": 50,
   "metadata": {},
   "outputs": [
    {
     "data": {
      "text/plain": [
       "agent (generic function with 6 methods)"
      ]
     },
     "execution_count": 50,
     "metadata": {},
     "output_type": "execute_result"
    }
   ],
   "source": [
    "# Declare our Turing model.\n",
    "@model function agent(opponent_agent, my_action, opponent_action, opponent_agents_depth=0, depth=0, discrete_sampler = PG, discrete_sampler_hyper_param=10, num_of_iterations=10)\n",
    "    if depth > 0 \n",
    "        opp_action_chain = sample(opponent_agent(agent, opponent_action, my_action, depth-1, opponent_agents_depth), discrete_sampler(discrete_sampler_hyper_param), num_of_iterations, progress=false);\n",
    "        opp_alpha_1 = mean(opp_action_chain[:\"alpha[1]\"])\n",
    "        opp_alpha_2 = mean(opp_action_chain[:\"alpha[2]\"])\n",
    "        opp_alpha_3 = 1 - opp_alpha_1 - opp_alpha_2\n",
    "        alpha ~ Dirichlet([opp_alpha_3, opp_alpha_1 , opp_alpha_2])\n",
    "    else\n",
    "        # Our prior belief about the probability of RPS.\n",
    "        alpha ~ Dirichlet(ones(3)/3)\n",
    "    end\n",
    "    my_action ~ Categorical(vec(alpha))\n",
    "    return my_action\n",
    "end"
   ]
  },
  {
   "cell_type": "code",
   "execution_count": 138,
   "metadata": {},
   "outputs": [
    {
     "name": "stdout",
     "output_type": "stream",
     "text": [
      "Array{Float64,1}"
     ]
    },
    {
     "data": {
      "text/plain": [
       "Dirichlet{Float64}(alpha=[0.3333333333333333, 0.3333333333333333, 0.3333333333333333])"
      ]
     },
     "execution_count": 138,
     "metadata": {},
     "output_type": "execute_result"
    }
   ],
   "source": [
    "print(typeof(ones(3)/3))\n",
    "Dirichlet(ones(3)/3)"
   ]
  },
  {
   "cell_type": "code",
   "execution_count": 175,
   "metadata": {},
   "outputs": [
    {
     "data": {
      "text/plain": [
       "agent (generic function with 6 methods)"
      ]
     },
     "execution_count": 175,
     "metadata": {},
     "output_type": "execute_result"
    }
   ],
   "source": [
    "# Declare our Turing model.\n",
    "@model function agent(opponent_agent, my_history, opponent_history, opponent_agents_depth=0, depth=0, discrete_sampler = PG, discrete_sampler_hyper_param=1, num_of_iterations=1)\n",
    "    # Our prior belief about the probability of RPS.\n",
    "    alpha ~ Dirichlet(ones(3)/3)\n",
    "    for i in 1:length(my_history)\n",
    "        my_action = my_history[i]\n",
    "        opponent_action = opponent_history[i]\n",
    "        if depth > 0 \n",
    "            opp_action_chain = sample(opponent_agent(agent, opponent_history, my_history, depth-1, opponent_agents_depth), discrete_sampler(discrete_sampler_hyper_param), num_of_iterations, progress=true);\n",
    "            opp_alpha_1 = mean(opp_action_chain[:\"alpha[1]\"])\n",
    "            opp_alpha_2 = mean(opp_action_chain[:\"alpha[2]\"])\n",
    "            opp_alpha_3 = 1 - opp_alpha_1 - opp_alpha_2\n",
    "            counter_opponent_policy = [opp_alpha_3, opp_alpha_1 , opp_alpha_2]\n",
    "            counter_opponent_policy ~ Dirichlet(alpha)\n",
    "        end\n",
    "        my_action ~ Categorical(alpha)\n",
    "    end\n",
    "end"
   ]
  },
  {
   "cell_type": "code",
   "execution_count": 176,
   "metadata": {},
   "outputs": [
    {
     "data": {
      "text/plain": [
       "1"
      ]
     },
     "execution_count": 176,
     "metadata": {},
     "output_type": "execute_result"
    }
   ],
   "source": [
    "my_action = 1\n",
    "opponent_action = 0\n",
    "opponent_depth = 0\n",
    "my_depth = 1"
   ]
  },
  {
   "cell_type": "code",
   "execution_count": 177,
   "metadata": {},
   "outputs": [
    {
     "name": "stdout",
     "output_type": "stream",
     "text": [
      "[0.97282613276506, 0.027028725942920457, 0.00014514129201946064]\n",
      "[0.01595130312069748, 0.24812294418883182, 0.7359257526904707]\n"
     ]
    },
    {
     "data": {
      "text/plain": [
       "Chains MCMC chain (1×9×1 Array{Float64,3}):\n",
       "\n",
       "Log evidence      = 0.0\n",
       "Iterations        = 1:1\n",
       "Thinning interval = 1\n",
       "Chains            = 1\n",
       "Samples per chain = 1\n",
       "parameters        = alpha[1], alpha[2], alpha[3], counter_opponent_policy[1], counter_opponent_policy[2], counter_opponent_policy[3], my_action\n",
       "internals         = logevidence, lp\n",
       "\n",
       "Summary Statistics\n",
       " \u001b[1m                 parameters \u001b[0m \u001b[1m    mean \u001b[0m \u001b[1m     std \u001b[0m \u001b[1m naive_se \u001b[0m \u001b[1m    mcse \u001b[0m \u001b[1m     es\u001b[0m ⋯\n",
       " \u001b[90m                     Symbol \u001b[0m \u001b[90m Float64 \u001b[0m \u001b[90m Float64 \u001b[0m \u001b[90m  Float64 \u001b[0m \u001b[90m Missing \u001b[0m \u001b[90m Missin\u001b[0m ⋯\n",
       "\n",
       "                    alpha[1]    0.0020       NaN        NaN   missing   missin ⋯\n",
       "                    alpha[2]    0.0072       NaN        NaN   missing   missin ⋯\n",
       "                    alpha[3]    0.9907       NaN        NaN   missing   missin ⋯\n",
       "  counter_opponent_policy[1]    0.0000       NaN        NaN   missing   missin ⋯\n",
       "  counter_opponent_policy[2]    0.0000       NaN        NaN   missing   missin ⋯\n",
       "  counter_opponent_policy[3]    1.0000       NaN        NaN   missing   missin ⋯\n",
       "                   my_action    3.0000       NaN        NaN   missing   missin ⋯\n",
       "\u001b[31m                                                               2 columns omitted\u001b[0m\n",
       "\n",
       "Quantiles\n",
       " \u001b[1m                 parameters \u001b[0m \u001b[1m    2.5% \u001b[0m \u001b[1m   25.0% \u001b[0m \u001b[1m   50.0% \u001b[0m \u001b[1m   75.0% \u001b[0m \u001b[1m   97.5%\u001b[0m ⋯\n",
       " \u001b[90m                     Symbol \u001b[0m \u001b[90m Float64 \u001b[0m \u001b[90m Float64 \u001b[0m \u001b[90m Float64 \u001b[0m \u001b[90m Float64 \u001b[0m \u001b[90m Float64\u001b[0m ⋯\n",
       "\n",
       "                    alpha[1]    0.0020    0.0020    0.0020    0.0020    0.0020 ⋯\n",
       "                    alpha[2]    0.0072    0.0072    0.0072    0.0072    0.0072 ⋯\n",
       "                    alpha[3]    0.9907    0.9907    0.9907    0.9907    0.9907 ⋯\n",
       "  counter_opponent_policy[1]    0.0000    0.0000    0.0000    0.0000    0.0000 ⋯\n",
       "  counter_opponent_policy[2]    0.0000    0.0000    0.0000    0.0000    0.0000 ⋯\n",
       "  counter_opponent_policy[3]    1.0000    1.0000    1.0000    1.0000    1.0000 ⋯\n",
       "                   my_action    3.0000    3.0000    3.0000    3.0000    3.0000 ⋯\n"
      ]
     },
     "execution_count": 177,
     "metadata": {},
     "output_type": "execute_result"
    }
   ],
   "source": [
    "chain = sample(agent(agent, [my_action], [opponent_action], opponent_depth, my_depth), PG(1), 1 , progress = true)\n",
    "chain"
   ]
  },
  {
   "cell_type": "code",
   "execution_count": 178,
   "metadata": {},
   "outputs": [
    {
     "data": {
      "text/plain": [
       "maximum_likelihood_action (generic function with 1 method)"
      ]
     },
     "execution_count": 178,
     "metadata": {},
     "output_type": "execute_result"
    }
   ],
   "source": [
    "function maximum_likelihood_action(list_of_pairs)\n",
    "    max_key = -1\n",
    "    max_value = -1\n",
    "    for element in list_of_pairs\n",
    "        key = element[1]\n",
    "        value = element[2]\n",
    "        if value > max_value\n",
    "            max_value = value\n",
    "            max_key = key\n",
    "        end\n",
    "    end\n",
    "    return (max_key, max_value)\n",
    "end"
   ]
  },
  {
   "cell_type": "code",
   "execution_count": 179,
   "metadata": {},
   "outputs": [
    {
     "data": {
      "text/plain": [
       "move (generic function with 3 methods)"
      ]
     },
     "execution_count": 179,
     "metadata": {},
     "output_type": "execute_result"
    }
   ],
   "source": [
    "function move(agent, other_agent, my_history, other_agent_history)\n",
    "    other_agent_history = length(other_agent_history) > 0 ? other_agent_history : [1]\n",
    "    my_history = length(my_history) > 0 ? my_history : [1]\n",
    "    chain = sample(agent(other_agent, my_history, other_agent_history, opponent_depth, my_depth), PG(1), 1, progress = false)\n",
    "    alpha_1 = (1, mean(chain[:\"alpha[1]\"]))\n",
    "    alpha_2 = (2, mean(chain[:\"alpha[2]\"]))\n",
    "    alpha_3 = (3, 1 - alpha_1[2] - alpha_2[2])\n",
    "    return maximum_likelihood_action([alpha_1, alpha_2, alpha_3])[1]\n",
    "end"
   ]
  },
  {
   "cell_type": "code",
   "execution_count": 180,
   "metadata": {},
   "outputs": [
    {
     "name": "stdout",
     "output_type": "stream",
     "text": [
      "opponent_action=1 my_action=1[0.03259416503137236, 0.0015435567346529198, 0.9658622782339747]\n",
      "[0.0003339011871190678, 0.038475085677245106, 0.9611910131356358]\n",
      "[0.9495548929438405, 0.03951151722810654, 0.010933589828052896]\n",
      "[0.48682616180124977, 0.3400327286673455, 0.17314110953140477]\n",
      "[0.9876466143571176, 0.012347239511008497, 6.146131873904474e-6]\n",
      "[0.8734759919582086, 0.12545934029380482, 0.0010646677479866585]\n",
      "[0.03384295952750915, 0.18364298691312295, 0.7825140535593679]\n",
      "[0.007700460852531843, 0.01208703910481812, 0.98021250004265]\n",
      "[0.021976384873515928, 0.9545229269925619, 0.023500688133922157]\n",
      "[0.14437211888930931, 0.8531669019530347, 0.0024609791576559966]\n",
      "[0.006338731549530352, 0.8566043444433438, 0.13705692400712588"
     ]
    },
    {
     "data": {
      "text/plain": [
       "Chains MCMC chain (5×9×1 Array{Float64,3}):\n",
       "\n",
       "Log evidence      = 0.0\n",
       "Iterations        = 1:5\n",
       "Thinning interval = 1\n",
       "Chains            = 1\n",
       "Samples per chain = 5\n",
       "parameters        = alpha[1], alpha[2], alpha[3], counter_opponent_policy[1], counter_opponent_policy[2], counter_opponent_policy[3], my_action\n",
       "internals         = logevidence, lp\n",
       "\n",
       "Summary Statistics\n",
       " \u001b[1m                 parameters \u001b[0m \u001b[1m    mean \u001b[0m \u001b[1m     std \u001b[0m \u001b[1m naive_se \u001b[0m \u001b[1m    mcse \u001b[0m \u001b[1m       \u001b[0m ⋯\n",
       " \u001b[90m                     Symbol \u001b[0m \u001b[90m Float64 \u001b[0m \u001b[90m Float64 \u001b[0m \u001b[90m  Float64 \u001b[0m \u001b[90m Missing \u001b[0m \u001b[90m    Flo\u001b[0m ⋯\n",
       "\n",
       "                    alpha[1]    0.2871    0.3824     0.1710   missing      -1. ⋯\n",
       "                    alpha[2]    0.2832    0.3920     0.1753   missing     505. ⋯\n",
       "                    alpha[3]    0.4296    0.5132     0.2295   missing      -9. ⋯\n",
       "  counter_opponent_policy[1]    0.1692    0.2747     0.1228   missing     -29. ⋯\n",
       "  counter_opponent_policy[2]    0.5608    0.5142     0.2300   missing     -57. ⋯\n",
       "  counter_opponent_policy[3]    0.2700    0.4352     0.1946   missing   -1106. ⋯\n",
       "                   my_action    2.0000    1.0000     0.4472   missing      -2. ⋯\n",
       "\u001b[31m                                                               2 columns omitted\u001b[0m\n",
       "\n",
       "Quantiles\n",
       " \u001b[1m                 parameters \u001b[0m \u001b[1m    2.5% \u001b[0m \u001b[1m   25.0% \u001b[0m \u001b[1m   50.0% \u001b[0m \u001b[1m   75.0% \u001b[0m \u001b[1m   97.5%\u001b[0m ⋯\n",
       " \u001b[90m                     Symbol \u001b[0m \u001b[90m Float64 \u001b[0m \u001b[90m Float64 \u001b[0m \u001b[90m Float64 \u001b[0m \u001b[90m Float64 \u001b[0m \u001b[90m Float64\u001b[0m ⋯\n",
       "\n",
       "                    alpha[1]    0.0050    0.0068    0.0123    0.6958    0.7140 ⋯\n",
       "                    alpha[2]    0.0002    0.0019    0.1739    0.2914    0.8833 ⋯\n",
       "                    alpha[3]    0.0160    0.0442    0.1101    0.9858    0.9943 ⋯\n",
       "  counter_opponent_policy[1]    0.0000    0.0000    0.0612    0.1342    0.5988 ⋯\n",
       "  counter_opponent_policy[2]    0.0000    0.0000    0.8655    0.9388    0.9938 ⋯\n",
       "  counter_opponent_policy[3]    0.0000    0.0000    0.0004    0.3495    0.9350 ⋯\n",
       "                   my_action    1.0000    1.0000    2.0000    3.0000    3.0000 ⋯\n"
      ]
     },
     "metadata": {},
     "output_type": "display_data"
    },
    {
     "name": "stdout",
     "output_type": "stream",
     "text": [
      "]\n",
      "[0.8732690935041916, 0.0027448111061910115, 0.12398609538961748]\n",
      "[0.8213027437537287, 0.004975916173594137, 0.17372134007267712]\n",
      "[0.6045235315870854, 0.04859137014467549, 0.34688509826823904]\n",
      "[0.0149973895041553, 0.4452494910117894, 0.5397531194840552]\n",
      "[0.0937109423142517, 0.00072040912128857, 0.9055686485644597]\n",
      "[0.09693568716892655, 0.8172949331755782, 0.08576937965549523]\n",
      "[0.3041915152116673, 0.03718163072519757, 0.6586268540631351]\n",
      "[0.4919452714916164, 0.04545036875870278, 0.46260435974968084]\n",
      "[0.035560407574087335, 0.9349752358333671, 0.02946435659254561]\n",
      "[0.49031258443578357, 0.5085345755366688, 0.0011528400275476142]\n",
      "[0.6074917324210467, 0.03021397308297532, 0.3622942944959779]\n",
      "[0.4399650721947491, 0.559936627811487, 9.829999376386258e-5]\n",
      "[0.5748882373415314, 0.11864352348188566, 0.30646823917658295]\n",
      "[0.17104688951575658, 0.773860858606539, 0.055092251877704446]\n",
      "[0.12740454915026878, 0.07308407301409053, 0.7995113778356407]\n",
      "[0.03192626704526813, 0.27781540386684683, 0.6902583290878851]\n",
      "[0.5446213668722892, 0.44950506751686903, 0.005873565610841754]\n",
      "[0.7917491551709257, 0.11704827328921363, 0.09120257153986065]\n",
      "[0.8545884998504414, 0.1259337040424943, 0.0194777961070644]\n",
      "[0.13978394876472303, 0.8424864812091489, 0.017729570026128034]\n",
      "[0.02275418649404104, 0.33918947100998026, 0.6380563424959786]\n",
      "[0.03316063477191167, 0.0034843476054195375, 0.9633550176226688]\n",
      "[0.3833958401489834, 0.050457811851258534, 0.566146347999758]\n",
      "[0.00027656728571432906, 0.9847933026058417, 0.014930130108443924]\n",
      "[0.2537497077436467, 0.08768763928880377, 0.6585626529675496]\n",
      "[0.02871630067411346, 0.0021047022525254077, 0.9691789970733611]\n",
      "[2.248120612302097e-6, 0.9983539212852071, 0.0016438305941806402]\n",
      "[0.2015971708555505, 0.025858783031998744, 0.7725440461124508]\n",
      "[0.010970457867274241, 0.004036557013465844, 0.9849929851192599]\n",
      "[0.0510098614091016, 0.7840494537527096, 0.16494068483818877]\n",
      "[0.648990985517739, 3.4642324245849386e-6, 0.3510055502498364]\n",
      "[0.09710198697066164, 0.0001166289452066408, 0.9027813840841318]\n",
      "[0.07671852031478776, 0.1438653559686137, 0.7794161237165985]\n",
      "[0.045912773605766566, 0.8415542005628333, 0.11253302583140018]\n",
      "[0.07077895366167056, 0.8908601147348388, 0.038360931603490606]\n",
      "[0.09617305953904948, 0.7787595319761792, 0.12506740848477133]\n",
      "[0.6997513506541018, 0.1916201678516774, 0.1086284814942209]\n",
      "[0.0011315719773883903, 0.5205782958116212, 0.4782901322109904]\n",
      "[0.0026922727348620556, 0.1472205406897417, 0.8500871865753963]\n",
      "[0.01707305712067432, 0.9489716059199484, 0.03395533695937723]\n"
     ]
    },
    {
     "data": {
      "text/plain": [
       "3"
      ]
     },
     "execution_count": 180,
     "metadata": {},
     "output_type": "execute_result"
    }
   ],
   "source": [
    "move(agent, agent, [])"
   ]
  },
  {
   "cell_type": "code",
   "execution_count": 181,
   "metadata": {},
   "outputs": [
    {
     "data": {
      "text/plain": [
       "game (generic function with 1 method)"
      ]
     },
     "execution_count": 181,
     "metadata": {},
     "output_type": "execute_result"
    }
   ],
   "source": [
    "function game()\n",
    "    first_player = agent\n",
    "    second_player = agent\n",
    "    num_of_simulations = 10\n",
    "    first_player_history = []\n",
    "    second_player_history = []\n",
    "    for i in 1:num_of_simulations\n",
    "        m1 = move(first_player, second_player, first_player_history, second_player_history)\n",
    "        push!(first_player_history, m1)\n",
    "        m2 = move(second_player, first_player, second_player_history, first_player_history)\n",
    "        push!(second_player_history, m2)\n",
    "        println(\"in simulation $i first player chose $m1 second player chose $m2\")\n",
    "    end\n",
    "    return first_player_history, second_player_history\n",
    "end"
   ]
  },
  {
   "cell_type": "code",
   "execution_count": null,
   "metadata": {},
   "outputs": [
    {
     "name": "stdout",
     "output_type": "stream",
     "text": [
      "[0.0690367856699109, 0.16010280160831017, 0.770860412721779]\n",
      "[0.053281834614139045, 0.4671278541305357, 0.47959031125532525]\n",
      "[0.12137428024809593, 0.24251633201242087, 0.6361093877394832]\n"
     ]
    }
   ],
   "source": [
    "game()"
   ]
  },
  {
   "cell_type": "code",
   "execution_count": null,
   "metadata": {},
   "outputs": [],
   "source": []
  },
  {
   "cell_type": "code",
   "execution_count": null,
   "metadata": {},
   "outputs": [],
   "source": []
  }
 ],
 "metadata": {
  "kernelspec": {
   "display_name": "Julia 1.5.3",
   "language": "julia",
   "name": "julia-1.5"
  },
  "language_info": {
   "file_extension": ".jl",
   "mimetype": "application/julia",
   "name": "julia",
   "version": "1.5.3"
  }
 },
 "nbformat": 4,
 "nbformat_minor": 4
}
