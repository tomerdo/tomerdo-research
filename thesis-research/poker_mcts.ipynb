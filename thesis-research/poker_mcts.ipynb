{
 "cells": [
  {
   "cell_type": "code",
   "execution_count": 56,
   "metadata": {},
   "outputs": [],
   "source": [
    "using StatsBase"
   ]
  },
  {
   "cell_type": "markdown",
   "metadata": {},
   "source": [
    "### In This Notebook i will implement simple Simulation based Algorithm to play Poker"
   ]
  },
  {
   "cell_type": "code",
   "execution_count": 57,
   "metadata": {},
   "outputs": [
    {
     "data": {
      "text/plain": [
       "-10"
      ]
     },
     "execution_count": 57,
     "metadata": {},
     "output_type": "execute_result"
    }
   ],
   "source": [
    "INVALID_VALUE = -10"
   ]
  },
  {
   "cell_type": "code",
   "execution_count": 58,
   "metadata": {},
   "outputs": [
    {
     "data": {
      "text/plain": [
       "3-element Array{Int64,1}:\n",
       " 1\n",
       " 2\n",
       " 3"
      ]
     },
     "execution_count": 58,
     "metadata": {},
     "output_type": "execute_result"
    }
   ],
   "source": [
    "JACK = 1\n",
    "QUEEN = 2\n",
    "KING = 3\n",
    "FULL_DECK = [JACK, QUEEN, KING]"
   ]
  },
  {
   "cell_type": "code",
   "execution_count": 59,
   "metadata": {},
   "outputs": [
    {
     "data": {
      "text/plain": [
       "3-element Array{Int64,1}:\n",
       " -1\n",
       "  0\n",
       "  1"
      ]
     },
     "execution_count": 59,
     "metadata": {},
     "output_type": "execute_result"
    }
   ],
   "source": [
    "FOLD = -1\n",
    "CHECK = 0\n",
    "BET = 1\n",
    "ACTIONS = [FOLD, CHECK, BET]"
   ]
  },
  {
   "cell_type": "code",
   "execution_count": 60,
   "metadata": {},
   "outputs": [
    {
     "data": {
      "text/plain": [
       "simulate_bet (generic function with 1 method)"
      ]
     },
     "execution_count": 60,
     "metadata": {},
     "output_type": "execute_result"
    }
   ],
   "source": [
    "function simulate_bet(card, num_of_simulations)\n",
    "    rewards_call = simulate_call(card , Int(floor(num_of_simulations / 2)))\n",
    "    rewards_fold = 1 * ceil(num_of_simulations / 2)\n",
    "    return rewards_call + rewards_fold\n",
    "end"
   ]
  },
  {
   "cell_type": "code",
   "execution_count": 61,
   "metadata": {},
   "outputs": [
    {
     "data": {
      "text/plain": [
       "simulate_call (generic function with 1 method)"
      ]
     },
     "execution_count": 61,
     "metadata": {},
     "output_type": "execute_result"
    }
   ],
   "source": [
    "function simulate_call(card, num_of_simulations)\n",
    "    optional_cards = setdiff(FULL_DECK, [card])\n",
    "    opp_cards = sample(optional_cards, num_of_simulations)\n",
    "    my_cards = repeat([card], num_of_simulations)\n",
    "    rewards = my_cards .> opp_cards\n",
    "    rewards = rewards * 2 .- 1\n",
    "    rewards_factor_by_2 = rewards * 2 # after bet the price is doubled\n",
    "    return sum(rewards_factor_by_2) # bet was on\n",
    "end"
   ]
  },
  {
   "cell_type": "code",
   "execution_count": 62,
   "metadata": {},
   "outputs": [
    {
     "data": {
      "text/plain": [
       "compute_policy_check_or_bet (generic function with 1 method)"
      ]
     },
     "execution_count": 62,
     "metadata": {},
     "output_type": "execute_result"
    }
   ],
   "source": [
    "function compute_policy_check_or_bet(card)\n",
    "    num_of_simulations = 1000\n",
    "    total_reward_bet = simulate_bet(card, num_of_simulations)\n",
    "    total_reward_check = simulate_check(card, num_of_simulations)\n",
    "    r_check, r_bet =  total_reward_check / num_of_simulations, total_reward_bet / num_of_simulations\n",
    "    q_check, q_bet = exp(r_check), exp(r_bet)\n",
    "    z = q_check + q_bet\n",
    "    return [q_check / z, q_bet / z ]\n",
    "end"
   ]
  },
  {
   "cell_type": "code",
   "execution_count": 63,
   "metadata": {},
   "outputs": [
    {
     "data": {
      "text/plain": [
       "compute_policy_fold_or_call (generic function with 1 method)"
      ]
     },
     "execution_count": 63,
     "metadata": {},
     "output_type": "execute_result"
    }
   ],
   "source": [
    "function compute_policy_fold_or_call(card)\n",
    "    num_of_simulations = 1000\n",
    "    total_reward_fold = -1 * num_of_simulations\n",
    "    total_reward_call = simulate_call(card, num_of_simulations)\n",
    "    r_fold, r_call = total_reward_fold / num_of_simulations, total_reward_call / num_of_simulations\n",
    "    q_fold, q_call = exp(r_fold), exp(r_call)\n",
    "    z = q_fold + q_call\n",
    "    return [q_fold / z, q_call / z]\n",
    "end"
   ]
  },
  {
   "cell_type": "code",
   "execution_count": 64,
   "metadata": {},
   "outputs": [
    {
     "data": {
      "text/plain": [
       "compute_policy (generic function with 2 methods)"
      ]
     },
     "execution_count": 64,
     "metadata": {},
     "output_type": "execute_result"
    }
   ],
   "source": [
    "function compute_policy(card, previous_player_betted=false)\n",
    "    if previous_player_betted\n",
    "        return compute_policy_fold_or_call(card)\n",
    "    else\n",
    "        return compute_policy_check_or_bet(card) \n",
    "    end\n",
    "end"
   ]
  },
  {
   "cell_type": "code",
   "execution_count": 65,
   "metadata": {},
   "outputs": [
    {
     "data": {
      "text/plain": [
       "sample_check_bet (generic function with 1 method)"
      ]
     },
     "execution_count": 65,
     "metadata": {},
     "output_type": "execute_result"
    }
   ],
   "source": [
    "function sample_check_bet(policy)\n",
    "   sample([CHECK,BET], Weights(policy)) \n",
    "end"
   ]
  },
  {
   "cell_type": "code",
   "execution_count": 66,
   "metadata": {},
   "outputs": [
    {
     "data": {
      "text/plain": [
       "sample_fold_call (generic function with 1 method)"
      ]
     },
     "execution_count": 66,
     "metadata": {},
     "output_type": "execute_result"
    }
   ],
   "source": [
    "function sample_fold_call(policy)\n",
    "   sample([FOLD,CHECK], Weights(policy)) \n",
    "end"
   ]
  },
  {
   "cell_type": "code",
   "execution_count": 67,
   "metadata": {},
   "outputs": [
    {
     "data": {
      "text/plain": [
       "sample_action (generic function with 2 methods)"
      ]
     },
     "execution_count": 67,
     "metadata": {},
     "output_type": "execute_result"
    }
   ],
   "source": [
    "function sample_action(policy, previous_player_betted=false)\n",
    "    if previous_player_betted\n",
    "        return sample_fold_call(policy)\n",
    "    else\n",
    "        return sample_check_bet(policy) \n",
    "    end\n",
    "end"
   ]
  },
  {
   "cell_type": "code",
   "execution_count": 68,
   "metadata": {},
   "outputs": [
    {
     "data": {
      "text/plain": [
       "simulate_check (generic function with 1 method)"
      ]
     },
     "execution_count": 68,
     "metadata": {},
     "output_type": "execute_result"
    }
   ],
   "source": [
    "function simulate_check(card, num_of_simulations)\n",
    "    num_of_simulations_for_check = Int(ceil(num_of_simulations / 2))\n",
    "    num_of_simulations_for_bet = num_of_simulations - num_of_simulations_for_check\n",
    "    \n",
    "    # Opp Checks also\n",
    "    optional_cards = setdiff(FULL_DECK, [card])\n",
    "    opp_cards = sample(optional_cards, num_of_simulations_for_check)\n",
    "    my_cards = repeat([card], num_of_simulations_for_check)\n",
    "    rewards = my_cards .> opp_cards\n",
    "    rewards_check = sum(rewards * 2 .- 1)\n",
    "    \n",
    "    # Opp bets\n",
    "    p_fold, p_call = compute_policy_fold_or_call(card)\n",
    "    r_bet_fold = num_of_simulations_for_bet * p_fold * -1\n",
    "    r_bet_call = simulate_call(card, Int(ceil(num_of_simulations_for_bet * p_call)))\n",
    "    \n",
    "    return rewards_check + r_bet_fold + r_bet_call\n",
    "end"
   ]
  },
  {
   "cell_type": "code",
   "execution_count": 69,
   "metadata": {},
   "outputs": [
    {
     "data": {
      "text/plain": [
       "round (generic function with 1 method)"
      ]
     },
     "execution_count": 69,
     "metadata": {},
     "output_type": "execute_result"
    }
   ],
   "source": [
    "function round(first_player_card, second_player_card, history)\n",
    "    score = 0\n",
    "    \n",
    "    first_player_policy = compute_policy(first_player_card)\n",
    "    first_player_move = sample_action(first_player_policy)\n",
    "    \n",
    "    second_player_policy  = compute_policy(second_player_card, first_player_move == BET)\n",
    "    second_player_move = sample_action(second_player_policy, first_player_move == BET)\n",
    "    \n",
    "    round_history = [((first_player_card, first_player_move, false), (second_player_card, second_player_move, first_player_move == BET))]\n",
    "    \n",
    "    doubled_pot = first_player_move == BET || second_player_move == BET\n",
    "    if second_player_move == FOLD\n",
    "        round_record = (round_history, 1)\n",
    "        push!(history, round_record)\n",
    "        return 1\n",
    "    end\n",
    "    if second_player_move == BET\n",
    "        doubled_pot = true\n",
    "        first_player_policy = compute_policy(first_player_card, second_player_move == BET)\n",
    "        first_player_move = sample_action(first_player_policy, second_player_move == BET)\n",
    "        \n",
    "        push!(round_history, ((first_player_card, first_player_move, false),(INVALID_VALUE, INVALID_VALUE, false)))\n",
    "        if first_player_move == FOLD\n",
    "            return -1\n",
    "        end\n",
    "    end\n",
    "    if first_player_card > second_player_card\n",
    "        score =  1 * (1 + doubled_pot)\n",
    "    else\n",
    "        score = -1 * (1 + doubled_pot)\n",
    "    end\n",
    "    round_record = (round_history, score)\n",
    "    push!(history, round_record)\n",
    "    return score\n",
    "end"
   ]
  },
  {
   "cell_type": "code",
   "execution_count": 70,
   "metadata": {},
   "outputs": [
    {
     "data": {
      "text/plain": [
       "1.0"
      ]
     },
     "execution_count": 70,
     "metadata": {},
     "output_type": "execute_result"
    }
   ],
   "source": [
    "simulate_check(KING, 1)"
   ]
  },
  {
   "cell_type": "code",
   "execution_count": 71,
   "metadata": {},
   "outputs": [
    {
     "data": {
      "text/plain": [
       "game (generic function with 2 methods)"
      ]
     },
     "execution_count": 71,
     "metadata": {},
     "output_type": "execute_result"
    }
   ],
   "source": [
    "function game(num_of_rounds = 10)\n",
    "    total_score = 0\n",
    "    history = []\n",
    "    for i in 1:num_of_rounds\n",
    "        first_player_card, second_player_card = sample(FULL_DECK, 2; replace=false)\n",
    "        score = round(first_player_card, second_player_card, history)\n",
    "        total_score += score\n",
    "    end\n",
    "#     print(history)\n",
    "    avg_score = total_score / num_of_rounds\n",
    "    return avg_score\n",
    "end"
   ]
  },
  {
   "cell_type": "code",
   "execution_count": 87,
   "metadata": {},
   "outputs": [
    {
     "data": {
      "text/plain": [
       "-0.173"
      ]
     },
     "execution_count": 87,
     "metadata": {},
     "output_type": "execute_result"
    }
   ],
   "source": [
    "game(1000)"
   ]
  },
  {
   "cell_type": "code",
   "execution_count": 73,
   "metadata": {},
   "outputs": [
    {
     "data": {
      "text/plain": [
       "2-element Array{Float64,1}:\n",
       " 0.34625784765015727\n",
       " 0.6537421523498427"
      ]
     },
     "execution_count": 73,
     "metadata": {},
     "output_type": "execute_result"
    }
   ],
   "source": [
    "compute_policy_check_or_bet(JACK)"
   ]
  },
  {
   "cell_type": "code",
   "execution_count": 74,
   "metadata": {},
   "outputs": [
    {
     "data": {
      "text/plain": [
       "2-element Array{Float64,1}:\n",
       " 0.36749898541023246\n",
       " 0.6325010145897675"
      ]
     },
     "execution_count": 74,
     "metadata": {},
     "output_type": "execute_result"
    }
   ],
   "source": [
    "compute_policy_check_or_bet(QUEEN)"
   ]
  },
  {
   "cell_type": "code",
   "execution_count": 75,
   "metadata": {},
   "outputs": [
    {
     "data": {
      "text/plain": [
       "(1430.2870634112166, 1500.0)"
      ]
     },
     "execution_count": 75,
     "metadata": {},
     "output_type": "execute_result"
    }
   ],
   "source": [
    "simulate_check(KING, 1000), simulate_bet(KING, 1000)"
   ]
  },
  {
   "cell_type": "code",
   "execution_count": 76,
   "metadata": {},
   "outputs": [
    {
     "data": {
      "text/plain": [
       "(-1135.5292893150024, -500.0)"
      ]
     },
     "execution_count": 76,
     "metadata": {},
     "output_type": "execute_result"
    }
   ],
   "source": [
    "simulate_check(JACK, 1000), simulate_bet(JACK, 1000)"
   ]
  },
  {
   "cell_type": "code",
   "execution_count": 77,
   "metadata": {},
   "outputs": [
    {
     "data": {
      "text/plain": [
       "(-159.29431499804704, 468.0)"
      ]
     },
     "execution_count": 77,
     "metadata": {},
     "output_type": "execute_result"
    }
   ],
   "source": [
    "simulate_check(QUEEN, 1000), simulate_bet(QUEEN, 1000)"
   ]
  },
  {
   "cell_type": "code",
   "execution_count": 78,
   "metadata": {},
   "outputs": [
    {
     "data": {
      "text/plain": [
       "2-element Array{Float64,1}:\n",
       " 0.48257882070443564\n",
       " 0.5174211792955642"
      ]
     },
     "execution_count": 78,
     "metadata": {},
     "output_type": "execute_result"
    }
   ],
   "source": [
    "compute_policy_check_or_bet(KING)"
   ]
  },
  {
   "cell_type": "code",
   "execution_count": 79,
   "metadata": {},
   "outputs": [
    {
     "data": {
      "text/plain": [
       "2-element Array{Float64,1}:\n",
       " 0.7310585786300049\n",
       " 0.2689414213699951"
      ]
     },
     "execution_count": 79,
     "metadata": {},
     "output_type": "execute_result"
    }
   ],
   "source": [
    "compute_policy_fold_or_call(JACK)"
   ]
  },
  {
   "cell_type": "code",
   "execution_count": 80,
   "metadata": {},
   "outputs": [
    {
     "data": {
      "text/plain": [
       "2-element Array{Float64,1}:\n",
       " 0.26580728400862635\n",
       " 0.7341927159913737"
      ]
     },
     "execution_count": 80,
     "metadata": {},
     "output_type": "execute_result"
    }
   ],
   "source": [
    "compute_policy_fold_or_call(QUEEN)"
   ]
  },
  {
   "cell_type": "code",
   "execution_count": 81,
   "metadata": {},
   "outputs": [
    {
     "data": {
      "text/plain": [
       "2-element Array{Float64,1}:\n",
       " 0.04742587317756678\n",
       " 0.9525741268224331"
      ]
     },
     "execution_count": 81,
     "metadata": {},
     "output_type": "execute_result"
    }
   ],
   "source": [
    "compute_policy_fold_or_call(KING)"
   ]
  },
  {
   "cell_type": "code",
   "execution_count": null,
   "metadata": {},
   "outputs": [],
   "source": []
  }
 ],
 "metadata": {
  "kernelspec": {
   "display_name": "Julia 1.5.3",
   "language": "julia",
   "name": "julia-1.5"
  },
  "language_info": {
   "file_extension": ".jl",
   "mimetype": "application/julia",
   "name": "julia",
   "version": "1.5.3"
  }
 },
 "nbformat": 4,
 "nbformat_minor": 4
}
