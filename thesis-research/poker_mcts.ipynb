{
 "cells": [
  {
   "cell_type": "code",
   "execution_count": 21,
   "metadata": {},
   "outputs": [],
   "source": [
    "using StatsBase"
   ]
  },
  {
   "cell_type": "markdown",
   "metadata": {},
   "source": [
    "### In This Notebook i will implement simple MCTS Algorithm to player Poker"
   ]
  },
  {
   "cell_type": "code",
   "execution_count": 2,
   "metadata": {},
   "outputs": [],
   "source": [
    "struct Node\n",
    "    children::Array{Node}\n",
    "end"
   ]
  },
  {
   "cell_type": "code",
   "execution_count": 3,
   "metadata": {},
   "outputs": [],
   "source": [
    "struct MCTSTree\n",
    "    root::Node\n",
    "end"
   ]
  },
  {
   "cell_type": "code",
   "execution_count": null,
   "metadata": {},
   "outputs": [],
   "source": [
    "function is_leaf(node::Node)\n",
    "   return true \n",
    "end"
   ]
  },
  {
   "cell_type": "code",
   "execution_count": 4,
   "metadata": {},
   "outputs": [
    {
     "data": {
      "text/plain": [
       "selection (generic function with 1 method)"
      ]
     },
     "execution_count": 4,
     "metadata": {},
     "output_type": "execute_result"
    }
   ],
   "source": [
    "function selection(current_game_state::Node)\n",
    "    if !is_leaf(current_game_state)\n",
    "        \n",
    "    end\n",
    "end"
   ]
  },
  {
   "cell_type": "code",
   "execution_count": 5,
   "metadata": {},
   "outputs": [
    {
     "data": {
      "text/plain": [
       "simulate (generic function with 1 method)"
      ]
     },
     "execution_count": 5,
     "metadata": {},
     "output_type": "execute_result"
    }
   ],
   "source": [
    "function simulate(action, computation_budget::Int)\n",
    "    next_stage(action)\n",
    "    for i in 1:computation_budget \n",
    "        select()\n",
    "    end\n",
    "end"
   ]
  },
  {
   "cell_type": "markdown",
   "metadata": {},
   "source": [
    "How to compute the policy at each DecisionNode.<br>\n",
    "We want to compute the policy that maximaizes the expectation of reward<br>\n",
    "At each DecisionNode we will expand the action and simulate the affect on the reward rewards / num_of_visit<br>\n",
    "When the player needs to take an action - it will build the whole computation tree, and will sample from the vector<br>"
   ]
  },
  {
   "cell_type": "code",
   "execution_count": 7,
   "metadata": {},
   "outputs": [
    {
     "data": {
      "text/plain": [
       "-10"
      ]
     },
     "execution_count": 7,
     "metadata": {},
     "output_type": "execute_result"
    }
   ],
   "source": [
    "INVALID_VALUE = -10"
   ]
  },
  {
   "cell_type": "code",
   "execution_count": 9,
   "metadata": {},
   "outputs": [
    {
     "data": {
      "text/plain": [
       "3-element Array{Int64,1}:\n",
       " 1\n",
       " 2\n",
       " 3"
      ]
     },
     "execution_count": 9,
     "metadata": {},
     "output_type": "execute_result"
    }
   ],
   "source": [
    "JACK = 1\n",
    "QUEEN = 2\n",
    "KING = 3\n",
    "FULL_DECK = [JACK, QUEEN, KING]"
   ]
  },
  {
   "cell_type": "code",
   "execution_count": 10,
   "metadata": {},
   "outputs": [
    {
     "data": {
      "text/plain": [
       "3-element Array{Int64,1}:\n",
       " -1\n",
       "  0\n",
       "  1"
      ]
     },
     "execution_count": 10,
     "metadata": {},
     "output_type": "execute_result"
    }
   ],
   "source": [
    "FOLD = -1\n",
    "CHECK = 0\n",
    "BET = 1\n",
    "ACTIONS = [FOLD, CHECK, BET]"
   ]
  },
  {
   "cell_type": "code",
   "execution_count": 93,
   "metadata": {},
   "outputs": [
    {
     "data": {
      "text/plain": [
       "simulate_check (generic function with 1 method)"
      ]
     },
     "execution_count": 93,
     "metadata": {},
     "output_type": "execute_result"
    }
   ],
   "source": [
    "function simulate_check(card, num_of_simulations)\n",
    "    num_of_simulations_for_check = Int(ceil(num_of_simulations / 2))\n",
    "    num_of_simulations_for_bet = num_of_simulations - num_of_simulations_for_check\n",
    "    \n",
    "    # Opp Checks also\n",
    "    optional_cards = setdiff(FULL_DECK, [card])\n",
    "    opp_cards = sample(optional_cards, num_of_simulations_for_check)\n",
    "    my_cards = repeat([card], num_of_simulations_for_check)\n",
    "    rewards = my_cards .> opp_cards\n",
    "    rewards_check = sum(rewards * 2 .- 1)\n",
    "    \n",
    "    # Opp bets\n",
    "    p_fold, p_call = compute_policy_fold_or_call(card)\n",
    "    r_bet_fold = num_of_simulations_for_bet * p_fold * -1\n",
    "    r_bet_call = simulate_call(card, Int(ceil(num_of_simulations_for_bet * p_call)))\n",
    "    \n",
    "    return rewards_check + r_bet_fold + r_bet_call\n",
    "end"
   ]
  },
  {
   "cell_type": "code",
   "execution_count": 119,
   "metadata": {},
   "outputs": [
    {
     "data": {
      "text/plain": [
       "14288.870634112165"
      ]
     },
     "execution_count": 119,
     "metadata": {},
     "output_type": "execute_result"
    }
   ],
   "source": [
    "simulate_check(KING, 10000)"
   ]
  },
  {
   "cell_type": "code",
   "execution_count": 62,
   "metadata": {},
   "outputs": [
    {
     "data": {
      "text/plain": [
       "simulate_bet (generic function with 1 method)"
      ]
     },
     "execution_count": 62,
     "metadata": {},
     "output_type": "execute_result"
    }
   ],
   "source": [
    "function simulate_bet(card, num_of_simulations)\n",
    "    # TODO - the division should be accroding the probability to call or fold\n",
    "    rewards_call = simulate_call(card , Int(floor(num_of_simulations / 2)))\n",
    "    rewards_fold = 1 * ceil(num_of_simulations / 2)\n",
    "    return rewards_call + rewards_fold\n",
    "end"
   ]
  },
  {
   "cell_type": "code",
   "execution_count": 64,
   "metadata": {},
   "outputs": [
    {
     "data": {
      "text/plain": [
       "simulate_call (generic function with 1 method)"
      ]
     },
     "execution_count": 64,
     "metadata": {},
     "output_type": "execute_result"
    }
   ],
   "source": [
    "function simulate_call(card, num_of_simulations)\n",
    "    optional_cards = setdiff(FULL_DECK, [card])\n",
    "    opp_cards = sample(optional_cards, num_of_simulations)\n",
    "    my_cards = repeat([card], num_of_simulations)\n",
    "    rewards = my_cards .> opp_cards\n",
    "    rewards = rewards * 2 .- 1\n",
    "    return sum(rewards * 2) # bet was on\n",
    "end"
   ]
  },
  {
   "cell_type": "code",
   "execution_count": 147,
   "metadata": {},
   "outputs": [
    {
     "data": {
      "text/plain": [
       "compute_policy_check_or_bet (generic function with 1 method)"
      ]
     },
     "execution_count": 147,
     "metadata": {},
     "output_type": "execute_result"
    }
   ],
   "source": [
    "function compute_policy_check_or_bet(card)\n",
    "    num_of_simulations = 1000\n",
    "    total_reward_bet = simulate_bet(card, num_of_simulations)\n",
    "    total_reward_check = simulate_check(card, num_of_simulations)\n",
    "    r_check, r_bet =  total_reward_check / num_of_simulations, total_reward_bet / num_of_simulations\n",
    "    q_check, q_bet = exp(r_check), exp(r_bet)\n",
    "    z = q_check + q_bet\n",
    "    return [q_check / z, q_bet / z ]\n",
    "end"
   ]
  },
  {
   "cell_type": "code",
   "execution_count": 148,
   "metadata": {},
   "outputs": [
    {
     "data": {
      "text/plain": [
       "compute_policy_fold_or_call (generic function with 1 method)"
      ]
     },
     "execution_count": 148,
     "metadata": {},
     "output_type": "execute_result"
    }
   ],
   "source": [
    "function compute_policy_fold_or_call(card)\n",
    "    num_of_simulations = 1000\n",
    "    total_reward_fold = -1 * num_of_simulations\n",
    "    total_reward_call = simulate_call(card, num_of_simulations)\n",
    "    r_fold, r_call = total_reward_fold / num_of_simulations, total_reward_call / num_of_simulations\n",
    "    q_fold, q_call = exp(r_fold), exp(r_call)\n",
    "    z = q_fold + q_call\n",
    "    return [q_fold / z, q_call / z]\n",
    "end"
   ]
  },
  {
   "cell_type": "code",
   "execution_count": 13,
   "metadata": {},
   "outputs": [
    {
     "data": {
      "text/plain": [
       "compute_policy (generic function with 2 methods)"
      ]
     },
     "execution_count": 13,
     "metadata": {},
     "output_type": "execute_result"
    }
   ],
   "source": [
    "function compute_policy(card, previous_player_betted=false)\n",
    "    if previous_player_betted\n",
    "        return compute_policy_fold_or_call(card)\n",
    "    else\n",
    "        return compute_policy_check_or_bet(card) \n",
    "    end\n",
    "end"
   ]
  },
  {
   "cell_type": "code",
   "execution_count": 125,
   "metadata": {},
   "outputs": [
    {
     "data": {
      "text/plain": [
       "sample_check_bet (generic function with 1 method)"
      ]
     },
     "execution_count": 125,
     "metadata": {},
     "output_type": "execute_result"
    }
   ],
   "source": [
    "function sample_check_bet(policy)\n",
    "   sample([CHECK,BET], Weights(policy)) \n",
    "end"
   ]
  },
  {
   "cell_type": "code",
   "execution_count": 150,
   "metadata": {},
   "outputs": [
    {
     "data": {
      "text/plain": [
       "sample_fold_call (generic function with 1 method)"
      ]
     },
     "execution_count": 150,
     "metadata": {},
     "output_type": "execute_result"
    }
   ],
   "source": [
    "function sample_fold_call(policy)\n",
    "   sample([FOLD,CHECK], Weights(policy)) \n",
    "end"
   ]
  },
  {
   "cell_type": "code",
   "execution_count": 138,
   "metadata": {},
   "outputs": [
    {
     "data": {
      "text/plain": [
       "sample_action (generic function with 2 methods)"
      ]
     },
     "execution_count": 138,
     "metadata": {},
     "output_type": "execute_result"
    }
   ],
   "source": [
    "function sample_action(policy, previous_player_betted=false)\n",
    "    if previous_player_betted\n",
    "        return sample_fold_call(policy)\n",
    "    else\n",
    "        return sample_check_bet(policy) \n",
    "    end\n",
    "end"
   ]
  },
  {
   "cell_type": "code",
   "execution_count": 142,
   "metadata": {},
   "outputs": [
    {
     "data": {
      "text/plain": [
       "round (generic function with 2 methods)"
      ]
     },
     "execution_count": 142,
     "metadata": {},
     "output_type": "execute_result"
    }
   ],
   "source": [
    "function round(first_player_card, second_player_card, history)\n",
    "    score = 0\n",
    "    \n",
    "    first_player_policy = compute_policy(first_player_card)\n",
    "    first_player_move = sample_action(first_player_policy)\n",
    "    \n",
    "    second_player_policy  = compute_policy(second_player_card, first_player_move == BET)\n",
    "    second_player_move = sample_action(second_player_policy, first_player_move == BET)\n",
    "    \n",
    "    round_history = [((first_player_card, first_player_move, false), (second_player_card, second_player_move, first_player_move == BET))]\n",
    "    \n",
    "    doubled_pot = first_player_move == BET || second_player_move == BET\n",
    "    if second_player_move == FOLD\n",
    "        round_record = (round_history, 1)\n",
    "        push!(history, round_record)\n",
    "        return 1\n",
    "    end\n",
    "    if second_player_move == BET\n",
    "        doubled_pot = true\n",
    "        first_player_policy = compute_policy(first_player_card, second_player_move == BET)\n",
    "        first_player_move = sample_action(first_player_policy, second_player_move == BET)\n",
    "        \n",
    "        push!(round_history, ((first_player_card, first_player_move, false),(INVALID_VALUE, INVALID_VALUE, false)))\n",
    "        if first_player_move == FOLD\n",
    "            return -1\n",
    "        end\n",
    "    end\n",
    "    if first_player_card > second_player_card\n",
    "        score =  1 * (1 + doubled_pot)\n",
    "    else\n",
    "        score = -1 * (1 + doubled_pot)\n",
    "    end\n",
    "    round_record = (round_history, score)\n",
    "    push!(history, round_record)\n",
    "    return score\n",
    "end"
   ]
  },
  {
   "cell_type": "code",
   "execution_count": 152,
   "metadata": {},
   "outputs": [
    {
     "data": {
      "text/plain": [
       "game (generic function with 2 methods)"
      ]
     },
     "execution_count": 152,
     "metadata": {},
     "output_type": "execute_result"
    }
   ],
   "source": [
    "function game(num_of_rounds = 10)\n",
    "    total_score = 0\n",
    "    history = []\n",
    "    for i in 1:num_of_rounds\n",
    "        first_player_card, second_player_card = sample(FULL_DECK, 2; replace=false)\n",
    "        score = round(first_player_card, second_player_card, history)\n",
    "        total_score += score\n",
    "    end\n",
    "#     print(history)\n",
    "    avg_score = total_score / num_of_rounds\n",
    "    return avg_score\n",
    "end"
   ]
  },
  {
   "cell_type": "code",
   "execution_count": 154,
   "metadata": {},
   "outputs": [
    {
     "data": {
      "text/plain": [
       "-0.0314"
      ]
     },
     "execution_count": 154,
     "metadata": {},
     "output_type": "execute_result"
    }
   ],
   "source": [
    "game(10000)"
   ]
  },
  {
   "cell_type": "code",
   "execution_count": null,
   "metadata": {},
   "outputs": [],
   "source": []
  }
 ],
 "metadata": {
  "kernelspec": {
   "display_name": "Julia 1.5.3",
   "language": "julia",
   "name": "julia-1.5"
  },
  "language_info": {
   "file_extension": ".jl",
   "mimetype": "application/julia",
   "name": "julia",
   "version": "1.5.3"
  }
 },
 "nbformat": 4,
 "nbformat_minor": 4
}
