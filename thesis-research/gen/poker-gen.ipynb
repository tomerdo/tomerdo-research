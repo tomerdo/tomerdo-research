{
 "cells": [
  {
   "cell_type": "code",
   "execution_count": 43,
   "metadata": {},
   "outputs": [],
   "source": [
    "using Gen, Plots"
   ]
  },
  {
   "cell_type": "markdown",
   "metadata": {},
   "source": [
    "## In this notebook we will implement a  Theory Of Mind agents on a version of Poker"
   ]
  },
  {
   "cell_type": "markdown",
   "metadata": {},
   "source": [
    "Kuhn poker is an extremely simplified form of poker developed by Harold W. Kuhn as a simple model zero-sum two-player imperfect-information game, amenable to a complete game-theoretic analysis. In Kuhn poker, the deck includes only three playing cards, for example a King, Queen, and Jack. One card is dealt to each player, which may place bets similarly to a standard poker. If both players bet or both players pass, the player with the higher card wins, otherwise, the betting player wins."
   ]
  },
  {
   "cell_type": "markdown",
   "metadata": {},
   "source": [
    "#### Rules"
   ]
  },
  {
   "cell_type": "markdown",
   "metadata": {},
   "source": [
    "In conventional poker terms, a game of Kuhn poker proceeds as follows:\n",
    "\n",
    "Each player antes 1.\n",
    "Each player is dealt one of the three cards, and the third is put aside unseen.\n",
    "Player one can check or bet 1.\n",
    "* If player one checks then player two can check or bet 1.\n",
    "    * If player two checks there is a showdown for the pot of 2 (i.e. the higher card wins 1 from the other player).\n",
    "    * If player two bets then player one can fold or call.\n",
    "        * If player one folds then player two takes the pot of 3 (i.e. winning 1 from player 1).\n",
    "        * If player one calls there is a showdown for the pot of 4 (i.e. the higher card wins 2 from the other player).\n",
    "* If player one bets then player two can fold or call.\n",
    "    * If player two folds then player one takes the pot of 3 (i.e. winning 1 from player 2).\n",
    "    * If player two calls there is a showdown for the pot of 4 (i.e. the higher card wins 2 from the other player)."
   ]
  },
  {
   "cell_type": "markdown",
   "metadata": {},
   "source": [
    "#### Optimal strategy\n"
   ]
  },
  {
   "cell_type": "markdown",
   "metadata": {},
   "source": [
    "The game has a mixed-strategy Nash equilibrium; when both players play equilibrium strategies, the first player should expect to lose at a rate of −1/18 per hand (as the game is zero-sum, the second player should expect to win at a rate of +1/18). There is no pure-strategy equilibrium.\n",
    "\n",
    "Kuhn demonstrated there are infinitely many equilibrium strategies for the first player, forming a continuum governed by a single parameter. In one possible formulation, player one freely chooses the probability $\\alpha$ $\\in$ [0,1/3] with which he will bet when having a Jack (otherwise he checks; if the other player bets, he should always fold). When having a King, he should bet with the probability of $3\\alpha$ (otherwise he checks; if the other player bets, he should always call). He should always check when having a Queen, and if the other player bets after this check, he should call with the probability of $\\alpha$ +1/3.\n",
    "\n",
    "The second player has a single equilibrium strategy: Always betting or calling when having a King; when having a Queen, checking if possible, otherwise calling with the probability of 1/3; when having a Jack, never calling and betting with the probability of 1/3."
   ]
  },
  {
   "cell_type": "code",
   "execution_count": 44,
   "metadata": {},
   "outputs": [
    {
     "data": {
      "text/plain": [
       "3-element Array{Int64,1}:\n",
       " 1\n",
       " 2\n",
       " 3"
      ]
     },
     "execution_count": 44,
     "metadata": {},
     "output_type": "execute_result"
    }
   ],
   "source": [
    "JACK = 1\n",
    "QUEEN = 2\n",
    "KING = 3\n",
    "FULL_DECK = [JACK, QUEEN, KING]"
   ]
  },
  {
   "cell_type": "code",
   "execution_count": 45,
   "metadata": {},
   "outputs": [
    {
     "data": {
      "text/plain": [
       "3-element Array{Int64,1}:\n",
       " 1\n",
       " 2\n",
       " 3"
      ]
     },
     "execution_count": 45,
     "metadata": {},
     "output_type": "execute_result"
    }
   ],
   "source": [
    "FOLD = 1\n",
    "CHECK = 2\n",
    "BET = 3\n",
    "ACTIONS = [FOLD, CHECK, BET]"
   ]
  },
  {
   "cell_type": "code",
   "execution_count": 46,
   "metadata": {},
   "outputs": [
    {
     "data": {
      "text/plain": [
       "2-element Array{Int64,1}:\n",
       " 1\n",
       " 2"
      ]
     },
     "execution_count": 46,
     "metadata": {},
     "output_type": "execute_result"
    }
   ],
   "source": [
    "NO_BET_STAGE = 1\n",
    "BET_STAGE = 2\n",
    "BETTING_STAGES = [NO_BET_STAGE, BET_STAGE]"
   ]
  },
  {
   "cell_type": "code",
   "execution_count": 47,
   "metadata": {},
   "outputs": [
    {
     "data": {
      "text/plain": [
       "3×3×2 Array{Float64,3}:\n",
       "[:, :, 1] =\n",
       " 0.0  0.5  0.5\n",
       " 0.0  0.5  0.5\n",
       " 0.0  0.5  0.5\n",
       "\n",
       "[:, :, 2] =\n",
       " 0.5  0.5  0.0\n",
       " 0.5  0.5  0.0\n",
       " 0.5  0.5  0.0"
      ]
     },
     "execution_count": 47,
     "metadata": {},
     "output_type": "execute_result"
    }
   ],
   "source": [
    "transition_matrix = ones((length(FULL_DECK), length(ACTIONS), length(BETTING_STAGES))) / 2\n",
    "transition_matrix[:,FOLD, NO_BET_STAGE] .= 0\n",
    "transition_matrix[:,BET,BET_STAGE] .= 0\n",
    "transition_matrix"
   ]
  },
  {
   "cell_type": "code",
   "execution_count": 48,
   "metadata": {},
   "outputs": [],
   "source": [
    "struct PokerPlayer\n",
    "    name::String\n",
    "    card::Int\n",
    "    transition_matrix::Array{Float64,3}\n",
    "end"
   ]
  },
  {
   "cell_type": "code",
   "execution_count": 63,
   "metadata": {},
   "outputs": [],
   "source": [
    "struct GameStage1\n",
    "    bet_stage::Int\n",
    "end"
   ]
  },
  {
   "cell_type": "code",
   "execution_count": 49,
   "metadata": {},
   "outputs": [
    {
     "data": {
      "text/plain": [
       "reward (generic function with 1 method)"
      ]
     },
     "execution_count": 49,
     "metadata": {},
     "output_type": "execute_result"
    }
   ],
   "source": [
    "function reward(my_card::Int, buddy_card::Int)\n",
    "    return my_card > buddy_card ? 1 : -1\n",
    "end"
   ]
  },
  {
   "cell_type": "code",
   "execution_count": 50,
   "metadata": {},
   "outputs": [
    {
     "data": {
      "text/plain": [
       "agent (generic function with 2 methods)"
      ]
     },
     "execution_count": 50,
     "metadata": {},
     "output_type": "execute_result"
    }
   ],
   "source": [
    "function agent(me::PokerPlayer, buddy::PokerPlayer, game_stage::GameStage1 depth = 0)\n",
    "    my_card = me.card\n",
    "    buddy_card = buddy.card\n",
    "    \n",
    "    my_transition_matrix = me.transition_matrix\n",
    "    buddy_transition_matrix = buddy.transition_matrix\n",
    "    \n",
    "    my_transition_matrix_for_card = my_transition_matrix[my_card, :, game_stage.bet_stage]\n",
    "    \n",
    "    buddy_transition_matrix_for_card = buddy_transition_matrix[buddy_card, :, :]\n",
    "    \n",
    "    if depth > 0\n",
    "        me_no_bet = agent(buddy, me, GameStage(NO_BET_STAGE), depth -1)\n",
    "        me_bet =  agent(buddy, me, GameStage(BET), depth -1)\n",
    "        buddy_transition_matrix = my_transition_matrix[CHECK]*me_no_bet + my_transition_matrix[bet]*me_bet\n",
    "    end\n",
    "    \n",
    "    # Computing expectimax\n",
    "    r_fold = -1\n",
    "    \n",
    "    if game_stage.bet_stage == NO_BET_STAGE\n",
    "        r_check_without_bet = buddy_transition_matrix_for_card[FOLD][NO_BET_STAGE] * 1  + buddy_transition_matrix_for_card[CHECK][NO_BET_STAGE] * reward(my_card, buddy_card)\n",
    "        r_check_with_bet = buddy_transition_matrix_for_card[BET, NO_BET_STAGE]*(my_transition_matrix_for_card[FOLD, BET_STAGE]*-1 + my_transition_matrix_for_card[CHECK, BET_STAGE]*reward(my_card, buddy_card) * 2)\n",
    "        r_check = r_check_without_bet + r_check_with_bet\n",
    "        r_bet = buddy_transition_matrix_for_card[FOLD, BET_STAGE] * 1 + buddy_transition_matrix_for_card[CHECK, NO_BET_STAGE] * 2 * reward(my_card, buddy_card)\n",
    "        \n",
    "        # Softmax\n",
    "        _, q2, q3 = 0, exp(r_check), exp(r_bet)\n",
    "        z = q2 + q3\n",
    "        p_fold, p_check, p_bet = 0, q2/z, q3/z\n",
    "    else  \n",
    "        #BET Stage\n",
    "        r_check = 2 * reward(my_card, buddy_card)\n",
    "        \n",
    "        # Softmax\n",
    "        q1, q2, _ = exp(r_fold), exp(r_check), 0\n",
    "        z = q1 + q2\n",
    "        p_fold, p_check, p_bet = q1/z, q2/z, 0\n",
    "    end\n",
    "    return p_fold, p_check, p_bet    \n",
    "end"
   ]
  },
  {
   "cell_type": "code",
   "execution_count": 52,
   "metadata": {},
   "outputs": [
    {
     "data": {
      "text/plain": [
       "(0.29175596372884977, 0.22721977301778057, 0.48102426325336967)"
      ]
     },
     "execution_count": 52,
     "metadata": {},
     "output_type": "execute_result"
    }
   ],
   "source": [
    "agent(PokerPlayer(\"alice\", JACK, transition_matrix), PokerPlayer(\"bob\", KING, transition_matrix) ,0)"
   ]
  },
  {
   "cell_type": "code",
   "execution_count": 53,
   "metadata": {},
   "outputs": [
    {
     "data": {
      "text/plain": [
       "(0.29175596372884977, 0.22721977301778057, 0.48102426325336967)"
      ]
     },
     "execution_count": 53,
     "metadata": {},
     "output_type": "execute_result"
    }
   ],
   "source": [
    "agent(PokerPlayer(\"alice\", JACK, transition_matrix), PokerPlayer(\"bob\", KING, transition_matrix) ,0)"
   ]
  },
  {
   "cell_type": "code",
   "execution_count": 54,
   "metadata": {},
   "outputs": [
    {
     "data": {
      "text/plain": [
       "(0.29175596372884977, 0.22721977301778057, 0.48102426325336967)"
      ]
     },
     "execution_count": 54,
     "metadata": {},
     "output_type": "execute_result"
    }
   ],
   "source": [
    "agent(PokerPlayer(\"alice\", JACK, transition_matrix), PokerPlayer(\"bob\", QUEEN, transition_matrix) ,0)"
   ]
  },
  {
   "cell_type": "code",
   "execution_count": 55,
   "metadata": {},
   "outputs": [
    {
     "data": {
      "text/plain": [
       "(0.05280640528926272, 0.3038798811878344, 0.6433137135229029)"
      ]
     },
     "execution_count": 55,
     "metadata": {},
     "output_type": "execute_result"
    }
   ],
   "source": [
    "agent(PokerPlayer(\"alice\", QUEEN, transition_matrix), PokerPlayer(\"bob\", JACK, transition_matrix) ,0)"
   ]
  },
  {
   "cell_type": "code",
   "execution_count": 56,
   "metadata": {},
   "outputs": [
    {
     "data": {
      "text/plain": [
       "(0.29175596372884977, 0.22721977301778057, 0.48102426325336967)"
      ]
     },
     "execution_count": 56,
     "metadata": {},
     "output_type": "execute_result"
    }
   ],
   "source": [
    "agent(PokerPlayer(\"alice\", QUEEN, transition_matrix), PokerPlayer(\"bob\", KING, transition_matrix) ,0)"
   ]
  },
  {
   "cell_type": "code",
   "execution_count": 57,
   "metadata": {},
   "outputs": [
    {
     "data": {
      "text/plain": [
       "(0.05280640528926272, 0.3038798811878344, 0.6433137135229029)"
      ]
     },
     "execution_count": 57,
     "metadata": {},
     "output_type": "execute_result"
    }
   ],
   "source": [
    "agent(PokerPlayer(\"alice\", KING, transition_matrix), PokerPlayer(\"bob\", JACK, transition_matrix) ,0)"
   ]
  },
  {
   "cell_type": "code",
   "execution_count": 58,
   "metadata": {},
   "outputs": [
    {
     "data": {
      "text/plain": [
       "(0.05280640528926272, 0.3038798811878344, 0.6433137135229029)"
      ]
     },
     "execution_count": 58,
     "metadata": {},
     "output_type": "execute_result"
    }
   ],
   "source": [
    "agent(PokerPlayer(\"alice\", KING, transition_matrix), PokerPlayer(\"bob\", QUEEN, transition_matrix) ,0)"
   ]
  },
  {
   "cell_type": "code",
   "execution_count": null,
   "metadata": {},
   "outputs": [],
   "source": []
  },
  {
   "cell_type": "code",
   "execution_count": null,
   "metadata": {},
   "outputs": [],
   "source": []
  }
 ],
 "metadata": {
  "kernelspec": {
   "display_name": "Julia 1.5.3",
   "language": "julia",
   "name": "julia-1.5"
  },
  "language_info": {
   "file_extension": ".jl",
   "mimetype": "application/julia",
   "name": "julia",
   "version": "1.5.3"
  }
 },
 "nbformat": 4,
 "nbformat_minor": 4
}
