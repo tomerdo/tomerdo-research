{
 "cells": [
  {
   "cell_type": "code",
   "execution_count": 64,
   "metadata": {},
   "outputs": [],
   "source": [
    "using Gen, Plots"
   ]
  },
  {
   "cell_type": "markdown",
   "metadata": {},
   "source": [
    "## In this notebook we will implement a  Theory Of Mind agents on a version of Poker"
   ]
  },
  {
   "cell_type": "markdown",
   "metadata": {},
   "source": [
    "Kuhn poker is an extremely simplified form of poker developed by Harold W. Kuhn as a simple model zero-sum two-player imperfect-information game, amenable to a complete game-theoretic analysis. In Kuhn poker, the deck includes only three playing cards, for example a King, Queen, and Jack. One card is dealt to each player, which may place bets similarly to a standard poker. If both players bet or both players pass, the player with the higher card wins, otherwise, the betting player wins."
   ]
  },
  {
   "cell_type": "markdown",
   "metadata": {},
   "source": [
    "#### Rules"
   ]
  },
  {
   "cell_type": "markdown",
   "metadata": {},
   "source": [
    "In conventional poker terms, a game of Kuhn poker proceeds as follows:\n",
    "\n",
    "Each player antes 1.\n",
    "Each player is dealt one of the three cards, and the third is put aside unseen.\n",
    "Player one can check or bet 1.\n",
    "* If player one checks then player two can check or bet 1.\n",
    "    * If player two checks there is a showdown for the pot of 2 (i.e. the higher card wins 1 from the other player).\n",
    "    * If player two bets then player one can fold or call.\n",
    "        * If player one folds then player two takes the pot of 3 (i.e. winning 1 from player 1).\n",
    "        * If player one calls there is a showdown for the pot of 4 (i.e. the higher card wins 2 from the other player).\n",
    "* If player one bets then player two can fold or call.\n",
    "    * If player two folds then player one takes the pot of 3 (i.e. winning 1 from player 2).\n",
    "    * If player two calls there is a showdown for the pot of 4 (i.e. the higher card wins 2 from the other player)."
   ]
  },
  {
   "cell_type": "markdown",
   "metadata": {},
   "source": [
    "#### Optimal strategy\n"
   ]
  },
  {
   "cell_type": "markdown",
   "metadata": {},
   "source": [
    "The game has a mixed-strategy Nash equilibrium; when both players play equilibrium strategies, the first player should expect to lose at a rate of −1/18 per hand (as the game is zero-sum, the second player should expect to win at a rate of +1/18). There is no pure-strategy equilibrium.\n",
    "\n",
    "Kuhn demonstrated there are infinitely many equilibrium strategies for the first player, forming a continuum governed by a single parameter. In one possible formulation, player one freely chooses the probability $\\alpha$ $\\in$ [0,1/3] with which he will bet when having a Jack (otherwise he checks; if the other player bets, he should always fold). When having a King, he should bet with the probability of $3\\alpha$ (otherwise he checks; if the other player bets, he should always call). He should always check when having a Queen, and if the other player bets after this check, he should call with the probability of $\\alpha$ +1/3.\n",
    "\n",
    "The second player has a single equilibrium strategy: Always betting or calling when having a King; when having a Queen, checking if possible, otherwise calling with the probability of 1/3; when having a Jack, never calling and betting with the probability of 1/3."
   ]
  },
  {
   "cell_type": "code",
   "execution_count": 65,
   "metadata": {},
   "outputs": [
    {
     "data": {
      "text/plain": [
       "3-element Array{Int64,1}:\n",
       " 1\n",
       " 2\n",
       " 3"
      ]
     },
     "execution_count": 65,
     "metadata": {},
     "output_type": "execute_result"
    }
   ],
   "source": [
    "JACK = 1\n",
    "QUEEN = 2\n",
    "KING = 3\n",
    "FULL_DECK = [JACK, QUEEN, KING]"
   ]
  },
  {
   "cell_type": "code",
   "execution_count": 66,
   "metadata": {},
   "outputs": [
    {
     "data": {
      "text/plain": [
       "3-element Array{Int64,1}:\n",
       " 1\n",
       " 2\n",
       " 3"
      ]
     },
     "execution_count": 66,
     "metadata": {},
     "output_type": "execute_result"
    }
   ],
   "source": [
    "FOLD = 1\n",
    "CHECK = 2\n",
    "BET = 3\n",
    "ACTIONS = [FOLD, CHECK, BET]"
   ]
  },
  {
   "cell_type": "code",
   "execution_count": 67,
   "metadata": {},
   "outputs": [
    {
     "data": {
      "text/plain": [
       "2-element Array{Int64,1}:\n",
       " 1\n",
       " 2"
      ]
     },
     "execution_count": 67,
     "metadata": {},
     "output_type": "execute_result"
    }
   ],
   "source": [
    "NO_BET_STAGE = 1\n",
    "BET_STAGE = 2\n",
    "BETTING_STAGES = [NO_BET_STAGE, BET_STAGE]"
   ]
  },
  {
   "cell_type": "markdown",
   "metadata": {},
   "source": [
    "#### The thing we want to learn is the tranisition matrix"
   ]
  },
  {
   "cell_type": "code",
   "execution_count": 174,
   "metadata": {},
   "outputs": [
    {
     "data": {
      "text/plain": [
       "3×3×2 Array{Float64,3}:\n",
       "[:, :, 1] =\n",
       " 0.333333  0.333333  0.333333\n",
       " 0.333333  0.333333  0.333333\n",
       " 0.333333  0.333333  0.333333\n",
       "\n",
       "[:, :, 2] =\n",
       " 0.333333  0.333333  0.333333\n",
       " 0.333333  0.333333  0.333333\n",
       " 0.333333  0.333333  0.333333"
      ]
     },
     "execution_count": 174,
     "metadata": {},
     "output_type": "execute_result"
    }
   ],
   "source": [
    "transition_matrix = ones((length(FULL_DECK), length(ACTIONS), length(BETTING_STAGES))) / 3\n",
    "transition_matrix"
   ]
  },
  {
   "cell_type": "code",
   "execution_count": 69,
   "metadata": {},
   "outputs": [],
   "source": [
    "struct PokerPlayer\n",
    "    name::String\n",
    "    card::Int\n",
    "    transition_matrix::Array{Float64,3}\n",
    "end"
   ]
  },
  {
   "cell_type": "code",
   "execution_count": 82,
   "metadata": {},
   "outputs": [],
   "source": [
    "struct GameStage1\n",
    "    bet_stage::Int\n",
    "end"
   ]
  },
  {
   "cell_type": "code",
   "execution_count": 71,
   "metadata": {},
   "outputs": [
    {
     "data": {
      "text/plain": [
       "reward (generic function with 1 method)"
      ]
     },
     "execution_count": 71,
     "metadata": {},
     "output_type": "execute_result"
    }
   ],
   "source": [
    "function reward(my_card::Int, buddy_card::Int)\n",
    "    return my_card > buddy_card ? 1 : -1\n",
    "end"
   ]
  },
  {
   "cell_type": "code",
   "execution_count": 135,
   "metadata": {},
   "outputs": [
    {
     "data": {
      "text/plain": [
       "reward (generic function with 2 methods)"
      ]
     },
     "execution_count": 135,
     "metadata": {},
     "output_type": "execute_result"
    }
   ],
   "source": [
    "function reward(my_card::Int, buddy_card::Int, my_action::Int, buddy_action::Int)\n",
    "    if my_action == FOLD\n",
    "        return -1\n",
    "    end\n",
    "    if buddy_action == FOLD\n",
    "        return 1\n",
    "    end\n",
    "    \n",
    "    bet_factor = my_action == BET || buddy_action == BET ? 2 : 1\n",
    "    \n",
    "    return bet_factor * reward(my_card, buddy_card)\n",
    "end"
   ]
  },
  {
   "cell_type": "markdown",
   "metadata": {},
   "source": [
    "### We have several ways to model KuhnPoker player,\n",
    "1) we need to represent each transition stage for each player (the probaility to fold when the other player is betted is not equal to the probability when the player not betted)<br>\n",
    "2) The Probaility of the second player is dependet on the action took by the first player.<br>\n",
    "3) When we want to think deeper in Statefull game we need to encode the states in the depth. because otherwise it will give us wrong answers <br>"
   ]
  },
  {
   "cell_type": "code",
   "execution_count": 134,
   "metadata": {},
   "outputs": [],
   "source": [
    "# function agent(me::PokerPlayer, buddy::PokerPlayer, game_stage::GameStage1, depth = 0)\n",
    "#     my_card = me.card\n",
    "#     buddy_card = buddy.card\n",
    "    \n",
    "#     my_transition_matrix = me.transition_matrix\n",
    "#     buddy_transition_matrix = buddy.transition_matrix\n",
    "    \n",
    "#     my_transition_matrix_for_card = my_transition_matrix[my_card, :, game_stage.bet_stage]\n",
    "    \n",
    "#     buddy_transition_matrix_for_card = buddy_transition_matrix[buddy_card, :, :]\n",
    "    \n",
    "#     if depth > 0\n",
    "#         me_no_bet = agent(buddy, me, GameStage(NO_BET_STAGE), depth -1)\n",
    "#         me_bet =  agent(buddy, me, GameStage(BET), depth -1)\n",
    "#         buddy_transition_matrix = my_transition_matrix[CHECK]*me_no_bet + my_transition_matrix[bet]*me_bet\n",
    "#     end\n",
    "    \n",
    "#     # Computing expectimax\n",
    "#     r_fold = -1\n",
    "    \n",
    "#     if game_stage.bet_stage == NO_BET_STAGE\n",
    "#         r_check_without_bet = buddy_transition_matrix_for_card[FOLD][NO_BET_STAGE] * 1  + buddy_transition_matrix_for_card[CHECK][NO_BET_STAGE] * reward(my_card, buddy_card)\n",
    "#         r_check_with_bet = buddy_transition_matrix_for_card[BET, NO_BET_STAGE]*(my_transition_matrix_for_card[FOLD, BET_STAGE]*-1 + my_transition_matrix_for_card[CHECK, BET_STAGE]*reward(my_card, buddy_card) * 2)\n",
    "#         r_check = r_check_without_bet + r_check_with_bet\n",
    "#         r_bet = buddy_transition_matrix_for_card[FOLD, BET_STAGE] * 1 + buddy_transition_matrix_for_card[CHECK, NO_BET_STAGE] * 2 * reward(my_card, buddy_card)\n",
    "        \n",
    "#         # Softmax\n",
    "#         _, q2, q3 = 0, exp(r_check), exp(r_bet)\n",
    "#         z = q2 + q3\n",
    "#         p_fold, p_check, p_bet = 0, q2/z, q3/z\n",
    "#     else  \n",
    "#         #BET Stage\n",
    "#         r_check = 2 * reward(my_card, buddy_card)\n",
    "        \n",
    "#         # Softmax\n",
    "#         q1, q2, _ = exp(r_fold), exp(r_check), 0\n",
    "#         z = q1 + q2\n",
    "#         p_fold, p_check, p_bet = q1/z, q2/z, 0\n",
    "#     end\n",
    "#     return p_fold, p_check, p_bet    \n",
    "# end"
   ]
  },
  {
   "cell_type": "code",
   "execution_count": 184,
   "metadata": {},
   "outputs": [
    {
     "data": {
      "text/plain": [
       "compute_policy (generic function with 1 method)"
      ]
     },
     "execution_count": 184,
     "metadata": {},
     "output_type": "execute_result"
    }
   ],
   "source": [
    "function compute_policy(my_card, buddy_card, my_transition_matrix, buddy_transition_matrix)\n",
    "    my_transition_matrix_for_card = my_transition_matrix[my_card, :, :]\n",
    "    \n",
    "    buddy_transition_matrix_for_card = buddy_transition_matrix[buddy_card, :, :]\n",
    "    \n",
    "    r_fold = -1\n",
    "    r_check_without_bet = mapreduce(buddy_action -> buddy_transition_matrix_for_card[buddy_action, NO_BET_STAGE]*reward(my_card, buddy_card, CHECK, buddy_action), +, [FOLD, CHECK])\n",
    "    r_check_with_bet = mapreduce(my_action -> my_transition_matrix_for_card[my_action, BET_STAGE]*reward(my_card, buddy_card, my_action, BET), +, [FOLD, CHECK])\n",
    "    r_check = r_check_without_bet + buddy_transition_matrix_for_card[BET, NO_BET_STAGE]*r_check_with_bet\n",
    "    r_bet = mapreduce(buddy_action -> buddy_transition_matrix_for_card[buddy_action, BET_STAGE]*reward(my_card, buddy_card, BET, buddy_action), +, [FOLD, CHECK])\n",
    "    \n",
    "    q1, q2, q3 = exp(r_fold), exp(r_check), exp(r_bet)\n",
    "    z = q1 + q2 + q3\n",
    "    p_fold, p_check, p_bet = q1/z, q2/z, q3/z\n",
    "    \n",
    "    return [p_fold, p_check, p_bet] \n",
    "end"
   ]
  },
  {
   "cell_type": "markdown",
   "metadata": {},
   "source": [
    "#### This is the basic model, When we know opponent's transition matrix.\n",
    "#### It is hard to see how we can we model nested reseaoning"
   ]
  },
  {
   "cell_type": "code",
   "execution_count": 193,
   "metadata": {},
   "outputs": [
    {
     "data": {
      "text/plain": [
       "agent (generic function with 6 methods)"
      ]
     },
     "execution_count": 193,
     "metadata": {},
     "output_type": "execute_result"
    }
   ],
   "source": [
    "function agent(me::PokerPlayer, buddy::PokerPlayer)\n",
    "    my_card = me.card\n",
    "    \n",
    "    my_transition_matrix = me.transition_matrix\n",
    "    buddy_transition_matrix = buddy.transition_matrix\n",
    "    \n",
    "    \n",
    "    # we compute expectimax on optinal buddy cards\n",
    "    optional_cards = setdiff(FULL_DECK, [my_card])\n",
    "    \n",
    "    # compute policy for each opponent card\n",
    "    policies = map(buddy_card -> compute_policy(my_card, buddy_card, my_transition_matrix, buddy_transition_matrix) , optional_cards)\n",
    "    \n",
    "    # compute excpectation\n",
    "    policy = policies[1]*0.5 + policies[2]*0.5\n",
    "    return policy\n",
    "end"
   ]
  },
  {
   "cell_type": "code",
   "execution_count": 194,
   "metadata": {},
   "outputs": [
    {
     "data": {
      "text/plain": [
       "3-element Array{Float64,1}:\n",
       " 0.20427055865291674\n",
       " 0.39786472067354167\n",
       " 0.39786472067354167"
      ]
     },
     "execution_count": 194,
     "metadata": {},
     "output_type": "execute_result"
    }
   ],
   "source": [
    "agent(PokerPlayer(\"alice\", JACK, transition_matrix), PokerPlayer(\"bob\", KING, transition_matrix))"
   ]
  },
  {
   "cell_type": "code",
   "execution_count": 195,
   "metadata": {},
   "outputs": [
    {
     "data": {
      "text/plain": [
       "3-element Array{Float64,1}:\n",
       " 0.20427055865291674\n",
       " 0.39786472067354167\n",
       " 0.39786472067354167"
      ]
     },
     "execution_count": 195,
     "metadata": {},
     "output_type": "execute_result"
    }
   ],
   "source": [
    "agent(PokerPlayer(\"alice\", JACK, transition_matrix), PokerPlayer(\"bob\", QUEEN, transition_matrix))"
   ]
  },
  {
   "cell_type": "code",
   "execution_count": 196,
   "metadata": {},
   "outputs": [
    {
     "data": {
      "text/plain": [
       "3-element Array{Float64,1}:\n",
       " 0.13708626133362056\n",
       " 0.40572661156597156\n",
       " 0.457187127100408"
      ]
     },
     "execution_count": 196,
     "metadata": {},
     "output_type": "execute_result"
    }
   ],
   "source": [
    "agent(PokerPlayer(\"alice\", QUEEN, transition_matrix), PokerPlayer(\"bob\", JACK, transition_matrix))"
   ]
  },
  {
   "cell_type": "code",
   "execution_count": 197,
   "metadata": {},
   "outputs": [
    {
     "data": {
      "text/plain": [
       "3-element Array{Float64,1}:\n",
       " 0.13708626133362056\n",
       " 0.40572661156597156\n",
       " 0.457187127100408"
      ]
     },
     "execution_count": 197,
     "metadata": {},
     "output_type": "execute_result"
    }
   ],
   "source": [
    "agent(PokerPlayer(\"alice\", QUEEN, transition_matrix), PokerPlayer(\"bob\", KING, transition_matrix))"
   ]
  },
  {
   "cell_type": "code",
   "execution_count": 198,
   "metadata": {},
   "outputs": [
    {
     "data": {
      "text/plain": [
       "3-element Array{Float64,1}:\n",
       " 0.06990196401432436\n",
       " 0.4135885024584015\n",
       " 0.5165095335272742"
      ]
     },
     "execution_count": 198,
     "metadata": {},
     "output_type": "execute_result"
    }
   ],
   "source": [
    "agent(PokerPlayer(\"alice\", KING, transition_matrix), PokerPlayer(\"bob\", JACK, transition_matrix))"
   ]
  },
  {
   "cell_type": "code",
   "execution_count": 199,
   "metadata": {},
   "outputs": [
    {
     "data": {
      "text/plain": [
       "3-element Array{Float64,1}:\n",
       " 0.06990196401432436\n",
       " 0.4135885024584015\n",
       " 0.5165095335272742"
      ]
     },
     "execution_count": 199,
     "metadata": {},
     "output_type": "execute_result"
    }
   ],
   "source": [
    "agent(PokerPlayer(\"alice\", KING, transition_matrix), PokerPlayer(\"bob\", QUEEN, transition_matrix))"
   ]
  },
  {
   "cell_type": "markdown",
   "metadata": {},
   "source": [
    "### We should split the agents to two agents, because they are not symetrical"
   ]
  },
  {
   "cell_type": "code",
   "execution_count": null,
   "metadata": {},
   "outputs": [],
   "source": [
    "function first_agent(me::PokerPlayer, buddy::PokerPlayer, depth::Int)\n",
    "    my_card = me.card\n",
    "    \n",
    "    my_transition_matrix = me.transition_matrix\n",
    "    buddy_transition_matrix = buddy.transition_matrix\n",
    "    \n",
    "    \n",
    "    if depth > 0\n",
    "       # We would want to call it with agent(buddy, me, depth-1)\n",
    "       # but it is not symatrical, because only in a situation of bet this is relevant\n",
    "       # agent() transition_matrix <- agent(buddy,me) transition <-\n",
    "        buddy_policy_when_bet = second_agent(buddy, me, depth-1, BET)\n",
    "        buddy_policy_when_no_bet = second_agent(buddy, me, depth -1, CHEK)\n",
    "    end\n",
    "    # we compute expectimax on optinal buddy cards\n",
    "    optional_cards = setdiff(FULL_DECK, [my_card])\n",
    "    \n",
    "    # compute policy for each opponent card\n",
    "    policies = map(buddy_card -> compute_policy(my_card, buddy_card, my_transition_matrix, buddy_transition_matrix) , optional_cards)\n",
    "    \n",
    "    # compute excpectation\n",
    "    policy = policies[1]*0.5 + policies[2]*0.5\n",
    "    return policy\n",
    "end"
   ]
  },
  {
   "cell_type": "code",
   "execution_count": null,
   "metadata": {},
   "outputs": [],
   "source": [
    "function second_agent(me::PokerPlayer, buddy::PokerPlayer, depth::Int)\n",
    "    my_card = me.card \n",
    "    my_transition_matrix = me.transition_matrix\n",
    "    buddy_transition_matrix = buddy.transition_matrix\n",
    "    \n",
    "    if depth > 0\n",
    "        buddy_policy_when_bet = second\n",
    "    \n",
    "end"
   ]
  },
  {
   "cell_type": "code",
   "execution_count": null,
   "metadata": {},
   "outputs": [],
   "source": []
  }
 ],
 "metadata": {
  "kernelspec": {
   "display_name": "Julia 1.5.3",
   "language": "julia",
   "name": "julia-1.5"
  },
  "language_info": {
   "file_extension": ".jl",
   "mimetype": "application/julia",
   "name": "julia",
   "version": "1.5.3"
  }
 },
 "nbformat": 4,
 "nbformat_minor": 4
}
