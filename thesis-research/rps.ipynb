{
 "cells": [
  {
   "cell_type": "code",
   "execution_count": 1,
   "metadata": {},
   "outputs": [],
   "source": [
    "# Import libraries.\n",
    "using Turing, StatsPlots, Random, Memoization"
   ]
  },
  {
   "cell_type": "markdown",
   "metadata": {},
   "source": [
    "## The model of agent as universal Probalistic Model\n",
    "### gets some parmeters:\n",
    "<ul>\n",
    "    <li> opponent agent - representation of our belief on the opponent model (Turing.jl model)\n",
    "    <li> my history - list of all moves this player done (At this point unused)\n",
    "    <li> opponent history - list of all moves the opponent done, used to estimate a prior on the moves\n",
    "    <li> depth - the depth we want the agent will dive modeling the mind of opponent agent\n",
    "</ul>        "
   ]
  },
  {
   "cell_type": "code",
   "execution_count": 2,
   "metadata": {},
   "outputs": [
    {
     "data": {
      "text/plain": [
       "0.95"
      ]
     },
     "execution_count": 2,
     "metadata": {},
     "output_type": "execute_result"
    }
   ],
   "source": [
    "N = 10000\n",
    "INFALG = IS()\n",
    "PRIOR_POLICY = [1,1,1]\n",
    "PDIRAC = 0.95"
   ]
  },
  {
   "cell_type": "code",
   "execution_count": 18,
   "metadata": {},
   "outputs": [
    {
     "data": {
      "text/plain": [
       "winning (generic function with 1 method)"
      ]
     },
     "execution_count": 18,
     "metadata": {},
     "output_type": "execute_result"
    }
   ],
   "source": [
    "function winning(opp_move)\n",
    "    best_moves = Dict(1 => 2, 2 => 3, 3 => 1)\n",
    "    move = best_moves[opp_move]\n",
    "    return move\n",
    "end"
   ]
  },
  {
   "cell_type": "code",
   "execution_count": 19,
   "metadata": {},
   "outputs": [
    {
     "data": {
      "text/plain": [
       "agent (generic function with 3 methods)"
      ]
     },
     "execution_count": 19,
     "metadata": {},
     "output_type": "execute_result"
    }
   ],
   "source": [
    "@model function agent(opponent_chn, opponent_history, opp_prior_policy = [1,1,1], depth = 1)\n",
    "    beta_opp ~ Dirichlet(opp_prior_policy) #prior\n",
    "    if depth == 0\n",
    "        for opp_move in opponent_history\n",
    "            opp_move ~ Categorical(beta_opp) # observe\n",
    "        end\n",
    "    end\n",
    "    next_opp_move ~ Categorical(beta_opp) # sample\n",
    "    opp_move_sample = next_opp_move\n",
    "    if depth > 0\n",
    "        weights = exp.(opponent_chn[:lp][:, 1])\n",
    "        idx ~ Categorical(weights/sum(weights))\n",
    "        opp_move_sample = opponent_chn[:next_opp_move][idx, 1]\n",
    "    end\n",
    "     # init alternative way to Dirac distribution\n",
    "    complete_p_dirac = (1 - PDIRAC) / 2\n",
    "    phi = fill(complete_p_dirac, 3)\n",
    "    phi[winning(next_opp_move)] = PDIRAC\n",
    "    \n",
    "    my_move = winning(opp_move_sample)\n",
    "    my_move ~ Categorical(phi) # Dirac(next_opp_move) / observe(next_opponent_move, infered_opponent_move)\n",
    "end"
   ]
  },
  {
   "cell_type": "code",
   "execution_count": 23,
   "metadata": {},
   "outputs": [
    {
     "data": {
      "text/plain": [
       "plotChn (generic function with 1 method)"
      ]
     },
     "execution_count": 23,
     "metadata": {},
     "output_type": "execute_result"
    }
   ],
   "source": [
    "# Plot the results\n",
    "function plotChn(chn)\n",
    "    histogram(chn[:my_move], weights=exp.(chn[:lp]), normalize=:probability)\n",
    "end"
   ]
  },
  {
   "cell_type": "code",
   "execution_count": 30,
   "metadata": {},
   "outputs": [
    {
     "data": {
      "text/plain": [
       "run_two_agents_theory_of_mind (generic function with 1 method)"
      ]
     },
     "execution_count": 30,
     "metadata": {},
     "output_type": "execute_result"
    }
   ],
   "source": [
    "function run_two_agents_theory_of_mind(first_model, second_model, first_player_history, second_player_history ,depth)\n",
    "    second_chn_i = []\n",
    "    first_chn_i = []\n",
    "    for i in 0:depth\n",
    "        first_chn_i = sample(first_model(second_chn_i, second_player_history, PRIOR_POLICY, i),  INFALG, N)\n",
    "        second_chn_i = sample(second_model(first_chn_i, first_player_history, PRIOR_POLICY, i), INFALG, N)\n",
    "    end\n",
    "    display(first_chn_i)\n",
    "    plotChn(first_chn_i)\n",
    "end"
   ]
  },
  {
   "cell_type": "code",
   "execution_count": 31,
   "metadata": {},
   "outputs": [
    {
     "name": "stderr",
     "output_type": "stream",
     "text": [
      "\u001b[32mSampling: 100%|█████████████████████████████████████████| Time: 0:00:01\u001b[39m\n",
      "\u001b[32mSampling: 100%|█████████████████████████████████████████| Time: 0:00:01\u001b[39m\n",
      "\u001b[32mSampling: 100%|█████████████████████████████████████████| Time: 0:00:06\u001b[39m\n",
      "\u001b[32mSampling: 100%|█████████████████████████████████████████| Time: 0:00:04\u001b[39m\n",
      "\u001b[32mSampling: 100%|█████████████████████████████████████████| Time: 0:00:04\u001b[39m\n",
      "\u001b[32mSampling: 100%|█████████████████████████████████████████| Time: 0:00:04\u001b[39m\n"
     ]
    },
    {
     "data": {
      "text/plain": [
       "Chains MCMC chain (10000×7×1 Array{Float64,3}):\n",
       "\n",
       "Log evidence      = 0.0\n",
       "Iterations        = 1:10000\n",
       "Thinning interval = 1\n",
       "Chains            = 1\n",
       "Samples per chain = 10000\n",
       "parameters        = beta_opp[1], beta_opp[2], beta_opp[3], idx, my_move, next_opp_move\n",
       "internals         = lp\n",
       "\n",
       "Summary Statistics\n",
       " \u001b[1m    parameters \u001b[0m \u001b[1m      mean \u001b[0m \u001b[1m       std \u001b[0m \u001b[1m naive_se \u001b[0m \u001b[1m    mcse \u001b[0m \u001b[1m        ess \u001b[0m \u001b[1m   \u001b[0m ⋯\n",
       " \u001b[90m        Symbol \u001b[0m \u001b[90m   Float64 \u001b[0m \u001b[90m   Float64 \u001b[0m \u001b[90m  Float64 \u001b[0m \u001b[90m Float64 \u001b[0m \u001b[90m    Float64 \u001b[0m \u001b[90m Fl\u001b[0m ⋯\n",
       "\n",
       "    beta_opp[1]      0.3341      0.2368     0.0024    0.0025    9958.1144    1 ⋯\n",
       "    beta_opp[2]      0.3315      0.2352     0.0024    0.0022    9935.2824    1 ⋯\n",
       "    beta_opp[3]      0.3345      0.2380     0.0024    0.0025    9867.9531    0 ⋯\n",
       "            idx   4996.0173   2865.8066    28.6581   23.0121   10086.0680    0 ⋯\n",
       "        my_move      1.9941      0.8190     0.0082    0.0084    9972.0752    0 ⋯\n",
       "  next_opp_move      2.0077      0.8182     0.0082    0.0077    9939.6809    0 ⋯\n",
       "\u001b[31m                                                                1 column omitted\u001b[0m\n",
       "\n",
       "Quantiles\n",
       " \u001b[1m    parameters \u001b[0m \u001b[1m     2.5% \u001b[0m \u001b[1m     25.0% \u001b[0m \u001b[1m     50.0% \u001b[0m \u001b[1m     75.0% \u001b[0m \u001b[1m     97.5% \u001b[0m\n",
       " \u001b[90m        Symbol \u001b[0m \u001b[90m  Float64 \u001b[0m \u001b[90m   Float64 \u001b[0m \u001b[90m   Float64 \u001b[0m \u001b[90m   Float64 \u001b[0m \u001b[90m   Float64 \u001b[0m\n",
       "\n",
       "    beta_opp[1]     0.0124      0.1323      0.2932      0.4997      0.8424\n",
       "    beta_opp[2]     0.0132      0.1293      0.2920      0.4985      0.8378\n",
       "    beta_opp[3]     0.0116      0.1327      0.2927      0.5053      0.8448\n",
       "            idx   286.9750   2517.7500   4980.0000   7474.2500   9747.0000\n",
       "        my_move     1.0000      1.0000      2.0000      3.0000      3.0000\n",
       "  next_opp_move     1.0000      1.0000      2.0000      3.0000      3.0000\n"
      ]
     },
     "metadata": {},
     "output_type": "display_data"
    },
    {
     "data": {
      "image/svg+xml": [
       "<?xml version=\"1.0\" encoding=\"utf-8\"?>\n",
       "<svg xmlns=\"http://www.w3.org/2000/svg\" xmlns:xlink=\"http://www.w3.org/1999/xlink\" width=\"600\" height=\"400\" viewBox=\"0 0 2400 1600\">\n",
       "<defs>\n",
       "  <clipPath id=\"clip730\">\n",
       "    <rect x=\"0\" y=\"0\" width=\"2400\" height=\"1600\"/>\n",
       "  </clipPath>\n",
       "</defs>\n",
       "<path clip-path=\"url(#clip730)\" d=\"\n",
       "M0 1600 L2400 1600 L2400 0 L0 0  Z\n",
       "  \" fill=\"#ffffff\" fill-rule=\"evenodd\" fill-opacity=\"1\"/>\n",
       "<defs>\n",
       "  <clipPath id=\"clip731\">\n",
       "    <rect x=\"480\" y=\"0\" width=\"1681\" height=\"1600\"/>\n",
       "  </clipPath>\n",
       "</defs>\n",
       "<path clip-path=\"url(#clip730)\" d=\"\n",
       "M147.848 1486.45 L2352.76 1486.45 L2352.76 47.2441 L147.848 47.2441  Z\n",
       "  \" fill=\"#ffffff\" fill-rule=\"evenodd\" fill-opacity=\"1\"/>\n",
       "<defs>\n",
       "  <clipPath id=\"clip732\">\n",
       "    <rect x=\"147\" y=\"47\" width=\"2206\" height=\"1440\"/>\n",
       "  </clipPath>\n",
       "</defs>\n",
       "<polyline clip-path=\"url(#clip732)\" style=\"stroke:#000000; stroke-width:2; stroke-opacity:0.1; fill:none\" points=\"\n",
       "  269.122,1486.45 269.122,47.2441 \n",
       "  \"/>\n",
       "<polyline clip-path=\"url(#clip732)\" style=\"stroke:#000000; stroke-width:2; stroke-opacity:0.1; fill:none\" points=\"\n",
       "  715.113,1486.45 715.113,47.2441 \n",
       "  \"/>\n",
       "<polyline clip-path=\"url(#clip732)\" style=\"stroke:#000000; stroke-width:2; stroke-opacity:0.1; fill:none\" points=\"\n",
       "  1161.1,1486.45 1161.1,47.2441 \n",
       "  \"/>\n",
       "<polyline clip-path=\"url(#clip732)\" style=\"stroke:#000000; stroke-width:2; stroke-opacity:0.1; fill:none\" points=\"\n",
       "  1607.09,1486.45 1607.09,47.2441 \n",
       "  \"/>\n",
       "<polyline clip-path=\"url(#clip732)\" style=\"stroke:#000000; stroke-width:2; stroke-opacity:0.1; fill:none\" points=\"\n",
       "  2053.09,1486.45 2053.09,47.2441 \n",
       "  \"/>\n",
       "<polyline clip-path=\"url(#clip730)\" style=\"stroke:#000000; stroke-width:4; stroke-opacity:1; fill:none\" points=\"\n",
       "  147.848,1486.45 2352.76,1486.45 \n",
       "  \"/>\n",
       "<polyline clip-path=\"url(#clip730)\" style=\"stroke:#000000; stroke-width:4; stroke-opacity:1; fill:none\" points=\"\n",
       "  269.122,1486.45 269.122,1469.18 \n",
       "  \"/>\n",
       "<polyline clip-path=\"url(#clip730)\" style=\"stroke:#000000; stroke-width:4; stroke-opacity:1; fill:none\" points=\"\n",
       "  715.113,1486.45 715.113,1469.18 \n",
       "  \"/>\n",
       "<polyline clip-path=\"url(#clip730)\" style=\"stroke:#000000; stroke-width:4; stroke-opacity:1; fill:none\" points=\"\n",
       "  1161.1,1486.45 1161.1,1469.18 \n",
       "  \"/>\n",
       "<polyline clip-path=\"url(#clip730)\" style=\"stroke:#000000; stroke-width:4; stroke-opacity:1; fill:none\" points=\"\n",
       "  1607.09,1486.45 1607.09,1469.18 \n",
       "  \"/>\n",
       "<polyline clip-path=\"url(#clip730)\" style=\"stroke:#000000; stroke-width:4; stroke-opacity:1; fill:none\" points=\"\n",
       "  2053.09,1486.45 2053.09,1469.18 \n",
       "  \"/>\n",
       "<path clip-path=\"url(#clip730)\" d=\"M 0 0 M241.02 1543.18 L248.659 1543.18 L248.659 1516.82 L240.349 1518.49 L240.349 1514.23 L248.613 1512.56 L253.289 1512.56 L253.289 1543.18 L260.928 1543.18 L260.928 1547.12 L241.02 1547.12 L241.02 1543.18 Z\" fill=\"#000000\" fill-rule=\"evenodd\" fill-opacity=\"1\" /><path clip-path=\"url(#clip730)\" d=\"M 0 0 M265.997 1541.24 L270.881 1541.24 L270.881 1547.12 L265.997 1547.12 L265.997 1541.24 Z\" fill=\"#000000\" fill-rule=\"evenodd\" fill-opacity=\"1\" /><path clip-path=\"url(#clip730)\" d=\"M 0 0 M285.951 1515.64 Q282.34 1515.64 280.511 1519.2 Q278.705 1522.75 278.705 1529.87 Q278.705 1536.98 280.511 1540.55 Q282.34 1544.09 285.951 1544.09 Q289.585 1544.09 291.391 1540.55 Q293.219 1536.98 293.219 1529.87 Q293.219 1522.75 291.391 1519.2 Q289.585 1515.64 285.951 1515.64 M285.951 1511.93 Q291.761 1511.93 294.816 1516.54 Q297.895 1521.12 297.895 1529.87 Q297.895 1538.6 294.816 1543.21 Q291.761 1547.79 285.951 1547.79 Q280.141 1547.79 277.062 1543.21 Q274.006 1538.6 274.006 1529.87 Q274.006 1521.12 277.062 1516.54 Q280.141 1511.93 285.951 1511.93 Z\" fill=\"#000000\" fill-rule=\"evenodd\" fill-opacity=\"1\" /><path clip-path=\"url(#clip730)\" d=\"M 0 0 M687.509 1543.18 L695.148 1543.18 L695.148 1516.82 L686.838 1518.49 L686.838 1514.23 L695.102 1512.56 L699.777 1512.56 L699.777 1543.18 L707.416 1543.18 L707.416 1547.12 L687.509 1547.12 L687.509 1543.18 Z\" fill=\"#000000\" fill-rule=\"evenodd\" fill-opacity=\"1\" /><path clip-path=\"url(#clip730)\" d=\"M 0 0 M712.486 1541.24 L717.37 1541.24 L717.37 1547.12 L712.486 1547.12 L712.486 1541.24 Z\" fill=\"#000000\" fill-rule=\"evenodd\" fill-opacity=\"1\" /><path clip-path=\"url(#clip730)\" d=\"M 0 0 M722.486 1512.56 L740.842 1512.56 L740.842 1516.5 L726.768 1516.5 L726.768 1524.97 Q727.787 1524.62 728.805 1524.46 Q729.824 1524.27 730.842 1524.27 Q736.629 1524.27 740.009 1527.44 Q743.388 1530.62 743.388 1536.03 Q743.388 1541.61 739.916 1544.71 Q736.444 1547.79 730.125 1547.79 Q727.949 1547.79 725.68 1547.42 Q723.435 1547.05 721.027 1546.31 L721.027 1541.61 Q723.111 1542.74 725.333 1543.3 Q727.555 1543.86 730.032 1543.86 Q734.037 1543.86 736.374 1541.75 Q738.712 1539.64 738.712 1536.03 Q738.712 1532.42 736.374 1530.31 Q734.037 1528.21 730.032 1528.21 Q728.157 1528.21 726.282 1528.62 Q724.43 1529.04 722.486 1529.92 L722.486 1512.56 Z\" fill=\"#000000\" fill-rule=\"evenodd\" fill-opacity=\"1\" /><path clip-path=\"url(#clip730)\" d=\"M 0 0 M1137.27 1543.18 L1153.59 1543.18 L1153.59 1547.12 L1131.65 1547.12 L1131.65 1543.18 Q1134.31 1540.43 1138.89 1535.8 Q1143.5 1531.15 1144.68 1529.81 Q1146.93 1527.28 1147.81 1525.55 Q1148.71 1523.79 1148.71 1522.1 Q1148.71 1519.34 1146.76 1517.61 Q1144.84 1515.87 1141.74 1515.87 Q1139.54 1515.87 1137.09 1516.63 Q1134.66 1517.4 1131.88 1518.95 L1131.88 1514.23 Q1134.7 1513.09 1137.16 1512.51 Q1139.61 1511.93 1141.65 1511.93 Q1147.02 1511.93 1150.21 1514.62 Q1153.41 1517.31 1153.41 1521.8 Q1153.41 1523.93 1152.6 1525.85 Q1151.81 1527.74 1149.7 1530.34 Q1149.12 1531.01 1146.02 1534.23 Q1142.92 1537.42 1137.27 1543.18 Z\" fill=\"#000000\" fill-rule=\"evenodd\" fill-opacity=\"1\" /><path clip-path=\"url(#clip730)\" d=\"M 0 0 M1158.66 1541.24 L1163.55 1541.24 L1163.55 1547.12 L1158.66 1547.12 L1158.66 1541.24 Z\" fill=\"#000000\" fill-rule=\"evenodd\" fill-opacity=\"1\" /><path clip-path=\"url(#clip730)\" d=\"M 0 0 M1178.62 1515.64 Q1175 1515.64 1173.18 1519.2 Q1171.37 1522.75 1171.37 1529.87 Q1171.37 1536.98 1173.18 1540.55 Q1175 1544.09 1178.62 1544.09 Q1182.25 1544.09 1184.06 1540.55 Q1185.88 1536.98 1185.88 1529.87 Q1185.88 1522.75 1184.06 1519.2 Q1182.25 1515.64 1178.62 1515.64 M1178.62 1511.93 Q1184.43 1511.93 1187.48 1516.54 Q1190.56 1521.12 1190.56 1529.87 Q1190.56 1538.6 1187.48 1543.21 Q1184.43 1547.79 1178.62 1547.79 Q1172.81 1547.79 1169.73 1543.21 Q1166.67 1538.6 1166.67 1529.87 Q1166.67 1521.12 1169.73 1516.54 Q1172.81 1511.93 1178.62 1511.93 Z\" fill=\"#000000\" fill-rule=\"evenodd\" fill-opacity=\"1\" /><path clip-path=\"url(#clip730)\" d=\"M 0 0 M1583.76 1543.18 L1600.08 1543.18 L1600.08 1547.12 L1578.14 1547.12 L1578.14 1543.18 Q1580.8 1540.43 1585.38 1535.8 Q1589.99 1531.15 1591.17 1529.81 Q1593.41 1527.28 1594.29 1525.55 Q1595.2 1523.79 1595.2 1522.1 Q1595.2 1519.34 1593.25 1517.61 Q1591.33 1515.87 1588.23 1515.87 Q1586.03 1515.87 1583.58 1516.63 Q1581.15 1517.4 1578.37 1518.95 L1578.37 1514.23 Q1581.19 1513.09 1583.65 1512.51 Q1586.1 1511.93 1588.14 1511.93 Q1593.51 1511.93 1596.7 1514.62 Q1599.9 1517.31 1599.9 1521.8 Q1599.9 1523.93 1599.09 1525.85 Q1598.3 1527.74 1596.19 1530.34 Q1595.61 1531.01 1592.51 1534.23 Q1589.41 1537.42 1583.76 1543.18 Z\" fill=\"#000000\" fill-rule=\"evenodd\" fill-opacity=\"1\" /><path clip-path=\"url(#clip730)\" d=\"M 0 0 M1605.15 1541.24 L1610.03 1541.24 L1610.03 1547.12 L1605.15 1547.12 L1605.15 1541.24 Z\" fill=\"#000000\" fill-rule=\"evenodd\" fill-opacity=\"1\" /><path clip-path=\"url(#clip730)\" d=\"M 0 0 M1615.15 1512.56 L1633.51 1512.56 L1633.51 1516.5 L1619.43 1516.5 L1619.43 1524.97 Q1620.45 1524.62 1621.47 1524.46 Q1622.49 1524.27 1623.51 1524.27 Q1629.29 1524.27 1632.67 1527.44 Q1636.05 1530.62 1636.05 1536.03 Q1636.05 1541.61 1632.58 1544.71 Q1629.11 1547.79 1622.79 1547.79 Q1620.61 1547.79 1618.34 1547.42 Q1616.1 1547.05 1613.69 1546.31 L1613.69 1541.61 Q1615.78 1542.74 1618 1543.3 Q1620.22 1543.86 1622.7 1543.86 Q1626.7 1543.86 1629.04 1541.75 Q1631.38 1539.64 1631.38 1536.03 Q1631.38 1532.42 1629.04 1530.31 Q1626.7 1528.21 1622.7 1528.21 Q1620.82 1528.21 1618.95 1528.62 Q1617.09 1529.04 1615.15 1529.92 L1615.15 1512.56 Z\" fill=\"#000000\" fill-rule=\"evenodd\" fill-opacity=\"1\" /><path clip-path=\"url(#clip730)\" d=\"M 0 0 M2038.85 1528.49 Q2042.21 1529.2 2044.08 1531.47 Q2045.98 1533.74 2045.98 1537.07 Q2045.98 1542.19 2042.46 1544.99 Q2038.94 1547.79 2032.46 1547.79 Q2030.28 1547.79 2027.97 1547.35 Q2025.68 1546.93 2023.22 1546.08 L2023.22 1541.56 Q2025.17 1542.7 2027.48 1543.28 Q2029.8 1543.86 2032.32 1543.86 Q2036.72 1543.86 2039.01 1542.12 Q2041.33 1540.38 2041.33 1537.07 Q2041.33 1534.02 2039.17 1532.31 Q2037.04 1530.57 2033.22 1530.57 L2029.2 1530.57 L2029.2 1526.73 L2033.41 1526.73 Q2036.86 1526.73 2038.69 1525.36 Q2040.52 1523.97 2040.52 1521.38 Q2040.52 1518.72 2038.62 1517.31 Q2036.74 1515.87 2033.22 1515.87 Q2031.3 1515.87 2029.1 1516.29 Q2026.91 1516.7 2024.27 1517.58 L2024.27 1513.42 Q2026.93 1512.68 2029.24 1512.31 Q2031.58 1511.93 2033.64 1511.93 Q2038.97 1511.93 2042.07 1514.37 Q2045.17 1516.77 2045.17 1520.89 Q2045.17 1523.76 2043.53 1525.75 Q2041.88 1527.72 2038.85 1528.49 Z\" fill=\"#000000\" fill-rule=\"evenodd\" fill-opacity=\"1\" /><path clip-path=\"url(#clip730)\" d=\"M 0 0 M2051.05 1541.24 L2055.93 1541.24 L2055.93 1547.12 L2051.05 1547.12 L2051.05 1541.24 Z\" fill=\"#000000\" fill-rule=\"evenodd\" fill-opacity=\"1\" /><path clip-path=\"url(#clip730)\" d=\"M 0 0 M2071 1515.64 Q2067.39 1515.64 2065.56 1519.2 Q2063.76 1522.75 2063.76 1529.87 Q2063.76 1536.98 2065.56 1540.55 Q2067.39 1544.09 2071 1544.09 Q2074.64 1544.09 2076.44 1540.55 Q2078.27 1536.98 2078.27 1529.87 Q2078.27 1522.75 2076.44 1519.2 Q2074.64 1515.64 2071 1515.64 M2071 1511.93 Q2076.81 1511.93 2079.87 1516.54 Q2082.95 1521.12 2082.95 1529.87 Q2082.95 1538.6 2079.87 1543.21 Q2076.81 1547.79 2071 1547.79 Q2065.19 1547.79 2062.11 1543.21 Q2059.06 1538.6 2059.06 1529.87 Q2059.06 1521.12 2062.11 1516.54 Q2065.19 1511.93 2071 1511.93 Z\" fill=\"#000000\" fill-rule=\"evenodd\" fill-opacity=\"1\" /><polyline clip-path=\"url(#clip732)\" style=\"stroke:#000000; stroke-width:2; stroke-opacity:0.1; fill:none\" points=\"\n",
       "  147.848,1445.72 2352.76,1445.72 \n",
       "  \"/>\n",
       "<polyline clip-path=\"url(#clip732)\" style=\"stroke:#000000; stroke-width:2; stroke-opacity:0.1; fill:none\" points=\"\n",
       "  147.848,1044.37 2352.76,1044.37 \n",
       "  \"/>\n",
       "<polyline clip-path=\"url(#clip732)\" style=\"stroke:#000000; stroke-width:2; stroke-opacity:0.1; fill:none\" points=\"\n",
       "  147.848,643.032 2352.76,643.032 \n",
       "  \"/>\n",
       "<polyline clip-path=\"url(#clip732)\" style=\"stroke:#000000; stroke-width:2; stroke-opacity:0.1; fill:none\" points=\"\n",
       "  147.848,241.69 2352.76,241.69 \n",
       "  \"/>\n",
       "<polyline clip-path=\"url(#clip730)\" style=\"stroke:#000000; stroke-width:4; stroke-opacity:1; fill:none\" points=\"\n",
       "  147.848,1486.45 147.848,47.2441 \n",
       "  \"/>\n",
       "<polyline clip-path=\"url(#clip730)\" style=\"stroke:#000000; stroke-width:4; stroke-opacity:1; fill:none\" points=\"\n",
       "  147.848,1445.72 174.307,1445.72 \n",
       "  \"/>\n",
       "<polyline clip-path=\"url(#clip730)\" style=\"stroke:#000000; stroke-width:4; stroke-opacity:1; fill:none\" points=\"\n",
       "  147.848,1044.37 174.307,1044.37 \n",
       "  \"/>\n",
       "<polyline clip-path=\"url(#clip730)\" style=\"stroke:#000000; stroke-width:4; stroke-opacity:1; fill:none\" points=\"\n",
       "  147.848,643.032 174.307,643.032 \n",
       "  \"/>\n",
       "<polyline clip-path=\"url(#clip730)\" style=\"stroke:#000000; stroke-width:4; stroke-opacity:1; fill:none\" points=\"\n",
       "  147.848,241.69 174.307,241.69 \n",
       "  \"/>\n",
       "<path clip-path=\"url(#clip730)\" d=\"M 0 0 M62.9365 1431.51 Q59.3254 1431.51 57.4967 1435.08 Q55.6912 1438.62 55.6912 1445.75 Q55.6912 1452.86 57.4967 1456.42 Q59.3254 1459.96 62.9365 1459.96 Q66.5707 1459.96 68.3763 1456.42 Q70.205 1452.86 70.205 1445.75 Q70.205 1438.62 68.3763 1435.08 Q66.5707 1431.51 62.9365 1431.51 M62.9365 1427.81 Q68.7467 1427.81 71.8022 1432.42 Q74.8809 1437 74.8809 1445.75 Q74.8809 1454.48 71.8022 1459.08 Q68.7467 1463.67 62.9365 1463.67 Q57.1264 1463.67 54.0477 1459.08 Q50.9921 1454.48 50.9921 1445.75 Q50.9921 1437 54.0477 1432.42 Q57.1264 1427.81 62.9365 1427.81 Z\" fill=\"#000000\" fill-rule=\"evenodd\" fill-opacity=\"1\" /><path clip-path=\"url(#clip730)\" d=\"M 0 0 M79.9503 1457.12 L84.8345 1457.12 L84.8345 1463 L79.9503 1463 L79.9503 1457.12 Z\" fill=\"#000000\" fill-rule=\"evenodd\" fill-opacity=\"1\" /><path clip-path=\"url(#clip730)\" d=\"M 0 0 M99.9039 1431.51 Q96.2928 1431.51 94.4641 1435.08 Q92.6586 1438.62 92.6586 1445.75 Q92.6586 1452.86 94.4641 1456.42 Q96.2928 1459.96 99.9039 1459.96 Q103.538 1459.96 105.344 1456.42 Q107.172 1452.86 107.172 1445.75 Q107.172 1438.62 105.344 1435.08 Q103.538 1431.51 99.9039 1431.51 M99.9039 1427.81 Q105.714 1427.81 108.77 1432.42 Q111.848 1437 111.848 1445.75 Q111.848 1454.48 108.77 1459.08 Q105.714 1463.67 99.9039 1463.67 Q94.0937 1463.67 91.0151 1459.08 Q87.9595 1454.48 87.9595 1445.75 Q87.9595 1437 91.0151 1432.42 Q94.0937 1427.81 99.9039 1427.81 Z\" fill=\"#000000\" fill-rule=\"evenodd\" fill-opacity=\"1\" /><path clip-path=\"url(#clip730)\" d=\"M 0 0 M64.1634 1030.17 Q60.5523 1030.17 58.7236 1033.74 Q56.918 1037.28 56.918 1044.41 Q56.918 1051.52 58.7236 1055.08 Q60.5523 1058.62 64.1634 1058.62 Q67.7976 1058.62 69.6031 1055.08 Q71.4318 1051.52 71.4318 1044.41 Q71.4318 1037.28 69.6031 1033.74 Q67.7976 1030.17 64.1634 1030.17 M64.1634 1026.47 Q69.9735 1026.47 73.029 1031.08 Q76.1077 1035.66 76.1077 1044.41 Q76.1077 1053.14 73.029 1057.74 Q69.9735 1062.33 64.1634 1062.33 Q58.3532 1062.33 55.2745 1057.74 Q52.219 1053.14 52.219 1044.41 Q52.219 1035.66 55.2745 1031.08 Q58.3532 1026.47 64.1634 1026.47 Z\" fill=\"#000000\" fill-rule=\"evenodd\" fill-opacity=\"1\" /><path clip-path=\"url(#clip730)\" d=\"M 0 0 M81.1771 1055.77 L86.0614 1055.77 L86.0614 1061.65 L81.1771 1061.65 L81.1771 1055.77 Z\" fill=\"#000000\" fill-rule=\"evenodd\" fill-opacity=\"1\" /><path clip-path=\"url(#clip730)\" d=\"M 0 0 M91.941 1057.72 L99.5798 1057.72 L99.5798 1031.35 L91.2697 1033.02 L91.2697 1028.76 L99.5335 1027.09 L104.209 1027.09 L104.209 1057.72 L111.848 1057.72 L111.848 1061.65 L91.941 1061.65 L91.941 1057.72 Z\" fill=\"#000000\" fill-rule=\"evenodd\" fill-opacity=\"1\" /><path clip-path=\"url(#clip730)\" d=\"M 0 0 M64.5337 628.831 Q60.9226 628.831 59.0939 632.396 Q57.2884 635.937 57.2884 643.067 Q57.2884 650.173 59.0939 653.738 Q60.9226 657.28 64.5337 657.28 Q68.168 657.28 69.9735 653.738 Q71.8022 650.173 71.8022 643.067 Q71.8022 635.937 69.9735 632.396 Q68.168 628.831 64.5337 628.831 M64.5337 625.127 Q70.3439 625.127 73.3994 629.733 Q76.4781 634.317 76.4781 643.067 Q76.4781 651.794 73.3994 656.4 Q70.3439 660.983 64.5337 660.983 Q58.7236 660.983 55.6449 656.4 Q52.5893 651.794 52.5893 643.067 Q52.5893 634.317 55.6449 629.733 Q58.7236 625.127 64.5337 625.127 Z\" fill=\"#000000\" fill-rule=\"evenodd\" fill-opacity=\"1\" /><path clip-path=\"url(#clip730)\" d=\"M 0 0 M81.5475 654.432 L86.4318 654.432 L86.4318 660.312 L81.5475 660.312 L81.5475 654.432 Z\" fill=\"#000000\" fill-rule=\"evenodd\" fill-opacity=\"1\" /><path clip-path=\"url(#clip730)\" d=\"M 0 0 M95.5289 656.377 L111.848 656.377 L111.848 660.312 L89.904 660.312 L89.904 656.377 Q92.566 653.622 97.1493 648.993 Q101.756 644.34 102.936 642.997 Q105.182 640.474 106.061 638.738 Q106.964 636.979 106.964 635.289 Q106.964 632.534 105.02 630.798 Q103.098 629.062 99.9965 629.062 Q97.7974 629.062 95.3437 629.826 Q92.9132 630.59 90.1354 632.141 L90.1354 627.419 Q92.9595 626.284 95.4132 625.706 Q97.8669 625.127 99.9039 625.127 Q105.274 625.127 108.469 627.812 Q111.663 630.497 111.663 634.988 Q111.663 637.118 110.853 639.039 Q110.066 640.937 107.959 643.53 Q107.381 644.201 104.279 647.419 Q101.177 650.613 95.5289 656.377 Z\" fill=\"#000000\" fill-rule=\"evenodd\" fill-opacity=\"1\" /><path clip-path=\"url(#clip730)\" d=\"M 0 0 M63.5847 227.489 Q59.9736 227.489 58.1449 231.054 Q56.3393 234.595 56.3393 241.725 Q56.3393 248.831 58.1449 252.396 Q59.9736 255.938 63.5847 255.938 Q67.2189 255.938 69.0244 252.396 Q70.8531 248.831 70.8531 241.725 Q70.8531 234.595 69.0244 231.054 Q67.2189 227.489 63.5847 227.489 M63.5847 223.785 Q69.3948 223.785 72.4503 228.392 Q75.529 232.975 75.529 241.725 Q75.529 250.452 72.4503 255.058 Q69.3948 259.641 63.5847 259.641 Q57.7745 259.641 54.6958 255.058 Q51.6403 250.452 51.6403 241.725 Q51.6403 232.975 54.6958 228.392 Q57.7745 223.785 63.5847 223.785 Z\" fill=\"#000000\" fill-rule=\"evenodd\" fill-opacity=\"1\" /><path clip-path=\"url(#clip730)\" d=\"M 0 0 M80.5984 253.091 L85.4827 253.091 L85.4827 258.97 L80.5984 258.97 L80.5984 253.091 Z\" fill=\"#000000\" fill-rule=\"evenodd\" fill-opacity=\"1\" /><path clip-path=\"url(#clip730)\" d=\"M 0 0 M104.719 240.336 Q108.075 241.054 109.95 243.322 Q111.848 245.591 111.848 248.924 Q111.848 254.04 108.33 256.841 Q104.811 259.641 98.3298 259.641 Q96.1539 259.641 93.8391 259.202 Q91.5475 258.785 89.0938 257.929 L89.0938 253.415 Q91.0382 254.549 93.353 255.128 Q95.6678 255.706 98.1909 255.706 Q102.589 255.706 104.881 253.97 Q107.196 252.234 107.196 248.924 Q107.196 245.868 105.043 244.155 Q102.913 242.419 99.0937 242.419 L95.066 242.419 L95.066 238.577 L99.2789 238.577 Q102.728 238.577 104.557 237.211 Q106.385 235.822 106.385 233.23 Q106.385 230.568 104.487 229.156 Q102.612 227.72 99.0937 227.72 Q97.1724 227.72 94.9734 228.137 Q92.7743 228.554 90.1354 229.433 L90.1354 225.267 Q92.7975 224.526 95.1123 224.156 Q97.4502 223.785 99.5104 223.785 Q104.834 223.785 107.936 226.216 Q111.038 228.623 111.038 232.743 Q111.038 235.614 109.395 237.605 Q107.751 239.572 104.719 240.336 Z\" fill=\"#000000\" fill-rule=\"evenodd\" fill-opacity=\"1\" /><path clip-path=\"url(#clip732)\" d=\"\n",
       "M269.122 87.9763 L269.122 1445.72 L447.518 1445.72 L447.518 87.9763 L269.122 87.9763 L269.122 87.9763  Z\n",
       "  \" fill=\"#009af9\" fill-rule=\"evenodd\" fill-opacity=\"1\"/>\n",
       "<polyline clip-path=\"url(#clip732)\" style=\"stroke:#000000; stroke-width:4; stroke-opacity:1; fill:none\" points=\"\n",
       "  269.122,87.9763 269.122,1445.72 447.518,1445.72 447.518,87.9763 269.122,87.9763 \n",
       "  \"/>\n",
       "<path clip-path=\"url(#clip732)\" d=\"\n",
       "M447.518 1445.72 L447.518 1445.72 L625.915 1445.72 L625.915 1445.72 L447.518 1445.72 L447.518 1445.72  Z\n",
       "  \" fill=\"#009af9\" fill-rule=\"evenodd\" fill-opacity=\"1\"/>\n",
       "<polyline clip-path=\"url(#clip732)\" style=\"stroke:#000000; stroke-width:4; stroke-opacity:1; fill:none\" points=\"\n",
       "  447.518,1445.72 447.518,1445.72 625.915,1445.72 447.518,1445.72 \n",
       "  \"/>\n",
       "<path clip-path=\"url(#clip732)\" d=\"\n",
       "M625.915 1445.72 L625.915 1445.72 L804.311 1445.72 L804.311 1445.72 L625.915 1445.72 L625.915 1445.72  Z\n",
       "  \" fill=\"#009af9\" fill-rule=\"evenodd\" fill-opacity=\"1\"/>\n",
       "<polyline clip-path=\"url(#clip732)\" style=\"stroke:#000000; stroke-width:4; stroke-opacity:1; fill:none\" points=\"\n",
       "  625.915,1445.72 625.915,1445.72 804.311,1445.72 625.915,1445.72 \n",
       "  \"/>\n",
       "<path clip-path=\"url(#clip732)\" d=\"\n",
       "M804.311 1445.72 L804.311 1445.72 L982.708 1445.72 L982.708 1445.72 L804.311 1445.72 L804.311 1445.72  Z\n",
       "  \" fill=\"#009af9\" fill-rule=\"evenodd\" fill-opacity=\"1\"/>\n",
       "<polyline clip-path=\"url(#clip732)\" style=\"stroke:#000000; stroke-width:4; stroke-opacity:1; fill:none\" points=\"\n",
       "  804.311,1445.72 804.311,1445.72 982.708,1445.72 804.311,1445.72 \n",
       "  \"/>\n",
       "<path clip-path=\"url(#clip732)\" d=\"\n",
       "M982.708 1445.72 L982.708 1445.72 L1161.1 1445.72 L1161.1 1445.72 L982.708 1445.72 L982.708 1445.72  Z\n",
       "  \" fill=\"#009af9\" fill-rule=\"evenodd\" fill-opacity=\"1\"/>\n",
       "<polyline clip-path=\"url(#clip732)\" style=\"stroke:#000000; stroke-width:4; stroke-opacity:1; fill:none\" points=\"\n",
       "  982.708,1445.72 982.708,1445.72 1161.1,1445.72 982.708,1445.72 \n",
       "  \"/>\n",
       "<path clip-path=\"url(#clip732)\" d=\"\n",
       "M1161.1 124.097 L1161.1 1445.72 L1339.5 1445.72 L1339.5 124.097 L1161.1 124.097 L1161.1 124.097  Z\n",
       "  \" fill=\"#009af9\" fill-rule=\"evenodd\" fill-opacity=\"1\"/>\n",
       "<polyline clip-path=\"url(#clip732)\" style=\"stroke:#000000; stroke-width:4; stroke-opacity:1; fill:none\" points=\"\n",
       "  1161.1,124.097 1161.1,1445.72 1339.5,1445.72 1339.5,124.097 1161.1,124.097 \n",
       "  \"/>\n",
       "<path clip-path=\"url(#clip732)\" d=\"\n",
       "M1339.5 1445.72 L1339.5 1445.72 L1517.9 1445.72 L1517.9 1445.72 L1339.5 1445.72 L1339.5 1445.72  Z\n",
       "  \" fill=\"#009af9\" fill-rule=\"evenodd\" fill-opacity=\"1\"/>\n",
       "<polyline clip-path=\"url(#clip732)\" style=\"stroke:#000000; stroke-width:4; stroke-opacity:1; fill:none\" points=\"\n",
       "  1339.5,1445.72 1339.5,1445.72 1517.9,1445.72 1339.5,1445.72 \n",
       "  \"/>\n",
       "<path clip-path=\"url(#clip732)\" d=\"\n",
       "M1517.9 1445.72 L1517.9 1445.72 L1696.29 1445.72 L1696.29 1445.72 L1517.9 1445.72 L1517.9 1445.72  Z\n",
       "  \" fill=\"#009af9\" fill-rule=\"evenodd\" fill-opacity=\"1\"/>\n",
       "<polyline clip-path=\"url(#clip732)\" style=\"stroke:#000000; stroke-width:4; stroke-opacity:1; fill:none\" points=\"\n",
       "  1517.9,1445.72 1517.9,1445.72 1696.29,1445.72 1517.9,1445.72 \n",
       "  \"/>\n",
       "<path clip-path=\"url(#clip732)\" d=\"\n",
       "M1696.29 1445.72 L1696.29 1445.72 L1874.69 1445.72 L1874.69 1445.72 L1696.29 1445.72 L1696.29 1445.72  Z\n",
       "  \" fill=\"#009af9\" fill-rule=\"evenodd\" fill-opacity=\"1\"/>\n",
       "<polyline clip-path=\"url(#clip732)\" style=\"stroke:#000000; stroke-width:4; stroke-opacity:1; fill:none\" points=\"\n",
       "  1696.29,1445.72 1696.29,1445.72 1874.69,1445.72 1696.29,1445.72 \n",
       "  \"/>\n",
       "<path clip-path=\"url(#clip732)\" d=\"\n",
       "M1874.69 1445.72 L1874.69 1445.72 L2053.09 1445.72 L2053.09 1445.72 L1874.69 1445.72 L1874.69 1445.72  Z\n",
       "  \" fill=\"#009af9\" fill-rule=\"evenodd\" fill-opacity=\"1\"/>\n",
       "<polyline clip-path=\"url(#clip732)\" style=\"stroke:#000000; stroke-width:4; stroke-opacity:1; fill:none\" points=\"\n",
       "  1874.69,1445.72 1874.69,1445.72 2053.09,1445.72 1874.69,1445.72 \n",
       "  \"/>\n",
       "<path clip-path=\"url(#clip732)\" d=\"\n",
       "M2053.09 111.655 L2053.09 1445.72 L2231.48 1445.72 L2231.48 111.655 L2053.09 111.655 L2053.09 111.655  Z\n",
       "  \" fill=\"#009af9\" fill-rule=\"evenodd\" fill-opacity=\"1\"/>\n",
       "<polyline clip-path=\"url(#clip732)\" style=\"stroke:#000000; stroke-width:4; stroke-opacity:1; fill:none\" points=\"\n",
       "  2053.09,111.655 2053.09,1445.72 2231.48,1445.72 2231.48,111.655 2053.09,111.655 \n",
       "  \"/>\n",
       "<path clip-path=\"url(#clip730)\" d=\"\n",
       "M1983.25 216.178 L2279.26 216.178 L2279.26 95.2176 L1983.25 95.2176  Z\n",
       "  \" fill=\"#ffffff\" fill-rule=\"evenodd\" fill-opacity=\"1\"/>\n",
       "<polyline clip-path=\"url(#clip730)\" style=\"stroke:#000000; stroke-width:4; stroke-opacity:1; fill:none\" points=\"\n",
       "  1983.25,216.178 2279.26,216.178 2279.26,95.2176 1983.25,95.2176 1983.25,216.178 \n",
       "  \"/>\n",
       "<path clip-path=\"url(#clip730)\" d=\"\n",
       "M2007.75 179.89 L2154.74 179.89 L2154.74 131.506 L2007.75 131.506 L2007.75 179.89  Z\n",
       "  \" fill=\"#009af9\" fill-rule=\"evenodd\" fill-opacity=\"1\"/>\n",
       "<polyline clip-path=\"url(#clip730)\" style=\"stroke:#000000; stroke-width:4; stroke-opacity:1; fill:none\" points=\"\n",
       "  2007.75,179.89 2154.74,179.89 2154.74,131.506 2007.75,131.506 2007.75,179.89 \n",
       "  \"/>\n",
       "<path clip-path=\"url(#clip730)\" d=\"M 0 0 M2193.09 175.385 Q2191.28 180.015 2189.57 181.427 Q2187.85 182.839 2184.98 182.839 L2181.58 182.839 L2181.58 179.274 L2184.08 179.274 Q2185.84 179.274 2186.81 178.44 Q2187.78 177.607 2188.96 174.505 L2189.73 172.561 L2179.24 147.052 L2183.76 147.052 L2191.86 167.329 L2199.96 147.052 L2204.47 147.052 L2193.09 175.385 Z\" fill=\"#000000\" fill-rule=\"evenodd\" fill-opacity=\"1\" /><path clip-path=\"url(#clip730)\" d=\"M 0 0 M2210.35 169.042 L2217.99 169.042 L2217.99 142.677 L2209.68 144.343 L2209.68 140.084 L2217.95 138.418 L2222.62 138.418 L2222.62 169.042 L2230.26 169.042 L2230.26 172.978 L2210.35 172.978 L2210.35 169.042 Z\" fill=\"#000000\" fill-rule=\"evenodd\" fill-opacity=\"1\" /></svg>\n"
      ]
     },
     "execution_count": 31,
     "metadata": {},
     "output_type": "execute_result"
    }
   ],
   "source": [
    "run_two_agents_theory_of_mind(agent, agent, [1,3,1,3,1,1,3,1,3,1] , [1,3,1,3,1,1,3,1,3,1], 2)"
   ]
  },
  {
   "cell_type": "code",
   "execution_count": null,
   "metadata": {},
   "outputs": [],
   "source": []
  }
 ],
 "metadata": {
  "kernelspec": {
   "display_name": "Julia 1.5.3",
   "language": "julia",
   "name": "julia-1.5"
  },
  "language_info": {
   "file_extension": ".jl",
   "mimetype": "application/julia",
   "name": "julia",
   "version": "1.5.3"
  }
 },
 "nbformat": 4,
 "nbformat_minor": 4
}
