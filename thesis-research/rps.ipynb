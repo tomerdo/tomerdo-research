{
 "cells": [
  {
   "cell_type": "code",
   "execution_count": 1,
   "metadata": {},
   "outputs": [
    {
     "name": "stderr",
     "output_type": "stream",
     "text": [
      "┌ Info: Precompiling Turing [fce5fe82-541a-59a6-adf8-730c64b5f9a0]\n",
      "└ @ Base loading.jl:1278\n"
     ]
    }
   ],
   "source": [
    "# Import libraries.\n",
    "using Turing, StatsPlots, Random, Memoization, StatsBase, Statistics"
   ]
  },
  {
   "cell_type": "code",
   "execution_count": 2,
   "metadata": {},
   "outputs": [],
   "source": [
    "using ProgressMeter, SpecialFunctions\n"
   ]
  },
  {
   "cell_type": "code",
   "execution_count": 3,
   "metadata": {},
   "outputs": [
    {
     "data": {
      "text/plain": [
       "0.95"
      ]
     },
     "execution_count": 3,
     "metadata": {},
     "output_type": "execute_result"
    }
   ],
   "source": [
    "N = 10000\n",
    "INFALG = IS()\n",
    "PRIOR_POLICY = [1,1,1]\n",
    "PDIRAC = 0.95"
   ]
  },
  {
   "cell_type": "code",
   "execution_count": 4,
   "metadata": {},
   "outputs": [
    {
     "data": {
      "text/plain": [
       "winning (generic function with 1 method)"
      ]
     },
     "execution_count": 4,
     "metadata": {},
     "output_type": "execute_result"
    }
   ],
   "source": [
    "function winning(opp_move)\n",
    "    best_moves = Dict(1 => 2, 2 => 3, 3 => 1)\n",
    "    move = best_moves[opp_move]\n",
    "    return move\n",
    "end"
   ]
  },
  {
   "cell_type": "code",
   "execution_count": 5,
   "metadata": {},
   "outputs": [
    {
     "data": {
      "text/plain": [
       "agent (generic function with 3 methods)"
      ]
     },
     "execution_count": 5,
     "metadata": {},
     "output_type": "execute_result"
    }
   ],
   "source": [
    "@model function agent(opponent_chn, opponent_history, opp_prior_policy = [1,1,1], depth = 1)\n",
    "    beta_opp ~ Dirichlet(opp_prior_policy) #prior\n",
    "    if depth == -1 # the simplest agent\n",
    "        opponent_history = []\n",
    "    end\n",
    "    if depth <= 0\n",
    "        for i in 1:length(opponent_history)\n",
    "            opponent_history[i] ~ Categorical(beta_opp) # observe\n",
    "        end\n",
    "        next_opp_move ~ Categorical(beta_opp) # sample\n",
    "    end\n",
    "    if depth > 0\n",
    "        weights = exp.(opponent_chn[:lp][:, 1])\n",
    "        idx ~ Categorical(weights/sum(weights))\n",
    "        opp_move_sample = opponent_chn[:my_move][idx, 1]\n",
    "        \n",
    "        # init alternative way to Dirac distribution\n",
    "        complete_p_dirac = (1 - PDIRAC) / 2\n",
    "        phi = fill(complete_p_dirac, 3)\n",
    "        phi[convert(Int, opp_move_sample)] = PDIRAC\n",
    "        \n",
    "        next_opp_move ~ Categorical(phi) # observe\n",
    "    end\n",
    "    winning_move = winning(next_opp_move)\n",
    "    \n",
    "    # init alternative way to Dirac distribution\n",
    "    complete_p_dirac = (1 - PDIRAC) / 2\n",
    "    phi = fill(complete_p_dirac, 3)\n",
    "    phi[convert(Int,winning_move)] = PDIRAC\n",
    "    \n",
    "    my_move ~ Categorical(phi) # Dirac(next_opp_move) / observe(next_opponent_move, infered_opponent_move)\n",
    "end"
   ]
  },
  {
   "cell_type": "code",
   "execution_count": 6,
   "metadata": {},
   "outputs": [
    {
     "data": {
      "text/plain": [
       "plotChn (generic function with 1 method)"
      ]
     },
     "execution_count": 6,
     "metadata": {},
     "output_type": "execute_result"
    }
   ],
   "source": [
    "# Plot the results\n",
    "function plotChn(chn)\n",
    "    histogram(chn[:my_move], weights=exp.(chn[:lp]), normalize=:probability)\n",
    "end"
   ]
  },
  {
   "cell_type": "code",
   "execution_count": 7,
   "metadata": {},
   "outputs": [
    {
     "data": {
      "text/plain": [
       "run_two_agents_theory_of_mind (generic function with 2 methods)"
      ]
     },
     "execution_count": 7,
     "metadata": {},
     "output_type": "execute_result"
    }
   ],
   "source": [
    "function run_two_agents_theory_of_mind(my_model, other_model, opponent_prior, my_prior , opponent_history, my_history, depth, show_progress = true)\n",
    "    second_chn_i = []\n",
    "    first_chn_i = []\n",
    "    p = Progress(depth)\n",
    "    if depth == -1\n",
    "        first_chn_i = sample(my_model(second_chn_i, my_history, my_prior, -1),  INFALG, N , progress = false)\n",
    "        second_chn_i = sample(other_model(first_chn_i, opponent_history, opponent_prior, -1), INFALG, N , progress = false) \n",
    "    end \n",
    "    for i in 0:depth\n",
    "        first_chn_i = sample(my_model(second_chn_i, my_history, my_prior, i),  INFALG, N , progress = false)\n",
    "        second_chn_i = sample(other_model(first_chn_i, opponent_history, opponent_prior, i), INFALG, N , progress = false)\n",
    "        if show_progress\n",
    "            ProgressMeter.next!(p)\n",
    "        end\n",
    "    end\n",
    "    return second_chn_i\n",
    "end"
   ]
  },
  {
   "cell_type": "markdown",
   "metadata": {},
   "source": [
    "D = gammaln(sum(alpha)) – gammaln(sum(beta)) – sum(gammaln(alpha)) + …\n",
    "sum(gammaln(beta)) + (alpha – beta) * (psi(alpha) – psi(sum(alpha)))’;"
   ]
  },
  {
   "cell_type": "code",
   "execution_count": 8,
   "metadata": {},
   "outputs": [
    {
     "data": {
      "text/plain": [
       "11.560358518204861"
      ]
     },
     "execution_count": 8,
     "metadata": {},
     "output_type": "execute_result"
    }
   ],
   "source": [
    "kldivergence([20,1,10] , [10,10,10]) "
   ]
  },
  {
   "cell_type": "code",
   "execution_count": 32,
   "metadata": {},
   "outputs": [
    {
     "data": {
      "text/plain": [
       "kl_divergence (generic function with 1 method)"
      ]
     },
     "execution_count": 32,
     "metadata": {},
     "output_type": "execute_result"
    }
   ],
   "source": [
    "function kl_divergence(alpha, beta)\n",
    "    alpha_0 = sum(alpha)\n",
    "    beta_0 = sum(beta)\n",
    "    return loggamma(alpha_0) - loggamma(beta_0)-sum(loggamma.(alpha))+sum(loggamma.(beta))+\n",
    "    transpose(alpha-beta)*(digamma.(alpha)- fill(digamma(alpha_0), length(alpha)))\n",
    "end"
   ]
  },
  {
   "cell_type": "code",
   "execution_count": 33,
   "metadata": {},
   "outputs": [
    {
     "data": {
      "text/plain": [
       "compute_kldivergence_from_nash_eq (generic function with 1 method)"
      ]
     },
     "execution_count": 33,
     "metadata": {},
     "output_type": "execute_result"
    }
   ],
   "source": [
    "function compute_kldivergence_from_nash_eq(chain)\n",
    "    alpha = [\n",
    "        mean(chain[\"beta_opp[1]\"]),\n",
    "        mean(chain[\"beta_opp[2]\"]),\n",
    "        mean(chain[\"beta_opp[3]\"])]\n",
    "    beta = [1,1,1]\n",
    "    return kl_divergence(alpha, beta)\n",
    "end"
   ]
  },
  {
   "cell_type": "code",
   "execution_count": 11,
   "metadata": {},
   "outputs": [
    {
     "data": {
      "text/plain": [
       "show_results (generic function with 1 method)"
      ]
     },
     "execution_count": 11,
     "metadata": {},
     "output_type": "execute_result"
    }
   ],
   "source": [
    "function show_results(chain)\n",
    "    print(compute_kldivergence_from_nash_eq(chain))\n",
    "    plotChn(chain)\n",
    "end"
   ]
  },
  {
   "cell_type": "markdown",
   "metadata": {},
   "source": [
    "## Depth 0"
   ]
  },
  {
   "cell_type": "code",
   "execution_count": 29,
   "metadata": {},
   "outputs": [],
   "source": [
    "chain = run_two_agents_theory_of_mind(agent, agent, [1,5,5] , [1,9,2], [], [], -1)"
   ]
  },
  {
   "cell_type": "code",
   "execution_count": 37,
   "metadata": {},
   "outputs": [
    {
     "name": "stdout",
     "output_type": "stream",
     "text": [
      "7.154852354927435"
     ]
    },
    {
     "data": {
      "image/svg+xml": [
       "<?xml version=\"1.0\" encoding=\"utf-8\"?>\n",
       "<svg xmlns=\"http://www.w3.org/2000/svg\" xmlns:xlink=\"http://www.w3.org/1999/xlink\" width=\"600\" height=\"400\" viewBox=\"0 0 2400 1600\">\n",
       "<defs>\n",
       "  <clipPath id=\"clip720\">\n",
       "    <rect x=\"0\" y=\"0\" width=\"2400\" height=\"1600\"/>\n",
       "  </clipPath>\n",
       "</defs>\n",
       "<path clip-path=\"url(#clip720)\" d=\"\n",
       "M0 1600 L2400 1600 L2400 0 L0 0  Z\n",
       "  \" fill=\"#ffffff\" fill-rule=\"evenodd\" fill-opacity=\"1\"/>\n",
       "<defs>\n",
       "  <clipPath id=\"clip721\">\n",
       "    <rect x=\"480\" y=\"0\" width=\"1681\" height=\"1600\"/>\n",
       "  </clipPath>\n",
       "</defs>\n",
       "<path clip-path=\"url(#clip720)\" d=\"\n",
       "M148.334 1486.45 L2352.76 1486.45 L2352.76 47.2441 L148.334 47.2441  Z\n",
       "  \" fill=\"#ffffff\" fill-rule=\"evenodd\" fill-opacity=\"1\"/>\n",
       "<defs>\n",
       "  <clipPath id=\"clip722\">\n",
       "    <rect x=\"148\" y=\"47\" width=\"2205\" height=\"1440\"/>\n",
       "  </clipPath>\n",
       "</defs>\n",
       "<polyline clip-path=\"url(#clip722)\" style=\"stroke:#000000; stroke-width:2; stroke-opacity:0.1; fill:none\" points=\"\n",
       "  269.581,1486.45 269.581,47.2441 \n",
       "  \"/>\n",
       "<polyline clip-path=\"url(#clip722)\" style=\"stroke:#000000; stroke-width:2; stroke-opacity:0.1; fill:none\" points=\"\n",
       "  715.474,1486.45 715.474,47.2441 \n",
       "  \"/>\n",
       "<polyline clip-path=\"url(#clip722)\" style=\"stroke:#000000; stroke-width:2; stroke-opacity:0.1; fill:none\" points=\"\n",
       "  1161.37,1486.45 1161.37,47.2441 \n",
       "  \"/>\n",
       "<polyline clip-path=\"url(#clip722)\" style=\"stroke:#000000; stroke-width:2; stroke-opacity:0.1; fill:none\" points=\"\n",
       "  1607.26,1486.45 1607.26,47.2441 \n",
       "  \"/>\n",
       "<polyline clip-path=\"url(#clip722)\" style=\"stroke:#000000; stroke-width:2; stroke-opacity:0.1; fill:none\" points=\"\n",
       "  2053.15,1486.45 2053.15,47.2441 \n",
       "  \"/>\n",
       "<polyline clip-path=\"url(#clip720)\" style=\"stroke:#000000; stroke-width:4; stroke-opacity:1; fill:none\" points=\"\n",
       "  148.334,1486.45 2352.76,1486.45 \n",
       "  \"/>\n",
       "<polyline clip-path=\"url(#clip720)\" style=\"stroke:#000000; stroke-width:4; stroke-opacity:1; fill:none\" points=\"\n",
       "  269.581,1486.45 269.581,1469.18 \n",
       "  \"/>\n",
       "<polyline clip-path=\"url(#clip720)\" style=\"stroke:#000000; stroke-width:4; stroke-opacity:1; fill:none\" points=\"\n",
       "  715.474,1486.45 715.474,1469.18 \n",
       "  \"/>\n",
       "<polyline clip-path=\"url(#clip720)\" style=\"stroke:#000000; stroke-width:4; stroke-opacity:1; fill:none\" points=\"\n",
       "  1161.37,1486.45 1161.37,1469.18 \n",
       "  \"/>\n",
       "<polyline clip-path=\"url(#clip720)\" style=\"stroke:#000000; stroke-width:4; stroke-opacity:1; fill:none\" points=\"\n",
       "  1607.26,1486.45 1607.26,1469.18 \n",
       "  \"/>\n",
       "<polyline clip-path=\"url(#clip720)\" style=\"stroke:#000000; stroke-width:4; stroke-opacity:1; fill:none\" points=\"\n",
       "  2053.15,1486.45 2053.15,1469.18 \n",
       "  \"/>\n",
       "<path clip-path=\"url(#clip720)\" d=\"M 0 0 M241.48 1543.18 L249.119 1543.18 L249.119 1516.82 L240.809 1518.49 L240.809 1514.23 L249.072 1512.56 L253.748 1512.56 L253.748 1543.18 L261.387 1543.18 L261.387 1547.12 L241.48 1547.12 L241.48 1543.18 Z\" fill=\"#000000\" fill-rule=\"evenodd\" fill-opacity=\"1\" /><path clip-path=\"url(#clip720)\" d=\"M 0 0 M266.457 1541.24 L271.341 1541.24 L271.341 1547.12 L266.457 1547.12 L266.457 1541.24 Z\" fill=\"#000000\" fill-rule=\"evenodd\" fill-opacity=\"1\" /><path clip-path=\"url(#clip720)\" d=\"M 0 0 M286.41 1515.64 Q282.799 1515.64 280.97 1519.2 Q279.165 1522.75 279.165 1529.87 Q279.165 1536.98 280.97 1540.55 Q282.799 1544.09 286.41 1544.09 Q290.044 1544.09 291.85 1540.55 Q293.679 1536.98 293.679 1529.87 Q293.679 1522.75 291.85 1519.2 Q290.044 1515.64 286.41 1515.64 M286.41 1511.93 Q292.22 1511.93 295.276 1516.54 Q298.354 1521.12 298.354 1529.87 Q298.354 1538.6 295.276 1543.21 Q292.22 1547.79 286.41 1547.79 Q280.6 1547.79 277.521 1543.21 Q274.466 1538.6 274.466 1529.87 Q274.466 1521.12 277.521 1516.54 Q280.6 1511.93 286.41 1511.93 Z\" fill=\"#000000\" fill-rule=\"evenodd\" fill-opacity=\"1\" /><path clip-path=\"url(#clip720)\" d=\"M 0 0 M687.87 1543.18 L695.509 1543.18 L695.509 1516.82 L687.199 1518.49 L687.199 1514.23 L695.463 1512.56 L700.138 1512.56 L700.138 1543.18 L707.777 1543.18 L707.777 1547.12 L687.87 1547.12 L687.87 1543.18 Z\" fill=\"#000000\" fill-rule=\"evenodd\" fill-opacity=\"1\" /><path clip-path=\"url(#clip720)\" d=\"M 0 0 M712.847 1541.24 L717.731 1541.24 L717.731 1547.12 L712.847 1547.12 L712.847 1541.24 Z\" fill=\"#000000\" fill-rule=\"evenodd\" fill-opacity=\"1\" /><path clip-path=\"url(#clip720)\" d=\"M 0 0 M722.847 1512.56 L741.203 1512.56 L741.203 1516.5 L727.129 1516.5 L727.129 1524.97 Q728.148 1524.62 729.166 1524.46 Q730.185 1524.27 731.203 1524.27 Q736.99 1524.27 740.37 1527.44 Q743.749 1530.62 743.749 1536.03 Q743.749 1541.61 740.277 1544.71 Q736.805 1547.79 730.486 1547.79 Q728.31 1547.79 726.041 1547.42 Q723.796 1547.05 721.388 1546.31 L721.388 1541.61 Q723.472 1542.74 725.694 1543.3 Q727.916 1543.86 730.393 1543.86 Q734.398 1543.86 736.736 1541.75 Q739.073 1539.64 739.073 1536.03 Q739.073 1532.42 736.736 1530.31 Q734.398 1528.21 730.393 1528.21 Q728.518 1528.21 726.643 1528.62 Q724.791 1529.04 722.847 1529.92 L722.847 1512.56 Z\" fill=\"#000000\" fill-rule=\"evenodd\" fill-opacity=\"1\" /><path clip-path=\"url(#clip720)\" d=\"M 0 0 M1137.54 1543.18 L1153.86 1543.18 L1153.86 1547.12 L1131.91 1547.12 L1131.91 1543.18 Q1134.57 1540.43 1139.16 1535.8 Q1143.76 1531.15 1144.94 1529.81 Q1147.19 1527.28 1148.07 1525.55 Q1148.97 1523.79 1148.97 1522.1 Q1148.97 1519.34 1147.03 1517.61 Q1145.11 1515.87 1142 1515.87 Q1139.8 1515.87 1137.35 1516.63 Q1134.92 1517.4 1132.14 1518.95 L1132.14 1514.23 Q1134.97 1513.09 1137.42 1512.51 Q1139.87 1511.93 1141.91 1511.93 Q1147.28 1511.93 1150.48 1514.62 Q1153.67 1517.31 1153.67 1521.8 Q1153.67 1523.93 1152.86 1525.85 Q1152.07 1527.74 1149.97 1530.34 Q1149.39 1531.01 1146.29 1534.23 Q1143.18 1537.42 1137.54 1543.18 Z\" fill=\"#000000\" fill-rule=\"evenodd\" fill-opacity=\"1\" /><path clip-path=\"url(#clip720)\" d=\"M 0 0 M1158.92 1541.24 L1163.81 1541.24 L1163.81 1547.12 L1158.92 1547.12 L1158.92 1541.24 Z\" fill=\"#000000\" fill-rule=\"evenodd\" fill-opacity=\"1\" /><path clip-path=\"url(#clip720)\" d=\"M 0 0 M1178.88 1515.64 Q1175.27 1515.64 1173.44 1519.2 Q1171.63 1522.75 1171.63 1529.87 Q1171.63 1536.98 1173.44 1540.55 Q1175.27 1544.09 1178.88 1544.09 Q1182.51 1544.09 1184.32 1540.55 Q1186.15 1536.98 1186.15 1529.87 Q1186.15 1522.75 1184.32 1519.2 Q1182.51 1515.64 1178.88 1515.64 M1178.88 1511.93 Q1184.69 1511.93 1187.74 1516.54 Q1190.82 1521.12 1190.82 1529.87 Q1190.82 1538.6 1187.74 1543.21 Q1184.69 1547.79 1178.88 1547.79 Q1173.07 1547.79 1169.99 1543.21 Q1166.93 1538.6 1166.93 1529.87 Q1166.93 1521.12 1169.99 1516.54 Q1173.07 1511.93 1178.88 1511.93 Z\" fill=\"#000000\" fill-rule=\"evenodd\" fill-opacity=\"1\" /><path clip-path=\"url(#clip720)\" d=\"M 0 0 M1583.93 1543.18 L1600.25 1543.18 L1600.25 1547.12 L1578.3 1547.12 L1578.3 1543.18 Q1580.96 1540.43 1585.55 1535.8 Q1590.15 1531.15 1591.33 1529.81 Q1593.58 1527.28 1594.46 1525.55 Q1595.36 1523.79 1595.36 1522.1 Q1595.36 1519.34 1593.42 1517.61 Q1591.5 1515.87 1588.39 1515.87 Q1586.19 1515.87 1583.74 1516.63 Q1581.31 1517.4 1578.53 1518.95 L1578.53 1514.23 Q1581.36 1513.09 1583.81 1512.51 Q1586.26 1511.93 1588.3 1511.93 Q1593.67 1511.93 1596.87 1514.62 Q1600.06 1517.31 1600.06 1521.8 Q1600.06 1523.93 1599.25 1525.85 Q1598.46 1527.74 1596.36 1530.34 Q1595.78 1531.01 1592.68 1534.23 Q1589.57 1537.42 1583.93 1543.18 Z\" fill=\"#000000\" fill-rule=\"evenodd\" fill-opacity=\"1\" /><path clip-path=\"url(#clip720)\" d=\"M 0 0 M1605.31 1541.24 L1610.2 1541.24 L1610.2 1547.12 L1605.31 1547.12 L1605.31 1541.24 Z\" fill=\"#000000\" fill-rule=\"evenodd\" fill-opacity=\"1\" /><path clip-path=\"url(#clip720)\" d=\"M 0 0 M1615.31 1512.56 L1633.67 1512.56 L1633.67 1516.5 L1619.6 1516.5 L1619.6 1524.97 Q1620.62 1524.62 1621.63 1524.46 Q1622.65 1524.27 1623.67 1524.27 Q1629.46 1524.27 1632.84 1527.44 Q1636.22 1530.62 1636.22 1536.03 Q1636.22 1541.61 1632.75 1544.71 Q1629.27 1547.79 1622.95 1547.79 Q1620.78 1547.79 1618.51 1547.42 Q1616.26 1547.05 1613.86 1546.31 L1613.86 1541.61 Q1615.94 1542.74 1618.16 1543.3 Q1620.38 1543.86 1622.86 1543.86 Q1626.87 1543.86 1629.2 1541.75 Q1631.54 1539.64 1631.54 1536.03 Q1631.54 1532.42 1629.2 1530.31 Q1626.87 1528.21 1622.86 1528.21 Q1620.99 1528.21 1619.11 1528.62 Q1617.26 1529.04 1615.31 1529.92 L1615.31 1512.56 Z\" fill=\"#000000\" fill-rule=\"evenodd\" fill-opacity=\"1\" /><path clip-path=\"url(#clip720)\" d=\"M 0 0 M2038.92 1528.49 Q2042.27 1529.2 2044.15 1531.47 Q2046.05 1533.74 2046.05 1537.07 Q2046.05 1542.19 2042.53 1544.99 Q2039.01 1547.79 2032.53 1547.79 Q2030.35 1547.79 2028.04 1547.35 Q2025.74 1546.93 2023.29 1546.08 L2023.29 1541.56 Q2025.24 1542.7 2027.55 1543.28 Q2029.86 1543.86 2032.39 1543.86 Q2036.79 1543.86 2039.08 1542.12 Q2041.39 1540.38 2041.39 1537.07 Q2041.39 1534.02 2039.24 1532.31 Q2037.11 1530.57 2033.29 1530.57 L2029.26 1530.57 L2029.26 1526.73 L2033.48 1526.73 Q2036.93 1526.73 2038.75 1525.36 Q2040.58 1523.97 2040.58 1521.38 Q2040.58 1518.72 2038.68 1517.31 Q2036.81 1515.87 2033.29 1515.87 Q2031.37 1515.87 2029.17 1516.29 Q2026.97 1516.7 2024.33 1517.58 L2024.33 1513.42 Q2026.99 1512.68 2029.31 1512.31 Q2031.65 1511.93 2033.71 1511.93 Q2039.03 1511.93 2042.13 1514.37 Q2045.24 1516.77 2045.24 1520.89 Q2045.24 1523.76 2043.59 1525.75 Q2041.95 1527.72 2038.92 1528.49 Z\" fill=\"#000000\" fill-rule=\"evenodd\" fill-opacity=\"1\" /><path clip-path=\"url(#clip720)\" d=\"M 0 0 M2051.11 1541.24 L2056 1541.24 L2056 1547.12 L2051.11 1547.12 L2051.11 1541.24 Z\" fill=\"#000000\" fill-rule=\"evenodd\" fill-opacity=\"1\" /><path clip-path=\"url(#clip720)\" d=\"M 0 0 M2071.07 1515.64 Q2067.46 1515.64 2065.63 1519.2 Q2063.82 1522.75 2063.82 1529.87 Q2063.82 1536.98 2065.63 1540.55 Q2067.46 1544.09 2071.07 1544.09 Q2074.7 1544.09 2076.51 1540.55 Q2078.34 1536.98 2078.34 1529.87 Q2078.34 1522.75 2076.51 1519.2 Q2074.7 1515.64 2071.07 1515.64 M2071.07 1511.93 Q2076.88 1511.93 2079.93 1516.54 Q2083.01 1521.12 2083.01 1529.87 Q2083.01 1538.6 2079.93 1543.21 Q2076.88 1547.79 2071.07 1547.79 Q2065.26 1547.79 2062.18 1543.21 Q2059.12 1538.6 2059.12 1529.87 Q2059.12 1521.12 2062.18 1516.54 Q2065.26 1511.93 2071.07 1511.93 Z\" fill=\"#000000\" fill-rule=\"evenodd\" fill-opacity=\"1\" /><polyline clip-path=\"url(#clip722)\" style=\"stroke:#000000; stroke-width:2; stroke-opacity:0.1; fill:none\" points=\"\n",
       "  148.334,1445.72 2352.76,1445.72 \n",
       "  \"/>\n",
       "<polyline clip-path=\"url(#clip722)\" style=\"stroke:#000000; stroke-width:2; stroke-opacity:0.1; fill:none\" points=\"\n",
       "  148.334,1142.11 2352.76,1142.11 \n",
       "  \"/>\n",
       "<polyline clip-path=\"url(#clip722)\" style=\"stroke:#000000; stroke-width:2; stroke-opacity:0.1; fill:none\" points=\"\n",
       "  148.334,838.498 2352.76,838.498 \n",
       "  \"/>\n",
       "<polyline clip-path=\"url(#clip722)\" style=\"stroke:#000000; stroke-width:2; stroke-opacity:0.1; fill:none\" points=\"\n",
       "  148.334,534.889 2352.76,534.889 \n",
       "  \"/>\n",
       "<polyline clip-path=\"url(#clip722)\" style=\"stroke:#000000; stroke-width:2; stroke-opacity:0.1; fill:none\" points=\"\n",
       "  148.334,231.28 2352.76,231.28 \n",
       "  \"/>\n",
       "<polyline clip-path=\"url(#clip720)\" style=\"stroke:#000000; stroke-width:4; stroke-opacity:1; fill:none\" points=\"\n",
       "  148.334,1486.45 148.334,47.2441 \n",
       "  \"/>\n",
       "<polyline clip-path=\"url(#clip720)\" style=\"stroke:#000000; stroke-width:4; stroke-opacity:1; fill:none\" points=\"\n",
       "  148.334,1445.72 174.787,1445.72 \n",
       "  \"/>\n",
       "<polyline clip-path=\"url(#clip720)\" style=\"stroke:#000000; stroke-width:4; stroke-opacity:1; fill:none\" points=\"\n",
       "  148.334,1142.11 174.787,1142.11 \n",
       "  \"/>\n",
       "<polyline clip-path=\"url(#clip720)\" style=\"stroke:#000000; stroke-width:4; stroke-opacity:1; fill:none\" points=\"\n",
       "  148.334,838.498 174.787,838.498 \n",
       "  \"/>\n",
       "<polyline clip-path=\"url(#clip720)\" style=\"stroke:#000000; stroke-width:4; stroke-opacity:1; fill:none\" points=\"\n",
       "  148.334,534.889 174.787,534.889 \n",
       "  \"/>\n",
       "<polyline clip-path=\"url(#clip720)\" style=\"stroke:#000000; stroke-width:4; stroke-opacity:1; fill:none\" points=\"\n",
       "  148.334,231.28 174.787,231.28 \n",
       "  \"/>\n",
       "<path clip-path=\"url(#clip720)\" d=\"M 0 0 M63.4226 1431.51 Q59.8115 1431.51 57.9828 1435.08 Q56.1773 1438.62 56.1773 1445.75 Q56.1773 1452.86 57.9828 1456.42 Q59.8115 1459.96 63.4226 1459.96 Q67.0569 1459.96 68.8624 1456.42 Q70.6911 1452.86 70.6911 1445.75 Q70.6911 1438.62 68.8624 1435.08 Q67.0569 1431.51 63.4226 1431.51 M63.4226 1427.81 Q69.2328 1427.81 72.2883 1432.42 Q75.367 1437 75.367 1445.75 Q75.367 1454.48 72.2883 1459.08 Q69.2328 1463.67 63.4226 1463.67 Q57.6125 1463.67 54.5338 1459.08 Q51.4782 1454.48 51.4782 1445.75 Q51.4782 1437 54.5338 1432.42 Q57.6125 1427.81 63.4226 1427.81 Z\" fill=\"#000000\" fill-rule=\"evenodd\" fill-opacity=\"1\" /><path clip-path=\"url(#clip720)\" d=\"M 0 0 M80.4364 1457.12 L85.3206 1457.12 L85.3206 1463 L80.4364 1463 L80.4364 1457.12 Z\" fill=\"#000000\" fill-rule=\"evenodd\" fill-opacity=\"1\" /><path clip-path=\"url(#clip720)\" d=\"M 0 0 M100.39 1431.51 Q96.7789 1431.51 94.9502 1435.08 Q93.1447 1438.62 93.1447 1445.75 Q93.1447 1452.86 94.9502 1456.42 Q96.7789 1459.96 100.39 1459.96 Q104.024 1459.96 105.83 1456.42 Q107.658 1452.86 107.658 1445.75 Q107.658 1438.62 105.83 1435.08 Q104.024 1431.51 100.39 1431.51 M100.39 1427.81 Q106.2 1427.81 109.256 1432.42 Q112.334 1437 112.334 1445.75 Q112.334 1454.48 109.256 1459.08 Q106.2 1463.67 100.39 1463.67 Q94.5799 1463.67 91.5012 1459.08 Q88.4456 1454.48 88.4456 1445.75 Q88.4456 1437 91.5012 1432.42 Q94.5799 1427.81 100.39 1427.81 Z\" fill=\"#000000\" fill-rule=\"evenodd\" fill-opacity=\"1\" /><path clip-path=\"url(#clip720)\" d=\"M 0 0 M64.6495 1127.91 Q61.0384 1127.91 59.2097 1131.47 Q57.4041 1135.01 57.4041 1142.14 Q57.4041 1149.25 59.2097 1152.81 Q61.0384 1156.35 64.6495 1156.35 Q68.2837 1156.35 70.0892 1152.81 Q71.9179 1149.25 71.9179 1142.14 Q71.9179 1135.01 70.0892 1131.47 Q68.2837 1127.91 64.6495 1127.91 M64.6495 1124.2 Q70.4596 1124.2 73.5152 1128.81 Q76.5938 1133.39 76.5938 1142.14 Q76.5938 1150.87 73.5152 1155.47 Q70.4596 1160.06 64.6495 1160.06 Q58.8393 1160.06 55.7606 1155.47 Q52.7051 1150.87 52.7051 1142.14 Q52.7051 1133.39 55.7606 1128.81 Q58.8393 1124.2 64.6495 1124.2 Z\" fill=\"#000000\" fill-rule=\"evenodd\" fill-opacity=\"1\" /><path clip-path=\"url(#clip720)\" d=\"M 0 0 M81.6633 1153.51 L86.5475 1153.51 L86.5475 1159.39 L81.6633 1159.39 L81.6633 1153.51 Z\" fill=\"#000000\" fill-rule=\"evenodd\" fill-opacity=\"1\" /><path clip-path=\"url(#clip720)\" d=\"M 0 0 M92.4271 1155.45 L100.066 1155.45 L100.066 1129.09 L91.7558 1130.75 L91.7558 1126.49 L100.02 1124.83 L104.696 1124.83 L104.696 1155.45 L112.334 1155.45 L112.334 1159.39 L92.4271 1159.39 L92.4271 1155.45 Z\" fill=\"#000000\" fill-rule=\"evenodd\" fill-opacity=\"1\" /><path clip-path=\"url(#clip720)\" d=\"M 0 0 M65.0198 824.296 Q61.4087 824.296 59.58 827.861 Q57.7745 831.403 57.7745 838.532 Q57.7745 845.639 59.58 849.204 Q61.4087 852.745 65.0198 852.745 Q68.6541 852.745 70.4596 849.204 Q72.2883 845.639 72.2883 838.532 Q72.2883 831.403 70.4596 827.861 Q68.6541 824.296 65.0198 824.296 M65.0198 820.593 Q70.83 820.593 73.8855 825.199 Q76.9642 829.782 76.9642 838.532 Q76.9642 847.259 73.8855 851.866 Q70.83 856.449 65.0198 856.449 Q59.2097 856.449 56.131 851.866 Q53.0754 847.259 53.0754 838.532 Q53.0754 829.782 56.131 825.199 Q59.2097 820.593 65.0198 820.593 Z\" fill=\"#000000\" fill-rule=\"evenodd\" fill-opacity=\"1\" /><path clip-path=\"url(#clip720)\" d=\"M 0 0 M82.0336 849.898 L86.9179 849.898 L86.9179 855.778 L82.0336 855.778 L82.0336 849.898 Z\" fill=\"#000000\" fill-rule=\"evenodd\" fill-opacity=\"1\" /><path clip-path=\"url(#clip720)\" d=\"M 0 0 M96.015 851.843 L112.334 851.843 L112.334 855.778 L90.3901 855.778 L90.3901 851.843 Q93.0521 849.088 97.6354 844.458 Q102.242 839.806 103.422 838.463 Q105.668 835.94 106.547 834.204 Q107.45 832.444 107.45 830.755 Q107.45 828 105.506 826.264 Q103.584 824.528 100.483 824.528 Q98.2835 824.528 95.8298 825.292 Q93.3993 826.056 90.6215 827.607 L90.6215 822.884 Q93.4456 821.75 95.8993 821.171 Q98.353 820.593 100.39 820.593 Q105.76 820.593 108.955 823.278 Q112.149 825.963 112.149 830.454 Q112.149 832.583 111.339 834.505 Q110.552 836.403 108.446 838.995 Q107.867 839.667 104.765 842.884 Q101.663 846.079 96.015 851.843 Z\" fill=\"#000000\" fill-rule=\"evenodd\" fill-opacity=\"1\" /><path clip-path=\"url(#clip720)\" d=\"M 0 0 M64.0708 520.687 Q60.4597 520.687 58.631 524.252 Q56.8254 527.794 56.8254 534.923 Q56.8254 542.03 58.631 545.595 Q60.4597 549.136 64.0708 549.136 Q67.705 549.136 69.5105 545.595 Q71.3392 542.03 71.3392 534.923 Q71.3392 527.794 69.5105 524.252 Q67.705 520.687 64.0708 520.687 M64.0708 516.984 Q69.8809 516.984 72.9365 521.59 Q76.0151 526.173 76.0151 534.923 Q76.0151 543.65 72.9365 548.257 Q69.8809 552.84 64.0708 552.84 Q58.2606 552.84 55.1819 548.257 Q52.1264 543.65 52.1264 534.923 Q52.1264 526.173 55.1819 521.59 Q58.2606 516.984 64.0708 516.984 Z\" fill=\"#000000\" fill-rule=\"evenodd\" fill-opacity=\"1\" /><path clip-path=\"url(#clip720)\" d=\"M 0 0 M81.0846 546.289 L85.9688 546.289 L85.9688 552.169 L81.0846 552.169 L81.0846 546.289 Z\" fill=\"#000000\" fill-rule=\"evenodd\" fill-opacity=\"1\" /><path clip-path=\"url(#clip720)\" d=\"M 0 0 M105.205 533.535 Q108.561 534.252 110.436 536.521 Q112.334 538.789 112.334 542.122 Q112.334 547.238 108.816 550.039 Q105.297 552.84 98.8159 552.84 Q96.64 552.84 94.3252 552.4 Q92.0336 551.984 89.5799 551.127 L89.5799 546.613 Q91.5243 547.747 93.8391 548.326 Q96.1539 548.905 98.6771 548.905 Q103.075 548.905 105.367 547.169 Q107.682 545.433 107.682 542.122 Q107.682 539.067 105.529 537.354 Q103.399 535.618 99.5798 535.618 L95.5521 535.618 L95.5521 531.775 L99.765 531.775 Q103.214 531.775 105.043 530.41 Q106.871 529.021 106.871 526.428 Q106.871 523.766 104.973 522.354 Q103.098 520.919 99.5798 520.919 Q97.6585 520.919 95.4595 521.336 Q93.2604 521.752 90.6215 522.632 L90.6215 518.465 Q93.2836 517.724 95.5984 517.354 Q97.9363 516.984 99.9965 516.984 Q105.321 516.984 108.422 519.414 Q111.524 521.822 111.524 525.942 Q111.524 528.812 109.881 530.803 Q108.237 532.771 105.205 533.535 Z\" fill=\"#000000\" fill-rule=\"evenodd\" fill-opacity=\"1\" /><path clip-path=\"url(#clip720)\" d=\"M 0 0 M62.9365 217.078 Q59.3254 217.078 57.4967 220.643 Q55.6912 224.185 55.6912 231.314 Q55.6912 238.421 57.4967 241.986 Q59.3254 245.527 62.9365 245.527 Q66.5707 245.527 68.3763 241.986 Q70.205 238.421 70.205 231.314 Q70.205 224.185 68.3763 220.643 Q66.5707 217.078 62.9365 217.078 M62.9365 213.375 Q68.7467 213.375 71.8022 217.981 Q74.8809 222.564 74.8809 231.314 Q74.8809 240.041 71.8022 244.648 Q68.7467 249.231 62.9365 249.231 Q57.1264 249.231 54.0477 244.648 Q50.9921 240.041 50.9921 231.314 Q50.9921 222.564 54.0477 217.981 Q57.1264 213.375 62.9365 213.375 Z\" fill=\"#000000\" fill-rule=\"evenodd\" fill-opacity=\"1\" /><path clip-path=\"url(#clip720)\" d=\"M 0 0 M79.9503 242.68 L84.8345 242.68 L84.8345 248.56 L79.9503 248.56 L79.9503 242.68 Z\" fill=\"#000000\" fill-rule=\"evenodd\" fill-opacity=\"1\" /><path clip-path=\"url(#clip720)\" d=\"M 0 0 M102.751 218.074 L90.9456 236.523 L102.751 236.523 L102.751 218.074 M101.524 214 L107.404 214 L107.404 236.523 L112.334 236.523 L112.334 240.412 L107.404 240.412 L107.404 248.56 L102.751 248.56 L102.751 240.412 L87.1493 240.412 L87.1493 235.898 L101.524 214 Z\" fill=\"#000000\" fill-rule=\"evenodd\" fill-opacity=\"1\" /><path clip-path=\"url(#clip722)\" d=\"\n",
       "M269.581 87.9763 L269.581 1445.72 L447.939 1445.72 L447.939 87.9763 L269.581 87.9763 L269.581 87.9763  Z\n",
       "  \" fill=\"#009af9\" fill-rule=\"evenodd\" fill-opacity=\"1\"/>\n",
       "<polyline clip-path=\"url(#clip722)\" style=\"stroke:#000000; stroke-width:4; stroke-opacity:1; fill:none\" points=\"\n",
       "  269.581,87.9763 269.581,1445.72 447.939,1445.72 447.939,87.9763 269.581,87.9763 \n",
       "  \"/>\n",
       "<path clip-path=\"url(#clip722)\" d=\"\n",
       "M447.939 1445.72 L447.939 1445.72 L626.296 1445.72 L626.296 1445.72 L447.939 1445.72 L447.939 1445.72  Z\n",
       "  \" fill=\"#009af9\" fill-rule=\"evenodd\" fill-opacity=\"1\"/>\n",
       "<polyline clip-path=\"url(#clip722)\" style=\"stroke:#000000; stroke-width:4; stroke-opacity:1; fill:none\" points=\"\n",
       "  447.939,1445.72 447.939,1445.72 626.296,1445.72 447.939,1445.72 \n",
       "  \"/>\n",
       "<path clip-path=\"url(#clip722)\" d=\"\n",
       "M626.296 1445.72 L626.296 1445.72 L804.653 1445.72 L804.653 1445.72 L626.296 1445.72 L626.296 1445.72  Z\n",
       "  \" fill=\"#009af9\" fill-rule=\"evenodd\" fill-opacity=\"1\"/>\n",
       "<polyline clip-path=\"url(#clip722)\" style=\"stroke:#000000; stroke-width:4; stroke-opacity:1; fill:none\" points=\"\n",
       "  626.296,1445.72 626.296,1445.72 804.653,1445.72 626.296,1445.72 \n",
       "  \"/>\n",
       "<path clip-path=\"url(#clip722)\" d=\"\n",
       "M804.653 1445.72 L804.653 1445.72 L983.01 1445.72 L983.01 1445.72 L804.653 1445.72 L804.653 1445.72  Z\n",
       "  \" fill=\"#009af9\" fill-rule=\"evenodd\" fill-opacity=\"1\"/>\n",
       "<polyline clip-path=\"url(#clip722)\" style=\"stroke:#000000; stroke-width:4; stroke-opacity:1; fill:none\" points=\"\n",
       "  804.653,1445.72 804.653,1445.72 983.01,1445.72 804.653,1445.72 \n",
       "  \"/>\n",
       "<path clip-path=\"url(#clip722)\" d=\"\n",
       "M983.01 1445.72 L983.01 1445.72 L1161.37 1445.72 L1161.37 1445.72 L983.01 1445.72 L983.01 1445.72  Z\n",
       "  \" fill=\"#009af9\" fill-rule=\"evenodd\" fill-opacity=\"1\"/>\n",
       "<polyline clip-path=\"url(#clip722)\" style=\"stroke:#000000; stroke-width:4; stroke-opacity:1; fill:none\" points=\"\n",
       "  983.01,1445.72 983.01,1445.72 1161.37,1445.72 983.01,1445.72 \n",
       "  \"/>\n",
       "<path clip-path=\"url(#clip722)\" d=\"\n",
       "M1161.37 1107.5 L1161.37 1445.72 L1339.72 1445.72 L1339.72 1107.5 L1161.37 1107.5 L1161.37 1107.5  Z\n",
       "  \" fill=\"#009af9\" fill-rule=\"evenodd\" fill-opacity=\"1\"/>\n",
       "<polyline clip-path=\"url(#clip722)\" style=\"stroke:#000000; stroke-width:4; stroke-opacity:1; fill:none\" points=\"\n",
       "  1161.37,1107.5 1161.37,1445.72 1339.72,1445.72 1339.72,1107.5 1161.37,1107.5 \n",
       "  \"/>\n",
       "<path clip-path=\"url(#clip722)\" d=\"\n",
       "M1339.72 1445.72 L1339.72 1445.72 L1518.08 1445.72 L1518.08 1445.72 L1339.72 1445.72 L1339.72 1445.72  Z\n",
       "  \" fill=\"#009af9\" fill-rule=\"evenodd\" fill-opacity=\"1\"/>\n",
       "<polyline clip-path=\"url(#clip722)\" style=\"stroke:#000000; stroke-width:4; stroke-opacity:1; fill:none\" points=\"\n",
       "  1339.72,1445.72 1339.72,1445.72 1518.08,1445.72 1339.72,1445.72 \n",
       "  \"/>\n",
       "<path clip-path=\"url(#clip722)\" d=\"\n",
       "M1518.08 1445.72 L1518.08 1445.72 L1696.44 1445.72 L1696.44 1445.72 L1518.08 1445.72 L1518.08 1445.72  Z\n",
       "  \" fill=\"#009af9\" fill-rule=\"evenodd\" fill-opacity=\"1\"/>\n",
       "<polyline clip-path=\"url(#clip722)\" style=\"stroke:#000000; stroke-width:4; stroke-opacity:1; fill:none\" points=\"\n",
       "  1518.08,1445.72 1518.08,1445.72 1696.44,1445.72 1518.08,1445.72 \n",
       "  \"/>\n",
       "<path clip-path=\"url(#clip722)\" d=\"\n",
       "M1696.44 1445.72 L1696.44 1445.72 L1874.79 1445.72 L1874.79 1445.72 L1696.44 1445.72 L1696.44 1445.72  Z\n",
       "  \" fill=\"#009af9\" fill-rule=\"evenodd\" fill-opacity=\"1\"/>\n",
       "<polyline clip-path=\"url(#clip722)\" style=\"stroke:#000000; stroke-width:4; stroke-opacity:1; fill:none\" points=\"\n",
       "  1696.44,1445.72 1696.44,1445.72 1874.79,1445.72 1696.44,1445.72 \n",
       "  \"/>\n",
       "<path clip-path=\"url(#clip722)\" d=\"\n",
       "M1874.79 1445.72 L1874.79 1445.72 L2053.15 1445.72 L2053.15 1445.72 L1874.79 1445.72 L1874.79 1445.72  Z\n",
       "  \" fill=\"#009af9\" fill-rule=\"evenodd\" fill-opacity=\"1\"/>\n",
       "<polyline clip-path=\"url(#clip722)\" style=\"stroke:#000000; stroke-width:4; stroke-opacity:1; fill:none\" points=\"\n",
       "  1874.79,1445.72 1874.79,1445.72 2053.15,1445.72 1874.79,1445.72 \n",
       "  \"/>\n",
       "<path clip-path=\"url(#clip722)\" d=\"\n",
       "M2053.15 105.586 L2053.15 1445.72 L2231.51 1445.72 L2231.51 105.586 L2053.15 105.586 L2053.15 105.586  Z\n",
       "  \" fill=\"#009af9\" fill-rule=\"evenodd\" fill-opacity=\"1\"/>\n",
       "<polyline clip-path=\"url(#clip722)\" style=\"stroke:#000000; stroke-width:4; stroke-opacity:1; fill:none\" points=\"\n",
       "  2053.15,105.586 2053.15,1445.72 2231.51,1445.72 2231.51,105.586 2053.15,105.586 \n",
       "  \"/>\n",
       "<path clip-path=\"url(#clip720)\" d=\"\n",
       "M1983.32 216.178 L2279.28 216.178 L2279.28 95.2176 L1983.32 95.2176  Z\n",
       "  \" fill=\"#ffffff\" fill-rule=\"evenodd\" fill-opacity=\"1\"/>\n",
       "<polyline clip-path=\"url(#clip720)\" style=\"stroke:#000000; stroke-width:4; stroke-opacity:1; fill:none\" points=\"\n",
       "  1983.32,216.178 2279.28,216.178 2279.28,95.2176 1983.32,95.2176 1983.32,216.178 \n",
       "  \"/>\n",
       "<path clip-path=\"url(#clip720)\" d=\"\n",
       "M2007.81 179.89 L2154.78 179.89 L2154.78 131.506 L2007.81 131.506 L2007.81 179.89  Z\n",
       "  \" fill=\"#009af9\" fill-rule=\"evenodd\" fill-opacity=\"1\"/>\n",
       "<polyline clip-path=\"url(#clip720)\" style=\"stroke:#000000; stroke-width:4; stroke-opacity:1; fill:none\" points=\"\n",
       "  2007.81,179.89 2154.78,179.89 2154.78,131.506 2007.81,131.506 2007.81,179.89 \n",
       "  \"/>\n",
       "<path clip-path=\"url(#clip720)\" d=\"M 0 0 M2193.11 175.385 Q2191.31 180.015 2189.59 181.427 Q2187.88 182.839 2185.01 182.839 L2181.61 182.839 L2181.61 179.274 L2184.11 179.274 Q2185.87 179.274 2186.84 178.44 Q2187.81 177.607 2188.99 174.505 L2189.76 172.561 L2179.27 147.052 L2183.78 147.052 L2191.89 167.329 L2199.99 147.052 L2204.5 147.052 L2193.11 175.385 Z\" fill=\"#000000\" fill-rule=\"evenodd\" fill-opacity=\"1\" /><path clip-path=\"url(#clip720)\" d=\"M 0 0 M2210.38 169.042 L2218.02 169.042 L2218.02 142.677 L2209.71 144.343 L2209.71 140.084 L2217.97 138.418 L2222.65 138.418 L2222.65 169.042 L2230.29 169.042 L2230.29 172.978 L2210.38 172.978 L2210.38 169.042 Z\" fill=\"#000000\" fill-rule=\"evenodd\" fill-opacity=\"1\" /></svg>\n"
      ]
     },
     "execution_count": 37,
     "metadata": {},
     "output_type": "execute_result"
    }
   ],
   "source": [
    "show_results(chain)"
   ]
  },
  {
   "cell_type": "code",
   "execution_count": 39,
   "metadata": {},
   "outputs": [
    {
     "data": {
      "text/plain": [
       "Chains MCMC chain (10000×6×1 Array{Float64,3}):\n",
       "\n",
       "Log evidence      = 0.0\n",
       "Iterations        = 1:10000\n",
       "Thinning interval = 1\n",
       "Chains            = 1\n",
       "Samples per chain = 10000\n",
       "parameters        = beta_opp[1], beta_opp[2], beta_opp[3], my_move, next_opp_move\n",
       "internals         = lp\n",
       "\n",
       "Summary Statistics\n",
       " \u001b[1m    parameters \u001b[0m \u001b[1m    mean \u001b[0m \u001b[1m     std \u001b[0m \u001b[1m naive_se \u001b[0m \u001b[1m    mcse \u001b[0m \u001b[1m        ess \u001b[0m \u001b[1m    rha\u001b[0m ⋯\n",
       " \u001b[90m        Symbol \u001b[0m \u001b[90m Float64 \u001b[0m \u001b[90m Float64 \u001b[0m \u001b[90m  Float64 \u001b[0m \u001b[90m Float64 \u001b[0m \u001b[90m    Float64 \u001b[0m \u001b[90m Float6\u001b[0m ⋯\n",
       "\n",
       "    beta_opp[1]    0.0835    0.0769     0.0008    0.0007    9794.4131    1.000 ⋯\n",
       "    beta_opp[2]    0.7491    0.1199     0.0012    0.0011    9619.1302    1.000 ⋯\n",
       "    beta_opp[3]    0.1674    0.1044     0.0010    0.0009   10080.5907    0.999 ⋯\n",
       "        my_move    2.5413    0.7797     0.0078    0.0084   10119.2696    0.999 ⋯\n",
       "  next_opp_move    2.0900    0.4915     0.0049    0.0049   10027.1964    0.999 ⋯\n",
       "\u001b[31m                                                                1 column omitted\u001b[0m\n",
       "\n",
       "Quantiles\n",
       " \u001b[1m    parameters \u001b[0m \u001b[1m    2.5% \u001b[0m \u001b[1m   25.0% \u001b[0m \u001b[1m   50.0% \u001b[0m \u001b[1m   75.0% \u001b[0m \u001b[1m   97.5% \u001b[0m\n",
       " \u001b[90m        Symbol \u001b[0m \u001b[90m Float64 \u001b[0m \u001b[90m Float64 \u001b[0m \u001b[90m Float64 \u001b[0m \u001b[90m Float64 \u001b[0m \u001b[90m Float64 \u001b[0m\n",
       "\n",
       "    beta_opp[1]    0.0026    0.0254    0.0612    0.1184    0.2849\n",
       "    beta_opp[2]    0.4824    0.6716    0.7639    0.8399    0.9389\n",
       "    beta_opp[3]    0.0232    0.0881    0.1482    0.2281    0.4159\n",
       "        my_move    1.0000    2.0000    3.0000    3.0000    3.0000\n",
       "  next_opp_move    1.0000    2.0000    2.0000    2.0000    3.0000\n"
      ]
     },
     "execution_count": 39,
     "metadata": {},
     "output_type": "execute_result"
    }
   ],
   "source": [
    "chain = run_two_agents_theory_of_mind(agent, agent, [1,9,2] , [1,9,2], [], [], -1)"
   ]
  },
  {
   "cell_type": "code",
   "execution_count": 40,
   "metadata": {},
   "outputs": [
    {
     "name": "stdout",
     "output_type": "stream",
     "text": [
      "10.705832668674233"
     ]
    },
    {
     "data": {
      "image/svg+xml": [
       "<?xml version=\"1.0\" encoding=\"utf-8\"?>\n",
       "<svg xmlns=\"http://www.w3.org/2000/svg\" xmlns:xlink=\"http://www.w3.org/1999/xlink\" width=\"600\" height=\"400\" viewBox=\"0 0 2400 1600\">\n",
       "<defs>\n",
       "  <clipPath id=\"clip800\">\n",
       "    <rect x=\"0\" y=\"0\" width=\"2400\" height=\"1600\"/>\n",
       "  </clipPath>\n",
       "</defs>\n",
       "<path clip-path=\"url(#clip800)\" d=\"\n",
       "M0 1600 L2400 1600 L2400 0 L0 0  Z\n",
       "  \" fill=\"#ffffff\" fill-rule=\"evenodd\" fill-opacity=\"1\"/>\n",
       "<defs>\n",
       "  <clipPath id=\"clip801\">\n",
       "    <rect x=\"480\" y=\"0\" width=\"1681\" height=\"1600\"/>\n",
       "  </clipPath>\n",
       "</defs>\n",
       "<path clip-path=\"url(#clip800)\" d=\"\n",
       "M148.334 1486.45 L2352.76 1486.45 L2352.76 47.2441 L148.334 47.2441  Z\n",
       "  \" fill=\"#ffffff\" fill-rule=\"evenodd\" fill-opacity=\"1\"/>\n",
       "<defs>\n",
       "  <clipPath id=\"clip802\">\n",
       "    <rect x=\"148\" y=\"47\" width=\"2205\" height=\"1440\"/>\n",
       "  </clipPath>\n",
       "</defs>\n",
       "<polyline clip-path=\"url(#clip802)\" style=\"stroke:#000000; stroke-width:2; stroke-opacity:0.1; fill:none\" points=\"\n",
       "  269.581,1486.45 269.581,47.2441 \n",
       "  \"/>\n",
       "<polyline clip-path=\"url(#clip802)\" style=\"stroke:#000000; stroke-width:2; stroke-opacity:0.1; fill:none\" points=\"\n",
       "  736.707,1486.45 736.707,47.2441 \n",
       "  \"/>\n",
       "<polyline clip-path=\"url(#clip802)\" style=\"stroke:#000000; stroke-width:2; stroke-opacity:0.1; fill:none\" points=\"\n",
       "  1203.83,1486.45 1203.83,47.2441 \n",
       "  \"/>\n",
       "<polyline clip-path=\"url(#clip802)\" style=\"stroke:#000000; stroke-width:2; stroke-opacity:0.1; fill:none\" points=\"\n",
       "  1670.96,1486.45 1670.96,47.2441 \n",
       "  \"/>\n",
       "<polyline clip-path=\"url(#clip802)\" style=\"stroke:#000000; stroke-width:2; stroke-opacity:0.1; fill:none\" points=\"\n",
       "  2138.08,1486.45 2138.08,47.2441 \n",
       "  \"/>\n",
       "<polyline clip-path=\"url(#clip800)\" style=\"stroke:#000000; stroke-width:4; stroke-opacity:1; fill:none\" points=\"\n",
       "  148.334,1486.45 2352.76,1486.45 \n",
       "  \"/>\n",
       "<polyline clip-path=\"url(#clip800)\" style=\"stroke:#000000; stroke-width:4; stroke-opacity:1; fill:none\" points=\"\n",
       "  269.581,1486.45 269.581,1469.18 \n",
       "  \"/>\n",
       "<polyline clip-path=\"url(#clip800)\" style=\"stroke:#000000; stroke-width:4; stroke-opacity:1; fill:none\" points=\"\n",
       "  736.707,1486.45 736.707,1469.18 \n",
       "  \"/>\n",
       "<polyline clip-path=\"url(#clip800)\" style=\"stroke:#000000; stroke-width:4; stroke-opacity:1; fill:none\" points=\"\n",
       "  1203.83,1486.45 1203.83,1469.18 \n",
       "  \"/>\n",
       "<polyline clip-path=\"url(#clip800)\" style=\"stroke:#000000; stroke-width:4; stroke-opacity:1; fill:none\" points=\"\n",
       "  1670.96,1486.45 1670.96,1469.18 \n",
       "  \"/>\n",
       "<polyline clip-path=\"url(#clip800)\" style=\"stroke:#000000; stroke-width:4; stroke-opacity:1; fill:none\" points=\"\n",
       "  2138.08,1486.45 2138.08,1469.18 \n",
       "  \"/>\n",
       "<path clip-path=\"url(#clip800)\" d=\"M 0 0 M241.48 1543.18 L249.119 1543.18 L249.119 1516.82 L240.809 1518.49 L240.809 1514.23 L249.072 1512.56 L253.748 1512.56 L253.748 1543.18 L261.387 1543.18 L261.387 1547.12 L241.48 1547.12 L241.48 1543.18 Z\" fill=\"#000000\" fill-rule=\"evenodd\" fill-opacity=\"1\" /><path clip-path=\"url(#clip800)\" d=\"M 0 0 M266.457 1541.24 L271.341 1541.24 L271.341 1547.12 L266.457 1547.12 L266.457 1541.24 Z\" fill=\"#000000\" fill-rule=\"evenodd\" fill-opacity=\"1\" /><path clip-path=\"url(#clip800)\" d=\"M 0 0 M286.41 1515.64 Q282.799 1515.64 280.97 1519.2 Q279.165 1522.75 279.165 1529.87 Q279.165 1536.98 280.97 1540.55 Q282.799 1544.09 286.41 1544.09 Q290.044 1544.09 291.85 1540.55 Q293.679 1536.98 293.679 1529.87 Q293.679 1522.75 291.85 1519.2 Q290.044 1515.64 286.41 1515.64 M286.41 1511.93 Q292.22 1511.93 295.276 1516.54 Q298.354 1521.12 298.354 1529.87 Q298.354 1538.6 295.276 1543.21 Q292.22 1547.79 286.41 1547.79 Q280.6 1547.79 277.521 1543.21 Q274.466 1538.6 274.466 1529.87 Q274.466 1521.12 277.521 1516.54 Q280.6 1511.93 286.41 1511.93 Z\" fill=\"#000000\" fill-rule=\"evenodd\" fill-opacity=\"1\" /><path clip-path=\"url(#clip800)\" d=\"M 0 0 M709.103 1543.18 L716.742 1543.18 L716.742 1516.82 L708.432 1518.49 L708.432 1514.23 L716.696 1512.56 L721.371 1512.56 L721.371 1543.18 L729.01 1543.18 L729.01 1547.12 L709.103 1547.12 L709.103 1543.18 Z\" fill=\"#000000\" fill-rule=\"evenodd\" fill-opacity=\"1\" /><path clip-path=\"url(#clip800)\" d=\"M 0 0 M734.08 1541.24 L738.964 1541.24 L738.964 1547.12 L734.08 1547.12 L734.08 1541.24 Z\" fill=\"#000000\" fill-rule=\"evenodd\" fill-opacity=\"1\" /><path clip-path=\"url(#clip800)\" d=\"M 0 0 M744.08 1512.56 L762.436 1512.56 L762.436 1516.5 L748.362 1516.5 L748.362 1524.97 Q749.381 1524.62 750.399 1524.46 Q751.418 1524.27 752.436 1524.27 Q758.223 1524.27 761.603 1527.44 Q764.982 1530.62 764.982 1536.03 Q764.982 1541.61 761.51 1544.71 Q758.038 1547.79 751.719 1547.79 Q749.543 1547.79 747.274 1547.42 Q745.029 1547.05 742.621 1546.31 L742.621 1541.61 Q744.705 1542.74 746.927 1543.3 Q749.149 1543.86 751.626 1543.86 Q755.631 1543.86 757.969 1541.75 Q760.306 1539.64 760.306 1536.03 Q760.306 1532.42 757.969 1530.31 Q755.631 1528.21 751.626 1528.21 Q749.751 1528.21 747.876 1528.62 Q746.024 1529.04 744.08 1529.92 L744.08 1512.56 Z\" fill=\"#000000\" fill-rule=\"evenodd\" fill-opacity=\"1\" /><path clip-path=\"url(#clip800)\" d=\"M 0 0 M1180 1543.18 L1196.32 1543.18 L1196.32 1547.12 L1174.38 1547.12 L1174.38 1543.18 Q1177.04 1540.43 1181.62 1535.8 Q1186.23 1531.15 1187.41 1529.81 Q1189.65 1527.28 1190.53 1525.55 Q1191.44 1523.79 1191.44 1522.1 Q1191.44 1519.34 1189.49 1517.61 Q1187.57 1515.87 1184.47 1515.87 Q1182.27 1515.87 1179.82 1516.63 Q1177.39 1517.4 1174.61 1518.95 L1174.61 1514.23 Q1177.43 1513.09 1179.89 1512.51 Q1182.34 1511.93 1184.38 1511.93 Q1189.75 1511.93 1192.94 1514.62 Q1196.14 1517.31 1196.14 1521.8 Q1196.14 1523.93 1195.33 1525.85 Q1194.54 1527.74 1192.43 1530.34 Q1191.85 1531.01 1188.75 1534.23 Q1185.65 1537.42 1180 1543.18 Z\" fill=\"#000000\" fill-rule=\"evenodd\" fill-opacity=\"1\" /><path clip-path=\"url(#clip800)\" d=\"M 0 0 M1201.39 1541.24 L1206.27 1541.24 L1206.27 1547.12 L1201.39 1547.12 L1201.39 1541.24 Z\" fill=\"#000000\" fill-rule=\"evenodd\" fill-opacity=\"1\" /><path clip-path=\"url(#clip800)\" d=\"M 0 0 M1221.34 1515.64 Q1217.73 1515.64 1215.9 1519.2 Q1214.1 1522.75 1214.1 1529.87 Q1214.1 1536.98 1215.9 1540.55 Q1217.73 1544.09 1221.34 1544.09 Q1224.98 1544.09 1226.78 1540.55 Q1228.61 1536.98 1228.61 1529.87 Q1228.61 1522.75 1226.78 1519.2 Q1224.98 1515.64 1221.34 1515.64 M1221.34 1511.93 Q1227.15 1511.93 1230.21 1516.54 Q1233.29 1521.12 1233.29 1529.87 Q1233.29 1538.6 1230.21 1543.21 Q1227.15 1547.79 1221.34 1547.79 Q1215.53 1547.79 1212.46 1543.21 Q1209.4 1538.6 1209.4 1529.87 Q1209.4 1521.12 1212.46 1516.54 Q1215.53 1511.93 1221.34 1511.93 Z\" fill=\"#000000\" fill-rule=\"evenodd\" fill-opacity=\"1\" /><path clip-path=\"url(#clip800)\" d=\"M 0 0 M1647.62 1543.18 L1663.94 1543.18 L1663.94 1547.12 L1642 1547.12 L1642 1543.18 Q1644.66 1540.43 1649.25 1535.8 Q1653.85 1531.15 1655.03 1529.81 Q1657.28 1527.28 1658.16 1525.55 Q1659.06 1523.79 1659.06 1522.1 Q1659.06 1519.34 1657.12 1517.61 Q1655.19 1515.87 1652.09 1515.87 Q1649.89 1515.87 1647.44 1516.63 Q1645.01 1517.4 1642.23 1518.95 L1642.23 1514.23 Q1645.06 1513.09 1647.51 1512.51 Q1649.96 1511.93 1652 1511.93 Q1657.37 1511.93 1660.56 1514.62 Q1663.76 1517.31 1663.76 1521.8 Q1663.76 1523.93 1662.95 1525.85 Q1662.16 1527.74 1660.06 1530.34 Q1659.48 1531.01 1656.37 1534.23 Q1653.27 1537.42 1647.62 1543.18 Z\" fill=\"#000000\" fill-rule=\"evenodd\" fill-opacity=\"1\" /><path clip-path=\"url(#clip800)\" d=\"M 0 0 M1669.01 1541.24 L1673.9 1541.24 L1673.9 1547.12 L1669.01 1547.12 L1669.01 1541.24 Z\" fill=\"#000000\" fill-rule=\"evenodd\" fill-opacity=\"1\" /><path clip-path=\"url(#clip800)\" d=\"M 0 0 M1679.01 1512.56 L1697.37 1512.56 L1697.37 1516.5 L1683.3 1516.5 L1683.3 1524.97 Q1684.31 1524.62 1685.33 1524.46 Q1686.35 1524.27 1687.37 1524.27 Q1693.16 1524.27 1696.54 1527.44 Q1699.92 1530.62 1699.92 1536.03 Q1699.92 1541.61 1696.44 1544.71 Q1692.97 1547.79 1686.65 1547.79 Q1684.48 1547.79 1682.21 1547.42 Q1679.96 1547.05 1677.56 1546.31 L1677.56 1541.61 Q1679.64 1542.74 1681.86 1543.3 Q1684.08 1543.86 1686.56 1543.86 Q1690.56 1543.86 1692.9 1541.75 Q1695.24 1539.64 1695.24 1536.03 Q1695.24 1532.42 1692.9 1530.31 Q1690.56 1528.21 1686.56 1528.21 Q1684.68 1528.21 1682.81 1528.62 Q1680.96 1529.04 1679.01 1529.92 L1679.01 1512.56 Z\" fill=\"#000000\" fill-rule=\"evenodd\" fill-opacity=\"1\" /><path clip-path=\"url(#clip800)\" d=\"M 0 0 M2123.85 1528.49 Q2127.2 1529.2 2129.08 1531.47 Q2130.98 1533.74 2130.98 1537.07 Q2130.98 1542.19 2127.46 1544.99 Q2123.94 1547.79 2117.46 1547.79 Q2115.28 1547.79 2112.97 1547.35 Q2110.68 1546.93 2108.22 1546.08 L2108.22 1541.56 Q2110.17 1542.7 2112.48 1543.28 Q2114.8 1543.86 2117.32 1543.86 Q2121.72 1543.86 2124.01 1542.12 Q2126.32 1540.38 2126.32 1537.07 Q2126.32 1534.02 2124.17 1532.31 Q2122.04 1530.57 2118.22 1530.57 L2114.19 1530.57 L2114.19 1526.73 L2118.41 1526.73 Q2121.86 1526.73 2123.69 1525.36 Q2125.51 1523.97 2125.51 1521.38 Q2125.51 1518.72 2123.62 1517.31 Q2121.74 1515.87 2118.22 1515.87 Q2116.3 1515.87 2114.1 1516.29 Q2111.9 1516.7 2109.26 1517.58 L2109.26 1513.42 Q2111.93 1512.68 2114.24 1512.31 Q2116.58 1511.93 2118.64 1511.93 Q2123.96 1511.93 2127.07 1514.37 Q2130.17 1516.77 2130.17 1520.89 Q2130.17 1523.76 2128.52 1525.75 Q2126.88 1527.72 2123.85 1528.49 Z\" fill=\"#000000\" fill-rule=\"evenodd\" fill-opacity=\"1\" /><path clip-path=\"url(#clip800)\" d=\"M 0 0 M2136.05 1541.24 L2140.93 1541.24 L2140.93 1547.12 L2136.05 1547.12 L2136.05 1541.24 Z\" fill=\"#000000\" fill-rule=\"evenodd\" fill-opacity=\"1\" /><path clip-path=\"url(#clip800)\" d=\"M 0 0 M2156 1515.64 Q2152.39 1515.64 2150.56 1519.2 Q2148.75 1522.75 2148.75 1529.87 Q2148.75 1536.98 2150.56 1540.55 Q2152.39 1544.09 2156 1544.09 Q2159.63 1544.09 2161.44 1540.55 Q2163.27 1536.98 2163.27 1529.87 Q2163.27 1522.75 2161.44 1519.2 Q2159.63 1515.64 2156 1515.64 M2156 1511.93 Q2161.81 1511.93 2164.87 1516.54 Q2167.94 1521.12 2167.94 1529.87 Q2167.94 1538.6 2164.87 1543.21 Q2161.81 1547.79 2156 1547.79 Q2150.19 1547.79 2147.11 1543.21 Q2144.06 1538.6 2144.06 1529.87 Q2144.06 1521.12 2147.11 1516.54 Q2150.19 1511.93 2156 1511.93 Z\" fill=\"#000000\" fill-rule=\"evenodd\" fill-opacity=\"1\" /><polyline clip-path=\"url(#clip802)\" style=\"stroke:#000000; stroke-width:2; stroke-opacity:0.1; fill:none\" points=\"\n",
       "  148.334,1445.72 2352.76,1445.72 \n",
       "  \"/>\n",
       "<polyline clip-path=\"url(#clip802)\" style=\"stroke:#000000; stroke-width:2; stroke-opacity:0.1; fill:none\" points=\"\n",
       "  148.334,1069.14 2352.76,1069.14 \n",
       "  \"/>\n",
       "<polyline clip-path=\"url(#clip802)\" style=\"stroke:#000000; stroke-width:2; stroke-opacity:0.1; fill:none\" points=\"\n",
       "  148.334,692.567 2352.76,692.567 \n",
       "  \"/>\n",
       "<polyline clip-path=\"url(#clip802)\" style=\"stroke:#000000; stroke-width:2; stroke-opacity:0.1; fill:none\" points=\"\n",
       "  148.334,315.992 2352.76,315.992 \n",
       "  \"/>\n",
       "<polyline clip-path=\"url(#clip800)\" style=\"stroke:#000000; stroke-width:4; stroke-opacity:1; fill:none\" points=\"\n",
       "  148.334,1486.45 148.334,47.2441 \n",
       "  \"/>\n",
       "<polyline clip-path=\"url(#clip800)\" style=\"stroke:#000000; stroke-width:4; stroke-opacity:1; fill:none\" points=\"\n",
       "  148.334,1445.72 174.787,1445.72 \n",
       "  \"/>\n",
       "<polyline clip-path=\"url(#clip800)\" style=\"stroke:#000000; stroke-width:4; stroke-opacity:1; fill:none\" points=\"\n",
       "  148.334,1069.14 174.787,1069.14 \n",
       "  \"/>\n",
       "<polyline clip-path=\"url(#clip800)\" style=\"stroke:#000000; stroke-width:4; stroke-opacity:1; fill:none\" points=\"\n",
       "  148.334,692.567 174.787,692.567 \n",
       "  \"/>\n",
       "<polyline clip-path=\"url(#clip800)\" style=\"stroke:#000000; stroke-width:4; stroke-opacity:1; fill:none\" points=\"\n",
       "  148.334,315.992 174.787,315.992 \n",
       "  \"/>\n",
       "<path clip-path=\"url(#clip800)\" d=\"M 0 0 M63.4226 1431.51 Q59.8115 1431.51 57.9828 1435.08 Q56.1773 1438.62 56.1773 1445.75 Q56.1773 1452.86 57.9828 1456.42 Q59.8115 1459.96 63.4226 1459.96 Q67.0569 1459.96 68.8624 1456.42 Q70.6911 1452.86 70.6911 1445.75 Q70.6911 1438.62 68.8624 1435.08 Q67.0569 1431.51 63.4226 1431.51 M63.4226 1427.81 Q69.2328 1427.81 72.2883 1432.42 Q75.367 1437 75.367 1445.75 Q75.367 1454.48 72.2883 1459.08 Q69.2328 1463.67 63.4226 1463.67 Q57.6125 1463.67 54.5338 1459.08 Q51.4782 1454.48 51.4782 1445.75 Q51.4782 1437 54.5338 1432.42 Q57.6125 1427.81 63.4226 1427.81 Z\" fill=\"#000000\" fill-rule=\"evenodd\" fill-opacity=\"1\" /><path clip-path=\"url(#clip800)\" d=\"M 0 0 M80.4364 1457.12 L85.3206 1457.12 L85.3206 1463 L80.4364 1463 L80.4364 1457.12 Z\" fill=\"#000000\" fill-rule=\"evenodd\" fill-opacity=\"1\" /><path clip-path=\"url(#clip800)\" d=\"M 0 0 M100.39 1431.51 Q96.7789 1431.51 94.9502 1435.08 Q93.1447 1438.62 93.1447 1445.75 Q93.1447 1452.86 94.9502 1456.42 Q96.7789 1459.96 100.39 1459.96 Q104.024 1459.96 105.83 1456.42 Q107.658 1452.86 107.658 1445.75 Q107.658 1438.62 105.83 1435.08 Q104.024 1431.51 100.39 1431.51 M100.39 1427.81 Q106.2 1427.81 109.256 1432.42 Q112.334 1437 112.334 1445.75 Q112.334 1454.48 109.256 1459.08 Q106.2 1463.67 100.39 1463.67 Q94.5799 1463.67 91.5012 1459.08 Q88.4456 1454.48 88.4456 1445.75 Q88.4456 1437 91.5012 1432.42 Q94.5799 1427.81 100.39 1427.81 Z\" fill=\"#000000\" fill-rule=\"evenodd\" fill-opacity=\"1\" /><path clip-path=\"url(#clip800)\" d=\"M 0 0 M65.0198 1054.94 Q61.4087 1054.94 59.58 1058.5 Q57.7745 1062.05 57.7745 1069.18 Q57.7745 1076.28 59.58 1079.85 Q61.4087 1083.39 65.0198 1083.39 Q68.6541 1083.39 70.4596 1079.85 Q72.2883 1076.28 72.2883 1069.18 Q72.2883 1062.05 70.4596 1058.5 Q68.6541 1054.94 65.0198 1054.94 M65.0198 1051.24 Q70.83 1051.24 73.8855 1055.84 Q76.9642 1060.43 76.9642 1069.18 Q76.9642 1077.9 73.8855 1082.51 Q70.83 1087.09 65.0198 1087.09 Q59.2097 1087.09 56.131 1082.51 Q53.0754 1077.9 53.0754 1069.18 Q53.0754 1060.43 56.131 1055.84 Q59.2097 1051.24 65.0198 1051.24 Z\" fill=\"#000000\" fill-rule=\"evenodd\" fill-opacity=\"1\" /><path clip-path=\"url(#clip800)\" d=\"M 0 0 M82.0336 1080.54 L86.9179 1080.54 L86.9179 1086.42 L82.0336 1086.42 L82.0336 1080.54 Z\" fill=\"#000000\" fill-rule=\"evenodd\" fill-opacity=\"1\" /><path clip-path=\"url(#clip800)\" d=\"M 0 0 M96.015 1082.49 L112.334 1082.49 L112.334 1086.42 L90.3901 1086.42 L90.3901 1082.49 Q93.0521 1079.73 97.6354 1075.1 Q102.242 1070.45 103.422 1069.11 Q105.668 1066.58 106.547 1064.85 Q107.45 1063.09 107.45 1061.4 Q107.45 1058.64 105.506 1056.91 Q103.584 1055.17 100.483 1055.17 Q98.2835 1055.17 95.8298 1055.94 Q93.3993 1056.7 90.6215 1058.25 L90.6215 1053.53 Q93.4456 1052.39 95.8993 1051.81 Q98.353 1051.24 100.39 1051.24 Q105.76 1051.24 108.955 1053.92 Q112.149 1056.61 112.149 1061.1 Q112.149 1063.23 111.339 1065.15 Q110.552 1067.05 108.446 1069.64 Q107.867 1070.31 104.765 1073.53 Q101.663 1076.72 96.015 1082.49 Z\" fill=\"#000000\" fill-rule=\"evenodd\" fill-opacity=\"1\" /><path clip-path=\"url(#clip800)\" d=\"M 0 0 M62.9365 678.365 Q59.3254 678.365 57.4967 681.93 Q55.6912 685.472 55.6912 692.601 Q55.6912 699.708 57.4967 703.273 Q59.3254 706.814 62.9365 706.814 Q66.5707 706.814 68.3763 703.273 Q70.205 699.708 70.205 692.601 Q70.205 685.472 68.3763 681.93 Q66.5707 678.365 62.9365 678.365 M62.9365 674.662 Q68.7467 674.662 71.8022 679.268 Q74.8809 683.851 74.8809 692.601 Q74.8809 701.328 71.8022 705.935 Q68.7467 710.518 62.9365 710.518 Q57.1264 710.518 54.0477 705.935 Q50.9921 701.328 50.9921 692.601 Q50.9921 683.851 54.0477 679.268 Q57.1264 674.662 62.9365 674.662 Z\" fill=\"#000000\" fill-rule=\"evenodd\" fill-opacity=\"1\" /><path clip-path=\"url(#clip800)\" d=\"M 0 0 M79.9503 703.967 L84.8345 703.967 L84.8345 709.847 L79.9503 709.847 L79.9503 703.967 Z\" fill=\"#000000\" fill-rule=\"evenodd\" fill-opacity=\"1\" /><path clip-path=\"url(#clip800)\" d=\"M 0 0 M102.751 679.361 L90.9456 697.81 L102.751 697.81 L102.751 679.361 M101.524 675.287 L107.404 675.287 L107.404 697.81 L112.334 697.81 L112.334 701.699 L107.404 701.699 L107.404 709.847 L102.751 709.847 L102.751 701.699 L87.1493 701.699 L87.1493 697.185 L101.524 675.287 Z\" fill=\"#000000\" fill-rule=\"evenodd\" fill-opacity=\"1\" /><path clip-path=\"url(#clip800)\" d=\"M 0 0 M63.2606 301.791 Q59.6495 301.791 57.8208 305.356 Q56.0152 308.897 56.0152 316.027 Q56.0152 323.133 57.8208 326.698 Q59.6495 330.24 63.2606 330.24 Q66.8948 330.24 68.7004 326.698 Q70.5291 323.133 70.5291 316.027 Q70.5291 308.897 68.7004 305.356 Q66.8948 301.791 63.2606 301.791 M63.2606 298.087 Q69.0707 298.087 72.1263 302.694 Q75.205 307.277 75.205 316.027 Q75.205 324.754 72.1263 329.36 Q69.0707 333.943 63.2606 333.943 Q57.4504 333.943 54.3717 329.36 Q51.3162 324.754 51.3162 316.027 Q51.3162 307.277 54.3717 302.694 Q57.4504 298.087 63.2606 298.087 Z\" fill=\"#000000\" fill-rule=\"evenodd\" fill-opacity=\"1\" /><path clip-path=\"url(#clip800)\" d=\"M 0 0 M80.2744 327.393 L85.1586 327.393 L85.1586 333.272 L80.2744 333.272 L80.2744 327.393 Z\" fill=\"#000000\" fill-rule=\"evenodd\" fill-opacity=\"1\" /><path clip-path=\"url(#clip800)\" d=\"M 0 0 M100.807 314.129 Q97.6585 314.129 95.8067 316.281 Q93.978 318.434 93.978 322.184 Q93.978 325.911 95.8067 328.087 Q97.6585 330.24 100.807 330.24 Q103.955 330.24 105.783 328.087 Q107.635 325.911 107.635 322.184 Q107.635 318.434 105.783 316.281 Q103.955 314.129 100.807 314.129 M110.089 299.476 L110.089 303.735 Q108.33 302.902 106.524 302.462 Q104.742 302.022 102.983 302.022 Q98.353 302.022 95.8993 305.147 Q93.4688 308.272 93.1215 314.592 Q94.4873 312.578 96.5474 311.513 Q98.6076 310.425 101.084 310.425 Q106.293 310.425 109.302 313.596 Q112.334 316.744 112.334 322.184 Q112.334 327.508 109.186 330.726 Q106.038 333.943 100.807 333.943 Q94.8113 333.943 91.6401 329.36 Q88.4688 324.754 88.4688 316.027 Q88.4688 307.832 92.3576 302.971 Q96.2465 298.087 102.797 298.087 Q104.557 298.087 106.339 298.434 Q108.145 298.782 110.089 299.476 Z\" fill=\"#000000\" fill-rule=\"evenodd\" fill-opacity=\"1\" /><path clip-path=\"url(#clip802)\" d=\"\n",
       "M269.581 1107.18 L269.581 1445.72 L363.007 1445.72 L363.007 1107.18 L269.581 1107.18 L269.581 1107.18  Z\n",
       "  \" fill=\"#009af9\" fill-rule=\"evenodd\" fill-opacity=\"1\"/>\n",
       "<polyline clip-path=\"url(#clip802)\" style=\"stroke:#000000; stroke-width:4; stroke-opacity:1; fill:none\" points=\"\n",
       "  269.581,1107.18 269.581,1445.72 363.007,1445.72 363.007,1107.18 269.581,1107.18 \n",
       "  \"/>\n",
       "<path clip-path=\"url(#clip802)\" d=\"\n",
       "M363.007 1445.72 L363.007 1445.72 L456.432 1445.72 L456.432 1445.72 L363.007 1445.72 L363.007 1445.72  Z\n",
       "  \" fill=\"#009af9\" fill-rule=\"evenodd\" fill-opacity=\"1\"/>\n",
       "<polyline clip-path=\"url(#clip802)\" style=\"stroke:#000000; stroke-width:4; stroke-opacity:1; fill:none\" points=\"\n",
       "  363.007,1445.72 363.007,1445.72 456.432,1445.72 363.007,1445.72 \n",
       "  \"/>\n",
       "<path clip-path=\"url(#clip802)\" d=\"\n",
       "M456.432 1445.72 L456.432 1445.72 L549.857 1445.72 L549.857 1445.72 L456.432 1445.72 L456.432 1445.72  Z\n",
       "  \" fill=\"#009af9\" fill-rule=\"evenodd\" fill-opacity=\"1\"/>\n",
       "<polyline clip-path=\"url(#clip802)\" style=\"stroke:#000000; stroke-width:4; stroke-opacity:1; fill:none\" points=\"\n",
       "  456.432,1445.72 456.432,1445.72 549.857,1445.72 456.432,1445.72 \n",
       "  \"/>\n",
       "<path clip-path=\"url(#clip802)\" d=\"\n",
       "M549.857 1445.72 L549.857 1445.72 L643.282 1445.72 L643.282 1445.72 L549.857 1445.72 L549.857 1445.72  Z\n",
       "  \" fill=\"#009af9\" fill-rule=\"evenodd\" fill-opacity=\"1\"/>\n",
       "<polyline clip-path=\"url(#clip802)\" style=\"stroke:#000000; stroke-width:4; stroke-opacity:1; fill:none\" points=\"\n",
       "  549.857,1445.72 549.857,1445.72 643.282,1445.72 549.857,1445.72 \n",
       "  \"/>\n",
       "<path clip-path=\"url(#clip802)\" d=\"\n",
       "M643.282 1445.72 L643.282 1445.72 L736.707 1445.72 L736.707 1445.72 L643.282 1445.72 L643.282 1445.72  Z\n",
       "  \" fill=\"#009af9\" fill-rule=\"evenodd\" fill-opacity=\"1\"/>\n",
       "<polyline clip-path=\"url(#clip802)\" style=\"stroke:#000000; stroke-width:4; stroke-opacity:1; fill:none\" points=\"\n",
       "  643.282,1445.72 643.282,1445.72 736.707,1445.72 643.282,1445.72 \n",
       "  \"/>\n",
       "<path clip-path=\"url(#clip802)\" d=\"\n",
       "M736.707 1445.72 L736.707 1445.72 L830.132 1445.72 L830.132 1445.72 L736.707 1445.72 L736.707 1445.72  Z\n",
       "  \" fill=\"#009af9\" fill-rule=\"evenodd\" fill-opacity=\"1\"/>\n",
       "<polyline clip-path=\"url(#clip802)\" style=\"stroke:#000000; stroke-width:4; stroke-opacity:1; fill:none\" points=\"\n",
       "  736.707,1445.72 736.707,1445.72 830.132,1445.72 736.707,1445.72 \n",
       "  \"/>\n",
       "<path clip-path=\"url(#clip802)\" d=\"\n",
       "M830.132 1445.72 L830.132 1445.72 L923.557 1445.72 L923.557 1445.72 L830.132 1445.72 L830.132 1445.72  Z\n",
       "  \" fill=\"#009af9\" fill-rule=\"evenodd\" fill-opacity=\"1\"/>\n",
       "<polyline clip-path=\"url(#clip802)\" style=\"stroke:#000000; stroke-width:4; stroke-opacity:1; fill:none\" points=\"\n",
       "  830.132,1445.72 830.132,1445.72 923.557,1445.72 830.132,1445.72 \n",
       "  \"/>\n",
       "<path clip-path=\"url(#clip802)\" d=\"\n",
       "M923.557 1445.72 L923.557 1445.72 L1016.98 1445.72 L1016.98 1445.72 L923.557 1445.72 L923.557 1445.72  Z\n",
       "  \" fill=\"#009af9\" fill-rule=\"evenodd\" fill-opacity=\"1\"/>\n",
       "<polyline clip-path=\"url(#clip802)\" style=\"stroke:#000000; stroke-width:4; stroke-opacity:1; fill:none\" points=\"\n",
       "  923.557,1445.72 923.557,1445.72 1016.98,1445.72 923.557,1445.72 \n",
       "  \"/>\n",
       "<path clip-path=\"url(#clip802)\" d=\"\n",
       "M1016.98 1445.72 L1016.98 1445.72 L1110.41 1445.72 L1110.41 1445.72 L1016.98 1445.72 L1016.98 1445.72  Z\n",
       "  \" fill=\"#009af9\" fill-rule=\"evenodd\" fill-opacity=\"1\"/>\n",
       "<polyline clip-path=\"url(#clip802)\" style=\"stroke:#000000; stroke-width:4; stroke-opacity:1; fill:none\" points=\"\n",
       "  1016.98,1445.72 1016.98,1445.72 1110.41,1445.72 1016.98,1445.72 \n",
       "  \"/>\n",
       "<path clip-path=\"url(#clip802)\" d=\"\n",
       "M1110.41 1445.72 L1110.41 1445.72 L1203.83 1445.72 L1203.83 1445.72 L1110.41 1445.72 L1110.41 1445.72  Z\n",
       "  \" fill=\"#009af9\" fill-rule=\"evenodd\" fill-opacity=\"1\"/>\n",
       "<polyline clip-path=\"url(#clip802)\" style=\"stroke:#000000; stroke-width:4; stroke-opacity:1; fill:none\" points=\"\n",
       "  1110.41,1445.72 1110.41,1445.72 1203.83,1445.72 1110.41,1445.72 \n",
       "  \"/>\n",
       "<path clip-path=\"url(#clip802)\" d=\"\n",
       "M1203.83 1259.12 L1203.83 1445.72 L1297.26 1445.72 L1297.26 1259.12 L1203.83 1259.12 L1203.83 1259.12  Z\n",
       "  \" fill=\"#009af9\" fill-rule=\"evenodd\" fill-opacity=\"1\"/>\n",
       "<polyline clip-path=\"url(#clip802)\" style=\"stroke:#000000; stroke-width:4; stroke-opacity:1; fill:none\" points=\"\n",
       "  1203.83,1259.12 1203.83,1445.72 1297.26,1445.72 1297.26,1259.12 1203.83,1259.12 \n",
       "  \"/>\n",
       "<path clip-path=\"url(#clip802)\" d=\"\n",
       "M1297.26 1445.72 L1297.26 1445.72 L1390.68 1445.72 L1390.68 1445.72 L1297.26 1445.72 L1297.26 1445.72  Z\n",
       "  \" fill=\"#009af9\" fill-rule=\"evenodd\" fill-opacity=\"1\"/>\n",
       "<polyline clip-path=\"url(#clip802)\" style=\"stroke:#000000; stroke-width:4; stroke-opacity:1; fill:none\" points=\"\n",
       "  1297.26,1445.72 1297.26,1445.72 1390.68,1445.72 1297.26,1445.72 \n",
       "  \"/>\n",
       "<path clip-path=\"url(#clip802)\" d=\"\n",
       "M1390.68 1445.72 L1390.68 1445.72 L1484.11 1445.72 L1484.11 1445.72 L1390.68 1445.72 L1390.68 1445.72  Z\n",
       "  \" fill=\"#009af9\" fill-rule=\"evenodd\" fill-opacity=\"1\"/>\n",
       "<polyline clip-path=\"url(#clip802)\" style=\"stroke:#000000; stroke-width:4; stroke-opacity:1; fill:none\" points=\"\n",
       "  1390.68,1445.72 1390.68,1445.72 1484.11,1445.72 1390.68,1445.72 \n",
       "  \"/>\n",
       "<path clip-path=\"url(#clip802)\" d=\"\n",
       "M1484.11 1445.72 L1484.11 1445.72 L1577.53 1445.72 L1577.53 1445.72 L1484.11 1445.72 L1484.11 1445.72  Z\n",
       "  \" fill=\"#009af9\" fill-rule=\"evenodd\" fill-opacity=\"1\"/>\n",
       "<polyline clip-path=\"url(#clip802)\" style=\"stroke:#000000; stroke-width:4; stroke-opacity:1; fill:none\" points=\"\n",
       "  1484.11,1445.72 1484.11,1445.72 1577.53,1445.72 1484.11,1445.72 \n",
       "  \"/>\n",
       "<path clip-path=\"url(#clip802)\" d=\"\n",
       "M1577.53 1445.72 L1577.53 1445.72 L1670.96 1445.72 L1670.96 1445.72 L1577.53 1445.72 L1577.53 1445.72  Z\n",
       "  \" fill=\"#009af9\" fill-rule=\"evenodd\" fill-opacity=\"1\"/>\n",
       "<polyline clip-path=\"url(#clip802)\" style=\"stroke:#000000; stroke-width:4; stroke-opacity:1; fill:none\" points=\"\n",
       "  1577.53,1445.72 1577.53,1445.72 1670.96,1445.72 1577.53,1445.72 \n",
       "  \"/>\n",
       "<path clip-path=\"url(#clip802)\" d=\"\n",
       "M1670.96 1445.72 L1670.96 1445.72 L1764.38 1445.72 L1764.38 1445.72 L1670.96 1445.72 L1670.96 1445.72  Z\n",
       "  \" fill=\"#009af9\" fill-rule=\"evenodd\" fill-opacity=\"1\"/>\n",
       "<polyline clip-path=\"url(#clip802)\" style=\"stroke:#000000; stroke-width:4; stroke-opacity:1; fill:none\" points=\"\n",
       "  1670.96,1445.72 1670.96,1445.72 1764.38,1445.72 1670.96,1445.72 \n",
       "  \"/>\n",
       "<path clip-path=\"url(#clip802)\" d=\"\n",
       "M1764.38 1445.72 L1764.38 1445.72 L1857.81 1445.72 L1857.81 1445.72 L1764.38 1445.72 L1764.38 1445.72  Z\n",
       "  \" fill=\"#009af9\" fill-rule=\"evenodd\" fill-opacity=\"1\"/>\n",
       "<polyline clip-path=\"url(#clip802)\" style=\"stroke:#000000; stroke-width:4; stroke-opacity:1; fill:none\" points=\"\n",
       "  1764.38,1445.72 1764.38,1445.72 1857.81,1445.72 1764.38,1445.72 \n",
       "  \"/>\n",
       "<path clip-path=\"url(#clip802)\" d=\"\n",
       "M1857.81 1445.72 L1857.81 1445.72 L1951.23 1445.72 L1951.23 1445.72 L1857.81 1445.72 L1857.81 1445.72  Z\n",
       "  \" fill=\"#009af9\" fill-rule=\"evenodd\" fill-opacity=\"1\"/>\n",
       "<polyline clip-path=\"url(#clip802)\" style=\"stroke:#000000; stroke-width:4; stroke-opacity:1; fill:none\" points=\"\n",
       "  1857.81,1445.72 1857.81,1445.72 1951.23,1445.72 1857.81,1445.72 \n",
       "  \"/>\n",
       "<path clip-path=\"url(#clip802)\" d=\"\n",
       "M1951.23 1445.72 L1951.23 1445.72 L2044.66 1445.72 L2044.66 1445.72 L1951.23 1445.72 L1951.23 1445.72  Z\n",
       "  \" fill=\"#009af9\" fill-rule=\"evenodd\" fill-opacity=\"1\"/>\n",
       "<polyline clip-path=\"url(#clip802)\" style=\"stroke:#000000; stroke-width:4; stroke-opacity:1; fill:none\" points=\"\n",
       "  1951.23,1445.72 1951.23,1445.72 2044.66,1445.72 1951.23,1445.72 \n",
       "  \"/>\n",
       "<path clip-path=\"url(#clip802)\" d=\"\n",
       "M2044.66 1445.72 L2044.66 1445.72 L2138.08 1445.72 L2138.08 1445.72 L2044.66 1445.72 L2044.66 1445.72  Z\n",
       "  \" fill=\"#009af9\" fill-rule=\"evenodd\" fill-opacity=\"1\"/>\n",
       "<polyline clip-path=\"url(#clip802)\" style=\"stroke:#000000; stroke-width:4; stroke-opacity:1; fill:none\" points=\"\n",
       "  2044.66,1445.72 2044.66,1445.72 2138.08,1445.72 2044.66,1445.72 \n",
       "  \"/>\n",
       "<path clip-path=\"url(#clip802)\" d=\"\n",
       "M2138.08 87.9763 L2138.08 1445.72 L2231.51 1445.72 L2231.51 87.9763 L2138.08 87.9763 L2138.08 87.9763  Z\n",
       "  \" fill=\"#009af9\" fill-rule=\"evenodd\" fill-opacity=\"1\"/>\n",
       "<polyline clip-path=\"url(#clip802)\" style=\"stroke:#000000; stroke-width:4; stroke-opacity:1; fill:none\" points=\"\n",
       "  2138.08,87.9763 2138.08,1445.72 2231.51,1445.72 2231.51,87.9763 2138.08,87.9763 \n",
       "  \"/>\n",
       "<path clip-path=\"url(#clip800)\" d=\"\n",
       "M1983.32 216.178 L2279.28 216.178 L2279.28 95.2176 L1983.32 95.2176  Z\n",
       "  \" fill=\"#ffffff\" fill-rule=\"evenodd\" fill-opacity=\"1\"/>\n",
       "<polyline clip-path=\"url(#clip800)\" style=\"stroke:#000000; stroke-width:4; stroke-opacity:1; fill:none\" points=\"\n",
       "  1983.32,216.178 2279.28,216.178 2279.28,95.2176 1983.32,95.2176 1983.32,216.178 \n",
       "  \"/>\n",
       "<path clip-path=\"url(#clip800)\" d=\"\n",
       "M2007.81 179.89 L2154.78 179.89 L2154.78 131.506 L2007.81 131.506 L2007.81 179.89  Z\n",
       "  \" fill=\"#009af9\" fill-rule=\"evenodd\" fill-opacity=\"1\"/>\n",
       "<polyline clip-path=\"url(#clip800)\" style=\"stroke:#000000; stroke-width:4; stroke-opacity:1; fill:none\" points=\"\n",
       "  2007.81,179.89 2154.78,179.89 2154.78,131.506 2007.81,131.506 2007.81,179.89 \n",
       "  \"/>\n",
       "<path clip-path=\"url(#clip800)\" d=\"M 0 0 M2193.11 175.385 Q2191.31 180.015 2189.59 181.427 Q2187.88 182.839 2185.01 182.839 L2181.61 182.839 L2181.61 179.274 L2184.11 179.274 Q2185.87 179.274 2186.84 178.44 Q2187.81 177.607 2188.99 174.505 L2189.76 172.561 L2179.27 147.052 L2183.78 147.052 L2191.89 167.329 L2199.99 147.052 L2204.5 147.052 L2193.11 175.385 Z\" fill=\"#000000\" fill-rule=\"evenodd\" fill-opacity=\"1\" /><path clip-path=\"url(#clip800)\" d=\"M 0 0 M2210.38 169.042 L2218.02 169.042 L2218.02 142.677 L2209.71 144.343 L2209.71 140.084 L2217.97 138.418 L2222.65 138.418 L2222.65 169.042 L2230.29 169.042 L2230.29 172.978 L2210.38 172.978 L2210.38 169.042 Z\" fill=\"#000000\" fill-rule=\"evenodd\" fill-opacity=\"1\" /></svg>\n"
      ]
     },
     "execution_count": 40,
     "metadata": {},
     "output_type": "execute_result"
    }
   ],
   "source": [
    "show_results(chain)"
   ]
  },
  {
   "cell_type": "code",
   "execution_count": 41,
   "metadata": {},
   "outputs": [
    {
     "name": "stdout",
     "output_type": "stream",
     "text": [
      "7.272742702856028"
     ]
    },
    {
     "data": {
      "image/svg+xml": [
       "<?xml version=\"1.0\" encoding=\"utf-8\"?>\n",
       "<svg xmlns=\"http://www.w3.org/2000/svg\" xmlns:xlink=\"http://www.w3.org/1999/xlink\" width=\"600\" height=\"400\" viewBox=\"0 0 2400 1600\">\n",
       "<defs>\n",
       "  <clipPath id=\"clip840\">\n",
       "    <rect x=\"0\" y=\"0\" width=\"2400\" height=\"1600\"/>\n",
       "  </clipPath>\n",
       "</defs>\n",
       "<path clip-path=\"url(#clip840)\" d=\"\n",
       "M0 1600 L2400 1600 L2400 0 L0 0  Z\n",
       "  \" fill=\"#ffffff\" fill-rule=\"evenodd\" fill-opacity=\"1\"/>\n",
       "<defs>\n",
       "  <clipPath id=\"clip841\">\n",
       "    <rect x=\"480\" y=\"0\" width=\"1681\" height=\"1600\"/>\n",
       "  </clipPath>\n",
       "</defs>\n",
       "<path clip-path=\"url(#clip840)\" d=\"\n",
       "M148.334 1486.45 L2352.76 1486.45 L2352.76 47.2441 L148.334 47.2441  Z\n",
       "  \" fill=\"#ffffff\" fill-rule=\"evenodd\" fill-opacity=\"1\"/>\n",
       "<defs>\n",
       "  <clipPath id=\"clip842\">\n",
       "    <rect x=\"148\" y=\"47\" width=\"2205\" height=\"1440\"/>\n",
       "  </clipPath>\n",
       "</defs>\n",
       "<polyline clip-path=\"url(#clip842)\" style=\"stroke:#000000; stroke-width:2; stroke-opacity:0.1; fill:none\" points=\"\n",
       "  269.581,1486.45 269.581,47.2441 \n",
       "  \"/>\n",
       "<polyline clip-path=\"url(#clip842)\" style=\"stroke:#000000; stroke-width:2; stroke-opacity:0.1; fill:none\" points=\"\n",
       "  715.474,1486.45 715.474,47.2441 \n",
       "  \"/>\n",
       "<polyline clip-path=\"url(#clip842)\" style=\"stroke:#000000; stroke-width:2; stroke-opacity:0.1; fill:none\" points=\"\n",
       "  1161.37,1486.45 1161.37,47.2441 \n",
       "  \"/>\n",
       "<polyline clip-path=\"url(#clip842)\" style=\"stroke:#000000; stroke-width:2; stroke-opacity:0.1; fill:none\" points=\"\n",
       "  1607.26,1486.45 1607.26,47.2441 \n",
       "  \"/>\n",
       "<polyline clip-path=\"url(#clip842)\" style=\"stroke:#000000; stroke-width:2; stroke-opacity:0.1; fill:none\" points=\"\n",
       "  2053.15,1486.45 2053.15,47.2441 \n",
       "  \"/>\n",
       "<polyline clip-path=\"url(#clip840)\" style=\"stroke:#000000; stroke-width:4; stroke-opacity:1; fill:none\" points=\"\n",
       "  148.334,1486.45 2352.76,1486.45 \n",
       "  \"/>\n",
       "<polyline clip-path=\"url(#clip840)\" style=\"stroke:#000000; stroke-width:4; stroke-opacity:1; fill:none\" points=\"\n",
       "  269.581,1486.45 269.581,1469.18 \n",
       "  \"/>\n",
       "<polyline clip-path=\"url(#clip840)\" style=\"stroke:#000000; stroke-width:4; stroke-opacity:1; fill:none\" points=\"\n",
       "  715.474,1486.45 715.474,1469.18 \n",
       "  \"/>\n",
       "<polyline clip-path=\"url(#clip840)\" style=\"stroke:#000000; stroke-width:4; stroke-opacity:1; fill:none\" points=\"\n",
       "  1161.37,1486.45 1161.37,1469.18 \n",
       "  \"/>\n",
       "<polyline clip-path=\"url(#clip840)\" style=\"stroke:#000000; stroke-width:4; stroke-opacity:1; fill:none\" points=\"\n",
       "  1607.26,1486.45 1607.26,1469.18 \n",
       "  \"/>\n",
       "<polyline clip-path=\"url(#clip840)\" style=\"stroke:#000000; stroke-width:4; stroke-opacity:1; fill:none\" points=\"\n",
       "  2053.15,1486.45 2053.15,1469.18 \n",
       "  \"/>\n",
       "<path clip-path=\"url(#clip840)\" d=\"M 0 0 M241.48 1543.18 L249.119 1543.18 L249.119 1516.82 L240.809 1518.49 L240.809 1514.23 L249.072 1512.56 L253.748 1512.56 L253.748 1543.18 L261.387 1543.18 L261.387 1547.12 L241.48 1547.12 L241.48 1543.18 Z\" fill=\"#000000\" fill-rule=\"evenodd\" fill-opacity=\"1\" /><path clip-path=\"url(#clip840)\" d=\"M 0 0 M266.457 1541.24 L271.341 1541.24 L271.341 1547.12 L266.457 1547.12 L266.457 1541.24 Z\" fill=\"#000000\" fill-rule=\"evenodd\" fill-opacity=\"1\" /><path clip-path=\"url(#clip840)\" d=\"M 0 0 M286.41 1515.64 Q282.799 1515.64 280.97 1519.2 Q279.165 1522.75 279.165 1529.87 Q279.165 1536.98 280.97 1540.55 Q282.799 1544.09 286.41 1544.09 Q290.044 1544.09 291.85 1540.55 Q293.679 1536.98 293.679 1529.87 Q293.679 1522.75 291.85 1519.2 Q290.044 1515.64 286.41 1515.64 M286.41 1511.93 Q292.22 1511.93 295.276 1516.54 Q298.354 1521.12 298.354 1529.87 Q298.354 1538.6 295.276 1543.21 Q292.22 1547.79 286.41 1547.79 Q280.6 1547.79 277.521 1543.21 Q274.466 1538.6 274.466 1529.87 Q274.466 1521.12 277.521 1516.54 Q280.6 1511.93 286.41 1511.93 Z\" fill=\"#000000\" fill-rule=\"evenodd\" fill-opacity=\"1\" /><path clip-path=\"url(#clip840)\" d=\"M 0 0 M687.87 1543.18 L695.509 1543.18 L695.509 1516.82 L687.199 1518.49 L687.199 1514.23 L695.463 1512.56 L700.138 1512.56 L700.138 1543.18 L707.777 1543.18 L707.777 1547.12 L687.87 1547.12 L687.87 1543.18 Z\" fill=\"#000000\" fill-rule=\"evenodd\" fill-opacity=\"1\" /><path clip-path=\"url(#clip840)\" d=\"M 0 0 M712.847 1541.24 L717.731 1541.24 L717.731 1547.12 L712.847 1547.12 L712.847 1541.24 Z\" fill=\"#000000\" fill-rule=\"evenodd\" fill-opacity=\"1\" /><path clip-path=\"url(#clip840)\" d=\"M 0 0 M722.847 1512.56 L741.203 1512.56 L741.203 1516.5 L727.129 1516.5 L727.129 1524.97 Q728.148 1524.62 729.166 1524.46 Q730.185 1524.27 731.203 1524.27 Q736.99 1524.27 740.37 1527.44 Q743.749 1530.62 743.749 1536.03 Q743.749 1541.61 740.277 1544.71 Q736.805 1547.79 730.486 1547.79 Q728.31 1547.79 726.041 1547.42 Q723.796 1547.05 721.388 1546.31 L721.388 1541.61 Q723.472 1542.74 725.694 1543.3 Q727.916 1543.86 730.393 1543.86 Q734.398 1543.86 736.736 1541.75 Q739.073 1539.64 739.073 1536.03 Q739.073 1532.42 736.736 1530.31 Q734.398 1528.21 730.393 1528.21 Q728.518 1528.21 726.643 1528.62 Q724.791 1529.04 722.847 1529.92 L722.847 1512.56 Z\" fill=\"#000000\" fill-rule=\"evenodd\" fill-opacity=\"1\" /><path clip-path=\"url(#clip840)\" d=\"M 0 0 M1137.54 1543.18 L1153.86 1543.18 L1153.86 1547.12 L1131.91 1547.12 L1131.91 1543.18 Q1134.57 1540.43 1139.16 1535.8 Q1143.76 1531.15 1144.94 1529.81 Q1147.19 1527.28 1148.07 1525.55 Q1148.97 1523.79 1148.97 1522.1 Q1148.97 1519.34 1147.03 1517.61 Q1145.11 1515.87 1142 1515.87 Q1139.8 1515.87 1137.35 1516.63 Q1134.92 1517.4 1132.14 1518.95 L1132.14 1514.23 Q1134.97 1513.09 1137.42 1512.51 Q1139.87 1511.93 1141.91 1511.93 Q1147.28 1511.93 1150.48 1514.62 Q1153.67 1517.31 1153.67 1521.8 Q1153.67 1523.93 1152.86 1525.85 Q1152.07 1527.74 1149.97 1530.34 Q1149.39 1531.01 1146.29 1534.23 Q1143.18 1537.42 1137.54 1543.18 Z\" fill=\"#000000\" fill-rule=\"evenodd\" fill-opacity=\"1\" /><path clip-path=\"url(#clip840)\" d=\"M 0 0 M1158.92 1541.24 L1163.81 1541.24 L1163.81 1547.12 L1158.92 1547.12 L1158.92 1541.24 Z\" fill=\"#000000\" fill-rule=\"evenodd\" fill-opacity=\"1\" /><path clip-path=\"url(#clip840)\" d=\"M 0 0 M1178.88 1515.64 Q1175.27 1515.64 1173.44 1519.2 Q1171.63 1522.75 1171.63 1529.87 Q1171.63 1536.98 1173.44 1540.55 Q1175.27 1544.09 1178.88 1544.09 Q1182.51 1544.09 1184.32 1540.55 Q1186.15 1536.98 1186.15 1529.87 Q1186.15 1522.75 1184.32 1519.2 Q1182.51 1515.64 1178.88 1515.64 M1178.88 1511.93 Q1184.69 1511.93 1187.74 1516.54 Q1190.82 1521.12 1190.82 1529.87 Q1190.82 1538.6 1187.74 1543.21 Q1184.69 1547.79 1178.88 1547.79 Q1173.07 1547.79 1169.99 1543.21 Q1166.93 1538.6 1166.93 1529.87 Q1166.93 1521.12 1169.99 1516.54 Q1173.07 1511.93 1178.88 1511.93 Z\" fill=\"#000000\" fill-rule=\"evenodd\" fill-opacity=\"1\" /><path clip-path=\"url(#clip840)\" d=\"M 0 0 M1583.93 1543.18 L1600.25 1543.18 L1600.25 1547.12 L1578.3 1547.12 L1578.3 1543.18 Q1580.96 1540.43 1585.55 1535.8 Q1590.15 1531.15 1591.33 1529.81 Q1593.58 1527.28 1594.46 1525.55 Q1595.36 1523.79 1595.36 1522.1 Q1595.36 1519.34 1593.42 1517.61 Q1591.5 1515.87 1588.39 1515.87 Q1586.19 1515.87 1583.74 1516.63 Q1581.31 1517.4 1578.53 1518.95 L1578.53 1514.23 Q1581.36 1513.09 1583.81 1512.51 Q1586.26 1511.93 1588.3 1511.93 Q1593.67 1511.93 1596.87 1514.62 Q1600.06 1517.31 1600.06 1521.8 Q1600.06 1523.93 1599.25 1525.85 Q1598.46 1527.74 1596.36 1530.34 Q1595.78 1531.01 1592.68 1534.23 Q1589.57 1537.42 1583.93 1543.18 Z\" fill=\"#000000\" fill-rule=\"evenodd\" fill-opacity=\"1\" /><path clip-path=\"url(#clip840)\" d=\"M 0 0 M1605.31 1541.24 L1610.2 1541.24 L1610.2 1547.12 L1605.31 1547.12 L1605.31 1541.24 Z\" fill=\"#000000\" fill-rule=\"evenodd\" fill-opacity=\"1\" /><path clip-path=\"url(#clip840)\" d=\"M 0 0 M1615.31 1512.56 L1633.67 1512.56 L1633.67 1516.5 L1619.6 1516.5 L1619.6 1524.97 Q1620.62 1524.62 1621.63 1524.46 Q1622.65 1524.27 1623.67 1524.27 Q1629.46 1524.27 1632.84 1527.44 Q1636.22 1530.62 1636.22 1536.03 Q1636.22 1541.61 1632.75 1544.71 Q1629.27 1547.79 1622.95 1547.79 Q1620.78 1547.79 1618.51 1547.42 Q1616.26 1547.05 1613.86 1546.31 L1613.86 1541.61 Q1615.94 1542.74 1618.16 1543.3 Q1620.38 1543.86 1622.86 1543.86 Q1626.87 1543.86 1629.2 1541.75 Q1631.54 1539.64 1631.54 1536.03 Q1631.54 1532.42 1629.2 1530.31 Q1626.87 1528.21 1622.86 1528.21 Q1620.99 1528.21 1619.11 1528.62 Q1617.26 1529.04 1615.31 1529.92 L1615.31 1512.56 Z\" fill=\"#000000\" fill-rule=\"evenodd\" fill-opacity=\"1\" /><path clip-path=\"url(#clip840)\" d=\"M 0 0 M2038.92 1528.49 Q2042.27 1529.2 2044.15 1531.47 Q2046.05 1533.74 2046.05 1537.07 Q2046.05 1542.19 2042.53 1544.99 Q2039.01 1547.79 2032.53 1547.79 Q2030.35 1547.79 2028.04 1547.35 Q2025.74 1546.93 2023.29 1546.08 L2023.29 1541.56 Q2025.24 1542.7 2027.55 1543.28 Q2029.86 1543.86 2032.39 1543.86 Q2036.79 1543.86 2039.08 1542.12 Q2041.39 1540.38 2041.39 1537.07 Q2041.39 1534.02 2039.24 1532.31 Q2037.11 1530.57 2033.29 1530.57 L2029.26 1530.57 L2029.26 1526.73 L2033.48 1526.73 Q2036.93 1526.73 2038.75 1525.36 Q2040.58 1523.97 2040.58 1521.38 Q2040.58 1518.72 2038.68 1517.31 Q2036.81 1515.87 2033.29 1515.87 Q2031.37 1515.87 2029.17 1516.29 Q2026.97 1516.7 2024.33 1517.58 L2024.33 1513.42 Q2026.99 1512.68 2029.31 1512.31 Q2031.65 1511.93 2033.71 1511.93 Q2039.03 1511.93 2042.13 1514.37 Q2045.24 1516.77 2045.24 1520.89 Q2045.24 1523.76 2043.59 1525.75 Q2041.95 1527.72 2038.92 1528.49 Z\" fill=\"#000000\" fill-rule=\"evenodd\" fill-opacity=\"1\" /><path clip-path=\"url(#clip840)\" d=\"M 0 0 M2051.11 1541.24 L2056 1541.24 L2056 1547.12 L2051.11 1547.12 L2051.11 1541.24 Z\" fill=\"#000000\" fill-rule=\"evenodd\" fill-opacity=\"1\" /><path clip-path=\"url(#clip840)\" d=\"M 0 0 M2071.07 1515.64 Q2067.46 1515.64 2065.63 1519.2 Q2063.82 1522.75 2063.82 1529.87 Q2063.82 1536.98 2065.63 1540.55 Q2067.46 1544.09 2071.07 1544.09 Q2074.7 1544.09 2076.51 1540.55 Q2078.34 1536.98 2078.34 1529.87 Q2078.34 1522.75 2076.51 1519.2 Q2074.7 1515.64 2071.07 1515.64 M2071.07 1511.93 Q2076.88 1511.93 2079.93 1516.54 Q2083.01 1521.12 2083.01 1529.87 Q2083.01 1538.6 2079.93 1543.21 Q2076.88 1547.79 2071.07 1547.79 Q2065.26 1547.79 2062.18 1543.21 Q2059.12 1538.6 2059.12 1529.87 Q2059.12 1521.12 2062.18 1516.54 Q2065.26 1511.93 2071.07 1511.93 Z\" fill=\"#000000\" fill-rule=\"evenodd\" fill-opacity=\"1\" /><polyline clip-path=\"url(#clip842)\" style=\"stroke:#000000; stroke-width:2; stroke-opacity:0.1; fill:none\" points=\"\n",
       "  148.334,1445.72 2352.76,1445.72 \n",
       "  \"/>\n",
       "<polyline clip-path=\"url(#clip842)\" style=\"stroke:#000000; stroke-width:2; stroke-opacity:0.1; fill:none\" points=\"\n",
       "  148.334,1142.65 2352.76,1142.65 \n",
       "  \"/>\n",
       "<polyline clip-path=\"url(#clip842)\" style=\"stroke:#000000; stroke-width:2; stroke-opacity:0.1; fill:none\" points=\"\n",
       "  148.334,839.582 2352.76,839.582 \n",
       "  \"/>\n",
       "<polyline clip-path=\"url(#clip842)\" style=\"stroke:#000000; stroke-width:2; stroke-opacity:0.1; fill:none\" points=\"\n",
       "  148.334,536.515 2352.76,536.515 \n",
       "  \"/>\n",
       "<polyline clip-path=\"url(#clip842)\" style=\"stroke:#000000; stroke-width:2; stroke-opacity:0.1; fill:none\" points=\"\n",
       "  148.334,233.448 2352.76,233.448 \n",
       "  \"/>\n",
       "<polyline clip-path=\"url(#clip840)\" style=\"stroke:#000000; stroke-width:4; stroke-opacity:1; fill:none\" points=\"\n",
       "  148.334,1486.45 148.334,47.2441 \n",
       "  \"/>\n",
       "<polyline clip-path=\"url(#clip840)\" style=\"stroke:#000000; stroke-width:4; stroke-opacity:1; fill:none\" points=\"\n",
       "  148.334,1445.72 174.787,1445.72 \n",
       "  \"/>\n",
       "<polyline clip-path=\"url(#clip840)\" style=\"stroke:#000000; stroke-width:4; stroke-opacity:1; fill:none\" points=\"\n",
       "  148.334,1142.65 174.787,1142.65 \n",
       "  \"/>\n",
       "<polyline clip-path=\"url(#clip840)\" style=\"stroke:#000000; stroke-width:4; stroke-opacity:1; fill:none\" points=\"\n",
       "  148.334,839.582 174.787,839.582 \n",
       "  \"/>\n",
       "<polyline clip-path=\"url(#clip840)\" style=\"stroke:#000000; stroke-width:4; stroke-opacity:1; fill:none\" points=\"\n",
       "  148.334,536.515 174.787,536.515 \n",
       "  \"/>\n",
       "<polyline clip-path=\"url(#clip840)\" style=\"stroke:#000000; stroke-width:4; stroke-opacity:1; fill:none\" points=\"\n",
       "  148.334,233.448 174.787,233.448 \n",
       "  \"/>\n",
       "<path clip-path=\"url(#clip840)\" d=\"M 0 0 M63.4226 1431.51 Q59.8115 1431.51 57.9828 1435.08 Q56.1773 1438.62 56.1773 1445.75 Q56.1773 1452.86 57.9828 1456.42 Q59.8115 1459.96 63.4226 1459.96 Q67.0569 1459.96 68.8624 1456.42 Q70.6911 1452.86 70.6911 1445.75 Q70.6911 1438.62 68.8624 1435.08 Q67.0569 1431.51 63.4226 1431.51 M63.4226 1427.81 Q69.2328 1427.81 72.2883 1432.42 Q75.367 1437 75.367 1445.75 Q75.367 1454.48 72.2883 1459.08 Q69.2328 1463.67 63.4226 1463.67 Q57.6125 1463.67 54.5338 1459.08 Q51.4782 1454.48 51.4782 1445.75 Q51.4782 1437 54.5338 1432.42 Q57.6125 1427.81 63.4226 1427.81 Z\" fill=\"#000000\" fill-rule=\"evenodd\" fill-opacity=\"1\" /><path clip-path=\"url(#clip840)\" d=\"M 0 0 M80.4364 1457.12 L85.3206 1457.12 L85.3206 1463 L80.4364 1463 L80.4364 1457.12 Z\" fill=\"#000000\" fill-rule=\"evenodd\" fill-opacity=\"1\" /><path clip-path=\"url(#clip840)\" d=\"M 0 0 M100.39 1431.51 Q96.7789 1431.51 94.9502 1435.08 Q93.1447 1438.62 93.1447 1445.75 Q93.1447 1452.86 94.9502 1456.42 Q96.7789 1459.96 100.39 1459.96 Q104.024 1459.96 105.83 1456.42 Q107.658 1452.86 107.658 1445.75 Q107.658 1438.62 105.83 1435.08 Q104.024 1431.51 100.39 1431.51 M100.39 1427.81 Q106.2 1427.81 109.256 1432.42 Q112.334 1437 112.334 1445.75 Q112.334 1454.48 109.256 1459.08 Q106.2 1463.67 100.39 1463.67 Q94.5799 1463.67 91.5012 1459.08 Q88.4456 1454.48 88.4456 1445.75 Q88.4456 1437 91.5012 1432.42 Q94.5799 1427.81 100.39 1427.81 Z\" fill=\"#000000\" fill-rule=\"evenodd\" fill-opacity=\"1\" /><path clip-path=\"url(#clip840)\" d=\"M 0 0 M64.6495 1128.45 Q61.0384 1128.45 59.2097 1132.01 Q57.4041 1135.55 57.4041 1142.68 Q57.4041 1149.79 59.2097 1153.35 Q61.0384 1156.9 64.6495 1156.9 Q68.2837 1156.9 70.0892 1153.35 Q71.9179 1149.79 71.9179 1142.68 Q71.9179 1135.55 70.0892 1132.01 Q68.2837 1128.45 64.6495 1128.45 M64.6495 1124.74 Q70.4596 1124.74 73.5152 1129.35 Q76.5938 1133.93 76.5938 1142.68 Q76.5938 1151.41 73.5152 1156.02 Q70.4596 1160.6 64.6495 1160.6 Q58.8393 1160.6 55.7606 1156.02 Q52.7051 1151.41 52.7051 1142.68 Q52.7051 1133.93 55.7606 1129.35 Q58.8393 1124.74 64.6495 1124.74 Z\" fill=\"#000000\" fill-rule=\"evenodd\" fill-opacity=\"1\" /><path clip-path=\"url(#clip840)\" d=\"M 0 0 M81.6633 1154.05 L86.5475 1154.05 L86.5475 1159.93 L81.6633 1159.93 L81.6633 1154.05 Z\" fill=\"#000000\" fill-rule=\"evenodd\" fill-opacity=\"1\" /><path clip-path=\"url(#clip840)\" d=\"M 0 0 M92.4271 1155.99 L100.066 1155.99 L100.066 1129.63 L91.7558 1131.29 L91.7558 1127.04 L100.02 1125.37 L104.696 1125.37 L104.696 1155.99 L112.334 1155.99 L112.334 1159.93 L92.4271 1159.93 L92.4271 1155.99 Z\" fill=\"#000000\" fill-rule=\"evenodd\" fill-opacity=\"1\" /><path clip-path=\"url(#clip840)\" d=\"M 0 0 M65.0198 825.381 Q61.4087 825.381 59.58 828.946 Q57.7745 832.487 57.7745 839.617 Q57.7745 846.723 59.58 850.288 Q61.4087 853.83 65.0198 853.83 Q68.6541 853.83 70.4596 850.288 Q72.2883 846.723 72.2883 839.617 Q72.2883 832.487 70.4596 828.946 Q68.6541 825.381 65.0198 825.381 M65.0198 821.677 Q70.83 821.677 73.8855 826.283 Q76.9642 830.867 76.9642 839.617 Q76.9642 848.344 73.8855 852.95 Q70.83 857.533 65.0198 857.533 Q59.2097 857.533 56.131 852.95 Q53.0754 848.344 53.0754 839.617 Q53.0754 830.867 56.131 826.283 Q59.2097 821.677 65.0198 821.677 Z\" fill=\"#000000\" fill-rule=\"evenodd\" fill-opacity=\"1\" /><path clip-path=\"url(#clip840)\" d=\"M 0 0 M82.0336 850.982 L86.9179 850.982 L86.9179 856.862 L82.0336 856.862 L82.0336 850.982 Z\" fill=\"#000000\" fill-rule=\"evenodd\" fill-opacity=\"1\" /><path clip-path=\"url(#clip840)\" d=\"M 0 0 M96.015 852.927 L112.334 852.927 L112.334 856.862 L90.3901 856.862 L90.3901 852.927 Q93.0521 850.172 97.6354 845.543 Q102.242 840.89 103.422 839.547 Q105.668 837.024 106.547 835.288 Q107.45 833.529 107.45 831.839 Q107.45 829.084 105.506 827.348 Q103.584 825.612 100.483 825.612 Q98.2835 825.612 95.8298 826.376 Q93.3993 827.14 90.6215 828.691 L90.6215 823.969 Q93.4456 822.834 95.8993 822.256 Q98.353 821.677 100.39 821.677 Q105.76 821.677 108.955 824.362 Q112.149 827.047 112.149 831.538 Q112.149 833.668 111.339 835.589 Q110.552 837.487 108.446 840.08 Q107.867 840.751 104.765 843.969 Q101.663 847.163 96.015 852.927 Z\" fill=\"#000000\" fill-rule=\"evenodd\" fill-opacity=\"1\" /><path clip-path=\"url(#clip840)\" d=\"M 0 0 M64.0708 522.314 Q60.4597 522.314 58.631 525.879 Q56.8254 529.42 56.8254 536.55 Q56.8254 543.656 58.631 547.221 Q60.4597 550.763 64.0708 550.763 Q67.705 550.763 69.5105 547.221 Q71.3392 543.656 71.3392 536.55 Q71.3392 529.42 69.5105 525.879 Q67.705 522.314 64.0708 522.314 M64.0708 518.61 Q69.8809 518.61 72.9365 523.217 Q76.0151 527.8 76.0151 536.55 Q76.0151 545.277 72.9365 549.883 Q69.8809 554.466 64.0708 554.466 Q58.2606 554.466 55.1819 549.883 Q52.1264 545.277 52.1264 536.55 Q52.1264 527.8 55.1819 523.217 Q58.2606 518.61 64.0708 518.61 Z\" fill=\"#000000\" fill-rule=\"evenodd\" fill-opacity=\"1\" /><path clip-path=\"url(#clip840)\" d=\"M 0 0 M81.0846 547.916 L85.9688 547.916 L85.9688 553.795 L81.0846 553.795 L81.0846 547.916 Z\" fill=\"#000000\" fill-rule=\"evenodd\" fill-opacity=\"1\" /><path clip-path=\"url(#clip840)\" d=\"M 0 0 M105.205 535.161 Q108.561 535.879 110.436 538.147 Q112.334 540.416 112.334 543.749 Q112.334 548.865 108.816 551.666 Q105.297 554.466 98.8159 554.466 Q96.64 554.466 94.3252 554.027 Q92.0336 553.61 89.5799 552.754 L89.5799 548.24 Q91.5243 549.374 93.8391 549.953 Q96.1539 550.531 98.6771 550.531 Q103.075 550.531 105.367 548.795 Q107.682 547.059 107.682 543.749 Q107.682 540.693 105.529 538.98 Q103.399 537.244 99.5798 537.244 L95.5521 537.244 L95.5521 533.402 L99.765 533.402 Q103.214 533.402 105.043 532.036 Q106.871 530.647 106.871 528.055 Q106.871 525.393 104.973 523.981 Q103.098 522.545 99.5798 522.545 Q97.6585 522.545 95.4595 522.962 Q93.2604 523.379 90.6215 524.258 L90.6215 520.092 Q93.2836 519.351 95.5984 518.981 Q97.9363 518.61 99.9965 518.61 Q105.321 518.61 108.422 521.041 Q111.524 523.448 111.524 527.568 Q111.524 530.439 109.881 532.43 Q108.237 534.397 105.205 535.161 Z\" fill=\"#000000\" fill-rule=\"evenodd\" fill-opacity=\"1\" /><path clip-path=\"url(#clip840)\" d=\"M 0 0 M62.9365 219.247 Q59.3254 219.247 57.4967 222.812 Q55.6912 226.353 55.6912 233.483 Q55.6912 240.59 57.4967 244.154 Q59.3254 247.696 62.9365 247.696 Q66.5707 247.696 68.3763 244.154 Q70.205 240.59 70.205 233.483 Q70.205 226.353 68.3763 222.812 Q66.5707 219.247 62.9365 219.247 M62.9365 215.543 Q68.7467 215.543 71.8022 220.15 Q74.8809 224.733 74.8809 233.483 Q74.8809 242.21 71.8022 246.816 Q68.7467 251.4 62.9365 251.4 Q57.1264 251.4 54.0477 246.816 Q50.9921 242.21 50.9921 233.483 Q50.9921 224.733 54.0477 220.15 Q57.1264 215.543 62.9365 215.543 Z\" fill=\"#000000\" fill-rule=\"evenodd\" fill-opacity=\"1\" /><path clip-path=\"url(#clip840)\" d=\"M 0 0 M79.9503 244.849 L84.8345 244.849 L84.8345 250.728 L79.9503 250.728 L79.9503 244.849 Z\" fill=\"#000000\" fill-rule=\"evenodd\" fill-opacity=\"1\" /><path clip-path=\"url(#clip840)\" d=\"M 0 0 M102.751 220.242 L90.9456 238.691 L102.751 238.691 L102.751 220.242 M101.524 216.168 L107.404 216.168 L107.404 238.691 L112.334 238.691 L112.334 242.58 L107.404 242.58 L107.404 250.728 L102.751 250.728 L102.751 242.58 L87.1493 242.58 L87.1493 238.066 L101.524 216.168 Z\" fill=\"#000000\" fill-rule=\"evenodd\" fill-opacity=\"1\" /><path clip-path=\"url(#clip842)\" d=\"\n",
       "M269.581 87.9763 L269.581 1445.72 L447.939 1445.72 L447.939 87.9763 L269.581 87.9763 L269.581 87.9763  Z\n",
       "  \" fill=\"#009af9\" fill-rule=\"evenodd\" fill-opacity=\"1\"/>\n",
       "<polyline clip-path=\"url(#clip842)\" style=\"stroke:#000000; stroke-width:4; stroke-opacity:1; fill:none\" points=\"\n",
       "  269.581,87.9763 269.581,1445.72 447.939,1445.72 447.939,87.9763 269.581,87.9763 \n",
       "  \"/>\n",
       "<path clip-path=\"url(#clip842)\" d=\"\n",
       "M447.939 1445.72 L447.939 1445.72 L626.296 1445.72 L626.296 1445.72 L447.939 1445.72 L447.939 1445.72  Z\n",
       "  \" fill=\"#009af9\" fill-rule=\"evenodd\" fill-opacity=\"1\"/>\n",
       "<polyline clip-path=\"url(#clip842)\" style=\"stroke:#000000; stroke-width:4; stroke-opacity:1; fill:none\" points=\"\n",
       "  447.939,1445.72 447.939,1445.72 626.296,1445.72 447.939,1445.72 \n",
       "  \"/>\n",
       "<path clip-path=\"url(#clip842)\" d=\"\n",
       "M626.296 1445.72 L626.296 1445.72 L804.653 1445.72 L804.653 1445.72 L626.296 1445.72 L626.296 1445.72  Z\n",
       "  \" fill=\"#009af9\" fill-rule=\"evenodd\" fill-opacity=\"1\"/>\n",
       "<polyline clip-path=\"url(#clip842)\" style=\"stroke:#000000; stroke-width:4; stroke-opacity:1; fill:none\" points=\"\n",
       "  626.296,1445.72 626.296,1445.72 804.653,1445.72 626.296,1445.72 \n",
       "  \"/>\n",
       "<path clip-path=\"url(#clip842)\" d=\"\n",
       "M804.653 1445.72 L804.653 1445.72 L983.01 1445.72 L983.01 1445.72 L804.653 1445.72 L804.653 1445.72  Z\n",
       "  \" fill=\"#009af9\" fill-rule=\"evenodd\" fill-opacity=\"1\"/>\n",
       "<polyline clip-path=\"url(#clip842)\" style=\"stroke:#000000; stroke-width:4; stroke-opacity:1; fill:none\" points=\"\n",
       "  804.653,1445.72 804.653,1445.72 983.01,1445.72 804.653,1445.72 \n",
       "  \"/>\n",
       "<path clip-path=\"url(#clip842)\" d=\"\n",
       "M983.01 1445.72 L983.01 1445.72 L1161.37 1445.72 L1161.37 1445.72 L983.01 1445.72 L983.01 1445.72  Z\n",
       "  \" fill=\"#009af9\" fill-rule=\"evenodd\" fill-opacity=\"1\"/>\n",
       "<polyline clip-path=\"url(#clip842)\" style=\"stroke:#000000; stroke-width:4; stroke-opacity:1; fill:none\" points=\"\n",
       "  983.01,1445.72 983.01,1445.72 1161.37,1445.72 983.01,1445.72 \n",
       "  \"/>\n",
       "<path clip-path=\"url(#clip842)\" d=\"\n",
       "M1161.37 1122.34 L1161.37 1445.72 L1339.72 1445.72 L1339.72 1122.34 L1161.37 1122.34 L1161.37 1122.34  Z\n",
       "  \" fill=\"#009af9\" fill-rule=\"evenodd\" fill-opacity=\"1\"/>\n",
       "<polyline clip-path=\"url(#clip842)\" style=\"stroke:#000000; stroke-width:4; stroke-opacity:1; fill:none\" points=\"\n",
       "  1161.37,1122.34 1161.37,1445.72 1339.72,1445.72 1339.72,1122.34 1161.37,1122.34 \n",
       "  \"/>\n",
       "<path clip-path=\"url(#clip842)\" d=\"\n",
       "M1339.72 1445.72 L1339.72 1445.72 L1518.08 1445.72 L1518.08 1445.72 L1339.72 1445.72 L1339.72 1445.72  Z\n",
       "  \" fill=\"#009af9\" fill-rule=\"evenodd\" fill-opacity=\"1\"/>\n",
       "<polyline clip-path=\"url(#clip842)\" style=\"stroke:#000000; stroke-width:4; stroke-opacity:1; fill:none\" points=\"\n",
       "  1339.72,1445.72 1339.72,1445.72 1518.08,1445.72 1339.72,1445.72 \n",
       "  \"/>\n",
       "<path clip-path=\"url(#clip842)\" d=\"\n",
       "M1518.08 1445.72 L1518.08 1445.72 L1696.44 1445.72 L1696.44 1445.72 L1518.08 1445.72 L1518.08 1445.72  Z\n",
       "  \" fill=\"#009af9\" fill-rule=\"evenodd\" fill-opacity=\"1\"/>\n",
       "<polyline clip-path=\"url(#clip842)\" style=\"stroke:#000000; stroke-width:4; stroke-opacity:1; fill:none\" points=\"\n",
       "  1518.08,1445.72 1518.08,1445.72 1696.44,1445.72 1518.08,1445.72 \n",
       "  \"/>\n",
       "<path clip-path=\"url(#clip842)\" d=\"\n",
       "M1696.44 1445.72 L1696.44 1445.72 L1874.79 1445.72 L1874.79 1445.72 L1696.44 1445.72 L1696.44 1445.72  Z\n",
       "  \" fill=\"#009af9\" fill-rule=\"evenodd\" fill-opacity=\"1\"/>\n",
       "<polyline clip-path=\"url(#clip842)\" style=\"stroke:#000000; stroke-width:4; stroke-opacity:1; fill:none\" points=\"\n",
       "  1696.44,1445.72 1696.44,1445.72 1874.79,1445.72 1696.44,1445.72 \n",
       "  \"/>\n",
       "<path clip-path=\"url(#clip842)\" d=\"\n",
       "M1874.79 1445.72 L1874.79 1445.72 L2053.15 1445.72 L2053.15 1445.72 L1874.79 1445.72 L1874.79 1445.72  Z\n",
       "  \" fill=\"#009af9\" fill-rule=\"evenodd\" fill-opacity=\"1\"/>\n",
       "<polyline clip-path=\"url(#clip842)\" style=\"stroke:#000000; stroke-width:4; stroke-opacity:1; fill:none\" points=\"\n",
       "  1874.79,1445.72 1874.79,1445.72 2053.15,1445.72 1874.79,1445.72 \n",
       "  \"/>\n",
       "<path clip-path=\"url(#clip842)\" d=\"\n",
       "M2053.15 96.1591 L2053.15 1445.72 L2231.51 1445.72 L2231.51 96.1591 L2053.15 96.1591 L2053.15 96.1591  Z\n",
       "  \" fill=\"#009af9\" fill-rule=\"evenodd\" fill-opacity=\"1\"/>\n",
       "<polyline clip-path=\"url(#clip842)\" style=\"stroke:#000000; stroke-width:4; stroke-opacity:1; fill:none\" points=\"\n",
       "  2053.15,96.1591 2053.15,1445.72 2231.51,1445.72 2231.51,96.1591 2053.15,96.1591 \n",
       "  \"/>\n",
       "<path clip-path=\"url(#clip840)\" d=\"\n",
       "M1983.32 216.178 L2279.28 216.178 L2279.28 95.2176 L1983.32 95.2176  Z\n",
       "  \" fill=\"#ffffff\" fill-rule=\"evenodd\" fill-opacity=\"1\"/>\n",
       "<polyline clip-path=\"url(#clip840)\" style=\"stroke:#000000; stroke-width:4; stroke-opacity:1; fill:none\" points=\"\n",
       "  1983.32,216.178 2279.28,216.178 2279.28,95.2176 1983.32,95.2176 1983.32,216.178 \n",
       "  \"/>\n",
       "<path clip-path=\"url(#clip840)\" d=\"\n",
       "M2007.81 179.89 L2154.78 179.89 L2154.78 131.506 L2007.81 131.506 L2007.81 179.89  Z\n",
       "  \" fill=\"#009af9\" fill-rule=\"evenodd\" fill-opacity=\"1\"/>\n",
       "<polyline clip-path=\"url(#clip840)\" style=\"stroke:#000000; stroke-width:4; stroke-opacity:1; fill:none\" points=\"\n",
       "  2007.81,179.89 2154.78,179.89 2154.78,131.506 2007.81,131.506 2007.81,179.89 \n",
       "  \"/>\n",
       "<path clip-path=\"url(#clip840)\" d=\"M 0 0 M2193.11 175.385 Q2191.31 180.015 2189.59 181.427 Q2187.88 182.839 2185.01 182.839 L2181.61 182.839 L2181.61 179.274 L2184.11 179.274 Q2185.87 179.274 2186.84 178.44 Q2187.81 177.607 2188.99 174.505 L2189.76 172.561 L2179.27 147.052 L2183.78 147.052 L2191.89 167.329 L2199.99 147.052 L2204.5 147.052 L2193.11 175.385 Z\" fill=\"#000000\" fill-rule=\"evenodd\" fill-opacity=\"1\" /><path clip-path=\"url(#clip840)\" d=\"M 0 0 M2210.38 169.042 L2218.02 169.042 L2218.02 142.677 L2209.71 144.343 L2209.71 140.084 L2217.97 138.418 L2222.65 138.418 L2222.65 169.042 L2230.29 169.042 L2230.29 172.978 L2210.38 172.978 L2210.38 169.042 Z\" fill=\"#000000\" fill-rule=\"evenodd\" fill-opacity=\"1\" /></svg>\n"
      ]
     },
     "execution_count": 41,
     "metadata": {},
     "output_type": "execute_result"
    }
   ],
   "source": [
    "show_results(run_two_agents_theory_of_mind(agent, agent, [1,5,5] , [1,1,1], [], [], 0))"
   ]
  },
  {
   "cell_type": "code",
   "execution_count": 42,
   "metadata": {},
   "outputs": [
    {
     "name": "stdout",
     "output_type": "stream",
     "text": [
      "7.197697575012887"
     ]
    },
    {
     "data": {
      "image/svg+xml": [
       "<?xml version=\"1.0\" encoding=\"utf-8\"?>\n",
       "<svg xmlns=\"http://www.w3.org/2000/svg\" xmlns:xlink=\"http://www.w3.org/1999/xlink\" width=\"600\" height=\"400\" viewBox=\"0 0 2400 1600\">\n",
       "<defs>\n",
       "  <clipPath id=\"clip880\">\n",
       "    <rect x=\"0\" y=\"0\" width=\"2400\" height=\"1600\"/>\n",
       "  </clipPath>\n",
       "</defs>\n",
       "<path clip-path=\"url(#clip880)\" d=\"\n",
       "M0 1600 L2400 1600 L2400 0 L0 0  Z\n",
       "  \" fill=\"#ffffff\" fill-rule=\"evenodd\" fill-opacity=\"1\"/>\n",
       "<defs>\n",
       "  <clipPath id=\"clip881\">\n",
       "    <rect x=\"480\" y=\"0\" width=\"1681\" height=\"1600\"/>\n",
       "  </clipPath>\n",
       "</defs>\n",
       "<path clip-path=\"url(#clip880)\" d=\"\n",
       "M148.334 1486.45 L2352.76 1486.45 L2352.76 47.2441 L148.334 47.2441  Z\n",
       "  \" fill=\"#ffffff\" fill-rule=\"evenodd\" fill-opacity=\"1\"/>\n",
       "<defs>\n",
       "  <clipPath id=\"clip882\">\n",
       "    <rect x=\"148\" y=\"47\" width=\"2205\" height=\"1440\"/>\n",
       "  </clipPath>\n",
       "</defs>\n",
       "<polyline clip-path=\"url(#clip882)\" style=\"stroke:#000000; stroke-width:2; stroke-opacity:0.1; fill:none\" points=\"\n",
       "  269.581,1486.45 269.581,47.2441 \n",
       "  \"/>\n",
       "<polyline clip-path=\"url(#clip882)\" style=\"stroke:#000000; stroke-width:2; stroke-opacity:0.1; fill:none\" points=\"\n",
       "  715.474,1486.45 715.474,47.2441 \n",
       "  \"/>\n",
       "<polyline clip-path=\"url(#clip882)\" style=\"stroke:#000000; stroke-width:2; stroke-opacity:0.1; fill:none\" points=\"\n",
       "  1161.37,1486.45 1161.37,47.2441 \n",
       "  \"/>\n",
       "<polyline clip-path=\"url(#clip882)\" style=\"stroke:#000000; stroke-width:2; stroke-opacity:0.1; fill:none\" points=\"\n",
       "  1607.26,1486.45 1607.26,47.2441 \n",
       "  \"/>\n",
       "<polyline clip-path=\"url(#clip882)\" style=\"stroke:#000000; stroke-width:2; stroke-opacity:0.1; fill:none\" points=\"\n",
       "  2053.15,1486.45 2053.15,47.2441 \n",
       "  \"/>\n",
       "<polyline clip-path=\"url(#clip880)\" style=\"stroke:#000000; stroke-width:4; stroke-opacity:1; fill:none\" points=\"\n",
       "  148.334,1486.45 2352.76,1486.45 \n",
       "  \"/>\n",
       "<polyline clip-path=\"url(#clip880)\" style=\"stroke:#000000; stroke-width:4; stroke-opacity:1; fill:none\" points=\"\n",
       "  269.581,1486.45 269.581,1469.18 \n",
       "  \"/>\n",
       "<polyline clip-path=\"url(#clip880)\" style=\"stroke:#000000; stroke-width:4; stroke-opacity:1; fill:none\" points=\"\n",
       "  715.474,1486.45 715.474,1469.18 \n",
       "  \"/>\n",
       "<polyline clip-path=\"url(#clip880)\" style=\"stroke:#000000; stroke-width:4; stroke-opacity:1; fill:none\" points=\"\n",
       "  1161.37,1486.45 1161.37,1469.18 \n",
       "  \"/>\n",
       "<polyline clip-path=\"url(#clip880)\" style=\"stroke:#000000; stroke-width:4; stroke-opacity:1; fill:none\" points=\"\n",
       "  1607.26,1486.45 1607.26,1469.18 \n",
       "  \"/>\n",
       "<polyline clip-path=\"url(#clip880)\" style=\"stroke:#000000; stroke-width:4; stroke-opacity:1; fill:none\" points=\"\n",
       "  2053.15,1486.45 2053.15,1469.18 \n",
       "  \"/>\n",
       "<path clip-path=\"url(#clip880)\" d=\"M 0 0 M241.48 1543.18 L249.119 1543.18 L249.119 1516.82 L240.809 1518.49 L240.809 1514.23 L249.072 1512.56 L253.748 1512.56 L253.748 1543.18 L261.387 1543.18 L261.387 1547.12 L241.48 1547.12 L241.48 1543.18 Z\" fill=\"#000000\" fill-rule=\"evenodd\" fill-opacity=\"1\" /><path clip-path=\"url(#clip880)\" d=\"M 0 0 M266.457 1541.24 L271.341 1541.24 L271.341 1547.12 L266.457 1547.12 L266.457 1541.24 Z\" fill=\"#000000\" fill-rule=\"evenodd\" fill-opacity=\"1\" /><path clip-path=\"url(#clip880)\" d=\"M 0 0 M286.41 1515.64 Q282.799 1515.64 280.97 1519.2 Q279.165 1522.75 279.165 1529.87 Q279.165 1536.98 280.97 1540.55 Q282.799 1544.09 286.41 1544.09 Q290.044 1544.09 291.85 1540.55 Q293.679 1536.98 293.679 1529.87 Q293.679 1522.75 291.85 1519.2 Q290.044 1515.64 286.41 1515.64 M286.41 1511.93 Q292.22 1511.93 295.276 1516.54 Q298.354 1521.12 298.354 1529.87 Q298.354 1538.6 295.276 1543.21 Q292.22 1547.79 286.41 1547.79 Q280.6 1547.79 277.521 1543.21 Q274.466 1538.6 274.466 1529.87 Q274.466 1521.12 277.521 1516.54 Q280.6 1511.93 286.41 1511.93 Z\" fill=\"#000000\" fill-rule=\"evenodd\" fill-opacity=\"1\" /><path clip-path=\"url(#clip880)\" d=\"M 0 0 M687.87 1543.18 L695.509 1543.18 L695.509 1516.82 L687.199 1518.49 L687.199 1514.23 L695.463 1512.56 L700.138 1512.56 L700.138 1543.18 L707.777 1543.18 L707.777 1547.12 L687.87 1547.12 L687.87 1543.18 Z\" fill=\"#000000\" fill-rule=\"evenodd\" fill-opacity=\"1\" /><path clip-path=\"url(#clip880)\" d=\"M 0 0 M712.847 1541.24 L717.731 1541.24 L717.731 1547.12 L712.847 1547.12 L712.847 1541.24 Z\" fill=\"#000000\" fill-rule=\"evenodd\" fill-opacity=\"1\" /><path clip-path=\"url(#clip880)\" d=\"M 0 0 M722.847 1512.56 L741.203 1512.56 L741.203 1516.5 L727.129 1516.5 L727.129 1524.97 Q728.148 1524.62 729.166 1524.46 Q730.185 1524.27 731.203 1524.27 Q736.99 1524.27 740.37 1527.44 Q743.749 1530.62 743.749 1536.03 Q743.749 1541.61 740.277 1544.71 Q736.805 1547.79 730.486 1547.79 Q728.31 1547.79 726.041 1547.42 Q723.796 1547.05 721.388 1546.31 L721.388 1541.61 Q723.472 1542.74 725.694 1543.3 Q727.916 1543.86 730.393 1543.86 Q734.398 1543.86 736.736 1541.75 Q739.073 1539.64 739.073 1536.03 Q739.073 1532.42 736.736 1530.31 Q734.398 1528.21 730.393 1528.21 Q728.518 1528.21 726.643 1528.62 Q724.791 1529.04 722.847 1529.92 L722.847 1512.56 Z\" fill=\"#000000\" fill-rule=\"evenodd\" fill-opacity=\"1\" /><path clip-path=\"url(#clip880)\" d=\"M 0 0 M1137.54 1543.18 L1153.86 1543.18 L1153.86 1547.12 L1131.91 1547.12 L1131.91 1543.18 Q1134.57 1540.43 1139.16 1535.8 Q1143.76 1531.15 1144.94 1529.81 Q1147.19 1527.28 1148.07 1525.55 Q1148.97 1523.79 1148.97 1522.1 Q1148.97 1519.34 1147.03 1517.61 Q1145.11 1515.87 1142 1515.87 Q1139.8 1515.87 1137.35 1516.63 Q1134.92 1517.4 1132.14 1518.95 L1132.14 1514.23 Q1134.97 1513.09 1137.42 1512.51 Q1139.87 1511.93 1141.91 1511.93 Q1147.28 1511.93 1150.48 1514.62 Q1153.67 1517.31 1153.67 1521.8 Q1153.67 1523.93 1152.86 1525.85 Q1152.07 1527.74 1149.97 1530.34 Q1149.39 1531.01 1146.29 1534.23 Q1143.18 1537.42 1137.54 1543.18 Z\" fill=\"#000000\" fill-rule=\"evenodd\" fill-opacity=\"1\" /><path clip-path=\"url(#clip880)\" d=\"M 0 0 M1158.92 1541.24 L1163.81 1541.24 L1163.81 1547.12 L1158.92 1547.12 L1158.92 1541.24 Z\" fill=\"#000000\" fill-rule=\"evenodd\" fill-opacity=\"1\" /><path clip-path=\"url(#clip880)\" d=\"M 0 0 M1178.88 1515.64 Q1175.27 1515.64 1173.44 1519.2 Q1171.63 1522.75 1171.63 1529.87 Q1171.63 1536.98 1173.44 1540.55 Q1175.27 1544.09 1178.88 1544.09 Q1182.51 1544.09 1184.32 1540.55 Q1186.15 1536.98 1186.15 1529.87 Q1186.15 1522.75 1184.32 1519.2 Q1182.51 1515.64 1178.88 1515.64 M1178.88 1511.93 Q1184.69 1511.93 1187.74 1516.54 Q1190.82 1521.12 1190.82 1529.87 Q1190.82 1538.6 1187.74 1543.21 Q1184.69 1547.79 1178.88 1547.79 Q1173.07 1547.79 1169.99 1543.21 Q1166.93 1538.6 1166.93 1529.87 Q1166.93 1521.12 1169.99 1516.54 Q1173.07 1511.93 1178.88 1511.93 Z\" fill=\"#000000\" fill-rule=\"evenodd\" fill-opacity=\"1\" /><path clip-path=\"url(#clip880)\" d=\"M 0 0 M1583.93 1543.18 L1600.25 1543.18 L1600.25 1547.12 L1578.3 1547.12 L1578.3 1543.18 Q1580.96 1540.43 1585.55 1535.8 Q1590.15 1531.15 1591.33 1529.81 Q1593.58 1527.28 1594.46 1525.55 Q1595.36 1523.79 1595.36 1522.1 Q1595.36 1519.34 1593.42 1517.61 Q1591.5 1515.87 1588.39 1515.87 Q1586.19 1515.87 1583.74 1516.63 Q1581.31 1517.4 1578.53 1518.95 L1578.53 1514.23 Q1581.36 1513.09 1583.81 1512.51 Q1586.26 1511.93 1588.3 1511.93 Q1593.67 1511.93 1596.87 1514.62 Q1600.06 1517.31 1600.06 1521.8 Q1600.06 1523.93 1599.25 1525.85 Q1598.46 1527.74 1596.36 1530.34 Q1595.78 1531.01 1592.68 1534.23 Q1589.57 1537.42 1583.93 1543.18 Z\" fill=\"#000000\" fill-rule=\"evenodd\" fill-opacity=\"1\" /><path clip-path=\"url(#clip880)\" d=\"M 0 0 M1605.31 1541.24 L1610.2 1541.24 L1610.2 1547.12 L1605.31 1547.12 L1605.31 1541.24 Z\" fill=\"#000000\" fill-rule=\"evenodd\" fill-opacity=\"1\" /><path clip-path=\"url(#clip880)\" d=\"M 0 0 M1615.31 1512.56 L1633.67 1512.56 L1633.67 1516.5 L1619.6 1516.5 L1619.6 1524.97 Q1620.62 1524.62 1621.63 1524.46 Q1622.65 1524.27 1623.67 1524.27 Q1629.46 1524.27 1632.84 1527.44 Q1636.22 1530.62 1636.22 1536.03 Q1636.22 1541.61 1632.75 1544.71 Q1629.27 1547.79 1622.95 1547.79 Q1620.78 1547.79 1618.51 1547.42 Q1616.26 1547.05 1613.86 1546.31 L1613.86 1541.61 Q1615.94 1542.74 1618.16 1543.3 Q1620.38 1543.86 1622.86 1543.86 Q1626.87 1543.86 1629.2 1541.75 Q1631.54 1539.64 1631.54 1536.03 Q1631.54 1532.42 1629.2 1530.31 Q1626.87 1528.21 1622.86 1528.21 Q1620.99 1528.21 1619.11 1528.62 Q1617.26 1529.04 1615.31 1529.92 L1615.31 1512.56 Z\" fill=\"#000000\" fill-rule=\"evenodd\" fill-opacity=\"1\" /><path clip-path=\"url(#clip880)\" d=\"M 0 0 M2038.92 1528.49 Q2042.27 1529.2 2044.15 1531.47 Q2046.05 1533.74 2046.05 1537.07 Q2046.05 1542.19 2042.53 1544.99 Q2039.01 1547.79 2032.53 1547.79 Q2030.35 1547.79 2028.04 1547.35 Q2025.74 1546.93 2023.29 1546.08 L2023.29 1541.56 Q2025.24 1542.7 2027.55 1543.28 Q2029.86 1543.86 2032.39 1543.86 Q2036.79 1543.86 2039.08 1542.12 Q2041.39 1540.38 2041.39 1537.07 Q2041.39 1534.02 2039.24 1532.31 Q2037.11 1530.57 2033.29 1530.57 L2029.26 1530.57 L2029.26 1526.73 L2033.48 1526.73 Q2036.93 1526.73 2038.75 1525.36 Q2040.58 1523.97 2040.58 1521.38 Q2040.58 1518.72 2038.68 1517.31 Q2036.81 1515.87 2033.29 1515.87 Q2031.37 1515.87 2029.17 1516.29 Q2026.97 1516.7 2024.33 1517.58 L2024.33 1513.42 Q2026.99 1512.68 2029.31 1512.31 Q2031.65 1511.93 2033.71 1511.93 Q2039.03 1511.93 2042.13 1514.37 Q2045.24 1516.77 2045.24 1520.89 Q2045.24 1523.76 2043.59 1525.75 Q2041.95 1527.72 2038.92 1528.49 Z\" fill=\"#000000\" fill-rule=\"evenodd\" fill-opacity=\"1\" /><path clip-path=\"url(#clip880)\" d=\"M 0 0 M2051.11 1541.24 L2056 1541.24 L2056 1547.12 L2051.11 1547.12 L2051.11 1541.24 Z\" fill=\"#000000\" fill-rule=\"evenodd\" fill-opacity=\"1\" /><path clip-path=\"url(#clip880)\" d=\"M 0 0 M2071.07 1515.64 Q2067.46 1515.64 2065.63 1519.2 Q2063.82 1522.75 2063.82 1529.87 Q2063.82 1536.98 2065.63 1540.55 Q2067.46 1544.09 2071.07 1544.09 Q2074.7 1544.09 2076.51 1540.55 Q2078.34 1536.98 2078.34 1529.87 Q2078.34 1522.75 2076.51 1519.2 Q2074.7 1515.64 2071.07 1515.64 M2071.07 1511.93 Q2076.88 1511.93 2079.93 1516.54 Q2083.01 1521.12 2083.01 1529.87 Q2083.01 1538.6 2079.93 1543.21 Q2076.88 1547.79 2071.07 1547.79 Q2065.26 1547.79 2062.18 1543.21 Q2059.12 1538.6 2059.12 1529.87 Q2059.12 1521.12 2062.18 1516.54 Q2065.26 1511.93 2071.07 1511.93 Z\" fill=\"#000000\" fill-rule=\"evenodd\" fill-opacity=\"1\" /><polyline clip-path=\"url(#clip882)\" style=\"stroke:#000000; stroke-width:2; stroke-opacity:0.1; fill:none\" points=\"\n",
       "  148.334,1445.72 2352.76,1445.72 \n",
       "  \"/>\n",
       "<polyline clip-path=\"url(#clip882)\" style=\"stroke:#000000; stroke-width:2; stroke-opacity:0.1; fill:none\" points=\"\n",
       "  148.334,1143.19 2352.76,1143.19 \n",
       "  \"/>\n",
       "<polyline clip-path=\"url(#clip882)\" style=\"stroke:#000000; stroke-width:2; stroke-opacity:0.1; fill:none\" points=\"\n",
       "  148.334,840.662 2352.76,840.662 \n",
       "  \"/>\n",
       "<polyline clip-path=\"url(#clip882)\" style=\"stroke:#000000; stroke-width:2; stroke-opacity:0.1; fill:none\" points=\"\n",
       "  148.334,538.136 2352.76,538.136 \n",
       "  \"/>\n",
       "<polyline clip-path=\"url(#clip882)\" style=\"stroke:#000000; stroke-width:2; stroke-opacity:0.1; fill:none\" points=\"\n",
       "  148.334,235.609 2352.76,235.609 \n",
       "  \"/>\n",
       "<polyline clip-path=\"url(#clip880)\" style=\"stroke:#000000; stroke-width:4; stroke-opacity:1; fill:none\" points=\"\n",
       "  148.334,1486.45 148.334,47.2441 \n",
       "  \"/>\n",
       "<polyline clip-path=\"url(#clip880)\" style=\"stroke:#000000; stroke-width:4; stroke-opacity:1; fill:none\" points=\"\n",
       "  148.334,1445.72 174.787,1445.72 \n",
       "  \"/>\n",
       "<polyline clip-path=\"url(#clip880)\" style=\"stroke:#000000; stroke-width:4; stroke-opacity:1; fill:none\" points=\"\n",
       "  148.334,1143.19 174.787,1143.19 \n",
       "  \"/>\n",
       "<polyline clip-path=\"url(#clip880)\" style=\"stroke:#000000; stroke-width:4; stroke-opacity:1; fill:none\" points=\"\n",
       "  148.334,840.662 174.787,840.662 \n",
       "  \"/>\n",
       "<polyline clip-path=\"url(#clip880)\" style=\"stroke:#000000; stroke-width:4; stroke-opacity:1; fill:none\" points=\"\n",
       "  148.334,538.136 174.787,538.136 \n",
       "  \"/>\n",
       "<polyline clip-path=\"url(#clip880)\" style=\"stroke:#000000; stroke-width:4; stroke-opacity:1; fill:none\" points=\"\n",
       "  148.334,235.609 174.787,235.609 \n",
       "  \"/>\n",
       "<path clip-path=\"url(#clip880)\" d=\"M 0 0 M63.4226 1431.51 Q59.8115 1431.51 57.9828 1435.08 Q56.1773 1438.62 56.1773 1445.75 Q56.1773 1452.86 57.9828 1456.42 Q59.8115 1459.96 63.4226 1459.96 Q67.0569 1459.96 68.8624 1456.42 Q70.6911 1452.86 70.6911 1445.75 Q70.6911 1438.62 68.8624 1435.08 Q67.0569 1431.51 63.4226 1431.51 M63.4226 1427.81 Q69.2328 1427.81 72.2883 1432.42 Q75.367 1437 75.367 1445.75 Q75.367 1454.48 72.2883 1459.08 Q69.2328 1463.67 63.4226 1463.67 Q57.6125 1463.67 54.5338 1459.08 Q51.4782 1454.48 51.4782 1445.75 Q51.4782 1437 54.5338 1432.42 Q57.6125 1427.81 63.4226 1427.81 Z\" fill=\"#000000\" fill-rule=\"evenodd\" fill-opacity=\"1\" /><path clip-path=\"url(#clip880)\" d=\"M 0 0 M80.4364 1457.12 L85.3206 1457.12 L85.3206 1463 L80.4364 1463 L80.4364 1457.12 Z\" fill=\"#000000\" fill-rule=\"evenodd\" fill-opacity=\"1\" /><path clip-path=\"url(#clip880)\" d=\"M 0 0 M100.39 1431.51 Q96.7789 1431.51 94.9502 1435.08 Q93.1447 1438.62 93.1447 1445.75 Q93.1447 1452.86 94.9502 1456.42 Q96.7789 1459.96 100.39 1459.96 Q104.024 1459.96 105.83 1456.42 Q107.658 1452.86 107.658 1445.75 Q107.658 1438.62 105.83 1435.08 Q104.024 1431.51 100.39 1431.51 M100.39 1427.81 Q106.2 1427.81 109.256 1432.42 Q112.334 1437 112.334 1445.75 Q112.334 1454.48 109.256 1459.08 Q106.2 1463.67 100.39 1463.67 Q94.5799 1463.67 91.5012 1459.08 Q88.4456 1454.48 88.4456 1445.75 Q88.4456 1437 91.5012 1432.42 Q94.5799 1427.81 100.39 1427.81 Z\" fill=\"#000000\" fill-rule=\"evenodd\" fill-opacity=\"1\" /><path clip-path=\"url(#clip880)\" d=\"M 0 0 M64.6495 1128.99 Q61.0384 1128.99 59.2097 1132.55 Q57.4041 1136.09 57.4041 1143.22 Q57.4041 1150.33 59.2097 1153.9 Q61.0384 1157.44 64.6495 1157.44 Q68.2837 1157.44 70.0892 1153.9 Q71.9179 1150.33 71.9179 1143.22 Q71.9179 1136.09 70.0892 1132.55 Q68.2837 1128.99 64.6495 1128.99 M64.6495 1125.28 Q70.4596 1125.28 73.5152 1129.89 Q76.5938 1134.47 76.5938 1143.22 Q76.5938 1151.95 73.5152 1156.56 Q70.4596 1161.14 64.6495 1161.14 Q58.8393 1161.14 55.7606 1156.56 Q52.7051 1151.95 52.7051 1143.22 Q52.7051 1134.47 55.7606 1129.89 Q58.8393 1125.28 64.6495 1125.28 Z\" fill=\"#000000\" fill-rule=\"evenodd\" fill-opacity=\"1\" /><path clip-path=\"url(#clip880)\" d=\"M 0 0 M81.6633 1154.59 L86.5475 1154.59 L86.5475 1160.47 L81.6633 1160.47 L81.6633 1154.59 Z\" fill=\"#000000\" fill-rule=\"evenodd\" fill-opacity=\"1\" /><path clip-path=\"url(#clip880)\" d=\"M 0 0 M92.4271 1156.53 L100.066 1156.53 L100.066 1130.17 L91.7558 1131.83 L91.7558 1127.58 L100.02 1125.91 L104.696 1125.91 L104.696 1156.53 L112.334 1156.53 L112.334 1160.47 L92.4271 1160.47 L92.4271 1156.53 Z\" fill=\"#000000\" fill-rule=\"evenodd\" fill-opacity=\"1\" /><path clip-path=\"url(#clip880)\" d=\"M 0 0 M65.0198 826.461 Q61.4087 826.461 59.58 830.026 Q57.7745 833.568 57.7745 840.697 Q57.7745 847.804 59.58 851.368 Q61.4087 854.91 65.0198 854.91 Q68.6541 854.91 70.4596 851.368 Q72.2883 847.804 72.2883 840.697 Q72.2883 833.568 70.4596 830.026 Q68.6541 826.461 65.0198 826.461 M65.0198 822.757 Q70.83 822.757 73.8855 827.364 Q76.9642 831.947 76.9642 840.697 Q76.9642 849.424 73.8855 854.03 Q70.83 858.614 65.0198 858.614 Q59.2097 858.614 56.131 854.03 Q53.0754 849.424 53.0754 840.697 Q53.0754 831.947 56.131 827.364 Q59.2097 822.757 65.0198 822.757 Z\" fill=\"#000000\" fill-rule=\"evenodd\" fill-opacity=\"1\" /><path clip-path=\"url(#clip880)\" d=\"M 0 0 M82.0336 852.063 L86.9179 852.063 L86.9179 857.942 L82.0336 857.942 L82.0336 852.063 Z\" fill=\"#000000\" fill-rule=\"evenodd\" fill-opacity=\"1\" /><path clip-path=\"url(#clip880)\" d=\"M 0 0 M96.015 854.007 L112.334 854.007 L112.334 857.942 L90.3901 857.942 L90.3901 854.007 Q93.0521 851.253 97.6354 846.623 Q102.242 841.97 103.422 840.628 Q105.668 838.105 106.547 836.369 Q107.45 834.609 107.45 832.919 Q107.45 830.165 105.506 828.429 Q103.584 826.693 100.483 826.693 Q98.2835 826.693 95.8298 827.457 Q93.3993 828.22 90.6215 829.771 L90.6215 825.049 Q93.4456 823.915 95.8993 823.336 Q98.353 822.757 100.39 822.757 Q105.76 822.757 108.955 825.443 Q112.149 828.128 112.149 832.619 Q112.149 834.748 111.339 836.669 Q110.552 838.568 108.446 841.16 Q107.867 841.831 104.765 845.049 Q101.663 848.243 96.015 854.007 Z\" fill=\"#000000\" fill-rule=\"evenodd\" fill-opacity=\"1\" /><path clip-path=\"url(#clip880)\" d=\"M 0 0 M64.0708 523.935 Q60.4597 523.935 58.631 527.499 Q56.8254 531.041 56.8254 538.171 Q56.8254 545.277 58.631 548.842 Q60.4597 552.383 64.0708 552.383 Q67.705 552.383 69.5105 548.842 Q71.3392 545.277 71.3392 538.171 Q71.3392 531.041 69.5105 527.499 Q67.705 523.935 64.0708 523.935 M64.0708 520.231 Q69.8809 520.231 72.9365 524.837 Q76.0151 529.421 76.0151 538.171 Q76.0151 546.897 72.9365 551.504 Q69.8809 556.087 64.0708 556.087 Q58.2606 556.087 55.1819 551.504 Q52.1264 546.897 52.1264 538.171 Q52.1264 529.421 55.1819 524.837 Q58.2606 520.231 64.0708 520.231 Z\" fill=\"#000000\" fill-rule=\"evenodd\" fill-opacity=\"1\" /><path clip-path=\"url(#clip880)\" d=\"M 0 0 M81.0846 549.536 L85.9688 549.536 L85.9688 555.416 L81.0846 555.416 L81.0846 549.536 Z\" fill=\"#000000\" fill-rule=\"evenodd\" fill-opacity=\"1\" /><path clip-path=\"url(#clip880)\" d=\"M 0 0 M105.205 536.782 Q108.561 537.499 110.436 539.768 Q112.334 542.036 112.334 545.37 Q112.334 550.485 108.816 553.286 Q105.297 556.087 98.8159 556.087 Q96.64 556.087 94.3252 555.647 Q92.0336 555.231 89.5799 554.374 L89.5799 549.86 Q91.5243 550.995 93.8391 551.573 Q96.1539 552.152 98.6771 552.152 Q103.075 552.152 105.367 550.416 Q107.682 548.68 107.682 545.37 Q107.682 542.314 105.529 540.601 Q103.399 538.865 99.5798 538.865 L95.5521 538.865 L95.5521 535.022 L99.765 535.022 Q103.214 535.022 105.043 533.657 Q106.871 532.268 106.871 529.675 Q106.871 527.013 104.973 525.601 Q103.098 524.166 99.5798 524.166 Q97.6585 524.166 95.4595 524.583 Q93.2604 524.999 90.6215 525.879 L90.6215 521.712 Q93.2836 520.972 95.5984 520.601 Q97.9363 520.231 99.9965 520.231 Q105.321 520.231 108.422 522.661 Q111.524 525.069 111.524 529.189 Q111.524 532.06 109.881 534.05 Q108.237 536.018 105.205 536.782 Z\" fill=\"#000000\" fill-rule=\"evenodd\" fill-opacity=\"1\" /><path clip-path=\"url(#clip880)\" d=\"M 0 0 M62.9365 221.408 Q59.3254 221.408 57.4967 224.973 Q55.6912 228.514 55.6912 235.644 Q55.6912 242.75 57.4967 246.315 Q59.3254 249.857 62.9365 249.857 Q66.5707 249.857 68.3763 246.315 Q70.205 242.75 70.205 235.644 Q70.205 228.514 68.3763 224.973 Q66.5707 221.408 62.9365 221.408 M62.9365 217.704 Q68.7467 217.704 71.8022 222.311 Q74.8809 226.894 74.8809 235.644 Q74.8809 244.371 71.8022 248.977 Q68.7467 253.561 62.9365 253.561 Q57.1264 253.561 54.0477 248.977 Q50.9921 244.371 50.9921 235.644 Q50.9921 226.894 54.0477 222.311 Q57.1264 217.704 62.9365 217.704 Z\" fill=\"#000000\" fill-rule=\"evenodd\" fill-opacity=\"1\" /><path clip-path=\"url(#clip880)\" d=\"M 0 0 M79.9503 247.01 L84.8345 247.01 L84.8345 252.889 L79.9503 252.889 L79.9503 247.01 Z\" fill=\"#000000\" fill-rule=\"evenodd\" fill-opacity=\"1\" /><path clip-path=\"url(#clip880)\" d=\"M 0 0 M102.751 222.403 L90.9456 240.852 L102.751 240.852 L102.751 222.403 M101.524 218.329 L107.404 218.329 L107.404 240.852 L112.334 240.852 L112.334 244.741 L107.404 244.741 L107.404 252.889 L102.751 252.889 L102.751 244.741 L87.1493 244.741 L87.1493 240.227 L101.524 218.329 Z\" fill=\"#000000\" fill-rule=\"evenodd\" fill-opacity=\"1\" /><path clip-path=\"url(#clip882)\" d=\"\n",
       "M269.581 87.9763 L269.581 1445.72 L447.939 1445.72 L447.939 87.9763 L269.581 87.9763 L269.581 87.9763  Z\n",
       "  \" fill=\"#009af9\" fill-rule=\"evenodd\" fill-opacity=\"1\"/>\n",
       "<polyline clip-path=\"url(#clip882)\" style=\"stroke:#000000; stroke-width:4; stroke-opacity:1; fill:none\" points=\"\n",
       "  269.581,87.9763 269.581,1445.72 447.939,1445.72 447.939,87.9763 269.581,87.9763 \n",
       "  \"/>\n",
       "<path clip-path=\"url(#clip882)\" d=\"\n",
       "M447.939 1445.72 L447.939 1445.72 L626.296 1445.72 L626.296 1445.72 L447.939 1445.72 L447.939 1445.72  Z\n",
       "  \" fill=\"#009af9\" fill-rule=\"evenodd\" fill-opacity=\"1\"/>\n",
       "<polyline clip-path=\"url(#clip882)\" style=\"stroke:#000000; stroke-width:4; stroke-opacity:1; fill:none\" points=\"\n",
       "  447.939,1445.72 447.939,1445.72 626.296,1445.72 447.939,1445.72 \n",
       "  \"/>\n",
       "<path clip-path=\"url(#clip882)\" d=\"\n",
       "M626.296 1445.72 L626.296 1445.72 L804.653 1445.72 L804.653 1445.72 L626.296 1445.72 L626.296 1445.72  Z\n",
       "  \" fill=\"#009af9\" fill-rule=\"evenodd\" fill-opacity=\"1\"/>\n",
       "<polyline clip-path=\"url(#clip882)\" style=\"stroke:#000000; stroke-width:4; stroke-opacity:1; fill:none\" points=\"\n",
       "  626.296,1445.72 626.296,1445.72 804.653,1445.72 626.296,1445.72 \n",
       "  \"/>\n",
       "<path clip-path=\"url(#clip882)\" d=\"\n",
       "M804.653 1445.72 L804.653 1445.72 L983.01 1445.72 L983.01 1445.72 L804.653 1445.72 L804.653 1445.72  Z\n",
       "  \" fill=\"#009af9\" fill-rule=\"evenodd\" fill-opacity=\"1\"/>\n",
       "<polyline clip-path=\"url(#clip882)\" style=\"stroke:#000000; stroke-width:4; stroke-opacity:1; fill:none\" points=\"\n",
       "  804.653,1445.72 804.653,1445.72 983.01,1445.72 804.653,1445.72 \n",
       "  \"/>\n",
       "<path clip-path=\"url(#clip882)\" d=\"\n",
       "M983.01 1445.72 L983.01 1445.72 L1161.37 1445.72 L1161.37 1445.72 L983.01 1445.72 L983.01 1445.72  Z\n",
       "  \" fill=\"#009af9\" fill-rule=\"evenodd\" fill-opacity=\"1\"/>\n",
       "<polyline clip-path=\"url(#clip882)\" style=\"stroke:#000000; stroke-width:4; stroke-opacity:1; fill:none\" points=\"\n",
       "  983.01,1445.72 983.01,1445.72 1161.37,1445.72 983.01,1445.72 \n",
       "  \"/>\n",
       "<path clip-path=\"url(#clip882)\" d=\"\n",
       "M1161.37 1113.84 L1161.37 1445.72 L1339.72 1445.72 L1339.72 1113.84 L1161.37 1113.84 L1161.37 1113.84  Z\n",
       "  \" fill=\"#009af9\" fill-rule=\"evenodd\" fill-opacity=\"1\"/>\n",
       "<polyline clip-path=\"url(#clip882)\" style=\"stroke:#000000; stroke-width:4; stroke-opacity:1; fill:none\" points=\"\n",
       "  1161.37,1113.84 1161.37,1445.72 1339.72,1445.72 1339.72,1113.84 1161.37,1113.84 \n",
       "  \"/>\n",
       "<path clip-path=\"url(#clip882)\" d=\"\n",
       "M1339.72 1445.72 L1339.72 1445.72 L1518.08 1445.72 L1518.08 1445.72 L1339.72 1445.72 L1339.72 1445.72  Z\n",
       "  \" fill=\"#009af9\" fill-rule=\"evenodd\" fill-opacity=\"1\"/>\n",
       "<polyline clip-path=\"url(#clip882)\" style=\"stroke:#000000; stroke-width:4; stroke-opacity:1; fill:none\" points=\"\n",
       "  1339.72,1445.72 1339.72,1445.72 1518.08,1445.72 1339.72,1445.72 \n",
       "  \"/>\n",
       "<path clip-path=\"url(#clip882)\" d=\"\n",
       "M1518.08 1445.72 L1518.08 1445.72 L1696.44 1445.72 L1696.44 1445.72 L1518.08 1445.72 L1518.08 1445.72  Z\n",
       "  \" fill=\"#009af9\" fill-rule=\"evenodd\" fill-opacity=\"1\"/>\n",
       "<polyline clip-path=\"url(#clip882)\" style=\"stroke:#000000; stroke-width:4; stroke-opacity:1; fill:none\" points=\"\n",
       "  1518.08,1445.72 1518.08,1445.72 1696.44,1445.72 1518.08,1445.72 \n",
       "  \"/>\n",
       "<path clip-path=\"url(#clip882)\" d=\"\n",
       "M1696.44 1445.72 L1696.44 1445.72 L1874.79 1445.72 L1874.79 1445.72 L1696.44 1445.72 L1696.44 1445.72  Z\n",
       "  \" fill=\"#009af9\" fill-rule=\"evenodd\" fill-opacity=\"1\"/>\n",
       "<polyline clip-path=\"url(#clip882)\" style=\"stroke:#000000; stroke-width:4; stroke-opacity:1; fill:none\" points=\"\n",
       "  1696.44,1445.72 1696.44,1445.72 1874.79,1445.72 1696.44,1445.72 \n",
       "  \"/>\n",
       "<path clip-path=\"url(#clip882)\" d=\"\n",
       "M1874.79 1445.72 L1874.79 1445.72 L2053.15 1445.72 L2053.15 1445.72 L1874.79 1445.72 L1874.79 1445.72  Z\n",
       "  \" fill=\"#009af9\" fill-rule=\"evenodd\" fill-opacity=\"1\"/>\n",
       "<polyline clip-path=\"url(#clip882)\" style=\"stroke:#000000; stroke-width:4; stroke-opacity:1; fill:none\" points=\"\n",
       "  1874.79,1445.72 1874.79,1445.72 2053.15,1445.72 1874.79,1445.72 \n",
       "  \"/>\n",
       "<path clip-path=\"url(#clip882)\" d=\"\n",
       "M2053.15 110.061 L2053.15 1445.72 L2231.51 1445.72 L2231.51 110.061 L2053.15 110.061 L2053.15 110.061  Z\n",
       "  \" fill=\"#009af9\" fill-rule=\"evenodd\" fill-opacity=\"1\"/>\n",
       "<polyline clip-path=\"url(#clip882)\" style=\"stroke:#000000; stroke-width:4; stroke-opacity:1; fill:none\" points=\"\n",
       "  2053.15,110.061 2053.15,1445.72 2231.51,1445.72 2231.51,110.061 2053.15,110.061 \n",
       "  \"/>\n",
       "<path clip-path=\"url(#clip880)\" d=\"\n",
       "M1983.32 216.178 L2279.28 216.178 L2279.28 95.2176 L1983.32 95.2176  Z\n",
       "  \" fill=\"#ffffff\" fill-rule=\"evenodd\" fill-opacity=\"1\"/>\n",
       "<polyline clip-path=\"url(#clip880)\" style=\"stroke:#000000; stroke-width:4; stroke-opacity:1; fill:none\" points=\"\n",
       "  1983.32,216.178 2279.28,216.178 2279.28,95.2176 1983.32,95.2176 1983.32,216.178 \n",
       "  \"/>\n",
       "<path clip-path=\"url(#clip880)\" d=\"\n",
       "M2007.81 179.89 L2154.78 179.89 L2154.78 131.506 L2007.81 131.506 L2007.81 179.89  Z\n",
       "  \" fill=\"#009af9\" fill-rule=\"evenodd\" fill-opacity=\"1\"/>\n",
       "<polyline clip-path=\"url(#clip880)\" style=\"stroke:#000000; stroke-width:4; stroke-opacity:1; fill:none\" points=\"\n",
       "  2007.81,179.89 2154.78,179.89 2154.78,131.506 2007.81,131.506 2007.81,179.89 \n",
       "  \"/>\n",
       "<path clip-path=\"url(#clip880)\" d=\"M 0 0 M2193.11 175.385 Q2191.31 180.015 2189.59 181.427 Q2187.88 182.839 2185.01 182.839 L2181.61 182.839 L2181.61 179.274 L2184.11 179.274 Q2185.87 179.274 2186.84 178.44 Q2187.81 177.607 2188.99 174.505 L2189.76 172.561 L2179.27 147.052 L2183.78 147.052 L2191.89 167.329 L2199.99 147.052 L2204.5 147.052 L2193.11 175.385 Z\" fill=\"#000000\" fill-rule=\"evenodd\" fill-opacity=\"1\" /><path clip-path=\"url(#clip880)\" d=\"M 0 0 M2210.38 169.042 L2218.02 169.042 L2218.02 142.677 L2209.71 144.343 L2209.71 140.084 L2217.97 138.418 L2222.65 138.418 L2222.65 169.042 L2230.29 169.042 L2230.29 172.978 L2210.38 172.978 L2210.38 169.042 Z\" fill=\"#000000\" fill-rule=\"evenodd\" fill-opacity=\"1\" /></svg>\n"
      ]
     },
     "execution_count": 42,
     "metadata": {},
     "output_type": "execute_result"
    }
   ],
   "source": [
    "show_results(run_two_agents_theory_of_mind(agent, agent, [1,5,5] , [1,1,1], [], [], 0))"
   ]
  },
  {
   "cell_type": "code",
   "execution_count": 43,
   "metadata": {},
   "outputs": [
    {
     "name": "stdout",
     "output_type": "stream",
     "text": [
      "1.460436006513103"
     ]
    },
    {
     "data": {
      "image/svg+xml": [
       "<?xml version=\"1.0\" encoding=\"utf-8\"?>\n",
       "<svg xmlns=\"http://www.w3.org/2000/svg\" xmlns:xlink=\"http://www.w3.org/1999/xlink\" width=\"600\" height=\"400\" viewBox=\"0 0 2400 1600\">\n",
       "<defs>\n",
       "  <clipPath id=\"clip920\">\n",
       "    <rect x=\"0\" y=\"0\" width=\"2400\" height=\"1600\"/>\n",
       "  </clipPath>\n",
       "</defs>\n",
       "<path clip-path=\"url(#clip920)\" d=\"\n",
       "M0 1600 L2400 1600 L2400 0 L0 0  Z\n",
       "  \" fill=\"#ffffff\" fill-rule=\"evenodd\" fill-opacity=\"1\"/>\n",
       "<defs>\n",
       "  <clipPath id=\"clip921\">\n",
       "    <rect x=\"480\" y=\"0\" width=\"1681\" height=\"1600\"/>\n",
       "  </clipPath>\n",
       "</defs>\n",
       "<path clip-path=\"url(#clip920)\" d=\"\n",
       "M147.848 1486.45 L2352.76 1486.45 L2352.76 47.2441 L147.848 47.2441  Z\n",
       "  \" fill=\"#ffffff\" fill-rule=\"evenodd\" fill-opacity=\"1\"/>\n",
       "<defs>\n",
       "  <clipPath id=\"clip922\">\n",
       "    <rect x=\"147\" y=\"47\" width=\"2206\" height=\"1440\"/>\n",
       "  </clipPath>\n",
       "</defs>\n",
       "<polyline clip-path=\"url(#clip922)\" style=\"stroke:#000000; stroke-width:2; stroke-opacity:0.1; fill:none\" points=\"\n",
       "  269.122,1486.45 269.122,47.2441 \n",
       "  \"/>\n",
       "<polyline clip-path=\"url(#clip922)\" style=\"stroke:#000000; stroke-width:2; stroke-opacity:0.1; fill:none\" points=\"\n",
       "  715.113,1486.45 715.113,47.2441 \n",
       "  \"/>\n",
       "<polyline clip-path=\"url(#clip922)\" style=\"stroke:#000000; stroke-width:2; stroke-opacity:0.1; fill:none\" points=\"\n",
       "  1161.1,1486.45 1161.1,47.2441 \n",
       "  \"/>\n",
       "<polyline clip-path=\"url(#clip922)\" style=\"stroke:#000000; stroke-width:2; stroke-opacity:0.1; fill:none\" points=\"\n",
       "  1607.09,1486.45 1607.09,47.2441 \n",
       "  \"/>\n",
       "<polyline clip-path=\"url(#clip922)\" style=\"stroke:#000000; stroke-width:2; stroke-opacity:0.1; fill:none\" points=\"\n",
       "  2053.09,1486.45 2053.09,47.2441 \n",
       "  \"/>\n",
       "<polyline clip-path=\"url(#clip920)\" style=\"stroke:#000000; stroke-width:4; stroke-opacity:1; fill:none\" points=\"\n",
       "  147.848,1486.45 2352.76,1486.45 \n",
       "  \"/>\n",
       "<polyline clip-path=\"url(#clip920)\" style=\"stroke:#000000; stroke-width:4; stroke-opacity:1; fill:none\" points=\"\n",
       "  269.122,1486.45 269.122,1469.18 \n",
       "  \"/>\n",
       "<polyline clip-path=\"url(#clip920)\" style=\"stroke:#000000; stroke-width:4; stroke-opacity:1; fill:none\" points=\"\n",
       "  715.113,1486.45 715.113,1469.18 \n",
       "  \"/>\n",
       "<polyline clip-path=\"url(#clip920)\" style=\"stroke:#000000; stroke-width:4; stroke-opacity:1; fill:none\" points=\"\n",
       "  1161.1,1486.45 1161.1,1469.18 \n",
       "  \"/>\n",
       "<polyline clip-path=\"url(#clip920)\" style=\"stroke:#000000; stroke-width:4; stroke-opacity:1; fill:none\" points=\"\n",
       "  1607.09,1486.45 1607.09,1469.18 \n",
       "  \"/>\n",
       "<polyline clip-path=\"url(#clip920)\" style=\"stroke:#000000; stroke-width:4; stroke-opacity:1; fill:none\" points=\"\n",
       "  2053.09,1486.45 2053.09,1469.18 \n",
       "  \"/>\n",
       "<path clip-path=\"url(#clip920)\" d=\"M 0 0 M241.02 1543.18 L248.659 1543.18 L248.659 1516.82 L240.349 1518.49 L240.349 1514.23 L248.613 1512.56 L253.289 1512.56 L253.289 1543.18 L260.928 1543.18 L260.928 1547.12 L241.02 1547.12 L241.02 1543.18 Z\" fill=\"#000000\" fill-rule=\"evenodd\" fill-opacity=\"1\" /><path clip-path=\"url(#clip920)\" d=\"M 0 0 M265.997 1541.24 L270.881 1541.24 L270.881 1547.12 L265.997 1547.12 L265.997 1541.24 Z\" fill=\"#000000\" fill-rule=\"evenodd\" fill-opacity=\"1\" /><path clip-path=\"url(#clip920)\" d=\"M 0 0 M285.951 1515.64 Q282.34 1515.64 280.511 1519.2 Q278.705 1522.75 278.705 1529.87 Q278.705 1536.98 280.511 1540.55 Q282.34 1544.09 285.951 1544.09 Q289.585 1544.09 291.391 1540.55 Q293.219 1536.98 293.219 1529.87 Q293.219 1522.75 291.391 1519.2 Q289.585 1515.64 285.951 1515.64 M285.951 1511.93 Q291.761 1511.93 294.816 1516.54 Q297.895 1521.12 297.895 1529.87 Q297.895 1538.6 294.816 1543.21 Q291.761 1547.79 285.951 1547.79 Q280.141 1547.79 277.062 1543.21 Q274.006 1538.6 274.006 1529.87 Q274.006 1521.12 277.062 1516.54 Q280.141 1511.93 285.951 1511.93 Z\" fill=\"#000000\" fill-rule=\"evenodd\" fill-opacity=\"1\" /><path clip-path=\"url(#clip920)\" d=\"M 0 0 M687.509 1543.18 L695.148 1543.18 L695.148 1516.82 L686.838 1518.49 L686.838 1514.23 L695.102 1512.56 L699.777 1512.56 L699.777 1543.18 L707.416 1543.18 L707.416 1547.12 L687.509 1547.12 L687.509 1543.18 Z\" fill=\"#000000\" fill-rule=\"evenodd\" fill-opacity=\"1\" /><path clip-path=\"url(#clip920)\" d=\"M 0 0 M712.486 1541.24 L717.37 1541.24 L717.37 1547.12 L712.486 1547.12 L712.486 1541.24 Z\" fill=\"#000000\" fill-rule=\"evenodd\" fill-opacity=\"1\" /><path clip-path=\"url(#clip920)\" d=\"M 0 0 M722.486 1512.56 L740.842 1512.56 L740.842 1516.5 L726.768 1516.5 L726.768 1524.97 Q727.787 1524.62 728.805 1524.46 Q729.824 1524.27 730.842 1524.27 Q736.629 1524.27 740.009 1527.44 Q743.388 1530.62 743.388 1536.03 Q743.388 1541.61 739.916 1544.71 Q736.444 1547.79 730.125 1547.79 Q727.949 1547.79 725.68 1547.42 Q723.435 1547.05 721.027 1546.31 L721.027 1541.61 Q723.111 1542.74 725.333 1543.3 Q727.555 1543.86 730.032 1543.86 Q734.037 1543.86 736.374 1541.75 Q738.712 1539.64 738.712 1536.03 Q738.712 1532.42 736.374 1530.31 Q734.037 1528.21 730.032 1528.21 Q728.157 1528.21 726.282 1528.62 Q724.43 1529.04 722.486 1529.92 L722.486 1512.56 Z\" fill=\"#000000\" fill-rule=\"evenodd\" fill-opacity=\"1\" /><path clip-path=\"url(#clip920)\" d=\"M 0 0 M1137.27 1543.18 L1153.59 1543.18 L1153.59 1547.12 L1131.65 1547.12 L1131.65 1543.18 Q1134.31 1540.43 1138.89 1535.8 Q1143.5 1531.15 1144.68 1529.81 Q1146.93 1527.28 1147.81 1525.55 Q1148.71 1523.79 1148.71 1522.1 Q1148.71 1519.34 1146.76 1517.61 Q1144.84 1515.87 1141.74 1515.87 Q1139.54 1515.87 1137.09 1516.63 Q1134.66 1517.4 1131.88 1518.95 L1131.88 1514.23 Q1134.7 1513.09 1137.16 1512.51 Q1139.61 1511.93 1141.65 1511.93 Q1147.02 1511.93 1150.21 1514.62 Q1153.41 1517.31 1153.41 1521.8 Q1153.41 1523.93 1152.6 1525.85 Q1151.81 1527.74 1149.7 1530.34 Q1149.12 1531.01 1146.02 1534.23 Q1142.92 1537.42 1137.27 1543.18 Z\" fill=\"#000000\" fill-rule=\"evenodd\" fill-opacity=\"1\" /><path clip-path=\"url(#clip920)\" d=\"M 0 0 M1158.66 1541.24 L1163.55 1541.24 L1163.55 1547.12 L1158.66 1547.12 L1158.66 1541.24 Z\" fill=\"#000000\" fill-rule=\"evenodd\" fill-opacity=\"1\" /><path clip-path=\"url(#clip920)\" d=\"M 0 0 M1178.62 1515.64 Q1175 1515.64 1173.18 1519.2 Q1171.37 1522.75 1171.37 1529.87 Q1171.37 1536.98 1173.18 1540.55 Q1175 1544.09 1178.62 1544.09 Q1182.25 1544.09 1184.06 1540.55 Q1185.88 1536.98 1185.88 1529.87 Q1185.88 1522.75 1184.06 1519.2 Q1182.25 1515.64 1178.62 1515.64 M1178.62 1511.93 Q1184.43 1511.93 1187.48 1516.54 Q1190.56 1521.12 1190.56 1529.87 Q1190.56 1538.6 1187.48 1543.21 Q1184.43 1547.79 1178.62 1547.79 Q1172.81 1547.79 1169.73 1543.21 Q1166.67 1538.6 1166.67 1529.87 Q1166.67 1521.12 1169.73 1516.54 Q1172.81 1511.93 1178.62 1511.93 Z\" fill=\"#000000\" fill-rule=\"evenodd\" fill-opacity=\"1\" /><path clip-path=\"url(#clip920)\" d=\"M 0 0 M1583.76 1543.18 L1600.08 1543.18 L1600.08 1547.12 L1578.14 1547.12 L1578.14 1543.18 Q1580.8 1540.43 1585.38 1535.8 Q1589.99 1531.15 1591.17 1529.81 Q1593.41 1527.28 1594.29 1525.55 Q1595.2 1523.79 1595.2 1522.1 Q1595.2 1519.34 1593.25 1517.61 Q1591.33 1515.87 1588.23 1515.87 Q1586.03 1515.87 1583.58 1516.63 Q1581.15 1517.4 1578.37 1518.95 L1578.37 1514.23 Q1581.19 1513.09 1583.65 1512.51 Q1586.1 1511.93 1588.14 1511.93 Q1593.51 1511.93 1596.7 1514.62 Q1599.9 1517.31 1599.9 1521.8 Q1599.9 1523.93 1599.09 1525.85 Q1598.3 1527.74 1596.19 1530.34 Q1595.61 1531.01 1592.51 1534.23 Q1589.41 1537.42 1583.76 1543.18 Z\" fill=\"#000000\" fill-rule=\"evenodd\" fill-opacity=\"1\" /><path clip-path=\"url(#clip920)\" d=\"M 0 0 M1605.15 1541.24 L1610.03 1541.24 L1610.03 1547.12 L1605.15 1547.12 L1605.15 1541.24 Z\" fill=\"#000000\" fill-rule=\"evenodd\" fill-opacity=\"1\" /><path clip-path=\"url(#clip920)\" d=\"M 0 0 M1615.15 1512.56 L1633.51 1512.56 L1633.51 1516.5 L1619.43 1516.5 L1619.43 1524.97 Q1620.45 1524.62 1621.47 1524.46 Q1622.49 1524.27 1623.51 1524.27 Q1629.29 1524.27 1632.67 1527.44 Q1636.05 1530.62 1636.05 1536.03 Q1636.05 1541.61 1632.58 1544.71 Q1629.11 1547.79 1622.79 1547.79 Q1620.61 1547.79 1618.34 1547.42 Q1616.1 1547.05 1613.69 1546.31 L1613.69 1541.61 Q1615.78 1542.74 1618 1543.3 Q1620.22 1543.86 1622.7 1543.86 Q1626.7 1543.86 1629.04 1541.75 Q1631.38 1539.64 1631.38 1536.03 Q1631.38 1532.42 1629.04 1530.31 Q1626.7 1528.21 1622.7 1528.21 Q1620.82 1528.21 1618.95 1528.62 Q1617.09 1529.04 1615.15 1529.92 L1615.15 1512.56 Z\" fill=\"#000000\" fill-rule=\"evenodd\" fill-opacity=\"1\" /><path clip-path=\"url(#clip920)\" d=\"M 0 0 M2038.85 1528.49 Q2042.21 1529.2 2044.08 1531.47 Q2045.98 1533.74 2045.98 1537.07 Q2045.98 1542.19 2042.46 1544.99 Q2038.94 1547.79 2032.46 1547.79 Q2030.28 1547.79 2027.97 1547.35 Q2025.68 1546.93 2023.22 1546.08 L2023.22 1541.56 Q2025.17 1542.7 2027.48 1543.28 Q2029.8 1543.86 2032.32 1543.86 Q2036.72 1543.86 2039.01 1542.12 Q2041.33 1540.38 2041.33 1537.07 Q2041.33 1534.02 2039.17 1532.31 Q2037.04 1530.57 2033.22 1530.57 L2029.2 1530.57 L2029.2 1526.73 L2033.41 1526.73 Q2036.86 1526.73 2038.69 1525.36 Q2040.52 1523.97 2040.52 1521.38 Q2040.52 1518.72 2038.62 1517.31 Q2036.74 1515.87 2033.22 1515.87 Q2031.3 1515.87 2029.1 1516.29 Q2026.91 1516.7 2024.27 1517.58 L2024.27 1513.42 Q2026.93 1512.68 2029.24 1512.31 Q2031.58 1511.93 2033.64 1511.93 Q2038.97 1511.93 2042.07 1514.37 Q2045.17 1516.77 2045.17 1520.89 Q2045.17 1523.76 2043.53 1525.75 Q2041.88 1527.72 2038.85 1528.49 Z\" fill=\"#000000\" fill-rule=\"evenodd\" fill-opacity=\"1\" /><path clip-path=\"url(#clip920)\" d=\"M 0 0 M2051.05 1541.24 L2055.93 1541.24 L2055.93 1547.12 L2051.05 1547.12 L2051.05 1541.24 Z\" fill=\"#000000\" fill-rule=\"evenodd\" fill-opacity=\"1\" /><path clip-path=\"url(#clip920)\" d=\"M 0 0 M2071 1515.64 Q2067.39 1515.64 2065.56 1519.2 Q2063.76 1522.75 2063.76 1529.87 Q2063.76 1536.98 2065.56 1540.55 Q2067.39 1544.09 2071 1544.09 Q2074.64 1544.09 2076.44 1540.55 Q2078.27 1536.98 2078.27 1529.87 Q2078.27 1522.75 2076.44 1519.2 Q2074.64 1515.64 2071 1515.64 M2071 1511.93 Q2076.81 1511.93 2079.87 1516.54 Q2082.95 1521.12 2082.95 1529.87 Q2082.95 1538.6 2079.87 1543.21 Q2076.81 1547.79 2071 1547.79 Q2065.19 1547.79 2062.11 1543.21 Q2059.06 1538.6 2059.06 1529.87 Q2059.06 1521.12 2062.11 1516.54 Q2065.19 1511.93 2071 1511.93 Z\" fill=\"#000000\" fill-rule=\"evenodd\" fill-opacity=\"1\" /><polyline clip-path=\"url(#clip922)\" style=\"stroke:#000000; stroke-width:2; stroke-opacity:0.1; fill:none\" points=\"\n",
       "  147.848,1445.72 2352.76,1445.72 \n",
       "  \"/>\n",
       "<polyline clip-path=\"url(#clip922)\" style=\"stroke:#000000; stroke-width:2; stroke-opacity:0.1; fill:none\" points=\"\n",
       "  147.848,1045.08 2352.76,1045.08 \n",
       "  \"/>\n",
       "<polyline clip-path=\"url(#clip922)\" style=\"stroke:#000000; stroke-width:2; stroke-opacity:0.1; fill:none\" points=\"\n",
       "  147.848,644.453 2352.76,644.453 \n",
       "  \"/>\n",
       "<polyline clip-path=\"url(#clip922)\" style=\"stroke:#000000; stroke-width:2; stroke-opacity:0.1; fill:none\" points=\"\n",
       "  147.848,243.822 2352.76,243.822 \n",
       "  \"/>\n",
       "<polyline clip-path=\"url(#clip920)\" style=\"stroke:#000000; stroke-width:4; stroke-opacity:1; fill:none\" points=\"\n",
       "  147.848,1486.45 147.848,47.2441 \n",
       "  \"/>\n",
       "<polyline clip-path=\"url(#clip920)\" style=\"stroke:#000000; stroke-width:4; stroke-opacity:1; fill:none\" points=\"\n",
       "  147.848,1445.72 174.307,1445.72 \n",
       "  \"/>\n",
       "<polyline clip-path=\"url(#clip920)\" style=\"stroke:#000000; stroke-width:4; stroke-opacity:1; fill:none\" points=\"\n",
       "  147.848,1045.08 174.307,1045.08 \n",
       "  \"/>\n",
       "<polyline clip-path=\"url(#clip920)\" style=\"stroke:#000000; stroke-width:4; stroke-opacity:1; fill:none\" points=\"\n",
       "  147.848,644.453 174.307,644.453 \n",
       "  \"/>\n",
       "<polyline clip-path=\"url(#clip920)\" style=\"stroke:#000000; stroke-width:4; stroke-opacity:1; fill:none\" points=\"\n",
       "  147.848,243.822 174.307,243.822 \n",
       "  \"/>\n",
       "<path clip-path=\"url(#clip920)\" d=\"M 0 0 M62.9365 1431.51 Q59.3254 1431.51 57.4967 1435.08 Q55.6912 1438.62 55.6912 1445.75 Q55.6912 1452.86 57.4967 1456.42 Q59.3254 1459.96 62.9365 1459.96 Q66.5707 1459.96 68.3763 1456.42 Q70.205 1452.86 70.205 1445.75 Q70.205 1438.62 68.3763 1435.08 Q66.5707 1431.51 62.9365 1431.51 M62.9365 1427.81 Q68.7467 1427.81 71.8022 1432.42 Q74.8809 1437 74.8809 1445.75 Q74.8809 1454.48 71.8022 1459.08 Q68.7467 1463.67 62.9365 1463.67 Q57.1264 1463.67 54.0477 1459.08 Q50.9921 1454.48 50.9921 1445.75 Q50.9921 1437 54.0477 1432.42 Q57.1264 1427.81 62.9365 1427.81 Z\" fill=\"#000000\" fill-rule=\"evenodd\" fill-opacity=\"1\" /><path clip-path=\"url(#clip920)\" d=\"M 0 0 M79.9503 1457.12 L84.8345 1457.12 L84.8345 1463 L79.9503 1463 L79.9503 1457.12 Z\" fill=\"#000000\" fill-rule=\"evenodd\" fill-opacity=\"1\" /><path clip-path=\"url(#clip920)\" d=\"M 0 0 M99.9039 1431.51 Q96.2928 1431.51 94.4641 1435.08 Q92.6586 1438.62 92.6586 1445.75 Q92.6586 1452.86 94.4641 1456.42 Q96.2928 1459.96 99.9039 1459.96 Q103.538 1459.96 105.344 1456.42 Q107.172 1452.86 107.172 1445.75 Q107.172 1438.62 105.344 1435.08 Q103.538 1431.51 99.9039 1431.51 M99.9039 1427.81 Q105.714 1427.81 108.77 1432.42 Q111.848 1437 111.848 1445.75 Q111.848 1454.48 108.77 1459.08 Q105.714 1463.67 99.9039 1463.67 Q94.0937 1463.67 91.0151 1459.08 Q87.9595 1454.48 87.9595 1445.75 Q87.9595 1437 91.0151 1432.42 Q94.0937 1427.81 99.9039 1427.81 Z\" fill=\"#000000\" fill-rule=\"evenodd\" fill-opacity=\"1\" /><path clip-path=\"url(#clip920)\" d=\"M 0 0 M64.1634 1030.88 Q60.5523 1030.88 58.7236 1034.45 Q56.918 1037.99 56.918 1045.12 Q56.918 1052.23 58.7236 1055.79 Q60.5523 1059.33 64.1634 1059.33 Q67.7976 1059.33 69.6031 1055.79 Q71.4318 1052.23 71.4318 1045.12 Q71.4318 1037.99 69.6031 1034.45 Q67.7976 1030.88 64.1634 1030.88 M64.1634 1027.18 Q69.9735 1027.18 73.029 1031.79 Q76.1077 1036.37 76.1077 1045.12 Q76.1077 1053.85 73.029 1058.45 Q69.9735 1063.04 64.1634 1063.04 Q58.3532 1063.04 55.2745 1058.45 Q52.219 1053.85 52.219 1045.12 Q52.219 1036.37 55.2745 1031.79 Q58.3532 1027.18 64.1634 1027.18 Z\" fill=\"#000000\" fill-rule=\"evenodd\" fill-opacity=\"1\" /><path clip-path=\"url(#clip920)\" d=\"M 0 0 M81.1771 1056.48 L86.0614 1056.48 L86.0614 1062.36 L81.1771 1062.36 L81.1771 1056.48 Z\" fill=\"#000000\" fill-rule=\"evenodd\" fill-opacity=\"1\" /><path clip-path=\"url(#clip920)\" d=\"M 0 0 M91.941 1058.43 L99.5798 1058.43 L99.5798 1032.06 L91.2697 1033.73 L91.2697 1029.47 L99.5335 1027.8 L104.209 1027.8 L104.209 1058.43 L111.848 1058.43 L111.848 1062.36 L91.941 1062.36 L91.941 1058.43 Z\" fill=\"#000000\" fill-rule=\"evenodd\" fill-opacity=\"1\" /><path clip-path=\"url(#clip920)\" d=\"M 0 0 M64.5337 630.252 Q60.9226 630.252 59.0939 633.817 Q57.2884 637.358 57.2884 644.488 Q57.2884 651.594 59.0939 655.159 Q60.9226 658.701 64.5337 658.701 Q68.168 658.701 69.9735 655.159 Q71.8022 651.594 71.8022 644.488 Q71.8022 637.358 69.9735 633.817 Q68.168 630.252 64.5337 630.252 M64.5337 626.548 Q70.3439 626.548 73.3994 631.155 Q76.4781 635.738 76.4781 644.488 Q76.4781 653.215 73.3994 657.821 Q70.3439 662.404 64.5337 662.404 Q58.7236 662.404 55.6449 657.821 Q52.5893 653.215 52.5893 644.488 Q52.5893 635.738 55.6449 631.155 Q58.7236 626.548 64.5337 626.548 Z\" fill=\"#000000\" fill-rule=\"evenodd\" fill-opacity=\"1\" /><path clip-path=\"url(#clip920)\" d=\"M 0 0 M81.5475 655.854 L86.4318 655.854 L86.4318 661.733 L81.5475 661.733 L81.5475 655.854 Z\" fill=\"#000000\" fill-rule=\"evenodd\" fill-opacity=\"1\" /><path clip-path=\"url(#clip920)\" d=\"M 0 0 M95.5289 657.798 L111.848 657.798 L111.848 661.733 L89.904 661.733 L89.904 657.798 Q92.566 655.043 97.1493 650.414 Q101.756 645.761 102.936 644.418 Q105.182 641.895 106.061 640.159 Q106.964 638.4 106.964 636.71 Q106.964 633.955 105.02 632.219 Q103.098 630.483 99.9965 630.483 Q97.7974 630.483 95.3437 631.247 Q92.9132 632.011 90.1354 633.562 L90.1354 628.84 Q92.9595 627.706 95.4132 627.127 Q97.8669 626.548 99.9039 626.548 Q105.274 626.548 108.469 629.233 Q111.663 631.918 111.663 636.409 Q111.663 638.539 110.853 640.46 Q110.066 642.358 107.959 644.951 Q107.381 645.622 104.279 648.84 Q101.177 652.034 95.5289 657.798 Z\" fill=\"#000000\" fill-rule=\"evenodd\" fill-opacity=\"1\" /><path clip-path=\"url(#clip920)\" d=\"M 0 0 M63.5847 229.621 Q59.9736 229.621 58.1449 233.185 Q56.3393 236.727 56.3393 243.857 Q56.3393 250.963 58.1449 254.528 Q59.9736 258.069 63.5847 258.069 Q67.2189 258.069 69.0244 254.528 Q70.8531 250.963 70.8531 243.857 Q70.8531 236.727 69.0244 233.185 Q67.2189 229.621 63.5847 229.621 M63.5847 225.917 Q69.3948 225.917 72.4503 230.523 Q75.529 235.107 75.529 243.857 Q75.529 252.583 72.4503 257.19 Q69.3948 261.773 63.5847 261.773 Q57.7745 261.773 54.6958 257.19 Q51.6403 252.583 51.6403 243.857 Q51.6403 235.107 54.6958 230.523 Q57.7745 225.917 63.5847 225.917 Z\" fill=\"#000000\" fill-rule=\"evenodd\" fill-opacity=\"1\" /><path clip-path=\"url(#clip920)\" d=\"M 0 0 M80.5984 255.222 L85.4827 255.222 L85.4827 261.102 L80.5984 261.102 L80.5984 255.222 Z\" fill=\"#000000\" fill-rule=\"evenodd\" fill-opacity=\"1\" /><path clip-path=\"url(#clip920)\" d=\"M 0 0 M104.719 242.468 Q108.075 243.185 109.95 245.454 Q111.848 247.722 111.848 251.056 Q111.848 256.171 108.33 258.972 Q104.811 261.773 98.3298 261.773 Q96.1539 261.773 93.8391 261.333 Q91.5475 260.917 89.0938 260.06 L89.0938 255.546 Q91.0382 256.681 93.353 257.259 Q95.6678 257.838 98.1909 257.838 Q102.589 257.838 104.881 256.102 Q107.196 254.366 107.196 251.056 Q107.196 248 105.043 246.287 Q102.913 244.551 99.0937 244.551 L95.066 244.551 L95.066 240.708 L99.2789 240.708 Q102.728 240.708 104.557 239.343 Q106.385 237.954 106.385 235.361 Q106.385 232.699 104.487 231.287 Q102.612 229.852 99.0937 229.852 Q97.1724 229.852 94.9734 230.269 Q92.7743 230.685 90.1354 231.565 L90.1354 227.398 Q92.7975 226.658 95.1123 226.287 Q97.4502 225.917 99.5104 225.917 Q104.834 225.917 107.936 228.347 Q111.038 230.755 111.038 234.875 Q111.038 237.745 109.395 239.736 Q107.751 241.704 104.719 242.468 Z\" fill=\"#000000\" fill-rule=\"evenodd\" fill-opacity=\"1\" /><path clip-path=\"url(#clip922)\" d=\"\n",
       "M269.122 87.9763 L269.122 1445.72 L447.518 1445.72 L447.518 87.9763 L269.122 87.9763 L269.122 87.9763  Z\n",
       "  \" fill=\"#009af9\" fill-rule=\"evenodd\" fill-opacity=\"1\"/>\n",
       "<polyline clip-path=\"url(#clip922)\" style=\"stroke:#000000; stroke-width:4; stroke-opacity:1; fill:none\" points=\"\n",
       "  269.122,87.9763 269.122,1445.72 447.518,1445.72 447.518,87.9763 269.122,87.9763 \n",
       "  \"/>\n",
       "<path clip-path=\"url(#clip922)\" d=\"\n",
       "M447.518 1445.72 L447.518 1445.72 L625.915 1445.72 L625.915 1445.72 L447.518 1445.72 L447.518 1445.72  Z\n",
       "  \" fill=\"#009af9\" fill-rule=\"evenodd\" fill-opacity=\"1\"/>\n",
       "<polyline clip-path=\"url(#clip922)\" style=\"stroke:#000000; stroke-width:4; stroke-opacity:1; fill:none\" points=\"\n",
       "  447.518,1445.72 447.518,1445.72 625.915,1445.72 447.518,1445.72 \n",
       "  \"/>\n",
       "<path clip-path=\"url(#clip922)\" d=\"\n",
       "M625.915 1445.72 L625.915 1445.72 L804.311 1445.72 L804.311 1445.72 L625.915 1445.72 L625.915 1445.72  Z\n",
       "  \" fill=\"#009af9\" fill-rule=\"evenodd\" fill-opacity=\"1\"/>\n",
       "<polyline clip-path=\"url(#clip922)\" style=\"stroke:#000000; stroke-width:4; stroke-opacity:1; fill:none\" points=\"\n",
       "  625.915,1445.72 625.915,1445.72 804.311,1445.72 625.915,1445.72 \n",
       "  \"/>\n",
       "<path clip-path=\"url(#clip922)\" d=\"\n",
       "M804.311 1445.72 L804.311 1445.72 L982.708 1445.72 L982.708 1445.72 L804.311 1445.72 L804.311 1445.72  Z\n",
       "  \" fill=\"#009af9\" fill-rule=\"evenodd\" fill-opacity=\"1\"/>\n",
       "<polyline clip-path=\"url(#clip922)\" style=\"stroke:#000000; stroke-width:4; stroke-opacity:1; fill:none\" points=\"\n",
       "  804.311,1445.72 804.311,1445.72 982.708,1445.72 804.311,1445.72 \n",
       "  \"/>\n",
       "<path clip-path=\"url(#clip922)\" d=\"\n",
       "M982.708 1445.72 L982.708 1445.72 L1161.1 1445.72 L1161.1 1445.72 L982.708 1445.72 L982.708 1445.72  Z\n",
       "  \" fill=\"#009af9\" fill-rule=\"evenodd\" fill-opacity=\"1\"/>\n",
       "<polyline clip-path=\"url(#clip922)\" style=\"stroke:#000000; stroke-width:4; stroke-opacity:1; fill:none\" points=\"\n",
       "  982.708,1445.72 982.708,1445.72 1161.1,1445.72 982.708,1445.72 \n",
       "  \"/>\n",
       "<path clip-path=\"url(#clip922)\" d=\"\n",
       "M1161.1 136.853 L1161.1 1445.72 L1339.5 1445.72 L1339.5 136.853 L1161.1 136.853 L1161.1 136.853  Z\n",
       "  \" fill=\"#009af9\" fill-rule=\"evenodd\" fill-opacity=\"1\"/>\n",
       "<polyline clip-path=\"url(#clip922)\" style=\"stroke:#000000; stroke-width:4; stroke-opacity:1; fill:none\" points=\"\n",
       "  1161.1,136.853 1161.1,1445.72 1339.5,1445.72 1339.5,136.853 1161.1,136.853 \n",
       "  \"/>\n",
       "<path clip-path=\"url(#clip922)\" d=\"\n",
       "M1339.5 1445.72 L1339.5 1445.72 L1517.9 1445.72 L1517.9 1445.72 L1339.5 1445.72 L1339.5 1445.72  Z\n",
       "  \" fill=\"#009af9\" fill-rule=\"evenodd\" fill-opacity=\"1\"/>\n",
       "<polyline clip-path=\"url(#clip922)\" style=\"stroke:#000000; stroke-width:4; stroke-opacity:1; fill:none\" points=\"\n",
       "  1339.5,1445.72 1339.5,1445.72 1517.9,1445.72 1339.5,1445.72 \n",
       "  \"/>\n",
       "<path clip-path=\"url(#clip922)\" d=\"\n",
       "M1517.9 1445.72 L1517.9 1445.72 L1696.29 1445.72 L1696.29 1445.72 L1517.9 1445.72 L1517.9 1445.72  Z\n",
       "  \" fill=\"#009af9\" fill-rule=\"evenodd\" fill-opacity=\"1\"/>\n",
       "<polyline clip-path=\"url(#clip922)\" style=\"stroke:#000000; stroke-width:4; stroke-opacity:1; fill:none\" points=\"\n",
       "  1517.9,1445.72 1517.9,1445.72 1696.29,1445.72 1517.9,1445.72 \n",
       "  \"/>\n",
       "<path clip-path=\"url(#clip922)\" d=\"\n",
       "M1696.29 1445.72 L1696.29 1445.72 L1874.69 1445.72 L1874.69 1445.72 L1696.29 1445.72 L1696.29 1445.72  Z\n",
       "  \" fill=\"#009af9\" fill-rule=\"evenodd\" fill-opacity=\"1\"/>\n",
       "<polyline clip-path=\"url(#clip922)\" style=\"stroke:#000000; stroke-width:4; stroke-opacity:1; fill:none\" points=\"\n",
       "  1696.29,1445.72 1696.29,1445.72 1874.69,1445.72 1696.29,1445.72 \n",
       "  \"/>\n",
       "<path clip-path=\"url(#clip922)\" d=\"\n",
       "M1874.69 1445.72 L1874.69 1445.72 L2053.09 1445.72 L2053.09 1445.72 L1874.69 1445.72 L1874.69 1445.72  Z\n",
       "  \" fill=\"#009af9\" fill-rule=\"evenodd\" fill-opacity=\"1\"/>\n",
       "<polyline clip-path=\"url(#clip922)\" style=\"stroke:#000000; stroke-width:4; stroke-opacity:1; fill:none\" points=\"\n",
       "  1874.69,1445.72 1874.69,1445.72 2053.09,1445.72 1874.69,1445.72 \n",
       "  \"/>\n",
       "<path clip-path=\"url(#clip922)\" d=\"\n",
       "M2053.09 106.005 L2053.09 1445.72 L2231.48 1445.72 L2231.48 106.005 L2053.09 106.005 L2053.09 106.005  Z\n",
       "  \" fill=\"#009af9\" fill-rule=\"evenodd\" fill-opacity=\"1\"/>\n",
       "<polyline clip-path=\"url(#clip922)\" style=\"stroke:#000000; stroke-width:4; stroke-opacity:1; fill:none\" points=\"\n",
       "  2053.09,106.005 2053.09,1445.72 2231.48,1445.72 2231.48,106.005 2053.09,106.005 \n",
       "  \"/>\n",
       "<path clip-path=\"url(#clip920)\" d=\"\n",
       "M1983.25 216.178 L2279.26 216.178 L2279.26 95.2176 L1983.25 95.2176  Z\n",
       "  \" fill=\"#ffffff\" fill-rule=\"evenodd\" fill-opacity=\"1\"/>\n",
       "<polyline clip-path=\"url(#clip920)\" style=\"stroke:#000000; stroke-width:4; stroke-opacity:1; fill:none\" points=\"\n",
       "  1983.25,216.178 2279.26,216.178 2279.26,95.2176 1983.25,95.2176 1983.25,216.178 \n",
       "  \"/>\n",
       "<path clip-path=\"url(#clip920)\" d=\"\n",
       "M2007.75 179.89 L2154.74 179.89 L2154.74 131.506 L2007.75 131.506 L2007.75 179.89  Z\n",
       "  \" fill=\"#009af9\" fill-rule=\"evenodd\" fill-opacity=\"1\"/>\n",
       "<polyline clip-path=\"url(#clip920)\" style=\"stroke:#000000; stroke-width:4; stroke-opacity:1; fill:none\" points=\"\n",
       "  2007.75,179.89 2154.74,179.89 2154.74,131.506 2007.75,131.506 2007.75,179.89 \n",
       "  \"/>\n",
       "<path clip-path=\"url(#clip920)\" d=\"M 0 0 M2193.09 175.385 Q2191.28 180.015 2189.57 181.427 Q2187.85 182.839 2184.98 182.839 L2181.58 182.839 L2181.58 179.274 L2184.08 179.274 Q2185.84 179.274 2186.81 178.44 Q2187.78 177.607 2188.96 174.505 L2189.73 172.561 L2179.24 147.052 L2183.76 147.052 L2191.86 167.329 L2199.96 147.052 L2204.47 147.052 L2193.09 175.385 Z\" fill=\"#000000\" fill-rule=\"evenodd\" fill-opacity=\"1\" /><path clip-path=\"url(#clip920)\" d=\"M 0 0 M2210.35 169.042 L2217.99 169.042 L2217.99 142.677 L2209.68 144.343 L2209.68 140.084 L2217.95 138.418 L2222.62 138.418 L2222.62 169.042 L2230.26 169.042 L2230.26 172.978 L2210.35 172.978 L2210.35 169.042 Z\" fill=\"#000000\" fill-rule=\"evenodd\" fill-opacity=\"1\" /></svg>\n"
      ]
     },
     "execution_count": 43,
     "metadata": {},
     "output_type": "execute_result"
    }
   ],
   "source": [
    "show_results(run_two_agents_theory_of_mind(agent, agent, [1,1,1], [1,5,5], [], [], 0))"
   ]
  },
  {
   "cell_type": "markdown",
   "metadata": {},
   "source": [
    "## Depth 3"
   ]
  },
  {
   "cell_type": "code",
   "execution_count": 51,
   "metadata": {},
   "outputs": [
    {
     "name": "stderr",
     "output_type": "stream",
     "text": [
      "\u001b[32mProgress: 100%|█████████████████████████████████████████| Time: 0:00:23\u001b[39m\n"
     ]
    },
    {
     "data": {
      "text/plain": [
       "Chains MCMC chain (10000×7×1 Array{Float64,3}):\n",
       "\n",
       "Log evidence      = 0.0\n",
       "Iterations        = 1:10000\n",
       "Thinning interval = 1\n",
       "Chains            = 1\n",
       "Samples per chain = 10000\n",
       "parameters        = beta_opp[1], beta_opp[2], beta_opp[3], idx, my_move, next_opp_move\n",
       "internals         = lp\n",
       "\n",
       "Summary Statistics\n",
       " \u001b[1m    parameters \u001b[0m \u001b[1m      mean \u001b[0m \u001b[1m       std \u001b[0m \u001b[1m naive_se \u001b[0m \u001b[1m    mcse \u001b[0m \u001b[1m        ess \u001b[0m \u001b[1m   \u001b[0m ⋯\n",
       " \u001b[90m        Symbol \u001b[0m \u001b[90m   Float64 \u001b[0m \u001b[90m   Float64 \u001b[0m \u001b[90m  Float64 \u001b[0m \u001b[90m Float64 \u001b[0m \u001b[90m    Float64 \u001b[0m \u001b[90m Fl\u001b[0m ⋯\n",
       "\n",
       "    beta_opp[1]      0.0919      0.0838     0.0008    0.0008    9357.7029    1 ⋯\n",
       "    beta_opp[2]      0.4535      0.1419     0.0014    0.0015   10264.6762    1 ⋯\n",
       "    beta_opp[3]      0.4546      0.1425     0.0014    0.0015   10141.3900    1 ⋯\n",
       "            idx   4960.4445   2893.6800    28.9368   28.3146    9329.6725    1 ⋯\n",
       "        my_move      1.9811      0.8682     0.0087    0.0080   10288.2986    1 ⋯\n",
       "  next_opp_move      2.1487      0.7798     0.0078    0.0077    9686.2533    0 ⋯\n",
       "\u001b[31m                                                                1 column omitted\u001b[0m\n",
       "\n",
       "Quantiles\n",
       " \u001b[1m    parameters \u001b[0m \u001b[1m     2.5% \u001b[0m \u001b[1m     25.0% \u001b[0m \u001b[1m     50.0% \u001b[0m \u001b[1m     75.0% \u001b[0m \u001b[1m     97.5% \u001b[0m\n",
       " \u001b[90m        Symbol \u001b[0m \u001b[90m  Float64 \u001b[0m \u001b[90m   Float64 \u001b[0m \u001b[90m   Float64 \u001b[0m \u001b[90m   Float64 \u001b[0m \u001b[90m   Float64 \u001b[0m\n",
       "\n",
       "    beta_opp[1]     0.0027      0.0284      0.0673      0.1315      0.3161\n",
       "    beta_opp[2]     0.1894      0.3500      0.4499      0.5533      0.7315\n",
       "    beta_opp[3]     0.1903      0.3496      0.4531      0.5527      0.7353\n",
       "            idx   233.9750   2466.5000   4929.0000   7462.7500   9743.0250\n",
       "        my_move     1.0000      1.0000      2.0000      3.0000      3.0000\n",
       "  next_opp_move     1.0000      2.0000      2.0000      3.0000      3.0000\n"
      ]
     },
     "execution_count": 51,
     "metadata": {},
     "output_type": "execute_result"
    }
   ],
   "source": [
    "chain = run_two_agents_theory_of_mind(agent, agent,[1,5,5], [1,1,1], [], [], 3)"
   ]
  },
  {
   "cell_type": "code",
   "execution_count": 64,
   "metadata": {},
   "outputs": [
    {
     "data": {
      "text/plain": [
       "0.0"
      ]
     },
     "execution_count": 64,
     "metadata": {},
     "output_type": "execute_result"
    }
   ],
   "source": [
    "std(chain[:lp])"
   ]
  },
  {
   "cell_type": "code",
   "execution_count": 57,
   "metadata": {},
   "outputs": [
    {
     "data": {
      "text/plain": [
       "2-dimensional AxisArray{Float64,2,...} with axes:\n",
       "    :iter, 1:1:10000\n",
       "    :chain, 1:1\n",
       "And data, a 10000×1 Array{Float64,2}:\n",
       " 0.2457063557468964\n",
       " 0.1862559700889291\n",
       " 0.008031784171283815\n",
       " 0.029915123621415622\n",
       " 0.36526860271132067\n",
       " 0.08373466610301179\n",
       " 0.1499650921858409\n",
       " 0.07537861029327936\n",
       " 0.2342173549117789\n",
       " 0.06949355590458453\n",
       " 0.007561657035034447\n",
       " 0.016292926357407294\n",
       " 0.03393356577777269\n",
       " ⋮\n",
       " 0.14135034915704495\n",
       " 0.03644444714991762\n",
       " 0.021161878737176766\n",
       " 0.28488649264606636\n",
       " 0.1157821035807613\n",
       " 0.16323476193986494\n",
       " 0.008821585049481197\n",
       " 0.022815462934101468\n",
       " 0.04136805849030012\n",
       " 0.19164336902498091\n",
       " 0.017970867455138078\n",
       " 0.0517029329392908"
      ]
     },
     "execution_count": 57,
     "metadata": {},
     "output_type": "execute_result"
    }
   ],
   "source": [
    "chain[\"beta_opp[1]\"]"
   ]
  },
  {
   "cell_type": "code",
   "execution_count": 45,
   "metadata": {},
   "outputs": [
    {
     "name": "stdout",
     "output_type": "stream",
     "text": [
      "1.4603204304862887"
     ]
    },
    {
     "data": {
      "image/svg+xml": [
       "<?xml version=\"1.0\" encoding=\"utf-8\"?>\n",
       "<svg xmlns=\"http://www.w3.org/2000/svg\" xmlns:xlink=\"http://www.w3.org/1999/xlink\" width=\"600\" height=\"400\" viewBox=\"0 0 2400 1600\">\n",
       "<defs>\n",
       "  <clipPath id=\"clip000\">\n",
       "    <rect x=\"0\" y=\"0\" width=\"2400\" height=\"1600\"/>\n",
       "  </clipPath>\n",
       "</defs>\n",
       "<path clip-path=\"url(#clip000)\" d=\"\n",
       "M0 1600 L2400 1600 L2400 0 L0 0  Z\n",
       "  \" fill=\"#ffffff\" fill-rule=\"evenodd\" fill-opacity=\"1\"/>\n",
       "<defs>\n",
       "  <clipPath id=\"clip001\">\n",
       "    <rect x=\"480\" y=\"0\" width=\"1681\" height=\"1600\"/>\n",
       "  </clipPath>\n",
       "</defs>\n",
       "<path clip-path=\"url(#clip000)\" d=\"\n",
       "M147.848 1486.45 L2352.76 1486.45 L2352.76 47.2441 L147.848 47.2441  Z\n",
       "  \" fill=\"#ffffff\" fill-rule=\"evenodd\" fill-opacity=\"1\"/>\n",
       "<defs>\n",
       "  <clipPath id=\"clip002\">\n",
       "    <rect x=\"147\" y=\"47\" width=\"2206\" height=\"1440\"/>\n",
       "  </clipPath>\n",
       "</defs>\n",
       "<polyline clip-path=\"url(#clip002)\" style=\"stroke:#000000; stroke-width:2; stroke-opacity:0.1; fill:none\" points=\"\n",
       "  269.122,1486.45 269.122,47.2441 \n",
       "  \"/>\n",
       "<polyline clip-path=\"url(#clip002)\" style=\"stroke:#000000; stroke-width:2; stroke-opacity:0.1; fill:none\" points=\"\n",
       "  715.113,1486.45 715.113,47.2441 \n",
       "  \"/>\n",
       "<polyline clip-path=\"url(#clip002)\" style=\"stroke:#000000; stroke-width:2; stroke-opacity:0.1; fill:none\" points=\"\n",
       "  1161.1,1486.45 1161.1,47.2441 \n",
       "  \"/>\n",
       "<polyline clip-path=\"url(#clip002)\" style=\"stroke:#000000; stroke-width:2; stroke-opacity:0.1; fill:none\" points=\"\n",
       "  1607.09,1486.45 1607.09,47.2441 \n",
       "  \"/>\n",
       "<polyline clip-path=\"url(#clip002)\" style=\"stroke:#000000; stroke-width:2; stroke-opacity:0.1; fill:none\" points=\"\n",
       "  2053.09,1486.45 2053.09,47.2441 \n",
       "  \"/>\n",
       "<polyline clip-path=\"url(#clip000)\" style=\"stroke:#000000; stroke-width:4; stroke-opacity:1; fill:none\" points=\"\n",
       "  147.848,1486.45 2352.76,1486.45 \n",
       "  \"/>\n",
       "<polyline clip-path=\"url(#clip000)\" style=\"stroke:#000000; stroke-width:4; stroke-opacity:1; fill:none\" points=\"\n",
       "  269.122,1486.45 269.122,1469.18 \n",
       "  \"/>\n",
       "<polyline clip-path=\"url(#clip000)\" style=\"stroke:#000000; stroke-width:4; stroke-opacity:1; fill:none\" points=\"\n",
       "  715.113,1486.45 715.113,1469.18 \n",
       "  \"/>\n",
       "<polyline clip-path=\"url(#clip000)\" style=\"stroke:#000000; stroke-width:4; stroke-opacity:1; fill:none\" points=\"\n",
       "  1161.1,1486.45 1161.1,1469.18 \n",
       "  \"/>\n",
       "<polyline clip-path=\"url(#clip000)\" style=\"stroke:#000000; stroke-width:4; stroke-opacity:1; fill:none\" points=\"\n",
       "  1607.09,1486.45 1607.09,1469.18 \n",
       "  \"/>\n",
       "<polyline clip-path=\"url(#clip000)\" style=\"stroke:#000000; stroke-width:4; stroke-opacity:1; fill:none\" points=\"\n",
       "  2053.09,1486.45 2053.09,1469.18 \n",
       "  \"/>\n",
       "<path clip-path=\"url(#clip000)\" d=\"M 0 0 M241.02 1543.18 L248.659 1543.18 L248.659 1516.82 L240.349 1518.49 L240.349 1514.23 L248.613 1512.56 L253.289 1512.56 L253.289 1543.18 L260.928 1543.18 L260.928 1547.12 L241.02 1547.12 L241.02 1543.18 Z\" fill=\"#000000\" fill-rule=\"evenodd\" fill-opacity=\"1\" /><path clip-path=\"url(#clip000)\" d=\"M 0 0 M265.997 1541.24 L270.881 1541.24 L270.881 1547.12 L265.997 1547.12 L265.997 1541.24 Z\" fill=\"#000000\" fill-rule=\"evenodd\" fill-opacity=\"1\" /><path clip-path=\"url(#clip000)\" d=\"M 0 0 M285.951 1515.64 Q282.34 1515.64 280.511 1519.2 Q278.705 1522.75 278.705 1529.87 Q278.705 1536.98 280.511 1540.55 Q282.34 1544.09 285.951 1544.09 Q289.585 1544.09 291.391 1540.55 Q293.219 1536.98 293.219 1529.87 Q293.219 1522.75 291.391 1519.2 Q289.585 1515.64 285.951 1515.64 M285.951 1511.93 Q291.761 1511.93 294.816 1516.54 Q297.895 1521.12 297.895 1529.87 Q297.895 1538.6 294.816 1543.21 Q291.761 1547.79 285.951 1547.79 Q280.141 1547.79 277.062 1543.21 Q274.006 1538.6 274.006 1529.87 Q274.006 1521.12 277.062 1516.54 Q280.141 1511.93 285.951 1511.93 Z\" fill=\"#000000\" fill-rule=\"evenodd\" fill-opacity=\"1\" /><path clip-path=\"url(#clip000)\" d=\"M 0 0 M687.509 1543.18 L695.148 1543.18 L695.148 1516.82 L686.838 1518.49 L686.838 1514.23 L695.102 1512.56 L699.777 1512.56 L699.777 1543.18 L707.416 1543.18 L707.416 1547.12 L687.509 1547.12 L687.509 1543.18 Z\" fill=\"#000000\" fill-rule=\"evenodd\" fill-opacity=\"1\" /><path clip-path=\"url(#clip000)\" d=\"M 0 0 M712.486 1541.24 L717.37 1541.24 L717.37 1547.12 L712.486 1547.12 L712.486 1541.24 Z\" fill=\"#000000\" fill-rule=\"evenodd\" fill-opacity=\"1\" /><path clip-path=\"url(#clip000)\" d=\"M 0 0 M722.486 1512.56 L740.842 1512.56 L740.842 1516.5 L726.768 1516.5 L726.768 1524.97 Q727.787 1524.62 728.805 1524.46 Q729.824 1524.27 730.842 1524.27 Q736.629 1524.27 740.009 1527.44 Q743.388 1530.62 743.388 1536.03 Q743.388 1541.61 739.916 1544.71 Q736.444 1547.79 730.125 1547.79 Q727.949 1547.79 725.68 1547.42 Q723.435 1547.05 721.027 1546.31 L721.027 1541.61 Q723.111 1542.74 725.333 1543.3 Q727.555 1543.86 730.032 1543.86 Q734.037 1543.86 736.374 1541.75 Q738.712 1539.64 738.712 1536.03 Q738.712 1532.42 736.374 1530.31 Q734.037 1528.21 730.032 1528.21 Q728.157 1528.21 726.282 1528.62 Q724.43 1529.04 722.486 1529.92 L722.486 1512.56 Z\" fill=\"#000000\" fill-rule=\"evenodd\" fill-opacity=\"1\" /><path clip-path=\"url(#clip000)\" d=\"M 0 0 M1137.27 1543.18 L1153.59 1543.18 L1153.59 1547.12 L1131.65 1547.12 L1131.65 1543.18 Q1134.31 1540.43 1138.89 1535.8 Q1143.5 1531.15 1144.68 1529.81 Q1146.93 1527.28 1147.81 1525.55 Q1148.71 1523.79 1148.71 1522.1 Q1148.71 1519.34 1146.76 1517.61 Q1144.84 1515.87 1141.74 1515.87 Q1139.54 1515.87 1137.09 1516.63 Q1134.66 1517.4 1131.88 1518.95 L1131.88 1514.23 Q1134.7 1513.09 1137.16 1512.51 Q1139.61 1511.93 1141.65 1511.93 Q1147.02 1511.93 1150.21 1514.62 Q1153.41 1517.31 1153.41 1521.8 Q1153.41 1523.93 1152.6 1525.85 Q1151.81 1527.74 1149.7 1530.34 Q1149.12 1531.01 1146.02 1534.23 Q1142.92 1537.42 1137.27 1543.18 Z\" fill=\"#000000\" fill-rule=\"evenodd\" fill-opacity=\"1\" /><path clip-path=\"url(#clip000)\" d=\"M 0 0 M1158.66 1541.24 L1163.55 1541.24 L1163.55 1547.12 L1158.66 1547.12 L1158.66 1541.24 Z\" fill=\"#000000\" fill-rule=\"evenodd\" fill-opacity=\"1\" /><path clip-path=\"url(#clip000)\" d=\"M 0 0 M1178.62 1515.64 Q1175 1515.64 1173.18 1519.2 Q1171.37 1522.75 1171.37 1529.87 Q1171.37 1536.98 1173.18 1540.55 Q1175 1544.09 1178.62 1544.09 Q1182.25 1544.09 1184.06 1540.55 Q1185.88 1536.98 1185.88 1529.87 Q1185.88 1522.75 1184.06 1519.2 Q1182.25 1515.64 1178.62 1515.64 M1178.62 1511.93 Q1184.43 1511.93 1187.48 1516.54 Q1190.56 1521.12 1190.56 1529.87 Q1190.56 1538.6 1187.48 1543.21 Q1184.43 1547.79 1178.62 1547.79 Q1172.81 1547.79 1169.73 1543.21 Q1166.67 1538.6 1166.67 1529.87 Q1166.67 1521.12 1169.73 1516.54 Q1172.81 1511.93 1178.62 1511.93 Z\" fill=\"#000000\" fill-rule=\"evenodd\" fill-opacity=\"1\" /><path clip-path=\"url(#clip000)\" d=\"M 0 0 M1583.76 1543.18 L1600.08 1543.18 L1600.08 1547.12 L1578.14 1547.12 L1578.14 1543.18 Q1580.8 1540.43 1585.38 1535.8 Q1589.99 1531.15 1591.17 1529.81 Q1593.41 1527.28 1594.29 1525.55 Q1595.2 1523.79 1595.2 1522.1 Q1595.2 1519.34 1593.25 1517.61 Q1591.33 1515.87 1588.23 1515.87 Q1586.03 1515.87 1583.58 1516.63 Q1581.15 1517.4 1578.37 1518.95 L1578.37 1514.23 Q1581.19 1513.09 1583.65 1512.51 Q1586.1 1511.93 1588.14 1511.93 Q1593.51 1511.93 1596.7 1514.62 Q1599.9 1517.31 1599.9 1521.8 Q1599.9 1523.93 1599.09 1525.85 Q1598.3 1527.74 1596.19 1530.34 Q1595.61 1531.01 1592.51 1534.23 Q1589.41 1537.42 1583.76 1543.18 Z\" fill=\"#000000\" fill-rule=\"evenodd\" fill-opacity=\"1\" /><path clip-path=\"url(#clip000)\" d=\"M 0 0 M1605.15 1541.24 L1610.03 1541.24 L1610.03 1547.12 L1605.15 1547.12 L1605.15 1541.24 Z\" fill=\"#000000\" fill-rule=\"evenodd\" fill-opacity=\"1\" /><path clip-path=\"url(#clip000)\" d=\"M 0 0 M1615.15 1512.56 L1633.51 1512.56 L1633.51 1516.5 L1619.43 1516.5 L1619.43 1524.97 Q1620.45 1524.62 1621.47 1524.46 Q1622.49 1524.27 1623.51 1524.27 Q1629.29 1524.27 1632.67 1527.44 Q1636.05 1530.62 1636.05 1536.03 Q1636.05 1541.61 1632.58 1544.71 Q1629.11 1547.79 1622.79 1547.79 Q1620.61 1547.79 1618.34 1547.42 Q1616.1 1547.05 1613.69 1546.31 L1613.69 1541.61 Q1615.78 1542.74 1618 1543.3 Q1620.22 1543.86 1622.7 1543.86 Q1626.7 1543.86 1629.04 1541.75 Q1631.38 1539.64 1631.38 1536.03 Q1631.38 1532.42 1629.04 1530.31 Q1626.7 1528.21 1622.7 1528.21 Q1620.82 1528.21 1618.95 1528.62 Q1617.09 1529.04 1615.15 1529.92 L1615.15 1512.56 Z\" fill=\"#000000\" fill-rule=\"evenodd\" fill-opacity=\"1\" /><path clip-path=\"url(#clip000)\" d=\"M 0 0 M2038.85 1528.49 Q2042.21 1529.2 2044.08 1531.47 Q2045.98 1533.74 2045.98 1537.07 Q2045.98 1542.19 2042.46 1544.99 Q2038.94 1547.79 2032.46 1547.79 Q2030.28 1547.79 2027.97 1547.35 Q2025.68 1546.93 2023.22 1546.08 L2023.22 1541.56 Q2025.17 1542.7 2027.48 1543.28 Q2029.8 1543.86 2032.32 1543.86 Q2036.72 1543.86 2039.01 1542.12 Q2041.33 1540.38 2041.33 1537.07 Q2041.33 1534.02 2039.17 1532.31 Q2037.04 1530.57 2033.22 1530.57 L2029.2 1530.57 L2029.2 1526.73 L2033.41 1526.73 Q2036.86 1526.73 2038.69 1525.36 Q2040.52 1523.97 2040.52 1521.38 Q2040.52 1518.72 2038.62 1517.31 Q2036.74 1515.87 2033.22 1515.87 Q2031.3 1515.87 2029.1 1516.29 Q2026.91 1516.7 2024.27 1517.58 L2024.27 1513.42 Q2026.93 1512.68 2029.24 1512.31 Q2031.58 1511.93 2033.64 1511.93 Q2038.97 1511.93 2042.07 1514.37 Q2045.17 1516.77 2045.17 1520.89 Q2045.17 1523.76 2043.53 1525.75 Q2041.88 1527.72 2038.85 1528.49 Z\" fill=\"#000000\" fill-rule=\"evenodd\" fill-opacity=\"1\" /><path clip-path=\"url(#clip000)\" d=\"M 0 0 M2051.05 1541.24 L2055.93 1541.24 L2055.93 1547.12 L2051.05 1547.12 L2051.05 1541.24 Z\" fill=\"#000000\" fill-rule=\"evenodd\" fill-opacity=\"1\" /><path clip-path=\"url(#clip000)\" d=\"M 0 0 M2071 1515.64 Q2067.39 1515.64 2065.56 1519.2 Q2063.76 1522.75 2063.76 1529.87 Q2063.76 1536.98 2065.56 1540.55 Q2067.39 1544.09 2071 1544.09 Q2074.64 1544.09 2076.44 1540.55 Q2078.27 1536.98 2078.27 1529.87 Q2078.27 1522.75 2076.44 1519.2 Q2074.64 1515.64 2071 1515.64 M2071 1511.93 Q2076.81 1511.93 2079.87 1516.54 Q2082.95 1521.12 2082.95 1529.87 Q2082.95 1538.6 2079.87 1543.21 Q2076.81 1547.79 2071 1547.79 Q2065.19 1547.79 2062.11 1543.21 Q2059.06 1538.6 2059.06 1529.87 Q2059.06 1521.12 2062.11 1516.54 Q2065.19 1511.93 2071 1511.93 Z\" fill=\"#000000\" fill-rule=\"evenodd\" fill-opacity=\"1\" /><polyline clip-path=\"url(#clip002)\" style=\"stroke:#000000; stroke-width:2; stroke-opacity:0.1; fill:none\" points=\"\n",
       "  147.848,1445.72 2352.76,1445.72 \n",
       "  \"/>\n",
       "<polyline clip-path=\"url(#clip002)\" style=\"stroke:#000000; stroke-width:2; stroke-opacity:0.1; fill:none\" points=\"\n",
       "  147.848,1052.85 2352.76,1052.85 \n",
       "  \"/>\n",
       "<polyline clip-path=\"url(#clip002)\" style=\"stroke:#000000; stroke-width:2; stroke-opacity:0.1; fill:none\" points=\"\n",
       "  147.848,659.987 2352.76,659.987 \n",
       "  \"/>\n",
       "<polyline clip-path=\"url(#clip002)\" style=\"stroke:#000000; stroke-width:2; stroke-opacity:0.1; fill:none\" points=\"\n",
       "  147.848,267.122 2352.76,267.122 \n",
       "  \"/>\n",
       "<polyline clip-path=\"url(#clip000)\" style=\"stroke:#000000; stroke-width:4; stroke-opacity:1; fill:none\" points=\"\n",
       "  147.848,1486.45 147.848,47.2441 \n",
       "  \"/>\n",
       "<polyline clip-path=\"url(#clip000)\" style=\"stroke:#000000; stroke-width:4; stroke-opacity:1; fill:none\" points=\"\n",
       "  147.848,1445.72 174.307,1445.72 \n",
       "  \"/>\n",
       "<polyline clip-path=\"url(#clip000)\" style=\"stroke:#000000; stroke-width:4; stroke-opacity:1; fill:none\" points=\"\n",
       "  147.848,1052.85 174.307,1052.85 \n",
       "  \"/>\n",
       "<polyline clip-path=\"url(#clip000)\" style=\"stroke:#000000; stroke-width:4; stroke-opacity:1; fill:none\" points=\"\n",
       "  147.848,659.987 174.307,659.987 \n",
       "  \"/>\n",
       "<polyline clip-path=\"url(#clip000)\" style=\"stroke:#000000; stroke-width:4; stroke-opacity:1; fill:none\" points=\"\n",
       "  147.848,267.122 174.307,267.122 \n",
       "  \"/>\n",
       "<path clip-path=\"url(#clip000)\" d=\"M 0 0 M62.9365 1431.51 Q59.3254 1431.51 57.4967 1435.08 Q55.6912 1438.62 55.6912 1445.75 Q55.6912 1452.86 57.4967 1456.42 Q59.3254 1459.96 62.9365 1459.96 Q66.5707 1459.96 68.3763 1456.42 Q70.205 1452.86 70.205 1445.75 Q70.205 1438.62 68.3763 1435.08 Q66.5707 1431.51 62.9365 1431.51 M62.9365 1427.81 Q68.7467 1427.81 71.8022 1432.42 Q74.8809 1437 74.8809 1445.75 Q74.8809 1454.48 71.8022 1459.08 Q68.7467 1463.67 62.9365 1463.67 Q57.1264 1463.67 54.0477 1459.08 Q50.9921 1454.48 50.9921 1445.75 Q50.9921 1437 54.0477 1432.42 Q57.1264 1427.81 62.9365 1427.81 Z\" fill=\"#000000\" fill-rule=\"evenodd\" fill-opacity=\"1\" /><path clip-path=\"url(#clip000)\" d=\"M 0 0 M79.9503 1457.12 L84.8345 1457.12 L84.8345 1463 L79.9503 1463 L79.9503 1457.12 Z\" fill=\"#000000\" fill-rule=\"evenodd\" fill-opacity=\"1\" /><path clip-path=\"url(#clip000)\" d=\"M 0 0 M99.9039 1431.51 Q96.2928 1431.51 94.4641 1435.08 Q92.6586 1438.62 92.6586 1445.75 Q92.6586 1452.86 94.4641 1456.42 Q96.2928 1459.96 99.9039 1459.96 Q103.538 1459.96 105.344 1456.42 Q107.172 1452.86 107.172 1445.75 Q107.172 1438.62 105.344 1435.08 Q103.538 1431.51 99.9039 1431.51 M99.9039 1427.81 Q105.714 1427.81 108.77 1432.42 Q111.848 1437 111.848 1445.75 Q111.848 1454.48 108.77 1459.08 Q105.714 1463.67 99.9039 1463.67 Q94.0937 1463.67 91.0151 1459.08 Q87.9595 1454.48 87.9595 1445.75 Q87.9595 1437 91.0151 1432.42 Q94.0937 1427.81 99.9039 1427.81 Z\" fill=\"#000000\" fill-rule=\"evenodd\" fill-opacity=\"1\" /><path clip-path=\"url(#clip000)\" d=\"M 0 0 M64.1634 1038.65 Q60.5523 1038.65 58.7236 1042.21 Q56.918 1045.76 56.918 1052.89 Q56.918 1059.99 58.7236 1063.56 Q60.5523 1067.1 64.1634 1067.1 Q67.7976 1067.1 69.6031 1063.56 Q71.4318 1059.99 71.4318 1052.89 Q71.4318 1045.76 69.6031 1042.21 Q67.7976 1038.65 64.1634 1038.65 M64.1634 1034.95 Q69.9735 1034.95 73.029 1039.55 Q76.1077 1044.14 76.1077 1052.89 Q76.1077 1061.61 73.029 1066.22 Q69.9735 1070.8 64.1634 1070.8 Q58.3532 1070.8 55.2745 1066.22 Q52.219 1061.61 52.219 1052.89 Q52.219 1044.14 55.2745 1039.55 Q58.3532 1034.95 64.1634 1034.95 Z\" fill=\"#000000\" fill-rule=\"evenodd\" fill-opacity=\"1\" /><path clip-path=\"url(#clip000)\" d=\"M 0 0 M81.1771 1064.25 L86.0614 1064.25 L86.0614 1070.13 L81.1771 1070.13 L81.1771 1064.25 Z\" fill=\"#000000\" fill-rule=\"evenodd\" fill-opacity=\"1\" /><path clip-path=\"url(#clip000)\" d=\"M 0 0 M91.941 1066.2 L99.5798 1066.2 L99.5798 1039.83 L91.2697 1041.5 L91.2697 1037.24 L99.5335 1035.57 L104.209 1035.57 L104.209 1066.2 L111.848 1066.2 L111.848 1070.13 L91.941 1070.13 L91.941 1066.2 Z\" fill=\"#000000\" fill-rule=\"evenodd\" fill-opacity=\"1\" /><path clip-path=\"url(#clip000)\" d=\"M 0 0 M64.5337 645.786 Q60.9226 645.786 59.0939 649.35 Q57.2884 652.892 57.2884 660.022 Q57.2884 667.128 59.0939 670.693 Q60.9226 674.234 64.5337 674.234 Q68.168 674.234 69.9735 670.693 Q71.8022 667.128 71.8022 660.022 Q71.8022 652.892 69.9735 649.35 Q68.168 645.786 64.5337 645.786 M64.5337 642.082 Q70.3439 642.082 73.3994 646.688 Q76.4781 651.272 76.4781 660.022 Q76.4781 668.748 73.3994 673.355 Q70.3439 677.938 64.5337 677.938 Q58.7236 677.938 55.6449 673.355 Q52.5893 668.748 52.5893 660.022 Q52.5893 651.272 55.6449 646.688 Q58.7236 642.082 64.5337 642.082 Z\" fill=\"#000000\" fill-rule=\"evenodd\" fill-opacity=\"1\" /><path clip-path=\"url(#clip000)\" d=\"M 0 0 M81.5475 671.387 L86.4318 671.387 L86.4318 677.267 L81.5475 677.267 L81.5475 671.387 Z\" fill=\"#000000\" fill-rule=\"evenodd\" fill-opacity=\"1\" /><path clip-path=\"url(#clip000)\" d=\"M 0 0 M95.5289 673.332 L111.848 673.332 L111.848 677.267 L89.904 677.267 L89.904 673.332 Q92.566 670.577 97.1493 665.947 Q101.756 661.295 102.936 659.952 Q105.182 657.429 106.061 655.693 Q106.964 653.934 106.964 652.244 Q106.964 649.489 105.02 647.753 Q103.098 646.017 99.9965 646.017 Q97.7974 646.017 95.3437 646.781 Q92.9132 647.545 90.1354 649.096 L90.1354 644.374 Q92.9595 643.239 95.4132 642.661 Q97.8669 642.082 99.9039 642.082 Q105.274 642.082 108.469 644.767 Q111.663 647.452 111.663 651.943 Q111.663 654.073 110.853 655.994 Q110.066 657.892 107.959 660.485 Q107.381 661.156 104.279 664.373 Q101.177 667.568 95.5289 673.332 Z\" fill=\"#000000\" fill-rule=\"evenodd\" fill-opacity=\"1\" /><path clip-path=\"url(#clip000)\" d=\"M 0 0 M63.5847 252.921 Q59.9736 252.921 58.1449 256.486 Q56.3393 260.028 56.3393 267.157 Q56.3393 274.264 58.1449 277.828 Q59.9736 281.37 63.5847 281.37 Q67.2189 281.37 69.0244 277.828 Q70.8531 274.264 70.8531 267.157 Q70.8531 260.028 69.0244 256.486 Q67.2189 252.921 63.5847 252.921 M63.5847 249.217 Q69.3948 249.217 72.4503 253.824 Q75.529 258.407 75.529 267.157 Q75.529 275.884 72.4503 280.49 Q69.3948 285.074 63.5847 285.074 Q57.7745 285.074 54.6958 280.49 Q51.6403 275.884 51.6403 267.157 Q51.6403 258.407 54.6958 253.824 Q57.7745 249.217 63.5847 249.217 Z\" fill=\"#000000\" fill-rule=\"evenodd\" fill-opacity=\"1\" /><path clip-path=\"url(#clip000)\" d=\"M 0 0 M80.5984 278.523 L85.4827 278.523 L85.4827 284.402 L80.5984 284.402 L80.5984 278.523 Z\" fill=\"#000000\" fill-rule=\"evenodd\" fill-opacity=\"1\" /><path clip-path=\"url(#clip000)\" d=\"M 0 0 M104.719 265.768 Q108.075 266.486 109.95 268.754 Q111.848 271.023 111.848 274.356 Q111.848 279.472 108.33 282.273 Q104.811 285.074 98.3298 285.074 Q96.1539 285.074 93.8391 284.634 Q91.5475 284.217 89.0938 283.361 L89.0938 278.847 Q91.0382 279.981 93.353 280.56 Q95.6678 281.139 98.1909 281.139 Q102.589 281.139 104.881 279.402 Q107.196 277.666 107.196 274.356 Q107.196 271.301 105.043 269.588 Q102.913 267.852 99.0937 267.852 L95.066 267.852 L95.066 264.009 L99.2789 264.009 Q102.728 264.009 104.557 262.643 Q106.385 261.254 106.385 258.662 Q106.385 256 104.487 254.588 Q102.612 253.153 99.0937 253.153 Q97.1724 253.153 94.9734 253.569 Q92.7743 253.986 90.1354 254.866 L90.1354 250.699 Q92.7975 249.958 95.1123 249.588 Q97.4502 249.217 99.5104 249.217 Q104.834 249.217 107.936 251.648 Q111.038 254.055 111.038 258.176 Q111.038 261.046 109.395 263.037 Q107.751 265.004 104.719 265.768 Z\" fill=\"#000000\" fill-rule=\"evenodd\" fill-opacity=\"1\" /><path clip-path=\"url(#clip002)\" d=\"\n",
       "M269.122 203.478 L269.122 1445.72 L447.518 1445.72 L447.518 203.478 L269.122 203.478 L269.122 203.478  Z\n",
       "  \" fill=\"#009af9\" fill-rule=\"evenodd\" fill-opacity=\"1\"/>\n",
       "<polyline clip-path=\"url(#clip002)\" style=\"stroke:#000000; stroke-width:4; stroke-opacity:1; fill:none\" points=\"\n",
       "  269.122,203.478 269.122,1445.72 447.518,1445.72 447.518,203.478 269.122,203.478 \n",
       "  \"/>\n",
       "<path clip-path=\"url(#clip002)\" d=\"\n",
       "M447.518 1445.72 L447.518 1445.72 L625.915 1445.72 L625.915 1445.72 L447.518 1445.72 L447.518 1445.72  Z\n",
       "  \" fill=\"#009af9\" fill-rule=\"evenodd\" fill-opacity=\"1\"/>\n",
       "<polyline clip-path=\"url(#clip002)\" style=\"stroke:#000000; stroke-width:4; stroke-opacity:1; fill:none\" points=\"\n",
       "  447.518,1445.72 447.518,1445.72 625.915,1445.72 447.518,1445.72 \n",
       "  \"/>\n",
       "<path clip-path=\"url(#clip002)\" d=\"\n",
       "M625.915 1445.72 L625.915 1445.72 L804.311 1445.72 L804.311 1445.72 L625.915 1445.72 L625.915 1445.72  Z\n",
       "  \" fill=\"#009af9\" fill-rule=\"evenodd\" fill-opacity=\"1\"/>\n",
       "<polyline clip-path=\"url(#clip002)\" style=\"stroke:#000000; stroke-width:4; stroke-opacity:1; fill:none\" points=\"\n",
       "  625.915,1445.72 625.915,1445.72 804.311,1445.72 625.915,1445.72 \n",
       "  \"/>\n",
       "<path clip-path=\"url(#clip002)\" d=\"\n",
       "M804.311 1445.72 L804.311 1445.72 L982.708 1445.72 L982.708 1445.72 L804.311 1445.72 L804.311 1445.72  Z\n",
       "  \" fill=\"#009af9\" fill-rule=\"evenodd\" fill-opacity=\"1\"/>\n",
       "<polyline clip-path=\"url(#clip002)\" style=\"stroke:#000000; stroke-width:4; stroke-opacity:1; fill:none\" points=\"\n",
       "  804.311,1445.72 804.311,1445.72 982.708,1445.72 804.311,1445.72 \n",
       "  \"/>\n",
       "<path clip-path=\"url(#clip002)\" d=\"\n",
       "M982.708 1445.72 L982.708 1445.72 L1161.1 1445.72 L1161.1 1445.72 L982.708 1445.72 L982.708 1445.72  Z\n",
       "  \" fill=\"#009af9\" fill-rule=\"evenodd\" fill-opacity=\"1\"/>\n",
       "<polyline clip-path=\"url(#clip002)\" style=\"stroke:#000000; stroke-width:4; stroke-opacity:1; fill:none\" points=\"\n",
       "  982.708,1445.72 982.708,1445.72 1161.1,1445.72 982.708,1445.72 \n",
       "  \"/>\n",
       "<path clip-path=\"url(#clip002)\" d=\"\n",
       "M1161.1 87.9763 L1161.1 1445.72 L1339.5 1445.72 L1339.5 87.9763 L1161.1 87.9763 L1161.1 87.9763  Z\n",
       "  \" fill=\"#009af9\" fill-rule=\"evenodd\" fill-opacity=\"1\"/>\n",
       "<polyline clip-path=\"url(#clip002)\" style=\"stroke:#000000; stroke-width:4; stroke-opacity:1; fill:none\" points=\"\n",
       "  1161.1,87.9763 1161.1,1445.72 1339.5,1445.72 1339.5,87.9763 1161.1,87.9763 \n",
       "  \"/>\n",
       "<path clip-path=\"url(#clip002)\" d=\"\n",
       "M1339.5 1445.72 L1339.5 1445.72 L1517.9 1445.72 L1517.9 1445.72 L1339.5 1445.72 L1339.5 1445.72  Z\n",
       "  \" fill=\"#009af9\" fill-rule=\"evenodd\" fill-opacity=\"1\"/>\n",
       "<polyline clip-path=\"url(#clip002)\" style=\"stroke:#000000; stroke-width:4; stroke-opacity:1; fill:none\" points=\"\n",
       "  1339.5,1445.72 1339.5,1445.72 1517.9,1445.72 1339.5,1445.72 \n",
       "  \"/>\n",
       "<path clip-path=\"url(#clip002)\" d=\"\n",
       "M1517.9 1445.72 L1517.9 1445.72 L1696.29 1445.72 L1696.29 1445.72 L1517.9 1445.72 L1517.9 1445.72  Z\n",
       "  \" fill=\"#009af9\" fill-rule=\"evenodd\" fill-opacity=\"1\"/>\n",
       "<polyline clip-path=\"url(#clip002)\" style=\"stroke:#000000; stroke-width:4; stroke-opacity:1; fill:none\" points=\"\n",
       "  1517.9,1445.72 1517.9,1445.72 1696.29,1445.72 1517.9,1445.72 \n",
       "  \"/>\n",
       "<path clip-path=\"url(#clip002)\" d=\"\n",
       "M1696.29 1445.72 L1696.29 1445.72 L1874.69 1445.72 L1874.69 1445.72 L1696.29 1445.72 L1696.29 1445.72  Z\n",
       "  \" fill=\"#009af9\" fill-rule=\"evenodd\" fill-opacity=\"1\"/>\n",
       "<polyline clip-path=\"url(#clip002)\" style=\"stroke:#000000; stroke-width:4; stroke-opacity:1; fill:none\" points=\"\n",
       "  1696.29,1445.72 1696.29,1445.72 1874.69,1445.72 1696.29,1445.72 \n",
       "  \"/>\n",
       "<path clip-path=\"url(#clip002)\" d=\"\n",
       "M1874.69 1445.72 L1874.69 1445.72 L2053.09 1445.72 L2053.09 1445.72 L1874.69 1445.72 L1874.69 1445.72  Z\n",
       "  \" fill=\"#009af9\" fill-rule=\"evenodd\" fill-opacity=\"1\"/>\n",
       "<polyline clip-path=\"url(#clip002)\" style=\"stroke:#000000; stroke-width:4; stroke-opacity:1; fill:none\" points=\"\n",
       "  1874.69,1445.72 1874.69,1445.72 2053.09,1445.72 1874.69,1445.72 \n",
       "  \"/>\n",
       "<path clip-path=\"url(#clip002)\" d=\"\n",
       "M2053.09 117.048 L2053.09 1445.72 L2231.48 1445.72 L2231.48 117.048 L2053.09 117.048 L2053.09 117.048  Z\n",
       "  \" fill=\"#009af9\" fill-rule=\"evenodd\" fill-opacity=\"1\"/>\n",
       "<polyline clip-path=\"url(#clip002)\" style=\"stroke:#000000; stroke-width:4; stroke-opacity:1; fill:none\" points=\"\n",
       "  2053.09,117.048 2053.09,1445.72 2231.48,1445.72 2231.48,117.048 2053.09,117.048 \n",
       "  \"/>\n",
       "<path clip-path=\"url(#clip000)\" d=\"\n",
       "M1983.25 216.178 L2279.26 216.178 L2279.26 95.2176 L1983.25 95.2176  Z\n",
       "  \" fill=\"#ffffff\" fill-rule=\"evenodd\" fill-opacity=\"1\"/>\n",
       "<polyline clip-path=\"url(#clip000)\" style=\"stroke:#000000; stroke-width:4; stroke-opacity:1; fill:none\" points=\"\n",
       "  1983.25,216.178 2279.26,216.178 2279.26,95.2176 1983.25,95.2176 1983.25,216.178 \n",
       "  \"/>\n",
       "<path clip-path=\"url(#clip000)\" d=\"\n",
       "M2007.75 179.89 L2154.74 179.89 L2154.74 131.506 L2007.75 131.506 L2007.75 179.89  Z\n",
       "  \" fill=\"#009af9\" fill-rule=\"evenodd\" fill-opacity=\"1\"/>\n",
       "<polyline clip-path=\"url(#clip000)\" style=\"stroke:#000000; stroke-width:4; stroke-opacity:1; fill:none\" points=\"\n",
       "  2007.75,179.89 2154.74,179.89 2154.74,131.506 2007.75,131.506 2007.75,179.89 \n",
       "  \"/>\n",
       "<path clip-path=\"url(#clip000)\" d=\"M 0 0 M2193.09 175.385 Q2191.28 180.015 2189.57 181.427 Q2187.85 182.839 2184.98 182.839 L2181.58 182.839 L2181.58 179.274 L2184.08 179.274 Q2185.84 179.274 2186.81 178.44 Q2187.78 177.607 2188.96 174.505 L2189.73 172.561 L2179.24 147.052 L2183.76 147.052 L2191.86 167.329 L2199.96 147.052 L2204.47 147.052 L2193.09 175.385 Z\" fill=\"#000000\" fill-rule=\"evenodd\" fill-opacity=\"1\" /><path clip-path=\"url(#clip000)\" d=\"M 0 0 M2210.35 169.042 L2217.99 169.042 L2217.99 142.677 L2209.68 144.343 L2209.68 140.084 L2217.95 138.418 L2222.62 138.418 L2222.62 169.042 L2230.26 169.042 L2230.26 172.978 L2210.35 172.978 L2210.35 169.042 Z\" fill=\"#000000\" fill-rule=\"evenodd\" fill-opacity=\"1\" /></svg>\n"
      ]
     },
     "execution_count": 45,
     "metadata": {},
     "output_type": "execute_result"
    }
   ],
   "source": [
    "show_results(run_two_agents_theory_of_mind(agent, agent, [1,1,1], [1,5,5], [], [], 3,false))"
   ]
  },
  {
   "cell_type": "markdown",
   "metadata": {},
   "source": [
    "## Depth 10"
   ]
  },
  {
   "cell_type": "code",
   "execution_count": 46,
   "metadata": {},
   "outputs": [
    {
     "name": "stderr",
     "output_type": "stream",
     "text": [
      "\u001b[32mProgress: 100%|█████████████████████████████████████████| Time: 0:01:39\u001b[39m\n"
     ]
    },
    {
     "name": "stdout",
     "output_type": "stream",
     "text": [
      "7.095887383817027"
     ]
    },
    {
     "data": {
      "image/svg+xml": [
       "<?xml version=\"1.0\" encoding=\"utf-8\"?>\n",
       "<svg xmlns=\"http://www.w3.org/2000/svg\" xmlns:xlink=\"http://www.w3.org/1999/xlink\" width=\"600\" height=\"400\" viewBox=\"0 0 2400 1600\">\n",
       "<defs>\n",
       "  <clipPath id=\"clip040\">\n",
       "    <rect x=\"0\" y=\"0\" width=\"2400\" height=\"1600\"/>\n",
       "  </clipPath>\n",
       "</defs>\n",
       "<path clip-path=\"url(#clip040)\" d=\"\n",
       "M0 1600 L2400 1600 L2400 0 L0 0  Z\n",
       "  \" fill=\"#ffffff\" fill-rule=\"evenodd\" fill-opacity=\"1\"/>\n",
       "<defs>\n",
       "  <clipPath id=\"clip041\">\n",
       "    <rect x=\"480\" y=\"0\" width=\"1681\" height=\"1600\"/>\n",
       "  </clipPath>\n",
       "</defs>\n",
       "<path clip-path=\"url(#clip040)\" d=\"\n",
       "M147.848 1486.45 L2352.76 1486.45 L2352.76 47.2441 L147.848 47.2441  Z\n",
       "  \" fill=\"#ffffff\" fill-rule=\"evenodd\" fill-opacity=\"1\"/>\n",
       "<defs>\n",
       "  <clipPath id=\"clip042\">\n",
       "    <rect x=\"147\" y=\"47\" width=\"2206\" height=\"1440\"/>\n",
       "  </clipPath>\n",
       "</defs>\n",
       "<polyline clip-path=\"url(#clip042)\" style=\"stroke:#000000; stroke-width:2; stroke-opacity:0.1; fill:none\" points=\"\n",
       "  269.122,1486.45 269.122,47.2441 \n",
       "  \"/>\n",
       "<polyline clip-path=\"url(#clip042)\" style=\"stroke:#000000; stroke-width:2; stroke-opacity:0.1; fill:none\" points=\"\n",
       "  715.113,1486.45 715.113,47.2441 \n",
       "  \"/>\n",
       "<polyline clip-path=\"url(#clip042)\" style=\"stroke:#000000; stroke-width:2; stroke-opacity:0.1; fill:none\" points=\"\n",
       "  1161.1,1486.45 1161.1,47.2441 \n",
       "  \"/>\n",
       "<polyline clip-path=\"url(#clip042)\" style=\"stroke:#000000; stroke-width:2; stroke-opacity:0.1; fill:none\" points=\"\n",
       "  1607.09,1486.45 1607.09,47.2441 \n",
       "  \"/>\n",
       "<polyline clip-path=\"url(#clip042)\" style=\"stroke:#000000; stroke-width:2; stroke-opacity:0.1; fill:none\" points=\"\n",
       "  2053.09,1486.45 2053.09,47.2441 \n",
       "  \"/>\n",
       "<polyline clip-path=\"url(#clip040)\" style=\"stroke:#000000; stroke-width:4; stroke-opacity:1; fill:none\" points=\"\n",
       "  147.848,1486.45 2352.76,1486.45 \n",
       "  \"/>\n",
       "<polyline clip-path=\"url(#clip040)\" style=\"stroke:#000000; stroke-width:4; stroke-opacity:1; fill:none\" points=\"\n",
       "  269.122,1486.45 269.122,1469.18 \n",
       "  \"/>\n",
       "<polyline clip-path=\"url(#clip040)\" style=\"stroke:#000000; stroke-width:4; stroke-opacity:1; fill:none\" points=\"\n",
       "  715.113,1486.45 715.113,1469.18 \n",
       "  \"/>\n",
       "<polyline clip-path=\"url(#clip040)\" style=\"stroke:#000000; stroke-width:4; stroke-opacity:1; fill:none\" points=\"\n",
       "  1161.1,1486.45 1161.1,1469.18 \n",
       "  \"/>\n",
       "<polyline clip-path=\"url(#clip040)\" style=\"stroke:#000000; stroke-width:4; stroke-opacity:1; fill:none\" points=\"\n",
       "  1607.09,1486.45 1607.09,1469.18 \n",
       "  \"/>\n",
       "<polyline clip-path=\"url(#clip040)\" style=\"stroke:#000000; stroke-width:4; stroke-opacity:1; fill:none\" points=\"\n",
       "  2053.09,1486.45 2053.09,1469.18 \n",
       "  \"/>\n",
       "<path clip-path=\"url(#clip040)\" d=\"M 0 0 M241.02 1543.18 L248.659 1543.18 L248.659 1516.82 L240.349 1518.49 L240.349 1514.23 L248.613 1512.56 L253.289 1512.56 L253.289 1543.18 L260.928 1543.18 L260.928 1547.12 L241.02 1547.12 L241.02 1543.18 Z\" fill=\"#000000\" fill-rule=\"evenodd\" fill-opacity=\"1\" /><path clip-path=\"url(#clip040)\" d=\"M 0 0 M265.997 1541.24 L270.881 1541.24 L270.881 1547.12 L265.997 1547.12 L265.997 1541.24 Z\" fill=\"#000000\" fill-rule=\"evenodd\" fill-opacity=\"1\" /><path clip-path=\"url(#clip040)\" d=\"M 0 0 M285.951 1515.64 Q282.34 1515.64 280.511 1519.2 Q278.705 1522.75 278.705 1529.87 Q278.705 1536.98 280.511 1540.55 Q282.34 1544.09 285.951 1544.09 Q289.585 1544.09 291.391 1540.55 Q293.219 1536.98 293.219 1529.87 Q293.219 1522.75 291.391 1519.2 Q289.585 1515.64 285.951 1515.64 M285.951 1511.93 Q291.761 1511.93 294.816 1516.54 Q297.895 1521.12 297.895 1529.87 Q297.895 1538.6 294.816 1543.21 Q291.761 1547.79 285.951 1547.79 Q280.141 1547.79 277.062 1543.21 Q274.006 1538.6 274.006 1529.87 Q274.006 1521.12 277.062 1516.54 Q280.141 1511.93 285.951 1511.93 Z\" fill=\"#000000\" fill-rule=\"evenodd\" fill-opacity=\"1\" /><path clip-path=\"url(#clip040)\" d=\"M 0 0 M687.509 1543.18 L695.148 1543.18 L695.148 1516.82 L686.838 1518.49 L686.838 1514.23 L695.102 1512.56 L699.777 1512.56 L699.777 1543.18 L707.416 1543.18 L707.416 1547.12 L687.509 1547.12 L687.509 1543.18 Z\" fill=\"#000000\" fill-rule=\"evenodd\" fill-opacity=\"1\" /><path clip-path=\"url(#clip040)\" d=\"M 0 0 M712.486 1541.24 L717.37 1541.24 L717.37 1547.12 L712.486 1547.12 L712.486 1541.24 Z\" fill=\"#000000\" fill-rule=\"evenodd\" fill-opacity=\"1\" /><path clip-path=\"url(#clip040)\" d=\"M 0 0 M722.486 1512.56 L740.842 1512.56 L740.842 1516.5 L726.768 1516.5 L726.768 1524.97 Q727.787 1524.62 728.805 1524.46 Q729.824 1524.27 730.842 1524.27 Q736.629 1524.27 740.009 1527.44 Q743.388 1530.62 743.388 1536.03 Q743.388 1541.61 739.916 1544.71 Q736.444 1547.79 730.125 1547.79 Q727.949 1547.79 725.68 1547.42 Q723.435 1547.05 721.027 1546.31 L721.027 1541.61 Q723.111 1542.74 725.333 1543.3 Q727.555 1543.86 730.032 1543.86 Q734.037 1543.86 736.374 1541.75 Q738.712 1539.64 738.712 1536.03 Q738.712 1532.42 736.374 1530.31 Q734.037 1528.21 730.032 1528.21 Q728.157 1528.21 726.282 1528.62 Q724.43 1529.04 722.486 1529.92 L722.486 1512.56 Z\" fill=\"#000000\" fill-rule=\"evenodd\" fill-opacity=\"1\" /><path clip-path=\"url(#clip040)\" d=\"M 0 0 M1137.27 1543.18 L1153.59 1543.18 L1153.59 1547.12 L1131.65 1547.12 L1131.65 1543.18 Q1134.31 1540.43 1138.89 1535.8 Q1143.5 1531.15 1144.68 1529.81 Q1146.93 1527.28 1147.81 1525.55 Q1148.71 1523.79 1148.71 1522.1 Q1148.71 1519.34 1146.76 1517.61 Q1144.84 1515.87 1141.74 1515.87 Q1139.54 1515.87 1137.09 1516.63 Q1134.66 1517.4 1131.88 1518.95 L1131.88 1514.23 Q1134.7 1513.09 1137.16 1512.51 Q1139.61 1511.93 1141.65 1511.93 Q1147.02 1511.93 1150.21 1514.62 Q1153.41 1517.31 1153.41 1521.8 Q1153.41 1523.93 1152.6 1525.85 Q1151.81 1527.74 1149.7 1530.34 Q1149.12 1531.01 1146.02 1534.23 Q1142.92 1537.42 1137.27 1543.18 Z\" fill=\"#000000\" fill-rule=\"evenodd\" fill-opacity=\"1\" /><path clip-path=\"url(#clip040)\" d=\"M 0 0 M1158.66 1541.24 L1163.55 1541.24 L1163.55 1547.12 L1158.66 1547.12 L1158.66 1541.24 Z\" fill=\"#000000\" fill-rule=\"evenodd\" fill-opacity=\"1\" /><path clip-path=\"url(#clip040)\" d=\"M 0 0 M1178.62 1515.64 Q1175 1515.64 1173.18 1519.2 Q1171.37 1522.75 1171.37 1529.87 Q1171.37 1536.98 1173.18 1540.55 Q1175 1544.09 1178.62 1544.09 Q1182.25 1544.09 1184.06 1540.55 Q1185.88 1536.98 1185.88 1529.87 Q1185.88 1522.75 1184.06 1519.2 Q1182.25 1515.64 1178.62 1515.64 M1178.62 1511.93 Q1184.43 1511.93 1187.48 1516.54 Q1190.56 1521.12 1190.56 1529.87 Q1190.56 1538.6 1187.48 1543.21 Q1184.43 1547.79 1178.62 1547.79 Q1172.81 1547.79 1169.73 1543.21 Q1166.67 1538.6 1166.67 1529.87 Q1166.67 1521.12 1169.73 1516.54 Q1172.81 1511.93 1178.62 1511.93 Z\" fill=\"#000000\" fill-rule=\"evenodd\" fill-opacity=\"1\" /><path clip-path=\"url(#clip040)\" d=\"M 0 0 M1583.76 1543.18 L1600.08 1543.18 L1600.08 1547.12 L1578.14 1547.12 L1578.14 1543.18 Q1580.8 1540.43 1585.38 1535.8 Q1589.99 1531.15 1591.17 1529.81 Q1593.41 1527.28 1594.29 1525.55 Q1595.2 1523.79 1595.2 1522.1 Q1595.2 1519.34 1593.25 1517.61 Q1591.33 1515.87 1588.23 1515.87 Q1586.03 1515.87 1583.58 1516.63 Q1581.15 1517.4 1578.37 1518.95 L1578.37 1514.23 Q1581.19 1513.09 1583.65 1512.51 Q1586.1 1511.93 1588.14 1511.93 Q1593.51 1511.93 1596.7 1514.62 Q1599.9 1517.31 1599.9 1521.8 Q1599.9 1523.93 1599.09 1525.85 Q1598.3 1527.74 1596.19 1530.34 Q1595.61 1531.01 1592.51 1534.23 Q1589.41 1537.42 1583.76 1543.18 Z\" fill=\"#000000\" fill-rule=\"evenodd\" fill-opacity=\"1\" /><path clip-path=\"url(#clip040)\" d=\"M 0 0 M1605.15 1541.24 L1610.03 1541.24 L1610.03 1547.12 L1605.15 1547.12 L1605.15 1541.24 Z\" fill=\"#000000\" fill-rule=\"evenodd\" fill-opacity=\"1\" /><path clip-path=\"url(#clip040)\" d=\"M 0 0 M1615.15 1512.56 L1633.51 1512.56 L1633.51 1516.5 L1619.43 1516.5 L1619.43 1524.97 Q1620.45 1524.62 1621.47 1524.46 Q1622.49 1524.27 1623.51 1524.27 Q1629.29 1524.27 1632.67 1527.44 Q1636.05 1530.62 1636.05 1536.03 Q1636.05 1541.61 1632.58 1544.71 Q1629.11 1547.79 1622.79 1547.79 Q1620.61 1547.79 1618.34 1547.42 Q1616.1 1547.05 1613.69 1546.31 L1613.69 1541.61 Q1615.78 1542.74 1618 1543.3 Q1620.22 1543.86 1622.7 1543.86 Q1626.7 1543.86 1629.04 1541.75 Q1631.38 1539.64 1631.38 1536.03 Q1631.38 1532.42 1629.04 1530.31 Q1626.7 1528.21 1622.7 1528.21 Q1620.82 1528.21 1618.95 1528.62 Q1617.09 1529.04 1615.15 1529.92 L1615.15 1512.56 Z\" fill=\"#000000\" fill-rule=\"evenodd\" fill-opacity=\"1\" /><path clip-path=\"url(#clip040)\" d=\"M 0 0 M2038.85 1528.49 Q2042.21 1529.2 2044.08 1531.47 Q2045.98 1533.74 2045.98 1537.07 Q2045.98 1542.19 2042.46 1544.99 Q2038.94 1547.79 2032.46 1547.79 Q2030.28 1547.79 2027.97 1547.35 Q2025.68 1546.93 2023.22 1546.08 L2023.22 1541.56 Q2025.17 1542.7 2027.48 1543.28 Q2029.8 1543.86 2032.32 1543.86 Q2036.72 1543.86 2039.01 1542.12 Q2041.33 1540.38 2041.33 1537.07 Q2041.33 1534.02 2039.17 1532.31 Q2037.04 1530.57 2033.22 1530.57 L2029.2 1530.57 L2029.2 1526.73 L2033.41 1526.73 Q2036.86 1526.73 2038.69 1525.36 Q2040.52 1523.97 2040.52 1521.38 Q2040.52 1518.72 2038.62 1517.31 Q2036.74 1515.87 2033.22 1515.87 Q2031.3 1515.87 2029.1 1516.29 Q2026.91 1516.7 2024.27 1517.58 L2024.27 1513.42 Q2026.93 1512.68 2029.24 1512.31 Q2031.58 1511.93 2033.64 1511.93 Q2038.97 1511.93 2042.07 1514.37 Q2045.17 1516.77 2045.17 1520.89 Q2045.17 1523.76 2043.53 1525.75 Q2041.88 1527.72 2038.85 1528.49 Z\" fill=\"#000000\" fill-rule=\"evenodd\" fill-opacity=\"1\" /><path clip-path=\"url(#clip040)\" d=\"M 0 0 M2051.05 1541.24 L2055.93 1541.24 L2055.93 1547.12 L2051.05 1547.12 L2051.05 1541.24 Z\" fill=\"#000000\" fill-rule=\"evenodd\" fill-opacity=\"1\" /><path clip-path=\"url(#clip040)\" d=\"M 0 0 M2071 1515.64 Q2067.39 1515.64 2065.56 1519.2 Q2063.76 1522.75 2063.76 1529.87 Q2063.76 1536.98 2065.56 1540.55 Q2067.39 1544.09 2071 1544.09 Q2074.64 1544.09 2076.44 1540.55 Q2078.27 1536.98 2078.27 1529.87 Q2078.27 1522.75 2076.44 1519.2 Q2074.64 1515.64 2071 1515.64 M2071 1511.93 Q2076.81 1511.93 2079.87 1516.54 Q2082.95 1521.12 2082.95 1529.87 Q2082.95 1538.6 2079.87 1543.21 Q2076.81 1547.79 2071 1547.79 Q2065.19 1547.79 2062.11 1543.21 Q2059.06 1538.6 2059.06 1529.87 Q2059.06 1521.12 2062.11 1516.54 Q2065.19 1511.93 2071 1511.93 Z\" fill=\"#000000\" fill-rule=\"evenodd\" fill-opacity=\"1\" /><polyline clip-path=\"url(#clip042)\" style=\"stroke:#000000; stroke-width:2; stroke-opacity:0.1; fill:none\" points=\"\n",
       "  147.848,1445.72 2352.76,1445.72 \n",
       "  \"/>\n",
       "<polyline clip-path=\"url(#clip042)\" style=\"stroke:#000000; stroke-width:2; stroke-opacity:0.1; fill:none\" points=\"\n",
       "  147.848,1045.08 2352.76,1045.08 \n",
       "  \"/>\n",
       "<polyline clip-path=\"url(#clip042)\" style=\"stroke:#000000; stroke-width:2; stroke-opacity:0.1; fill:none\" points=\"\n",
       "  147.848,644.453 2352.76,644.453 \n",
       "  \"/>\n",
       "<polyline clip-path=\"url(#clip042)\" style=\"stroke:#000000; stroke-width:2; stroke-opacity:0.1; fill:none\" points=\"\n",
       "  147.848,243.822 2352.76,243.822 \n",
       "  \"/>\n",
       "<polyline clip-path=\"url(#clip040)\" style=\"stroke:#000000; stroke-width:4; stroke-opacity:1; fill:none\" points=\"\n",
       "  147.848,1486.45 147.848,47.2441 \n",
       "  \"/>\n",
       "<polyline clip-path=\"url(#clip040)\" style=\"stroke:#000000; stroke-width:4; stroke-opacity:1; fill:none\" points=\"\n",
       "  147.848,1445.72 174.307,1445.72 \n",
       "  \"/>\n",
       "<polyline clip-path=\"url(#clip040)\" style=\"stroke:#000000; stroke-width:4; stroke-opacity:1; fill:none\" points=\"\n",
       "  147.848,1045.08 174.307,1045.08 \n",
       "  \"/>\n",
       "<polyline clip-path=\"url(#clip040)\" style=\"stroke:#000000; stroke-width:4; stroke-opacity:1; fill:none\" points=\"\n",
       "  147.848,644.453 174.307,644.453 \n",
       "  \"/>\n",
       "<polyline clip-path=\"url(#clip040)\" style=\"stroke:#000000; stroke-width:4; stroke-opacity:1; fill:none\" points=\"\n",
       "  147.848,243.822 174.307,243.822 \n",
       "  \"/>\n",
       "<path clip-path=\"url(#clip040)\" d=\"M 0 0 M62.9365 1431.51 Q59.3254 1431.51 57.4967 1435.08 Q55.6912 1438.62 55.6912 1445.75 Q55.6912 1452.86 57.4967 1456.42 Q59.3254 1459.96 62.9365 1459.96 Q66.5707 1459.96 68.3763 1456.42 Q70.205 1452.86 70.205 1445.75 Q70.205 1438.62 68.3763 1435.08 Q66.5707 1431.51 62.9365 1431.51 M62.9365 1427.81 Q68.7467 1427.81 71.8022 1432.42 Q74.8809 1437 74.8809 1445.75 Q74.8809 1454.48 71.8022 1459.08 Q68.7467 1463.67 62.9365 1463.67 Q57.1264 1463.67 54.0477 1459.08 Q50.9921 1454.48 50.9921 1445.75 Q50.9921 1437 54.0477 1432.42 Q57.1264 1427.81 62.9365 1427.81 Z\" fill=\"#000000\" fill-rule=\"evenodd\" fill-opacity=\"1\" /><path clip-path=\"url(#clip040)\" d=\"M 0 0 M79.9503 1457.12 L84.8345 1457.12 L84.8345 1463 L79.9503 1463 L79.9503 1457.12 Z\" fill=\"#000000\" fill-rule=\"evenodd\" fill-opacity=\"1\" /><path clip-path=\"url(#clip040)\" d=\"M 0 0 M99.9039 1431.51 Q96.2928 1431.51 94.4641 1435.08 Q92.6586 1438.62 92.6586 1445.75 Q92.6586 1452.86 94.4641 1456.42 Q96.2928 1459.96 99.9039 1459.96 Q103.538 1459.96 105.344 1456.42 Q107.172 1452.86 107.172 1445.75 Q107.172 1438.62 105.344 1435.08 Q103.538 1431.51 99.9039 1431.51 M99.9039 1427.81 Q105.714 1427.81 108.77 1432.42 Q111.848 1437 111.848 1445.75 Q111.848 1454.48 108.77 1459.08 Q105.714 1463.67 99.9039 1463.67 Q94.0937 1463.67 91.0151 1459.08 Q87.9595 1454.48 87.9595 1445.75 Q87.9595 1437 91.0151 1432.42 Q94.0937 1427.81 99.9039 1427.81 Z\" fill=\"#000000\" fill-rule=\"evenodd\" fill-opacity=\"1\" /><path clip-path=\"url(#clip040)\" d=\"M 0 0 M64.1634 1030.88 Q60.5523 1030.88 58.7236 1034.45 Q56.918 1037.99 56.918 1045.12 Q56.918 1052.23 58.7236 1055.79 Q60.5523 1059.33 64.1634 1059.33 Q67.7976 1059.33 69.6031 1055.79 Q71.4318 1052.23 71.4318 1045.12 Q71.4318 1037.99 69.6031 1034.45 Q67.7976 1030.88 64.1634 1030.88 M64.1634 1027.18 Q69.9735 1027.18 73.029 1031.79 Q76.1077 1036.37 76.1077 1045.12 Q76.1077 1053.85 73.029 1058.45 Q69.9735 1063.04 64.1634 1063.04 Q58.3532 1063.04 55.2745 1058.45 Q52.219 1053.85 52.219 1045.12 Q52.219 1036.37 55.2745 1031.79 Q58.3532 1027.18 64.1634 1027.18 Z\" fill=\"#000000\" fill-rule=\"evenodd\" fill-opacity=\"1\" /><path clip-path=\"url(#clip040)\" d=\"M 0 0 M81.1771 1056.48 L86.0614 1056.48 L86.0614 1062.36 L81.1771 1062.36 L81.1771 1056.48 Z\" fill=\"#000000\" fill-rule=\"evenodd\" fill-opacity=\"1\" /><path clip-path=\"url(#clip040)\" d=\"M 0 0 M91.941 1058.43 L99.5798 1058.43 L99.5798 1032.06 L91.2697 1033.73 L91.2697 1029.47 L99.5335 1027.8 L104.209 1027.8 L104.209 1058.43 L111.848 1058.43 L111.848 1062.36 L91.941 1062.36 L91.941 1058.43 Z\" fill=\"#000000\" fill-rule=\"evenodd\" fill-opacity=\"1\" /><path clip-path=\"url(#clip040)\" d=\"M 0 0 M64.5337 630.252 Q60.9226 630.252 59.0939 633.817 Q57.2884 637.358 57.2884 644.488 Q57.2884 651.594 59.0939 655.159 Q60.9226 658.701 64.5337 658.701 Q68.168 658.701 69.9735 655.159 Q71.8022 651.594 71.8022 644.488 Q71.8022 637.358 69.9735 633.817 Q68.168 630.252 64.5337 630.252 M64.5337 626.548 Q70.3439 626.548 73.3994 631.155 Q76.4781 635.738 76.4781 644.488 Q76.4781 653.215 73.3994 657.821 Q70.3439 662.404 64.5337 662.404 Q58.7236 662.404 55.6449 657.821 Q52.5893 653.215 52.5893 644.488 Q52.5893 635.738 55.6449 631.155 Q58.7236 626.548 64.5337 626.548 Z\" fill=\"#000000\" fill-rule=\"evenodd\" fill-opacity=\"1\" /><path clip-path=\"url(#clip040)\" d=\"M 0 0 M81.5475 655.854 L86.4318 655.854 L86.4318 661.733 L81.5475 661.733 L81.5475 655.854 Z\" fill=\"#000000\" fill-rule=\"evenodd\" fill-opacity=\"1\" /><path clip-path=\"url(#clip040)\" d=\"M 0 0 M95.5289 657.798 L111.848 657.798 L111.848 661.733 L89.904 661.733 L89.904 657.798 Q92.566 655.043 97.1493 650.414 Q101.756 645.761 102.936 644.418 Q105.182 641.895 106.061 640.159 Q106.964 638.4 106.964 636.71 Q106.964 633.955 105.02 632.219 Q103.098 630.483 99.9965 630.483 Q97.7974 630.483 95.3437 631.247 Q92.9132 632.011 90.1354 633.562 L90.1354 628.84 Q92.9595 627.706 95.4132 627.127 Q97.8669 626.548 99.9039 626.548 Q105.274 626.548 108.469 629.233 Q111.663 631.918 111.663 636.409 Q111.663 638.539 110.853 640.46 Q110.066 642.358 107.959 644.951 Q107.381 645.622 104.279 648.84 Q101.177 652.034 95.5289 657.798 Z\" fill=\"#000000\" fill-rule=\"evenodd\" fill-opacity=\"1\" /><path clip-path=\"url(#clip040)\" d=\"M 0 0 M63.5847 229.621 Q59.9736 229.621 58.1449 233.185 Q56.3393 236.727 56.3393 243.857 Q56.3393 250.963 58.1449 254.528 Q59.9736 258.069 63.5847 258.069 Q67.2189 258.069 69.0244 254.528 Q70.8531 250.963 70.8531 243.857 Q70.8531 236.727 69.0244 233.185 Q67.2189 229.621 63.5847 229.621 M63.5847 225.917 Q69.3948 225.917 72.4503 230.523 Q75.529 235.107 75.529 243.857 Q75.529 252.583 72.4503 257.19 Q69.3948 261.773 63.5847 261.773 Q57.7745 261.773 54.6958 257.19 Q51.6403 252.583 51.6403 243.857 Q51.6403 235.107 54.6958 230.523 Q57.7745 225.917 63.5847 225.917 Z\" fill=\"#000000\" fill-rule=\"evenodd\" fill-opacity=\"1\" /><path clip-path=\"url(#clip040)\" d=\"M 0 0 M80.5984 255.222 L85.4827 255.222 L85.4827 261.102 L80.5984 261.102 L80.5984 255.222 Z\" fill=\"#000000\" fill-rule=\"evenodd\" fill-opacity=\"1\" /><path clip-path=\"url(#clip040)\" d=\"M 0 0 M104.719 242.468 Q108.075 243.185 109.95 245.454 Q111.848 247.722 111.848 251.056 Q111.848 256.171 108.33 258.972 Q104.811 261.773 98.3298 261.773 Q96.1539 261.773 93.8391 261.333 Q91.5475 260.917 89.0938 260.06 L89.0938 255.546 Q91.0382 256.681 93.353 257.259 Q95.6678 257.838 98.1909 257.838 Q102.589 257.838 104.881 256.102 Q107.196 254.366 107.196 251.056 Q107.196 248 105.043 246.287 Q102.913 244.551 99.0937 244.551 L95.066 244.551 L95.066 240.708 L99.2789 240.708 Q102.728 240.708 104.557 239.343 Q106.385 237.954 106.385 235.361 Q106.385 232.699 104.487 231.287 Q102.612 229.852 99.0937 229.852 Q97.1724 229.852 94.9734 230.269 Q92.7743 230.685 90.1354 231.565 L90.1354 227.398 Q92.7975 226.658 95.1123 226.287 Q97.4502 225.917 99.5104 225.917 Q104.834 225.917 107.936 228.347 Q111.038 230.755 111.038 234.875 Q111.038 237.745 109.395 239.736 Q107.751 241.704 104.719 242.468 Z\" fill=\"#000000\" fill-rule=\"evenodd\" fill-opacity=\"1\" /><path clip-path=\"url(#clip042)\" d=\"\n",
       "M269.122 87.9763 L269.122 1445.72 L447.518 1445.72 L447.518 87.9763 L269.122 87.9763 L269.122 87.9763  Z\n",
       "  \" fill=\"#009af9\" fill-rule=\"evenodd\" fill-opacity=\"1\"/>\n",
       "<polyline clip-path=\"url(#clip042)\" style=\"stroke:#000000; stroke-width:4; stroke-opacity:1; fill:none\" points=\"\n",
       "  269.122,87.9763 269.122,1445.72 447.518,1445.72 447.518,87.9763 269.122,87.9763 \n",
       "  \"/>\n",
       "<path clip-path=\"url(#clip042)\" d=\"\n",
       "M447.518 1445.72 L447.518 1445.72 L625.915 1445.72 L625.915 1445.72 L447.518 1445.72 L447.518 1445.72  Z\n",
       "  \" fill=\"#009af9\" fill-rule=\"evenodd\" fill-opacity=\"1\"/>\n",
       "<polyline clip-path=\"url(#clip042)\" style=\"stroke:#000000; stroke-width:4; stroke-opacity:1; fill:none\" points=\"\n",
       "  447.518,1445.72 447.518,1445.72 625.915,1445.72 447.518,1445.72 \n",
       "  \"/>\n",
       "<path clip-path=\"url(#clip042)\" d=\"\n",
       "M625.915 1445.72 L625.915 1445.72 L804.311 1445.72 L804.311 1445.72 L625.915 1445.72 L625.915 1445.72  Z\n",
       "  \" fill=\"#009af9\" fill-rule=\"evenodd\" fill-opacity=\"1\"/>\n",
       "<polyline clip-path=\"url(#clip042)\" style=\"stroke:#000000; stroke-width:4; stroke-opacity:1; fill:none\" points=\"\n",
       "  625.915,1445.72 625.915,1445.72 804.311,1445.72 625.915,1445.72 \n",
       "  \"/>\n",
       "<path clip-path=\"url(#clip042)\" d=\"\n",
       "M804.311 1445.72 L804.311 1445.72 L982.708 1445.72 L982.708 1445.72 L804.311 1445.72 L804.311 1445.72  Z\n",
       "  \" fill=\"#009af9\" fill-rule=\"evenodd\" fill-opacity=\"1\"/>\n",
       "<polyline clip-path=\"url(#clip042)\" style=\"stroke:#000000; stroke-width:4; stroke-opacity:1; fill:none\" points=\"\n",
       "  804.311,1445.72 804.311,1445.72 982.708,1445.72 804.311,1445.72 \n",
       "  \"/>\n",
       "<path clip-path=\"url(#clip042)\" d=\"\n",
       "M982.708 1445.72 L982.708 1445.72 L1161.1 1445.72 L1161.1 1445.72 L982.708 1445.72 L982.708 1445.72  Z\n",
       "  \" fill=\"#009af9\" fill-rule=\"evenodd\" fill-opacity=\"1\"/>\n",
       "<polyline clip-path=\"url(#clip042)\" style=\"stroke:#000000; stroke-width:4; stroke-opacity:1; fill:none\" points=\"\n",
       "  982.708,1445.72 982.708,1445.72 1161.1,1445.72 982.708,1445.72 \n",
       "  \"/>\n",
       "<path clip-path=\"url(#clip042)\" d=\"\n",
       "M1161.1 125.636 L1161.1 1445.72 L1339.5 1445.72 L1339.5 125.636 L1161.1 125.636 L1161.1 125.636  Z\n",
       "  \" fill=\"#009af9\" fill-rule=\"evenodd\" fill-opacity=\"1\"/>\n",
       "<polyline clip-path=\"url(#clip042)\" style=\"stroke:#000000; stroke-width:4; stroke-opacity:1; fill:none\" points=\"\n",
       "  1161.1,125.636 1161.1,1445.72 1339.5,1445.72 1339.5,125.636 1161.1,125.636 \n",
       "  \"/>\n",
       "<path clip-path=\"url(#clip042)\" d=\"\n",
       "M1339.5 1445.72 L1339.5 1445.72 L1517.9 1445.72 L1517.9 1445.72 L1339.5 1445.72 L1339.5 1445.72  Z\n",
       "  \" fill=\"#009af9\" fill-rule=\"evenodd\" fill-opacity=\"1\"/>\n",
       "<polyline clip-path=\"url(#clip042)\" style=\"stroke:#000000; stroke-width:4; stroke-opacity:1; fill:none\" points=\"\n",
       "  1339.5,1445.72 1339.5,1445.72 1517.9,1445.72 1339.5,1445.72 \n",
       "  \"/>\n",
       "<path clip-path=\"url(#clip042)\" d=\"\n",
       "M1517.9 1445.72 L1517.9 1445.72 L1696.29 1445.72 L1696.29 1445.72 L1517.9 1445.72 L1517.9 1445.72  Z\n",
       "  \" fill=\"#009af9\" fill-rule=\"evenodd\" fill-opacity=\"1\"/>\n",
       "<polyline clip-path=\"url(#clip042)\" style=\"stroke:#000000; stroke-width:4; stroke-opacity:1; fill:none\" points=\"\n",
       "  1517.9,1445.72 1517.9,1445.72 1696.29,1445.72 1517.9,1445.72 \n",
       "  \"/>\n",
       "<path clip-path=\"url(#clip042)\" d=\"\n",
       "M1696.29 1445.72 L1696.29 1445.72 L1874.69 1445.72 L1874.69 1445.72 L1696.29 1445.72 L1696.29 1445.72  Z\n",
       "  \" fill=\"#009af9\" fill-rule=\"evenodd\" fill-opacity=\"1\"/>\n",
       "<polyline clip-path=\"url(#clip042)\" style=\"stroke:#000000; stroke-width:4; stroke-opacity:1; fill:none\" points=\"\n",
       "  1696.29,1445.72 1696.29,1445.72 1874.69,1445.72 1696.29,1445.72 \n",
       "  \"/>\n",
       "<path clip-path=\"url(#clip042)\" d=\"\n",
       "M1874.69 1445.72 L1874.69 1445.72 L2053.09 1445.72 L2053.09 1445.72 L1874.69 1445.72 L1874.69 1445.72  Z\n",
       "  \" fill=\"#009af9\" fill-rule=\"evenodd\" fill-opacity=\"1\"/>\n",
       "<polyline clip-path=\"url(#clip042)\" style=\"stroke:#000000; stroke-width:4; stroke-opacity:1; fill:none\" points=\"\n",
       "  1874.69,1445.72 1874.69,1445.72 2053.09,1445.72 1874.69,1445.72 \n",
       "  \"/>\n",
       "<path clip-path=\"url(#clip042)\" d=\"\n",
       "M2053.09 117.222 L2053.09 1445.72 L2231.48 1445.72 L2231.48 117.222 L2053.09 117.222 L2053.09 117.222  Z\n",
       "  \" fill=\"#009af9\" fill-rule=\"evenodd\" fill-opacity=\"1\"/>\n",
       "<polyline clip-path=\"url(#clip042)\" style=\"stroke:#000000; stroke-width:4; stroke-opacity:1; fill:none\" points=\"\n",
       "  2053.09,117.222 2053.09,1445.72 2231.48,1445.72 2231.48,117.222 2053.09,117.222 \n",
       "  \"/>\n",
       "<path clip-path=\"url(#clip040)\" d=\"\n",
       "M1983.25 216.178 L2279.26 216.178 L2279.26 95.2176 L1983.25 95.2176  Z\n",
       "  \" fill=\"#ffffff\" fill-rule=\"evenodd\" fill-opacity=\"1\"/>\n",
       "<polyline clip-path=\"url(#clip040)\" style=\"stroke:#000000; stroke-width:4; stroke-opacity:1; fill:none\" points=\"\n",
       "  1983.25,216.178 2279.26,216.178 2279.26,95.2176 1983.25,95.2176 1983.25,216.178 \n",
       "  \"/>\n",
       "<path clip-path=\"url(#clip040)\" d=\"\n",
       "M2007.75 179.89 L2154.74 179.89 L2154.74 131.506 L2007.75 131.506 L2007.75 179.89  Z\n",
       "  \" fill=\"#009af9\" fill-rule=\"evenodd\" fill-opacity=\"1\"/>\n",
       "<polyline clip-path=\"url(#clip040)\" style=\"stroke:#000000; stroke-width:4; stroke-opacity:1; fill:none\" points=\"\n",
       "  2007.75,179.89 2154.74,179.89 2154.74,131.506 2007.75,131.506 2007.75,179.89 \n",
       "  \"/>\n",
       "<path clip-path=\"url(#clip040)\" d=\"M 0 0 M2193.09 175.385 Q2191.28 180.015 2189.57 181.427 Q2187.85 182.839 2184.98 182.839 L2181.58 182.839 L2181.58 179.274 L2184.08 179.274 Q2185.84 179.274 2186.81 178.44 Q2187.78 177.607 2188.96 174.505 L2189.73 172.561 L2179.24 147.052 L2183.76 147.052 L2191.86 167.329 L2199.96 147.052 L2204.47 147.052 L2193.09 175.385 Z\" fill=\"#000000\" fill-rule=\"evenodd\" fill-opacity=\"1\" /><path clip-path=\"url(#clip040)\" d=\"M 0 0 M2210.35 169.042 L2217.99 169.042 L2217.99 142.677 L2209.68 144.343 L2209.68 140.084 L2217.95 138.418 L2222.62 138.418 L2222.62 169.042 L2230.26 169.042 L2230.26 172.978 L2210.35 172.978 L2210.35 169.042 Z\" fill=\"#000000\" fill-rule=\"evenodd\" fill-opacity=\"1\" /></svg>\n"
      ]
     },
     "execution_count": 46,
     "metadata": {},
     "output_type": "execute_result"
    }
   ],
   "source": [
    "show_results(run_two_agents_theory_of_mind(agent, agent, [1,5,5], [1,1,1], [], [], 10))"
   ]
  },
  {
   "cell_type": "code",
   "execution_count": 47,
   "metadata": {},
   "outputs": [
    {
     "name": "stderr",
     "output_type": "stream",
     "text": [
      "\u001b[32mProgress:  60%|█████████████████████████                |  ETA: 0:00:37\u001b[39m"
     ]
    },
    {
     "ename": "LoadError",
     "evalue": "InterruptException:",
     "output_type": "error",
     "traceback": [
      "InterruptException:",
      "",
      "Stacktrace:",
      " [1] try_yieldto(::typeof(Base.ensure_rescheduled)) at .\\task.jl:656",
      " [2] wait at .\\task.jl:713 [inlined]",
      " [3] uv_write(::Base.PipeEndpoint, ::Ptr{UInt8}, ::UInt64) at .\\stream.jl:933",
      " [4] unsafe_write(::Base.PipeEndpoint, ::Ptr{UInt8}, ::UInt64) at .\\stream.jl:1005",
      " [5] unsafe_write at .\\io.jl:337 [inlined]",
      " [6] write at .\\strings\\io.jl:183 [inlined]",
      " [7] print at .\\strings\\io.jl:185 [inlined]",
      " [8] with_output_color(::Function, ::Symbol, ::IJulia.IJuliaStdio{Base.PipeEndpoint}, ::String; bold::Bool) at .\\util.jl:90",
      " [9] #printstyled#746 at .\\util.jl:104 [inlined]",
      " [10] printover(::IJulia.IJuliaStdio{Base.PipeEndpoint}, ::String, ::Symbol) at C:\\Users\\tomer\\.julia\\packages\\ProgressMeter\\0ub8y\\src\\ProgressMeter.jl:485",
      " [11] updateProgress!(::Progress; showvalues::Tuple{}, truncate_lines::Bool, valuecolor::Symbol, offset::Int64, keep::Bool, desc::Nothing) at C:\\Users\\tomer\\.julia\\packages\\ProgressMeter\\0ub8y\\src\\ProgressMeter.jl:253",
      " [12] updateProgress! at C:\\Users\\tomer\\.julia\\packages\\ProgressMeter\\0ub8y\\src\\ProgressMeter.jl:208 [inlined]",
      " [13] #14 at C:\\Users\\tomer\\.julia\\packages\\ProgressMeter\\0ub8y\\src\\ProgressMeter.jl:352 [inlined]",
      " [14] lock(::ProgressMeter.var\"#14#15\"{Int64,Base.Iterators.Pairs{Union{},Union{},Tuple{},NamedTuple{(),Tuple{}}},Progress}, ::ReentrantLock) at .\\lock.jl:161",
      " [15] #next!#13 at C:\\Users\\tomer\\.julia\\packages\\ProgressMeter\\0ub8y\\src\\ProgressMeter.jl:350 [inlined]",
      " [16] next! at C:\\Users\\tomer\\.julia\\packages\\ProgressMeter\\0ub8y\\src\\ProgressMeter.jl:350 [inlined]",
      " [17] run_two_agents_theory_of_mind(::typeof(agent), ::typeof(agent), ::Array{Int64,1}, ::Array{Int64,1}, ::Array{Any,1}, ::Array{Any,1}, ::Int64, ::Bool) at .\\In[7]:13",
      " [18] run_two_agents_theory_of_mind(::Function, ::Function, ::Array{Int64,1}, ::Array{Int64,1}, ::Array{Any,1}, ::Array{Any,1}, ::Int64) at .\\In[7]:2",
      " [19] top-level scope at In[47]:1",
      " [20] include_string(::Function, ::Module, ::String, ::String) at .\\loading.jl:1091"
     ]
    }
   ],
   "source": [
    "show_results(run_two_agents_theory_of_mind(agent, agent, [1,1,1], [1,5,5], [], [], 10))"
   ]
  },
  {
   "cell_type": "markdown",
   "metadata": {},
   "source": [
    "## Depth 20"
   ]
  },
  {
   "cell_type": "code",
   "execution_count": 48,
   "metadata": {},
   "outputs": [
    {
     "name": "stderr",
     "output_type": "stream",
     "text": [
      "\u001b[32mProgress:  15%|███████                                  |  ETA: 0:02:22\u001b[39m\r"
     ]
    },
    {
     "ename": "LoadError",
     "evalue": "InterruptException:",
     "output_type": "error",
     "traceback": [
      "InterruptException:",
      "",
      "Stacktrace:",
      " [1] try_yieldto(::typeof(Base.ensure_rescheduled)) at .\\task.jl:656",
      " [2] wait at .\\task.jl:713 [inlined]",
      " [3] uv_write(::Base.PipeEndpoint, ::Ptr{UInt8}, ::UInt64) at .\\stream.jl:933",
      " [4] unsafe_write(::Base.PipeEndpoint, ::Ptr{UInt8}, ::UInt64) at .\\stream.jl:1005",
      " [5] unsafe_write at .\\io.jl:337 [inlined]",
      " [6] write at .\\strings\\io.jl:183 [inlined]",
      " [7] print at .\\strings\\io.jl:185 [inlined]",
      " [8] printover(::IJulia.IJuliaStdio{Base.PipeEndpoint}, ::String, ::Symbol) at C:\\Users\\tomer\\.julia\\packages\\ProgressMeter\\0ub8y\\src\\ProgressMeter.jl:484",
      " [9] updateProgress!(::Progress; showvalues::Tuple{}, truncate_lines::Bool, valuecolor::Symbol, offset::Int64, keep::Bool, desc::Nothing) at C:\\Users\\tomer\\.julia\\packages\\ProgressMeter\\0ub8y\\src\\ProgressMeter.jl:253",
      " [10] updateProgress! at C:\\Users\\tomer\\.julia\\packages\\ProgressMeter\\0ub8y\\src\\ProgressMeter.jl:208 [inlined]",
      " [11] #14 at C:\\Users\\tomer\\.julia\\packages\\ProgressMeter\\0ub8y\\src\\ProgressMeter.jl:352 [inlined]",
      " [12] lock(::ProgressMeter.var\"#14#15\"{Int64,Base.Iterators.Pairs{Union{},Union{},Tuple{},NamedTuple{(),Tuple{}}},Progress}, ::ReentrantLock) at .\\lock.jl:161",
      " [13] #next!#13 at C:\\Users\\tomer\\.julia\\packages\\ProgressMeter\\0ub8y\\src\\ProgressMeter.jl:350 [inlined]",
      " [14] next! at C:\\Users\\tomer\\.julia\\packages\\ProgressMeter\\0ub8y\\src\\ProgressMeter.jl:350 [inlined]",
      " [15] run_two_agents_theory_of_mind(::typeof(agent), ::typeof(agent), ::Array{Int64,1}, ::Array{Int64,1}, ::Array{Any,1}, ::Array{Any,1}, ::Int64, ::Bool) at .\\In[7]:13",
      " [16] run_two_agents_theory_of_mind(::Function, ::Function, ::Array{Int64,1}, ::Array{Int64,1}, ::Array{Any,1}, ::Array{Any,1}, ::Int64) at .\\In[7]:2",
      " [17] top-level scope at In[48]:1",
      " [18] include_string(::Function, ::Module, ::String, ::String) at .\\loading.jl:1091"
     ]
    }
   ],
   "source": [
    "show_results(run_two_agents_theory_of_mind(agent, agent, [1,5,5] , [1,1,1], [], [], 20))"
   ]
  },
  {
   "cell_type": "code",
   "execution_count": 49,
   "metadata": {},
   "outputs": [
    {
     "name": "stderr",
     "output_type": "stream",
     "text": [
      "\u001b[32mProgress:   5%|███                                      |  ETA: 0:00:56\u001b[39m"
     ]
    },
    {
     "ename": "LoadError",
     "evalue": "InterruptException:",
     "output_type": "error",
     "traceback": [
      "InterruptException:",
      "",
      "Stacktrace:",
      " [1] try_yieldto(::typeof(Base.ensure_rescheduled)) at .\\task.jl:656",
      " [2] wait at .\\task.jl:713 [inlined]",
      " [3] uv_write(::Base.PipeEndpoint, ::Ptr{UInt8}, ::UInt64) at .\\stream.jl:933",
      " [4] unsafe_write(::Base.PipeEndpoint, ::Ptr{UInt8}, ::UInt64) at .\\stream.jl:1005",
      " [5] unsafe_write at .\\io.jl:337 [inlined]",
      " [6] write at .\\strings\\io.jl:183 [inlined]",
      " [7] print at .\\strings\\io.jl:185 [inlined]",
      " [8] with_output_color(::Function, ::Symbol, ::IJulia.IJuliaStdio{Base.PipeEndpoint}, ::String; bold::Bool) at .\\util.jl:90",
      " [9] #printstyled#746 at .\\util.jl:104 [inlined]",
      " [10] printover(::IJulia.IJuliaStdio{Base.PipeEndpoint}, ::String, ::Symbol) at C:\\Users\\tomer\\.julia\\packages\\ProgressMeter\\0ub8y\\src\\ProgressMeter.jl:485",
      " [11] updateProgress!(::Progress; showvalues::Tuple{}, truncate_lines::Bool, valuecolor::Symbol, offset::Int64, keep::Bool, desc::Nothing) at C:\\Users\\tomer\\.julia\\packages\\ProgressMeter\\0ub8y\\src\\ProgressMeter.jl:253",
      " [12] updateProgress! at C:\\Users\\tomer\\.julia\\packages\\ProgressMeter\\0ub8y\\src\\ProgressMeter.jl:208 [inlined]",
      " [13] #14 at C:\\Users\\tomer\\.julia\\packages\\ProgressMeter\\0ub8y\\src\\ProgressMeter.jl:352 [inlined]",
      " [14] lock(::ProgressMeter.var\"#14#15\"{Int64,Base.Iterators.Pairs{Union{},Union{},Tuple{},NamedTuple{(),Tuple{}}},Progress}, ::ReentrantLock) at .\\lock.jl:161",
      " [15] #next!#13 at C:\\Users\\tomer\\.julia\\packages\\ProgressMeter\\0ub8y\\src\\ProgressMeter.jl:350 [inlined]",
      " [16] next! at C:\\Users\\tomer\\.julia\\packages\\ProgressMeter\\0ub8y\\src\\ProgressMeter.jl:350 [inlined]",
      " [17] run_two_agents_theory_of_mind(::typeof(agent), ::typeof(agent), ::Array{Int64,1}, ::Array{Int64,1}, ::Array{Any,1}, ::Array{Any,1}, ::Int64, ::Bool) at .\\In[7]:13",
      " [18] run_two_agents_theory_of_mind(::Function, ::Function, ::Array{Int64,1}, ::Array{Int64,1}, ::Array{Any,1}, ::Array{Any,1}, ::Int64) at .\\In[7]:2",
      " [19] top-level scope at In[49]:1",
      " [20] include_string(::Function, ::Module, ::String, ::String) at .\\loading.jl:1091"
     ]
    }
   ],
   "source": [
    "show_results(run_two_agents_theory_of_mind(agent, agent, [1,1,1], [1,5,5], [], [], 20))"
   ]
  },
  {
   "cell_type": "markdown",
   "metadata": {},
   "source": [
    "# Simulations"
   ]
  },
  {
   "cell_type": "code",
   "execution_count": 12,
   "metadata": {},
   "outputs": [
    {
     "data": {
      "text/plain": [
       "sample_move (generic function with 1 method)"
      ]
     },
     "execution_count": 12,
     "metadata": {},
     "output_type": "execute_result"
    }
   ],
   "source": [
    "function sample_move(chn)\n",
    "    weights = exp.(chn[:lp][:, 1])\n",
    "    weights = Weights(weights/sum(weights))\n",
    "    idx = sample(collect(1:length(weights)), weights)\n",
    "    move_sample = chn[:my_move][idx, 1]\n",
    "    return move_sample\n",
    "end"
   ]
  },
  {
   "cell_type": "code",
   "execution_count": 91,
   "metadata": {},
   "outputs": [
    {
     "data": {
      "text/plain": [
       "move (generic function with 2 methods)"
      ]
     },
     "execution_count": 91,
     "metadata": {},
     "output_type": "execute_result"
    }
   ],
   "source": [
    "function move(agent, other_agent, other_agent_history, my_history, other_player_prior, my_depth=1)\n",
    "    other_agent_history = length(other_agent_history) > 0 ? other_agent_history : [1]\n",
    "    other_agent_history = Array{Int}(other_agent_history)\n",
    "    my_history = length(my_history) > 0 ? my_history : [1]\n",
    "    my_history = Array{Int}(my_history)\n",
    "    m = agent(other_agent, other_agent_history, other_player_prior, my_depth)\n",
    "    chain = run_two_agents_theory_of_mind(agent, other_agent, other_player_prior, [1,1,1] , other_agent_history, my_history, my_depth, false)\n",
    "    return sample_move(chain), chain\n",
    "end"
   ]
  },
  {
   "cell_type": "code",
   "execution_count": 105,
   "metadata": {},
   "outputs": [
    {
     "data": {
      "text/plain": [
       "game (generic function with 5 methods)"
      ]
     },
     "execution_count": 105,
     "metadata": {},
     "output_type": "execute_result"
    }
   ],
   "source": [
    "function game(first_player_depth = 1, second_player_depth = 1, first_player_prior_policy = [1,1,1] , second_player_prior_policy = [1, 1, 1])\n",
    "    first_player = agent\n",
    "    second_player = agent\n",
    "    num_of_rounds = 50\n",
    "    first_player_history = []\n",
    "    second_player_history = []\n",
    "    first_player_theoretical_score = []\n",
    "    \n",
    "    @showprogress for i in 1:num_of_rounds\n",
    "        m1, chain1 = move(first_player, second_player, second_player_history, first_player_history, second_player_prior_policy, first_player_depth)\n",
    "        push!(first_player_history, m1)\n",
    "        m2, chain2 = move(second_player, first_player, first_player_history, second_player_history, first_player_prior_policy, second_player_depth)\n",
    "        push!(second_player_history, m2)\n",
    "        \n",
    "        ts = compute_theoretical_score(chain1, chain2)\n",
    "        push!(first_player_theoretical_score, ts)\n",
    "    end\n",
    "    return first_player_history, second_player_history, first_player_theoretical_score\n",
    " end"
   ]
  },
  {
   "cell_type": "code",
   "execution_count": 106,
   "metadata": {},
   "outputs": [
    {
     "data": {
      "text/plain": [
       "score (generic function with 1 method)"
      ]
     },
     "execution_count": 106,
     "metadata": {},
     "output_type": "execute_result"
    }
   ],
   "source": [
    "function score(history)\n",
    "    first_player_history, second_player_history , _ = history\n",
    "    first_wins = 0\n",
    "    ties = 0\n",
    "    second_wins = 0\n",
    "    wins = Dict(1 => 3, 2 => 1, 3 => 2)\n",
    "    for i in 1:length(first_player_history)\n",
    "        if wins[first_player_history[i]] == second_player_history[i]\n",
    "            second_wins += 1\n",
    "        elseif wins[second_player_history[i]] == first_player_history[i]\n",
    "            first_wins += 1\n",
    "        else\n",
    "            ties += 1\n",
    "        end\n",
    "    end\n",
    "    return [first_wins, ties, second_wins]\n",
    "end"
   ]
  },
  {
   "cell_type": "code",
   "execution_count": 107,
   "metadata": {},
   "outputs": [
    {
     "data": {
      "text/plain": [
       "mc_simulation (generic function with 1 method)"
      ]
     },
     "execution_count": 107,
     "metadata": {},
     "output_type": "execute_result"
    }
   ],
   "source": [
    "NUM_OF_MC_SIMULATIONS = 10000\n",
    "function mc_simulation(first_policy, second_policy)\n",
    "    first_weights = Weights(first_policy/sum(first_policy))\n",
    "    first_moves = sample(collect(1:length(first_weights)), first_weights, NUM_OF_MC_SIMULATIONS)\n",
    "    second_weights = Weights(second_policy/sum(second_policy))\n",
    "    second_moves = sample(collect(1:length(second_weights)), second_weights, NUM_OF_MC_SIMULATIONS)\n",
    "    first, tie, second = score([first_moves, second_moves, [], []])\n",
    "    return (first - second) / NUM_OF_MC_SIMULATIONS\n",
    "end"
   ]
  },
  {
   "cell_type": "code",
   "execution_count": 108,
   "metadata": {},
   "outputs": [
    {
     "data": {
      "text/plain": [
       "compute_theoretical_score (generic function with 1 method)"
      ]
     },
     "execution_count": 108,
     "metadata": {},
     "output_type": "execute_result"
    }
   ],
   "source": [
    "function compute_theoretical_score(first_chain, second_chain)\n",
    "    first_weights = exp.(first_chain[:lp][:, 1])\n",
    "    first_weights = Weights(first_weights/sum(first_weights))\n",
    "    first_sampled_moves = sample(first_chain[:my_move], first_weights, NUM_OF_MC_SIMULATIONS)\n",
    "    second_weights = exp.(second_chain[:lp][:, 1])\n",
    "    second_weights = Weights(second_weights/sum(second_weights))\n",
    "    second_sampled_moves = sample(second_chain[:my_move], second_weights, NUM_OF_MC_SIMULATIONS)\n",
    "    first, tie, second = score([first_sampled_moves, second_sampled_moves, []])\n",
    "    return (first - second) / NUM_OF_MC_SIMULATIONS\n",
    "end"
   ]
  },
  {
   "cell_type": "code",
   "execution_count": 109,
   "metadata": {},
   "outputs": [
    {
     "data": {
      "text/plain": [
       "accumulated_score (generic function with 1 method)"
      ]
     },
     "execution_count": 109,
     "metadata": {},
     "output_type": "execute_result"
    }
   ],
   "source": [
    "function accumulated_score(history)\n",
    "    first_player_history, second_player_history , _ = history\n",
    "    first_wins, ties, second_wins = 0, 0, 0\n",
    "    acc_result = []\n",
    "    wins = Dict(1 => 3, 2 => 1, 3 => 2)\n",
    "    for i in 1:length(first_player_history)\n",
    "        if wins[first_player_history[i]] == second_player_history[i]\n",
    "            second_wins += 1\n",
    "        elseif wins[second_player_history[i]] == first_player_history[i]\n",
    "            first_wins += 1\n",
    "        else\n",
    "            ties += 1\n",
    "        end\n",
    "        push!(acc_result, [first_wins, ties, second_wins])\n",
    "    end\n",
    "    return acc_result\n",
    "end"
   ]
  },
  {
   "cell_type": "code",
   "execution_count": 110,
   "metadata": {},
   "outputs": [
    {
     "data": {
      "text/plain": [
       "plot_accumulated_score (generic function with 1 method)"
      ]
     },
     "execution_count": 110,
     "metadata": {},
     "output_type": "execute_result"
    }
   ],
   "source": [
    "function plot_accumulated_score(acc_result)\n",
    "    n = length(acc_result)\n",
    "    acc_result = transpose(reduce(hcat, acc_result))\n",
    "    plot(1:n, acc_result, alpha = 0.3)\n",
    "end"
   ]
  },
  {
   "cell_type": "code",
   "execution_count": 111,
   "metadata": {},
   "outputs": [
    {
     "data": {
      "text/plain": [
       "display_score (generic function with 1 method)"
      ]
     },
     "execution_count": 111,
     "metadata": {},
     "output_type": "execute_result"
    }
   ],
   "source": [
    "function display_score(score)\n",
    "    num_of_wins_first, num_of_ties, num_of_wins_second = score\n",
    "    println(\"first player won: $num_of_wins_first\")\n",
    "    println(\"second player won: $num_of_wins_second\") \n",
    "    println(\"ties: $num_of_ties\") \n",
    "end"
   ]
  },
  {
   "cell_type": "code",
   "execution_count": 113,
   "metadata": {},
   "outputs": [
    {
     "data": {
      "text/plain": [
       "30"
      ]
     },
     "execution_count": 113,
     "metadata": {},
     "output_type": "execute_result"
    }
   ],
   "source": [
    "NUM_OF_EXPIREMENTS = 30"
   ]
  },
  {
   "cell_type": "code",
   "execution_count": 114,
   "metadata": {},
   "outputs": [
    {
     "data": {
      "text/plain": [
       "mean_and_var (generic function with 1 method)"
      ]
     },
     "execution_count": 114,
     "metadata": {},
     "output_type": "execute_result"
    }
   ],
   "source": [
    "function mean_and_var(results)\n",
    "    results = reduce(hcat, results)\n",
    "    mean_results = mean(results,dims=2)\n",
    "    var_results = std(results,dims=2)\n",
    "    return mean_results , var_results\n",
    "end"
   ]
  },
  {
   "cell_type": "code",
   "execution_count": 115,
   "metadata": {},
   "outputs": [
    {
     "data": {
      "text/plain": [
       "simulate_game (generic function with 6 methods)"
      ]
     },
     "execution_count": 115,
     "metadata": {},
     "output_type": "execute_result"
    }
   ],
   "source": [
    "function simulate_game(first_player_depth = 1, second_player_depth = 1, first_player_prior_policy = [1,1,1] , second_player_prior_policy = [1, 1, 1], num_of_expirements = 10)\n",
    "    result_plt = plot(title = \"Game Results\")\n",
    "    ts_plt = plot(title = \"Score Based on MC Simulations\")\n",
    "    scores = []\n",
    "    for i in 1:num_of_expirements\n",
    "        game_result = game(first_player_depth,second_player_depth, first_player_prior_policy, second_player_prior_policy)\n",
    "        acc_result = accumulated_score(game_result)\n",
    "        score_result = score(game_result)\n",
    "        push!(scores,score_result)\n",
    "        n = length(acc_result)\n",
    "        acc_result = transpose(reduce(hcat, acc_result))\n",
    "        plot!(result_plt, acc_result, alpha = 0.3, legend = false, label = [\"p1 wins\" \"ties\" \"p2 wins\"] , color = [1 2 3])\n",
    "        \n",
    "        _ , _ , ts_score = game_result\n",
    "        plot!(ts_plt, ts_score , alpha = 0.3, legend = false, color = [1])\n",
    "    end\n",
    "    display(result_plt)\n",
    "    mean_results, var_results = mean_and_var(scores)\n",
    "    println(\"first win: $(mean_results[1])+-$(var_results[1])\")\n",
    "    println(\"ties: $(mean_results[2])+-$(var_results[2])\")\n",
    "    println(\"second win: $(mean_results[3])+-$(var_results[3])\")\n",
    "    display(ts_plt)\n",
    "end "
   ]
  },
  {
   "cell_type": "code",
   "execution_count": null,
   "metadata": {},
   "outputs": [],
   "source": [
    "simulate_game(-1, -1, [1,10,1], [1,1,10], NUM_OF_EXPIREMENTS)"
   ]
  },
  {
   "cell_type": "code",
   "execution_count": null,
   "metadata": {},
   "outputs": [],
   "source": [
    "simulate_game(-1, -1, [10,1,1], [1,1,10], NUM_OF_EXPIREMENTS)"
   ]
  },
  {
   "cell_type": "code",
   "execution_count": null,
   "metadata": {},
   "outputs": [],
   "source": [
    "simulate_game(0, -1, [1,10,1], [1,1,10], NUM_OF_EXPIREMENTS)"
   ]
  },
  {
   "cell_type": "code",
   "execution_count": null,
   "metadata": {},
   "outputs": [],
   "source": [
    "simulate_game(-1, 0, [10,1,1], [1,1,10], NUM_OF_EXPIREMENTS)"
   ]
  },
  {
   "cell_type": "code",
   "execution_count": null,
   "metadata": {},
   "outputs": [],
   "source": [
    "simulate_game(0, 0, [1,10,1] , [1, 1, 10],NUM_OF_EXPIREMENTS)"
   ]
  },
  {
   "cell_type": "code",
   "execution_count": null,
   "metadata": {},
   "outputs": [],
   "source": [
    "simulate_game(0, 0, [10,1,1] , [1, 1, 10],NUM_OF_EXPIREMENTS)"
   ]
  },
  {
   "cell_type": "code",
   "execution_count": null,
   "metadata": {},
   "outputs": [],
   "source": [
    "simulate_game(0, 1, [10,1,1], [1,1,10] ,NUM_OF_EXPIREMENTS)"
   ]
  },
  {
   "cell_type": "code",
   "execution_count": null,
   "metadata": {},
   "outputs": [],
   "source": [
    "simulate_game(1, 0, [1,10,1], [1,1,10] ,NUM_OF_EXPIREMENTS)"
   ]
  },
  {
   "cell_type": "code",
   "execution_count": null,
   "metadata": {},
   "outputs": [],
   "source": [
    "simulate_game(1, 1, [10,1,1] , [1, 1, 10],NUM_OF_EXPIREMENTS)"
   ]
  },
  {
   "cell_type": "code",
   "execution_count": null,
   "metadata": {},
   "outputs": [],
   "source": [
    "simulate_game(1, 1, [1,10,1], [1,1,10] ,NUM_OF_EXPIREMENTS)"
   ]
  },
  {
   "cell_type": "code",
   "execution_count": null,
   "metadata": {},
   "outputs": [],
   "source": [
    "simulate_game(2, 1, [1,10,1], [1,1,10] ,NUM_OF_EXPIREMENTS)"
   ]
  },
  {
   "cell_type": "code",
   "execution_count": null,
   "metadata": {},
   "outputs": [],
   "source": [
    "simulate_game(1, 2, [10,1,1], [1,1,10] ,NUM_OF_EXPIREMENTS)"
   ]
  },
  {
   "cell_type": "code",
   "execution_count": null,
   "metadata": {},
   "outputs": [],
   "source": [
    "simulate_game(2, 2, [10,1,1], [1,1,10] ,NUM_OF_EXPIREMENTS)"
   ]
  },
  {
   "cell_type": "code",
   "execution_count": null,
   "metadata": {},
   "outputs": [],
   "source": [
    "simulate_game(2, 2, [1,10,1], [1,1,10] ,NUM_OF_EXPIREMENTS)"
   ]
  },
  {
   "cell_type": "code",
   "execution_count": null,
   "metadata": {},
   "outputs": [],
   "source": [
    "simulate_game(2, 0, [1,10,1], [1,1,10] ,NUM_OF_EXPIREMENTS)"
   ]
  },
  {
   "cell_type": "code",
   "execution_count": null,
   "metadata": {},
   "outputs": [],
   "source": [
    "simulate_game(0, 2, [10,1,1], [1,1,10] ,NUM_OF_EXPIREMENTS)"
   ]
  },
  {
   "cell_type": "code",
   "execution_count": null,
   "metadata": {},
   "outputs": [],
   "source": [
    "simulate_game(3, 0, [1,10,1], [1,1,10] ,NUM_OF_EXPIREMENTS)"
   ]
  },
  {
   "cell_type": "code",
   "execution_count": null,
   "metadata": {},
   "outputs": [],
   "source": [
    "simulate_game(0, 3, [10,1,1], [1,1,10] ,NUM_OF_EXPIREMENTS)"
   ]
  },
  {
   "cell_type": "code",
   "execution_count": null,
   "metadata": {},
   "outputs": [],
   "source": [
    "simulate_game(2, 3, [10,1,1], [1,1,10] ,NUM_OF_EXPIREMENTS)"
   ]
  },
  {
   "cell_type": "code",
   "execution_count": null,
   "metadata": {},
   "outputs": [],
   "source": [
    "simulate_game(3, 2, [1,10,1], [1,1,10] ,NUM_OF_EXPIREMENTS)"
   ]
  },
  {
   "cell_type": "code",
   "execution_count": null,
   "metadata": {},
   "outputs": [],
   "source": []
  },
  {
   "cell_type": "markdown",
   "metadata": {},
   "source": [
    "## Summery\n",
    "* The history overwrite the prior pretty fast when looking on history\n",
    "* when adding theory of mind from 0 to 1 the player succeed to exploit the inbalanced prior\n",
    "* when going towards higher depth's we see that the effect above not working anymore (but the result is going to Nash-EQ). need more expirments\n",
    "* we need to see how larger then 1 difference in theory of mind parameter affect the results\n",
    "\n",
    "TODO:\n",
    "* increase the num of rounds\n",
    "* adding more example with different levels of theory of mind (2,0) , (0, 2)"
   ]
  },
  {
   "cell_type": "code",
   "execution_count": null,
   "metadata": {},
   "outputs": [],
   "source": []
  }
 ],
 "metadata": {
  "kernelspec": {
   "display_name": "Julia 1.5.3",
   "language": "julia",
   "name": "julia-1.5"
  },
  "language_info": {
   "file_extension": ".jl",
   "mimetype": "application/julia",
   "name": "julia",
   "version": "1.5.3"
  }
 },
 "nbformat": 4,
 "nbformat_minor": 4
}
