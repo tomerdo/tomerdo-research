{
 "cells": [
  {
   "cell_type": "code",
   "execution_count": 7,
   "metadata": {},
   "outputs": [
    {
     "name": "stderr",
     "output_type": "stream",
     "text": [
      "┌ Info: Precompiling StatsPlots [f3b207a7-027a-5e70-b257-86293d7955fd]\n",
      "└ @ Base loading.jl:1278\n"
     ]
    }
   ],
   "source": [
    "# Import libraries.\n",
    "using Turing, StatsPlots, Random"
   ]
  },
  {
   "cell_type": "code",
   "execution_count": 101,
   "metadata": {},
   "outputs": [
    {
     "data": {
      "text/plain": [
       "agent (generic function with 6 methods)"
      ]
     },
     "execution_count": 101,
     "metadata": {},
     "output_type": "execute_result"
    }
   ],
   "source": [
    "# Declare our Turing model.\n",
    "@model function agent(other_agent, action, other_agents_depth=0, depth=0, discrete_sampler = PG, discrete_sampler_hyper_param=10, num_of_iterations=10)\n",
    "    if depth > 0 \n",
    "        opp_action_chain = sample(other_agent(agent, action, depth-1, other_agents_depth), discrete_sampler(discrete_sampler_hyper_param), num_of_iterations, progress=false);\n",
    "        opp_alpha_1 = mean(opp_action_chain[:\"alpha[1]\"])\n",
    "        opp_alpha_2 = mean(opp_action_chain[:\"alpha[2]\"])\n",
    "        opp_alpha_3 = 1 - opp_alpha_1 - opp_alpha_2\n",
    "        alpha ~ Dirichlet([opp_alpha_3, opp_alpha_1 , opp_alpha_2])\n",
    "    else\n",
    "        # Our prior belief about the probability of RPS.\n",
    "        alpha ~ Dirichlet(ones(3)/3)\n",
    "    end\n",
    "    action ~ Categorical(vec(alpha))\n",
    "    return action\n",
    "end"
   ]
  },
  {
   "cell_type": "code",
   "execution_count": 102,
   "metadata": {},
   "outputs": [
    {
     "data": {
      "text/plain": [
       "Chains MCMC chain (10×5×1 Array{Float64,3}):\n",
       "\n",
       "Log evidence      = -4.6426763145628485\n",
       "Iterations        = 1:10\n",
       "Thinning interval = 1\n",
       "Chains            = 1\n",
       "Samples per chain = 10\n",
       "parameters        = alpha[1], alpha[2], alpha[3]\n",
       "internals         = logevidence, lp\n",
       "\n",
       "Summary Statistics\n",
       " \u001b[1m parameters \u001b[0m \u001b[1m    mean \u001b[0m \u001b[1m     std \u001b[0m \u001b[1m naive_se \u001b[0m \u001b[1m    mcse \u001b[0m \u001b[1m     ess \u001b[0m \u001b[1m    rhat \u001b[0m\n",
       " \u001b[90m     Symbol \u001b[0m \u001b[90m Float64 \u001b[0m \u001b[90m Float64 \u001b[0m \u001b[90m  Float64 \u001b[0m \u001b[90m Missing \u001b[0m \u001b[90m Float64 \u001b[0m \u001b[90m Float64 \u001b[0m\n",
       "\n",
       "    alpha[1]    0.2390    0.3257     0.1030   missing    8.1888    1.0059\n",
       "    alpha[2]    0.4522    0.3783     0.1196   missing    7.4255    1.0009\n",
       "    alpha[3]    0.3089    0.3396     0.1074   missing   11.3177    0.8962\n",
       "\n",
       "Quantiles\n",
       " \u001b[1m parameters \u001b[0m \u001b[1m    2.5% \u001b[0m \u001b[1m   25.0% \u001b[0m \u001b[1m   50.0% \u001b[0m \u001b[1m   75.0% \u001b[0m \u001b[1m   97.5% \u001b[0m\n",
       " \u001b[90m     Symbol \u001b[0m \u001b[90m Float64 \u001b[0m \u001b[90m Float64 \u001b[0m \u001b[90m Float64 \u001b[0m \u001b[90m Float64 \u001b[0m \u001b[90m Float64 \u001b[0m\n",
       "\n",
       "    alpha[1]    0.0000    0.0019    0.0517    0.4138    0.8612\n",
       "    alpha[2]    0.0106    0.1562    0.3739    0.8190    0.9799\n",
       "    alpha[3]    0.0001    0.0389    0.1253    0.6155    0.8337\n"
      ]
     },
     "execution_count": 102,
     "metadata": {},
     "output_type": "execute_result"
    }
   ],
   "source": [
    "chain = sample(agent(agent, 1.0, 1, 1, PG, 10, 10), PG(1), 10 , progress = false);\n",
    "chain"
   ]
  }
 ],
 "metadata": {
  "kernelspec": {
   "display_name": "Julia 1.5.3",
   "language": "julia",
   "name": "julia-1.5"
  },
  "language_info": {
   "file_extension": ".jl",
   "mimetype": "application/julia",
   "name": "julia",
   "version": "1.5.3"
  }
 },
 "nbformat": 4,
 "nbformat_minor": 4
}
