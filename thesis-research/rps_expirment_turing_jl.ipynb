{
 "cells": [
  {
   "cell_type": "code",
   "execution_count": 7,
   "metadata": {},
   "outputs": [
    {
     "name": "stderr",
     "output_type": "stream",
     "text": [
      "┌ Info: Precompiling StatsPlots [f3b207a7-027a-5e70-b257-86293d7955fd]\n",
      "└ @ Base loading.jl:1278\n"
     ]
    }
   ],
   "source": [
    "# Import libraries.\n",
    "using Turing, StatsPlots, Random"
   ]
  },
  {
   "cell_type": "code",
   "execution_count": 23,
   "metadata": {},
   "outputs": [
    {
     "data": {
      "text/plain": [
       "rps_agent (generic function with 2 methods)"
      ]
     },
     "execution_count": 23,
     "metadata": {},
     "output_type": "execute_result"
    }
   ],
   "source": [
    "# Declare our Turing model.\n",
    "@model function rps_agent(action)\n",
    "    # Our prior belief about the probability of RPS.\n",
    "    alpha ~ Dirichlet(ones(3)/3)\n",
    "    action ~ Categorical(vec(alpha))\n",
    "    return action\n",
    "end"
   ]
  },
  {
   "cell_type": "code",
   "execution_count": 24,
   "metadata": {},
   "outputs": [
    {
     "name": "stderr",
     "output_type": "stream",
     "text": [
      "\u001b[32mSampling: 100%|█████████████████████████████████████████| Time: 0:00:00\u001b[39m\n"
     ]
    }
   ],
   "source": [
    "# Settings of the sampler.\n",
    "iterations = 1000\n",
    "\n",
    "# Start sampling.\n",
    "chain = sample(rps_agent(1.0), PG(10), iterations);"
   ]
  },
  {
   "cell_type": "code",
   "execution_count": 25,
   "metadata": {},
   "outputs": [
    {
     "data": {
      "text/plain": [
       "Chains MCMC chain (1000×5×1 Array{Float64,3}):\n",
       "\n",
       "Log evidence      = -1.1568848367219688\n",
       "Iterations        = 1:1000\n",
       "Thinning interval = 1\n",
       "Chains            = 1\n",
       "Samples per chain = 1000\n",
       "parameters        = alpha[1], alpha[2], alpha[3]\n",
       "internals         = logevidence, lp\n",
       "\n",
       "Summary Statistics\n",
       " \u001b[1m parameters \u001b[0m \u001b[1m    mean \u001b[0m \u001b[1m     std \u001b[0m \u001b[1m naive_se \u001b[0m \u001b[1m    mcse \u001b[0m \u001b[1m       ess \u001b[0m \u001b[1m    rhat \u001b[0m\n",
       " \u001b[90m     Symbol \u001b[0m \u001b[90m Float64 \u001b[0m \u001b[90m Float64 \u001b[0m \u001b[90m  Float64 \u001b[0m \u001b[90m Float64 \u001b[0m \u001b[90m   Float64 \u001b[0m \u001b[90m Float64 \u001b[0m\n",
       "\n",
       "    alpha[1]    0.6392    0.2827     0.0089    0.0089    955.7900    0.9995\n",
       "    alpha[2]    0.1841    0.2293     0.0073    0.0094   1072.2105    0.9991\n",
       "    alpha[3]    0.1768    0.2245     0.0071    0.0085   1032.3805    0.9994\n",
       "\n",
       "Quantiles\n",
       " \u001b[1m parameters \u001b[0m \u001b[1m    2.5% \u001b[0m \u001b[1m   25.0% \u001b[0m \u001b[1m   50.0% \u001b[0m \u001b[1m   75.0% \u001b[0m \u001b[1m   97.5% \u001b[0m\n",
       " \u001b[90m     Symbol \u001b[0m \u001b[90m Float64 \u001b[0m \u001b[90m Float64 \u001b[0m \u001b[90m Float64 \u001b[0m \u001b[90m Float64 \u001b[0m \u001b[90m Float64 \u001b[0m\n",
       "\n",
       "    alpha[1]    0.0687    0.4259    0.6959    0.8894    0.9970\n",
       "    alpha[2]    0.0000    0.0100    0.0733    0.2947    0.7715\n",
       "    alpha[3]    0.0000    0.0085    0.0774    0.2635    0.8083\n"
      ]
     },
     "execution_count": 25,
     "metadata": {},
     "output_type": "execute_result"
    }
   ],
   "source": [
    "chain"
   ]
  },
  {
   "cell_type": "code",
   "execution_count": 36,
   "metadata": {},
   "outputs": [
    {
     "data": {
      "text/plain": [
       "rps_agent2 (generic function with 1 method)"
      ]
     },
     "execution_count": 36,
     "metadata": {},
     "output_type": "execute_result"
    }
   ],
   "source": [
    "# Declare our Turing model.\n",
    "@model function rps_agent2(agent1, action)\n",
    "    # Our prior belief about the probability of RPS.\n",
    "    alpha ~ Dirichlet(ones(3)/3)\n",
    "    action ~ Categorical(vec(alpha))\n",
    "    opp_action = sample(agent1(action), PG(10), 10);\n",
    "    return action\n",
    "end"
   ]
  },
  {
   "cell_type": "code",
   "execution_count": 37,
   "metadata": {},
   "outputs": [
    {
     "data": {
      "text/plain": [
       "DynamicPPL.Model{var\"#19#20\",(:agent1, :action),(),(),Tuple{typeof(rps_agent),Int64},Tuple{}}(:rps_agent2, var\"#19#20\"(), (agent1 = rps_agent, action = 1), NamedTuple())"
      ]
     },
     "execution_count": 37,
     "metadata": {},
     "output_type": "execute_result"
    }
   ],
   "source": [
    "rps_agent2(rps_agent, 1)"
   ]
  },
  {
   "cell_type": "code",
   "execution_count": 38,
   "metadata": {},
   "outputs": [
    {
     "name": "stderr",
     "output_type": "stream",
     "text": [
      "\u001b[32mSampling: 100%|█████████████████████████████████████████| Time: 0:00:00\u001b[39m\n"
     ]
    }
   ],
   "source": [
    "chain = sample(rps_agent2(rps_agent, 1.0), PG(10), 10);"
   ]
  },
  {
   "cell_type": "code",
   "execution_count": 39,
   "metadata": {},
   "outputs": [
    {
     "data": {
      "text/plain": [
       "Chains MCMC chain (10×5×1 Array{Float64,3}):\n",
       "\n",
       "Log evidence      = -1.0383018851051466\n",
       "Iterations        = 1:10\n",
       "Thinning interval = 1\n",
       "Chains            = 1\n",
       "Samples per chain = 10\n",
       "parameters        = alpha[1], alpha[2], alpha[3]\n",
       "internals         = logevidence, lp\n",
       "\n",
       "Summary Statistics\n",
       " \u001b[1m parameters \u001b[0m \u001b[1m    mean \u001b[0m \u001b[1m     std \u001b[0m \u001b[1m naive_se \u001b[0m \u001b[1m    mcse \u001b[0m \u001b[1m       ess \u001b[0m \u001b[1m    rhat \u001b[0m\n",
       " \u001b[90m     Symbol \u001b[0m \u001b[90m Float64 \u001b[0m \u001b[90m Float64 \u001b[0m \u001b[90m  Float64 \u001b[0m \u001b[90m Missing \u001b[0m \u001b[90m   Float64 \u001b[0m \u001b[90m Float64 \u001b[0m\n",
       "\n",
       "    alpha[1]    0.4696    0.3413     0.1079   missing    -69.1831    0.9359\n",
       "    alpha[2]    0.2689    0.2957     0.0935   missing      4.5290    1.1888\n",
       "    alpha[3]    0.2614    0.3383     0.1070   missing   -128.7490    0.9500\n",
       "\n",
       "Quantiles\n",
       " \u001b[1m parameters \u001b[0m \u001b[1m    2.5% \u001b[0m \u001b[1m   25.0% \u001b[0m \u001b[1m   50.0% \u001b[0m \u001b[1m   75.0% \u001b[0m \u001b[1m   97.5% \u001b[0m\n",
       " \u001b[90m     Symbol \u001b[0m \u001b[90m Float64 \u001b[0m \u001b[90m Float64 \u001b[0m \u001b[90m Float64 \u001b[0m \u001b[90m Float64 \u001b[0m \u001b[90m Float64 \u001b[0m\n",
       "\n",
       "    alpha[1]    0.0383    0.1803    0.4361    0.7600    0.9361\n",
       "    alpha[2]    0.0090    0.0567    0.1294    0.4894    0.7772\n",
       "    alpha[3]    0.0012    0.0070    0.0952    0.4666    0.8577\n"
      ]
     },
     "execution_count": 39,
     "metadata": {},
     "output_type": "execute_result"
    }
   ],
   "source": [
    "chain"
   ]
  },
  {
   "cell_type": "code",
   "execution_count": 46,
   "metadata": {},
   "outputs": [
    {
     "data": {
      "text/plain": [
       "agent (generic function with 6 methods)"
      ]
     },
     "execution_count": 46,
     "metadata": {},
     "output_type": "execute_result"
    }
   ],
   "source": [
    "# Declare our Turing model.\n",
    "@model function agent(other_agent, action, other_agents_depth=0, depth=0, discrete_sampler = PG, discrete_sampler_hyper_param=10, num_of_iterations=10)\n",
    "    # Our prior belief about the probability of RPS.\n",
    "    alpha ~ Dirichlet(ones(3)/3)\n",
    "    if depth > 0 \n",
    "        opp_action = sample(other_agent(agent, action, depth-1, other_agents_depth), discrete_sampler(discrete_sampler_hyper_param), num_of_iterations);\n",
    "    end\n",
    "    action ~ Categorical(vec(alpha))\n",
    "    return action\n",
    "end"
   ]
  },
  {
   "cell_type": "code",
   "execution_count": 47,
   "metadata": {},
   "outputs": [
    {
     "name": "stderr",
     "output_type": "stream",
     "text": [
      "\u001b[32mSampling: 100%|█████████████████████████████████████████| Time: 0:00:00\u001b[39m\n"
     ]
    }
   ],
   "source": [
    "chain = sample(agent(agent, 1.0), PG(10), 10);"
   ]
  },
  {
   "cell_type": "code",
   "execution_count": 48,
   "metadata": {},
   "outputs": [
    {
     "data": {
      "text/plain": [
       "Chains MCMC chain (10×5×1 Array{Float64,3}):\n",
       "\n",
       "Log evidence      = -1.1091171317987318\n",
       "Iterations        = 1:10\n",
       "Thinning interval = 1\n",
       "Chains            = 1\n",
       "Samples per chain = 10\n",
       "parameters        = alpha[1], alpha[2], alpha[3]\n",
       "internals         = logevidence, lp\n",
       "\n",
       "Summary Statistics\n",
       " \u001b[1m parameters \u001b[0m \u001b[1m    mean \u001b[0m \u001b[1m     std \u001b[0m \u001b[1m naive_se \u001b[0m \u001b[1m    mcse \u001b[0m \u001b[1m      ess \u001b[0m \u001b[1m    rhat \u001b[0m\n",
       " \u001b[90m     Symbol \u001b[0m \u001b[90m Float64 \u001b[0m \u001b[90m Float64 \u001b[0m \u001b[90m  Float64 \u001b[0m \u001b[90m Missing \u001b[0m \u001b[90m  Float64 \u001b[0m \u001b[90m Float64 \u001b[0m\n",
       "\n",
       "    alpha[1]    0.7423    0.2406     0.0761   missing    27.5690    0.9040\n",
       "    alpha[2]    0.0756    0.0771     0.0244   missing   -22.8194    0.8966\n",
       "    alpha[3]    0.1821    0.2228     0.0705   missing    14.4741    0.9094\n",
       "\n",
       "Quantiles\n",
       " \u001b[1m parameters \u001b[0m \u001b[1m    2.5% \u001b[0m \u001b[1m   25.0% \u001b[0m \u001b[1m   50.0% \u001b[0m \u001b[1m   75.0% \u001b[0m \u001b[1m   97.5% \u001b[0m\n",
       " \u001b[90m     Symbol \u001b[0m \u001b[90m Float64 \u001b[0m \u001b[90m Float64 \u001b[0m \u001b[90m Float64 \u001b[0m \u001b[90m Float64 \u001b[0m \u001b[90m Float64 \u001b[0m\n",
       "\n",
       "    alpha[1]    0.3494    0.6076    0.7850    0.9410    0.9951\n",
       "    alpha[2]    0.0020    0.0245    0.0566    0.0865    0.2259\n",
       "    alpha[3]    0.0002    0.0075    0.0712    0.3289    0.5843\n"
      ]
     },
     "execution_count": 48,
     "metadata": {},
     "output_type": "execute_result"
    }
   ],
   "source": [
    "chain"
   ]
  },
  {
   "cell_type": "code",
   "execution_count": 72,
   "metadata": {},
   "outputs": [
    {
     "name": "stderr",
     "output_type": "stream",
     "text": [
      "\u001b[32mSampling: 100%|█████████████████████████████████████████| Time: 0:00:00\u001b[39m\n",
      "\u001b[32mSampling: 100%|█████████████████████████████████████████| Time: 0:00:00\u001b[39m\n",
      "\u001b[34mSampling: 100%|█████████████████████████████████████████| Time: 0:00:00\u001b[39m\n",
      "\u001b[34mSampling: 100%|█████████████████████████████████████████| Time: 0:00:00\u001b[39m\n",
      "\u001b[34mSampling: 100%|█████████████████████████████████████████| Time: 0:00:00\u001b[39m\n",
      "\u001b[34mSampling: 100%|█████████████████████████████████████████| Time: 0:00:00\u001b[39m\n",
      "\u001b[34mSampling: 100%|█████████████████████████████████████████| Time: 0:00:00\u001b[39m\n",
      "\u001b[34mSampling: 100%|█████████████████████████████████████████| Time: 0:00:00\u001b[39m\n",
      "\u001b[34mSampling: 100%|█████████████████████████████████████████| Time: 0:00:00\u001b[39m\n",
      "\u001b[34mSampling: 100%|█████████████████████████████████████████| Time: 0:00:00\u001b[39m\n",
      "\u001b[34mSampling: 100%|█████████████████████████████████████████| Time: 0:00:00\u001b[39m\n",
      "\u001b[32mSampling: 100%|█████████████████████████████████████████| Time: 0:00:06\u001b[39m\n"
     ]
    }
   ],
   "source": [
    "chain = sample(agent(agent, 1.0, 1, 1, PG, 10, 10), PG(1), 10);"
   ]
  },
  {
   "cell_type": "code",
   "execution_count": 73,
   "metadata": {},
   "outputs": [
    {
     "data": {
      "text/plain": [
       "Chains MCMC chain (10×5×1 Array{Float64,3}):\n",
       "\n",
       "Log evidence      = -2.192487260729494\n",
       "Iterations        = 1:10\n",
       "Thinning interval = 1\n",
       "Chains            = 1\n",
       "Samples per chain = 10\n",
       "parameters        = alpha[1], alpha[2], alpha[3]\n",
       "internals         = logevidence, lp\n",
       "\n",
       "Summary Statistics\n",
       " \u001b[1m parameters \u001b[0m \u001b[1m    mean \u001b[0m \u001b[1m     std \u001b[0m \u001b[1m naive_se \u001b[0m \u001b[1m    mcse \u001b[0m \u001b[1m      ess \u001b[0m \u001b[1m    rhat \u001b[0m\n",
       " \u001b[90m     Symbol \u001b[0m \u001b[90m Float64 \u001b[0m \u001b[90m Float64 \u001b[0m \u001b[90m  Float64 \u001b[0m \u001b[90m Missing \u001b[0m \u001b[90m  Float64 \u001b[0m \u001b[90m Float64 \u001b[0m\n",
       "\n",
       "    alpha[1]    0.3184    0.3164     0.1001   missing   -34.5372    0.9134\n",
       "    alpha[2]    0.3656    0.3608     0.1141   missing     9.6475    1.0854\n",
       "    alpha[3]    0.3159    0.3111     0.0984   missing     7.1931    1.0188\n",
       "\n",
       "Quantiles\n",
       " \u001b[1m parameters \u001b[0m \u001b[1m    2.5% \u001b[0m \u001b[1m   25.0% \u001b[0m \u001b[1m   50.0% \u001b[0m \u001b[1m   75.0% \u001b[0m \u001b[1m   97.5% \u001b[0m\n",
       " \u001b[90m     Symbol \u001b[0m \u001b[90m Float64 \u001b[0m \u001b[90m Float64 \u001b[0m \u001b[90m Float64 \u001b[0m \u001b[90m Float64 \u001b[0m \u001b[90m Float64 \u001b[0m\n",
       "\n",
       "    alpha[1]    0.0019    0.0905    0.2417    0.4061    0.9000\n",
       "    alpha[2]    0.0108    0.0432    0.2532    0.6832    0.9338\n",
       "    alpha[3]    0.0011    0.0296    0.2469    0.5647    0.7976\n"
      ]
     },
     "execution_count": 73,
     "metadata": {},
     "output_type": "execute_result"
    }
   ],
   "source": [
    "chain"
   ]
  },
  {
   "cell_type": "code",
   "execution_count": 74,
   "metadata": {},
   "outputs": [
    {
     "data": {
      "text/plain": [
       "2-dimensional AxisArray{Float64,2,...} with axes:\n",
       "    :iter, 1:1:10\n",
       "    :chain, 1:1\n",
       "And data, a 10×1 Array{Float64,2}:\n",
       " 0.0009246402037742542\n",
       " 0.23180987127175853\n",
       " 0.3779121639059845\n",
       " 0.7589982256345258\n",
       " 0.005106611984183574\n",
       " 0.2515607406398114\n",
       " 0.9409139622121607\n",
       " 0.08025311206660969\n",
       " 0.4155011826260939\n",
       " 0.12135360869896437"
      ]
     },
     "execution_count": 74,
     "metadata": {},
     "output_type": "execute_result"
    }
   ],
   "source": [
    "mean(chain[:\"alpha[1]\"])"
   ]
  },
  {
   "cell_type": "code",
   "execution_count": null,
   "metadata": {},
   "outputs": [],
   "source": []
  }
 ],
 "metadata": {
  "kernelspec": {
   "display_name": "Julia 1.5.3",
   "language": "julia",
   "name": "julia-1.5"
  },
  "language_info": {
   "file_extension": ".jl",
   "mimetype": "application/julia",
   "name": "julia",
   "version": "1.5.3"
  }
 },
 "nbformat": 4,
 "nbformat_minor": 4
}
