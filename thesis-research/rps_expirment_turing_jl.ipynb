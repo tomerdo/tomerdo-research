{
 "cells": [
  {
   "cell_type": "code",
   "execution_count": 251,
   "metadata": {},
   "outputs": [],
   "source": [
    "# Import libraries.\n",
    "using Turing, StatsPlots, Random"
   ]
  },
  {
   "cell_type": "markdown",
   "metadata": {},
   "source": [
    "### model\n",
    "1) prior on opponents <br>\n",
    "2) history <br>\n",
    "3) observation - history + prior => postrior <br> \n",
    "4) counter policy - 1) beating the next round 2) confuse the opponent (noise) <br>\n",
    "5) depth > 0 -> no history <br>\n",
    "6) sample action from the counter policy<br>\n",
    "7) optimal noise parameter <br>\n",
    "8) implment Bob and Alice <br>\n",
    "9) conditioning as rejection sampling"
   ]
  },
  {
   "cell_type": "code",
   "execution_count": 252,
   "metadata": {},
   "outputs": [
    {
     "data": {
      "text/plain": [
       "compute_counter_policy (generic function with 2 methods)"
      ]
     },
     "execution_count": 252,
     "metadata": {},
     "output_type": "execute_result"
    }
   ],
   "source": [
    "function compute_counter_policy(opp_next_move)\n",
    "    counter_move_dict = Dict(1 => 2, 2 => 3, 3 => 1)\n",
    "    counter_move = counter_move_dict[opp_next_move]\n",
    "    policy = ones(3) / 20\n",
    "    policy[counter_move] = 0.9\n",
    "    return policy\n",
    "end"
   ]
  },
  {
   "cell_type": "code",
   "execution_count": 253,
   "metadata": {},
   "outputs": [
    {
     "data": {
      "text/plain": [
       "compute_counter_policy (generic function with 2 methods)"
      ]
     },
     "execution_count": 253,
     "metadata": {},
     "output_type": "execute_result"
    }
   ],
   "source": [
    "function compute_counter_policy(opp_alpha_1, opp_alpha_2, opp_alpha_3)\n",
    "    normalize_factor = opp_alpha_1 + opp_alpha_2 + opp_alpha_3\n",
    "    return [opp_alpha_3 / normalize_factor, opp_alpha_1 / normalize_factor, opp_alpha_2 / normalize_factor]\n",
    "end"
   ]
  },
  {
   "cell_type": "code",
   "execution_count": 254,
   "metadata": {},
   "outputs": [
    {
     "data": {
      "text/plain": [
       "compute_distribution_from_history (generic function with 1 method)"
      ]
     },
     "execution_count": 254,
     "metadata": {},
     "output_type": "execute_result"
    }
   ],
   "source": [
    "function compute_distribution_from_history(actions_history)\n",
    "    count = Dict(1 => 1, 2 => 1, 3 => 1)\n",
    "    for i in 1:(length(actions_history)-1)\n",
    "        opponent_action = actions_history[i]\n",
    "        count[opponent_action] = count[opponent_action] + 1\n",
    "    end\n",
    "    return [v for (k,v) in count]\n",
    "end"
   ]
  },
  {
   "cell_type": "code",
   "execution_count": 255,
   "metadata": {},
   "outputs": [
    {
     "data": {
      "text/plain": [
       "agent (generic function with 5 methods)"
      ]
     },
     "execution_count": 255,
     "metadata": {},
     "output_type": "execute_result"
    }
   ],
   "source": [
    "@model function agent(opponent_agent, my_history, opponent_history, depth = 0, discrete_sampler = PG, discrete_sampler_hyper_param=1, num_of_iterations=1)\n",
    "        if depth == 0\n",
    "            opponent_history_distribution = compute_distribution_from_history(opponent_history)\n",
    "            opp_alpha_1, opp_alpha_2, opp_alpha_3 = opponent_history_distribution\n",
    "            counter_policy = TArray(compute_counter_policy(opp_alpha_1, opp_alpha_2, opp_alpha_3))\n",
    "        else\n",
    "            opp_action_chain = sample(opponent_agent(agent, opponent_history, my_history, depth-1), discrete_sampler(discrete_sampler_hyper_param), num_of_iterations, progress=true);\n",
    "            opp_next_move = round(Int64, mean(opp_action_chain[:\"next_move\"]))\n",
    "            counter_policy = TArray(compute_counter_policy(opp_next_move))\n",
    "        end\n",
    "        next_move ~ Categorical(counter_policy)\n",
    "        return round(Int64, next_move)\n",
    "end"
   ]
  },
  {
   "cell_type": "code",
   "execution_count": 256,
   "metadata": {},
   "outputs": [
    {
     "name": "stderr",
     "output_type": "stream",
     "text": [
      "\u001b[32mSampling: 100%|█████████████████████████████████████████| Time: 0:00:03\u001b[39m\n"
     ]
    },
    {
     "data": {
      "text/plain": [
       "2-dimensional AxisArray{Float64,2,...} with axes:\n",
       "    :iter, 1:1:10\n",
       "    :chain, 1:1\n",
       "And data, a 10×1 Array{Float64,2}:\n",
       " 2.0\n",
       " 2.0\n",
       " 2.0\n",
       " 3.0\n",
       " 2.0\n",
       " 2.0\n",
       " 2.0\n",
       " 3.0\n",
       " 2.0\n",
       " 2.0"
      ]
     },
     "execution_count": 256,
     "metadata": {},
     "output_type": "execute_result"
    }
   ],
   "source": [
    "chain = sample(agent(agent, ones(10) , 2* ones(10), 7), PG(10), 10 , progress = true)\n",
    "chain[:\"next_move\"]"
   ]
  },
  {
   "cell_type": "code",
   "execution_count": 257,
   "metadata": {},
   "outputs": [
    {
     "data": {
      "text/plain": [
       "maximum_likelihood_action (generic function with 1 method)"
      ]
     },
     "execution_count": 257,
     "metadata": {},
     "output_type": "execute_result"
    }
   ],
   "source": [
    "function maximum_likelihood_action(list_of_pairs)\n",
    "    max_key = -1\n",
    "    max_value = -1\n",
    "    for element in list_of_pairs\n",
    "        key = element[1]\n",
    "        value = element[2]\n",
    "        if value > max_value\n",
    "            max_value = value\n",
    "            max_key = key\n",
    "        end\n",
    "    end\n",
    "    return (max_key, max_value)\n",
    "end"
   ]
  },
  {
   "cell_type": "code",
   "execution_count": 258,
   "metadata": {},
   "outputs": [
    {
     "data": {
      "text/plain": [
       "most_common (generic function with 1 method)"
      ]
     },
     "execution_count": 258,
     "metadata": {},
     "output_type": "execute_result"
    }
   ],
   "source": [
    "function most_common(samples)\n",
    "    count = Dict(1 => 0, 2 => 0, 3 => 0)\n",
    "    for i in 1:length(samples)\n",
    "        count[samples[i]] += 1\n",
    "    end\n",
    "    max_k, max_v = -1 , -1\n",
    "    for (k, v) in count\n",
    "        if v > max_v\n",
    "            max_k , max_v = k, v\n",
    "        end\n",
    "    end\n",
    "    return max_k\n",
    "end"
   ]
  },
  {
   "cell_type": "code",
   "execution_count": 259,
   "metadata": {},
   "outputs": [
    {
     "data": {
      "text/plain": [
       "move (generic function with 6 methods)"
      ]
     },
     "execution_count": 259,
     "metadata": {},
     "output_type": "execute_result"
    }
   ],
   "source": [
    "function move(agent, other_agent, my_history, other_agent_history, my_depth=1)\n",
    "    other_agent_history = length(other_agent_history) > 0 ? other_agent_history : [1]\n",
    "    my_history = length(my_history) > 0 ? my_history : [1]\n",
    "    my_history = Array{Int}(my_history)\n",
    "    other_agent_history = Array{Int}(other_agent_history)\n",
    "    chain = sample(agent(other_agent, my_history, other_agent_history, my_depth), PG(3), 3, progress = true)\n",
    "    return most_common(chain[:\"next_move\"])\n",
    "end"
   ]
  },
  {
   "cell_type": "code",
   "execution_count": 260,
   "metadata": {},
   "outputs": [
    {
     "data": {
      "text/plain": [
       "3"
      ]
     },
     "execution_count": 260,
     "metadata": {},
     "output_type": "execute_result"
    }
   ],
   "source": [
    "most_common([3.0])"
   ]
  },
  {
   "cell_type": "code",
   "execution_count": 261,
   "metadata": {},
   "outputs": [
    {
     "name": "stdout",
     "output_type": "stream",
     "text": [
      "[1, 2]\n",
      "[2, 3]\n"
     ]
    },
    {
     "name": "stderr",
     "output_type": "stream",
     "text": [
      "\u001b[32mSampling: 100%|█████████████████████████████████████████| Time: 0:00:00\u001b[39m\n"
     ]
    },
    {
     "name": "stdout",
     "output_type": "stream",
     "text": [
      "[1, 2, 3]\n",
      "[2, 3, 2]\n",
      "[1, 2, 2, 1]\n",
      "[2, 3, 2, 3]\n"
     ]
    },
    {
     "data": {
      "text/plain": [
       "2"
      ]
     },
     "execution_count": 261,
     "metadata": {},
     "output_type": "execute_result"
    }
   ],
   "source": [
    "move(agent, agent, [1, 2], [2 , 3])\n",
    "move(agent, agent, [1, 2, 3], [2 , 3, 2])\n",
    "move(agent, agent, [1, 2, 2, 1], [2 , 3, 2, 3])"
   ]
  },
  {
   "cell_type": "code",
   "execution_count": 262,
   "metadata": {},
   "outputs": [
    {
     "data": {
      "text/plain": [
       "game (generic function with 1 method)"
      ]
     },
     "execution_count": 262,
     "metadata": {},
     "output_type": "execute_result"
    }
   ],
   "source": [
    "function game()\n",
    "    first_player = agent\n",
    "    second_player = agent\n",
    "    num_of_simulations = 10\n",
    "    first_player_history = []\n",
    "    second_player_history = []\n",
    "    first_player_depth = 2\n",
    "    second_player_depth = 2\n",
    "    for i in 1:num_of_simulations\n",
    "        m1 = move(first_player, second_player, first_player_history, second_player_history, first_player_depth)\n",
    "        println(\"player1 choose $m1\")\n",
    "        push!(first_player_history, m1)\n",
    "        m2 = move(second_player, first_player, second_player_history, first_player_history, second_player_depth)\n",
    "        println(\"player2 choose $m2\")\n",
    "        push!(second_player_history, m2)\n",
    "        println(\"in simulation $i first player chose $m1 second player chose $m2\")\n",
    "    end\n",
    "    return first_player_history, second_player_history\n",
    " end"
   ]
  },
  {
   "cell_type": "code",
   "execution_count": 263,
   "metadata": {},
   "outputs": [
    {
     "data": {
      "text/plain": [
       "score (generic function with 2 methods)"
      ]
     },
     "execution_count": 263,
     "metadata": {},
     "output_type": "execute_result"
    }
   ],
   "source": [
    "function score(history)\n",
    "    first_player_history, second_player_history = history\n",
    "    first_wins = 0\n",
    "    ties = 0\n",
    "    second_wins = 0\n",
    "    wins = Dict(1 => 2, 2 => 3, 3 => 1)\n",
    "    for i in 1:length(first_player_history)\n",
    "        if wins[first_player_history[i]] == second_player_history[i]\n",
    "            first_wins += 1\n",
    "        elseif wins[second_player_history[i]] == first_player_history[i]\n",
    "            second_wins += 1\n",
    "        else\n",
    "            ties += 1\n",
    "        end\n",
    "    end\n",
    "    return first_wins, ties, second_wins\n",
    "end"
   ]
  },
  {
   "cell_type": "code",
   "execution_count": 264,
   "metadata": {},
   "outputs": [
    {
     "data": {
      "text/plain": [
       "display_score (generic function with 2 methods)"
      ]
     },
     "execution_count": 264,
     "metadata": {},
     "output_type": "execute_result"
    }
   ],
   "source": [
    "function display_score(score)\n",
    "    num_of_wins_first, num_of_ties, num_of_wins_second = score\n",
    "    println(\"first player won: $num_of_wins_first\")\n",
    "    println(\"second player won: $num_of_wins_second\") \n",
    "    println(\"ties: $num_of_ties\") \n",
    "end"
   ]
  },
  {
   "cell_type": "code",
   "execution_count": 265,
   "metadata": {},
   "outputs": [
    {
     "name": "stdout",
     "output_type": "stream",
     "text": [
      "player1 choose 1\n",
      "player2 choose 1\n",
      "in simulation 1 first player chose 1 second player chose 1\n",
      "player1 choose 2\n",
      "player2 choose 2\n",
      "in simulation 2 first player chose 2 second player chose 2\n",
      "player1 choose 3\n",
      "player2 choose 2\n",
      "in simulation 3 first player chose 3 second player chose 2\n",
      "player1 choose 3\n",
      "player2 choose 2\n",
      "in simulation 4 first player chose 3 second player chose 2\n",
      "player1 choose 1\n",
      "player2 choose 2\n",
      "in simulation 5 first player chose 1 second player chose 2\n",
      "player1 choose 2\n",
      "player2 choose 2\n",
      "in simulation 6 first player chose 2 second player chose 2\n",
      "player1 choose 1\n",
      "player2 choose 3\n",
      "in simulation 7 first player chose 1 second player chose 3\n",
      "player1 choose 3\n",
      "player2 choose 3\n",
      "in simulation 8 first player chose 3 second player chose 3\n",
      "player1 choose 1\n",
      "player2 choose 1\n",
      "in simulation 9 first player chose 1 second player chose 1\n",
      "player1 choose 2\n",
      "player2 choose 1\n",
      "in simulation 10 first player chose 2 second player chose 1\n",
      "first player won: 1\n",
      "second player won: 4\n",
      "ties: 5\n"
     ]
    }
   ],
   "source": [
    "display_score(score(game()))"
   ]
  },
  {
   "cell_type": "code",
   "execution_count": null,
   "metadata": {},
   "outputs": [],
   "source": []
  }
 ],
 "metadata": {
  "kernelspec": {
   "display_name": "Julia 1.5.3",
   "language": "julia",
   "name": "julia-1.5"
  },
  "language_info": {
   "file_extension": ".jl",
   "mimetype": "application/julia",
   "name": "julia",
   "version": "1.5.3"
  }
 },
 "nbformat": 4,
 "nbformat_minor": 4
}
