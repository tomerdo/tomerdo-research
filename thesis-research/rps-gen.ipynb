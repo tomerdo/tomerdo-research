{
 "cells": [
  {
   "cell_type": "code",
   "execution_count": 2,
   "metadata": {},
   "outputs": [],
   "source": [
    "using Gen, StatsFuns, StatsPlots"
   ]
  },
  {
   "cell_type": "code",
   "execution_count": 3,
   "metadata": {},
   "outputs": [],
   "source": [
    "begin\n",
    "\tROCK = 1\n",
    "\tPAPER = 2\n",
    "\tSCISSORS = 3\n",
    "\t\n",
    "\t\"returns the reward of player a\"\n",
    "\tfunction reward(choice_a, choice_b)\n",
    "\t\treward = 0\n",
    "\t\tif choice_a != choice_b \n",
    "\t\t\treward = 1\n",
    "\t\t\tif choice_a < choice_b \n",
    "\t\t\t\tchoice_a, choice_b = choice_b, choice_a\n",
    "\t\t\t\treward = -reward\n",
    "\t\t\tend\n",
    "\t\t\tif choice_a == SCISSORS && choice_b == ROCK\n",
    "\t\t\t\treward = -reward\n",
    "\t\t\tend\n",
    "\t\tend\n",
    "\t\treward\n",
    "\tend\n",
    "\t\n",
    "\t@assert reward(ROCK, ROCK)==0\n",
    "\t@assert reward(ROCK, PAPER)==-1\n",
    "\t@assert reward(PAPER, ROCK)==1\n",
    "\t@assert reward(ROCK, SCISSORS)==1\n",
    "\t@assert reward(PAPER, SCISSORS)==-1\n",
    "end"
   ]
  },
  {
   "cell_type": "code",
   "execution_count": 4,
   "metadata": {},
   "outputs": [],
   "source": [
    "\"draw preference vector (Gen does not have Dirichlet)\"\n",
    "@gen function pref(alpha)\n",
    "\tpref = Vector{Float64}(undef, length(alpha))\n",
    "\tfor i = eachindex(alpha)\n",
    "\t\tpref[i] = @trace(gamma(alpha[i], 1), i)\n",
    "\tend\n",
    "\treturn pref ./ sum(pref)\n",
    "end;"
   ]
  },
  {
   "cell_type": "code",
   "execution_count": 5,
   "metadata": {},
   "outputs": [],
   "source": [
    "@gen function static_game(n, gamma=1, alpha_a=[1,1,1], alpha_b=[1,1,1])\n",
    "\tpref_a = @trace(pref(alpha_a), :pref_a)\n",
    "\tpref_b = @trace(pref(alpha_b), :pref_b)\n",
    "\tfor i = 1:n\n",
    "\t\t@trace(categorical(pref_a), (:choice_a, n-i+1))\n",
    "\t\t@trace(categorical(pref_b), (:choice_b, n-i+1))\n",
    "\tend\n",
    "\tchoice_a = @trace(categorical(pref_a), (:choice_a, 0))\n",
    "\tchoice_b = @trace(categorical(pref_b), (:choice_b, 0))\n",
    "\tscore = reward(choice_a, choice_b)\n",
    "\tp_a = logistic(gamma*score)\n",
    "\t@trace(bernoulli(p_a), :win_a)\n",
    "\treturn score\n",
    "end;"
   ]
  },
  {
   "cell_type": "code",
   "execution_count": 6,
   "metadata": {},
   "outputs": [
    {
     "data": {
      "text/plain": [
       "1"
      ]
     },
     "execution_count": 6,
     "metadata": {},
     "output_type": "execute_result"
    }
   ],
   "source": [
    "static_game(5)"
   ]
  },
  {
   "cell_type": "code",
   "execution_count": 7,
   "metadata": {},
   "outputs": [],
   "source": [
    "@gen function markov_game(n, m_a=1, m_b=1, gamma=1, alpha_a=[1,1,1], alpha_b=[1,1,1])\n",
    "\t# Last preferences (m is the stubbornness of each player)\n",
    "\tfor i = 1:m_a\n",
    "\t\t@trace(pref(alpha_a), (:pref_a_last, i))\n",
    "\tend\n",
    "\tfor i = 1:m_b\n",
    "\t\t@trace(pref(alpha_b), (:prev_b_last, i))\n",
    "\tend\n",
    "\t\n",
    "\t# Current preferences\n",
    "\tpref_a = @trace(pref(alpha_a), :pref_a)\n",
    "\tpref_b = @trace(pref(alpha_b), :pref_b)\n",
    "\n",
    "\t# Choices (TODO: theory of mind)\n",
    "\tchoice_a = @trace(categorical(pref_a), (:choice_a, 0))\n",
    "\tchoice_b = @trace(categorical(pref_b), (:choice_b, 0))\n",
    "\t\n",
    "\tscore = reward(choice_a, choice_b)\n",
    "\tp_a = logistic(gamma*score)\n",
    "\t@trace(bernoulli(p_a), :win_a)\n",
    "\t\n",
    "\treturn score\n",
    "end;"
   ]
  },
  {
   "cell_type": "code",
   "execution_count": 8,
   "metadata": {},
   "outputs": [
    {
     "data": {
      "text/plain": [
       "-1"
      ]
     },
     "execution_count": 8,
     "metadata": {},
     "output_type": "execute_result"
    }
   ],
   "source": [
    "markov_game(25)"
   ]
  },
  {
   "cell_type": "code",
   "execution_count": null,
   "metadata": {},
   "outputs": [],
   "source": []
  }
 ],
 "metadata": {
  "kernelspec": {
   "display_name": "Julia 1.5.3",
   "language": "julia",
   "name": "julia-1.5"
  },
  "language_info": {
   "file_extension": ".jl",
   "mimetype": "application/julia",
   "name": "julia",
   "version": "1.5.3"
  }
 },
 "nbformat": 4,
 "nbformat_minor": 4
}
