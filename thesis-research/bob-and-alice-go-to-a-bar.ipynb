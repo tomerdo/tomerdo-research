{
 "cells": [
  {
   "cell_type": "markdown",
   "metadata": {},
   "source": [
    "# Bob and Alice Go to a Bar"
   ]
  },
  {
   "cell_type": "markdown",
   "metadata": {},
   "source": [
    "## Problem\n",
    "\n",
    "Bob and Alice want to meet in a bar, but Bob left his phone at\n",
    "home. There are two bars, which Bob and Alice visit with\n",
    "different frequencies. Which bar Bob and Alice should head if\n",
    "they want to meet?"
   ]
  },
  {
   "cell_type": "code",
   "execution_count": 1,
   "metadata": {},
   "outputs": [],
   "source": [
    "using Plots, Gen, Memoize"
   ]
  },
  {
   "cell_type": "markdown",
   "metadata": {},
   "source": [
    "## Generative model \n",
    "\n",
    "Consider Alice's model (Bob's model is obtained by swapping 'Bob' and 'Alice').\n",
    "The optimal probability of Alice's choice with respect to the bars is given\n",
    "(observed with high confidence or proclaimed by an oracle). To\n",
    "complete the formulation, we also need to specify the probability\n",
    "of Alice choosing to visit the bar where Bob is heading, provided  Alice \n",
    "knows Bob's plans and\n",
    "would otherwise visit either bar with equal probability. This results in the following generative model:\n",
    "\n",
    "\\begin{equation}\n",
    "    \\begin{aligned}\n",
    "       \\mathbb{I}_{Bob}^1 & \\gets \\mathrm{Bernoulli}\\left(\\hat p_{Bob}^1\\right) \\\\\n",
    "       \\hline \n",
    "        \\mathbb{I}_{Alice}^1  & \\sim \\mathrm{Bernoulli}\\left(p_{Alice}^1\\right) \\\\\n",
    "        \\mathbb{I}_{Bob}^1  & \\sim \\mathrm{Bernoulli}\\left(\\mathbb{I}_{Alice}^1 p_{Alice}^m + \\left(1 - \\mathbb{I}_{Alice}^1\\right)\\left(1 - p_{Alice}^m\\right)\\right)\n",
    "    \\end{aligned}\n",
    "\\end{equation}\n",
    "\n",
    "## Stochastic conditioning\n",
    "\n",
    "The model is stochastically conditioned on the perceived distribution of Bob's choices.\n",
    "Gen does not support stochastic conditioning, hence we need to write down the formula for the joint probability explicitly.\n",
    "\n",
    "\\begin{equation}\n",
    "    \\log \\Pr\\left[\\mathbb{I}_{Alice}^1\\right] = \\begin{cases}\n",
    "                 \\log p_{Alice}^1 + \\hat p_{Bob}^1\\log p_{Alice}^m + \\left(1 - \\hat p_{Bob}^1\\right)\\log \\left(1 - p_{Alice}^m\\right) & \\text{if }\\mathbb{I}_{Alice}^1 \\\\\n",
    "        \\log \\left(1 - p_{Alice}^1\\right) + \\hat p_{Bob}^1\\log \\left(1 - p_{Alice}^m\\right) + \\left(1 - \\hat p_{Bob}^1\\right)\\log p_{Alice}^m & \\text{otherwise}\n",
    "\\end{cases}\n",
    "\\end{equation}\n",
    "\n",
    "\n"
   ]
  },
  {
   "cell_type": "code",
   "execution_count": 2,
   "metadata": {},
   "outputs": [],
   "source": [
    "struct Agent\n",
    "    name::String\n",
    "    p1::Real\n",
    "    pm::Real\n",
    "end;\n",
    "\n",
    "\"Computes conditional log-probability of agent's choice\"\n",
    "function logp(a::Agent, q::Real, I1::Bool)\n",
    "    if I1\n",
    "        q * log(a.pm) + (1 - q)*log(1 - a.pm)\n",
    "    else\n",
    "        q * log(1 - a.pm) + (1 - q)*log(a.pm)\n",
    "    end\n",
    "end;"
   ]
  },
  {
   "cell_type": "markdown",
   "metadata": {},
   "source": [
    "The Gen model implements the generative model of an agent. Stochastic conditioning is emulated by through closed-form computation of the log probability and factoring the trace (using the Bernoulli trick)."
   ]
  },
  {
   "cell_type": "markdown",
   "metadata": {},
   "source": [
    "## Gen Model and Inference"
   ]
  },
  {
   "cell_type": "code",
   "execution_count": 3,
   "metadata": {},
   "outputs": [],
   "source": [
    "@gen function model(me::Agent, buddy::Agent, depth::Int, niter::Int)\n",
    "    if depth > 0\n",
    "        J1s = run_model(buddy, me, depth-1, niter)\n",
    "        q = sum(J1s)/length(J1s)\n",
    "    else\n",
    "        q = 0.5\n",
    "    end\n",
    "    \n",
    "    I1 = @trace(bernoulli(me.p1), :I1)\n",
    "    \n",
    "    # Stochastic conditioning, emulated\n",
    "    @trace(bernoulli(exp(logp(me, q, I1))), :logp)\n",
    "end;"
   ]
  },
  {
   "cell_type": "markdown",
   "metadata": {},
   "source": [
    "Epistemic reasoning involves recusrive inference calls, with exponential time complexity in naive implementation. Memoizing the inference calls results in linear complexity in the deliberation depth."
   ]
  },
  {
   "cell_type": "code",
   "execution_count": 4,
   "metadata": {},
   "outputs": [],
   "source": [
    "@memoize function run_model(me::Agent, buddy::Agent, depth::Int, niter=1000)\n",
    "    observations = Gen.choicemap()\n",
    "    observations[:logp] = true\n",
    "\n",
    "    trace, _ = Gen.generate(model, (me, buddy, depth, niter), observations)\n",
    "    J1s = []\n",
    "    for i = 1:niter\n",
    "        trace, _ = Gen.mh(trace, select(:I1))\n",
    "        push!(J1s, get_choices(trace)[:I1])\n",
    "    end\n",
    "    return J1s\n",
    "end\n",
    "empty!(memoize_cache(run_model));"
   ]
  },
  {
   "cell_type": "markdown",
   "metadata": {},
   "source": [
    "Based on the model and inference, we can define an agent, representing either Alice or Bob."
   ]
  },
  {
   "cell_type": "code",
   "execution_count": 5,
   "metadata": {},
   "outputs": [],
   "source": [
    "function genagent(me, buddy, depth, niter=10000)\n",
    "    nburn = niter%10\n",
    "    I1s = run_model(me, buddy, depth, nburn + niter)[nburn+1:end]\n",
    "    return sum(I1s)/length(I1s)\n",
    "end;"
   ]
  },
  {
   "cell_type": "markdown",
   "metadata": {},
   "source": [
    "## Experiments\n",
    "\n",
    "We simulate interactions between Bob and Alice at different depths of epistemic reasoning."
   ]
  },
  {
   "cell_type": "code",
   "execution_count": 6,
   "metadata": {},
   "outputs": [
    {
     "data": {
      "text/plain": [
       "plot_p1 (generic function with 1 method)"
      ]
     },
     "execution_count": 6,
     "metadata": {},
     "output_type": "execute_result"
    }
   ],
   "source": [
    "function plot_p1(me, buddy; agent=genagent, at=\"gen\", n=10)\n",
    "    probs1 = [agent(me, buddy, i) for i in 0:n];\n",
    "    probs2 = [agent(buddy, me, i) for i in 0:n];\n",
    "    p = plot(probs1, xlabel=\"depth\", ylabel=\"p₁\", label=me.name, ylim=(0, 1))\n",
    "    plot!(p, probs2, label=buddy.name)\n",
    "    savefig(p, \"figures/ba-$at-$(me.p1)-$(me.pm)-$(buddy.p1)-$(buddy.pm).pdf\")\n",
    "    p\n",
    "end"
   ]
  },
  {
   "cell_type": "markdown",
   "metadata": {},
   "source": [
    "### Bob and Alice Want to Meet "
   ]
  },
  {
   "cell_type": "markdown",
   "metadata": {},
   "source": [
    "#### Bob and Alice Like the Same Bar\n",
    "\n",
    "When Bob and Alice have the same preferences, it is easy to coordinate."
   ]
  },
  {
   "cell_type": "code",
   "execution_count": 7,
   "metadata": {},
   "outputs": [
    {
     "ename": "LoadError",
     "evalue": "SystemError: opening file \"C:\\\\devl\\\\tomerdo-research\\\\thesis-research\\\\figures\\\\ba-gen-0.55-0.75-0.55-0.75.pdf\": No such file or directory",
     "output_type": "error",
     "traceback": [
      "SystemError: opening file \"C:\\\\devl\\\\tomerdo-research\\\\thesis-research\\\\figures\\\\ba-gen-0.55-0.75-0.55-0.75.pdf\": No such file or directory",
      "",
      "Stacktrace:",
      " [1] systemerror(::String, ::Int32; extrainfo::Nothing) at .\\error.jl:168",
      " [2] #systemerror#48 at .\\error.jl:167 [inlined]",
      " [3] systemerror at .\\error.jl:167 [inlined]",
      " [4] open(::String; lock::Bool, read::Nothing, write::Nothing, create::Nothing, truncate::Bool, append::Nothing) at .\\iostream.jl:284",
      " [5] open(::String, ::String; lock::Bool) at .\\iostream.jl:346",
      " [6] open at .\\iostream.jl:346 [inlined]",
      " [7] pdf(::Plots.Plot{Plots.GRBackend}, ::String) at C:\\Users\\tomer\\.julia\\packages\\Plots\\IjNHT\\src\\output.jl:22",
      " [8] savefig(::Plots.Plot{Plots.GRBackend}, ::String) at C:\\Users\\tomer\\.julia\\packages\\Plots\\IjNHT\\src\\output.jl:124",
      " [9] plot_p1(::Agent, ::Agent; agent::typeof(genagent), at::String, n::Int64) at .\\In[6]:6",
      " [10] plot_p1(::Agent, ::Agent) at .\\In[6]:2",
      " [11] top-level scope at In[7]:1",
      " [12] include_string(::Function, ::Module, ::String, ::String) at .\\loading.jl:1091"
     ]
    }
   ],
   "source": [
    "p = plot_p1(Agent(\"Alice\", 0.55, 0.75), Agent(\"Bob\", 0.55, 0.75))"
   ]
  },
  {
   "cell_type": "code",
   "execution_count": 8,
   "metadata": {},
   "outputs": [
    {
     "ename": "LoadError",
     "evalue": "SystemError: opening file \"C:\\\\devl\\\\tomerdo-research\\\\thesis-research\\\\figures\\\\ba-gen-0.55-0.9-0.55-0.9.pdf\": No such file or directory",
     "output_type": "error",
     "traceback": [
      "SystemError: opening file \"C:\\\\devl\\\\tomerdo-research\\\\thesis-research\\\\figures\\\\ba-gen-0.55-0.9-0.55-0.9.pdf\": No such file or directory",
      "",
      "Stacktrace:",
      " [1] systemerror(::String, ::Int32; extrainfo::Nothing) at .\\error.jl:168",
      " [2] #systemerror#48 at .\\error.jl:167 [inlined]",
      " [3] systemerror at .\\error.jl:167 [inlined]",
      " [4] open(::String; lock::Bool, read::Nothing, write::Nothing, create::Nothing, truncate::Bool, append::Nothing) at .\\iostream.jl:284",
      " [5] open(::String, ::String; lock::Bool) at .\\iostream.jl:346",
      " [6] open at .\\iostream.jl:346 [inlined]",
      " [7] pdf(::Plots.Plot{Plots.GRBackend}, ::String) at C:\\Users\\tomer\\.julia\\packages\\Plots\\IjNHT\\src\\output.jl:22",
      " [8] savefig(::Plots.Plot{Plots.GRBackend}, ::String) at C:\\Users\\tomer\\.julia\\packages\\Plots\\IjNHT\\src\\output.jl:124",
      " [9] plot_p1(::Agent, ::Agent; agent::typeof(genagent), at::String, n::Int64) at .\\In[6]:6",
      " [10] plot_p1(::Agent, ::Agent) at .\\In[6]:2",
      " [11] top-level scope at In[8]:1",
      " [12] include_string(::Function, ::Module, ::String, ::String) at .\\loading.jl:1091"
     ]
    }
   ],
   "source": [
    "plot_p1(Agent(\"Alice\", 0.55, 0.9), Agent(\"Bob\", 0.55, 0.9))"
   ]
  },
  {
   "cell_type": "markdown",
   "metadata": {},
   "source": [
    "#### Bob and Alice Like Different Bars\n",
    "\n",
    "When the bar preferences are exactly opposite, it is hard for Bob and Alice to meet."
   ]
  },
  {
   "cell_type": "code",
   "execution_count": 9,
   "metadata": {},
   "outputs": [
    {
     "ename": "LoadError",
     "evalue": "SystemError: opening file \"C:\\\\devl\\\\tomerdo-research\\\\thesis-research\\\\figures\\\\ba-gen-0.55-0.75-0.45-0.75.pdf\": No such file or directory",
     "output_type": "error",
     "traceback": [
      "SystemError: opening file \"C:\\\\devl\\\\tomerdo-research\\\\thesis-research\\\\figures\\\\ba-gen-0.55-0.75-0.45-0.75.pdf\": No such file or directory",
      "",
      "Stacktrace:",
      " [1] systemerror(::String, ::Int32; extrainfo::Nothing) at .\\error.jl:168",
      " [2] #systemerror#48 at .\\error.jl:167 [inlined]",
      " [3] systemerror at .\\error.jl:167 [inlined]",
      " [4] open(::String; lock::Bool, read::Nothing, write::Nothing, create::Nothing, truncate::Bool, append::Nothing) at .\\iostream.jl:284",
      " [5] open(::String, ::String; lock::Bool) at .\\iostream.jl:346",
      " [6] open at .\\iostream.jl:346 [inlined]",
      " [7] pdf(::Plots.Plot{Plots.GRBackend}, ::String) at C:\\Users\\tomer\\.julia\\packages\\Plots\\IjNHT\\src\\output.jl:22",
      " [8] savefig(::Plots.Plot{Plots.GRBackend}, ::String) at C:\\Users\\tomer\\.julia\\packages\\Plots\\IjNHT\\src\\output.jl:124",
      " [9] plot_p1(::Agent, ::Agent; agent::typeof(genagent), at::String, n::Int64) at .\\In[6]:6",
      " [10] plot_p1(::Agent, ::Agent) at .\\In[6]:2",
      " [11] top-level scope at In[9]:1",
      " [12] include_string(::Function, ::Module, ::String, ::String) at .\\loading.jl:1091"
     ]
    }
   ],
   "source": [
    "plot_p1(Agent(\"Alice\", 0.55, 0.75), Agent(\"Bob\", 0.45, 0.75))"
   ]
  },
  {
   "cell_type": "markdown",
   "metadata": {},
   "source": [
    "However, when ties are broken, deliberation helps."
   ]
  },
  {
   "cell_type": "code",
   "execution_count": 10,
   "metadata": {},
   "outputs": [
    {
     "ename": "LoadError",
     "evalue": "SystemError: opening file \"C:\\\\devl\\\\tomerdo-research\\\\thesis-research\\\\figures\\\\ba-gen-0.75-0.75-0.45-0.75.pdf\": No such file or directory",
     "output_type": "error",
     "traceback": [
      "SystemError: opening file \"C:\\\\devl\\\\tomerdo-research\\\\thesis-research\\\\figures\\\\ba-gen-0.75-0.75-0.45-0.75.pdf\": No such file or directory",
      "",
      "Stacktrace:",
      " [1] systemerror(::String, ::Int32; extrainfo::Nothing) at .\\error.jl:168",
      " [2] #systemerror#48 at .\\error.jl:167 [inlined]",
      " [3] systemerror at .\\error.jl:167 [inlined]",
      " [4] open(::String; lock::Bool, read::Nothing, write::Nothing, create::Nothing, truncate::Bool, append::Nothing) at .\\iostream.jl:284",
      " [5] open(::String, ::String; lock::Bool) at .\\iostream.jl:346",
      " [6] open at .\\iostream.jl:346 [inlined]",
      " [7] pdf(::Plots.Plot{Plots.GRBackend}, ::String) at C:\\Users\\tomer\\.julia\\packages\\Plots\\IjNHT\\src\\output.jl:22",
      " [8] savefig(::Plots.Plot{Plots.GRBackend}, ::String) at C:\\Users\\tomer\\.julia\\packages\\Plots\\IjNHT\\src\\output.jl:124",
      " [9] plot_p1(::Agent, ::Agent; agent::typeof(genagent), at::String, n::Int64) at .\\In[6]:6",
      " [10] plot_p1(::Agent, ::Agent) at .\\In[6]:2",
      " [11] top-level scope at In[10]:1",
      " [12] include_string(::Function, ::Module, ::String, ::String) at .\\loading.jl:1091"
     ]
    }
   ],
   "source": [
    "plot_p1(Agent(\"Alice\", 0.75, 0.75), Agent(\"Bob\", 0.45, 0.75))"
   ]
  },
  {
   "cell_type": "markdown",
   "metadata": {},
   "source": [
    "### Bob Chases Alice, Alice Avoids Bob\n",
    "\n",
    "Depending on how strong are the preference of Bob to meet Alice, and of Alice to avoid Bob, their behaviors may either converge to an equilibrium, or oscillate infinitely no matter how deep they deliberate."
   ]
  },
  {
   "cell_type": "code",
   "execution_count": 11,
   "metadata": {},
   "outputs": [
    {
     "ename": "LoadError",
     "evalue": "SystemError: opening file \"C:\\\\devl\\\\tomerdo-research\\\\thesis-research\\\\figures\\\\ba-gen-0.55-0.25-0.55-0.75.pdf\": No such file or directory",
     "output_type": "error",
     "traceback": [
      "SystemError: opening file \"C:\\\\devl\\\\tomerdo-research\\\\thesis-research\\\\figures\\\\ba-gen-0.55-0.25-0.55-0.75.pdf\": No such file or directory",
      "",
      "Stacktrace:",
      " [1] systemerror(::String, ::Int32; extrainfo::Nothing) at .\\error.jl:168",
      " [2] #systemerror#48 at .\\error.jl:167 [inlined]",
      " [3] systemerror at .\\error.jl:167 [inlined]",
      " [4] open(::String; lock::Bool, read::Nothing, write::Nothing, create::Nothing, truncate::Bool, append::Nothing) at .\\iostream.jl:284",
      " [5] open(::String, ::String; lock::Bool) at .\\iostream.jl:346",
      " [6] open at .\\iostream.jl:346 [inlined]",
      " [7] pdf(::Plots.Plot{Plots.GRBackend}, ::String) at C:\\Users\\tomer\\.julia\\packages\\Plots\\IjNHT\\src\\output.jl:22",
      " [8] savefig(::Plots.Plot{Plots.GRBackend}, ::String) at C:\\Users\\tomer\\.julia\\packages\\Plots\\IjNHT\\src\\output.jl:124",
      " [9] plot_p1(::Agent, ::Agent; agent::typeof(genagent), at::String, n::Int64) at .\\In[6]:6",
      " [10] plot_p1(::Agent, ::Agent) at .\\In[6]:2",
      " [11] top-level scope at In[11]:1",
      " [12] include_string(::Function, ::Module, ::String, ::String) at .\\loading.jl:1091"
     ]
    }
   ],
   "source": [
    "plot_p1(Agent(\"Alice\", 0.55, 0.25), Agent(\"Bob\", 0.55, 0.75))"
   ]
  },
  {
   "cell_type": "code",
   "execution_count": 12,
   "metadata": {},
   "outputs": [
    {
     "ename": "LoadError",
     "evalue": "SystemError: opening file \"C:\\\\devl\\\\tomerdo-research\\\\thesis-research\\\\figures\\\\ba-gen-0.55-0.1-0.55-0.9.pdf\": No such file or directory",
     "output_type": "error",
     "traceback": [
      "SystemError: opening file \"C:\\\\devl\\\\tomerdo-research\\\\thesis-research\\\\figures\\\\ba-gen-0.55-0.1-0.55-0.9.pdf\": No such file or directory",
      "",
      "Stacktrace:",
      " [1] systemerror(::String, ::Int32; extrainfo::Nothing) at .\\error.jl:168",
      " [2] #systemerror#48 at .\\error.jl:167 [inlined]",
      " [3] systemerror at .\\error.jl:167 [inlined]",
      " [4] open(::String; lock::Bool, read::Nothing, write::Nothing, create::Nothing, truncate::Bool, append::Nothing) at .\\iostream.jl:284",
      " [5] open(::String, ::String; lock::Bool) at .\\iostream.jl:346",
      " [6] open at .\\iostream.jl:346 [inlined]",
      " [7] pdf(::Plots.Plot{Plots.GRBackend}, ::String) at C:\\Users\\tomer\\.julia\\packages\\Plots\\IjNHT\\src\\output.jl:22",
      " [8] savefig(::Plots.Plot{Plots.GRBackend}, ::String) at C:\\Users\\tomer\\.julia\\packages\\Plots\\IjNHT\\src\\output.jl:124",
      " [9] plot_p1(::Agent, ::Agent; agent::typeof(genagent), at::String, n::Int64) at .\\In[6]:6",
      " [10] plot_p1(::Agent, ::Agent) at .\\In[6]:2",
      " [11] top-level scope at In[12]:1",
      " [12] include_string(::Function, ::Module, ::String, ::String) at .\\loading.jl:1091"
     ]
    }
   ],
   "source": [
    "plot_p1(Agent(\"Alice\", 0.55, 0.1), Agent(\"Bob\", 0.55, 0.9))"
   ]
  },
  {
   "cell_type": "markdown",
   "metadata": {},
   "source": [
    "### Bob and Alice Avoid Each Other"
   ]
  },
  {
   "cell_type": "code",
   "execution_count": 13,
   "metadata": {},
   "outputs": [
    {
     "ename": "LoadError",
     "evalue": "SystemError: opening file \"C:\\\\devl\\\\tomerdo-research\\\\thesis-research\\\\figures\\\\ba-gen-0.55-0.25-0.55-0.25.pdf\": No such file or directory",
     "output_type": "error",
     "traceback": [
      "SystemError: opening file \"C:\\\\devl\\\\tomerdo-research\\\\thesis-research\\\\figures\\\\ba-gen-0.55-0.25-0.55-0.25.pdf\": No such file or directory",
      "",
      "Stacktrace:",
      " [1] systemerror(::String, ::Int32; extrainfo::Nothing) at .\\error.jl:168",
      " [2] #systemerror#48 at .\\error.jl:167 [inlined]",
      " [3] systemerror at .\\error.jl:167 [inlined]",
      " [4] open(::String; lock::Bool, read::Nothing, write::Nothing, create::Nothing, truncate::Bool, append::Nothing) at .\\iostream.jl:284",
      " [5] open(::String, ::String; lock::Bool) at .\\iostream.jl:346",
      " [6] open at .\\iostream.jl:346 [inlined]",
      " [7] pdf(::Plots.Plot{Plots.GRBackend}, ::String) at C:\\Users\\tomer\\.julia\\packages\\Plots\\IjNHT\\src\\output.jl:22",
      " [8] savefig(::Plots.Plot{Plots.GRBackend}, ::String) at C:\\Users\\tomer\\.julia\\packages\\Plots\\IjNHT\\src\\output.jl:124",
      " [9] plot_p1(::Agent, ::Agent; agent::typeof(genagent), at::String, n::Int64) at .\\In[6]:6",
      " [10] plot_p1(::Agent, ::Agent) at .\\In[6]:2",
      " [11] top-level scope at In[13]:1",
      " [12] include_string(::Function, ::Module, ::String, ::String) at .\\loading.jl:1091"
     ]
    }
   ],
   "source": [
    "plot_p1(Agent(\"Alice\", 0.55, 0.25), Agent(\"Bob\", 0.55, 0.25))"
   ]
  },
  {
   "cell_type": "code",
   "execution_count": 14,
   "metadata": {},
   "outputs": [
    {
     "ename": "LoadError",
     "evalue": "SystemError: opening file \"C:\\\\devl\\\\tomerdo-research\\\\thesis-research\\\\figures\\\\ba-gen-0.55-0.1-0.55-0.1.pdf\": No such file or directory",
     "output_type": "error",
     "traceback": [
      "SystemError: opening file \"C:\\\\devl\\\\tomerdo-research\\\\thesis-research\\\\figures\\\\ba-gen-0.55-0.1-0.55-0.1.pdf\": No such file or directory",
      "",
      "Stacktrace:",
      " [1] systemerror(::String, ::Int32; extrainfo::Nothing) at .\\error.jl:168",
      " [2] #systemerror#48 at .\\error.jl:167 [inlined]",
      " [3] systemerror at .\\error.jl:167 [inlined]",
      " [4] open(::String; lock::Bool, read::Nothing, write::Nothing, create::Nothing, truncate::Bool, append::Nothing) at .\\iostream.jl:284",
      " [5] open(::String, ::String; lock::Bool) at .\\iostream.jl:346",
      " [6] open at .\\iostream.jl:346 [inlined]",
      " [7] pdf(::Plots.Plot{Plots.GRBackend}, ::String) at C:\\Users\\tomer\\.julia\\packages\\Plots\\IjNHT\\src\\output.jl:22",
      " [8] savefig(::Plots.Plot{Plots.GRBackend}, ::String) at C:\\Users\\tomer\\.julia\\packages\\Plots\\IjNHT\\src\\output.jl:124",
      " [9] plot_p1(::Agent, ::Agent; agent::typeof(genagent), at::String, n::Int64) at .\\In[6]:6",
      " [10] plot_p1(::Agent, ::Agent) at .\\In[6]:2",
      " [11] top-level scope at In[14]:1",
      " [12] include_string(::Function, ::Module, ::String, ::String) at .\\loading.jl:1091"
     ]
    }
   ],
   "source": [
    "plot_p1(Agent(\"Alice\", 0.55, 0.1), Agent(\"Bob\", 0.55, 0.1))"
   ]
  },
  {
   "cell_type": "markdown",
   "metadata": {},
   "source": [
    "Beyond a certain level of mutual despisal, it is hard to behave reasonably. One tends to make self-contradictory moves, and they do not help the least."
   ]
  },
  {
   "cell_type": "code",
   "execution_count": 15,
   "metadata": {},
   "outputs": [
    {
     "ename": "LoadError",
     "evalue": "SystemError: opening file \"C:\\\\devl\\\\tomerdo-research\\\\thesis-research\\\\figures\\\\ba-gen-0.55-0.05-0.55-0.05.pdf\": No such file or directory",
     "output_type": "error",
     "traceback": [
      "SystemError: opening file \"C:\\\\devl\\\\tomerdo-research\\\\thesis-research\\\\figures\\\\ba-gen-0.55-0.05-0.55-0.05.pdf\": No such file or directory",
      "",
      "Stacktrace:",
      " [1] systemerror(::String, ::Int32; extrainfo::Nothing) at .\\error.jl:168",
      " [2] #systemerror#48 at .\\error.jl:167 [inlined]",
      " [3] systemerror at .\\error.jl:167 [inlined]",
      " [4] open(::String; lock::Bool, read::Nothing, write::Nothing, create::Nothing, truncate::Bool, append::Nothing) at .\\iostream.jl:284",
      " [5] open(::String, ::String; lock::Bool) at .\\iostream.jl:346",
      " [6] open at .\\iostream.jl:346 [inlined]",
      " [7] pdf(::Plots.Plot{Plots.GRBackend}, ::String) at C:\\Users\\tomer\\.julia\\packages\\Plots\\IjNHT\\src\\output.jl:22",
      " [8] savefig(::Plots.Plot{Plots.GRBackend}, ::String) at C:\\Users\\tomer\\.julia\\packages\\Plots\\IjNHT\\src\\output.jl:124",
      " [9] plot_p1(::Agent, ::Agent; agent::typeof(genagent), at::String, n::Int64) at .\\In[6]:6",
      " [10] plot_p1(::Agent, ::Agent) at .\\In[6]:2",
      " [11] top-level scope at In[15]:1",
      " [12] include_string(::Function, ::Module, ::String, ::String) at .\\loading.jl:1091"
     ]
    }
   ],
   "source": [
    "plot_p1(Agent(\"Alice\", 0.55, 0.05), Agent(\"Bob\", 0.55, 0.05))"
   ]
  },
  {
   "cell_type": "markdown",
   "metadata": {},
   "source": [
    "### Analytical Model\n",
    "\n",
    "The fable of Bob and Alice is simple enough to analyze using an analytical model, without resorting to approximate inference.  In general though, the posterior distribution does not have an analytical form."
   ]
  },
  {
   "cell_type": "code",
   "execution_count": 16,
   "metadata": {},
   "outputs": [
    {
     "data": {
      "text/plain": [
       "anagent (generic function with 2 methods)"
      ]
     },
     "execution_count": 16,
     "metadata": {},
     "output_type": "execute_result"
    }
   ],
   "source": [
    "@memoize function anagent(me::Agent, buddy::Agent, depth=0)\n",
    "    p = me.p1\n",
    "    if depth > 0\n",
    "        q = anagent(buddy, me, depth-1)\n",
    "        u1 = log(p) + logp(me, q, true)\n",
    "        u2 = log(1-p) + logp(me, q, false)\n",
    "        p = exp(u1)/(exp(u1) + exp(u2))\n",
    "    end\n",
    "    p\n",
    "end"
   ]
  },
  {
   "cell_type": "markdown",
   "metadata": {},
   "source": [
    "For comparison, the plots obtained using Gen are reproduced here using the analytical model. "
   ]
  },
  {
   "cell_type": "markdown",
   "metadata": {},
   "source": [
    "#### Bob and Alice Want to Meet "
   ]
  },
  {
   "cell_type": "markdown",
   "metadata": {},
   "source": [
    "##### Bob and Alice Like the Same Bar"
   ]
  },
  {
   "cell_type": "code",
   "execution_count": 17,
   "metadata": {},
   "outputs": [
    {
     "ename": "LoadError",
     "evalue": "SystemError: opening file \"C:\\\\devl\\\\tomerdo-research\\\\thesis-research\\\\figures\\\\ba-ana-0.55-0.75-0.55-0.75.pdf\": No such file or directory",
     "output_type": "error",
     "traceback": [
      "SystemError: opening file \"C:\\\\devl\\\\tomerdo-research\\\\thesis-research\\\\figures\\\\ba-ana-0.55-0.75-0.55-0.75.pdf\": No such file or directory",
      "",
      "Stacktrace:",
      " [1] systemerror(::String, ::Int32; extrainfo::Nothing) at .\\error.jl:168",
      " [2] #systemerror#48 at .\\error.jl:167 [inlined]",
      " [3] systemerror at .\\error.jl:167 [inlined]",
      " [4] open(::String; lock::Bool, read::Nothing, write::Nothing, create::Nothing, truncate::Bool, append::Nothing) at .\\iostream.jl:284",
      " [5] open(::String, ::String; lock::Bool) at .\\iostream.jl:346",
      " [6] open at .\\iostream.jl:346 [inlined]",
      " [7] pdf(::Plots.Plot{Plots.GRBackend}, ::String) at C:\\Users\\tomer\\.julia\\packages\\Plots\\IjNHT\\src\\output.jl:22",
      " [8] savefig(::Plots.Plot{Plots.GRBackend}, ::String) at C:\\Users\\tomer\\.julia\\packages\\Plots\\IjNHT\\src\\output.jl:124",
      " [9] plot_p1(::Agent, ::Agent; agent::typeof(anagent), at::String, n::Int64) at .\\In[6]:6",
      " [10] top-level scope at In[17]:1",
      " [11] include_string(::Function, ::Module, ::String, ::String) at .\\loading.jl:1091"
     ]
    }
   ],
   "source": [
    "plot_p1(Agent(\"Alice\", 0.55, 0.75), Agent(\"Bob\", 0.55, 0.75), agent=anagent, at=\"ana\")"
   ]
  },
  {
   "cell_type": "code",
   "execution_count": 18,
   "metadata": {},
   "outputs": [
    {
     "ename": "LoadError",
     "evalue": "SystemError: opening file \"C:\\\\devl\\\\tomerdo-research\\\\thesis-research\\\\figures\\\\ba-ana-0.55-0.9-0.55-0.9.pdf\": No such file or directory",
     "output_type": "error",
     "traceback": [
      "SystemError: opening file \"C:\\\\devl\\\\tomerdo-research\\\\thesis-research\\\\figures\\\\ba-ana-0.55-0.9-0.55-0.9.pdf\": No such file or directory",
      "",
      "Stacktrace:",
      " [1] systemerror(::String, ::Int32; extrainfo::Nothing) at .\\error.jl:168",
      " [2] #systemerror#48 at .\\error.jl:167 [inlined]",
      " [3] systemerror at .\\error.jl:167 [inlined]",
      " [4] open(::String; lock::Bool, read::Nothing, write::Nothing, create::Nothing, truncate::Bool, append::Nothing) at .\\iostream.jl:284",
      " [5] open(::String, ::String; lock::Bool) at .\\iostream.jl:346",
      " [6] open at .\\iostream.jl:346 [inlined]",
      " [7] pdf(::Plots.Plot{Plots.GRBackend}, ::String) at C:\\Users\\tomer\\.julia\\packages\\Plots\\IjNHT\\src\\output.jl:22",
      " [8] savefig(::Plots.Plot{Plots.GRBackend}, ::String) at C:\\Users\\tomer\\.julia\\packages\\Plots\\IjNHT\\src\\output.jl:124",
      " [9] plot_p1(::Agent, ::Agent; agent::typeof(anagent), at::String, n::Int64) at .\\In[6]:6",
      " [10] top-level scope at In[18]:1",
      " [11] include_string(::Function, ::Module, ::String, ::String) at .\\loading.jl:1091"
     ]
    }
   ],
   "source": [
    "plot_p1(Agent(\"Alice\", 0.55, 0.9), Agent(\"Bob\", 0.55, 0.9), agent=anagent, at=\"ana\")"
   ]
  },
  {
   "cell_type": "markdown",
   "metadata": {},
   "source": [
    "##### Bob and Alice like different bars"
   ]
  },
  {
   "cell_type": "code",
   "execution_count": 19,
   "metadata": {},
   "outputs": [
    {
     "ename": "LoadError",
     "evalue": "SystemError: opening file \"C:\\\\devl\\\\tomerdo-research\\\\thesis-research\\\\figures\\\\ba-ana-0.55-0.75-0.45-0.75.pdf\": No such file or directory",
     "output_type": "error",
     "traceback": [
      "SystemError: opening file \"C:\\\\devl\\\\tomerdo-research\\\\thesis-research\\\\figures\\\\ba-ana-0.55-0.75-0.45-0.75.pdf\": No such file or directory",
      "",
      "Stacktrace:",
      " [1] systemerror(::String, ::Int32; extrainfo::Nothing) at .\\error.jl:168",
      " [2] #systemerror#48 at .\\error.jl:167 [inlined]",
      " [3] systemerror at .\\error.jl:167 [inlined]",
      " [4] open(::String; lock::Bool, read::Nothing, write::Nothing, create::Nothing, truncate::Bool, append::Nothing) at .\\iostream.jl:284",
      " [5] open(::String, ::String; lock::Bool) at .\\iostream.jl:346",
      " [6] open at .\\iostream.jl:346 [inlined]",
      " [7] pdf(::Plots.Plot{Plots.GRBackend}, ::String) at C:\\Users\\tomer\\.julia\\packages\\Plots\\IjNHT\\src\\output.jl:22",
      " [8] savefig(::Plots.Plot{Plots.GRBackend}, ::String) at C:\\Users\\tomer\\.julia\\packages\\Plots\\IjNHT\\src\\output.jl:124",
      " [9] plot_p1(::Agent, ::Agent; agent::typeof(anagent), at::String, n::Int64) at .\\In[6]:6",
      " [10] top-level scope at In[19]:1",
      " [11] include_string(::Function, ::Module, ::String, ::String) at .\\loading.jl:1091"
     ]
    }
   ],
   "source": [
    "plot_p1(Agent(\"Alice\", 0.55, 0.75), Agent(\"Bob\", 0.45, 0.75), agent=anagent, at=\"ana\")"
   ]
  },
  {
   "cell_type": "code",
   "execution_count": 20,
   "metadata": {},
   "outputs": [
    {
     "ename": "LoadError",
     "evalue": "SystemError: opening file \"C:\\\\devl\\\\tomerdo-research\\\\thesis-research\\\\figures\\\\ba-ana-0.75-0.75-0.45-0.75.pdf\": No such file or directory",
     "output_type": "error",
     "traceback": [
      "SystemError: opening file \"C:\\\\devl\\\\tomerdo-research\\\\thesis-research\\\\figures\\\\ba-ana-0.75-0.75-0.45-0.75.pdf\": No such file or directory",
      "",
      "Stacktrace:",
      " [1] systemerror(::String, ::Int32; extrainfo::Nothing) at .\\error.jl:168",
      " [2] #systemerror#48 at .\\error.jl:167 [inlined]",
      " [3] systemerror at .\\error.jl:167 [inlined]",
      " [4] open(::String; lock::Bool, read::Nothing, write::Nothing, create::Nothing, truncate::Bool, append::Nothing) at .\\iostream.jl:284",
      " [5] open(::String, ::String; lock::Bool) at .\\iostream.jl:346",
      " [6] open at .\\iostream.jl:346 [inlined]",
      " [7] pdf(::Plots.Plot{Plots.GRBackend}, ::String) at C:\\Users\\tomer\\.julia\\packages\\Plots\\IjNHT\\src\\output.jl:22",
      " [8] savefig(::Plots.Plot{Plots.GRBackend}, ::String) at C:\\Users\\tomer\\.julia\\packages\\Plots\\IjNHT\\src\\output.jl:124",
      " [9] plot_p1(::Agent, ::Agent; agent::typeof(anagent), at::String, n::Int64) at .\\In[6]:6",
      " [10] top-level scope at In[20]:1",
      " [11] include_string(::Function, ::Module, ::String, ::String) at .\\loading.jl:1091"
     ]
    }
   ],
   "source": [
    "plot_p1(Agent(\"Alice\", 0.75, 0.75), Agent(\"Bob\", 0.45, 0.75), agent=anagent, at=\"ana\")"
   ]
  },
  {
   "cell_type": "markdown",
   "metadata": {},
   "source": [
    "#### Bob Chases Alice, Alice Avoids Bob"
   ]
  },
  {
   "cell_type": "code",
   "execution_count": 21,
   "metadata": {},
   "outputs": [
    {
     "ename": "LoadError",
     "evalue": "SystemError: opening file \"C:\\\\devl\\\\tomerdo-research\\\\thesis-research\\\\figures\\\\ba-ana-0.55-0.25-0.55-0.75.pdf\": No such file or directory",
     "output_type": "error",
     "traceback": [
      "SystemError: opening file \"C:\\\\devl\\\\tomerdo-research\\\\thesis-research\\\\figures\\\\ba-ana-0.55-0.25-0.55-0.75.pdf\": No such file or directory",
      "",
      "Stacktrace:",
      " [1] systemerror(::String, ::Int32; extrainfo::Nothing) at .\\error.jl:168",
      " [2] #systemerror#48 at .\\error.jl:167 [inlined]",
      " [3] systemerror at .\\error.jl:167 [inlined]",
      " [4] open(::String; lock::Bool, read::Nothing, write::Nothing, create::Nothing, truncate::Bool, append::Nothing) at .\\iostream.jl:284",
      " [5] open(::String, ::String; lock::Bool) at .\\iostream.jl:346",
      " [6] open at .\\iostream.jl:346 [inlined]",
      " [7] pdf(::Plots.Plot{Plots.GRBackend}, ::String) at C:\\Users\\tomer\\.julia\\packages\\Plots\\IjNHT\\src\\output.jl:22",
      " [8] savefig(::Plots.Plot{Plots.GRBackend}, ::String) at C:\\Users\\tomer\\.julia\\packages\\Plots\\IjNHT\\src\\output.jl:124",
      " [9] plot_p1(::Agent, ::Agent; agent::typeof(anagent), at::String, n::Int64) at .\\In[6]:6",
      " [10] top-level scope at In[21]:1",
      " [11] include_string(::Function, ::Module, ::String, ::String) at .\\loading.jl:1091"
     ]
    }
   ],
   "source": [
    "plot_p1(Agent(\"Alice\", 0.55, 0.25), Agent(\"Bob\", 0.55, 0.75), agent=anagent, at=\"ana\")"
   ]
  },
  {
   "cell_type": "code",
   "execution_count": 22,
   "metadata": {},
   "outputs": [
    {
     "ename": "LoadError",
     "evalue": "SystemError: opening file \"C:\\\\devl\\\\tomerdo-research\\\\thesis-research\\\\figures\\\\ba-ana-0.55-0.1-0.55-0.9.pdf\": No such file or directory",
     "output_type": "error",
     "traceback": [
      "SystemError: opening file \"C:\\\\devl\\\\tomerdo-research\\\\thesis-research\\\\figures\\\\ba-ana-0.55-0.1-0.55-0.9.pdf\": No such file or directory",
      "",
      "Stacktrace:",
      " [1] systemerror(::String, ::Int32; extrainfo::Nothing) at .\\error.jl:168",
      " [2] #systemerror#48 at .\\error.jl:167 [inlined]",
      " [3] systemerror at .\\error.jl:167 [inlined]",
      " [4] open(::String; lock::Bool, read::Nothing, write::Nothing, create::Nothing, truncate::Bool, append::Nothing) at .\\iostream.jl:284",
      " [5] open(::String, ::String; lock::Bool) at .\\iostream.jl:346",
      " [6] open at .\\iostream.jl:346 [inlined]",
      " [7] pdf(::Plots.Plot{Plots.GRBackend}, ::String) at C:\\Users\\tomer\\.julia\\packages\\Plots\\IjNHT\\src\\output.jl:22",
      " [8] savefig(::Plots.Plot{Plots.GRBackend}, ::String) at C:\\Users\\tomer\\.julia\\packages\\Plots\\IjNHT\\src\\output.jl:124",
      " [9] plot_p1(::Agent, ::Agent; agent::typeof(anagent), at::String, n::Int64) at .\\In[6]:6",
      " [10] top-level scope at In[22]:1",
      " [11] include_string(::Function, ::Module, ::String, ::String) at .\\loading.jl:1091"
     ]
    }
   ],
   "source": [
    "plot_p1(Agent(\"Alice\", 0.55, 0.1), Agent(\"Bob\", 0.55, 0.9), agent=anagent, at=\"ana\")"
   ]
  },
  {
   "cell_type": "markdown",
   "metadata": {},
   "source": [
    "#### Bob and Alice Avoid Each Other"
   ]
  },
  {
   "cell_type": "code",
   "execution_count": 23,
   "metadata": {},
   "outputs": [
    {
     "ename": "LoadError",
     "evalue": "SystemError: opening file \"C:\\\\devl\\\\tomerdo-research\\\\thesis-research\\\\figures\\\\ba-ana-0.55-0.25-0.55-0.25.pdf\": No such file or directory",
     "output_type": "error",
     "traceback": [
      "SystemError: opening file \"C:\\\\devl\\\\tomerdo-research\\\\thesis-research\\\\figures\\\\ba-ana-0.55-0.25-0.55-0.25.pdf\": No such file or directory",
      "",
      "Stacktrace:",
      " [1] systemerror(::String, ::Int32; extrainfo::Nothing) at .\\error.jl:168",
      " [2] #systemerror#48 at .\\error.jl:167 [inlined]",
      " [3] systemerror at .\\error.jl:167 [inlined]",
      " [4] open(::String; lock::Bool, read::Nothing, write::Nothing, create::Nothing, truncate::Bool, append::Nothing) at .\\iostream.jl:284",
      " [5] open(::String, ::String; lock::Bool) at .\\iostream.jl:346",
      " [6] open at .\\iostream.jl:346 [inlined]",
      " [7] pdf(::Plots.Plot{Plots.GRBackend}, ::String) at C:\\Users\\tomer\\.julia\\packages\\Plots\\IjNHT\\src\\output.jl:22",
      " [8] savefig(::Plots.Plot{Plots.GRBackend}, ::String) at C:\\Users\\tomer\\.julia\\packages\\Plots\\IjNHT\\src\\output.jl:124",
      " [9] plot_p1(::Agent, ::Agent; agent::typeof(anagent), at::String, n::Int64) at .\\In[6]:6",
      " [10] top-level scope at In[23]:1",
      " [11] include_string(::Function, ::Module, ::String, ::String) at .\\loading.jl:1091"
     ]
    }
   ],
   "source": [
    "plot_p1(Agent(\"Alice\", 0.55, 0.25), Agent(\"Bob\", 0.55, 0.25), agent=anagent, at=\"ana\")"
   ]
  },
  {
   "cell_type": "code",
   "execution_count": 24,
   "metadata": {},
   "outputs": [
    {
     "ename": "LoadError",
     "evalue": "SystemError: opening file \"C:\\\\devl\\\\tomerdo-research\\\\thesis-research\\\\figures\\\\ba-ana-0.55-0.1-0.55-0.1.pdf\": No such file or directory",
     "output_type": "error",
     "traceback": [
      "SystemError: opening file \"C:\\\\devl\\\\tomerdo-research\\\\thesis-research\\\\figures\\\\ba-ana-0.55-0.1-0.55-0.1.pdf\": No such file or directory",
      "",
      "Stacktrace:",
      " [1] systemerror(::String, ::Int32; extrainfo::Nothing) at .\\error.jl:168",
      " [2] #systemerror#48 at .\\error.jl:167 [inlined]",
      " [3] systemerror at .\\error.jl:167 [inlined]",
      " [4] open(::String; lock::Bool, read::Nothing, write::Nothing, create::Nothing, truncate::Bool, append::Nothing) at .\\iostream.jl:284",
      " [5] open(::String, ::String; lock::Bool) at .\\iostream.jl:346",
      " [6] open at .\\iostream.jl:346 [inlined]",
      " [7] pdf(::Plots.Plot{Plots.GRBackend}, ::String) at C:\\Users\\tomer\\.julia\\packages\\Plots\\IjNHT\\src\\output.jl:22",
      " [8] savefig(::Plots.Plot{Plots.GRBackend}, ::String) at C:\\Users\\tomer\\.julia\\packages\\Plots\\IjNHT\\src\\output.jl:124",
      " [9] plot_p1(::Agent, ::Agent; agent::typeof(anagent), at::String, n::Int64) at .\\In[6]:6",
      " [10] top-level scope at In[24]:1",
      " [11] include_string(::Function, ::Module, ::String, ::String) at .\\loading.jl:1091"
     ]
    }
   ],
   "source": [
    "plot_p1(Agent(\"Alice\", 0.55, 0.1), Agent(\"Bob\", 0.55, 0.1), agent=anagent, at=\"ana\")"
   ]
  },
  {
   "cell_type": "code",
   "execution_count": 25,
   "metadata": {},
   "outputs": [
    {
     "ename": "LoadError",
     "evalue": "SystemError: opening file \"C:\\\\devl\\\\tomerdo-research\\\\thesis-research\\\\figures\\\\ba-ana-0.55-0.05-0.55-0.05.pdf\": No such file or directory",
     "output_type": "error",
     "traceback": [
      "SystemError: opening file \"C:\\\\devl\\\\tomerdo-research\\\\thesis-research\\\\figures\\\\ba-ana-0.55-0.05-0.55-0.05.pdf\": No such file or directory",
      "",
      "Stacktrace:",
      " [1] systemerror(::String, ::Int32; extrainfo::Nothing) at .\\error.jl:168",
      " [2] #systemerror#48 at .\\error.jl:167 [inlined]",
      " [3] systemerror at .\\error.jl:167 [inlined]",
      " [4] open(::String; lock::Bool, read::Nothing, write::Nothing, create::Nothing, truncate::Bool, append::Nothing) at .\\iostream.jl:284",
      " [5] open(::String, ::String; lock::Bool) at .\\iostream.jl:346",
      " [6] open at .\\iostream.jl:346 [inlined]",
      " [7] pdf(::Plots.Plot{Plots.GRBackend}, ::String) at C:\\Users\\tomer\\.julia\\packages\\Plots\\IjNHT\\src\\output.jl:22",
      " [8] savefig(::Plots.Plot{Plots.GRBackend}, ::String) at C:\\Users\\tomer\\.julia\\packages\\Plots\\IjNHT\\src\\output.jl:124",
      " [9] plot_p1(::Agent, ::Agent; agent::typeof(anagent), at::String, n::Int64) at .\\In[6]:6",
      " [10] top-level scope at In[25]:1",
      " [11] include_string(::Function, ::Module, ::String, ::String) at .\\loading.jl:1091"
     ]
    }
   ],
   "source": [
    "plot_p1(Agent(\"Alice\", 0.55, 0.05), Agent(\"Bob\", 0.55, 0.05), agent=anagent, at=\"ana\")"
   ]
  },
  {
   "cell_type": "code",
   "execution_count": null,
   "metadata": {},
   "outputs": [],
   "source": []
  }
 ],
 "metadata": {
  "kernelspec": {
   "display_name": "Julia 1.5.3",
   "language": "julia",
   "name": "julia-1.5"
  },
  "language_info": {
   "file_extension": ".jl",
   "mimetype": "application/julia",
   "name": "julia",
   "version": "1.5.3"
  }
 },
 "nbformat": 4,
 "nbformat_minor": 5
}
