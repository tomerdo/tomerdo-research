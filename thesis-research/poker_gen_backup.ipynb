{
 "cells": [
  {
   "cell_type": "code",
   "execution_count": 1,
   "metadata": {},
   "outputs": [],
   "source": [
    "using Plots"
   ]
  },
  {
   "cell_type": "code",
   "execution_count": 2,
   "metadata": {},
   "outputs": [],
   "source": [
    "using Gen, Memoize, Random"
   ]
  },
  {
   "cell_type": "code",
   "execution_count": 3,
   "metadata": {},
   "outputs": [],
   "source": [
    "using StatsBase"
   ]
  },
  {
   "cell_type": "code",
   "execution_count": 111,
   "metadata": {},
   "outputs": [],
   "source": [
    "using Statistics"
   ]
  },
  {
   "cell_type": "markdown",
   "metadata": {},
   "source": [
    "## In this notebook we will implement a  Theory Of Mind agents on a version of Poker"
   ]
  },
  {
   "cell_type": "markdown",
   "metadata": {},
   "source": [
    "Kuhn poker is an extremely simplified form of poker developed by Harold W. Kuhn as a simple model zero-sum two-player imperfect-information game, amenable to a complete game-theoretic analysis. In Kuhn poker, the deck includes only three playing cards, for example a King, Queen, and Jack. One card is dealt to each player, which may place bets similarly to a standard poker. If both players bet or both players pass, the player with the higher card wins, otherwise, the betting player wins."
   ]
  },
  {
   "cell_type": "markdown",
   "metadata": {},
   "source": [
    "#### Rules"
   ]
  },
  {
   "cell_type": "markdown",
   "metadata": {},
   "source": [
    "In conventional poker terms, a game of Kuhn poker proceeds as follows:\n",
    "\n",
    "Each player antes 1.\n",
    "Each player is dealt one of the three cards, and the third is put aside unseen.\n",
    "Player one can check or bet 1.\n",
    "* If player one checks then player two can check or bet 1.\n",
    "    * If player two checks there is a showdown for the pot of 2 (i.e. the higher card wins 1 from the other player).\n",
    "    * If player two bets then player one can fold or call.\n",
    "        * If player one folds then player two takes the pot of 3 (i.e. winning 1 from player 1).\n",
    "        * If player one calls there is a showdown for the pot of 4 (i.e. the higher card wins 2 from the other player).\n",
    "* If player one bets then player two can fold or call.\n",
    "    * If player two folds then player one takes the pot of 3 (i.e. winning 1 from player 2).\n",
    "    * If player two calls there is a showdown for the pot of 4 (i.e. the higher card wins 2 from the other player)."
   ]
  },
  {
   "cell_type": "markdown",
   "metadata": {},
   "source": [
    "#### Optimal strategy\n"
   ]
  },
  {
   "cell_type": "markdown",
   "metadata": {},
   "source": [
    "The game has a mixed-strategy Nash equilibrium; when both players play equilibrium strategies, the first player should expect to lose at a rate of −1/18 per hand (as the game is zero-sum, the second player should expect to win at a rate of +1/18). There is no pure-strategy equilibrium.\n",
    "\n",
    "Kuhn demonstrated there are infinitely many equilibrium strategies for the first player, forming a continuum governed by a single parameter. In one possible formulation, player one freely chooses the probability $\\alpha$ $\\in$ [0,1/3] with which he will bet when having a Jack (otherwise he checks; if the other player bets, he should always fold). When having a King, he should bet with the probability of $3\\alpha$ (otherwise he checks; if the other player bets, he should always call). He should always check when having a Queen, and if the other player bets after this check, he should call with the probability of $\\alpha$ +1/3.\n",
    "\n",
    "3The second player has a single equilibrium strategy: Always betting or calling when having a King; when having a Queen, checking if possible, otherwise calling with the probability of 1/3; when having a Jack, never calling and betting with the probability of 1/3."
   ]
  },
  {
   "cell_type": "markdown",
   "metadata": {},
   "source": [
    "### Constants"
   ]
  },
  {
   "cell_type": "code",
   "execution_count": 4,
   "metadata": {},
   "outputs": [
    {
     "data": {
      "text/plain": [
       "-100"
      ]
     },
     "execution_count": 4,
     "metadata": {},
     "output_type": "execute_result"
    }
   ],
   "source": [
    "INVALID_VALUE = -100"
   ]
  },
  {
   "cell_type": "code",
   "execution_count": 5,
   "metadata": {},
   "outputs": [
    {
     "data": {
      "text/plain": [
       "3-element Array{Int64,1}:\n",
       " 1\n",
       " 2\n",
       " 3"
      ]
     },
     "execution_count": 5,
     "metadata": {},
     "output_type": "execute_result"
    }
   ],
   "source": [
    "JACK = 1\n",
    "QUEEN = 2\n",
    "KING = 3\n",
    "FULL_DECK = [JACK, QUEEN, KING]"
   ]
  },
  {
   "cell_type": "code",
   "execution_count": 6,
   "metadata": {},
   "outputs": [
    {
     "data": {
      "text/plain": [
       "3-element Array{Int64,1}:\n",
       " -1\n",
       "  0\n",
       "  1"
      ]
     },
     "execution_count": 6,
     "metadata": {},
     "output_type": "execute_result"
    }
   ],
   "source": [
    "FOLD = -1\n",
    "CHECK = 0\n",
    "BET = 1\n",
    "ACTIONS = [FOLD, CHECK, BET]"
   ]
  },
  {
   "cell_type": "markdown",
   "metadata": {},
   "source": [
    "### Utility functions"
   ]
  },
  {
   "cell_type": "code",
   "execution_count": 7,
   "metadata": {},
   "outputs": [
    {
     "data": {
      "text/plain": [
       "get_remaining_cards (generic function with 1 method)"
      ]
     },
     "execution_count": 7,
     "metadata": {},
     "output_type": "execute_result"
    }
   ],
   "source": [
    "function get_remaining_cards(card)\n",
    "   return setdiff(FULL_DECK, [card])\n",
    "end"
   ]
  },
  {
   "cell_type": "code",
   "execution_count": 8,
   "metadata": {},
   "outputs": [
    {
     "data": {
      "text/plain": [
       "reward (generic function with 1 method)"
      ]
     },
     "execution_count": 8,
     "metadata": {},
     "output_type": "execute_result"
    }
   ],
   "source": [
    "function reward(my_card::Int, buddy_card::Int)\n",
    "    return my_card > buddy_card ? 1 : -1\n",
    "end"
   ]
  },
  {
   "cell_type": "code",
   "execution_count": 9,
   "metadata": {},
   "outputs": [
    {
     "data": {
      "text/plain": [
       "reward (generic function with 2 methods)"
      ]
     },
     "execution_count": 9,
     "metadata": {},
     "output_type": "execute_result"
    }
   ],
   "source": [
    "function reward(my_card::Int, buddy_card::Int, my_action::Int, buddy_action::Int)\n",
    "    if my_action == FOLD\n",
    "        return -1\n",
    "    end\n",
    "    if buddy_action == FOLD\n",
    "        return 1\n",
    "    end\n",
    "    \n",
    "    bet_factor = my_action == BET || buddy_action == BET ? 2 : 1\n",
    "    \n",
    "    return bet_factor * reward(my_card, buddy_card)\n",
    "end"
   ]
  },
  {
   "cell_type": "code",
   "execution_count": 10,
   "metadata": {},
   "outputs": [
    {
     "data": {
      "text/plain": [
       "expected_reward (generic function with 2 methods)"
      ]
     },
     "execution_count": 10,
     "metadata": {},
     "output_type": "execute_result"
    }
   ],
   "source": [
    "function expected_reward(my_card::Int, my_action::Int, buddy_action::Int, opp_cards_distribution=[0.5, 0.5])\n",
    "    optional_buddy_cards = get_remaining_cards(my_card)\n",
    "    rewards = map(optional_buddy_card -> reward(my_card, optional_buddy_card, my_action, buddy_action), optional_buddy_cards)\n",
    "    expected_reward = rewards' * opp_cards_distribution\n",
    "end"
   ]
  },
  {
   "cell_type": "markdown",
   "metadata": {},
   "source": [
    "### Some tests"
   ]
  },
  {
   "cell_type": "code",
   "execution_count": 11,
   "metadata": {},
   "outputs": [
    {
     "data": {
      "text/plain": [
       "-2.0"
      ]
     },
     "execution_count": 11,
     "metadata": {},
     "output_type": "execute_result"
    }
   ],
   "source": [
    "expected_reward(JACK, CHECK, BET)"
   ]
  },
  {
   "cell_type": "code",
   "execution_count": 12,
   "metadata": {},
   "outputs": [
    {
     "data": {
      "text/plain": [
       "-1.0"
      ]
     },
     "execution_count": 12,
     "metadata": {},
     "output_type": "execute_result"
    }
   ],
   "source": [
    "expected_reward(JACK, FOLD, BET)"
   ]
  },
  {
   "cell_type": "code",
   "execution_count": 13,
   "metadata": {},
   "outputs": [
    {
     "data": {
      "text/plain": [
       "-1.0"
      ]
     },
     "execution_count": 13,
     "metadata": {},
     "output_type": "execute_result"
    }
   ],
   "source": [
    "expected_reward(QUEEN, FOLD, BET)"
   ]
  },
  {
   "cell_type": "code",
   "execution_count": 14,
   "metadata": {},
   "outputs": [
    {
     "data": {
      "text/plain": [
       "0.0"
      ]
     },
     "execution_count": 14,
     "metadata": {},
     "output_type": "execute_result"
    }
   ],
   "source": [
    "expected_reward(QUEEN, CHECK, BET)"
   ]
  },
  {
   "cell_type": "code",
   "execution_count": 15,
   "metadata": {},
   "outputs": [
    {
     "data": {
      "text/plain": [
       "-1.0"
      ]
     },
     "execution_count": 15,
     "metadata": {},
     "output_type": "execute_result"
    }
   ],
   "source": [
    "expected_reward(KING, FOLD, BET)"
   ]
  },
  {
   "cell_type": "code",
   "execution_count": 16,
   "metadata": {},
   "outputs": [
    {
     "data": {
      "text/plain": [
       "2.0"
      ]
     },
     "execution_count": 16,
     "metadata": {},
     "output_type": "execute_result"
    }
   ],
   "source": [
    "expected_reward(KING, CHECK, BET)"
   ]
  },
  {
   "cell_type": "markdown",
   "metadata": {},
   "source": [
    "#### We want to design an algorithm that infer the posterior for policy of check or bet, and the policy of fold or call"
   ]
  },
  {
   "cell_type": "markdown",
   "metadata": {},
   "source": [
    "#### For each player we want to compute two vectors:\n",
    "<ol>\n",
    "    <li>Check or bet probability</li>\n",
    "    <li>Fold or call probability</li>\n",
    "</ol>"
   ]
  },
  {
   "cell_type": "markdown",
   "metadata": {},
   "source": [
    "The rewards of fold or call is pretty much stright forward.<br>\n",
    "Compute the expectation of reward given your card.<br>\n",
    "Next stage can be based on computed cards distribution given opp_action is BET"
   ]
  },
  {
   "cell_type": "code",
   "execution_count": 17,
   "metadata": {},
   "outputs": [],
   "source": [
    "@gen function fold_or_call(card, unused_flag)\n",
    "    call = @trace(bernoulli(0.5), :call)    \n",
    "    if call\n",
    "        r = expected_reward(card, CHECK, BET)\n",
    "    else\n",
    "        r = expected_reward(card, FOLD, BET)\n",
    "    end\n",
    "    @trace(bernoulli(exp(r)), :r)\n",
    "end;"
   ]
  },
  {
   "cell_type": "markdown",
   "metadata": {},
   "source": [
    "The rewards of check or bet is less straight forward<br>\n",
    "It's derived from the next optional buddy reaction to our action<br>\n",
    "We can use opponent's fold_or_call model to derive the rewards in case we choose BET<br>\n",
    "And use opponent's check_or_bet model to derive the rewards in case we choose CHECK and then our fold_or_call<br>"
   ]
  },
  {
   "cell_type": "markdown",
   "metadata": {},
   "source": [
    "last_check argument controlד the amount of check_or_bet computation in a row (we want to cut it after 2 (rules of the game))"
   ]
  },
  {
   "cell_type": "code",
   "execution_count": 18,
   "metadata": {},
   "outputs": [],
   "source": [
    "@gen function check_or_bet(card, last_check=false)\n",
    "    bet = @trace(bernoulli(0.5), :bet)\n",
    "    optional_buddy_cards = get_remaining_cards(card)\n",
    "    if bet\n",
    "        r = 0\n",
    "        for opp_card = optional_buddy_cards\n",
    "            \n",
    "            # theory of mind about opponent's fold-cold policy\n",
    "            calls = run_episodic(fold_or_call, opp_card, :call)\n",
    "            call_ratio = sum(calls) / length(calls)\n",
    "            \n",
    "            # opp will call\n",
    "            r_opp_will_call = reward(card, opp_card, BET, CHECK)\n",
    "\n",
    "            # opp will fold\n",
    "            r_opp_will_fold = reward(card, opp_card, BET, FOLD)\n",
    "           \n",
    "            r_opp_card = call_ratio * r_opp_will_call + (1-call_ratio)*r_opp_will_fold\n",
    "            \n",
    "            # expectation over cards, later we may can use learned probabilities\n",
    "            r += 0.5 * r_opp_card\n",
    "        end\n",
    "    else\n",
    "        r = 0\n",
    "        for opp_card = optional_buddy_cards\n",
    "            if last_check # cut the computation cycle\n",
    "                r_opp_card = reward(card, opp_card, CHECK, CHECK)\n",
    "            else # the opponent can check again or bet\n",
    "                # theory of mind about opponent's check-bet policy\n",
    "                bets = run_episodic(check_or_bet, opp_card, :bet, true)\n",
    "                bet_ratio = sum(bets) / length(bets)\n",
    "\n",
    "                \n",
    "                # check if i will call or fold\n",
    "                \n",
    "                # theory of mind about mine fold-cold policy\n",
    "                calls = run_episodic(fold_or_call, card, :call)\n",
    "                call_ratio = sum(calls) / length(calls)\n",
    "                \n",
    "                # i will call\n",
    "                r_opp_will_bet_i_will_call = reward(card, opp_card, CHECK, BET)\n",
    "                \n",
    "                # i will fold\n",
    "                r_opp_will_bet_i_will_fold = reward(card, opp_card, FOLD, BET)\n",
    "                \n",
    "                r_opp_will_bet = call_ratio * r_opp_will_bet_i_will_call + (1-call_ratio)*r_opp_will_bet_i_will_fold\n",
    "                # opp will bet\n",
    "                r_opp_will_bet = reward(card, opp_card, CHECK, CHECK)\n",
    "                \n",
    "                # opp will check\n",
    "                r_opp_will_check = reward(card, opp_card, CHECK, CHECK)\n",
    "\n",
    "                r_opp_card = bet_ratio * r_opp_will_bet + (1-bet_ratio)*r_opp_will_check\n",
    "            end\n",
    "            r += 0.5 * r_opp_card\n",
    "        end\n",
    "        \n",
    "    end\n",
    "    @trace(bernoulli(exp(r)), :r)\n",
    "end;"
   ]
  },
  {
   "cell_type": "markdown",
   "metadata": {},
   "source": [
    "### Generic Gen infernce methods made by David in bob-alice-musings"
   ]
  },
  {
   "cell_type": "code",
   "execution_count": 19,
   "metadata": {},
   "outputs": [],
   "source": [
    "@memoize function run_episodic(model, card, sym, last_check=false, niter=1000)\n",
    "    observations = Gen.choicemap()\n",
    "    observations[:r] = true\n",
    "\n",
    "    trace, _ = Gen.generate(model, (card, last_check), observations)\n",
    "    values = []\n",
    "    for i = 1:niter\n",
    "        trace, _ = Gen.mh(trace, select(sym))\n",
    "        push!(values, get_choices(trace)[sym])\n",
    "    end\n",
    "    return values\n",
    "end\n",
    "empty!(memoize_cache(run_episodic));"
   ]
  },
  {
   "cell_type": "code",
   "execution_count": 20,
   "metadata": {},
   "outputs": [],
   "source": [
    "function genepisodic(model, card, sym, last_check = false, niter=5000)\n",
    "    nburn = niter%10\n",
    "    values = run_episodic(model, card, sym, last_check, nburn + niter)[nburn+1:end]\n",
    "    return sum(values)/length(values)\n",
    "end;"
   ]
  },
  {
   "cell_type": "code",
   "execution_count": 21,
   "metadata": {},
   "outputs": [
    {
     "data": {
      "text/plain": [
       "simulate (generic function with 3 methods)"
      ]
     },
     "execution_count": 21,
     "metadata": {},
     "output_type": "execute_result"
    }
   ],
   "source": [
    "function simulate(model, card, sym, last_check = false, niter=5000)\n",
    "    nburn = niter%10\n",
    "    values = run_episodic(model, card, sym, last_check, nburn + niter)[nburn+1:end]\n",
    "    return sample(values)\n",
    "end"
   ]
  },
  {
   "cell_type": "markdown",
   "metadata": {},
   "source": [
    "### Some tests"
   ]
  },
  {
   "cell_type": "markdown",
   "metadata": {},
   "source": [
    "### for fold_or_call"
   ]
  },
  {
   "cell_type": "code",
   "execution_count": 22,
   "metadata": {},
   "outputs": [
    {
     "data": {
      "text/plain": [
       "0.263"
      ]
     },
     "execution_count": 22,
     "metadata": {},
     "output_type": "execute_result"
    }
   ],
   "source": [
    "genepisodic(fold_or_call, JACK, :call)"
   ]
  },
  {
   "cell_type": "code",
   "execution_count": 23,
   "metadata": {},
   "outputs": [
    {
     "data": {
      "text/plain": [
       "0.21"
      ]
     },
     "execution_count": 23,
     "metadata": {},
     "output_type": "execute_result"
    }
   ],
   "source": [
    "sum([simulate(fold_or_call, JACK, :call) for _ in 1:100]) / 100"
   ]
  },
  {
   "cell_type": "code",
   "execution_count": 24,
   "metadata": {},
   "outputs": [
    {
     "data": {
      "text/plain": [
       "0.7364"
      ]
     },
     "execution_count": 24,
     "metadata": {},
     "output_type": "execute_result"
    }
   ],
   "source": [
    "genepisodic(fold_or_call, QUEEN, :call)"
   ]
  },
  {
   "cell_type": "code",
   "execution_count": 25,
   "metadata": {},
   "outputs": [
    {
     "data": {
      "text/plain": [
       "0.75"
      ]
     },
     "execution_count": 25,
     "metadata": {},
     "output_type": "execute_result"
    }
   ],
   "source": [
    "sum([simulate(fold_or_call, QUEEN, :call) for _ in 1:100]) / 100"
   ]
  },
  {
   "cell_type": "code",
   "execution_count": 26,
   "metadata": {},
   "outputs": [
    {
     "data": {
      "text/plain": [
       "0.9438"
      ]
     },
     "execution_count": 26,
     "metadata": {},
     "output_type": "execute_result"
    }
   ],
   "source": [
    "genepisodic(fold_or_call, KING, :call)"
   ]
  },
  {
   "cell_type": "code",
   "execution_count": 27,
   "metadata": {},
   "outputs": [
    {
     "data": {
      "text/plain": [
       "0.93"
      ]
     },
     "execution_count": 27,
     "metadata": {},
     "output_type": "execute_result"
    }
   ],
   "source": [
    "sum([simulate(fold_or_call, KING, :call) for _ in 1:100]) / 100"
   ]
  },
  {
   "cell_type": "markdown",
   "metadata": {},
   "source": [
    "### for check_or_bet"
   ]
  },
  {
   "cell_type": "code",
   "execution_count": 28,
   "metadata": {},
   "outputs": [
    {
     "data": {
      "text/plain": [
       "0.3754"
      ]
     },
     "execution_count": 28,
     "metadata": {},
     "output_type": "execute_result"
    }
   ],
   "source": [
    "genepisodic(check_or_bet, JACK, :bet)"
   ]
  },
  {
   "cell_type": "code",
   "execution_count": 29,
   "metadata": {},
   "outputs": [
    {
     "data": {
      "text/plain": [
       "0.4378"
      ]
     },
     "execution_count": 29,
     "metadata": {},
     "output_type": "execute_result"
    }
   ],
   "source": [
    "genepisodic(check_or_bet, QUEEN, :bet)"
   ]
  },
  {
   "cell_type": "code",
   "execution_count": 30,
   "metadata": {},
   "outputs": [
    {
     "data": {
      "text/plain": [
       "0.6276"
      ]
     },
     "execution_count": 30,
     "metadata": {},
     "output_type": "execute_result"
    }
   ],
   "source": [
    "genepisodic(check_or_bet, KING, :bet)"
   ]
  },
  {
   "cell_type": "markdown",
   "metadata": {},
   "source": [
    "### for check_or_bet - last_check"
   ]
  },
  {
   "cell_type": "code",
   "execution_count": 31,
   "metadata": {},
   "outputs": [
    {
     "data": {
      "text/plain": [
       "0.3736"
      ]
     },
     "execution_count": 31,
     "metadata": {},
     "output_type": "execute_result"
    }
   ],
   "source": [
    "genepisodic(check_or_bet, JACK, :bet, true)"
   ]
  },
  {
   "cell_type": "code",
   "execution_count": 32,
   "metadata": {},
   "outputs": [
    {
     "data": {
      "text/plain": [
       "0.4356"
      ]
     },
     "execution_count": 32,
     "metadata": {},
     "output_type": "execute_result"
    }
   ],
   "source": [
    "genepisodic(check_or_bet, QUEEN, :bet, true)"
   ]
  },
  {
   "cell_type": "code",
   "execution_count": 33,
   "metadata": {},
   "outputs": [
    {
     "data": {
      "text/plain": [
       "0.6098"
      ]
     },
     "execution_count": 33,
     "metadata": {},
     "output_type": "execute_result"
    }
   ],
   "source": [
    "genepisodic(check_or_bet, KING, :bet, true)"
   ]
  },
  {
   "cell_type": "markdown",
   "metadata": {},
   "source": [
    "### Simulators that run the inference"
   ]
  },
  {
   "cell_type": "code",
   "execution_count": 34,
   "metadata": {},
   "outputs": [
    {
     "data": {
      "text/plain": [
       "compute_policy_fold_or_call (generic function with 1 method)"
      ]
     },
     "execution_count": 34,
     "metadata": {},
     "output_type": "execute_result"
    }
   ],
   "source": [
    "function compute_policy_fold_or_call(card, last_check)\n",
    "    p_call = genepisodic(fold_or_call, card, :call, last_check)\n",
    "    return [1-p_call, p_call]\n",
    "end"
   ]
  },
  {
   "cell_type": "code",
   "execution_count": 35,
   "metadata": {},
   "outputs": [
    {
     "data": {
      "text/plain": [
       "compute_policy_check_or_bet (generic function with 1 method)"
      ]
     },
     "execution_count": 35,
     "metadata": {},
     "output_type": "execute_result"
    }
   ],
   "source": [
    "function compute_policy_check_or_bet(card, last_check)\n",
    "    p_bet = genepisodic(check_or_bet, card, :bet, last_check)\n",
    "    return [1-p_bet, p_bet]\n",
    "end"
   ]
  },
  {
   "cell_type": "markdown",
   "metadata": {},
   "source": [
    "#### Activates the proper compute_policy"
   ]
  },
  {
   "cell_type": "code",
   "execution_count": 173,
   "metadata": {},
   "outputs": [
    {
     "data": {
      "text/plain": [
       "compute_policy (generic function with 3 methods)"
      ]
     },
     "execution_count": 173,
     "metadata": {},
     "output_type": "execute_result"
    }
   ],
   "source": [
    "function compute_policy(card, previous_player_betted=false)\n",
    "    if previous_player_betted\n",
    "        return compute_policy_fold_or_call(card, !previous_player_betted)\n",
    "    else\n",
    "        return compute_policy_check_or_bet(card, !previous_player_betted) \n",
    "    end\n",
    "end"
   ]
  },
  {
   "cell_type": "code",
   "execution_count": 37,
   "metadata": {},
   "outputs": [
    {
     "data": {
      "text/plain": [
       "sample_check_bet (generic function with 1 method)"
      ]
     },
     "execution_count": 37,
     "metadata": {},
     "output_type": "execute_result"
    }
   ],
   "source": [
    "function sample_check_bet(policy)\n",
    "   sample([CHECK,BET], Weights(policy)) \n",
    "end"
   ]
  },
  {
   "cell_type": "code",
   "execution_count": 38,
   "metadata": {},
   "outputs": [
    {
     "data": {
      "text/plain": [
       "sample_fold_call (generic function with 1 method)"
      ]
     },
     "execution_count": 38,
     "metadata": {},
     "output_type": "execute_result"
    }
   ],
   "source": [
    "function sample_fold_call(policy)\n",
    "   sample([FOLD,CHECK], Weights(policy)) \n",
    "end"
   ]
  },
  {
   "cell_type": "markdown",
   "metadata": {},
   "source": [
    "#### Activates the proper sample_action"
   ]
  },
  {
   "cell_type": "code",
   "execution_count": 39,
   "metadata": {},
   "outputs": [
    {
     "data": {
      "text/plain": [
       "sample_action (generic function with 2 methods)"
      ]
     },
     "execution_count": 39,
     "metadata": {},
     "output_type": "execute_result"
    }
   ],
   "source": [
    "function sample_action(policy, previous_player_betted=false)\n",
    "    if previous_player_betted\n",
    "        return sample_fold_call(policy)\n",
    "    else\n",
    "        return sample_check_bet(policy) \n",
    "    end\n",
    "end"
   ]
  },
  {
   "cell_type": "markdown",
   "metadata": {},
   "source": [
    "### This method simulates the logic of single round, lets both player to simulate an action and returns the score of the round (positive for first player winning)"
   ]
  },
  {
   "cell_type": "code",
   "execution_count": 174,
   "metadata": {},
   "outputs": [
    {
     "data": {
      "text/plain": [
       "poker_round (generic function with 1 method)"
      ]
     },
     "execution_count": 174,
     "metadata": {},
     "output_type": "execute_result"
    }
   ],
   "source": [
    "function poker_round(first_player_card, second_player_card, history)\n",
    "    score = 0\n",
    "    \n",
    "    first_player_policy = compute_policy(first_player_card)\n",
    "    first_player_move = sample_action(first_player_policy)\n",
    "    \n",
    "    second_player_policy  = compute_policy(second_player_card, first_player_move == BET)\n",
    "    second_player_move = sample_action(second_player_policy, first_player_move == BET)\n",
    "    \n",
    "    round_history = [((first_player_card, first_player_move, false), (second_player_card, second_player_move, first_player_move == BET))]\n",
    "    \n",
    "    doubled_pot = first_player_move == BET || second_player_move == BET\n",
    "    if second_player_move == FOLD\n",
    "        round_record = (round_history, 1)\n",
    "        push!(history, round_record)\n",
    "        return 1\n",
    "    end\n",
    "    if second_player_move == BET\n",
    "        doubled_pot = true\n",
    "        first_player_policy = compute_policy(first_player_card, second_player_move == BET)\n",
    "        first_player_move = sample_action(first_player_policy, second_player_move == BET)\n",
    "        \n",
    "        push!(round_history, ((first_player_card, first_player_move, false),(INVALID_VALUE, INVALID_VALUE, false)))\n",
    "        if first_player_move == FOLD\n",
    "            return -1\n",
    "        end\n",
    "    end\n",
    "    if first_player_card > second_player_card\n",
    "        score =  1 * (1 + doubled_pot)\n",
    "    else\n",
    "        score = -1 * (1 + doubled_pot)\n",
    "    end\n",
    "    round_record = (round_history, score)\n",
    "    push!(history, round_record)\n",
    "    return score\n",
    "end"
   ]
  },
  {
   "cell_type": "markdown",
   "metadata": {},
   "source": [
    "#### This method simulates simultaneously -num_of_expirements- a whole game that contains -num_of_rounds-\n",
    "#### Returns a list of accumalated average score over all rounds and over all games"
   ]
  },
  {
   "cell_type": "code",
   "execution_count": 68,
   "metadata": {},
   "outputs": [
    {
     "data": {
      "text/plain": [
       "game (generic function with 3 methods)"
      ]
     },
     "execution_count": 68,
     "metadata": {},
     "output_type": "execute_result"
    }
   ],
   "source": [
    "function simulate_multiple_games(num_of_rounds = 10, num_of_expirements = 10)\n",
    "    total_scores = [0 for _ in 1:num_of_expirements]\n",
    "    history = []\n",
    "    avg_scores_acc = []\n",
    "    for i in 1:num_of_rounds\n",
    "        card_pairs = [sample(FULL_DECK, 2; replace=false) for _ in 1:num_of_expirements]\n",
    "        scores = [poker_round(first_player_card, second_player_card, history) for (first_player_card, second_player_card) in card_pairs]\n",
    "        total_scores += scores\n",
    "        avg_scores = total_scores / i\n",
    "        push!(avg_scores_acc, avg_scores)\n",
    "    end    \n",
    "    return avg_scores_acc\n",
    "end"
   ]
  },
  {
   "cell_type": "markdown",
   "metadata": {},
   "source": [
    "#### This method plots the accumalated average score , we can see that all simulation converages to same value"
   ]
  },
  {
   "cell_type": "code",
   "execution_count": 145,
   "metadata": {},
   "outputs": [
    {
     "data": {
      "text/plain": [
       "plot_game_results (generic function with 1 method)"
      ]
     },
     "execution_count": 145,
     "metadata": {},
     "output_type": "execute_result"
    }
   ],
   "source": [
    "function plot_game_results(num_of_rounds, num_of_expirements)\n",
    "    results = transpose(reduce(hcat, simulate_multiple_games(num_of_rounds, num_of_expirements)))\n",
    "    plot(1:num_of_rounds, results, label=nothing, color=\"blue\", alpha=(5/num_of_expirements))\n",
    "    average_total_score , std_total_score = round(mean(results[num_of_rounds, :]), digits=3), round(std(results[num_of_rounds, :]), digits=3)\n",
    "    hspan!([average_total_score-0.008, average_total_score+0.008], label=\"average total score: $average_total_score +- $std_total_score\", color=\"red\")\n",
    "end"
   ]
  },
  {
   "cell_type": "code",
   "execution_count": null,
   "metadata": {},
   "outputs": [],
   "source": [
    "plot_game_results(1000,200)"
   ]
  },
  {
   "cell_type": "code",
   "execution_count": null,
   "metadata": {},
   "outputs": [],
   "source": [
    "plot_game_results(5000, 200)"
   ]
  },
  {
   "cell_type": "code",
   "execution_count": null,
   "metadata": {},
   "outputs": [],
   "source": [
    "plot_game_results(10000, 200)"
   ]
  },
  {
   "cell_type": "markdown",
   "metadata": {},
   "source": [
    "### We can see that when two probablistic players play one against each other the eq is approximatlly -0.22"
   ]
  },
  {
   "cell_type": "markdown",
   "metadata": {},
   "source": [
    "## Lets see the results one Probablistic player plays agains nash-eq strategy"
   ]
  },
  {
   "cell_type": "markdown",
   "metadata": {},
   "source": [
    "### The implementation of the Nash-equilibrium strategies are well-define (defined in the start of the notebook)"
   ]
  },
  {
   "cell_type": "markdown",
   "metadata": {},
   "source": [
    "#### This method is implementation of first player Nash-equilibrium strategy"
   ]
  },
  {
   "cell_type": "code",
   "execution_count": 207,
   "metadata": {},
   "outputs": [
    {
     "data": {
      "text/plain": [
       "first_player_nash_eq_strategy (generic function with 3 methods)"
      ]
     },
     "execution_count": 207,
     "metadata": {},
     "output_type": "execute_result"
    }
   ],
   "source": [
    "function first_player_nash_eq_strategy(card, opp_betting=false, deception_alpha=0.2)\n",
    "   if card == JACK\n",
    "        if opp_betting\n",
    "            return FOLD    \n",
    "        elseif rand() < deception_alpha\n",
    "            return BET # bluff\n",
    "        else\n",
    "            return CHECK\n",
    "        end\n",
    "    elseif card == KING\n",
    "        need_to_bet = rand() < 3 * deception_alpha\n",
    "        if need_to_bet && !opp_betting\n",
    "            return BET\n",
    "        else   # slow playing\n",
    "            return CHECK\n",
    "        end\n",
    "    else # queen\n",
    "        need_to_call = rand() < deception_alpha + 1/3\n",
    "        if !need_to_call && opp_betting\n",
    "            return FOLD\n",
    "        else\n",
    "            return CHECK\n",
    "        end\n",
    "    end\n",
    "end"
   ]
  },
  {
   "cell_type": "markdown",
   "metadata": {},
   "source": [
    "#### This method is implementation of second player Nash-equilibrium strategy"
   ]
  },
  {
   "cell_type": "code",
   "execution_count": 161,
   "metadata": {},
   "outputs": [
    {
     "data": {
      "text/plain": [
       "second_player_nash_eq_strategy (generic function with 2 methods)"
      ]
     },
     "execution_count": 161,
     "metadata": {},
     "output_type": "execute_result"
    }
   ],
   "source": [
    "function second_player_nash_eq_strategy(card, opp_betting=false)\n",
    "   if card == JACK\n",
    "        if opp_betting\n",
    "            return FOLD    \n",
    "        elseif rand() < 1/3\n",
    "            return BET # bluff\n",
    "        else\n",
    "            return CHECK\n",
    "        end\n",
    "    elseif card == KING\n",
    "        if  opp_betting\n",
    "            return CHECK\n",
    "        else   # slow playing\n",
    "            return BET\n",
    "        end\n",
    "    else # queen\n",
    "        need_to_call = rand() < 1/3\n",
    "        if !need_to_call && opp_betting\n",
    "            return FOLD\n",
    "        else\n",
    "            return CHECK\n",
    "        end\n",
    "    end\n",
    "end"
   ]
  },
  {
   "cell_type": "code",
   "execution_count": 176,
   "metadata": {},
   "outputs": [
    {
     "data": {
      "text/plain": [
       "probablistic_player_strategy (generic function with 2 methods)"
      ]
     },
     "execution_count": 176,
     "metadata": {},
     "output_type": "execute_result"
    }
   ],
   "source": [
    "function probablistic_player_strategy(card, opp_betting=false)\n",
    "    probablistic_player_policy  = compute_policy(card,opp_betting)\n",
    "    probablistic_player_move = sample_action(probablistic_player_policy, opp_betting)\n",
    "    return probablistic_player_move\n",
    "end"
   ]
  },
  {
   "cell_type": "code",
   "execution_count": 195,
   "metadata": {},
   "outputs": [
    {
     "data": {
      "text/plain": [
       "poker_round_generic (generic function with 1 method)"
      ]
     },
     "execution_count": 195,
     "metadata": {},
     "output_type": "execute_result"
    }
   ],
   "source": [
    "function poker_round_generic(first_player_card, second_player_card, history, first_player_move_selection_strategy, second_player_move_selection_strategy)\n",
    "    score = 0\n",
    "    \n",
    "    first_player_move = first_player_move_selection_strategy(first_player_card)\n",
    "    second_player_move = second_player_move_selection_strategy(second_player_card, first_player_move == BET)\n",
    "    \n",
    "    round_history = [((first_player_card, first_player_move, false), (second_player_card, second_player_move, first_player_move == BET))]\n",
    "    \n",
    "    doubled_pot = first_player_move == BET || second_player_move == BET\n",
    "    if second_player_move == FOLD\n",
    "        round_record = (round_history, 1)\n",
    "        push!(history, round_record)\n",
    "        return 1\n",
    "    end\n",
    "    if second_player_move == BET\n",
    "        doubled_pot = true\n",
    "        first_player_move = first_player_move_selection_strategy(first_player_card, second_player_move == BET)\n",
    "        \n",
    "        push!(round_history, ((first_player_card, first_player_move, false),(INVALID_VALUE, INVALID_VALUE, false)))\n",
    "        if first_player_move == FOLD\n",
    "            return -1\n",
    "        end\n",
    "    end\n",
    "    if first_player_card > second_player_card\n",
    "        score =  1 * (1 + doubled_pot)\n",
    "    else\n",
    "        score = -1 * (1 + doubled_pot)\n",
    "    end\n",
    "    round_record = (round_history, score)\n",
    "    push!(history, round_record)\n",
    "    return score\n",
    "end"
   ]
  },
  {
   "cell_type": "code",
   "execution_count": 193,
   "metadata": {},
   "outputs": [
    {
     "data": {
      "text/plain": [
       "simulate_multiple_games_generic (generic function with 3 methods)"
      ]
     },
     "execution_count": 193,
     "metadata": {},
     "output_type": "execute_result"
    }
   ],
   "source": [
    "function simulate_multiple_games_generic(num_of_rounds, num_of_expirements, first_player_move_selection_strategy=probablistic_player_strategy, second_player_move_selection_strategy=probablistic_player_strategy)\n",
    "    total_scores = [0 for _ in 1:num_of_expirements]\n",
    "    history = []\n",
    "    avg_scores_acc = []\n",
    "    for i in 1:num_of_rounds\n",
    "        card_pairs = [sample(FULL_DECK, 2; replace=false) for _ in 1:num_of_expirements]\n",
    "        scores = [poker_round_generic(first_player_card, second_player_card, history, first_player_move_selection_strategy, second_player_move_selection_strategy) for (first_player_card, second_player_card) in card_pairs]\n",
    "        total_scores += scores\n",
    "        avg_scores = total_scores / i\n",
    "        push!(avg_scores_acc, avg_scores)\n",
    "    end    \n",
    "    return avg_scores_acc\n",
    "end"
   ]
  },
  {
   "cell_type": "code",
   "execution_count": 182,
   "metadata": {},
   "outputs": [
    {
     "data": {
      "text/plain": [
       "plot_game_results_generic (generic function with 3 methods)"
      ]
     },
     "execution_count": 182,
     "metadata": {},
     "output_type": "execute_result"
    }
   ],
   "source": [
    "function plot_game_results_generic(num_of_rounds, num_of_expirements, first_player_move_selection_strategy=probablistic_player_strategy, second_player_move_selection_strategy=probablistic_player_strategy)\n",
    "    results = transpose(reduce(hcat, simulate_multiple_games_generic(num_of_rounds, num_of_expirements, first_player_move_selection_strategy, second_player_move_selection_strategy)))\n",
    "    plot(1:num_of_rounds, results, label=nothing, color=\"blue\", alpha=(5/num_of_expirements))\n",
    "    average_total_score , std_total_score = round(mean(results[num_of_rounds, :]), digits=3), round(std(results[num_of_rounds, :]), digits=3)\n",
    "    hspan!([average_total_score-0.008, average_total_score+0.008], label=\"average total score: $average_total_score +- $std_total_score\", color=\"red\")\n",
    "end"
   ]
  },
  {
   "cell_type": "code",
   "execution_count": null,
   "metadata": {},
   "outputs": [],
   "source": [
    "plot_game_results_generic(1000,200, probablistic_player_strategy, probablistic_player_strategy)"
   ]
  },
  {
   "cell_type": "code",
   "execution_count": null,
   "metadata": {},
   "outputs": [],
   "source": [
    "plot_game_results_generic(1000,200, first_player_nash_eq_strategy, probablistic_player_strategy)"
   ]
  },
  {
   "cell_type": "code",
   "execution_count": null,
   "metadata": {},
   "outputs": [],
   "source": [
    "plot_game_results_generic(1000,200, probablistic_player_strategy, second_player_nash_eq_strategy)"
   ]
  },
  {
   "cell_type": "code",
   "execution_count": null,
   "metadata": {},
   "outputs": [],
   "source": [
    "plot_game_results_generic(1000,200, first_player_nash_eq_strategy, second_player_nash_eq_strategy)"
   ]
  },
  {
   "cell_type": "code",
   "execution_count": null,
   "metadata": {},
   "outputs": [],
   "source": [
    "plot_game_results_generic(5000,200, probablistic_player_strategy, probablistic_player_strategy)"
   ]
  },
  {
   "cell_type": "code",
   "execution_count": null,
   "metadata": {},
   "outputs": [],
   "source": [
    "plot_game_results_generic(5000,200, first_player_nash_eq_strategy, probablistic_player_strategy)"
   ]
  },
  {
   "cell_type": "code",
   "execution_count": null,
   "metadata": {},
   "outputs": [],
   "source": [
    "plot_game_results_generic(5000,200, probablistic_player_strategy, second_player_nash_eq_strategy)"
   ]
  },
  {
   "cell_type": "code",
   "execution_count": null,
   "metadata": {},
   "outputs": [],
   "source": [
    "plot_game_results_generic(5000,200, first_player_nash_eq_strategy, second_player_nash_eq_strategy)"
   ]
  },
  {
   "cell_type": "code",
   "execution_count": null,
   "metadata": {},
   "outputs": [],
   "source": []
  }
 ],
 "metadata": {
  "kernelspec": {
   "display_name": "Julia 1.5.3",
   "language": "julia",
   "name": "julia-1.5"
  },
  "language_info": {
   "file_extension": ".jl",
   "mimetype": "application/julia",
   "name": "julia",
   "version": "1.5.3"
  }
 },
 "nbformat": 4,
 "nbformat_minor": 4
}
