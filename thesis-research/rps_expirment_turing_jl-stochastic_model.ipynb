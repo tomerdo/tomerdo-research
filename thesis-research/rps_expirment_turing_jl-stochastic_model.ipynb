{
 "cells": [
  {
   "cell_type": "markdown",
   "metadata": {},
   "source": [
    "# This Notebook presents an expriment of Theory Of Mind on Rock Paper Scissors\n",
    "### The goal is to research and devlop a method for generic multi-agent games using Theory of Mind modeling.\n",
    "### We will introduce the tradeoff between choosing optimal move and staying unpredictable."
   ]
  },
  {
   "cell_type": "code",
   "execution_count": 1,
   "metadata": {},
   "outputs": [],
   "source": [
    "# Import libraries.\n",
    "using Turing, StatsPlots, Random"
   ]
  },
  {
   "cell_type": "markdown",
   "metadata": {},
   "source": [
    "## The model of agent as universal Probalistic Model\n",
    "### gets some parmeters:\n",
    "<ul>\n",
    "    <li> opponent agent - representation of our belief on the opponent model (Turing.jl model)\n",
    "    <li> my history - list of all moves this player done (At this point unused)\n",
    "    <li> opponent history - list of all moves the opponent done, used to estimate a prior on the moves\n",
    "    <li> depth - the depth we want the agent will dive modeling the mind of opponent agent\n",
    "</ul>        "
   ]
  },
  {
   "cell_type": "code",
   "execution_count": 2,
   "metadata": {},
   "outputs": [
    {
     "data": {
      "text/plain": [
       "best_move (generic function with 1 method)"
      ]
     },
     "execution_count": 2,
     "metadata": {},
     "output_type": "execute_result"
    }
   ],
   "source": [
    "function best_move(opp_move)\n",
    "    best_moves = Dict(1 => 2, 2 => 3, 3 => 1)\n",
    "    move = best_moves[opp_move]\n",
    "#     println(move)\n",
    "#     p_deceive = 0.001\n",
    "#     print(p_deceive)\n",
    "#     deceive ~ Bernoulli(p_deceive)\n",
    "#     print(deceive)\n",
    "#     if deceive\n",
    "#         move = opp_move\n",
    "#     end\n",
    "    return move\n",
    "end"
   ]
  },
  {
   "cell_type": "code",
   "execution_count": 3,
   "metadata": {},
   "outputs": [
    {
     "data": {
      "text/plain": [
       "most_common (generic function with 1 method)"
      ]
     },
     "execution_count": 3,
     "metadata": {},
     "output_type": "execute_result"
    }
   ],
   "source": [
    "function most_common(samples)\n",
    "    count = Dict(1 => 0, 2 => 0, 3 => 0)\n",
    "    for i in 1:length(samples)\n",
    "        count[samples[i]] += 1\n",
    "    end\n",
    "    max_k, max_v = -1 , -1\n",
    "    for (k, v) in count\n",
    "        if v > max_v\n",
    "            max_k , max_v = k, v\n",
    "        end\n",
    "    end\n",
    "    return max_k\n",
    "end"
   ]
  },
  {
   "cell_type": "code",
   "execution_count": 4,
   "metadata": {},
   "outputs": [
    {
     "data": {
      "text/plain": [
       "agent (generic function with 6 methods)"
      ]
     },
     "execution_count": 4,
     "metadata": {},
     "output_type": "execute_result"
    }
   ],
   "source": [
    "@model function agent(opponent_agent, opponent_history, opp_prior_policy = [1,1,1], depth = 1, discrete_sampler = PG, discrete_sampler_hyper_param=3, num_of_iterations=50)\n",
    "    if depth == 0\n",
    "        beta_opp ~ Dirichlet(opp_prior_policy)\n",
    "        for opp_move in opponent_history\n",
    "            opp_move ~ Categorical(beta_opp) # observe\n",
    "        end\n",
    "        next_opp_move ~ Categorical(beta_opp) # sample\n",
    "    else\n",
    "        opponent_model = opponent_agent(agent, opponent_history, opp_prior_policy, depth-1)\n",
    "        next_opp_move_chain  = sample(opponent_model, IS(), num_of_iterations, progress = false); # if you use MH - you need to burn samples in the chain first\n",
    "        result = generated_quantities(opponent_model, next_opp_move_chain)\n",
    "        next_opp_move_from_chain = most_common(result)\n",
    "        next_opp_move ~ Dirac(next_opp_move_from_chain)\n",
    "    end\n",
    "    move = best_move(next_opp_move)\n",
    "    return move\n",
    "end"
   ]
  },
  {
   "cell_type": "markdown",
   "metadata": {},
   "source": [
    "the infece is about the opponent model and not my model"
   ]
  },
  {
   "cell_type": "markdown",
   "metadata": {},
   "source": [
    "### This method is used for the simulation, each model make a move at the end of this function, as a result of reasoning of the model"
   ]
  },
  {
   "cell_type": "code",
   "execution_count": 5,
   "metadata": {},
   "outputs": [
    {
     "data": {
      "text/plain": [
       "move (generic function with 2 methods)"
      ]
     },
     "execution_count": 5,
     "metadata": {},
     "output_type": "execute_result"
    }
   ],
   "source": [
    "function move(agent, other_agent, other_agent_history, other_player_prior, my_depth=1)\n",
    "    other_agent_history = length(other_agent_history) > 0 ? other_agent_history : [1]\n",
    "    other_agent_history = Array{Int}(other_agent_history)\n",
    "    m = agent(other_agent, other_agent_history, other_player_prior, my_depth)\n",
    "    chain = sample(m, IS(), 50, progress = false)\n",
    "    moves = generated_quantities(m, chain)\n",
    "    return most_common(moves)\n",
    "end"
   ]
  },
  {
   "cell_type": "markdown",
   "metadata": {},
   "source": [
    "### Game simulation , given two agent models , depth params, let them play num of simulation times"
   ]
  },
  {
   "cell_type": "code",
   "execution_count": 6,
   "metadata": {},
   "outputs": [
    {
     "data": {
      "text/plain": [
       "game (generic function with 5 methods)"
      ]
     },
     "execution_count": 6,
     "metadata": {},
     "output_type": "execute_result"
    }
   ],
   "source": [
    "function game(first_player_depth = 1, second_player_depth = 1, first_player_prior_policy = [1,1,1] , second_player_prior_policy = [1, 1, 1])\n",
    "    first_player = agent\n",
    "    second_player = agent\n",
    "#     first_player_prior_policy = [1, 1, 1]\n",
    "#     second_player_prior_policy = [1, 1, 1]\n",
    "    num_of_simulations = 100\n",
    "    first_player_history = []\n",
    "    second_player_history = []\n",
    "    for i in 1:num_of_simulations\n",
    "        m1 = move(first_player, second_player, second_player_history, second_player_prior_policy, first_player_depth)\n",
    "        push!(first_player_history, m1)\n",
    "        m2 = move(second_player, first_player, first_player_history, first_player_prior_policy, second_player_depth)\n",
    "        push!(second_player_history, m2)\n",
    "    end\n",
    "    return first_player_history, second_player_history\n",
    " end"
   ]
  },
  {
   "cell_type": "code",
   "execution_count": 7,
   "metadata": {},
   "outputs": [
    {
     "data": {
      "text/plain": [
       "score (generic function with 1 method)"
      ]
     },
     "execution_count": 7,
     "metadata": {},
     "output_type": "execute_result"
    }
   ],
   "source": [
    "function score(history)\n",
    "    first_player_history, second_player_history = history\n",
    "    first_wins = 0\n",
    "    ties = 0\n",
    "    second_wins = 0\n",
    "    wins = Dict(1 => 3, 2 => 1, 3 => 2)\n",
    "    for i in 1:length(first_player_history)\n",
    "        if wins[first_player_history[i]] == second_player_history[i]\n",
    "            second_wins += 1\n",
    "        elseif wins[second_player_history[i]] == first_player_history[i]\n",
    "            first_wins += 1\n",
    "        else\n",
    "            ties += 1\n",
    "        end\n",
    "    end\n",
    "    return first_wins, ties, second_wins\n",
    "end"
   ]
  },
  {
   "cell_type": "code",
   "execution_count": 9,
   "metadata": {},
   "outputs": [
    {
     "data": {
      "text/plain": [
       "(0, 0, 2)"
      ]
     },
     "execution_count": 9,
     "metadata": {},
     "output_type": "execute_result"
    }
   ],
   "source": [
    "score([[1, 2], [3, 1]])"
   ]
  },
  {
   "cell_type": "code",
   "execution_count": 8,
   "metadata": {},
   "outputs": [
    {
     "data": {
      "text/plain": [
       "display_score (generic function with 1 method)"
      ]
     },
     "execution_count": 8,
     "metadata": {},
     "output_type": "execute_result"
    }
   ],
   "source": [
    "function display_score(score)\n",
    "    num_of_wins_first, num_of_ties, num_of_wins_second = score\n",
    "    println(\"first player won: $num_of_wins_first\")\n",
    "    println(\"second player won: $num_of_wins_second\") \n",
    "    println(\"ties: $num_of_ties\") \n",
    "end"
   ]
  },
  {
   "cell_type": "markdown",
   "metadata": {},
   "source": [
    "both player plays without theory of mind - equivilent"
   ]
  },
  {
   "cell_type": "code",
   "execution_count": 11,
   "metadata": {},
   "outputs": [
    {
     "name": "stdout",
     "output_type": "stream",
     "text": [
      "first player won: 27\n",
      "second player won: 32\n",
      "ties: 41\n"
     ]
    }
   ],
   "source": [
    "display_score(score(game(0, 0)))"
   ]
  },
  {
   "cell_type": "markdown",
   "metadata": {},
   "source": [
    "2nd player plays with one level of theory of mind -> 2nd wins"
   ]
  },
  {
   "cell_type": "code",
   "execution_count": 9,
   "metadata": {},
   "outputs": [
    {
     "name": "stdout",
     "output_type": "stream",
     "text": [
      "first player won: 38\n",
      "second player won: 35\n",
      "ties: 27\n"
     ]
    }
   ],
   "source": [
    "display_score(score(game(0, 1)))"
   ]
  },
  {
   "cell_type": "code",
   "execution_count": 12,
   "metadata": {},
   "outputs": [
    {
     "name": "stdout",
     "output_type": "stream",
     "text": [
      "first player won: 32\n",
      "second player won: 27\n",
      "ties: 41\n"
     ]
    }
   ],
   "source": [
    "display_score(score(game(0, 1)))"
   ]
  },
  {
   "cell_type": "markdown",
   "metadata": {},
   "source": [
    "1st player plays with one level of theory of mind -> 1st wins"
   ]
  },
  {
   "cell_type": "code",
   "execution_count": 10,
   "metadata": {},
   "outputs": [
    {
     "name": "stdout",
     "output_type": "stream",
     "text": [
      "first player won: 40\n",
      "second player won: 31\n",
      "ties: 29\n"
     ]
    }
   ],
   "source": [
    "display_score(score(game(1, 0)))"
   ]
  },
  {
   "cell_type": "code",
   "execution_count": 13,
   "metadata": {},
   "outputs": [
    {
     "name": "stdout",
     "output_type": "stream",
     "text": [
      "first player won: 33\n",
      "second player won: 28\n",
      "ties: 39\n"
     ]
    }
   ],
   "source": [
    "display_score(score(game(1, 0)))"
   ]
  },
  {
   "cell_type": "markdown",
   "metadata": {},
   "source": [
    "both players play with one level of theory of mind -> preety much equivelent"
   ]
  },
  {
   "cell_type": "code",
   "execution_count": 11,
   "metadata": {},
   "outputs": [
    {
     "name": "stdout",
     "output_type": "stream",
     "text": [
      "first player won: 31\n",
      "second player won: 33\n",
      "ties: 36\n"
     ]
    }
   ],
   "source": [
    "display_score(score(game(1, 1)))"
   ]
  },
  {
   "cell_type": "code",
   "execution_count": 14,
   "metadata": {},
   "outputs": [
    {
     "name": "stdout",
     "output_type": "stream",
     "text": [
      "first player won: 32\n",
      "second player won: 28\n",
      "ties: 40\n"
     ]
    }
   ],
   "source": [
    "display_score(score(game(1, 1)))"
   ]
  },
  {
   "cell_type": "code",
   "execution_count": 12,
   "metadata": {},
   "outputs": [
    {
     "name": "stdout",
     "output_type": "stream",
     "text": [
      "first player won: 37\n",
      "second player won: 35\n",
      "ties: 28\n"
     ]
    }
   ],
   "source": [
    "display_score(score(game(0, 0, [20,1,1],[1,1,1])))"
   ]
  },
  {
   "cell_type": "code",
   "execution_count": 17,
   "metadata": {},
   "outputs": [
    {
     "name": "stdout",
     "output_type": "stream",
     "text": [
      "first player won: 30\n",
      "second player won: 36\n",
      "ties: 34\n"
     ]
    }
   ],
   "source": [
    "display_score(score(game(0, 0, [20,1,1],[1,1,1])))"
   ]
  },
  {
   "cell_type": "code",
   "execution_count": 13,
   "metadata": {},
   "outputs": [
    {
     "name": "stdout",
     "output_type": "stream",
     "text": [
      "first player won: 43\n",
      "second player won: 28\n",
      "ties: 29\n"
     ]
    }
   ],
   "source": [
    "display_score(score(game(0, 1, [20,1,1],[1,1,1])))"
   ]
  },
  {
   "cell_type": "code",
   "execution_count": 18,
   "metadata": {},
   "outputs": [
    {
     "name": "stdout",
     "output_type": "stream",
     "text": [
      "first player won: 38\n",
      "second player won: 35\n",
      "ties: 27\n"
     ]
    }
   ],
   "source": [
    "display_score(score(game(0, 1, [20,1,1],[1,1,1])))"
   ]
  },
  {
   "cell_type": "code",
   "execution_count": 19,
   "metadata": {},
   "outputs": [
    {
     "name": "stdout",
     "output_type": "stream",
     "text": [
      "first player won: 28\n",
      "second player won: 46\n",
      "ties: 26\n"
     ]
    }
   ],
   "source": [
    "display_score(score(game(1, 0, [20,1,1],[1,1,1])))"
   ]
  },
  {
   "cell_type": "code",
   "execution_count": 14,
   "metadata": {},
   "outputs": [
    {
     "name": "stdout",
     "output_type": "stream",
     "text": [
      "first player won: 27\n",
      "second player won: 55\n",
      "ties: 18\n"
     ]
    }
   ],
   "source": [
    "display_score(score(game(1, 0, [20,1,1],[1,1,1])))"
   ]
  },
  {
   "cell_type": "code",
   "execution_count": 20,
   "metadata": {},
   "outputs": [
    {
     "name": "stdout",
     "output_type": "stream",
     "text": [
      "first player won: 12\n",
      "second player won: 33\n",
      "ties: 55\n"
     ]
    }
   ],
   "source": [
    "display_score(score(game(1, 1, [20,1,1],[1,1,1])))"
   ]
  },
  {
   "cell_type": "code",
   "execution_count": 15,
   "metadata": {},
   "outputs": [
    {
     "name": "stdout",
     "output_type": "stream",
     "text": [
      "first player won: 18\n",
      "second player won: 28\n",
      "ties: 54\n"
     ]
    }
   ],
   "source": [
    "display_score(score(game(1, 1, [20,1,1],[1,1,1])))"
   ]
  },
  {
   "cell_type": "code",
   "execution_count": 21,
   "metadata": {},
   "outputs": [
    {
     "name": "stdout",
     "output_type": "stream",
     "text": [
      "first player won: 28\n",
      "second player won: 34\n",
      "ties: 38\n"
     ]
    }
   ],
   "source": [
    "display_score(score(game(0, 0,[1,1,1], [20,1,1])))"
   ]
  },
  {
   "cell_type": "code",
   "execution_count": 16,
   "metadata": {},
   "outputs": [
    {
     "name": "stdout",
     "output_type": "stream",
     "text": [
      "first player won: 39\n",
      "second player won: 31\n",
      "ties: 30\n"
     ]
    }
   ],
   "source": [
    "display_score(score(game(0, 0,[1,1,1], [20,1,1])))"
   ]
  },
  {
   "cell_type": "code",
   "execution_count": 22,
   "metadata": {},
   "outputs": [
    {
     "name": "stdout",
     "output_type": "stream",
     "text": [
      "first player won: 58\n",
      "second player won: 28\n",
      "ties: 14\n"
     ]
    }
   ],
   "source": [
    "display_score(score(game(0, 1,[1,1,1], [20,1,1])))"
   ]
  },
  {
   "cell_type": "code",
   "execution_count": 18,
   "metadata": {},
   "outputs": [
    {
     "name": "stdout",
     "output_type": "stream",
     "text": [
      "first player won: 54\n",
      "second player won: 31\n",
      "ties: 15\n"
     ]
    }
   ],
   "source": [
    "display_score(score(game(0, 1,[1,1,1], [20,1,1])))"
   ]
  },
  {
   "cell_type": "code",
   "execution_count": 23,
   "metadata": {},
   "outputs": [
    {
     "name": "stdout",
     "output_type": "stream",
     "text": [
      "first player won: 36\n",
      "second player won: 41\n",
      "ties: 23\n"
     ]
    }
   ],
   "source": [
    "display_score(score(game(1, 0,[1,1,1], [20,1,1])))"
   ]
  },
  {
   "cell_type": "code",
   "execution_count": 17,
   "metadata": {},
   "outputs": [
    {
     "name": "stdout",
     "output_type": "stream",
     "text": [
      "first player won: 30\n",
      "second player won: 40\n",
      "ties: 30\n"
     ]
    }
   ],
   "source": [
    "display_score(score(game(1, 0,[1,1,1], [20,1,1])))"
   ]
  },
  {
   "cell_type": "code",
   "execution_count": 24,
   "metadata": {},
   "outputs": [
    {
     "name": "stdout",
     "output_type": "stream",
     "text": [
      "first player won: 24\n",
      "second player won: 17\n",
      "ties: 59\n"
     ]
    }
   ],
   "source": [
    "display_score(score(game(1, 1,[1,1,1], [20,1,1])))"
   ]
  },
  {
   "cell_type": "code",
   "execution_count": 19,
   "metadata": {},
   "outputs": [
    {
     "name": "stdout",
     "output_type": "stream",
     "text": [
      "first player won: 24\n",
      "second player won: 21\n",
      "ties: 55\n"
     ]
    }
   ],
   "source": [
    "display_score(score(game(1, 1,[1,1,1], [20,1,1])))"
   ]
  },
  {
   "cell_type": "code",
   "execution_count": 25,
   "metadata": {},
   "outputs": [
    {
     "name": "stdout",
     "output_type": "stream",
     "text": [
      "first player won: 38\n",
      "second player won: 28\n",
      "ties: 34\n"
     ]
    }
   ],
   "source": [
    "display_score(score(game(0, 2)))"
   ]
  },
  {
   "cell_type": "code",
   "execution_count": 20,
   "metadata": {},
   "outputs": [
    {
     "name": "stdout",
     "output_type": "stream",
     "text": [
      "first player won: 34\n",
      "second player won: 37\n",
      "ties: 29\n"
     ]
    }
   ],
   "source": [
    "display_score(score(game(0, 2)))"
   ]
  },
  {
   "cell_type": "code",
   "execution_count": 26,
   "metadata": {},
   "outputs": [
    {
     "name": "stdout",
     "output_type": "stream",
     "text": [
      "first player won: 41\n",
      "second player won: 29\n",
      "ties: 30\n"
     ]
    }
   ],
   "source": [
    "display_score(score(game(2, 0)))"
   ]
  },
  {
   "cell_type": "code",
   "execution_count": 21,
   "metadata": {},
   "outputs": [
    {
     "name": "stdout",
     "output_type": "stream",
     "text": [
      "first player won: 41\n",
      "second player won: 34\n",
      "ties: 25\n"
     ]
    }
   ],
   "source": [
    "display_score(score(game(2, 0)))"
   ]
  },
  {
   "cell_type": "code",
   "execution_count": 27,
   "metadata": {},
   "outputs": [
    {
     "name": "stdout",
     "output_type": "stream",
     "text": [
      "first player won: 51\n",
      "second player won: 16\n",
      "ties: 33\n"
     ]
    }
   ],
   "source": [
    "display_score(score(game(1, 2)))"
   ]
  },
  {
   "cell_type": "code",
   "execution_count": 9,
   "metadata": {},
   "outputs": [
    {
     "name": "stdout",
     "output_type": "stream",
     "text": [
      "first player won: 50\n",
      "second player won: 24\n",
      "ties: 26\n"
     ]
    }
   ],
   "source": [
    "display_score(score(game(1, 2)))"
   ]
  },
  {
   "cell_type": "code",
   "execution_count": 28,
   "metadata": {},
   "outputs": [
    {
     "name": "stdout",
     "output_type": "stream",
     "text": [
      "first player won: 20\n",
      "second player won: 57\n",
      "ties: 23\n"
     ]
    }
   ],
   "source": [
    "display_score(score(game(2, 1)))"
   ]
  },
  {
   "cell_type": "code",
   "execution_count": 10,
   "metadata": {},
   "outputs": [
    {
     "name": "stdout",
     "output_type": "stream",
     "text": [
      "first player won: 18\n",
      "second player won: 54\n",
      "ties: 28\n"
     ]
    }
   ],
   "source": [
    "display_score(score(game(2, 1)))"
   ]
  },
  {
   "cell_type": "code",
   "execution_count": 11,
   "metadata": {},
   "outputs": [
    {
     "name": "stdout",
     "output_type": "stream",
     "text": [
      "first player won: 0\n",
      "second player won: 98\n",
      "ties: 2\n"
     ]
    }
   ],
   "source": [
    "display_score(score(game(0, 2,[1,1,1], [20,1,1])))"
   ]
  },
  {
   "cell_type": "code",
   "execution_count": 12,
   "metadata": {},
   "outputs": [
    {
     "name": "stdout",
     "output_type": "stream",
     "text": [
      "first player won: 36\n",
      "second player won: 34\n",
      "ties: 30\n"
     ]
    }
   ],
   "source": [
    "display_score(score(game(0, 2,[20,1,1], [1,1,1])))"
   ]
  },
  {
   "cell_type": "code",
   "execution_count": null,
   "metadata": {},
   "outputs": [],
   "source": [
    "display_score(score(game(2, 0,[1,1,1], [20,1,1])))"
   ]
  },
  {
   "cell_type": "code",
   "execution_count": null,
   "metadata": {},
   "outputs": [],
   "source": [
    "display_score(score(game(2, 0, [20,1,1],[1,1,1])))"
   ]
  },
  {
   "cell_type": "code",
   "execution_count": null,
   "metadata": {},
   "outputs": [],
   "source": [
    "display_score(score(game(1, 2, [20,1,1] ,[1,1,1])))"
   ]
  },
  {
   "cell_type": "code",
   "execution_count": null,
   "metadata": {},
   "outputs": [],
   "source": [
    "display_score(score(game(1, 2,[1,1,1], [20,1,1])))"
   ]
  },
  {
   "cell_type": "code",
   "execution_count": null,
   "metadata": {},
   "outputs": [],
   "source": [
    "display_score(score(game(2, 1, [20,1,1] ,[1,1,1])))"
   ]
  },
  {
   "cell_type": "code",
   "execution_count": null,
   "metadata": {},
   "outputs": [],
   "source": [
    "display_score(score(game(2, 1 ,[1,1,1], [20,1,1])))"
   ]
  },
  {
   "cell_type": "code",
   "execution_count": null,
   "metadata": {},
   "outputs": [],
   "source": [
    "display_score(score(game(2, 2, [20,1,1] ,[1,1,1])))"
   ]
  },
  {
   "cell_type": "code",
   "execution_count": null,
   "metadata": {},
   "outputs": [],
   "source": [
    "display_score(score(game(2, 2, [1,1,1], [20,1,1])))"
   ]
  },
  {
   "cell_type": "code",
   "execution_count": null,
   "metadata": {},
   "outputs": [],
   "source": [
    "display_score(score(game(2, 2)))"
   ]
  },
  {
   "cell_type": "code",
   "execution_count": null,
   "metadata": {},
   "outputs": [],
   "source": [
    "display_score(score(game(0, 3)))"
   ]
  },
  {
   "cell_type": "code",
   "execution_count": null,
   "metadata": {},
   "outputs": [],
   "source": [
    "display_score(score(game(3, 0)))"
   ]
  },
  {
   "cell_type": "code",
   "execution_count": null,
   "metadata": {},
   "outputs": [],
   "source": []
  },
  {
   "cell_type": "code",
   "execution_count": null,
   "metadata": {},
   "outputs": [],
   "source": []
  },
  {
   "cell_type": "code",
   "execution_count": null,
   "metadata": {},
   "outputs": [],
   "source": []
  },
  {
   "cell_type": "code",
   "execution_count": null,
   "metadata": {},
   "outputs": [],
   "source": []
  },
  {
   "cell_type": "code",
   "execution_count": null,
   "metadata": {},
   "outputs": [],
   "source": []
  },
  {
   "cell_type": "code",
   "execution_count": null,
   "metadata": {},
   "outputs": [],
   "source": []
  }
 ],
 "metadata": {
  "kernelspec": {
   "display_name": "Julia 1.5.3",
   "language": "julia",
   "name": "julia-1.5"
  },
  "language_info": {
   "file_extension": ".jl",
   "mimetype": "application/julia",
   "name": "julia",
   "version": "1.5.3"
  }
 },
 "nbformat": 4,
 "nbformat_minor": 4
}
